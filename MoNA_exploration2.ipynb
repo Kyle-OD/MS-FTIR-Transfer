{
 "cells": [
  {
   "cell_type": "code",
   "execution_count": 2,
   "metadata": {},
   "outputs": [],
   "source": [
    "import pandas as pd\n",
    "import numpy as np\n",
    "import subprocess\n",
    "import json\n",
    "import ast\n",
    "\n",
    "import matplotlib.pyplot as plt\n",
    "\n",
    "#from MoNA_reader import process_json_file\n",
    "from MoNA_reader_test import *#process_json_file as process_json_file_test, read_line\n",
    "from spectra_plotting import *"
   ]
  },
  {
   "cell_type": "code",
   "execution_count": 3,
   "metadata": {},
   "outputs": [],
   "source": [
    "csv_pth = \"data/MoNA/\""
   ]
  },
  {
   "cell_type": "code",
   "execution_count": 4,
   "metadata": {},
   "outputs": [
    {
     "name": "stderr",
     "output_type": "stream",
     "text": [
      "/tmp/ipykernel_9759/3359628740.py:11: DtypeWarning: Columns (6,7,10,12) have mixed types. Specify dtype option on import or set low_memory=False.\n",
      "  df = pd.read_csv('data/MoNA/in-silico.csv')\n",
      "/tmp/ipykernel_9759/3359628740.py:12: DtypeWarning: Columns (4,13,16) have mixed types. Specify dtype option on import or set low_memory=False.\n",
      "  df2 = pd.read_csv('data/GNPS/ALL_GNPS_cleaned.csv')\n"
     ]
    }
   ],
   "source": [
    "'''\n",
    "df = None\n",
    "for i in range(1,9):\n",
    "    if i == 1:\n",
    "        df = pd.read_csv(csv_pth + \"in-silico1.csv\")\n",
    "    else:\n",
    "        df = pd.concat([df,pd.read_csv(csv_pth + \"in-silico\"+str(i)+\".csv\")])\n",
    "df.reset_index(inplace=True, drop=True)\n",
    "df.to_csv(csv_pth + \"in-silico.csv\")\n",
    "'''\n",
    "df = pd.read_csv('data/MoNA/in-silico.csv') \n",
    "df2 = pd.read_csv('data/GNPS/ALL_GNPS_cleaned.csv')"
   ]
  },
  {
   "cell_type": "code",
   "execution_count": 4,
   "metadata": {},
   "outputs": [
    {
     "data": {
      "text/html": [
       "<div>\n",
       "<style scoped>\n",
       "    .dataframe tbody tr th:only-of-type {\n",
       "        vertical-align: middle;\n",
       "    }\n",
       "\n",
       "    .dataframe tbody tr th {\n",
       "        vertical-align: top;\n",
       "    }\n",
       "\n",
       "    .dataframe thead th {\n",
       "        text-align: right;\n",
       "    }\n",
       "</style>\n",
       "<table border=\"1\" class=\"dataframe\">\n",
       "  <thead>\n",
       "    <tr style=\"text-align: right;\">\n",
       "      <th></th>\n",
       "      <th>Unnamed: 0</th>\n",
       "      <th>kind</th>\n",
       "      <th>name</th>\n",
       "      <th>molecular_formula</th>\n",
       "      <th>SMILES</th>\n",
       "      <th>pubchem_cid</th>\n",
       "      <th>InChI</th>\n",
       "      <th>InChIKey</th>\n",
       "      <th>total_exact_mass</th>\n",
       "      <th>exact_mass</th>\n",
       "      <th>instrument</th>\n",
       "      <th>instrument_type</th>\n",
       "      <th>ms_level</th>\n",
       "      <th>ionization</th>\n",
       "      <th>ionization_mode</th>\n",
       "      <th>spectrum</th>\n",
       "      <th>score</th>\n",
       "    </tr>\n",
       "  </thead>\n",
       "  <tbody>\n",
       "    <tr>\n",
       "      <th>0</th>\n",
       "      <td>0</td>\n",
       "      <td>biological</td>\n",
       "      <td>2,3,5-Trimethyl-1H-indole, TMS derivative</td>\n",
       "      <td>C14H21NSi</td>\n",
       "      <td>C1=CC2=C(C=C1C)C(=C(N2[Si](C)(C)C)C)C</td>\n",
       "      <td>NaN</td>\n",
       "      <td>InChI=1S/C14H21NSi/c1-10-7-8-14-13(9-10)11(2)1...</td>\n",
       "      <td>KHKJMJPOXGEQGW-UHFFFAOYSA-N</td>\n",
       "      <td>231.144326</td>\n",
       "      <td>NaN</td>\n",
       "      <td>NaN</td>\n",
       "      <td>NaN</td>\n",
       "      <td>MS1</td>\n",
       "      <td>NaN</td>\n",
       "      <td>positive</td>\n",
       "      <td>[(15.0, 0.4), (27.0, 5.7), (28.0, 6.8), (29.0,...</td>\n",
       "      <td>3.571429</td>\n",
       "    </tr>\n",
       "    <tr>\n",
       "      <th>1</th>\n",
       "      <td>1</td>\n",
       "      <td>biological</td>\n",
       "      <td>Ethyl 3-hydroxy-3-methylpentanoate, TMS deriva...</td>\n",
       "      <td>C11H24O3Si</td>\n",
       "      <td>O=C(OCC)CC(O[Si](C)(C)C)(C)CC</td>\n",
       "      <td>NaN</td>\n",
       "      <td>InChI=1S/C11H24O3Si/c1-7-11(3,14-15(4,5)6)9-10...</td>\n",
       "      <td>FGZVHXCJVPTHKF-UHFFFAOYSA-N</td>\n",
       "      <td>232.149471</td>\n",
       "      <td>NaN</td>\n",
       "      <td>NaN</td>\n",
       "      <td>NaN</td>\n",
       "      <td>MS1</td>\n",
       "      <td>NaN</td>\n",
       "      <td>positive</td>\n",
       "      <td>[(15.0, 5.4), (16.0, 0.2), (27.0, 9.7), (28.0,...</td>\n",
       "      <td>3.571429</td>\n",
       "    </tr>\n",
       "    <tr>\n",
       "      <th>2</th>\n",
       "      <td>2</td>\n",
       "      <td>biological</td>\n",
       "      <td>L-Valine, TMS derivative</td>\n",
       "      <td>C8H19NO2Si</td>\n",
       "      <td>O=C(O[Si](C)(C)C)C(N)C(C)C</td>\n",
       "      <td>NaN</td>\n",
       "      <td>InChI=1S/C8H19NO2Si/c1-6(2)7(9)8(10)11-12(3,4)...</td>\n",
       "      <td>IJGIMCZHMYSSHY-ZETCQYMHSA-N</td>\n",
       "      <td>189.118505</td>\n",
       "      <td>NaN</td>\n",
       "      <td>NaN</td>\n",
       "      <td>NaN</td>\n",
       "      <td>MS1</td>\n",
       "      <td>NaN</td>\n",
       "      <td>positive</td>\n",
       "      <td>[(15.0, 4.9), (28.0, 0.1), (42.0, 0.1), (43.0,...</td>\n",
       "      <td>3.571429</td>\n",
       "    </tr>\n",
       "    <tr>\n",
       "      <th>3</th>\n",
       "      <td>3</td>\n",
       "      <td>biological</td>\n",
       "      <td>Methyl 3-hydroxybutyrate, TMS derivative</td>\n",
       "      <td>C8H18O3Si</td>\n",
       "      <td>O=C(OC)CC(O[Si](C)(C)C)C</td>\n",
       "      <td>NaN</td>\n",
       "      <td>InChI=1S/C8H18O3Si/c1-7(6-8(9)10-2)11-12(3,4)5...</td>\n",
       "      <td>FHDCVPMIQWHEAE-UHFFFAOYSA-N</td>\n",
       "      <td>190.102521</td>\n",
       "      <td>NaN</td>\n",
       "      <td>NaN</td>\n",
       "      <td>NaN</td>\n",
       "      <td>MS1</td>\n",
       "      <td>NaN</td>\n",
       "      <td>positive</td>\n",
       "      <td>[(15.0, 41.0), (16.0, 0.4), (27.0, 4.0), (28.0...</td>\n",
       "      <td>3.571429</td>\n",
       "    </tr>\n",
       "    <tr>\n",
       "      <th>4</th>\n",
       "      <td>4</td>\n",
       "      <td>biological</td>\n",
       "      <td>1-Butanol, TMS derivative</td>\n",
       "      <td>C7H18OSi</td>\n",
       "      <td>O(CCCC)[Si](C)(C)C</td>\n",
       "      <td>NaN</td>\n",
       "      <td>InChI=1S/C7H18OSi/c1-5-6-7-8-9(2,3)4/h5-7H2,1-4H3</td>\n",
       "      <td>YTJUXOIAXOQWBV-UHFFFAOYSA-N</td>\n",
       "      <td>146.112692</td>\n",
       "      <td>NaN</td>\n",
       "      <td>NaN</td>\n",
       "      <td>NaN</td>\n",
       "      <td>MS1</td>\n",
       "      <td>NaN</td>\n",
       "      <td>positive</td>\n",
       "      <td>[(15.0, 10.8), (16.0, 0.1), (27.0, 7.6), (28.0...</td>\n",
       "      <td>3.571429</td>\n",
       "    </tr>\n",
       "    <tr>\n",
       "      <th>...</th>\n",
       "      <td>...</td>\n",
       "      <td>...</td>\n",
       "      <td>...</td>\n",
       "      <td>...</td>\n",
       "      <td>...</td>\n",
       "      <td>...</td>\n",
       "      <td>...</td>\n",
       "      <td>...</td>\n",
       "      <td>...</td>\n",
       "      <td>...</td>\n",
       "      <td>...</td>\n",
       "      <td>...</td>\n",
       "      <td>...</td>\n",
       "      <td>...</td>\n",
       "      <td>...</td>\n",
       "      <td>...</td>\n",
       "      <td>...</td>\n",
       "    </tr>\n",
       "    <tr>\n",
       "      <th>1844347</th>\n",
       "      <td>1844347</td>\n",
       "      <td>In-Silico</td>\n",
       "      <td>7-MAHMA</td>\n",
       "      <td>C28H54O4</td>\n",
       "      <td>O=C(O)CCCCCC(OC(=O)CCCCCCCCCCCCC)CCCCCCC</td>\n",
       "      <td>NaN</td>\n",
       "      <td>InChI=1S/C28H54O4/c1-3-5-7-9-10-11-12-13-14-16...</td>\n",
       "      <td>NaN</td>\n",
       "      <td>454.402210</td>\n",
       "      <td>453.394385</td>\n",
       "      <td>NaN</td>\n",
       "      <td>NaN</td>\n",
       "      <td>MS2</td>\n",
       "      <td>NaN</td>\n",
       "      <td>negative</td>\n",
       "      <td>[(243.19602, 12.612613), (227.20111, 100.0), (...</td>\n",
       "      <td>4.444444</td>\n",
       "    </tr>\n",
       "    <tr>\n",
       "      <th>1844348</th>\n",
       "      <td>1844348</td>\n",
       "      <td>In-Silico</td>\n",
       "      <td>6-MAHMA</td>\n",
       "      <td>C28H54O4</td>\n",
       "      <td>O=C(O)CCCCC(OC(=O)CCCCCCCCCCCCC)CCCCCCCC</td>\n",
       "      <td>NaN</td>\n",
       "      <td>InChI=1S/C28H54O4/c1-3-5-7-9-11-12-13-14-15-17...</td>\n",
       "      <td>NaN</td>\n",
       "      <td>454.402210</td>\n",
       "      <td>453.394385</td>\n",
       "      <td>NaN</td>\n",
       "      <td>NaN</td>\n",
       "      <td>MS2</td>\n",
       "      <td>NaN</td>\n",
       "      <td>negative</td>\n",
       "      <td>[(243.19602, 12.612613), (227.20111, 100.0), (...</td>\n",
       "      <td>4.444444</td>\n",
       "    </tr>\n",
       "    <tr>\n",
       "      <th>1844349</th>\n",
       "      <td>1844349</td>\n",
       "      <td>In-Silico</td>\n",
       "      <td>5-MAHMA</td>\n",
       "      <td>C28H54O4</td>\n",
       "      <td>O=C(O)CCCC(OC(=O)CCCCCCCCCCCCC)CCCCCCCCC</td>\n",
       "      <td>NaN</td>\n",
       "      <td>InChI=1S/C28H54O4/c1-3-5-7-9-11-12-13-14-16-18...</td>\n",
       "      <td>NaN</td>\n",
       "      <td>454.402210</td>\n",
       "      <td>453.394385</td>\n",
       "      <td>NaN</td>\n",
       "      <td>NaN</td>\n",
       "      <td>MS2</td>\n",
       "      <td>NaN</td>\n",
       "      <td>negative</td>\n",
       "      <td>[(243.19602, 12.612613), (227.20111, 100.0), (...</td>\n",
       "      <td>4.444444</td>\n",
       "    </tr>\n",
       "    <tr>\n",
       "      <th>1844350</th>\n",
       "      <td>1844350</td>\n",
       "      <td>In-Silico</td>\n",
       "      <td>4-MAHMA</td>\n",
       "      <td>C28H54O4</td>\n",
       "      <td>O=C(O)CCC(OC(=O)CCCCCCCCCCCCC)CCCCCCCCCC</td>\n",
       "      <td>NaN</td>\n",
       "      <td>InChI=1S/C28H54O4/c1-3-5-7-9-11-13-14-15-17-19...</td>\n",
       "      <td>NaN</td>\n",
       "      <td>454.402210</td>\n",
       "      <td>453.394385</td>\n",
       "      <td>NaN</td>\n",
       "      <td>NaN</td>\n",
       "      <td>MS2</td>\n",
       "      <td>NaN</td>\n",
       "      <td>negative</td>\n",
       "      <td>[(243.19602, 12.612613), (227.20111, 100.0), (...</td>\n",
       "      <td>4.444444</td>\n",
       "    </tr>\n",
       "    <tr>\n",
       "      <th>1844351</th>\n",
       "      <td>1844351</td>\n",
       "      <td>In-Silico</td>\n",
       "      <td>3-MAHMA</td>\n",
       "      <td>C28H54O4</td>\n",
       "      <td>O=C(O)CC(OC(=O)CCCCCCCCCCCCC)CCCCCCCCCCC</td>\n",
       "      <td>NaN</td>\n",
       "      <td>InChI=1S/C28H54O4/c1-3-5-7-9-11-13-14-16-18-20...</td>\n",
       "      <td>NaN</td>\n",
       "      <td>454.402210</td>\n",
       "      <td>453.394385</td>\n",
       "      <td>NaN</td>\n",
       "      <td>NaN</td>\n",
       "      <td>MS2</td>\n",
       "      <td>NaN</td>\n",
       "      <td>negative</td>\n",
       "      <td>[(243.19602, 12.612613), (227.20111, 100.0), (...</td>\n",
       "      <td>4.444444</td>\n",
       "    </tr>\n",
       "  </tbody>\n",
       "</table>\n",
       "<p>1844352 rows × 17 columns</p>\n",
       "</div>"
      ],
      "text/plain": [
       "         Unnamed: 0        kind  \\\n",
       "0                 0  biological   \n",
       "1                 1  biological   \n",
       "2                 2  biological   \n",
       "3                 3  biological   \n",
       "4                 4  biological   \n",
       "...             ...         ...   \n",
       "1844347     1844347   In-Silico   \n",
       "1844348     1844348   In-Silico   \n",
       "1844349     1844349   In-Silico   \n",
       "1844350     1844350   In-Silico   \n",
       "1844351     1844351   In-Silico   \n",
       "\n",
       "                                                      name molecular_formula  \\\n",
       "0                2,3,5-Trimethyl-1H-indole, TMS derivative         C14H21NSi   \n",
       "1        Ethyl 3-hydroxy-3-methylpentanoate, TMS deriva...        C11H24O3Si   \n",
       "2                                 L-Valine, TMS derivative        C8H19NO2Si   \n",
       "3                 Methyl 3-hydroxybutyrate, TMS derivative         C8H18O3Si   \n",
       "4                                1-Butanol, TMS derivative          C7H18OSi   \n",
       "...                                                    ...               ...   \n",
       "1844347                                            7-MAHMA          C28H54O4   \n",
       "1844348                                            6-MAHMA          C28H54O4   \n",
       "1844349                                            5-MAHMA          C28H54O4   \n",
       "1844350                                            4-MAHMA          C28H54O4   \n",
       "1844351                                            3-MAHMA          C28H54O4   \n",
       "\n",
       "                                           SMILES  pubchem_cid  \\\n",
       "0           C1=CC2=C(C=C1C)C(=C(N2[Si](C)(C)C)C)C          NaN   \n",
       "1                   O=C(OCC)CC(O[Si](C)(C)C)(C)CC          NaN   \n",
       "2                      O=C(O[Si](C)(C)C)C(N)C(C)C          NaN   \n",
       "3                        O=C(OC)CC(O[Si](C)(C)C)C          NaN   \n",
       "4                              O(CCCC)[Si](C)(C)C          NaN   \n",
       "...                                           ...          ...   \n",
       "1844347  O=C(O)CCCCCC(OC(=O)CCCCCCCCCCCCC)CCCCCCC          NaN   \n",
       "1844348  O=C(O)CCCCC(OC(=O)CCCCCCCCCCCCC)CCCCCCCC          NaN   \n",
       "1844349  O=C(O)CCCC(OC(=O)CCCCCCCCCCCCC)CCCCCCCCC          NaN   \n",
       "1844350  O=C(O)CCC(OC(=O)CCCCCCCCCCCCC)CCCCCCCCCC          NaN   \n",
       "1844351  O=C(O)CC(OC(=O)CCCCCCCCCCCCC)CCCCCCCCCCC          NaN   \n",
       "\n",
       "                                                     InChI  \\\n",
       "0        InChI=1S/C14H21NSi/c1-10-7-8-14-13(9-10)11(2)1...   \n",
       "1        InChI=1S/C11H24O3Si/c1-7-11(3,14-15(4,5)6)9-10...   \n",
       "2        InChI=1S/C8H19NO2Si/c1-6(2)7(9)8(10)11-12(3,4)...   \n",
       "3        InChI=1S/C8H18O3Si/c1-7(6-8(9)10-2)11-12(3,4)5...   \n",
       "4        InChI=1S/C7H18OSi/c1-5-6-7-8-9(2,3)4/h5-7H2,1-4H3   \n",
       "...                                                    ...   \n",
       "1844347  InChI=1S/C28H54O4/c1-3-5-7-9-10-11-12-13-14-16...   \n",
       "1844348  InChI=1S/C28H54O4/c1-3-5-7-9-11-12-13-14-15-17...   \n",
       "1844349  InChI=1S/C28H54O4/c1-3-5-7-9-11-12-13-14-16-18...   \n",
       "1844350  InChI=1S/C28H54O4/c1-3-5-7-9-11-13-14-15-17-19...   \n",
       "1844351  InChI=1S/C28H54O4/c1-3-5-7-9-11-13-14-16-18-20...   \n",
       "\n",
       "                            InChIKey  total_exact_mass  exact_mass instrument  \\\n",
       "0        KHKJMJPOXGEQGW-UHFFFAOYSA-N        231.144326         NaN        NaN   \n",
       "1        FGZVHXCJVPTHKF-UHFFFAOYSA-N        232.149471         NaN        NaN   \n",
       "2        IJGIMCZHMYSSHY-ZETCQYMHSA-N        189.118505         NaN        NaN   \n",
       "3        FHDCVPMIQWHEAE-UHFFFAOYSA-N        190.102521         NaN        NaN   \n",
       "4        YTJUXOIAXOQWBV-UHFFFAOYSA-N        146.112692         NaN        NaN   \n",
       "...                              ...               ...         ...        ...   \n",
       "1844347                          NaN        454.402210  453.394385        NaN   \n",
       "1844348                          NaN        454.402210  453.394385        NaN   \n",
       "1844349                          NaN        454.402210  453.394385        NaN   \n",
       "1844350                          NaN        454.402210  453.394385        NaN   \n",
       "1844351                          NaN        454.402210  453.394385        NaN   \n",
       "\n",
       "         instrument_type ms_level  ionization ionization_mode  \\\n",
       "0                    NaN      MS1         NaN        positive   \n",
       "1                    NaN      MS1         NaN        positive   \n",
       "2                    NaN      MS1         NaN        positive   \n",
       "3                    NaN      MS1         NaN        positive   \n",
       "4                    NaN      MS1         NaN        positive   \n",
       "...                  ...      ...         ...             ...   \n",
       "1844347              NaN      MS2         NaN        negative   \n",
       "1844348              NaN      MS2         NaN        negative   \n",
       "1844349              NaN      MS2         NaN        negative   \n",
       "1844350              NaN      MS2         NaN        negative   \n",
       "1844351              NaN      MS2         NaN        negative   \n",
       "\n",
       "                                                  spectrum     score  \n",
       "0        [(15.0, 0.4), (27.0, 5.7), (28.0, 6.8), (29.0,...  3.571429  \n",
       "1        [(15.0, 5.4), (16.0, 0.2), (27.0, 9.7), (28.0,...  3.571429  \n",
       "2        [(15.0, 4.9), (28.0, 0.1), (42.0, 0.1), (43.0,...  3.571429  \n",
       "3        [(15.0, 41.0), (16.0, 0.4), (27.0, 4.0), (28.0...  3.571429  \n",
       "4        [(15.0, 10.8), (16.0, 0.1), (27.0, 7.6), (28.0...  3.571429  \n",
       "...                                                    ...       ...  \n",
       "1844347  [(243.19602, 12.612613), (227.20111, 100.0), (...  4.444444  \n",
       "1844348  [(243.19602, 12.612613), (227.20111, 100.0), (...  4.444444  \n",
       "1844349  [(243.19602, 12.612613), (227.20111, 100.0), (...  4.444444  \n",
       "1844350  [(243.19602, 12.612613), (227.20111, 100.0), (...  4.444444  \n",
       "1844351  [(243.19602, 12.612613), (227.20111, 100.0), (...  4.444444  \n",
       "\n",
       "[1844352 rows x 17 columns]"
      ]
     },
     "execution_count": 4,
     "metadata": {},
     "output_type": "execute_result"
    }
   ],
   "source": [
    "df"
   ]
  },
  {
   "cell_type": "code",
   "execution_count": 7,
   "metadata": {},
   "outputs": [
    {
     "data": {
      "text/html": [
       "<div>\n",
       "<style scoped>\n",
       "    .dataframe tbody tr th:only-of-type {\n",
       "        vertical-align: middle;\n",
       "    }\n",
       "\n",
       "    .dataframe tbody tr th {\n",
       "        vertical-align: top;\n",
       "    }\n",
       "\n",
       "    .dataframe thead th {\n",
       "        text-align: right;\n",
       "    }\n",
       "</style>\n",
       "<table border=\"1\" class=\"dataframe\">\n",
       "  <thead>\n",
       "    <tr style=\"text-align: right;\">\n",
       "      <th></th>\n",
       "      <th>scan</th>\n",
       "      <th>spectrum_id</th>\n",
       "      <th>collision_energy</th>\n",
       "      <th>Adduct</th>\n",
       "      <th>Compound_Source</th>\n",
       "      <th>Compund_Name</th>\n",
       "      <th>Precursor_MZ</th>\n",
       "      <th>ExactMass</th>\n",
       "      <th>Charge</th>\n",
       "      <th>Ion_Mode</th>\n",
       "      <th>Smiles</th>\n",
       "      <th>INCHI</th>\n",
       "      <th>InChIKey_smiles</th>\n",
       "      <th>msManufacturer</th>\n",
       "      <th>msMassAnalyzer</th>\n",
       "      <th>msIonisation</th>\n",
       "      <th>msDissociationMethod</th>\n",
       "      <th>GNPS_library_membership</th>\n",
       "      <th>ppmBetweenExpAndThMass</th>\n",
       "    </tr>\n",
       "  </thead>\n",
       "  <tbody>\n",
       "    <tr>\n",
       "      <th>0</th>\n",
       "      <td>1</td>\n",
       "      <td>CCMSLIB00000001547</td>\n",
       "      <td>NaN</td>\n",
       "      <td>[M+H]1+</td>\n",
       "      <td>isolated</td>\n",
       "      <td>3-Des-Microcystein_LR</td>\n",
       "      <td>981.5400</td>\n",
       "      <td>980.533118</td>\n",
       "      <td>1</td>\n",
       "      <td>positive</td>\n",
       "      <td>CC(C=CC1NC(=O)C(CCCN=C(N)N)NC(=O)C(C)C(C(=O)O)...</td>\n",
       "      <td>InChI=1S/C48H72N10O12/c1-25(2)22-36-45(66)57-3...</td>\n",
       "      <td>UYJGHPVHCMVZPP-UHFFFAOYSA-N</td>\n",
       "      <td>NaN</td>\n",
       "      <td>qtof</td>\n",
       "      <td>ESI</td>\n",
       "      <td>NaN</td>\n",
       "      <td>GNPS-LIBRARY</td>\n",
       "      <td>0.406263</td>\n",
       "    </tr>\n",
       "    <tr>\n",
       "      <th>1</th>\n",
       "      <td>2</td>\n",
       "      <td>CCMSLIB00000001548</td>\n",
       "      <td>NaN</td>\n",
       "      <td>[M+H]1+</td>\n",
       "      <td>isolated</td>\n",
       "      <td>Hoiamide B</td>\n",
       "      <td>940.2500</td>\n",
       "      <td>939.451957</td>\n",
       "      <td>1</td>\n",
       "      <td>positive</td>\n",
       "      <td>CCCC(C)C(O)C(C)C1OC(=O)C(C(C)O)NC(=O)C(C(C)CC)...</td>\n",
       "      <td>InChI=1S/C45H73N5O10S3/c1-14-17-24(6)34(52)26(...</td>\n",
       "      <td>KNGPFNUOXXLKCN-UHFFFAOYSA-N</td>\n",
       "      <td>NaN</td>\n",
       "      <td>qtof</td>\n",
       "      <td>ESI</td>\n",
       "      <td>NaN</td>\n",
       "      <td>GNPS-LIBRARY</td>\n",
       "      <td>222.483646</td>\n",
       "    </tr>\n",
       "    <tr>\n",
       "      <th>2</th>\n",
       "      <td>3</td>\n",
       "      <td>CCMSLIB00000001549</td>\n",
       "      <td>NaN</td>\n",
       "      <td>[M+H]1+</td>\n",
       "      <td>isolated</td>\n",
       "      <td>Malyngamide C</td>\n",
       "      <td>456.1000</td>\n",
       "      <td>455.243851</td>\n",
       "      <td>1</td>\n",
       "      <td>positive</td>\n",
       "      <td>CCCCCCCC(CC=CCCC(=O)NCC(=CCl)C12OC1C(O)CCC2=O)OC</td>\n",
       "      <td>InChI=1S/C24H38ClNO5/c1-3-4-5-6-8-11-19(30-2)1...</td>\n",
       "      <td>WXDBUBIFYCCNLE-UHFFFAOYSA-N</td>\n",
       "      <td>NaN</td>\n",
       "      <td>qtof</td>\n",
       "      <td>ESI</td>\n",
       "      <td>NaN</td>\n",
       "      <td>GNPS-LIBRARY</td>\n",
       "      <td>331.235723</td>\n",
       "    </tr>\n",
       "    <tr>\n",
       "      <th>3</th>\n",
       "      <td>4</td>\n",
       "      <td>CCMSLIB00000001550</td>\n",
       "      <td>NaN</td>\n",
       "      <td>[M+H]1+</td>\n",
       "      <td>isolated</td>\n",
       "      <td>Scytonemin</td>\n",
       "      <td>545.0000</td>\n",
       "      <td>544.142307</td>\n",
       "      <td>1</td>\n",
       "      <td>positive</td>\n",
       "      <td>O=C1C(=Cc2ccc(O)cc2)C2=Nc3ccccc3C2=C1C1=C2C(=N...</td>\n",
       "      <td>InChI=1S/C36H20N2O4/c39-21-13-9-19(10-14-21)17...</td>\n",
       "      <td>CGZKSPLDUIRCIO-UHFFFAOYSA-N</td>\n",
       "      <td>NaN</td>\n",
       "      <td>ion trap</td>\n",
       "      <td>ESI</td>\n",
       "      <td>NaN</td>\n",
       "      <td>GNPS-LIBRARY</td>\n",
       "      <td>274.392751</td>\n",
       "    </tr>\n",
       "    <tr>\n",
       "      <th>4</th>\n",
       "      <td>5</td>\n",
       "      <td>CCMSLIB00000001551</td>\n",
       "      <td>NaN</td>\n",
       "      <td>[M+H]1+</td>\n",
       "      <td>isolated</td>\n",
       "      <td>Salinisporamide A</td>\n",
       "      <td>314.1160</td>\n",
       "      <td>NaN</td>\n",
       "      <td>1</td>\n",
       "      <td>positive</td>\n",
       "      <td>NaN</td>\n",
       "      <td>NaN</td>\n",
       "      <td>NaN</td>\n",
       "      <td>NaN</td>\n",
       "      <td>qtof</td>\n",
       "      <td>ESI</td>\n",
       "      <td>NaN</td>\n",
       "      <td>GNPS-LIBRARY</td>\n",
       "      <td>NaN</td>\n",
       "    </tr>\n",
       "    <tr>\n",
       "      <th>...</th>\n",
       "      <td>...</td>\n",
       "      <td>...</td>\n",
       "      <td>...</td>\n",
       "      <td>...</td>\n",
       "      <td>...</td>\n",
       "      <td>...</td>\n",
       "      <td>...</td>\n",
       "      <td>...</td>\n",
       "      <td>...</td>\n",
       "      <td>...</td>\n",
       "      <td>...</td>\n",
       "      <td>...</td>\n",
       "      <td>...</td>\n",
       "      <td>...</td>\n",
       "      <td>...</td>\n",
       "      <td>...</td>\n",
       "      <td>...</td>\n",
       "      <td>...</td>\n",
       "      <td>...</td>\n",
       "    </tr>\n",
       "    <tr>\n",
       "      <th>542772</th>\n",
       "      <td>542773</td>\n",
       "      <td>MSBNK-BAFG-CSL23111017255</td>\n",
       "      <td>50.0</td>\n",
       "      <td>[M-H]1-</td>\n",
       "      <td>NaN</td>\n",
       "      <td>Fludioxonil</td>\n",
       "      <td>247.0324</td>\n",
       "      <td>248.039734</td>\n",
       "      <td>-1</td>\n",
       "      <td>negative</td>\n",
       "      <td>N#Cc1c[nH]cc1-c1cccc2c1OC(F)(F)O2</td>\n",
       "      <td>InChI=1S/C12H6F2N2O2/c13-12(14)17-10-3-1-2-8(1...</td>\n",
       "      <td>MUJOIMFVNIBMKC-UHFFFAOYSA-N</td>\n",
       "      <td>NaN</td>\n",
       "      <td>qtof</td>\n",
       "      <td>ESI</td>\n",
       "      <td>cid</td>\n",
       "      <td>MassBank_ML_Export</td>\n",
       "      <td>0.235056</td>\n",
       "    </tr>\n",
       "    <tr>\n",
       "      <th>542773</th>\n",
       "      <td>542774</td>\n",
       "      <td>MSBNK-BAFG-CSL23111017256</td>\n",
       "      <td>40.0</td>\n",
       "      <td>[M-H]1-</td>\n",
       "      <td>NaN</td>\n",
       "      <td>Fludioxonil</td>\n",
       "      <td>247.0324</td>\n",
       "      <td>248.039734</td>\n",
       "      <td>-1</td>\n",
       "      <td>negative</td>\n",
       "      <td>N#Cc1c[nH]cc1-c1cccc2c1OC(F)(F)O2</td>\n",
       "      <td>InChI=1S/C12H6F2N2O2/c13-12(14)17-10-3-1-2-8(1...</td>\n",
       "      <td>MUJOIMFVNIBMKC-UHFFFAOYSA-N</td>\n",
       "      <td>NaN</td>\n",
       "      <td>qtof</td>\n",
       "      <td>ESI</td>\n",
       "      <td>cid</td>\n",
       "      <td>MassBank_ML_Export</td>\n",
       "      <td>0.235056</td>\n",
       "    </tr>\n",
       "    <tr>\n",
       "      <th>542774</th>\n",
       "      <td>542775</td>\n",
       "      <td>MSBNK-BAFG-CSL23111017257</td>\n",
       "      <td>60.0</td>\n",
       "      <td>[M-H]1-</td>\n",
       "      <td>NaN</td>\n",
       "      <td>Fludioxonil</td>\n",
       "      <td>247.0324</td>\n",
       "      <td>248.039734</td>\n",
       "      <td>-1</td>\n",
       "      <td>negative</td>\n",
       "      <td>N#Cc1c[nH]cc1-c1cccc2c1OC(F)(F)O2</td>\n",
       "      <td>InChI=1S/C12H6F2N2O2/c13-12(14)17-10-3-1-2-8(1...</td>\n",
       "      <td>MUJOIMFVNIBMKC-UHFFFAOYSA-N</td>\n",
       "      <td>NaN</td>\n",
       "      <td>qtof</td>\n",
       "      <td>ESI</td>\n",
       "      <td>cid</td>\n",
       "      <td>MassBank_ML_Export</td>\n",
       "      <td>0.235056</td>\n",
       "    </tr>\n",
       "    <tr>\n",
       "      <th>542775</th>\n",
       "      <td>542776</td>\n",
       "      <td>MSBNK-BAFG-CSL23111017258</td>\n",
       "      <td>150.0</td>\n",
       "      <td>[M-H]1-</td>\n",
       "      <td>NaN</td>\n",
       "      <td>Fludioxonil</td>\n",
       "      <td>247.0324</td>\n",
       "      <td>248.039734</td>\n",
       "      <td>-1</td>\n",
       "      <td>negative</td>\n",
       "      <td>N#Cc1c[nH]cc1-c1cccc2c1OC(F)(F)O2</td>\n",
       "      <td>InChI=1S/C12H6F2N2O2/c13-12(14)17-10-3-1-2-8(1...</td>\n",
       "      <td>MUJOIMFVNIBMKC-UHFFFAOYSA-N</td>\n",
       "      <td>NaN</td>\n",
       "      <td>qtof</td>\n",
       "      <td>ESI</td>\n",
       "      <td>cid</td>\n",
       "      <td>MassBank_ML_Export</td>\n",
       "      <td>0.235056</td>\n",
       "    </tr>\n",
       "    <tr>\n",
       "      <th>542776</th>\n",
       "      <td>542777</td>\n",
       "      <td>MSBNK-BAFG-CSL23111017259</td>\n",
       "      <td>130.0</td>\n",
       "      <td>[M-H]1-</td>\n",
       "      <td>NaN</td>\n",
       "      <td>Fludioxonil</td>\n",
       "      <td>247.0324</td>\n",
       "      <td>248.039734</td>\n",
       "      <td>-1</td>\n",
       "      <td>negative</td>\n",
       "      <td>N#Cc1c[nH]cc1-c1cccc2c1OC(F)(F)O2</td>\n",
       "      <td>InChI=1S/C12H6F2N2O2/c13-12(14)17-10-3-1-2-8(1...</td>\n",
       "      <td>MUJOIMFVNIBMKC-UHFFFAOYSA-N</td>\n",
       "      <td>NaN</td>\n",
       "      <td>qtof</td>\n",
       "      <td>ESI</td>\n",
       "      <td>cid</td>\n",
       "      <td>MassBank_ML_Export</td>\n",
       "      <td>0.235056</td>\n",
       "    </tr>\n",
       "  </tbody>\n",
       "</table>\n",
       "<p>542777 rows × 19 columns</p>\n",
       "</div>"
      ],
      "text/plain": [
       "          scan                spectrum_id  collision_energy   Adduct  \\\n",
       "0            1         CCMSLIB00000001547               NaN  [M+H]1+   \n",
       "1            2         CCMSLIB00000001548               NaN  [M+H]1+   \n",
       "2            3         CCMSLIB00000001549               NaN  [M+H]1+   \n",
       "3            4         CCMSLIB00000001550               NaN  [M+H]1+   \n",
       "4            5         CCMSLIB00000001551               NaN  [M+H]1+   \n",
       "...        ...                        ...               ...      ...   \n",
       "542772  542773  MSBNK-BAFG-CSL23111017255              50.0  [M-H]1-   \n",
       "542773  542774  MSBNK-BAFG-CSL23111017256              40.0  [M-H]1-   \n",
       "542774  542775  MSBNK-BAFG-CSL23111017257              60.0  [M-H]1-   \n",
       "542775  542776  MSBNK-BAFG-CSL23111017258             150.0  [M-H]1-   \n",
       "542776  542777  MSBNK-BAFG-CSL23111017259             130.0  [M-H]1-   \n",
       "\n",
       "       Compound_Source           Compund_Name  Precursor_MZ   ExactMass  \\\n",
       "0             isolated  3-Des-Microcystein_LR      981.5400  980.533118   \n",
       "1             isolated             Hoiamide B      940.2500  939.451957   \n",
       "2             isolated          Malyngamide C      456.1000  455.243851   \n",
       "3             isolated             Scytonemin      545.0000  544.142307   \n",
       "4             isolated      Salinisporamide A      314.1160         NaN   \n",
       "...                ...                    ...           ...         ...   \n",
       "542772             NaN            Fludioxonil      247.0324  248.039734   \n",
       "542773             NaN            Fludioxonil      247.0324  248.039734   \n",
       "542774             NaN            Fludioxonil      247.0324  248.039734   \n",
       "542775             NaN            Fludioxonil      247.0324  248.039734   \n",
       "542776             NaN            Fludioxonil      247.0324  248.039734   \n",
       "\n",
       "        Charge  Ion_Mode                                             Smiles  \\\n",
       "0            1  positive  CC(C=CC1NC(=O)C(CCCN=C(N)N)NC(=O)C(C)C(C(=O)O)...   \n",
       "1            1  positive  CCCC(C)C(O)C(C)C1OC(=O)C(C(C)O)NC(=O)C(C(C)CC)...   \n",
       "2            1  positive   CCCCCCCC(CC=CCCC(=O)NCC(=CCl)C12OC1C(O)CCC2=O)OC   \n",
       "3            1  positive  O=C1C(=Cc2ccc(O)cc2)C2=Nc3ccccc3C2=C1C1=C2C(=N...   \n",
       "4            1  positive                                                NaN   \n",
       "...        ...       ...                                                ...   \n",
       "542772      -1  negative                  N#Cc1c[nH]cc1-c1cccc2c1OC(F)(F)O2   \n",
       "542773      -1  negative                  N#Cc1c[nH]cc1-c1cccc2c1OC(F)(F)O2   \n",
       "542774      -1  negative                  N#Cc1c[nH]cc1-c1cccc2c1OC(F)(F)O2   \n",
       "542775      -1  negative                  N#Cc1c[nH]cc1-c1cccc2c1OC(F)(F)O2   \n",
       "542776      -1  negative                  N#Cc1c[nH]cc1-c1cccc2c1OC(F)(F)O2   \n",
       "\n",
       "                                                    INCHI  \\\n",
       "0       InChI=1S/C48H72N10O12/c1-25(2)22-36-45(66)57-3...   \n",
       "1       InChI=1S/C45H73N5O10S3/c1-14-17-24(6)34(52)26(...   \n",
       "2       InChI=1S/C24H38ClNO5/c1-3-4-5-6-8-11-19(30-2)1...   \n",
       "3       InChI=1S/C36H20N2O4/c39-21-13-9-19(10-14-21)17...   \n",
       "4                                                     NaN   \n",
       "...                                                   ...   \n",
       "542772  InChI=1S/C12H6F2N2O2/c13-12(14)17-10-3-1-2-8(1...   \n",
       "542773  InChI=1S/C12H6F2N2O2/c13-12(14)17-10-3-1-2-8(1...   \n",
       "542774  InChI=1S/C12H6F2N2O2/c13-12(14)17-10-3-1-2-8(1...   \n",
       "542775  InChI=1S/C12H6F2N2O2/c13-12(14)17-10-3-1-2-8(1...   \n",
       "542776  InChI=1S/C12H6F2N2O2/c13-12(14)17-10-3-1-2-8(1...   \n",
       "\n",
       "                    InChIKey_smiles msManufacturer msMassAnalyzer  \\\n",
       "0       UYJGHPVHCMVZPP-UHFFFAOYSA-N            NaN           qtof   \n",
       "1       KNGPFNUOXXLKCN-UHFFFAOYSA-N            NaN           qtof   \n",
       "2       WXDBUBIFYCCNLE-UHFFFAOYSA-N            NaN           qtof   \n",
       "3       CGZKSPLDUIRCIO-UHFFFAOYSA-N            NaN       ion trap   \n",
       "4                               NaN            NaN           qtof   \n",
       "...                             ...            ...            ...   \n",
       "542772  MUJOIMFVNIBMKC-UHFFFAOYSA-N            NaN           qtof   \n",
       "542773  MUJOIMFVNIBMKC-UHFFFAOYSA-N            NaN           qtof   \n",
       "542774  MUJOIMFVNIBMKC-UHFFFAOYSA-N            NaN           qtof   \n",
       "542775  MUJOIMFVNIBMKC-UHFFFAOYSA-N            NaN           qtof   \n",
       "542776  MUJOIMFVNIBMKC-UHFFFAOYSA-N            NaN           qtof   \n",
       "\n",
       "       msIonisation msDissociationMethod GNPS_library_membership  \\\n",
       "0               ESI                  NaN            GNPS-LIBRARY   \n",
       "1               ESI                  NaN            GNPS-LIBRARY   \n",
       "2               ESI                  NaN            GNPS-LIBRARY   \n",
       "3               ESI                  NaN            GNPS-LIBRARY   \n",
       "4               ESI                  NaN            GNPS-LIBRARY   \n",
       "...             ...                  ...                     ...   \n",
       "542772          ESI                  cid      MassBank_ML_Export   \n",
       "542773          ESI                  cid      MassBank_ML_Export   \n",
       "542774          ESI                  cid      MassBank_ML_Export   \n",
       "542775          ESI                  cid      MassBank_ML_Export   \n",
       "542776          ESI                  cid      MassBank_ML_Export   \n",
       "\n",
       "        ppmBetweenExpAndThMass  \n",
       "0                     0.406263  \n",
       "1                   222.483646  \n",
       "2                   331.235723  \n",
       "3                   274.392751  \n",
       "4                          NaN  \n",
       "...                        ...  \n",
       "542772                0.235056  \n",
       "542773                0.235056  \n",
       "542774                0.235056  \n",
       "542775                0.235056  \n",
       "542776                0.235056  \n",
       "\n",
       "[542777 rows x 19 columns]"
      ]
     },
     "execution_count": 7,
     "metadata": {},
     "output_type": "execute_result"
    }
   ],
   "source": [
    "df2"
   ]
  },
  {
   "cell_type": "code",
   "execution_count": 5,
   "metadata": {},
   "outputs": [
    {
     "data": {
      "image/png": "[encoded data removed]",
      "text/plain": [
       "<Figure size 1200x600 with 1 Axes>"
      ]
     },
     "metadata": {},
     "output_type": "display_data"
    },
    {
     "name": "stdout",
     "output_type": "stream",
     "text": [
      "Total spectra: 1844352\n",
      "Min values: 1\n",
      "Max values: 273\n",
      "Mean values: 6.30\n",
      "Median values: 6.00\n"
     ]
    }
   ],
   "source": [
    "spectrum_counts = plot_spectrum_length_histogram(df, 'spectrum', 2)"
   ]
  },
  {
   "cell_type": "code",
   "execution_count": 6,
   "metadata": {},
   "outputs": [
    {
     "data": {
      "image/png": "[encoded data removed]",
      "text/plain": [
       "<Figure size 1200x600 with 1 Axes>"
      ]
     },
     "metadata": {},
     "output_type": "display_data"
    },
    {
     "name": "stdout",
     "output_type": "stream",
     "text": [
      "Total spectra: 1844352\n",
      "Min values: 1\n",
      "Max values: 273\n",
      "Mean values: 6.30\n",
      "Median values: 6.00\n"
     ]
    }
   ],
   "source": [
    "spectrum_counts = plot_spectrum_length_histogram(df, 'spectrum', 2, 'log')"
   ]
  },
  {
   "cell_type": "code",
   "execution_count": 7,
   "metadata": {},
   "outputs": [
    {
     "data": {
      "image/png": "[encoded data removed]",
      "text/plain": [
       "<Figure size 1500x600 with 1 Axes>"
      ]
     },
     "metadata": {},
     "output_type": "display_data"
    },
    {
     "name": "stdout",
     "output_type": "stream",
     "text": [
      "Total m/z values: 11627634\n",
      "Min m/z: 13.00\n",
      "Max m/z: 3532.73\n",
      "Mean m/z: 601.03\n",
      "Median m/z: 566.52\n"
     ]
    }
   ],
   "source": [
    "all_mz_values = plot_mz_histogram(df, spectrum_column='spectrum', bin_size=2, min_mz=0, max_mz=None)"
   ]
  },
  {
   "cell_type": "code",
   "execution_count": 5,
   "metadata": {},
   "outputs": [
    {
     "data": {
      "image/png": "[encoded data removed]",
      "text/plain": [
       "<Figure size 1500x600 with 1 Axes>"
      ]
     },
     "metadata": {},
     "output_type": "display_data"
    },
    {
     "name": "stdout",
     "output_type": "stream",
     "text": [
      "Total data points: 11627634\n",
      "Min m/z: 13.00\n",
      "Max m/z: 3532.73\n",
      "Mean m/z: 601.03\n",
      "Median m/z: 566.52\n",
      "Min abundance: 0.01\n",
      "Max abundance: 100.00\n",
      "Mean abundance: 33.72\n",
      "Median abundance: 20.02\n"
     ]
    }
   ],
   "source": [
    "plot_all_abundance(df, spectrum_column='spectrum')"
   ]
  },
  {
   "cell_type": "code",
   "execution_count": 34,
   "metadata": {},
   "outputs": [
    {
     "data": {
      "text/plain": [
       "kind\n",
       "biological    1354267\n",
       "In-Silico      490085\n",
       "Name: count, dtype: int64"
      ]
     },
     "execution_count": 34,
     "metadata": {},
     "output_type": "execute_result"
    }
   ],
   "source": [
    "df.kind.value_counts()"
   ]
  },
  {
   "cell_type": "code",
   "execution_count": 43,
   "metadata": {},
   "outputs": [
    {
     "data": {
      "text/plain": [
       "19868"
      ]
     },
     "execution_count": 43,
     "metadata": {},
     "output_type": "execute_result"
    }
   ],
   "source": [
    "len(df.molecular_formula.unique())"
   ]
  },
  {
   "cell_type": "code",
   "execution_count": 14,
   "metadata": {},
   "outputs": [
    {
     "data": {
      "text/plain": [
       "1844352"
      ]
     },
     "execution_count": 14,
     "metadata": {},
     "output_type": "execute_result"
    }
   ],
   "source": [
    "len(df.spectrum)"
   ]
  },
  {
   "cell_type": "code",
   "execution_count": 13,
   "metadata": {},
   "outputs": [
    {
     "data": {
      "text/plain": [
       "1336342"
      ]
     },
     "execution_count": 13,
     "metadata": {},
     "output_type": "execute_result"
    }
   ],
   "source": [
    "len(df.spectrum.unique())"
   ]
  },
  {
   "cell_type": "code",
   "execution_count": 52,
   "metadata": {},
   "outputs": [
    {
     "data": {
      "text/plain": [
       "'[(15.0, 0.4), (27.0, 5.7), (28.0, 6.8), (29.0, 2.8), (30.0, 0.3), (31.0, 0.9), (38.0, 0.5), (39.0, 2.7), (40.0, 2.9), (41.0, 6.7), (42.0, 0.6), (43.0, 42.7), (44.0, 4.4), (45.0, 3.7), (46.0, 0.3), (47.0, 0.1), (51.0, 1.4), (52.0, 5.6), (53.0, 13.0), (54.0, 2.8), (55.0, 2.0), (56.0, 2.9), (57.0, 21.7), (58.0, 49.0), (59.0, 9.6), (60.0, 2.1), (61.0, 0.2), (62.0, 0.3), (63.0, 3.1), (64.0, 2.7), (65.0, 4.6), (66.0, 2.3), (67.0, 2.3), (68.0, 0.9), (69.0, 3.2), (70.0, 3.4), (71.0, 1.9), (72.0, 6.3), (73.0, 29.0), (74.0, 2.9), (75.0, 3.1), (76.0, 3.3), (77.0, 9.3), (78.0, 3.8), (79.0, 4.3), (80.0, 1.1), (81.0, 0.8), (82.0, 0.7), (83.0, 1.3), (84.0, 0.8), (85.0, 0.4), (87.0, 0.6), (88.0, 3.1), (89.0, 3.3), (90.0, 5.6), (91.0, 3.5), (92.0, 2.2), (93.0, 2.3), (94.0, 0.9), (95.0, 1.0), (96.0, 0.6), (99.0, 0.7), (100.0, 0.9), (101.0, 3.5), (102.0, 2.2), (103.0, 2.8), (104.0, 4.9), (105.0, 4.4), (106.0, 1.7), (107.0, 1.6), (108.0, 1.5), (109.0, 0.4), (112.0, 0.2), (113.0, 0.6), (114.0, 1.9), (115.0, 2.3), (116.0, 3.3), (117.0, 9.7), (118.0, 2.5), (119.0, 2.8), (120.0, 0.9), (121.0, 0.2), (123.0, 0.3), (126.0, 0.5), (127.0, 2.0), (128.0, 1.4), (129.0, 0.9), (130.0, 3.6), (131.0, 3.4), (132.0, 2.3), (133.0, 0.9), (134.0, 1.4), (135.0, 0.2), (137.0, 0.6), (138.0, 0.7), (141.0, 1.9), (142.0, 6.1), (143.0, 7.7), (144.0, 4.6), (145.0, 1.1), (146.0, 0.2), (147.0, 1.9), (148.0, 0.9), (149.0, 0.1), (155.0, 1.5), (156.0, 6.7), (157.0, 10.3), (158.0, 34.1), (159.0, 10.4), (160.0, 2.3), (161.0, 0.9), (162.0, 1.4), (163.0, 0.2), (170.0, 1.9), (171.0, 3.4), (172.0, 1.8), (173.0, 2.3), (174.0, 0.3), (175.0, 1.3), (176.0, 0.2), (184.0, 0.6), (185.0, 5.1), (186.0, 12.3), (187.0, 4.0), (188.0, 0.8), (189.0, 0.1), (198.0, 1.8), (199.0, 5.9), (200.0, 9.2), (201.0, 14.2), (202.0, 3.3), (203.0, 1.3), (204.0, 0.2), (212.0, 0.6), (213.0, 0.7), (214.0, 2.6), (215.0, 6.0), (216.0, 25.8), (217.0, 5.2), (218.0, 1.2), (219.0, 0.1), (229.0, 0.6), (230.0, 2.5), (231.0, 100.0), (232.0, 20.9), (233.0, 5.2), (234.0, 0.7)]'"
      ]
     },
     "execution_count": 52,
     "metadata": {},
     "output_type": "execute_result"
    }
   ],
   "source": [
    "df.spectrum[0].strip()"
   ]
  },
  {
   "cell_type": "code",
   "execution_count": 49,
   "metadata": {},
   "outputs": [
    {
     "ename": "TypeError",
     "evalue": "list indices must be integers or slices, not tuple",
     "output_type": "error",
     "traceback": [
      "\u001b[0;31m---------------------------------------------------------------------------\u001b[0m",
      "\u001b[0;31mTypeError\u001b[0m                                 Traceback (most recent call last)",
      "Cell \u001b[0;32mIn[49], line 1\u001b[0m\n\u001b[0;32m----> 1\u001b[0m \u001b[38;5;28;43meval\u001b[39;49m\u001b[43m(\u001b[49m\u001b[43mdf\u001b[49m\u001b[38;5;241;43m.\u001b[39;49m\u001b[43mspectrum\u001b[49m\u001b[43m[\u001b[49m\u001b[38;5;241;43m0\u001b[39;49m\u001b[43m]\u001b[49m\u001b[43m)\u001b[49m\u001b[43m[\u001b[49m\u001b[43m:\u001b[49m\u001b[43m,\u001b[49m\u001b[38;5;241;43m0\u001b[39;49m\u001b[43m]\u001b[49m\n",
      "\u001b[0;31mTypeError\u001b[0m: list indices must be integers or slices, not tuple"
     ]
    }
   ],
   "source": [
    "eval(df.spectrum[0])[:,0]"
   ]
  },
  {
   "cell_type": "code",
   "execution_count": null,
   "metadata": {},
   "outputs": [],
   "source": [
    "x_arr = df.spectrum[0]"
   ]
  },
  {
   "cell_type": "code",
   "execution_count": 23,
   "metadata": {},
   "outputs": [
    {
     "data": {
      "text/plain": [
       "0          [(15.0, 0.4), (27.0, 5.7), (28.0, 6.8), (29.0,...\n",
       "1          [(15.0, 5.4), (16.0, 0.2), (27.0, 9.7), (28.0,...\n",
       "2          [(15.0, 4.9), (28.0, 0.1), (42.0, 0.1), (43.0,...\n",
       "3          [(15.0, 41.0), (16.0, 0.4), (27.0, 4.0), (28.0...\n",
       "4          [(15.0, 10.8), (16.0, 0.1), (27.0, 7.6), (28.0...\n",
       "                                 ...                        \n",
       "1844347    [(243.19602, 12.612613), (227.20111, 100.0), (...\n",
       "1844348    [(243.19602, 12.612613), (227.20111, 100.0), (...\n",
       "1844349    [(243.19602, 12.612613), (227.20111, 100.0), (...\n",
       "1844350    [(243.19602, 12.612613), (227.20111, 100.0), (...\n",
       "1844351    [(243.19602, 12.612613), (227.20111, 100.0), (...\n",
       "Name: spectrum, Length: 1844352, dtype: object"
      ]
     },
     "execution_count": 23,
     "metadata": {},
     "output_type": "execute_result"
    }
   ],
   "source": [
    "df.spectrum"
   ]
  },
  {
   "cell_type": "code",
   "execution_count": 21,
   "metadata": {},
   "outputs": [
    {
     "data": {
      "text/plain": [
       "dtype('O')"
      ]
     },
     "execution_count": 21,
     "metadata": {},
     "output_type": "execute_result"
    }
   ],
   "source": [
    "df['spectrum'].apply()"
   ]
  },
  {
   "cell_type": "code",
   "execution_count": 5,
   "metadata": {},
   "outputs": [
    {
     "name": "stderr",
     "output_type": "stream",
     "text": [
      "/tmp/ipykernel_1896/19321019.py:1: DtypeWarning: Columns (4,5) have mixed types. Specify dtype option on import or set low_memory=False.\n",
      "  pd.read_csv(csv_pth)\n"
     ]
    },
    {
     "data": {
      "text/html": [
       "<div>\n",
       "<style scoped>\n",
       "    .dataframe tbody tr th:only-of-type {\n",
       "        vertical-align: middle;\n",
       "    }\n",
       "\n",
       "    .dataframe tbody tr th {\n",
       "        vertical-align: top;\n",
       "    }\n",
       "\n",
       "    .dataframe thead th {\n",
       "        text-align: right;\n",
       "    }\n",
       "</style>\n",
       "<table border=\"1\" class=\"dataframe\">\n",
       "  <thead>\n",
       "    <tr style=\"text-align: right;\">\n",
       "      <th></th>\n",
       "      <th>kind</th>\n",
       "      <th>name</th>\n",
       "      <th>molecular_formula</th>\n",
       "      <th>pubchem_cid</th>\n",
       "      <th>InChI</th>\n",
       "      <th>InChIKey</th>\n",
       "      <th>total_exact_mass</th>\n",
       "      <th>exact_mass</th>\n",
       "      <th>instrument</th>\n",
       "      <th>instrument_type</th>\n",
       "      <th>ms_level</th>\n",
       "      <th>ionization</th>\n",
       "      <th>ionization_mode</th>\n",
       "      <th>spectrum</th>\n",
       "      <th>score</th>\n",
       "    </tr>\n",
       "  </thead>\n",
       "  <tbody>\n",
       "    <tr>\n",
       "      <th>0</th>\n",
       "      <td>biological</td>\n",
       "      <td>2,3,5-Trimethyl-1H-indole, TMS derivative</td>\n",
       "      <td>C14H21NSi</td>\n",
       "      <td>NaN</td>\n",
       "      <td>InChI=1S/C14H21NSi/c1-10-7-8-14-13(9-10)11(2)1...</td>\n",
       "      <td>KHKJMJPOXGEQGW-UHFFFAOYSA-N</td>\n",
       "      <td>231.144326</td>\n",
       "      <td>NaN</td>\n",
       "      <td>NaN</td>\n",
       "      <td>NaN</td>\n",
       "      <td>MS1</td>\n",
       "      <td>NaN</td>\n",
       "      <td>positive</td>\n",
       "      <td>[(15.0, 0.4), (27.0, 5.7), (28.0, 6.8), (29.0,...</td>\n",
       "      <td>3.571429</td>\n",
       "    </tr>\n",
       "    <tr>\n",
       "      <th>1</th>\n",
       "      <td>biological</td>\n",
       "      <td>Ethyl 3-hydroxy-3-methylpentanoate, TMS deriva...</td>\n",
       "      <td>C11H24O3Si</td>\n",
       "      <td>NaN</td>\n",
       "      <td>InChI=1S/C11H24O3Si/c1-7-11(3,14-15(4,5)6)9-10...</td>\n",
       "      <td>FGZVHXCJVPTHKF-UHFFFAOYSA-N</td>\n",
       "      <td>232.149471</td>\n",
       "      <td>NaN</td>\n",
       "      <td>NaN</td>\n",
       "      <td>NaN</td>\n",
       "      <td>MS1</td>\n",
       "      <td>NaN</td>\n",
       "      <td>positive</td>\n",
       "      <td>[(15.0, 5.4), (16.0, 0.2), (27.0, 9.7), (28.0,...</td>\n",
       "      <td>3.571429</td>\n",
       "    </tr>\n",
       "    <tr>\n",
       "      <th>2</th>\n",
       "      <td>biological</td>\n",
       "      <td>L-Valine, TMS derivative</td>\n",
       "      <td>C8H19NO2Si</td>\n",
       "      <td>NaN</td>\n",
       "      <td>InChI=1S/C8H19NO2Si/c1-6(2)7(9)8(10)11-12(3,4)...</td>\n",
       "      <td>IJGIMCZHMYSSHY-ZETCQYMHSA-N</td>\n",
       "      <td>189.118505</td>\n",
       "      <td>NaN</td>\n",
       "      <td>NaN</td>\n",
       "      <td>NaN</td>\n",
       "      <td>MS1</td>\n",
       "      <td>NaN</td>\n",
       "      <td>positive</td>\n",
       "      <td>[(15.0, 4.9), (28.0, 0.1), (42.0, 0.1), (43.0,...</td>\n",
       "      <td>3.571429</td>\n",
       "    </tr>\n",
       "    <tr>\n",
       "      <th>3</th>\n",
       "      <td>biological</td>\n",
       "      <td>Methyl 3-hydroxybutyrate, TMS derivative</td>\n",
       "      <td>C8H18O3Si</td>\n",
       "      <td>NaN</td>\n",
       "      <td>InChI=1S/C8H18O3Si/c1-7(6-8(9)10-2)11-12(3,4)5...</td>\n",
       "      <td>FHDCVPMIQWHEAE-UHFFFAOYSA-N</td>\n",
       "      <td>190.102521</td>\n",
       "      <td>NaN</td>\n",
       "      <td>NaN</td>\n",
       "      <td>NaN</td>\n",
       "      <td>MS1</td>\n",
       "      <td>NaN</td>\n",
       "      <td>positive</td>\n",
       "      <td>[(15.0, 41.0), (16.0, 0.4), (27.0, 4.0), (28.0...</td>\n",
       "      <td>3.571429</td>\n",
       "    </tr>\n",
       "    <tr>\n",
       "      <th>4</th>\n",
       "      <td>biological</td>\n",
       "      <td>1-Butanol, TMS derivative</td>\n",
       "      <td>C7H18OSi</td>\n",
       "      <td>NaN</td>\n",
       "      <td>InChI=1S/C7H18OSi/c1-5-6-7-8-9(2,3)4/h5-7H2,1-4H3</td>\n",
       "      <td>YTJUXOIAXOQWBV-UHFFFAOYSA-N</td>\n",
       "      <td>146.112692</td>\n",
       "      <td>NaN</td>\n",
       "      <td>NaN</td>\n",
       "      <td>NaN</td>\n",
       "      <td>MS1</td>\n",
       "      <td>NaN</td>\n",
       "      <td>positive</td>\n",
       "      <td>[(15.0, 10.8), (16.0, 0.1), (27.0, 7.6), (28.0...</td>\n",
       "      <td>3.571429</td>\n",
       "    </tr>\n",
       "    <tr>\n",
       "      <th>...</th>\n",
       "      <td>...</td>\n",
       "      <td>...</td>\n",
       "      <td>...</td>\n",
       "      <td>...</td>\n",
       "      <td>...</td>\n",
       "      <td>...</td>\n",
       "      <td>...</td>\n",
       "      <td>...</td>\n",
       "      <td>...</td>\n",
       "      <td>...</td>\n",
       "      <td>...</td>\n",
       "      <td>...</td>\n",
       "      <td>...</td>\n",
       "      <td>...</td>\n",
       "      <td>...</td>\n",
       "    </tr>\n",
       "    <tr>\n",
       "      <th>230539</th>\n",
       "      <td>In-Silico</td>\n",
       "      <td>Cer-EODS d61:4</td>\n",
       "      <td>C61H113NO5</td>\n",
       "      <td>NaN</td>\n",
       "      <td>NaN</td>\n",
       "      <td>NaN</td>\n",
       "      <td>939.861876</td>\n",
       "      <td>938.85460</td>\n",
       "      <td>SCIEX 5600</td>\n",
       "      <td>NaN</td>\n",
       "      <td>MS2</td>\n",
       "      <td>NaN</td>\n",
       "      <td>negative</td>\n",
       "      <td>[(267.2693, 5.005005), (321.2799, 100.0), (322...</td>\n",
       "      <td>4.500000</td>\n",
       "    </tr>\n",
       "    <tr>\n",
       "      <th>230540</th>\n",
       "      <td>In-Silico</td>\n",
       "      <td>Cer-EODS d61:3</td>\n",
       "      <td>C61H115NO5</td>\n",
       "      <td>NaN</td>\n",
       "      <td>NaN</td>\n",
       "      <td>NaN</td>\n",
       "      <td>941.877526</td>\n",
       "      <td>940.87025</td>\n",
       "      <td>SCIEX 5600</td>\n",
       "      <td>NaN</td>\n",
       "      <td>MS2</td>\n",
       "      <td>NaN</td>\n",
       "      <td>negative</td>\n",
       "      <td>[(267.2693, 5.005005), (321.2799, 100.0), (324...</td>\n",
       "      <td>4.500000</td>\n",
       "    </tr>\n",
       "    <tr>\n",
       "      <th>230541</th>\n",
       "      <td>In-Silico</td>\n",
       "      <td>Cer-EODS d61:2</td>\n",
       "      <td>C61H117NO5</td>\n",
       "      <td>NaN</td>\n",
       "      <td>NaN</td>\n",
       "      <td>NaN</td>\n",
       "      <td>943.893176</td>\n",
       "      <td>942.88590</td>\n",
       "      <td>SCIEX 5600</td>\n",
       "      <td>NaN</td>\n",
       "      <td>MS2</td>\n",
       "      <td>NaN</td>\n",
       "      <td>negative</td>\n",
       "      <td>[(267.2693, 5.005005), (321.2799, 100.0), (326...</td>\n",
       "      <td>4.500000</td>\n",
       "    </tr>\n",
       "    <tr>\n",
       "      <th>230542</th>\n",
       "      <td>In-Silico</td>\n",
       "      <td>Cer-EODS d60:3</td>\n",
       "      <td>C60H113NO5</td>\n",
       "      <td>NaN</td>\n",
       "      <td>NaN</td>\n",
       "      <td>NaN</td>\n",
       "      <td>927.861876</td>\n",
       "      <td>926.85460</td>\n",
       "      <td>SCIEX 5600</td>\n",
       "      <td>NaN</td>\n",
       "      <td>MS2</td>\n",
       "      <td>NaN</td>\n",
       "      <td>negative</td>\n",
       "      <td>[(267.2693, 5.005005), (310.2751, 5.005005), (...</td>\n",
       "      <td>4.500000</td>\n",
       "    </tr>\n",
       "    <tr>\n",
       "      <th>230543</th>\n",
       "      <td>In-Silico</td>\n",
       "      <td>Cer-EODS d60:2</td>\n",
       "      <td>C60H115NO5</td>\n",
       "      <td>NaN</td>\n",
       "      <td>NaN</td>\n",
       "      <td>NaN</td>\n",
       "      <td>929.877526</td>\n",
       "      <td>928.87025</td>\n",
       "      <td>SCIEX 5600</td>\n",
       "      <td>NaN</td>\n",
       "      <td>MS2</td>\n",
       "      <td>NaN</td>\n",
       "      <td>negative</td>\n",
       "      <td>[(267.2693, 5.005005), (312.2908, 5.005005), (...</td>\n",
       "      <td>4.500000</td>\n",
       "    </tr>\n",
       "  </tbody>\n",
       "</table>\n",
       "<p>230544 rows × 15 columns</p>\n",
       "</div>"
      ],
      "text/plain": [
       "              kind                                               name  \\\n",
       "0       biological          2,3,5-Trimethyl-1H-indole, TMS derivative   \n",
       "1       biological  Ethyl 3-hydroxy-3-methylpentanoate, TMS deriva...   \n",
       "2       biological                           L-Valine, TMS derivative   \n",
       "3       biological           Methyl 3-hydroxybutyrate, TMS derivative   \n",
       "4       biological                          1-Butanol, TMS derivative   \n",
       "...            ...                                                ...   \n",
       "230539   In-Silico                                     Cer-EODS d61:4   \n",
       "230540   In-Silico                                     Cer-EODS d61:3   \n",
       "230541   In-Silico                                     Cer-EODS d61:2   \n",
       "230542   In-Silico                                     Cer-EODS d60:3   \n",
       "230543   In-Silico                                     Cer-EODS d60:2   \n",
       "\n",
       "       molecular_formula  pubchem_cid  \\\n",
       "0              C14H21NSi          NaN   \n",
       "1             C11H24O3Si          NaN   \n",
       "2             C8H19NO2Si          NaN   \n",
       "3              C8H18O3Si          NaN   \n",
       "4               C7H18OSi          NaN   \n",
       "...                  ...          ...   \n",
       "230539        C61H113NO5          NaN   \n",
       "230540        C61H115NO5          NaN   \n",
       "230541        C61H117NO5          NaN   \n",
       "230542        C60H113NO5          NaN   \n",
       "230543        C60H115NO5          NaN   \n",
       "\n",
       "                                                    InChI  \\\n",
       "0       InChI=1S/C14H21NSi/c1-10-7-8-14-13(9-10)11(2)1...   \n",
       "1       InChI=1S/C11H24O3Si/c1-7-11(3,14-15(4,5)6)9-10...   \n",
       "2       InChI=1S/C8H19NO2Si/c1-6(2)7(9)8(10)11-12(3,4)...   \n",
       "3       InChI=1S/C8H18O3Si/c1-7(6-8(9)10-2)11-12(3,4)5...   \n",
       "4       InChI=1S/C7H18OSi/c1-5-6-7-8-9(2,3)4/h5-7H2,1-4H3   \n",
       "...                                                   ...   \n",
       "230539                                                NaN   \n",
       "230540                                                NaN   \n",
       "230541                                                NaN   \n",
       "230542                                                NaN   \n",
       "230543                                                NaN   \n",
       "\n",
       "                           InChIKey  total_exact_mass  exact_mass  instrument  \\\n",
       "0       KHKJMJPOXGEQGW-UHFFFAOYSA-N        231.144326         NaN         NaN   \n",
       "1       FGZVHXCJVPTHKF-UHFFFAOYSA-N        232.149471         NaN         NaN   \n",
       "2       IJGIMCZHMYSSHY-ZETCQYMHSA-N        189.118505         NaN         NaN   \n",
       "3       FHDCVPMIQWHEAE-UHFFFAOYSA-N        190.102521         NaN         NaN   \n",
       "4       YTJUXOIAXOQWBV-UHFFFAOYSA-N        146.112692         NaN         NaN   \n",
       "...                             ...               ...         ...         ...   \n",
       "230539                          NaN        939.861876   938.85460  SCIEX 5600   \n",
       "230540                          NaN        941.877526   940.87025  SCIEX 5600   \n",
       "230541                          NaN        943.893176   942.88590  SCIEX 5600   \n",
       "230542                          NaN        927.861876   926.85460  SCIEX 5600   \n",
       "230543                          NaN        929.877526   928.87025  SCIEX 5600   \n",
       "\n",
       "        instrument_type ms_level  ionization ionization_mode  \\\n",
       "0                   NaN      MS1         NaN        positive   \n",
       "1                   NaN      MS1         NaN        positive   \n",
       "2                   NaN      MS1         NaN        positive   \n",
       "3                   NaN      MS1         NaN        positive   \n",
       "4                   NaN      MS1         NaN        positive   \n",
       "...                 ...      ...         ...             ...   \n",
       "230539              NaN      MS2         NaN        negative   \n",
       "230540              NaN      MS2         NaN        negative   \n",
       "230541              NaN      MS2         NaN        negative   \n",
       "230542              NaN      MS2         NaN        negative   \n",
       "230543              NaN      MS2         NaN        negative   \n",
       "\n",
       "                                                 spectrum     score  \n",
       "0       [(15.0, 0.4), (27.0, 5.7), (28.0, 6.8), (29.0,...  3.571429  \n",
       "1       [(15.0, 5.4), (16.0, 0.2), (27.0, 9.7), (28.0,...  3.571429  \n",
       "2       [(15.0, 4.9), (28.0, 0.1), (42.0, 0.1), (43.0,...  3.571429  \n",
       "3       [(15.0, 41.0), (16.0, 0.4), (27.0, 4.0), (28.0...  3.571429  \n",
       "4       [(15.0, 10.8), (16.0, 0.1), (27.0, 7.6), (28.0...  3.571429  \n",
       "...                                                   ...       ...  \n",
       "230539  [(267.2693, 5.005005), (321.2799, 100.0), (322...  4.500000  \n",
       "230540  [(267.2693, 5.005005), (321.2799, 100.0), (324...  4.500000  \n",
       "230541  [(267.2693, 5.005005), (321.2799, 100.0), (326...  4.500000  \n",
       "230542  [(267.2693, 5.005005), (310.2751, 5.005005), (...  4.500000  \n",
       "230543  [(267.2693, 5.005005), (312.2908, 5.005005), (...  4.500000  \n",
       "\n",
       "[230544 rows x 15 columns]"
      ]
     },
     "execution_count": 5,
     "metadata": {},
     "output_type": "execute_result"
    }
   ],
   "source": [
    "pd.read_csv(csv_pth)"
   ]
  },
  {
   "cell_type": "code",
   "execution_count": 20,
   "metadata": {},
   "outputs": [
    {
     "name": "stdout",
     "output_type": "stream",
     "text": [
      "'2,230545p;230546q'\n",
      "'230546,461089p;461090q'\n",
      "'461090,691633p;691634q'\n",
      "'691634,922177p;922178q'\n",
      "'922178,1152721p;1152722q'\n",
      "'1152722,1383265p;1383266q'\n",
      "'1383266,1613809p;1613810q'\n",
      "'1613810,1844353p;1844354q'\n"
     ]
    }
   ],
   "source": [
    "interval = np.linspace(2, 1844354, 9, dtype=int)\n",
    "for i in range(len(interval)-1):\n",
    "    json_part = \"MoNA-export-In-Silico_Spectra_pt\"+str(i)+\".json\"\n",
    "    search = (\"'\"+str(interval[i])+\",\"+str(interval[i+1]-1)+\"p;\"+str(interval[i+1])+\"q'\")\n",
    "    print(search)\n",
    "    \n",
    "    '''\n",
    "    subprocess.run([\"echo\", \"[\", \">>\", json_pth+json_part])\n",
    "    print(1)\n",
    "    subprocess.run([\"sed\", \"-n\", search, json_pth+json_name, \">>\", json_pth+json_part]) \n",
    "    print(2)\n",
    "    subprocess.run([\"echo\", \"]\", \">>\", json_pth+json_part])\n",
    "    print(3)\n",
    "    '''"
   ]
  },
  {
   "cell_type": "code",
   "execution_count": 4,
   "metadata": {},
   "outputs": [],
   "source": [
    "line = json.loads(read_line(json_pth, 5))"
   ]
  },
  {
   "cell_type": "code",
   "execution_count": 9,
   "metadata": {},
   "outputs": [
    {
     "data": {
      "text/plain": [
       "{'kind': 'biological',\n",
       " 'tags': [],\n",
       " 'inchi': 'InChI=1S/C8H18O3Si/c1-7(6-8(9)10-2)11-12(3,4)5/h7H,6H2,1-5H3',\n",
       " 'names': [{'computed': False,\n",
       "   'name': 'Methyl 3-hydroxybutyrate, TMS derivative',\n",
       "   'score': 0.0},\n",
       "  {'computed': False,\n",
       "   'name': 'Butanoic acid, 3-[(trimethylsilyl)oxy]-, methyl ester',\n",
       "   'score': 0.0},\n",
       "  {'computed': False,\n",
       "   'name': 'Methyl 3-[(trimethylsilyl)oxy]butanoate  #',\n",
       "   'score': 0.0}],\n",
       " 'molFile': '\\n  CDK     01292305092D\\n\\n 12 11  0  0  0  0  0  0  0  0999 V2000\\n   -3.0099    2.7623    0.0000 C   0  0  0  0  0  0  0  0  0  0  0  0\\n    2.1863    4.2623    0.0000 C   0  0  0  0  0  0  0  0  0  0  0  0\\n   -6.3579    5.5613    0.0000 C   0  0  0  0  0  0  0  0  0  0  0  0\\n   -6.9070    3.5123    0.0000 C   0  0  0  0  0  0  0  0  0  0  0  0\\n   -4.8579    2.9632    0.0000 C   0  0  0  0  0  0  0  0  0  0  0  0\\n   -1.7108    5.0123    0.0000 C   0  0  0  0  0  0  0  0  0  0  0  0\\n   -3.0099    4.2623    0.0000 C   0  0  0  0  0  0  0  0  0  0  0  0\\n   -0.4118    4.2623    0.0000 C   0  0  0  0  0  0  0  0  0  0  0  0\\n   -0.4118    2.7623    0.0000 O   0  0  0  0  0  0  0  0  0  0  0  0\\n    0.8873    5.0123    0.0000 O   0  0  0  0  0  0  0  0  0  0  0  0\\n   -4.3089    5.0123    0.0000 O   0  0  0  0  0  0  0  0  0  0  0  0\\n   -5.6079    4.2623    0.0000 Si  0  0  0  0  0  0  0  0  0  0  0  0\\n  7  1  1  0  0  0  0\\n  7  6  1  0  0  0  0\\n  8  6  1  0  0  0  0\\n  9  8  2  0  0  0  0\\n 10  2  1  0  0  0  0\\n 10  8  1  0  0  0  0\\n 11  7  1  0  0  0  0\\n 12  3  1  0  0  0  0\\n 12  4  1  0  0  0  0\\n 12  5  1  0  0  0  0\\n 12 11  1  0  0  0  0\\nM  END\\n',\n",
       " 'computed': False,\n",
       " 'inchiKey': 'FHDCVPMIQWHEAE-UHFFFAOYSA-N',\n",
       " 'metaData': [{'name': 'InChI',\n",
       "   'value': 'InChI=1S/C8H18O3Si/c1-7(6-8(9)10-2)11-12(3,4)5/h7H,6H2,1-5H3',\n",
       "   'hidden': False,\n",
       "   'category': 'none',\n",
       "   'computed': False},\n",
       "  {'name': 'InChIKey',\n",
       "   'value': 'FHDCVPMIQWHEAE-UHFFFAOYSA-N',\n",
       "   'hidden': False,\n",
       "   'category': 'none',\n",
       "   'computed': False},\n",
       "  {'name': 'molecular formula',\n",
       "   'value': 'C8H18O3Si',\n",
       "   'hidden': False,\n",
       "   'category': 'computed',\n",
       "   'computed': True},\n",
       "  {'name': 'total exact mass',\n",
       "   'value': '190.102520966',\n",
       "   'hidden': False,\n",
       "   'category': 'computed',\n",
       "   'computed': True},\n",
       "  {'name': 'SMILES',\n",
       "   'value': 'O=C(OC)CC(O[Si](C)(C)C)C',\n",
       "   'hidden': False,\n",
       "   'category': 'computed',\n",
       "   'computed': True},\n",
       "  {'name': '[2M+H-H2O]+',\n",
       "   'value': '363.197671932',\n",
       "   'hidden': True,\n",
       "   'category': 'theoretical adduct',\n",
       "   'computed': True},\n",
       "  {'name': '[2M+K]+',\n",
       "   'value': '419.30334193199997',\n",
       "   'hidden': True,\n",
       "   'category': 'theoretical adduct',\n",
       "   'computed': True},\n",
       "  {'name': '[M+H]+',\n",
       "   'value': '191.110490966',\n",
       "   'hidden': True,\n",
       "   'category': 'theoretical adduct',\n",
       "   'computed': True},\n",
       "  {'name': '[2M+Na]+',\n",
       "   'value': '403.194811932',\n",
       "   'hidden': True,\n",
       "   'category': 'theoretical adduct',\n",
       "   'computed': True},\n",
       "  {'name': '[2M+Cl]-',\n",
       "   'value': '415.65804193199995',\n",
       "   'hidden': True,\n",
       "   'category': 'theoretical adduct',\n",
       "   'computed': True},\n",
       "  {'name': '[2M+HAc-H]-',\n",
       "   'value': '439.249071932',\n",
       "   'hidden': True,\n",
       "   'category': 'theoretical adduct',\n",
       "   'computed': True},\n",
       "  {'name': '[M-H20-H]-',\n",
       "   'value': '171.08413096599998',\n",
       "   'hidden': True,\n",
       "   'category': 'theoretical adduct',\n",
       "   'computed': True},\n",
       "  {'name': '[M-H]-',\n",
       "   'value': '189.095244966',\n",
       "   'hidden': True,\n",
       "   'category': 'theoretical adduct',\n",
       "   'computed': True},\n",
       "  {'name': '[2M-H]-',\n",
       "   'value': '379.197765932',\n",
       "   'hidden': True,\n",
       "   'category': 'theoretical adduct',\n",
       "   'computed': True},\n",
       "  {'name': '[M+Na]+',\n",
       "   'value': '213.09229096599998',\n",
       "   'hidden': True,\n",
       "   'category': 'theoretical adduct',\n",
       "   'computed': True},\n",
       "  {'name': '[M+H-H2O]+',\n",
       "   'value': '173.09515096599998',\n",
       "   'hidden': True,\n",
       "   'category': 'theoretical adduct',\n",
       "   'computed': True},\n",
       "  {'name': '[2M+NH4]+',\n",
       "   'value': '398.243621932',\n",
       "   'hidden': True,\n",
       "   'category': 'theoretical adduct',\n",
       "   'computed': True},\n",
       "  {'name': '[M+Cl]-',\n",
       "   'value': '225.555520966',\n",
       "   'hidden': True,\n",
       "   'category': 'theoretical adduct',\n",
       "   'computed': True},\n",
       "  {'name': '[M+NH4]+',\n",
       "   'value': '208.14110096599998',\n",
       "   'hidden': True,\n",
       "   'category': 'theoretical adduct',\n",
       "   'computed': True},\n",
       "  {'name': '[M+K]+',\n",
       "   'value': '229.20082096599998',\n",
       "   'hidden': True,\n",
       "   'category': 'theoretical adduct',\n",
       "   'computed': True},\n",
       "  {'name': '[2M+H]+',\n",
       "   'value': '381.213011932',\n",
       "   'hidden': True,\n",
       "   'category': 'theoretical adduct',\n",
       "   'computed': True},\n",
       "  {'name': '[M+HAc-H]-',\n",
       "   'value': '249.14655096599998',\n",
       "   'hidden': True,\n",
       "   'category': 'theoretical adduct',\n",
       "   'computed': True}],\n",
       " 'classification': [{'name': 'kingdom',\n",
       "   'value': 'Organic compounds',\n",
       "   'hidden': False,\n",
       "   'category': 'classification',\n",
       "   'computed': True},\n",
       "  {'name': 'superclass',\n",
       "   'value': 'Lipids and lipid-like molecules',\n",
       "   'hidden': False,\n",
       "   'category': 'classification',\n",
       "   'computed': True},\n",
       "  {'name': 'class',\n",
       "   'value': 'Fatty Acyls',\n",
       "   'hidden': False,\n",
       "   'category': 'classification',\n",
       "   'computed': True},\n",
       "  {'name': 'subclass',\n",
       "   'value': 'Fatty acid esters',\n",
       "   'hidden': False,\n",
       "   'category': 'classification',\n",
       "   'computed': True},\n",
       "  {'name': 'direct parent',\n",
       "   'value': 'Fatty acid methyl esters',\n",
       "   'hidden': False,\n",
       "   'category': 'classification',\n",
       "   'computed': True},\n",
       "  {'name': 'alternative parent',\n",
       "   'value': 'Trialkylheterosilanes',\n",
       "   'hidden': False,\n",
       "   'category': 'classification',\n",
       "   'computed': True},\n",
       "  {'name': 'alternative parent',\n",
       "   'value': 'Methyl esters',\n",
       "   'hidden': False,\n",
       "   'category': 'classification',\n",
       "   'computed': True},\n",
       "  {'name': 'alternative parent',\n",
       "   'value': 'Silyl ethers',\n",
       "   'hidden': False,\n",
       "   'category': 'classification',\n",
       "   'computed': True},\n",
       "  {'name': 'alternative parent',\n",
       "   'value': 'Organic metalloid salts',\n",
       "   'hidden': False,\n",
       "   'category': 'classification',\n",
       "   'computed': True},\n",
       "  {'name': 'alternative parent',\n",
       "   'value': 'Monocarboxylic acids and derivatives',\n",
       "   'hidden': False,\n",
       "   'category': 'classification',\n",
       "   'computed': True},\n",
       "  {'name': 'alternative parent',\n",
       "   'value': 'Organic oxides',\n",
       "   'hidden': False,\n",
       "   'category': 'classification',\n",
       "   'computed': True},\n",
       "  {'name': 'alternative parent',\n",
       "   'value': 'Hydrocarbon derivatives',\n",
       "   'hidden': False,\n",
       "   'category': 'classification',\n",
       "   'computed': True},\n",
       "  {'name': 'alternative parent',\n",
       "   'value': 'Carbonyl compounds',\n",
       "   'hidden': False,\n",
       "   'category': 'classification',\n",
       "   'computed': True}]}"
      ]
     },
     "execution_count": 9,
     "metadata": {},
     "output_type": "execute_result"
    }
   ],
   "source": [
    "line['compound'][0]"
   ]
  },
  {
   "cell_type": "code",
   "execution_count": 3,
   "metadata": {},
   "outputs": [
    {
     "name": "stdout",
     "output_type": "stream",
     "text": [
      "Lines in file: 5\n",
      "Total items processed: 3\n"
     ]
    }
   ],
   "source": [
    "process_json_file(file_path=json_pth, output_csv=csv_pth, total_lines=5)"
   ]
  },
  {
   "cell_type": "code",
   "execution_count": 16,
   "metadata": {},
   "outputs": [],
   "source": [
    "#df = pd.read_csv('data/MoNA/experimental.csv')\n",
    "df = pd.read_json('data/MoNA/MoNA-export-Experimental_Spectra-json/MoNA-export-Experimental_Spectra.json')"
   ]
  },
  {
   "cell_type": "code",
   "execution_count": 15,
   "metadata": {},
   "outputs": [
    {
     "data": {
      "text/html": [
       "<div>\n",
       "<style scoped>\n",
       "    .dataframe tbody tr th:only-of-type {\n",
       "        vertical-align: middle;\n",
       "    }\n",
       "\n",
       "    .dataframe tbody tr th {\n",
       "        vertical-align: top;\n",
       "    }\n",
       "\n",
       "    .dataframe thead th {\n",
       "        text-align: right;\n",
       "    }\n",
       "</style>\n",
       "<table border=\"1\" class=\"dataframe\">\n",
       "  <thead>\n",
       "    <tr style=\"text-align: right;\">\n",
       "      <th></th>\n",
       "      <th>kind</th>\n",
       "      <th>name</th>\n",
       "      <th>molecular_formula</th>\n",
       "      <th>pubchem_cid</th>\n",
       "      <th>InChI</th>\n",
       "      <th>InChIKey</th>\n",
       "      <th>total_exact_mass</th>\n",
       "      <th>exact_mass</th>\n",
       "      <th>instrument</th>\n",
       "      <th>instrument_type</th>\n",
       "      <th>ms_level</th>\n",
       "      <th>ionization</th>\n",
       "      <th>ionization_mode</th>\n",
       "      <th>spectrum</th>\n",
       "      <th>score</th>\n",
       "    </tr>\n",
       "  </thead>\n",
       "  <tbody>\n",
       "    <tr>\n",
       "      <th>0</th>\n",
       "      <td>biological</td>\n",
       "      <td>Cefuroxime</td>\n",
       "      <td>C16H16N4O8S</td>\n",
       "      <td>5479529</td>\n",
       "      <td>InChI=1S/C16H16N4O8S/c1-26-19-9(8-3-2-4-27-8)1...</td>\n",
       "      <td>JFPVXVDWJQMJEE-IZRZKJBUSA-N</td>\n",
       "      <td>424.068884</td>\n",
       "      <td>NaN</td>\n",
       "      <td>ZQ, Waters</td>\n",
       "      <td>NaN</td>\n",
       "      <td>MS1</td>\n",
       "      <td>ESI</td>\n",
       "      <td>negative</td>\n",
       "      <td>[(100.0, 3.103103), (101.0, 1.201201), (102.0,...</td>\n",
       "      <td>4.444444</td>\n",
       "    </tr>\n",
       "    <tr>\n",
       "      <th>1</th>\n",
       "      <td>biological</td>\n",
       "      <td>Cefuroxime</td>\n",
       "      <td>C16H16N4O8S</td>\n",
       "      <td>5479529</td>\n",
       "      <td>InChI=1S/C16H16N4O8S/c1-26-19-9(8-3-2-4-27-8)1...</td>\n",
       "      <td>JFPVXVDWJQMJEE-IZRZKJBUSA-N</td>\n",
       "      <td>424.068884</td>\n",
       "      <td>NaN</td>\n",
       "      <td>ZQ, Waters</td>\n",
       "      <td>NaN</td>\n",
       "      <td>MS1</td>\n",
       "      <td>ESI</td>\n",
       "      <td>negative</td>\n",
       "      <td>[(100.0, 0.800801), (104.0, 0.800801), (105.0,...</td>\n",
       "      <td>4.444444</td>\n",
       "    </tr>\n",
       "    <tr>\n",
       "      <th>2</th>\n",
       "      <td>biological</td>\n",
       "      <td>Cefuroxime</td>\n",
       "      <td>C16H16N4O8S</td>\n",
       "      <td>5479529</td>\n",
       "      <td>InChI=1S/C16H16N4O8S/c1-26-19-9(8-3-2-4-27-8)1...</td>\n",
       "      <td>JFPVXVDWJQMJEE-IZRZKJBUSA-N</td>\n",
       "      <td>424.068884</td>\n",
       "      <td>NaN</td>\n",
       "      <td>ZQ, Waters</td>\n",
       "      <td>NaN</td>\n",
       "      <td>MS1</td>\n",
       "      <td>ESI</td>\n",
       "      <td>negative</td>\n",
       "      <td>[(104.0, 0.800801), (109.0, 1.201201), (110.0,...</td>\n",
       "      <td>4.444444</td>\n",
       "    </tr>\n",
       "    <tr>\n",
       "      <th>3</th>\n",
       "      <td>biological</td>\n",
       "      <td>Cefuroxime</td>\n",
       "      <td>C16H16N4O8S</td>\n",
       "      <td>5479529</td>\n",
       "      <td>InChI=1S/C16H16N4O8S/c1-26-19-9(8-3-2-4-27-8)1...</td>\n",
       "      <td>JFPVXVDWJQMJEE-IZRZKJBUSA-N</td>\n",
       "      <td>424.068884</td>\n",
       "      <td>NaN</td>\n",
       "      <td>ZQ, Waters</td>\n",
       "      <td>NaN</td>\n",
       "      <td>MS1</td>\n",
       "      <td>ESI</td>\n",
       "      <td>negative</td>\n",
       "      <td>[(168.0, 1.201201), (207.0, 4.304304), (208.0,...</td>\n",
       "      <td>4.444444</td>\n",
       "    </tr>\n",
       "    <tr>\n",
       "      <th>4</th>\n",
       "      <td>biological</td>\n",
       "      <td>Cefuroxime</td>\n",
       "      <td>C16H16N4O8S</td>\n",
       "      <td>5479529</td>\n",
       "      <td>InChI=1S/C16H16N4O8S/c1-26-19-9(8-3-2-4-27-8)1...</td>\n",
       "      <td>JFPVXVDWJQMJEE-IZRZKJBUSA-N</td>\n",
       "      <td>424.068884</td>\n",
       "      <td>NaN</td>\n",
       "      <td>ZQ, Waters</td>\n",
       "      <td>NaN</td>\n",
       "      <td>MS1</td>\n",
       "      <td>ESI</td>\n",
       "      <td>positive</td>\n",
       "      <td>[(100.0, 2.002002), (101.0, 4.704705), (103.0,...</td>\n",
       "      <td>4.444444</td>\n",
       "    </tr>\n",
       "    <tr>\n",
       "      <th>...</th>\n",
       "      <td>...</td>\n",
       "      <td>...</td>\n",
       "      <td>...</td>\n",
       "      <td>...</td>\n",
       "      <td>...</td>\n",
       "      <td>...</td>\n",
       "      <td>...</td>\n",
       "      <td>...</td>\n",
       "      <td>...</td>\n",
       "      <td>...</td>\n",
       "      <td>...</td>\n",
       "      <td>...</td>\n",
       "      <td>...</td>\n",
       "      <td>...</td>\n",
       "      <td>...</td>\n",
       "    </tr>\n",
       "    <tr>\n",
       "      <th>235446</th>\n",
       "      <td>biological</td>\n",
       "      <td>Tyr-His</td>\n",
       "      <td>NaN</td>\n",
       "      <td>NaN</td>\n",
       "      <td>NaN</td>\n",
       "      <td>ZQOOYCZQENFIMC-STQMWFEESA-N</td>\n",
       "      <td>NaN</td>\n",
       "      <td>NaN</td>\n",
       "      <td>NaN</td>\n",
       "      <td>NaN</td>\n",
       "      <td>NaN</td>\n",
       "      <td>NaN</td>\n",
       "      <td>NaN</td>\n",
       "      <td>[(93.04726685010395, 0.044603), (107.045901850...</td>\n",
       "      <td>NaN</td>\n",
       "    </tr>\n",
       "    <tr>\n",
       "      <th>235447</th>\n",
       "      <td>biological</td>\n",
       "      <td>Ala-Ile</td>\n",
       "      <td>C9H18N2O3</td>\n",
       "      <td>NaN</td>\n",
       "      <td>NaN</td>\n",
       "      <td>ZSOICJZJSRWNHX-ACZMJKKPSA-N</td>\n",
       "      <td>202.131742</td>\n",
       "      <td>201.124466</td>\n",
       "      <td>NaN</td>\n",
       "      <td>NaN</td>\n",
       "      <td>MS2</td>\n",
       "      <td>NaN</td>\n",
       "      <td>negative</td>\n",
       "      <td>[(40.01807158611198, 0.270492), (41.9960335861...</td>\n",
       "      <td>3.500000</td>\n",
       "    </tr>\n",
       "    <tr>\n",
       "      <th>235448</th>\n",
       "      <td>biological</td>\n",
       "      <td>Tyr-Ser</td>\n",
       "      <td>NaN</td>\n",
       "      <td>NaN</td>\n",
       "      <td>NaN</td>\n",
       "      <td>ZSXJENBJGRHKIG-UHFFFAOYSA-N</td>\n",
       "      <td>NaN</td>\n",
       "      <td>NaN</td>\n",
       "      <td>NaN</td>\n",
       "      <td>NaN</td>\n",
       "      <td>NaN</td>\n",
       "      <td>NaN</td>\n",
       "      <td>NaN</td>\n",
       "      <td>[(76.97261188610099, 0.03235313), (93.04213088...</td>\n",
       "      <td>NaN</td>\n",
       "    </tr>\n",
       "    <tr>\n",
       "      <th>235449</th>\n",
       "      <td>biological</td>\n",
       "      <td>Tyr-Ser</td>\n",
       "      <td>NaN</td>\n",
       "      <td>NaN</td>\n",
       "      <td>NaN</td>\n",
       "      <td>ZSXJENBJGRHKIG-UHFFFAOYSA-N</td>\n",
       "      <td>NaN</td>\n",
       "      <td>NaN</td>\n",
       "      <td>NaN</td>\n",
       "      <td>NaN</td>\n",
       "      <td>NaN</td>\n",
       "      <td>NaN</td>\n",
       "      <td>NaN</td>\n",
       "      <td>[(41.00518492026108, 0.02885107), (97.04421992...</td>\n",
       "      <td>NaN</td>\n",
       "    </tr>\n",
       "    <tr>\n",
       "      <th>235450</th>\n",
       "      <td>biological</td>\n",
       "      <td>Asp-Leu</td>\n",
       "      <td>C10H18N2O5</td>\n",
       "      <td>NaN</td>\n",
       "      <td>NaN</td>\n",
       "      <td>ZVDPYSVOZFINEE-BQBZGAKWSA-N</td>\n",
       "      <td>246.121572</td>\n",
       "      <td>245.114295</td>\n",
       "      <td>NaN</td>\n",
       "      <td>NaN</td>\n",
       "      <td>MS2</td>\n",
       "      <td>NaN</td>\n",
       "      <td>negative</td>\n",
       "      <td>[(42.008639843210766, 0.08823507), (55.0201258...</td>\n",
       "      <td>3.500000</td>\n",
       "    </tr>\n",
       "  </tbody>\n",
       "</table>\n",
       "<p>235451 rows × 15 columns</p>\n",
       "</div>"
      ],
      "text/plain": [
       "              kind        name molecular_formula pubchem_cid  \\\n",
       "0       biological  Cefuroxime       C16H16N4O8S     5479529   \n",
       "1       biological  Cefuroxime       C16H16N4O8S     5479529   \n",
       "2       biological  Cefuroxime       C16H16N4O8S     5479529   \n",
       "3       biological  Cefuroxime       C16H16N4O8S     5479529   \n",
       "4       biological  Cefuroxime       C16H16N4O8S     5479529   \n",
       "...            ...         ...               ...         ...   \n",
       "235446  biological     Tyr-His               NaN         NaN   \n",
       "235447  biological     Ala-Ile         C9H18N2O3         NaN   \n",
       "235448  biological     Tyr-Ser               NaN         NaN   \n",
       "235449  biological     Tyr-Ser               NaN         NaN   \n",
       "235450  biological     Asp-Leu        C10H18N2O5         NaN   \n",
       "\n",
       "                                                    InChI  \\\n",
       "0       InChI=1S/C16H16N4O8S/c1-26-19-9(8-3-2-4-27-8)1...   \n",
       "1       InChI=1S/C16H16N4O8S/c1-26-19-9(8-3-2-4-27-8)1...   \n",
       "2       InChI=1S/C16H16N4O8S/c1-26-19-9(8-3-2-4-27-8)1...   \n",
       "3       InChI=1S/C16H16N4O8S/c1-26-19-9(8-3-2-4-27-8)1...   \n",
       "4       InChI=1S/C16H16N4O8S/c1-26-19-9(8-3-2-4-27-8)1...   \n",
       "...                                                   ...   \n",
       "235446                                                NaN   \n",
       "235447                                                NaN   \n",
       "235448                                                NaN   \n",
       "235449                                                NaN   \n",
       "235450                                                NaN   \n",
       "\n",
       "                           InChIKey  total_exact_mass  exact_mass  instrument  \\\n",
       "0       JFPVXVDWJQMJEE-IZRZKJBUSA-N        424.068884         NaN  ZQ, Waters   \n",
       "1       JFPVXVDWJQMJEE-IZRZKJBUSA-N        424.068884         NaN  ZQ, Waters   \n",
       "2       JFPVXVDWJQMJEE-IZRZKJBUSA-N        424.068884         NaN  ZQ, Waters   \n",
       "3       JFPVXVDWJQMJEE-IZRZKJBUSA-N        424.068884         NaN  ZQ, Waters   \n",
       "4       JFPVXVDWJQMJEE-IZRZKJBUSA-N        424.068884         NaN  ZQ, Waters   \n",
       "...                             ...               ...         ...         ...   \n",
       "235446  ZQOOYCZQENFIMC-STQMWFEESA-N               NaN         NaN         NaN   \n",
       "235447  ZSOICJZJSRWNHX-ACZMJKKPSA-N        202.131742  201.124466         NaN   \n",
       "235448  ZSXJENBJGRHKIG-UHFFFAOYSA-N               NaN         NaN         NaN   \n",
       "235449  ZSXJENBJGRHKIG-UHFFFAOYSA-N               NaN         NaN         NaN   \n",
       "235450  ZVDPYSVOZFINEE-BQBZGAKWSA-N        246.121572  245.114295         NaN   \n",
       "\n",
       "       instrument_type ms_level ionization ionization_mode  \\\n",
       "0                  NaN      MS1        ESI        negative   \n",
       "1                  NaN      MS1        ESI        negative   \n",
       "2                  NaN      MS1        ESI        negative   \n",
       "3                  NaN      MS1        ESI        negative   \n",
       "4                  NaN      MS1        ESI        positive   \n",
       "...                ...      ...        ...             ...   \n",
       "235446             NaN      NaN        NaN             NaN   \n",
       "235447             NaN      MS2        NaN        negative   \n",
       "235448             NaN      NaN        NaN             NaN   \n",
       "235449             NaN      NaN        NaN             NaN   \n",
       "235450             NaN      MS2        NaN        negative   \n",
       "\n",
       "                                                 spectrum     score  \n",
       "0       [(100.0, 3.103103), (101.0, 1.201201), (102.0,...  4.444444  \n",
       "1       [(100.0, 0.800801), (104.0, 0.800801), (105.0,...  4.444444  \n",
       "2       [(104.0, 0.800801), (109.0, 1.201201), (110.0,...  4.444444  \n",
       "3       [(168.0, 1.201201), (207.0, 4.304304), (208.0,...  4.444444  \n",
       "4       [(100.0, 2.002002), (101.0, 4.704705), (103.0,...  4.444444  \n",
       "...                                                   ...       ...  \n",
       "235446  [(93.04726685010395, 0.044603), (107.045901850...       NaN  \n",
       "235447  [(40.01807158611198, 0.270492), (41.9960335861...  3.500000  \n",
       "235448  [(76.97261188610099, 0.03235313), (93.04213088...       NaN  \n",
       "235449  [(41.00518492026108, 0.02885107), (97.04421992...       NaN  \n",
       "235450  [(42.008639843210766, 0.08823507), (55.0201258...  3.500000  \n",
       "\n",
       "[235451 rows x 15 columns]"
      ]
     },
     "execution_count": 15,
     "metadata": {},
     "output_type": "execute_result"
    }
   ],
   "source": [
    "df"
   ]
  },
  {
   "cell_type": "code",
   "execution_count": 11,
   "metadata": {},
   "outputs": [
    {
     "data": {
      "text/plain": [
       "(235451, 15)"
      ]
     },
     "execution_count": 11,
     "metadata": {},
     "output_type": "execute_result"
    }
   ],
   "source": [
    "df.shape"
   ]
  },
  {
   "cell_type": "code",
   "execution_count": null,
   "metadata": {},
   "outputs": [
    {
     "data": {
      "text/plain": [
       "(222255, 15)"
      ]
     },
     "execution_count": 9,
     "metadata": {},
     "output_type": "execute_result"
    }
   ],
   "source": [
    "df[df.score >= 1].shape"
   ]
  },
  {
   "cell_type": "code",
   "execution_count": 5,
   "metadata": {},
   "outputs": [
    {
     "data": {
      "text/plain": [
       "235451"
      ]
     },
     "execution_count": 5,
     "metadata": {},
     "output_type": "execute_result"
    }
   ],
   "source": [
    "len(df.id.unique())"
   ]
  },
  {
   "cell_type": "code",
   "execution_count": 45,
   "metadata": {},
   "outputs": [
    {
     "data": {
      "text/plain": [
       "{'impacts': [{'value': 2.0,\n",
       "   'reason': 'Valid molecular structure(s) provided for biological compound'},\n",
       "  {'value': 1.0, 'reason': 'Chromatography identified as LC-MS'},\n",
       "  {'value': 1.0, 'reason': 'Ionization mode/type provided'},\n",
       "  {'value': 1.0, 'reason': 'MS type/level identified'},\n",
       "  {'value': 1.0, 'reason': 'Instrument information provided'},\n",
       "  {'value': -1.0, 'reason': 'No collision energy provided'},\n",
       "  {'value': 1.0, 'reason': 'Retention time/index provided'},\n",
       "  {'value': 1.0, 'reason': 'Column information provided'}],\n",
       " 'score': 4.444444444444445,\n",
       " 'relativeScore': 0.0,\n",
       " 'scaledScore': 0.0}"
      ]
     },
     "execution_count": 45,
     "metadata": {},
     "output_type": "execute_result"
    }
   ],
   "source": [
    "df.iloc[0].score"
   ]
  },
  {
   "cell_type": "code",
   "execution_count": 46,
   "metadata": {},
   "outputs": [
    {
     "data": {
      "text/plain": [
       "nan"
      ]
     },
     "execution_count": 46,
     "metadata": {},
     "output_type": "execute_result"
    }
   ],
   "source": [
    "df.iloc[112482].score"
   ]
  },
  {
   "cell_type": "code",
   "execution_count": 6,
   "metadata": {},
   "outputs": [
    {
     "name": "stdout",
     "output_type": "stream",
     "text": [
      "Cefuroxime\n",
      "Buspirone\n",
      "Mexiletine\n",
      "Molsidomine\n",
      "Hydroquinidine\n",
      "Modafinil sulfone\n",
      "Modafinil\n",
      "Modafinil acid\n",
      "Clonazepam\n",
      "(8S,9S,10R,11S,13S,14S,17R)-11,17-dihydroxy-17-(2-hydroxyacetyl)-10,13-dimethyl-2,6,7,8,9,11,12,14,15,16-decahydro-1H-cyclopenta[a]phenanthren-3-one\n",
      "Ethylmorphine\n",
      "Simazine\n",
      "Hydroxyzine\n",
      "4-Hydroxypropranolol\n",
      "3-Hydroxystanozolol\n",
      "Norverapamil\n",
      "N-Desmethylmirtazapine\n",
      "Carbamazepine 10,11-epoxide\n",
      "3-Hydroxybromazepam\n",
      "4-Hydroxydebrisoquin\n"
     ]
    }
   ],
   "source": [
    "val = ''\n",
    "for i in range(100):\n",
    "    name = df.iloc[i].compound[:][0]['names'][0]['name']\n",
    "    if name != val:\n",
    "        print(name)\n",
    "    val = name"
   ]
  },
  {
   "cell_type": "code",
   "execution_count": 7,
   "metadata": {},
   "outputs": [
    {
     "name": "stdout",
     "output_type": "stream",
     "text": [
      "# CO/N=C(/C1=CC=CO1)\\C(=O)N[C@H]2[C@@H]3N(C2=O)C(=C(CS3)COC(=O)N)C(=O)O\n",
      "# c(c4)cnc(n4)N(C1)CCN(CCCCN(C(=O)2)C(=O)CC(C3)(CCC3)C2)C1\n",
      "# CC(N)COc(c(C)1)c(C)ccc1\n",
      "# C11H17NO\n",
      "# CC(N)COc(c(C)1)c(C)ccc1\n",
      "# CCOC([O-1])=Nc(o2)c[n+1](n2)N(C1)CCOC1\n",
      "# CC[C@H]1CN2CC[C@H]1C[C@@H]2[C@H](C3=C4C=C(C=CC4=NC=C3)OC)O\n",
      "# NC(=O)CS(=O)(=O)C(c(c2)cccc2)c(c1)cccc1\n",
      "# NC(=O)CS(=O)C(c(c2)cccc2)c(c1)cccc1\n",
      "# OC(=O)CS(=O)C(c(c2)cccc2)c(c1)cccc1\n",
      "# 571.122500616\n",
      "# OC(=O)CS(=O)C(c(c2)cccc2)c(c1)cccc1\n",
      "# [O-1][N+1](=O)c(c3)cc(c(c3)2)C(=NCC(=O)N2)c(c1)c(Cl)ccc1\n",
      "# C15H10ClN3O3\n",
      "# [O-1][N+1](=O)c(c3)cc(c(c3)2)C(=NCC(=O)N2)c(c1)c(Cl)ccc1\n",
      "# C[C@]12CCC(=O)C=C1CC[C@@H]3[C@@H]2[C@H](C[C@]4([C@H]3CC[C@@]4(C(=O)CO)O)C)O\n",
      "# CCOc(c5)c(O4)c(c(c5)1)C(C2)(C34)C([H])(C=CC(O)3)C(N(C)C2)C1\n",
      "# CCNc(n1)nc(Cl)nc(NCC)1\n",
      "# OCCOCCN(C3)CCN(C3)C(c(c2)cccc2)c(c1)ccc(Cl)c1\n",
      "# CC(C)NCC(O)COc(c1)c(c2)c(ccc2)c(O)c1\n",
      "# C16H21NO3\n",
      "# CC(C)NCC(O)COc(c1)c(c2)c(ccc2)c(O)c1\n",
      "# C[C@]12CC[C@H]3[C@H]([C@@H]1CC[C@]2(C)O)CC[C@@H]4[C@@]3(CC5=C(C4)NNC5=O)C\n",
      "# C(C(C(C)C)(c(c2)cc(c(OC)c2)OC)C#N)CCNCCc(c1)cc(OC)c(OC)c1\n",
      "# 479.365807632\n",
      "# C(C(C(C)C)(c(c2)cc(c(OC)c2)OC)C#N)CCNCCc(c1)cc(OC)c(OC)c1\n",
      "# C26H36N2O4\n",
      "# c(c4)cc(C1)c(n4)N(C3)C([H])(CNC3)c(c2)c(ccc2)1\n",
      "# NC(=O)N(c32)c(c4)c(ccc4)C(O1)C1c(cccc3)2\n",
      "# O=C(N1)C(O)N=C(c(c3)nccc3)c(c2)c(ccc(Br)2)1\n",
      "# NC(=N)N(C1)Cc(c2)c(ccc2)C(O)1\n"
     ]
    }
   ],
   "source": [
    "val = ''\n",
    "for i in range(100):\n",
    "    name = df.iloc[i].compound[:][0]['metaData'][1]['value']\n",
    "    #print('#',name)\n",
    "    if name != val:\n",
    "        print('#', name)\n",
    "    val = name"
   ]
  },
  {
   "cell_type": "code",
   "execution_count": 17,
   "metadata": {},
   "outputs": [
    {
     "data": {
      "text/plain": [
       "{'kind': 'biological',\n",
       " 'tags': [],\n",
       " 'inchi': 'InChI=1S/C16H16N4O8S/c1-26-19-9(8-3-2-4-27-8)12(21)18-10-13(22)20-11(15(23)24)7(5-28-16(17)25)6-29-14(10)20/h2-4,10,14H,5-6H2,1H3,(H2,17,25)(H,18,21)(H,23,24)/b19-9-/t10-,14-/m1/s1',\n",
       " 'names': [{'computed': False, 'name': 'Cefuroxime', 'score': 0.0}],\n",
       " 'molFile': '\\n  CDK     01272302502D\\n\\n 29 31  0  0  1  0  0  0  0  0999 V2000\\n   -8.6562    0.6777    0.0000 C   0  0  0  0  0  0  0  0  0  0  0  0\\n   -5.1024    6.7774    0.0000 C   0  0  0  0  0  0  0  0  0  0  0  0\\n   -5.9181    5.5186    0.0000 C   0  0  0  0  0  0  0  0  0  0  0  0\\n   -3.6606    6.3913    0.0000 C   0  0  0  0  0  0  0  0  0  0  0  0\\n    3.6086   -1.1008    0.0000 C   0  0  0  0  0  0  0  0  0  0  0  0\\n    2.3100    1.1700    0.0000 C   0  0  0  0  0  0  0  0  0  0  0  0\\n    2.3100   -0.3500    0.0000 C   0  0  0  0  0  0  0  0  0  0  0  0\\n   -4.9820    4.3520    0.0000 C   0  0  0  0  0  0  0  0  0  0  0  0\\n   -5.3702    2.9031    0.0000 C   0  0  0  0  0  0  0  0  0  0  0  0\\n   -1.8000    1.1700    0.0000 C   0  0  2  0  0  0  0  0  0  0  0  0\\n    0.9900   -1.1100    0.0000 C   0  0  0  0  0  0  0  0  0  0  0  0\\n   -4.3095    1.8424    0.0000 C   0  0  0  0  0  0  0  0  0  0  0  0\\n   -1.8000   -0.3300    0.0000 C   0  0  0  0  0  0  0  0  0  0  0  0\\n   -0.3000    1.1700    0.0000 C   0  0  2  0  0  0  0  0  0  0  0  0\\n    0.9739   -2.6099    0.0000 C   0  0  0  0  0  0  0  0  0  0  0  0\\n    6.2067   -1.1023    0.0000 C   0  0  0  0  0  0  0  0  0  0  0  0\\n    7.5062   -0.3531    0.0000 N   0  0  0  0  0  0  0  0  0  0  0  0\\n   -2.8607    2.2307    0.0000 N   0  0  0  0  0  0  0  0  0  0  0  0\\n   -6.8191    2.5149    0.0000 N   0  0  0  0  0  0  0  0  0  0  0  0\\n   -0.3000   -0.3300    0.0000 N   0  0  0  0  0  0  0  0  0  0  0  0\\n   -4.6978    0.3935    0.0000 O   0  0  0  0  0  0  0  0  0  0  0  0\\n   -2.8607   -1.3907    0.0000 O   0  0  0  0  0  0  0  0  0  0  0  0\\n   -0.3331   -3.3460    0.0000 O   0  0  0  0  0  0  0  0  0  0  0  0\\n    2.2649   -3.3738    0.0000 O   0  0  0  0  0  0  0  0  0  0  0  0\\n    6.2058   -2.6023    0.0000 O   0  0  0  0  0  0  0  0  0  0  0  0\\n   -7.2073    1.0660    0.0000 O   0  0  0  0  0  0  0  0  0  0  0  0\\n   -3.5800    4.8973    0.0000 O   0  0  0  0  0  0  0  0  0  0  0  0\\n    4.9081   -0.3516    0.0000 O   0  0  0  0  0  0  0  0  0  0  0  0\\n    0.9900    1.9200    0.0000 S   0  0  0  0  0  0  0  0  0  0  0  0\\n  3  2  1  0  0  0  0\\n  4  2  2  0  0  0  0\\n  7  5  1  0  0  0  0\\n  7  6  1  0  0  0  0\\n  8  3  2  0  0  0  0\\n  9  8  1  0  0  0  0\\n 11  7  2  0  0  0  0\\n 12  9  1  0  0  0  0\\n 13 10  1  0  0  0  0\\n 14 10  1  0  0  0  0\\n 15 11  1  0  0  0  0\\n 17 16  2  0  0  0  0\\n 10 18  1  1  0  0  0\\n 18 12  2  0  0  0  0\\n  9 19  2  0  0  0  0\\n 20 11  1  0  0  0  0\\n 20 13  1  0  0  0  0\\n 14 20  1  1  0  0  0\\n 21 12  1  4  0  0  0\\n 22 13  2  0  0  0  0\\n 23 15  2  0  0  0  0\\n 24 15  1  0  0  0  0\\n 25 16  1  0  0  0  0\\n 26  1  1  0  0  0  0\\n 26 19  1  0  0  0  0\\n 27  4  1  0  0  0  0\\n 27  8  1  0  0  0  0\\n 28  5  1  0  0  0  0\\n 28 16  1  0  0  0  0\\n 29  6  1  0  0  0  0\\n 29 14  1  0  0  0  0\\nM  END\\n',\n",
       " 'computed': False,\n",
       " 'inchiKey': 'JFPVXVDWJQMJEE-IZRZKJBUSA-N',\n",
       " 'metaData': [{'name': 'molecular formula',\n",
       "   'value': 'C16H16N4O8S',\n",
       "   'hidden': False,\n",
       "   'category': 'none',\n",
       "   'computed': False},\n",
       "  {'name': 'SMILES',\n",
       "   'value': 'CO/N=C(/C1=CC=CO1)\\\\C(=O)N[C@H]2[C@@H]3N(C2=O)C(=C(CS3)COC(=O)N)C(=O)O',\n",
       "   'hidden': False,\n",
       "   'category': 'none',\n",
       "   'computed': False},\n",
       "  {'name': 'cas',\n",
       "   'value': '55268-75-2',\n",
       "   'hidden': False,\n",
       "   'category': 'external id',\n",
       "   'computed': False},\n",
       "  {'name': 'pubchem cid',\n",
       "   'value': '5479529',\n",
       "   'hidden': False,\n",
       "   'category': 'external id',\n",
       "   'computed': False},\n",
       "  {'name': 'InChI',\n",
       "   'value': 'InChI=1S/C16H16N4O8S/c1-26-19-9(8-3-2-4-27-8)12(21)18-10-13(22)20-11(15(23)24)7(5-28-16(17)25)6-29-14(10)20/h2-4,10,14H,5-6H2,1H3,(H2,17,25)(H,18,21)(H,23,24)/b19-9-/t10-,14-/m1/s1',\n",
       "   'hidden': False,\n",
       "   'category': 'none',\n",
       "   'computed': False},\n",
       "  {'name': 'InChIKey',\n",
       "   'value': 'JFPVXVDWJQMJEE-IZRZKJBUSA-N',\n",
       "   'hidden': False,\n",
       "   'category': 'none',\n",
       "   'computed': False},\n",
       "  {'name': 'molecular formula',\n",
       "   'value': 'C16H16N4O8S',\n",
       "   'hidden': False,\n",
       "   'category': 'computed',\n",
       "   'computed': True},\n",
       "  {'name': 'total exact mass',\n",
       "   'value': '424.06888447200004',\n",
       "   'hidden': False,\n",
       "   'category': 'computed',\n",
       "   'computed': True},\n",
       "  {'name': 'SMILES',\n",
       "   'value': 'O=C(O)C1=C(COC(=N)O)CSC2N1C(=O)C2N=C(O)C(=NOC)C=3OC=CC3',\n",
       "   'hidden': False,\n",
       "   'category': 'computed',\n",
       "   'computed': True},\n",
       "  {'name': '[2M+H-H2O]+',\n",
       "   'value': '831.130398944',\n",
       "   'hidden': True,\n",
       "   'category': 'theoretical adduct',\n",
       "   'computed': True},\n",
       "  {'name': '[2M+K]+',\n",
       "   'value': '887.2360689440001',\n",
       "   'hidden': True,\n",
       "   'category': 'theoretical adduct',\n",
       "   'computed': True},\n",
       "  {'name': '[M+H]+',\n",
       "   'value': '425.07685447200004',\n",
       "   'hidden': True,\n",
       "   'category': 'theoretical adduct',\n",
       "   'computed': True},\n",
       "  {'name': '[2M+Na]+',\n",
       "   'value': '871.1275389440001',\n",
       "   'hidden': True,\n",
       "   'category': 'theoretical adduct',\n",
       "   'computed': True},\n",
       "  {'name': '[2M+Cl]-',\n",
       "   'value': '883.590768944',\n",
       "   'hidden': True,\n",
       "   'category': 'theoretical adduct',\n",
       "   'computed': True},\n",
       "  {'name': '[2M+HAc-H]-',\n",
       "   'value': '907.1817989440001',\n",
       "   'hidden': True,\n",
       "   'category': 'theoretical adduct',\n",
       "   'computed': True},\n",
       "  {'name': '[M-H20-H]-',\n",
       "   'value': '405.050494472',\n",
       "   'hidden': True,\n",
       "   'category': 'theoretical adduct',\n",
       "   'computed': True},\n",
       "  {'name': '[M-H]-',\n",
       "   'value': '423.06160847200005',\n",
       "   'hidden': True,\n",
       "   'category': 'theoretical adduct',\n",
       "   'computed': True},\n",
       "  {'name': '[2M-H]-',\n",
       "   'value': '847.130492944',\n",
       "   'hidden': True,\n",
       "   'category': 'theoretical adduct',\n",
       "   'computed': True},\n",
       "  {'name': '[M+Na]+',\n",
       "   'value': '447.05865447200006',\n",
       "   'hidden': True,\n",
       "   'category': 'theoretical adduct',\n",
       "   'computed': True},\n",
       "  {'name': '[M+H-H2O]+',\n",
       "   'value': '407.06151447200006',\n",
       "   'hidden': True,\n",
       "   'category': 'theoretical adduct',\n",
       "   'computed': True},\n",
       "  {'name': '[2M+NH4]+',\n",
       "   'value': '866.1763489440001',\n",
       "   'hidden': True,\n",
       "   'category': 'theoretical adduct',\n",
       "   'computed': True},\n",
       "  {'name': '[M+Cl]-',\n",
       "   'value': '459.521884472',\n",
       "   'hidden': True,\n",
       "   'category': 'theoretical adduct',\n",
       "   'computed': True},\n",
       "  {'name': '[M+NH4]+',\n",
       "   'value': '442.10746447200006',\n",
       "   'hidden': True,\n",
       "   'category': 'theoretical adduct',\n",
       "   'computed': True},\n",
       "  {'name': '[M+K]+',\n",
       "   'value': '463.16718447200003',\n",
       "   'hidden': True,\n",
       "   'category': 'theoretical adduct',\n",
       "   'computed': True},\n",
       "  {'name': '[2M+H]+',\n",
       "   'value': '849.1457389440001',\n",
       "   'hidden': True,\n",
       "   'category': 'theoretical adduct',\n",
       "   'computed': True},\n",
       "  {'name': '[M+HAc-H]-',\n",
       "   'value': '483.11291447200006',\n",
       "   'hidden': True,\n",
       "   'category': 'theoretical adduct',\n",
       "   'computed': True}],\n",
       " 'classification': [{'name': 'kingdom',\n",
       "   'value': 'Organic compounds',\n",
       "   'hidden': False,\n",
       "   'category': 'classification',\n",
       "   'computed': True},\n",
       "  {'name': 'superclass',\n",
       "   'value': 'Organoheterocyclic compounds',\n",
       "   'hidden': False,\n",
       "   'category': 'classification',\n",
       "   'computed': True},\n",
       "  {'name': 'class',\n",
       "   'value': 'Lactams',\n",
       "   'hidden': False,\n",
       "   'category': 'classification',\n",
       "   'computed': True},\n",
       "  {'name': 'subclass',\n",
       "   'value': 'Beta lactams',\n",
       "   'hidden': False,\n",
       "   'category': 'classification',\n",
       "   'computed': True},\n",
       "  {'name': 'direct parent level 1',\n",
       "   'value': 'Cephems',\n",
       "   'hidden': False,\n",
       "   'category': 'classification',\n",
       "   'computed': True},\n",
       "  {'name': 'direct parent level 2',\n",
       "   'value': 'Cephalosporins',\n",
       "   'hidden': False,\n",
       "   'category': 'classification',\n",
       "   'computed': True},\n",
       "  {'name': 'direct parent',\n",
       "   'value': \"Cephalosporin 3'-carbamates\",\n",
       "   'hidden': False,\n",
       "   'category': 'classification',\n",
       "   'computed': True},\n",
       "  {'name': 'alternative parent',\n",
       "   'value': 'N-acyl-alpha amino acids and derivatives',\n",
       "   'hidden': False,\n",
       "   'category': 'classification',\n",
       "   'computed': True},\n",
       "  {'name': 'alternative parent',\n",
       "   'value': '1,3-thiazines',\n",
       "   'hidden': False,\n",
       "   'category': 'classification',\n",
       "   'computed': True},\n",
       "  {'name': 'alternative parent',\n",
       "   'value': 'Tertiary carboxylic acid amides',\n",
       "   'hidden': False,\n",
       "   'category': 'classification',\n",
       "   'computed': True},\n",
       "  {'name': 'alternative parent',\n",
       "   'value': 'Carbamate esters',\n",
       "   'hidden': False,\n",
       "   'category': 'classification',\n",
       "   'computed': True},\n",
       "  {'name': 'alternative parent',\n",
       "   'value': 'Furans',\n",
       "   'hidden': False,\n",
       "   'category': 'classification',\n",
       "   'computed': True},\n",
       "  {'name': 'alternative parent',\n",
       "   'value': 'Heteroaromatic compounds',\n",
       "   'hidden': False,\n",
       "   'category': 'classification',\n",
       "   'computed': True},\n",
       "  {'name': 'alternative parent',\n",
       "   'value': 'Secondary carboxylic acid amides',\n",
       "   'hidden': False,\n",
       "   'category': 'classification',\n",
       "   'computed': True},\n",
       "  {'name': 'alternative parent',\n",
       "   'value': 'Azetidines',\n",
       "   'hidden': False,\n",
       "   'category': 'classification',\n",
       "   'computed': True},\n",
       "  {'name': 'alternative parent',\n",
       "   'value': 'Organic carbonic acids and derivatives',\n",
       "   'hidden': False,\n",
       "   'category': 'classification',\n",
       "   'computed': True},\n",
       "  {'name': 'alternative parent',\n",
       "   'value': 'Thiohemiaminal derivatives',\n",
       "   'hidden': False,\n",
       "   'category': 'classification',\n",
       "   'computed': True},\n",
       "  {'name': 'alternative parent',\n",
       "   'value': 'Azacyclic compounds',\n",
       "   'hidden': False,\n",
       "   'category': 'classification',\n",
       "   'computed': True},\n",
       "  {'name': 'alternative parent',\n",
       "   'value': 'Oxacyclic compounds',\n",
       "   'hidden': False,\n",
       "   'category': 'classification',\n",
       "   'computed': True},\n",
       "  {'name': 'alternative parent',\n",
       "   'value': 'Carboxylic acids',\n",
       "   'hidden': False,\n",
       "   'category': 'classification',\n",
       "   'computed': True},\n",
       "  {'name': 'alternative parent',\n",
       "   'value': 'Dialkylthioethers',\n",
       "   'hidden': False,\n",
       "   'category': 'classification',\n",
       "   'computed': True},\n",
       "  {'name': 'alternative parent',\n",
       "   'value': 'Monocarboxylic acids and derivatives',\n",
       "   'hidden': False,\n",
       "   'category': 'classification',\n",
       "   'computed': True},\n",
       "  {'name': 'alternative parent',\n",
       "   'value': 'Carbonyl compounds',\n",
       "   'hidden': False,\n",
       "   'category': 'classification',\n",
       "   'computed': True},\n",
       "  {'name': 'alternative parent',\n",
       "   'value': 'Organonitrogen compounds',\n",
       "   'hidden': False,\n",
       "   'category': 'classification',\n",
       "   'computed': True},\n",
       "  {'name': 'alternative parent',\n",
       "   'value': 'Organic oxides',\n",
       "   'hidden': False,\n",
       "   'category': 'classification',\n",
       "   'computed': True},\n",
       "  {'name': 'alternative parent',\n",
       "   'value': 'Hydrocarbon derivatives',\n",
       "   'hidden': False,\n",
       "   'category': 'classification',\n",
       "   'computed': True},\n",
       "  {'name': 'alternative parent',\n",
       "   'value': 'Organopnictogen compounds',\n",
       "   'hidden': False,\n",
       "   'category': 'classification',\n",
       "   'computed': True}]}"
      ]
     },
     "execution_count": 17,
     "metadata": {},
     "output_type": "execute_result"
    }
   ],
   "source": [
    "df.iloc[0].compound[:][0]"
   ]
  },
  {
   "cell_type": "code",
   "execution_count": 19,
   "metadata": {},
   "outputs": [
    {
     "data": {
      "text/plain": [
       "{'name': 'accession',\n",
       " 'value': 'WA002994',\n",
       " 'hidden': False,\n",
       " 'category': 'none',\n",
       " 'computed': False}"
      ]
     },
     "execution_count": 19,
     "metadata": {},
     "output_type": "execute_result"
    }
   ],
   "source": [
    "df.iloc[0].metaData[0]"
   ]
  },
  {
   "cell_type": "code",
   "execution_count": 9,
   "metadata": {},
   "outputs": [],
   "source": [
    "meta_features = [head['name'] for head in df.iloc[0].metaData[:]]\n",
    "meta_map = {meta_features[i]:i for i in range(len(meta_features))}"
   ]
  },
  {
   "cell_type": "code",
   "execution_count": 10,
   "metadata": {},
   "outputs": [
    {
     "data": {
      "text/plain": [
       "{'accession': 0,\n",
       " 'date': 1,\n",
       " 'author': 2,\n",
       " 'license': 3,\n",
       " 'exact mass': 4,\n",
       " 'instrument': 5,\n",
       " 'instrument type': 6,\n",
       " 'ms level': 7,\n",
       " 'ionization': 8,\n",
       " 'retention time': 9,\n",
       " 'column': 10,\n",
       " 'column temperature': 11,\n",
       " 'sampling cone': 12,\n",
       " 'find peak': 13,\n",
       " 'ionization mode': 14,\n",
       " 'spectral entropy': 15,\n",
       " 'normalized entropy': 16}"
      ]
     },
     "execution_count": 10,
     "metadata": {},
     "output_type": "execute_result"
    }
   ],
   "source": [
    "meta_map"
   ]
  },
  {
   "cell_type": "code",
   "execution_count": 41,
   "metadata": {},
   "outputs": [
    {
     "data": {
      "text/plain": [
       "{'name': 'normalized entropy',\n",
       " 'value': '0.8310792200354279',\n",
       " 'hidden': False,\n",
       " 'category': 'computed',\n",
       " 'computed': True}"
      ]
     },
     "execution_count": 41,
     "metadata": {},
     "output_type": "execute_result"
    }
   ],
   "source": [
    "df.iloc[0].metaData[16]"
   ]
  },
  {
   "cell_type": "code",
   "execution_count": 12,
   "metadata": {},
   "outputs": [
    {
     "data": {
      "text/plain": [
       "{'name': 'instrument type',\n",
       " 'value': 'LC-ESI-Q',\n",
       " 'hidden': False,\n",
       " 'category': 'none',\n",
       " 'computed': False}"
      ]
     },
     "execution_count": 12,
     "metadata": {},
     "output_type": "execute_result"
    }
   ],
   "source": [
    "df.iloc[0].metaData[6]"
   ]
  },
  {
   "cell_type": "code",
   "execution_count": 13,
   "metadata": {},
   "outputs": [
    {
     "name": "stdout",
     "output_type": "stream",
     "text": [
      "{'MALDI-TOFTOF', 'LC-ESI-ITFT', 'LC-APCI-QTOF', 'GC-EI-QQ', 'LIT', 'ESI-TOF', 'MALDI-TOF', 'Quadrupole', 'LC-ESI-HRMS', 'MSD 5875', 'Linear Ion Trap', 'LC-Q-TOF/MS', 'GC-EI-QqQMS', 'LC-ESI-TOF', 'Waters Synapt G2', 'FD-B', 'LC-APCI-Q', 'LC-ESI-Orbitrap', 'Q Exactive Focus Hybrid Quadrupole Orbitrap Mass Spectrometer (Thermo Fisher Scientific)', 'Quattro_QQQ', 'GC-MS', 'GC-FI-TOF', 'MALDI-QIT', 'LC-ESI-ITTOF', 'ESI-ITFT', 'SI-BE', 'CI-B', 'FI-B', 'GC-EI-Q', 'Q-TOF', 'LC-ESI-QTOF', 'ESI-FT', 'EI-B', 'FAB-EBEB', 'LC-ESI-QQ', 'ESI-ITTOF', 'FAB-B', 'ESI-QFT', 'LC-ESI-IT', 'LC-APPI-QQ', 'LC-ESI-Q', 'Orbitrap', 'APCI-ITTOF', 'single quadrupole', 'Waters SYNAPT', 'QIT', 'Q Exactive HF', 'CE-ESI-TOF', 'FAB-BE', 'APCI-Q', 'Flow-injection QqQ/MS', 'LC-ESI-QQQ', 'SYNAPT QTOF, Waters', 'LC-QTOF', 'EI-EBEB', 'MALDI-QITTOF', 'GC-EI-TOF', 'in-silico QTOF', 'GC-EI-TOF (Pegasus III TOF-MS system, Leco; GC 6890, Agilent Technologies)', 'LC-ESI-Q-Orbitrap', 'FAB-EB', 'ESI-QTOF', 'CI-Q', 'QqQ', 'in source CID', 'QTOF', 'Thermo LTQ', 'in-silico CID', 'GC 6890-5973N', 'GC-MS-EI', 'QIT-FT', 'LC-ESI-HRMS-FT', 'FAB-EBEB (JMS-HX/HX 110A, JEOL)', 'QIT-TOF', 'LC-ESI-QFT', 'GC-APCI-QTOF', 'APCI-ITFT', 'LC-ESI-QIT', 'LC-ESI-QEHF', 'LC-APCI-ITFT'}\n"
     ]
    }
   ],
   "source": [
    "instrument_types = set()\n",
    "no_instr = []\n",
    "for i in range(df.shape[0]):\n",
    "    try:\n",
    "        meta_features = [head['name'] for head in df.iloc[i].metaData[:]]\n",
    "        meta_map = {meta_features[i]:i for i in range(len(meta_features))}\n",
    "        instrument_types.add(df.iloc[i].metaData[meta_map['instrument type']]['value'])\n",
    "    except:\n",
    "        no_instr.append(i)\n",
    "        continue\n",
    "\n",
    "print(instrument_types)"
   ]
  },
  {
   "cell_type": "code",
   "execution_count": 14,
   "metadata": {},
   "outputs": [
    {
     "data": {
      "text/plain": [
       "70104"
      ]
     },
     "execution_count": 14,
     "metadata": {},
     "output_type": "execute_result"
    }
   ],
   "source": [
    "len(no_instr)"
   ]
  },
  {
   "cell_type": "code",
   "execution_count": 15,
   "metadata": {},
   "outputs": [
    {
     "data": {
      "text/plain": [
       "80"
      ]
     },
     "execution_count": 15,
     "metadata": {},
     "output_type": "execute_result"
    }
   ],
   "source": [
    "len(instrument_types)"
   ]
  },
  {
   "cell_type": "code",
   "execution_count": 36,
   "metadata": {},
   "outputs": [
    {
     "name": "stdout",
     "output_type": "stream",
     "text": [
      "112482\n",
      ":104.1071119 594.5363:110.0086715 585.5291:118.0862251 246.53642:118.0862793 342.6221:120.0807688 726.5413:128.0192526 333.17456:132.1017393 91.20578:137.0597008 158.3649:137.107328 271.37442:137.1073359 213.07909:137.1073437 1093.7542:137.1074295 147.31918:154.0861709 54.27508:154.0862404 115.353516:160.0755862 79.08734:166.0861789 350.01596:166.0862158 1426.1228:177.0547134 957.6897:181.1223829 62.575638:181.1224088 349.25473:188.0705685 2722.3687:195.0652401 772.3412:195.1377552 212.49655:195.137856 178.33125:197.1167492 178.9744:205.0971563 2790.91:207.1378495 124.47358:207.1591837 157.39305:213.1484397 96.370094:213.1484989 103.552826:213.1485016 142.65495:217.0972846 134.60591:220.1121116 109.861855:221.1537477 91.444916:223.1327591 360.4656:225.1486861 338.94772:226.9515293 122.49741:229.1411893 1009.8705:240.1020537 131.1589:240.9066778 152.58849:248.2116286 328.30377:249.185136 117.48561:251.2006192 288.8685:255.2196402 531.6454:256.0594877 120.55503:256.0595758 102.35313:256.0597447 1253.5927:256.2635757 211.17702:257.1473762 93.55871:257.1900527 122.51277:257.2475349 404.8092:259.2055704 125.59863:265.1801003 108.96085:268.1039684 128.7624:268.104264 184.32939:268.1333513 131.65836:274.2740695 1955.9712:275.2003264 196.81857:275.2004832 192.82207:275.2004856 856.09784:275.2005215 518.86487:275.2005922 688.9292:275.2006816 203.51476:277.2161922 2193.43:277.2163264 497.62296:279.2318373 2250.7056:279.2320114 1073.5298:279.2320341 83.92342:280.1546226 183.20634:281.2476764 311.85776:282.2790477 151.21227:284.2946995 88.945724:289.177962 135.2977:291.1450993 196.53168:291.1953419 277.95273:291.1954762 610.98737:291.1954819 504.31027:291.1956128 306.55:293.2110342 1182.3634:293.2111333 575.86053:293.2111627 1755.3801:293.2111903 591.6667:293.2112079 1552.8948:293.2113362 930.7926:293.2114191 144.02066:293.2114348 283.5482:295.2266482 1402.1501:295.2266833 637.2922:295.2266924 279.26587:295.2267439 330.38623:295.2267505 156.49178:295.2268758 595.9765:297.24004 426.51712:297.242876 76.152306:298.0971252 112.39398:299.0551695 327.26047:299.1125403 115.52193:301.1411742 842.1978:302.3055351 126.43036:304.1395307 92.90329:304.3001801 176.69424:304.3002204 517.4144:305.1723894 128.07645:308.1859655 90.238556:308.222103 1427.0845:309.2059844 172.47916:309.2059861 616.53894:309.2060035 534.67804:309.2061161 466.95874:310.237544 84.625946:310.2376435 192.69283:310.2377511 303.2316:311.2215873 588.91644:311.2217359 547.6481:311.2217615 126.59622:311.2217694 928.31445:311.2558396 143.31639:313.070809 205.8139:313.1282599 123.38838:313.2372707 392.28714:313.2373062 89.748924:313.2373906 177.85289:313.2375705 110.57736:313.2739807 364.45786:314.0917028 181.79546:314.1385663 232.02968:315.1931546 624.28876:315.1931756 876.0986:315.1933978 445.6229:316.2849447 171.95697:317.2086855 2839.0344:317.2088744 1980.9095:318.300124 1276.4545:319.2244128 869.1628:319.2245208 349.1286:325.1398232 114.29249:325.2003958 198.68877:325.237381 146.4745:325.237395 307.9436:325.2715625 163.18292:328.248089 96.083466:329.0657607 200.88022:329.1723976 196.50716:331.139077 130.25214:331.1881788 194.4831:331.1887414 231.3845:331.1888151 136.51909:331.2845907 322.2556:333.1448395 95.53548:333.2036741 1700.4503:333.203738 2074.0884:333.2037753 1639.7363:333.2038021 1049.9014:335.1239795 368.69876:335.1601379 305.32697:335.1603547 286.8828:335.2191081 2358.2175:335.219285 620.9486:335.2581087 399.81467:335.2582533 200.7116:337.2349426 537.85986:337.2735085 74.98396:338.3419089 2935.7664:339.107646 646.31903:341.1498129 110.73759:341.1933003 143.95457:341.2662222 628.9699:344.1490842 131.10265:344.1494084 250.33826:345.2637452 124.97246:347.1831319 134.17123:347.2193514 690.2096:349.1984466 254.49452:349.1985328 2440.0625:349.198825 466.89105:351.1666481 144.79376:351.2140427 1392.7343:351.2142089 3576.0308:351.2143085 2482.229:351.2144369 87.20634:351.2509213 115.556145:351.2532301 200.41861:353.2296378 670.9205:353.2296904 990.04126:353.2297078 1046.4454:353.2300502 496.7783:353.2665227 661.95685:353.2686293 1034.5421:353.2686392 752.8897:353.2686892 1188.537:353.2687035 3792.1355:353.2687137 755.1546:354.2335346 108.152115:355.2455415 175.64597:355.2824222 183.01428:355.283723 177.35423:355.2839273 501.32037:356.2795234 215.47049:356.2796123 82.198265:357.0661473 103.160904:357.1439922 149.40775:357.1444292 105.174095:359.1598858 196.61116:362.1941147 192.28491:362.3263356 381.9421:363.1554479 155.35889:367.1502822 406.8731:367.208836 221.29749:367.2090299 935.351:367.2456997 2334.068:369.2976337 308.06122:370.2951801 681.3829:371.1308937 135.65211:371.1631403 1145.731:371.3159643 80.25605:373.1396975 144.97205:373.1759736 280.83035:374.1600426 305.65475:375.1553394 416.95212:375.2507331 4497.967:377.1206445 139.97885:377.1456119 133.73483:377.2661638 2628.9521:377.2661957 175.66956:379.1004182 125.4028:379.2821025 101.397675:385.2925242 562.5751:389.1709574 588.8429:389.171371 116.55519:389.1806602 186.4496:391.2457303 283.1533:391.2458223 236.19249:393.2612948 181.30963:393.297998 540.084:399.3078924 82.60995:409.1838905 152.94743:413.1854435 233.7415:413.3238518 285.06796:415.2116591 1251.3015:415.2951579 114.38724:419.3161023 391.41656:421.2327451 212.53075:423.2352964 320.95612:423.3255207 197.64108:423.3262418 87.69347:425.2146654 185.99959:425.3417038 92.34567:429.1733845 86.701294:429.2487942 167.8014:429.3188906 434.24097:429.3733426 490.9177:433.1134853 440.71783:437.1938742 884.29834:437.2357845 90.51695:439.1505227 516.45776:439.3569034 2944.0625:439.3570297 542.79376:439.3573032 234.94878:439.3573836 575.07745:439.3574816 375.36288:448.3792515 260.68405:451.1635907 274.96982:451.1636514 67.92901:451.2302971 1433.737:453.1787712 737.9919:454.2928501 2130.6182:454.2931728 59.30851:455.3348819 89.93555:457.3500904 195.8926:461.1660412 126.691765:462.294942 121.18529:468.3435754 223.73483:469.2415128 89.27389:469.2800431 257.56927:473.3451531 308.71957:475.1232394 223.69908:476.27441 107.82409:476.2773725 436.26022:476.2774335 1138.1544:476.4100694 537.2725:478.2929632 733.967:478.293093 1349.7722:479.1186132 366.128:480.3087573 497.40298:480.8054731 52.99298:481.26238 91.41177:490.3254588 554.04755:495.2932621 157.35736:496.3396732 3930.2593:497.3108735 499.73093:497.3110002 1992.9883:505.3518605 98.26091:507.365644 139.04956:507.3684815 74.30035:515.3213465 544.63916:515.3214533 168.32121:515.3216735 276.49695:517.3715537 219.55486:518.3214545 596.97437:518.3240919 2131.825:518.3243624 3460.8042:519.1972159 106.6394:520.3396473 1355.606:520.3398543 2262.276:522.3558094 440.74066:522.3560111 279.9967:523.347748 333.92432:523.3610832 85.19453:525.3632885 395.5486:527.3917483 215.41965:534.1973443 199.74214:535.2706926 78.6473:536.4372744 564.217:537.3033169 1015.3094:537.3035343 1191.3676:538.2180733 253.25351:538.2183273 124.74019:539.319138 60.565727:539.3196043 127.95847:540.3066022 172.54405:542.3219405 76.578064:542.3220753 180.0294:551.4249996 3142.0654:551.4250294 7669.0728:551.4255231 105.99525:552.2342158 80.93801:552.4292432 4038.943:552.4328034 169.54686:553.4250504 671.10803:555.3143271 203.19077:556.2291746 131.05542:557.4563167 224.0678:557.456874 141.69252:559.3841713 473.4325:561.3968143 142.33144:565.1555839 12537.11:567.4197881 763.5994:567.4202179 507.07703:568.4275045 2843.8757:568.4275989 1581.8726:568.4276336 9261.767:571.2401557 110.84798:575.5051014 620.7369:577.1557631 566.8938:579.170952 665.21497:579.1713051 1378.3446:579.2934391 100.14572:581.3660318 6447.937:583.4143591 164.53561:583.4147747 165.61676:583.4149026 300.73398:583.4149606 137.18147:584.4217804 221.25992:584.4221309 645.831:585.4393314 575.04114:585.4469093 455.68427:585.4502786 72.496994:589.4799685 145.17987:589.5670612 354.53415:591.2599448 357.53726:593.2755984 5641.0635:594.1824308 95.74203:595.165893 1308.5627:599.4485813 430.36685:600.4167085 150.07848:600.4174694 448.09622:601.4238009 579.0142:601.4238195 970.4:601.4238743 72.98739:601.4240599 82.59338:603.4255583 75.91702:603.4258697 52.8553:605.4240235 104.8344:607.1661452 76.120575:607.2556283 172.09845:607.2912992 853.97253:607.3971859 215.87584:607.3972754 70.46042:607.4185173 193.64815:609.2707297 80.70926:609.2707502 276.59695:611.1615514 257.11868:611.4284614 119.91083:611.4284715 314.25848:611.4670139 201.33243:611.468119 117.24346:613.4804815 336.7339:613.4810025 89.26776:613.4828963 664.40594:613.4833731 213.51476:615.4955655 65.43438:615.496291 799.059:623.5364491 150.55104:625.1772706 108.01416:625.2659221 110.98624:625.407782 135.04242:627.1560813 264.42798:634.2134425 410.63348:637.1768277 1478.0527:637.3050033 175.63028:638.2081618 487.85742:641.1716645 1710.6632:641.2607912 107.61695:643.2763511 140.52284:643.2764286 180.30733:643.4174274 80.54605:643.4182017 87.16881:643.418578 172.06018:645.4328419 279.49554:645.489675 114.04328:647.4486834 127.06645:649.524515 153.67128:651.1557945 7342.9756:651.1913403 644.9635:651.5671969 274.99826:652.2238312 113.2274:654.6032087 3073.118:657.4570524 90.2298:659.2706703 279.38043:659.2707929 347.65353:659.2712716 324.32745:659.287643 139.72287:659.3634001 583.42316:663.1559946 250.26636:665.1717989 162.51593:665.350027 1136.6912:667.4535864 97.54933:667.455424 104.900894:669.469891 130.56502:671.5049922 146.84196:673.2866967 410.09515:673.2867494 306.81918:675.2662332 607.0185:675.6767382 448.92444:677.2812991 242.48734:677.2816493 874.7905:677.3729845 84.20982:677.3739081 537.30817:677.3743168 146.34901:677.5829609 127.47197:679.1869935 563.95013:679.4388906 240.85979:679.4392901 285.57742:679.4394157 254.50674:679.5989229 208.84106:680.6191604 274.31204:681.1667257 146.4638:683.4493157 537.6649:683.4496238 232.84631:683.470372 207.5899:683.5434439 207.72516:685.4361667 392.0113:685.4645178 537.6146:685.4651576 314.19858:687.4794676 278.1952:688.6220016 592.3873:689.5180845 93.04885:691.2968673 454.0126:692.219701 94.82346:693.2029042 200.55244:693.2763263 1362.3596:693.6137427 252.94745:694.2345902 144.63272:695.2890369 419.91977:695.2919379 108.5625:699.3558881 722.8987:699.3563471 545.70135:704.5227739 984.938:705.2769778 116.47427:706.1982398 261.16846:707.2922141 2246.6816:708.5777924 744.6394:709.4131891 323.82867:710.5927969 735.6:711.2868197 461.62735:711.5019507 145.57268:714.5067187 422.34192:718.5375284 471.29047:720.2150285 213.4411:721.5828496 105.42756:721.645121 849.26166:723.2251656 324.08832:724.209685 598.9293:725.3017778 212.98364:729.3976229 141.88048:733.5438802 86.63052:735.6609992 349.93942:736.4907706 153.23816:737.2403453 115.50364:738.5063108 242.3902:738.6236674 227.79051:740.5214585 227.7944:742.2352554 80.79018:743.6161689 418.59027:743.6168455 147.81738:747.4081153 447.44623:750.5072776 642.3747:750.5624574 580.49994:751.4391106 242.58757:756.5538005 1199.4972:758.5698244 569.23553:761.6766132 133.95978:762.4916408 316.1642:763.1775108 471.99884:763.6059829 115.63306:764.6396977 667.0891:766.2193308 97.761894:767.3262332 254.74084:769.4347899 222.51625:769.4863074 304.4996:773.5135911 629.9036:773.5205201 262.06668:778.5375304 814.45184:778.5384837 827.9047:780.5531811 1043.6803:780.6349289 545.07587:786.4890209 200.98753:792.1990341 184.67566:793.4007358 293.21143:795.4154444 400.31805:795.4161474 120.65933:795.4862501 4422.1636:802.5357734 249.00685:803.2242197 61.417927:803.3139633 138.52057:804.5372417 102.21301:805.3266458 243.62546:805.3289426 244.19565:809.2252618 84.75601:812.5412842 197.47527:813.5122106 332.22153:815.3835148 241.16743:817.2182379 177.89316:817.3984764 349.36444:817.5632424 504.13297:817.5635976 91.484146:821.3238768 760.16724:821.5390041 723.5459:821.5962049 92.525024:826.5206338 89.41424:828.2348367 220.49223:829.5077753 91.28083:829.5078762 86.54002:829.5083189 127.59858:831.5406947 333.5166:831.5783479 304.55573:835.3391679 291.35828:835.3395683 425.58337:837.2683781 81.766266:844.6872045 1138.8729:847.5734128 266.22964:851.3981462 431.25537:859.6065834 140.361:861.5893242 289.12857:869.5576519 1285.9929:871.5731679 8163.3643:873.5530353 1194.5568:879.4708782 621.58673:885.5519776 3516.3003:885.5520441 5587.0137:885.5525007 599.2729:887.5653873 3613.0925:887.5683788 13976.246:887.5683793 12072.81:887.568385 631.2759:901.5475393 951.9301:901.5481597 447.0459:901.5484146 185.21342:901.5838143 2510.1116:903.5629838 27669.504:903.563258 2858.839:903.5640998 994.9757:903.5664524 238.91171:915.562589 11411.968:917.5777127 1569.8849:917.5783744 6980.6777:917.5787274 9597.196:917.5788778 6029.7607:920.5621393 434.77054:923.530076 417.57013:923.5335043 189.79063:923.6943183 379.204:927.495004 112.615036:927.4955051 91.87858:931.5574533 10415.983:931.5592191 855.4905:932.5300397 216.26692:932.5615743 613.0013:935.5873187 696.1145:935.5888812 122.8535:936.5921521 795.17664:936.5923933 333.7263:937.5447053 2421.9636:946.5329004 359.86813:949.5691096 340.47797:963.5841955 193.9502:968.6068313 146.7398:970.6430181 173.80719:975.5646649 265.9604:979.450575 119.448586:983.5546453 164.59505:986.6156419 371.1161:987.6191011 257.01367:987.6248709 66.987236:992.6072143 137.62447:1000.594896 740.79175:1000.595372 770.9551:1007.716719 500.05035:1009.606814 956.8529:1041.72819 77.04269:1051.617325 333.07092:1051.617623 583.9249:1059.74736 492.75876:1093.592193 82.458046:1129.303973 186.32188:1205.321161 91.65887:1219.783597 97.781364:1219.784366 281.10593:1223.728418 115.05198:1287.326062 144.27934:1301.30446 309.83575:\n",
      "x min: 0.0008\n",
      "x max: 7709.07374\n",
      "y min: 0.0\n",
      "y max: 1166733952.0\n"
     ]
    }
   ],
   "source": [
    "x_min = np.inf\n",
    "y_min = np.inf\n",
    "x_max = -np.inf\n",
    "y_max = -np.inf\n",
    "\n",
    "for i in range(df.shape[0]):\n",
    "    spec = df.iloc[i].spectrum\n",
    "    split_spec = spec.split(' ')\n",
    "    try:\n",
    "        for j in range(len(split_spec)):\n",
    "            x_val = float(split_spec[j].split(':')[0])\n",
    "            y_val = float(split_spec[j].split(':')[1])\n",
    "            x_min = (x_min, x_val)[(x_val < x_min)]\n",
    "            x_max = (x_max, x_val)[(x_val > x_max)]\n",
    "            y_min = (y_min, y_val)[(y_val < y_min)]\n",
    "            y_max = (y_max, y_val)[(y_val > y_max)]\n",
    "    except ValueError:\n",
    "        print(i)\n",
    "        print(spec)\n",
    "        continue\n",
    "print('x min:', x_min)\n",
    "print('x max:', x_max)\n",
    "print('y min:', y_min)\n",
    "print('y max:', y_max)\n"
   ]
  },
  {
   "cell_type": "code",
   "execution_count": 30,
   "metadata": {},
   "outputs": [
    {
     "data": {
      "text/plain": [
       "[{'kind': 'biological',\n",
       "  'tags': [],\n",
       "  'inchi': '',\n",
       "  'names': [],\n",
       "  'molFile': '',\n",
       "  'inchiKey': '',\n",
       "  'metaData': [],\n",
       "  'classification': []}]"
      ]
     },
     "execution_count": 30,
     "metadata": {},
     "output_type": "execute_result"
    }
   ],
   "source": [
    "df.iloc[112482].compound"
   ]
  },
  {
   "cell_type": "code",
   "execution_count": 17,
   "metadata": {},
   "outputs": [
    {
     "data": {
      "text/plain": [
       "[{'name': 'sample introduction', 'value': 'Liquid Chromatography (LC)'},\n",
       " {'name': 'ms level', 'value': 'MS2'}]"
      ]
     },
     "execution_count": 17,
     "metadata": {},
     "output_type": "execute_result"
    }
   ],
   "source": [
    "df.iloc[112482].metaData"
   ]
  },
  {
   "cell_type": "code",
   "execution_count": 18,
   "metadata": {},
   "outputs": [],
   "source": [
    "spec2 = df.iloc[112482].spectrum"
   ]
  },
  {
   "cell_type": "code",
   "execution_count": 19,
   "metadata": {},
   "outputs": [
    {
     "data": {
      "text/plain": [
       "':104.1071119 594.5363:110.0086715 585.5291:118.0862251 246.53642:118.0862793 342.6221:120.0807688 726.5413:128.0192526 333.17456:132.1017393 91.20578:137.0597008 158.3649:137.107328 271.37442:137.1073359 213.07909:137.1073437 1093.7542:137.1074295 147.31918:154.0861709 54.27508:154.0862404 115.353516:160.0755862 79.08734:166.0861789 350.01596:166.0862158 1426.1228:177.0547134 957.6897:181.1223829 62.575638:181.1224088 349.25473:188.0705685 2722.3687:195.0652401 772.3412:195.1377552 212.49655:195.137856 178.33125:197.1167492 178.9744:205.0971563 2790.91:207.1378495 124.47358:207.1591837 157.39305:213.1484397 96.370094:213.1484989 103.552826:213.1485016 142.65495:217.0972846 134.60591:220.1121116 109.861855:221.1537477 91.444916:223.1327591 360.4656:225.1486861 338.94772:226.9515293 122.49741:229.1411893 1009.8705:240.1020537 131.1589:240.9066778 152.58849:248.2116286 328.30377:249.185136 117.48561:251.2006192 288.8685:255.2196402 531.6454:256.0594877 120.55503:256.0595758 102.35313:256.0597447 1253.5927:256.2635757 211.17702:257.1473762 93.55871:257.1900527 122.51277:257.2475349 404.8092:259.2055704 125.59863:265.1801003 108.96085:268.1039684 128.7624:268.104264 184.32939:268.1333513 131.65836:274.2740695 1955.9712:275.2003264 196.81857:275.2004832 192.82207:275.2004856 856.09784:275.2005215 518.86487:275.2005922 688.9292:275.2006816 203.51476:277.2161922 2193.43:277.2163264 497.62296:279.2318373 2250.7056:279.2320114 1073.5298:279.2320341 83.92342:280.1546226 183.20634:281.2476764 311.85776:282.2790477 151.21227:284.2946995 88.945724:289.177962 135.2977:291.1450993 196.53168:291.1953419 277.95273:291.1954762 610.98737:291.1954819 504.31027:291.1956128 306.55:293.2110342 1182.3634:293.2111333 575.86053:293.2111627 1755.3801:293.2111903 591.6667:293.2112079 1552.8948:293.2113362 930.7926:293.2114191 144.02066:293.2114348 283.5482:295.2266482 1402.1501:295.2266833 637.2922:295.2266924 279.26587:295.2267439 330.38623:295.2267505 156.49178:295.2268758 595.9765:297.24004 426.51712:297.242876 76.152306:298.0971252 112.39398:299.0551695 327.26047:299.1125403 115.52193:301.1411742 842.1978:302.3055351 126.43036:304.1395307 92.90329:304.3001801 176.69424:304.3002204 517.4144:305.1723894 128.07645:308.1859655 90.238556:308.222103 1427.0845:309.2059844 172.47916:309.2059861 616.53894:309.2060035 534.67804:309.2061161 466.95874:310.237544 84.625946:310.2376435 192.69283:310.2377511 303.2316:311.2215873 588.91644:311.2217359 547.6481:311.2217615 126.59622:311.2217694 928.31445:311.2558396 143.31639:313.070809 205.8139:313.1282599 123.38838:313.2372707 392.28714:313.2373062 89.748924:313.2373906 177.85289:313.2375705 110.57736:313.2739807 364.45786:314.0917028 181.79546:314.1385663 232.02968:315.1931546 624.28876:315.1931756 876.0986:315.1933978 445.6229:316.2849447 171.95697:317.2086855 2839.0344:317.2088744 1980.9095:318.300124 1276.4545:319.2244128 869.1628:319.2245208 349.1286:325.1398232 114.29249:325.2003958 198.68877:325.237381 146.4745:325.237395 307.9436:325.2715625 163.18292:328.248089 96.083466:329.0657607 200.88022:329.1723976 196.50716:331.139077 130.25214:331.1881788 194.4831:331.1887414 231.3845:331.1888151 136.51909:331.2845907 322.2556:333.1448395 95.53548:333.2036741 1700.4503:333.203738 2074.0884:333.2037753 1639.7363:333.2038021 1049.9014:335.1239795 368.69876:335.1601379 305.32697:335.1603547 286.8828:335.2191081 2358.2175:335.219285 620.9486:335.2581087 399.81467:335.2582533 200.7116:337.2349426 537.85986:337.2735085 74.98396:338.3419089 2935.7664:339.107646 646.31903:341.1498129 110.73759:341.1933003 143.95457:341.2662222 628.9699:344.1490842 131.10265:344.1494084 250.33826:345.2637452 124.97246:347.1831319 134.17123:347.2193514 690.2096:349.1984466 254.49452:349.1985328 2440.0625:349.198825 466.89105:351.1666481 144.79376:351.2140427 1392.7343:351.2142089 3576.0308:351.2143085 2482.229:351.2144369 87.20634:351.2509213 115.556145:351.2532301 200.41861:353.2296378 670.9205:353.2296904 990.04126:353.2297078 1046.4454:353.2300502 496.7783:353.2665227 661.95685:353.2686293 1034.5421:353.2686392 752.8897:353.2686892 1188.537:353.2687035 3792.1355:353.2687137 755.1546:354.2335346 108.152115:355.2455415 175.64597:355.2824222 183.01428:355.283723 177.35423:355.2839273 501.32037:356.2795234 215.47049:356.2796123 82.198265:357.0661473 103.160904:357.1439922 149.40775:357.1444292 105.174095:359.1598858 196.61116:362.1941147 192.28491:362.3263356 381.9421:363.1554479 155.35889:367.1502822 406.8731:367.208836 221.29749:367.2090299 935.351:367.2456997 2334.068:369.2976337 308.06122:370.2951801 681.3829:371.1308937 135.65211:371.1631403 1145.731:371.3159643 80.25605:373.1396975 144.97205:373.1759736 280.83035:374.1600426 305.65475:375.1553394 416.95212:375.2507331 4497.967:377.1206445 139.97885:377.1456119 133.73483:377.2661638 2628.9521:377.2661957 175.66956:379.1004182 125.4028:379.2821025 101.397675:385.2925242 562.5751:389.1709574 588.8429:389.171371 116.55519:389.1806602 186.4496:391.2457303 283.1533:391.2458223 236.19249:393.2612948 181.30963:393.297998 540.084:399.3078924 82.60995:409.1838905 152.94743:413.1854435 233.7415:413.3238518 285.06796:415.2116591 1251.3015:415.2951579 114.38724:419.3161023 391.41656:421.2327451 212.53075:423.2352964 320.95612:423.3255207 197.64108:423.3262418 87.69347:425.2146654 185.99959:425.3417038 92.34567:429.1733845 86.701294:429.2487942 167.8014:429.3188906 434.24097:429.3733426 490.9177:433.1134853 440.71783:437.1938742 884.29834:437.2357845 90.51695:439.1505227 516.45776:439.3569034 2944.0625:439.3570297 542.79376:439.3573032 234.94878:439.3573836 575.07745:439.3574816 375.36288:448.3792515 260.68405:451.1635907 274.96982:451.1636514 67.92901:451.2302971 1433.737:453.1787712 737.9919:454.2928501 2130.6182:454.2931728 59.30851:455.3348819 89.93555:457.3500904 195.8926:461.1660412 126.691765:462.294942 121.18529:468.3435754 223.73483:469.2415128 89.27389:469.2800431 257.56927:473.3451531 308.71957:475.1232394 223.69908:476.27441 107.82409:476.2773725 436.26022:476.2774335 1138.1544:476.4100694 537.2725:478.2929632 733.967:478.293093 1349.7722:479.1186132 366.128:480.3087573 497.40298:480.8054731 52.99298:481.26238 91.41177:490.3254588 554.04755:495.2932621 157.35736:496.3396732 3930.2593:497.3108735 499.73093:497.3110002 1992.9883:505.3518605 98.26091:507.365644 139.04956:507.3684815 74.30035:515.3213465 544.63916:515.3214533 168.32121:515.3216735 276.49695:517.3715537 219.55486:518.3214545 596.97437:518.3240919 2131.825:518.3243624 3460.8042:519.1972159 106.6394:520.3396473 1355.606:520.3398543 2262.276:522.3558094 440.74066:522.3560111 279.9967:523.347748 333.92432:523.3610832 85.19453:525.3632885 395.5486:527.3917483 215.41965:534.1973443 199.74214:535.2706926 78.6473:536.4372744 564.217:537.3033169 1015.3094:537.3035343 1191.3676:538.2180733 253.25351:538.2183273 124.74019:539.319138 60.565727:539.3196043 127.95847:540.3066022 172.54405:542.3219405 76.578064:542.3220753 180.0294:551.4249996 3142.0654:551.4250294 7669.0728:551.4255231 105.99525:552.2342158 80.93801:552.4292432 4038.943:552.4328034 169.54686:553.4250504 671.10803:555.3143271 203.19077:556.2291746 131.05542:557.4563167 224.0678:557.456874 141.69252:559.3841713 473.4325:561.3968143 142.33144:565.1555839 12537.11:567.4197881 763.5994:567.4202179 507.07703:568.4275045 2843.8757:568.4275989 1581.8726:568.4276336 9261.767:571.2401557 110.84798:575.5051014 620.7369:577.1557631 566.8938:579.170952 665.21497:579.1713051 1378.3446:579.2934391 100.14572:581.3660318 6447.937:583.4143591 164.53561:583.4147747 165.61676:583.4149026 300.73398:583.4149606 137.18147:584.4217804 221.25992:584.4221309 645.831:585.4393314 575.04114:585.4469093 455.68427:585.4502786 72.496994:589.4799685 145.17987:589.5670612 354.53415:591.2599448 357.53726:593.2755984 5641.0635:594.1824308 95.74203:595.165893 1308.5627:599.4485813 430.36685:600.4167085 150.07848:600.4174694 448.09622:601.4238009 579.0142:601.4238195 970.4:601.4238743 72.98739:601.4240599 82.59338:603.4255583 75.91702:603.4258697 52.8553:605.4240235 104.8344:607.1661452 76.120575:607.2556283 172.09845:607.2912992 853.97253:607.3971859 215.87584:607.3972754 70.46042:607.4185173 193.64815:609.2707297 80.70926:609.2707502 276.59695:611.1615514 257.11868:611.4284614 119.91083:611.4284715 314.25848:611.4670139 201.33243:611.468119 117.24346:613.4804815 336.7339:613.4810025 89.26776:613.4828963 664.40594:613.4833731 213.51476:615.4955655 65.43438:615.496291 799.059:623.5364491 150.55104:625.1772706 108.01416:625.2659221 110.98624:625.407782 135.04242:627.1560813 264.42798:634.2134425 410.63348:637.1768277 1478.0527:637.3050033 175.63028:638.2081618 487.85742:641.1716645 1710.6632:641.2607912 107.61695:643.2763511 140.52284:643.2764286 180.30733:643.4174274 80.54605:643.4182017 87.16881:643.418578 172.06018:645.4328419 279.49554:645.489675 114.04328:647.4486834 127.06645:649.524515 153.67128:651.1557945 7342.9756:651.1913403 644.9635:651.5671969 274.99826:652.2238312 113.2274:654.6032087 3073.118:657.4570524 90.2298:659.2706703 279.38043:659.2707929 347.65353:659.2712716 324.32745:659.287643 139.72287:659.3634001 583.42316:663.1559946 250.26636:665.1717989 162.51593:665.350027 1136.6912:667.4535864 97.54933:667.455424 104.900894:669.469891 130.56502:671.5049922 146.84196:673.2866967 410.09515:673.2867494 306.81918:675.2662332 607.0185:675.6767382 448.92444:677.2812991 242.48734:677.2816493 874.7905:677.3729845 84.20982:677.3739081 537.30817:677.3743168 146.34901:677.5829609 127.47197:679.1869935 563.95013:679.4388906 240.85979:679.4392901 285.57742:679.4394157 254.50674:679.5989229 208.84106:680.6191604 274.31204:681.1667257 146.4638:683.4493157 537.6649:683.4496238 232.84631:683.470372 207.5899:683.5434439 207.72516:685.4361667 392.0113:685.4645178 537.6146:685.4651576 314.19858:687.4794676 278.1952:688.6220016 592.3873:689.5180845 93.04885:691.2968673 454.0126:692.219701 94.82346:693.2029042 200.55244:693.2763263 1362.3596:693.6137427 252.94745:694.2345902 144.63272:695.2890369 419.91977:695.2919379 108.5625:699.3558881 722.8987:699.3563471 545.70135:704.5227739 984.938:705.2769778 116.47427:706.1982398 261.16846:707.2922141 2246.6816:708.5777924 744.6394:709.4131891 323.82867:710.5927969 735.6:711.2868197 461.62735:711.5019507 145.57268:714.5067187 422.34192:718.5375284 471.29047:720.2150285 213.4411:721.5828496 105.42756:721.645121 849.26166:723.2251656 324.08832:724.209685 598.9293:725.3017778 212.98364:729.3976229 141.88048:733.5438802 86.63052:735.6609992 349.93942:736.4907706 153.23816:737.2403453 115.50364:738.5063108 242.3902:738.6236674 227.79051:740.5214585 227.7944:742.2352554 80.79018:743.6161689 418.59027:743.6168455 147.81738:747.4081153 447.44623:750.5072776 642.3747:750.5624574 580.49994:751.4391106 242.58757:756.5538005 1199.4972:758.5698244 569.23553:761.6766132 133.95978:762.4916408 316.1642:763.1775108 471.99884:763.6059829 115.63306:764.6396977 667.0891:766.2193308 97.761894:767.3262332 254.74084:769.4347899 222.51625:769.4863074 304.4996:773.5135911 629.9036:773.5205201 262.06668:778.5375304 814.45184:778.5384837 827.9047:780.5531811 1043.6803:780.6349289 545.07587:786.4890209 200.98753:792.1990341 184.67566:793.4007358 293.21143:795.4154444 400.31805:795.4161474 120.65933:795.4862501 4422.1636:802.5357734 249.00685:803.2242197 61.417927:803.3139633 138.52057:804.5372417 102.21301:805.3266458 243.62546:805.3289426 244.19565:809.2252618 84.75601:812.5412842 197.47527:813.5122106 332.22153:815.3835148 241.16743:817.2182379 177.89316:817.3984764 349.36444:817.5632424 504.13297:817.5635976 91.484146:821.3238768 760.16724:821.5390041 723.5459:821.5962049 92.525024:826.5206338 89.41424:828.2348367 220.49223:829.5077753 91.28083:829.5078762 86.54002:829.5083189 127.59858:831.5406947 333.5166:831.5783479 304.55573:835.3391679 291.35828:835.3395683 425.58337:837.2683781 81.766266:844.6872045 1138.8729:847.5734128 266.22964:851.3981462 431.25537:859.6065834 140.361:861.5893242 289.12857:869.5576519 1285.9929:871.5731679 8163.3643:873.5530353 1194.5568:879.4708782 621.58673:885.5519776 3516.3003:885.5520441 5587.0137:885.5525007 599.2729:887.5653873 3613.0925:887.5683788 13976.246:887.5683793 12072.81:887.568385 631.2759:901.5475393 951.9301:901.5481597 447.0459:901.5484146 185.21342:901.5838143 2510.1116:903.5629838 27669.504:903.563258 2858.839:903.5640998 994.9757:903.5664524 238.91171:915.562589 11411.968:917.5777127 1569.8849:917.5783744 6980.6777:917.5787274 9597.196:917.5788778 6029.7607:920.5621393 434.77054:923.530076 417.57013:923.5335043 189.79063:923.6943183 379.204:927.495004 112.615036:927.4955051 91.87858:931.5574533 10415.983:931.5592191 855.4905:932.5300397 216.26692:932.5615743 613.0013:935.5873187 696.1145:935.5888812 122.8535:936.5921521 795.17664:936.5923933 333.7263:937.5447053 2421.9636:946.5329004 359.86813:949.5691096 340.47797:963.5841955 193.9502:968.6068313 146.7398:970.6430181 173.80719:975.5646649 265.9604:979.450575 119.448586:983.5546453 164.59505:986.6156419 371.1161:987.6191011 257.01367:987.6248709 66.987236:992.6072143 137.62447:1000.594896 740.79175:1000.595372 770.9551:1007.716719 500.05035:1009.606814 956.8529:1041.72819 77.04269:1051.617325 333.07092:1051.617623 583.9249:1059.74736 492.75876:1093.592193 82.458046:1129.303973 186.32188:1205.321161 91.65887:1219.783597 97.781364:1219.784366 281.10593:1223.728418 115.05198:1287.326062 144.27934:1301.30446 309.83575:'"
      ]
     },
     "execution_count": 19,
     "metadata": {},
     "output_type": "execute_result"
    }
   ],
   "source": [
    "spec2"
   ]
  },
  {
   "cell_type": "code",
   "execution_count": 20,
   "metadata": {},
   "outputs": [],
   "source": [
    "spec2_split = spec2.split(' ')"
   ]
  },
  {
   "cell_type": "code",
   "execution_count": 21,
   "metadata": {},
   "outputs": [
    {
     "data": {
      "text/plain": [
       "622"
      ]
     },
     "execution_count": 21,
     "metadata": {},
     "output_type": "execute_result"
    }
   ],
   "source": [
    "len(spec2_split)"
   ]
  },
  {
   "cell_type": "code",
   "execution_count": 22,
   "metadata": {},
   "outputs": [
    {
     "data": {
      "text/plain": [
       "'104.1071119'"
      ]
     },
     "execution_count": 22,
     "metadata": {},
     "output_type": "execute_result"
    }
   ],
   "source": [
    "spec2_split[0].split(':')[1]"
   ]
  },
  {
   "cell_type": "code",
   "execution_count": 23,
   "metadata": {},
   "outputs": [],
   "source": [
    "spec_x = np.zeros_like(spec2_split)\n",
    "spec_y = np.zeros_like(spec2_split)\n",
    "\n",
    "bad_ind = []\n",
    "\n",
    "for i in range(len(spec2_split)):\n",
    "    try:\n",
    "        x = float(spec2_split[i].split(':')[0])\n",
    "        y = float(spec2_split[i].split(':')[1])\n",
    "        spec_x[i] = x\n",
    "        spec_y[i] = y\n",
    "    except ValueError:\n",
    "        bad_ind.append(i)\n",
    "    except TypeError:\n",
    "        print(i, spec2_split[i])\n",
    "        bad_ind.append(i)\n",
    "    "
   ]
  },
  {
   "cell_type": "code",
   "execution_count": 24,
   "metadata": {},
   "outputs": [
    {
     "data": {
      "text/plain": [
       "[0, 621]"
      ]
     },
     "execution_count": 24,
     "metadata": {},
     "output_type": "execute_result"
    }
   ],
   "source": [
    "bad_ind"
   ]
  },
  {
   "cell_type": "code",
   "execution_count": 25,
   "metadata": {},
   "outputs": [],
   "source": [
    "spec_x = spec_x[1:621].astype(np.float64)\n",
    "spec_y = spec_y[1:621].astype(np.float64)"
   ]
  },
  {
   "cell_type": "code",
   "execution_count": 33,
   "metadata": {},
   "outputs": [
    {
     "data": {
      "text/plain": [
       "27669.504"
      ]
     },
     "execution_count": 33,
     "metadata": {},
     "output_type": "execute_result"
    }
   ],
   "source": [
    "spec_x.max()"
   ]
  },
  {
   "cell_type": "code",
   "execution_count": 28,
   "metadata": {},
   "outputs": [
    {
     "data": {
      "image/png": "[encoded data removed]",
      "text/plain": [
       "<Figure size 640x480 with 1 Axes>"
      ]
     },
     "metadata": {},
     "output_type": "display_data"
    }
   ],
   "source": [
    "plt.scatter(spec_x, spec_y)\n",
    "plt.xscale('log')"
   ]
  },
  {
   "cell_type": "code",
   "execution_count": null,
   "metadata": {},
   "outputs": [],
   "source": [
    "spec_y"
   ]
  },
  {
   "cell_type": "code",
   "execution_count": null,
   "metadata": {},
   "outputs": [],
   "source": [
    "spec_x"
   ]
  },
  {
   "cell_type": "code",
   "execution_count": null,
   "metadata": {},
   "outputs": [],
   "source": [
    "plt.scatter(spec_x, spec_y)"
   ]
  },
  {
   "cell_type": "code",
   "execution_count": 7,
   "metadata": {},
   "outputs": [],
   "source": [
    "spec = df.iloc[0].spectrum"
   ]
  },
  {
   "cell_type": "code",
   "execution_count": 8,
   "metadata": {},
   "outputs": [],
   "source": [
    "split_spec = spec.split(' ')"
   ]
  },
  {
   "cell_type": "code",
   "execution_count": 9,
   "metadata": {},
   "outputs": [
    {
     "name": "stdout",
     "output_type": "stream",
     "text": [
      "['100:3.103103', '101:1.201201', '102:1.201201', '103:1.201201', '104:15.315315']\n",
      "['423:22.322322', '424:5.505506', '429:0.800801', '446:0.800801', '449:0.800801']\n"
     ]
    }
   ],
   "source": [
    "print(split_spec[:5])\n",
    "print(split_spec[-5:])"
   ]
  },
  {
   "cell_type": "code",
   "execution_count": 10,
   "metadata": {},
   "outputs": [],
   "source": [
    "for i in range(len(split_spec)):\n",
    "    split_spec[i] = float(split_spec[i].split(':')[1])\n"
   ]
  },
  {
   "cell_type": "code",
   "execution_count": 11,
   "metadata": {},
   "outputs": [
    {
     "data": {
      "text/plain": [
       "[3.103103,\n",
       " 1.201201,\n",
       " 1.201201,\n",
       " 1.201201,\n",
       " 15.315315,\n",
       " 11.011011,\n",
       " 2.402402,\n",
       " 0.800801,\n",
       " 3.103103,\n",
       " 12.512513,\n",
       " 7.107107,\n",
       " 1.201201,\n",
       " 1.201201,\n",
       " 1.201201,\n",
       " 5.105105,\n",
       " 25.525526,\n",
       " 3.903904,\n",
       " 2.002002,\n",
       " 5.105105,\n",
       " 2.002002,\n",
       " 2.702703,\n",
       " 4.704705,\n",
       " 3.503504,\n",
       " 3.103103,\n",
       " 1.601602,\n",
       " 4.304304,\n",
       " 4.704705,\n",
       " 3.903904,\n",
       " 1.201201,\n",
       " 2.402402,\n",
       " 5.105105,\n",
       " 3.503504,\n",
       " 1.601602,\n",
       " 1.201201,\n",
       " 0.800801,\n",
       " 2.402402,\n",
       " 3.503504,\n",
       " 2.702703,\n",
       " 5.905906,\n",
       " 1.601602,\n",
       " 0.800801,\n",
       " 2.002002,\n",
       " 0.800801,\n",
       " 0.800801,\n",
       " 0.800801,\n",
       " 1.201201,\n",
       " 2.702703,\n",
       " 2.002002,\n",
       " 4.704705,\n",
       " 5.905906,\n",
       " 2.402402,\n",
       " 7.407407,\n",
       " 2.702703,\n",
       " 2.402402,\n",
       " 1.601602,\n",
       " 1.601602,\n",
       " 1.601602,\n",
       " 9.409409,\n",
       " 4.704705,\n",
       " 2.002002,\n",
       " 0.800801,\n",
       " 1.201201,\n",
       " 2.002002,\n",
       " 0.800801,\n",
       " 1.601602,\n",
       " 0.800801,\n",
       " 0.800801,\n",
       " 2.002002,\n",
       " 1.601602,\n",
       " 1.201201,\n",
       " 5.505506,\n",
       " 4.304304,\n",
       " 1.601602,\n",
       " 0.800801,\n",
       " 3.103103,\n",
       " 3.103103,\n",
       " 0.800801,\n",
       " 4.304304,\n",
       " 1.601602,\n",
       " 100.0,\n",
       " 12.512513,\n",
       " 6.306306,\n",
       " 2.002002,\n",
       " 0.800801,\n",
       " 1.601602,\n",
       " 2.002002,\n",
       " 0.800801,\n",
       " 1.601602,\n",
       " 0.800801,\n",
       " 5.505506,\n",
       " 2.002002,\n",
       " 1.201201,\n",
       " 0.800801,\n",
       " 6.306306,\n",
       " 1.201201,\n",
       " 7.807808,\n",
       " 2.002002,\n",
       " 0.800801,\n",
       " 0.800801,\n",
       " 0.800801,\n",
       " 0.800801,\n",
       " 1.201201,\n",
       " 1.201201,\n",
       " 6.306306,\n",
       " 2.002002,\n",
       " 0.800801,\n",
       " 1.201201,\n",
       " 1.201201,\n",
       " 0.800801,\n",
       " 1.601602,\n",
       " 2.702703,\n",
       " 29.029029,\n",
       " 3.103103,\n",
       " 1.201201,\n",
       " 2.702703,\n",
       " 2.702703,\n",
       " 1.201201,\n",
       " 0.800801,\n",
       " 14.514515,\n",
       " 0.800801,\n",
       " 1.201201,\n",
       " 0.800801,\n",
       " 0.800801,\n",
       " 5.905906,\n",
       " 0.800801,\n",
       " 0.800801,\n",
       " 3.903904,\n",
       " 1.601602,\n",
       " 1.601602,\n",
       " 4.304304,\n",
       " 1.601602,\n",
       " 1.201201,\n",
       " 1.601602,\n",
       " 3.103103,\n",
       " 1.201201,\n",
       " 1.601602,\n",
       " 0.800801,\n",
       " 0.800801,\n",
       " 22.322322,\n",
       " 5.505506,\n",
       " 0.800801,\n",
       " 0.800801,\n",
       " 0.800801]"
      ]
     },
     "execution_count": 11,
     "metadata": {},
     "output_type": "execute_result"
    }
   ],
   "source": [
    "split_spec"
   ]
  },
  {
   "cell_type": "code",
   "execution_count": 12,
   "metadata": {},
   "outputs": [],
   "source": [
    "import numpy as np"
   ]
  },
  {
   "cell_type": "code",
   "execution_count": 15,
   "metadata": {},
   "outputs": [
    {
     "data": {
      "text/plain": [
       "[<matplotlib.lines.Line2D at 0x7f5164c207d0>]"
      ]
     },
     "execution_count": 15,
     "metadata": {},
     "output_type": "execute_result"
    },
    {
     "data": {
      "image/png": "[encoded data removed]",
      "text/plain": [
       "<Figure size 640x480 with 1 Axes>"
      ]
     },
     "metadata": {},
     "output_type": "display_data"
    }
   ],
   "source": [
    "plt.plot(split_spec)"
   ]
  },
  {
   "cell_type": "code",
   "execution_count": 13,
   "metadata": {},
   "outputs": [
    {
     "data": {
      "text/plain": [
       "<matplotlib.collections.PathCollection at 0x7f5164be4450>"
      ]
     },
     "execution_count": 13,
     "metadata": {},
     "output_type": "execute_result"
    },
    {
     "data": {
      "image/png": "[encoded data removed]",
      "text/plain": [
       "<Figure size 640x480 with 1 Axes>"
      ]
     },
     "metadata": {},
     "output_type": "display_data"
    }
   ],
   "source": [
    "plt.scatter(np.arange(0, len(split_spec)),split_spec)"
   ]
  },
  {
   "cell_type": "code",
   "execution_count": null,
   "metadata": {},
   "outputs": [],
   "source": []
  }
 ],
 "metadata": {
  "kernelspec": {
   "display_name": "ml",
   "language": "python",
   "name": "python3"
  },
  "language_info": {
   "codemirror_mode": {
    "name": "ipython",
    "version": 3
   },
   "file_extension": ".py",
   "mimetype": "text/x-python",
   "name": "python",
   "nbconvert_exporter": "python",
   "pygments_lexer": "ipython3",
   "version": "3.11.4"
  }
 },
 "nbformat": 4,
 "nbformat_minor": 2
}
