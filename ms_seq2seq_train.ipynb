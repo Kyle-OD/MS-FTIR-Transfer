{
 "cells": [
  {
   "cell_type": "code",
   "execution_count": null,
   "metadata": {},
   "outputs": [],
   "source": [
    "from ms_data_funcs import *\n",
    "from transformer_funcs import *\n",
    "\n",
    "import torch\n",
    "import pandas as pd\n",
    "from sklearn.preprocessing import LabelEncoder"
   ]
  },
  {
   "cell_type": "code",
   "execution_count": null,
   "metadata": {},
   "outputs": [],
   "source": [
    "if torch.cuda.is_available():\n",
    "    print(\"CUDA is available.\")\n",
    "    print(\"PyTorch version:\", torch.__version__)\n",
    "    print(\"CUDA version:\", torch.version.cuda)\n",
    "    print(\"Number of available GPUs:\", torch.cuda.device_count())\n",
    "    print(\"GPU name:\", torch.cuda.get_device_name(0))\n",
    "else:\n",
    "    print(\"CUDA is not available.\")"
   ]
  },
  {
   "cell_type": "code",
   "execution_count": null,
   "metadata": {},
   "outputs": [],
   "source": [
    "device = torch.device(\"cuda\" if torch.cuda.is_available() else \"cpu\")\n",
    "print(f\"Using device: {device}\")"
   ]
  },
  {
   "cell_type": "code",
   "execution_count": null,
   "metadata": {},
   "outputs": [],
   "source": [
    "df = pd.read_csv('data/MoNA/in-silico-SMILES.csv') \n",
    "print(f\"Train shape: {df.shape}\")"
   ]
  },
  {
   "cell_type": "code",
   "execution_count": null,
   "metadata": {},
   "outputs": [],
   "source": [
    "df_test = pd.read_csv('data/MoNA/experimental-SMILES.csv')\n",
    "print(f\"Test shape: {df_test.shape}\")"
   ]
  },
  {
   "cell_type": "code",
   "execution_count": null,
   "metadata": {},
   "outputs": [],
   "source": [
    "# Minimal test\n",
    "n = 50000\n",
    "df = df.sample(n)\n",
    "df_test = df_test.sample(n//2)"
   ]
  },
  {
   "cell_type": "code",
   "execution_count": null,
   "metadata": {},
   "outputs": [],
   "source": [
    "method='direct'"
   ]
  },
  {
   "cell_type": "code",
   "execution_count": null,
   "metadata": {},
   "outputs": [],
   "source": [
    "max_mz = calculate_max_mz(df)"
   ]
  },
  {
   "cell_type": "code",
   "execution_count": null,
   "metadata": {},
   "outputs": [],
   "source": [
    "df['molecular_formula'].unique().shape"
   ]
  },
  {
   "cell_type": "code",
   "execution_count": null,
   "metadata": {},
   "outputs": [],
   "source": [
    "smiles_vocabs = get_or_create_smiles_vocabs(df)"
   ]
  },
  {
   "cell_type": "code",
   "execution_count": null,
   "metadata": {},
   "outputs": [],
   "source": [
    "results = {}\n",
    "print(f\"\\nSpectra tokenized with {method} tokenization:\")\n",
    "print(f\"\\nSMILES tokenized with {'character'} tokenization\")\n",
    "smiles_vocab = smiles_vocabs['character']\n",
    "\n",
    "train_loader, test_loader = load_tokenized_data_with_smiles(df, df_test, \n",
    "                                                            method, \n",
    "                                                            smiles_vocab, \n",
    "                                                            max_mz=max_mz)\n",
    "\n",
    "#num_classes = len(label_encoder.classes_)\n",
    "smiles_vocab_size = len(smiles_vocab)\n",
    "\n",
    "# sample batch used for input dimensions\n",
    "sample_batch, target_batch = next(iter(train_loader))\n",
    "print(\"Spectra shape:\", sample_batch.shape)\n",
    "print(\"SMILES shape:\", target_batch.shape)\n",
    "embed_depth = sample_batch.shape[3]"
   ]
  },
  {
   "cell_type": "code",
   "execution_count": null,
   "metadata": {},
   "outputs": [],
   "source": [
    "model = MS_VIT_Seq2Seq(\n",
    "    smiles_vocab_size=len(smiles_vocab),\n",
    "    embed_depth=embed_depth,\n",
    "    d_model=64,           # Reduced from 256\n",
    "    nhead=4,              # Reduced from 8\n",
    "    num_layers=2,         # Reduced from 6\n",
    "    dim_feedforward=256,  # Reduced from 2048\n",
    "    dropout=0.1,\n",
    "    num_classes=None\n",
    ")"
   ]
  },
  {
   "cell_type": "code",
   "execution_count": null,
   "metadata": {},
   "outputs": [],
   "source": [
    "optimizer = optim.Adam(model.parameters(), lr=0.0001)\n",
    "criterion_seq = nn.CrossEntropyLoss()#ignore_index=smiles_vocab['<pad>'])\n",
    "\n",
    "model, history = train_model_seq2seq(model, train_loader, test_loader, \n",
    "                                     optimizer, criterion_seq, \n",
    "                                     num_epochs=100, evaluate=True, verbose=1,\n",
    "                                     checkpoint_path=\"./model_checkpoints/\",\n",
    "                                     meta_tag=(method+\"_character\"),\n",
    "                                     use_tensorboard=True)"
   ]
  },
  {
   "cell_type": "code",
   "execution_count": null,
   "metadata": {},
   "outputs": [],
   "source": [
    "results = evaluate_model_seq2seq(model, test_loader, smiles_vocab, test=True)"
   ]
  },
  {
   "cell_type": "code",
   "execution_count": null,
   "metadata": {},
   "outputs": [],
   "source": [
    "plot_training_history(history)"
   ]
  },
  {
   "cell_type": "code",
   "execution_count": null,
   "metadata": {},
   "outputs": [],
   "source": []
  }
 ],
 "metadata": {
  "kernelspec": {
   "display_name": "ml",
   "language": "python",
   "name": "python3"
  },
  "language_info": {
   "codemirror_mode": {
    "name": "ipython",
    "version": 3
   },
   "file_extension": ".py",
   "mimetype": "text/x-python",
   "name": "python",
   "nbconvert_exporter": "python",
   "pygments_lexer": "ipython3",
   "version": "3.11.4"
  }
 },
 "nbformat": 4,
 "nbformat_minor": 2
}
