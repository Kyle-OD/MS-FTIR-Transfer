{
 "cells": [
  {
   "cell_type": "code",
   "execution_count": 1,
   "metadata": {},
   "outputs": [],
   "source": [
    "from ms_data_funcs import *\n",
    "from transformer_funcs import *\n",
    "\n",
    "import torch\n",
    "import pandas as pd\n",
    "from sklearn.preprocessing import LabelEncoder"
   ]
  },
  {
   "cell_type": "code",
   "execution_count": 2,
   "metadata": {},
   "outputs": [
    {
     "name": "stdout",
     "output_type": "stream",
     "text": [
      "CUDA is available.\n",
      "PyTorch version: 2.0.1+cu118\n",
      "CUDA version: 11.8\n",
      "Number of available GPUs: 1\n",
      "GPU name: NVIDIA GeForce RTX 3080\n"
     ]
    }
   ],
   "source": [
    "if torch.cuda.is_available():\n",
    "    print(\"CUDA is available.\")\n",
    "    print(\"PyTorch version:\", torch.__version__)\n",
    "    print(\"CUDA version:\", torch.version.cuda)\n",
    "    print(\"Number of available GPUs:\", torch.cuda.device_count())\n",
    "    print(\"GPU name:\", torch.cuda.get_device_name(0))\n",
    "else:\n",
    "    print(\"CUDA is not available.\")"
   ]
  },
  {
   "cell_type": "code",
   "execution_count": 3,
   "metadata": {},
   "outputs": [
    {
     "name": "stdout",
     "output_type": "stream",
     "text": [
      "Using device: cuda\n"
     ]
    }
   ],
   "source": [
    "device = torch.device(\"cuda\" if torch.cuda.is_available() else \"cpu\")\n",
    "print(f\"Using device: {device}\")"
   ]
  },
  {
   "cell_type": "code",
   "execution_count": 4,
   "metadata": {},
   "outputs": [
    {
     "name": "stderr",
     "output_type": "stream",
     "text": [
      "/tmp/ipykernel_4734/3583281888.py:1: DtypeWarning: Columns (7,8,11,13) have mixed types. Specify dtype option on import or set low_memory=False.\n",
      "  df = pd.read_csv('data/MoNA/in-silico-SMILES.csv')\n"
     ]
    },
    {
     "name": "stdout",
     "output_type": "stream",
     "text": [
      "Original shape: (1837926, 18)\n"
     ]
    }
   ],
   "source": [
    "df = pd.read_csv('data/MoNA/in-silico-SMILES.csv') \n",
    "print(f\"Original shape: {df.shape}\")"
   ]
  },
  {
   "cell_type": "code",
   "execution_count": 5,
   "metadata": {},
   "outputs": [],
   "source": [
    "# Minimal test\n",
    "df = df.iloc[0:5000]"
   ]
  },
  {
   "cell_type": "code",
   "execution_count": 6,
   "metadata": {},
   "outputs": [],
   "source": [
    "method='direct'"
   ]
  },
  {
   "cell_type": "code",
   "execution_count": 7,
   "metadata": {},
   "outputs": [],
   "source": [
    "label_encoder = LabelEncoder()\n",
    "y = label_encoder.fit_transform(df['molecular_formula'])\n",
    "max_mz = calculate_max_mz(df)"
   ]
  },
  {
   "cell_type": "code",
   "execution_count": 8,
   "metadata": {},
   "outputs": [
    {
     "data": {
      "text/plain": [
       "(1054,)"
      ]
     },
     "execution_count": 8,
     "metadata": {},
     "output_type": "execute_result"
    }
   ],
   "source": [
    "df['molecular_formula'].unique().shape"
   ]
  },
  {
   "cell_type": "code",
   "execution_count": 9,
   "metadata": {},
   "outputs": [
    {
     "name": "stdout",
     "output_type": "stream",
     "text": [
      "Loading existing character vocabulary...\n",
      "SMILES vocabulary size (character): 32\n",
      "Loading existing atom_wise vocabulary...\n",
      "SMILES vocabulary size (atom_wise): 12\n",
      "Loading existing substructure vocabulary...\n",
      "SMILES vocabulary size (substructure): 38759\n"
     ]
    }
   ],
   "source": [
    "smiles_vocabs = get_or_create_smiles_vocabs(df)"
   ]
  },
  {
   "cell_type": "code",
   "execution_count": 10,
   "metadata": {},
   "outputs": [
    {
     "name": "stdout",
     "output_type": "stream",
     "text": [
      "\n",
      "Spectra tokenized with direct tokenization:\n",
      "\n",
      "SMILES tokenized with character tokenization\n",
      "Sample shape: torch.Size([32, 1, 112, 16])\n"
     ]
    }
   ],
   "source": [
    "results = {}\n",
    "print(f\"\\nSpectra tokenized with {method} tokenization:\")\n",
    "print(f\"\\nSMILES tokenized with {'character'} tokenization\")\n",
    "smiles_vocab = smiles_vocabs['character']\n",
    "\n",
    "train_loader, test_loader = load_tokenized_data_with_smiles(df, df, \n",
    "                                                            method, \n",
    "                                                            smiles_vocab, \n",
    "                                                            max_mz=max_mz)\n",
    "\n",
    "#num_classes = len(label_encoder.classes_)\n",
    "smiles_vocab_size = len(smiles_vocab)\n",
    "\n",
    "# sample batch used for input dimensions\n",
    "sample_batch, _ = next(iter(train_loader))\n",
    "print(\"Sample shape:\", sample_batch.shape)\n",
    "embed_depth = sample_batch.shape[3]"
   ]
  },
  {
   "cell_type": "code",
   "execution_count": 11,
   "metadata": {},
   "outputs": [
    {
     "name": "stdout",
     "output_type": "stream",
     "text": [
      "MS_VIT_Seq2Seq(\n",
      "  (embedding): Linear(in_features=16, out_features=64, bias=True)\n",
      "  (pos_encoder): PositionalEncoding()\n",
      "  (transformer_encoder): TransformerEncoder(\n",
      "    (layers): ModuleList(\n",
      "      (0-1): 2 x TransformerEncoderLayer(\n",
      "        (self_attn): MultiheadAttention(\n",
      "          (out_proj): NonDynamicallyQuantizableLinear(in_features=64, out_features=64, bias=True)\n",
      "        )\n",
      "        (linear1): Linear(in_features=64, out_features=256, bias=True)\n",
      "        (dropout): Dropout(p=0.1, inplace=False)\n",
      "        (linear2): Linear(in_features=256, out_features=64, bias=True)\n",
      "        (norm1): LayerNorm((64,), eps=1e-05, elementwise_affine=True)\n",
      "        (norm2): LayerNorm((64,), eps=1e-05, elementwise_affine=True)\n",
      "        (dropout1): Dropout(p=0.1, inplace=False)\n",
      "        (dropout2): Dropout(p=0.1, inplace=False)\n",
      "      )\n",
      "    )\n",
      "  )\n",
      "  (smiles_embedding): Embedding(32, 64)\n",
      "  (transformer_decoder): TransformerDecoder(\n",
      "    (layers): ModuleList(\n",
      "      (0-1): 2 x TransformerDecoderLayer(\n",
      "        (self_attn): MultiheadAttention(\n",
      "          (out_proj): NonDynamicallyQuantizableLinear(in_features=64, out_features=64, bias=True)\n",
      "        )\n",
      "        (multihead_attn): MultiheadAttention(\n",
      "          (out_proj): NonDynamicallyQuantizableLinear(in_features=64, out_features=64, bias=True)\n",
      "        )\n",
      "        (linear1): Linear(in_features=64, out_features=256, bias=True)\n",
      "        (dropout): Dropout(p=0.1, inplace=False)\n",
      "        (linear2): Linear(in_features=256, out_features=64, bias=True)\n",
      "        (norm1): LayerNorm((64,), eps=1e-05, elementwise_affine=True)\n",
      "        (norm2): LayerNorm((64,), eps=1e-05, elementwise_affine=True)\n",
      "        (norm3): LayerNorm((64,), eps=1e-05, elementwise_affine=True)\n",
      "        (dropout1): Dropout(p=0.1, inplace=False)\n",
      "        (dropout2): Dropout(p=0.1, inplace=False)\n",
      "        (dropout3): Dropout(p=0.1, inplace=False)\n",
      "      )\n",
      "    )\n",
      "  )\n",
      "  (fc_smiles): Linear(in_features=64, out_features=32, bias=True)\n",
      ")\n"
     ]
    }
   ],
   "source": [
    "model = MS_VIT_Seq2Seq(\n",
    "    smiles_vocab_size=len(smiles_vocab),\n",
    "    embed_depth=embed_depth,\n",
    "    d_model=64,           # Reduced from 256\n",
    "    nhead=4,              # Reduced from 8\n",
    "    num_layers=2,         # Reduced from 6\n",
    "    dim_feedforward=256,  # Reduced from 2048\n",
    "    dropout=0.1,\n",
    "    num_classes=None\n",
    ")"
   ]
  },
  {
   "cell_type": "code",
   "execution_count": 12,
   "metadata": {},
   "outputs": [
    {
     "name": "stdout",
     "output_type": "stream",
     "text": [
      "Saving checkpoints to ./model_checkpoints/checkpoint_2\n"
     ]
    },
    {
     "data": {
      "application/vnd.jupyter.widget-view+json": {
       "model_id": "700ecffceab44b8791b793c2cf0699bf",
       "version_major": 2,
       "version_minor": 0
      },
      "text/plain": [
       "Epoch 1/50 [Train]:   0%|          | 0/157 [00:00<?, ?it/s]"
      ]
     },
     "metadata": {},
     "output_type": "display_data"
    },
    {
     "data": {
      "application/vnd.jupyter.widget-view+json": {
       "model_id": "54ad122bb93a4481af6a755046639bcf",
       "version_major": 2,
       "version_minor": 0
      },
      "text/plain": [
       "Epoch 1/50 [Test]:   0%|          | 0/157 [00:00<?, ?it/s]"
      ]
     },
     "metadata": {},
     "output_type": "display_data"
    },
    {
     "data": {
      "application/vnd.jupyter.widget-view+json": {
       "model_id": "9d0af6274e7b40e4883d4eb42a5078c8",
       "version_major": 2,
       "version_minor": 0
      },
      "text/plain": [
       "Epoch 2/50 [Train]:   0%|          | 0/157 [00:00<?, ?it/s]"
      ]
     },
     "metadata": {},
     "output_type": "display_data"
    },
    {
     "data": {
      "application/vnd.jupyter.widget-view+json": {
       "model_id": "6d726d0b1e094cb1b2ee930c31891c6d",
       "version_major": 2,
       "version_minor": 0
      },
      "text/plain": [
       "Epoch 2/50 [Test]:   0%|          | 0/157 [00:00<?, ?it/s]"
      ]
     },
     "metadata": {},
     "output_type": "display_data"
    },
    {
     "data": {
      "application/vnd.jupyter.widget-view+json": {
       "model_id": "154f161586b043b7acfe886e5a529bf2",
       "version_major": 2,
       "version_minor": 0
      },
      "text/plain": [
       "Epoch 3/50 [Train]:   0%|          | 0/157 [00:00<?, ?it/s]"
      ]
     },
     "metadata": {},
     "output_type": "display_data"
    },
    {
     "data": {
      "application/vnd.jupyter.widget-view+json": {
       "model_id": "d6239af7fd2a43279c0d50562789a9dd",
       "version_major": 2,
       "version_minor": 0
      },
      "text/plain": [
       "Epoch 3/50 [Test]:   0%|          | 0/157 [00:00<?, ?it/s]"
      ]
     },
     "metadata": {},
     "output_type": "display_data"
    },
    {
     "data": {
      "application/vnd.jupyter.widget-view+json": {
       "model_id": "1bdd00d15fd54af1a68c6f1597c16c28",
       "version_major": 2,
       "version_minor": 0
      },
      "text/plain": [
       "Epoch 4/50 [Train]:   0%|          | 0/157 [00:00<?, ?it/s]"
      ]
     },
     "metadata": {},
     "output_type": "display_data"
    },
    {
     "data": {
      "application/vnd.jupyter.widget-view+json": {
       "model_id": "1c8b5d4cfac841928f3a33be9865e725",
       "version_major": 2,
       "version_minor": 0
      },
      "text/plain": [
       "Epoch 4/50 [Test]:   0%|          | 0/157 [00:00<?, ?it/s]"
      ]
     },
     "metadata": {},
     "output_type": "display_data"
    },
    {
     "data": {
      "application/vnd.jupyter.widget-view+json": {
       "model_id": "69c86e7d539c489c8ba0b258ffea3485",
       "version_major": 2,
       "version_minor": 0
      },
      "text/plain": [
       "Epoch 5/50 [Train]:   0%|          | 0/157 [00:00<?, ?it/s]"
      ]
     },
     "metadata": {},
     "output_type": "display_data"
    },
    {
     "data": {
      "application/vnd.jupyter.widget-view+json": {
       "model_id": "61711aeb9d914978b2620bc68df9edbc",
       "version_major": 2,
       "version_minor": 0
      },
      "text/plain": [
       "Epoch 5/50 [Test]:   0%|          | 0/157 [00:00<?, ?it/s]"
      ]
     },
     "metadata": {},
     "output_type": "display_data"
    },
    {
     "data": {
      "application/vnd.jupyter.widget-view+json": {
       "model_id": "e19611bb1cdc4ec68cb6563b82cf3cb9",
       "version_major": 2,
       "version_minor": 0
      },
      "text/plain": [
       "Epoch 6/50 [Train]:   0%|          | 0/157 [00:00<?, ?it/s]"
      ]
     },
     "metadata": {},
     "output_type": "display_data"
    },
    {
     "data": {
      "application/vnd.jupyter.widget-view+json": {
       "model_id": "b670a60b8e114b28b43e1841a1ca8afd",
       "version_major": 2,
       "version_minor": 0
      },
      "text/plain": [
       "Epoch 6/50 [Test]:   0%|          | 0/157 [00:00<?, ?it/s]"
      ]
     },
     "metadata": {},
     "output_type": "display_data"
    },
    {
     "data": {
      "application/vnd.jupyter.widget-view+json": {
       "model_id": "b914afb6a87a4b39b9c94558e5d6fcb9",
       "version_major": 2,
       "version_minor": 0
      },
      "text/plain": [
       "Epoch 7/50 [Train]:   0%|          | 0/157 [00:00<?, ?it/s]"
      ]
     },
     "metadata": {},
     "output_type": "display_data"
    },
    {
     "data": {
      "application/vnd.jupyter.widget-view+json": {
       "model_id": "a7e0a15ad843446fb1fda1049377c0f5",
       "version_major": 2,
       "version_minor": 0
      },
      "text/plain": [
       "Epoch 7/50 [Test]:   0%|          | 0/157 [00:00<?, ?it/s]"
      ]
     },
     "metadata": {},
     "output_type": "display_data"
    },
    {
     "data": {
      "application/vnd.jupyter.widget-view+json": {
       "model_id": "a8ee38940ac94fca89917ec4f8e54fc0",
       "version_major": 2,
       "version_minor": 0
      },
      "text/plain": [
       "Epoch 8/50 [Train]:   0%|          | 0/157 [00:00<?, ?it/s]"
      ]
     },
     "metadata": {},
     "output_type": "display_data"
    },
    {
     "data": {
      "application/vnd.jupyter.widget-view+json": {
       "model_id": "be35157d15f3497aa64c647d7cf7b5f2",
       "version_major": 2,
       "version_minor": 0
      },
      "text/plain": [
       "Epoch 8/50 [Test]:   0%|          | 0/157 [00:00<?, ?it/s]"
      ]
     },
     "metadata": {},
     "output_type": "display_data"
    },
    {
     "data": {
      "application/vnd.jupyter.widget-view+json": {
       "model_id": "ac4590daf40a454e934d3ee745f6b346",
       "version_major": 2,
       "version_minor": 0
      },
      "text/plain": [
       "Epoch 9/50 [Train]:   0%|          | 0/157 [00:00<?, ?it/s]"
      ]
     },
     "metadata": {},
     "output_type": "display_data"
    },
    {
     "data": {
      "application/vnd.jupyter.widget-view+json": {
       "model_id": "cee2077dc9164922af057d13fa25ff7d",
       "version_major": 2,
       "version_minor": 0
      },
      "text/plain": [
       "Epoch 9/50 [Test]:   0%|          | 0/157 [00:00<?, ?it/s]"
      ]
     },
     "metadata": {},
     "output_type": "display_data"
    },
    {
     "data": {
      "application/vnd.jupyter.widget-view+json": {
       "model_id": "33e4a8f8d15e4936b6ac2c907d1c37ca",
       "version_major": 2,
       "version_minor": 0
      },
      "text/plain": [
       "Epoch 10/50 [Train]:   0%|          | 0/157 [00:00<?, ?it/s]"
      ]
     },
     "metadata": {},
     "output_type": "display_data"
    },
    {
     "data": {
      "application/vnd.jupyter.widget-view+json": {
       "model_id": "72ecbb557019403cad7ddcfe01e43608",
       "version_major": 2,
       "version_minor": 0
      },
      "text/plain": [
       "Epoch 10/50 [Test]:   0%|          | 0/157 [00:00<?, ?it/s]"
      ]
     },
     "metadata": {},
     "output_type": "display_data"
    },
    {
     "data": {
      "application/vnd.jupyter.widget-view+json": {
       "model_id": "32ea3113ac334465b42d754c85b8756c",
       "version_major": 2,
       "version_minor": 0
      },
      "text/plain": [
       "Epoch 11/50 [Train]:   0%|          | 0/157 [00:00<?, ?it/s]"
      ]
     },
     "metadata": {},
     "output_type": "display_data"
    },
    {
     "data": {
      "application/vnd.jupyter.widget-view+json": {
       "model_id": "8755324b08dd4995ac3e26f3720f4ee7",
       "version_major": 2,
       "version_minor": 0
      },
      "text/plain": [
       "Epoch 11/50 [Test]:   0%|          | 0/157 [00:00<?, ?it/s]"
      ]
     },
     "metadata": {},
     "output_type": "display_data"
    },
    {
     "data": {
      "application/vnd.jupyter.widget-view+json": {
       "model_id": "8f8ee47fbdd44a3992b696a74b876f60",
       "version_major": 2,
       "version_minor": 0
      },
      "text/plain": [
       "Epoch 12/50 [Train]:   0%|          | 0/157 [00:00<?, ?it/s]"
      ]
     },
     "metadata": {},
     "output_type": "display_data"
    },
    {
     "data": {
      "application/vnd.jupyter.widget-view+json": {
       "model_id": "740c2477113a4d4f90546d4fde2a1d0b",
       "version_major": 2,
       "version_minor": 0
      },
      "text/plain": [
       "Epoch 12/50 [Test]:   0%|          | 0/157 [00:00<?, ?it/s]"
      ]
     },
     "metadata": {},
     "output_type": "display_data"
    },
    {
     "data": {
      "application/vnd.jupyter.widget-view+json": {
       "model_id": "3ece58274a4048bda5217948fd5c4bb3",
       "version_major": 2,
       "version_minor": 0
      },
      "text/plain": [
       "Epoch 13/50 [Train]:   0%|          | 0/157 [00:00<?, ?it/s]"
      ]
     },
     "metadata": {},
     "output_type": "display_data"
    },
    {
     "data": {
      "application/vnd.jupyter.widget-view+json": {
       "model_id": "f55bd035e96d491ba3f91c0d09250098",
       "version_major": 2,
       "version_minor": 0
      },
      "text/plain": [
       "Epoch 13/50 [Test]:   0%|          | 0/157 [00:00<?, ?it/s]"
      ]
     },
     "metadata": {},
     "output_type": "display_data"
    },
    {
     "data": {
      "application/vnd.jupyter.widget-view+json": {
       "model_id": "a98b20a68deb4deaa0870a73df3c945d",
       "version_major": 2,
       "version_minor": 0
      },
      "text/plain": [
       "Epoch 14/50 [Train]:   0%|          | 0/157 [00:00<?, ?it/s]"
      ]
     },
     "metadata": {},
     "output_type": "display_data"
    },
    {
     "data": {
      "application/vnd.jupyter.widget-view+json": {
       "model_id": "7790286556f7490585c7162593bc47bc",
       "version_major": 2,
       "version_minor": 0
      },
      "text/plain": [
       "Epoch 14/50 [Test]:   0%|          | 0/157 [00:00<?, ?it/s]"
      ]
     },
     "metadata": {},
     "output_type": "display_data"
    },
    {
     "data": {
      "application/vnd.jupyter.widget-view+json": {
       "model_id": "a969ddf7ff7e49a983edb73306d02527",
       "version_major": 2,
       "version_minor": 0
      },
      "text/plain": [
       "Epoch 15/50 [Train]:   0%|          | 0/157 [00:00<?, ?it/s]"
      ]
     },
     "metadata": {},
     "output_type": "display_data"
    },
    {
     "data": {
      "application/vnd.jupyter.widget-view+json": {
       "model_id": "bf39d4a8c66a4e1fa26b5037e42d9445",
       "version_major": 2,
       "version_minor": 0
      },
      "text/plain": [
       "Epoch 15/50 [Test]:   0%|          | 0/157 [00:00<?, ?it/s]"
      ]
     },
     "metadata": {},
     "output_type": "display_data"
    },
    {
     "data": {
      "application/vnd.jupyter.widget-view+json": {
       "model_id": "b2da5464d3f2487ea8b804d195697dde",
       "version_major": 2,
       "version_minor": 0
      },
      "text/plain": [
       "Epoch 16/50 [Train]:   0%|          | 0/157 [00:00<?, ?it/s]"
      ]
     },
     "metadata": {},
     "output_type": "display_data"
    },
    {
     "data": {
      "application/vnd.jupyter.widget-view+json": {
       "model_id": "17cd7c5bf75a427cb4ff997a00bf9fea",
       "version_major": 2,
       "version_minor": 0
      },
      "text/plain": [
       "Epoch 16/50 [Test]:   0%|          | 0/157 [00:00<?, ?it/s]"
      ]
     },
     "metadata": {},
     "output_type": "display_data"
    },
    {
     "data": {
      "application/vnd.jupyter.widget-view+json": {
       "model_id": "f4607d2b3380477999e7b9d3a1ae4cc1",
       "version_major": 2,
       "version_minor": 0
      },
      "text/plain": [
       "Epoch 17/50 [Train]:   0%|          | 0/157 [00:00<?, ?it/s]"
      ]
     },
     "metadata": {},
     "output_type": "display_data"
    },
    {
     "data": {
      "application/vnd.jupyter.widget-view+json": {
       "model_id": "e0281413b74c4f1f8e5372ea16c80744",
       "version_major": 2,
       "version_minor": 0
      },
      "text/plain": [
       "Epoch 17/50 [Test]:   0%|          | 0/157 [00:00<?, ?it/s]"
      ]
     },
     "metadata": {},
     "output_type": "display_data"
    },
    {
     "data": {
      "application/vnd.jupyter.widget-view+json": {
       "model_id": "ac559289d4354cc8817a290c403287f2",
       "version_major": 2,
       "version_minor": 0
      },
      "text/plain": [
       "Epoch 18/50 [Train]:   0%|          | 0/157 [00:00<?, ?it/s]"
      ]
     },
     "metadata": {},
     "output_type": "display_data"
    },
    {
     "data": {
      "application/vnd.jupyter.widget-view+json": {
       "model_id": "5b60e866409743b89ebc68a69b62cd2c",
       "version_major": 2,
       "version_minor": 0
      },
      "text/plain": [
       "Epoch 18/50 [Test]:   0%|          | 0/157 [00:00<?, ?it/s]"
      ]
     },
     "metadata": {},
     "output_type": "display_data"
    },
    {
     "data": {
      "application/vnd.jupyter.widget-view+json": {
       "model_id": "efac28e0635a4cf1a2a7df302a456380",
       "version_major": 2,
       "version_minor": 0
      },
      "text/plain": [
       "Epoch 19/50 [Train]:   0%|          | 0/157 [00:00<?, ?it/s]"
      ]
     },
     "metadata": {},
     "output_type": "display_data"
    },
    {
     "data": {
      "application/vnd.jupyter.widget-view+json": {
       "model_id": "91a214b8f14148b59cda582beb6d67ef",
       "version_major": 2,
       "version_minor": 0
      },
      "text/plain": [
       "Epoch 19/50 [Test]:   0%|          | 0/157 [00:00<?, ?it/s]"
      ]
     },
     "metadata": {},
     "output_type": "display_data"
    },
    {
     "data": {
      "application/vnd.jupyter.widget-view+json": {
       "model_id": "82a99a2c16624f72afbb442147fed5d2",
       "version_major": 2,
       "version_minor": 0
      },
      "text/plain": [
       "Epoch 20/50 [Train]:   0%|          | 0/157 [00:00<?, ?it/s]"
      ]
     },
     "metadata": {},
     "output_type": "display_data"
    },
    {
     "data": {
      "application/vnd.jupyter.widget-view+json": {
       "model_id": "4cf5b19ec49f48f8ba4df83730f38b5a",
       "version_major": 2,
       "version_minor": 0
      },
      "text/plain": [
       "Epoch 20/50 [Test]:   0%|          | 0/157 [00:00<?, ?it/s]"
      ]
     },
     "metadata": {},
     "output_type": "display_data"
    },
    {
     "data": {
      "application/vnd.jupyter.widget-view+json": {
       "model_id": "3357df541f5246878bb94b1c5d4343e6",
       "version_major": 2,
       "version_minor": 0
      },
      "text/plain": [
       "Epoch 21/50 [Train]:   0%|          | 0/157 [00:00<?, ?it/s]"
      ]
     },
     "metadata": {},
     "output_type": "display_data"
    },
    {
     "data": {
      "application/vnd.jupyter.widget-view+json": {
       "model_id": "e56315bedd264082930f93ef236382a3",
       "version_major": 2,
       "version_minor": 0
      },
      "text/plain": [
       "Epoch 21/50 [Test]:   0%|          | 0/157 [00:00<?, ?it/s]"
      ]
     },
     "metadata": {},
     "output_type": "display_data"
    },
    {
     "data": {
      "application/vnd.jupyter.widget-view+json": {
       "model_id": "07040a4b74094f6589717a640620e910",
       "version_major": 2,
       "version_minor": 0
      },
      "text/plain": [
       "Epoch 22/50 [Train]:   0%|          | 0/157 [00:00<?, ?it/s]"
      ]
     },
     "metadata": {},
     "output_type": "display_data"
    },
    {
     "data": {
      "application/vnd.jupyter.widget-view+json": {
       "model_id": "663998bd1dda408b8225dac262e75b81",
       "version_major": 2,
       "version_minor": 0
      },
      "text/plain": [
       "Epoch 22/50 [Test]:   0%|          | 0/157 [00:00<?, ?it/s]"
      ]
     },
     "metadata": {},
     "output_type": "display_data"
    },
    {
     "data": {
      "application/vnd.jupyter.widget-view+json": {
       "model_id": "af1654fb8681479495886bce559e46c9",
       "version_major": 2,
       "version_minor": 0
      },
      "text/plain": [
       "Epoch 23/50 [Train]:   0%|          | 0/157 [00:00<?, ?it/s]"
      ]
     },
     "metadata": {},
     "output_type": "display_data"
    },
    {
     "data": {
      "application/vnd.jupyter.widget-view+json": {
       "model_id": "de74ad64046546aeae708ebcb40f4117",
       "version_major": 2,
       "version_minor": 0
      },
      "text/plain": [
       "Epoch 23/50 [Test]:   0%|          | 0/157 [00:00<?, ?it/s]"
      ]
     },
     "metadata": {},
     "output_type": "display_data"
    },
    {
     "data": {
      "application/vnd.jupyter.widget-view+json": {
       "model_id": "18613c742b71409796348568fd5797ea",
       "version_major": 2,
       "version_minor": 0
      },
      "text/plain": [
       "Epoch 24/50 [Train]:   0%|          | 0/157 [00:00<?, ?it/s]"
      ]
     },
     "metadata": {},
     "output_type": "display_data"
    },
    {
     "data": {
      "application/vnd.jupyter.widget-view+json": {
       "model_id": "308c8d12819c40f8aaf6db1b28890814",
       "version_major": 2,
       "version_minor": 0
      },
      "text/plain": [
       "Epoch 24/50 [Test]:   0%|          | 0/157 [00:00<?, ?it/s]"
      ]
     },
     "metadata": {},
     "output_type": "display_data"
    },
    {
     "data": {
      "application/vnd.jupyter.widget-view+json": {
       "model_id": "6558da5783824cfb987d433b1b92d801",
       "version_major": 2,
       "version_minor": 0
      },
      "text/plain": [
       "Epoch 25/50 [Train]:   0%|          | 0/157 [00:00<?, ?it/s]"
      ]
     },
     "metadata": {},
     "output_type": "display_data"
    },
    {
     "data": {
      "application/vnd.jupyter.widget-view+json": {
       "model_id": "c7b1bf411d394c9991ab595bfa021bab",
       "version_major": 2,
       "version_minor": 0
      },
      "text/plain": [
       "Epoch 25/50 [Test]:   0%|          | 0/157 [00:00<?, ?it/s]"
      ]
     },
     "metadata": {},
     "output_type": "display_data"
    },
    {
     "data": {
      "application/vnd.jupyter.widget-view+json": {
       "model_id": "97095f37c7d345799af6af98041abdf8",
       "version_major": 2,
       "version_minor": 0
      },
      "text/plain": [
       "Epoch 26/50 [Train]:   0%|          | 0/157 [00:00<?, ?it/s]"
      ]
     },
     "metadata": {},
     "output_type": "display_data"
    },
    {
     "data": {
      "application/vnd.jupyter.widget-view+json": {
       "model_id": "78ad9105425c4494a6060fe729552e95",
       "version_major": 2,
       "version_minor": 0
      },
      "text/plain": [
       "Epoch 26/50 [Test]:   0%|          | 0/157 [00:00<?, ?it/s]"
      ]
     },
     "metadata": {},
     "output_type": "display_data"
    },
    {
     "data": {
      "application/vnd.jupyter.widget-view+json": {
       "model_id": "e64d68e9db364c48bce19cada6d39a82",
       "version_major": 2,
       "version_minor": 0
      },
      "text/plain": [
       "Epoch 27/50 [Train]:   0%|          | 0/157 [00:00<?, ?it/s]"
      ]
     },
     "metadata": {},
     "output_type": "display_data"
    },
    {
     "data": {
      "application/vnd.jupyter.widget-view+json": {
       "model_id": "4e86c77704aa4d6a8aa47592a48d1a8d",
       "version_major": 2,
       "version_minor": 0
      },
      "text/plain": [
       "Epoch 27/50 [Test]:   0%|          | 0/157 [00:00<?, ?it/s]"
      ]
     },
     "metadata": {},
     "output_type": "display_data"
    },
    {
     "data": {
      "application/vnd.jupyter.widget-view+json": {
       "model_id": "951aad4f31cb4b6d82bf0a94291201cd",
       "version_major": 2,
       "version_minor": 0
      },
      "text/plain": [
       "Epoch 28/50 [Train]:   0%|          | 0/157 [00:00<?, ?it/s]"
      ]
     },
     "metadata": {},
     "output_type": "display_data"
    },
    {
     "data": {
      "application/vnd.jupyter.widget-view+json": {
       "model_id": "cfd6d19376894528a3ca7455bc3d391a",
       "version_major": 2,
       "version_minor": 0
      },
      "text/plain": [
       "Epoch 28/50 [Test]:   0%|          | 0/157 [00:00<?, ?it/s]"
      ]
     },
     "metadata": {},
     "output_type": "display_data"
    },
    {
     "data": {
      "application/vnd.jupyter.widget-view+json": {
       "model_id": "9242148340884c0e92705587ffa250ca",
       "version_major": 2,
       "version_minor": 0
      },
      "text/plain": [
       "Epoch 29/50 [Train]:   0%|          | 0/157 [00:00<?, ?it/s]"
      ]
     },
     "metadata": {},
     "output_type": "display_data"
    },
    {
     "data": {
      "application/vnd.jupyter.widget-view+json": {
       "model_id": "890520f0e03c457ebec08e54cb5207b3",
       "version_major": 2,
       "version_minor": 0
      },
      "text/plain": [
       "Epoch 29/50 [Test]:   0%|          | 0/157 [00:00<?, ?it/s]"
      ]
     },
     "metadata": {},
     "output_type": "display_data"
    },
    {
     "data": {
      "application/vnd.jupyter.widget-view+json": {
       "model_id": "0f6724040e84406f85dc07c748dfa743",
       "version_major": 2,
       "version_minor": 0
      },
      "text/plain": [
       "Epoch 30/50 [Train]:   0%|          | 0/157 [00:00<?, ?it/s]"
      ]
     },
     "metadata": {},
     "output_type": "display_data"
    },
    {
     "data": {
      "application/vnd.jupyter.widget-view+json": {
       "model_id": "0caae5a9c73940b3967f1d1c2b490663",
       "version_major": 2,
       "version_minor": 0
      },
      "text/plain": [
       "Epoch 30/50 [Test]:   0%|          | 0/157 [00:00<?, ?it/s]"
      ]
     },
     "metadata": {},
     "output_type": "display_data"
    },
    {
     "data": {
      "application/vnd.jupyter.widget-view+json": {
       "model_id": "2abaa221c0ea4d1ea2b5638c89ea098d",
       "version_major": 2,
       "version_minor": 0
      },
      "text/plain": [
       "Epoch 31/50 [Train]:   0%|          | 0/157 [00:00<?, ?it/s]"
      ]
     },
     "metadata": {},
     "output_type": "display_data"
    },
    {
     "data": {
      "application/vnd.jupyter.widget-view+json": {
       "model_id": "680d60e099704d9ab98cf8684e124286",
       "version_major": 2,
       "version_minor": 0
      },
      "text/plain": [
       "Epoch 31/50 [Test]:   0%|          | 0/157 [00:00<?, ?it/s]"
      ]
     },
     "metadata": {},
     "output_type": "display_data"
    },
    {
     "data": {
      "application/vnd.jupyter.widget-view+json": {
       "model_id": "a32bbd9f815142849e722a2be6acc209",
       "version_major": 2,
       "version_minor": 0
      },
      "text/plain": [
       "Epoch 32/50 [Train]:   0%|          | 0/157 [00:00<?, ?it/s]"
      ]
     },
     "metadata": {},
     "output_type": "display_data"
    },
    {
     "data": {
      "application/vnd.jupyter.widget-view+json": {
       "model_id": "c14a39b42c6a45fb9f8695e1662507a4",
       "version_major": 2,
       "version_minor": 0
      },
      "text/plain": [
       "Epoch 32/50 [Test]:   0%|          | 0/157 [00:00<?, ?it/s]"
      ]
     },
     "metadata": {},
     "output_type": "display_data"
    },
    {
     "data": {
      "application/vnd.jupyter.widget-view+json": {
       "model_id": "9aad090b9901429aa5b1e25468452d4c",
       "version_major": 2,
       "version_minor": 0
      },
      "text/plain": [
       "Epoch 33/50 [Train]:   0%|          | 0/157 [00:00<?, ?it/s]"
      ]
     },
     "metadata": {},
     "output_type": "display_data"
    },
    {
     "data": {
      "application/vnd.jupyter.widget-view+json": {
       "model_id": "c2520fba1a8a42568d6540bc0f0a5200",
       "version_major": 2,
       "version_minor": 0
      },
      "text/plain": [
       "Epoch 33/50 [Test]:   0%|          | 0/157 [00:00<?, ?it/s]"
      ]
     },
     "metadata": {},
     "output_type": "display_data"
    },
    {
     "data": {
      "application/vnd.jupyter.widget-view+json": {
       "model_id": "06cae1e1e60d4162b420bf78ab9f5533",
       "version_major": 2,
       "version_minor": 0
      },
      "text/plain": [
       "Epoch 34/50 [Train]:   0%|          | 0/157 [00:00<?, ?it/s]"
      ]
     },
     "metadata": {},
     "output_type": "display_data"
    },
    {
     "data": {
      "application/vnd.jupyter.widget-view+json": {
       "model_id": "df147ebed4354d05bf8a06ecac34d23a",
       "version_major": 2,
       "version_minor": 0
      },
      "text/plain": [
       "Epoch 34/50 [Test]:   0%|          | 0/157 [00:00<?, ?it/s]"
      ]
     },
     "metadata": {},
     "output_type": "display_data"
    },
    {
     "data": {
      "application/vnd.jupyter.widget-view+json": {
       "model_id": "60229c40fdee4e73b946355c05ae3b71",
       "version_major": 2,
       "version_minor": 0
      },
      "text/plain": [
       "Epoch 35/50 [Train]:   0%|          | 0/157 [00:00<?, ?it/s]"
      ]
     },
     "metadata": {},
     "output_type": "display_data"
    },
    {
     "data": {
      "application/vnd.jupyter.widget-view+json": {
       "model_id": "f13cb8f6d97445a88002345403887b16",
       "version_major": 2,
       "version_minor": 0
      },
      "text/plain": [
       "Epoch 35/50 [Test]:   0%|          | 0/157 [00:00<?, ?it/s]"
      ]
     },
     "metadata": {},
     "output_type": "display_data"
    },
    {
     "data": {
      "application/vnd.jupyter.widget-view+json": {
       "model_id": "26254e0829b24521bca7ce87a5e7b477",
       "version_major": 2,
       "version_minor": 0
      },
      "text/plain": [
       "Epoch 36/50 [Train]:   0%|          | 0/157 [00:00<?, ?it/s]"
      ]
     },
     "metadata": {},
     "output_type": "display_data"
    },
    {
     "data": {
      "application/vnd.jupyter.widget-view+json": {
       "model_id": "56d4ba8286a54306926903b87cd2a1ed",
       "version_major": 2,
       "version_minor": 0
      },
      "text/plain": [
       "Epoch 36/50 [Test]:   0%|          | 0/157 [00:00<?, ?it/s]"
      ]
     },
     "metadata": {},
     "output_type": "display_data"
    },
    {
     "data": {
      "application/vnd.jupyter.widget-view+json": {
       "model_id": "fe1ef1a70312459288a48ac64e8e7a5a",
       "version_major": 2,
       "version_minor": 0
      },
      "text/plain": [
       "Epoch 37/50 [Train]:   0%|          | 0/157 [00:00<?, ?it/s]"
      ]
     },
     "metadata": {},
     "output_type": "display_data"
    },
    {
     "data": {
      "application/vnd.jupyter.widget-view+json": {
       "model_id": "71d0dad9bfd84192a941ed8a401d7e90",
       "version_major": 2,
       "version_minor": 0
      },
      "text/plain": [
       "Epoch 37/50 [Test]:   0%|          | 0/157 [00:00<?, ?it/s]"
      ]
     },
     "metadata": {},
     "output_type": "display_data"
    },
    {
     "data": {
      "application/vnd.jupyter.widget-view+json": {
       "model_id": "9736fadd39e04d35b30f4d157f101caf",
       "version_major": 2,
       "version_minor": 0
      },
      "text/plain": [
       "Epoch 38/50 [Train]:   0%|          | 0/157 [00:00<?, ?it/s]"
      ]
     },
     "metadata": {},
     "output_type": "display_data"
    },
    {
     "data": {
      "application/vnd.jupyter.widget-view+json": {
       "model_id": "19ff6fbc28aa440980a53880ebecd6c5",
       "version_major": 2,
       "version_minor": 0
      },
      "text/plain": [
       "Epoch 38/50 [Test]:   0%|          | 0/157 [00:00<?, ?it/s]"
      ]
     },
     "metadata": {},
     "output_type": "display_data"
    },
    {
     "data": {
      "application/vnd.jupyter.widget-view+json": {
       "model_id": "25a1df4c4dd746c0a50e7e9f2e7d74aa",
       "version_major": 2,
       "version_minor": 0
      },
      "text/plain": [
       "Epoch 39/50 [Train]:   0%|          | 0/157 [00:00<?, ?it/s]"
      ]
     },
     "metadata": {},
     "output_type": "display_data"
    },
    {
     "data": {
      "application/vnd.jupyter.widget-view+json": {
       "model_id": "0b87f280af8d4981bc01840dacf2224d",
       "version_major": 2,
       "version_minor": 0
      },
      "text/plain": [
       "Epoch 39/50 [Test]:   0%|          | 0/157 [00:00<?, ?it/s]"
      ]
     },
     "metadata": {},
     "output_type": "display_data"
    },
    {
     "data": {
      "application/vnd.jupyter.widget-view+json": {
       "model_id": "7ccc253947764aa086c62cf9fb6fa3a2",
       "version_major": 2,
       "version_minor": 0
      },
      "text/plain": [
       "Epoch 40/50 [Train]:   0%|          | 0/157 [00:00<?, ?it/s]"
      ]
     },
     "metadata": {},
     "output_type": "display_data"
    },
    {
     "data": {
      "application/vnd.jupyter.widget-view+json": {
       "model_id": "347cbe6d63574b4887567906f508e4d1",
       "version_major": 2,
       "version_minor": 0
      },
      "text/plain": [
       "Epoch 40/50 [Test]:   0%|          | 0/157 [00:00<?, ?it/s]"
      ]
     },
     "metadata": {},
     "output_type": "display_data"
    },
    {
     "data": {
      "application/vnd.jupyter.widget-view+json": {
       "model_id": "01088f4c0e464bc0aff6c04c3a32bf08",
       "version_major": 2,
       "version_minor": 0
      },
      "text/plain": [
       "Epoch 41/50 [Train]:   0%|          | 0/157 [00:00<?, ?it/s]"
      ]
     },
     "metadata": {},
     "output_type": "display_data"
    },
    {
     "data": {
      "application/vnd.jupyter.widget-view+json": {
       "model_id": "8265ceaa03404a7789a20eb867703b19",
       "version_major": 2,
       "version_minor": 0
      },
      "text/plain": [
       "Epoch 41/50 [Test]:   0%|          | 0/157 [00:00<?, ?it/s]"
      ]
     },
     "metadata": {},
     "output_type": "display_data"
    },
    {
     "data": {
      "application/vnd.jupyter.widget-view+json": {
       "model_id": "3ef7cb6a112e4d46a65c8988fae45928",
       "version_major": 2,
       "version_minor": 0
      },
      "text/plain": [
       "Epoch 42/50 [Train]:   0%|          | 0/157 [00:00<?, ?it/s]"
      ]
     },
     "metadata": {},
     "output_type": "display_data"
    },
    {
     "data": {
      "application/vnd.jupyter.widget-view+json": {
       "model_id": "2112278b1f7d4f3d80a38d4356cc6010",
       "version_major": 2,
       "version_minor": 0
      },
      "text/plain": [
       "Epoch 42/50 [Test]:   0%|          | 0/157 [00:00<?, ?it/s]"
      ]
     },
     "metadata": {},
     "output_type": "display_data"
    },
    {
     "data": {
      "application/vnd.jupyter.widget-view+json": {
       "model_id": "5381c02f7d184699ab8ea10ee59e5a27",
       "version_major": 2,
       "version_minor": 0
      },
      "text/plain": [
       "Epoch 43/50 [Train]:   0%|          | 0/157 [00:00<?, ?it/s]"
      ]
     },
     "metadata": {},
     "output_type": "display_data"
    },
    {
     "data": {
      "application/vnd.jupyter.widget-view+json": {
       "model_id": "722ef33beb054eedade7b5b1feb4f667",
       "version_major": 2,
       "version_minor": 0
      },
      "text/plain": [
       "Epoch 43/50 [Test]:   0%|          | 0/157 [00:00<?, ?it/s]"
      ]
     },
     "metadata": {},
     "output_type": "display_data"
    },
    {
     "data": {
      "application/vnd.jupyter.widget-view+json": {
       "model_id": "e7ebe0d5927e42c9893cc7a7a904ad98",
       "version_major": 2,
       "version_minor": 0
      },
      "text/plain": [
       "Epoch 44/50 [Train]:   0%|          | 0/157 [00:00<?, ?it/s]"
      ]
     },
     "metadata": {},
     "output_type": "display_data"
    },
    {
     "data": {
      "application/vnd.jupyter.widget-view+json": {
       "model_id": "c87a7f9f9da54179b8bd3b60093f5cfd",
       "version_major": 2,
       "version_minor": 0
      },
      "text/plain": [
       "Epoch 44/50 [Test]:   0%|          | 0/157 [00:00<?, ?it/s]"
      ]
     },
     "metadata": {},
     "output_type": "display_data"
    },
    {
     "data": {
      "application/vnd.jupyter.widget-view+json": {
       "model_id": "229da4edec4a4dabb5f739020b4359cc",
       "version_major": 2,
       "version_minor": 0
      },
      "text/plain": [
       "Epoch 45/50 [Train]:   0%|          | 0/157 [00:00<?, ?it/s]"
      ]
     },
     "metadata": {},
     "output_type": "display_data"
    },
    {
     "data": {
      "application/vnd.jupyter.widget-view+json": {
       "model_id": "34f7241c1de2407abad2503e63abb024",
       "version_major": 2,
       "version_minor": 0
      },
      "text/plain": [
       "Epoch 45/50 [Test]:   0%|          | 0/157 [00:00<?, ?it/s]"
      ]
     },
     "metadata": {},
     "output_type": "display_data"
    },
    {
     "data": {
      "application/vnd.jupyter.widget-view+json": {
       "model_id": "ebb04dfc14cc4101b2d2ded851ef1018",
       "version_major": 2,
       "version_minor": 0
      },
      "text/plain": [
       "Epoch 46/50 [Train]:   0%|          | 0/157 [00:00<?, ?it/s]"
      ]
     },
     "metadata": {},
     "output_type": "display_data"
    },
    {
     "data": {
      "application/vnd.jupyter.widget-view+json": {
       "model_id": "dbc9b25b8ed54c8babc7992352022b0e",
       "version_major": 2,
       "version_minor": 0
      },
      "text/plain": [
       "Epoch 46/50 [Test]:   0%|          | 0/157 [00:00<?, ?it/s]"
      ]
     },
     "metadata": {},
     "output_type": "display_data"
    },
    {
     "data": {
      "application/vnd.jupyter.widget-view+json": {
       "model_id": "748adfc0118742ac8043e81e445721bf",
       "version_major": 2,
       "version_minor": 0
      },
      "text/plain": [
       "Epoch 47/50 [Train]:   0%|          | 0/157 [00:00<?, ?it/s]"
      ]
     },
     "metadata": {},
     "output_type": "display_data"
    },
    {
     "data": {
      "application/vnd.jupyter.widget-view+json": {
       "model_id": "0f370f2006bd4c15ac64927546b938d2",
       "version_major": 2,
       "version_minor": 0
      },
      "text/plain": [
       "Epoch 47/50 [Test]:   0%|          | 0/157 [00:00<?, ?it/s]"
      ]
     },
     "metadata": {},
     "output_type": "display_data"
    },
    {
     "data": {
      "application/vnd.jupyter.widget-view+json": {
       "model_id": "05bf3787621c48b88aea497da2abe224",
       "version_major": 2,
       "version_minor": 0
      },
      "text/plain": [
       "Epoch 48/50 [Train]:   0%|          | 0/157 [00:00<?, ?it/s]"
      ]
     },
     "metadata": {},
     "output_type": "display_data"
    },
    {
     "data": {
      "application/vnd.jupyter.widget-view+json": {
       "model_id": "8ffb8fbfbb6042a0843682be6cad2f13",
       "version_major": 2,
       "version_minor": 0
      },
      "text/plain": [
       "Epoch 48/50 [Test]:   0%|          | 0/157 [00:00<?, ?it/s]"
      ]
     },
     "metadata": {},
     "output_type": "display_data"
    },
    {
     "data": {
      "application/vnd.jupyter.widget-view+json": {
       "model_id": "c5366b5d39a24236a984943a74bf1c41",
       "version_major": 2,
       "version_minor": 0
      },
      "text/plain": [
       "Epoch 49/50 [Train]:   0%|          | 0/157 [00:00<?, ?it/s]"
      ]
     },
     "metadata": {},
     "output_type": "display_data"
    },
    {
     "data": {
      "application/vnd.jupyter.widget-view+json": {
       "model_id": "41f351ff3c5b430a880145064a323960",
       "version_major": 2,
       "version_minor": 0
      },
      "text/plain": [
       "Epoch 49/50 [Test]:   0%|          | 0/157 [00:00<?, ?it/s]"
      ]
     },
     "metadata": {},
     "output_type": "display_data"
    },
    {
     "data": {
      "application/vnd.jupyter.widget-view+json": {
       "model_id": "ab0ce089c90d4748a6e7219ee2715633",
       "version_major": 2,
       "version_minor": 0
      },
      "text/plain": [
       "Epoch 50/50 [Train]:   0%|          | 0/157 [00:00<?, ?it/s]"
      ]
     },
     "metadata": {},
     "output_type": "display_data"
    },
    {
     "data": {
      "application/vnd.jupyter.widget-view+json": {
       "model_id": "3591e55cecb14fe1b73733a09ee2d295",
       "version_major": 2,
       "version_minor": 0
      },
      "text/plain": [
       "Epoch 50/50 [Test]:   0%|          | 0/157 [00:00<?, ?it/s]"
      ]
     },
     "metadata": {},
     "output_type": "display_data"
    }
   ],
   "source": [
    "optimizer = optim.Adam(model.parameters(), lr=0.0001)\n",
    "criterion_cls = nn.CrossEntropyLoss()\n",
    "criterion_seq = nn.CrossEntropyLoss(ignore_index=smiles_vocab['<pad>'])\n",
    "\n",
    "model, history = train_model_seq2seq(model, train_loader, test_loader, \n",
    "                                     optimizer, criterion_seq, \n",
    "                                     num_epochs=50, evaluate=True, verbose=1,\n",
    "                                     checkpoint_path=\"./model_checkpoints/\",\n",
    "                                     meta_tag=(method+\"_character\"))"
   ]
  },
  {
   "cell_type": "code",
   "execution_count": 13,
   "metadata": {},
   "outputs": [
    {
     "name": "stdout",
     "output_type": "stream",
     "text": [
      "True SMILES: C1=CC2=C(C=C1C)C(=C(N2[Si](C)(C)C)C)C\n",
      "Pred SMILES: C1=CC2=C(C=C1C)C(=C(N[[Si](C)(C)C)C)C1C\n",
      "\n",
      "True SMILES: O=C(OCC)CC(O[Si](C)(C)C)(C)CC\n",
      "Pred SMILES: O=C(OCC)CC(O[Si](C)(C)C)(C)CC\n",
      "\n",
      "True SMILES: O=C(O[Si](C)(C)C)C(N)C(C)C\n",
      "Pred SMILES: O=C(O[Si](C)(C)C)C(N)C(C)C\n",
      "\n",
      "True SMILES: O=C(OC)CC(O[Si](C)(C)C)C\n",
      "Pred SMILES: O=C(OC)CC(O[Si](C)(C)C)C\n",
      "\n",
      "True SMILES: O(CCCC)[Si](C)(C)C\n",
      "Pred SMILES: O(CCCC)[Si](C)(C)C\n",
      "\n",
      "True SMILES: O(C1CC2CCC1C2)[Si](C)(C)C\n",
      "Pred SMILES: O(C1CC2CCC1C2)[Si](C)(C)C\n",
      "\n",
      "True SMILES: OC1=CC=CC(O[Si](C)(C)C)=C1\n",
      "Pred SMILES: OC1=CC=CC(O[Si](C)(C)C)=C1\n",
      "\n",
      "True SMILES: N(O[Si](C)(C)C)=C(C1=CC=C(OC)C=C1)C\n",
      "Pred SMILES: N(O[Si](C)(C)C)=C(C1=CC=C(OC)C=C1)C\n",
      "\n",
      "True SMILES: O(C=1C=CC=CC1N)[Si](C)(C)C\n",
      "Pred SMILES: O(C=1C=CC=CC1N)[Si](C)(C)C\n",
      "\n",
      "True SMILES: O(C)CCC(C=1C=CC=CC1)CCO[Si](C)(C)C\n",
      "Pred SMILES: O(C)CCC(C=1C=CC=CC1)CCO[Si](C)(C)C\n",
      "\n",
      "True SMILES: N#CC=1C(=S)N(C(=CC1C)C)[Si](C)(C)C\n",
      "Pred SMILES: N1CC=1C(=SiN(C(=CC1C)C)[Si](C)(C)C\n",
      "\n",
      "True SMILES: O(C1=CC=C(C=C1)C(C)(C)CC)[Si](C)(C)C\n",
      "Pred SMILES: O(C1=CC=C(==C1)C(C)(C)CC)[Si](C)(C)C\n",
      "\n",
      "True SMILES: O=C(O[Si](C)(C)C)C(C)CC=C\n",
      "Pred SMILES: O=C(O[Si](C)(C)C)C(C)CC=C\n",
      "\n",
      "True SMILES: O(C(C)CCCCC)[Si](C)(C)C\n",
      "Pred SMILES: O(C(C)CCCCC)[Si](C)(C)C\n",
      "\n",
      "True SMILES: O=C(O[Si](C)(C)C)C=1C=CC=CC1O\n",
      "Pred SMILES: O=C(O[Si](C)(C)C)C=1C=CC=CC1O\n",
      "\n",
      "True SMILES: O=C1OC=2C=CC=CC2C(O[Si](C)(C)C)=C1\n",
      "Pred SMILES: O=C1OC=1C=CC=CC2C(O[Si](C)(C)C)=C1\n",
      "\n",
      "True SMILES: O=C(OCC(=O)O[Si](C)(C)C)C\n",
      "Pred SMILES: O=C(OCC(=O)O[Si](C)(C)C)C\n",
      "\n",
      "True SMILES: O(C1=CC=C(C=C1C)C)[Si](C)(C)C\n",
      "Pred SMILES: O(C1=CC=C(C=C1C)C)[Si](C)(C)C\n",
      "\n",
      "True SMILES: O(CCC)CC(O[Si](C)(C)C)C\n",
      "Pred SMILES: O(CCC)CC(O[Si](C)(C)C)C\n",
      "\n",
      "True SMILES: O=C1C(=O)N(C2=CC=C(C=C12)C)[Si](C)(C)C\n",
      "Pred SMILES: O=C1C(=O)N(C2=CC=C(C=C1[)C)[Si](C)(C)C1\n",
      "\n",
      "True SMILES: O=S(=O)(CC)CCO[Si](C)(C)C\n",
      "Pred SMILES: O=S(=O)(CC)CCO[Si](C)(C)C\n",
      "\n",
      "True SMILES: O=CC1=CN(C=2C=CC=CC12)[Si](C)(C)C\n",
      "Pred SMILES: O=CC1=CN(C=2C=CC=CC12)[Si](C)(C)C\n",
      "\n",
      "True SMILES: O(C1CC(NC2(C)CCCCC12)C)[Si](C)(C)C\n",
      "Pred SMILES: O(C1CC(NC2(C)CCCCC12)C)[Si](C)(C)C\n",
      "\n",
      "True SMILES: O=C(O[Si](C)(C)C)C(=O)C(C)C\n",
      "Pred SMILES: O=C(O[Si](C)(C)C)C(=O)C(C)C\n",
      "\n",
      "True SMILES: O=C(O[Si](C)(C)C)C1=CC(OC)=CC=C1OC\n",
      "Pred SMILES: O=C(O[Si](C)(C)C)C1=CC(OC)=CC=C1OC\n",
      "\n",
      "True SMILES: O(C=1C(=CC=CC1C(C)(C)C)C)[Si](C)(C)C\n",
      "Pred SMILES: O(C=1C(=CC=CC1C(C)(C)C)C)[Si](C)(C)CC\n",
      "\n",
      "True SMILES: O=C(O[Si](C)(C)C)CCCC=1C=CC=CC1\n",
      "Pred SMILES: O=C(O[Si](C)(C)C)CCCC=1C=CC=CC1C\n",
      "\n",
      "True SMILES: O=C(O[Si](C)(C)C)C=CCCC\n",
      "Pred SMILES: O=C(O[Si](C)(C)C)C=CCCC\n",
      "\n",
      "True SMILES: O(C1=CC=C(N)C=C1)[Si](C)(C)C\n",
      "Pred SMILES: O(C1=CC=C(N)C=C1)[Si](C)(C)C\n",
      "\n",
      "True SMILES: O(CCCSC)[Si](C)(C)C\n",
      "Pred SMILES: O(CCCSi)[Si](C)(C)C\n",
      "\n",
      "True SMILES: C=1C=C(N(C1)[Si](C)(C)C)CN(C)C\n",
      "Pred SMILES: C=1C=C(N(C1)[Si](C)(C)C)CN(C)C\n",
      "\n",
      "True SMILES: O=C(O[Si](C)(C)C)C=1SC=CC1\n",
      "Pred SMILES: O=C(O[Si](C)(C)C)C=1SC=CC1\n",
      "\n",
      "True SMILES: OC(=NC1C=CC(O[Si](C)(C)C)CC1)C\n",
      "Pred SMILES: OC(=NC1C=C((O[Si](C)(C)C)CC1)C\n",
      "\n",
      "True SMILES: O(C1=CC=C(O[Si](C)(C)C)C=C1OC)C\n",
      "Pred SMILES: O(C1=CC=C(O[Si](C)(C)C)C=C1OC)C\n",
      "\n",
      "True SMILES: O=C(O[Si](C)(C)C)C=CC(=O)C=1C=CC=CC1\n",
      "Pred SMILES: O=C(O[Si](C)(C)C)C=CC(=O)C=1C=CC=CC1O\n",
      "\n",
      "True SMILES: O=C(OC)C=1C=CC=CC1O[Si](C)(C)C\n",
      "Pred SMILES: O=C(OC)C=1C=CC=CC1O[Si](C)(C)C\n",
      "\n",
      "True SMILES: O(CC=CCCCCCCCCC)[Si](C)(C)C\n",
      "Pred SMILES: O(CC=CCCCCCCCCC)[Si](C)(C)C\n",
      "\n",
      "True SMILES: O(CCC=CCC)[Si](C)(C)C\n",
      "Pred SMILES: O(CCC=CCC)[Si](C)(C)C\n",
      "\n",
      "True SMILES: O=C(O[Si](C)(C)C)CC1=CC=CC=2C=CC=CC21\n",
      "Pred SMILES: O=C(O[Si](C)(C)C)CC1=CC=CC=2C=CC=CC11C\n",
      "\n",
      "True SMILES: N(O[Si](C)(C)C)=C1CC(NC(C)(C)C1)(C)C\n",
      "Pred SMILES: N(O[Si](C)(C)C)=C1CC(NC(C)(C)C1)(C)CSS\n",
      "\n",
      "True SMILES: O(C)C1COC(O[Si](C)(C)C)C(OC)C1OC\n",
      "Pred SMILES: O(C)C1COC(O[Si](C)(C)C)C(OC)C1OC\n",
      "\n",
      "True SMILES: O(CCN(C)C)[Si](C)(C)C\n",
      "Pred SMILES: O(CCN(C)C)[Si](C)(C)C\n",
      "\n",
      "True SMILES: O(O[Si](C)(C)C)C1OCCC1\n",
      "Pred SMILES: O(O[Si](C)(C)C)C1OCCC1\n",
      "\n",
      "True SMILES: O(CC=CCCC)[Si](C)(C)C\n",
      "Pred SMILES: O(CC=CCCC)[Si](C)(C)C\n",
      "\n",
      "True SMILES: N(CC(CC)CC)[Si](C)(C)C\n",
      "Pred SMILES: N(CC(CC)CC)[Si](C)(C)C\n",
      "\n",
      "True SMILES: N(O[Si](C)(C)C)=C(C)C1C=2C=CC=CC2CC1\n",
      "Pred SMILES: N(O[Si](C)(C)C)=C(C)C1C=2C=CC=CC2CC11\n",
      "\n",
      "True SMILES: OCCCO[Si](C)(C)C\n",
      "Pred SMILES: OCCCO[Si](C)(C)C\n",
      "\n",
      "True SMILES: O(CC=CCC)[Si](C)(C)C\n",
      "Pred SMILES: O(CC=CCC)[Si](C)(C)C\n",
      "\n",
      "True SMILES: O(CCCCCCCC)[Si](C)(C)C\n",
      "Pred SMILES: O(CCCCCCCC)[Si](C)(C)C\n",
      "\n",
      "True SMILES: O(C=1C=CC=CC1)CCS[Si](C)(C)C\n",
      "Pred SMILES: O(C=1C=CC=CC1)CCCiSi](C)(C)C\n",
      "\n",
      "True SMILES: O=C(O[Si](C)(C)C)CCCN(C)C\n",
      "Pred SMILES: O=C(O[Si](C)(C)C)CCCN(C)C\n",
      "\n",
      "True SMILES: O(CC1=CC=C(C=C1)N(C)C)[Si](C)(C)C\n",
      "Pred SMILES: O(CC1=CC=C(C=C1)N(C)C)[Si](C)(C)C\n",
      "\n",
      "True SMILES: O(C)CCC(C)CCO[Si](C)(C)C\n",
      "Pred SMILES: O(C)CCC(C)CCO[Si](C)(C)C\n",
      "\n",
      "True SMILES: O=CC1=CC=C(OC)C(O[Si](C)(C)C)=C1\n",
      "Pred SMILES: O=CC1=CC=C(OC)C(O[Si](C)(C)C)=C1\n",
      "\n",
      "True SMILES: O(C1=CC=C(C=C1)C(C)(C)C)[Si](C)(C)C\n",
      "Pred SMILES: O(C1=CC=C(==C1)C(C)(C)C)[Si](C)(C)C\n",
      "\n",
      "True SMILES: O(C(C=CCCCC)C)[Si](C)(C)C\n",
      "Pred SMILES: O(C(C=CCCCC)C)[Si](C)(C)C\n",
      "\n",
      "True SMILES: [C-]#[N+]C1CCCCC1O[Si](C)(C)C\n",
      "Pred SMILES: NC(]([S[]C1CCCCC1O[Si](C)(C)C\n",
      "\n",
      "True SMILES: O(C1CC2CCC1(C)C2(C)C)[Si](C)(C)C\n",
      "Pred SMILES: O(C1CC2CCC1(C)C2(C)C)[Si](C)(C)C\n",
      "\n",
      "True SMILES: O=C(O[Si](C)(C)C)C1=NC=CN=C1\n",
      "Pred SMILES: O=C(O[Si](C)(C)C)C1=NC=CN=C1\n",
      "\n",
      "True SMILES: O=C(OC)CN[Si](C)(C)C\n",
      "Pred SMILES: O=C(OC)CSSSi](C)(C)C\n",
      "\n",
      "True SMILES: O=C1C=C(N(C(=O)N1C)C)CO[Si](C)(C)C\n",
      "Pred SMILES: O=C1C=C(N(C(=O)N1C)C)CO[Si](C)(C)C\n",
      "\n",
      "True SMILES: O=C(O[Si](C)(C)C)C(=CC)C\n",
      "Pred SMILES: O=C(O[Si](C)(C)C)C(=CC)C\n",
      "\n",
      "True SMILES: O=C(O[Si](C)(C)C)CCCC\n",
      "Pred SMILES: O=C(O[Si](C)(C)C)CCCC\n",
      "\n",
      "True SMILES: O1C(CCC1(C=C)C)C(O[Si](C)(C)C)(C)C\n",
      "Pred SMILES: O1C(CCC1(C=C)C)C(O[Si](C)(C)C)(C)C\n",
      "\n",
      "True SMILES: C=1C=CC(=CC1)C2=CC=3C=CC=CC3N2[Si](C)(C)C\n",
      "Pred SMILES: C=1C=CC(=CC1)C2=CC=2C=CC=CC2N2[Si](C)(C)CS\n",
      "\n",
      "True SMILES: OC(=NCCO[Si](C)(C)C)C\n",
      "Pred SMILES: OC(=NCCO[Si](C)(C)C)C\n",
      "\n",
      "True SMILES: O(CCC(C)CC)[Si](C)(C)C\n",
      "Pred SMILES: O(CCC(C)CC)[Si](C)(C)C\n",
      "\n",
      "True SMILES: O=C1C(O[Si](C)(C)C)=C(C(=O)C=2C=CC=CC12)C\n",
      "Pred SMILES: O=C1C(O[Si](C)(C)C)=C(C(=O)C=2C=CC=C11O)C1\n",
      "\n",
      "True SMILES: C(#CC(O[Si](C)(C)C)C(C)CCC)C(=C)C\n",
      "Pred SMILES: C(CCC(O[Si](C)(C)C)C(C)CCC)C(=C)C\n",
      "\n",
      "True SMILES: O(CC(CCCC)CCCCCC)[Si](C)(C)C\n",
      "Pred SMILES: O(CC(CCCC)CCCCCC)[Si](C)(C)C\n",
      "\n",
      "True SMILES: O(C1=CC=C(C=C1)N[Si](C)(C)C)C\n",
      "Pred SMILES: O(C1=CC=C(C=C1)N[Si](C)(C)C)C\n",
      "\n",
      "True SMILES: O(CC=CCCCCCCC)[Si](C)(C)C\n",
      "Pred SMILES: O(CC=CCCCCCCC)[Si](C)(C)C\n",
      "\n",
      "True SMILES: O(CC(C(=C)C)CC=C(C)C)[Si](C)(C)C\n",
      "Pred SMILES: O(C((C(=C)C)CC=C(C)C)[Si](C)(C)C\n",
      "\n",
      "True SMILES: O=C(O[Si](C)(C)C)C1NCCCC1\n",
      "Pred SMILES: O=C(O[Si](C)(C)C)C1NCCCC1\n",
      "\n",
      "True SMILES: NC1=CC=CC=2C(=CC=CC12)N[Si](C)(C)C\n",
      "Pred SMILES: NC1=CC=CC=2C(=CC=CC12)N[Si](C)(C)C\n",
      "\n",
      "True SMILES: C=1C=CC(=CC1)CN(CC)[Si](C)(C)C\n",
      "Pred SMILES: C=1C=CC(=CC1)CN(CC)[Si](C)(C)C\n",
      "\n",
      "True SMILES: O=C(O[Si](C)(C)C)COCCOC\n",
      "Pred SMILES: O=C(O[Si](C)(C)C)COCCOC\n",
      "\n",
      "True SMILES: O=C(O[Si](C)(C)C)COC=1C=CC=CC1\n",
      "Pred SMILES: O=C(O[Si](C)(C)C)COC=1C=CC=CC1=\n",
      "\n",
      "True SMILES: S=C(S[Si](C)(C)C)N(CC)CC\n",
      "Pred SMILES: S=C(SiSi](C)(C)C)N(CC)CC\n",
      "\n",
      "True SMILES: O(CCCCCCCCCCCC)[Si](C)(C)C\n",
      "Pred SMILES: O(CCCCCCCCCCCC)[Si](C)(C)C\n",
      "\n",
      "True SMILES: O=C1N(C2=CC(OC)=CC=C2CCC1)[Si](C)(C)C\n",
      "Pred SMILES: O=C1N(C1=C((OC)=CC=C2CCC1)[Si](C)(C)C1\n",
      "\n",
      "True SMILES: O=C(C)C(O[Si](C)(C)C)C\n",
      "Pred SMILES: O=C(S)C(O[Si](C)(C)C)C\n",
      "\n",
      "True SMILES: N1(CCCCCC1)[Si](C)(C)C\n",
      "Pred SMILES: N1(CCCCCS1)[Si](C)(C)C\n",
      "\n",
      "True SMILES: O=C1N(C)C(C=2C=NC=CC2)CC1O[Si](C)(C)C\n",
      "Pred SMILES: O=C1N(C)C(C=2C=NC=CC2)CC1O[Si](C)(C)C1\n",
      "\n",
      "True SMILES: O(C1=CC(O[Si](C)(C)C)=CC=C1CCN)C\n",
      "Pred SMILES: O(C1=CC(O[Si](C)(C)C)=CC=C1CCN)CC\n",
      "\n",
      "True SMILES: O=C(OC)CC(O[Si](C)(C)C)CC(=O)OC\n",
      "Pred SMILES: O=C(OC)CS(O[Si](C)(C)C)CC(=O)OC\n",
      "\n",
      "True SMILES: O(C(C)C(C)C)[Si](C)(C)C\n",
      "Pred SMILES: O(C(C)C(C)C)[Si](C)(C)C\n",
      "\n",
      "True SMILES: O(CC(C)CC(C)(C)C)[Si](C)(C)C\n",
      "Pred SMILES: O(CC(C)CC(C)(C)C)[Si](C)(C)C\n",
      "\n",
      "True SMILES: N=1C(=NC(=CC1O[Si](C)(C)C)C)SC\n",
      "Pred SMILES: N=1C(=NC(=CC1O[Si](C)(C)C)C)Ci\n",
      "\n",
      "True SMILES: O=C1OC(CC1)CCC(=O)O[Si](C)(C)C\n",
      "Pred SMILES: O=C1OC(SC1)CCC(=O)O[Si](C)(C)C\n",
      "\n",
      "True SMILES: O(C=1C=CC=CC1O[Si](C)(C)C)CCC\n",
      "Pred SMILES: O(C=1C=CC=CC1O[Si](C)(C)C)CCC\n",
      "\n",
      "True SMILES: O(C=1C=CC=CC1O[Si](C)(C)C)C(C)C\n",
      "Pred SMILES: O(C=1C=CC=CC1O[Si](C)(C)C)C(C)C\n",
      "\n",
      "True SMILES: O=C(OCC)CC(=O)O[Si](C)(C)C\n",
      "Pred SMILES: O=C(OCC)CC(=O)O[Si](C)(C)C\n",
      "\n",
      "True SMILES: O(CCCC)CC(O[Si](C)(C)C)C\n",
      "Pred SMILES: O(CCCC)CC(O[Si](C)(C)C)C\n",
      "\n",
      "True SMILES: O=C(O[Si](C)(C)C)CCC=1C=CC=CC1\n",
      "Pred SMILES: O=C(O[Si](C)(C)C)CCC=1C=CC=CC1\n",
      "\n",
      "True SMILES: O=C(OC)C(C=1C=CC=CC1)CO[Si](C)(C)C\n",
      "Pred SMILES: O=C(OC)C(C=1C=CC=CC1)CO[Si](C)(C)CS\n",
      "\n",
      "True SMILES: N#CC1=C(N[Si](C)(C)C)C(N(C(=O)C)C1)CC\n",
      "Pred SMILES: N1CC1=C(N[Si](C)(C)C)C(N(C(=O)C)C1)CC(\n",
      "\n",
      "True SMILES: O=C(O[Si](C)(C)C)C=CC=1C=CC=CC1OC\n",
      "Pred SMILES: O=C(O[Si](C)(C)C)C=CC=1C=CC=CC1OC=\n",
      "\n",
      "True SMILES: O=C(OC)C(O[Si](C)(C)C)C=1C=CC=CC1OC\n",
      "Pred SMILES: O=C(OC)C(O[Si](C)(C)C)C=1C=CC=CC1OC\n",
      "\n",
      "True SMILES: C=1C=CC(=CC1)CN[Si](C)(C)C\n",
      "Pred SMILES: C=1C=CC(=CC1)CN[Si](C)(C)C\n",
      "\n",
      "True SMILES: O(C1CCC(C)CC1)[Si](C)(C)C\n",
      "Pred SMILES: O(C1CCC(C)CC1)[Si](C)(C)C\n",
      "\n",
      "True SMILES: O=C(O[Si](C)(C)C)CCCOC=1C=CC=CC1\n",
      "Pred SMILES: O=C(O[Si](C)(C)C)CCCOC=1C=CC=CC1\n",
      "\n",
      "True SMILES: O(CC=1C=CC=C(C1)C)[Si](C)(C)C\n",
      "Pred SMILES: O(CC=1C=CC=C(C1)C)[Si](C)(C)C\n",
      "\n",
      "True SMILES: O=C(O[Si](C)(C)C)CC1=CC=C(OC)C(OC)=C1\n",
      "Pred SMILES: O=C(O[Si](C)(C)C)CC1=CC=C(OC)C(OC)=C1O\n",
      "\n",
      "True SMILES: O=C(O[Si](C)(C)C)C=1C=CC=C(SC(=O)C)C1\n",
      "Pred SMILES: O=C(O[Si](C)(C)C)C=1C=CC=C((((=O)C)C1S\n",
      "\n",
      "True SMILES: O=C(O[Si](C)(C)C)CCCCC\n",
      "Pred SMILES: O=C(O[Si](C)(C)C)CCCCC\n",
      "\n",
      "True SMILES: O(C1=CC=C(N)C=C1O[Si](C)(C)C)C\n",
      "Pred SMILES: O(C1=CC=C(N)C=C1O[Si](C)(C)C)C\n",
      "\n",
      "True SMILES: O=C1C=2C=CC=CC2C(=O)N1[Si](C)(C)C\n",
      "Pred SMILES: O=C1C=2C=CC=CC2C(=O)N1[Si](C)(C)C\n",
      "\n",
      "True SMILES: O(C(C=1C=CC=CC1)(C)C)[Si](C)(C)C\n",
      "Pred SMILES: O(C(C=1C=CC=CC1)(C)C)[Si](C)(C)C\n",
      "\n",
      "True SMILES: O=C(O[Si](C)(C)C)C=1C=CC=C(N)C1\n",
      "Pred SMILES: O=C(O[Si](C)(C)C)C=1C=CC=C(N)C1\n",
      "\n",
      "True SMILES: O=C(O[Si](C)(C)C)C=CC1=CC=C(C=C1)C\n",
      "Pred SMILES: O=C(O[Si](C)(C)C)C=CC1=CC=C(C=C1)C\n",
      "\n",
      "True SMILES: O(CCC)[Si](C)(C)C\n",
      "Pred SMILES: O(CCC)[Si](C)(C)C\n",
      "\n",
      "True SMILES: O=C(O[Si](C)(C)C)C=1C=CC=CC1\n",
      "Pred SMILES: O=C(O[Si](C)(C)C)C=1C=CC=CC1\n",
      "\n",
      "True SMILES: O(CC1=CC=C(C=C1)C)[Si](C)(C)C\n",
      "Pred SMILES: O(CC1=CC=C(C=C1)C)[Si](C)(C)C\n",
      "\n",
      "True SMILES: O(CCN(CC)CC)[Si](C)(C)C\n",
      "Pred SMILES: O(CCN(CC)CC)[Si](C)(C)C\n",
      "\n",
      "True SMILES: O(C1=CC=CC=2C=CC=CC12)[Si](C)(C)C\n",
      "Pred SMILES: O(C1=CC=CC=2C=CC=CC12)[Si](C)(C)C\n",
      "\n",
      "True SMILES: O(C=1C=CC=2C=CC=CC2C1)[Si](C)(C)C\n",
      "Pred SMILES: O(C=1C=CC=2C=CC=CC2C1)[Si](C)(C)C\n",
      "\n",
      "True SMILES: O(C(C=CC=1C=CC=CC1)C)[Si](C)(C)C\n",
      "Pred SMILES: O(C(C=CC=1C=CC=CC1)C)[Si](C)(C)C\n",
      "\n",
      "True SMILES: O(C1=CC=CC(=C1)CO[Si](C)(C)C)C\n",
      "Pred SMILES: O(C1=CC=CC(=C1)CO[Si](C)(C)C)C\n",
      "\n",
      "True SMILES: O(C1=CC=C(SC)C=C1)[Si](C)(C)C\n",
      "Pred SMILES: O(C1=CC=C(Si)C=C1)[Si](C)(C)C\n",
      "\n",
      "True SMILES: O(C=1C=C(C=C(C1)C)C)[Si](C)(C)C\n",
      "Pred SMILES: O(C=1C=C(C=C(C1)C)C)[Si](C)(C)C\n",
      "\n",
      "True SMILES: O=C1N(C(C=2C=NC=CC2)CC1)[Si](C)(C)C\n",
      "Pred SMILES: O=C1N(C(C=2C=NC=CC2)CC1)[Si](C)(C)C\n",
      "\n",
      "True SMILES: O=C(O[Si](C)(C)C)C(=O)C1=CC=C(OC)C=C1\n",
      "Pred SMILES: O=C(O[Si](C)(C)C)C(=O)C1=CC=C(OC)C=C1O\n",
      "\n",
      "True SMILES: O(C(C)C)[Si](C)(C)C\n",
      "Pred SMILES: O(C(C)C)[Si](C)(C)C\n",
      "\n",
      "True SMILES: OCCOCCOCCOCCO[Si](C)(C)C\n",
      "Pred SMILES: OCCOCOOCOOCCO[Si](C)(C)C\n",
      "\n",
      "True SMILES: O=C(O[Si](C)(C)C)C=CC=CC\n",
      "Pred SMILES: O=C(O[Si](C)(C)C)C=CC=CC\n",
      "\n",
      "True SMILES: O(C1CCCCC1C)[Si](C)(C)C\n",
      "Pred SMILES: O(C1CCCCC1C)[Si](C)(C)C\n",
      "\n",
      "True SMILES: O=C(C1=CC=C(OC)C=C1O[Si](C)(C)C)C\n",
      "Pred SMILES: O=C(C1=CC=C(OC)C=C1O[Si](C)(C)C)C\n",
      "\n",
      "True SMILES: O=C(O[Si](C)(C)C)CCC1=CC=C(O)C=C1\n",
      "Pred SMILES: O=C(O[Si](C)(C)C)CCC1=CC=C(O)C=C1S\n",
      "\n",
      "True SMILES: O=C(O[Si](C)(C)C)C1=CC=C(SC(=O)C)C=C1\n",
      "Pred SMILES: O=C(O[Si](C)(C)C)C1=CC=C(CC(=O)C)C=C1\n",
      "\n",
      "True SMILES: O=P(O)(O)OC(F)(F)C(F)(F)C(F)(F)C(F)(F)C(F)(F)C(F)(F)C(F)(F)F\n",
      "Pred SMILES: O=P(O)(O)OC(F)(F)C(F)(F)C(F)(F)C(F)(F)C(F)(F)C(F)(F)C(F)(F)FFFFFFFFFFFFFFFF\n",
      "\n",
      "True SMILES: O=P(O)(O)OC(F)(F)C(F)(F)C(F)(F)C(F)(F)F\n",
      "Pred SMILES: O=P(O)(O)OC(F)(F)C(F)(F)C(F)(F)C(F)(F)FFFFFFFFFF\n",
      "\n",
      "True SMILES: O=P(O)(O)OC(F)(F)C(F)(F)F\n",
      "Pred SMILES: O=P(O)(O)OC(F)(F)C(F)(F)FFFF\n",
      "\n",
      "True SMILES: O=P(O)(O)OC(F)(F)F\n",
      "Pred SMILES: O=P(O)(O)OC(F)(F)FFF\n",
      "\n",
      "True SMILES: O=S(=O)(O)C1(C(F)(F)F)C(F)(F)C(F)(F)C(F)(F)C(F)(F)C1(F)F\n",
      "Pred SMILES: O=S(=O)(O)C1(C(F)(F)C)C(F)(F)C(F)(F)C(F)(F)C(F)(F)C1(F)FFFFFFFFFFFFF\n",
      "\n",
      "True SMILES: O=C(O)C(F)(OC(F)(F)C(F)(F)F)C(F)(F)F\n",
      "Pred SMILES: O=C(O)C(F)(OC(F)(F)C(F)(F)F)C(F)(F)FFFFFFCCCCCCCCCCCCSCSSSCCCC\n",
      "\n",
      "True SMILES: O=C(O)C(F)(OC(F)(F)F)C(F)(F)F\n",
      "Pred SMILES: O=C(O)C(F)(OC(F)(F)F)C(F)(F)FFFFFFCCCCFSSSSCC\n",
      "\n",
      "True SMILES: O=P(O)(O)CCC(F)(F)C(F)(F)C(F)(F)C(F)(F)C(F)(F)C(F)(F)C(F)(F)F\n",
      "Pred SMILES: O=P(O)(O)CCC(F)(F)C(F)(F)C(F)(F)C(F)(F)C(F)(F)C(F)(F)C(F)(F)FFFFFFFFFFFFFFCCCCCCCCCCCCCCCCCCCCCCCCC((CC(CCCSSC(CCCCCCCCCCCCC\n",
      "\n",
      "True SMILES: O=P(O)(O)CCC(F)(F)C(F)(F)C(F)(F)C(F)(F)C(F)(F)C(F)(F)C(F)(F)C(F)(F)F\n",
      "Pred SMILES: O=P(O)(O)CCC(F)(F)C(F)(F)C(F)(F)C(F)(F)C(F)(F)C(F)(F)C(F)(F)C(F)(F)FFFFFFFFFFFFFFFFFFFFCCCCCCCCCCCCCCCCCCCCCCCCCC(((CC(CCCCCC(CCCCCCCCCCCCC\n",
      "\n",
      "True SMILES: O=P(O)(O)CCC(F)(F)C(F)(F)C(F)(F)C(F)(F)C(F)(F)C(F)(F)F\n",
      "Pred SMILES: O=S(O)(O)CCC(F)(F)C(F)(F)C(F)(F)C(F)(F)C(F)(F)C(F)(F)FFFFFFFFFFFFCCCCCCCCCCCCCCCCCCCCCC(CC(CCSSSC(CCCCCCCCCCCCF\n",
      "\n",
      "True SMILES: O=S(=O)(O)CCC(F)(F)C(F)(F)C(F)(F)C(F)(F)C(F)(F)C(F)(F)C(F)(F)C(F)(F)C(F)(F)C(F)(F)F\n",
      "Pred SMILES: O=S(=O)(O)CCC(F)(F)C(F)(F)C(F)(F)C(F)(F)C(F)(F)C(F)(F)C(F)(F)C(F)(F)C(F)(F)C(F)(F)FFFFFFFFFFFFFFFF(FFF(FFFFFF(FFFF(CFF(C\n",
      "\n",
      "True SMILES: O=S(=O)(O)CCC(F)(F)C(F)(F)C(F)(F)C(F)(F)C(F)(F)C(F)(F)C(F)(F)C(F)(F)C(F)(F)C(F)(F)C(F)(F)C(F)(F)C(F)(F)F\n",
      "Pred SMILES: O=S(=O)(O)CCC(F)(F)C(F)(F)C(F)(F)C(F)(F)C(F)(F)C(F)(F)C(F)(F)C(F)(F)C(F)(F)C(F)(F)C(F)(F)C(F)(F)C(FFF)CFC(FFFFFFFFFFCCFFFFFFFFFF(FFFFFF(FFFFC(FC(((F((((\n",
      "\n",
      "True SMILES: O=S(=O)(O)CCC(F)(F)C(F)(F)C(F)(F)C(F)(F)C(F)(F)C(F)(F)C(F)(F)C(F)(F)C(F)(F)C(F)(F)C(F)(F)F\n",
      "Pred SMILES: O=S(=O)(O)CCC(F)(F)C(F)(F)C(F)(F)C(F)(F)C(F)(F)C(F)(F)C(F)(F)C(F)(F)C(F)(F)C(F)(F)C(F)(F)FFFFFFFFFFFFFFFFFF(FFF(FFFFFF(FFFFC(FC((FFF(((\n",
      "\n",
      "True SMILES: O=S(=O)(O)CCC(F)(F)C(F)(F)C(F)(F)C(F)(F)C(F)(F)C(F)(F)C(F)(F)C(F)(F)C(F)(F)C(F)(F)C(F)(F)C(F)(F)F\n",
      "Pred SMILES: O=S(=O)(O)CCC(F)(F)C(F)(F)C(F)(F)C(F)(F)C(F)(F)C(F)(F)C(F)(F)C(F)(F)C(F)(F)C(F)(F)C(F)(F)C(F)(F)FFFFFC(FFFFFFFFFFFFFFFFFF(FFF(FFFFFF(FFFFFC(FC((FFF(((\n",
      "\n",
      "True SMILES: O=S(=O)(O)CCC(F)(F)C(F)(F)C(F)(F)C(F)(F)C(F)(F)C(F)(F)C(F)(F)C(F)(F)C(F)(F)F\n",
      "Pred SMILES: O=S(=O)(O)CCC(F)(F)C(F)(F)C(F)(F)C(F)(F)C(F)(F)C(F)(F)C(F)(F)C(F)(F)C(F)(F)FFFFFFFFFFFFFFFFFFFFFFFFFFF\n",
      "\n",
      "True SMILES: O=C(O)CC(F)(F)C(F)(F)C(F)(F)C(F)(F)F\n",
      "Pred SMILES: O=C(O)CC(F)(F)C(F)(F)C(F)(F)C(F)(F)FFFFFFFFFFFFFFFFFFFFFFFFFF\n",
      "\n",
      "True SMILES: O=C(O)CC(F)(F)C(F)(F)C(F)(F)F\n",
      "Pred SMILES: O=C(O)CC(F)(F)C(F)(F)C(F)(F)FFFFFFFF\n",
      "\n",
      "True SMILES: O=C(O)CC(F)(F)C(F)(F)F\n",
      "Pred SMILES: O=C(O)CC(F)(F)C(F)(F)FFFFFFFFF\n",
      "\n",
      "True SMILES: O=C(O)CC(F)(F)F\n",
      "Pred SMILES: O=C(O)CC(F)(F)F\n",
      "\n",
      "True SMILES: O=S(=O)(N)C(F)(F)C(F)(F)C(F)(F)C(F)(F)C(F)(F)C(F)(F)C(F)(F)C(F)(F)F\n",
      "Pred SMILES: O=S(=O)(N)C(F)(F)C(F)(F)C(F)(F)C(F)(F)C(F)(F)C(F)(F)C(F)(F)C(F)(F)FFFFFFFFFFFFFFFFFF\n",
      "\n",
      "True SMILES: FC(F)(F)C(F)(F)C(F)(F)C(F)(F)C(F)(F)C(F)(F)C(F)(F)O\n",
      "Pred SMILES: FC(F)(F)C(F)(F)C(F)(F)C(F)(F)C(F)(F)C(F)(F)C(F)(F)FFFFFFFFFFFFFFFFFFFF\n",
      "\n",
      "True SMILES: FC(F)(F)C(F)(F)C(F)(F)C(F)(F)C(F)(F)C(F)(F)O\n",
      "Pred SMILES: FC(F)(F)C(F)(F)C(F)(F)C(F)(F)C(F)(F)C(F)(F)FFFFFFFFFF\n",
      "\n",
      "True SMILES: FC(F)(F)C(F)(F)C(F)(F)C(F)(F)C(F)(F)O\n",
      "Pred SMILES: FC(F)(F)C(F)(F)C(F)(F)C(F)(F)C(F)(F)OFFFFFFFFFF\n",
      "\n",
      "True SMILES: FC(F)(F)C(F)(F)C(F)(F)C(F)(F)O\n",
      "Pred SMILES: FC(F)(F)C(F)(F)C(F)(F)C(F)(F)OFFFFFFFF\n",
      "\n",
      "True SMILES: FC(F)(F)C(F)(F)C(F)(F)O\n",
      "Pred SMILES: FC(F)(F)C(F)(F)C(F)(F)OFFFFFFF\n",
      "\n",
      "True SMILES: FC(F)(F)C(F)(F)C(F)(F)CCO\n",
      "Pred SMILES: FC(F)(F)C(F)(F)C(F)(F)CCOFFF\n",
      "\n",
      "True SMILES: FC(F)(F)C(F)(F)CCO\n",
      "Pred SMILES: FC(F)(F)C(F)(F)CCO\n",
      "\n",
      "True SMILES: FC(F)(F)CCO\n",
      "Pred SMILES: FC(F)(F)CCO\n",
      "\n",
      "True SMILES: O=S(=O)(NC)C(F)(F)C(F)(F)C(F)(F)C(F)(F)C(F)(F)C(F)(F)C(F)(F)C(F)(F)C(F)(F)C(F)(F)F\n",
      "Pred SMILES: O=S(=O)(NC)C(F)(F)C(F)(F)C(F)(F)C(F)(F)C(F)(F)C(F)(F)C(F)(F)C(F)(F)C(F)(F)C(F)(F)F\n",
      "\n",
      "True SMILES: O=S(=O)(NC)C(F)(F)C(F)(F)C(F)(F)C(F)(F)C(F)(F)C(F)(F)C(F)(F)C(F)(F)F\n",
      "Pred SMILES: O=S(=O)(NC)C(F)(F)C(F)(F)C(F)(F)C(F)(F)C(F)(F)C(F)(F)C(F)(F)C(F)(F)FFF\n",
      "\n",
      "True SMILES: O=C(O)CNS(=O)(=O)C(F)(F)C(F)(F)C(F)(F)C(F)(F)C(F)(F)C(F)(F)C(F)(F)C(F)(F)F\n",
      "Pred SMILES: O=C(O)CNS(=O)(=O)C(F)(F)C(F)(F)C(F)(F)C(F)(F)C(F)(F)C(F)(F)C(F)(F)C(F)(F)F\n",
      "\n",
      "True SMILES: O=C(O)CNS(=O)(=O)C(F)(F)C(F)(F)C(F)(F)C(F)(F)F\n",
      "Pred SMILES: O=C(O)CNS(=O)(=O)C(F)(F)C(F)(F)C(F)(F)C(F)(F)FFFFFFFFFF\n",
      "\n",
      "True SMILES: O=C(O)CNS(=O)(=O)C(F)(F)C(F)(F)C(F)(F)C(F)(F)C(F)(F)F\n",
      "Pred SMILES: O=C(O)CNS(=O)(=O)C(F)(F)C(F)(F)C(F)(F)C(F)(F)C(F)(F)FFFFFFFFF\n",
      "\n",
      "True SMILES: O=C(O)CNS(=O)(=O)C(F)(F)F\n",
      "Pred SMILES: O=C(O)CNS(=O)(=O)C(F)(F)F\n",
      "\n",
      "True SMILES: O=C(O)C(F)(F)C(F)(F)C(F)(F)C(F)(F)C(F)(F)F\n",
      "Pred SMILES: O=C(O)C(F)(F)C(F)(F)C(F)(F)C(F)(F)C(F)(F)FFFFFFFFFFFFFF\n",
      "\n",
      "True SMILES: O=C(OCC(OC(=O)CCCCCCCCCCCCCC=CCCCCCCCCCC)COC1OC(CS(=O)(=O)O)C(O)C(O)C1O)CCCCCCCCCCCCCCCCCCCCCCCCC\n",
      "Pred SMILES: O=C(OCC(OC(=O)CCCCCCCCCCCCCC=CCCCCCCCCCC)COC1OC(CS(=O)(=O)O)C(O)C(O)C1O)CCCCCCCCCCCCCCCCCCCCCCCCC\n",
      "\n",
      "True SMILES: O=C(OCC(OC(=O)CCCCCCCCCCCCCCCCCCCCCCCCC)COC1OC(CS(=O)(=O)O)C(O)C(O)C1O)CCCCCCCCCCCCCCCCCCCCCCCCC\n",
      "Pred SMILES: O=C(OCC(OC(=O)CCCCCCCCCCCCCCCCCCCCCCCCC)COC1OC(CS(=O)(=O)O)C(O)C(O)C1O)CCCCCCCCCCCCCCCCCCCCCCCCC\n",
      "\n",
      "True SMILES: CCCCCCCCCCCCCCCCCCCCCCCCCCC(=O)OC(COC1OC(CS(O)(=O)=O)C(O)C(O)C1O)COC(=O)CCCCCCCCCCCCCCCCCCCCCCCC\n",
      "Pred SMILES: CCCCCCCCCCCCCCCCCCCCCCCCCCC(=O)OC(COC1OC(CS(O)(=O)=O)C(O)C(O)C1O)COC(=O)CCCCCCCCCCCCCCCCCCCCCCCC\n",
      "\n",
      "True SMILES: O=C(OCC(OC(=O)CCCCCCCCCCCCC=CCC=CCC=CCC=CCC)COC1OC(CS(=O)(=O)O)C(O)C(O)C1O)CCCCCCCCCCCCCCCCCCCCCCCC\n",
      "Pred SMILES: O=C(OCC(OC(=O)CCCCCCCCCCCCC=CCC=CCC=CCC=CCC)COC1OC(CS(=O)(=O)O)C(O)C(O)C1O)CCCCCCCCCCCCCCCCCCCCCCCC\n",
      "\n",
      "True SMILES: O=C(OCC(OC(=O)CCCCCCCCCCCCCC=CCC=CCCCCCCC)COC1OC(CS(=O)(=O)O)C(O)C(O)C1O)CCCCCCCCCCCCCCCCCCCCCCCC\n",
      "Pred SMILES: O=C(OCC(OC(=O)CCCCCCCCCCCCCC=CCC=CCCCCCCC)COC1OC(CS(=O)(=O)O)C(O)C(O)C1O)CCCCCCCCCCCCCCCCCCCCCCCC\n",
      "\n",
      "True SMILES: O=C(OCC(OC(=O)CCCCCCCCCCCCCCCCCCCCCCCCCC)COC1OC(CS(=O)(=O)O)C(O)C(O)C1O)CCCCCCCCCCCCCCCCCCCCCCC\n",
      "Pred SMILES: O=C(OCC(OC(=O)CCCCCCCCCCCCCCCCCCCCCCCCCC)COC1OC(CS(=O)(=O)O)C(O)C(O)C1O)CCCCCCCCCCCCCCCCCCCCCCC\n",
      "\n",
      "True SMILES: O=C(OCC(OC(=O)CCCCCCCCCCCCC=CCC=CCC=CCC=CCC)COC1OC(CS(=O)(=O)O)C(O)C(O)C1O)CCCCCCCCCCCCCCCCCCCCCCC\n",
      "Pred SMILES: O=C(OCC(OC(=O)CCCCCCCCCCCCC=CCC=CCC=CCC=CCC)COC1OC(CS(=O)(=O)O)C(O)C(O)C1O)CCCCCCCCCCCCCCCCCCCCCCCCC\n",
      "\n",
      "True SMILES: O=C(OCC(OC(=O)CCCCCCCCCCCCCC=CCC=CCCCCCCC)COC1OC(CS(=O)(=O)O)C(O)C(O)C1O)CCCCCCCCCCCCCCCCCCCCCCC\n",
      "Pred SMILES: O=C(OCC(OC(=O)CCCCCCCCCCCCCC=CCC=CCCCCCCC)COC1OC(CS(=O)(=O)O)C(O)C(O)C1O)CCCCCCCCCCCCCCCCCCCCCCCCC\n",
      "\n",
      "True SMILES: O=C(OCC(OC(=O)CCCCCCCCCCCCCC=CCCCCCCCCCC)COC1OC(CS(=O)(=O)O)C(O)C(O)C1O)CCCCCCCCCCCCCCCCCCCCCCC\n",
      "Pred SMILES: O=C(OCC(OC(=O)CCCCCCCCCCCCCC=CCCCCCCCCCC)COC1OC(CS(=O)(=O)O)C(O)C(O)C1O)CCCCCCCCCCCCCCCCCCCCCCC\n",
      "\n",
      "True SMILES: O=C(OCC(OC(=O)CCCCCCCCCCCCCCCCCCCCCCCCC)COC1OC(CS(=O)(=O)O)C(O)C(O)C1O)CCCCCCCCCCCCCCCCCCCCCCC\n",
      "Pred SMILES: O=C(OCC(OC(=O)CCCCCCCCCCCCCCCCCCCCCCCCC)COC1OC(CS(=O)(=O)O)C(O)C(O)C1O)CCCCCCCCCCCCCCCCCCCCCCC\n",
      "\n",
      "True SMILES: O=C(OCC(OC(=O)CCC=CCC=CCC=CCC=CCC=CCC=CCC)COC1OC(CS(=O)(=O)O)C(O)C(O)C1O)CCC=CCC=CCC=CCC=CCC=CCC=CCC\n",
      "Pred SMILES: O=C(OCC(OC(=O)CCC=CCC=CCC=CCC=CCC=CCC=CCC)COC1OC(CS(=O)(=O)O)C(O)C(O)C1O)CCC=CCC=CCC=CCC=CCC=CCC=CCC\n",
      "\n",
      "True SMILES: O=C(OCC(OC(=O)CCCCCC=CCC=CCC=CCC=CCC=CCC)COC1OC(CS(=O)(=O)O)C(O)C(O)C1O)CCCCCCCCCCCCCCCCCCCCCCCCCC\n",
      "Pred SMILES: O=C(OCC(OC(=O)CCCCCC=CCC=CCC=CCC=CCC=CCC)COC1OC(CS(=O)(=O)O)C(O)C(O)C1O)CCCCCCCCCCCCCCCCCCCCCCCCCC\n",
      "\n",
      "True SMILES: O=C(OCC(OC(=O)CCCCCC=CCC=CCC=CCC=CCC=CCC)COC1OC(CS(=O)(=O)O)C(O)C(O)C1O)CCCCCCCCCCCCC=CCC=CCC=CCC=CCC\n",
      "Pred SMILES: O=C(OCC(OC(=O)CCCCCC=CCC=CCC=CCC=CCC=CCC)COC1OC(CS(=O)(=O)O)C(O)C(O)C1O)CCCCCCCCCCCCC=CCC=CCC=CCC=CCCC\n",
      "\n",
      "True SMILES: O=C(OCC(OC(=O)CCCCCC=CCC=CCC=CCC=CCC=CCC)COC1OC(CS(=O)(=O)O)C(O)C(O)C1O)CCCCCCCCCCCCCC=CCC=CCCCCCCC\n",
      "Pred SMILES: O=C(OCC(OC(=O)CCCCCC=CCC=CCC=CCC=CCC=CCC)COC1OC(CS(=O)(=O)O)C(O)C(O)C1O)CCCCCCCCCCCCCC=CCC=CCCCCCCC\n",
      "\n",
      "True SMILES: O=C(OCC(OC(=O)CCCCCC=CCC=CCC=CCC=CCC=CCC)COC1OC(CS(=O)(=O)O)C(O)C(O)C1O)CCCCCCCCCCCCCC=CCCCCCCCCCC\n",
      "Pred SMILES: O=C(OCC(OC(=O)CCCCCC=CCC=CCC=CCC=CCC=CCC)COC1OC(CS(=O)(=O)O)C(O)C(O)C1O)CCCCCCCCCCCCCC=CCCCCCCCCCC\n",
      "\n",
      "True SMILES: O=C(OCC(OC(=O)CCCCCCCCC=CCC=CCC=CCCCCC)COC1OC(CS(=O)(=O)O)C(O)C(O)C1O)CCCCCCCCCCCCCCCCCCCCCCCCC\n",
      "Pred SMILES: O=C(OCC(OC(=O)CCCCCCCCC=CCC=CCC=CCCCCC)COC1OC(CS(=O)(=O)O)C(O)C(O)C1O)CCCCCCCCCCCCCCCCCCCCCCCCC\n",
      "\n",
      "True SMILES: O=C(OCC(OC(=O)CCCCCCCCC=CCC=CCC=CCCCCC)COC1OC(CS(=O)(=O)O)C(O)C(O)C1O)CCCCCCCCCCCCCCCCCCCCCCCC\n",
      "Pred SMILES: O=C(OCC(OC(=O)CCCCCCCCC=CCC=CCC=CCCCCC)COC1OC(CS(=O)(=O)O)C(O)C(O)C1O)CCCCCCCCCCCCCCCCCCCCCCCC\n",
      "\n",
      "True SMILES: O=C(OCC(OC(=O)CCCCCCCCCCC=CCC=CCC=CCC=CCC)COC1OC(CS(=O)(=O)O)C(O)C(O)C1O)CCCCCCCCC=CCC=CCC=CCCCCC\n",
      "Pred SMILES: O=C(OCC(OC(=O)CCCCCCCCCCC=CCC=CCC=CCC=CCC)COC1OC(CS(=O)(=O)O)C(O)C(O)C1O)CCCCCCCCC=CCC=CCC=CCCCCCCC\n",
      "\n",
      "True SMILES: O=C(OCC(OC(=O)CCCCCCCCC=CCC=CCC=CCCCCC)COC1OC(CS(=O)(=O)O)C(O)C(O)C1O)CCCCCCCCCCCC=CCC=CCCCCCCC\n",
      "Pred SMILES: O=C(OCC(OC(=O)CCCCCCCCC=CCC=CCC=CCCCCC)COC1OC(CS(=O)(=O)O)C(O)C(O)C1O)CCCCCCCCCCCC=CCC=CCCCCCCCC\n",
      "\n",
      "True SMILES: O=C(OCC(OC(=O)CCCCCCCCC=CCC=CCC=CCCCCC)COC1OC(CS(=O)(=O)O)C(O)C(O)C1O)CCCCCCCCCCCC=CCCCCCCCCCC\n",
      "Pred SMILES: O=C(OCC(OC(=O)CCCCCCCCC=CCC=CCC=CCCCCC)COC1OC(CS(=O)(=O)O)C(O)C(O)C1O)CCCCCCCCCCCC=CCCCCCCCCCC\n",
      "\n",
      "True SMILES: O=C(OCC(OC(=O)CCCCCCCCCCCC=CCCCCCCCC)COC1OC(CS(=O)(=O)O)C(O)C(O)C1O)CCCCCCCCCCCCCCCCCCCCCCCC\n",
      "Pred SMILES: O=C(OCC(OC(=O)CCCCCCCCCCCC=CCCCCCCCC)COC1OC(CS(=O)(=O)O)C(O)C(O)C1O)CCCCCCCCCCCCCCCCCCCCCCCCC\n",
      "\n",
      "True SMILES: O=C(OCC(OC(=O)CCCCCCCCCCC=CCC=CCC=CCC=CCC)COC1OC(CS(=O)(=O)O)C(O)C(O)C1O)CCCCCCCCCCCC=CCCCCCCCC\n",
      "Pred SMILES: O=C(OCC(OC(=O)CCCCCCCCCCC=CCC=CCC=CCC=CCC)COC1OC(CS(=O)(=O)O)C(O)C(O)C1O)CCCCCCCCCCCC=CCCCCCCCCC\n",
      "\n",
      "True SMILES: O=C(OCC(OC(=O)CCCCCCCCCCCC=CCC=CCCCCCCC)COC1OC(CS(=O)(=O)O)C(O)C(O)C1O)CCCCCCCCCCCC=CCCCCCCCC\n",
      "Pred SMILES: O=C(OCC(OC(=O)CCCCCCCCCCCC=CCC=CCCCCCCC)COC1OC(CS(=O)(=O)O)C(O)C(O)C1O)CCCCCCCCCCCC=CCCCCCCCCC\n",
      "\n",
      "True SMILES: O=C(OCC(OC(=O)CCCCCCCCCCCC=CCCCCCCCCCC)COC1OC(CS(=O)(=O)O)C(O)C(O)C1O)CCCCCCCCCCCC=CCCCCCCCC\n",
      "Pred SMILES: O=C(OCC(OC(=O)CCCCCCCCCCCC=CCCCCCCCCCC)COC1OC(CS(=O)(=O)O)C(O)C(O)C1O)CCCCCCCCCCCC=CCCCCCCCCC\n",
      "\n",
      "True SMILES: O=C(OCC(OC(=O)CCCCCCCCCCCC=CCCCCCCCC)COC1OC(CS(=O)(=O)O)C(O)C(O)C1O)CCCCCCCCCCCCCCCCCCCCCCC\n",
      "Pred SMILES: O=C(OCC(OC(=O)CCCCCCCCCCCC=CCCCCCCCC)COC1OC(CS(=O)(=O)O)C(O)C(O)C1O)CCCCCCCCCCCCCCCCCCCCCCCC\n",
      "\n",
      "True SMILES: O=C(OCC(OC(=O)CCCCCCCCCCCCCC=CCC=CCCCCCCC)COC1OC(CS(=O)(=O)O)C(O)C(O)C1O)CCCCCCCCCC=CCC=CCCCCCC\n",
      "Pred SMILES: O=C(OCC(OC(=O)CCCCCCCCCCCCCC=CCC=CCCCCCCC)COC1OC(CS(=O)(=O)O)C(O)C(O)C1O)CCCCCCCCCC=CCC=CCCCCCCC\n",
      "\n",
      "True SMILES: O=C(OCC(OC(=O)CCCCCCCCCC=CCC=CCCCCCC)COC1OC(CS(=O)(=O)O)C(O)C(O)C1O)CCCCCCCCCCCCCC=CCCCCCCCCCC\n",
      "Pred SMILES: O=C(OCC(OC(=O)CCCCCCCCCC=CCC=CCCCCCC)COC1OC(CS(=O)(=O)O)C(O)C(O)C1O)CCCCCCCCCCCCCC=CCCCCCCCCCC\n",
      "\n",
      "True SMILES: O=C(OCC(OC(=O)CCCCCCCCCC=CCC=CCCCCCC)COC1OC(CS(=O)(=O)O)C(O)C(O)C1O)CCCCCCCCCCCCCCCCCCCCCCCCC\n",
      "Pred SMILES: O=C(OCC(OC(=O)CCCCCCCCCC=CCC=CCCCCCC)COC1OC(CS(=O)(=O)O)C(O)C(O)C1O)CCCCCCCCCCCCCCCCCCCCCCCCC\n",
      "\n",
      "True SMILES: O=C(OCC(OC(=O)CCCCCCCCCC=CCC=CCCCCCC)COC1OC(CS(=O)(=O)O)C(O)C(O)C1O)CCCCCCCCCCCCCCCCCCCCCCCC\n",
      "Pred SMILES: O=C(OCC(OC(=O)CCCCCCCCCC=CCC=CCCCCCC)COC1OC(CS(=O)(=O)O)C(O)C(O)C1O)CCCCCCCCCCCCCCCCCCCCCCCC\n",
      "\n",
      "True SMILES: O=C(OCC(OC(=O)CCCCCCCCCCC=CCC=CCC=CCC=CCC)COC1OC(CS(=O)(=O)O)C(O)C(O)C1O)CCCCCCCCCC=CCC=CCCCCCC\n",
      "Pred SMILES: O=C(OCC(OC(=O)CCCCCCCCCCC=CCC=CCC=CCC=CCC)COC1OC(CS(=O)(=O)O)C(O)C(O)C1O)CCCCCCCCCC=CCC=CCCCCCCC\n",
      "\n",
      "True SMILES: O=C(OCC(OC(=O)CCCCCCCCCCCC=CCC=CCCCCC)COC1OC(CS(=O)(=O)O)C(O)C(O)C1O)CCCCCCCCCC=CCCCCCCCCC\n",
      "Pred SMILES: O=C(OCC(OC(=O)CCCCCCCCCCCC=CCC=CCCCCC)COC1OC(CS(=O)(=O)O)C(O)C(O)C1O)CCCCCCCCCC=CCCCCCCCCC\n",
      "\n",
      "True SMILES: O=C(OCC(OC(=O)CCCCCCCCCCCC=CCCCCCCCC)COC1OC(CS(=O)(=O)O)C(O)C(O)C1O)CCCCCCCCCC=CCCCCCCCCC\n",
      "Pred SMILES: O=C(OCC(OC(=O)CCCCCCCCCCCC=CCCCCCCCC)COC1OC(CS(=O)(=O)O)C(O)C(O)C1O)CCCCCCCCCC=CCCCCCCCCC\n",
      "\n",
      "True SMILES: O=C(OCC(OC(=O)CCCCCCCCCC=CCCCCCCCCC)COC1OC(CS(=O)(=O)O)C(O)C(O)C1O)CCCCCCCCCCCCCCCCCCCCC\n",
      "Pred SMILES: O=C(OCC(OC(=O)CCCCCCCCCC=CCCCCCCCCC)COC1OC(CS(=O)(=O)O)C(O)C(O)C1O)CCCCCCCCCCCCCCCCCCCCC\n",
      "\n",
      "True SMILES: O=C(OCC(OC(=O)CCCCCCCCCC=CCC=CCCCCCC)COC1OC(CS(=O)(=O)O)C(O)C(O)C1O)CCCCCCCCCC=CCCCCCCCCC\n",
      "Pred SMILES: O=C(OCC(OC(=O)CCCCCCCCCC=CCC=CCCCCCC)COC1OC(CS(=O)(=O)O)C(O)C(O)C1O)CCCCCCCCCC=CCCCCCCCCC\n",
      "\n",
      "True SMILES: O=C(OCC(OC(=O)CCCCCCCCCC=CCCCCCCCCC)COC1OC(CS(=O)(=O)O)C(O)C(O)C1O)CCCCCCCCCC=CCCCCCCCCC\n",
      "Pred SMILES: O=C(OCC(OC(=O)CCCCCCCCCC=CCCCCCCCCC)COC1OC(CS(=O)(=O)O)C(O)C(O)C1O)CCCCCCCCCC=CCCCCCCCCC\n",
      "\n",
      "True SMILES: O=C(OCC(OC(=O)CCCC=CCC=CCC=CCC=CCC=CCC)COC1OC(CS(=O)(=O)O)C(O)C(O)C1O)CCCCCCCCCCC=CCC=CCC=CCC=CCC\n",
      "Pred SMILES: O=C(OCC(OC(=O)CCCC=CCC=CCC=CCC=CCC=CCC)COC1OC(CS(=O)(=O)O)C(O)C(O)C1O)CCCCCCCCCCC=CCC=CCC=CCC=CCC=\n",
      "\n",
      "True SMILES: O=C(OCC(OC(=O)CCCC=CCC=CCC=CCC=CCC=CCC)COC1OC(CS(=O)(=O)O)C(O)C(O)C1O)CCCCCCCCCCCC=CCC=CCCCCCCC\n",
      "Pred SMILES: O=C(OCC(OC(=O)CCCC=CCC=CCC=CCC=CCC=CCC)COC1OC(CS(=O)(=O)O)C(O)C(O)C1O)CCCCCCCCCCCC=CCC=CCCCCCCC\n",
      "\n",
      "True SMILES: O=C(OCC(OC(=O)CCCC=CCC=CCC=CCC=CCC=CCC)COC1OC(CS(=O)(=O)O)C(O)C(O)C1O)CCCCCCCCCCCC=CCCCCCCCCCC\n",
      "Pred SMILES: O=C(OCC(OC(=O)CCCC=CCC=CCC=CCC=CCC=CCC)COC1OC(CS(=O)(=O)O)C(O)C(O)C1O)CCCCCCCCCCCC=CCCCCCCCCCC\n",
      "\n",
      "True SMILES: O=C(OCC(OC(=O)CCCC=CCC=CCC=CCC=CCC=CCC)COC1OC(CS(=O)(=O)O)C(O)C(O)C1O)CCCCCCCCCCCCCCCCCCCCCCC\n",
      "Pred SMILES: O=C(OCC(OC(=O)CCCC=CCC=CCC=CCC=CCC=CCC)COC1OC(CS(=O)(=O)O)C(O)C(O)C1O)CCCCCCCCCCCCCCCCCCCCCCC\n",
      "\n",
      "True SMILES: O=C(OCC(OC(=O)CCCC=CCC=CCC=CCC=CCC=CCC)COC1OC(CS(=O)(=O)O)C(O)C(O)C1O)CCCCCCCCCCCCCCCCCCCCCC\n",
      "Pred SMILES: O=C(OCC(OC(=O)CCCC=CCC=CCC=CCC=CCC=CCC)COC1OC(CS(=O)(=O)O)C(O)C(O)C1O)CCCCCCCCCCCCCCCCCCCCCC\n",
      "\n",
      "True SMILES: O=C(OCC(OC(=O)CCCCCCC=CCC=CCC=CCC=CCC)COC1OC(CS(=O)(=O)O)C(O)C(O)C1O)CCCCCCCCCCCC=CCCCCCCCC\n",
      "Pred SMILES: O=C(OCC(OC(=O)CCCCCCC=CCC=CCC=CCC=CCC)COC1OC(CS(=O)(=O)O)C(O)C(O)C1O)CCCCCCCCCCCC=CCCCCCCCC\n",
      "\n",
      "True SMILES: O=C(OCC(OC(=O)CCCCCCC=CCC=CCC=CCC=CCC)COC1OC(CS(=O)(=O)O)C(O)C(O)C1O)CCCCCCCCCCCCCCCCCCCCC\n",
      "Pred SMILES: O=C(OCC(OC(=O)CCCCCCC=CCC=CCC=CCC=CCC)COC1OC(CS(=O)(=O)O)C(O)C(O)C1O)CCCCCCCCCCCCCCCCCCCCC\n",
      "\n",
      "True SMILES: O=C(OCC(OC(=O)CCCCCCC=CCC=CCC=CCC=CCC)COC1OC(CS(=O)(=O)O)C(O)C(O)C1O)CCCCCCCCCC=CCC=CCCCCCC\n",
      "Pred SMILES: O=C(OCC(OC(=O)CCCCCCC=CCC=CCC=CCC=CCC)COC1OC(CS(=O)(=O)O)C(O)C(O)C1O)CCCCCCCCCC=CCC=CCCCCCC\n",
      "\n",
      "True SMILES: O=C(OCC(OC(=O)CCCCCCC=CCC=CCC=CCC=CCC)COC1OC(CS(=O)(=O)O)C(O)C(O)C1O)CCCCCCCCCC=CCCCCCCCCC\n",
      "Pred SMILES: O=C(OCC(OC(=O)CCCCCCC=CCC=CCC=CCC=CCC)COC1OC(CS(=O)(=O)O)C(O)C(O)C1O)CCCCCCCCCC=CCCCCCCCCC\n",
      "\n",
      "True SMILES: O=C(OCC(OC(=O)CCCCCCC=CCC=CCC=CCC=CCC)COC1OC(CS(=O)(=O)O)C(O)C(O)C1O)CCCCCCCCCCCCCCCCCCCC\n",
      "Pred SMILES: O=C(OCC(OC(=O)CCCCCCC=CCC=CCC=CCC=CCC)COC1OC(CS(=O)(=O)O)C(O)C(O)C1O)CCCCCCCCCCCCCCCCCCCC\n",
      "\n",
      "True SMILES: O=C(OCC(OC(=O)CCCCCCCCCCCCC=CCC=CCC=CCC=CCC)COC1OC(CS(=O)(=O)O)C(O)C(O)C1O)CCCCCCCCCC=CCC=CCCCCC\n",
      "Pred SMILES: O=C(OCC(OC(=O)CCCCCCCCCCCCC=CCC=CCC=CCC=CCC)COC1OC(CS(=O)(=O)O)C(O)C(O)C1O)CCCCCCCCCC=CCC=CCCCCCC\n",
      "\n",
      "True SMILES: O=C(OCC(OC(=O)CCCCCCCCCCCCCC=CCC=CCCCCCCC)COC1OC(CS(=O)(=O)O)C(O)C(O)C1O)CCCCCCCCCC=CCC=CCCCCC\n",
      "Pred SMILES: O=C(OCC(OC(=O)CCCCCCCCCCCCCC=CCC=CCCCCCCC)COC1OC(CS(=O)(=O)O)C(O)C(O)C1O)CCCCCCCCCC=CCC=CCCCCC\n",
      "\n",
      "True SMILES: O=C(OCC(OC(=O)CCCCCCCCCC=CCC=CCCCCC)COC1OC(CS(=O)(=O)O)C(O)C(O)C1O)CCCCCCCCCCCCCC=CCCCCCCCCCC\n",
      "Pred SMILES: O=C(OCC(OC(=O)CCCCCCCCCC=CCC=CCCCCC)COC1OC(CS(=O)(=O)O)C(O)C(O)C1O)CCCCCCCCCCCCCC=CCCCCCCCCCC\n",
      "\n",
      "True SMILES: O=C(OCC(OC(=O)CCCCCCCCCC=CCC=CCCCCC)COC1OC(CS(=O)(=O)O)C(O)C(O)C1O)CCCCCCCCCCCCCCCCCCCCCCCCC\n",
      "Pred SMILES: O=C(OCC(OC(=O)CCCCCCCCCC=CCC=CCCCCC)COC1OC(CS(=O)(=O)O)C(O)C(O)C1O)CCCCCCCCCCCCCCCCCCCCCCCCC\n",
      "\n",
      "True SMILES: O=C(OCC(OC(=O)CCCCCCCCCC=CCC=CCCCCC)COC1OC(CS(=O)(=O)O)C(O)C(O)C1O)CCCCCCCCCCCCCCCCCCCCCCCC\n",
      "Pred SMILES: O=C(OCC(OC(=O)CCCCCCCCCC=CCC=CCCCCC)COC1OC(CS(=O)(=O)O)C(O)C(O)C1O)CCCCCCCCCCCCCCCCCCCCCCCC\n",
      "\n",
      "True SMILES: O=C(OCC(OC(=O)CCCCCCCCCCCC=CCCCCCCCCCC)COC1OC(CS(=O)(=O)O)C(O)C(O)C1O)CCCCCCCCCC=CCCCCCCCC\n",
      "Pred SMILES: O=C(OCC(OC(=O)CCCCCCCCCCCC=CCCCCCCCCCC)COC1OC(CS(=O)(=O)O)C(O)C(O)C1O)CCCCCCCCCC=CCCCCCCCC\n",
      "\n",
      "True SMILES: O=C(OCC(OC(=O)CCCCCCCCCC=CCCCCCCCC)COC1OC(CS(=O)(=O)O)C(O)C(O)C1O)CCCCCCCCCCCCCCCCCCCCCCC\n",
      "Pred SMILES: O=C(OCC(OC(=O)CCCCCCCCCC=CCCCCCCCC)COC1OC(CS(=O)(=O)O)C(O)C(O)C1O)CCCCCCCCCCCCCCCCCCCCCCC\n",
      "\n",
      "True SMILES: O=C(OCC(OC(=O)CCCCCCCCCC=CCCCCCCCC)COC1OC(CS(=O)(=O)O)C(O)C(O)C1O)CCCCCCCCCCCCCCCCCCCCCC\n",
      "Pred SMILES: O=C(OCC(OC(=O)CCCCCCCCCC=CCCCCCCCC)COC1OC(CS(=O)(=O)O)C(O)C(O)C1O)CCCCCCCCCCCCCCCCCCCCCC\n",
      "\n",
      "True SMILES: O=C(OCC(OC(=O)CCC=CCC=CCC=CCC=CCC=CCC=CCC)COC1OC(CS(=O)(=O)O)C(O)C(O)C1O)CCCCCCCCCC=CCCCCCCCC\n",
      "Pred SMILES: O=C(OCC(OC(=O)CCC=CCC=CCC=CCC=CCC=CCC=CCC)COC1OC(CS(=O)(=O)O)C(O)C(O)C1O)CCCCCCCCCC=CCCCCCCCC\n",
      "\n",
      "True SMILES: O=C(OCC(OC(=O)CCCCCC=CCC=CCC=CCC=CCC=CCC)COC1OC(CS(=O)(=O)O)C(O)C(O)C1O)CCCCCCCCCC=CCCCCCCCC\n",
      "Pred SMILES: O=C(OCC(OC(=O)CCCCCC=CCC=CCC=CCC=CCC=CCC)COC1OC(CS(=O)(=O)O)C(O)C(O)C1O)CCCCCCCCCC=CCCCCCCCC\n",
      "\n",
      "True SMILES: O=C(OCC(OC(=O)CCCCCCCCC=CCC=CCC=CCCCCC)COC1OC(CS(=O)(=O)O)C(O)C(O)C1O)CCCCCCCCCCCCCCCCCCC\n",
      "Pred SMILES: O=C(OCC(OC(=O)CCCCCCCCC=CCC=CCC=CCCCCC)COC1OC(CS(=O)(=O)O)C(O)C(O)C1O)CCCCCCCCCCCCCCCCCCC\n",
      "\n",
      "True SMILES: O=C(OCC(OC(=O)CCCCCCCCCCCC=CCC=CCCCCC)COC1OC(CS(=O)(=O)O)C(O)C(O)C1O)CCCCCCCCCCCCCCCCCCC\n",
      "Pred SMILES: O=C(OCC(OC(=O)CCCCCCCCCCCC=CCC=CCCCCC)COC1OC(CS(=O)(=O)O)C(O)C(O)C1O)CCCCCCCCCCCCCCCCCCC\n",
      "\n",
      "True SMILES: O=C(OCC(OC(=O)CCCCCCCCCCCC=CCCCCCCCC)COC1OC(CS(=O)(=O)O)C(O)C(O)C1O)CCCCCCCCCCCCCCCCCCC\n",
      "Pred SMILES: O=C(OCC(OC(=O)CCCCCCCCCCCC=CCCCCCCCC)COC1OC(CS(=O)(=O)O)C(O)C(O)C1O)CCCCCCCCCCCCCCCCCCC\n",
      "\n",
      "True SMILES: O=C(OCC(OC(=O)CCCCCCCCCCCCCCCCCCCCC)COC1OC(CS(=O)(=O)O)C(O)C(O)C1O)CCCCCCCCCCCCCCCCCCC\n",
      "Pred SMILES: O=C(OCC(OC(=O)CCCCCCCCCCCCCCCCCCCCC)COC1OC(CS(=O)(=O)O)C(O)C(O)C1O)CCCCCCCCCCCCCCCCCCC\n",
      "\n",
      "True SMILES: O=C(OCC(OC(=O)CCCCCCCCCC=CCC=CCCCCCC)COC1OC(CS(=O)(=O)O)C(O)C(O)C1O)CCCCCCCCCCCCCCCCCCC\n",
      "Pred SMILES: O=C(OCC(OC(=O)CCCCCCCCCC=CCC=CCCCCCC)COC1OC(CS(=O)(=O)O)C(O)C(O)C1O)CCCCCCCCCCCCCCCCCCC\n",
      "\n",
      "True SMILES: O=C(OCC(OC(=O)CCCCCCCC=CCC=CCCCCCC)COC1OC(CS(=O)(=O)O)C(O)C(O)C1O)CCCCCCCCCC=CCCCCCCCCC\n",
      "Pred SMILES: O=C(OCC(OC(=O)CCCCCCCC=CCC=CCCCCCC)COC1OC(CS(=O)(=O)O)C(O)C(O)C1O)CCCCCCCCCC=CCCCCCCCCC\n",
      "\n",
      "True SMILES: O=C(OCC(OC(=O)CCCCCCCC=CCC=CCCCCCC)COC1OC(CS(=O)(=O)O)C(O)C(O)C1O)CCCCCCCCCCCCCCCCCCCC\n",
      "Pred SMILES: O=C(OCC(OC(=O)CCCCCCCC=CCC=CCCCCCC)COC1OC(CS(=O)(=O)O)C(O)C(O)C1O)CCCCCCCCCCCCCCCCCCCC\n",
      "\n",
      "True SMILES: O=C(OCC(OC(=O)CCCC=CCC=CCC=CCC=CCC=CCC)COC1OC(CS(=O)(=O)O)C(O)C(O)C1O)CCCCCCCC=CCC=CCCCCCC\n",
      "Pred SMILES: O=C(OCC(OC(=O)CCCC=CCC=CCC=CCC=CCC=CCC)COC1OC(CS(=O)(=O)O)C(O)C(O)C1O)CCCCCCCC=CCC=CCCCCCC\n",
      "\n",
      "True SMILES: O=C(OCC(OC(=O)CCCCCCC=CCC=CCC=CCC=CCC)COC1OC(CS(=O)(=O)O)C(O)C(O)C1O)CCCCCCCC=CCC=CCCCCCC\n",
      "Pred SMILES: O=C(OCC(OC(=O)CCCCCCC=CCC=CCC=CCC=CCC)COC1OC(CS(=O)(=O)O)C(O)C(O)C1O)CCCCCCCC=CCC=CCCCCCC\n",
      "\n",
      "True SMILES: O=C(OCC(OC(=O)CCCCCCCCCC=CCC=CCC=CCC)COC1OC(CS(=O)(=O)O)C(O)C(O)C1O)CCCCCCCC=CCC=CCCCCCC\n",
      "Pred SMILES: O=C(OCC(OC(=O)CCCCCCCCCC=CCC=CCC=CCC)COC1OC(CS(=O)(=O)O)C(O)C(O)C1O)CCCCCCCC=CCC=CCCCCCC\n",
      "\n",
      "True SMILES: O=C(OCC(OC(=O)CCCCCCCCCC=CCC=CCC=CCC)COC1OC(CS(=O)(=O)O)C(O)C(O)C1O)CCCCCCCC=CCCCCCCCCC\n",
      "Pred SMILES: O=C(OCC(OC(=O)CCCCCCCCCC=CCC=CCC=CCC)COC1OC(CS(=O)(=O)O)C(O)C(O)C1O)CCCCCCCC=CCCCCCCCCC\n",
      "\n",
      "True SMILES: O=C(OCC(OC(=O)CCCCCCCCCC=CCC=CCCCCC)COC1OC(CS(=O)(=O)O)C(O)C(O)C1O)CCCCCCCC=CCCCCCCCCC\n",
      "Pred SMILES: O=C(OCC(OC(=O)CCCCCCCCCC=CCC=CCCCCC)COC1OC(CS(=O)(=O)O)C(O)C(O)C1O)CCCCCCCC=CCCCCCCCCC\n",
      "\n",
      "True SMILES: O=C(OCC(OC(=O)CCCCCCCCCC=CCCCCCCCC)COC1OC(CS(=O)(=O)O)C(O)C(O)C1O)CCCCCCCC=CCCCCCCCCC\n",
      "Pred SMILES: O=C(OCC(OC(=O)CCCCCCCCCC=CCCCCCCCC)COC1OC(CS(=O)(=O)O)C(O)C(O)C1O)CCCCCCCC=CCCCCCCCCC\n",
      "\n",
      "True SMILES: CCCCCCCCCCCCCCCCCCCC(=O)OCC(COC1OC(CS(O)(=O)=O)C(O)C(O)C1O)OC(=O)CCCCCCC\\C=C/CCCCCCCCC\n",
      "Pred SMILES: CCCCCCCCCCCCCCCCCCCC(=O)OCC(COC1OC(CS(O)(=O)=O)C(O)C(O)C1O)CC(=O)CCCCCCC\\C=C/CCCCCCCCC\n",
      "\n",
      "True SMILES: O=C(OCC(OC(=O)CCCCCCCC=CCC=CCCCCCC)COC1OC(CS(=O)(=O)O)C(O)C(O)C1O)CCCCCCCC=CCCCCCCCCC\n",
      "Pred SMILES: O=C(OCC(OC(=O)CCCCCCCC=CCC=CCCCCCC)COC1OC(CS(=O)(=O)O)C(O)C(O)C1O)CCCCCCCC=CCCCCCCCCC\n",
      "\n",
      "True SMILES: O=C(OCC(OC(=O)CCCCCCCCCCCCCCCCCCC)COC1OC(CS(=O)(=O)O)C(O)C(O)C1O)CCCCCCCCCCCCCCCCCC\n",
      "Pred SMILES: O=C(OCC(OC(=O)CCCCCCCCCCCCCCCCCCC)COC1OC(CS(=O)(=O)O)C(O)C(O)C1O)CCCCCCCCCCCCCCCCCC\n",
      "\n",
      "True SMILES: O=C(OCC(OC(=O)CCCCCCCC=CCC=CCCCCCC)COC1OC(CS(=O)(=O)O)C(O)C(O)C1O)CCCCCCCCCCCCCCCCCC\n",
      "Pred SMILES: O=C(OCC(OC(=O)CCCCCCCC=CCC=CCCCCCC)COC1OC(CS(=O)(=O)O)C(O)C(O)C1O)CCCCCCCCCCCCCCCCCC\n",
      "\n",
      "True SMILES: O=C(OCC(OC(=O)CCCCCCCC=CCCCCCCCCC)COC1OC(CS(=O)(=O)O)C(O)C(O)C1O)CCCCCCCCCCCCCCCCCC\n",
      "Pred SMILES: O=C(OCC(OC(=O)CCCCCCCC=CCCCCCCCCC)COC1OC(CS(=O)(=O)O)C(O)C(O)C1O)CCCCCCCCCCCCCCCCCC\n",
      "\n",
      "True SMILES: O=C(OCC(OC(=O)CCCCCCCCCCCCCCCCCC)COC1OC(CS(=O)(=O)O)C(O)C(O)C1O)CCCCCCCCCCCCCCCCCC\n",
      "Pred SMILES: O=C(OCC(OC(=O)CCCCCCCCCCCCCCCCCC)COC1OC(CS(=O)(=O)O)C(O)C(O)C1O)CCCCCCCCCCCCCCCCCC\n",
      "\n",
      "True SMILES: O=C(OC(COC(=O)CCCCCCCCCCCCCCCCCCCCCCCCCC)COC1OC(CS(=O)(=O)O)C(O)C(O)C1O)CC=CCC=CCC=CCC=CCC=CCC\n",
      "Pred SMILES: O=C(OC(COC(=O)CCCCCCCCCCCCCCCCCCCCCCCCCC)COC1OC(CS(=O)(=O)O)C(O)C(O)C1O)CC=CCC=CCC=CCC=CCC=CCC\n",
      "\n",
      "True SMILES: O=C(OC(COC(=O)CCCCCCCC=CCCCCCCCCC)COC1OC(CS(=O)(=O)O)C(O)C(O)C1O)CC=CCC=CCC=CCC=CCC=CCC\n",
      "Pred SMILES: O=C(OC(COC(=O)CCCCCCCC=CCCCCCCCCC)COC1OC(CS(=O)(=O)O)C(O)C(O)C1O)CC=CCC=CCC=CCC=CCC=CCC\n",
      "\n",
      "True SMILES: O=C(OC(COC(=O)CCCCCCCCCCCCCCCCCC)COC1OC(CS(=O)(=O)O)C(O)C(O)C1O)CC=CCC=CCC=CCC=CCC=CCC\n",
      "Pred SMILES: O=C(OC(COC(=O)CCCCCCCCCCCCCCCCCC)COC1OC(CS(=O)(=O)O)C(O)C(O)C1O)CC=CCC=CCC=CCC=CCC=CCC\n",
      "\n",
      "True SMILES: O=C(OCC(OC(=O)CC=CCC=CCC=CCC=CCC=CCC)COC1OC(CS(=O)(=O)O)C(O)C(O)C1O)CC=CCC=CCC=CCC=CCC=CCC\n",
      "Pred SMILES: O=C(OCC(OC(=O)CC=CCC=CCC=CCC=CCC=CCC)COC1OC(CS(=O)(=O)O)C(O)C(O)C1O)CC=CCC=CCC=CCC=CCC=CCC\n",
      "\n",
      "True SMILES: O=C(OCC(OC(=O)CCCCC=CCC=CCC=CCC=CCC)COC1OC(CS(=O)(=O)O)C(O)C(O)C1O)CCCCCCCCCCCCCCCCCCCCCCCCCC\n",
      "Pred SMILES: O=C(OCC(OC(=O)CCCCC=CCC=CCC=CCC=CCC)COC1OC(CS(=O)(=O)O)C(O)C(O)C1O)CCCCCCCCCCCCCCCCCCCCCCCCCC\n",
      "\n",
      "True SMILES: O=C(OCC(OC(=O)CCCCCCCCCCCCC=CCC=CCC=CCC=CCC)COC1OC(CS(=O)(=O)O)C(O)C(O)C1O)CCCCC=CCC=CCC=CCC=CCC\n",
      "Pred SMILES: O=C(OCC(OC(=O)CCCCCCCCCCCCC=CCC=CCC=CCC=CCC)COC1OC(CS(=O)(=O)O)C(O)C(O)C1O)CCCCC=CCC=CCC=CCC=CCCC\n",
      "\n",
      "True SMILES: O=C(OCC(OC(=O)CCCCC=CCC=CCC=CCC=CCC)COC1OC(CS(=O)(=O)O)C(O)C(O)C1O)CCCCCCCCCCCCCCCCCC\n",
      "Pred SMILES: O=C(OCC(OC(=O)CCCCC=CCC=CCC=CCC=CCC)COC1OC(CS(=O)(=O)O)C(O)C(O)C1O)CCCCCCCCCCCCCCCCCC\n",
      "\n",
      "True SMILES: O=C(OC(COC(=O)CCCCC=CCC=CCC=CCC=CCC)COC1OC(CS(=O)(=O)O)C(O)C(O)C1O)CC=CCC=CCC=CCC=CCC=CCC\n",
      "Pred SMILES: O=C(OC(COC(=O)CCCCC=CCC=CCC=CCC=CCC)COC1OC(CS(=O)(=O)O)C(O)C(O)C1O)CC=CCC=CCC=CCC=CCC=CCC\n",
      "\n",
      "True SMILES: O=C(OCC(OC(=O)CCCCC=CCC=CCC=CCC=CCC)COC1OC(CS(=O)(=O)O)C(O)C(O)C1O)CCCCC=CCC=CCC=CCC=CCC\n",
      "Pred SMILES: O=C(OCC(OC(=O)CCCCC=CCC=CCC=CCC=CCC)COC1OC(CS(=O)(=O)O)C(O)C(O)C1O)CCCCC=CCC=CCC=CCC=CCC\n",
      "\n",
      "True SMILES: O=C(OCC(OC(=O)CCCCCCCC=CCC=CCC=CCC)COC1OC(CS(=O)(=O)O)C(O)C(O)C1O)CCCCCCCCCCCCCCCCCCCCCCCCCC\n",
      "Pred SMILES: O=C(OCC(OC(=O)CCCCCCCC=CCC=CCC=CCC)COC1OC(CS(=O)(=O)O)C(O)C(O)C1O)CCCCCCCCCCCCCCCCCCCCCCCCCC\n",
      "\n",
      "True SMILES: O=C(OCC(OC(=O)CCCCCCCCCCCCC=CCC=CCC=CCC=CCC)COC1OC(CS(=O)(=O)O)C(O)C(O)C1O)CCCCCCCC=CCC=CCC=CCC\n",
      "Pred SMILES: O=C(OCC(OC(=O)CCCCCCCCCCCCC=CCC=CCC=CCC=CCC)COC1OC(CS(=O)(=O)O)C(O)C(O)C1O)CCCCCCCC=CCC=CCC=CCCC\n",
      "\n",
      "True SMILES: O=C(OCC(OC(=O)CCCCCCCC=CCC=CCC=CCC)COC1OC(CS(=O)(=O)O)C(O)C(O)C1O)CCCCCCCCCCCCCCCCCC\n",
      "Pred SMILES: O=C(OCC(OC(=O)CCCCCCCC=CCC=CCC=CCC)COC1OC(CS(=O)(=O)O)C(O)C(O)C1O)CCCCCCCCCCCCCCCCCC\n",
      "\n",
      "True SMILES: O=C(OC(COC(=O)CCCCCCCC=CCC=CCC=CCC)COC1OC(CS(=O)(=O)O)C(O)C(O)C1O)CC=CCC=CCC=CCC=CCC=CCC\n",
      "Pred SMILES: O=C(OC(COC(=O)CCCCCCCC=CCC=CCC=CCC)COC1OC(CS(=O)(=O)O)C(O)C(O)C1O)CC=CCC=CCC=CCC=CCC=CCC\n",
      "\n",
      "True SMILES: O=C(OCC(OC(=O)CCCCC=CCC=CCC=CCC=CCC)COC1OC(CS(=O)(=O)O)C(O)C(O)C1O)CCCCCCCC=CCC=CCC=CCC\n",
      "Pred SMILES: O=C(OCC(OC(=O)CCCCC=CCC=CCC=CCC=CCC)COC1OC(CS(=O)(=O)O)C(O)C(O)C1O)CCCCCCCC=CCC=CCC=CCC\n",
      "\n",
      "True SMILES: O=C(OCC(OC(=O)CCCCCCCC=CCC=CCC=CCC)COC1OC(CS(=O)(=O)O)C(O)C(O)C1O)CCCCCCCC=CCC=CCC=CCC\n",
      "Pred SMILES: O=C(OCC(OC(=O)CCCCCCCC=CCC=CCC=CCC)COC1OC(CS(=O)(=O)O)C(O)C(O)C1O)CCCCCCCC=CCC=CCC=CCC\n",
      "\n",
      "True SMILES: O=C(OCC(OC(=O)CCCCCCCC=CCC=CCCCCC)COC1OC(CS(=O)(=O)O)C(O)C(O)C1O)CCCCCCCCCCCCCCCCCCCCCCCCCC\n",
      "Pred SMILES: O=C(OCC(OC(=O)CCCCCCCC=CCC=CCCCCC)COC1OC(CS(=O)(=O)O)C(O)C(O)C1O)CCCCCCCCCCCCCCCCCCCCCCCCCC\n",
      "\n",
      "True SMILES: O=C(OCC(OC(=O)CCCCCCCC=CCC=CCCCCC)COC1OC(CS(=O)(=O)O)C(O)C(O)C1O)CCCCCCCC=CCCCCCCCCC\n",
      "Pred SMILES: O=C(OCC(OC(=O)CCCCCCCC=CCC=CCCCCC)COC1OC(CS(=O)(=O)O)C(O)C(O)C1O)CCCCCCCC=CCCCCCCCCC\n",
      "\n",
      "True SMILES: O=C(OCC(OC(=O)CCCCCCCC=CCC=CCCCCC)COC1OC(CS(=O)(=O)O)C(O)C(O)C1O)CCCCCCCCCCCCCCCCCC\n",
      "Pred SMILES: O=C(OCC(OC(=O)CCCCCCCC=CCC=CCCCCC)COC1OC(CS(=O)(=O)O)C(O)C(O)C1O)CCCCCCCCCCCCCCCCCC\n",
      "\n",
      "True SMILES: O=C(OC(COC(=O)CCCCCCCC=CCC=CCCCCC)COC1OC(CS(=O)(=O)O)C(O)C(O)C1O)CC=CCC=CCC=CCC=CCC=CCC\n",
      "Pred SMILES: O=C(OC(COC(=O)CCCCCCCC=CCC=CCCCCC)COC1OC(CS(=O)(=O)O)C(O)C(O)C1O)CC=CCC=CCC=CCC=CCC=CCC\n",
      "\n",
      "True SMILES: O=C(OCC(OC(=O)CCCCC=CCC=CCC=CCC=CCC)COC1OC(CS(=O)(=O)O)C(O)C(O)C1O)CCCCCCCC=CCC=CCCCCC\n",
      "Pred SMILES: O=C(OCC(OC(=O)CCCCC=CCC=CCC=CCC=CCC)COC1OC(CS(=O)(=O)O)C(O)C(O)C1O)CCCCCCCC=CCC=CCCCCC\n",
      "\n",
      "True SMILES: O=C(OCC(OC(=O)CCCCCCCC=CCC=CCC=CCC)COC1OC(CS(=O)(=O)O)C(O)C(O)C1O)CCCCCCCC=CCC=CCCCCC\n",
      "Pred SMILES: O=C(OCC(OC(=O)CCCCCCCC=CCC=CCC=CCC)COC1OC(CS(=O)(=O)O)C(O)C(O)C1O)CCCCCCCC=CCC=CCCCCC\n",
      "\n",
      "True SMILES: O=C(OCC(OC(=O)CCCCCCCC=CCCCCCCCC)COC1OC(CS(=O)(=O)O)C(O)C(O)C1O)CCCCCCCCCCCCCCCCCCC\n",
      "Pred SMILES: O=C(OCC(OC(=O)CCCCCCCC=CCCCCCCCC)COC1OC(CS(=O)(=O)O)C(O)C(O)C1O)CCCCCCCCCCCCCCCCCCC\n",
      "\n",
      "True SMILES: O=C(OCC(OC(=O)CCCCCCCC=CCC=CCCCCCC)COC1OC(CS(=O)(=O)O)C(O)C(O)C1O)CCCCCCCC=CCCCCCCCC\n",
      "Pred SMILES: O=C(OCC(OC(=O)CCCCCCCC=CCC=CCCCCCC)COC1OC(CS(=O)(=O)O)C(O)C(O)C1O)CCCCCCCC=CCCCCCCCC\n",
      "\n",
      "True SMILES: O=C(OCC(OC(=O)CCCCCCCC=CCCCCCCCCC)COC1OC(CS(=O)(=O)O)C(O)C(O)C1O)CCCCCCCC=CCCCCCCCC\n",
      "Pred SMILES: O=C(OCC(OC(=O)CCCCCCCC=CCCCCCCCCC)COC1OC(CS(=O)(=O)O)C(O)C(O)C1O)CCCCCCCC=CCCCCCCCC\n",
      "\n",
      "True SMILES: O=C(OCC(OC(=O)CCCCCCCC=CCCCCCCCC)COC1OC(CS(=O)(=O)O)C(O)C(O)C1O)CCCCCCCCCCCCCCCCCC\n",
      "Pred SMILES: O=C(OCC(OC(=O)CCCCCCCC=CCCCCCCCC)COC1OC(CS(=O)(=O)O)C(O)C(O)C1O)CCCCCCCCCCCCCCCCCC\n",
      "\n",
      "True SMILES: O=C(OC(COC(=O)CCCCCCCC=CCCCCCCCC)COC1OC(CS(=O)(=O)O)C(O)C(O)C1O)CC=CCC=CCC=CCC=CCC=CCC\n",
      "Pred SMILES: O=C(OC(COC(=O)CCCCCCCC=CCCCCCCCC)COC1OC(CS(=O)(=O)O)C(O)C(O)C1O)CC=CCC=CCC=CCC=CCC=CCC\n",
      "\n",
      "True SMILES: O=C(OCC(OC(=O)CCCCCCCCCC=CCC=CCC=CCC)COC1OC(CS(=O)(=O)O)C(O)C(O)C1O)CCCCCCCCCCCCCCCCC\n",
      "Pred SMILES: O=C(OCC(OC(=O)CCCCCCCCCC=CCC=CCC=CCC)COC1OC(CS(=O)(=O)O)C(O)C(O)C1O)CCCCCCCCCCCCCCCCC\n",
      "\n",
      "True SMILES: O=C(OCC(OC(=O)CCCCCCCCCC=CCC=CCCCCC)COC1OC(CS(=O)(=O)O)C(O)C(O)C1O)CCCCCCCCCCCCCCCCC\n",
      "Pred SMILES: O=C(OCC(OC(=O)CCCCCCCCCC=CCC=CCCCCC)COC1OC(CS(=O)(=O)O)C(O)C(O)C1O)CCCCCCCCCCCCCCCCC\n",
      "\n",
      "True SMILES: O=C(OCC(OC(=O)CCCCCCCCCC=CCCCCCCCC)COC1OC(CS(=O)(=O)O)C(O)C(O)C1O)CCCCCCCCCCCCCCCCC\n",
      "Pred SMILES: O=C(OCC(OC(=O)CCCCCCCCCC=CCCCCCCCC)COC1OC(CS(=O)(=O)O)C(O)C(O)C1O)CCCCCCCCCCCCCCCCC\n",
      "\n",
      "True SMILES: O=C(OCC(OC(=O)CCCCCCCCCCCCCCCCCCC)COC1OC(CS(=O)(=O)O)C(O)C(O)C1O)CCCCCCCCCCCCCCCCC\n",
      "Pred SMILES: O=C(OCC(OC(=O)CCCCCCCCCCCCCCCCCCC)COC1OC(CS(=O)(=O)O)C(O)C(O)C1O)CCCCCCCCCCCCCCCCC\n",
      "\n",
      "True SMILES: O=C(OCC(OC(=O)CCCCCCCC=CCC=CCCCCCC)COC1OC(CS(=O)(=O)O)C(O)C(O)C1O)CCCCCCCCCCCCCCCCC\n",
      "Pred SMILES: O=C(OCC(OC(=O)CCCCCCCC=CCC=CCCCCCC)COC1OC(CS(=O)(=O)O)C(O)C(O)C1O)CCCCCCCCCCCCCCCCC\n",
      "\n",
      "True SMILES: O=C(OCC(OC(=O)CCCCCCCC=CCC=CCCCC)COC1OC(CS(=O)(=O)O)C(O)C(O)C1O)CCCCCCCCCC=CCCCCCCCCC\n",
      "Pred SMILES: O=C(OCC(OC(=O)CCCCCCCC=CCC=CCCCC)COC1OC(CS(=O)(=O)O)C(O)C(O)C1O)CCCCCCCCCC=CCCCCCCCCC\n",
      "\n",
      "True SMILES: O=C(OCC(OC(=O)CCCCCCCC=CCC=CCCCC)COC1OC(CS(=O)(=O)O)C(O)C(O)C1O)CCCCCCCCCCCCCCCCCCCC\n",
      "Pred SMILES: O=C(OCC(OC(=O)CCCCCCCC=CCC=CCCCC)COC1OC(CS(=O)(=O)O)C(O)C(O)C1O)CCCCCCCCCCCCCCCCCCCC\n",
      "\n",
      "True SMILES: O=C(OCC(OC(=O)CCCC=CCC=CCC=CCC=CCC=CCC)COC1OC(CS(=O)(=O)O)C(O)C(O)C1O)CCCCCCCC=CCC=CCCCC\n",
      "Pred SMILES: O=C(OCC(OC(=O)CCCC=CCC=CCC=CCC=CCC=CCC)COC1OC(CS(=O)(=O)O)C(O)C(O)C1O)CCCCCCCC=CCC=CCCCC\n",
      "\n",
      "True SMILES: O=C(OCC(OC(=O)CCCCCCC=CCC=CCC=CCC=CCC)COC1OC(CS(=O)(=O)O)C(O)C(O)C1O)CCCCCCCC=CCC=CCCCC\n",
      "Pred SMILES: O=C(OCC(OC(=O)CCCCCCC=CCC=CCC=CCC=CCC)COC1OC(CS(=O)(=O)O)C(O)C(O)C1O)CCCCCCCC=CCC=CCCCC\n",
      "\n",
      "True SMILES: O=C(OCC(OC(=O)CCCCCCCCCC=CCC=CCC=CCC)COC1OC(CS(=O)(=O)O)C(O)C(O)C1O)CCCCCCCC=CCC=CCCCC\n",
      "Pred SMILES: O=C(OCC(OC(=O)CCCCCCCCCC=CCC=CCC=CCC)COC1OC(CS(=O)(=O)O)C(O)C(O)C1O)CCCCCCCC=CCC=CCCCC\n",
      "\n",
      "True SMILES: O=C(OCC(OC(=O)CCCCCCCCC=CCC=CCC=CCCCCC)COC1OC(CS(=O)(=O)O)C(O)C(O)C1O)CCCCCCCC=CCCCCCCC\n",
      "Pred SMILES: O=C(OCC(OC(=O)CCCCCCCCC=CCC=CCC=CCCCCC)COC1OC(CS(=O)(=O)O)C(O)C(O)C1O)CCCCCCCC=CCCCCCCC\n",
      "\n",
      "True SMILES: O=C(OCC(OC(=O)CCCCCCCCCCCC=CCC=CCCCCC)COC1OC(CS(=O)(=O)O)C(O)C(O)C1O)CCCCCCCC=CCCCCCCC\n",
      "Pred SMILES: O=C(OCC(OC(=O)CCCCCCCCCCCC=CCC=CCCCCC)COC1OC(CS(=O)(=O)O)C(O)C(O)C1O)CCCCCCCC=CCCCCCCC\n",
      "\n",
      "True SMILES: O=C(OCC(OC(=O)CCCCCCCCCCCC=CCCCCCCCC)COC1OC(CS(=O)(=O)O)C(O)C(O)C1O)CCCCCCCC=CCCCCCCC\n",
      "Pred SMILES: O=C(OCC(OC(=O)CCCCCCCCCCCC=CCCCCCCCC)COC1OC(CS(=O)(=O)O)C(O)C(O)C1O)CCCCCCCC=CCCCCCCC\n",
      "\n",
      "True SMILES: O=C(OCC(OC(=O)CCCCCCCC=CCCCCCCC)COC1OC(CS(=O)(=O)O)C(O)C(O)C1O)CCCCCCCCCCCCCCCCCCCCC\n",
      "Pred SMILES: O=C(OCC(OC(=O)CCCCCCCC=CCCCCCCC)COC1OC(CS(=O)(=O)O)C(O)C(O)C1O)CCCCCCCCCCCCCCCCCCCCC\n",
      "\n",
      "True SMILES: O=C(OCC(OC(=O)CCCCCCCCCC=CCC=CCCCCCC)COC1OC(CS(=O)(=O)O)C(O)C(O)C1O)CCCCCCCC=CCCCCCCC\n",
      "Pred SMILES: O=C(OCC(OC(=O)CCCCCCCCCC=CCC=CCCCCCC)COC1OC(CS(=O)(=O)O)C(O)C(O)C1O)CCCCCCCC=CCCCCCCC\n",
      "\n",
      "True SMILES: O=C(OCC(OC(=O)CCCCCCCCCCCC=CCCCCCCCCCC)COC1OC(CS(=O)(=O)O)C(O)C(O)C1O)CCCCCCCCCCCCCCCC\n",
      "Pred SMILES: O=C(OCC(OC(=O)CCCCCCCCCCCC=CCCCCCCCCCC)COC1OC(CS(=O)(=O)O)C(O)C(O)C1O)CCCCCCCCCCCCCCCC\n",
      "\n",
      "True SMILES: O=C(OCC(OC(=O)CCCCCCCCCCCCCCCCCCCCCCC)COC1OC(CS(=O)(=O)O)C(O)C(O)C1O)CCCCCCCCCCCCCCCC\n",
      "Pred SMILES: O=C(OCC(OC(=O)CCCCCCCCCCCCCCCCCCCCCCC)COC1OC(CS(=O)(=O)O)C(O)C(O)C1O)CCCCCCCCCCCCCCCC\n",
      "\n",
      "True SMILES: O=C(OCC(OC(=O)CCCCCCCCCCCCCCCCCCCCCC)COC1OC(CS(=O)(=O)O)C(O)C(O)C1O)CCCCCCCCCCCCCCCC\n",
      "Pred SMILES: O=C(OCC(OC(=O)CCCCCCCCCCCCCCCCCCCCCC)COC1OC(CS(=O)(=O)O)C(O)C(O)C1O)CCCCCCCCCCCCCCCC\n",
      "\n",
      "True SMILES: O=C(OCC(OC(=O)CCC=CCC=CCC=CCC=CCC=CCC=CCC)COC1OC(CS(=O)(=O)O)C(O)C(O)C1O)CCCCCCCCCCCCCCCC\n",
      "Pred SMILES: O=C(OCC(OC(=O)CCC=CCC=CCC=CCC=CCC=CCC=CCC)COC1OC(CS(=O)(=O)O)C(O)C(O)C1O)CCCCCCCCCCCCCCCC\n",
      "\n",
      "True SMILES: O=C(OCC(OC(=O)CCCCCC=CCC=CCC=CCC=CCC=CCC)COC1OC(CS(=O)(=O)O)C(O)C(O)C1O)CCCCCCCCCCCCCCCC\n",
      "Pred SMILES: O=C(OCC(OC(=O)CCCCCC=CCC=CCC=CCC=CCC=CCC)COC1OC(CS(=O)(=O)O)C(O)C(O)C1O)CCCCCCCCCCCCCCCC\n",
      "\n",
      "True SMILES: O=C(OCC(OC(=O)CCCCCCCCCCCCC=CCC=CCC=CCC=CCC)COC1OC(CS(=O)(=O)O)C(O)C(O)C1O)CCC=CCC=CCC=CCC=CCC\n",
      "Pred SMILES: O=C(OCC(OC(=O)CCCCCCCCCCCCC=CCC=CCC=CCC=CCC)COC1OC(CS(=O)(=O)O)C(O)C(O)C1O)CCC=CCC=CCC=CCC=CCC\n",
      "\n",
      "True SMILES: O=C(OCC(OC(=O)CCC=CCC=CCC=CCC=CCC)COC1OC(CS(=O)(=O)O)C(O)C(O)C1O)CCCCCCCCCCCCCC=CCC=CCCCCCCC\n",
      "Pred SMILES: O=C(OCC(OC(=O)CCC=CCC=CCC=CCC=CCC)COC1OC(CS(=O)(=O)O)C(O)C(O)C1O)CCCCCCCCCCCCCC=CCC=CCCCCCCC\n",
      "\n",
      "True SMILES: O=C(OCC(OC(=O)CCC=CCC=CCC=CCC=CCC)COC1OC(CS(=O)(=O)O)C(O)C(O)C1O)CCCCCCCCCCCCCC=CCCCCCCCCCC\n",
      "Pred SMILES: O=C(OCC(OC(=O)CCC=CCC=CCC=CCC=CCC)COC1OC(CS(=O)(=O)O)C(O)C(O)C1O)CCCCCCCCCCCCCC=CCCCCCCCCCC\n",
      "\n",
      "True SMILES: O=C(OCC(OC(=O)CCC=CCC=CCC=CCC=CCC)COC1OC(CS(=O)(=O)O)C(O)C(O)C1O)CCCCCCCCCCCCCCCCCCCCCCCCC\n",
      "Pred SMILES: O=C(OCC(OC(=O)CCC=CCC=CCC=CCC=CCC)COC1OC(CS(=O)(=O)O)C(O)C(O)C1O)CCCCCCCCCCCCCCCCCCCCCCCCC\n",
      "\n",
      "True SMILES: O=C(OCC(OC(=O)CCC=CCC=CCC=CCC=CCC)COC1OC(CS(=O)(=O)O)C(O)C(O)C1O)CCCCCCCCCCCCCCCCCCCCCCCC\n",
      "Pred SMILES: O=C(OCC(OC(=O)CCC=CCC=CCC=CCC=CCC)COC1OC(CS(=O)(=O)O)C(O)C(O)C1O)CCCCCCCCCCCCCCCCCCCCCCCC\n",
      "\n",
      "True SMILES: O=C(OCC(OC(=O)CCC=CCC=CCC=CCC=CCC)COC1OC(CS(=O)(=O)O)C(O)C(O)C1O)CCCCCCCC=CCC=CCCCCC\n",
      "Pred SMILES: O=C(OCC(OC(=O)CCC=CCC=CCC=CCC=CCC)COC1OC(CS(=O)(=O)O)C(O)C(O)C1O)CCCCCCCC=CCC=CCCCCC\n",
      "\n",
      "True SMILES: O=C(OCC(OC(=O)CCC=CCC=CCC=CCC=CCC)COC1OC(CS(=O)(=O)O)C(O)C(O)C1O)CCCCCCCC=CCCCCCCCC\n",
      "Pred SMILES: O=C(OCC(OC(=O)CCC=CCC=CCC=CCC=CCC)COC1OC(CS(=O)(=O)O)C(O)C(O)C1O)CCCCCCCC=CCCCCCCCC\n",
      "\n",
      "True SMILES: O=C(OCC(OC(=O)CCC=CCC=CCC=CCC=CCC)COC1OC(CS(=O)(=O)O)C(O)C(O)C1O)CCCCCCCCCCCCCCCCC\n",
      "Pred SMILES: O=C(OCC(OC(=O)CCC=CCC=CCC=CCC=CCC)COC1OC(CS(=O)(=O)O)C(O)C(O)C1O)CCCCCCCCCCCCCCCCC\n",
      "\n",
      "True SMILES: O=C(OCC(OC(=O)CCC=CCC=CCC=CCC=CCC)COC1OC(CS(=O)(=O)O)C(O)C(O)C1O)CCCCCCCC=CCC=CCCCC\n",
      "Pred SMILES: O=C(OCC(OC(=O)CCC=CCC=CCC=CCC=CCC)COC1OC(CS(=O)(=O)O)C(O)C(O)C1O)CCCCCCCC=CCC=CCCCC\n",
      "\n",
      "True SMILES: O=C(OCC(OC(=O)CCC=CCC=CCC=CCC=CCC)COC1OC(CS(=O)(=O)O)C(O)C(O)C1O)CCCCCCCC=CCCCCCCC\n",
      "Pred SMILES: O=C(OCC(OC(=O)CCC=CCC=CCC=CCC=CCC)COC1OC(CS(=O)(=O)O)C(O)C(O)C1O)CCCCCCCC=CCCCCCCC\n",
      "\n",
      "True SMILES: O=C(OCC(OC(=O)CCCCCC=CCC=CCC=CCC)COC1OC(CS(=O)(=O)O)C(O)C(O)C1O)CCCCCCCCCC=CCCCCCCCC\n",
      "Pred SMILES: O=C(OCC(OC(=O)CCCCCC=CCC=CCC=CCC)COC1OC(CS(=O)(=O)O)C(O)C(O)C1O)CCCCCCCCCC=CCCCCCCCC\n",
      "\n",
      "True SMILES: O=C(OCC(OC(=O)CCCCCC=CCC=CCC=CCC)COC1OC(CS(=O)(=O)O)C(O)C(O)C1O)CCCCCCCCCCCCCCCCCCC\n",
      "Pred SMILES: O=C(OCC(OC(=O)CCCCCC=CCC=CCC=CCC)COC1OC(CS(=O)(=O)O)C(O)C(O)C1O)CCCCCCCCCCCCCCCCCCC\n",
      "\n",
      "True SMILES: O=C(OCC(OC(=O)CCCCCC=CCC=CCC=CCC)COC1OC(CS(=O)(=O)O)C(O)C(O)C1O)CCCCCCCC=CCC=CCCCCCC\n",
      "Pred SMILES: O=C(OCC(OC(=O)CCCCCC=CCC=CCC=CCC)COC1OC(CS(=O)(=O)O)C(O)C(O)C1O)CCCCCCCC=CCC=CCCCCCC\n",
      "\n",
      "True SMILES: O=C(OCC(OC(=O)CCCCCC=CCC=CCC=CCC)COC1OC(CS(=O)(=O)O)C(O)C(O)C1O)CCCCCCCC=CCCCCCCCCC\n",
      "Pred SMILES: O=C(OCC(OC(=O)CCCCCC=CCC=CCC=CCC)COC1OC(CS(=O)(=O)O)C(O)C(O)C1O)CCCCCCCC=CCCCCCCCCC\n",
      "\n",
      "True SMILES: O=C(OCC(OC(=O)CCCCCC=CCC=CCC=CCC)COC1OC(CS(=O)(=O)O)C(O)C(O)C1O)CCCCCCCCCCCCCCCCCC\n",
      "Pred SMILES: O=C(OCC(OC(=O)CCCCCC=CCC=CCC=CCC)COC1OC(CS(=O)(=O)O)C(O)C(O)C1O)CCCCCCCCCCCCCCCCCC\n",
      "\n",
      "True SMILES: O=C(OCC(OC(=O)CCCCCCCC=CCC=CCCC)COC1OC(CS(=O)(=O)O)C(O)C(O)C1O)CCCCCCCCCCCC=CCCCCCCCC\n",
      "Pred SMILES: O=C(OCC(OC(=O)CCCCCCCC=CCC=CCCC)COC1OC(CS(=O)(=O)O)C(O)C(O)C1O)CCCCCCCCCCCC=CCCCCCCCC\n",
      "\n",
      "True SMILES: CCCCCCCCCCCCCCCCCCCCCC(=O)OCC(COC1OC(CS(O)(=O)=O)C(O)C(O)C1O)OC(=O)CCCCCCC\\C=C/C\\C=C/CCC\n",
      "Pred SMILES: CCCCCCCCCCCCCCCCCCCCCC(=O)OCC(COC1OC(CS(O)(=O)=O)C(O)C(O)C1O)OC(=O)CCCCCCC\\C=C/C\\C=C/CCC\n",
      "\n",
      "True SMILES: O=C(OCC(OC(=O)CCCCCCCCCC=CCC=CCCCCCC)COC1OC(CS(=O)(=O)O)C(O)C(O)C1O)CCCCCCCC=CCC=CCCC\n",
      "Pred SMILES: O=C(OCC(OC(=O)CCCCCCCCCC=CCC=CCCCCCC)COC1OC(CS(=O)(=O)O)C(O)C(O)C1O)CCCCCCCC=CCC=CCCC\n",
      "\n",
      "True SMILES: O=C(OCC(OC(=O)CCCCCCCC=CCC=CCCC)COC1OC(CS(=O)(=O)O)C(O)C(O)C1O)CCCCCCCCCC=CCCCCCCCCC\n",
      "Pred SMILES: O=C(OCC(OC(=O)CCCCCCCC=CCC=CCCC)COC1OC(CS(=O)(=O)O)C(O)C(O)C1O)CCCCCCCCCC=CCCCCCCCCC\n",
      "\n",
      "True SMILES: O=C(OCC(OC(=O)CCCCCCCC=CCC=CCCC)COC1OC(CS(=O)(=O)O)C(O)C(O)C1O)CCCCCCCCCCCCCCCCCCCC\n",
      "Pred SMILES: O=C(OCC(OC(=O)CCCCCCCC=CCC=CCCC)COC1OC(CS(=O)(=O)O)C(O)C(O)C1O)CCCCCCCCCCCCCCCCCCCC\n",
      "\n",
      "True SMILES: O=C(OCC(OC(=O)CCCCCCCCCCC=CCC=CCC=CCC=CCC)COC1OC(CS(=O)(=O)O)C(O)C(O)C1O)CCCCCCCC=CCCCCCC\n",
      "Pred SMILES: O=C(OCC(OC(=O)CCCCCCCCCCC=CCC=CCC=CCC=CCC)COC1OC(CS(=O)(=O)O)C(O)C(O)C1O)CCCCCCCC=CCCCCCCC\n",
      "\n",
      "True SMILES: O=C(OCC(OC(=O)CCCCCCCCCCCC=CCC=CCCCCCCC)COC1OC(CS(=O)(=O)O)C(O)C(O)C1O)CCCCCCCC=CCCCCCC\n",
      "Pred SMILES: O=C(OCC(OC(=O)CCCCCCCCCCCC=CCC=CCCCCCCC)COC1OC(CS(=O)(=O)O)C(O)C(O)C1O)CCCCCCCC=CCCCCCC\n",
      "\n",
      "True SMILES: O=C(OCC(OC(=O)CCCCCCCCCCCC=CCCCCCCCCCC)COC1OC(CS(=O)(=O)O)C(O)C(O)C1O)CCCCCCCC=CCCCCCC\n",
      "Pred SMILES: O=C(OCC(OC(=O)CCCCCCCCCCCC=CCCCCCCCCCC)COC1OC(CS(=O)(=O)O)C(O)C(O)C1O)CCCCCCCC=CCCCCCC\n",
      "\n",
      "True SMILES: O=C(OCC(OC(=O)CCCCCCCC=CCCCCCC)COC1OC(CS(=O)(=O)O)C(O)C(O)C1O)CCCCCCCCCCCCCCCCCCCCCCC\n",
      "Pred SMILES: O=C(OCC(OC(=O)CCCCCCCC=CCCCCCC)COC1OC(CS(=O)(=O)O)C(O)C(O)C1O)CCCCCCCCCCCCCCCCCCCCCCC\n",
      "\n",
      "True SMILES: O=C(OCC(OC(=O)CCCCCCCC=CCCCCCC)COC1OC(CS(=O)(=O)O)C(O)C(O)C1O)CCCCCCCCCCCCCCCCCCCCCC\n",
      "Pred SMILES: O=C(OCC(OC(=O)CCCCCCCC=CCCCCCC)COC1OC(CS(=O)(=O)O)C(O)C(O)C1O)CCCCCCCCCCCCCCCCCCCCCC\n",
      "\n",
      "True SMILES: O=C(OCC(OC(=O)CCCCCCCC=CCCCCCC)COC1OC(CS(=O)(=O)O)C(O)C(O)C1O)CCCCCCCCCCCCCCCC\n",
      "Pred SMILES: O=C(OCC(OC(=O)CCCCCCCC=CCCCCCC)COC1OC(CS(=O)(=O)O)C(O)C(O)C1O)CCCCCCCCCCCCCCCC\n",
      "\n",
      "True SMILES: O=C(OCC(OC(=O)CCC=CCC=CCC=CCC=CCC)COC1OC(CS(=O)(=O)O)C(O)C(O)C1O)CCCCCCCC=CCCCCCC\n",
      "Pred SMILES: O=C(OCC(OC(=O)CCC=CCC=CCC=CCC=CCC)COC1OC(CS(=O)(=O)O)C(O)C(O)C1O)CCCCCCCC=CCCCCCC\n",
      "\n",
      "True SMILES: O=C(OCC(OC(=O)CCCCCC=CCC=CCC=CCC)COC1OC(CS(=O)(=O)O)C(O)C(O)C1O)CCCCCCCC=CCCCCCC\n",
      "Pred SMILES: O=C(OCC(OC(=O)CCCCCC=CCC=CCC=CCC)COC1OC(CS(=O)(=O)O)C(O)C(O)C1O)CCCCCCCC=CCCCCCC\n",
      "\n",
      "True SMILES: CCCCCC\\C=C/CCCCCCCC(=O)OCC(COC1OC(CS(O)(=O)=O)C(O)C(O)C1O)OC(=O)CCCCCCC\\C=C/C\\C=C/CCC\n",
      "Pred SMILES: CCCCCC\\C=C/CCCCCCCC(=O)OCC(COC1OC(C((O)(=O)=O)C(O)C(O)C1O)CC(=O)CCCCCCC\\C=C/C\\C=C/CCC\n",
      "\n",
      "True SMILES: O=C(OCC(OC(=O)CCCCCCCC=CCCCCCC)COC1OC(CS(=O)(=O)O)C(O)C(O)C1O)CCCCCCCC=CCCCCCC\n",
      "Pred SMILES: O=C(OCC(OC(=O)CCCCCCCC=CCCCCCC)COC1OC(CS(=O)(=O)O)C(O)C(O)C1O)CCCCCCCC=CCCCCCC\n",
      "\n",
      "True SMILES: O=C(OCC(OC(=O)CCCCCCCC=CCC=CCCCCCC)COC1OC(CS(=O)(=O)O)C(O)C(O)C1O)CCCCCCCCCCCCCCC\n",
      "Pred SMILES: O=C(OCC(OC(=O)CCCCCCCC=CCC=CCCCCCC)COC1OC(CS(=O)(=O)O)C(O)C(O)C1O)CCCCCCCCCCCCCCC\n",
      "\n",
      "True SMILES: O=C(OCC(OC(=O)CCCCCCCC=CCCCCCCCCC)COC1OC(CS(=O)(=O)O)C(O)C(O)C1O)CCCCCCCCCCCCCCC\n",
      "Pred SMILES: O=C(OCC(OC(=O)CCCCCCCC=CCCCCCCCCC)COC1OC(CS(=O)(=O)O)C(O)C(O)C1O)CCCCCCCCCCCCCCC\n",
      "\n",
      "True SMILES: O=C(OCC(OC(=O)CCCCCCCCCCCCCCCCCC)COC1OC(CS(=O)(=O)O)C(O)C(O)C1O)CCCCCCCCCCCCCCC\n",
      "Pred SMILES: O=C(OCC(OC(=O)CCCCCCCCCCCCCCCCCC)COC1OC(CS(=O)(=O)O)C(O)C(O)C1O)CCCCCCCCCCCCCCC\n",
      "\n",
      "True SMILES: O=C(OC(COC(=O)CCCCCCCCCCCCCCC)COC1OC(CS(=O)(=O)O)C(O)C(O)C1O)CC=CCC=CCC=CCC=CCC=CCC\n",
      "Pred SMILES: O=C(OC(COC(=O)CCCCCCCCCCCCCCC)COC1OC(CS(=O)(=O)O)C(O)C(O)C1O)CC=CCC=CCC=CCC=CCC=CCC\n",
      "\n",
      "True SMILES: O=C(OCC(OC(=O)CCCCC=CCC=CCC=CCC=CCC)COC1OC(CS(=O)(=O)O)C(O)C(O)C1O)CCCCCCCCCCCCCCC\n",
      "Pred SMILES: O=C(OCC(OC(=O)CCCCC=CCC=CCC=CCC=CCC)COC1OC(CS(=O)(=O)O)C(O)C(O)C1O)CCCCCCCCCCCCCCC\n",
      "\n",
      "True SMILES: O=C(OCC(OC(=O)CCCCCCCCCCCC=CCC=CCCCCC)COC1OC(CS(=O)(=O)O)C(O)C(O)C1O)CCCCCCCC=CCCCCC\n",
      "Pred SMILES: O=C(OCC(OC(=O)CCCCCCCCCCCC=CCC=CCCCCC)COC1OC(CS(=O)(=O)O)C(O)C(O)C1O)CCCCCCCC=CCCCCC\n",
      "\n",
      "True SMILES: O=C(OCC(OC(=O)CCCCCCCCCCCC=CCCCCCCCC)COC1OC(CS(=O)(=O)O)C(O)C(O)C1O)CCCCCCCC=CCCCCC\n",
      "Pred SMILES: O=C(OCC(OC(=O)CCCCCCCCCCCC=CCCCCCCCC)COC1OC(CS(=O)(=O)O)C(O)C(O)C1O)CCCCCCCC=CCCCCC\n",
      "\n",
      "True SMILES: O=C(OCC(OC(=O)CCCCCCCC=CCCCCC)COC1OC(CS(=O)(=O)O)C(O)C(O)C1O)CCCCCCCCCCCCCCCCCCCCC\n",
      "Pred SMILES: O=C(OCC(OC(=O)CCCCCCCC=CCCCCC)COC1OC(CS(=O)(=O)O)C(O)C(O)C1O)CCCCCCCCCCCCCCCCCCCCC\n",
      "\n",
      "True SMILES: O=C(OCC(OC(=O)CCCCCCCCCC=CCC=CCCCCCC)COC1OC(CS(=O)(=O)O)C(O)C(O)C1O)CCCCCCCC=CCCCCC\n",
      "Pred SMILES: O=C(OCC(OC(=O)CCCCCCCCCC=CCC=CCCCCCC)COC1OC(CS(=O)(=O)O)C(O)C(O)C1O)CCCCCCCC=CCCCCC\n",
      "\n",
      "True SMILES: O=C(OCC(OC(=O)CCCCCCCCCC=CCCCCCCCCC)COC1OC(CS(=O)(=O)O)C(O)C(O)C1O)CCCCCCCC=CCCCCC\n",
      "Pred SMILES: O=C(OCC(OC(=O)CCCCCCCCCC=CCCCCCCCCC)COC1OC(CS(=O)(=O)O)C(O)C(O)C1O)CCCCCCCC=CCCCCC\n",
      "\n",
      "True SMILES: O=C(OCC(OC(=O)CCCCCCCCCCCCCC=CCC=CCCCCCCC)COC1OC(CS(=O)(=O)O)C(O)C(O)C1O)CCCCCCCCCCCCCC\n",
      "Pred SMILES: O=C(OCC(OC(=O)CCCCCCCCCCCCCC=CCC=CCCCCCCC)COC1OC(CS(=O)(=O)O)C(O)C(O)C1O)CCCCCCCCCCCCCCC\n",
      "\n",
      "True SMILES: O=C(OCC(OC(=O)CCCCCCCCCCCCCC=CCCCCCCCCCC)COC1OC(CS(=O)(=O)O)C(O)C(O)C1O)CCCCCCCCCCCCCC\n",
      "Pred SMILES: O=C(OCC(OC(=O)CCCCCCCCCCCCCC=CCCCCCCCCCC)COC1OC(CS(=O)(=O)O)C(O)C(O)C1O)CCCCCCCCCCCCCCC\n",
      "\n",
      "True SMILES: O=C(OCC(OC(=O)CCCCCCCCCCCCCCCCCCCCCCCCC)COC1OC(CS(=O)(=O)O)C(O)C(O)C1O)CCCCCCCCCCCCCC\n",
      "Pred SMILES: O=C(OCC(OC(=O)CCCCCCCCCCCCCCCCCCCCCCCCC)COC1OC(CS(=O)(=O)O)C(O)C(O)C1O)CCCCCCCCCCCCCC\n",
      "\n",
      "True SMILES: O=C(OCC(OC(=O)CCCCCCCCCCCCCCCCCCCCCCCC)COC1OC(CS(=O)(=O)O)C(O)C(O)C1O)CCCCCCCCCCCCCC\n",
      "Pred SMILES: O=C(OCC(OC(=O)CCCCCCCCCCCCCCCCCCCCCCCC)COC1OC(CS(=O)(=O)O)C(O)C(O)C1O)CCCCCCCCCCCCCC\n",
      "\n",
      "True SMILES: O=C(OCC(OC(=O)CCCCCCCCCCC=CCC=CCC=CCC=CCC)COC1OC(CS(=O)(=O)O)C(O)C(O)C1O)CCCCCCCCCCCCCC\n",
      "Pred SMILES: O=C(OCC(OC(=O)CCCCCCCCCCC=CCC=CCC=CCC=CCC)COC1OC(CS(=O)(=O)O)C(O)C(O)C1O)CCCCCCCCCCCCCCC\n",
      "\n",
      "True SMILES: O=C(OCC(OC(=O)CCCCCCCC=CCCCCCCCC)COC1OC(CS(=O)(=O)O)C(O)C(O)C1O)CCCCCCCCCCCCCC\n",
      "Pred SMILES: O=C(OCC(OC(=O)CCCCCCCC=CCCCCCCCC)COC1OC(CS(=O)(=O)O)C(O)C(O)C1O)CCCCCCCCCCCCCC\n",
      "\n",
      "True SMILES: O=C(OCC(OC(=O)CCCCCCCCCCCCCCCCC)COC1OC(CS(=O)(=O)O)C(O)C(O)C1O)CCCCCCCCCCCCCC\n",
      "Pred SMILES: O=C(OCC(OC(=O)CCCCCCCCCCCCCCCCC)COC1OC(CS(=O)(=O)O)C(O)C(O)C1O)CCCCCCCCCCCCCC\n",
      "\n",
      "True SMILES: O=C(OCC(OC(=O)CCCCCCCC=CCC=CCCCC)COC1OC(CS(=O)(=O)O)C(O)C(O)C1O)CCCCCCCCCCCCCC\n",
      "Pred SMILES: O=C(OCC(OC(=O)CCCCCCCC=CCC=CCCCC)COC1OC(CS(=O)(=O)O)C(O)C(O)C1O)CCCCCCCCCCCCCC\n",
      "\n",
      "True SMILES: O=C(OCC(OC(=O)CCCCCCCC=CCCCCCCC)COC1OC(CS(=O)(=O)O)C(O)C(O)C1O)CCCCCCCCCCCCCC\n",
      "Pred SMILES: O=C(OCC(OC(=O)CCCCCCCC=CCCCCCCC)COC1OC(CS(=O)(=O)O)C(O)C(O)C1O)CCCCCCCCCCCCCC\n",
      "\n",
      "True SMILES: O=C(OCC(OC(=O)CCCCCCCCCCCCCCCC)COC1OC(CS(=O)(=O)O)C(O)C(O)C1O)CCCCCCCCCCCCCC\n",
      "Pred SMILES: O=C(OCC(OC(=O)CCCCCCCCCCCCCCCC)COC1OC(CS(=O)(=O)O)C(O)C(O)C1O)CCCCCCCCCCCCCC\n",
      "\n",
      "True SMILES: O=C(OCC(OC(=O)CCCCCCCC=CCCCC)COC1OC(CS(=O)(=O)O)C(O)C(O)C1O)CCCCCCCCCCCCCCCCCCCC\n",
      "Pred SMILES: O=C(OCC(OC(=O)CCCCCCCC=CCCCC)COC1OC(CS(=O)(=O)O)C(O)C(O)C1O)CCCCCCCCCCCCCCCCCCCC\n",
      "\n",
      "True SMILES: O=C(OCC(OC(=O)CCCC=CCC=CCC=CCC=CCC=CCC)COC1OC(CS(=O)(=O)O)C(O)C(O)C1O)CCCCCCCC=CCCCC\n",
      "Pred SMILES: O=C(OCC(OC(=O)CCCC=CCC=CCC=CCC=CCC=CCC)COC1OC(CS(=O)(=O)O)C(O)C(O)C1O)CCCCCCCC=CCCCC\n",
      "\n",
      "True SMILES: O=C(OCC(OC(=O)CCCCCCC=CCC=CCC=CCC=CCC)COC1OC(CS(=O)(=O)O)C(O)C(O)C1O)CCCCCCCC=CCCCC\n",
      "Pred SMILES: O=C(OCC(OC(=O)CCCCCCC=CCC=CCC=CCC=CCC)COC1OC(CS(=O)(=O)O)C(O)C(O)C1O)CCCCCCCC=CCCCC\n",
      "\n",
      "True SMILES: O=C(OCC(OC(=O)CCCCCCCCCC=CCC=CCC=CCC)COC1OC(CS(=O)(=O)O)C(O)C(O)C1O)CCCCCCCC=CCCCC\n",
      "Pred SMILES: O=C(OCC(OC(=O)CCCCCCCCCC=CCC=CCC=CCC)COC1OC(CS(=O)(=O)O)C(O)C(O)C1O)CCCCCCCC=CCCCC\n",
      "\n",
      "True SMILES: O=C(OCC(OC(=O)CCCCCCCCCC=CCC=CCCCCC)COC1OC(CS(=O)(=O)O)C(O)C(O)C1O)CCCCCCCC=CCCCC\n",
      "Pred SMILES: O=C(OCC(OC(=O)CCCCCCCCCC=CCC=CCCCCC)COC1OC(CS(=O)(=O)O)C(O)C(O)C1O)CCCCCCCC=CCCCC\n",
      "\n",
      "True SMILES: O=C(OCC(OC(=O)CCCCCCCCCCCCCCCCCCCCCCCC)COC1OC(CS(=O)(=O)O)C(O)C(O)C1O)CCCCCCCCCCCCC\n",
      "Pred SMILES: O=C(OCC(OC(=O)CCCCCCCCCCCCCCCCCCCCCCCC)COC1OC(CS(=O)(=O)O)C(O)C(O)C1O)CCCCCCCCCCCCC\n",
      "\n",
      "True SMILES: O=C(OCC(OC(=O)CCCCCCCCCCC=CCC=CCC=CCC=CCC)COC1OC(CS(=O)(=O)O)C(O)C(O)C1O)CCCCCCCCCCCCC\n",
      "Pred SMILES: O=C(OCC(OC(=O)CCCCCCCCCCC=CCC=CCC=CCC=CCC)COC1OC(CS(=O)(=O)O)C(O)C(O)C1O)CCCCCCCCCCCCC\n",
      "\n",
      "True SMILES: O=C(OCC(OC(=O)CCCCCCCCCCCC=CCC=CCCCCCCC)COC1OC(CS(=O)(=O)O)C(O)C(O)C1O)CCCCCCCCCCCCC\n",
      "Pred SMILES: O=C(OCC(OC(=O)CCCCCCCCCCCC=CCC=CCCCCCCC)COC1OC(CS(=O)(=O)O)C(O)C(O)C1O)CCCCCCCCCCCCC\n",
      "\n",
      "True SMILES: O=C(OCC(OC(=O)CCCCCCCCCCCC=CCCCCCCCCCC)COC1OC(CS(=O)(=O)O)C(O)C(O)C1O)CCCCCCCCCCCCC\n",
      "Pred SMILES: O=C(OCC(OC(=O)CCCCCCCCCCCC=CCCCCCCCCCC)COC1OC(CS(=O)(=O)O)C(O)C(O)C1O)CCCCCCCCCCCCC\n",
      "\n",
      "True SMILES: O=C(OCC(OC(=O)CCCCCCCCCCCCCCCCCCCCCCC)COC1OC(CS(=O)(=O)O)C(O)C(O)C1O)CCCCCCCCCCCCC\n",
      "Pred SMILES: O=C(OCC(OC(=O)CCCCCCCCCCCCCCCCCCCCCCC)COC1OC(CS(=O)(=O)O)C(O)C(O)C1O)CCCCCCCCCCCCC\n",
      "\n",
      "True SMILES: O=C(OCC(OC(=O)CCCCCCCC=CCCCCCCC)COC1OC(CS(=O)(=O)O)C(O)C(O)C1O)CCCCCCCCCCCCC\n",
      "Pred SMILES: O=C(OCC(OC(=O)CCCCCCCC=CCCCCCCC)COC1OC(CS(=O)(=O)O)C(O)C(O)C1O)CCCCCCCCCCCCC\n",
      "\n",
      "True SMILES: O=C(OCC(OC(=O)CCCCCCCCCCCCCCCC)COC1OC(CS(=O)(=O)O)C(O)C(O)C1O)CCCCCCCCCCCCC\n",
      "Pred SMILES: O=C(OCC(OC(=O)CCCCCCCCCCCCCCCC)COC1OC(CS(=O)(=O)O)C(O)C(O)C1O)CCCCCCCCCCCCC\n",
      "\n",
      "True SMILES: O=C(OCC(OC(=O)CCC=CCC=CCC=CCC=CCC)COC1OC(CS(=O)(=O)O)C(O)C(O)C1O)CCCCCCCCCCCCC\n",
      "Pred SMILES: O=C(OCC(OC(=O)CCC=CCC=CCC=CCC=CCC)COC1OC(CS(=O)(=O)O)C(O)C(O)C1O)CCCCCCCCCCCCC\n",
      "\n",
      "True SMILES: O=C(OCC(OC(=O)CCCCCC=CCC=CCC=CCC)COC1OC(CS(=O)(=O)O)C(O)C(O)C1O)CCCCCCCCCCCCC\n",
      "Pred SMILES: O=C(OCC(OC(=O)CCCCCC=CCC=CCC=CCC)COC1OC(CS(=O)(=O)O)C(O)C(O)C1O)CCCCCCCCCCCCC\n",
      "\n",
      "True SMILES: O=C(OCC(OC(=O)CCCCCCCC=CCC=CCCC)COC1OC(CS(=O)(=O)O)C(O)C(O)C1O)CCCCCCCCCCCCC\n",
      "Pred SMILES: O=C(OCC(OC(=O)CCCCCCCC=CCC=CCCC)COC1OC(CS(=O)(=O)O)C(O)C(O)C1O)CCCCCCCCCCCCC\n",
      "\n",
      "True SMILES: O=C(OCC(OC(=O)CCCC=CCC=CCC=CCC=CCC=CCC)COC1OC(CS(=O)(=O)O)C(O)C(O)C1O)CCCCCCCC=CCCC\n",
      "Pred SMILES: O=C(OCC(OC(=O)CCCC=CCC=CCC=CCC=CCC=CCC)COC1OC(CS(=O)(=O)O)C(O)C(O)C1O)CCCCCCCC=CCCC\n",
      "\n",
      "True SMILES: O=C(OCC(OC(=O)CCCCCCC=CCC=CCC=CCC=CCC)COC1OC(CS(=O)(=O)O)C(O)C(O)C1O)CCCCCCCC=CCCC\n",
      "Pred SMILES: O=C(OCC(OC(=O)CCCCCCC=CCC=CCC=CCC=CCC)COC1OC(CS(=O)(=O)O)C(O)C(O)C1O)CCCCCCCC=CCCC\n",
      "\n",
      "True SMILES: O=C(OCC(OC(=O)CCCCCCCCCC=CCC=CCC=CCC)COC1OC(CS(=O)(=O)O)C(O)C(O)C1O)CCCCCCCC=CCCC\n",
      "Pred SMILES: O=C(OCC(OC(=O)CCCCCCCCCC=CCC=CCC=CCC)COC1OC(CS(=O)(=O)O)C(O)C(O)C1O)CCCCCCCC=CCCC\n",
      "\n",
      "True SMILES: O=C(OCC(OC(=O)CCCCCCCCCC=CCC=CCCCCC)COC1OC(CS(=O)(=O)O)C(O)C(O)C1O)CCCCCCCC=CCCC\n",
      "Pred SMILES: O=C(OCC(OC(=O)CCCCCCCCCC=CCC=CCCCCC)COC1OC(CS(=O)(=O)O)C(O)C(O)C1O)CCCCCCCC=CCCC\n",
      "\n",
      "True SMILES: O=C(OCC(OC(=O)CCCCCCCCCC=CCCCCCCCC)COC1OC(CS(=O)(=O)O)C(O)C(O)C1O)CCCCCCCC=CCCC\n",
      "Pred SMILES: O=C(OCC(OC(=O)CCCCCCCCCC=CCCCCCCCC)COC1OC(CS(=O)(=O)O)C(O)C(O)C1O)CCCCCCCC=CCCC\n",
      "\n",
      "True SMILES: O=C(OCC(OC(=O)CCCCCCCCCCCCCCCCCCCCCCCCC)COC1OC(CS(=O)(=O)O)C(O)C(O)C1O)CCCCCCCCCCCC\n",
      "Pred SMILES: O=C(OCC(OC(=O)CCCCCCCCCCCCCCCCCCCCCCCCC)COC1OC(CS(=O)(=O)O)C(O)C(O)C1O)CCCCCCCCCCCC\n",
      "\n",
      "True SMILES: O=C(OCC(OC(=O)CCCCCCCCCCCCCCCCCCCCCCCC)COC1OC(CS(=O)(=O)O)C(O)C(O)C1O)CCCCCCCCCCCC\n",
      "Pred SMILES: O=C(OCC(OC(=O)CCCCCCCCCCCCCCCCCCCCCCCC)COC1OC(CS(=O)(=O)O)C(O)C(O)C1O)CCCCCCCCCCCC\n",
      "\n",
      "True SMILES: O=C(OCC(OC(=O)CCCCCCCCCCC=CCC=CCC=CCC=CCC)COC1OC(CS(=O)(=O)O)C(O)C(O)C1O)CCCCCCCCCCCC\n",
      "Pred SMILES: O=C(OCC(OC(=O)CCCCCCCCCCC=CCC=CCC=CCC=CCC)COC1OC(CS(=O)(=O)O)C(O)C(O)C1O)CCCCCCCCCCCC\n",
      "\n",
      "True SMILES: O=C(OCC(OC(=O)CCCCCCCCCCCC=CCC=CCCCCCCC)COC1OC(CS(=O)(=O)O)C(O)C(O)C1O)CCCCCCCCCCCC\n",
      "Pred SMILES: O=C(OCC(OC(=O)CCCCCCCCCCCC=CCC=CCCCCCCC)COC1OC(CS(=O)(=O)O)C(O)C(O)C1O)CCCCCCCCCCCC\n",
      "\n",
      "True SMILES: O=C(OCC(OC(=O)CCCCCCCCCCCC=CCCCCCCCCCC)COC1OC(CS(=O)(=O)O)C(O)C(O)C1O)CCCCCCCCCCCC\n",
      "Pred SMILES: O=C(OCC(OC(=O)CCCCCCCCCCCC=CCCCCCCCCCC)COC1OC(CS(=O)(=O)O)C(O)C(O)C1O)CCCCCCCCCCCC\n",
      "\n",
      "True SMILES: O=C(OCC(OC(=O)CCCCCCCC=CCC=CCCCC)COC1OC(CS(=O)(=O)O)C(O)C(O)C1O)CCCCCCCCCCCC\n",
      "Pred SMILES: O=C(OCC(OC(=O)CCCCCCCC=CCC=CCCCC)COC1OC(CS(=O)(=O)O)C(O)C(O)C1O)CCCCCCCCCCCC\n",
      "\n",
      "True SMILES: O=C(OCC(OC(=O)CCCCCCCC=CCCCCCCC)COC1OC(CS(=O)(=O)O)C(O)C(O)C1O)CCCCCCCCCCCC\n",
      "Pred SMILES: O=C(OCC(OC(=O)CCCCCCCC=CCCCCCCC)COC1OC(CS(=O)(=O)O)C(O)C(O)C1O)CCCCCCCCCCCC\n",
      "\n",
      "True SMILES: O=C(OCC(OC(=O)CCCCCCCCCCCCCCCC)COC1OC(CS(=O)(=O)O)C(O)C(O)C1O)CCCCCCCCCCCC\n",
      "Pred SMILES: O=C(OCC(OC(=O)CCCCCCCCCCCCCCCC)COC1OC(CS(=O)(=O)O)C(O)C(O)C1O)CCCCCCCCCCCC\n",
      "\n",
      "True SMILES: O=C(OCC(OC(=O)CCC=CCC=CCC=CCC=CCC)COC1OC(CS(=O)(=O)O)C(O)C(O)C1O)CCCCCCCCCCCC\n",
      "Pred SMILES: O=C(OCC(OC(=O)CCC=CCC=CCC=CCC=CCC)COC1OC(CS(=O)(=O)O)C(O)C(O)C1O)CCCCCCCCCCCC\n",
      "\n",
      "True SMILES: O=C(OCC(OC(=O)CCCCCC=CCC=CCC=CCC)COC1OC(CS(=O)(=O)O)C(O)C(O)C1O)CCCCCCCCCCCC\n",
      "Pred SMILES: O=C(OCC(OC(=O)CCCCCC=CCC=CCC=CCC)COC1OC(CS(=O)(=O)O)C(O)C(O)C1O)CCCCCCCCCCCC\n",
      "\n",
      "True SMILES: O=C(OCC(OC(=O)CCCCCCCCCC=CCC=CCCCCCC)COC1OC(CS(=O)(=O)O)C(O)C(O)C1O)CCCCCCCCCCC\n",
      "Pred SMILES: O=C(OCC(OC(=O)CCCCCCCCCC=CCC=CCCCCCC)COC1OC(CS(=O)(=O)O)C(O)C(O)C1O)CCCCCCCCCCC\n",
      "\n",
      "True SMILES: O=C(OCC(OC(=O)CCCCCCCCCC=CCCCCCCCCC)COC1OC(CS(=O)(=O)O)C(O)C(O)C1O)CCCCCCCCCCC\n",
      "Pred SMILES: O=C(OCC(OC(=O)CCCCCCCCCC=CCCCCCCCCC)COC1OC(CS(=O)(=O)O)C(O)C(O)C1O)CCCCCCCCCCC\n",
      "\n",
      "True SMILES: O=C(OCC(OC(=O)CCCCCCCCCCCCCCCCCCCC)COC1OC(CS(=O)(=O)O)C(O)C(O)C1O)CCCCCCCCCCC\n",
      "Pred SMILES: O=C(OCC(OC(=O)CCCCCCCCCCCCCCCCCCCC)COC1OC(CS(=O)(=O)O)C(O)C(O)C1O)CCCCCCCCCCC\n",
      "\n",
      "True SMILES: O=C(OCC(OC(=O)CCCC=CCC=CCC=CCC=CCC=CCC)COC1OC(CS(=O)(=O)O)C(O)C(O)C1O)CCCCCCCCCCC\n",
      "Pred SMILES: O=C(OCC(OC(=O)CCCC=CCC=CCC=CCC=CCC=CCC)COC1OC(CS(=O)(=O)O)C(O)C(O)C1O)CCCCCCCCCCCC\n",
      "\n",
      "True SMILES: O=C(OCC(OC(=O)CCCCCCC=CCC=CCC=CCC=CCC)COC1OC(CS(=O)(=O)O)C(O)C(O)C1O)CCCCCCCCCCC\n",
      "Pred SMILES: O=C(OCC(OC(=O)CCCCCCC=CCC=CCC=CCC=CCC)COC1OC(CS(=O)(=O)O)C(O)C(O)C1O)CCCCCCCCCCC\n",
      "\n",
      "True SMILES: O=C(OCC(OC(=O)CCCCCCCCCCC)COC1OC(CS(=O)(=O)O)C(O)C(O)C1O)CCCCCCCCCCC\n",
      "Pred SMILES: O=C(OCC(OC(=O)CCCCCCCCCCC)COC1OC(CS(=O)(=O)O)CSO)C(O)C1O)CCCCCCCCCCC\n",
      "\n",
      "True SMILES: O=C(NC(COP(=O)([O-])OCC[N+](C)(C)C)C(O)C=CCCC=CCCC=CCCCCCCCCCCCCCCCCC)CCCCCCCCCCCCCCCCCCCC=CCC=CCCCCCCCCCCCCCCCCC\n",
      "Pred SMILES: O=C(NC(COP(=O)([O-])OCC[N+](C)(C)C)C(O)C=CCCC=CCCC=CCCCCCCCCCCCCCCCCC)CCCCCCCCCCCCCCCCCCCC=CCC=CCCCCCCCCCCCCCC\n",
      "\n",
      "True SMILES: O=C(NC(COP(=O)([O-])OCC[N+](C)(C)C)C(O)C=CCCC=CCCC=CCCCCCCCCCCCCCCCCC)CCCCCCCCCCCCCCCCCCCC=CCCCCCCCCCCCCCCCCCCCC\n",
      "Pred SMILES: O=C(NC(COP(=O)([O-])OCC[N+](C)(C)C)C(O)C=CCCC=CCCC=CCCCCCCCCCCCCCCCCC)CCCCCCCCCCCCCCCCCCCC=CCCCCCCCCCCCCCCCCCCC\n",
      "\n",
      "True SMILES: O=C(NC(COP(=O)([O-])OCC[N+](C)(C)C)C(O)C=CCCC=CCCC=CCCCCCCCCCCCCCCCCC)CCCCCCCCCCCCCCCCCCCCCCCCCCCCCCCCCCCCCCCCC\n",
      "Pred SMILES: O=C(NC(COP(=O)([O-])OCC[N+](C)(C)C)C(O)C=CCCC=CCCC=CCCCCCCCCCCCCCCCCC)CCCCCCCCCCCCCCCCCCCCCCCCCCCCCCCCCCCCCCCC\n",
      "\n",
      "True SMILES: O=C(NC(COP(=O)([O-])OCC[N+](C)(C)C)C(O)C=CCCC=CCCC=CCCCCCCCCCCCCCCCCC)CCCCCCCCCCCCCCCCCCCC=CCC=CCCCCCCCCCCCCCCC\n",
      "Pred SMILES: O=C(NC(COP(=O)([O-])OCC[N+](C)(C)C)C(O)C=CCCC=CCCC=CCCCCCCCCCCCCCCCCC)CCCCCCCCCCCCCCCCCCCC=CCC=CCCCCCCCCCCCCCC\n",
      "\n",
      "True SMILES: O=C(NC(COP(=O)([O-])OCC[N+](C)(C)C)C(O)C=CCCC=CCCC=CCCCCCCCCCCCCCCCCC)CCCCCCCCCCCCCCCCCCCCCCCCCCC\n",
      "Pred SMILES: O=C(NC(COP(=O)([O-])OCC[N+](C)(C)C)C(O)C=CCCC=CCCC=CCCCCCCCCCCCCCCCCC)CCCCCCCCCCCCCCCCCCCCCCCCCCCC\n",
      "\n",
      "True SMILES: O=C(NC(COP(=O)([O-])OCC[N+](C)(C)C)C(O)C=CCCC=CCCC=CCCCCCCCCCCCCCCCCC)CCCCCCCCCCC=CCCCCCCCCCCCCCC\n",
      "Pred SMILES: O=C(NC(COP(=O)([O-])OCC[N+](C)(C)C)C(O)C=CCCC=CCCC=CCCCCCCCCCCCCCCCCC)CCCCCCCCCCC=CCCCCCCCCCCCCCCC\n",
      "\n",
      "True SMILES: O=C(NC(COP(=O)([O-])OCC[N+](C)(C)C)C(O)C=CCCC=CCCC=CCCCCCCCCCCCCCCCCC)CCCCCCCCCCCCCCCCCCCCCCCCCC\n",
      "Pred SMILES: O=C(NC(COP(=O)([O-])OCC[N+](C)(C)C)C(O)C=CCCC=CCCC=CCCCCCCCCCCCCCCCCC)CCCCCCCCCCCCCCCCCCCCCCCCCCC\n",
      "\n",
      "True SMILES: O=C(NC(COP(=O)([O-])OCC[N+](C)(C)C)C(O)C=CCCC=CCCC=CCCCCCCCCCCCCCCCCC)CCCCCCCCCC=CCC=CCCCCCCCCCCC\n",
      "Pred SMILES: O=C(NC(COP(=O)([O-])OCC[N+](C)(C)C)C(O)C=CCCC=CCCC=CCCCCCCCCCCCCCCCCC)CCCCCCCCCC=CCC=CCCCCCCCCCCCC\n",
      "\n",
      "True SMILES: O=C(NC(COP(=O)([O-])OCC[N+](C)(C)C)C(O)C=CCCC=CCCC=CCCCCCCCCCCCCCCCCC)CCCCCCCCCC=CCCCCCCCCCCCCCC\n",
      "Pred SMILES: O=C(NC(COP(=O)([O-])OCC[N+](C)(C)C)C(O)C=CCCC=CCCC=CCCCCCCCCCCCCCCCCC)CCCCCCCCCC=CCCCCCCCCCCCCCCC\n",
      "\n",
      "True SMILES: O=C(NC(COP(=O)([O-])OCC[N+](C)(C)C)C(O)C=CCCC=CCCC=CCCCCCCCCCCCCCCCCC)CCCCCCCC=CCCCC\n",
      "Pred SMILES: O=C(NC(COP(=O)([O-])OCC[N+](C)(C)C)C(O)C=CCCC=CCCC=CCCCCCCCCCCCCCCCCC)CCCCCCCC=CCCCC\n",
      "\n",
      "True SMILES: O=C(NC(COP(=O)([O-])OCC[N+](C)(C)C)C(O)C=CCCC=CCCC=CCCCCCCCCCCCCCCCCC)CCCCCCCCCCCCC\n",
      "Pred SMILES: O=C(NC(COP(=O)([O-])OCC[N+](C)(C)C)C(O)C=CCCC=CCCC=CCCCCCCCCCCCCCCCCC)CCCCCCCCCCCCC\n",
      "\n",
      "True SMILES: O=C(NC(COP(=O)([O-])OCC[N+](C)(C)C)C(O)C=CCCC=CCCC=CCCCCCCCCCCCCCCCCC)CCCCCCC=CCCCC\n",
      "Pred SMILES: O=C(NC(COP(=O)([O-])OCC[N+](C)(C)C)C(O)C=CCCC=CCCC=CCCCCCCCCCCCCCCCCC)CCCCCCC=CCCCC\n",
      "\n",
      "True SMILES: O=C(NC(COP(=O)([O-])OCC[N+](C)(C)C)C(O)C=CCCC=CCCC=CCCCCCCCCCCCCCCCCC)CCCCCCCCCCCC\n",
      "Pred SMILES: O=C(NC(COP(=O)([O-])OCC[N+](C)(C)C)C(O)C=CCCC=CCCC=CCCCCCCCCCCCCCCCCC)CCCCCCCCCCCC\n",
      "\n",
      "True SMILES: O=C(NC(COP(=O)([O-])OCC[N+](C)(C)C)C(O)C=CCCC=CCCC=CCCCCCCCCCCCCCCCCC)CCCC=CCCCCCC\n",
      "Pred SMILES: O=C(NC(COP(=O)([O-])OCC[N+](C)(C)C)C(O)C=CCCC=CCCC=CCCCCCCCCCCCCCCCCC)CCCC=CCCCCCC\n",
      "\n",
      "True SMILES: O=C(NC(COP(=O)([O-])OCC[N+](C)(C)C)C(O)C=CCCC=CCCCCCCCCCCCCCCCCCCCCC)CCCCCCCCCCCCCCCCCCCCCCCCCCCCC\n",
      "Pred SMILES: O=C(NC(COP(=O)([O-])OCC[N+](C)(C)C)C(O)C=CCCC=CCCCCCCCCCCCCCCCCCCCCC)CCCCCCCCCCCCCCCCCCCCCCCCCCCCCC\n",
      "\n",
      "True SMILES: O=C(NC(COP(=O)([O-])OCC[N+](C)(C)C)C(O)C=CCCC=CCCCCCCCCCCCCCCCCCCCCC)CCCCCCCCCCCCC=CCCCCCCCCCCCCCC\n",
      "Pred SMILES: O=C(NC(COP(=O)([O-])OCC[N+](C)(C)C)C(O)C=CCCC=CCCCCCCCCCCCCCCCCCCCCC)CCCCCCCCCCCCC=CCCCCCCCCCCCCCCC\n",
      "\n",
      "True SMILES: O=C(NC(COP(=O)([O-])OCC[N+](C)(C)C)C(O)C=CCCC=CCCCCCCCCCCCCCCCCCCCCC)CCCCCCCCCCCCCCCCCCCCCCCCCCCC\n",
      "Pred SMILES: O=C(NC(COP(=O)([O-])OCC[N+](C)(C)C)C(O)C=CCCC=CCCCCCCCCCCCCCCCCCCCCC)CCCCCCCCCCCCCCCCCCCCCCCCCCCC\n",
      "\n",
      "True SMILES: O=C(NC(COP(=O)([O-])OCC[N+](C)(C)C)C(O)C=CCCC=CCCCCCCCCCCCCCCCCCCCCC)CCCCCCCCCCCC=CCC=CCCCCCCCCCCC\n",
      "Pred SMILES: O=C(NC(COP(=O)([O-])OCC[N+](C)(C)C)C(O)C=CCCC=CCCCCCCCCCCCCCCCCCCCCC)CCCCCCCCCCCC=CCC=CCCCCCCCCCCCC\n",
      "\n",
      "True SMILES: O=C(NC(COP(=O)([O-])OCC[N+](C)(C)C)C(O)C=CCCC=CCCCCCCCCCCCCCCCCCCCCC)CCCCCCCCCCCC=CCCCCCCCCCCCCCC\n",
      "Pred SMILES: O=C(NC(COP(=O)([O-])OCC[N+](C)(C)C)C(O)C=CCCC=CCCCCCCCCCCCCCCCCCCCCC)CCCCCCCCCCCC=CCCCCCCCCCCCCCC\n",
      "\n",
      "True SMILES: O=C(NC(COP(=O)([O-])OCC[N+](C)(C)C)C(O)C=CCCC=CCCCCCCCCCCCCCCCCCCCCC)CCC=CCC=CCCCCCCCC\n",
      "Pred SMILES: O=C(NC(COP(=O)([O-])OCC[N+](C)(C)C)C(O)C=CCCC=CCCCCCCCCCCCCCCCCCCCCC)CCC=CCC=CCCCCCCCC\n",
      "\n",
      "True SMILES: O=C(NC(COP(=O)([O-])OCC[N+](C)(C)C)C(O)C=CCCC=CCCCCCCCCCCCCCCCCCCCCC)CCCCCC=CCCCCCCCC\n",
      "Pred SMILES: O=C(NC(COP(=O)([O-])OCC[N+](C)(C)C)C(O)C=CCCC=CCCCCCCCCCCCCCCCCCCCCC)CCCCCC=CCCCCCCCC\n",
      "\n",
      "True SMILES: O=C(NC(COP(=O)([O-])OCC[N+](C)(C)C)C(O)C=CCCC=CCCCCCCCCCCCCCCCCCCCCC)CCCCCCCCCCCCCCC\n",
      "Pred SMILES: O=C(NC(COP(=O)([O-])OCC[N+](C)(C)C)C(O)C=CCCC=CCCCCCCCCCCCCCCCCCCCCC)CCCCCCCCCCCCCCC\n",
      "\n",
      "True SMILES: O=C(NC(COP(=O)([O-])OCC[N+](C)(C)C)C(O)C=CCCC=CCCCCCCCCCCCCCCCCCCCCC)CCCCCCCC=CCCCCC\n",
      "Pred SMILES: O=C(NC(COP(=O)([O-])OCC[N+](C)(C)C)C(O)C=CCCC=CCCCCCCCCCCCCCCCCCCCCC)CCCCCCCC=CCCCCC\n",
      "\n",
      "True SMILES: O=C(NC(COP(=O)([O-])OCC[N+](C)(C)C)C(O)C=CCCC=CCCCCCCCCCCCCCCCCCCCCC)CCCCCCCCCCCCCC\n",
      "Pred SMILES: O=C(NC(COP(=O)([O-])OCC[N+](C)(C)C)C(O)C=CCCC=CCCCCCCCCCCCCCCCCCCCCC)CCCCCCCCCCCCCCC\n",
      "\n",
      "True SMILES: O=C(NC(COP(=O)([O-])OCC[N+](C)(C)C)C(O)C=CCCCCCCCCCCCCCCCCCCCCCCCCC)CCCCCCCCCCCCCCCCCCCCCCCCCCCCCCC\n",
      "Pred SMILES: O=C(NC(COP(=O)([O-])OCC[N+](C)(C)C)C(O)C=CCCCCCCCCCCCCCCCCCCCCCCCCC)CCCCCCCCCCCCCCCCCCCCCCCCCCCCCCCC\n",
      "\n",
      "True SMILES: O=C(NC(COP(=O)([O-])OCC[N+](C)(C)C)C(O)C=CCCCCCCCCCCCCCCCCCCCCCCCCC)CCCCCCCCCCCCCCC=CCCCCCCCCCCCCCC\n",
      "Pred SMILES: O=C(NC(COP(=O)([O-])OCC[N+](C)(C)C)C(O)C=CCCCCCCCCCCCCCCCCCCCCCCCCC)CCCCCCCCCCCCCCC=CCCCCCCCCCCCCCCC\n",
      "\n",
      "True SMILES: O=C(NC(COP(=O)([O-])OCC[N+](C)(C)C)C(O)C=CCCCCCCCCCCCCCCCCCCCCCCCCC)CCCCCCCCCCCCCCCCCCCCCCCCCCCCCC\n",
      "Pred SMILES: O=C(NC(COP(=O)([O-])OCC[N+](C)(C)C)C(O)C=CCCCCCCCCCCCCCCCCCCCCCCCCC)CCCCCCCCCCCCCCCCCCCCCCCCCCCCCC\n",
      "\n",
      "True SMILES: O=C(NC(COP(=O)([O-])OCC[N+](C)(C)C)C(O)C=CCCCCCCCCCCCCCCCCCCCCCCCCC)CCCCCCCCCCCCCC=CCC=CCCCCCCCCCCC\n",
      "Pred SMILES: O=C(NC(COP(=O)([O-])OCC[N+](C)(C)C)C(O)C=CCCCCCCCCCCCCCCCCCCCCCCCCC)CCCCCCCCCCCCCC=CCC=CCCCCCCCCCCCC\n",
      "\n",
      "True SMILES: O=C(NC(COP(=O)([O-])OCC[N+](C)(C)C)C(O)C=CCCCCCCCCCCCCCCCCCCCCCCCCC)CCCCCCCCCCCCCC=CCCCCCCCCCCCCCC\n",
      "Pred SMILES: O=C(NC(COP(=O)([O-])OCC[N+](C)(C)C)C(O)C=CCCCCCCCCCCCCCCCCCCCCCCCCC)CCCCCCCCCCCCCC=CCCCCCCCCCCCCCC\n",
      "\n",
      "True SMILES: O=C(NC(COP(=O)([O-])OCC[N+](C)(C)C)C(O)C=CCCCCCCCCCCCCCCCCCCCCCCCCC)CCCCCCCCCCCCCCCCCC\n",
      "Pred SMILES: O=C(NC(COP(=O)([O-])OCC[N+](C)(C)C)C(O)C=CCCCCCCCCCCCCCCCCCCCCCCCCC)CCCCCCCCCCCCCCCCCC\n",
      "\n",
      "True SMILES: O=C(NC(COP(=O)([O-])OCC[N+](C)(C)C)C(O)C=CCCCCCCCCCCCCCCCCCCCCCCCCC)CCCCCCCCC=CC=CCCCCC\n",
      "Pred SMILES: O=C(NC(COP(=O)([O-])OCC[N+](C)(C)C)C(O)C=CCCCCCCCCCCCCCCCCCCCCCCCCC)CCCCCCCCC=CC=CCCCCC\n",
      "\n",
      "True SMILES: O=C(NC(COP(=O)([O-])OCC[N+](C)(C)C)C(O)C=CCCCCCCCCCCCCCCCCCCCCCCCCC)CCCCCCCCCC=CCCCCCC\n",
      "Pred SMILES: O=C(NC(COP(=O)([O-])OCC[N+](C)(C)C)C(O)C=CCCCCCCCCCCCCCCCCCCCCCCCCC)CCCCCCCCCC=CCCCCCC\n",
      "\n",
      "True SMILES: O=C(NC(COP(=O)([O-])OCC[N+](C)(C)C)C(O)C=CCCCCCCCCCCCCCCCCCCCCCCCCC)CCCCCCCCCCCCCCCCC\n",
      "Pred SMILES: O=C(NC(COP(=O)([O-])OCC[N+](C)(C)C)C(O)C=CCCCCCCCCCCCCCCCCCCCCCCCCC)CCCCCCCCCCCCCCCCC\n",
      "\n",
      "True SMILES: O=C(NC(COP(=O)([O-])OCC[N+](C)(C)C)C(O)C=CCCCCCCCCCCCCCCCCCCCCCCCCC)CCCCCCCCCCCCCCCC\n",
      "Pred SMILES: O=C(NC(COP(=O)([O-])OCC[N+](C)(C)C)C(O)C=CCCCCCCCCCCCCCCCCCCCCCCCCC)CCCCCCCCCCCCCCCC\n",
      "\n",
      "True SMILES: O=C(NC(COP(=O)([O-])OCC[N+](C)(C)C)C(O)CCCCCCCCCCCCCCCCCCCCCCCCCCC)CCCCCCCCCCCCCCCCCCCCCCCCCCCCCCCCC\n",
      "Pred SMILES: O=C(NC(COP(=O)([O-])OCC[N+](C)(C)C)C(O)CCCCCCCCCCCCCCCCCCCCCCCCCCC)CCCCCCCCCCCCCCCCCCCCCCCCCCCCCCCCCC\n",
      "\n",
      "True SMILES: O=C(NC(COP(=O)([O-])OCC[N+](C)(C)C)C(O)CCCCCCCCCCCCCCCCCCCCCCCCCCC)CCCCCCCCCCCCCCCCC=CCCCCCCCCCCCCCC\n",
      "Pred SMILES: O=C(NC(COP(=O)([O-])OCC[N+](C)(C)C)C(O)CCCCCCCCCCCCCCCCCCCCCCCCCCC)CCCCCCCCCCCCCCCCC=CCCCCCCCCCCCCCCC\n",
      "\n",
      "True SMILES: O=C(NC(COP(=O)([O-])OCC[N+](C)(C)C)C(O)CCCCCCCCCCCCCCCCCCCCCCCCCCC)CCCCCCCCCCCCCCCCCCCCCCCCCCCCCCCC\n",
      "Pred SMILES: O=C(NC(COP(=O)([O-])OCC[N+](C)(C)C)C(O)CCCCCCCCCCCCCCCCCCCCCCCCCCC)CCCCCCCCCCCCCCCCCCCCCCCCCCCCCCCC\n",
      "\n",
      "True SMILES: O=C(NC(COP(=O)([O-])OCC[N+](C)(C)C)C(O)CCCCCCCCCCCCCCCCCCCCCCCCCCC)CCCCCCCCCCCCCCCC=CCC=CCCCCCCCCCCC\n",
      "Pred SMILES: O=C(NC(COP(=O)([O-])OCC[N+](C)(C)C)C(O)CCCCCCCCCCCCCCCCCCCCCCCCCCC)CCCCCCCCCCCCCCCC=CCC=CCCCCCCCCCCCC\n",
      "\n",
      "True SMILES: O=C(NC(COP(=O)([O-])OCC[N+](C)(C)C)C(O)CCCCCCCCCCCCCCCCCCCCCCCCCCC)CCCCCCCCCCCCCCCC=CCCCCCCCCCCCCCC\n",
      "Pred SMILES: O=C(NC(COP(=O)([O-])OCC[N+](C)(C)C)C(O)CCCCCCCCCCCCCCCCCCCCCCCCCCC)CCCCCCCCCCCCCCCC=CCCCCCCCCCCCCCC\n",
      "\n",
      "True SMILES: O=C(NC(COP(=O)([O-])OCC[N+](C)(C)C)C(O)CCCCCCCCCCCCCCCCCCCCCCCCCCC)CCCCCCCCCCCCCCCCCCCC\n",
      "Pred SMILES: O=C(NC(COP(=O)([O-])OCC[N+](C)(C)C)C(O)CCCCCCCCCCCCCCCCCCCCCCCCCCC)CCCCCCCCCCCCCCCCCCCC\n",
      "\n",
      "True SMILES: O=C(NC(COP(=O)([O-])OCC[N+](C)(C)C)C(O)CCCCCCCCCCCCCCCCCCCCCCCCCCC)CCCCCCCCCC=CCC=CCCCCC\n",
      "Pred SMILES: O=C(NC(COP(=O)([O-])OCC[N+](C)(C)C)C(O)CCCCCCCCCCCCCCCCCCCCCCCCCCC)CCCCCCCCCC=CCC=CCCCCCC\n",
      "\n",
      "True SMILES: O=C(NC(COP(=O)([O-])OCC[N+](C)(C)C)C(O)CCCCCCCCCCCCCCCCCCCCCCCCCCC)CCCCCCCCCC=CCCCCCCCC\n",
      "Pred SMILES: O=C(NC(COP(=O)([O-])OCC[N+](C)(C)C)C(O)CCCCCCCCCCCCCCCCCCCCCCCCCCC)CCCCCCCCCC=CCCCCCCCC\n",
      "\n",
      "True SMILES: O=C(NC(COP(=O)([O-])OCC[N+](C)(C)C)C(O)CCCCCCCCCCCCCCCCCCCCCCCCCCC)CCCCCCCCCCCCCCCCCCC\n",
      "Pred SMILES: O=C(NC(COP(=O)([O-])OCC[N+](C)(C)C)C(O)CCCCCCCCCCCCCCCCCCCCCCCCCCC)CCCCCCCCCCCCCCCCCCC\n",
      "\n",
      "True SMILES: O=C(NC(COP(=O)([O-])OCC[N+](C)(C)C)C(O)CCCCCCCCCCCCCCCCCCCCCCCCCCC)CCCCCCCC=CCCCCCCCCC\n",
      "Pred SMILES: O=C(NC(COP(=O)([O-])OCC[N+](C)(C)C)C(O)CCCCCCCCCCCCCCCCCCCCCCCCCCC)CCCCCCCC=CCCCCCCCCC\n",
      "\n",
      "True SMILES: O=C(NC(COP(=O)([O-])OCC[N+](C)(C)C)C(O)C=CCCC=CCCC=CCCCCCCCCCCCCCCCC)CCCCCCCCCCCCCCCCCCCCCCCCCCCCCCCCCCC\n",
      "Pred SMILES: O=C(NC(COP(=O)([O-])OCC[N+](C)(C)C)C(O)C=CCCC=CCCC=CCCCCCCCCCCCCCCCC)CCCCCCCCCCCCCCCCCCCCCCCCCCCCCCCCCCCCC\n",
      "\n",
      "True SMILES: O=C(NC(COP(=O)([O-])OCC[N+](C)(C)C)C(O)C=CCCC=CCCC=CCCCCCCCCCCCCCCCC)CCCCCCCCCCCCCCCCCCC=CCCCCCCCCCCCCCC\n",
      "Pred SMILES: O=C(NC(COP(=O)([O-])OCC[N+](C)(C)C)C(O)C=CCCC=CCCC=CCCCCCCCCCCCCCCCC)CCCCCCCCCCCCCCCCCCC=CCCCCCCCCCCCCCCCC\n",
      "\n",
      "True SMILES: O=C(NC(COP(=O)([O-])OCC[N+](C)(C)C)C(O)C=CCCC=CCCC=CCCCCCCCCCCCCCCCC)CCCCCCCCCCCCCCCCCCCCCCCCCCCCCCCCCC\n",
      "Pred SMILES: O=C(NC(COP(=O)([O-])OCC[N+](C)(C)C)C(O)C=CCCC=CCCC=CCCCCCCCCCCCCCCCC)CCCCCCCCCCCCCCCCCCCCCCCCCCCCCCCCCCC\n",
      "\n",
      "True SMILES: CCCCCCCCCCCCCCCC\\C=C\\CC\\C=C\\CC\\C=C\\C(O)C(COP([O-])(=O)OCC[N+](C)(C)C)NC(=O)CCCCCCCCCCCCCCCCC\\C=C/C\\C=C/CCCCCCCCCCC\n",
      "Pred SMILES: CCCCCCCCCCCCCCCC\\C=C\\CC\\C=C\\CC\\C=C\\C(O)C(COP([O-])(=O)OCC[N+](C)(C)C)NC(=O)CCCCCCCCCCCCCCCCC\\C=C\\C\\C=C/CCCCCCCCCCCC\n",
      "\n",
      "True SMILES: O=C(NC(COP(=O)([O-])OCC[N+](C)(C)C)C(O)C=CCCC=CCCC=CCCCCCCCCCCCCCCCC)CCCCCCCCCCCCCCCCCC=CCCCCCCCCCCCCCC\n",
      "Pred SMILES: O=C(NC(COP(=O)([O-])OCC[N+](C)(C)C)C(O)C=CCCC=CCCC=CCCCCCCCCCCCCCCCC)CCCCCCCCCCCCCCCCCC=CCCCCCCCCCCCCCCC\n",
      "\n",
      "True SMILES: O=C(NC(COP(=O)([O-])OCC[N+](C)(C)C)C(O)C=CCCC=CCCC=CCCCCCCCCCCCCCCCC)CCCCCCCCCCCCCCCCCCCCCC\n",
      "Pred SMILES: O=C(NC(COP(=O)([O-])OCC[N+](C)(C)C)C(O)C=CCCC=CCCC=CCCCCCCCCCCCCCCCC)CCCCCCCCCCCCCCCCCCCCCC\n",
      "\n",
      "True SMILES: O=C(NC(COP(=O)([O-])OCC[N+](C)(C)C)C(O)C=CCCC=CCCC=CCCCCCCCCCCCCCCCC)CCCCCCCCCCCCC=CC=CCCCCC\n",
      "Pred SMILES: O=C(NC(COP(=O)([O-])OCC[N+](C)(C)C)C(O)C=CCCC=CCCC=CCCCCCCCCCCCCCCCC)CCCCCCCCCCCCC=CC=CCCCCC\n",
      "\n",
      "True SMILES: O=C(NC(COP(=O)([O-])OCC[N+](C)(C)C)C(O)C=CCCC=CCCC=CCCCCCCCCCCCCCCCC)CCCCCCCCCC=CCCCCCCCCCC\n",
      "Pred SMILES: O=C(NC(COP(=O)([O-])OCC[N+](C)(C)C)C(O)C=CCCC=CCCC=CCCCCCCCCCCCCCCCC)CCCCCCCCCC=CCCCCCCCCCC\n",
      "\n",
      "True SMILES: O=C(NC(COP(=O)([O-])OCC[N+](C)(C)C)C(O)C=CCCC=CCCC=CCCCCCCCCCCCCCCCC)CCCCCCCCCCCCCCCCCCCCC\n",
      "Pred SMILES: O=C(NC(COP(=O)([O-])OCC[N+](C)(C)C)C(O)C=CCCC=CCCC=CCCCCCCCCCCCCCCCC)CCCCCCCCCCCCCCCCCCCCCC\n",
      "\n",
      "True SMILES: O=C(NC(COP(=O)([O-])OCC[N+](C)(C)C)C(O)C=CCCC=CCCC=CCCCCCCCCCCCCCCCC)CCCCCCCC=CCCCCCCCCCCC\n",
      "Pred SMILES: O=C(NC(COP(=O)([O-])OCC[N+](C)(C)C)C(O)C=CCCC=CCCC=CCCCCCCCCCCCCCCCC)CCCCCCCC=CCCCCCCCCCCCC\n",
      "\n",
      "True SMILES: O=C(NC(COP(=O)([O-])OCC[N+](C)(C)C)C(O)C=CCCC=CCCCCCCCCCCCCCCCCCCCC)CCCCCCCCCCCCCCCCCCCC=CCC=CCCCCCCCCCCCCC\n",
      "Pred SMILES: O=C(NC(COP(=O)([O-])OCC[N+](C)(C)C)C(O)C=CCCC=CCCCCCCCCCCCCCCCCCCCC)CCCCCCCCCCCCCCCCCCCC=CCC=CCCCCCCCCCCCCC\n",
      "\n",
      "True SMILES: O=C(NC(COP(=O)([O-])OCC[N+](C)(C)C)C(O)C=CCCC=CCCCCCCCCCCCCCCCCCCCC)CCCCCCCCCCCCCCCCCCCC=CCCCCCCCCCCCCCCCC\n",
      "Pred SMILES: O=C(NC(COP(=O)([O-])OCC[N+](C)(C)C)C(O)C=CCCC=CCCCCCCCCCCCCCCCCCCCC)CCCCCCCCCCCCCCCCCCCC=CCCCCCCCCCCCCCCCC\n",
      "\n",
      "True SMILES: O=C(NC(COP(=O)([O-])OCC[N+](C)(C)C)C(O)C=CCCC=CCCCCCCCCCCCCCCCCCCCC)CCCCCCCCCCCCCCCCCCCCCCCCCCCCCCCCCCCCC\n",
      "Pred SMILES: O=C(NC(COP(=O)([O-])OCC[N+](C)(C)C)C(O)C=CCCC=CCCCCCCCCCCCCCCCCCCCC)CCCCCCCCCCCCCCCCCCCCCCCCCCCCCCCCCCCCC\n",
      "\n",
      "True SMILES: O=C(NC(COP(=O)([O-])OCC[N+](C)(C)C)C(O)C=CCCC=CCCCCCCCCCCCCCCCCCCCC)CCCCCCCCCCCCCCCCCCCC=CCC=CCCCCCCCCCCC\n",
      "Pred SMILES: O=C(NC(COP(=O)([O-])OCC[N+](C)(C)C)C(O)C=CCCC=CCCCCCCCCCCCCCCCCCCCC)CCCCCCCCCCCCCCCCCCCC=CCC=CCCCCCCCCCCC\n",
      "\n",
      "True SMILES: O=C(NC(COP(=O)([O-])OCC[N+](C)(C)C)C(O)C=CCCC=CCCCCCCCCCCCCCCCCCCCC)CCCCCCCCCCCCCCCCCCCC=CCCCCCCCCCCCCCC\n",
      "Pred SMILES: O=C(NC(COP(=O)([O-])OCC[N+](C)(C)C)C(O)C=CCCC=CCCCCCCCCCCCCCCCCCCCC)CCCCCCCCCCCCCCCCCCCC=CCCCCCCCCCCCCCC\n",
      "\n",
      "True SMILES: O=C(NC(COP(=O)([O-])OCC[N+](C)(C)C)C(O)C=CCCC=CCCCCCCCCCCCCCCCCCCCC)CCCCCCCCCCCCCCCCCCCCCCCC\n",
      "Pred SMILES: O=C(NC(COP(=O)([O-])OCC[N+](C)(C)C)C(O)C=CCCC=CCCCCCCCCCCCCCCCCCCCC)CCCCCCCCCCCCCCCCCCCCCCCC\n",
      "\n",
      "True SMILES: O=C(NC(COP(=O)([O-])OCC[N+](C)(C)C)C(O)C=CCCC=CCCCCCCCCCCCCCCCCCCCC)CCCCCCCCCCCCCCCCC=CCC=CCC\n",
      "Pred SMILES: O=C(NC(COP(=O)([O-])OCC[N+](C)(C)C)C(O)C=CCCC=CCCCCCCCCCCCCCCCCCCCC)CCCCCCCCCCCCCCCCC=CCC=CCC\n",
      "\n",
      "True SMILES: O=C(NC(COP(=O)([O-])OCC[N+](C)(C)C)C(O)C=CCCC=CCCCCCCCCCCCCCCCCCCCC)CCCCCCCCCC=CCCCCCCCCCCCC\n",
      "Pred SMILES: O=C(NC(COP(=O)([O-])OCC[N+](C)(C)C)C(O)C=CCCC=CCCCCCCCCCCCCCCCCCCCC)CCCCCCCCCC=CCCCCCCCCCCCC\n",
      "\n",
      "True SMILES: O=C(NC(COP(=O)([O-])OCC[N+](C)(C)C)C(O)C=CCCC=CCCCCCCCCCCCCCCCCCCCC)CCCCCCCCCCCCCCCCCCCCCCC\n",
      "Pred SMILES: O=C(NC(COP(=O)([O-])OCC[N+](C)(C)C)C(O)C=CCCC=CCCCCCCCCCCCCCCCCCCCC)CCCCCCCCCCCCCCCCCCCCCCCC\n",
      "\n",
      "True SMILES: O=C(NC(COP(=O)([O-])OCC[N+](C)(C)C)C(O)C=CCCC=CCCCCCCCCCCCCCCCCCCCC)CCCCCCCCCC=CCCCCCCCCCCC\n",
      "Pred SMILES: O=C(NC(COP(=O)([O-])OCC[N+](C)(C)C)C(O)C=CCCC=CCCCCCCCCCCCCCCCCCCCC)CCCCCCCCCC=CCCCCCCCCCCCC\n",
      "\n",
      "True SMILES: O=C(NC(COP(=O)([O-])OCC[N+](C)(C)C)C(O)C=CCCCCCCCCCCCCCCCCCCCCCCCC)CCCCCCCCCCCCCCCCCCCC=CCCCCCCCCCCCCCCCCCCCC\n",
      "Pred SMILES: O=C(NC(COP(=O)([O-])OCC[N+](C)(C)C)C(O)C=CCCCCCCCCCCCCCCCCCCCCCCCC)CCCCCCCCCCCCCCCCCCCC=CCCCCCCCCCCCCCCCCCCCC\n",
      "\n",
      "True SMILES: O=C(NC(COP(=O)([O-])OCC[N+](C)(C)C)C(O)C=CCCCCCCCCCCCCCCCCCCCCCCCC)CCCCCCCCCCCCCCCCCCCCCCCCCCCCCCCCCCCCCCCCC\n",
      "Pred SMILES: O=C(NC(COP(=O)([O-])OCC[N+](C)(C)C)C(O)C=CCCCCCCCCCCCCCCCCCCCCCCCC)CCCCCCCCCCCCCCCCCCCCCCCCCCCCCCCCCCCCCCCCCC\n",
      "\n",
      "True SMILES: O=C(NC(COP(=O)([O-])OCC[N+](C)(C)C)C(O)C=CCCCCCCCCCCCCCCCCCCCCCCCC)CCCCCCCCCCCCCCCCCCCC=CCC=CCCCCCCCCCCCCCCC\n",
      "Pred SMILES: O=C(NC(COP(=O)([O-])OCC[N+](C)(C)C)C(O)C=CCCCCCCCCCCCCCCCCCCCCCCCC)CCCCCCCCCCCCCCCCCCCC=CCC=CCCCCCCCCCCCCCCCC\n",
      "\n",
      "True SMILES: O=C(NC(COP(=O)([O-])OCC[N+](C)(C)C)C(O)C=CCCCCCCCCCCCCCCCCCCCCCCCC)CCCCCCCCCCCCCCCCCCCC=CCCCCCCCCCCCCCCCCCC\n",
      "Pred SMILES: O=C(NC(COP(=O)([O-])OCC[N+](C)(C)C)C(O)C=CCCCCCCCCCCCCCCCCCCCCCCCC)CCCCCCCCCCCCCCCCCCCC=CCCCCCCCCCCCCCCCCCCC\n",
      "\n",
      "True SMILES: O=C(NC(COP(=O)([O-])OCC[N+](C)(C)C)C(O)C=CCCCCCCCCCCCCCCCCCCCCCCCC)CCCCCCCCCCCCCCCCCCCCCCCCCCCCCCCCCCCCCCC\n",
      "Pred SMILES: O=C(NC(COP(=O)([O-])OCC[N+](C)(C)C)C(O)C=CCCCCCCCCCCCCCCCCCCCCCCCC)CCCCCCCCCCCCCCCCCCCCCCCCCCCCCCCCCCCCCCCC\n",
      "\n",
      "True SMILES: O=C(NC(COP(=O)([O-])OCC[N+](C)(C)C)C(O)C=CCCCCCCCCCCCCCCCCCCCCCCCC)CCCCCCCCCCCCCCCCCCCCCCCCCC\n",
      "Pred SMILES: O=C(NC(COP(=O)([O-])OCC[N+](C)(C)C)C(O)C=CCCCCCCCCCCCCCCCCCCCCCCCC)CCCCCCCCCCCCCCCCCCCCCCCCCC\n",
      "\n",
      "True SMILES: O=C(NC(COP(=O)([O-])OCC[N+](C)(C)C)C(O)C=CCCCCCCCCCCCCCCCCCCCCCCCC)CCCCCCCCCC=CCC=CCCCCCCCCCCC\n",
      "Pred SMILES: O=C(NC(COP(=O)([O-])OCC[N+](C)(C)C)C(O)C=CCCCCCCCCCCCCCCCCCCCCCCCC)CCCCCCCCCC=CCC=CCCCCCCCCCCCC\n",
      "\n",
      "True SMILES: O=C(NC(COP(=O)([O-])OCC[N+](C)(C)C)C(O)C=CCCCCCCCCCCCCCCCCCCCCCCCC)CCCCCCCCCC=CCCCCCCCCCCCCCC\n",
      "Pred SMILES: O=C(NC(COP(=O)([O-])OCC[N+](C)(C)C)C(O)C=CCCCCCCCCCCCCCCCCCCCCCCCC)CCCCCCCCCC=CCCCCCCCCCCCCCC\n",
      "\n",
      "True SMILES: O=C(NC(COP(=O)([O-])OCC[N+](C)(C)C)C(O)C=CCCCCCCCCCCCCCCCCCCCCCCCC)CCCCCCCCCCCCCCCCCCCCCCCCC\n",
      "Pred SMILES: O=C(NC(COP(=O)([O-])OCC[N+](C)(C)C)C(O)C=CCCCCCCCCCCCCCCCCCCCCCCCC)CCCCCCCCCCCCCCCCCCCCCCCCC\n",
      "\n",
      "True SMILES: O=C(NC(COP(=O)([O-])OCC[N+](C)(C)C)C(O)C=CCCCCCCCCCCCCCCCCCCCCCCCC)CCCCCCCCCC=CCCCCCCCCCCCCC\n",
      "Pred SMILES: O=C(NC(COP(=O)([O-])OCC[N+](C)(C)C)C(O)C=CCCCCCCCCCCCCCCCCCCCCCCCC)CCCCCCCCCC=CCCCCCCCCCCCCC\n",
      "\n",
      "True SMILES: O=C(NC(COP(=O)([O-])OCC[N+](C)(C)C)C(O)C=CCCCCCCCCCCCCCCCCCCCCCCCC)CCCCCCC=CCCCC\n",
      "Pred SMILES: O=C(NC(COP(=O)([O-])OCC[N+](C)(C)C)C(O)C=CCCCCCCCCCCCCCCCCCCCCCCCC)CCCCCCC=CCCCC\n",
      "\n",
      "True SMILES: O=C(NC(COP(=O)([O-])OCC[N+](C)(C)C)C(O)C=CCCCCCCCCCCCCCCCCCCCCCCCC)CCCCCCCCCCCC\n",
      "Pred SMILES: O=C(NC(COP(=O)([O-])OCC[N+](C)(C)C)C(O)C=CCCCCCCCCCCCCCCCCCCCCCCCC)CCCCCCCCCCCC\n",
      "\n",
      "True SMILES: O=C(NC(COP(=O)([O-])OCC[N+](C)(C)C)C(O)C=CCCCCCCCCCCCCCCCCCCCCCCCC)CCCC=CCCCCCC\n",
      "Pred SMILES: O=C(NC(COP(=O)([O-])OCC[N+](C)(C)C)C(O)C=CCCCCCCCCCCCCCCCCCCCCCCCC)CCCC=CCCCCCC\n",
      "\n",
      "True SMILES: O=C(NC(COP(=O)([O-])OCC[N+](C)(C)C)C(O)C=CCCCCCCCCCCCCCCCCCCCCCCCC)CCCCCCCCCCC\n",
      "Pred SMILES: O=C(NC(COP(=O)([O-])OCC[N+](C)(C)C)C(O)C=CCCCCCCCCCCCCCCCCCCCCCCCC)CCCCCCCCCCC\n",
      "\n",
      "True SMILES: O=C(NC(COP(=O)([O-])OCC[N+](C)(C)C)C(O)CCCCCCCCCCCCCCCCCCCCCCCCCC)CCCCCCCCCCCCCCCCCCCC=CCC=CCCCCCCCCCCCCCCCCC\n",
      "Pred SMILES: O=C(NC(COP(=O)([O-])OCC[N+](C)(C)C)C(O)CCCCCCCCCCCCCCCCCCCCCCCCCC)CCCCCCCCCCCCCCCCCCCC=CCC=CCCCCCCCCCCCCCCCCC\n",
      "\n",
      "True SMILES: O=C(NC(COP(=O)([O-])OCC[N+](C)(C)C)C(O)CCCCCCCCCCCCCCCCCCCCCCCCCC)CCCCCCCCCCCCCCCCCCCCCCCCCCCC\n",
      "Pred SMILES: O=C(NC(COP(=O)([O-])OCC[N+](C)(C)C)C(O)CCCCCCCCCCCCCCCCCCCCCCCCCC)CCCCCCCCCCCCCCCCCCCCCCCCCCCC\n",
      "\n",
      "True SMILES: O=C(NC(COP(=O)([O-])OCC[N+](C)(C)C)C(O)CCCCCCCCCCCCCCCCCCCCCCCCCC)CCCCCCCCCCCC=CCC=CCCCCCCCCCCC\n",
      "Pred SMILES: O=C(NC(COP(=O)([O-])OCC[N+](C)(C)C)C(O)CCCCCCCCCCCCCCCCCCCCCCCCCC)CCCCCCCCCCCC=CCC=CCCCCCCCCCCCC\n",
      "\n",
      "True SMILES: O=C(NC(COP(=O)([O-])OCC[N+](C)(C)C)C(O)CCCCCCCCCCCCCCCCCCCCCCCCCC)CCCCCCCCCCCC=CCCCCCCCCCCCCCC\n",
      "Pred SMILES: O=C(NC(COP(=O)([O-])OCC[N+](C)(C)C)C(O)CCCCCCCCCCCCCCCCCCCCCCCCCC)CCCCCCCCCCCC=CCCCCCCCCCCCCCC\n",
      "\n",
      "True SMILES: O=C(NC(COP(=O)([O-])OCC[N+](C)(C)C)C(O)CCCCCCCCCCCCCCCCCCCCCCCCCC)CCCCCCCCCCCCCCCCCCCCCCCCCCC\n",
      "Pred SMILES: O=C(NC(COP(=O)([O-])OCC[N+](C)(C)C)C(O)CCCCCCCCCCCCCCCCCCCCCCCCCC)CCCCCCCCCCCCCCCCCCCCCCCCCCC\n",
      "\n",
      "True SMILES: O=C(NC(COP(=O)([O-])OCC[N+](C)(C)C)C(O)CCCCCCCCCCCCCCCCCCCCCCCCCC)CCCCCCCCCCC=CCCCCCCCCCCCCCC\n",
      "Pred SMILES: O=C(NC(COP(=O)([O-])OCC[N+](C)(C)C)C(O)CCCCCCCCCCCCCCCCCCCCCCCCCC)CCCCCCCCCCC=CCCCCCCCCCCCCCC\n",
      "\n",
      "True SMILES: O=C(NC(COP(=O)([O-])OCC[N+](C)(C)C)C(O)CCCCCCCCCCCCCCCCCCCCCCCCCC)CCCCCCCCCCCCCCC\n",
      "Pred SMILES: O=C(NC(COP(=O)([O-])OCC[N+](C)(C)C)C(O)CCCCCCCCCCCCCCCCCCCCCCCCCC)CCCCCCCCCCCCCCC\n",
      "\n",
      "True SMILES: O=C(NC(COP(=O)([O-])OCC[N+](C)(C)C)C(O)CCCCCCCCCCCCCCCCCCCCCCCCCC)CCCCCCCC=CCCCCC\n",
      "Pred SMILES: O=C(NC(COP(=O)([O-])OCC[N+](C)(C)C)C(O)CCCCCCCCCCCCCCCCCCCCCCCCCC)CCCCCCCC=CCCCCC\n",
      "\n",
      "True SMILES: O=C(NC(COP(=O)([O-])OCC[N+](C)(C)C)C(O)CCCCCCCCCCCCCCCCCCCCCCCCCC)CCCCCCCCCCCCCC\n",
      "Pred SMILES: O=C(NC(COP(=O)([O-])OCC[N+](C)(C)C)C(O)CCCCCCCCCCCCCCCCCCCCCCCCCC)CCCCCCCCCCCCCC\n",
      "\n",
      "True SMILES: O=C(NC(COP(=O)([O-])OCC[N+](C)(C)C)C(O)CCCCCCCCCCCCCCCCCCCCCCCCCC)CCCCCCCC=CCCCC\n",
      "Pred SMILES: O=C(NC(COP(=O)([O-])OCC[N+](C)(C)C)C(O)CCCCCCCCCCCCCCCCCCCCCCCCCC)CCCCCCCC=CCCCC\n",
      "\n",
      "True SMILES: O=C(NC(COP(=O)([O-])OCC[N+](C)(C)C)C(O)CCCCCCCCCCCCCCCCCCCCCCCCCC)CCCCCCCCCCCCC\n",
      "Pred SMILES: O=C(NC(COP(=O)([O-])OCC[N+](C)(C)C)C(O)CCCCCCCCCCCCCCCCCCCCCCCCCC)CCCCCCCCCCCCC\n",
      "\n",
      "True SMILES: O=C(NC(COP(=O)([O-])OCC[N+](C)(C)C)C(O)C=CCCC=CCCC=CCCCCCCCCCCCCCCC)CCCCCCCCCCCCCCCCCCCCCCCCCCCCCC\n",
      "Pred SMILES: O=C(NC(COP(=O)([O-])OCC[N+](C)(C)C)C(O)C=CCCC=CCCC=CCCCCCCCCCCCCCCC)CCCCCCCCCCCCCCCCCCCCCCCCCCCCCC\n",
      "\n",
      "True SMILES: O=C(NC(COP(=O)([O-])OCC[N+](C)(C)C)C(O)C=CCCC=CCCC=CCCCCCCCCCCCCCCC)CCCCCCCCCCCCCC=CCC=CCCCCCCCCCCC\n",
      "Pred SMILES: O=C(NC(COP(=O)([O-])OCC[N+](C)(C)C)C(O)C=CCCC=CCCC=CCCCCCCCCCCCCCCC)CCCCCCCCCCCCCC=CCC=CCCCCCCCCCCC\n",
      "\n",
      "True SMILES: O=C(NC(COP(=O)([O-])OCC[N+](C)(C)C)C(O)C=CCCC=CCCC=CCCCCCCCCCCCCCCC)CCCCCCCCCCCCCC=CCCCCCCCCCCCCCC\n",
      "Pred SMILES: O=C(NC(COP(=O)([O-])OCC[N+](C)(C)C)C(O)C=CCCC=CCCC=CCCCCCCCCCCCCCCC)CCCCCCCCCCCCCC=CCCCCCCCCCCCCCC\n",
      "\n",
      "True SMILES: O=C(NC(COP(=O)([O-])OCC[N+](C)(C)C)C(O)C=CCCC=CCCC=CCCCCCCCCCCCCCCC)CCCCCCCCCCCCCCCCCCCCCCCCCCCCC\n",
      "Pred SMILES: O=C(NC(COP(=O)([O-])OCC[N+](C)(C)C)C(O)C=CCCC=CCCC=CCCCCCCCCCCCCCCC)CCCCCCCCCCCCCCCCCCCCCCCCCCCCC\n",
      "\n",
      "True SMILES: O=C(NC(COP(=O)([O-])OCC[N+](C)(C)C)C(O)C=CCCC=CCCC=CCCCCCCCCCCCCCCC)CCCCCCCCCCCCC=CCCCCCCCCCCCCCC\n",
      "Pred SMILES: O=C(NC(COP(=O)([O-])OCC[N+](C)(C)C)C(O)C=CCCC=CCCC=CCCCCCCCCCCCCCCC)CCCCCCCCCCCCC=CCCCCCCCCCCCCCC\n",
      "\n",
      "True SMILES: O=C(NC(COP(=O)([O-])OCC[N+](C)(C)C)C(O)C=CCCC=CCCC=CCCCCCCCCCCCCCCC)CCCCCCCCCC=CCCCCCC\n",
      "Pred SMILES: O=C(NC(COP(=O)([O-])OCC[N+](C)(C)C)C(O)C=CCCC=CCCC=CCCCCCCCCCCCCCCC)CCCCCCCCCC=CCCCCCC\n",
      "\n",
      "True SMILES: O=C(NC(COP(=O)([O-])OCC[N+](C)(C)C)C(O)C=CCCC=CCCC=CCCCCCCCCCCCCCCC)CCCCCCCCCCCCCCCCC\n",
      "Pred SMILES: O=C(NC(COP(=O)([O-])OCC[N+](C)(C)C)C(O)C=CCCC=CCCC=CCCCCCCCCCCCCCCC)CCCCCCCCCCCCCCCCC\n",
      "\n",
      "True SMILES: O=C(NC(COP(=O)([O-])OCC[N+](C)(C)C)C(O)C=CCCC=CCCC=CCCCCCCCCCCCCCCC)CCCCCCCCCCCCCCCC\n",
      "Pred SMILES: O=C(NC(COP(=O)([O-])OCC[N+](C)(C)C)C(O)C=CCCC=CCCC=CCCCCCCCCCCCCCCC)CCCCCCCCCCCCCCCC\n",
      "\n",
      "True SMILES: O=C(NC(COP(=O)([O-])OCC[N+](C)(C)C)C(O)C=CCCC=CCCC=CCCCCCCCCCCCCCCC)CCC=CCC=CCCCCCCCC\n",
      "Pred SMILES: O=C(NC(COP(=O)([O-])OCC[N+](C)(C)C)C(O)C=CCCC=CCCC=CCCCCCCCCCCCCCCC)CCC=CCC=CCCCCCCCC\n",
      "\n",
      "True SMILES: O=C(NC(COP(=O)([O-])OCC[N+](C)(C)C)C(O)C=CCCC=CCCC=CCCCCCCCCCCCCCCC)CCCCCC=CCCCCCCCC\n",
      "Pred SMILES: O=C(NC(COP(=O)([O-])OCC[N+](C)(C)C)C(O)C=CCCC=CCCC=CCCCCCCCCCCCCCCC)CCCCCC=CCCCCCCCC\n",
      "\n",
      "True SMILES: O=C(NC(COP(=O)([O-])OCC[N+](C)(C)C)C(O)C=CCCC=CCCCCCCCCCCCCCCCCCCC)CCCCCCCCCCCCCCCCCCCCCCCCCCCCCCCC\n",
      "Pred SMILES: O=C(NC(COP(=O)([O-])OCC[N+](C)(C)C)C(O)C=CCCC=CCCCCCCCCCCCCCCCCCCC)CCCCCCCCCCCCCCCCCCCCCCCCCCCCCCCC\n",
      "\n",
      "True SMILES: O=C(NC(COP(=O)([O-])OCC[N+](C)(C)C)C(O)C=CCCC=CCCCCCCCCCCCCCCCCCCC)CCCCCCCCCCCCCCCC=CCC=CCCCCCCCCCCC\n",
      "Pred SMILES: O=C(NC(COP(=O)([O-])OCC[N+](C)(C)C)C(O)C=CCCC=CCCCCCCCCCCCCCCCCCCC)CCCCCCCCCCCCCCCC=CCC=CCCCCCCCCCCCC\n",
      "\n",
      "True SMILES: O=C(NC(COP(=O)([O-])OCC[N+](C)(C)C)C(O)C=CCCC=CCCCCCCCCCCCCCCCCCCC)CCCCCCCCCCCCCCCC=CCCCCCCCCCCCCCC\n",
      "Pred SMILES: O=C(NC(COP(=O)([O-])OCC[N+](C)(C)C)C(O)C=CCCC=CCCCCCCCCCCCCCCCCCCC)CCCCCCCCCCCCCCCC=CCCCCCCCCCCCCCC\n",
      "\n",
      "True SMILES: O=C(NC(COP(=O)([O-])OCC[N+](C)(C)C)C(O)C=CCCC=CCCCCCCCCCCCCCCCCCCC)CCCCCCCCCCCCCCCCCCCCCCCCCCCCCCC\n",
      "Pred SMILES: O=C(NC(COP(=O)([O-])OCC[N+](C)(C)C)C(O)C=CCCC=CCCCCCCCCCCCCCCCCCCC)CCCCCCCCCCCCCCCCCCCCCCCCCCCCCCC\n",
      "\n",
      "True SMILES: O=C(NC(COP(=O)([O-])OCC[N+](C)(C)C)C(O)C=CCCC=CCCCCCCCCCCCCCCCCCCC)CCCCCCCCCCCCCCC=CCCCCCCCCCCCCCC\n",
      "Pred SMILES: O=C(NC(COP(=O)([O-])OCC[N+](C)(C)C)C(O)C=CCCC=CCCCCCCCCCCCCCCCCCCC)CCCCCCCCCCCCCCC=CCCCCCCCCCCCCCC\n",
      "\n",
      "True SMILES: O=C(NC(COP(=O)([O-])OCC[N+](C)(C)C)C(O)C=CCCC=CCCCCCCCCCCCCCCCCCCC)CCCCCCCCCC=CCCCCCCCC\n",
      "Pred SMILES: O=C(NC(COP(=O)([O-])OCC[N+](C)(C)C)C(O)C=CCCC=CCCCCCCCCCCCCCCCCCCC)CCCCCCCCCC=CCCCCCCCC\n",
      "\n",
      "True SMILES: O=C(NC(COP(=O)([O-])OCC[N+](C)(C)C)C(O)C=CCCC=CCCCCCCCCCCCCCCCCCCC)CCCCCCCCCCCCCCCCCCC\n",
      "Pred SMILES: O=C(NC(COP(=O)([O-])OCC[N+](C)(C)C)C(O)C=CCCC=CCCCCCCCCCCCCCCCCCCC)CCCCCCCCCCCCCCCCCCC\n",
      "\n",
      "True SMILES: O=C(NC(COP(=O)([O-])OCC[N+](C)(C)C)C(O)C=CCCC=CCCCCCCCCCCCCCCCCCCC)CCCCCCCC=CCCCCCCCCC\n",
      "Pred SMILES: O=C(NC(COP(=O)([O-])OCC[N+](C)(C)C)C(O)C=CCCC=CCCCCCCCCCCCCCCCCCCC)CCCCCCCC=CCCCCCCCCC\n",
      "\n",
      "True SMILES: O=C(NC(COP(=O)([O-])OCC[N+](C)(C)C)C(O)C=CCCC=CCCCCCCCCCCCCCCCCCCC)CCCCCCCCCCCCCCCCCC\n",
      "Pred SMILES: O=C(NC(COP(=O)([O-])OCC[N+](C)(C)C)C(O)C=CCCC=CCCCCCCCCCCCCCCCCCCC)CCCCCCCCCCCCCCCCCC\n",
      "\n",
      "True SMILES: O=C(NC(COP(=O)([O-])OCC[N+](C)(C)C)C(O)C=CCCC=CCCCCCCCCCCCCCCCCCCC)CCCCCCCCC=CC=CCCCCC\n",
      "Pred SMILES: O=C(NC(COP(=O)([O-])OCC[N+](C)(C)C)C(O)C=CCCC=CCCCCCCCCCCCCCCCCCCC)CCCCCCCCC=CC=CCCCCC\n",
      "\n",
      "True SMILES: O=C(NC(COP(=O)([O-])OCC[N+](C)(C)C)C(O)C=CCCCCCCCCCCCCCCCCCCCCCCC)CCCCCCCCCCCCCCCCCCCCCCCCCCCCCCCCCC\n",
      "Pred SMILES: O=C(NC(COP(=O)([O-])OCC[N+](C)(C)C)C(O)C=CCCCCCCCCCCCCCCCCCCCCCCC)CCCCCCCCCCCCCCCCCCCCCCCCCCCCCCCCCC\n",
      "\n",
      "True SMILES: O=C(NC(COP(=O)([O-])OCC[N+](C)(C)C)C(O)C=CCCCCCCCCCCCCCCCCCCCCCCC)CCCCCCCCCCCCCCCCCC=CCC=CCCCCCCCCCCC\n",
      "Pred SMILES: O=C(NC(COP(=O)([O-])OCC[N+](C)(C)C)C(O)C=CCCCCCCCCCCCCCCCCCCCCCCC)CCCCCCCCCCCCCCCCCC=CCC=CCCCCCCCCCCCC\n",
      "\n",
      "True SMILES: O=C(NC(COP(=O)([O-])OCC[N+](C)(C)C)C(O)C=CCCCCCCCCCCCCCCCCCCCCCCC)CCCCCCCCCCCCCCCCCC=CCCCCCCCCCCCCCC\n",
      "Pred SMILES: O=C(NC(COP(=O)([O-])OCC[N+](C)(C)C)C(O)C=CCCCCCCCCCCCCCCCCCCCCCCC)CCCCCCCCCCCCCCCCCC=CCCCCCCCCCCCCCC\n",
      "\n",
      "True SMILES: O=C(NC(COP(=O)([O-])OCC[N+](C)(C)C)C(O)C=CCCCCCCCCCCCCCCCCCCCCCCC)CCCCCCCCCCCCCCCCCCCCCCCCCCCCCCCCC\n",
      "Pred SMILES: O=C(NC(COP(=O)([O-])OCC[N+](C)(C)C)C(O)C=CCCCCCCCCCCCCCCCCCCCCCCC)CCCCCCCCCCCCCCCCCCCCCCCCCCCCCCCCC\n",
      "\n",
      "True SMILES: O=C(NC(COP(=O)([O-])OCC[N+](C)(C)C)C(O)C=CCCCCCCCCCCCCCCCCCCCCCCC)CCCCCCCCCCCCCCCCC=CCCCCCCCCCCCCCC\n",
      "Pred SMILES: O=C(NC(COP(=O)([O-])OCC[N+](C)(C)C)C(O)C=CCCCCCCCCCCCCCCCCCCCCCCC)CCCCCCCCCCCCCCCCC=CCCCCCCCCCCCCCC\n",
      "\n",
      "True SMILES: O=C(NC(COP(=O)([O-])OCC[N+](C)(C)C)C(O)C=CCCCCCCCCCCCCCCCCCCCCCCC)CCCCCCCCCC=CCCCCCCCCCC\n",
      "Pred SMILES: O=C(NC(COP(=O)([O-])OCC[N+](C)(C)C)C(O)C=CCCCCCCCCCCCCCCCCCCCCCCC)CCCCCCCCCC=CCCCCCCCCCC\n",
      "\n",
      "True SMILES: O=C(NC(COP(=O)([O-])OCC[N+](C)(C)C)C(O)C=CCCCCCCCCCCCCCCCCCCCCCCC)CCCCCCCCCCCCCCCCCCCCC\n",
      "Pred SMILES: O=C(NC(COP(=O)([O-])OCC[N+](C)(C)C)C(O)C=CCCCCCCCCCCCCCCCCCCCCCCC)CCCCCCCCCCCCCCCCCCCCC\n",
      "\n",
      "True SMILES: O=C(NC(COP(=O)([O-])OCC[N+](C)(C)C)C(O)C=CCCCCCCCCCCCCCCCCCCCCCCC)CCCCCCCC=CCCCCCCCCCCC\n",
      "Pred SMILES: O=C(NC(COP(=O)([O-])OCC[N+](C)(C)C)C(O)C=CCCCCCCCCCCCCCCCCCCCCCCC)CCCCCCCC=CCCCCCCCCCCC\n",
      "\n",
      "True SMILES: O=C(NC(COP(=O)([O-])OCC[N+](C)(C)C)C(O)C=CCCCCCCCCCCCCCCCCCCCCCCC)CCCCCCCCCCCCCCCCCCCC\n",
      "Pred SMILES: O=C(NC(COP(=O)([O-])OCC[N+](C)(C)C)C(O)C=CCCCCCCCCCCCCCCCCCCCCCCC)CCCCCCCCCCCCCCCCCCCC\n",
      "\n",
      "True SMILES: O=C(NC(COP(=O)([O-])OCC[N+](C)(C)C)C(O)C=CCCCCCCCCCCCCCCCCCCCCCCC)CCCCCCCCCC=CCC=CCCCCC\n",
      "Pred SMILES: O=C(NC(COP(=O)([O-])OCC[N+](C)(C)C)C(O)C=CCCCCCCCCCCCCCCCCCCCCCCC)CCCCCCCCCC=CCC=CCCCCC\n",
      "\n",
      "True SMILES: O=C(NC(COP(=O)([O-])OCC[N+](C)(C)C)C(O)CCCCCCCCCCCCCCCCCCCCCCCCC)CCCCCCCCCCCCCCCCCCCCCCCCCCCCCCCCCCCCC\n",
      "Pred SMILES: O=C(NC(COP(=O)([O-])OCC[N+](C)(C)C)C(O)CCCCCCCCCCCCCCCCCCCCCCCCC)CCCCCCCCCCCCCCCCCCCCCCCCCCCCCCCCCCCCCC\n",
      "\n",
      "True SMILES: O=C(NC(COP(=O)([O-])OCC[N+](C)(C)C)C(O)CCCCCCCCCCCCCCCCCCCCCCCCC)CCCCCCCCCCCCCCCCCCCC=CCC=CCCCCCCCCCCC\n",
      "Pred SMILES: O=C(NC(COP(=O)([O-])OCC[N+](C)(C)C)C(O)CCCCCCCCCCCCCCCCCCCCCCCCC)CCCCCCCCCCCCCCCCCCCC=CCC=CCCCCCCCCCCCC\n",
      "\n",
      "True SMILES: O=C(NC(COP(=O)([O-])OCC[N+](C)(C)C)C(O)CCCCCCCCCCCCCCCCCCCCCCCCC)CCCCCCCCCCCCCCCCCCCC=CCCCCCCCCCCCCCC\n",
      "Pred SMILES: O=C(NC(COP(=O)([O-])OCC[N+](C)(C)C)C(O)CCCCCCCCCCCCCCCCCCCCCCCCC)CCCCCCCCCCCCCCCCCCCC=CCCCCCCCCCCCCCC\n",
      "\n",
      "True SMILES: O=C(NC(COP(=O)([O-])OCC[N+](C)(C)C)C(O)CCCCCCCCCCCCCCCCCCCCCCCCC)CCCCCCCCCCCCCCCCCCCCCCCCCCCCCCCCCCC\n",
      "Pred SMILES: O=C(NC(COP(=O)([O-])OCC[N+](C)(C)C)C(O)CCCCCCCCCCCCCCCCCCCCCCCCC)CCCCCCCCCCCCCCCCCCCCCCCCCCCCCCCCCCC\n",
      "\n",
      "True SMILES: O=C(NC(COP(=O)([O-])OCC[N+](C)(C)C)C(O)CCCCCCCCCCCCCCCCCCCCCCCCC)CCCCCCCCCCCCCCCCCCC=CCCCCCCCCCCCCCC\n",
      "Pred SMILES: O=C(NC(COP(=O)([O-])OCC[N+](C)(C)C)C(O)CCCCCCCCCCCCCCCCCCCCCCCCC)CCCCCCCCCCCCCCCCCCC=CCCCCCCCCCCCCCC\n",
      "\n",
      "True SMILES: O=C(NC(COP(=O)([O-])OCC[N+](C)(C)C)C(O)CCCCCCCCCCCCCCCCCCCCCCCCC)CCCCCCCCCC=CCCCCCCCCCCCC\n",
      "Pred SMILES: O=C(NC(COP(=O)([O-])OCC[N+](C)(C)C)C(O)CCCCCCCCCCCCCCCCCCCCCCCCC)CCCCCCCCCC=CCCCCCCCCCCCCC\n",
      "\n",
      "True SMILES: O=C(NC(COP(=O)([O-])OCC[N+](C)(C)C)C(O)CCCCCCCCCCCCCCCCCCCCCCCCC)CCCCCCCCCCCCCCCCCCCCCCC\n",
      "Pred SMILES: O=C(NC(COP(=O)([O-])OCC[N+](C)(C)C)C(O)CCCCCCCCCCCCCCCCCCCCCCCCC)CCCCCCCCCCCCCCCCCCCCCCCC\n",
      "\n",
      "True SMILES: O=C(NC(COP(=O)([O-])OCC[N+](C)(C)C)C(O)CCCCCCCCCCCCCCCCCCCCCCCCC)CCCCCCCCCC=CCCCCCCCCCCC\n",
      "Pred SMILES: O=C(NC(COP(=O)([O-])OCC[N+](C)(C)C)C(O)CCCCCCCCCCCCCCCCCCCCCCCCC)CCCCCCCCCC=CCCCCCCCCCCCC\n",
      "\n",
      "True SMILES: O=C(NC(COP(=O)([O-])OCC[N+](C)(C)C)C(O)CCCCCCCCCCCCCCCCCCCCCCCCC)CCCCCCCCCCCCCCCCCCCCCC\n",
      "Pred SMILES: O=C(NC(COP(=O)([O-])OCC[N+](C)(C)C)C(O)CCCCCCCCCCCCCCCCCCCCCCCCC)CCCCCCCCCCCCCCCCCCCCCC\n",
      "\n",
      "True SMILES: O=C(NC(COP(=O)([O-])OCC[N+](C)(C)C)C(O)CCCCCCCCCCCCCCCCCCCCCCCCC)CCCCCCCCCCCCC=CC=CCCCCC\n",
      "Pred SMILES: O=C(NC(COP(=O)([O-])OCC[N+](C)(C)C)C(O)CCCCCCCCCCCCCCCCCCCCCCCCC)CCCCCCCCCCCCC=CC=CCCCCCC\n",
      "\n",
      "True SMILES: O=C(NC(COP(=O)([O-])OCC[N+](C)(C)C)C(O)C=CCCC=CCCC=CCCCCCCCCCCCCCC)CCCCCCCCCCCCCCCCCCCC=CCC=CCCCCCCCCCCCCCCC\n",
      "Pred SMILES: O=C(NC(COP(=O)([O-])OCC[N+](C)(C)C)C(O)C=CCCC=CCCC=CCCCCCCCCCCCCCC)CCCCCCCCCCCCCCCCCCCC=CCC=CCCCCCCCCCCCCCCC\n",
      "\n",
      "True SMILES: O=C(NC(COP(=O)([O-])OCC[N+](C)(C)C)C(O)C=CCCC=CCCC=CCCCCCCCCCCCCCC)CCCCCCCCCCCCCCCCCCCC=CCCCCCCCCCCCCCCCCCC\n",
      "Pred SMILES: O=C(NC(COP(=O)([O-])OCC[N+](C)(C)C)C(O)C=CCCC=CCCC=CCCCCCCCCCCCCCC)CCCCCCCCCCCCCCCCCCCC=CCCCCCCCCCCCCCCCCCCC\n",
      "\n",
      "True SMILES: O=C(NC(COP(=O)([O-])OCC[N+](C)(C)C)C(O)C=CCCC=CCCC=CCCCCCCCCCCCCCC)CCCCCCCCCCCCCCCCCCCCCCCCCCCCCCCCCCCCCCC\n",
      "Pred SMILES: O=C(NC(COP(=O)([O-])OCC[N+](C)(C)C)C(O)C=CCCC=CCCC=CCCCCCCCCCCCCCC)CCCCCCCCCCCCCCCCCCCCCCCCCCCCCCCCCCCCCCCC\n",
      "\n",
      "True SMILES: O=C(NC(COP(=O)([O-])OCC[N+](C)(C)C)C(O)C=CCCC=CCCC=CCCCCCCCCCCCCCC)CCCCCCCCCCCCCCCCCCCC=CCC=CCCCCCCCCCCCCC\n",
      "Pred SMILES: O=C(NC(COP(=O)([O-])OCC[N+](C)(C)C)C(O)C=CCCC=CCCC=CCCCCCCCCCCCCCC)CCCCCCCCCCCCCCCCCCCC=CCC=CCCCCCCCCCCCCCC\n",
      "\n",
      "True SMILES: O=C(NC(COP(=O)([O-])OCC[N+](C)(C)C)C(O)C=CCCC=CCCC=CCCCCCCCCCCCCCC)CCCCCCCCCCCCCCCCCCCC=CCCCCCCCCCCCCCCCC\n",
      "Pred SMILES: O=C(NC(COP(=O)([O-])OCC[N+](C)(C)C)C(O)C=CCCC=CCCC=CCCCCCCCCCCCCCC)CCCCCCCCCCCCCCCCCCCC=CCCCCCCCCCCCCCCCCC\n",
      "\n",
      "True SMILES: O=C(NC(COP(=O)([O-])OCC[N+](C)(C)C)C(O)C=CCCC=CCCC=CCCCCCCCCCCCCCC)CCCCCCCCCC=CCCCCCCCCCCCCCC\n",
      "Pred SMILES: O=C(NC(COP(=O)([O-])OCC[N+](C)(C)C)C(O)C=CCCC=CCCC=CCCCCCCCCCCCCCC)CCCCCCCCCC=CCCCCCCCCCCCCCCC\n",
      "\n",
      "True SMILES: O=C(NC(COP(=O)([O-])OCC[N+](C)(C)C)C(O)C=CCCC=CCCC=CCCCCCCCCCCCCCC)CCCCCCCCCCCCCCCCCCCCCCCCC\n",
      "Pred SMILES: O=C(NC(COP(=O)([O-])OCC[N+](C)(C)C)C(O)C=CCCC=CCCC=CCCCCCCCCCCCCCC)CCCCCCCCCCCCCCCCCCCCCCCCC\n",
      "\n",
      "True SMILES: O=C(NC(COP(=O)([O-])OCC[N+](C)(C)C)C(O)C=CCCC=CCCC=CCCCCCCCCCCCCCC)CCCCCCCCCC=CCCCCCCCCCCCCC\n",
      "Pred SMILES: O=C(NC(COP(=O)([O-])OCC[N+](C)(C)C)C(O)C=CCCC=CCCC=CCCCCCCCCCCCCCC)CCCCCCCCCC=CCCCCCCCCCCCCC\n",
      "\n",
      "True SMILES: O=C(NC(COP(=O)([O-])OCC[N+](C)(C)C)C(O)C=CCCC=CCCC=CCCCCCCCCCCCCCC)CCCCCCCCCCCCCCCCCCCCCCCC\n",
      "Pred SMILES: O=C(NC(COP(=O)([O-])OCC[N+](C)(C)C)C(O)C=CCCC=CCCC=CCCCCCCCCCCCCCC)CCCCCCCCCCCCCCCCCCCCCCCC\n",
      "\n",
      "True SMILES: O=C(NC(COP(=O)([O-])OCC[N+](C)(C)C)C(O)C=CCCC=CCCC=CCCCCCCCCCCCCCC)CCCCCCCCCCCCCCCCC=CCC=CCC\n",
      "Pred SMILES: O=C(NC(COP(=O)([O-])OCC[N+](C)(C)C)C(O)C=CCCC=CCCC=CCCCCCCCCCCCCCC)CCCCCCCCCCCCCCCCC=CCC=CCC\n",
      "\n",
      "True SMILES: O=C(NC(COP(=O)([O-])OCC[N+](C)(C)C)C(O)C=CCCC=CCCC=CCCCCCCCCCCCCCC)CCCC=CCCCCCC\n",
      "Pred SMILES: O=C(NC(COP(=O)([O-])OCC[N+](C)(C)C)C(O)C=CCCC=CCCC=CCCCCCCCCCCCCCC)CCCC=CCCCCCC\n",
      "\n",
      "True SMILES: O=C(NC(COP(=O)([O-])OCC[N+](C)(C)C)C(O)C=CCCC=CCCC=CCCCCCCCCCCCCCC)CCCCCCCCCCC\n",
      "Pred SMILES: O=C(NC(COP(=O)([O-])OCC[N+](C)(C)C)C(O)C=CCCC=CCCC=CCCCCCCCCCCCCCC)CCCCCCCCCCC\n",
      "\n",
      "True SMILES: O=C(NC(COP(=O)([O-])OCC[N+](C)(C)C)C(O)C=CCCC=CCCCCCCCCCCCCCCCCCC)CCCCCCCCCCCCCCCCCCCC=CCC=CCCCCCCCCCCCCCCCCC\n",
      "Pred SMILES: O=C(NC(COP(=O)([O-])OCC[N+](C)(C)C)C(O)C=CCCC=CCCCCCCCCCCCCCCCCCC)CCCCCCCCCCCCCCCCCCCC=CCC=CCCCCCCCCCCCCCCCCC\n",
      "\n",
      "True SMILES: O=C(NC(COP(=O)([O-])OCC[N+](C)(C)C)C(O)C=CCCC=CCCCCCCCCCCCCCCCCCC)CCCCCCCCCCCCCCCCCCCC=CCCCCCCCCCCCCCCCCCCCC\n",
      "Pred SMILES: O=C(NC(COP(=O)([O-])OCC[N+](C)(C)C)C(O)C=CCCC=CCCCCCCCCCCCCCCCCCC)CCCCCCCCCCCCCCCCCCCC=CCCCCCCCCCCCCCCCCCCCCC\n",
      "\n",
      "True SMILES: O=C(NC(COP(=O)([O-])OCC[N+](C)(C)C)C(O)C=CCCC=CCCCCCCCCCCCCCCCCCC)CCCCCCCCCCCCCCCCCCCCCCCCCCCCCCCCCCCCCCCCC\n",
      "Pred SMILES: O=C(NC(COP(=O)([O-])OCC[N+](C)(C)C)C(O)C=CCCC=CCCCCCCCCCCCCCCCCCC)CCCCCCCCCCCCCCCCCCCCCCCCCCCCCCCCCCCCCCCCCC\n",
      "\n",
      "True SMILES: O=C(NC(COP(=O)([O-])OCC[N+](C)(C)C)C(O)C=CCCC=CCCCCCCCCCCCCCCCCCC)CCCCCCCCCCCC=CCCCCCCCCCCCCCC\n",
      "Pred SMILES: O=C(NC(COP(=O)([O-])OCC[N+](C)(C)C)C(O)C=CCCC=CCCCCCCCCCCCCCCCCCC)CCCCCCCCCCCC=CCCCCCCCCCCCCCCC\n",
      "\n",
      "True SMILES: O=C(NC(COP(=O)([O-])OCC[N+](C)(C)C)C(O)C=CCCC=CCCCCCCCCCCCCCCCCCC)CCCCCCCCCCCCCCCCCCCCCCCCCCC\n",
      "Pred SMILES: O=C(NC(COP(=O)([O-])OCC[N+](C)(C)C)C(O)C=CCCC=CCCCCCCCCCCCCCCCCCC)CCCCCCCCCCCCCCCCCCCCCCCCCCC\n",
      "\n",
      "True SMILES: O=C(NC(COP(=O)([O-])OCC[N+](C)(C)C)C(O)C=CCCC=CCCCCCCCCCCCCCCCCCC)CCCCCCCCCCC=CCCCCCCCCCCCCCC\n",
      "Pred SMILES: O=C(NC(COP(=O)([O-])OCC[N+](C)(C)C)C(O)C=CCCC=CCCCCCCCCCCCCCCCCCC)CCCCCCCCCCC=CCCCCCCCCCCCCCC\n",
      "\n",
      "True SMILES: O=C(NC(COP(=O)([O-])OCC[N+](C)(C)C)C(O)C=CCCC=CCCCCCCCCCCCCCCCCCC)CCCCCCCCCCCCCCCCCCCCCCCCCC\n",
      "Pred SMILES: O=C(NC(COP(=O)([O-])OCC[N+](C)(C)C)C(O)C=CCCC=CCCCCCCCCCCCCCCCCCC)CCCCCCCCCCCCCCCCCCCCCCCCCC\n",
      "\n",
      "True SMILES: O=C(NC(COP(=O)([O-])OCC[N+](C)(C)C)C(O)C=CCCC=CCCCCCCCCCCCCCCCCCC)CCCCCCCCCC=CCC=CCCCCCCCCCCC\n",
      "Pred SMILES: O=C(NC(COP(=O)([O-])OCC[N+](C)(C)C)C(O)C=CCCC=CCCCCCCCCCCCCCCCCCC)CCCCCCCCCC=CCC=CCCCCCCCCCCC\n",
      "\n",
      "True SMILES: O=C(NC(COP(=O)([O-])OCC[N+](C)(C)C)C(O)C=CCCC=CCCCCCCCCCCCCCCCCCC)CCCCCCCCCCCCCC\n",
      "Pred SMILES: O=C(NC(COP(=O)([O-])OCC[N+](C)(C)C)C(O)C=CCCC=CCCCCCCCCCCCCCCCCCC)CCCCCCCCCCCCCC\n",
      "\n",
      "True SMILES: O=C(NC(COP(=O)([O-])OCC[N+](C)(C)C)C(O)C=CCCC=CCCCCCCCCCCCCCCCCCC)CCCCCCCC=CCCCC\n",
      "Pred SMILES: O=C(NC(COP(=O)([O-])OCC[N+](C)(C)C)C(O)C=CCCC=CCCCCCCCCCCCCCCCCCC)CCCCCCCC=CCCCC\n",
      "\n",
      "True SMILES: O=C(NC(COP(=O)([O-])OCC[N+](C)(C)C)C(O)C=CCCC=CCCCCCCCCCCCCCCCCCC)CCCCCCCCCCCCC\n",
      "Pred SMILES: O=C(NC(COP(=O)([O-])OCC[N+](C)(C)C)C(O)C=CCCC=CCCCCCCCCCCCCCCCCCC)CCCCCCCCCCCCC\n",
      "\n",
      "True SMILES: O=C(NC(COP(=O)([O-])OCC[N+](C)(C)C)C(O)C=CCCC=CCCCCCCCCCCCCCCCCCC)CCCCCCC=CCCCC\n",
      "Pred SMILES: O=C(NC(COP(=O)([O-])OCC[N+](C)(C)C)C(O)C=CCCC=CCCCCCCCCCCCCCCCCCC)CCCCCCC=CCCCC\n",
      "\n",
      "True SMILES: O=C(NC(COP(=O)([O-])OCC[N+](C)(C)C)C(O)C=CCCC=CCCCCCCCCCCCCCCCCCC)CCCCCCCCCCCC\n",
      "Pred SMILES: O=C(NC(COP(=O)([O-])OCC[N+](C)(C)C)C(O)C=CCCC=CCCCCCCCCCCCCCCCCCC)CCCCCCCCCCCC\n",
      "\n",
      "True SMILES: O=C(NC(COP(=O)([O-])OCC[N+](C)(C)C)C(O)C=CCCCCCCCCCCCCCCCCCCCCCC)CCCCCCCCCCCCCC=CCCCCCCCCCCCCCC\n",
      "Pred SMILES: O=C(NC(COP(=O)([O-])OCC[N+](C)(C)C)C(O)C=CCCCCCCCCCCCCCCCCCCCCCC)CCCCCCCCCCCCCC=CCCCCCCCCCCCCCCC\n",
      "\n",
      "True SMILES: O=C(NC(COP(=O)([O-])OCC[N+](C)(C)C)C(O)C=CCCCCCCCCCCCCCCCCCCCCCC)CCCCCCCCCCCCCCCCCCCCCCCCCCCCC\n",
      "Pred SMILES: O=C(NC(COP(=O)([O-])OCC[N+](C)(C)C)C(O)C=CCCCCCCCCCCCCCCCCCCCCCC)CCCCCCCCCCCCCCCCCCCCCCCCCCCCC\n",
      "\n",
      "True SMILES: O=C(NC(COP(=O)([O-])OCC[N+](C)(C)C)C(O)C=CCCCCCCCCCCCCCCCCCCCCCC)CCCCCCCCCCCCC=CCCCCCCCCCCCCCC\n",
      "Pred SMILES: O=C(NC(COP(=O)([O-])OCC[N+](C)(C)C)C(O)C=CCCCCCCCCCCCCCCCCCCCCCC)CCCCCCCCCCCCC=CCCCCCCCCCCCCCC\n",
      "\n",
      "True SMILES: O=C(NC(COP(=O)([O-])OCC[N+](C)(C)C)C(O)C=CCCCCCCCCCCCCCCCCCCCCCC)CCCCCCCCCCCCCCCCCCCCCCCCCCCC\n",
      "Pred SMILES: O=C(NC(COP(=O)([O-])OCC[N+](C)(C)C)C(O)C=CCCCCCCCCCCCCCCCCCCCCCC)CCCCCCCCCCCCCCCCCCCCCCCCCCCC\n",
      "\n",
      "True SMILES: O=C(NC(COP(=O)([O-])OCC[N+](C)(C)C)C(O)C=CCCCCCCCCCCCCCCCCCCCCCC)CCCCCCCCCCCC=CCC=CCCCCCCCCCCC\n",
      "Pred SMILES: O=C(NC(COP(=O)([O-])OCC[N+](C)(C)C)C(O)C=CCCCCCCCCCCCCCCCCCCCCCC)CCCCCCCCCCCC=CCC=CCCCCCCCCCCC\n",
      "\n",
      "True SMILES: O=C(NC(COP(=O)([O-])OCC[N+](C)(C)C)C(O)C=CCCCCCCCCCCCCCCCCCCCCCC)CCCCCCCCCCCCCCCC\n",
      "Pred SMILES: O=C(NC(COP(=O)([O-])OCC[N+](C)(C)C)C(O)C=CCCCCCCCCCCCCCCCCCCCCCC)CCCCCCCCCCCCCCCC\n",
      "\n",
      "True SMILES: O=C(NC(COP(=O)([O-])OCC[N+](C)(C)C)C(O)C=CCCCCCCCCCCCCCCCCCCCCCC)CCC=CCC=CCCCCCCCC\n",
      "Pred SMILES: O=C(NC(COP(=O)([O-])OCC[N+](C)(C)C)C(O)C=CCCCCCCCCCCCCCCCCCCCCCC)CCC=CCC=CCCCCCCCC\n",
      "\n",
      "True SMILES: O=C(NC(COP(=O)([O-])OCC[N+](C)(C)C)C(O)C=CCCCCCCCCCCCCCCCCCCCCCC)CCCCCC=CCCCCCCCC\n",
      "Pred SMILES: O=C(NC(COP(=O)([O-])OCC[N+](C)(C)C)C(O)C=CCCCCCCCCCCCCCCCCCCCCCC)CCCCCC=CCCCCCCCC\n",
      "\n",
      "True SMILES: O=C(NC(COP(=O)([O-])OCC[N+](C)(C)C)C(O)C=CCCCCCCCCCCCCCCCCCCCCCC)CCCCCCCCCCCCCCC\n",
      "Pred SMILES: O=C(NC(COP(=O)([O-])OCC[N+](C)(C)C)C(O)C=CCCCCCCCCCCCCCCCCCCCCCC)CCCCCCCCCCCCCCC\n",
      "\n",
      "True SMILES: O=C(NC(COP(=O)([O-])OCC[N+](C)(C)C)C(O)C=CCCCCCCCCCCCCCCCCCCCCCC)CCCCCCCC=CCCCCC\n",
      "Pred SMILES: O=C(NC(COP(=O)([O-])OCC[N+](C)(C)C)C(O)C=CCCCCCCCCCCCCCCCCCCCCCC)CCCCCCCC=CCCCCC\n",
      "\n",
      "True SMILES: O=C(NC(COP(=O)([O-])OCC[N+](C)(C)C)C(O)CCCCCCCCCCCCCCCCCCCCCCCC)CCCCCCCCCCCCCCCC=CCCCCCCCCCCCCCC\n",
      "Pred SMILES: O=C(NC(COP(=O)([O-])OCC[N+](C)(C)C)C(O)CCCCCCCCCCCCCCCCCCCCCCCC)CCCCCCCCCCCCCCCC=CCCCCCCCCCCCCCCC\n",
      "\n",
      "True SMILES: O=C(NC(COP(=O)([O-])OCC[N+](C)(C)C)C(O)CCCCCCCCCCCCCCCCCCCCCCCC)CCCCCCCCCCCCCCCCCCCCCCCCCCCCCCC\n",
      "Pred SMILES: O=C(NC(COP(=O)([O-])OCC[N+](C)(C)C)C(O)CCCCCCCCCCCCCCCCCCCCCCCC)CCCCCCCCCCCCCCCCCCCCCCCCCCCCCCC\n",
      "\n",
      "True SMILES: O=C(NC(COP(=O)([O-])OCC[N+](C)(C)C)C(O)CCCCCCCCCCCCCCCCCCCCCCCC)CCCCCCCCCCCCCCC=CCCCCCCCCCCCCCC\n",
      "Pred SMILES: O=C(NC(COP(=O)([O-])OCC[N+](C)(C)C)C(O)CCCCCCCCCCCCCCCCCCCCCCCC)CCCCCCCCCCCCCCC=CCCCCCCCCCCCCCC\n",
      "\n",
      "True SMILES: O=C(NC(COP(=O)([O-])OCC[N+](C)(C)C)C(O)CCCCCCCCCCCCCCCCCCCCCCCC)CCCCCCCCCCCCCCCCCCCCCCCCCCCCCC\n",
      "Pred SMILES: O=C(NC(COP(=O)([O-])OCC[N+](C)(C)C)C(O)CCCCCCCCCCCCCCCCCCCCCCCC)CCCCCCCCCCCCCCCCCCCCCCCCCCCCCC\n",
      "\n",
      "True SMILES: O=C(NC(COP(=O)([O-])OCC[N+](C)(C)C)C(O)CCCCCCCCCCCCCCCCCCCCCCCC)CCCCCCCCCCCCCC=CCC=CCCCCCCCCCCC\n",
      "Pred SMILES: O=C(NC(COP(=O)([O-])OCC[N+](C)(C)C)C(O)CCCCCCCCCCCCCCCCCCCCCCCC)CCCCCCCCCCCCCC=CCC=CCCCCCCCCCCC\n",
      "\n",
      "True SMILES: O=C(NC(COP(=O)([O-])OCC[N+](C)(C)C)C(O)CCCCCCCCCCCCCCCCCCCCCCCC)CCCCCCCC=CCCCCCCCCC\n",
      "Pred SMILES: O=C(NC(COP(=O)([O-])OCC[N+](C)(C)C)C(O)CCCCCCCCCCCCCCCCCCCCCCCC)CCCCCCCC=CCCCCCCCCC\n",
      "\n",
      "True SMILES: O=C(NC(COP(=O)([O-])OCC[N+](C)(C)C)C(O)CCCCCCCCCCCCCCCCCCCCCCCC)CCCCCCCCCCCCCCCCCC\n",
      "Pred SMILES: O=C(NC(COP(=O)([O-])OCC[N+](C)(C)C)C(O)CCCCCCCCCCCCCCCCCCCCCCCC)CCCCCCCCCCCCCCCCCC\n",
      "\n",
      "True SMILES: O=C(NC(COP(=O)([O-])OCC[N+](C)(C)C)C(O)CCCCCCCCCCCCCCCCCCCCCCCC)CCCCCCCCC=CC=CCCCCC\n",
      "Pred SMILES: O=C(NC(COP(=O)([O-])OCC[N+](C)(C)C)C(O)CCCCCCCCCCCCCCCCCCCCCCCC)CCCCCCCCC=CC=CCCCCC\n",
      "\n",
      "True SMILES: O=C(NC(COP(=O)([O-])OCC[N+](C)(C)C)C(O)CCCCCCCCCCCCCCCCCCCCCCCC)CCCCCCCCCC=CCCCCCC\n",
      "Pred SMILES: O=C(NC(COP(=O)([O-])OCC[N+](C)(C)C)C(O)CCCCCCCCCCCCCCCCCCCCCCCC)CCCCCCCCCC=CCCCCCC\n",
      "\n",
      "True SMILES: O=C(NC(COP(=O)([O-])OCC[N+](C)(C)C)C(O)CCCCCCCCCCCCCCCCCCCCCCCC)CCCCCCCCCCCCCCCCC\n",
      "Pred SMILES: O=C(NC(COP(=O)([O-])OCC[N+](C)(C)C)C(O)CCCCCCCCCCCCCCCCCCCCCCCC)CCCCCCCCCCCCCCCCC\n",
      "\n",
      "True SMILES: O=C(NC(COP(=O)([O-])OCC[N+](C)(C)C)C(O)C=CCCC=CCCC=CCCCCCCCCCCCCC)CCCCCCCCCCCCCCCCCC=CCCCCCCCCCCCCCC\n",
      "Pred SMILES: O=C(NC(COP(=O)([O-])OCC[N+](C)(C)C)C(O)C=CCCC=CCCC=CCCCCCCCCCCCCC)CCCCCCCCCCCCCCCCCC=CCCCCCCCCCCCCCCC\n",
      "\n",
      "True SMILES: O=C(NC(COP(=O)([O-])OCC[N+](C)(C)C)C(O)C=CCCC=CCCC=CCCCCCCCCCCCCC)CCCCCCCCCCCCCCCCCCCCCCCCCCCCCCCCC\n",
      "Pred SMILES: O=C(NC(COP(=O)([O-])OCC[N+](C)(C)C)C(O)C=CCCC=CCCC=CCCCCCCCCCCCCC)CCCCCCCCCCCCCCCCCCCCCCCCCCCCCCCCC\n",
      "\n",
      "True SMILES: O=C(NC(COP(=O)([O-])OCC[N+](C)(C)C)C(O)C=CCCC=CCCC=CCCCCCCCCCCCCC)CCCCCCCCCCCCCCCCC=CCCCCCCCCCCCCCC\n",
      "Pred SMILES: O=C(NC(COP(=O)([O-])OCC[N+](C)(C)C)C(O)C=CCCC=CCCC=CCCCCCCCCCCCCC)CCCCCCCCCCCCCCCCC=CCCCCCCCCCCCCCC\n",
      "\n",
      "True SMILES: O=C(NC(COP(=O)([O-])OCC[N+](C)(C)C)C(O)C=CCCC=CCCC=CCCCCCCCCCCCCC)CCCCCCCCCCCCCCCCCCCCCCCCCCCCCCCC\n",
      "Pred SMILES: O=C(NC(COP(=O)([O-])OCC[N+](C)(C)C)C(O)C=CCCC=CCCC=CCCCCCCCCCCCCC)CCCCCCCCCCCCCCCCCCCCCCCCCCCCCCCC\n",
      "\n",
      "True SMILES: O=C(NC(COP(=O)([O-])OCC[N+](C)(C)C)C(O)C=CCCC=CCCC=CCCCCCCCCCCCCC)CCCCCCCCCCCCCCCC=CCC=CCCCCCCCCCCC\n",
      "Pred SMILES: O=C(NC(COP(=O)([O-])OCC[N+](C)(C)C)C(O)C=CCCC=CCCC=CCCCCCCCCCCCCC)CCCCCCCCCCCCCCCC=CCC=CCCCCCCCCCCC\n",
      "\n",
      "True SMILES: O=C(NC(COP(=O)([O-])OCC[N+](C)(C)C)C(O)C=CCCC=CCCC=CCCCCCCCCCCCCC)CCCCCCCC=CCCCCCCCCCCC\n",
      "Pred SMILES: O=C(NC(COP(=O)([O-])OCC[N+](C)(C)C)C(O)C=CCCC=CCCC=CCCCCCCCCCCCCC)CCCCCCCC=CCCCCCCCCCCC\n",
      "\n",
      "True SMILES: O=C(NC(COP(=O)([O-])OCC[N+](C)(C)C)C(O)C=CCCC=CCCC=CCCCCCCCCCCCCC)CCCCCCCCCCCCCCCCCCCC\n",
      "Pred SMILES: O=C(NC(COP(=O)([O-])OCC[N+](C)(C)C)C(O)C=CCCC=CCCC=CCCCCCCCCCCCCC)CCCCCCCCCCCCCCCCCCCC\n",
      "\n",
      "True SMILES: O=C(NC(COP(=O)([O-])OCC[N+](C)(C)C)C(O)C=CCCC=CCCC=CCCCCCCCCCCCCC)CCCCCCCCCC=CCC=CCCCCC\n",
      "Pred SMILES: O=C(NC(COP(=O)([O-])OCC[N+](C)(C)C)C(O)C=CCCC=CCCC=CCCCCCCCCCCCCC)CCCCCCCCCC=CCC=CCCCCC\n",
      "\n",
      "True SMILES: O=C(NC(COP(=O)([O-])OCC[N+](C)(C)C)C(O)C=CCCC=CCCC=CCCCCCCCCCCCCC)CCCCCCCCCC=CCCCCCCCC\n",
      "Pred SMILES: O=C(NC(COP(=O)([O-])OCC[N+](C)(C)C)C(O)C=CCCC=CCCC=CCCCCCCCCCCCCC)CCCCCCCCCC=CCCCCCCCC\n",
      "\n",
      "True SMILES: O=C(NC(COP(=O)([O-])OCC[N+](C)(C)C)C(O)C=CCCC=CCCC=CCCCCCCCCCCCCC)CCCCCCCCCCCCCCCCCCC\n",
      "Pred SMILES: O=C(NC(COP(=O)([O-])OCC[N+](C)(C)C)C(O)C=CCCC=CCCC=CCCCCCCCCCCCCC)CCCCCCCCCCCCCCCCCCC\n",
      "\n",
      "True SMILES: O=C(NC(COP(=O)([O-])OCC[N+](C)(C)C)C(O)C=CCCC=CCCCCCCCCCCCCCCCCC)CCCCCCCCCCCCCCCCCCCC=CCCCCCCCCCCCCCC\n",
      "Pred SMILES: O=C(NC(COP(=O)([O-])OCC[N+](C)(C)C)C(O)C=CCCC=CCCCCCCCCCCCCCCCCC)CCCCCCCCCCCCCCCCCCCC=CCCCCCCCCCCCCCCC\n",
      "\n",
      "True SMILES: O=C(NC(COP(=O)([O-])OCC[N+](C)(C)C)C(O)C=CCCC=CCCCCCCCCCCCCCCCCC)CCCCCCCCCCCCCCCCCCCCCCCCCCCCCCCCCCC\n",
      "Pred SMILES: O=C(NC(COP(=O)([O-])OCC[N+](C)(C)C)C(O)C=CCCC=CCCCCCCCCCCCCCCCCC)CCCCCCCCCCCCCCCCCCCCCCCCCCCCCCCCCCC\n",
      "\n",
      "True SMILES: O=C(NC(COP(=O)([O-])OCC[N+](C)(C)C)C(O)C=CCCC=CCCCCCCCCCCCCCCCCC)CCCCCCCCCCCCCCCCCCC=CCCCCCCCCCCCCCC\n",
      "Pred SMILES: O=C(NC(COP(=O)([O-])OCC[N+](C)(C)C)C(O)C=CCCC=CCCCCCCCCCCCCCCCCC)CCCCCCCCCCCCCCCCCCC=CCCCCCCCCCCCCCC\n",
      "\n",
      "True SMILES: O=C(NC(COP(=O)([O-])OCC[N+](C)(C)C)C(O)C=CCCC=CCCCCCCCCCCCCCCCCC)CCCCCCCCCCCCCCCCCCCCCCCCCCCCCCCCCC\n",
      "Pred SMILES: O=C(NC(COP(=O)([O-])OCC[N+](C)(C)C)C(O)C=CCCC=CCCCCCCCCCCCCCCCCC)CCCCCCCCCCCCCCCCCCCCCCCCCCCCCCCCCC\n",
      "\n",
      "True SMILES: O=C(NC(COP(=O)([O-])OCC[N+](C)(C)C)C(O)C=CCCC=CCCCCCCCCCCCCCCCCC)CCCCCCCCCCCCCCCCCC=CCC=CCCCCCCCCCCC\n",
      "Pred SMILES: O=C(NC(COP(=O)([O-])OCC[N+](C)(C)C)C(O)C=CCCC=CCCCCCCCCCCCCCCCCC)CCCCCCCCCCCCCCCCCC=CCC=CCCCCCCCCCCC\n",
      "\n",
      "True SMILES: O=C(NC(COP(=O)([O-])OCC[N+](C)(C)C)C(O)C=CCCC=CCCCCCCCCCCCCCCCCC)CCCCCCCCCC=CCCCCCCCCCCC\n",
      "Pred SMILES: O=C(NC(COP(=O)([O-])OCC[N+](C)(C)C)C(O)C=CCCC=CCCCCCCCCCCCCCCCCC)CCCCCCCCCC=CCCCCCCCCCCC\n",
      "\n",
      "True SMILES: O=C(NC(COP(=O)([O-])OCC[N+](C)(C)C)C(O)C=CCCC=CCCCCCCCCCCCCCCCCC)CCCCCCCCCCCCCCCCCCCCCC\n",
      "Pred SMILES: O=C(NC(COP(=O)([O-])OCC[N+](C)(C)C)C(O)C=CCCC=CCCCCCCCCCCCCCCCCC)CCCCCCCCCCCCCCCCCCCCCC\n",
      "\n",
      "True SMILES: O=C(NC(COP(=O)([O-])OCC[N+](C)(C)C)C(O)C=CCCC=CCCCCCCCCCCCCCCCCC)CCCCCCCCCCCCC=CC=CCCCCC\n",
      "Pred SMILES: O=C(NC(COP(=O)([O-])OCC[N+](C)(C)C)C(O)C=CCCC=CCCCCCCCCCCCCCCCCC)CCCCCCCCCCCCC=CC=CCCCCC\n",
      "\n",
      "True SMILES: O=C(NC(COP(=O)([O-])OCC[N+](C)(C)C)C(O)C=CCCC=CCCCCCCCCCCCCCCCCC)CCCCCCCCCC=CCCCCCCCCCC\n",
      "Pred SMILES: O=C(NC(COP(=O)([O-])OCC[N+](C)(C)C)C(O)C=CCCC=CCCCCCCCCCCCCCCCCC)CCCCCCCCCC=CCCCCCCCCCC\n",
      "\n",
      "True SMILES: O=C(NC(COP(=O)([O-])OCC[N+](C)(C)C)C(O)C=CCCC=CCCCCCCCCCCCCCCCCC)CCCCCCCCCCCCCCCCCCCCC\n",
      "Pred SMILES: O=C(NC(COP(=O)([O-])OCC[N+](C)(C)C)C(O)C=CCCC=CCCCCCCCCCCCCCCCCC)CCCCCCCCCCCCCCCCCCCCC\n",
      "\n",
      "True SMILES: O=C(NC(COP(=O)([O-])OCC[N+](C)(C)C)C(O)C=CCCCCCCCCCCCCCCCCCCCCC)CCCCCCCCCCCCCCCCCCCCCCCCCCCCCCCCCCCCCCC\n",
      "Pred SMILES: O=C(NC(COP(=O)([O-])OCC[N+](C)(C)C)C(O)C=CCCCCCCCCCCCCCCCCCCCCC)CCCCCCCCCCCCCCCCCCCCCCCCCCCCCCCCCCCCCCCC\n",
      "\n",
      "True SMILES: O=C(NC(COP(=O)([O-])OCC[N+](C)(C)C)C(O)C=CCCCCCCCCCCCCCCCCCCCCC)CCCCCCCCCCCCCCCCCCCC=CCC=CCCCCCCCCCCCCC\n",
      "Pred SMILES: O=C(NC(COP(=O)([O-])OCC[N+](C)(C)C)C(O)C=CCCCCCCCCCCCCCCCCCCCCC)CCCCCCCCCCCCCCCCCCCC=CCC=CCCCCCCCCCCCCCC\n",
      "\n",
      "True SMILES: O=C(NC(COP(=O)([O-])OCC[N+](C)(C)C)C(O)C=CCCCCCCCCCCCCCCCCCCCCC)CCCCCCCCCCCCCCCCCCCC=CCCCCCCCCCCCCCCCC\n",
      "Pred SMILES: O=C(NC(COP(=O)([O-])OCC[N+](C)(C)C)C(O)C=CCCCCCCCCCCCCCCCCCCCCC)CCCCCCCCCCCCCCCCCCCC=CCCCCCCCCCCCCCCCC\n",
      "\n",
      "True SMILES: O=C(NC(COP(=O)([O-])OCC[N+](C)(C)C)C(O)C=CCCCCCCCCCCCCCCCCCCCCC)CCCCCCCCCCCCCCCCCCCCCCCCCCCCCCCCCCCCC\n",
      "Pred SMILES: O=C(NC(COP(=O)([O-])OCC[N+](C)(C)C)C(O)C=CCCCCCCCCCCCCCCCCCCCCC)CCCCCCCCCCCCCCCCCCCCCCCCCCCCCCCCCCCCC\n",
      "\n",
      "True SMILES: O=C(NC(COP(=O)([O-])OCC[N+](C)(C)C)C(O)C=CCCCCCCCCCCCCCCCCCCCCC)CCCCCCCCCCCCCCCCCCCC=CCC=CCCCCCCCCCCC\n",
      "Pred SMILES: O=C(NC(COP(=O)([O-])OCC[N+](C)(C)C)C(O)C=CCCCCCCCCCCCCCCCCCCCCC)CCCCCCCCCCCCCCCCCCCC=CCC=CCCCCCCCCCCC\n",
      "\n",
      "True SMILES: O=C(NC(COP(=O)([O-])OCC[N+](C)(C)C)C(O)C=CCCCCCCCCCCCCCCCCCCCCC)CCCCCCCCCC=CCCCCCCCCCCCCC\n",
      "Pred SMILES: O=C(NC(COP(=O)([O-])OCC[N+](C)(C)C)C(O)C=CCCCCCCCCCCCCCCCCCCCCC)CCCCCCCCCC=CCCCCCCCCCCCCCC\n",
      "\n",
      "True SMILES: O=C(NC(COP(=O)([O-])OCC[N+](C)(C)C)C(O)C=CCCCCCCCCCCCCCCCCCCCCC)CCCCCCCCCCCCCCCCCCCCCCCC\n",
      "Pred SMILES: O=C(NC(COP(=O)([O-])OCC[N+](C)(C)C)C(O)C=CCCCCCCCCCCCCCCCCCCCCC)CCCCCCCCCCCCCCCCCCCCCCCC\n",
      "\n",
      "True SMILES: O=C(NC(COP(=O)([O-])OCC[N+](C)(C)C)C(O)C=CCCCCCCCCCCCCCCCCCCCCC)CCCCCCCCCCCCCCCCC=CCC=CCC\n",
      "Pred SMILES: O=C(NC(COP(=O)([O-])OCC[N+](C)(C)C)C(O)C=CCCCCCCCCCCCCCCCCCCCCC)CCCCCCCCCCCCCCCCC=CCC=CCCC\n",
      "\n",
      "True SMILES: O=C(NC(COP(=O)([O-])OCC[N+](C)(C)C)C(O)C=CCCCCCCCCCCCCCCCCCCCCC)CCCCCCCCCC=CCCCCCCCCCCCC\n",
      "Pred SMILES: O=C(NC(COP(=O)([O-])OCC[N+](C)(C)C)C(O)C=CCCCCCCCCCCCCCCCCCCCCC)CCCCCCCCCC=CCCCCCCCCCCCC\n",
      "\n",
      "True SMILES: O=C(NC(COP(=O)([O-])OCC[N+](C)(C)C)C(O)C=CCCCCCCCCCCCCCCCCCCCCC)CCCCCCCCCCCCCCCCCCCCCCC\n",
      "Pred SMILES: O=C(NC(COP(=O)([O-])OCC[N+](C)(C)C)C(O)C=CCCCCCCCCCCCCCCCCCCCCC)CCCCCCCCCCCCCCCCCCCCCCC\n",
      "\n",
      "True SMILES: O=C(NC(COP(=O)([O-])OCC[N+](C)(C)C)C(O)CCCCCCCCCCCCCCCCCCCCCCC)CCCCCCCCCCCCCCCCCCCC=CCC=CCCCCCCCCCCCCCCCCC\n",
      "Pred SMILES: O=C(NC(COP(=O)([O-])OCC[N+](C)(C)C)C(O)CCCCCCCCCCCCCCCCCCCCCCC)CCCCCCCCCCCCCCCCCCCC=CCC=CCCCCCCCCCCCCCCCCC\n",
      "\n",
      "True SMILES: O=C(NC(COP(=O)([O-])OCC[N+](C)(C)C)C(O)CCCCCCCCCCCCCCCCCCCCCCC)CCCCCCCCCCCCCCCCCCCC=CCCCCCCCCCCCCCCCCCCCC\n",
      "Pred SMILES: O=C(NC(COP(=O)([O-])OCC[N+](C)(C)C)C(O)CCCCCCCCCCCCCCCCCCCCCCC)CCCCCCCCCCCCCCCCCCCC=CCCCCCCCCCCCCCCCCCCCC\n",
      "\n",
      "True SMILES: O=C(NC(COP(=O)([O-])OCC[N+](C)(C)C)C(O)CCCCCCCCCCCCCCCCCCCCCCC)CCCCCCCCCCCCCCCCCCCCCCCCCCCCCCCCCCCCCCCCC\n",
      "Pred SMILES: O=C(NC(COP(=O)([O-])OCC[N+](C)(C)C)C(O)CCCCCCCCCCCCCCCCCCCCCCC)CCCCCCCCCCCCCCCCCCCCCCCCCCCCCCCCCCCCCCCCC\n",
      "\n",
      "True SMILES: O=C(NC(COP(=O)([O-])OCC[N+](C)(C)C)C(O)CCCCCCCCCCCCCCCCCCCCCCC)CCCCCCCCCCCCCCCCCCCC=CCC=CCCCCCCCCCCCCCCC\n",
      "Pred SMILES: O=C(NC(COP(=O)([O-])OCC[N+](C)(C)C)C(O)CCCCCCCCCCCCCCCCCCCCCCC)CCCCCCCCCCCCCCCCCCCC=CCC=CCCCCCCCCCCCCCCC\n",
      "\n",
      "True SMILES: O=C(NC(COP(=O)([O-])OCC[N+](C)(C)C)C(O)CCCCCCCCCCCCCCCCCCCCCCC)CCCCCCCCCCCCCCCCCCCC=CCCCCCCCCCCCCCCCCCC\n",
      "Pred SMILES: O=C(NC(COP(=O)([O-])OCC[N+](C)(C)C)C(O)CCCCCCCCCCCCCCCCCCCCCCC)CCCCCCCCCCCCCCCCCCCC=CCCCCCCCCCCCCCCCCCC\n",
      "\n",
      "True SMILES: O=C(NC(COP(=O)([O-])OCC[N+](C)(C)C)C(O)CCCCCCCCCCCCCCCCCCCCCCC)CCCCCCCCCCC=CCCCCCCCCCCCCCC\n",
      "Pred SMILES: O=C(NC(COP(=O)([O-])OCC[N+](C)(C)C)C(O)CCCCCCCCCCCCCCCCCCCCCCC)CCCCCCCCCCC=CCCCCCCCCCCCCCCC\n",
      "\n",
      "True SMILES: O=C(NC(COP(=O)([O-])OCC[N+](C)(C)C)C(O)CCCCCCCCCCCCCCCCCCCCCCC)CCCCCCCCCCCCCCCCCCCCCCCCCC\n",
      "Pred SMILES: O=C(NC(COP(=O)([O-])OCC[N+](C)(C)C)C(O)CCCCCCCCCCCCCCCCCCCCCCC)CCCCCCCCCCCCCCCCCCCCCCCCCCC\n",
      "\n",
      "True SMILES: O=C(NC(COP(=O)([O-])OCC[N+](C)(C)C)C(O)CCCCCCCCCCCCCCCCCCCCCCC)CCCCCCCCCC=CCC=CCCCCCCCCCCC\n",
      "Pred SMILES: O=C(NC(COP(=O)([O-])OCC[N+](C)(C)C)C(O)CCCCCCCCCCCCCCCCCCCCCCC)CCCCCCCCCC=CCC=CCCCCCCCCCCCC\n",
      "\n",
      "True SMILES: O=C(NC(COP(=O)([O-])OCC[N+](C)(C)C)C(O)CCCCCCCCCCCCCCCCCCCCCCC)CCCCCCCCCC=CCCCCCCCCCCCCCC\n",
      "Pred SMILES: O=C(NC(COP(=O)([O-])OCC[N+](C)(C)C)C(O)CCCCCCCCCCCCCCCCCCCCCCC)CCCCCCCCCC=CCCCCCCCCCCCCCCC\n",
      "\n",
      "True SMILES: O=C(NC(COP(=O)([O-])OCC[N+](C)(C)C)C(O)CCCCCCCCCCCCCCCCCCCCCCC)CCCCCCCCCCCCCCCCCCCCCCCCC\n",
      "Pred SMILES: O=C(NC(COP(=O)([O-])OCC[N+](C)(C)C)C(O)CCCCCCCCCCCCCCCCCCCCCCC)CCCCCCCCCCCCCCCCCCCCCCCCC\n",
      "\n",
      "True SMILES: O=C(NC(COP(=O)([O-])OCC[N+](C)(C)C)C(O)CCCCCCCCCCCCCCCCCCCCCCC)CCCCCCCCCCCCC\n",
      "Pred SMILES: O=C(NC(COP(=O)([O-])OCC[N+](C)(C)C)C(O)CCCCCCCCCCCCCCCCCCCCCCC)CCCCCCCCCCCCC\n",
      "\n",
      "True SMILES: O=C(NC(COP(=O)([O-])OCC[N+](C)(C)C)C(O)CCCCCCCCCCCCCCCCCCCCCCC)CCCCCCC=CCCCC\n",
      "Pred SMILES: O=C(NC(COP(=O)([O-])OCC[N+](C)(C)C)C(O)CCCCCCCCCCCCCCCCCCCCCCC)CCCCCCC=CCCCC\n",
      "\n",
      "True SMILES: O=C(NC(COP(=O)([O-])OCC[N+](C)(C)C)C(O)CCCCCCCCCCCCCCCCCCCCCCC)CCCCCCCCCCCC\n",
      "Pred SMILES: O=C(NC(COP(=O)([O-])OCC[N+](C)(C)C)C(O)CCCCCCCCCCCCCCCCCCCCCCC)CCCCCCCCCCCC\n",
      "\n",
      "True SMILES: O=C(NC(COP(=O)([O-])OCC[N+](C)(C)C)C(O)CCCCCCCCCCCCCCCCCCCCCCC)CCCC=CCCCCCC\n",
      "Pred SMILES: O=C(NC(COP(=O)([O-])OCC[N+](C)(C)C)C(O)CCCCCCCCCCCCCCCCCCCCCCC)CCCC=CCCCCCC\n",
      "\n",
      "True SMILES: O=C(NC(COP(=O)([O-])OCC[N+](C)(C)C)C(O)CCCCCCCCCCCCCCCCCCCCCCC)CCCCCCCCCCC\n",
      "Pred SMILES: O=C(NC(COP(=O)([O-])OCC[N+](C)(C)C)C(O)CCCCCCCCCCCCCCCCCCCCCCC)CCCCCCCCCCC\n",
      "\n",
      "True SMILES: O=C(NC(COP(=O)([O-])OCC[N+](C)(C)C)C(O)C=CCCC=CCCC=CCCCCCCCCCCCC)CCCCCCCCCCCCC=CCCCCCCCCCCCCCC\n",
      "Pred SMILES: O=C(NC(COP(=O)([O-])OCC[N+](C)(C)C)C(O)C=CCCC=CCCC=CCCCCCCCCCCCC)CCCCCCCCCCCCC=CCCCCCCCCCCCCCCC\n",
      "\n",
      "True SMILES: O=C(NC(COP(=O)([O-])OCC[N+](C)(C)C)C(O)C=CCCC=CCCC=CCCCCCCCCCCCC)CCCCCCCCCCCCCCCCCCCCCCCCCCCC\n",
      "Pred SMILES: O=C(NC(COP(=O)([O-])OCC[N+](C)(C)C)C(O)C=CCCC=CCCC=CCCCCCCCCCCCC)CCCCCCCCCCCCCCCCCCCCCCCCCCCC\n",
      "\n",
      "True SMILES: O=C(NC(COP(=O)([O-])OCC[N+](C)(C)C)C(O)C=CCCC=CCCC=CCCCCCCCCCCCC)CCCCCCCCCCCC=CCC=CCCCCCCCCCCC\n",
      "Pred SMILES: O=C(NC(COP(=O)([O-])OCC[N+](C)(C)C)C(O)C=CCCC=CCCC=CCCCCCCCCCCCC)CCCCCCCCCCCC=CCC=CCCCCCCCCCCCC\n",
      "\n",
      "True SMILES: O=C(NC(COP(=O)([O-])OCC[N+](C)(C)C)C(O)C=CCCC=CCCC=CCCCCCCCCCCCC)CCCCCCCCCCCC=CCCCCCCCCCCCCCC\n",
      "Pred SMILES: O=C(NC(COP(=O)([O-])OCC[N+](C)(C)C)C(O)C=CCCC=CCCC=CCCCCCCCCCCCC)CCCCCCCCCCCC=CCCCCCCCCCCCCCC\n",
      "\n",
      "True SMILES: O=C(NC(COP(=O)([O-])OCC[N+](C)(C)C)C(O)C=CCCC=CCCC=CCCCCCCCCCCCC)CCCCCCCCCCCCCCCCCCCCCCCCCCC\n",
      "Pred SMILES: O=C(NC(COP(=O)([O-])OCC[N+](C)(C)C)C(O)C=CCCC=CCCC=CCCCCCCCCCCCC)CCCCCCCCCCCCCCCCCCCCCCCCCCC\n",
      "\n",
      "True SMILES: O=C(NC(COP(=O)([O-])OCC[N+](C)(C)C)C(O)C=CCCC=CCCC=CCCCCCCCCCCCC)CCCCCC=CCCCCCCCC\n",
      "Pred SMILES: O=C(NC(COP(=O)([O-])OCC[N+](C)(C)C)C(O)C=CCCC=CCCC=CCCCCCCCCCCCC)CCCCCC=CCCCCCCCC\n",
      "\n",
      "True SMILES: O=C(NC(COP(=O)([O-])OCC[N+](C)(C)C)C(O)C=CCCC=CCCC=CCCCCCCCCCCCC)CCCCCCCCCCCCCCC\n",
      "Pred SMILES: O=C(NC(COP(=O)([O-])OCC[N+](C)(C)C)C(O)C=CCCC=CCCC=CCCCCCCCCCCCC)CCCCCCCCCCCCCCC\n",
      "\n",
      "True SMILES: O=C(NC(COP(=O)([O-])OCC[N+](C)(C)C)C(O)C=CCCC=CCCC=CCCCCCCCCCCCC)CCCCCCCC=CCCCCC\n",
      "Pred SMILES: O=C(NC(COP(=O)([O-])OCC[N+](C)(C)C)C(O)C=CCCC=CCCC=CCCCCCCCCCCCC)CCCCCCCC=CCCCCC\n",
      "\n",
      "True SMILES: O=C(NC(COP(=O)([O-])OCC[N+](C)(C)C)C(O)C=CCCC=CCCC=CCCCCCCCCCCCC)CCCCCCCCCCCCCC\n",
      "Pred SMILES: O=C(NC(COP(=O)([O-])OCC[N+](C)(C)C)C(O)C=CCCC=CCCC=CCCCCCCCCCCCC)CCCCCCCCCCCCCC\n",
      "\n",
      "True SMILES: O=C(NC(COP(=O)([O-])OCC[N+](C)(C)C)C(O)C=CCCC=CCCC=CCCCCCCCCCCCC)CCCCCCCC=CCCCC\n",
      "Pred SMILES: O=C(NC(COP(=O)([O-])OCC[N+](C)(C)C)C(O)C=CCCC=CCCC=CCCCCCCCCCCCC)CCCCCCCC=CCCCC\n",
      "\n",
      "True SMILES: O=C(NC(COP(=O)([O-])OCC[N+](C)(C)C)C(O)C=CCCC=CCCCCCCCCCCCCCCCC)CCCCCCCCCCCCCCC=CCCCCCCCCCCCCCC\n",
      "Pred SMILES: O=C(NC(COP(=O)([O-])OCC[N+](C)(C)C)C(O)C=CCCC=CCCCCCCCCCCCCCCCC)CCCCCCCCCCCCCCC=CCCCCCCCCCCCCCCC\n",
      "\n",
      "True SMILES: O=C(NC(COP(=O)([O-])OCC[N+](C)(C)C)C(O)C=CCCC=CCCCCCCCCCCCCCCCC)CCCCCCCCCCCCCCCCCCCCCCCCCCCCCC\n",
      "Pred SMILES: O=C(NC(COP(=O)([O-])OCC[N+](C)(C)C)C(O)C=CCCC=CCCCCCCCCCCCCCCCC)CCCCCCCCCCCCCCCCCCCCCCCCCCCCCC\n",
      "\n",
      "True SMILES: O=C(NC(COP(=O)([O-])OCC[N+](C)(C)C)C(O)C=CCCC=CCCCCCCCCCCCCCCCC)CCCCCCCCCCCCCC=CCC=CCCCCCCCCCCC\n",
      "Pred SMILES: O=C(NC(COP(=O)([O-])OCC[N+](C)(C)C)C(O)C=CCCC=CCCCCCCCCCCCCCCCC)CCCCCCCCCCCCCC=CCC=CCCCCCCCCCCCC\n",
      "\n",
      "True SMILES: O=C(NC(COP(=O)([O-])OCC[N+](C)(C)C)C(O)C=CCCC=CCCCCCCCCCCCCCCCC)CCCCCCCCCCCCCC=CCCCCCCCCCCCCCC\n",
      "Pred SMILES: O=C(NC(COP(=O)([O-])OCC[N+](C)(C)C)C(O)C=CCCC=CCCCCCCCCCCCCCCCC)CCCCCCCCCCCCCC=CCCCCCCCCCCCCCC\n",
      "\n",
      "True SMILES: O=C(NC(COP(=O)([O-])OCC[N+](C)(C)C)C(O)C=CCCC=CCCCCCCCCCCCCCCCC)CCCCCCCCCCCCCCCCCCCCCCCCCCCCC\n",
      "Pred SMILES: O=C(NC(COP(=O)([O-])OCC[N+](C)(C)C)C(O)C=CCCC=CCCCCCCCCCCCCCCCC)CCCCCCCCCCCCCCCCCCCCCCCCCCCCC\n",
      "\n",
      "True SMILES: O=C(NC(COP(=O)([O-])OCC[N+](C)(C)C)C(O)C=CCCC=CCCCCCCCCCCCCCCCC)CCCCCCCCC=CC=CCCCCC\n",
      "Pred SMILES: O=C(NC(COP(=O)([O-])OCC[N+](C)(C)C)C(O)C=CCCC=CCCCCCCCCCCCCCCCC)CCCCCCCCC=CC=CCCCCC\n",
      "\n",
      "True SMILES: O=C(NC(COP(=O)([O-])OCC[N+](C)(C)C)C(O)C=CCCC=CCCCCCCCCCCCCCCCC)CCCCCCCCCC=CCCCCCC\n",
      "Pred SMILES: O=C(NC(COP(=O)([O-])OCC[N+](C)(C)C)C(O)C=CCCC=CCCCCCCCCCCCCCCCC)CCCCCCCCCC=CCCCCCC\n",
      "\n",
      "True SMILES: O=C(NC(COP(=O)([O-])OCC[N+](C)(C)C)C(O)C=CCCC=CCCCCCCCCCCCCCCCC)CCCCCCCCCCCCCCCCC\n",
      "Pred SMILES: O=C(NC(COP(=O)([O-])OCC[N+](C)(C)C)C(O)C=CCCC=CCCCCCCCCCCCCCCCC)CCCCCCCCCCCCCCCCC\n",
      "\n",
      "True SMILES: O=C(NC(COP(=O)([O-])OCC[N+](C)(C)C)C(O)C=CCCC=CCCCCCCCCCCCCCCCC)CCCCCCCCCCCCCCCC\n",
      "Pred SMILES: O=C(NC(COP(=O)([O-])OCC[N+](C)(C)C)C(O)C=CCCC=CCCCCCCCCCCCCCCCC)CCCCCCCCCCCCCCCC\n",
      "\n",
      "True SMILES: O=C(NC(COP(=O)([O-])OCC[N+](C)(C)C)C(O)C=CCCC=CCCCCCCCCCCCCCCCC)CCC=CCC=CCCCCCCCC\n",
      "Pred SMILES: O=C(NC(COP(=O)([O-])OCC[N+](C)(C)C)C(O)C=CCCC=CCCCCCCCCCCCCCCCC)CCC=CCC=CCCCCCCCC\n",
      "\n",
      "True SMILES: O=C(NC(COP(=O)([O-])OCC[N+](C)(C)C)C(O)C=CCCCCCCCCCCCCCCCCCCCC)CCCCCCCCCCCCCCCCC=CCCCCCCCCCCCCCC\n",
      "Pred SMILES: O=C(NC(COP(=O)([O-])OCC[N+](C)(C)C)C(O)C=CCCCCCCCCCCCCCCCCCCCC)CCCCCCCCCCCCCCCCC=CCCCCCCCCCCCCCCC\n",
      "\n",
      "True SMILES: O=C(NC(COP(=O)([O-])OCC[N+](C)(C)C)C(O)C=CCCCCCCCCCCCCCCCCCCCC)CCCCCCCCCCCCCCCCCCCCCCCCCCCCCCCC\n",
      "Pred SMILES: O=C(NC(COP(=O)([O-])OCC[N+](C)(C)C)C(O)C=CCCCCCCCCCCCCCCCCCCCC)CCCCCCCCCCCCCCCCCCCCCCCCCCCCCCCC\n",
      "\n",
      "True SMILES: O=C(NC(COP(=O)([O-])OCC[N+](C)(C)C)C(O)C=CCCCCCCCCCCCCCCCCCCCC)CCCCCCCCCCCCCCCC=CCC=CCCCCCCCCCCC\n",
      "Pred SMILES: O=C(NC(COP(=O)([O-])OCC[N+](C)(C)C)C(O)C=CCCCCCCCCCCCCCCCCCCCC)CCCCCCCCCCCCCCCC=CCC=CCCCCCCCCCCCC\n",
      "\n",
      "True SMILES: O=C(NC(COP(=O)([O-])OCC[N+](C)(C)C)C(O)C=CCCCCCCCCCCCCCCCCCCCC)CCCCCCCCCCCCCCCC=CCCCCCCCCCCCCCC\n",
      "Pred SMILES: O=C(NC(COP(=O)([O-])OCC[N+](C)(C)C)C(O)C=CCCCCCCCCCCCCCCCCCCCC)CCCCCCCCCCCCCCCC=CCCCCCCCCCCCCCC\n",
      "\n",
      "True SMILES: O=C(NC(COP(=O)([O-])OCC[N+](C)(C)C)C(O)C=CCCCCCCCCCCCCCCCCCCCC)CCCCCCCCCCCCCCCCCCCCCCCCCCCCCCC\n",
      "Pred SMILES: O=C(NC(COP(=O)([O-])OCC[N+](C)(C)C)C(O)C=CCCCCCCCCCCCCCCCCCCCC)CCCCCCCCCCCCCCCCCCCCCCCCCCCCCCC\n",
      "\n",
      "True SMILES: O=C(NC(COP(=O)([O-])OCC[N+](C)(C)C)C(O)C=CCCCCCCCCCCCCCCCCCCCC)CCCCCCCCCC=CCC=CCCCCC\n",
      "Pred SMILES: O=C(NC(COP(=O)([O-])OCC[N+](C)(C)C)C(O)C=CCCCCCCCCCCCCCCCCCCCC)CCCCCCCCCC=CCC=CCCCCC\n",
      "\n",
      "True SMILES: CCCCCCCCCCCCCCCCCCCC\\C=C\\C(O)C(COP([O-])(=O)OCC[N+](C)(C)C)NC(=O)CCCCCCCCC\\C=C/CCCCCCCC\n",
      "Pred SMILES: CCCCCCCCCCCCCCCCCCCC\\C=C\\C(O)C(COP([O-])(=O)OCC[N+](C)(C)C)NC(=O)CCCCCCCCC\\C=C/CCCCCCCC\n",
      "\n",
      "True SMILES: O=C(NC(COP(=O)([O-])OCC[N+](C)(C)C)C(O)C=CCCCCCCCCCCCCCCCCCCCC)CCCCCCCCCCCCCCCCCCC\n",
      "Pred SMILES: O=C(NC(COP(=O)([O-])OCC[N+](C)(C)C)C(O)C=CCCCCCCCCCCCCCCCCCCCC)CCCCCCCCCCCCCCCCCCC\n",
      "\n",
      "True SMILES: O=C(NC(COP(=O)([O-])OCC[N+](C)(C)C)C(O)C=CCCCCCCCCCCCCCCCCCCCC)CCCCCCCC=CCCCCCCCCC\n",
      "Pred SMILES: O=C(NC(COP(=O)([O-])OCC[N+](C)(C)C)C(O)C=CCCCCCCCCCCCCCCCCCCCC)CCCCCCCC=CCCCCCCCCC\n",
      "\n",
      "True SMILES: O=C(NC(COP(=O)([O-])OCC[N+](C)(C)C)C(O)C=CCCCCCCCCCCCCCCCCCCCC)CCCCCCCCCCCCCCCCCC\n",
      "Pred SMILES: O=C(NC(COP(=O)([O-])OCC[N+](C)(C)C)C(O)C=CCCCCCCCCCCCCCCCCCCCC)CCCCCCCCCCCCCCCCCC\n",
      "\n",
      "True SMILES: O=C(NC(COP(=O)([O-])OCC[N+](C)(C)C)C(O)CCCCCCCCCCCCCCCCCCCCCC)CCCCCCCCCCCCCCCCCCC=CCCCCCCCCCCCCCC\n",
      "Pred SMILES: O=C(NC(COP(=O)([O-])OCC[N+](C)(C)C)C(O)CCCCCCCCCCCCCCCCCCCCCC)CCCCCCCCCCCCCCCCCCC=CCCCCCCCCCCCCCC\n",
      "\n",
      "True SMILES: O=C(NC(COP(=O)([O-])OCC[N+](C)(C)C)C(O)CCCCCCCCCCCCCCCCCCCCCC)CCCCCCCCCCCCCCCCCCCCCCCCCCCCCCCCCC\n",
      "Pred SMILES: O=C(NC(COP(=O)([O-])OCC[N+](C)(C)C)C(O)CCCCCCCCCCCCCCCCCCCCCC)CCCCCCCCCCCCCCCCCCCCCCCCCCCCCCCCCC\n",
      "\n",
      "True SMILES: O=C(NC(COP(=O)([O-])OCC[N+](C)(C)C)C(O)CCCCCCCCCCCCCCCCCCCCCC)CCCCCCCCCCCCCCCCCC=CCC=CCCCCCCCCCCC\n",
      "Pred SMILES: O=C(NC(COP(=O)([O-])OCC[N+](C)(C)C)C(O)CCCCCCCCCCCCCCCCCCCCCC)CCCCCCCCCCCCCCCCCC=CCC=CCCCCCCCCCCC\n",
      "\n",
      "True SMILES: O=C(NC(COP(=O)([O-])OCC[N+](C)(C)C)C(O)CCCCCCCCCCCCCCCCCCCCCC)CCCCCCCCCCCCCCCCCC=CCCCCCCCCCCCCCC\n",
      "Pred SMILES: O=C(NC(COP(=O)([O-])OCC[N+](C)(C)C)C(O)CCCCCCCCCCCCCCCCCCCCCC)CCCCCCCCCCCCCCCCCC=CCCCCCCCCCCCCCC\n",
      "\n",
      "True SMILES: O=C(NC(COP(=O)([O-])OCC[N+](C)(C)C)C(O)CCCCCCCCCCCCCCCCCCCCCC)CCCCCCCCCCCCCCCCCCCCCCCCCCCCCCCCC\n",
      "Pred SMILES: O=C(NC(COP(=O)([O-])OCC[N+](C)(C)C)C(O)CCCCCCCCCCCCCCCCCCCCCC)CCCCCCCCCCCCCCCCCCCCCCCCCCCCCCCCC\n",
      "\n",
      "True SMILES: O=C(NC(COP(=O)([O-])OCC[N+](C)(C)C)C(O)CCCCCCCCCCCCCCCCCCCCCC)CCCCCCCCCCCCC=CC=CCCCCC\n",
      "Pred SMILES: O=C(NC(COP(=O)([O-])OCC[N+](C)(C)C)C(O)CCCCCCCCCCCCCCCCCCCCCC)CCCCCCCCCCCCC=CC=CCCCCC\n",
      "\n",
      "True SMILES: O=C(NC(COP(=O)([O-])OCC[N+](C)(C)C)C(O)CCCCCCCCCCCCCCCCCCCCCC)CCCCCCCCCC=CCCCCCCCCCC\n",
      "Pred SMILES: O=C(NC(COP(=O)([O-])OCC[N+](C)(C)C)C(O)CCCCCCCCCCCCCCCCCCCCCC)CCCCCCCCCC=CCCCCCCCCCC\n",
      "\n",
      "True SMILES: O=C(NC(COP(=O)([O-])OCC[N+](C)(C)C)C(O)CCCCCCCCCCCCCCCCCCCCCC)CCCCCCCCCCCCCCCCCCCCC\n",
      "Pred SMILES: O=C(NC(COP(=O)([O-])OCC[N+](C)(C)C)C(O)CCCCCCCCCCCCCCCCCCCCCC)CCCCCCCCCCCCCCCCCCCCCC\n",
      "\n",
      "True SMILES: O=C(NC(COP(=O)([O-])OCC[N+](C)(C)C)C(O)CCCCCCCCCCCCCCCCCCCCCC)CCCCCCCC=CCCCCCCCCCCC\n",
      "Pred SMILES: O=C(NC(COP(=O)([O-])OCC[N+](C)(C)C)C(O)CCCCCCCCCCCCCCCCCCCCCC)CCCCCCCC=CCCCCCCCCCCCC\n",
      "\n",
      "True SMILES: O=C(NC(COP(=O)([O-])OCC[N+](C)(C)C)C(O)CCCCCCCCCCCCCCCCCCCCCC)CCCCCCCCCCCCCCCCCCCC\n",
      "Pred SMILES: O=C(NC(COP(=O)([O-])OCC[N+](C)(C)C)C(O)CCCCCCCCCCCCCCCCCCCCCC)CCCCCCCCCCCCCCCCCCCC\n",
      "\n",
      "True SMILES: O=C(NC(COP(=O)([O-])OCC[N+](C)(C)C)C(O)C=CCCC=CCCC=CCCCCCCCCCCC)CCCCCCCCCCCCCCCCCCCC=CCCCCCCCCCCCCCCCC\n",
      "Pred SMILES: O=C(NC(COP(=O)([O-])OCC[N+](C)(C)C)C(O)C=CCCC=CCCC=CCCCCCCCCCCC)CCCCCCCCCCCCCCCCCCCC=CCCCCCCCCCCCCCCCCC\n",
      "\n",
      "True SMILES: O=C(NC(COP(=O)([O-])OCC[N+](C)(C)C)C(O)C=CCCC=CCCC=CCCCCCCCCCCC)CCCCCCCCCCCCCCCCCCCCCCCCCCCCCCCCCCCCC\n",
      "Pred SMILES: O=C(NC(COP(=O)([O-])OCC[N+](C)(C)C)C(O)C=CCCC=CCCC=CCCCCCCCCCCC)CCCCCCCCCCCCCCCCCCCCCCCCCCCCCCCCCCCCC\n",
      "\n",
      "True SMILES: O=C(NC(COP(=O)([O-])OCC[N+](C)(C)C)C(O)C=CCCC=CCCC=CCCCCCCCCCCC)CCCCCCCCCCCCCCCCCCCC=CCC=CCCCCCCCCCCC\n",
      "Pred SMILES: O=C(NC(COP(=O)([O-])OCC[N+](C)(C)C)C(O)C=CCCC=CCCC=CCCCCCCCCCCC)CCCCCCCCCCCCCCCCCCCC=CCC=CCCCCCCCCCCC\n",
      "\n",
      "True SMILES: O=C(NC(COP(=O)([O-])OCC[N+](C)(C)C)C(O)C=CCCC=CCCC=CCCCCCCCCCCC)CCCCCCCCCCCCCCCCCCCC=CCCCCCCCCCCCCCC\n",
      "Pred SMILES: O=C(NC(COP(=O)([O-])OCC[N+](C)(C)C)C(O)C=CCCC=CCCC=CCCCCCCCCCCC)CCCCCCCCCCCCCCCCCCCC=CCCCCCCCCCCCCCC\n",
      "\n",
      "True SMILES: O=C(NC(COP(=O)([O-])OCC[N+](C)(C)C)C(O)C=CCCC=CCCC=CCCCCCCCCCCC)CCCCCCCCCCCCCCCCCCCCCCCCCCCCCCCCCCC\n",
      "Pred SMILES: O=C(NC(COP(=O)([O-])OCC[N+](C)(C)C)C(O)C=CCCC=CCCC=CCCCCCCCCCCC)CCCCCCCCCCCCCCCCCCCCCCCCCCCCCCCCCCC\n",
      "\n",
      "True SMILES: O=C(NC(COP(=O)([O-])OCC[N+](C)(C)C)C(O)C=CCCC=CCCC=CCCCCCCCCCCC)CCCCCCCCCCCCCCCCC=CCC=CCC\n",
      "Pred SMILES: O=C(NC(COP(=O)([O-])OCC[N+](C)(C)C)C(O)C=CCCC=CCCC=CCCCCCCCCCCC)CCCCCCCCCCCCCCCCC=CCC=CCC\n",
      "\n",
      "True SMILES: O=C(NC(COP(=O)([O-])OCC[N+](C)(C)C)C(O)C=CCCC=CCCC=CCCCCCCCCCCC)CCCCCCCCCC=CCCCCCCCCCCCC\n",
      "Pred SMILES: O=C(NC(COP(=O)([O-])OCC[N+](C)(C)C)C(O)C=CCCC=CCCC=CCCCCCCCCCCC)CCCCCCCCCC=CCCCCCCCCCCCC\n",
      "\n",
      "True SMILES: O=C(NC(COP(=O)([O-])OCC[N+](C)(C)C)C(O)C=CCCC=CCCC=CCCCCCCCCCCC)CCCCCCCCCCCCCCCCCCCCCCC\n",
      "Pred SMILES: O=C(NC(COP(=O)([O-])OCC[N+](C)(C)C)C(O)C=CCCC=CCCC=CCCCCCCCCCCC)CCCCCCCCCCCCCCCCCCCCCCC\n",
      "\n",
      "True SMILES: O=C(NC(COP(=O)([O-])OCC[N+](C)(C)C)C(O)C=CCCC=CCCC=CCCCCCCCCCCC)CCCCCCCCCC=CCCCCCCCCCCC\n",
      "Pred SMILES: O=C(NC(COP(=O)([O-])OCC[N+](C)(C)C)C(O)C=CCCC=CCCC=CCCCCCCCCCCC)CCCCCCCCCC=CCCCCCCCCCCC\n",
      "\n",
      "True SMILES: CCCCCCCCCCCCCCCCCCCCCCC(=O)NC(COP([O-])(=O)OCC[N+](C)(C)C)C(O)\\C=C\\CC\\C=C\\CC\\C=C\\CCCCCCCCCCC\n",
      "Pred SMILES: CCCCCCCCCCCCCCCCCCCCCCC(=O)NC(COP([O-])(=O)OCC[N+](C)(C)C)C(O)\\C=C\\CC\\C=C\\CC\\C=C\\CCCCCCCCCCC\n",
      "\n",
      "True SMILES: O=C(NC(COP(=O)([O-])OCC[N+](C)(C)C)C(O)C=CCCC=CCCCCCCCCCCCCCCC)CCCCCCCCCCCCCCCCCCCCCCCCCCCCCCCCCCCCCCCCC\n",
      "Pred SMILES: O=C(NC(COP(=O)([O-])OCC[N+](C)(C)C)C(O)C=CCCC=CCCCCCCCCCCCCCCC)CCCCCCCCCCCCCCCCCCCCCCCCCCCCCCCCCCCCCCCCCCC\n",
      "\n",
      "True SMILES: CCCCCCCCCCCCCCC\\C=C\\CC\\C=C\\C(O)C(COP([O-])(=O)OCC[N+](C)(C)C)NC(=O)CCCCCCCCCCCCCCCCCCC\\C=C/C\\C=C/CCCCCCCCCCCCCCC\n",
      "Pred SMILES: CCCCCCCCCCCCCCC\\C=C\\CC\\C=C\\C(O)C(COP([O-])(=O)OCC[N+](C)(C)C)NC(=O)CCCCCCCCCCCCCCCCCCC\\C=C/C\\C=C/CCCCCCCCCCCCCCCC\n",
      "\n",
      "True SMILES: O=C(NC(COP(=O)([O-])OCC[N+](C)(C)C)C(O)C=CCCC=CCCCCCCCCCCCCCCC)CCCCCCCCCCCCCCCCCCCC=CCCCCCCCCCCCCCCCCCC\n",
      "Pred SMILES: O=C(NC(COP(=O)([O-])OCC[N+](C)(C)C)C(O)C=CCCC=CCCCCCCCCCCCCCCC)CCCCCCCCCCCCCCCCCCCC=CCCCCCCCCCCCCCCCCCCC\n",
      "\n",
      "True SMILES: O=C(NC(COP(=O)([O-])OCC[N+](C)(C)C)C(O)C=CCCC=CCCCCCCCCCCCCCCC)CCCCCCCCCCCCCCCCCCCCCCCCCCCCCCCCCCCCCCC\n",
      "Pred SMILES: O=C(NC(COP(=O)([O-])OCC[N+](C)(C)C)C(O)C=CCCC=CCCCCCCCCCCCCCCC)CCCCCCCCCCCCCCCCCCCCCCCCCCCCCCCCCCCCCCC\n",
      "\n",
      "True SMILES: O=C(NC(COP(=O)([O-])OCC[N+](C)(C)C)C(O)C=CCCC=CCCCCCCCCCCCCCCC)CCCCCCCCCCCCCCCCCCCC=CCC=CCCCCCCCCCCCCC\n",
      "Pred SMILES: O=C(NC(COP(=O)([O-])OCC[N+](C)(C)C)C(O)C=CCCC=CCCCCCCCCCCCCCCC)CCCCCCCCCCCCCCCCCCCC=CCC=CCCCCCCCCCCCCC\n",
      "\n",
      "True SMILES: CCCCCCCCCCCCCCC\\C=C\\CC\\C=C\\C(O)C(COP([O-])(=O)OCC[N+](C)(C)C)NC(=O)CCCCCCCCC\\C=C/C\\C=C/CCCCCCCCCCC\n",
      "Pred SMILES: CCCCCCCCCCCCCCC\\C=C\\CC\\C=C\\C(O)C(COP([O-])(=O)OCC[N+](C)(C)C)NC(=O)CCCCCCCCC\\C=C/C\\C=C/CCCCCCCCCCCC\n",
      "\n",
      "True SMILES: O=C(NC(COP(=O)([O-])OCC[N+](C)(C)C)C(O)C=CCCC=CCCCCCCCCCCCCCCC)CCCCCCCCCC=CCCCCCCCCCCCCCC\n",
      "Pred SMILES: O=C(NC(COP(=O)([O-])OCC[N+](C)(C)C)C(O)C=CCCC=CCCCCCCCCCCCCCCC)CCCCCCCCCC=CCCCCCCCCCCCCCC\n",
      "\n",
      "True SMILES: O=C(NC(COP(=O)([O-])OCC[N+](C)(C)C)C(O)C=CCCC=CCCCCCCCCCCCCCCC)CCCCCCCCCCCCCCCCCCCCCCCCC\n",
      "Pred SMILES: O=C(NC(COP(=O)([O-])OCC[N+](C)(C)C)C(O)C=CCCC=CCCCCCCCCCCCCCCC)CCCCCCCCCCCCCCCCCCCCCCCCC\n",
      "\n",
      "True SMILES: O=C(NC(COP(=O)([O-])OCC[N+](C)(C)C)C(O)C=CCCC=CCCCCCCCCCCCCCCC)CCCCCCCCCC=CCCCCCCCCCCCCC\n",
      "Pred SMILES: O=C(NC(COP(=O)([O-])OCC[N+](C)(C)C)C(O)C=CCCC=CCCCCCCCCCCCCCCC)CCCCCCCCCC=CCCCCCCCCCCCCC\n",
      "\n",
      "True SMILES: O=C(NC(COP(=O)([O-])OCC[N+](C)(C)C)C(O)C=CCCC=CCCCCCCCCCCCCCCC)CCCCCCCCCCCCCCCCCCCCCCCC\n",
      "Pred SMILES: O=C(NC(COP(=O)([O-])OCC[N+](C)(C)C)C(O)C=CCCC=CCCCCCCCCCCCCCCC)CCCCCCCCCCCCCCCCCCCCCCCC\n",
      "\n",
      "True SMILES: CCCCCCCCCCCCCCC\\C=C\\CC\\C=C\\C(O)C(COP([O-])(=O)OCC[N+](C)(C)C)NC(=O)CCCCCCCCCCCC\n",
      "Pred SMILES: CCCCCCCCCCCCCCC\\C=C\\CC\\C=C\\C(O)C(COP([O-])(=O)OCC[N+](C)(C)C)NC(=O)CCCCCCCCCCCC\n",
      "\n",
      "True SMILES: O=C(NC(COP(=O)([O-])OCC[N+](C)(C)C)C(O)C=CCCC=CCCCCCCCCCCCCCCC)CCCC=CCCCCCC\n",
      "Pred SMILES: O=C(NC(COP(=O)([O-])OCC[N+](C)(C)C)C(O)C=CCCC=CCCCCCCCCCCCCCCC)CCCC=CCCCCCC\n",
      "\n",
      "True SMILES: O=C(NC(COP(=O)([O-])OCC[N+](C)(C)C)C(O)C=CCCC=CCCCCCCCCCCCCCCC)CCCCCCCCCCC\n",
      "Pred SMILES: O=C(NC(COP(=O)([O-])OCC[N+](C)(C)C)C(O)C=CCCC=CCCCCCCCCCCCCCCC)CCCCCCCCCCC\n",
      "\n",
      "True SMILES: O=C(NC(COP(=O)([O-])OCC[N+](C)(C)C)C(O)C=CCCCCCCCCCCCCCCCCCCC)CCCCCCCCCCCCCCCCCCCC=CCC=CCCCCCCCCCCCCCCCCC\n",
      "Pred SMILES: O=C(NC(COP(=O)([O-])OCC[N+](C)(C)C)C(O)C=CCCCCCCCCCCCCCCCCCCC)CCCCCCCCCCCCCCCCCCCC=CCC=CCCCCCCCCCCCCCCCCCC\n",
      "\n",
      "True SMILES: O=C(NC(COP(=O)([O-])OCC[N+](C)(C)C)C(O)C=CCCCCCCCCCCCCCCCCCCC)CCCCCCCCCCCCCCCCCCCC=CCCCCCCCCCCCCCCCCCCCC\n",
      "Pred SMILES: O=C(NC(COP(=O)([O-])OCC[N+](C)(C)C)C(O)C=CCCCCCCCCCCCCCCCCCCC)CCCCCCCCCCCCCCCCCCCC=CCCCCCCCCCCCCCCCCCCCC\n",
      "\n",
      "True SMILES: O=C(NC(COP(=O)([O-])OCC[N+](C)(C)C)C(O)C=CCCCCCCCCCCCCCCCCCCC)CCCCCCCCCCCC=CCC=CCCCCCCCCCCC\n",
      "Pred SMILES: O=C(NC(COP(=O)([O-])OCC[N+](C)(C)C)C(O)C=CCCCCCCCCCCCCCCCCCCC)CCCCCCCCCCCC=CCC=CCCCCCCCCCCCC\n",
      "\n",
      "True SMILES: O=C(NC(COP(=O)([O-])OCC[N+](C)(C)C)C(O)C=CCCCCCCCCCCCCCCCCCCC)CCCCCCCCCCCC=CCCCCCCCCCCCCCC\n",
      "Pred SMILES: O=C(NC(COP(=O)([O-])OCC[N+](C)(C)C)C(O)C=CCCCCCCCCCCCCCCCCCCC)CCCCCCCCCCCC=CCCCCCCCCCCCCCC\n",
      "\n",
      "True SMILES: O=C(NC(COP(=O)([O-])OCC[N+](C)(C)C)C(O)C=CCCCCCCCCCCCCCCCCCCC)CCCCCCCCCCCCCCCCCCCCCCCCCCC\n",
      "Pred SMILES: O=C(NC(COP(=O)([O-])OCC[N+](C)(C)C)C(O)C=CCCCCCCCCCCCCCCCCCCC)CCCCCCCCCCCCCCCCCCCCCCCCCCC\n",
      "\n",
      "True SMILES: O=C(NC(COP(=O)([O-])OCC[N+](C)(C)C)C(O)C=CCCCCCCCCCCCCCCCCCCC)CCCCCCCCCCC=CCCCCCCCCCCCCCC\n",
      "Pred SMILES: O=C(NC(COP(=O)([O-])OCC[N+](C)(C)C)C(O)C=CCCCCCCCCCCCCCCCCCCC)CCCCCCCCCCC=CCCCCCCCCCCCCCC\n",
      "\n",
      "True SMILES: O=C(NC(COP(=O)([O-])OCC[N+](C)(C)C)C(O)C=CCCCCCCCCCCCCCCCCCCC)CCCCCCCCCCCCCCCCCCCCCCCCCC\n",
      "Pred SMILES: O=C(NC(COP(=O)([O-])OCC[N+](C)(C)C)C(O)C=CCCCCCCCCCCCCCCCCCCC)CCCCCCCCCCCCCCCCCCCCCCCCCC\n",
      "\n",
      "True SMILES: O=C(NC(COP(=O)([O-])OCC[N+](C)(C)C)C(O)C=CCCCCCCCCCCCCCCCCCCC)CCCCCCCC=CCCCCC\n",
      "Pred SMILES: O=C(NC(COP(=O)([O-])OCC[N+](C)(C)C)C(O)C=CCCCCCCCCCCCCCCCCCCC)CCCCCCCC=CCCCCC\n",
      "\n",
      "True SMILES: O=C(NC(COP(=O)([O-])OCC[N+](C)(C)C)C(O)C=CCCCCCCCCCCCCCCCCCCC)CCCCCCCCCCCCCC\n",
      "Pred SMILES: O=C(NC(COP(=O)([O-])OCC[N+](C)(C)C)C(O)C=CCCCCCCCCCCCCCCCCCCC)CCCCCCCCCCCCCC\n",
      "\n",
      "True SMILES: O=C(NC(COP(=O)([O-])OCC[N+](C)(C)C)C(O)C=CCCCCCCCCCCCCCCCCCCC)CCCCCCCC=CCCCC\n",
      "Pred SMILES: O=C(NC(COP(=O)([O-])OCC[N+](C)(C)C)C(O)C=CCCCCCCCCCCCCCCCCCCC)CCCCCCCC=CCCCC\n",
      "\n",
      "True SMILES: O=C(NC(COP(=O)([O-])OCC[N+](C)(C)C)C(O)C=CCCCCCCCCCCCCCCCCCCC)CCCCCCCCCCCCC\n",
      "Pred SMILES: O=C(NC(COP(=O)([O-])OCC[N+](C)(C)C)C(O)C=CCCCCCCCCCCCCCCCCCCC)CCCCCCCCCCCCC\n",
      "\n",
      "True SMILES: O=C(NC(COP(=O)([O-])OCC[N+](C)(C)C)C(O)C=CCCCCCCCCCCCCCCCCCCC)CCCCCCC=CCCCC\n",
      "Pred SMILES: O=C(NC(COP(=O)([O-])OCC[N+](C)(C)C)C(O)C=CCCCCCCCCCCCCCCCCCCC)CCCCCCC=CCCCC\n",
      "\n",
      "True SMILES: O=C(NC(COP(=O)([O-])OCC[N+](C)(C)C)C(O)CCCCCCCCCCCCCCCCCCCCC)CCCCCCCCCCCCCC=CCC=CCCCCCCCCCCC\n",
      "Pred SMILES: O=C(NC(COP(=O)([O-])OCC[N+](C)(C)C)C(O)CCCCCCCCCCCCCCCCCCCCC)CCCCCCCCCCCCCC=CCC=CCCCCCCCCCCCC\n",
      "\n",
      "True SMILES: O=C(NC(COP(=O)([O-])OCC[N+](C)(C)C)C(O)CCCCCCCCCCCCCCCCCCCCC)CCCCCCCCCCCCCC=CCCCCCCCCCCCCCC\n",
      "Pred SMILES: O=C(NC(COP(=O)([O-])OCC[N+](C)(C)C)C(O)CCCCCCCCCCCCCCCCCCCCC)CCCCCCCCCCCCCC=CCCCCCCCCCCCCCC\n",
      "\n",
      "True SMILES: O=C(NC(COP(=O)([O-])OCC[N+](C)(C)C)C(O)CCCCCCCCCCCCCCCCCCCCC)CCCCCCCCCCCCCCCCCCCCCCCCCCCCC\n",
      "Pred SMILES: O=C(NC(COP(=O)([O-])OCC[N+](C)(C)C)C(O)CCCCCCCCCCCCCCCCCCCCC)CCCCCCCCCCCCCCCCCCCCCCCCCCCCC\n",
      "\n",
      "True SMILES: O=C(NC(COP(=O)([O-])OCC[N+](C)(C)C)C(O)CCCCCCCCCCCCCCCCCCCCC)CCCCCCCCCCCCC=CCCCCCCCCCCCCCC\n",
      "Pred SMILES: O=C(NC(COP(=O)([O-])OCC[N+](C)(C)C)C(O)CCCCCCCCCCCCCCCCCCCCC)CCCCCCCCCCCCC=CCCCCCCCCCCCCCC\n",
      "\n",
      "True SMILES: O=C(NC(COP(=O)([O-])OCC[N+](C)(C)C)C(O)CCCCCCCCCCCCCCCCCCCCC)CCCCCCCCCCCCCCCCCCCCCCCCCCCC\n",
      "Pred SMILES: O=C(NC(COP(=O)([O-])OCC[N+](C)(C)C)C(O)CCCCCCCCCCCCCCCCCCCCC)CCCCCCCCCCCCCCCCCCCCCCCCCCCC\n",
      "\n",
      "True SMILES: O=C(NC(COP(=O)([O-])OCC[N+](C)(C)C)C(O)CCCCCCCCCCCCCCCCCCCCC)CCCCCCCCCCCCCCCCC\n",
      "Pred SMILES: O=C(NC(COP(=O)([O-])OCC[N+](C)(C)C)C(O)CCCCCCCCCCCCCCCCCCCCC)CCCCCCCCCCCCCCCCC\n",
      "\n",
      "True SMILES: O=C(NC(COP(=O)([O-])OCC[N+](C)(C)C)C(O)CCCCCCCCCCCCCCCCCCCCC)CCCCCCCCCCCCCCCC\n",
      "Pred SMILES: O=C(NC(COP(=O)([O-])OCC[N+](C)(C)C)C(O)CCCCCCCCCCCCCCCCCCCCC)CCCCCCCCCCCCCCCC\n",
      "\n",
      "True SMILES: O=C(NC(COP(=O)([O-])OCC[N+](C)(C)C)C(O)CCCCCCCCCCCCCCCCCCCCC)CCC=CCC=CCCCCCCCC\n",
      "Pred SMILES: O=C(NC(COP(=O)([O-])OCC[N+](C)(C)C)C(O)CCCCCCCCCCCCCCCCCCCCC)CCC=CCC=CCCCCCCCC\n",
      "\n",
      "True SMILES: O=C(NC(COP(=O)([O-])OCC[N+](C)(C)C)C(O)CCCCCCCCCCCCCCCCCCCCC)CCCCCC=CCCCCCCCC\n",
      "Pred SMILES: O=C(NC(COP(=O)([O-])OCC[N+](C)(C)C)C(O)CCCCCCCCCCCCCCCCCCCCC)CCCCCC=CCCCCCCCC\n",
      "\n",
      "True SMILES: O=C(NC(COP(=O)([O-])OCC[N+](C)(C)C)C(O)CCCCCCCCCCCCCCCCCCCCC)CCCCCCCCCCCCCCC\n",
      "Pred SMILES: O=C(NC(COP(=O)([O-])OCC[N+](C)(C)C)C(O)CCCCCCCCCCCCCCCCCCCCC)CCCCCCCCCCCCCCC\n",
      "\n",
      "True SMILES: O=C(NC(COP(=O)([O-])OCC[N+](C)(C)C)C(O)C=CCCC=CCCC=CCCCCCCCCCC)CCCCCCCCCCCCCCCC=CCC=CCCCCCCCCCCC\n",
      "Pred SMILES: O=C(NC(COP(=O)([O-])OCC[N+](C)(C)C)C(O)C=CCCC=CCCC=CCCCCCCCCCC)CCCCCCCCCCCCCCCC=CCC=CCCCCCCCCCCC\n",
      "\n",
      "True SMILES: O=C(NC(COP(=O)([O-])OCC[N+](C)(C)C)C(O)C=CCCC=CCCC=CCCCCCCCCCC)CCCCCCCCCCCCCCCC=CCCCCCCCCCCCCCC\n",
      "Pred SMILES: O=C(NC(COP(=O)([O-])OCC[N+](C)(C)C)C(O)C=CCCC=CCCC=CCCCCCCCCCC)CCCCCCCCCCCCCCCC=CCCCCCCCCCCCCCC\n",
      "\n",
      "True SMILES: O=C(NC(COP(=O)([O-])OCC[N+](C)(C)C)C(O)C=CCCC=CCCC=CCCCCCCCCCC)CCCCCCCCCCCCCCCCCCCCCCCCCCCCCCC\n",
      "Pred SMILES: O=C(NC(COP(=O)([O-])OCC[N+](C)(C)C)C(O)C=CCCC=CCCC=CCCCCCCCCCC)CCCCCCCCCCCCCCCCCCCCCCCCCCCCCCC\n",
      "\n",
      "True SMILES: O=C(NC(COP(=O)([O-])OCC[N+](C)(C)C)C(O)C=CCCC=CCCC=CCCCCCCCCCC)CCCCCCCCCCCCCCC=CCCCCCCCCCCCCCC\n",
      "Pred SMILES: O=C(NC(COP(=O)([O-])OCC[N+](C)(C)C)C(O)C=CCCC=CCCC=CCCCCCCCCCC)CCCCCCCCCCCCCCC=CCCCCCCCCCCCCCC\n",
      "\n",
      "True SMILES: O=C(NC(COP(=O)([O-])OCC[N+](C)(C)C)C(O)C=CCCC=CCCC=CCCCCCCCCCC)CCCCCCCCCCCCCCCCCCCCCCCCCCCCCC\n",
      "Pred SMILES: O=C(NC(COP(=O)([O-])OCC[N+](C)(C)C)C(O)C=CCCC=CCCC=CCCCCCCCCCC)CCCCCCCCCCCCCCCCCCCCCCCCCCCCCC\n",
      "\n",
      "True SMILES: O=C(NC(COP(=O)([O-])OCC[N+](C)(C)C)C(O)C=CCCC=CCCC=CCCCCCCCCCC)CCCCCCCCCCCCCCCCCCC\n",
      "Pred SMILES: O=C(NC(COP(=O)([O-])OCC[N+](C)(C)C)C(O)C=CCCC=CCCC=CCCCCCCCCCC)CCCCCCCCCCCCCCCCCCC\n",
      "\n",
      "True SMILES: O=C(NC(COP(=O)([O-])OCC[N+](C)(C)C)C(O)C=CCCC=CCCC=CCCCCCCCCCC)CCCCCCCC=CCCCCCCCCC\n",
      "Pred SMILES: O=C(NC(COP(=O)([O-])OCC[N+](C)(C)C)C(O)C=CCCC=CCCC=CCCCCCCCCCC)CCCCCCCC=CCCCCCCCCC\n",
      "\n",
      "True SMILES: O=C(NC(COP(=O)([O-])OCC[N+](C)(C)C)C(O)C=CCCC=CCCC=CCCCCCCCCCC)CCCCCCCCCCCCCCCCCC\n",
      "Pred SMILES: O=C(NC(COP(=O)([O-])OCC[N+](C)(C)C)C(O)C=CCCC=CCCC=CCCCCCCCCCC)CCCCCCCCCCCCCCCCCC\n",
      "\n",
      "True SMILES: O=C(NC(COP(=O)([O-])OCC[N+](C)(C)C)C(O)C=CCCC=CCCC=CCCCCCCCCCC)CCCCCCCCC=CC=CCCCCC\n",
      "Pred SMILES: O=C(NC(COP(=O)([O-])OCC[N+](C)(C)C)C(O)C=CCCC=CCCC=CCCCCCCCCCC)CCCCCCCCC=CC=CCCCCC\n",
      "\n",
      "True SMILES: O=C(NC(COP(=O)([O-])OCC[N+](C)(C)C)C(O)C=CCCC=CCCC=CCCCCCCCCCC)CCCCCCCCCC=CCCCCCC\n",
      "Pred SMILES: O=C(NC(COP(=O)([O-])OCC[N+](C)(C)C)C(O)C=CCCC=CCCC=CCCCCCCCCCC)CCCCCCCCCC=CCCCCCC\n",
      "\n",
      "True SMILES: O=C(NC(COP(=O)([O-])OCC[N+](C)(C)C)C(O)C=CCCC=CCCCCCCCCCCCCCC)CCCCCCCCCCCCCCCCCC=CCC=CCCCCCCCCCCC\n",
      "Pred SMILES: O=C(NC(COP(=O)([O-])OCC[N+](C)(C)C)C(O)C=CCCC=CCCCCCCCCCCCCCC)CCCCCCCCCCCCCCCCCC=CCC=CCCCCCCCCCCCC\n",
      "\n",
      "True SMILES: O=C(NC(COP(=O)([O-])OCC[N+](C)(C)C)C(O)C=CCCC=CCCCCCCCCCCCCCC)CCCCCCCCCCCCCCCCCC=CCCCCCCCCCCCCCC\n",
      "Pred SMILES: O=C(NC(COP(=O)([O-])OCC[N+](C)(C)C)C(O)C=CCCC=CCCCCCCCCCCCCCC)CCCCCCCCCCCCCCCCCC=CCCCCCCCCCCCCCCC\n",
      "\n",
      "True SMILES: O=C(NC(COP(=O)([O-])OCC[N+](C)(C)C)C(O)C=CCCC=CCCCCCCCCCCCCCC)CCCCCCCCCCCCCCCCCCCCCCCCCCCCCCCCC\n",
      "Pred SMILES: O=C(NC(COP(=O)([O-])OCC[N+](C)(C)C)C(O)C=CCCC=CCCCCCCCCCCCCCC)CCCCCCCCCCCCCCCCCCCCCCCCCCCCCCCCC\n",
      "\n",
      "True SMILES: O=C(NC(COP(=O)([O-])OCC[N+](C)(C)C)C(O)C=CCCC=CCCCCCCCCCCCCCC)CCCCCCCCCCCCCCCCC=CCCCCCCCCCCCCCC\n",
      "Pred SMILES: O=C(NC(COP(=O)([O-])OCC[N+](C)(C)C)C(O)C=CCCC=CCCCCCCCCCCCCCC)CCCCCCCCCCCCCCCCC=CCCCCCCCCCCCCCC\n",
      "\n",
      "True SMILES: O=C(NC(COP(=O)([O-])OCC[N+](C)(C)C)C(O)C=CCCC=CCCCCCCCCCCCCCC)CCCCCCCCCCCCCCCCCCCCCCCCCCCCCCCC\n",
      "Pred SMILES: O=C(NC(COP(=O)([O-])OCC[N+](C)(C)C)C(O)C=CCCC=CCCCCCCCCCCCCCC)CCCCCCCCCCCCCCCCCCCCCCCCCCCCCCCC\n",
      "\n",
      "True SMILES: O=C(NC(COP(=O)([O-])OCC[N+](C)(C)C)C(O)C=CCCC=CCCCCCCCCCCCCCC)CCCCCCCCCCCCCCCCCCCCC\n",
      "Pred SMILES: O=C(NC(COP(=O)([O-])OCC[N+](C)(C)C)C(O)C=CCCC=CCCCCCCCCCCCCCC)CCCCCCCCCCCCCCCCCCCCC\n",
      "\n",
      "True SMILES: O=C(NC(COP(=O)([O-])OCC[N+](C)(C)C)C(O)C=CCCC=CCCCCCCCCCCCCCC)CCCCCCCC=CCCCCCCCCCCC\n",
      "Pred SMILES: O=C(NC(COP(=O)([O-])OCC[N+](C)(C)C)C(O)C=CCCC=CCCCCCCCCCCCCCC)CCCCCCCC=CCCCCCCCCCCC\n",
      "\n",
      "True SMILES: O=C(NC(COP(=O)([O-])OCC[N+](C)(C)C)C(O)C=CCCC=CCCCCCCCCCCCCCC)CCCCCCCCCCCCCCCCCCCC\n",
      "Pred SMILES: O=C(NC(COP(=O)([O-])OCC[N+](C)(C)C)C(O)C=CCCC=CCCCCCCCCCCCCCC)CCCCCCCCCCCCCCCCCCCC\n",
      "\n",
      "True SMILES: O=C(NC(COP(=O)([O-])OCC[N+](C)(C)C)C(O)C=CCCC=CCCCCCCCCCCCCCC)CCCCCCCCCC=CCC=CCCCCC\n",
      "Pred SMILES: O=C(NC(COP(=O)([O-])OCC[N+](C)(C)C)C(O)C=CCCC=CCCCCCCCCCCCCCC)CCCCCCCCCC=CCC=CCCCCC\n",
      "\n",
      "True SMILES: O=C(NC(COP(=O)([O-])OCC[N+](C)(C)C)C(O)C=CCCC=CCCCCCCCCCCCCCC)CCCCCCCCCC=CCCCCCCCC\n",
      "Pred SMILES: O=C(NC(COP(=O)([O-])OCC[N+](C)(C)C)C(O)C=CCCC=CCCCCCCCCCCCCCC)CCCCCCCCCC=CCCCCCCCC\n",
      "\n",
      "True SMILES: O=C(NC(COP(=O)([O-])OCC[N+](C)(C)C)C(O)C=CCCCCCCCCCCCCCCCCCC)CCCCCCCCCCCCCCCCCCCC=CCC=CCCCCCCCCCCC\n",
      "Pred SMILES: O=C(NC(COP(=O)([O-])OCC[N+](C)(C)C)C(O)C=CCCCCCCCCCCCCCCCCCC)CCCCCCCCCCCCCCCCCCCC=CCC=CCCCCCCCCCCCC\n",
      "\n",
      "True SMILES: O=C(NC(COP(=O)([O-])OCC[N+](C)(C)C)C(O)C=CCCCCCCCCCCCCCCCCCC)CCCCCCCCCCCCCCCCCCCC=CCCCCCCCCCCCCCC\n",
      "Pred SMILES: O=C(NC(COP(=O)([O-])OCC[N+](C)(C)C)C(O)C=CCCCCCCCCCCCCCCCCCC)CCCCCCCCCCCCCCCCCCCC=CCCCCCCCCCCCCCC\n",
      "\n",
      "True SMILES: O=C(NC(COP(=O)([O-])OCC[N+](C)(C)C)C(O)C=CCCCCCCCCCCCCCCCCCC)CCCCCCCCCCCCCCCCCCCCCCCCCCCCCCCCCCC\n",
      "Pred SMILES: O=C(NC(COP(=O)([O-])OCC[N+](C)(C)C)C(O)C=CCCCCCCCCCCCCCCCCCC)CCCCCCCCCCCCCCCCCCCCCCCCCCCCCCCCCCC\n",
      "\n",
      "True SMILES: O=C(NC(COP(=O)([O-])OCC[N+](C)(C)C)C(O)C=CCCCCCCCCCCCCCCCCCC)CCCCCCCCCCCCCCCCCCC=CCCCCCCCCCCCCCC\n",
      "Pred SMILES: O=C(NC(COP(=O)([O-])OCC[N+](C)(C)C)C(O)C=CCCCCCCCCCCCCCCCCCC)CCCCCCCCCCCCCCCCCCC=CCCCCCCCCCCCCCC\n",
      "\n",
      "True SMILES: O=C(NC(COP(=O)([O-])OCC[N+](C)(C)C)C(O)C=CCCCCCCCCCCCCCCCCCC)CCCCCCCCCCCCCCCCCCCCCCCCCCCCCCCCCC\n",
      "Pred SMILES: O=C(NC(COP(=O)([O-])OCC[N+](C)(C)C)C(O)C=CCCCCCCCCCCCCCCCCCC)CCCCCCCCCCCCCCCCCCCCCCCCCCCCCCCCCC\n",
      "\n",
      "True SMILES: O=C(NC(COP(=O)([O-])OCC[N+](C)(C)C)C(O)C=CCCCCCCCCCCCCCCCCCC)CCCCCCCCCCCCCCCCCCCCCCC\n",
      "Pred SMILES: O=C(NC(COP(=O)([O-])OCC[N+](C)(C)C)C(O)C=CCCCCCCCCCCCCCCCCCC)CCCCCCCCCCCCCCCCCCCCCCC\n",
      "\n",
      "True SMILES: O=C(NC(COP(=O)([O-])OCC[N+](C)(C)C)C(O)C=CCCCCCCCCCCCCCCCCCC)CCCCCCCCCC=CCCCCCCCCCCC\n",
      "Pred SMILES: O=C(NC(COP(=O)([O-])OCC[N+](C)(C)C)C(O)C=CCCCCCCCCCCCCCCCCCC)CCCCCCCCCC=CCCCCCCCCCCC\n",
      "\n",
      "True SMILES: O=C(NC(COP(=O)([O-])OCC[N+](C)(C)C)C(O)C=CCCCCCCCCCCCCCCCCCC)CCCCCCCCCCCCCCCCCCCCCC\n",
      "Pred SMILES: O=C(NC(COP(=O)([O-])OCC[N+](C)(C)C)C(O)C=CCCCCCCCCCCCCCCCCCC)CCCCCCCCCCCCCCCCCCCCCC\n",
      "\n",
      "True SMILES: O=C(NC(COP(=O)([O-])OCC[N+](C)(C)C)C(O)C=CCCCCCCCCCCCCCCCCCC)CCCCCCCCCCCCC=CC=CCCCCC\n",
      "Pred SMILES: O=C(NC(COP(=O)([O-])OCC[N+](C)(C)C)C(O)C=CCCCCCCCCCCCCCCCCCC)CCCCCCCCCCCCC=CC=CCCCCC\n",
      "\n",
      "True SMILES: O=C(NC(COP(=O)([O-])OCC[N+](C)(C)C)C(O)C=CCCCCCCCCCCCCCCCCCC)CCCCCCCCCC=CCCCCCCCCCC\n",
      "Pred SMILES: O=C(NC(COP(=O)([O-])OCC[N+](C)(C)C)C(O)C=CCCCCCCCCCCCCCCCCCC)CCCCCCCCCC=CCCCCCCCCCC\n",
      "\n",
      "True SMILES: O=C(NC(COP(=O)([O-])OCC[N+](C)(C)C)C(O)CCCCCCCCCCCCCCCCCCCC)CCCCCCCCCCCCCCCCCCCC=CCCCCCCCCCCCCCCCCCC\n",
      "Pred SMILES: O=C(NC(COP(=O)([O-])OCC[N+](C)(C)C)C(O)CCCCCCCCCCCCCCCCCCCC)CCCCCCCCCCCCCCCCCCCC=CCCCCCCCCCCCCCCCCCC\n",
      "\n",
      "True SMILES: O=C(NC(COP(=O)([O-])OCC[N+](C)(C)C)C(O)CCCCCCCCCCCCCCCCCCCC)CCCCCCCCCCCCCCCCCCCCCCCCCCCCCCCCCCCCCCC\n",
      "Pred SMILES: O=C(NC(COP(=O)([O-])OCC[N+](C)(C)C)C(O)CCCCCCCCCCCCCCCCCCCC)CCCCCCCCCCCCCCCCCCCCCCCCCCCCCCCCCCCCCCC\n",
      "\n",
      "True SMILES: O=C(NC(COP(=O)([O-])OCC[N+](C)(C)C)C(O)CCCCCCCCCCCCCCCCCCCC)CCCCCCCCCCCCCCCCCCCC=CCC=CCCCCCCCCCCCCC\n",
      "Pred SMILES: O=C(NC(COP(=O)([O-])OCC[N+](C)(C)C)C(O)CCCCCCCCCCCCCCCCCCCC)CCCCCCCCCCCCCCCCCCCC=CCC=CCCCCCCCCCCCCC\n",
      "\n",
      "True SMILES: O=C(NC(COP(=O)([O-])OCC[N+](C)(C)C)C(O)CCCCCCCCCCCCCCCCCCCC)CCCCCCCCCCCCCCCCCCCC=CCCCCCCCCCCCCCCCC\n",
      "Pred SMILES: O=C(NC(COP(=O)([O-])OCC[N+](C)(C)C)C(O)CCCCCCCCCCCCCCCCCCCC)CCCCCCCCCCCCCCCCCCCC=CCCCCCCCCCCCCCCCC\n",
      "\n",
      "True SMILES: O=C(NC(COP(=O)([O-])OCC[N+](C)(C)C)C(O)CCCCCCCCCCCCCCCCCCCC)CCCCCCCCCCCCCCCCCCCCCCCCCCCCCCCCCCCCC\n",
      "Pred SMILES: O=C(NC(COP(=O)([O-])OCC[N+](C)(C)C)C(O)CCCCCCCCCCCCCCCCCCCC)CCCCCCCCCCCCCCCCCCCCCCCCCCCCCCCCCCCCC\n",
      "\n",
      "True SMILES: O=C(NC(COP(=O)([O-])OCC[N+](C)(C)C)C(O)CCCCCCCCCCCCCCCCCCCC)CCCCCCCCCCCCCCCCCCCCCCCCC\n",
      "Pred SMILES: O=C(NC(COP(=O)([O-])OCC[N+](C)(C)C)C(O)CCCCCCCCCCCCCCCCCCCC)CCCCCCCCCCCCCCCCCCCCCCCCCC\n",
      "\n",
      "True SMILES: O=C(NC(COP(=O)([O-])OCC[N+](C)(C)C)C(O)CCCCCCCCCCCCCCCCCCCC)CCCCCCCCCC=CCCCCCCCCCCCCC\n",
      "Pred SMILES: O=C(NC(COP(=O)([O-])OCC[N+](C)(C)C)C(O)CCCCCCCCCCCCCCCCCCCC)CCCCCCCCCC=CCCCCCCCCCCCCCC\n",
      "\n",
      "True SMILES: O=C(NC(COP(=O)([O-])OCC[N+](C)(C)C)C(O)CCCCCCCCCCCCCCCCCCCC)CCCCCCCCCCCCCCCCCCCCCCCC\n",
      "Pred SMILES: O=C(NC(COP(=O)([O-])OCC[N+](C)(C)C)C(O)CCCCCCCCCCCCCCCCCCCC)CCCCCCCCCCCCCCCCCCCCCCCC\n",
      "\n",
      "True SMILES: O=C(NC(COP(=O)([O-])OCC[N+](C)(C)C)C(O)CCCCCCCCCCCCCCCCCCCC)CCCCCCCCCCCCCCCCC=CCC=CCC\n",
      "Pred SMILES: O=C(NC(COP(=O)([O-])OCC[N+](C)(C)C)C(O)CCCCCCCCCCCCCCCCCCCC)CCCCCCCCCCCCCCCCC=CCC=CCCC\n",
      "\n",
      "True SMILES: O=C(NC(COP(=O)([O-])OCC[N+](C)(C)C)C(O)CCCCCCCCCCCCCCCCCCCC)CCCCCCCCCC=CCCCCCCCCCCCC\n",
      "Pred SMILES: O=C(NC(COP(=O)([O-])OCC[N+](C)(C)C)C(O)CCCCCCCCCCCCCCCCCCCC)CCCCCCCCCC=CCCCCCCCCCCCC\n",
      "\n",
      "True SMILES: O=C(NC(COP(=O)([O-])OCC[N+](C)(C)C)C(O)CCCCCCCCCCCCCCCCCCCC)CCCCCCCCCCC\n",
      "Pred SMILES: O=C(NC(COP(=O)([O-])OCC[N+](C)(C)C)C(O)CCCCCCCCCCCCCCCCCCCC)CCCCCCCCCCC\n",
      "\n",
      "True SMILES: O=C(NC(COP(=O)([O-])OCC[N+](C)(C)C)C(O)C=CCCC=CCCC=CCCCCCCCCC)CCCCCCCCCCCCCCCCCCCC=CCC=CCCCCCCCCCCCCCCCCC\n",
      "Pred SMILES: O=C(NC(COP(=O)([O-])OCC[N+](C)(C)C)C(O)C=CCCC=CCCC=CCCCCCCCCC)CCCCCCCCCCCCCCCCCCCC=CCC=CCCCCCCCCCCCCCCCCCC\n",
      "\n",
      "True SMILES: O=C(NC(COP(=O)([O-])OCC[N+](C)(C)C)C(O)C=CCCC=CCCC=CCCCCCCCCC)CCCCCCCCCCCCCCCCCCCC=CCCCCCCCCCCCCCCCCCCCC\n",
      "Pred SMILES: O=C(NC(COP(=O)([O-])OCC[N+](C)(C)C)C(O)C=CCCC=CCCC=CCCCCCCCCC)CCCCCCCCCCCCCCCCCCCC=CCCCCCCCCCCCCCCCCCCCCC\n",
      "\n",
      "True SMILES: CCCCCCCCCCCCCCCCCCCCCCCCCCCCCCCCCCCCCCCCCC(=O)NC(COP([O-])(=O)OCC[N+](C)(C)C)C(O)\\C=C\\CC\\C=C\\CC\\C=C\\CCCCCCCCC\n",
      "Pred SMILES: CCCCCCCCCCCCCCCCCCCCCCCCCCCCCCCCCCCCCCCCCC(=O)N+(COP([O-])(=O)OCC[N+](C)(C)C)C(O)\\C=C\\CC\\C=C\\CC\\C=C\\CCCCCCCCCC\n",
      "\n",
      "True SMILES: O=C(NC(COP(=O)([O-])OCC[N+](C)(C)C)C(O)C=CCCC=CCCC=CCCCCCCCCC)CCCCCCCCCCCCCCCCCCCC=CCC=CCCCCCCCCCCCCCCC\n",
      "Pred SMILES: O=C(NC(COP(=O)([O-])OCC[N+](C)(C)C)C(O)C=CCCC=CCCC=CCCCCCCCCC)CCCCCCCCCCCCCCCCCCCC=CCC=CCCCCCCCCCCCCCCCC\n",
      "\n",
      "True SMILES: O=C(NC(COP(=O)([O-])OCC[N+](C)(C)C)C(O)C=CCCC=CCCC=CCCCCCCCCC)CCCCCCCCCCCCCCCCCCCCCCCCCCC\n",
      "Pred SMILES: O=C(NC(COP(=O)([O-])OCC[N+](C)(C)C)C(O)C=CCCC=CCCC=CCCCCCCCCC)CCCCCCCCCCCCCCCCCCCCCCCCCCCC\n",
      "\n",
      "True SMILES: O=C(NC(COP(=O)([O-])OCC[N+](C)(C)C)C(O)C=CCCC=CCCC=CCCCCCCCCC)CCCCCCCCCCC=CCCCCCCCCCCCCCC\n",
      "Pred SMILES: O=C(NC(COP(=O)([O-])OCC[N+](C)(C)C)C(O)C=CCCC=CCCC=CCCCCCCCCC)CCCCCCCCCCC=CCCCCCCCCCCCCCCC\n",
      "\n",
      "True SMILES: O=C(NC(COP(=O)([O-])OCC[N+](C)(C)C)C(O)C=CCCC=CCCC=CCCCCCCCCC)CCCCCCCCCCCCCCCCCCCCCCCCCC\n",
      "Pred SMILES: O=C(NC(COP(=O)([O-])OCC[N+](C)(C)C)C(O)C=CCCC=CCCC=CCCCCCCCCC)CCCCCCCCCCCCCCCCCCCCCCCCCC\n",
      "\n",
      "True SMILES: O=C(NC(COP(=O)([O-])OCC[N+](C)(C)C)C(O)C=CCCC=CCCC=CCCCCCCCCC)CCCCCCCCCC=CCC=CCCCCCCCCCCC\n",
      "Pred SMILES: O=C(NC(COP(=O)([O-])OCC[N+](C)(C)C)C(O)C=CCCC=CCCC=CCCCCCCCCC)CCCCCCCCCC=CCC=CCCCCCCCCCCCC\n",
      "\n",
      "True SMILES: O=C(NC(COP(=O)([O-])OCC[N+](C)(C)C)C(O)C=CCCC=CCCC=CCCCCCCCCC)CCCCCCCCCC=CCCCCCCCCCCCCCC\n",
      "Pred SMILES: O=C(NC(COP(=O)([O-])OCC[N+](C)(C)C)C(O)C=CCCC=CCCC=CCCCCCCCCC)CCCCCCCCCC=CCCCCCCCCCCCCCC\n",
      "\n",
      "True SMILES: O=C(NC(COP(=O)([O-])OCC[N+](C)(C)C)C(O)C=CCCC=CCCC=CCCCCCCCCC)CCCCCCCC=CCCCC\n",
      "Pred SMILES: O=C(NC(COP(=O)([O-])OCC[N+](C)(C)C)C(O)C=CCCC=CCCC=CCCCCCCCCC)CCCCCCCC=CCCCC\n",
      "\n",
      "True SMILES: O=C(NC(COP(=O)([O-])OCC[N+](C)(C)C)C(O)C=CCCC=CCCC=CCCCCCCCCC)CCCCCCCCCCCCC\n",
      "Pred SMILES: O=C(NC(COP(=O)([O-])OCC[N+](C)(C)C)C(O)C=CCCC=CCCC=CCCCCCCCCC)CCCCCCCCCCCCC\n",
      "\n",
      "True SMILES: O=C(NC(COP(=O)([O-])OCC[N+](C)(C)C)C(O)C=CCCC=CCCC=CCCCCCCCCC)CCCCCCC=CCCCC\n",
      "Pred SMILES: O=C(NC(COP(=O)([O-])OCC[N+](C)(C)C)C(O)C=CCCC=CCCC=CCCCCCCCCC)CCCCCCC=CCCCC\n",
      "\n",
      "True SMILES: O=C(NC(COP(=O)([O-])OCC[N+](C)(C)C)C(O)C=CCCC=CCCC=CCCCCCCCCC)CCCCCCCCCCCC\n",
      "Pred SMILES: O=C(NC(COP(=O)([O-])OCC[N+](C)(C)C)C(O)C=CCCC=CCCC=CCCCCCCCCC)CCCCCCCCCCCC\n",
      "\n",
      "True SMILES: CCCCCCCCC\\C=C\\CC\\C=C\\CC\\C=C\\C(O)C(COP([O-])(=O)OCC[N+](C)(C)C)NC(=O)CCC\\C=C/CCCCCC\n",
      "Pred SMILES: CCCCCCCCC\\C=C\\CC\\C=C\\CC\\C=C\\C(O)C(CO)([O[])(=O)OCC[N+](C)(C)C)NC(=O)CCC\\C=C/CCCCCC\n",
      "\n",
      "True SMILES: O=C(NC(COP(=O)([O-])OCC[N+](C)(C)C)C(O)C=CCCC=CCCCCCCCCCCCCC)CCCCCCCCCCCCCCCCCCCCCCCCCCCCC\n",
      "Pred SMILES: O=C(NC(COP(=O)([O-])OCC[N+](C)(C)C)C(O)C=CCCC=CCCCCCCCCCCCCC)CCCCCCCCCCCCCCCCCCCCCCCCCCCCC\n",
      "\n",
      "True SMILES: O=C(NC(COP(=O)([O-])OCC[N+](C)(C)C)C(O)C=CCCC=CCCCCCCCCCCCCC)CCCCCCCCCCCCC=CCCCCCCCCCCCCCC\n",
      "Pred SMILES: O=C(NC(COP(=O)([O-])OCC[N+](C)(C)C)C(O)C=CCCC=CCCCCCCCCCCCCC)CCCCCCCCCCCCC=CCCCCCCCCCCCCCC\n",
      "\n",
      "True SMILES: O=C(NC(COP(=O)([O-])OCC[N+](C)(C)C)C(O)C=CCCC=CCCCCCCCCCCCCC)CCCCCCCCCCCCCCCCCCCCCCCCCCCC\n",
      "Pred SMILES: O=C(NC(COP(=O)([O-])OCC[N+](C)(C)C)C(O)C=CCCC=CCCCCCCCCCCCCC)CCCCCCCCCCCCCCCCCCCCCCCCCCCC\n",
      "\n",
      "True SMILES: O=C(NC(COP(=O)([O-])OCC[N+](C)(C)C)C(O)C=CCCC=CCCCCCCCCCCCCC)CCCCCCCCCCCC=CCC=CCCCCCCCCCCC\n",
      "Pred SMILES: O=C(NC(COP(=O)([O-])OCC[N+](C)(C)C)C(O)C=CCCC=CCCCCCCCCCCCCC)CCCCCCCCCCCC=CCC=CCCCCCCCCCCC\n",
      "\n",
      "True SMILES: O=C(NC(COP(=O)([O-])OCC[N+](C)(C)C)C(O)C=CCCC=CCCCCCCCCCCCCC)CCCCCCCCCCCC=CCCCCCCCCCCCCCC\n",
      "Pred SMILES: O=C(NC(COP(=O)([O-])OCC[N+](C)(C)C)C(O)C=CCCC=CCCCCCCCCCCCCC)CCCCCCCCCCCC=CCCCCCCCCCCCCCC\n",
      "\n",
      "True SMILES: O=C(NC(COP(=O)([O-])OCC[N+](C)(C)C)C(O)C=CCCC=CCCCCCCCCCCCCC)CCC=CCC=CCCCCCCCC\n",
      "Pred SMILES: O=C(NC(COP(=O)([O-])OCC[N+](C)(C)C)C(O)C=CCCC=CCCCCCCCCCCCCC)CCC=CCC=CCCCCCCCC\n",
      "\n",
      "True SMILES: O=C(NC(COP(=O)([O-])OCC[N+](C)(C)C)C(O)C=CCCC=CCCCCCCCCCCCCC)CCCCCC=CCCCCCCCC\n",
      "Pred SMILES: O=C(NC(COP(=O)([O-])OCC[N+](C)(C)C)C(O)C=CCCC=CCCCCCCCCCCCCC)CCCCCC=CCCCCCCCC\n",
      "\n",
      "True SMILES: O=C(NC(COP(=O)([O-])OCC[N+](C)(C)C)C(O)C=CCCC=CCCCCCCCCCCCCC)CCCCCCCCCCCCCCC\n",
      "Pred SMILES: O=C(NC(COP(=O)([O-])OCC[N+](C)(C)C)C(O)C=CCCC=CCCCCCCCCCCCCC)CCCCCCCCCCCCCCC\n",
      "\n",
      "True SMILES: O=C(NC(COP(=O)([O-])OCC[N+](C)(C)C)C(O)C=CCCC=CCCCCCCCCCCCCC)CCCCCCCC=CCCCCC\n",
      "Pred SMILES: O=C(NC(COP(=O)([O-])OCC[N+](C)(C)C)C(O)C=CCCC=CCCCCCCCCCCCCC)CCCCCCCC=CCCCCC\n",
      "\n",
      "True SMILES: O=C(NC(COP(=O)([O-])OCC[N+](C)(C)C)C(O)C=CCCC=CCCCCCCCCCCCCC)CCCCCCCCCCCCCC\n",
      "Pred SMILES: O=C(NC(COP(=O)([O-])OCC[N+](C)(C)C)C(O)C=CCCC=CCCCCCCCCCCCCC)CCCCCCCCCCCCCC\n",
      "\n",
      "True SMILES: O=C(NC(COP(=O)([O-])OCC[N+](C)(C)C)C(O)C=CCCCCCCCCCCCCCCCCC)CCCCCCCCCCCCCCCCCCCCCCCCCCCCCCC\n",
      "Pred SMILES: O=C(NC(COP(=O)([O-])OCC[N+](C)(C)C)C(O)C=CCCCCCCCCCCCCCCCCC)CCCCCCCCCCCCCCCCCCCCCCCCCCCCCCC\n",
      "\n",
      "True SMILES: O=C(NC(COP(=O)([O-])OCC[N+](C)(C)C)C(O)C=CCCCCCCCCCCCCCCCCC)CCCCCCCCCCCCCCC=CCCCCCCCCCCCCCC\n",
      "Pred SMILES: O=C(NC(COP(=O)([O-])OCC[N+](C)(C)C)C(O)C=CCCCCCCCCCCCCCCCCC)CCCCCCCCCCCCCCC=CCCCCCCCCCCCCCC\n",
      "\n",
      "True SMILES: CCCCCCCCCCCCCCCCCCCCCCCCCCCCCCC(=O)NC(COP([O-])(=O)OCC[N+](C)(C)C)C(O)\\C=C\\CCCCCCCCCCCCCCCCC\n",
      "Pred SMILES: CCCCCCCCCCCCCCCCCCCCCCCCCCCCCCC(=O)NC(COP([O-])(=O)OCC[N+](C)(C)C)C(O)\\C=C\\CCCCCCCCCCCCCCCCCC\n",
      "\n",
      "True SMILES: O=C(NC(COP(=O)([O-])OCC[N+](C)(C)C)C(O)C=CCCCCCCCCCCCCCCCCC)CCCCCCCCCCCCCC=CCC=CCCCCCCCCCCC\n",
      "Pred SMILES: O=C(NC(COP(=O)([O-])OCC[N+](C)(C)C)C(O)C=CCCCCCCCCCCCCCCCCC)CCCCCCCCCCCCCC=CCC=CCCCCCCCCCCC\n",
      "\n",
      "True SMILES: O=C(NC(COP(=O)([O-])OCC[N+](C)(C)C)C(O)C=CCCCCCCCCCCCCCCCCC)CCCCCCCCCCCCCC=CCCCCCCCCCCCCCC\n",
      "Pred SMILES: O=C(NC(COP(=O)([O-])OCC[N+](C)(C)C)C(O)C=CCCCCCCCCCCCCCCCCC)CCCCCCCCCCCCCC=CCCCCCCCCCCCCCC\n",
      "\n",
      "True SMILES: O=C(NC(COP(=O)([O-])OCC[N+](C)(C)C)C(O)C=CCCCCCCCCCCCCCCCCC)CCCCCCCCCCCCCCCCCC\n",
      "Pred SMILES: O=C(NC(COP(=O)([O-])OCC[N+](C)(C)C)C(O)C=CCCCCCCCCCCCCCCCCC)CCCCCCCCCCCCCCCCCC\n",
      "\n",
      "True SMILES: O=C(NC(COP(=O)([O-])OCC[N+](C)(C)C)C(O)C=CCCCCCCCCCCCCCCCCC)CCCCCCCCC=CC=CCCCCC\n",
      "Pred SMILES: O=C(NC(COP(=O)([O-])OCC[N+](C)(C)C)C(O)C=CCCCCCCCCCCCCCCCCC)CCCCCCCCC=CC=CCCCCC\n",
      "\n",
      "True SMILES: O=C(NC(COP(=O)([O-])OCC[N+](C)(C)C)C(O)C=CCCCCCCCCCCCCCCCCC)CCCCCCCCCC=CCCCCCC\n",
      "Pred SMILES: O=C(NC(COP(=O)([O-])OCC[N+](C)(C)C)C(O)C=CCCCCCCCCCCCCCCCCC)CCCCCCCCCC=CCCCCCC\n",
      "\n",
      "True SMILES: O=C(NC(COP(=O)([O-])OCC[N+](C)(C)C)C(O)C=CCCCCCCCCCCCCCCCCC)CCCCCCCCCCCCCCCCC\n",
      "Pred SMILES: O=C(NC(COP(=O)([O-])OCC[N+](C)(C)C)C(O)C=CCCCCCCCCCCCCCCCCC)CCCCCCCCCCCCCCCCC\n",
      "\n",
      "True SMILES: O=C(NC(COP(=O)([O-])OCC[N+](C)(C)C)C(O)C=CCCCCCCCCCCCCCCCCC)CCCCCCCCCCCCCCCC\n",
      "Pred SMILES: O=C(NC(COP(=O)([O-])OCC[N+](C)(C)C)C(O)C=CCCCCCCCCCCCCCCCCC)CCCCCCCCCCCCCCCC\n",
      "\n",
      "True SMILES: O=C(NC(COP(=O)([O-])OCC[N+](C)(C)C)C(O)CCCCCCCCCCCCCCCCCCC)CCCCCCCCCCCCCCCCCCCCCCCCCCCCCCCCC\n",
      "Pred SMILES: O=C(NC(COP(=O)([O-])OCC[N+](C)(C)C)C(O)CCCCCCCCCCCCCCCCCCC)CCCCCCCCCCCCCCCCCCCCCCCCCCCCCCCCCC\n",
      "\n",
      "True SMILES: O=C(NC(COP(=O)([O-])OCC[N+](C)(C)C)C(O)CCCCCCCCCCCCCCCCCCC)CCCCCCCCCCCCCCCCC=CCCCCCCCCCCCCCC\n",
      "Pred SMILES: O=C(NC(COP(=O)([O-])OCC[N+](C)(C)C)C(O)CCCCCCCCCCCCCCCCCCC)CCCCCCCCCCCCCCCCC=CCCCCCCCCCCCCCCC\n",
      "\n",
      "True SMILES: O=C(NC(COP(=O)([O-])OCC[N+](C)(C)C)C(O)CCCCCCCCCCCCCCCCCCC)CCCCCCCCCCCCCCCCCCCCCCCCCCCCCCCC\n",
      "Pred SMILES: O=C(NC(COP(=O)([O-])OCC[N+](C)(C)C)C(O)CCCCCCCCCCCCCCCCCCC)CCCCCCCCCCCCCCCCCCCCCCCCCCCCCCCC\n",
      "\n",
      "True SMILES: O=C(NC(COP(=O)([O-])OCC[N+](C)(C)C)C(O)CCCCCCCCCCCCCCCCCCC)CCCCCCCCCCCCCCCC=CCC=CCCCCCCCCCCC\n",
      "Pred SMILES: O=C(NC(COP(=O)([O-])OCC[N+](C)(C)C)C(O)CCCCCCCCCCCCCCCCCCC)CCCCCCCCCCCCCCCC=CCC=CCCCCCCCCCCCC\n",
      "\n",
      "True SMILES: O=C(NC(COP(=O)([O-])OCC[N+](C)(C)C)C(O)CCCCCCCCCCCCCCCCCCC)CCCCCCCCCCCCCCCC=CCCCCCCCCCCCCCC\n",
      "Pred SMILES: O=C(NC(COP(=O)([O-])OCC[N+](C)(C)C)C(O)CCCCCCCCCCCCCCCCCCC)CCCCCCCCCCCCCCCC=CCCCCCCCCCCCCCC\n",
      "\n",
      "True SMILES: O=C(NC(COP(=O)([O-])OCC[N+](C)(C)C)C(O)CCCCCCCCCCCCCCCCCCC)CCCCCCCCCCCCCCCCCCCC\n",
      "Pred SMILES: O=C(NC(COP(=O)([O-])OCC[N+](C)(C)C)C(O)CCCCCCCCCCCCCCCCCCC)CCCCCCCCCCCCCCCCCCCC\n",
      "\n",
      "True SMILES: O=C(NC(COP(=O)([O-])OCC[N+](C)(C)C)C(O)CCCCCCCCCCCCCCCCCCC)CCCCCCCCCC=CCC=CCCCCC\n",
      "Pred SMILES: O=C(NC(COP(=O)([O-])OCC[N+](C)(C)C)C(O)CCCCCCCCCCCCCCCCCCC)CCCCCCCCCC=CCC=CCCCCC\n",
      "\n",
      "True SMILES: O=C(NC(COP(=O)([O-])OCC[N+](C)(C)C)C(O)CCCCCCCCCCCCCCCCCCC)CCCCCCCCCC=CCCCCCCCC\n",
      "Pred SMILES: O=C(NC(COP(=O)([O-])OCC[N+](C)(C)C)C(O)CCCCCCCCCCCCCCCCCCC)CCCCCCCCCC=CCCCCCCCC\n",
      "\n",
      "True SMILES: O=C(NC(COP(=O)([O-])OCC[N+](C)(C)C)C(O)CCCCCCCCCCCCCCCCCCC)CCCCCCCCCCCCCCCCCCC\n",
      "Pred SMILES: O=C(NC(COP(=O)([O-])OCC[N+](C)(C)C)C(O)CCCCCCCCCCCCCCCCCCC)CCCCCCCCCCCCCCCCCCC\n",
      "\n",
      "True SMILES: O=C(NC(COP(=O)([O-])OCC[N+](C)(C)C)C(O)CCCCCCCCCCCCCCCCCCC)CCCCCCCC=CCCCCCCCCC\n",
      "Pred SMILES: O=C(NC(COP(=O)([O-])OCC[N+](C)(C)C)C(O)CCCCCCCCCCCCCCCCCCC)CCCCCCCC=CCCCCCCCCC\n",
      "\n",
      "True SMILES: O=C(NC(COP(=O)([O-])OCC[N+](C)(C)C)C(O)C=CCCC=CCCC=CCCCCCCCC)CCCCCCCCCCCCCCCCCCCCCCCCCCCCCCCCCCC\n",
      "Pred SMILES: O=C(NC(COP(=O)([O-])OCC[N+](C)(C)C)C(O)C=CCCC=CCCC=CCCCCCCCC)CCCCCCCCCCCCCCCCCCCCCCCCCCCCCCCCCCCC\n",
      "\n",
      "True SMILES: O=C(NC(COP(=O)([O-])OCC[N+](C)(C)C)C(O)C=CCCC=CCCC=CCCCCCCCC)CCCCCCCCCCCCCCCCCCC=CCCCCCCCCCCCCCC\n",
      "Pred SMILES: O=C(NC(COP(=O)([O-])OCC[N+](C)(C)C)C(O)C=CCCC=CCCC=CCCCCCCCC)CCCCCCCCCCCCCCCCCCC=CCCCCCCCCCCCCCCC\n",
      "\n",
      "True SMILES: O=C(NC(COP(=O)([O-])OCC[N+](C)(C)C)C(O)C=CCCC=CCCC=CCCCCCCCC)CCCCCCCCCCCCCCCCCCCCCCCCCCCCCCCCCC\n",
      "Pred SMILES: O=C(NC(COP(=O)([O-])OCC[N+](C)(C)C)C(O)C=CCCC=CCCC=CCCCCCCCC)CCCCCCCCCCCCCCCCCCCCCCCCCCCCCCCCCC\n",
      "\n",
      "True SMILES: O=C(NC(COP(=O)([O-])OCC[N+](C)(C)C)C(O)C=CCCC=CCCC=CCCCCCCCC)CCCCCCCCCCCCCCCCCC=CCC=CCCCCCCCCCCC\n",
      "Pred SMILES: O=C(NC(COP(=O)([O-])OCC[N+](C)(C)C)C(O)C=CCCC=CCCC=CCCCCCCCC)CCCCCCCCCCCCCCCCCC=CCC=CCCCCCCCCCCCC\n",
      "\n",
      "True SMILES: O=C(NC(COP(=O)([O-])OCC[N+](C)(C)C)C(O)C=CCCC=CCCC=CCCCCCCCC)CCCCCCCCCCCCCCCCCC=CCCCCCCCCCCCCCC\n",
      "Pred SMILES: O=C(NC(COP(=O)([O-])OCC[N+](C)(C)C)C(O)C=CCCC=CCCC=CCCCCCCCC)CCCCCCCCCCCCCCCCCC=CCCCCCCCCCCCCCC\n",
      "\n",
      "True SMILES: O=C(NC(COP(=O)([O-])OCC[N+](C)(C)C)C(O)C=CCCC=CCCC=CCCCCCCCC)CCCCCCCCCCCCCCCCCCCCCC\n",
      "Pred SMILES: O=C(NC(COP(=O)([O-])OCC[N+](C)(C)C)C(O)C=CCCC=CCCC=CCCCCCCCC)CCCCCCCCCCCCCCCCCCCCCC\n",
      "\n",
      "True SMILES: O=C(NC(COP(=O)([O-])OCC[N+](C)(C)C)C(O)C=CCCC=CCCC=CCCCCCCCC)CCCCCCCCCCCCC=CC=CCCCCC\n",
      "Pred SMILES: O=C(NC(COP(=O)([O-])OCC[N+](C)(C)C)C(O)C=CCCC=CCCC=CCCCCCCCC)CCCCCCCCCCCCC=CC=CCCCCC\n",
      "\n",
      "True SMILES: O=C(NC(COP(=O)([O-])OCC[N+](C)(C)C)C(O)C=CCCC=CCCC=CCCCCCCCC)CCCCCCCCCC=CCCCCCCCCCC\n",
      "Pred SMILES: O=C(NC(COP(=O)([O-])OCC[N+](C)(C)C)C(O)C=CCCC=CCCC=CCCCCCCCC)CCCCCCCCCC=CCCCCCCCCCC\n",
      "\n",
      "True SMILES: O=C(NC(COP(=O)([O-])OCC[N+](C)(C)C)C(O)C=CCCC=CCCC=CCCCCCCCC)CCCCCCCCCCCCCCCCCCCCC\n",
      "Pred SMILES: O=C(NC(COP(=O)([O-])OCC[N+](C)(C)C)C(O)C=CCCC=CCCC=CCCCCCCCC)CCCCCCCCCCCCCCCCCCCCC\n",
      "\n",
      "True SMILES: O=C(NC(COP(=O)([O-])OCC[N+](C)(C)C)C(O)C=CCCC=CCCC=CCCCCCCCC)CCCCCCCC=CCCCCCCCCCCC\n",
      "Pred SMILES: O=C(NC(COP(=O)([O-])OCC[N+](C)(C)C)C(O)C=CCCC=CCCC=CCCCCCCCC)CCCCCCCC=CCCCCCCCCCCC\n",
      "\n",
      "True SMILES: O=C(NC(COP(=O)([O-])OCC[N+](C)(C)C)C(O)C=CCCC=CCCCCCCCCCCCC)CCCCCCCCCCCCCCCCCCCC=CCC=CCCCCCCCCCCCCC\n",
      "Pred SMILES: O=C(NC(COP(=O)([O-])OCC[N+](C)(C)C)C(O)C=CCCC=CCCCCCCCCCCCC)CCCCCCCCCCCCCCCCCCCC=CCC=CCCCCCCCCCCCCCC\n",
      "\n",
      "True SMILES: O=C(NC(COP(=O)([O-])OCC[N+](C)(C)C)C(O)C=CCCC=CCCCCCCCCCCCC)CCCCCCCCCCCCCCCCCCCC=CCCCCCCCCCCCCCCCC\n",
      "Pred SMILES: O=C(NC(COP(=O)([O-])OCC[N+](C)(C)C)C(O)C=CCCC=CCCCCCCCCCCCC)CCCCCCCCCCCCCCCCCCCC=CCCCCCCCCCCCCCCCC\n",
      "\n",
      "True SMILES: O=C(NC(COP(=O)([O-])OCC[N+](C)(C)C)C(O)C=CCCC=CCCCCCCCCCCCC)CCCCCCCCCCCCCCCCCCCCCCCCCCCCCCCCCCCCC\n",
      "Pred SMILES: O=C(NC(COP(=O)([O-])OCC[N+](C)(C)C)C(O)C=CCCC=CCCCCCCCCCCCC)CCCCCCCCCCCCCCCCCCCCCCCCCCCCCCCCCCCCC\n",
      "\n",
      "True SMILES: O=C(NC(COP(=O)([O-])OCC[N+](C)(C)C)C(O)C=CCCC=CCCCCCCCCCCCC)CCCCCCCCCCCCCCCCCCCC=CCC=CCCCCCCCCCCC\n",
      "Pred SMILES: O=C(NC(COP(=O)([O-])OCC[N+](C)(C)C)C(O)C=CCCC=CCCCCCCCCCCCC)CCCCCCCCCCCCCCCCCCCC=CCC=CCCCCCCCCCCC\n",
      "\n",
      "True SMILES: O=C(NC(COP(=O)([O-])OCC[N+](C)(C)C)C(O)C=CCCC=CCCCCCCCCCCCC)CCCCCCCCCCCCCCCCCCCC=CCCCCCCCCCCCCCC\n",
      "Pred SMILES: O=C(NC(COP(=O)([O-])OCC[N+](C)(C)C)C(O)C=CCCC=CCCCCCCCCCCCC)CCCCCCCCCCCCCCCCCCCC=CCCCCCCCCCCCCCC\n",
      "\n",
      "True SMILES: O=C(NC(COP(=O)([O-])OCC[N+](C)(C)C)C(O)C=CCCC=CCCCCCCCCCCCC)CCCCCCCCCCCCCCCCCCCCCCCC\n",
      "Pred SMILES: O=C(NC(COP(=O)([O-])OCC[N+](C)(C)C)C(O)C=CCCC=CCCCCCCCCCCCC)CCCCCCCCCCCCCCCCCCCCCCCC\n",
      "\n",
      "True SMILES: O=C(NC(COP(=O)([O-])OCC[N+](C)(C)C)C(O)C=CCCC=CCCCCCCCCCCCC)CCCCCCCCCCCCCCCCC=CCC=CCC\n",
      "Pred SMILES: O=C(NC(COP(=O)([O-])OCC[N+](C)(C)C)C(O)C=CCCC=CCCCCCCCCCCCC)CCCCCCCCCCCCCCCCC=CCC=CCC\n",
      "\n",
      "True SMILES: O=C(NC(COP(=O)([O-])OCC[N+](C)(C)C)C(O)C=CCCC=CCCCCCCCCCCCC)CCCCCCCCCC=CCCCCCCCCCCCC\n",
      "Pred SMILES: O=C(NC(COP(=O)([O-])OCC[N+](C)(C)C)C(O)C=CCCC=CCCCCCCCCCCCC)CCCCCCCCCC=CCCCCCCCCCCCC\n",
      "\n",
      "True SMILES: O=C(NC(COP(=O)([O-])OCC[N+](C)(C)C)C(O)C=CCCC=CCCCCCCCCCCCC)CCCCCCCCCCCCCCCCCCCCCCC\n",
      "Pred SMILES: O=C(NC(COP(=O)([O-])OCC[N+](C)(C)C)C(O)C=CCCC=CCCCCCCCCCCCC)CCCCCCCCCCCCCCCCCCCCCCC\n",
      "\n",
      "True SMILES: O=C(NC(COP(=O)([O-])OCC[N+](C)(C)C)C(O)C=CCCC=CCCCCCCCCCCCC)CCCCCCCCCC=CCCCCCCCCCCC\n",
      "Pred SMILES: O=C(NC(COP(=O)([O-])OCC[N+](C)(C)C)C(O)C=CCCC=CCCCCCCCCCCCC)CCCCCCCCCC=CCCCCCCCCCCC\n",
      "\n",
      "True SMILES: O=C(NC(COP(=O)([O-])OCC[N+](C)(C)C)C(O)C=CCCCCCCCCCCCCCCCC)CCCCCCCCCCCCCCCCCCCC=CCCCCCCCCCCCCCCCCCCCC\n",
      "Pred SMILES: O=C(NC(COP(=O)([O-])OCC[N+](C)(C)C)C(O)C=CCCCCCCCCCCCCCCCC)CCCCCCCCCCCCCCCCCCCC=CCCCCCCCCCCCCCCCCCCCCC\n",
      "\n",
      "True SMILES: O=C(NC(COP(=O)([O-])OCC[N+](C)(C)C)C(O)C=CCCCCCCCCCCCCCCCC)CCCCCCCCCCCCCCCCCCCCCCCCCCCCCCCCCCCCCCCCC\n",
      "Pred SMILES: O=C(NC(COP(=O)([O-])OCC[N+](C)(C)C)C(O)C=CCCCCCCCCCCCCCCCC)CCCCCCCCCCCCCCCCCCCCCCCCCCCCCCCCCCCCCCCCC\n",
      "\n",
      "True SMILES: O=C(NC(COP(=O)([O-])OCC[N+](C)(C)C)C(O)C=CCCCCCCCCCCCCCCCC)CCCCCCCCCCCCCCCCCCCC=CCC=CCCCCCCCCCCCCCCC\n",
      "Pred SMILES: O=C(NC(COP(=O)([O-])OCC[N+](C)(C)C)C(O)C=CCCCCCCCCCCCCCCCC)CCCCCCCCCCCCCCCCCCCC=CCC=CCCCCCCCCCCCCCCC\n",
      "\n",
      "True SMILES: O=C(NC(COP(=O)([O-])OCC[N+](C)(C)C)C(O)C=CCCCCCCCCCCCCCCCC)CCCCCCCCCCCCCCCCCCCC=CCCCCCCCCCCCCCCCCCC\n",
      "Pred SMILES: O=C(NC(COP(=O)([O-])OCC[N+](C)(C)C)C(O)C=CCCCCCCCCCCCCCCCC)CCCCCCCCCCCCCCCCCCCC=CCCCCCCCCCCCCCCCCCC\n",
      "\n",
      "True SMILES: O=C(NC(COP(=O)([O-])OCC[N+](C)(C)C)C(O)C=CCCCCCCCCCCCCCCCC)CCCCCCCCCCCCCCCCCCCCCCCCCCCCCCCCCCCCCCC\n",
      "Pred SMILES: O=C(NC(COP(=O)([O-])OCC[N+](C)(C)C)C(O)C=CCCCCCCCCCCCCCCCC)CCCCCCCCCCCCCCCCCCCCCCCCCCCCCCCCCCCCCCC\n",
      "\n",
      "Sequence Accuracy: 0.8469\n",
      "Average Sequence Loss: 0.0153\n"
     ]
    }
   ],
   "source": [
    "seq_accuracy, avg_seq_loss = evaluate_model_seq2seq(model, test_loader, smiles_vocab)"
   ]
  },
  {
   "cell_type": "code",
   "execution_count": 15,
   "metadata": {},
   "outputs": [
    {
     "data": {
      "image/png": "[encoded data removed]",
      "text/plain": [
       "<Figure size 1200x400 with 2 Axes>"
      ]
     },
     "metadata": {},
     "output_type": "display_data"
    }
   ],
   "source": [
    "# Visualize training history\n",
    "import matplotlib.pyplot as plt\n",
    "\n",
    "plt.figure(figsize=(12, 4))\n",
    "plt.subplot(1, 2, 1)\n",
    "plt.plot(history['seq_loss'].values(), label='Sequence Loss')\n",
    "plt.xlabel('Epoch')\n",
    "plt.ylabel('Loss')\n",
    "plt.legend()\n",
    "\n",
    "plt.subplot(1, 2, 2)\n",
    "plt.plot(history['seq_accuracy'].values(), label='Sequence Accuracy')\n",
    "plt.xlabel('Epoch')\n",
    "plt.ylabel('Accuracy')\n",
    "plt.legend()\n",
    "\n",
    "plt.tight_layout()\n",
    "plt.show()"
   ]
  },
  {
   "cell_type": "code",
   "execution_count": 19,
   "metadata": {},
   "outputs": [
    {
     "name": "stdout",
     "output_type": "stream",
     "text": [
      "\n",
      "Spectra tokenized with direct tokenization:\n",
      "\n",
      "SMILES tokenized with atom_wise tokenization\n",
      "Sample shape: torch.Size([32, 1, 112, 16])\n"
     ]
    }
   ],
   "source": [
    "results = {}\n",
    "print(f\"\\nSpectra tokenized with {method} tokenization:\")\n",
    "print(f\"\\nSMILES tokenized with {'atom_wise'} tokenization\")\n",
    "smiles_vocab = smiles_vocabs['atom_wise']\n",
    "\n",
    "train_loader, test_loader = load_tokenized_data_with_smiles(df, df, \n",
    "                                                            method, \n",
    "                                                            smiles_vocab, \n",
    "                                                            max_mz=max_mz)\n",
    "\n",
    "#num_classes = len(label_encoder.classes_)\n",
    "smiles_vocab_size = len(smiles_vocab)\n",
    "\n",
    "# sample batch used for input dimensions\n",
    "sample_batch, target_batch = next(iter(train_loader))\n",
    "print(\"Spectra shape:\", sample_batch.shape)\n",
    "print(\"SMILES shape:\", target_batch.shape)\n",
    "embed_depth = sample_batch.shape[3]"
   ]
  },
  {
   "cell_type": "code",
   "execution_count": 20,
   "metadata": {},
   "outputs": [
    {
     "name": "stdout",
     "output_type": "stream",
     "text": [
      "MS_VIT_Seq2Seq(\n",
      "  (embedding): Linear(in_features=16, out_features=64, bias=True)\n",
      "  (pos_encoder): PositionalEncoding()\n",
      "  (transformer_encoder): TransformerEncoder(\n",
      "    (layers): ModuleList(\n",
      "      (0-1): 2 x TransformerEncoderLayer(\n",
      "        (self_attn): MultiheadAttention(\n",
      "          (out_proj): NonDynamicallyQuantizableLinear(in_features=64, out_features=64, bias=True)\n",
      "        )\n",
      "        (linear1): Linear(in_features=64, out_features=256, bias=True)\n",
      "        (dropout): Dropout(p=0.1, inplace=False)\n",
      "        (linear2): Linear(in_features=256, out_features=64, bias=True)\n",
      "        (norm1): LayerNorm((64,), eps=1e-05, elementwise_affine=True)\n",
      "        (norm2): LayerNorm((64,), eps=1e-05, elementwise_affine=True)\n",
      "        (dropout1): Dropout(p=0.1, inplace=False)\n",
      "        (dropout2): Dropout(p=0.1, inplace=False)\n",
      "      )\n",
      "    )\n",
      "  )\n",
      "  (smiles_embedding): Embedding(12, 64)\n",
      "  (transformer_decoder): TransformerDecoder(\n",
      "    (layers): ModuleList(\n",
      "      (0-1): 2 x TransformerDecoderLayer(\n",
      "        (self_attn): MultiheadAttention(\n",
      "          (out_proj): NonDynamicallyQuantizableLinear(in_features=64, out_features=64, bias=True)\n",
      "        )\n",
      "        (multihead_attn): MultiheadAttention(\n",
      "          (out_proj): NonDynamicallyQuantizableLinear(in_features=64, out_features=64, bias=True)\n",
      "        )\n",
      "        (linear1): Linear(in_features=64, out_features=256, bias=True)\n",
      "        (dropout): Dropout(p=0.1, inplace=False)\n",
      "        (linear2): Linear(in_features=256, out_features=64, bias=True)\n",
      "        (norm1): LayerNorm((64,), eps=1e-05, elementwise_affine=True)\n",
      "        (norm2): LayerNorm((64,), eps=1e-05, elementwise_affine=True)\n",
      "        (norm3): LayerNorm((64,), eps=1e-05, elementwise_affine=True)\n",
      "        (dropout1): Dropout(p=0.1, inplace=False)\n",
      "        (dropout2): Dropout(p=0.1, inplace=False)\n",
      "        (dropout3): Dropout(p=0.1, inplace=False)\n",
      "      )\n",
      "    )\n",
      "  )\n",
      "  (fc_smiles): Linear(in_features=64, out_features=12, bias=True)\n",
      ")\n"
     ]
    }
   ],
   "source": [
    "model = MS_VIT_Seq2Seq(\n",
    "    smiles_vocab_size=len(smiles_vocab),\n",
    "    embed_depth=embed_depth,\n",
    "    d_model=64,           # Reduced from 256\n",
    "    nhead=4,              # Reduced from 8\n",
    "    num_layers=2,         # Reduced from 6\n",
    "    dim_feedforward=256,  # Reduced from 2048\n",
    "    dropout=0.1,\n",
    "    num_classes=None\n",
    ")"
   ]
  },
  {
   "cell_type": "code",
   "execution_count": 21,
   "metadata": {},
   "outputs": [
    {
     "name": "stdout",
     "output_type": "stream",
     "text": [
      "Saving checkpoints to ./model_checkpoints/checkpoint_4\n"
     ]
    },
    {
     "data": {
      "application/vnd.jupyter.widget-view+json": {
       "model_id": "d649d1420d7b455caffa313cc613a913",
       "version_major": 2,
       "version_minor": 0
      },
      "text/plain": [
       "Epoch 1/50 [Train]:   0%|          | 0/157 [00:00<?, ?it/s]"
      ]
     },
     "metadata": {},
     "output_type": "display_data"
    },
    {
     "data": {
      "application/vnd.jupyter.widget-view+json": {
       "model_id": "d74aae3e95eb4116a8030254722945ac",
       "version_major": 2,
       "version_minor": 0
      },
      "text/plain": [
       "Epoch 1/50 [Test]:   0%|          | 0/157 [00:00<?, ?it/s]"
      ]
     },
     "metadata": {},
     "output_type": "display_data"
    },
    {
     "data": {
      "application/vnd.jupyter.widget-view+json": {
       "model_id": "1d8ca56f85f84e0d8ffec00af7fb3d2f",
       "version_major": 2,
       "version_minor": 0
      },
      "text/plain": [
       "Epoch 2/50 [Train]:   0%|          | 0/157 [00:00<?, ?it/s]"
      ]
     },
     "metadata": {},
     "output_type": "display_data"
    },
    {
     "data": {
      "application/vnd.jupyter.widget-view+json": {
       "model_id": "1b169e7bd1134304b6ff420276e08123",
       "version_major": 2,
       "version_minor": 0
      },
      "text/plain": [
       "Epoch 2/50 [Test]:   0%|          | 0/157 [00:00<?, ?it/s]"
      ]
     },
     "metadata": {},
     "output_type": "display_data"
    },
    {
     "data": {
      "application/vnd.jupyter.widget-view+json": {
       "model_id": "8cf1a201105a4a1e8679bedb0317375c",
       "version_major": 2,
       "version_minor": 0
      },
      "text/plain": [
       "Epoch 3/50 [Train]:   0%|          | 0/157 [00:00<?, ?it/s]"
      ]
     },
     "metadata": {},
     "output_type": "display_data"
    },
    {
     "data": {
      "application/vnd.jupyter.widget-view+json": {
       "model_id": "afd7ff58cf0146d0ba8e000fb71ed4ee",
       "version_major": 2,
       "version_minor": 0
      },
      "text/plain": [
       "Epoch 3/50 [Test]:   0%|          | 0/157 [00:00<?, ?it/s]"
      ]
     },
     "metadata": {},
     "output_type": "display_data"
    },
    {
     "data": {
      "application/vnd.jupyter.widget-view+json": {
       "model_id": "7910e469a21f42d392fc924019d461ec",
       "version_major": 2,
       "version_minor": 0
      },
      "text/plain": [
       "Epoch 4/50 [Train]:   0%|          | 0/157 [00:00<?, ?it/s]"
      ]
     },
     "metadata": {},
     "output_type": "display_data"
    },
    {
     "data": {
      "application/vnd.jupyter.widget-view+json": {
       "model_id": "905ad95e44ca488a8e0bf88c979d7c10",
       "version_major": 2,
       "version_minor": 0
      },
      "text/plain": [
       "Epoch 4/50 [Test]:   0%|          | 0/157 [00:00<?, ?it/s]"
      ]
     },
     "metadata": {},
     "output_type": "display_data"
    },
    {
     "data": {
      "application/vnd.jupyter.widget-view+json": {
       "model_id": "4f7fb832fc884b84a506fe43e0e78e92",
       "version_major": 2,
       "version_minor": 0
      },
      "text/plain": [
       "Epoch 5/50 [Train]:   0%|          | 0/157 [00:00<?, ?it/s]"
      ]
     },
     "metadata": {},
     "output_type": "display_data"
    },
    {
     "data": {
      "application/vnd.jupyter.widget-view+json": {
       "model_id": "a4c82a8b9cc24163924c521eace2b0ed",
       "version_major": 2,
       "version_minor": 0
      },
      "text/plain": [
       "Epoch 5/50 [Test]:   0%|          | 0/157 [00:00<?, ?it/s]"
      ]
     },
     "metadata": {},
     "output_type": "display_data"
    },
    {
     "data": {
      "application/vnd.jupyter.widget-view+json": {
       "model_id": "add610ceb4544e718b985708b6aa9f55",
       "version_major": 2,
       "version_minor": 0
      },
      "text/plain": [
       "Epoch 6/50 [Train]:   0%|          | 0/157 [00:00<?, ?it/s]"
      ]
     },
     "metadata": {},
     "output_type": "display_data"
    },
    {
     "data": {
      "application/vnd.jupyter.widget-view+json": {
       "model_id": "dca01e665c93430d986c4e2992817c8f",
       "version_major": 2,
       "version_minor": 0
      },
      "text/plain": [
       "Epoch 6/50 [Test]:   0%|          | 0/157 [00:00<?, ?it/s]"
      ]
     },
     "metadata": {},
     "output_type": "display_data"
    },
    {
     "data": {
      "application/vnd.jupyter.widget-view+json": {
       "model_id": "058a5e94a9a24eb18f60ff4cf92f0324",
       "version_major": 2,
       "version_minor": 0
      },
      "text/plain": [
       "Epoch 7/50 [Train]:   0%|          | 0/157 [00:00<?, ?it/s]"
      ]
     },
     "metadata": {},
     "output_type": "display_data"
    }
   ],
   "source": [
    "optimizer = optim.Adam(model.parameters(), lr=0.0001)\n",
    "criterion_cls = nn.CrossEntropyLoss()\n",
    "criterion_seq = nn.CrossEntropyLoss(ignore_index=smiles_vocab['<pad>'])\n",
    "\n",
    "model, history = train_model_seq2seq(model, train_loader, test_loader, \n",
    "                                     optimizer, criterion_seq, \n",
    "                                     num_epochs=50, evaluate=True, verbose=1,\n",
    "                                     checkpoint_path=\"./model_checkpoints/\",\n",
    "                                     meta_tag=(method+\"_atom_wise\"))"
   ]
  },
  {
   "cell_type": "code",
   "execution_count": null,
   "metadata": {},
   "outputs": [],
   "source": [
    "seq_accuracy, avg_seq_loss = evaluate_model_seq2seq(model, test_loader, smiles_vocab)"
   ]
  },
  {
   "cell_type": "code",
   "execution_count": null,
   "metadata": {},
   "outputs": [],
   "source": [
    "# Visualize training history\n",
    "import matplotlib.pyplot as plt\n",
    "\n",
    "plt.figure(figsize=(12, 4))\n",
    "plt.subplot(1, 2, 1)\n",
    "plt.plot(history['seq_loss'].values(), label='Sequence Loss')\n",
    "plt.xlabel('Epoch')\n",
    "plt.ylabel('Loss')\n",
    "plt.legend()\n",
    "\n",
    "plt.subplot(1, 2, 2)\n",
    "plt.plot(history['seq_accuracy'].values(), label='Sequence Accuracy')\n",
    "plt.xlabel('Epoch')\n",
    "plt.ylabel('Accuracy')\n",
    "plt.legend()\n",
    "\n",
    "plt.tight_layout()\n",
    "plt.show()"
   ]
  },
  {
   "cell_type": "code",
   "execution_count": null,
   "metadata": {},
   "outputs": [],
   "source": [
    "results = {}\n",
    "print(f\"\\nSpectra tokenized with {method} tokenization:\")\n",
    "print(f\"\\nSMILES tokenized with {'substructure'} tokenization\")\n",
    "smiles_vocab = smiles_vocabs['substructure']\n",
    "\n",
    "train_loader, test_loader = load_tokenized_data_with_smiles(df, df, \n",
    "                                                            method, \n",
    "                                                            smiles_vocab, \n",
    "                                                            max_mz=max_mz)\n",
    "\n",
    "#num_classes = len(label_encoder.classes_)\n",
    "smiles_vocab_size = len(smiles_vocab)\n",
    "\n",
    "# sample batch used for input dimensions\n",
    "sample_batch, _ = next(iter(train_loader))\n",
    "print(\"Sample shape:\", sample_batch.shape)\n",
    "embed_depth = sample_batch.shape[3]"
   ]
  },
  {
   "cell_type": "code",
   "execution_count": null,
   "metadata": {},
   "outputs": [],
   "source": [
    "model = MS_VIT_Seq2Seq(\n",
    "    smiles_vocab_size=len(smiles_vocab),\n",
    "    embed_depth=embed_depth,\n",
    "    d_model=64,           # Reduced from 256\n",
    "    nhead=4,              # Reduced from 8\n",
    "    num_layers=2,         # Reduced from 6\n",
    "    dim_feedforward=256,  # Reduced from 2048\n",
    "    dropout=0.1,\n",
    "    num_classes=None\n",
    ")\n",
    "print(model)"
   ]
  },
  {
   "cell_type": "code",
   "execution_count": null,
   "metadata": {},
   "outputs": [],
   "source": [
    "optimizer = optim.Adam(model.parameters(), lr=0.0001)\n",
    "criterion_cls = nn.CrossEntropyLoss()\n",
    "criterion_seq = nn.CrossEntropyLoss(ignore_index=smiles_vocab['<pad>'])\n",
    "\n",
    "model, history = train_model_seq2seq(model, train_loader, test_loader, \n",
    "                                     optimizer, criterion_seq, \n",
    "                                     num_epochs=50, evaluate=True, verbose=1,\n",
    "                                     checkpoint_path=\"./model_checkpoints/\",\n",
    "                                     meta_tag=(method+\"_substructure\"))"
   ]
  },
  {
   "cell_type": "code",
   "execution_count": null,
   "metadata": {},
   "outputs": [],
   "source": [
    "seq_accuracy, avg_seq_loss = evaluate_model_seq2seq(model, test_loader, smiles_vocab)"
   ]
  },
  {
   "cell_type": "code",
   "execution_count": null,
   "metadata": {},
   "outputs": [],
   "source": [
    "# Visualize training history\n",
    "import matplotlib.pyplot as plt\n",
    "\n",
    "plt.figure(figsize=(12, 4))\n",
    "plt.subplot(1, 2, 1)\n",
    "plt.plot(history['seq_loss'].values(), label='Sequence Loss')\n",
    "plt.xlabel('Epoch')\n",
    "plt.ylabel('Loss')\n",
    "plt.legend()\n",
    "\n",
    "plt.subplot(1, 2, 2)\n",
    "plt.plot(history['seq_accuracy'].values(), label='Sequence Accuracy')\n",
    "plt.xlabel('Epoch')\n",
    "plt.ylabel('Accuracy')\n",
    "plt.legend()\n",
    "\n",
    "plt.tight_layout()\n",
    "plt.show()"
   ]
  }
 ],
 "metadata": {
  "kernelspec": {
   "display_name": "ml",
   "language": "python",
   "name": "python3"
  },
  "language_info": {
   "codemirror_mode": {
    "name": "ipython",
    "version": 3
   },
   "file_extension": ".py",
   "mimetype": "text/x-python",
   "name": "python",
   "nbconvert_exporter": "python",
   "pygments_lexer": "ipython3",
   "version": "3.11.4"
  }
 },
 "nbformat": 4,
 "nbformat_minor": 2
}
