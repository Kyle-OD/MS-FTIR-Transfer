{
 "cells": [
  {
   "cell_type": "code",
   "execution_count": 1,
   "metadata": {},
   "outputs": [],
   "source": [
    "from ms_data_funcs import *\n",
    "from transformer_funcs import *\n",
    "\n",
    "import torch\n",
    "import pandas as pd\n",
    "from sklearn.preprocessing import LabelEncoder"
   ]
  },
  {
   "cell_type": "code",
   "execution_count": 2,
   "metadata": {},
   "outputs": [
    {
     "name": "stdout",
     "output_type": "stream",
     "text": [
      "CUDA is available.\n",
      "PyTorch version: 2.0.1+cu118\n",
      "CUDA version: 11.8\n",
      "Number of available GPUs: 1\n",
      "GPU name: NVIDIA GeForce RTX 3080\n"
     ]
    }
   ],
   "source": [
    "if torch.cuda.is_available():\n",
    "    print(\"CUDA is available.\")\n",
    "    print(\"PyTorch version:\", torch.__version__)\n",
    "    print(\"CUDA version:\", torch.version.cuda)\n",
    "    print(\"Number of available GPUs:\", torch.cuda.device_count())\n",
    "    print(\"GPU name:\", torch.cuda.get_device_name(0))\n",
    "else:\n",
    "    print(\"CUDA is not available.\")"
   ]
  },
  {
   "cell_type": "code",
   "execution_count": 3,
   "metadata": {},
   "outputs": [
    {
     "name": "stdout",
     "output_type": "stream",
     "text": [
      "Using device: cuda\n"
     ]
    }
   ],
   "source": [
    "device = torch.device(\"cuda\" if torch.cuda.is_available() else \"cpu\")\n",
    "print(f\"Using device: {device}\")"
   ]
  },
  {
   "cell_type": "code",
   "execution_count": 4,
   "metadata": {},
   "outputs": [
    {
     "name": "stderr",
     "output_type": "stream",
     "text": [
      "/tmp/ipykernel_30323/3583281888.py:1: DtypeWarning: Columns (7,8,11,13) have mixed types. Specify dtype option on import or set low_memory=False.\n",
      "  df = pd.read_csv('data/MoNA/in-silico-SMILES.csv')\n"
     ]
    },
    {
     "name": "stdout",
     "output_type": "stream",
     "text": [
      "Original shape: (1837926, 18)\n"
     ]
    }
   ],
   "source": [
    "df = pd.read_csv('data/MoNA/in-silico-SMILES.csv') \n",
    "print(f\"Original shape: {df.shape}\")"
   ]
  },
  {
   "cell_type": "code",
   "execution_count": 5,
   "metadata": {},
   "outputs": [],
   "source": [
    "method='direct'"
   ]
  },
  {
   "cell_type": "code",
   "execution_count": 6,
   "metadata": {},
   "outputs": [],
   "source": [
    "label_encoder = LabelEncoder()\n",
    "y = label_encoder.fit_transform(df['molecular_formula'])\n",
    "max_mz = calculate_max_mz(df)\n",
    "\n",
    "X_train, X_test = df, df\n",
    "y_train, y_test = y, y"
   ]
  },
  {
   "cell_type": "code",
   "execution_count": 7,
   "metadata": {},
   "outputs": [
    {
     "data": {
      "text/plain": [
       "(19867,)"
      ]
     },
     "execution_count": 7,
     "metadata": {},
     "output_type": "execute_result"
    }
   ],
   "source": [
    "df['molecular_formula'].unique().shape"
   ]
  },
  {
   "cell_type": "code",
   "execution_count": null,
   "metadata": {},
   "outputs": [],
   "source": [
    "smiles_vocabs = get_or_create_smiles_vocabs(df)"
   ]
  },
  {
   "cell_type": "code",
   "execution_count": null,
   "metadata": {},
   "outputs": [],
   "source": [
    "results = {}\n",
    "print(f\"\\nSpectra tokenized with {method} tokenization:\")\n",
    "print(f\"\\nSMILES tokenized with {'character'} tokenization\")\n",
    "smiles_vocab = smiles_vocabs['character']\n",
    "\n",
    "train_loader, test_loader = load_tokenized_data_with_smiles(X_train, y_train, \n",
    "                                                            X_test, y_test, \n",
    "                                                            method, \n",
    "                                                            smiles_vocab, \n",
    "                                                            max_mz=max_mz)\n",
    "\n",
    "#num_classes = len(label_encoder.classes_)\n",
    "smiles_vocab_size = len(smiles_vocab)\n",
    "\n",
    "# sample batch used for input dimensions\n",
    "sample_batch, _ = next(iter(train_loader))\n",
    "print(\"Sample shape:\", sample_batch.shape)\n",
    "embed_depth = sample_batch.shape[3]"
   ]
  },
  {
   "cell_type": "code",
   "execution_count": null,
   "metadata": {},
   "outputs": [],
   "source": [
    "model = MS_VIT_Seq2Seq(\n",
    "    smiles_vocab_size=len(smiles_vocab),\n",
    "    embed_depth=embed_depth,\n",
    "    d_model=64,           # Reduced from 256\n",
    "    nhead=4,              # Reduced from 8\n",
    "    num_layers=2,         # Reduced from 6\n",
    "    dim_feedforward=256,  # Reduced from 2048\n",
    "    dropout=0.1,\n",
    "    num_classes=None\n",
    ")\n",
    "print(model)"
   ]
  },
  {
   "cell_type": "code",
   "execution_count": null,
   "metadata": {},
   "outputs": [],
   "source": [
    "optimizer = optim.Adam(model.parameters(), lr=0.0001)\n",
    "criterion_cls = nn.CrossEntropyLoss()\n",
    "criterion_seq = nn.CrossEntropyLoss(ignore_index=smiles_vocab['<pad>'])\n",
    "\n",
    "model, history = train_model_seq2seq(model, train_loader, test_loader, \n",
    "                                     optimizer, criterion_seq, \n",
    "                                     num_epochs=50, evaluate=True, verbose=1,\n",
    "                                     checkpoint_path=\"./model_checkpoints/\",\n",
    "                                     meta_tag=(method+\"_character\"))"
   ]
  },
  {
   "cell_type": "code",
   "execution_count": null,
   "metadata": {},
   "outputs": [],
   "source": [
    "cls_accuracy, seq_accuracy = evaluate_model_seq2seq(model, test_loader, smiles_vocab)"
   ]
  },
  {
   "cell_type": "code",
   "execution_count": null,
   "metadata": {},
   "outputs": [],
   "source": [
    "# Visualize training history\n",
    "import matplotlib.pyplot as plt\n",
    "\n",
    "plt.figure(figsize=(12, 4))\n",
    "plt.subplot(1, 2, 1)\n",
    "plt.plot(history['seq_loss'].values(), label='Sequence Loss')\n",
    "plt.xlabel('Epoch')\n",
    "plt.ylabel('Loss')\n",
    "plt.legend()\n",
    "\n",
    "plt.subplot(1, 2, 2)\n",
    "plt.plot(history['seq_accuracy'].values(), label='Sequence Accuracy')\n",
    "plt.xlabel('Epoch')\n",
    "plt.ylabel('Accuracy')\n",
    "plt.legend()\n",
    "\n",
    "plt.tight_layout()\n",
    "plt.show()"
   ]
  }
 ],
 "metadata": {
  "kernelspec": {
   "display_name": "ml",
   "language": "python",
   "name": "python3"
  },
  "language_info": {
   "codemirror_mode": {
    "name": "ipython",
    "version": 3
   },
   "file_extension": ".py",
   "mimetype": "text/x-python",
   "name": "python",
   "nbconvert_exporter": "python",
   "pygments_lexer": "ipython3",
   "version": "3.11.4"
  }
 },
 "nbformat": 4,
 "nbformat_minor": 2
}
