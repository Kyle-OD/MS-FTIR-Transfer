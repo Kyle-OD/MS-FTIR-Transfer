{
 "cells": [
  {
   "cell_type": "code",
   "execution_count": 1,
   "metadata": {},
   "outputs": [],
   "source": [
    "from ms_data_funcs import *\n",
    "from transformer_funcs import *\n",
    "\n",
    "import torch\n",
    "import pandas as pd\n",
    "from sklearn.preprocessing import LabelEncoder"
   ]
  },
  {
   "cell_type": "code",
   "execution_count": 2,
   "metadata": {},
   "outputs": [
    {
     "name": "stdout",
     "output_type": "stream",
     "text": [
      "CUDA is available.\n",
      "PyTorch version: 2.0.1+cu118\n",
      "CUDA version: 11.8\n",
      "Number of available GPUs: 1\n",
      "GPU name: NVIDIA GeForce RTX 3080\n"
     ]
    }
   ],
   "source": [
    "if torch.cuda.is_available():\n",
    "    print(\"CUDA is available.\")\n",
    "    print(\"PyTorch version:\", torch.__version__)\n",
    "    print(\"CUDA version:\", torch.version.cuda)\n",
    "    print(\"Number of available GPUs:\", torch.cuda.device_count())\n",
    "    print(\"GPU name:\", torch.cuda.get_device_name(0))\n",
    "else:\n",
    "    print(\"CUDA is not available.\")"
   ]
  },
  {
   "cell_type": "code",
   "execution_count": 3,
   "metadata": {},
   "outputs": [
    {
     "name": "stdout",
     "output_type": "stream",
     "text": [
      "Using device: cuda\n"
     ]
    }
   ],
   "source": [
    "device = torch.device(\"cuda\" if torch.cuda.is_available() else \"cpu\")\n",
    "print(f\"Using device: {device}\")"
   ]
  },
  {
   "cell_type": "code",
   "execution_count": 4,
   "metadata": {},
   "outputs": [
    {
     "name": "stderr",
     "output_type": "stream",
     "text": [
      "/tmp/ipykernel_8925/3583281888.py:1: DtypeWarning: Columns (7,8,11,13) have mixed types. Specify dtype option on import or set low_memory=False.\n",
      "  df = pd.read_csv('data/MoNA/in-silico-SMILES.csv')\n"
     ]
    },
    {
     "name": "stdout",
     "output_type": "stream",
     "text": [
      "Original shape: (1837926, 18)\n"
     ]
    }
   ],
   "source": [
    "df = pd.read_csv('data/MoNA/in-silico-SMILES.csv') \n",
    "print(f\"Original shape: {df.shape}\")"
   ]
  },
  {
   "cell_type": "code",
   "execution_count": 5,
   "metadata": {},
   "outputs": [],
   "source": [
    "# Minimal test\n",
    "df = df.iloc[0:5000]"
   ]
  },
  {
   "cell_type": "code",
   "execution_count": 6,
   "metadata": {},
   "outputs": [],
   "source": [
    "method='direct'"
   ]
  },
  {
   "cell_type": "code",
   "execution_count": 7,
   "metadata": {},
   "outputs": [],
   "source": [
    "label_encoder = LabelEncoder()\n",
    "y = label_encoder.fit_transform(df['molecular_formula'])\n",
    "max_mz = calculate_max_mz(df)"
   ]
  },
  {
   "cell_type": "code",
   "execution_count": 8,
   "metadata": {},
   "outputs": [
    {
     "data": {
      "text/plain": [
       "(1054,)"
      ]
     },
     "execution_count": 8,
     "metadata": {},
     "output_type": "execute_result"
    }
   ],
   "source": [
    "df['molecular_formula'].unique().shape"
   ]
  },
  {
   "cell_type": "code",
   "execution_count": 9,
   "metadata": {},
   "outputs": [
    {
     "name": "stdout",
     "output_type": "stream",
     "text": [
      "Loading existing character vocabulary...\n",
      "SMILES vocabulary size (character): 32\n",
      "Loading existing atom_wise vocabulary...\n",
      "SMILES vocabulary size (atom_wise): 12\n",
      "Loading existing substructure vocabulary...\n",
      "SMILES vocabulary size (substructure): 38759\n"
     ]
    }
   ],
   "source": [
    "smiles_vocabs = get_or_create_smiles_vocabs(df)"
   ]
  },
  {
   "cell_type": "code",
   "execution_count": 10,
   "metadata": {},
   "outputs": [
    {
     "name": "stdout",
     "output_type": "stream",
     "text": [
      "\n",
      "Spectra tokenized with direct tokenization:\n",
      "\n",
      "SMILES tokenized with character tokenization\n",
      "Sample shape: torch.Size([32, 1, 112, 16])\n"
     ]
    }
   ],
   "source": [
    "results = {}\n",
    "print(f\"\\nSpectra tokenized with {method} tokenization:\")\n",
    "print(f\"\\nSMILES tokenized with {'character'} tokenization\")\n",
    "smiles_vocab = smiles_vocabs['character']\n",
    "\n",
    "train_loader, test_loader = load_tokenized_data_with_smiles(df, df, \n",
    "                                                            method, \n",
    "                                                            smiles_vocab, \n",
    "                                                            max_mz=max_mz)\n",
    "\n",
    "#num_classes = len(label_encoder.classes_)\n",
    "smiles_vocab_size = len(smiles_vocab)\n",
    "\n",
    "# sample batch used for input dimensions\n",
    "sample_batch, target_batch = next(iter(train_loader))\n",
    "print(\"Spectra shape:\", sample_batch.shape)\n",
    "print(\"SMILES shape:\", target_batch.shape)\n",
    "embed_depth = sample_batch.shape[3]"
   ]
  },
  {
   "cell_type": "code",
   "execution_count": 11,
   "metadata": {},
   "outputs": [],
   "source": [
    "model = MS_VIT_Seq2Seq(\n",
    "    smiles_vocab_size=len(smiles_vocab),\n",
    "    embed_depth=embed_depth,\n",
    "    d_model=64,           # Reduced from 256\n",
    "    nhead=4,              # Reduced from 8\n",
    "    num_layers=2,         # Reduced from 6\n",
    "    dim_feedforward=256,  # Reduced from 2048\n",
    "    dropout=0.1,\n",
    "    num_classes=None\n",
    ")"
   ]
  },
  {
   "cell_type": "code",
   "execution_count": 12,
   "metadata": {},
   "outputs": [
    {
     "name": "stdout",
     "output_type": "stream",
     "text": [
      "Saving checkpoints to ./model_checkpoints/checkpoint_5\n"
     ]
    },
    {
     "data": {
      "application/vnd.jupyter.widget-view+json": {
       "model_id": "9573ee2f43564d9d895bcc429d33d9ea",
       "version_major": 2,
       "version_minor": 0
      },
      "text/plain": [
       "Epoch 1/50 [Train]:   0%|          | 0/157 [00:00<?, ?it/s]"
      ]
     },
     "metadata": {},
     "output_type": "display_data"
    },
    {
     "data": {
      "application/vnd.jupyter.widget-view+json": {
       "model_id": "64f970e93692465aa0ef3e234b1ed88d",
       "version_major": 2,
       "version_minor": 0
      },
      "text/plain": [
       "Epoch 1/50 [Test]:   0%|          | 0/157 [00:00<?, ?it/s]"
      ]
     },
     "metadata": {},
     "output_type": "display_data"
    },
    {
     "data": {
      "application/vnd.jupyter.widget-view+json": {
       "model_id": "9bafa7a17c684649b9d08fe9ddd94b96",
       "version_major": 2,
       "version_minor": 0
      },
      "text/plain": [
       "Epoch 2/50 [Train]:   0%|          | 0/157 [00:00<?, ?it/s]"
      ]
     },
     "metadata": {},
     "output_type": "display_data"
    },
    {
     "data": {
      "application/vnd.jupyter.widget-view+json": {
       "model_id": "758955aba211461f830b3ec83eff80dc",
       "version_major": 2,
       "version_minor": 0
      },
      "text/plain": [
       "Epoch 2/50 [Test]:   0%|          | 0/157 [00:00<?, ?it/s]"
      ]
     },
     "metadata": {},
     "output_type": "display_data"
    },
    {
     "data": {
      "application/vnd.jupyter.widget-view+json": {
       "model_id": "782ac47cd66d4478a816432a2395302b",
       "version_major": 2,
       "version_minor": 0
      },
      "text/plain": [
       "Epoch 3/50 [Train]:   0%|          | 0/157 [00:00<?, ?it/s]"
      ]
     },
     "metadata": {},
     "output_type": "display_data"
    },
    {
     "data": {
      "application/vnd.jupyter.widget-view+json": {
       "model_id": "b32c83dc3c604c319cf0cdb89926f963",
       "version_major": 2,
       "version_minor": 0
      },
      "text/plain": [
       "Epoch 3/50 [Test]:   0%|          | 0/157 [00:00<?, ?it/s]"
      ]
     },
     "metadata": {},
     "output_type": "display_data"
    },
    {
     "data": {
      "application/vnd.jupyter.widget-view+json": {
       "model_id": "bceb90c43716421ca83a2679d2f487a9",
       "version_major": 2,
       "version_minor": 0
      },
      "text/plain": [
       "Epoch 4/50 [Train]:   0%|          | 0/157 [00:00<?, ?it/s]"
      ]
     },
     "metadata": {},
     "output_type": "display_data"
    },
    {
     "data": {
      "application/vnd.jupyter.widget-view+json": {
       "model_id": "97191389a7364f8f9e83c56b36561fd8",
       "version_major": 2,
       "version_minor": 0
      },
      "text/plain": [
       "Epoch 4/50 [Test]:   0%|          | 0/157 [00:00<?, ?it/s]"
      ]
     },
     "metadata": {},
     "output_type": "display_data"
    },
    {
     "data": {
      "application/vnd.jupyter.widget-view+json": {
       "model_id": "cf1a9bc89e964a3faa54273d9f14ec15",
       "version_major": 2,
       "version_minor": 0
      },
      "text/plain": [
       "Epoch 5/50 [Train]:   0%|          | 0/157 [00:00<?, ?it/s]"
      ]
     },
     "metadata": {},
     "output_type": "display_data"
    },
    {
     "data": {
      "application/vnd.jupyter.widget-view+json": {
       "model_id": "759a699b71894e47a82af67fc968043b",
       "version_major": 2,
       "version_minor": 0
      },
      "text/plain": [
       "Epoch 5/50 [Test]:   0%|          | 0/157 [00:00<?, ?it/s]"
      ]
     },
     "metadata": {},
     "output_type": "display_data"
    },
    {
     "data": {
      "application/vnd.jupyter.widget-view+json": {
       "model_id": "0321f9a4c47b4c3e85478c4066421f8c",
       "version_major": 2,
       "version_minor": 0
      },
      "text/plain": [
       "Epoch 6/50 [Train]:   0%|          | 0/157 [00:00<?, ?it/s]"
      ]
     },
     "metadata": {},
     "output_type": "display_data"
    },
    {
     "data": {
      "application/vnd.jupyter.widget-view+json": {
       "model_id": "f49228d6e04843988c7027fc3d2ab322",
       "version_major": 2,
       "version_minor": 0
      },
      "text/plain": [
       "Epoch 6/50 [Test]:   0%|          | 0/157 [00:00<?, ?it/s]"
      ]
     },
     "metadata": {},
     "output_type": "display_data"
    },
    {
     "data": {
      "application/vnd.jupyter.widget-view+json": {
       "model_id": "0cbcf001ffa6445c9d0fcc7ea397e474",
       "version_major": 2,
       "version_minor": 0
      },
      "text/plain": [
       "Epoch 7/50 [Train]:   0%|          | 0/157 [00:00<?, ?it/s]"
      ]
     },
     "metadata": {},
     "output_type": "display_data"
    },
    {
     "data": {
      "application/vnd.jupyter.widget-view+json": {
       "model_id": "34e2acf869624009adc3b9b7b67dc6cd",
       "version_major": 2,
       "version_minor": 0
      },
      "text/plain": [
       "Epoch 7/50 [Test]:   0%|          | 0/157 [00:00<?, ?it/s]"
      ]
     },
     "metadata": {},
     "output_type": "display_data"
    },
    {
     "data": {
      "application/vnd.jupyter.widget-view+json": {
       "model_id": "54edffccdb3141488fd65c0bde4195fa",
       "version_major": 2,
       "version_minor": 0
      },
      "text/plain": [
       "Epoch 8/50 [Train]:   0%|          | 0/157 [00:00<?, ?it/s]"
      ]
     },
     "metadata": {},
     "output_type": "display_data"
    },
    {
     "data": {
      "application/vnd.jupyter.widget-view+json": {
       "model_id": "7510929109954939a87a8254bc7fc8f5",
       "version_major": 2,
       "version_minor": 0
      },
      "text/plain": [
       "Epoch 8/50 [Test]:   0%|          | 0/157 [00:00<?, ?it/s]"
      ]
     },
     "metadata": {},
     "output_type": "display_data"
    },
    {
     "data": {
      "application/vnd.jupyter.widget-view+json": {
       "model_id": "999dd74889fe4f33ba572709adb0925d",
       "version_major": 2,
       "version_minor": 0
      },
      "text/plain": [
       "Epoch 9/50 [Train]:   0%|          | 0/157 [00:00<?, ?it/s]"
      ]
     },
     "metadata": {},
     "output_type": "display_data"
    },
    {
     "data": {
      "application/vnd.jupyter.widget-view+json": {
       "model_id": "234f887824a8437aaae46a67fdd08673",
       "version_major": 2,
       "version_minor": 0
      },
      "text/plain": [
       "Epoch 9/50 [Test]:   0%|          | 0/157 [00:00<?, ?it/s]"
      ]
     },
     "metadata": {},
     "output_type": "display_data"
    },
    {
     "data": {
      "application/vnd.jupyter.widget-view+json": {
       "model_id": "1e86ee930b004550888f03e85805e285",
       "version_major": 2,
       "version_minor": 0
      },
      "text/plain": [
       "Epoch 10/50 [Train]:   0%|          | 0/157 [00:00<?, ?it/s]"
      ]
     },
     "metadata": {},
     "output_type": "display_data"
    },
    {
     "data": {
      "application/vnd.jupyter.widget-view+json": {
       "model_id": "1de61f229df048c08961cfe2bd98ac9d",
       "version_major": 2,
       "version_minor": 0
      },
      "text/plain": [
       "Epoch 10/50 [Test]:   0%|          | 0/157 [00:00<?, ?it/s]"
      ]
     },
     "metadata": {},
     "output_type": "display_data"
    },
    {
     "data": {
      "application/vnd.jupyter.widget-view+json": {
       "model_id": "cbc6785729b0448b87adb043b06562f7",
       "version_major": 2,
       "version_minor": 0
      },
      "text/plain": [
       "Epoch 11/50 [Train]:   0%|          | 0/157 [00:00<?, ?it/s]"
      ]
     },
     "metadata": {},
     "output_type": "display_data"
    },
    {
     "data": {
      "application/vnd.jupyter.widget-view+json": {
       "model_id": "3f7fb94243484f05bc98c96a3627551e",
       "version_major": 2,
       "version_minor": 0
      },
      "text/plain": [
       "Epoch 11/50 [Test]:   0%|          | 0/157 [00:00<?, ?it/s]"
      ]
     },
     "metadata": {},
     "output_type": "display_data"
    },
    {
     "data": {
      "application/vnd.jupyter.widget-view+json": {
       "model_id": "ed2b930d6ddc485a9164acd985e99b33",
       "version_major": 2,
       "version_minor": 0
      },
      "text/plain": [
       "Epoch 12/50 [Train]:   0%|          | 0/157 [00:00<?, ?it/s]"
      ]
     },
     "metadata": {},
     "output_type": "display_data"
    },
    {
     "data": {
      "application/vnd.jupyter.widget-view+json": {
       "model_id": "4b8fc70e8b934acfa5dbecc8ae4246a2",
       "version_major": 2,
       "version_minor": 0
      },
      "text/plain": [
       "Epoch 12/50 [Test]:   0%|          | 0/157 [00:00<?, ?it/s]"
      ]
     },
     "metadata": {},
     "output_type": "display_data"
    },
    {
     "data": {
      "application/vnd.jupyter.widget-view+json": {
       "model_id": "8ec4adc17c3c4b55b623c4c28ecf8d8c",
       "version_major": 2,
       "version_minor": 0
      },
      "text/plain": [
       "Epoch 13/50 [Train]:   0%|          | 0/157 [00:00<?, ?it/s]"
      ]
     },
     "metadata": {},
     "output_type": "display_data"
    },
    {
     "data": {
      "application/vnd.jupyter.widget-view+json": {
       "model_id": "711696a1cb0b4024aaffeaf6b5a4b1a3",
       "version_major": 2,
       "version_minor": 0
      },
      "text/plain": [
       "Epoch 13/50 [Test]:   0%|          | 0/157 [00:00<?, ?it/s]"
      ]
     },
     "metadata": {},
     "output_type": "display_data"
    },
    {
     "data": {
      "application/vnd.jupyter.widget-view+json": {
       "model_id": "03552ea5641d4b378a1e163db46c1da1",
       "version_major": 2,
       "version_minor": 0
      },
      "text/plain": [
       "Epoch 14/50 [Train]:   0%|          | 0/157 [00:00<?, ?it/s]"
      ]
     },
     "metadata": {},
     "output_type": "display_data"
    },
    {
     "data": {
      "application/vnd.jupyter.widget-view+json": {
       "model_id": "85d1c038cbd9491ab8930d74f45b7a07",
       "version_major": 2,
       "version_minor": 0
      },
      "text/plain": [
       "Epoch 14/50 [Test]:   0%|          | 0/157 [00:00<?, ?it/s]"
      ]
     },
     "metadata": {},
     "output_type": "display_data"
    },
    {
     "data": {
      "application/vnd.jupyter.widget-view+json": {
       "model_id": "e40c5841cbb54ecfb751ecb0b4961447",
       "version_major": 2,
       "version_minor": 0
      },
      "text/plain": [
       "Epoch 15/50 [Train]:   0%|          | 0/157 [00:00<?, ?it/s]"
      ]
     },
     "metadata": {},
     "output_type": "display_data"
    },
    {
     "data": {
      "application/vnd.jupyter.widget-view+json": {
       "model_id": "38b681583ee4482b89d8f7f58bafcef2",
       "version_major": 2,
       "version_minor": 0
      },
      "text/plain": [
       "Epoch 15/50 [Test]:   0%|          | 0/157 [00:00<?, ?it/s]"
      ]
     },
     "metadata": {},
     "output_type": "display_data"
    },
    {
     "data": {
      "application/vnd.jupyter.widget-view+json": {
       "model_id": "468ec85f59ef43dea26a1acd042abbe0",
       "version_major": 2,
       "version_minor": 0
      },
      "text/plain": [
       "Epoch 16/50 [Train]:   0%|          | 0/157 [00:00<?, ?it/s]"
      ]
     },
     "metadata": {},
     "output_type": "display_data"
    },
    {
     "data": {
      "application/vnd.jupyter.widget-view+json": {
       "model_id": "e6908a59970d46f89de04a3cae21ab76",
       "version_major": 2,
       "version_minor": 0
      },
      "text/plain": [
       "Epoch 16/50 [Test]:   0%|          | 0/157 [00:00<?, ?it/s]"
      ]
     },
     "metadata": {},
     "output_type": "display_data"
    },
    {
     "data": {
      "application/vnd.jupyter.widget-view+json": {
       "model_id": "b604489b11494112bc15b59249d778df",
       "version_major": 2,
       "version_minor": 0
      },
      "text/plain": [
       "Epoch 17/50 [Train]:   0%|          | 0/157 [00:00<?, ?it/s]"
      ]
     },
     "metadata": {},
     "output_type": "display_data"
    },
    {
     "data": {
      "application/vnd.jupyter.widget-view+json": {
       "model_id": "b5b084ceb4d34c949417d9fed9186294",
       "version_major": 2,
       "version_minor": 0
      },
      "text/plain": [
       "Epoch 17/50 [Test]:   0%|          | 0/157 [00:00<?, ?it/s]"
      ]
     },
     "metadata": {},
     "output_type": "display_data"
    },
    {
     "data": {
      "application/vnd.jupyter.widget-view+json": {
       "model_id": "93e2f6f219bf4aa99285efab590601cc",
       "version_major": 2,
       "version_minor": 0
      },
      "text/plain": [
       "Epoch 18/50 [Train]:   0%|          | 0/157 [00:00<?, ?it/s]"
      ]
     },
     "metadata": {},
     "output_type": "display_data"
    },
    {
     "data": {
      "application/vnd.jupyter.widget-view+json": {
       "model_id": "0fda7e9da08e42ce92d43aab2afadda3",
       "version_major": 2,
       "version_minor": 0
      },
      "text/plain": [
       "Epoch 18/50 [Test]:   0%|          | 0/157 [00:00<?, ?it/s]"
      ]
     },
     "metadata": {},
     "output_type": "display_data"
    },
    {
     "data": {
      "application/vnd.jupyter.widget-view+json": {
       "model_id": "03beb8b5994f4cef94f2ef2d2aa4bef9",
       "version_major": 2,
       "version_minor": 0
      },
      "text/plain": [
       "Epoch 19/50 [Train]:   0%|          | 0/157 [00:00<?, ?it/s]"
      ]
     },
     "metadata": {},
     "output_type": "display_data"
    },
    {
     "data": {
      "application/vnd.jupyter.widget-view+json": {
       "model_id": "357232c2b9d54d7fa8179884d42b7937",
       "version_major": 2,
       "version_minor": 0
      },
      "text/plain": [
       "Epoch 19/50 [Test]:   0%|          | 0/157 [00:00<?, ?it/s]"
      ]
     },
     "metadata": {},
     "output_type": "display_data"
    },
    {
     "data": {
      "application/vnd.jupyter.widget-view+json": {
       "model_id": "4682366a20b9437d842ba43d55b74ece",
       "version_major": 2,
       "version_minor": 0
      },
      "text/plain": [
       "Epoch 20/50 [Train]:   0%|          | 0/157 [00:00<?, ?it/s]"
      ]
     },
     "metadata": {},
     "output_type": "display_data"
    },
    {
     "data": {
      "application/vnd.jupyter.widget-view+json": {
       "model_id": "9d2c5a9cbf51454fbd2c8924f274b59c",
       "version_major": 2,
       "version_minor": 0
      },
      "text/plain": [
       "Epoch 20/50 [Test]:   0%|          | 0/157 [00:00<?, ?it/s]"
      ]
     },
     "metadata": {},
     "output_type": "display_data"
    },
    {
     "data": {
      "application/vnd.jupyter.widget-view+json": {
       "model_id": "ce8209ec48c34ba1a9e7401e38bf018a",
       "version_major": 2,
       "version_minor": 0
      },
      "text/plain": [
       "Epoch 21/50 [Train]:   0%|          | 0/157 [00:00<?, ?it/s]"
      ]
     },
     "metadata": {},
     "output_type": "display_data"
    },
    {
     "data": {
      "application/vnd.jupyter.widget-view+json": {
       "model_id": "a99515d6df3d401ca9d231ba3b8c4d73",
       "version_major": 2,
       "version_minor": 0
      },
      "text/plain": [
       "Epoch 21/50 [Test]:   0%|          | 0/157 [00:00<?, ?it/s]"
      ]
     },
     "metadata": {},
     "output_type": "display_data"
    },
    {
     "data": {
      "application/vnd.jupyter.widget-view+json": {
       "model_id": "39f93b6f91ed4198a39ec64d1da9a2b4",
       "version_major": 2,
       "version_minor": 0
      },
      "text/plain": [
       "Epoch 22/50 [Train]:   0%|          | 0/157 [00:00<?, ?it/s]"
      ]
     },
     "metadata": {},
     "output_type": "display_data"
    },
    {
     "data": {
      "application/vnd.jupyter.widget-view+json": {
       "model_id": "a4ebb673e7514b63bbd1cb66b28c662e",
       "version_major": 2,
       "version_minor": 0
      },
      "text/plain": [
       "Epoch 22/50 [Test]:   0%|          | 0/157 [00:00<?, ?it/s]"
      ]
     },
     "metadata": {},
     "output_type": "display_data"
    },
    {
     "data": {
      "application/vnd.jupyter.widget-view+json": {
       "model_id": "c71a9c3ea0dd4e16a65decdd326b4110",
       "version_major": 2,
       "version_minor": 0
      },
      "text/plain": [
       "Epoch 23/50 [Train]:   0%|          | 0/157 [00:00<?, ?it/s]"
      ]
     },
     "metadata": {},
     "output_type": "display_data"
    },
    {
     "data": {
      "application/vnd.jupyter.widget-view+json": {
       "model_id": "03dedfeabf374b099dc85ef97918f13c",
       "version_major": 2,
       "version_minor": 0
      },
      "text/plain": [
       "Epoch 23/50 [Test]:   0%|          | 0/157 [00:00<?, ?it/s]"
      ]
     },
     "metadata": {},
     "output_type": "display_data"
    },
    {
     "data": {
      "application/vnd.jupyter.widget-view+json": {
       "model_id": "ab469da4b2d94fd4a35f58cac2e15b2d",
       "version_major": 2,
       "version_minor": 0
      },
      "text/plain": [
       "Epoch 24/50 [Train]:   0%|          | 0/157 [00:00<?, ?it/s]"
      ]
     },
     "metadata": {},
     "output_type": "display_data"
    },
    {
     "data": {
      "application/vnd.jupyter.widget-view+json": {
       "model_id": "2d6313e4f7704a95b92ff213390e52da",
       "version_major": 2,
       "version_minor": 0
      },
      "text/plain": [
       "Epoch 24/50 [Test]:   0%|          | 0/157 [00:00<?, ?it/s]"
      ]
     },
     "metadata": {},
     "output_type": "display_data"
    },
    {
     "data": {
      "application/vnd.jupyter.widget-view+json": {
       "model_id": "aeec83f5f6ea42898293527aba1fa9e2",
       "version_major": 2,
       "version_minor": 0
      },
      "text/plain": [
       "Epoch 25/50 [Train]:   0%|          | 0/157 [00:00<?, ?it/s]"
      ]
     },
     "metadata": {},
     "output_type": "display_data"
    },
    {
     "data": {
      "application/vnd.jupyter.widget-view+json": {
       "model_id": "09523d734e294cc6a9ca9d59b9f11555",
       "version_major": 2,
       "version_minor": 0
      },
      "text/plain": [
       "Epoch 25/50 [Test]:   0%|          | 0/157 [00:00<?, ?it/s]"
      ]
     },
     "metadata": {},
     "output_type": "display_data"
    },
    {
     "data": {
      "application/vnd.jupyter.widget-view+json": {
       "model_id": "ed042e0fdc504a03b1d80450bca02f5b",
       "version_major": 2,
       "version_minor": 0
      },
      "text/plain": [
       "Epoch 26/50 [Train]:   0%|          | 0/157 [00:00<?, ?it/s]"
      ]
     },
     "metadata": {},
     "output_type": "display_data"
    },
    {
     "data": {
      "application/vnd.jupyter.widget-view+json": {
       "model_id": "99c3ed1129e042cc870e6cdb08fc8b1a",
       "version_major": 2,
       "version_minor": 0
      },
      "text/plain": [
       "Epoch 26/50 [Test]:   0%|          | 0/157 [00:00<?, ?it/s]"
      ]
     },
     "metadata": {},
     "output_type": "display_data"
    },
    {
     "data": {
      "application/vnd.jupyter.widget-view+json": {
       "model_id": "194fed7e347241748563dbc310c2d04c",
       "version_major": 2,
       "version_minor": 0
      },
      "text/plain": [
       "Epoch 27/50 [Train]:   0%|          | 0/157 [00:00<?, ?it/s]"
      ]
     },
     "metadata": {},
     "output_type": "display_data"
    },
    {
     "data": {
      "application/vnd.jupyter.widget-view+json": {
       "model_id": "3d9d33f5035a4f9aaeef9edabb2dcada",
       "version_major": 2,
       "version_minor": 0
      },
      "text/plain": [
       "Epoch 27/50 [Test]:   0%|          | 0/157 [00:00<?, ?it/s]"
      ]
     },
     "metadata": {},
     "output_type": "display_data"
    },
    {
     "data": {
      "application/vnd.jupyter.widget-view+json": {
       "model_id": "976e49d40c9145c0bd3900900da8bf9c",
       "version_major": 2,
       "version_minor": 0
      },
      "text/plain": [
       "Epoch 28/50 [Train]:   0%|          | 0/157 [00:00<?, ?it/s]"
      ]
     },
     "metadata": {},
     "output_type": "display_data"
    },
    {
     "data": {
      "application/vnd.jupyter.widget-view+json": {
       "model_id": "d9c2744ae7c040fc8ba432fec36bb2bb",
       "version_major": 2,
       "version_minor": 0
      },
      "text/plain": [
       "Epoch 28/50 [Test]:   0%|          | 0/157 [00:00<?, ?it/s]"
      ]
     },
     "metadata": {},
     "output_type": "display_data"
    },
    {
     "data": {
      "application/vnd.jupyter.widget-view+json": {
       "model_id": "77c7f3d9a35740aba20c33c1b5a179aa",
       "version_major": 2,
       "version_minor": 0
      },
      "text/plain": [
       "Epoch 29/50 [Train]:   0%|          | 0/157 [00:00<?, ?it/s]"
      ]
     },
     "metadata": {},
     "output_type": "display_data"
    },
    {
     "data": {
      "application/vnd.jupyter.widget-view+json": {
       "model_id": "c340c4cfe9c24634b78bd37e6fefee48",
       "version_major": 2,
       "version_minor": 0
      },
      "text/plain": [
       "Epoch 29/50 [Test]:   0%|          | 0/157 [00:00<?, ?it/s]"
      ]
     },
     "metadata": {},
     "output_type": "display_data"
    },
    {
     "data": {
      "application/vnd.jupyter.widget-view+json": {
       "model_id": "dff88304b3de47298e645a5504cbd2f7",
       "version_major": 2,
       "version_minor": 0
      },
      "text/plain": [
       "Epoch 30/50 [Train]:   0%|          | 0/157 [00:00<?, ?it/s]"
      ]
     },
     "metadata": {},
     "output_type": "display_data"
    },
    {
     "data": {
      "application/vnd.jupyter.widget-view+json": {
       "model_id": "ff73da55c0294aabaf23e4d8f248da67",
       "version_major": 2,
       "version_minor": 0
      },
      "text/plain": [
       "Epoch 30/50 [Test]:   0%|          | 0/157 [00:00<?, ?it/s]"
      ]
     },
     "metadata": {},
     "output_type": "display_data"
    },
    {
     "data": {
      "application/vnd.jupyter.widget-view+json": {
       "model_id": "0229cfa10a294862b74393b74978073a",
       "version_major": 2,
       "version_minor": 0
      },
      "text/plain": [
       "Epoch 31/50 [Train]:   0%|          | 0/157 [00:00<?, ?it/s]"
      ]
     },
     "metadata": {},
     "output_type": "display_data"
    },
    {
     "data": {
      "application/vnd.jupyter.widget-view+json": {
       "model_id": "bdde3e136e9947aab8993cdec6eb0b7a",
       "version_major": 2,
       "version_minor": 0
      },
      "text/plain": [
       "Epoch 31/50 [Test]:   0%|          | 0/157 [00:00<?, ?it/s]"
      ]
     },
     "metadata": {},
     "output_type": "display_data"
    },
    {
     "data": {
      "application/vnd.jupyter.widget-view+json": {
       "model_id": "f7cc07f85d664b9193e034f26e2cd1fe",
       "version_major": 2,
       "version_minor": 0
      },
      "text/plain": [
       "Epoch 32/50 [Train]:   0%|          | 0/157 [00:00<?, ?it/s]"
      ]
     },
     "metadata": {},
     "output_type": "display_data"
    },
    {
     "data": {
      "application/vnd.jupyter.widget-view+json": {
       "model_id": "e56d961abd09476b9941679d3f38cd7a",
       "version_major": 2,
       "version_minor": 0
      },
      "text/plain": [
       "Epoch 32/50 [Test]:   0%|          | 0/157 [00:00<?, ?it/s]"
      ]
     },
     "metadata": {},
     "output_type": "display_data"
    },
    {
     "data": {
      "application/vnd.jupyter.widget-view+json": {
       "model_id": "983c166659ab48849f5c980c6ae79ad1",
       "version_major": 2,
       "version_minor": 0
      },
      "text/plain": [
       "Epoch 33/50 [Train]:   0%|          | 0/157 [00:00<?, ?it/s]"
      ]
     },
     "metadata": {},
     "output_type": "display_data"
    },
    {
     "data": {
      "application/vnd.jupyter.widget-view+json": {
       "model_id": "12d91d05569c411d820703bb958dfc50",
       "version_major": 2,
       "version_minor": 0
      },
      "text/plain": [
       "Epoch 33/50 [Test]:   0%|          | 0/157 [00:00<?, ?it/s]"
      ]
     },
     "metadata": {},
     "output_type": "display_data"
    },
    {
     "data": {
      "application/vnd.jupyter.widget-view+json": {
       "model_id": "3a14b7f965594ac9baf5ac8e25652799",
       "version_major": 2,
       "version_minor": 0
      },
      "text/plain": [
       "Epoch 34/50 [Train]:   0%|          | 0/157 [00:00<?, ?it/s]"
      ]
     },
     "metadata": {},
     "output_type": "display_data"
    },
    {
     "data": {
      "application/vnd.jupyter.widget-view+json": {
       "model_id": "7e7a1709ac7349b3ae633f09adcffe01",
       "version_major": 2,
       "version_minor": 0
      },
      "text/plain": [
       "Epoch 34/50 [Test]:   0%|          | 0/157 [00:00<?, ?it/s]"
      ]
     },
     "metadata": {},
     "output_type": "display_data"
    },
    {
     "data": {
      "application/vnd.jupyter.widget-view+json": {
       "model_id": "e0891d21c43b4a4db75ed0bf0a6677d1",
       "version_major": 2,
       "version_minor": 0
      },
      "text/plain": [
       "Epoch 35/50 [Train]:   0%|          | 0/157 [00:00<?, ?it/s]"
      ]
     },
     "metadata": {},
     "output_type": "display_data"
    },
    {
     "data": {
      "application/vnd.jupyter.widget-view+json": {
       "model_id": "51b9be53b5e84acd9634b3fca2b12b2b",
       "version_major": 2,
       "version_minor": 0
      },
      "text/plain": [
       "Epoch 35/50 [Test]:   0%|          | 0/157 [00:00<?, ?it/s]"
      ]
     },
     "metadata": {},
     "output_type": "display_data"
    },
    {
     "data": {
      "application/vnd.jupyter.widget-view+json": {
       "model_id": "008fba1ba6aa4e9fabddc8be9ccf8460",
       "version_major": 2,
       "version_minor": 0
      },
      "text/plain": [
       "Epoch 36/50 [Train]:   0%|          | 0/157 [00:00<?, ?it/s]"
      ]
     },
     "metadata": {},
     "output_type": "display_data"
    },
    {
     "data": {
      "application/vnd.jupyter.widget-view+json": {
       "model_id": "cf64c6d862434f2ab4ee8aebf8c3322d",
       "version_major": 2,
       "version_minor": 0
      },
      "text/plain": [
       "Epoch 36/50 [Test]:   0%|          | 0/157 [00:00<?, ?it/s]"
      ]
     },
     "metadata": {},
     "output_type": "display_data"
    },
    {
     "data": {
      "application/vnd.jupyter.widget-view+json": {
       "model_id": "d9a2a36a3372469cbe9cb24a786cfc15",
       "version_major": 2,
       "version_minor": 0
      },
      "text/plain": [
       "Epoch 37/50 [Train]:   0%|          | 0/157 [00:00<?, ?it/s]"
      ]
     },
     "metadata": {},
     "output_type": "display_data"
    },
    {
     "data": {
      "application/vnd.jupyter.widget-view+json": {
       "model_id": "f18792e32dca4d7791ba9b746bcc5c3d",
       "version_major": 2,
       "version_minor": 0
      },
      "text/plain": [
       "Epoch 37/50 [Test]:   0%|          | 0/157 [00:00<?, ?it/s]"
      ]
     },
     "metadata": {},
     "output_type": "display_data"
    },
    {
     "data": {
      "application/vnd.jupyter.widget-view+json": {
       "model_id": "40e9c9952a3d477ba1ddf614b53a9488",
       "version_major": 2,
       "version_minor": 0
      },
      "text/plain": [
       "Epoch 38/50 [Train]:   0%|          | 0/157 [00:00<?, ?it/s]"
      ]
     },
     "metadata": {},
     "output_type": "display_data"
    },
    {
     "data": {
      "application/vnd.jupyter.widget-view+json": {
       "model_id": "aab245a19d9c4a39a4ae34e76408c3ac",
       "version_major": 2,
       "version_minor": 0
      },
      "text/plain": [
       "Epoch 38/50 [Test]:   0%|          | 0/157 [00:00<?, ?it/s]"
      ]
     },
     "metadata": {},
     "output_type": "display_data"
    },
    {
     "data": {
      "application/vnd.jupyter.widget-view+json": {
       "model_id": "868c93a4eb644543a8b42d9bf4a2f914",
       "version_major": 2,
       "version_minor": 0
      },
      "text/plain": [
       "Epoch 39/50 [Train]:   0%|          | 0/157 [00:00<?, ?it/s]"
      ]
     },
     "metadata": {},
     "output_type": "display_data"
    },
    {
     "data": {
      "application/vnd.jupyter.widget-view+json": {
       "model_id": "b963b28cf6a74a4fa89c7e0c66af56d2",
       "version_major": 2,
       "version_minor": 0
      },
      "text/plain": [
       "Epoch 39/50 [Test]:   0%|          | 0/157 [00:00<?, ?it/s]"
      ]
     },
     "metadata": {},
     "output_type": "display_data"
    },
    {
     "data": {
      "application/vnd.jupyter.widget-view+json": {
       "model_id": "61aefc10f39d4cabb9a74647c7512bed",
       "version_major": 2,
       "version_minor": 0
      },
      "text/plain": [
       "Epoch 40/50 [Train]:   0%|          | 0/157 [00:00<?, ?it/s]"
      ]
     },
     "metadata": {},
     "output_type": "display_data"
    },
    {
     "data": {
      "application/vnd.jupyter.widget-view+json": {
       "model_id": "b9af19c1db8b46be95a93b0cb29a7278",
       "version_major": 2,
       "version_minor": 0
      },
      "text/plain": [
       "Epoch 40/50 [Test]:   0%|          | 0/157 [00:00<?, ?it/s]"
      ]
     },
     "metadata": {},
     "output_type": "display_data"
    },
    {
     "data": {
      "application/vnd.jupyter.widget-view+json": {
       "model_id": "ea1ab9ce07aa4c0ea071ee52f10d36d9",
       "version_major": 2,
       "version_minor": 0
      },
      "text/plain": [
       "Epoch 41/50 [Train]:   0%|          | 0/157 [00:00<?, ?it/s]"
      ]
     },
     "metadata": {},
     "output_type": "display_data"
    },
    {
     "data": {
      "application/vnd.jupyter.widget-view+json": {
       "model_id": "e98d9c4406e9420fa291efe624c2376d",
       "version_major": 2,
       "version_minor": 0
      },
      "text/plain": [
       "Epoch 41/50 [Test]:   0%|          | 0/157 [00:00<?, ?it/s]"
      ]
     },
     "metadata": {},
     "output_type": "display_data"
    },
    {
     "data": {
      "application/vnd.jupyter.widget-view+json": {
       "model_id": "a7c4ce4d39fc4d0da5f9e2b234776a28",
       "version_major": 2,
       "version_minor": 0
      },
      "text/plain": [
       "Epoch 42/50 [Train]:   0%|          | 0/157 [00:00<?, ?it/s]"
      ]
     },
     "metadata": {},
     "output_type": "display_data"
    },
    {
     "data": {
      "application/vnd.jupyter.widget-view+json": {
       "model_id": "0506f5a2692f452a9ccc58ea03e0aa8e",
       "version_major": 2,
       "version_minor": 0
      },
      "text/plain": [
       "Epoch 42/50 [Test]:   0%|          | 0/157 [00:00<?, ?it/s]"
      ]
     },
     "metadata": {},
     "output_type": "display_data"
    },
    {
     "data": {
      "application/vnd.jupyter.widget-view+json": {
       "model_id": "9fac21e42e5c4f399164406a76295c6c",
       "version_major": 2,
       "version_minor": 0
      },
      "text/plain": [
       "Epoch 43/50 [Train]:   0%|          | 0/157 [00:00<?, ?it/s]"
      ]
     },
     "metadata": {},
     "output_type": "display_data"
    },
    {
     "data": {
      "application/vnd.jupyter.widget-view+json": {
       "model_id": "453b1b995a564c138227e5908a7845f2",
       "version_major": 2,
       "version_minor": 0
      },
      "text/plain": [
       "Epoch 43/50 [Test]:   0%|          | 0/157 [00:00<?, ?it/s]"
      ]
     },
     "metadata": {},
     "output_type": "display_data"
    },
    {
     "data": {
      "application/vnd.jupyter.widget-view+json": {
       "model_id": "265791c52f9047c79f653612cb669ce8",
       "version_major": 2,
       "version_minor": 0
      },
      "text/plain": [
       "Epoch 44/50 [Train]:   0%|          | 0/157 [00:00<?, ?it/s]"
      ]
     },
     "metadata": {},
     "output_type": "display_data"
    },
    {
     "data": {
      "application/vnd.jupyter.widget-view+json": {
       "model_id": "e530f3855f034af0a0126224a61b1375",
       "version_major": 2,
       "version_minor": 0
      },
      "text/plain": [
       "Epoch 44/50 [Test]:   0%|          | 0/157 [00:00<?, ?it/s]"
      ]
     },
     "metadata": {},
     "output_type": "display_data"
    },
    {
     "data": {
      "application/vnd.jupyter.widget-view+json": {
       "model_id": "0a6259fd71ad4ee1a1ed40d21bd38865",
       "version_major": 2,
       "version_minor": 0
      },
      "text/plain": [
       "Epoch 45/50 [Train]:   0%|          | 0/157 [00:00<?, ?it/s]"
      ]
     },
     "metadata": {},
     "output_type": "display_data"
    },
    {
     "data": {
      "application/vnd.jupyter.widget-view+json": {
       "model_id": "7e128cf053d94dbaa87129a7ebd2d8e9",
       "version_major": 2,
       "version_minor": 0
      },
      "text/plain": [
       "Epoch 45/50 [Test]:   0%|          | 0/157 [00:00<?, ?it/s]"
      ]
     },
     "metadata": {},
     "output_type": "display_data"
    },
    {
     "data": {
      "application/vnd.jupyter.widget-view+json": {
       "model_id": "19193f38566045cb890592287c302599",
       "version_major": 2,
       "version_minor": 0
      },
      "text/plain": [
       "Epoch 46/50 [Train]:   0%|          | 0/157 [00:00<?, ?it/s]"
      ]
     },
     "metadata": {},
     "output_type": "display_data"
    },
    {
     "data": {
      "application/vnd.jupyter.widget-view+json": {
       "model_id": "4904dc8a39d04fa6ab18224eb5ac7398",
       "version_major": 2,
       "version_minor": 0
      },
      "text/plain": [
       "Epoch 46/50 [Test]:   0%|          | 0/157 [00:00<?, ?it/s]"
      ]
     },
     "metadata": {},
     "output_type": "display_data"
    },
    {
     "data": {
      "application/vnd.jupyter.widget-view+json": {
       "model_id": "4cce55eff31d4f33b0fac71d500ca696",
       "version_major": 2,
       "version_minor": 0
      },
      "text/plain": [
       "Epoch 47/50 [Train]:   0%|          | 0/157 [00:00<?, ?it/s]"
      ]
     },
     "metadata": {},
     "output_type": "display_data"
    },
    {
     "data": {
      "application/vnd.jupyter.widget-view+json": {
       "model_id": "79df7cc6f6ee49069672b608725f201c",
       "version_major": 2,
       "version_minor": 0
      },
      "text/plain": [
       "Epoch 47/50 [Test]:   0%|          | 0/157 [00:00<?, ?it/s]"
      ]
     },
     "metadata": {},
     "output_type": "display_data"
    },
    {
     "data": {
      "application/vnd.jupyter.widget-view+json": {
       "model_id": "3b69faa13e674b84b7d327bc3f6e381b",
       "version_major": 2,
       "version_minor": 0
      },
      "text/plain": [
       "Epoch 48/50 [Train]:   0%|          | 0/157 [00:00<?, ?it/s]"
      ]
     },
     "metadata": {},
     "output_type": "display_data"
    },
    {
     "data": {
      "application/vnd.jupyter.widget-view+json": {
       "model_id": "cbbc63023808447497232ee0ad12e03d",
       "version_major": 2,
       "version_minor": 0
      },
      "text/plain": [
       "Epoch 48/50 [Test]:   0%|          | 0/157 [00:00<?, ?it/s]"
      ]
     },
     "metadata": {},
     "output_type": "display_data"
    },
    {
     "data": {
      "application/vnd.jupyter.widget-view+json": {
       "model_id": "340eb127b22545e1b5f3356173c58111",
       "version_major": 2,
       "version_minor": 0
      },
      "text/plain": [
       "Epoch 49/50 [Train]:   0%|          | 0/157 [00:00<?, ?it/s]"
      ]
     },
     "metadata": {},
     "output_type": "display_data"
    },
    {
     "data": {
      "application/vnd.jupyter.widget-view+json": {
       "model_id": "45c1f4acf4114b1693bac727a2391a15",
       "version_major": 2,
       "version_minor": 0
      },
      "text/plain": [
       "Epoch 49/50 [Test]:   0%|          | 0/157 [00:00<?, ?it/s]"
      ]
     },
     "metadata": {},
     "output_type": "display_data"
    },
    {
     "data": {
      "application/vnd.jupyter.widget-view+json": {
       "model_id": "8332a06de9474f5c97b4688d3bf087ee",
       "version_major": 2,
       "version_minor": 0
      },
      "text/plain": [
       "Epoch 50/50 [Train]:   0%|          | 0/157 [00:00<?, ?it/s]"
      ]
     },
     "metadata": {},
     "output_type": "display_data"
    },
    {
     "data": {
      "application/vnd.jupyter.widget-view+json": {
       "model_id": "4a877886bfdd4a9c9936794f80e9df6c",
       "version_major": 2,
       "version_minor": 0
      },
      "text/plain": [
       "Epoch 50/50 [Test]:   0%|          | 0/157 [00:00<?, ?it/s]"
      ]
     },
     "metadata": {},
     "output_type": "display_data"
    }
   ],
   "source": [
    "optimizer = optim.Adam(model.parameters(), lr=0.0001)\n",
    "criterion_cls = nn.CrossEntropyLoss()\n",
    "criterion_seq = nn.CrossEntropyLoss(ignore_index=smiles_vocab['<pad>'])\n",
    "\n",
    "model, history = train_model_seq2seq(model, train_loader, test_loader, \n",
    "                                     optimizer, criterion_seq, \n",
    "                                     num_epochs=50, evaluate=True, verbose=1,\n",
    "                                     checkpoint_path=\"./model_checkpoints/\",\n",
    "                                     meta_tag=(method+\"_character\"))"
   ]
  },
  {
   "cell_type": "code",
   "execution_count": 13,
   "metadata": {},
   "outputs": [
    {
     "name": "stdout",
     "output_type": "stream",
     "text": [
      "True SMILES: C1=CC2=C(C=C1C)C(=C(N2[Si](C)(C)C)C)C\n",
      "Pred SMILES: C1=CC2=C(C=C1C)C(=C(N2[Si](C)(C)C)C)C2\n",
      "\n",
      "True SMILES: O=C(OCC)CC(O[Si](C)(C)C)(C)CC\n",
      "Pred SMILES: O=C(OCC)CC(O[Si](C)(C)C)(C)CC\n",
      "\n",
      "True SMILES: O=C(O[Si](C)(C)C)C(N)C(C)C\n",
      "Pred SMILES: O=C(O[Si](C)(C)C)C(N)C(C)C())\n",
      "\n",
      "True SMILES: O=C(OC)CC(O[Si](C)(C)C)C\n",
      "Pred SMILES: O=C(OC)CC(O[Si](C)(C)C)CC)\n",
      "\n",
      "True SMILES: O(CCCC)[Si](C)(C)C\n",
      "Pred SMILES: O(CCCC)[Si](C)(C)C)\n",
      "\n",
      "True SMILES: O(C1CC2CCC1C2)[Si](C)(C)C\n",
      "Pred SMILES: O(C1CC2CCC1C2)[Si](C)(C)C1\n",
      "\n",
      "True SMILES: OC1=CC=CC(O[Si](C)(C)C)=C1\n",
      "Pred SMILES: OC1=CC=CC(O[Si](C)(C)C)=C12\n",
      "\n",
      "True SMILES: N(O[Si](C)(C)C)=C(C1=CC=C(OC)C=C1)C\n",
      "Pred SMILES: N(O[Si](C)(C)C)=C(C1=CC=C(OC)C=C1)C)C\n",
      "\n",
      "True SMILES: O(C=1C=CC=CC1N)[Si](C)(C)C\n",
      "Pred SMILES: O(C=1C=CC=CC1N)[Si](C)(C)C21\n",
      "\n",
      "True SMILES: O(C)CCC(C=1C=CC=CC1)CCO[Si](C)(C)C\n",
      "Pred SMILES: O(C)CCC(C=1C=CC=CC1)CCO[Si](C)(C)CC\n",
      "\n",
      "True SMILES: N#CC=1C(=S)N(C(=CC1C)C)[Si](C)(C)C\n",
      "Pred SMILES: N#CC=1C(=S)N(C(=CC1C)C)[Si](C)(C)C)C\n",
      "\n",
      "True SMILES: O(C1=CC=C(C=C1)C(C)(C)CC)[Si](C)(C)C\n",
      "Pred SMILES: O(C1=CC=C(C=C1)C(C)(C)CC)[Si](C)(C)C)C)\n",
      "\n",
      "True SMILES: O=C(O[Si](C)(C)C)C(C)CC=C\n",
      "Pred SMILES: O=C(O[Si](C)(C)C)C(C)CC=CC\n",
      "\n",
      "True SMILES: O(C(C)CCCCC)[Si](C)(C)C\n",
      "Pred SMILES: O(C(C)CCCCC)[Si](C)(C)C\n",
      "\n",
      "True SMILES: O=C(O[Si](C)(C)C)C=1C=CC=CC1O\n",
      "Pred SMILES: O=C(O[Si](C)(C)C)C=1C=CC=CC1O\n",
      "\n",
      "True SMILES: O=C1OC=2C=CC=CC2C(O[Si](C)(C)C)=C1\n",
      "Pred SMILES: O=C1OC=2C=CC=CC2C(O[Si](C)(C)C)=C1C1\n",
      "\n",
      "True SMILES: O=C(OCC(=O)O[Si](C)(C)C)C\n",
      "Pred SMILES: O=C(OCC(=O)O[Si](C)(C)C)C))\n",
      "\n",
      "True SMILES: O(C1=CC=C(C=C1C)C)[Si](C)(C)C\n",
      "Pred SMILES: O(C1=CC=C(C=C1C)C)[Si](C)(C)C\n",
      "\n",
      "True SMILES: O(CCC)CC(O[Si](C)(C)C)C\n",
      "Pred SMILES: O(CCC)CC(O[Si](C)(C)C)C)\n",
      "\n",
      "True SMILES: O=C1C(=O)N(C2=CC=C(C=C12)C)[Si](C)(C)C\n",
      "Pred SMILES: O=C1C(=O)N(C2=CC=C(C=C12)C)[Si](C)(C)C)\n",
      "\n",
      "True SMILES: O=S(=O)(CC)CCO[Si](C)(C)C\n",
      "Pred SMILES: O=S(=O)(CC)CCO[Si](C)(C)C))\n",
      "\n",
      "True SMILES: O=CC1=CN(C=2C=CC=CC12)[Si](C)(C)C\n",
      "Pred SMILES: O=CC1=CN(C=2C=CC=CC12)[Si](C)(C)CC\n",
      "\n",
      "True SMILES: O(C1CC(NC2(C)CCCCC12)C)[Si](C)(C)C\n",
      "Pred SMILES: O(C1CC(NC2(C)CCCCC12)C)[Si](C)(C)CC\n",
      "\n",
      "True SMILES: O=C(O[Si](C)(C)C)C(=O)C(C)C\n",
      "Pred SMILES: O=C(O[Si](C)(C)C)C(=O)C(C)C))\n",
      "\n",
      "True SMILES: O=C(O[Si](C)(C)C)C1=CC(OC)=CC=C1OC\n",
      "Pred SMILES: O=C(O[Si](C)(C)C)C1=CC(OC)=CC=C1OC)\n",
      "\n",
      "True SMILES: O(C=1C(=CC=CC1C(C)(C)C)C)[Si](C)(C)C\n",
      "Pred SMILES: O(C=1C(=CC=CC1C(C)(C)C)C)[Si](C)(C)CC\n",
      "\n",
      "True SMILES: O=C(O[Si](C)(C)C)CCCC=1C=CC=CC1\n",
      "Pred SMILES: O=C(O[Si](C)(C)C)CCCC=1C=CC=CC1\n",
      "\n",
      "True SMILES: O=C(O[Si](C)(C)C)C=CCCC\n",
      "Pred SMILES: O=C(O[Si](C)(C)C)C=CCCC\n",
      "\n",
      "True SMILES: O(C1=CC=C(N)C=C1)[Si](C)(C)C\n",
      "Pred SMILES: O(C1=CC=C(N)C=C1)[Si](C)(C)C\n",
      "\n",
      "True SMILES: O(CCCSC)[Si](C)(C)C\n",
      "Pred SMILES: O(CCCSC)[Si](C)(C)C\n",
      "\n",
      "True SMILES: C=1C=C(N(C1)[Si](C)(C)C)CN(C)C\n",
      "Pred SMILES: C=1C=C(N(C1)[Si](C)(C)C)CN(C)C\n",
      "\n",
      "True SMILES: O=C(O[Si](C)(C)C)C=1SC=CC1\n",
      "Pred SMILES: O=C(O[Si](C)(C)C)C=1SC=CC1CC\n",
      "\n",
      "True SMILES: OC(=NC1C=CC(O[Si](C)(C)C)CC1)C\n",
      "Pred SMILES: OC(=NC1C=CC(O[Si](C)(C)C)CC1)C\n",
      "\n",
      "True SMILES: O(C1=CC=C(O[Si](C)(C)C)C=C1OC)C\n",
      "Pred SMILES: O(C1=CC=C(O[Si](C)(C)C)C=C1OC)C\n",
      "\n",
      "True SMILES: O=C(O[Si](C)(C)C)C=CC(=O)C=1C=CC=CC1\n",
      "Pred SMILES: O=C(O[Si](C)(C)C)C=CC(=O)C=1C=CC=CC1\n",
      "\n",
      "True SMILES: O=C(OC)C=1C=CC=CC1O[Si](C)(C)C\n",
      "Pred SMILES: O=C(OC)C=1C=CC=CC1O[Si](C)(C)C\n",
      "\n",
      "True SMILES: O(CC=CCCCCCCCCC)[Si](C)(C)C\n",
      "Pred SMILES: O(CC=CCCCCCCCCC)[Si](C)(C)C)\n",
      "\n",
      "True SMILES: O(CCC=CCC)[Si](C)(C)C\n",
      "Pred SMILES: O(CCC=CCC)[Si](C)(C)C)))\n",
      "\n",
      "True SMILES: O=C(O[Si](C)(C)C)CC1=CC=CC=2C=CC=CC21\n",
      "Pred SMILES: O=C(O[Si](C)(C)C)CC1=CC=CC=2C=CC=CC21C\n",
      "\n",
      "True SMILES: N(O[Si](C)(C)C)=C1CC(NC(C)(C)C1)(C)C\n",
      "Pred SMILES: N(O[Si](C)(C)C)=C1CC(NC(C)(C)C1)(C)C)CC\n",
      "\n",
      "True SMILES: O(C)C1COC(O[Si](C)(C)C)C(OC)C1OC\n",
      "Pred SMILES: O(C)C1COC(O[Si](C)(C)C)C(OC)C1OC\n",
      "\n",
      "True SMILES: O(CCN(C)C)[Si](C)(C)C\n",
      "Pred SMILES: O(CCN(C)C)[Si](C)(C)C))\n",
      "\n",
      "True SMILES: O(O[Si](C)(C)C)C1OCCC1\n",
      "Pred SMILES: O(O[Si](C)(C)C)C1OCCC11)\n",
      "\n",
      "True SMILES: O(CC=CCCC)[Si](C)(C)C\n",
      "Pred SMILES: O(CC=CCCC)[Si](C)(C)C)))\n",
      "\n",
      "True SMILES: N(CC(CC)CC)[Si](C)(C)C\n",
      "Pred SMILES: N(CC(CC)CC)[Si](C)(C)C)\n",
      "\n",
      "True SMILES: N(O[Si](C)(C)C)=C(C)C1C=2C=CC=CC2CC1\n",
      "Pred SMILES: N(O[Si](C)(C)C)=C(C)C1C=2C=CC=CC2CC1CC\n",
      "\n",
      "True SMILES: OCCCO[Si](C)(C)C\n",
      "Pred SMILES: OCCCO[Si](C)(C)C\n",
      "\n",
      "True SMILES: O(CC=CCC)[Si](C)(C)C\n",
      "Pred SMILES: O(CC=CCC)[Si](C)(C)C(\n",
      "\n",
      "True SMILES: O(CCCCCCCC)[Si](C)(C)C\n",
      "Pred SMILES: O(CCCCCCCC)[Si](C)(C)C)\n",
      "\n",
      "True SMILES: O(C=1C=CC=CC1)CCS[Si](C)(C)C\n",
      "Pred SMILES: O(C=1C=CC=CC1)CCSiSi](C)(C)C2\n",
      "\n",
      "True SMILES: O=C(O[Si](C)(C)C)CCCN(C)C\n",
      "Pred SMILES: O=C(O[Si](C)(C)C)CCCN(C)CC))\n",
      "\n",
      "True SMILES: O(CC1=CC=C(C=C1)N(C)C)[Si](C)(C)C\n",
      "Pred SMILES: O(CC1=CC=C(C=C1)N(C)C)[Si](C)(C)C(C\n",
      "\n",
      "True SMILES: O(C)CCC(C)CCO[Si](C)(C)C\n",
      "Pred SMILES: O(C)CCC(C)CCO[Si](C)(C)C)\n",
      "\n",
      "True SMILES: O=CC1=CC=C(OC)C(O[Si](C)(C)C)=C1\n",
      "Pred SMILES: O=CC1=CC=C(OC)C(O[Si](C)(C)C)=C1\n",
      "\n",
      "True SMILES: O(C1=CC=C(C=C1)C(C)(C)C)[Si](C)(C)C\n",
      "Pred SMILES: O(C1=CC=C(C=C1)C(C)(C)C)[Si](C)(C)CC\n",
      "\n",
      "True SMILES: O(C(C=CCCCC)C)[Si](C)(C)C\n",
      "Pred SMILES: O(C(C=CCCCC)C)[Si](C)(C)Ci)\n",
      "\n",
      "True SMILES: [C-]#[N+]C1CCCCC1O[Si](C)(C)C\n",
      "Pred SMILES: NCC]N[NN]C1CCCCC1O[Si](C)(C)C\n",
      "\n",
      "True SMILES: O(C1CC2CCC1(C)C2(C)C)[Si](C)(C)C\n",
      "Pred SMILES: O(C1CC2CCC1(C)C2(C)C)[Si](C)(C)C\n",
      "\n",
      "True SMILES: O=C(O[Si](C)(C)C)C1=NC=CN=C1\n",
      "Pred SMILES: O=C(O[Si](C)(C)C)C1=NC=CN=C1\n",
      "\n",
      "True SMILES: O=C(OC)CN[Si](C)(C)C\n",
      "Pred SMILES: O=C(OC)CN[Si](C)(C)C(\n",
      "\n",
      "True SMILES: O=C1C=C(N(C(=O)N1C)C)CO[Si](C)(C)C\n",
      "Pred SMILES: O=C1C=C(N(C(=O)N1C)C)CO[Si](C)(C)C)\n",
      "\n",
      "True SMILES: O=C(O[Si](C)(C)C)C(=CC)C\n",
      "Pred SMILES: O=C(O[Si](C)(C)C)C(=CC)C)\n",
      "\n",
      "True SMILES: O=C(O[Si](C)(C)C)CCCC\n",
      "Pred SMILES: O=C(O[Si](C)(C)C)CCCC))\n",
      "\n",
      "True SMILES: O1C(CCC1(C=C)C)C(O[Si](C)(C)C)(C)C\n",
      "Pred SMILES: O1C(CCC1(C=C)C)C(O[Si](C)(C)C)(C)CC\n",
      "\n",
      "True SMILES: C=1C=CC(=CC1)C2=CC=3C=CC=CC3N2[Si](C)(C)C\n",
      "Pred SMILES: C=1C=CC(=CC1)C2=CC=2C=CC=CC2N2[Si](C)(C)CC\n",
      "\n",
      "True SMILES: OC(=NCCO[Si](C)(C)C)C\n",
      "Pred SMILES: OC(=NCCO[Si](C)(C)C)C)\n",
      "\n",
      "True SMILES: O(CCC(C)CC)[Si](C)(C)C\n",
      "Pred SMILES: O(CCC(C)CC)[Si](C)(C)C)\n",
      "\n",
      "True SMILES: O=C1C(O[Si](C)(C)C)=C(C(=O)C=2C=CC=CC12)C\n",
      "Pred SMILES: O=C1C(O[Si](C)(C)C)=C(C(=O)C=2C=CC=CC12)CC\n",
      "\n",
      "True SMILES: C(#CC(O[Si](C)(C)C)C(C)CCC)C(=C)C\n",
      "Pred SMILES: C(FCC(O[Si](C)(C)C)C(C)CCC)C(=C)C\n",
      "\n",
      "True SMILES: O(CC(CCCC)CCCCCC)[Si](C)(C)C\n",
      "Pred SMILES: O(CC(CCCC)CCCCCC)[Si](C)(C)C))\n",
      "\n",
      "True SMILES: O(C1=CC=C(C=C1)N[Si](C)(C)C)C\n",
      "Pred SMILES: O(C1=CC=C(C=C1)N[Si](C)(C)C)C\n",
      "\n",
      "True SMILES: O(CC=CCCCCCCC)[Si](C)(C)C\n",
      "Pred SMILES: O(CC=CCCCCCCC)[Si](C)(C)CiC\n",
      "\n",
      "True SMILES: O(CC(C(=C)C)CC=C(C)C)[Si](C)(C)C\n",
      "Pred SMILES: O(CC(C(=C)C)CC=C(C)C)[Si](C)(C)C\n",
      "\n",
      "True SMILES: O=C(O[Si](C)(C)C)C1NCCCC1\n",
      "Pred SMILES: O=C(O[Si](C)(C)C)C1NCCCC1\n",
      "\n",
      "True SMILES: NC1=CC=CC=2C(=CC=CC12)N[Si](C)(C)C\n",
      "Pred SMILES: NC1=CC=CC=2C(=CC=CC12)N[Si](C)(C)C2\n",
      "\n",
      "True SMILES: C=1C=CC(=CC1)CN(CC)[Si](C)(C)C\n",
      "Pred SMILES: C=1C=CC(=CC1)CN(CC)[Si](C)(C)C\n",
      "\n",
      "True SMILES: O=C(O[Si](C)(C)C)COCCOC\n",
      "Pred SMILES: O=C(O[Si](C)(C)C)COCCOC\n",
      "\n",
      "True SMILES: O=C(O[Si](C)(C)C)COC=1C=CC=CC1\n",
      "Pred SMILES: O=C(O[Si](C)(C)C)COC=1C=CC=CC1\n",
      "\n",
      "True SMILES: S=C(S[Si](C)(C)C)N(CC)CC\n",
      "Pred SMILES: S=C(S[Si](C)(C)C)N(CC)CC\n",
      "\n",
      "True SMILES: O(CCCCCCCCCCCC)[Si](C)(C)C\n",
      "Pred SMILES: O(CCCCCCCCCCCC)[Si](C)(C)CC\n",
      "\n",
      "True SMILES: O=C1N(C2=CC(OC)=CC=C2CCC1)[Si](C)(C)C\n",
      "Pred SMILES: O=C1N(C2=CC(OC)=CC=C2CCC1)[Si](C)(C)CC\n",
      "\n",
      "True SMILES: O=C(C)C(O[Si](C)(C)C)C\n",
      "Pred SMILES: O=C(C)C(O[Si](C)(C)C)C(\n",
      "\n",
      "True SMILES: N1(CCCCCC1)[Si](C)(C)C\n",
      "Pred SMILES: N1(CCCCCC1)[Si](C)(C)C\n",
      "\n",
      "True SMILES: O=C1N(C)C(C=2C=NC=CC2)CC1O[Si](C)(C)C\n",
      "Pred SMILES: O=C1N(C)C(C=2C=NC=CC2)CC1O[Si](C)(C)CC\n",
      "\n",
      "True SMILES: O(C1=CC(O[Si](C)(C)C)=CC=C1CCN)C\n",
      "Pred SMILES: O(C1=CC(O[Si](C)(C)C)=CC=C1CCN)C\n",
      "\n",
      "True SMILES: O=C(OC)CC(O[Si](C)(C)C)CC(=O)OC\n",
      "Pred SMILES: O=C(OC)CC(O[Si](C)(C)C)CC(=O)OC\n",
      "\n",
      "True SMILES: O(C(C)C(C)C)[Si](C)(C)C\n",
      "Pred SMILES: O(C(C)C(C)C)[Si](C)(C)C\n",
      "\n",
      "True SMILES: O(CC(C)CC(C)(C)C)[Si](C)(C)C\n",
      "Pred SMILES: O(CC(C)CC(C)(C)C)[Si](C)(C)C)\n",
      "\n",
      "True SMILES: N=1C(=NC(=CC1O[Si](C)(C)C)C)SC\n",
      "Pred SMILES: N=1C(=NC(=CC1O[Si](C)(C)C)C)SC\n",
      "\n",
      "True SMILES: O=C1OC(CC1)CCC(=O)O[Si](C)(C)C\n",
      "Pred SMILES: O=C1OC(CC1)CCC(=O)O[Si](C)(C)C\n",
      "\n",
      "True SMILES: O(C=1C=CC=CC1O[Si](C)(C)C)CCC\n",
      "Pred SMILES: O(C=1C=CC=CC1O[Si](C)(C)C)CCC\n",
      "\n",
      "True SMILES: O(C=1C=CC=CC1O[Si](C)(C)C)C(C)C\n",
      "Pred SMILES: O(C=1C=CC=CC1O[Si](C)(C)C)C(C)C\n",
      "\n",
      "True SMILES: O=C(OCC)CC(=O)O[Si](C)(C)C\n",
      "Pred SMILES: O=C(OCC)CC(=O)O[Si](C)(C)C(\n",
      "\n",
      "True SMILES: O(CCCC)CC(O[Si](C)(C)C)C\n",
      "Pred SMILES: O(CCCC)CC(O[Si](C)(C)C)CC\n",
      "\n",
      "True SMILES: O=C(O[Si](C)(C)C)CCC=1C=CC=CC1\n",
      "Pred SMILES: O=C(O[Si](C)(C)C)CCC=1C=CC=CC1\n",
      "\n",
      "True SMILES: O=C(OC)C(C=1C=CC=CC1)CO[Si](C)(C)C\n",
      "Pred SMILES: O=C(OC)C(C=1C=CC=CC1)CO[Si](C)(C)CC\n",
      "\n",
      "True SMILES: N#CC1=C(N[Si](C)(C)C)C(N(C(=O)C)C1)CC\n",
      "Pred SMILES: N#CC1=C(N[Si](C)(C)C)C(N(C(=O)C)C1)CCC\n",
      "\n",
      "True SMILES: O=C(O[Si](C)(C)C)C=CC=1C=CC=CC1OC\n",
      "Pred SMILES: O=C(O[Si](C)(C)C)C=CC=1C=CC=CC1OC\n",
      "\n",
      "True SMILES: O=C(OC)C(O[Si](C)(C)C)C=1C=CC=CC1OC\n",
      "Pred SMILES: O=C(OC)C(O[Si](C)(C)C)C=1C=CC=CC1OC\n",
      "\n",
      "True SMILES: C=1C=CC(=CC1)CN[Si](C)(C)C\n",
      "Pred SMILES: C=1C=CC(=CC1)CN[Si](C)(C)C22\n",
      "\n",
      "True SMILES: O(C1CCC(C)CC1)[Si](C)(C)C\n",
      "Pred SMILES: O(C1CCC(C)CC1)[Si](C)(C)C1\n",
      "\n",
      "True SMILES: O=C(O[Si](C)(C)C)CCCOC=1C=CC=CC1\n",
      "Pred SMILES: O=C(O[Si](C)(C)C)CCCOC=1C=CC=CC1\n",
      "\n",
      "True SMILES: O(CC=1C=CC=C(C1)C)[Si](C)(C)C\n",
      "Pred SMILES: O(CC=1C=CC=C(C1)C)[Si](C)(C)C\n",
      "\n",
      "True SMILES: O=C(O[Si](C)(C)C)CC1=CC=C(OC)C(OC)=C1\n",
      "Pred SMILES: O=C(O[Si](C)(C)C)CC1=CC=C(OC)C(OC)=C12\n",
      "\n",
      "True SMILES: O=C(O[Si](C)(C)C)C=1C=CC=C(SC(=O)C)C1\n",
      "Pred SMILES: O=C(O[Si](C)(C)C)C=1C=CC=C(SC(=O)C)C1\n",
      "\n",
      "True SMILES: O=C(O[Si](C)(C)C)CCCCC\n",
      "Pred SMILES: O=C(O[Si](C)(C)C)CCCCC)\n",
      "\n",
      "True SMILES: O(C1=CC=C(N)C=C1O[Si](C)(C)C)C\n",
      "Pred SMILES: O(C1=CC=C(N)C=C1O[Si](C)(C)C)C\n",
      "\n",
      "True SMILES: O=C1C=2C=CC=CC2C(=O)N1[Si](C)(C)C\n",
      "Pred SMILES: O=C1C=2C=CC=CC2C(=O)N1[Si](C)(C)C\n",
      "\n",
      "True SMILES: O(C(C=1C=CC=CC1)(C)C)[Si](C)(C)C\n",
      "Pred SMILES: O(C(C=1C=CC=CC1)(C)C)[Si](C)(C)C\n",
      "\n",
      "True SMILES: O=C(O[Si](C)(C)C)C=1C=CC=C(N)C1\n",
      "Pred SMILES: O=C(O[Si](C)(C)C)C=1C=CC=C(N)C1\n",
      "\n",
      "True SMILES: O=C(O[Si](C)(C)C)C=CC1=CC=C(C=C1)C\n",
      "Pred SMILES: O=C(O[Si](C)(C)C)C=CC1=CC=C(C=C1)C)\n",
      "\n",
      "True SMILES: O(CCC)[Si](C)(C)C\n",
      "Pred SMILES: O(CCC)[Si](C)(C)C\n",
      "\n",
      "True SMILES: O=C(O[Si](C)(C)C)C=1C=CC=CC1\n",
      "Pred SMILES: O=C(O[Si](C)(C)C)C=1C=CC=CC1\n",
      "\n",
      "True SMILES: O(CC1=CC=C(C=C1)C)[Si](C)(C)C\n",
      "Pred SMILES: O(CC1=CC=C(C=C1)C)[Si](C)(C)C\n",
      "\n",
      "True SMILES: O(CCN(CC)CC)[Si](C)(C)C\n",
      "Pred SMILES: O(CCN(CC)CC)[Si](C)(C)C\n",
      "\n",
      "True SMILES: O(C1=CC=CC=2C=CC=CC12)[Si](C)(C)C\n",
      "Pred SMILES: O(C1=CC=CC=2C=CC=CC12)[Si](C)(C)C\n",
      "\n",
      "True SMILES: O(C=1C=CC=2C=CC=CC2C1)[Si](C)(C)C\n",
      "Pred SMILES: O(C=1C=CC=2C=CC=CC2C1)[Si](C)(C)CC\n",
      "\n",
      "True SMILES: O(C(C=CC=1C=CC=CC1)C)[Si](C)(C)C\n",
      "Pred SMILES: O(C(C=CC=1C=CC=CC1)C)[Si](C)(C)CC\n",
      "\n",
      "True SMILES: O(C1=CC=CC(=C1)CO[Si](C)(C)C)C\n",
      "Pred SMILES: O(C1=CC=CC(=C1)CO[Si](C)(C)C)C\n",
      "\n",
      "True SMILES: O(C1=CC=C(SC)C=C1)[Si](C)(C)C\n",
      "Pred SMILES: O(C1=CC=C(SC)C=C1)[Si](C)(C)C\n",
      "\n",
      "True SMILES: O(C=1C=C(C=C(C1)C)C)[Si](C)(C)C\n",
      "Pred SMILES: O(C=1C=C(C=C(C1)C)C)[Si](C)(C)C\n",
      "\n",
      "True SMILES: O=C1N(C(C=2C=NC=CC2)CC1)[Si](C)(C)C\n",
      "Pred SMILES: O=C1N(C(C=2C=NC=CC2)CC1)[Si](C)(C)C\n",
      "\n",
      "True SMILES: O=C(O[Si](C)(C)C)C(=O)C1=CC=C(OC)C=C1\n",
      "Pred SMILES: O=C(O[Si](C)(C)C)C(=O)C1=CC=C(OC)C=C1\n",
      "\n",
      "True SMILES: O(C(C)C)[Si](C)(C)C\n",
      "Pred SMILES: O(C(C)C)[Si](C)(C)C)\n",
      "\n",
      "True SMILES: OCCOCCOCCOCCO[Si](C)(C)C\n",
      "Pred SMILES: OCCOCCOCCOCCO[Si](C)(C)C\n",
      "\n",
      "True SMILES: O=C(O[Si](C)(C)C)C=CC=CC\n",
      "Pred SMILES: O=C(O[Si](C)(C)C)C=CC=CCCCC\n",
      "\n",
      "True SMILES: O(C1CCCCC1C)[Si](C)(C)C\n",
      "Pred SMILES: O(C1CCCCC1C)[Si](C)(C)C\n",
      "\n",
      "True SMILES: O=C(C1=CC=C(OC)C=C1O[Si](C)(C)C)C\n",
      "Pred SMILES: O=C(C1=CC=C(OC)C=C1O[Si](C)(C)C)CCC\n",
      "\n",
      "True SMILES: O=C(O[Si](C)(C)C)CCC1=CC=C(O)C=C1\n",
      "Pred SMILES: O=C(O[Si](C)(C)C)CCC1=CC=C(O)C=C1\n",
      "\n",
      "True SMILES: O=C(O[Si](C)(C)C)C1=CC=C(SC(=O)C)C=C1\n",
      "Pred SMILES: O=C(O[Si](C)(C)C)C1=CC=C(SC(=O)C)C=C1C\n",
      "\n",
      "True SMILES: O=P(O)(O)OC(F)(F)C(F)(F)C(F)(F)C(F)(F)C(F)(F)C(F)(F)C(F)(F)F\n",
      "Pred SMILES: O=P(O)(O)OC(F)(F)C(F)(F)C(F)(F)C(F)(F)C(F)(F)C(F)(F)C(F)(F)FFFFFF(FFF(FF\n",
      "\n",
      "True SMILES: O=P(O)(O)OC(F)(F)C(F)(F)C(F)(F)C(F)(F)F\n",
      "Pred SMILES: O=P(O)(O)OC(F)(F)C(F)(F)C(F)(F)C(F)(F)FFFF)FFFFF\n",
      "\n",
      "True SMILES: O=P(O)(O)OC(F)(F)C(F)(F)F\n",
      "Pred SMILES: O=P(O)(O)OC(F)(F)C(F)(F)FFF)FFF\n",
      "\n",
      "True SMILES: O=P(O)(O)OC(F)(F)F\n",
      "Pred SMILES: O=P(O)(O)OC(F)(F)FFFFFFF\n",
      "\n",
      "True SMILES: O=S(=O)(O)C1(C(F)(F)F)C(F)(F)C(F)(F)C(F)(F)C(F)(F)C1(F)F\n",
      "Pred SMILES: O=S(=O)(O)C1(C(F)(F)F)C(F)(F)C(F)(F)C(F)(F)C(F)(F)C1(F)FCFFFFF(FFFFFF\n",
      "\n",
      "True SMILES: O=C(O)C(F)(OC(F)(F)C(F)(F)F)C(F)(F)F\n",
      "Pred SMILES: O=C(O)C(F)(OC(F)(F)C(F)(F)F)C(F)(F)FF)(FFF(FFFFFFFFFFFFFFFFFF(FFF(\n",
      "\n",
      "True SMILES: O=C(O)C(F)(OC(F)(F)F)C(F)(F)F\n",
      "Pred SMILES: O=C(O)C(F)(OC(F)(F)F)C(F)(F)FFFFFFFFFFFFFFFFFFFFFFFFFFFFFFFFFFFFFFFF(FFFF\n",
      "\n",
      "True SMILES: O=P(O)(O)CCC(F)(F)C(F)(F)C(F)(F)C(F)(F)C(F)(F)C(F)(F)C(F)(F)F\n",
      "Pred SMILES: O=P(O)(O)CCC(F)(F)C(F)(F)C(F)(F)C(F)(F)C(F)(F)C(F)(F)C(F)(F)F)FFFFFFCFFFFFFFFFFFFFF(FFFFFFFF(()FFF(FFF\n",
      "\n",
      "True SMILES: O=P(O)(O)CCC(F)(F)C(F)(F)C(F)(F)C(F)(F)C(F)(F)C(F)(F)C(F)(F)C(F)(F)F\n",
      "Pred SMILES: O=P(O)(O)CCC(F)(F)C(F)(F)C(F)(F)C(F)(F)C(F)(F)C(F)(F)C(F)(F)C(F)(F)FFFFF(FFFFFFFFFFFFFFFFF((FFFFFFFFF((FFFF(FFFFFF\n",
      "\n",
      "True SMILES: O=P(O)(O)CCC(F)(F)C(F)(F)C(F)(F)C(F)(F)C(F)(F)C(F)(F)F\n",
      "Pred SMILES: O=P(O)(O)CCC(F)(F)C(F)(F)C(F)(F)C(F)(F)C(F)(F)C(F)(F)F)FFFFFCFFFFFFFFFFFFFF(FFFFFFF(()FFF(FF\n",
      "\n",
      "True SMILES: O=S(=O)(O)CCC(F)(F)C(F)(F)C(F)(F)C(F)(F)C(F)(F)C(F)(F)C(F)(F)C(F)(F)C(F)(F)C(F)(F)F\n",
      "Pred SMILES: O=S(=O)(O)CCC(F)(F)C(F)(F)C(F)(F)C(F)(F)C(F)(F)C(F)(F)C(F)(F)C(F)(F)C(F)(F)C(F)(F)F(F(F((FFF)(FFFFFF\n",
      "\n",
      "True SMILES: O=S(=O)(O)CCC(F)(F)C(F)(F)C(F)(F)C(F)(F)C(F)(F)C(F)(F)C(F)(F)C(F)(F)C(F)(F)C(F)(F)C(F)(F)C(F)(F)C(F)(F)F\n",
      "Pred SMILES: O=S(=O)(O)CCC(F)(F)C(F)(F)C(F)(F)C(F)(F)C(F)(F)C(F)(F)C(F)(F)C(F)(F)C(F)(F)C(F)(F)C(F)(F)C(F)(F)C(F)(F)F((F)(F((((((F(FFF)(F((FFF((\n",
      "\n",
      "True SMILES: O=S(=O)(O)CCC(F)(F)C(F)(F)C(F)(F)C(F)(F)C(F)(F)C(F)(F)C(F)(F)C(F)(F)C(F)(F)C(F)(F)C(F)(F)F\n",
      "Pred SMILES: O=S(=O)(O)CCC(F)(F)C(F)(F)C(F)(F)C(F)(F)C(F)(F)C(F)(F)C(F)(F)C(F)(F)C(F)(F)C(F)(F)C(F)(F)F((F(F((F(F(FFF)(FFFF(F\n",
      "\n",
      "True SMILES: O=S(=O)(O)CCC(F)(F)C(F)(F)C(F)(F)C(F)(F)C(F)(F)C(F)(F)C(F)(F)C(F)(F)C(F)(F)C(F)(F)C(F)(F)C(F)(F)F\n",
      "Pred SMILES: O=S(=O)(O)CCC(F)(F)C(F)(F)C(F)(F)C(F)(F)C(F)(F)C(F)(F)C(F)(F)C(F)(F)C(F)(F)C(F)(F)C(F)(F)C(F)(F)F((F(F((((FFF)(FFF(F\n",
      "\n",
      "True SMILES: O=S(=O)(O)CCC(F)(F)C(F)(F)C(F)(F)C(F)(F)C(F)(F)C(F)(F)C(F)(F)C(F)(F)C(F)(F)F\n",
      "Pred SMILES: O=S(=O)(O)CCC(F)(F)C(F)(F)C(F)(F)C(F)(F)C(F)(F)C(F)(F)C(F)(F)C(F)(F)C(F)(F)F(F(F(F)(FFF\n",
      "\n",
      "True SMILES: O=C(O)CC(F)(F)C(F)(F)C(F)(F)C(F)(F)F\n",
      "Pred SMILES: O=C(O)CC(F)(F)C(F)(F)C(F)(F)C(F)(F)FFFCFFFFFFFFFF\n",
      "\n",
      "True SMILES: O=C(O)CC(F)(F)C(F)(F)C(F)(F)F\n",
      "Pred SMILES: O=C(O)CC(F)(F)C(F)(F)C(F)(F)FFFFFFFFF\n",
      "\n",
      "True SMILES: O=C(O)CC(F)(F)C(F)(F)F\n",
      "Pred SMILES: O=C(O)CC(F)(F)C(F)(F)FFCFFFFF\n",
      "\n",
      "True SMILES: O=C(O)CC(F)(F)F\n",
      "Pred SMILES: O=C(O)CC(F)(F)FFFFFFFF\n",
      "\n",
      "True SMILES: O=S(=O)(N)C(F)(F)C(F)(F)C(F)(F)C(F)(F)C(F)(F)C(F)(F)C(F)(F)C(F)(F)F\n",
      "Pred SMILES: O=S(=O)(N)C(F)(F)C(F)(F)C(F)(F)C(F)(F)C(F)(F)C(F)(F)C(F)(F)C(F)(F)FFF(F\n",
      "\n",
      "True SMILES: FC(F)(F)C(F)(F)C(F)(F)C(F)(F)C(F)(F)C(F)(F)C(F)(F)O\n",
      "Pred SMILES: FC(F)(F)C(F)(F)C(F)(F)C(F)(F)C(F)(F)C(F)(F)C(F)(F)O))FFFFFFFFF\n",
      "\n",
      "True SMILES: FC(F)(F)C(F)(F)C(F)(F)C(F)(F)C(F)(F)C(F)(F)O\n",
      "Pred SMILES: FC(F)(F)C(F)(F)C(F)(F)C(F)(F)C(F)(F)C(F)(F)OFFF)FFFFFFFF\n",
      "\n",
      "True SMILES: FC(F)(F)C(F)(F)C(F)(F)C(F)(F)C(F)(F)O\n",
      "Pred SMILES: FC(F)(F)C(F)(F)C(F)(F)C(F)(F)C(F)(F)O)F)FFFFF\n",
      "\n",
      "True SMILES: FC(F)(F)C(F)(F)C(F)(F)C(F)(F)O\n",
      "Pred SMILES: FC(F)(F)C(F)(F)C(F)(F)C(F)(F)OF)FFFFF\n",
      "\n",
      "True SMILES: FC(F)(F)C(F)(F)C(F)(F)O\n",
      "Pred SMILES: FC(F)(F)C(F)(F)C(F)(F)OFFFFFF\n",
      "\n",
      "True SMILES: FC(F)(F)C(F)(F)C(F)(F)CCO\n",
      "Pred SMILES: FC(F)(F)C(F)(F)C(F)(F)CCOFFF\n",
      "\n",
      "True SMILES: FC(F)(F)C(F)(F)CCO\n",
      "Pred SMILES: FC(F)(F)C(F)(F)CCO\n",
      "\n",
      "True SMILES: FC(F)(F)CCO\n",
      "Pred SMILES: FC(F)(F)CCOF\n",
      "\n",
      "True SMILES: O=S(=O)(NC)C(F)(F)C(F)(F)C(F)(F)C(F)(F)C(F)(F)C(F)(F)C(F)(F)C(F)(F)C(F)(F)C(F)(F)F\n",
      "Pred SMILES: O=S(=O)(NC)C(F)(F)C(F)(F)C(F)(F)C(F)(F)C(F)(F)C(F)(F)C(F)(F)C(F)(F)C(F)(F)C(F)(F)F\n",
      "\n",
      "True SMILES: O=S(=O)(NC)C(F)(F)C(F)(F)C(F)(F)C(F)(F)C(F)(F)C(F)(F)C(F)(F)C(F)(F)F\n",
      "Pred SMILES: O=S(=O)(NC)C(F)(F)C(F)(F)C(F)(F)C(F)(F)C(F)(F)C(F)(F)C(F)(F)C(F)(F)FF\n",
      "\n",
      "True SMILES: O=C(O)CNS(=O)(=O)C(F)(F)C(F)(F)C(F)(F)C(F)(F)C(F)(F)C(F)(F)C(F)(F)C(F)(F)F\n",
      "Pred SMILES: O=C(O)CNS(=O)(=O)C(F)(F)C(F)(F)C(F)(F)C(F)(F)C(F)(F)C(F)(F)C(F)(F)C(F)(F)F\n",
      "\n",
      "True SMILES: O=C(O)CNS(=O)(=O)C(F)(F)C(F)(F)C(F)(F)C(F)(F)F\n",
      "Pred SMILES: O=C(O)CNS(=O)(=O)C(F)(F)C(F)(F)C(F)(F)C(F)(F)FF\n",
      "\n",
      "True SMILES: O=C(O)CNS(=O)(=O)C(F)(F)C(F)(F)C(F)(F)C(F)(F)C(F)(F)F\n",
      "Pred SMILES: O=C(O)CNS(=O)(=O)C(F)(F)C(F)(F)C(F)(F)C(F)(F)C(F)(F)FFFF\n",
      "\n",
      "True SMILES: O=C(O)CNS(=O)(=O)C(F)(F)F\n",
      "Pred SMILES: O=C(O)CNS(=O)(=O)C(F)(F)FF)\n",
      "\n",
      "True SMILES: O=C(O)C(F)(F)C(F)(F)C(F)(F)C(F)(F)C(F)(F)F\n",
      "Pred SMILES: O=C(O)C(F)(F)C(F)(F)C(F)(F)C(F)(F)C(F)(F)FFFFFF\n",
      "\n",
      "True SMILES: O=C(OCC(OC(=O)CCCCCCCCCCCCCC=CCCCCCCCCCC)COC1OC(CS(=O)(=O)O)C(O)C(O)C1O)CCCCCCCCCCCCCCCCCCCCCCCCC\n",
      "Pred SMILES: O=C(OCC(OC(=O)CCCCCCCCCCCCCC=CCCCCCCCCCC)COC1OC(CS(=O)(=O)O)C(O)C(O)C1O)CCCCCCCCCCCCCCCCCCCCCCCCCC\n",
      "\n",
      "True SMILES: O=C(OCC(OC(=O)CCCCCCCCCCCCCCCCCCCCCCCCC)COC1OC(CS(=O)(=O)O)C(O)C(O)C1O)CCCCCCCCCCCCCCCCCCCCCCCCC\n",
      "Pred SMILES: O=C(OCC(OC(=O)CCCCCCCCCCCCCCCCCCCCCCCCC)COC1OC(CS(=O)(=O)O)C(O)C(O)C1O)CCCCCCCCCCCCCCCCCCCCCCCCCC\n",
      "\n",
      "True SMILES: CCCCCCCCCCCCCCCCCCCCCCCCCCC(=O)OC(COC1OC(CS(O)(=O)=O)C(O)C(O)C1O)COC(=O)CCCCCCCCCCCCCCCCCCCCCCCC\n",
      "Pred SMILES: CCCCCCCCCCCCCCCCCCCCCCCCCCC(=O)OC(COC1OC(CS(O)(=O)=O)C(O)C(O)C1O)COC(=O)CCCCCCCCCCCCCCCCCCCCCCCCC\n",
      "\n",
      "True SMILES: O=C(OCC(OC(=O)CCCCCCCCCCCCC=CCC=CCC=CCC=CCC)COC1OC(CS(=O)(=O)O)C(O)C(O)C1O)CCCCCCCCCCCCCCCCCCCCCCCC\n",
      "Pred SMILES: O=C(OCC(OC(=O)CCCCCCCCCCCCC=CCC=CCC=CCC=CCC)COC1OC(CS(=O)(=O)O)C(O)C(O)C1O)CCCCCCCCCCCCCCCCCCCCCCCC\n",
      "\n",
      "True SMILES: O=C(OCC(OC(=O)CCCCCCCCCCCCCC=CCC=CCCCCCCC)COC1OC(CS(=O)(=O)O)C(O)C(O)C1O)CCCCCCCCCCCCCCCCCCCCCCCC\n",
      "Pred SMILES: O=C(OCC(OC(=O)CCCCCCCCCCCCCC=CCC=CCCCCCCC)COC1OC(CS(=O)(=O)O)C(O)C(O)C1O)CCCCCCCCCCCCCCCCCCCCCCCCC\n",
      "\n",
      "True SMILES: O=C(OCC(OC(=O)CCCCCCCCCCCCCCCCCCCCCCCCCC)COC1OC(CS(=O)(=O)O)C(O)C(O)C1O)CCCCCCCCCCCCCCCCCCCCCCC\n",
      "Pred SMILES: O=C(OCC(OC(=O)CCCCCCCCCCCCCCCCCCCCCCCCCC)COC1OC(CS(=O)(=O)O)C(O)C(O)C1O)CCCCCCCCCCCCCCCCCCCCCCCC(C\n",
      "\n",
      "True SMILES: O=C(OCC(OC(=O)CCCCCCCCCCCCC=CCC=CCC=CCC=CCC)COC1OC(CS(=O)(=O)O)C(O)C(O)C1O)CCCCCCCCCCCCCCCCCCCCCCC\n",
      "Pred SMILES: O=C(OCC(OC(=O)CCCCCCCCCCCCC=CCC=CCC=CCC=CCC)COC1OC(CS(=O)(=O)O)C(O)C(O)C1O)CCCCCCCCCCCCCCCCCCCCCCCCC(C\n",
      "\n",
      "True SMILES: O=C(OCC(OC(=O)CCCCCCCCCCCCCC=CCC=CCCCCCCC)COC1OC(CS(=O)(=O)O)C(O)C(O)C1O)CCCCCCCCCCCCCCCCCCCCCCC\n",
      "Pred SMILES: O=C(OCC(OC(=O)CCCCCCCCCCCCCC=CCC=CCCCCCCC)COC1OC(CS(=O)(=O)O)C(O)C(O)C1O)CCCCCCCCCCCCCCCCCCCCCCCCCC(C\n",
      "\n",
      "True SMILES: O=C(OCC(OC(=O)CCCCCCCCCCCCCC=CCCCCCCCCCC)COC1OC(CS(=O)(=O)O)C(O)C(O)C1O)CCCCCCCCCCCCCCCCCCCCCCC\n",
      "Pred SMILES: O=C(OCC(OC(=O)CCCCCCCCCCCCCC=CCCCCCCCCCC)COC1OC(CS(=O)(=O)O)C(O)C(O)C1O)CCCCCCCCCCCCCCCCCCCCCCCC(C\n",
      "\n",
      "True SMILES: O=C(OCC(OC(=O)CCCCCCCCCCCCCCCCCCCCCCCCC)COC1OC(CS(=O)(=O)O)C(O)C(O)C1O)CCCCCCCCCCCCCCCCCCCCCCC\n",
      "Pred SMILES: O=C(OCC(OC(=O)CCCCCCCCCCCCCCCCCCCCCCCCC)COC1OC(CS(=O)(=O)O)C(O)C(O)C1O)CCCCCCCCCCCCCCCCCCCCCCCC(C\n",
      "\n",
      "True SMILES: O=C(OCC(OC(=O)CCC=CCC=CCC=CCC=CCC=CCC=CCC)COC1OC(CS(=O)(=O)O)C(O)C(O)C1O)CCC=CCC=CCC=CCC=CCC=CCC=CCC\n",
      "Pred SMILES: O=C(OCC(OC(=O)CCC=CCC=CCC=CCC=CCC=CCC=CCC)COC1OC(CS(=O)(=O)O)C(O)C(O)C1O)CCC=CCC=CCC=CCC=CCC=CCC=CCCC\n",
      "\n",
      "True SMILES: O=C(OCC(OC(=O)CCCCCC=CCC=CCC=CCC=CCC=CCC)COC1OC(CS(=O)(=O)O)C(O)C(O)C1O)CCCCCCCCCCCCCCCCCCCCCCCCCC\n",
      "Pred SMILES: O=C(OCC(OC(=O)CCCCCC=CCC=CCC=CCC=CCC=CCC)COC1OC(CS(=O)(=O)O)C(O)C(O)C1O)CCCCCCCCCCCCCCCCCCCCCCCCCCC\n",
      "\n",
      "True SMILES: O=C(OCC(OC(=O)CCCCCC=CCC=CCC=CCC=CCC=CCC)COC1OC(CS(=O)(=O)O)C(O)C(O)C1O)CCCCCCCCCCCCC=CCC=CCC=CCC=CCC\n",
      "Pred SMILES: O=C(OCC(OC(=O)CCCCCC=CCC=CCC=CCC=CCC=CCC)COC1OC(CS(=O)(=O)O)C(O)C(O)C1O)CCCCCCCCCCCCC=CCC=CCC=CCC=CCCC\n",
      "\n",
      "True SMILES: O=C(OCC(OC(=O)CCCCCC=CCC=CCC=CCC=CCC=CCC)COC1OC(CS(=O)(=O)O)C(O)C(O)C1O)CCCCCCCCCCCCCC=CCC=CCCCCCCC\n",
      "Pred SMILES: O=C(OCC(OC(=O)CCCCCC=CCC=CCC=CCC=CCC=CCC)COC1OC(CS(=O)(=O)O)C(O)C(O)C1O)CCCCCCCCCCCCCC=CCC=CCCCCCCC\n",
      "\n",
      "True SMILES: O=C(OCC(OC(=O)CCCCCC=CCC=CCC=CCC=CCC=CCC)COC1OC(CS(=O)(=O)O)C(O)C(O)C1O)CCCCCCCCCCCCCC=CCCCCCCCCCC\n",
      "Pred SMILES: O=C(OCC(OC(=O)CCCCCC=CCC=CCC=CCC=CCC=CCC)COC1OC(CS(=O)(=O)O)C(O)C(O)C1O)CCCCCCCCCCCCCC=CCCCCCCCCCCC\n",
      "\n",
      "True SMILES: O=C(OCC(OC(=O)CCCCCCCCC=CCC=CCC=CCCCCC)COC1OC(CS(=O)(=O)O)C(O)C(O)C1O)CCCCCCCCCCCCCCCCCCCCCCCCC\n",
      "Pred SMILES: O=C(OCC(OC(=O)CCCCCCCCC=CCC=CCC=CCCCCC)COC1OC(CS(=O)(=O)O)C(O)C(O)C1O)CCCCCCCCCCCCCCCCCCCCCCCCCC(C\n",
      "\n",
      "True SMILES: O=C(OCC(OC(=O)CCCCCCCCC=CCC=CCC=CCCCCC)COC1OC(CS(=O)(=O)O)C(O)C(O)C1O)CCCCCCCCCCCCCCCCCCCCCCCC\n",
      "Pred SMILES: O=C(OCC(OC(=O)CCCCCCCCC=CCC=CCC=CCCCCC)COC1OC(CS(=O)(=O)O)C(O)C(O)C1O)CCCCCCCCCCCCCCCCCCCCCCCCC(C\n",
      "\n",
      "True SMILES: O=C(OCC(OC(=O)CCCCCCCCCCC=CCC=CCC=CCC=CCC)COC1OC(CS(=O)(=O)O)C(O)C(O)C1O)CCCCCCCCC=CCC=CCC=CCCCCC\n",
      "Pred SMILES: O=C(OCC(OC(=O)CCCCCCCCCCC=CCC=CCC=CCC=CCC)COC1OC(CS(=O)(=O)O)C(O)C(O)C1O)CCCCCCCCC=CCC=CCC=CCCCCCC(C\n",
      "\n",
      "True SMILES: O=C(OCC(OC(=O)CCCCCCCCC=CCC=CCC=CCCCCC)COC1OC(CS(=O)(=O)O)C(O)C(O)C1O)CCCCCCCCCCCC=CCC=CCCCCCCC\n",
      "Pred SMILES: O=C(OCC(OC(=O)CCCCCCCCC=CCC=CCC=CCCCCC)COC1OC(CS(=O)(=O)O)C(O)C(O)C1O)CCCCCCCCCCCC=CCC=CCCCCCCC(C\n",
      "\n",
      "True SMILES: O=C(OCC(OC(=O)CCCCCCCCC=CCC=CCC=CCCCCC)COC1OC(CS(=O)(=O)O)C(O)C(O)C1O)CCCCCCCCCCCC=CCCCCCCCCCC\n",
      "Pred SMILES: O=C(OCC(OC(=O)CCCCCCCCC=CCC=CCC=CCCCCC)COC1OC(CS(=O)(=O)O)C(O)C(O)C1O)CCCCCCCCCCCC=CCCCCCCCCCC(C\n",
      "\n",
      "True SMILES: O=C(OCC(OC(=O)CCCCCCCCCCCC=CCCCCCCCC)COC1OC(CS(=O)(=O)O)C(O)C(O)C1O)CCCCCCCCCCCCCCCCCCCCCCCC\n",
      "Pred SMILES: O=C(OCC(OC(=O)CCCCCCCCCCCC=CCCCCCCCC)COC1OC(CS(=O)(=O)O)C(O)C(O)C1O)CCCCCCCCCCCCCCCCCCCCCCCCCC\n",
      "\n",
      "True SMILES: O=C(OCC(OC(=O)CCCCCCCCCCC=CCC=CCC=CCC=CCC)COC1OC(CS(=O)(=O)O)C(O)C(O)C1O)CCCCCCCCCCCC=CCCCCCCCC\n",
      "Pred SMILES: O=C(OCC(OC(=O)CCCCCCCCCCC=CCC=CCC=CCC=CCC)COC1OC(CS(=O)(=O)O)C(O)C(O)C1O)CCCCCCCCCCCC=CCCCCCCCCC(C\n",
      "\n",
      "True SMILES: O=C(OCC(OC(=O)CCCCCCCCCCCC=CCC=CCCCCCCC)COC1OC(CS(=O)(=O)O)C(O)C(O)C1O)CCCCCCCCCCCC=CCCCCCCCC\n",
      "Pred SMILES: O=C(OCC(OC(=O)CCCCCCCCCCCC=CCC=CCCCCCCC)COC1OC(CS(=O)(=O)O)C(O)C(O)C1O)CCCCCCCCCCCC=CCCCCCCCC(\n",
      "\n",
      "True SMILES: O=C(OCC(OC(=O)CCCCCCCCCCCC=CCCCCCCCCCC)COC1OC(CS(=O)(=O)O)C(O)C(O)C1O)CCCCCCCCCCCC=CCCCCCCCC\n",
      "Pred SMILES: O=C(OCC(OC(=O)CCCCCCCCCCCC=CCCCCCCCCCC)COC1OC(CS(=O)(=O)O)C(O)C(O)C1O)CCCCCCCCCCCC=CCCCCCCCC(\n",
      "\n",
      "True SMILES: O=C(OCC(OC(=O)CCCCCCCCCCCC=CCCCCCCCC)COC1OC(CS(=O)(=O)O)C(O)C(O)C1O)CCCCCCCCCCCCCCCCCCCCCCC\n",
      "Pred SMILES: O=C(OCC(OC(=O)CCCCCCCCCCCC=CCCCCCCCC)COC1OC(CS(=O)(=O)O)C(O)C(O)C1O)CCCCCCCCCCCCCCCCCCCCCCCCCC\n",
      "\n",
      "True SMILES: O=C(OCC(OC(=O)CCCCCCCCCCCCCC=CCC=CCCCCCCC)COC1OC(CS(=O)(=O)O)C(O)C(O)C1O)CCCCCCCCCC=CCC=CCCCCCC\n",
      "Pred SMILES: O=C(OCC(OC(=O)CCCCCCCCCCCCCC=CCC=CCCCCCCC)COC1OC(CS(=O)(=O)O)C(O)C(O)C1O)CCCCCCCCCC=CCC=CCCCCCCC\n",
      "\n",
      "True SMILES: O=C(OCC(OC(=O)CCCCCCCCCC=CCC=CCCCCCC)COC1OC(CS(=O)(=O)O)C(O)C(O)C1O)CCCCCCCCCCCCCC=CCCCCCCCCCC\n",
      "Pred SMILES: O=C(OCC(OC(=O)CCCCCCCCCC=CCC=CCCCCCC)COC1OC(CS(=O)(=O)O)C(O)C(O)C1O)CCCCCCCCCCCCCC=CCCCCCCCCCC\n",
      "\n",
      "True SMILES: O=C(OCC(OC(=O)CCCCCCCCCC=CCC=CCCCCCC)COC1OC(CS(=O)(=O)O)C(O)C(O)C1O)CCCCCCCCCCCCCCCCCCCCCCCCC\n",
      "Pred SMILES: O=C(OCC(OC(=O)CCCCCCCCCC=CCC=CCCCCCC)COC1OC(CS(=O)(=O)O)C(O)C(O)C1O)CCCCCCCCCCCCCCCCCCCCCCCCC\n",
      "\n",
      "True SMILES: O=C(OCC(OC(=O)CCCCCCCCCC=CCC=CCCCCCC)COC1OC(CS(=O)(=O)O)C(O)C(O)C1O)CCCCCCCCCCCCCCCCCCCCCCCC\n",
      "Pred SMILES: O=C(OCC(OC(=O)CCCCCCCCCC=CCC=CCCCCCC)COC1OC(CS(=O)(=O)O)C(O)C(O)C1O)CCCCCCCCCCCCCCCCCCCCCCCC\n",
      "\n",
      "True SMILES: O=C(OCC(OC(=O)CCCCCCCCCCC=CCC=CCC=CCC=CCC)COC1OC(CS(=O)(=O)O)C(O)C(O)C1O)CCCCCCCCCC=CCC=CCCCCCC\n",
      "Pred SMILES: O=C(OCC(OC(=O)CCCCCCCCCCC=CCC=CCC=CCC=CCC)COC1OC(CS(=O)(=O)O)C(O)C(O)C1O)CCCCCCCCCC=CCC=CCCCCCCC\n",
      "\n",
      "True SMILES: O=C(OCC(OC(=O)CCCCCCCCCCCC=CCC=CCCCCC)COC1OC(CS(=O)(=O)O)C(O)C(O)C1O)CCCCCCCCCC=CCCCCCCCCC\n",
      "Pred SMILES: O=C(OCC(OC(=O)CCCCCCCCCCCC=CCC=CCCCCC)COC1OC(CS(=O)(=O)O)C(O)C(O)C1O)CCCCCCCCCC=CCCCCCCCCCC\n",
      "\n",
      "True SMILES: O=C(OCC(OC(=O)CCCCCCCCCCCC=CCCCCCCCC)COC1OC(CS(=O)(=O)O)C(O)C(O)C1O)CCCCCCCCCC=CCCCCCCCCC\n",
      "Pred SMILES: O=C(OCC(OC(=O)CCCCCCCCCCCC=CCCCCCCCC)COC1OC(CS(=O)(=O)O)C(O)C(O)C1O)CCCCCCCCCC=CCCCCCCCCC\n",
      "\n",
      "True SMILES: O=C(OCC(OC(=O)CCCCCCCCCC=CCCCCCCCCC)COC1OC(CS(=O)(=O)O)C(O)C(O)C1O)CCCCCCCCCCCCCCCCCCCCC\n",
      "Pred SMILES: O=C(OCC(OC(=O)CCCCCCCCCC=CCCCCCCCCC)COC1OC(CS(=O)(=O)O)C(O)C(O)C1O)CCCCCCCCCCCCCCCCCCCCC\n",
      "\n",
      "True SMILES: O=C(OCC(OC(=O)CCCCCCCCCC=CCC=CCCCCCC)COC1OC(CS(=O)(=O)O)C(O)C(O)C1O)CCCCCCCCCC=CCCCCCCCCC\n",
      "Pred SMILES: O=C(OCC(OC(=O)CCCCCCCCCC=CCC=CCCCCCC)COC1OC(CS(=O)(=O)O)C(O)C(O)C1O)CCCCCCCCCC=CCCCCCCCCC\n",
      "\n",
      "True SMILES: O=C(OCC(OC(=O)CCCCCCCCCC=CCCCCCCCCC)COC1OC(CS(=O)(=O)O)C(O)C(O)C1O)CCCCCCCCCC=CCCCCCCCCC\n",
      "Pred SMILES: O=C(OCC(OC(=O)CCCCCCCCCC=CCCCCCCCCC)COC1OC(CS(=O)(=O)O)C(O)C(O)C1O)CCCCCCCCCC=CCCCCCCCCC\n",
      "\n",
      "True SMILES: O=C(OCC(OC(=O)CCCC=CCC=CCC=CCC=CCC=CCC)COC1OC(CS(=O)(=O)O)C(O)C(O)C1O)CCCCCCCCCCC=CCC=CCC=CCC=CCC\n",
      "Pred SMILES: O=C(OCC(OC(=O)CCCC=CCC=CCC=CCC=CCC=CCC)COC1OC(CS(=O)(=O)O)C(O)C(O)C1O)CCCCCCCCCCC=CCC=CCC=CCC=CCCC\n",
      "\n",
      "True SMILES: O=C(OCC(OC(=O)CCCC=CCC=CCC=CCC=CCC=CCC)COC1OC(CS(=O)(=O)O)C(O)C(O)C1O)CCCCCCCCCCCC=CCC=CCCCCCCC\n",
      "Pred SMILES: O=C(OCC(OC(=O)CCCC=CCC=CCC=CCC=CCC=CCC)COC1OC(CS(=O)(=O)O)C(O)C(O)C1O)CCCCCCCCCCCC=CCC=CCCCCCCCC\n",
      "\n",
      "True SMILES: O=C(OCC(OC(=O)CCCC=CCC=CCC=CCC=CCC=CCC)COC1OC(CS(=O)(=O)O)C(O)C(O)C1O)CCCCCCCCCCCC=CCCCCCCCCCC\n",
      "Pred SMILES: O=C(OCC(OC(=O)CCCC=CCC=CCC=CCC=CCC=CCC)COC1OC(CS(=O)(=O)O)C(O)C(O)C1O)CCCCCCCCCCCC=CCCCCCCCCCCC\n",
      "\n",
      "True SMILES: O=C(OCC(OC(=O)CCCC=CCC=CCC=CCC=CCC=CCC)COC1OC(CS(=O)(=O)O)C(O)C(O)C1O)CCCCCCCCCCCCCCCCCCCCCCC\n",
      "Pred SMILES: O=C(OCC(OC(=O)CCCC=CCC=CCC=CCC=CCC=CCC)COC1OC(CS(=O)(=O)O)C(O)C(O)C1O)CCCCCCCCCCCCCCCCCCCCCCCC\n",
      "\n",
      "True SMILES: O=C(OCC(OC(=O)CCCC=CCC=CCC=CCC=CCC=CCC)COC1OC(CS(=O)(=O)O)C(O)C(O)C1O)CCCCCCCCCCCCCCCCCCCCCC\n",
      "Pred SMILES: O=C(OCC(OC(=O)CCCC=CCC=CCC=CCC=CCC=CCC)COC1OC(CS(=O)(=O)O)C(O)C(O)C1O)CCCCCCCCCCCCCCCCCCCCCC\n",
      "\n",
      "True SMILES: O=C(OCC(OC(=O)CCCCCCC=CCC=CCC=CCC=CCC)COC1OC(CS(=O)(=O)O)C(O)C(O)C1O)CCCCCCCCCCCC=CCCCCCCCC\n",
      "Pred SMILES: O=C(OCC(OC(=O)CCCCCCC=CCC=CCC=CCC=CCC)COC1OC(CS(=O)(=O)O)C(O)C(O)C1O)CCCCCCCCCCCC=CCCCCCCCCC\n",
      "\n",
      "True SMILES: O=C(OCC(OC(=O)CCCCCCC=CCC=CCC=CCC=CCC)COC1OC(CS(=O)(=O)O)C(O)C(O)C1O)CCCCCCCCCCCCCCCCCCCCC\n",
      "Pred SMILES: O=C(OCC(OC(=O)CCCCCCC=CCC=CCC=CCC=CCC)COC1OC(CS(=O)(=O)O)C(O)C(O)C1O)CCCCCCCCCCCCCCCCCCCCCC\n",
      "\n",
      "True SMILES: O=C(OCC(OC(=O)CCCCCCC=CCC=CCC=CCC=CCC)COC1OC(CS(=O)(=O)O)C(O)C(O)C1O)CCCCCCCCCC=CCC=CCCCCCC\n",
      "Pred SMILES: O=C(OCC(OC(=O)CCCCCCC=CCC=CCC=CCC=CCC)COC1OC(CS(=O)(=O)O)C(O)C(O)C1O)CCCCCCCCCC=CCC=CCCCCCCC\n",
      "\n",
      "True SMILES: O=C(OCC(OC(=O)CCCCCCC=CCC=CCC=CCC=CCC)COC1OC(CS(=O)(=O)O)C(O)C(O)C1O)CCCCCCCCCC=CCCCCCCCCC\n",
      "Pred SMILES: O=C(OCC(OC(=O)CCCCCCC=CCC=CCC=CCC=CCC)COC1OC(CS(=O)(=O)O)C(O)C(O)C1O)CCCCCCCCCC=CCCCCCCCCCC\n",
      "\n",
      "True SMILES: O=C(OCC(OC(=O)CCCCCCC=CCC=CCC=CCC=CCC)COC1OC(CS(=O)(=O)O)C(O)C(O)C1O)CCCCCCCCCCCCCCCCCCCC\n",
      "Pred SMILES: O=C(OCC(OC(=O)CCCCCCC=CCC=CCC=CCC=CCC)COC1OC(CS(=O)(=O)O)C(O)C(O)C1O)CCCCCCCCCCCCCCCCCCCC\n",
      "\n",
      "True SMILES: O=C(OCC(OC(=O)CCCCCCCCCCCCC=CCC=CCC=CCC=CCC)COC1OC(CS(=O)(=O)O)C(O)C(O)C1O)CCCCCCCCCC=CCC=CCCCCC\n",
      "Pred SMILES: O=C(OCC(OC(=O)CCCCCCCCCCCCC=CCC=CCC=CCC=CCC)COC1OC(CS(=O)(=O)O)C(O)C(O)C1O)CCCCCCCCCC=CCC=CCCCCCC\n",
      "\n",
      "True SMILES: O=C(OCC(OC(=O)CCCCCCCCCCCCCC=CCC=CCCCCCCC)COC1OC(CS(=O)(=O)O)C(O)C(O)C1O)CCCCCCCCCC=CCC=CCCCCC\n",
      "Pred SMILES: O=C(OCC(OC(=O)CCCCCCCCCCCCCC=CCC=CCCCCCCC)COC1OC(CS(=O)(=O)O)C(O)C(O)C1O)CCCCCCCCCC=CCC=CCCCCC\n",
      "\n",
      "True SMILES: O=C(OCC(OC(=O)CCCCCCCCCC=CCC=CCCCCC)COC1OC(CS(=O)(=O)O)C(O)C(O)C1O)CCCCCCCCCCCCCC=CCCCCCCCCCC\n",
      "Pred SMILES: O=C(OCC(OC(=O)CCCCCCCCCC=CCC=CCCCCC)COC1OC(CS(=O)(=O)O)C(O)C(O)C1O)CCCCCCCCCCCCCC=CCCCCCCCCCC\n",
      "\n",
      "True SMILES: O=C(OCC(OC(=O)CCCCCCCCCC=CCC=CCCCCC)COC1OC(CS(=O)(=O)O)C(O)C(O)C1O)CCCCCCCCCCCCCCCCCCCCCCCCC\n",
      "Pred SMILES: O=C(OCC(OC(=O)CCCCCCCCCC=CCC=CCCCCC)COC1OC(CS(=O)(=O)O)C(O)C(O)C1O)CCCCCCCCCCCCCCCCCCCCCCCCC\n",
      "\n",
      "True SMILES: O=C(OCC(OC(=O)CCCCCCCCCC=CCC=CCCCCC)COC1OC(CS(=O)(=O)O)C(O)C(O)C1O)CCCCCCCCCCCCCCCCCCCCCCCC\n",
      "Pred SMILES: O=C(OCC(OC(=O)CCCCCCCCCC=CCC=CCCCCC)COC1OC(CS(=O)(=O)O)C(O)C(O)C1O)CCCCCCCCCCCCCCCCCCCCCCCC)\n",
      "\n",
      "True SMILES: O=C(OCC(OC(=O)CCCCCCCCCCCC=CCCCCCCCCCC)COC1OC(CS(=O)(=O)O)C(O)C(O)C1O)CCCCCCCCCC=CCCCCCCCC\n",
      "Pred SMILES: O=C(OCC(OC(=O)CCCCCCCCCCCC=CCCCCCCCCCC)COC1OC(CS(=O)(=O)O)C(O)C(O)C1O)CCCCCCCCCC=CCCCCCCCCC\n",
      "\n",
      "True SMILES: O=C(OCC(OC(=O)CCCCCCCCCC=CCCCCCCCC)COC1OC(CS(=O)(=O)O)C(O)C(O)C1O)CCCCCCCCCCCCCCCCCCCCCCC\n",
      "Pred SMILES: O=C(OCC(OC(=O)CCCCCCCCCC=CCCCCCCCC)COC1OC(CS(=O)(=O)O)C(O)C(O)C1O)CCCCCCCCCCCCCCCCCCCCCCC\n",
      "\n",
      "True SMILES: O=C(OCC(OC(=O)CCCCCCCCCC=CCCCCCCCC)COC1OC(CS(=O)(=O)O)C(O)C(O)C1O)CCCCCCCCCCCCCCCCCCCCCC\n",
      "Pred SMILES: O=C(OCC(OC(=O)CCCCCCCCCC=CCCCCCCCC)COC1OC(CS(=O)(=O)O)C(O)C(O)C1O)CCCCCCCCCCCCCCCCCCCCCC\n",
      "\n",
      "True SMILES: O=C(OCC(OC(=O)CCC=CCC=CCC=CCC=CCC=CCC=CCC)COC1OC(CS(=O)(=O)O)C(O)C(O)C1O)CCCCCCCCCC=CCCCCCCCC\n",
      "Pred SMILES: O=C(OCC(OC(=O)CCC=CCC=CCC=CCC=CCC=CCC=CCC)COC1OC(CS(=O)(=O)O)C(O)C(O)C1O)CCCCCCCCCC=CCCCCCCCCC\n",
      "\n",
      "True SMILES: O=C(OCC(OC(=O)CCCCCC=CCC=CCC=CCC=CCC=CCC)COC1OC(CS(=O)(=O)O)C(O)C(O)C1O)CCCCCCCCCC=CCCCCCCCC\n",
      "Pred SMILES: O=C(OCC(OC(=O)CCCCCC=CCC=CCC=CCC=CCC=CCC)COC1OC(CS(=O)(=O)O)C(O)C(O)C1O)CCCCCCCCCC=CCCCCCCCCC\n",
      "\n",
      "True SMILES: O=C(OCC(OC(=O)CCCCCCCCC=CCC=CCC=CCCCCC)COC1OC(CS(=O)(=O)O)C(O)C(O)C1O)CCCCCCCCCCCCCCCCCCC\n",
      "Pred SMILES: O=C(OCC(OC(=O)CCCCCCCCC=CCC=CCC=CCCCCC)COC1OC(CS(=O)(=O)O)C(O)C(O)C1O)CCCCCCCCCCCCCCCCCCC\n",
      "\n",
      "True SMILES: O=C(OCC(OC(=O)CCCCCCCCCCCC=CCC=CCCCCC)COC1OC(CS(=O)(=O)O)C(O)C(O)C1O)CCCCCCCCCCCCCCCCCCC\n",
      "Pred SMILES: O=C(OCC(OC(=O)CCCCCCCCCCCC=CCC=CCCCCC)COC1OC(CS(=O)(=O)O)C(O)C(O)C1O)CCCCCCCCCCCCCCCCCCC\n",
      "\n",
      "True SMILES: O=C(OCC(OC(=O)CCCCCCCCCCCC=CCCCCCCCC)COC1OC(CS(=O)(=O)O)C(O)C(O)C1O)CCCCCCCCCCCCCCCCCCC\n",
      "Pred SMILES: O=C(OCC(OC(=O)CCCCCCCCCCCC=CCCCCCCCC)COC1OC(CS(=O)(=O)O)C(O)C(O)C1O)CCCCCCCCCCCCCCCCCCC\n",
      "\n",
      "True SMILES: O=C(OCC(OC(=O)CCCCCCCCCCCCCCCCCCCCC)COC1OC(CS(=O)(=O)O)C(O)C(O)C1O)CCCCCCCCCCCCCCCCCCC\n",
      "Pred SMILES: O=C(OCC(OC(=O)CCCCCCCCCCCCCCCCCCCCC)COC1OC(CS(=O)(=O)O)C(O)C(O)C1O)CCCCCCCCCCCCCCCCCCC\n",
      "\n",
      "True SMILES: O=C(OCC(OC(=O)CCCCCCCCCC=CCC=CCCCCCC)COC1OC(CS(=O)(=O)O)C(O)C(O)C1O)CCCCCCCCCCCCCCCCCCC\n",
      "Pred SMILES: O=C(OCC(OC(=O)CCCCCCCCCC=CCC=CCCCCCC)COC1OC(CS(=O)(=O)O)C(O)C(O)C1O)CCCCCCCCCCCCCCCCCCC\n",
      "\n",
      "True SMILES: O=C(OCC(OC(=O)CCCCCCCC=CCC=CCCCCCC)COC1OC(CS(=O)(=O)O)C(O)C(O)C1O)CCCCCCCCCC=CCCCCCCCCC\n",
      "Pred SMILES: O=C(OCC(OC(=O)CCCCCCCC=CCC=CCCCCCC)COC1OC(CS(=O)(=O)O)C(O)C(O)C1O)CCCCCCCCCC=CCCCCCCCCC\n",
      "\n",
      "True SMILES: O=C(OCC(OC(=O)CCCCCCCC=CCC=CCCCCCC)COC1OC(CS(=O)(=O)O)C(O)C(O)C1O)CCCCCCCCCCCCCCCCCCCC\n",
      "Pred SMILES: O=C(OCC(OC(=O)CCCCCCCC=CCC=CCCCCCC)COC1OC(CS(=O)(=O)O)C(O)C(O)C1O)CCCCCCCCCCCCCCCCCCCC\n",
      "\n",
      "True SMILES: O=C(OCC(OC(=O)CCCC=CCC=CCC=CCC=CCC=CCC)COC1OC(CS(=O)(=O)O)C(O)C(O)C1O)CCCCCCCC=CCC=CCCCCCC\n",
      "Pred SMILES: O=C(OCC(OC(=O)CCCC=CCC=CCC=CCC=CCC=CCC)COC1OC(CS(=O)(=O)O)C(O)C(O)C1O)CCCCCCCC=CCC=CCCCCCC=\n",
      "\n",
      "True SMILES: O=C(OCC(OC(=O)CCCCCCC=CCC=CCC=CCC=CCC)COC1OC(CS(=O)(=O)O)C(O)C(O)C1O)CCCCCCCC=CCC=CCCCCCC\n",
      "Pred SMILES: O=C(OCC(OC(=O)CCCCCCC=CCC=CCC=CCC=CCC)COC1OC(CS(=O)(=O)O)C(O)C(O)C1O)CCCCCCCC=CCC=CCCCCCC\n",
      "\n",
      "True SMILES: O=C(OCC(OC(=O)CCCCCCCCCC=CCC=CCC=CCC)COC1OC(CS(=O)(=O)O)C(O)C(O)C1O)CCCCCCCC=CCC=CCCCCCC\n",
      "Pred SMILES: O=C(OCC(OC(=O)CCCCCCCCCC=CCC=CCC=CCC)COC1OC(CS(=O)(=O)O)C(O)C(O)C1O)CCCCCCCC=CCC=CCCCCCC\n",
      "\n",
      "True SMILES: O=C(OCC(OC(=O)CCCCCCCCCC=CCC=CCC=CCC)COC1OC(CS(=O)(=O)O)C(O)C(O)C1O)CCCCCCCC=CCCCCCCCCC\n",
      "Pred SMILES: O=C(OCC(OC(=O)CCCCCCCCCC=CCC=CCC=CCC)COC1OC(CS(=O)(=O)O)C(O)C(O)C1O)CCCCCCCC=CCCCCCCCCC\n",
      "\n",
      "True SMILES: O=C(OCC(OC(=O)CCCCCCCCCC=CCC=CCCCCC)COC1OC(CS(=O)(=O)O)C(O)C(O)C1O)CCCCCCCC=CCCCCCCCCC\n",
      "Pred SMILES: O=C(OCC(OC(=O)CCCCCCCCCC=CCC=CCCCCC)COC1OC(CS(=O)(=O)O)C(O)C(O)C1O)CCCCCCCC=CCCCCCCCCC\n",
      "\n",
      "True SMILES: O=C(OCC(OC(=O)CCCCCCCCCC=CCCCCCCCC)COC1OC(CS(=O)(=O)O)C(O)C(O)C1O)CCCCCCCC=CCCCCCCCCC\n",
      "Pred SMILES: O=C(OCC(OC(=O)CCCCCCCCCC=CCCCCCCCC)COC1OC(CS(=O)(=O)O)C(O)C(O)C1O)CCCCCCCC=CCCCCCCCCC\n",
      "\n",
      "True SMILES: CCCCCCCCCCCCCCCCCCCC(=O)OCC(COC1OC(CS(O)(=O)=O)C(O)C(O)C1O)OC(=O)CCCCCCC\\C=C/CCCCCCCCC\n",
      "Pred SMILES: CCCCCCCCCCCCCCCCCCCC(=O)OCC(COC1OC(CS(O)(=O)=O)C(O)C(O)C1O)OC(=O)CCCCCCC\\C=C/CCCCCCCCC\n",
      "\n",
      "True SMILES: O=C(OCC(OC(=O)CCCCCCCC=CCC=CCCCCCC)COC1OC(CS(=O)(=O)O)C(O)C(O)C1O)CCCCCCCC=CCCCCCCCCC\n",
      "Pred SMILES: O=C(OCC(OC(=O)CCCCCCCC=CCC=CCCCCCC)COC1OC(CS(=O)(=O)O)C(O)C(O)C1O)CCCCCCCC=CCCCCCCCCC\n",
      "\n",
      "True SMILES: O=C(OCC(OC(=O)CCCCCCCCCCCCCCCCCCC)COC1OC(CS(=O)(=O)O)C(O)C(O)C1O)CCCCCCCCCCCCCCCCCC\n",
      "Pred SMILES: O=C(OCC(OC(=O)CCCCCCCCCCCCCCCCCCC)COC1OC(CS(=O)(=O)O)C(O)C(O)C1O)CCCCCCCCCCCCCCCCCC\n",
      "\n",
      "True SMILES: O=C(OCC(OC(=O)CCCCCCCC=CCC=CCCCCCC)COC1OC(CS(=O)(=O)O)C(O)C(O)C1O)CCCCCCCCCCCCCCCCCC\n",
      "Pred SMILES: O=C(OCC(OC(=O)CCCCCCCC=CCC=CCCCCCC)COC1OC(CS(=O)(=O)O)C(O)C(O)C1O)CCCCCCCCCCCCCCCCCCO\n",
      "\n",
      "True SMILES: O=C(OCC(OC(=O)CCCCCCCC=CCCCCCCCCC)COC1OC(CS(=O)(=O)O)C(O)C(O)C1O)CCCCCCCCCCCCCCCCCC\n",
      "Pred SMILES: O=C(OCC(OC(=O)CCCCCCCC=CCCCCCCCCC)COC1OC(CS(=O)(=O)O)C(O)C(O)C1O)CCCCCCCCCCCCCCCCCC\n",
      "\n",
      "True SMILES: O=C(OCC(OC(=O)CCCCCCCCCCCCCCCCCC)COC1OC(CS(=O)(=O)O)C(O)C(O)C1O)CCCCCCCCCCCCCCCCCC\n",
      "Pred SMILES: O=C(OCC(OC(=O)CCCCCCCCCCCCCCCCCC)COC1OC(CS(=O)(=O)O)C(O)C(O)C1O)CCCCCCCCCCCCCCCCCC\n",
      "\n",
      "True SMILES: O=C(OC(COC(=O)CCCCCCCCCCCCCCCCCCCCCCCCCC)COC1OC(CS(=O)(=O)O)C(O)C(O)C1O)CC=CCC=CCC=CCC=CCC=CCC\n",
      "Pred SMILES: O=C(OC(COC(=O)CCCCCCCCCCCCCCCCCCCCCCCCCC)COC1OC(CS(=O)(=O)O)C(O)C(O)C1O)CC=CCC=CCC=CCC=CCC=CCCC\n",
      "\n",
      "True SMILES: O=C(OC(COC(=O)CCCCCCCC=CCCCCCCCCC)COC1OC(CS(=O)(=O)O)C(O)C(O)C1O)CC=CCC=CCC=CCC=CCC=CCC\n",
      "Pred SMILES: O=C(OC(COC(=O)CCCCCCCC=CCCCCCCCCC)COC1OC(CS(=O)(=O)O)C(O)C(O)C1O)CC=CCC=CCC=CCC=CCC=CCC\n",
      "\n",
      "True SMILES: O=C(OC(COC(=O)CCCCCCCCCCCCCCCCCC)COC1OC(CS(=O)(=O)O)C(O)C(O)C1O)CC=CCC=CCC=CCC=CCC=CCC\n",
      "Pred SMILES: O=C(OC(COC(=O)CCCCCCCCCCCCCCCCCC)COC1OC(CS(=O)(=O)O)C(O)C(O)C1O)CC=CCC=CCC=CCC=CCC=CCCO\n",
      "\n",
      "True SMILES: O=C(OCC(OC(=O)CC=CCC=CCC=CCC=CCC=CCC)COC1OC(CS(=O)(=O)O)C(O)C(O)C1O)CC=CCC=CCC=CCC=CCC=CCC\n",
      "Pred SMILES: O=C(OCC(OC(=O)CC=CCC=CCC=CCC=CCC=CCC)COC1OC(CS(=O)(=O)O)C(O)C(O)C1O)CC=CCC=CCC=CCC=CCC=CCCC\n",
      "\n",
      "True SMILES: O=C(OCC(OC(=O)CCCCC=CCC=CCC=CCC=CCC)COC1OC(CS(=O)(=O)O)C(O)C(O)C1O)CCCCCCCCCCCCCCCCCCCCCCCCCC\n",
      "Pred SMILES: O=C(OCC(OC(=O)CCCCC=CCC=CCC=CCC=CCC)COC1OC(CS(=O)(=O)O)C(O)C(O)C1O)CCCCCCCCCCCCCCCCCCCCCCCCCC\n",
      "\n",
      "True SMILES: O=C(OCC(OC(=O)CCCCCCCCCCCCC=CCC=CCC=CCC=CCC)COC1OC(CS(=O)(=O)O)C(O)C(O)C1O)CCCCC=CCC=CCC=CCC=CCC\n",
      "Pred SMILES: O=C(OCC(OC(=O)CCCCCCCCCCCCC=CCC=CCC=CCC=CCC)COC1OC(CS(=O)(=O)O)C(O)C(O)C1O)CCCCC=CCC=CCC=CCC=CCCC\n",
      "\n",
      "True SMILES: O=C(OCC(OC(=O)CCCCC=CCC=CCC=CCC=CCC)COC1OC(CS(=O)(=O)O)C(O)C(O)C1O)CCCCCCCCCCCCCCCCCC\n",
      "Pred SMILES: O=C(OCC(OC(=O)CCCCC=CCC=CCC=CCC=CCC)COC1OC(CS(=O)(=O)O)C(O)C(O)C1O)CCCCCCCCCCCCCCCCCC\n",
      "\n",
      "True SMILES: O=C(OC(COC(=O)CCCCC=CCC=CCC=CCC=CCC)COC1OC(CS(=O)(=O)O)C(O)C(O)C1O)CC=CCC=CCC=CCC=CCC=CCC\n",
      "Pred SMILES: O=C(OC(COC(=O)CCCCC=CCC=CCC=CCC=CCC)COC1OC(CS(=O)(=O)O)C(O)C(O)C1O)CC=CCC=CCC=CCC=CCC=CCC\n",
      "\n",
      "True SMILES: O=C(OCC(OC(=O)CCCCC=CCC=CCC=CCC=CCC)COC1OC(CS(=O)(=O)O)C(O)C(O)C1O)CCCCC=CCC=CCC=CCC=CCC\n",
      "Pred SMILES: O=C(OCC(OC(=O)CCCCC=CCC=CCC=CCC=CCC)COC1OC(CS(=O)(=O)O)C(O)C(O)C1O)CCCCC=CCC=CCC=CCC=CCC\n",
      "\n",
      "True SMILES: O=C(OCC(OC(=O)CCCCCCCC=CCC=CCC=CCC)COC1OC(CS(=O)(=O)O)C(O)C(O)C1O)CCCCCCCCCCCCCCCCCCCCCCCCCC\n",
      "Pred SMILES: O=C(OCC(OC(=O)CCCCCCCC=CCC=CCC=CCC)COC1OC(CS(=O)(=O)O)C(O)C(O)C1O)CCCCCCCCCCCCCCCCCCCCCCCCCC\n",
      "\n",
      "True SMILES: O=C(OCC(OC(=O)CCCCCCCCCCCCC=CCC=CCC=CCC=CCC)COC1OC(CS(=O)(=O)O)C(O)C(O)C1O)CCCCCCCC=CCC=CCC=CCC\n",
      "Pred SMILES: O=C(OCC(OC(=O)CCCCCCCCCCCCC=CCC=CCC=CCC=CCC)COC1OC(CS(=O)(=O)O)C(O)C(O)C1O)CCCCCCCC=CCC=CCC=CCCC\n",
      "\n",
      "True SMILES: O=C(OCC(OC(=O)CCCCCCCC=CCC=CCC=CCC)COC1OC(CS(=O)(=O)O)C(O)C(O)C1O)CCCCCCCCCCCCCCCCCC\n",
      "Pred SMILES: O=C(OCC(OC(=O)CCCCCCCC=CCC=CCC=CCC)COC1OC(CS(=O)(=O)O)C(O)C(O)C1O)CCCCCCCCCCCCCCCCCCO\n",
      "\n",
      "True SMILES: O=C(OC(COC(=O)CCCCCCCC=CCC=CCC=CCC)COC1OC(CS(=O)(=O)O)C(O)C(O)C1O)CC=CCC=CCC=CCC=CCC=CCC\n",
      "Pred SMILES: O=C(OC(COC(=O)CCCCCCCC=CCC=CCC=CCC)COC1OC(CS(=O)(=O)O)C(O)C(O)C1O)CC=CCC=CCC=CCC=CCC=CCC\n",
      "\n",
      "True SMILES: O=C(OCC(OC(=O)CCCCC=CCC=CCC=CCC=CCC)COC1OC(CS(=O)(=O)O)C(O)C(O)C1O)CCCCCCCC=CCC=CCC=CCC\n",
      "Pred SMILES: O=C(OCC(OC(=O)CCCCC=CCC=CCC=CCC=CCC)COC1OC(CS(=O)(=O)O)C(O)C(O)C1O)CCCCCCCC=CCC=CCC=CCC\n",
      "\n",
      "True SMILES: O=C(OCC(OC(=O)CCCCCCCC=CCC=CCC=CCC)COC1OC(CS(=O)(=O)O)C(O)C(O)C1O)CCCCCCCC=CCC=CCC=CCC\n",
      "Pred SMILES: O=C(OCC(OC(=O)CCCCCCCC=CCC=CCC=CCC)COC1OC(CS(=O)(=O)O)C(O)C(O)C1O)CCCCCCCC=CCC=CCC=CCC\n",
      "\n",
      "True SMILES: O=C(OCC(OC(=O)CCCCCCCC=CCC=CCCCCC)COC1OC(CS(=O)(=O)O)C(O)C(O)C1O)CCCCCCCCCCCCCCCCCCCCCCCCCC\n",
      "Pred SMILES: O=C(OCC(OC(=O)CCCCCCCC=CCC=CCCCCC)COC1OC(CS(=O)(=O)O)C(O)C(O)C1O)CCCCCCCCCCCCCCCCCCCCCCCCCCC\n",
      "\n",
      "True SMILES: O=C(OCC(OC(=O)CCCCCCCC=CCC=CCCCCC)COC1OC(CS(=O)(=O)O)C(O)C(O)C1O)CCCCCCCC=CCCCCCCCCC\n",
      "Pred SMILES: O=C(OCC(OC(=O)CCCCCCCC=CCC=CCCCCC)COC1OC(CS(=O)(=O)O)C(O)C(O)C1O)CCCCCCCC=CCCCCCCCCC\n",
      "\n",
      "True SMILES: O=C(OCC(OC(=O)CCCCCCCC=CCC=CCCCCC)COC1OC(CS(=O)(=O)O)C(O)C(O)C1O)CCCCCCCCCCCCCCCCCC\n",
      "Pred SMILES: O=C(OCC(OC(=O)CCCCCCCC=CCC=CCCCCC)COC1OC(CS(=O)(=O)O)C(O)C(O)C1O)CCCCCCCCCCCCCCCCCC\n",
      "\n",
      "True SMILES: O=C(OC(COC(=O)CCCCCCCC=CCC=CCCCCC)COC1OC(CS(=O)(=O)O)C(O)C(O)C1O)CC=CCC=CCC=CCC=CCC=CCC\n",
      "Pred SMILES: O=C(OC(COC(=O)CCCCCCCC=CCC=CCCCCC)COC1OC(CS(=O)(=O)O)C(O)C(O)C1O)CC=CCC=CCC=CCC=CCC=CCC\n",
      "\n",
      "True SMILES: O=C(OCC(OC(=O)CCCCC=CCC=CCC=CCC=CCC)COC1OC(CS(=O)(=O)O)C(O)C(O)C1O)CCCCCCCC=CCC=CCCCCC\n",
      "Pred SMILES: O=C(OCC(OC(=O)CCCCC=CCC=CCC=CCC=CCC)COC1OC(CS(=O)(=O)O)C(O)C(O)C1O)CCCCCCCC=CCC=CCCCCC\n",
      "\n",
      "True SMILES: O=C(OCC(OC(=O)CCCCCCCC=CCC=CCC=CCC)COC1OC(CS(=O)(=O)O)C(O)C(O)C1O)CCCCCCCC=CCC=CCCCCC\n",
      "Pred SMILES: O=C(OCC(OC(=O)CCCCCCCC=CCC=CCC=CCC)COC1OC(CS(=O)(=O)O)C(O)C(O)C1O)CCCCCCCC=CCC=CCCCCC\n",
      "\n",
      "True SMILES: O=C(OCC(OC(=O)CCCCCCCC=CCCCCCCCC)COC1OC(CS(=O)(=O)O)C(O)C(O)C1O)CCCCCCCCCCCCCCCCCCC\n",
      "Pred SMILES: O=C(OCC(OC(=O)CCCCCCCC=CCCCCCCCC)COC1OC(CS(=O)(=O)O)C(O)C(O)C1O)CCCCCCCCCCCCCCCCCCCC\n",
      "\n",
      "True SMILES: O=C(OCC(OC(=O)CCCCCCCC=CCC=CCCCCCC)COC1OC(CS(=O)(=O)O)C(O)C(O)C1O)CCCCCCCC=CCCCCCCCC\n",
      "Pred SMILES: O=C(OCC(OC(=O)CCCCCCCC=CCC=CCCCCCC)COC1OC(CS(=O)(=O)O)C(O)C(O)C1O)CCCCCCCC=CCCCCCCCCO\n",
      "\n",
      "True SMILES: O=C(OCC(OC(=O)CCCCCCCC=CCCCCCCCCC)COC1OC(CS(=O)(=O)O)C(O)C(O)C1O)CCCCCCCC=CCCCCCCCC\n",
      "Pred SMILES: O=C(OCC(OC(=O)CCCCCCCC=CCCCCCCCCC)COC1OC(CS(=O)(=O)O)C(O)C(O)C1O)CCCCCCCC=CCCCCCCCCC\n",
      "\n",
      "True SMILES: O=C(OCC(OC(=O)CCCCCCCC=CCCCCCCCC)COC1OC(CS(=O)(=O)O)C(O)C(O)C1O)CCCCCCCCCCCCCCCCCC\n",
      "Pred SMILES: O=C(OCC(OC(=O)CCCCCCCC=CCCCCCCCC)COC1OC(CS(=O)(=O)O)C(O)C(O)C1O)CCCCCCCCCCCCCCCCCCC\n",
      "\n",
      "True SMILES: O=C(OC(COC(=O)CCCCCCCC=CCCCCCCCC)COC1OC(CS(=O)(=O)O)C(O)C(O)C1O)CC=CCC=CCC=CCC=CCC=CCC\n",
      "Pred SMILES: O=C(OC(COC(=O)CCCCCCCC=CCCCCCCCC)COC1OC(CS(=O)(=O)O)C(O)C(O)C1O)CC=CCC=CCC=CCC=CCC=CCCOC\n",
      "\n",
      "True SMILES: O=C(OCC(OC(=O)CCCCCCCCCC=CCC=CCC=CCC)COC1OC(CS(=O)(=O)O)C(O)C(O)C1O)CCCCCCCCCCCCCCCCC\n",
      "Pred SMILES: O=C(OCC(OC(=O)CCCCCCCCCC=CCC=CCC=CCC)COC1OC(CS(=O)(=O)O)C(O)C(O)C1O)CCCCCCCCCCCCCCCCC\n",
      "\n",
      "True SMILES: O=C(OCC(OC(=O)CCCCCCCCCC=CCC=CCCCCC)COC1OC(CS(=O)(=O)O)C(O)C(O)C1O)CCCCCCCCCCCCCCCCC\n",
      "Pred SMILES: O=C(OCC(OC(=O)CCCCCCCCCC=CCC=CCCCCC)COC1OC(CS(=O)(=O)O)C(O)C(O)C1O)CCCCCCCCCCCCCCCCC\n",
      "\n",
      "True SMILES: O=C(OCC(OC(=O)CCCCCCCCCC=CCCCCCCCC)COC1OC(CS(=O)(=O)O)C(O)C(O)C1O)CCCCCCCCCCCCCCCCC\n",
      "Pred SMILES: O=C(OCC(OC(=O)CCCCCCCCCC=CCCCCCCCC)COC1OC(CS(=O)(=O)O)C(O)C(O)C1O)CCCCCCCCCCCCCCCCC\n",
      "\n",
      "True SMILES: O=C(OCC(OC(=O)CCCCCCCCCCCCCCCCCCC)COC1OC(CS(=O)(=O)O)C(O)C(O)C1O)CCCCCCCCCCCCCCCCC\n",
      "Pred SMILES: O=C(OCC(OC(=O)CCCCCCCCCCCCCCCCCCC)COC1OC(CS(=O)(=O)O)C(O)C(O)C1O)CCCCCCCCCCCCCCCCC\n",
      "\n",
      "True SMILES: O=C(OCC(OC(=O)CCCCCCCC=CCC=CCCCCCC)COC1OC(CS(=O)(=O)O)C(O)C(O)C1O)CCCCCCCCCCCCCCCCC\n",
      "Pred SMILES: O=C(OCC(OC(=O)CCCCCCCC=CCC=CCCCCCC)COC1OC(CS(=O)(=O)O)C(O)C(O)C1O)CCCCCCCCCCCCCCCCC\n",
      "\n",
      "True SMILES: O=C(OCC(OC(=O)CCCCCCCC=CCC=CCCCC)COC1OC(CS(=O)(=O)O)C(O)C(O)C1O)CCCCCCCCCC=CCCCCCCCCC\n",
      "Pred SMILES: O=C(OCC(OC(=O)CCCCCCCC=CCC=CCCCC)COC1OC(CS(=O)(=O)O)C(O)C(O)C1O)CCCCCCCCCC=CCCCCCCCCCC\n",
      "\n",
      "True SMILES: O=C(OCC(OC(=O)CCCCCCCC=CCC=CCCCC)COC1OC(CS(=O)(=O)O)C(O)C(O)C1O)CCCCCCCCCCCCCCCCCCCC\n",
      "Pred SMILES: O=C(OCC(OC(=O)CCCCCCCC=CCC=CCCCC)COC1OC(CS(=O)(=O)O)C(O)C(O)C1O)CCCCCCCCCCCCCCCCCCCCC\n",
      "\n",
      "True SMILES: O=C(OCC(OC(=O)CCCC=CCC=CCC=CCC=CCC=CCC)COC1OC(CS(=O)(=O)O)C(O)C(O)C1O)CCCCCCCC=CCC=CCCCC\n",
      "Pred SMILES: O=C(OCC(OC(=O)CCCC=CCC=CCC=CCC=CCC=CCC)COC1OC(CS(=O)(=O)O)C(O)C(O)C1O)CCCCCCCC=CCC=CCCCCC\n",
      "\n",
      "True SMILES: O=C(OCC(OC(=O)CCCCCCC=CCC=CCC=CCC=CCC)COC1OC(CS(=O)(=O)O)C(O)C(O)C1O)CCCCCCCC=CCC=CCCCC\n",
      "Pred SMILES: O=C(OCC(OC(=O)CCCCCCC=CCC=CCC=CCC=CCC)COC1OC(CS(=O)(=O)O)C(O)C(O)C1O)CCCCCCCC=CCC=CCCCCC\n",
      "\n",
      "True SMILES: O=C(OCC(OC(=O)CCCCCCCCCC=CCC=CCC=CCC)COC1OC(CS(=O)(=O)O)C(O)C(O)C1O)CCCCCCCC=CCC=CCCCC\n",
      "Pred SMILES: O=C(OCC(OC(=O)CCCCCCCCCC=CCC=CCC=CCC)COC1OC(CS(=O)(=O)O)C(O)C(O)C1O)CCCCCCCC=CCC=CCCCCOC\n",
      "\n",
      "True SMILES: O=C(OCC(OC(=O)CCCCCCCCC=CCC=CCC=CCCCCC)COC1OC(CS(=O)(=O)O)C(O)C(O)C1O)CCCCCCCC=CCCCCCCC\n",
      "Pred SMILES: O=C(OCC(OC(=O)CCCCCCCCC=CCC=CCC=CCCCCC)COC1OC(CS(=O)(=O)O)C(O)C(O)C1O)CCCCCCCC=CCCCCCCCC\n",
      "\n",
      "True SMILES: O=C(OCC(OC(=O)CCCCCCCCCCCC=CCC=CCCCCC)COC1OC(CS(=O)(=O)O)C(O)C(O)C1O)CCCCCCCC=CCCCCCCC\n",
      "Pred SMILES: O=C(OCC(OC(=O)CCCCCCCCCCCC=CCC=CCCCCC)COC1OC(CS(=O)(=O)O)C(O)C(O)C1O)CCCCCCCC=CCCCCCCCC\n",
      "\n",
      "True SMILES: O=C(OCC(OC(=O)CCCCCCCCCCCC=CCCCCCCCC)COC1OC(CS(=O)(=O)O)C(O)C(O)C1O)CCCCCCCC=CCCCCCCC\n",
      "Pred SMILES: O=C(OCC(OC(=O)CCCCCCCCCCCC=CCCCCCCCC)COC1OC(CS(=O)(=O)O)C(O)C(O)C1O)CCCCCCCC=CCCCCCCCC\n",
      "\n",
      "True SMILES: O=C(OCC(OC(=O)CCCCCCCC=CCCCCCCC)COC1OC(CS(=O)(=O)O)C(O)C(O)C1O)CCCCCCCCCCCCCCCCCCCCC\n",
      "Pred SMILES: O=C(OCC(OC(=O)CCCCCCCC=CCCCCCCC)COC1OC(CS(=O)(=O)O)C(O)C(O)C1O)CCCCCCCCCCCCCCCCCCCCCC\n",
      "\n",
      "True SMILES: O=C(OCC(OC(=O)CCCCCCCCCC=CCC=CCCCCCC)COC1OC(CS(=O)(=O)O)C(O)C(O)C1O)CCCCCCCC=CCCCCCCC\n",
      "Pred SMILES: O=C(OCC(OC(=O)CCCCCCCCCC=CCC=CCCCCCC)COC1OC(CS(=O)(=O)O)C(O)C(O)C1O)CCCCCCCC=CCCCCCCCC\n",
      "\n",
      "True SMILES: O=C(OCC(OC(=O)CCCCCCCCCCCC=CCCCCCCCCCC)COC1OC(CS(=O)(=O)O)C(O)C(O)C1O)CCCCCCCCCCCCCCCC\n",
      "Pred SMILES: O=C(OCC(OC(=O)CCCCCCCCCCCC=CCCCCCCCCCC)COC1OC(CS(=O)(=O)O)C(O)C(O)C1O)CCCCCCCCCCCCCCCCC\n",
      "\n",
      "True SMILES: O=C(OCC(OC(=O)CCCCCCCCCCCCCCCCCCCCCCC)COC1OC(CS(=O)(=O)O)C(O)C(O)C1O)CCCCCCCCCCCCCCCC\n",
      "Pred SMILES: O=C(OCC(OC(=O)CCCCCCCCCCCCCCCCCCCCCCC)COC1OC(CS(=O)(=O)O)C(O)C(O)C1O)CCCCCCCCCCCCCCCCC\n",
      "\n",
      "True SMILES: O=C(OCC(OC(=O)CCCCCCCCCCCCCCCCCCCCCC)COC1OC(CS(=O)(=O)O)C(O)C(O)C1O)CCCCCCCCCCCCCCCC\n",
      "Pred SMILES: O=C(OCC(OC(=O)CCCCCCCCCCCCCCCCCCCCCC)COC1OC(CS(=O)(=O)O)C(O)C(O)C1O)CCCCCCCCCCCCCCCCC\n",
      "\n",
      "True SMILES: O=C(OCC(OC(=O)CCC=CCC=CCC=CCC=CCC=CCC=CCC)COC1OC(CS(=O)(=O)O)C(O)C(O)C1O)CCCCCCCCCCCCCCCC\n",
      "Pred SMILES: O=C(OCC(OC(=O)CCC=CCC=CCC=CCC=CCC=CCC=CCC)COC1OC(CS(=O)(=O)O)C(O)C(O)C1O)CCCCCCCCCCCCCCCCCC\n",
      "\n",
      "True SMILES: O=C(OCC(OC(=O)CCCCCC=CCC=CCC=CCC=CCC=CCC)COC1OC(CS(=O)(=O)O)C(O)C(O)C1O)CCCCCCCCCCCCCCCC\n",
      "Pred SMILES: O=C(OCC(OC(=O)CCCCCC=CCC=CCC=CCC=CCC=CCC)COC1OC(CS(=O)(=O)O)C(O)C(O)C1O)CCCCCCCCCCCCCCCCC\n",
      "\n",
      "True SMILES: O=C(OCC(OC(=O)CCCCCCCCCCCCC=CCC=CCC=CCC=CCC)COC1OC(CS(=O)(=O)O)C(O)C(O)C1O)CCC=CCC=CCC=CCC=CCC\n",
      "Pred SMILES: O=C(OCC(OC(=O)CCCCCCCCCCCCC=CCC=CCC=CCC=CCC)COC1OC(CS(=O)(=O)O)C(O)C(O)C1O)CCC=CCC=CCC=CCC=CCCC\n",
      "\n",
      "True SMILES: O=C(OCC(OC(=O)CCC=CCC=CCC=CCC=CCC)COC1OC(CS(=O)(=O)O)C(O)C(O)C1O)CCCCCCCCCCCCCC=CCC=CCCCCCCC\n",
      "Pred SMILES: O=C(OCC(OC(=O)CCC=CCC=CCC=CCC=CCC)COC1OC(CS(=O)(=O)O)C(O)C(O)C1O)CCCCCCCCCCCCCC=CCC=CCCCCCCCC\n",
      "\n",
      "True SMILES: O=C(OCC(OC(=O)CCC=CCC=CCC=CCC=CCC)COC1OC(CS(=O)(=O)O)C(O)C(O)C1O)CCCCCCCCCCCCCC=CCCCCCCCCCC\n",
      "Pred SMILES: O=C(OCC(OC(=O)CCC=CCC=CCC=CCC=CCC)COC1OC(CS(=O)(=O)O)C(O)C(O)C1O)CCCCCCCCCCCCCC=CCCCCCCCCCCCC\n",
      "\n",
      "True SMILES: O=C(OCC(OC(=O)CCC=CCC=CCC=CCC=CCC)COC1OC(CS(=O)(=O)O)C(O)C(O)C1O)CCCCCCCCCCCCCCCCCCCCCCCCC\n",
      "Pred SMILES: O=C(OCC(OC(=O)CCC=CCC=CCC=CCC=CCC)COC1OC(CS(=O)(=O)O)C(O)C(O)C1O)CCCCCCCCCCCCCCCCCCCCCCCCCCC\n",
      "\n",
      "True SMILES: O=C(OCC(OC(=O)CCC=CCC=CCC=CCC=CCC)COC1OC(CS(=O)(=O)O)C(O)C(O)C1O)CCCCCCCCCCCCCCCCCCCCCCCC\n",
      "Pred SMILES: O=C(OCC(OC(=O)CCC=CCC=CCC=CCC=CCC)COC1OC(CS(=O)(=O)O)C(O)C(O)C1O)CCCCCCCCCCCCCCCCCCCCCCCCC\n",
      "\n",
      "True SMILES: O=C(OCC(OC(=O)CCC=CCC=CCC=CCC=CCC)COC1OC(CS(=O)(=O)O)C(O)C(O)C1O)CCCCCCCC=CCC=CCCCCC\n",
      "Pred SMILES: O=C(OCC(OC(=O)CCC=CCC=CCC=CCC=CCC)COC1OC(CS(=O)(=O)O)C(O)C(O)C1O)CCCCCCCC=CCC=CCCCCC\n",
      "\n",
      "True SMILES: O=C(OCC(OC(=O)CCC=CCC=CCC=CCC=CCC)COC1OC(CS(=O)(=O)O)C(O)C(O)C1O)CCCCCCCC=CCCCCCCCC\n",
      "Pred SMILES: O=C(OCC(OC(=O)CCC=CCC=CCC=CCC=CCC)COC1OC(CS(=O)(=O)O)C(O)C(O)C1O)CCCCCCCC=CCCCCCCCC\n",
      "\n",
      "True SMILES: O=C(OCC(OC(=O)CCC=CCC=CCC=CCC=CCC)COC1OC(CS(=O)(=O)O)C(O)C(O)C1O)CCCCCCCCCCCCCCCCC\n",
      "Pred SMILES: O=C(OCC(OC(=O)CCC=CCC=CCC=CCC=CCC)COC1OC(CS(=O)(=O)O)C(O)C(O)C1O)CCCCCCCCCCCCCCCCC\n",
      "\n",
      "True SMILES: O=C(OCC(OC(=O)CCC=CCC=CCC=CCC=CCC)COC1OC(CS(=O)(=O)O)C(O)C(O)C1O)CCCCCCCC=CCC=CCCCC\n",
      "Pred SMILES: O=C(OCC(OC(=O)CCC=CCC=CCC=CCC=CCC)COC1OC(CS(=O)(=O)O)C(O)C(O)C1O)CCCCCCCC=CCC=CCCCC\n",
      "\n",
      "True SMILES: O=C(OCC(OC(=O)CCC=CCC=CCC=CCC=CCC)COC1OC(CS(=O)(=O)O)C(O)C(O)C1O)CCCCCCCC=CCCCCCCC\n",
      "Pred SMILES: O=C(OCC(OC(=O)CCC=CCC=CCC=CCC=CCC)COC1OC(CS(=O)(=O)O)C(O)C(O)C1O)CCCCCCCC=CCCCCCCC\n",
      "\n",
      "True SMILES: O=C(OCC(OC(=O)CCCCCC=CCC=CCC=CCC)COC1OC(CS(=O)(=O)O)C(O)C(O)C1O)CCCCCCCCCC=CCCCCCCCC\n",
      "Pred SMILES: O=C(OCC(OC(=O)CCCCCC=CCC=CCC=CCC)COC1OC(CS(=O)(=O)O)C(O)C(O)C1O)CCCCCCCCCC=CCCCCCCCC\n",
      "\n",
      "True SMILES: O=C(OCC(OC(=O)CCCCCC=CCC=CCC=CCC)COC1OC(CS(=O)(=O)O)C(O)C(O)C1O)CCCCCCCCCCCCCCCCCCC\n",
      "Pred SMILES: O=C(OCC(OC(=O)CCCCCC=CCC=CCC=CCC)COC1OC(CS(=O)(=O)O)C(O)C(O)C1O)CCCCCCCCCCCCCCCCCCC\n",
      "\n",
      "True SMILES: O=C(OCC(OC(=O)CCCCCC=CCC=CCC=CCC)COC1OC(CS(=O)(=O)O)C(O)C(O)C1O)CCCCCCCC=CCC=CCCCCCC\n",
      "Pred SMILES: O=C(OCC(OC(=O)CCCCCC=CCC=CCC=CCC)COC1OC(CS(=O)(=O)O)C(O)C(O)C1O)CCCCCCCC=CCC=CCCCCCC\n",
      "\n",
      "True SMILES: O=C(OCC(OC(=O)CCCCCC=CCC=CCC=CCC)COC1OC(CS(=O)(=O)O)C(O)C(O)C1O)CCCCCCCC=CCCCCCCCCC\n",
      "Pred SMILES: O=C(OCC(OC(=O)CCCCCC=CCC=CCC=CCC)COC1OC(CS(=O)(=O)O)C(O)C(O)C1O)CCCCCCCC=CCCCCCCCCC\n",
      "\n",
      "True SMILES: O=C(OCC(OC(=O)CCCCCC=CCC=CCC=CCC)COC1OC(CS(=O)(=O)O)C(O)C(O)C1O)CCCCCCCCCCCCCCCCCC\n",
      "Pred SMILES: O=C(OCC(OC(=O)CCCCCC=CCC=CCC=CCC)COC1OC(CS(=O)(=O)O)C(O)C(O)C1O)CCCCCCCCCCCCCCCCCC\n",
      "\n",
      "True SMILES: O=C(OCC(OC(=O)CCCCCCCC=CCC=CCCC)COC1OC(CS(=O)(=O)O)C(O)C(O)C1O)CCCCCCCCCCCC=CCCCCCCCC\n",
      "Pred SMILES: O=C(OCC(OC(=O)CCCCCCCC=CCC=CCCC)COC1OC(CS(=O)(=O)O)C(O)C(O)C1O)CCCCCCCCCCCC=CCCCCCCCCC\n",
      "\n",
      "True SMILES: CCCCCCCCCCCCCCCCCCCCCC(=O)OCC(COC1OC(CS(O)(=O)=O)C(O)C(O)C1O)OC(=O)CCCCCCC\\C=C/C\\C=C/CCC\n",
      "Pred SMILES: CCCCCCCCCCCCCCCCCCCCCC(=O)OCC(COC1OC(CS(O)(=O)=O)C(O)C(O)C1O)OC(=O)CCCCCCC\\C=C/C\\C=C/CCC\n",
      "\n",
      "True SMILES: O=C(OCC(OC(=O)CCCCCCCCCC=CCC=CCCCCCC)COC1OC(CS(=O)(=O)O)C(O)C(O)C1O)CCCCCCCC=CCC=CCCC\n",
      "Pred SMILES: O=C(OCC(OC(=O)CCCCCCCCCC=CCC=CCCCCCC)COC1OC(CS(=O)(=O)O)C(O)C(O)C1O)CCCCCCCC=CCC=CCCCC\n",
      "\n",
      "True SMILES: O=C(OCC(OC(=O)CCCCCCCC=CCC=CCCC)COC1OC(CS(=O)(=O)O)C(O)C(O)C1O)CCCCCCCCCC=CCCCCCCCCC\n",
      "Pred SMILES: O=C(OCC(OC(=O)CCCCCCCC=CCC=CCCC)COC1OC(CS(=O)(=O)O)C(O)C(O)C1O)CCCCCCCCCC=CCCCCCCCCCC\n",
      "\n",
      "True SMILES: O=C(OCC(OC(=O)CCCCCCCC=CCC=CCCC)COC1OC(CS(=O)(=O)O)C(O)C(O)C1O)CCCCCCCCCCCCCCCCCCCC\n",
      "Pred SMILES: O=C(OCC(OC(=O)CCCCCCCC=CCC=CCCC)COC1OC(CS(=O)(=O)O)C(O)C(O)C1O)CCCCCCCCCCCCCCCCCCCCC\n",
      "\n",
      "True SMILES: O=C(OCC(OC(=O)CCCCCCCCCCC=CCC=CCC=CCC=CCC)COC1OC(CS(=O)(=O)O)C(O)C(O)C1O)CCCCCCCC=CCCCCCC\n",
      "Pred SMILES: O=C(OCC(OC(=O)CCCCCCCCCCC=CCC=CCC=CCC=CCC)COC1OC(CS(=O)(=O)O)C(O)C(O)C1O)CCCCCCCC=CCCCCCCC\n",
      "\n",
      "True SMILES: O=C(OCC(OC(=O)CCCCCCCCCCCC=CCC=CCCCCCCC)COC1OC(CS(=O)(=O)O)C(O)C(O)C1O)CCCCCCCC=CCCCCCC\n",
      "Pred SMILES: O=C(OCC(OC(=O)CCCCCCCCCCCC=CCC=CCCCCCCC)COC1OC(CS(=O)(=O)O)C(O)C(O)C1O)CCCCCCCC=CCCCCCC\n",
      "\n",
      "True SMILES: O=C(OCC(OC(=O)CCCCCCCCCCCC=CCCCCCCCCCC)COC1OC(CS(=O)(=O)O)C(O)C(O)C1O)CCCCCCCC=CCCCCCC\n",
      "Pred SMILES: O=C(OCC(OC(=O)CCCCCCCCCCCC=CCCCCCCCCCC)COC1OC(CS(=O)(=O)O)C(O)C(O)C1O)CCCCCCCC=CCCCCCC\n",
      "\n",
      "True SMILES: O=C(OCC(OC(=O)CCCCCCCC=CCCCCCC)COC1OC(CS(=O)(=O)O)C(O)C(O)C1O)CCCCCCCCCCCCCCCCCCCCCCC\n",
      "Pred SMILES: O=C(OCC(OC(=O)CCCCCCCC=CCCCCCC)COC1OC(CS(=O)(=O)O)C(O)C(O)C1O)CCCCCCCCCCCCCCCCCCCCCCC\n",
      "\n",
      "True SMILES: O=C(OCC(OC(=O)CCCCCCCC=CCCCCCC)COC1OC(CS(=O)(=O)O)C(O)C(O)C1O)CCCCCCCCCCCCCCCCCCCCCC\n",
      "Pred SMILES: O=C(OCC(OC(=O)CCCCCCCC=CCCCCCC)COC1OC(CS(=O)(=O)O)C(O)C(O)C1O)CCCCCCCCCCCCCCCCCCCCCCO\n",
      "\n",
      "True SMILES: O=C(OCC(OC(=O)CCCCCCCC=CCCCCCC)COC1OC(CS(=O)(=O)O)C(O)C(O)C1O)CCCCCCCCCCCCCCCC\n",
      "Pred SMILES: O=C(OCC(OC(=O)CCCCCCCC=CCCCCCC)COC1OC(CS(=O)(=O)O)C(O)C(O)C1O)CCCCCCCCCCCCCCCC\n",
      "\n",
      "True SMILES: O=C(OCC(OC(=O)CCC=CCC=CCC=CCC=CCC)COC1OC(CS(=O)(=O)O)C(O)C(O)C1O)CCCCCCCC=CCCCCCC\n",
      "Pred SMILES: O=C(OCC(OC(=O)CCC=CCC=CCC=CCC=CCC)COC1OC(CS(=O)(=O)O)C(O)C(O)C1O)CCCCCCCC=CCCCCCC\n",
      "\n",
      "True SMILES: O=C(OCC(OC(=O)CCCCCC=CCC=CCC=CCC)COC1OC(CS(=O)(=O)O)C(O)C(O)C1O)CCCCCCCC=CCCCCCC\n",
      "Pred SMILES: O=C(OCC(OC(=O)CCCCCC=CCC=CCC=CCC)COC1OC(CS(=O)(=O)O)C(O)C(O)C1O)CCCCCCCC=CCCCCCC\n",
      "\n",
      "True SMILES: CCCCCC\\C=C/CCCCCCCC(=O)OCC(COC1OC(CS(O)(=O)=O)C(O)C(O)C1O)OC(=O)CCCCCCC\\C=C/C\\C=C/CCC\n",
      "Pred SMILES: CCCCCC\\C=C/CCCCCCCC(=O)OCC(COC1OC(CS(O)(=O)=O)C(O)C(O)C1O)OC(=O)CCCCCCC\\C=C/C\\C=C/CCC\n",
      "\n",
      "True SMILES: O=C(OCC(OC(=O)CCCCCCCC=CCCCCCC)COC1OC(CS(=O)(=O)O)C(O)C(O)C1O)CCCCCCCC=CCCCCCC\n",
      "Pred SMILES: O=C(OCC(OC(=O)CCCCCCCC=CCCCCCC)COC1OC(CS(=O)(=O)O)C(O)C(O)C1O)CCCCCCCC=CCCCCCC\n",
      "\n",
      "True SMILES: O=C(OCC(OC(=O)CCCCCCCC=CCC=CCCCCCC)COC1OC(CS(=O)(=O)O)C(O)C(O)C1O)CCCCCCCCCCCCCCC\n",
      "Pred SMILES: O=C(OCC(OC(=O)CCCCCCCC=CCC=CCCCCCC)COC1OC(CS(=O)(=O)O)C(O)C(O)C1O)CCCCCCCCCCCCCCC\n",
      "\n",
      "True SMILES: O=C(OCC(OC(=O)CCCCCCCC=CCCCCCCCCC)COC1OC(CS(=O)(=O)O)C(O)C(O)C1O)CCCCCCCCCCCCCCC\n",
      "Pred SMILES: O=C(OCC(OC(=O)CCCCCCCC=CCCCCCCCCC)COC1OC(CS(=O)(=O)O)C(O)C(O)C1O)CCCCCCCCCCCCCCC\n",
      "\n",
      "True SMILES: O=C(OCC(OC(=O)CCCCCCCCCCCCCCCCCC)COC1OC(CS(=O)(=O)O)C(O)C(O)C1O)CCCCCCCCCCCCCCC\n",
      "Pred SMILES: O=C(OCC(OC(=O)CCCCCCCCCCCCCCCCCC)COC1OC(CS(=O)(=O)O)C(O)C(O)C1O)CCCCCCCCCCCCCCCC\n",
      "\n",
      "True SMILES: O=C(OC(COC(=O)CCCCCCCCCCCCCCC)COC1OC(CS(=O)(=O)O)C(O)C(O)C1O)CC=CCC=CCC=CCC=CCC=CCC\n",
      "Pred SMILES: O=C(OC(COC(=O)CCCCCCCCCCCCCCC)COC1OC(CS(=O)(=O)O)C(O)C(O)C1O)CC=CCC=CCC=CCC=CCC=CCC\n",
      "\n",
      "True SMILES: O=C(OCC(OC(=O)CCCCC=CCC=CCC=CCC=CCC)COC1OC(CS(=O)(=O)O)C(O)C(O)C1O)CCCCCCCCCCCCCCC\n",
      "Pred SMILES: O=C(OCC(OC(=O)CCCCC=CCC=CCC=CCC=CCC)COC1OC(CS(=O)(=O)O)C(O)C(O)C1O)CCCCCCCCCCCCCCC\n",
      "\n",
      "True SMILES: O=C(OCC(OC(=O)CCCCCCCCCCCC=CCC=CCCCCC)COC1OC(CS(=O)(=O)O)C(O)C(O)C1O)CCCCCCCC=CCCCCC\n",
      "Pred SMILES: O=C(OCC(OC(=O)CCCCCCCCCCCC=CCC=CCCCCC)COC1OC(CS(=O)(=O)O)C(O)C(O)C1O)CCCCCCCC=CCCCCC\n",
      "\n",
      "True SMILES: O=C(OCC(OC(=O)CCCCCCCCCCCC=CCCCCCCCC)COC1OC(CS(=O)(=O)O)C(O)C(O)C1O)CCCCCCCC=CCCCCC\n",
      "Pred SMILES: O=C(OCC(OC(=O)CCCCCCCCCCCC=CCCCCCCCC)COC1OC(CS(=O)(=O)O)C(O)C(O)C1O)CCCCCCCC=CCCCCC\n",
      "\n",
      "True SMILES: O=C(OCC(OC(=O)CCCCCCCC=CCCCCC)COC1OC(CS(=O)(=O)O)C(O)C(O)C1O)CCCCCCCCCCCCCCCCCCCCC\n",
      "Pred SMILES: O=C(OCC(OC(=O)CCCCCCCC=CCCCCC)COC1OC(CS(=O)(=O)O)C(O)C(O)C1O)CCCCCCCCCCCCCCCCCCCCC\n",
      "\n",
      "True SMILES: O=C(OCC(OC(=O)CCCCCCCCCC=CCC=CCCCCCC)COC1OC(CS(=O)(=O)O)C(O)C(O)C1O)CCCCCCCC=CCCCCC\n",
      "Pred SMILES: O=C(OCC(OC(=O)CCCCCCCCCC=CCC=CCCCCCC)COC1OC(CS(=O)(=O)O)C(O)C(O)C1O)CCCCCCCC=CCCCCC\n",
      "\n",
      "True SMILES: O=C(OCC(OC(=O)CCCCCCCCCC=CCCCCCCCCC)COC1OC(CS(=O)(=O)O)C(O)C(O)C1O)CCCCCCCC=CCCCCC\n",
      "Pred SMILES: O=C(OCC(OC(=O)CCCCCCCCCC=CCCCCCCCCC)COC1OC(CS(=O)(=O)O)C(O)C(O)C1O)CCCCCCCC=CCCCCC\n",
      "\n",
      "True SMILES: O=C(OCC(OC(=O)CCCCCCCCCCCCCC=CCC=CCCCCCCC)COC1OC(CS(=O)(=O)O)C(O)C(O)C1O)CCCCCCCCCCCCCC\n",
      "Pred SMILES: O=C(OCC(OC(=O)CCCCCCCCCCCCCC=CCC=CCCCCCCC)COC1OC(CS(=O)(=O)O)C(O)C(O)C1O)CCCCCCCCCCCCCCC\n",
      "\n",
      "True SMILES: O=C(OCC(OC(=O)CCCCCCCCCCCCCC=CCCCCCCCCCC)COC1OC(CS(=O)(=O)O)C(O)C(O)C1O)CCCCCCCCCCCCCC\n",
      "Pred SMILES: O=C(OCC(OC(=O)CCCCCCCCCCCCCC=CCCCCCCCCCC)COC1OC(CS(=O)(=O)O)C(O)C(O)C1O)CCCCCCCCCCCCCCC\n",
      "\n",
      "True SMILES: O=C(OCC(OC(=O)CCCCCCCCCCCCCCCCCCCCCCCCC)COC1OC(CS(=O)(=O)O)C(O)C(O)C1O)CCCCCCCCCCCCCC\n",
      "Pred SMILES: O=C(OCC(OC(=O)CCCCCCCCCCCCCCCCCCCCCCCCC)COC1OC(CS(=O)(=O)O)C(O)C(O)C1O)CCCCCCCCCCCCCCO\n",
      "\n",
      "True SMILES: O=C(OCC(OC(=O)CCCCCCCCCCCCCCCCCCCCCCCC)COC1OC(CS(=O)(=O)O)C(O)C(O)C1O)CCCCCCCCCCCCCC\n",
      "Pred SMILES: O=C(OCC(OC(=O)CCCCCCCCCCCCCCCCCCCCCCCC)COC1OC(CS(=O)(=O)O)C(O)C(O)C1O)CCCCCCCCCCCCCCO\n",
      "\n",
      "True SMILES: O=C(OCC(OC(=O)CCCCCCCCCCC=CCC=CCC=CCC=CCC)COC1OC(CS(=O)(=O)O)C(O)C(O)C1O)CCCCCCCCCCCCCC\n",
      "Pred SMILES: O=C(OCC(OC(=O)CCCCCCCCCCC=CCC=CCC=CCC=CCC)COC1OC(CS(=O)(=O)O)C(O)C(O)C1O)CCCCCCCCCCCCCCC\n",
      "\n",
      "True SMILES: O=C(OCC(OC(=O)CCCCCCCC=CCCCCCCCC)COC1OC(CS(=O)(=O)O)C(O)C(O)C1O)CCCCCCCCCCCCCC\n",
      "Pred SMILES: O=C(OCC(OC(=O)CCCCCCCC=CCCCCCCCC)COC1OC(CS(=O)(=O)O)C(O)C(O)C1O)CCCCCCCCCCCCCC\n",
      "\n",
      "True SMILES: O=C(OCC(OC(=O)CCCCCCCCCCCCCCCCC)COC1OC(CS(=O)(=O)O)C(O)C(O)C1O)CCCCCCCCCCCCCC\n",
      "Pred SMILES: O=C(OCC(OC(=O)CCCCCCCCCCCCCCCCC)COC1OC(CS(=O)(=O)O)C(O)C(O)C1O)CCCCCCCCCCCCCC\n",
      "\n",
      "True SMILES: O=C(OCC(OC(=O)CCCCCCCC=CCC=CCCCC)COC1OC(CS(=O)(=O)O)C(O)C(O)C1O)CCCCCCCCCCCCCC\n",
      "Pred SMILES: O=C(OCC(OC(=O)CCCCCCCC=CCC=CCCCC)COC1OC(CS(=O)(=O)O)C(O)C(O)C1O)CCCCCCCCCCCCCC\n",
      "\n",
      "True SMILES: O=C(OCC(OC(=O)CCCCCCCC=CCCCCCCC)COC1OC(CS(=O)(=O)O)C(O)C(O)C1O)CCCCCCCCCCCCCC\n",
      "Pred SMILES: O=C(OCC(OC(=O)CCCCCCCC=CCCCCCCC)COC1OC(CS(=O)(=O)O)C(O)C(O)C1O)CCCCCCCCCCCCCC\n",
      "\n",
      "True SMILES: O=C(OCC(OC(=O)CCCCCCCCCCCCCCCC)COC1OC(CS(=O)(=O)O)C(O)C(O)C1O)CCCCCCCCCCCCCC\n",
      "Pred SMILES: O=C(OCC(OC(=O)CCCCCCCCCCCCCCCC)COC1OC(CS(=O)(=O)O)C(O)C(O)C1O)CCCCCCCCCCCCCC\n",
      "\n",
      "True SMILES: O=C(OCC(OC(=O)CCCCCCCC=CCCCC)COC1OC(CS(=O)(=O)O)C(O)C(O)C1O)CCCCCCCCCCCCCCCCCCCC\n",
      "Pred SMILES: O=C(OCC(OC(=O)CCCCCCCC=CCCCC)COC1OC(CS(=O)(=O)O)C(O)C(O)C1O)CCCCCCCCCCCCCCCCCCCC\n",
      "\n",
      "True SMILES: O=C(OCC(OC(=O)CCCC=CCC=CCC=CCC=CCC=CCC)COC1OC(CS(=O)(=O)O)C(O)C(O)C1O)CCCCCCCC=CCCCC\n",
      "Pred SMILES: O=C(OCC(OC(=O)CCCC=CCC=CCC=CCC=CCC=CCC)COC1OC(CS(=O)(=O)O)C(O)C(O)C1O)CCCCCCCC=CCCCC\n",
      "\n",
      "True SMILES: O=C(OCC(OC(=O)CCCCCCC=CCC=CCC=CCC=CCC)COC1OC(CS(=O)(=O)O)C(O)C(O)C1O)CCCCCCCC=CCCCC\n",
      "Pred SMILES: O=C(OCC(OC(=O)CCCCCCC=CCC=CCC=CCC=CCC)COC1OC(CS(=O)(=O)O)C(O)C(O)C1O)CCCCCCCC=CCCCC\n",
      "\n",
      "True SMILES: O=C(OCC(OC(=O)CCCCCCCCCC=CCC=CCC=CCC)COC1OC(CS(=O)(=O)O)C(O)C(O)C1O)CCCCCCCC=CCCCC\n",
      "Pred SMILES: O=C(OCC(OC(=O)CCCCCCCCCC=CCC=CCC=CCC)COC1OC(CS(=O)(=O)O)C(O)C(O)C1O)CCCCCCCC=CCCCC\n",
      "\n",
      "True SMILES: O=C(OCC(OC(=O)CCCCCCCCCC=CCC=CCCCCC)COC1OC(CS(=O)(=O)O)C(O)C(O)C1O)CCCCCCCC=CCCCC\n",
      "Pred SMILES: O=C(OCC(OC(=O)CCCCCCCCCC=CCC=CCCCCC)COC1OC(CS(=O)(=O)O)C(O)C(O)C1O)CCCCCCCC=CCCCC\n",
      "\n",
      "True SMILES: O=C(OCC(OC(=O)CCCCCCCCCCCCCCCCCCCCCCCC)COC1OC(CS(=O)(=O)O)C(O)C(O)C1O)CCCCCCCCCCCCC\n",
      "Pred SMILES: O=C(OCC(OC(=O)CCCCCCCCCCCCCCCCCCCCCCCC)COC1OC(CS(=O)(=O)O)C(O)C(O)C1O)CCCCCCCCCCCCC\n",
      "\n",
      "True SMILES: O=C(OCC(OC(=O)CCCCCCCCCCC=CCC=CCC=CCC=CCC)COC1OC(CS(=O)(=O)O)C(O)C(O)C1O)CCCCCCCCCCCCC\n",
      "Pred SMILES: O=C(OCC(OC(=O)CCCCCCCCCCC=CCC=CCC=CCC=CCC)COC1OC(CS(=O)(=O)O)C(O)C(O)C1O)CCCCCCCCCCCCC\n",
      "\n",
      "True SMILES: O=C(OCC(OC(=O)CCCCCCCCCCCC=CCC=CCCCCCCC)COC1OC(CS(=O)(=O)O)C(O)C(O)C1O)CCCCCCCCCCCCC\n",
      "Pred SMILES: O=C(OCC(OC(=O)CCCCCCCCCCCC=CCC=CCCCCCCC)COC1OC(CS(=O)(=O)O)C(O)C(O)C1O)CCCCCCCCCCCCC\n",
      "\n",
      "True SMILES: O=C(OCC(OC(=O)CCCCCCCCCCCC=CCCCCCCCCCC)COC1OC(CS(=O)(=O)O)C(O)C(O)C1O)CCCCCCCCCCCCC\n",
      "Pred SMILES: O=C(OCC(OC(=O)CCCCCCCCCCCC=CCCCCCCCCCC)COC1OC(CS(=O)(=O)O)C(O)C(O)C1O)CCCCCCCCCCCCC\n",
      "\n",
      "True SMILES: O=C(OCC(OC(=O)CCCCCCCCCCCCCCCCCCCCCCC)COC1OC(CS(=O)(=O)O)C(O)C(O)C1O)CCCCCCCCCCCCC\n",
      "Pred SMILES: O=C(OCC(OC(=O)CCCCCCCCCCCCCCCCCCCCCCC)COC1OC(CS(=O)(=O)O)C(O)C(O)C1O)CCCCCCCCCCCCC\n",
      "\n",
      "True SMILES: O=C(OCC(OC(=O)CCCCCCCC=CCCCCCCC)COC1OC(CS(=O)(=O)O)C(O)C(O)C1O)CCCCCCCCCCCCC\n",
      "Pred SMILES: O=C(OCC(OC(=O)CCCCCCCC=CCCCCCCC)COC1OC(CS(=O)(=O)O)C(O)C(O)C1O)CCCCCCCCCCCCC\n",
      "\n",
      "True SMILES: O=C(OCC(OC(=O)CCCCCCCCCCCCCCCC)COC1OC(CS(=O)(=O)O)C(O)C(O)C1O)CCCCCCCCCCCCC\n",
      "Pred SMILES: O=C(OCC(OC(=O)CCCCCCCCCCCCCCCC)COC1OC(CS(=O)(=O)O)C(O)C(O)C1O)CCCCCCCCCCCCC\n",
      "\n",
      "True SMILES: O=C(OCC(OC(=O)CCC=CCC=CCC=CCC=CCC)COC1OC(CS(=O)(=O)O)C(O)C(O)C1O)CCCCCCCCCCCCC\n",
      "Pred SMILES: O=C(OCC(OC(=O)CCC=CCC=CCC=CCC=CCC)COC1OC(CS(=O)(=O)O)C(O)C(O)C1O)CCCCCCCCCCCCC\n",
      "\n",
      "True SMILES: O=C(OCC(OC(=O)CCCCCC=CCC=CCC=CCC)COC1OC(CS(=O)(=O)O)C(O)C(O)C1O)CCCCCCCCCCCCC\n",
      "Pred SMILES: O=C(OCC(OC(=O)CCCCCC=CCC=CCC=CCC)COC1OC(CS(=O)(=O)O)C(O)C(O)C1O)CCCCCCCCCCCCC\n",
      "\n",
      "True SMILES: O=C(OCC(OC(=O)CCCCCCCC=CCC=CCCC)COC1OC(CS(=O)(=O)O)C(O)C(O)C1O)CCCCCCCCCCCCC\n",
      "Pred SMILES: O=C(OCC(OC(=O)CCCCCCCC=CCC=CCCC)COC1OC(CS(=O)(=O)O)C(O)C(O)C1O)CCCCCCCCCCCCC\n",
      "\n",
      "True SMILES: O=C(OCC(OC(=O)CCCC=CCC=CCC=CCC=CCC=CCC)COC1OC(CS(=O)(=O)O)C(O)C(O)C1O)CCCCCCCC=CCCC\n",
      "Pred SMILES: O=C(OCC(OC(=O)CCCC=CCC=CCC=CCC=CCC=CCC)COC1OC(CS(=O)(=O)O)C(O)C(O)C1O)CCCCCCCC=CCCC\n",
      "\n",
      "True SMILES: O=C(OCC(OC(=O)CCCCCCC=CCC=CCC=CCC=CCC)COC1OC(CS(=O)(=O)O)C(O)C(O)C1O)CCCCCCCC=CCCC\n",
      "Pred SMILES: O=C(OCC(OC(=O)CCCCCCC=CCC=CCC=CCC=CCC)COC1OC(CS(=O)(=O)O)C(O)C(O)C1O)CCCCCCCC=CCCC\n",
      "\n",
      "True SMILES: O=C(OCC(OC(=O)CCCCCCCCCC=CCC=CCC=CCC)COC1OC(CS(=O)(=O)O)C(O)C(O)C1O)CCCCCCCC=CCCC\n",
      "Pred SMILES: O=C(OCC(OC(=O)CCCCCCCCCC=CCC=CCC=CCC)COC1OC(CS(=O)(=O)O)C(O)C(O)C1O)CCCCCCCC=CCCC\n",
      "\n",
      "True SMILES: O=C(OCC(OC(=O)CCCCCCCCCC=CCC=CCCCCC)COC1OC(CS(=O)(=O)O)C(O)C(O)C1O)CCCCCCCC=CCCC\n",
      "Pred SMILES: O=C(OCC(OC(=O)CCCCCCCCCC=CCC=CCCCCC)COC1OC(CS(=O)(=O)O)C(O)C(O)C1O)CCCCCCCC=CCCC\n",
      "\n",
      "True SMILES: O=C(OCC(OC(=O)CCCCCCCCCC=CCCCCCCCC)COC1OC(CS(=O)(=O)O)C(O)C(O)C1O)CCCCCCCC=CCCC\n",
      "Pred SMILES: O=C(OCC(OC(=O)CCCCCCCCCC=CCCCCCCCC)COC1OC(CS(=O)(=O)O)C(O)C(O)C1O)CCCCCCCC=CCCCC\n",
      "\n",
      "True SMILES: O=C(OCC(OC(=O)CCCCCCCCCCCCCCCCCCCCCCCCC)COC1OC(CS(=O)(=O)O)C(O)C(O)C1O)CCCCCCCCCCCC\n",
      "Pred SMILES: O=C(OCC(OC(=O)CCCCCCCCCCCCCCCCCCCCCCCCC)COC1OC(CS(=O)(=O)O)C(O)C(O)C1O)CCCCCCCCCCCCC\n",
      "\n",
      "True SMILES: O=C(OCC(OC(=O)CCCCCCCCCCCCCCCCCCCCCCCC)COC1OC(CS(=O)(=O)O)C(O)C(O)C1O)CCCCCCCCCCCC\n",
      "Pred SMILES: O=C(OCC(OC(=O)CCCCCCCCCCCCCCCCCCCCCCCC)COC1OC(CS(=O)(=O)O)C(O)C(O)C1O)CCCCCCCCCCCCC\n",
      "\n",
      "True SMILES: O=C(OCC(OC(=O)CCCCCCCCCCC=CCC=CCC=CCC=CCC)COC1OC(CS(=O)(=O)O)C(O)C(O)C1O)CCCCCCCCCCCC\n",
      "Pred SMILES: O=C(OCC(OC(=O)CCCCCCCCCCC=CCC=CCC=CCC=CCC)COC1OC(CS(=O)(=O)O)C(O)C(O)C1O)CCCCCCCCCCCCC\n",
      "\n",
      "True SMILES: O=C(OCC(OC(=O)CCCCCCCCCCCC=CCC=CCCCCCCC)COC1OC(CS(=O)(=O)O)C(O)C(O)C1O)CCCCCCCCCCCC\n",
      "Pred SMILES: O=C(OCC(OC(=O)CCCCCCCCCCCC=CCC=CCCCCCCC)COC1OC(CS(=O)(=O)O)C(O)C(O)C1O)CCCCCCCCCCCCC\n",
      "\n",
      "True SMILES: O=C(OCC(OC(=O)CCCCCCCCCCCC=CCCCCCCCCCC)COC1OC(CS(=O)(=O)O)C(O)C(O)C1O)CCCCCCCCCCCC\n",
      "Pred SMILES: O=C(OCC(OC(=O)CCCCCCCCCCCC=CCCCCCCCCCC)COC1OC(CS(=O)(=O)O)C(O)C(O)C1O)CCCCCCCCCCCCC\n",
      "\n",
      "True SMILES: O=C(OCC(OC(=O)CCCCCCCC=CCC=CCCCC)COC1OC(CS(=O)(=O)O)C(O)C(O)C1O)CCCCCCCCCCCC\n",
      "Pred SMILES: O=C(OCC(OC(=O)CCCCCCCC=CCC=CCCCC)COC1OC(CS(=O)(=O)O)C(O)C(O)C1O)CCCCCCCCCCCC\n",
      "\n",
      "True SMILES: O=C(OCC(OC(=O)CCCCCCCC=CCCCCCCC)COC1OC(CS(=O)(=O)O)C(O)C(O)C1O)CCCCCCCCCCCC\n",
      "Pred SMILES: O=C(OCC(OC(=O)CCCCCCCC=CCCCCCCC)COC1OC(CS(=O)(=O)O)C(O)C(O)C1O)CCCCCCCCCCCCC\n",
      "\n",
      "True SMILES: O=C(OCC(OC(=O)CCCCCCCCCCCCCCCC)COC1OC(CS(=O)(=O)O)C(O)C(O)C1O)CCCCCCCCCCCC\n",
      "Pred SMILES: O=C(OCC(OC(=O)CCCCCCCCCCCCCCCC)COC1OC(CS(=O)(=O)O)C(O)C(O)C1O)CCCCCCCCCCCC\n",
      "\n",
      "True SMILES: O=C(OCC(OC(=O)CCC=CCC=CCC=CCC=CCC)COC1OC(CS(=O)(=O)O)C(O)C(O)C1O)CCCCCCCCCCCC\n",
      "Pred SMILES: O=C(OCC(OC(=O)CCC=CCC=CCC=CCC=CCC)COC1OC(CS(=O)(=O)O)C(O)C(O)C1O)CCCCCCCCCCCC\n",
      "\n",
      "True SMILES: O=C(OCC(OC(=O)CCCCCC=CCC=CCC=CCC)COC1OC(CS(=O)(=O)O)C(O)C(O)C1O)CCCCCCCCCCCC\n",
      "Pred SMILES: O=C(OCC(OC(=O)CCCCCC=CCC=CCC=CCC)COC1OC(CS(=O)(=O)O)C(O)C(O)C1O)CCCCCCCCCCCC\n",
      "\n",
      "True SMILES: O=C(OCC(OC(=O)CCCCCCCCCC=CCC=CCCCCCC)COC1OC(CS(=O)(=O)O)C(O)C(O)C1O)CCCCCCCCCCC\n",
      "Pred SMILES: O=C(OCC(OC(=O)CCCCCCCCCC=CCC=CCCCCCC)COC1OC(CS(=O)(=O)O)C(O)C(O)C1O)CCCCCCCCCCCC\n",
      "\n",
      "True SMILES: O=C(OCC(OC(=O)CCCCCCCCCC=CCCCCCCCCC)COC1OC(CS(=O)(=O)O)C(O)C(O)C1O)CCCCCCCCCCC\n",
      "Pred SMILES: O=C(OCC(OC(=O)CCCCCCCCCC=CCCCCCCCCC)COC1OC(CS(=O)(=O)O)C(O)C(O)C1O)CCCCCCCCCCC\n",
      "\n",
      "True SMILES: O=C(OCC(OC(=O)CCCCCCCCCCCCCCCCCCCC)COC1OC(CS(=O)(=O)O)C(O)C(O)C1O)CCCCCCCCCCC\n",
      "Pred SMILES: O=C(OCC(OC(=O)CCCCCCCCCCCCCCCCCCCC)COC1OC(CS(=O)(=O)O)C(O)C(O)C1O)CCCCCCCCCCCC\n",
      "\n",
      "True SMILES: O=C(OCC(OC(=O)CCCC=CCC=CCC=CCC=CCC=CCC)COC1OC(CS(=O)(=O)O)C(O)C(O)C1O)CCCCCCCCCCC\n",
      "Pred SMILES: O=C(OCC(OC(=O)CCCC=CCC=CCC=CCC=CCC=CCC)COC1OC(CS(=O)(=O)O)C(O)C(O)C1O)CCCCCCCCCCCC\n",
      "\n",
      "True SMILES: O=C(OCC(OC(=O)CCCCCCC=CCC=CCC=CCC=CCC)COC1OC(CS(=O)(=O)O)C(O)C(O)C1O)CCCCCCCCCCC\n",
      "Pred SMILES: O=C(OCC(OC(=O)CCCCCCC=CCC=CCC=CCC=CCC)COC1OC(CS(=O)(=O)O)C(O)C(O)C1O)CCCCCCCCCCCC\n",
      "\n",
      "True SMILES: O=C(OCC(OC(=O)CCCCCCCCCCC)COC1OC(CS(=O)(=O)O)C(O)C(O)C1O)CCCCCCCCCCC\n",
      "Pred SMILES: O=C(OCC(OC(=O)CCCCCCCCCCC)COC1OC(CS(=O)(=O)O)C(O)C(O)C1O)CCCCCCCCCCCF(\n",
      "\n",
      "True SMILES: O=C(NC(COP(=O)([O-])OCC[N+](C)(C)C)C(O)C=CCCC=CCCC=CCCCCCCCCCCCCCCCCC)CCCCCCCCCCCCCCCCCCCC=CCC=CCCCCCCCCCCCCCCCCC\n",
      "Pred SMILES: O=C(NC(COP(=O)([O-])OCC[N+](C)(C)C)C(O)C=CCCC=CCCC=CCCCCCCCCCCCCCCCCC)CCCCCCCCCCCCCCCCCCCC=CCC=CCCCCCCCCCCCCCCCCC\n",
      "\n",
      "True SMILES: O=C(NC(COP(=O)([O-])OCC[N+](C)(C)C)C(O)C=CCCC=CCCC=CCCCCCCCCCCCCCCCCC)CCCCCCCCCCCCCCCCCCCC=CCCCCCCCCCCCCCCCCCCCC\n",
      "Pred SMILES: O=C(NC(COP(=O)([O-])OCC[N+](C)(C)C)C(O)C=CCCC=CCCC=CCCCCCCCCCCCCCCCCC)CCCCCCCCCCCCCCCCCCCC=CCCCCCCCCCCCCCCCCCCCC)\n",
      "\n",
      "True SMILES: O=C(NC(COP(=O)([O-])OCC[N+](C)(C)C)C(O)C=CCCC=CCCC=CCCCCCCCCCCCCCCCCC)CCCCCCCCCCCCCCCCCCCCCCCCCCCCCCCCCCCCCCCCC\n",
      "Pred SMILES: O=C(NC(COP(=O)([O-])OCC[N+](C)(C)C)C(O)C=CCCC=CCCC=CCCCCCCCCCCCCCCCCC)CCCCCCCCCCCCCCCCCCCCCCCCCCCCCCCCCCCCCCCCCP)\n",
      "\n",
      "True SMILES: O=C(NC(COP(=O)([O-])OCC[N+](C)(C)C)C(O)C=CCCC=CCCC=CCCCCCCCCCCCCCCCCC)CCCCCCCCCCCCCCCCCCCC=CCC=CCCCCCCCCCCCCCCC\n",
      "Pred SMILES: O=C(NC(COP(=O)([O-])OCC[N+](C)(C)C)C(O)C=CCCC=CCCC=CCCCCCCCCCCCCCCCCC)CCCCCCCCCCCCCCCCCCCC=CCC=CCCCCCCCCCCCCCCCP)\n",
      "\n",
      "True SMILES: O=C(NC(COP(=O)([O-])OCC[N+](C)(C)C)C(O)C=CCCC=CCCC=CCCCCCCCCCCCCCCCCC)CCCCCCCCCCCCCCCCCCCCCCCCCCC\n",
      "Pred SMILES: O=C(NC(COP(=O)([O-])OCC[N+](C)(C)C)C(O)C=CCCC=CCCC=CCCCCCCCCCCCCCCCCC)CCCCCCCCCCCCCCCCCCCCCCCCCCCC\n",
      "\n",
      "True SMILES: O=C(NC(COP(=O)([O-])OCC[N+](C)(C)C)C(O)C=CCCC=CCCC=CCCCCCCCCCCCCCCCCC)CCCCCCCCCCC=CCCCCCCCCCCCCCC\n",
      "Pred SMILES: O=C(NC(COP(=O)([O-])OCC[N+](C)(C)C)C(O)C=CCCC=CCCC=CCCCCCCCCCCCCCCCCC)CCCCCCCCCCC=CCCCCCCCCCCCCCCC\n",
      "\n",
      "True SMILES: O=C(NC(COP(=O)([O-])OCC[N+](C)(C)C)C(O)C=CCCC=CCCC=CCCCCCCCCCCCCCCCCC)CCCCCCCCCCCCCCCCCCCCCCCCCC\n",
      "Pred SMILES: O=C(NC(COP(=O)([O-])OCC[N+](C)(C)C)C(O)C=CCCC=CCCC=CCCCCCCCCCCCCCCCCC)CCCCCCCCCCCCCCCCCCCCCCCCCCC\n",
      "\n",
      "True SMILES: O=C(NC(COP(=O)([O-])OCC[N+](C)(C)C)C(O)C=CCCC=CCCC=CCCCCCCCCCCCCCCCCC)CCCCCCCCCC=CCC=CCCCCCCCCCCC\n",
      "Pred SMILES: O=C(NC(COP(=O)([O-])OCC[N+](C)(C)C)C(O)C=CCCC=CCCC=CCCCCCCCCCCCCCCCCC)CCCCCCCCCC=CCC=CCCCCCCCCCCCC\n",
      "\n",
      "True SMILES: O=C(NC(COP(=O)([O-])OCC[N+](C)(C)C)C(O)C=CCCC=CCCC=CCCCCCCCCCCCCCCCCC)CCCCCCCCCC=CCCCCCCCCCCCCCC\n",
      "Pred SMILES: O=C(NC(COP(=O)([O-])OCC[N+](C)(C)C)C(O)C=CCCC=CCCC=CCCCCCCCCCCCCCCCCC)CCCCCCCCCC=CCCCCCCCCCCCCCCC\n",
      "\n",
      "True SMILES: O=C(NC(COP(=O)([O-])OCC[N+](C)(C)C)C(O)C=CCCC=CCCC=CCCCCCCCCCCCCCCCCC)CCCCCCCC=CCCCC\n",
      "Pred SMILES: O=C(NC(COP(=O)([O-])OCC[N+](C)(C)C)C(O)C=CCCC=CCCC=CCCCCCCCCCCCCCCCCC)CCCCCCCC=CCCCC)\n",
      "\n",
      "True SMILES: O=C(NC(COP(=O)([O-])OCC[N+](C)(C)C)C(O)C=CCCC=CCCC=CCCCCCCCCCCCCCCCCC)CCCCCCCCCCCCC\n",
      "Pred SMILES: O=C(NC(COP(=O)([O-])OCC[N+](C)(C)C)C(O)C=CCCC=CCCC=CCCCCCCCCCCCCCCCCC)CCCCCCCCCCCCC)\n",
      "\n",
      "True SMILES: O=C(NC(COP(=O)([O-])OCC[N+](C)(C)C)C(O)C=CCCC=CCCC=CCCCCCCCCCCCCCCCCC)CCCCCCC=CCCCC\n",
      "Pred SMILES: O=C(NC(COP(=O)([O-])OCC[N+](C)(C)C)C(O)C=CCCC=CCCC=CCCCCCCCCCCCCCCCCC)CCCCCCC=CCCCC)\n",
      "\n",
      "True SMILES: O=C(NC(COP(=O)([O-])OCC[N+](C)(C)C)C(O)C=CCCC=CCCC=CCCCCCCCCCCCCCCCCC)CCCCCCCCCCCC\n",
      "Pred SMILES: O=C(NC(COP(=O)([O-])OCC[N+](C)(C)C)C(O)C=CCCC=CCCC=CCCCCCCCCCCCCCCCCC)CCCCCCCCCCCC)\n",
      "\n",
      "True SMILES: O=C(NC(COP(=O)([O-])OCC[N+](C)(C)C)C(O)C=CCCC=CCCC=CCCCCCCCCCCCCCCCCC)CCCC=CCCCCCC\n",
      "Pred SMILES: O=C(NC(COP(=O)([O-])OCC[N+](C)(C)C)C(O)C=CCCC=CCCC=CCCCCCCCCCCCCCCCCC)CCCC=CCCCCCC)\n",
      "\n",
      "True SMILES: O=C(NC(COP(=O)([O-])OCC[N+](C)(C)C)C(O)C=CCCC=CCCCCCCCCCCCCCCCCCCCCC)CCCCCCCCCCCCCCCCCCCCCCCCCCCCC\n",
      "Pred SMILES: O=C(NC(COP(=O)([O-])OCC[N+](C)(C)C)C(O)C=CCCC=CCCCCCCCCCCCCCCCCCCCCC)CCCCCCCCCCCCCCCCCCCCCCCCCCCCCC\n",
      "\n",
      "True SMILES: O=C(NC(COP(=O)([O-])OCC[N+](C)(C)C)C(O)C=CCCC=CCCCCCCCCCCCCCCCCCCCCC)CCCCCCCCCCCCC=CCCCCCCCCCCCCCC\n",
      "Pred SMILES: O=C(NC(COP(=O)([O-])OCC[N+](C)(C)C)C(O)C=CCCC=CCCCCCCCCCCCCCCCCCCCCC)CCCCCCCCCCCCC=CCCCCCCCCCCCCCCC\n",
      "\n",
      "True SMILES: O=C(NC(COP(=O)([O-])OCC[N+](C)(C)C)C(O)C=CCCC=CCCCCCCCCCCCCCCCCCCCCC)CCCCCCCCCCCCCCCCCCCCCCCCCCCC\n",
      "Pred SMILES: O=C(NC(COP(=O)([O-])OCC[N+](C)(C)C)C(O)C=CCCC=CCCCCCCCCCCCCCCCCCCCCC)CCCCCCCCCCCCCCCCCCCCCCCCCCCC\n",
      "\n",
      "True SMILES: O=C(NC(COP(=O)([O-])OCC[N+](C)(C)C)C(O)C=CCCC=CCCCCCCCCCCCCCCCCCCCCC)CCCCCCCCCCCC=CCC=CCCCCCCCCCCC\n",
      "Pred SMILES: O=C(NC(COP(=O)([O-])OCC[N+](C)(C)C)C(O)C=CCCC=CCCCCCCCCCCCCCCCCCCCCC)CCCCCCCCCCCC=CCC=CCCCCCCCCCCCC\n",
      "\n",
      "True SMILES: O=C(NC(COP(=O)([O-])OCC[N+](C)(C)C)C(O)C=CCCC=CCCCCCCCCCCCCCCCCCCCCC)CCCCCCCCCCCC=CCCCCCCCCCCCCCC\n",
      "Pred SMILES: O=C(NC(COP(=O)([O-])OCC[N+](C)(C)C)C(O)C=CCCC=CCCCCCCCCCCCCCCCCCCCCC)CCCCCCCCCCCC=CCCCCCCCCCCCCCC\n",
      "\n",
      "True SMILES: O=C(NC(COP(=O)([O-])OCC[N+](C)(C)C)C(O)C=CCCC=CCCCCCCCCCCCCCCCCCCCCC)CCC=CCC=CCCCCCCCC\n",
      "Pred SMILES: O=C(NC(COP(=O)([O-])OCC[N+](C)(C)C)C(O)C=CCCC=CCCCCCCCCCCCCCCCCCCCCC)CCC=CCC=CCCCCCCCC)\n",
      "\n",
      "True SMILES: O=C(NC(COP(=O)([O-])OCC[N+](C)(C)C)C(O)C=CCCC=CCCCCCCCCCCCCCCCCCCCCC)CCCCCC=CCCCCCCCC\n",
      "Pred SMILES: O=C(NC(COP(=O)([O-])OCC[N+](C)(C)C)C(O)C=CCCC=CCCCCCCCCCCCCCCCCCCCCC)CCCCCC=CCCCCCCCC)\n",
      "\n",
      "True SMILES: O=C(NC(COP(=O)([O-])OCC[N+](C)(C)C)C(O)C=CCCC=CCCCCCCCCCCCCCCCCCCCCC)CCCCCCCCCCCCCCC\n",
      "Pred SMILES: O=C(NC(COP(=O)([O-])OCC[N+](C)(C)C)C(O)C=CCCC=CCCCCCCCCCCCCCCCCCCCCC)CCCCCCCCCCCCCCC)\n",
      "\n",
      "True SMILES: O=C(NC(COP(=O)([O-])OCC[N+](C)(C)C)C(O)C=CCCC=CCCCCCCCCCCCCCCCCCCCCC)CCCCCCCC=CCCCCC\n",
      "Pred SMILES: O=C(NC(COP(=O)([O-])OCC[N+](C)(C)C)C(O)C=CCCC=CCCCCCCCCCCCCCCCCCCCCC)CCCCCCCC=CCCCCC)\n",
      "\n",
      "True SMILES: O=C(NC(COP(=O)([O-])OCC[N+](C)(C)C)C(O)C=CCCC=CCCCCCCCCCCCCCCCCCCCCC)CCCCCCCCCCCCCC\n",
      "Pred SMILES: O=C(NC(COP(=O)([O-])OCC[N+](C)(C)C)C(O)C=CCCC=CCCCCCCCCCCCCCCCCCCCCC)CCCCCCCCCCCCCC)\n",
      "\n",
      "True SMILES: O=C(NC(COP(=O)([O-])OCC[N+](C)(C)C)C(O)C=CCCCCCCCCCCCCCCCCCCCCCCCCC)CCCCCCCCCCCCCCCCCCCCCCCCCCCCCCC\n",
      "Pred SMILES: O=C(NC(COP(=O)([O-])OCC[N+](C)(C)C)C(O)C=CCCCCCCCCCCCCCCCCCCCCCCCCC)CCCCCCCCCCCCCCCCCCCCCCCCCCCCCCC\n",
      "\n",
      "True SMILES: O=C(NC(COP(=O)([O-])OCC[N+](C)(C)C)C(O)C=CCCCCCCCCCCCCCCCCCCCCCCCCC)CCCCCCCCCCCCCCC=CCCCCCCCCCCCCCC\n",
      "Pred SMILES: O=C(NC(COP(=O)([O-])OCC[N+](C)(C)C)C(O)C=CCCCCCCCCCCCCCCCCCCCCCCCCC)CCCCCCCCCCCCCCC=CCCCCCCCCCCCCCC\n",
      "\n",
      "True SMILES: O=C(NC(COP(=O)([O-])OCC[N+](C)(C)C)C(O)C=CCCCCCCCCCCCCCCCCCCCCCCCCC)CCCCCCCCCCCCCCCCCCCCCCCCCCCCCC\n",
      "Pred SMILES: O=C(NC(COP(=O)([O-])OCC[N+](C)(C)C)C(O)C=CCCCCCCCCCCCCCCCCCCCCCCCCC)CCCCCCCCCCCCCCCCCCCCCCCCCCCCCC\n",
      "\n",
      "True SMILES: O=C(NC(COP(=O)([O-])OCC[N+](C)(C)C)C(O)C=CCCCCCCCCCCCCCCCCCCCCCCCCC)CCCCCCCCCCCCCC=CCC=CCCCCCCCCCCC\n",
      "Pred SMILES: O=C(NC(COP(=O)([O-])OCC[N+](C)(C)C)C(O)C=CCCCCCCCCCCCCCCCCCCCCCCCCC)CCCCCCCCCCCCCC=CCC=CCCCCCCCCCCC\n",
      "\n",
      "True SMILES: O=C(NC(COP(=O)([O-])OCC[N+](C)(C)C)C(O)C=CCCCCCCCCCCCCCCCCCCCCCCCCC)CCCCCCCCCCCCCC=CCCCCCCCCCCCCCC\n",
      "Pred SMILES: O=C(NC(COP(=O)([O-])OCC[N+](C)(C)C)C(O)C=CCCCCCCCCCCCCCCCCCCCCCCCCC)CCCCCCCCCCCCCC=CCCCCCCCCCCCCCC\n",
      "\n",
      "True SMILES: O=C(NC(COP(=O)([O-])OCC[N+](C)(C)C)C(O)C=CCCCCCCCCCCCCCCCCCCCCCCCCC)CCCCCCCCCCCCCCCCCC\n",
      "Pred SMILES: O=C(NC(COP(=O)([O-])OCC[N+](C)(C)C)C(O)C=CCCCCCCCCCCCCCCCCCCCCCCCCC)CCCCCCCCCCCCCCCCCC(\n",
      "\n",
      "True SMILES: O=C(NC(COP(=O)([O-])OCC[N+](C)(C)C)C(O)C=CCCCCCCCCCCCCCCCCCCCCCCCCC)CCCCCCCCC=CC=CCCCCC\n",
      "Pred SMILES: O=C(NC(COP(=O)([O-])OCC[N+](C)(C)C)C(O)C=CCCCCCCCCCCCCCCCCCCCCCCCCC)CCCCCCCCC=CC=CCCCCC(\n",
      "\n",
      "True SMILES: O=C(NC(COP(=O)([O-])OCC[N+](C)(C)C)C(O)C=CCCCCCCCCCCCCCCCCCCCCCCCCC)CCCCCCCCCC=CCCCCCC\n",
      "Pred SMILES: O=C(NC(COP(=O)([O-])OCC[N+](C)(C)C)C(O)C=CCCCCCCCCCCCCCCCCCCCCCCCCC)CCCCCCCCCC=CCCCCCC(\n",
      "\n",
      "True SMILES: O=C(NC(COP(=O)([O-])OCC[N+](C)(C)C)C(O)C=CCCCCCCCCCCCCCCCCCCCCCCCCC)CCCCCCCCCCCCCCCCC\n",
      "Pred SMILES: O=C(NC(COP(=O)([O-])OCC[N+](C)(C)C)C(O)C=CCCCCCCCCCCCCCCCCCCCCCCCCC)CCCCCCCCCCCCCCCCC\n",
      "\n",
      "True SMILES: O=C(NC(COP(=O)([O-])OCC[N+](C)(C)C)C(O)C=CCCCCCCCCCCCCCCCCCCCCCCCCC)CCCCCCCCCCCCCCCC\n",
      "Pred SMILES: O=C(NC(COP(=O)([O-])OCC[N+](C)(C)C)C(O)C=CCCCCCCCCCCCCCCCCCCCCCCCCC)CCCCCCCCCCCCCCCC\n",
      "\n",
      "True SMILES: O=C(NC(COP(=O)([O-])OCC[N+](C)(C)C)C(O)CCCCCCCCCCCCCCCCCCCCCCCCCCC)CCCCCCCCCCCCCCCCCCCCCCCCCCCCCCCCC\n",
      "Pred SMILES: O=C(NC(COP(=O)([O-])OCC[N+](C)(C)C)C(O)CCCCCCCCCCCCCCCCCCCCCCCCCCC)CCCCCCCCCCCCCCCCCCCCCCCCCCCCCCCCC\n",
      "\n",
      "True SMILES: O=C(NC(COP(=O)([O-])OCC[N+](C)(C)C)C(O)CCCCCCCCCCCCCCCCCCCCCCCCCCC)CCCCCCCCCCCCCCCCC=CCCCCCCCCCCCCCC\n",
      "Pred SMILES: O=C(NC(COP(=O)([O-])OCC[N+](C)(C)C)C(O)CCCCCCCCCCCCCCCCCCCCCCCCCCC)CCCCCCCCCCCCCCCCC=CCCCCCCCCCCCCCC\n",
      "\n",
      "True SMILES: O=C(NC(COP(=O)([O-])OCC[N+](C)(C)C)C(O)CCCCCCCCCCCCCCCCCCCCCCCCCCC)CCCCCCCCCCCCCCCCCCCCCCCCCCCCCCCC\n",
      "Pred SMILES: O=C(NC(COP(=O)([O-])OCC[N+](C)(C)C)C(O)CCCCCCCCCCCCCCCCCCCCCCCCCCC)CCCCCCCCCCCCCCCCCCCCCCCCCCCCCCCC\n",
      "\n",
      "True SMILES: O=C(NC(COP(=O)([O-])OCC[N+](C)(C)C)C(O)CCCCCCCCCCCCCCCCCCCCCCCCCCC)CCCCCCCCCCCCCCCC=CCC=CCCCCCCCCCCC\n",
      "Pred SMILES: O=C(NC(COP(=O)([O-])OCC[N+](C)(C)C)C(O)CCCCCCCCCCCCCCCCCCCCCCCCCCC)CCCCCCCCCCCCCCCC=CCC=CCCCCCCCCCCC\n",
      "\n",
      "True SMILES: O=C(NC(COP(=O)([O-])OCC[N+](C)(C)C)C(O)CCCCCCCCCCCCCCCCCCCCCCCCCCC)CCCCCCCCCCCCCCCC=CCCCCCCCCCCCCCC\n",
      "Pred SMILES: O=C(NC(COP(=O)([O-])OCC[N+](C)(C)C)C(O)CCCCCCCCCCCCCCCCCCCCCCCCCCC)CCCCCCCCCCCCCCCC=CCCCCCCCCCCCCCC\n",
      "\n",
      "True SMILES: O=C(NC(COP(=O)([O-])OCC[N+](C)(C)C)C(O)CCCCCCCCCCCCCCCCCCCCCCCCCCC)CCCCCCCCCCCCCCCCCCCC\n",
      "Pred SMILES: O=C(NC(COP(=O)([O-])OCC[N+](C)(C)C)C(O)CCCCCCCCCCCCCCCCCCCCCCCCCCC)CCCCCCCCCCCCCCCCCCCC(\n",
      "\n",
      "True SMILES: O=C(NC(COP(=O)([O-])OCC[N+](C)(C)C)C(O)CCCCCCCCCCCCCCCCCCCCCCCCCCC)CCCCCCCCCC=CCC=CCCCCC\n",
      "Pred SMILES: O=C(NC(COP(=O)([O-])OCC[N+](C)(C)C)C(O)CCCCCCCCCCCCCCCCCCCCCCCCCCC)CCCCCCCCCC=CCC=CCCCCC(\n",
      "\n",
      "True SMILES: O=C(NC(COP(=O)([O-])OCC[N+](C)(C)C)C(O)CCCCCCCCCCCCCCCCCCCCCCCCCCC)CCCCCCCCCC=CCCCCCCCC\n",
      "Pred SMILES: O=C(NC(COP(=O)([O-])OCC[N+](C)(C)C)C(O)CCCCCCCCCCCCCCCCCCCCCCCCCCC)CCCCCCCCCC=CCCCCCCCC(\n",
      "\n",
      "True SMILES: O=C(NC(COP(=O)([O-])OCC[N+](C)(C)C)C(O)CCCCCCCCCCCCCCCCCCCCCCCCCCC)CCCCCCCCCCCCCCCCCCC\n",
      "Pred SMILES: O=C(NC(COP(=O)([O-])OCC[N+](C)(C)C)C(O)CCCCCCCCCCCCCCCCCCCCCCCCCCC)CCCCCCCCCCCCCCCCCCC(\n",
      "\n",
      "True SMILES: O=C(NC(COP(=O)([O-])OCC[N+](C)(C)C)C(O)CCCCCCCCCCCCCCCCCCCCCCCCCCC)CCCCCCCC=CCCCCCCCCC\n",
      "Pred SMILES: O=C(NC(COP(=O)([O-])OCC[N+](C)(C)C)C(O)CCCCCCCCCCCCCCCCCCCCCCCCCCC)CCCCCCCC=CCCCCCCCCC(\n",
      "\n",
      "True SMILES: O=C(NC(COP(=O)([O-])OCC[N+](C)(C)C)C(O)C=CCCC=CCCC=CCCCCCCCCCCCCCCCC)CCCCCCCCCCCCCCCCCCCCCCCCCCCCCCCCCCC\n",
      "Pred SMILES: O=C(NC(COP(=O)([O-])OCC[N+](C)(C)C)C(O)C=CCCC=CCCC=CCCCCCCCCCCCCCCCC)CCCCCCCCCCCCCCCCCCCCCCCCCCCCCCCCCCC))\n",
      "\n",
      "True SMILES: O=C(NC(COP(=O)([O-])OCC[N+](C)(C)C)C(O)C=CCCC=CCCC=CCCCCCCCCCCCCCCCC)CCCCCCCCCCCCCCCCCCC=CCCCCCCCCCCCCCC\n",
      "Pred SMILES: O=C(NC(COP(=O)([O-])OCC[N+](C)(C)C)C(O)C=CCCC=CCCC=CCCCCCCCCCCCCCCCC)CCCCCCCCCCCCCCCCCCC=CCCCCCCCCCCCCCC)\n",
      "\n",
      "True SMILES: O=C(NC(COP(=O)([O-])OCC[N+](C)(C)C)C(O)C=CCCC=CCCC=CCCCCCCCCCCCCCCCC)CCCCCCCCCCCCCCCCCCCCCCCCCCCCCCCCCC\n",
      "Pred SMILES: O=C(NC(COP(=O)([O-])OCC[N+](C)(C)C)C(O)C=CCCC=CCCC=CCCCCCCCCCCCCCCCC)CCCCCCCCCCCCCCCCCCCCCCCCCCCCCCCCCC()\n",
      "\n",
      "True SMILES: CCCCCCCCCCCCCCCC\\C=C\\CC\\C=C\\CC\\C=C\\C(O)C(COP([O-])(=O)OCC[N+](C)(C)C)NC(=O)CCCCCCCCCCCCCCCCC\\C=C/C\\C=C/CCCCCCCCCCC\n",
      "Pred SMILES: CCCCCCCCCCCCCCCC\\C=C\\CC\\C=C\\CC\\C=C\\C(O)C(COP([O-])(=O)OCC[N+](C)(C)C)NC(=O)CCCCCCCCCCCCCCCCC\\C=C/C\\C=C/CCCCCCCCCCC\n",
      "\n",
      "True SMILES: O=C(NC(COP(=O)([O-])OCC[N+](C)(C)C)C(O)C=CCCC=CCCC=CCCCCCCCCCCCCCCCC)CCCCCCCCCCCCCCCCCC=CCCCCCCCCCCCCCC\n",
      "Pred SMILES: O=C(NC(COP(=O)([O-])OCC[N+](C)(C)C)C(O)C=CCCC=CCCC=CCCCCCCCCCCCCCCCC)CCCCCCCCCCCCCCCCCC=CCCCCCCCCCCCCCC()\n",
      "\n",
      "True SMILES: O=C(NC(COP(=O)([O-])OCC[N+](C)(C)C)C(O)C=CCCC=CCCC=CCCCCCCCCCCCCCCCC)CCCCCCCCCCCCCCCCCCCCCC\n",
      "Pred SMILES: O=C(NC(COP(=O)([O-])OCC[N+](C)(C)C)C(O)C=CCCC=CCCC=CCCCCCCCCCCCCCCCC)CCCCCCCCCCCCCCCCCCCCCCC(\n",
      "\n",
      "True SMILES: O=C(NC(COP(=O)([O-])OCC[N+](C)(C)C)C(O)C=CCCC=CCCC=CCCCCCCCCCCCCCCCC)CCCCCCCCCCCCC=CC=CCCCCC\n",
      "Pred SMILES: O=C(NC(COP(=O)([O-])OCC[N+](C)(C)C)C(O)C=CCCC=CCCC=CCCCCCCCCCCCCCCCC)CCCCCCCCCCCCC=CC=CCCCCC(\n",
      "\n",
      "True SMILES: O=C(NC(COP(=O)([O-])OCC[N+](C)(C)C)C(O)C=CCCC=CCCC=CCCCCCCCCCCCCCCCC)CCCCCCCCCC=CCCCCCCCCCC\n",
      "Pred SMILES: O=C(NC(COP(=O)([O-])OCC[N+](C)(C)C)C(O)C=CCCC=CCCC=CCCCCCCCCCCCCCCCC)CCCCCCCCCC=CCCCCCCCCCCC(\n",
      "\n",
      "True SMILES: O=C(NC(COP(=O)([O-])OCC[N+](C)(C)C)C(O)C=CCCC=CCCC=CCCCCCCCCCCCCCCCC)CCCCCCCCCCCCCCCCCCCCC\n",
      "Pred SMILES: O=C(NC(COP(=O)([O-])OCC[N+](C)(C)C)C(O)C=CCCC=CCCC=CCCCCCCCCCCCCCCCC)CCCCCCCCCCCCCCCCCCCCCC(\n",
      "\n",
      "True SMILES: O=C(NC(COP(=O)([O-])OCC[N+](C)(C)C)C(O)C=CCCC=CCCC=CCCCCCCCCCCCCCCCC)CCCCCCCC=CCCCCCCCCCCC\n",
      "Pred SMILES: O=C(NC(COP(=O)([O-])OCC[N+](C)(C)C)C(O)C=CCCC=CCCC=CCCCCCCCCCCCCCCCC)CCCCCCCC=CCCCCCCCCCCCC(\n",
      "\n",
      "True SMILES: O=C(NC(COP(=O)([O-])OCC[N+](C)(C)C)C(O)C=CCCC=CCCCCCCCCCCCCCCCCCCCC)CCCCCCCCCCCCCCCCCCCC=CCC=CCCCCCCCCCCCCC\n",
      "Pred SMILES: O=C(NC(COP(=O)([O-])OCC[N+](C)(C)C)C(O)C=CCCC=CCCCCCCCCCCCCCCCCCCCC)CCCCCCCCCCCCCCCCCCCC=CCC=CCCCCCCCCCCCCC\n",
      "\n",
      "True SMILES: O=C(NC(COP(=O)([O-])OCC[N+](C)(C)C)C(O)C=CCCC=CCCCCCCCCCCCCCCCCCCCC)CCCCCCCCCCCCCCCCCCCC=CCCCCCCCCCCCCCCCC\n",
      "Pred SMILES: O=C(NC(COP(=O)([O-])OCC[N+](C)(C)C)C(O)C=CCCC=CCCCCCCCCCCCCCCCCCCCC)CCCCCCCCCCCCCCCCCCCC=CCCCCCCCCCCCCCCCC\n",
      "\n",
      "True SMILES: O=C(NC(COP(=O)([O-])OCC[N+](C)(C)C)C(O)C=CCCC=CCCCCCCCCCCCCCCCCCCCC)CCCCCCCCCCCCCCCCCCCCCCCCCCCCCCCCCCCCC\n",
      "Pred SMILES: O=C(NC(COP(=O)([O-])OCC[N+](C)(C)C)C(O)C=CCCC=CCCCCCCCCCCCCCCCCCCCC)CCCCCCCCCCCCCCCCCCCCCCCCCCCCCCCCCCCCC(\n",
      "\n",
      "True SMILES: O=C(NC(COP(=O)([O-])OCC[N+](C)(C)C)C(O)C=CCCC=CCCCCCCCCCCCCCCCCCCCC)CCCCCCCCCCCCCCCCCCCC=CCC=CCCCCCCCCCCC\n",
      "Pred SMILES: O=C(NC(COP(=O)([O-])OCC[N+](C)(C)C)C(O)C=CCCC=CCCCCCCCCCCCCCCCCCCCC)CCCCCCCCCCCCCCCCCCCC=CCC=CCCCCCCCCCCC(\n",
      "\n",
      "True SMILES: O=C(NC(COP(=O)([O-])OCC[N+](C)(C)C)C(O)C=CCCC=CCCCCCCCCCCCCCCCCCCCC)CCCCCCCCCCCCCCCCCCCC=CCCCCCCCCCCCCCC\n",
      "Pred SMILES: O=C(NC(COP(=O)([O-])OCC[N+](C)(C)C)C(O)C=CCCC=CCCCCCCCCCCCCCCCCCCCC)CCCCCCCCCCCCCCCCCCCC=CCCCCCCCCCCCCCC\n",
      "\n",
      "True SMILES: O=C(NC(COP(=O)([O-])OCC[N+](C)(C)C)C(O)C=CCCC=CCCCCCCCCCCCCCCCCCCCC)CCCCCCCCCCCCCCCCCCCCCCCC\n",
      "Pred SMILES: O=C(NC(COP(=O)([O-])OCC[N+](C)(C)C)C(O)C=CCCC=CCCCCCCCCCCCCCCCCCCCC)CCCCCCCCCCCCCCCCCCCCCCCC(\n",
      "\n",
      "True SMILES: O=C(NC(COP(=O)([O-])OCC[N+](C)(C)C)C(O)C=CCCC=CCCCCCCCCCCCCCCCCCCCC)CCCCCCCCCCCCCCCCC=CCC=CCC\n",
      "Pred SMILES: O=C(NC(COP(=O)([O-])OCC[N+](C)(C)C)C(O)C=CCCC=CCCCCCCCCCCCCCCCCCCCC)CCCCCCCCCCCCCCCCC=CCC=CCC(\n",
      "\n",
      "True SMILES: O=C(NC(COP(=O)([O-])OCC[N+](C)(C)C)C(O)C=CCCC=CCCCCCCCCCCCCCCCCCCCC)CCCCCCCCCC=CCCCCCCCCCCCC\n",
      "Pred SMILES: O=C(NC(COP(=O)([O-])OCC[N+](C)(C)C)C(O)C=CCCC=CCCCCCCCCCCCCCCCCCCCC)CCCCCCCCCC=CCCCCCCCCCCCC(\n",
      "\n",
      "True SMILES: O=C(NC(COP(=O)([O-])OCC[N+](C)(C)C)C(O)C=CCCC=CCCCCCCCCCCCCCCCCCCCC)CCCCCCCCCCCCCCCCCCCCCCC\n",
      "Pred SMILES: O=C(NC(COP(=O)([O-])OCC[N+](C)(C)C)C(O)C=CCCC=CCCCCCCCCCCCCCCCCCCCC)CCCCCCCCCCCCCCCCCCCCCCCC(\n",
      "\n",
      "True SMILES: O=C(NC(COP(=O)([O-])OCC[N+](C)(C)C)C(O)C=CCCC=CCCCCCCCCCCCCCCCCCCCC)CCCCCCCCCC=CCCCCCCCCCCC\n",
      "Pred SMILES: O=C(NC(COP(=O)([O-])OCC[N+](C)(C)C)C(O)C=CCCC=CCCCCCCCCCCCCCCCCCCCC)CCCCCCCCCC=CCCCCCCCCCCCC(\n",
      "\n",
      "True SMILES: O=C(NC(COP(=O)([O-])OCC[N+](C)(C)C)C(O)C=CCCCCCCCCCCCCCCCCCCCCCCCC)CCCCCCCCCCCCCCCCCCCC=CCCCCCCCCCCCCCCCCCCCC\n",
      "Pred SMILES: O=C(NC(COP(=O)([O-])OCC[N+](C)(C)C)C(O)C=CCCCCCCCCCCCCCCCCCCCCCCCC)CCCCCCCCCCCCCCCCCCCC=CCCCCCCCCCCCCCCCCCCCC\n",
      "\n",
      "True SMILES: O=C(NC(COP(=O)([O-])OCC[N+](C)(C)C)C(O)C=CCCCCCCCCCCCCCCCCCCCCCCCC)CCCCCCCCCCCCCCCCCCCCCCCCCCCCCCCCCCCCCCCCC\n",
      "Pred SMILES: O=C(NC(COP(=O)([O-])OCC[N+](C)(C)C)C(O)C=CCCCCCCCCCCCCCCCCCCCCCCCC)CCCCCCCCCCCCCCCCCCCCCCCCCCCCCCCCCCCCCCCCC\n",
      "\n",
      "True SMILES: O=C(NC(COP(=O)([O-])OCC[N+](C)(C)C)C(O)C=CCCCCCCCCCCCCCCCCCCCCCCCC)CCCCCCCCCCCCCCCCCCCC=CCC=CCCCCCCCCCCCCCCC\n",
      "Pred SMILES: O=C(NC(COP(=O)([O-])OCC[N+](C)(C)C)C(O)C=CCCCCCCCCCCCCCCCCCCCCCCCC)CCCCCCCCCCCCCCCCCCCC=CCC=CCCCCCCCCCCCCCCC\n",
      "\n",
      "True SMILES: O=C(NC(COP(=O)([O-])OCC[N+](C)(C)C)C(O)C=CCCCCCCCCCCCCCCCCCCCCCCCC)CCCCCCCCCCCCCCCCCCCC=CCCCCCCCCCCCCCCCCCC\n",
      "Pred SMILES: O=C(NC(COP(=O)([O-])OCC[N+](C)(C)C)C(O)C=CCCCCCCCCCCCCCCCCCCCCCCCC)CCCCCCCCCCCCCCCCCCCC=CCCCCCCCCCCCCCCCCCC\n",
      "\n",
      "True SMILES: O=C(NC(COP(=O)([O-])OCC[N+](C)(C)C)C(O)C=CCCCCCCCCCCCCCCCCCCCCCCCC)CCCCCCCCCCCCCCCCCCCCCCCCCCCCCCCCCCCCCCC\n",
      "Pred SMILES: O=C(NC(COP(=O)([O-])OCC[N+](C)(C)C)C(O)C=CCCCCCCCCCCCCCCCCCCCCCCCC)CCCCCCCCCCCCCCCCCCCCCCCCCCCCCCCCCCCCCCC\n",
      "\n",
      "True SMILES: O=C(NC(COP(=O)([O-])OCC[N+](C)(C)C)C(O)C=CCCCCCCCCCCCCCCCCCCCCCCCC)CCCCCCCCCCCCCCCCCCCCCCCCCC\n",
      "Pred SMILES: O=C(NC(COP(=O)([O-])OCC[N+](C)(C)C)C(O)C=CCCCCCCCCCCCCCCCCCCCCCCCC)CCCCCCCCCCCCCCCCCCCCCCCCCC)\n",
      "\n",
      "True SMILES: O=C(NC(COP(=O)([O-])OCC[N+](C)(C)C)C(O)C=CCCCCCCCCCCCCCCCCCCCCCCCC)CCCCCCCCCC=CCC=CCCCCCCCCCCC\n",
      "Pred SMILES: O=C(NC(COP(=O)([O-])OCC[N+](C)(C)C)C(O)C=CCCCCCCCCCCCCCCCCCCCCCCCC)CCCCCCCCCC=CCC=CCCCCCCCCCCCC\n",
      "\n",
      "True SMILES: O=C(NC(COP(=O)([O-])OCC[N+](C)(C)C)C(O)C=CCCCCCCCCCCCCCCCCCCCCCCCC)CCCCCCCCCC=CCCCCCCCCCCCCCC\n",
      "Pred SMILES: O=C(NC(COP(=O)([O-])OCC[N+](C)(C)C)C(O)C=CCCCCCCCCCCCCCCCCCCCCCCCC)CCCCCCCCCC=CCCCCCCCCCCCCCC)\n",
      "\n",
      "True SMILES: O=C(NC(COP(=O)([O-])OCC[N+](C)(C)C)C(O)C=CCCCCCCCCCCCCCCCCCCCCCCCC)CCCCCCCCCCCCCCCCCCCCCCCCC\n",
      "Pred SMILES: O=C(NC(COP(=O)([O-])OCC[N+](C)(C)C)C(O)C=CCCCCCCCCCCCCCCCCCCCCCCCC)CCCCCCCCCCCCCCCCCCCCCCCCC\n",
      "\n",
      "True SMILES: O=C(NC(COP(=O)([O-])OCC[N+](C)(C)C)C(O)C=CCCCCCCCCCCCCCCCCCCCCCCCC)CCCCCCCCCC=CCCCCCCCCCCCCC\n",
      "Pred SMILES: O=C(NC(COP(=O)([O-])OCC[N+](C)(C)C)C(O)C=CCCCCCCCCCCCCCCCCCCCCCCCC)CCCCCCCCCC=CCCCCCCCCCCCCC\n",
      "\n",
      "True SMILES: O=C(NC(COP(=O)([O-])OCC[N+](C)(C)C)C(O)C=CCCCCCCCCCCCCCCCCCCCCCCCC)CCCCCCC=CCCCC\n",
      "Pred SMILES: O=C(NC(COP(=O)([O-])OCC[N+](C)(C)C)C(O)C=CCCCCCCCCCCCCCCCCCCCCCCCC)CCCCCCC=CCCCC(\n",
      "\n",
      "True SMILES: O=C(NC(COP(=O)([O-])OCC[N+](C)(C)C)C(O)C=CCCCCCCCCCCCCCCCCCCCCCCCC)CCCCCCCCCCCC\n",
      "Pred SMILES: O=C(NC(COP(=O)([O-])OCC[N+](C)(C)C)C(O)C=CCCCCCCCCCCCCCCCCCCCCCCCC)CCCCCCCCCCCC\n",
      "\n",
      "True SMILES: O=C(NC(COP(=O)([O-])OCC[N+](C)(C)C)C(O)C=CCCCCCCCCCCCCCCCCCCCCCCCC)CCCC=CCCCCCC\n",
      "Pred SMILES: O=C(NC(COP(=O)([O-])OCC[N+](C)(C)C)C(O)C=CCCCCCCCCCCCCCCCCCCCCCCCC)CCCC=CCCCCCC\n",
      "\n",
      "True SMILES: O=C(NC(COP(=O)([O-])OCC[N+](C)(C)C)C(O)C=CCCCCCCCCCCCCCCCCCCCCCCCC)CCCCCCCCCCC\n",
      "Pred SMILES: O=C(NC(COP(=O)([O-])OCC[N+](C)(C)C)C(O)C=CCCCCCCCCCCCCCCCCCCCCCCCC)CCCCCCCCCCC\n",
      "\n",
      "True SMILES: O=C(NC(COP(=O)([O-])OCC[N+](C)(C)C)C(O)CCCCCCCCCCCCCCCCCCCCCCCCCC)CCCCCCCCCCCCCCCCCCCC=CCC=CCCCCCCCCCCCCCCCCC\n",
      "Pred SMILES: O=C(NC(COP(=O)([O-])OCC[N+](C)(C)C)C(O)CCCCCCCCCCCCCCCCCCCCCCCCCC)CCCCCCCCCCCCCCCCCCCC=CCC=CCCCCCCCCCCCCCCCCC\n",
      "\n",
      "True SMILES: O=C(NC(COP(=O)([O-])OCC[N+](C)(C)C)C(O)CCCCCCCCCCCCCCCCCCCCCCCCCC)CCCCCCCCCCCCCCCCCCCCCCCCCCCC\n",
      "Pred SMILES: O=C(NC(COP(=O)([O-])OCC[N+](C)(C)C)C(O)CCCCCCCCCCCCCCCCCCCCCCCCCC)CCCCCCCCCCCCCCCCCCCCCCCCCCCC)\n",
      "\n",
      "True SMILES: O=C(NC(COP(=O)([O-])OCC[N+](C)(C)C)C(O)CCCCCCCCCCCCCCCCCCCCCCCCCC)CCCCCCCCCCCC=CCC=CCCCCCCCCCCC\n",
      "Pred SMILES: O=C(NC(COP(=O)([O-])OCC[N+](C)(C)C)C(O)CCCCCCCCCCCCCCCCCCCCCCCCCC)CCCCCCCCCCCC=CCC=CCCCCCCCCCCCC\n",
      "\n",
      "True SMILES: O=C(NC(COP(=O)([O-])OCC[N+](C)(C)C)C(O)CCCCCCCCCCCCCCCCCCCCCCCCCC)CCCCCCCCCCCC=CCCCCCCCCCCCCCC\n",
      "Pred SMILES: O=C(NC(COP(=O)([O-])OCC[N+](C)(C)C)C(O)CCCCCCCCCCCCCCCCCCCCCCCCCC)CCCCCCCCCCCC=CCCCCCCCCCCCCCC)\n",
      "\n",
      "True SMILES: O=C(NC(COP(=O)([O-])OCC[N+](C)(C)C)C(O)CCCCCCCCCCCCCCCCCCCCCCCCCC)CCCCCCCCCCCCCCCCCCCCCCCCCCC\n",
      "Pred SMILES: O=C(NC(COP(=O)([O-])OCC[N+](C)(C)C)C(O)CCCCCCCCCCCCCCCCCCCCCCCCCC)CCCCCCCCCCCCCCCCCCCCCCCCCCC\n",
      "\n",
      "True SMILES: O=C(NC(COP(=O)([O-])OCC[N+](C)(C)C)C(O)CCCCCCCCCCCCCCCCCCCCCCCCCC)CCCCCCCCCCC=CCCCCCCCCCCCCCC\n",
      "Pred SMILES: O=C(NC(COP(=O)([O-])OCC[N+](C)(C)C)C(O)CCCCCCCCCCCCCCCCCCCCCCCCCC)CCCCCCCCCCC=CCCCCCCCCCCCCCC\n",
      "\n",
      "True SMILES: O=C(NC(COP(=O)([O-])OCC[N+](C)(C)C)C(O)CCCCCCCCCCCCCCCCCCCCCCCCCC)CCCCCCCCCCCCCCC\n",
      "Pred SMILES: O=C(NC(COP(=O)([O-])OCC[N+](C)(C)C)C(O)CCCCCCCCCCCCCCCCCCCCCCCCCC)CCCCCCCCCCCCCCC\n",
      "\n",
      "True SMILES: O=C(NC(COP(=O)([O-])OCC[N+](C)(C)C)C(O)CCCCCCCCCCCCCCCCCCCCCCCCCC)CCCCCCCC=CCCCCC\n",
      "Pred SMILES: O=C(NC(COP(=O)([O-])OCC[N+](C)(C)C)C(O)CCCCCCCCCCCCCCCCCCCCCCCCCC)CCCCCCCC=CCCCCC\n",
      "\n",
      "True SMILES: O=C(NC(COP(=O)([O-])OCC[N+](C)(C)C)C(O)CCCCCCCCCCCCCCCCCCCCCCCCCC)CCCCCCCCCCCCCC\n",
      "Pred SMILES: O=C(NC(COP(=O)([O-])OCC[N+](C)(C)C)C(O)CCCCCCCCCCCCCCCCCCCCCCCCCC)CCCCCCCCCCCCCC(\n",
      "\n",
      "True SMILES: O=C(NC(COP(=O)([O-])OCC[N+](C)(C)C)C(O)CCCCCCCCCCCCCCCCCCCCCCCCCC)CCCCCCCC=CCCCC\n",
      "Pred SMILES: O=C(NC(COP(=O)([O-])OCC[N+](C)(C)C)C(O)CCCCCCCCCCCCCCCCCCCCCCCCCC)CCCCCCCC=CCCCC(\n",
      "\n",
      "True SMILES: O=C(NC(COP(=O)([O-])OCC[N+](C)(C)C)C(O)CCCCCCCCCCCCCCCCCCCCCCCCCC)CCCCCCCCCCCCC\n",
      "Pred SMILES: O=C(NC(COP(=O)([O-])OCC[N+](C)(C)C)C(O)CCCCCCCCCCCCCCCCCCCCCCCCCC)CCCCCCCCCCCCC\n",
      "\n",
      "True SMILES: O=C(NC(COP(=O)([O-])OCC[N+](C)(C)C)C(O)C=CCCC=CCCC=CCCCCCCCCCCCCCCC)CCCCCCCCCCCCCCCCCCCCCCCCCCCCCC\n",
      "Pred SMILES: O=C(NC(COP(=O)([O-])OCC[N+](C)(C)C)C(O)C=CCCC=CCCC=CCCCCCCCCCCCCCCC)CCCCCCCCCCCCCCCCCCCCCCCCCCCCCC(\n",
      "\n",
      "True SMILES: O=C(NC(COP(=O)([O-])OCC[N+](C)(C)C)C(O)C=CCCC=CCCC=CCCCCCCCCCCCCCCC)CCCCCCCCCCCCCC=CCC=CCCCCCCCCCCC\n",
      "Pred SMILES: O=C(NC(COP(=O)([O-])OCC[N+](C)(C)C)C(O)C=CCCC=CCCC=CCCCCCCCCCCCCCCC)CCCCCCCCCCCCCC=CCC=CCCCCCCCCCCC(\n",
      "\n",
      "True SMILES: O=C(NC(COP(=O)([O-])OCC[N+](C)(C)C)C(O)C=CCCC=CCCC=CCCCCCCCCCCCCCCC)CCCCCCCCCCCCCC=CCCCCCCCCCCCCCC\n",
      "Pred SMILES: O=C(NC(COP(=O)([O-])OCC[N+](C)(C)C)C(O)C=CCCC=CCCC=CCCCCCCCCCCCCCCC)CCCCCCCCCCCCCC=CCCCCCCCCCCCCCC(\n",
      "\n",
      "True SMILES: O=C(NC(COP(=O)([O-])OCC[N+](C)(C)C)C(O)C=CCCC=CCCC=CCCCCCCCCCCCCCCC)CCCCCCCCCCCCCCCCCCCCCCCCCCCCC\n",
      "Pred SMILES: O=C(NC(COP(=O)([O-])OCC[N+](C)(C)C)C(O)C=CCCC=CCCC=CCCCCCCCCCCCCCCC)CCCCCCCCCCCCCCCCCCCCCCCCCCCCC(\n",
      "\n",
      "True SMILES: O=C(NC(COP(=O)([O-])OCC[N+](C)(C)C)C(O)C=CCCC=CCCC=CCCCCCCCCCCCCCCC)CCCCCCCCCCCCC=CCCCCCCCCCCCCCC\n",
      "Pred SMILES: O=C(NC(COP(=O)([O-])OCC[N+](C)(C)C)C(O)C=CCCC=CCCC=CCCCCCCCCCCCCCCC)CCCCCCCCCCCCC=CCCCCCCCCCCCCCC(\n",
      "\n",
      "True SMILES: O=C(NC(COP(=O)([O-])OCC[N+](C)(C)C)C(O)C=CCCC=CCCC=CCCCCCCCCCCCCCCC)CCCCCCCCCC=CCCCCCC\n",
      "Pred SMILES: O=C(NC(COP(=O)([O-])OCC[N+](C)(C)C)C(O)C=CCCC=CCCC=CCCCCCCCCCCCCCCC)CCCCCCCCCC=CCCCCCC(\n",
      "\n",
      "True SMILES: O=C(NC(COP(=O)([O-])OCC[N+](C)(C)C)C(O)C=CCCC=CCCC=CCCCCCCCCCCCCCCC)CCCCCCCCCCCCCCCCC\n",
      "Pred SMILES: O=C(NC(COP(=O)([O-])OCC[N+](C)(C)C)C(O)C=CCCC=CCCC=CCCCCCCCCCCCCCCC)CCCCCCCCCCCCCCCCC\n",
      "\n",
      "True SMILES: O=C(NC(COP(=O)([O-])OCC[N+](C)(C)C)C(O)C=CCCC=CCCC=CCCCCCCCCCCCCCCC)CCCCCCCCCCCCCCCC\n",
      "Pred SMILES: O=C(NC(COP(=O)([O-])OCC[N+](C)(C)C)C(O)C=CCCC=CCCC=CCCCCCCCCCCCCCCC)CCCCCCCCCCCCCCCC(\n",
      "\n",
      "True SMILES: O=C(NC(COP(=O)([O-])OCC[N+](C)(C)C)C(O)C=CCCC=CCCC=CCCCCCCCCCCCCCCC)CCC=CCC=CCCCCCCCC\n",
      "Pred SMILES: O=C(NC(COP(=O)([O-])OCC[N+](C)(C)C)C(O)C=CCCC=CCCC=CCCCCCCCCCCCCCCC)CCC=CCC=CCCCCCCCC(\n",
      "\n",
      "True SMILES: O=C(NC(COP(=O)([O-])OCC[N+](C)(C)C)C(O)C=CCCC=CCCC=CCCCCCCCCCCCCCCC)CCCCCC=CCCCCCCCC\n",
      "Pred SMILES: O=C(NC(COP(=O)([O-])OCC[N+](C)(C)C)C(O)C=CCCC=CCCC=CCCCCCCCCCCCCCCC)CCCCCC=CCCCCCCCC(\n",
      "\n",
      "True SMILES: O=C(NC(COP(=O)([O-])OCC[N+](C)(C)C)C(O)C=CCCC=CCCCCCCCCCCCCCCCCCCC)CCCCCCCCCCCCCCCCCCCCCCCCCCCCCCCC\n",
      "Pred SMILES: O=C(NC(COP(=O)([O-])OCC[N+](C)(C)C)C(O)C=CCCC=CCCCCCCCCCCCCCCCCCCC)CCCCCCCCCCCCCCCCCCCCCCCCCCCCCCCC\n",
      "\n",
      "True SMILES: O=C(NC(COP(=O)([O-])OCC[N+](C)(C)C)C(O)C=CCCC=CCCCCCCCCCCCCCCCCCCC)CCCCCCCCCCCCCCCC=CCC=CCCCCCCCCCCC\n",
      "Pred SMILES: O=C(NC(COP(=O)([O-])OCC[N+](C)(C)C)C(O)C=CCCC=CCCCCCCCCCCCCCCCCCCC)CCCCCCCCCCCCCCCC=CCC=CCCCCCCCCCCC\n",
      "\n",
      "True SMILES: O=C(NC(COP(=O)([O-])OCC[N+](C)(C)C)C(O)C=CCCC=CCCCCCCCCCCCCCCCCCCC)CCCCCCCCCCCCCCCC=CCCCCCCCCCCCCCC\n",
      "Pred SMILES: O=C(NC(COP(=O)([O-])OCC[N+](C)(C)C)C(O)C=CCCC=CCCCCCCCCCCCCCCCCCCC)CCCCCCCCCCCCCCCC=CCCCCCCCCCCCCCC\n",
      "\n",
      "True SMILES: O=C(NC(COP(=O)([O-])OCC[N+](C)(C)C)C(O)C=CCCC=CCCCCCCCCCCCCCCCCCCC)CCCCCCCCCCCCCCCCCCCCCCCCCCCCCCC\n",
      "Pred SMILES: O=C(NC(COP(=O)([O-])OCC[N+](C)(C)C)C(O)C=CCCC=CCCCCCCCCCCCCCCCCCCC)CCCCCCCCCCCCCCCCCCCCCCCCCCCCCCC\n",
      "\n",
      "True SMILES: O=C(NC(COP(=O)([O-])OCC[N+](C)(C)C)C(O)C=CCCC=CCCCCCCCCCCCCCCCCCCC)CCCCCCCCCCCCCCC=CCCCCCCCCCCCCCC\n",
      "Pred SMILES: O=C(NC(COP(=O)([O-])OCC[N+](C)(C)C)C(O)C=CCCC=CCCCCCCCCCCCCCCCCCCC)CCCCCCCCCCCCCCC=CCCCCCCCCCCCCCC\n",
      "\n",
      "True SMILES: O=C(NC(COP(=O)([O-])OCC[N+](C)(C)C)C(O)C=CCCC=CCCCCCCCCCCCCCCCCCCC)CCCCCCCCCC=CCCCCCCCC\n",
      "Pred SMILES: O=C(NC(COP(=O)([O-])OCC[N+](C)(C)C)C(O)C=CCCC=CCCCCCCCCCCCCCCCCCCC)CCCCCCCCCC=CCCCCCCCC(\n",
      "\n",
      "True SMILES: O=C(NC(COP(=O)([O-])OCC[N+](C)(C)C)C(O)C=CCCC=CCCCCCCCCCCCCCCCCCCC)CCCCCCCCCCCCCCCCCCC\n",
      "Pred SMILES: O=C(NC(COP(=O)([O-])OCC[N+](C)(C)C)C(O)C=CCCC=CCCCCCCCCCCCCCCCCCCC)CCCCCCCCCCCCCCCCCCC(\n",
      "\n",
      "True SMILES: O=C(NC(COP(=O)([O-])OCC[N+](C)(C)C)C(O)C=CCCC=CCCCCCCCCCCCCCCCCCCC)CCCCCCCC=CCCCCCCCCC\n",
      "Pred SMILES: O=C(NC(COP(=O)([O-])OCC[N+](C)(C)C)C(O)C=CCCC=CCCCCCCCCCCCCCCCCCCC)CCCCCCCC=CCCCCCCCCC(\n",
      "\n",
      "True SMILES: O=C(NC(COP(=O)([O-])OCC[N+](C)(C)C)C(O)C=CCCC=CCCCCCCCCCCCCCCCCCCC)CCCCCCCCCCCCCCCCCC\n",
      "Pred SMILES: O=C(NC(COP(=O)([O-])OCC[N+](C)(C)C)C(O)C=CCCC=CCCCCCCCCCCCCCCCCCCC)CCCCCCCCCCCCCCCCCC(\n",
      "\n",
      "True SMILES: O=C(NC(COP(=O)([O-])OCC[N+](C)(C)C)C(O)C=CCCC=CCCCCCCCCCCCCCCCCCCC)CCCCCCCCC=CC=CCCCCC\n",
      "Pred SMILES: O=C(NC(COP(=O)([O-])OCC[N+](C)(C)C)C(O)C=CCCC=CCCCCCCCCCCCCCCCCCCC)CCCCCCCCC=CC=CCCCCC(\n",
      "\n",
      "True SMILES: O=C(NC(COP(=O)([O-])OCC[N+](C)(C)C)C(O)C=CCCCCCCCCCCCCCCCCCCCCCCC)CCCCCCCCCCCCCCCCCCCCCCCCCCCCCCCCCC\n",
      "Pred SMILES: O=C(NC(COP(=O)([O-])OCC[N+](C)(C)C)C(O)C=CCCCCCCCCCCCCCCCCCCCCCCC)CCCCCCCCCCCCCCCCCCCCCCCCCCCCCCCCCC\n",
      "\n",
      "True SMILES: O=C(NC(COP(=O)([O-])OCC[N+](C)(C)C)C(O)C=CCCCCCCCCCCCCCCCCCCCCCCC)CCCCCCCCCCCCCCCCCC=CCC=CCCCCCCCCCCC\n",
      "Pred SMILES: O=C(NC(COP(=O)([O-])OCC[N+](C)(C)C)C(O)C=CCCCCCCCCCCCCCCCCCCCCCCC)CCCCCCCCCCCCCCCCCC=CCC=CCCCCCCCCCCC\n",
      "\n",
      "True SMILES: O=C(NC(COP(=O)([O-])OCC[N+](C)(C)C)C(O)C=CCCCCCCCCCCCCCCCCCCCCCCC)CCCCCCCCCCCCCCCCCC=CCCCCCCCCCCCCCC\n",
      "Pred SMILES: O=C(NC(COP(=O)([O-])OCC[N+](C)(C)C)C(O)C=CCCCCCCCCCCCCCCCCCCCCCCC)CCCCCCCCCCCCCCCCCC=CCCCCCCCCCCCCCC\n",
      "\n",
      "True SMILES: O=C(NC(COP(=O)([O-])OCC[N+](C)(C)C)C(O)C=CCCCCCCCCCCCCCCCCCCCCCCC)CCCCCCCCCCCCCCCCCCCCCCCCCCCCCCCCC\n",
      "Pred SMILES: O=C(NC(COP(=O)([O-])OCC[N+](C)(C)C)C(O)C=CCCCCCCCCCCCCCCCCCCCCCCC)CCCCCCCCCCCCCCCCCCCCCCCCCCCCCCCCC\n",
      "\n",
      "True SMILES: O=C(NC(COP(=O)([O-])OCC[N+](C)(C)C)C(O)C=CCCCCCCCCCCCCCCCCCCCCCCC)CCCCCCCCCCCCCCCCC=CCCCCCCCCCCCCCC\n",
      "Pred SMILES: O=C(NC(COP(=O)([O-])OCC[N+](C)(C)C)C(O)C=CCCCCCCCCCCCCCCCCCCCCCCC)CCCCCCCCCCCCCCCCC=CCCCCCCCCCCCCCC\n",
      "\n",
      "True SMILES: O=C(NC(COP(=O)([O-])OCC[N+](C)(C)C)C(O)C=CCCCCCCCCCCCCCCCCCCCCCCC)CCCCCCCCCC=CCCCCCCCCCC\n",
      "Pred SMILES: O=C(NC(COP(=O)([O-])OCC[N+](C)(C)C)C(O)C=CCCCCCCCCCCCCCCCCCCCCCCC)CCCCCCCCCC=CCCCCCCCCCC(\n",
      "\n",
      "True SMILES: O=C(NC(COP(=O)([O-])OCC[N+](C)(C)C)C(O)C=CCCCCCCCCCCCCCCCCCCCCCCC)CCCCCCCCCCCCCCCCCCCCC\n",
      "Pred SMILES: O=C(NC(COP(=O)([O-])OCC[N+](C)(C)C)C(O)C=CCCCCCCCCCCCCCCCCCCCCCCC)CCCCCCCCCCCCCCCCCCCCC(\n",
      "\n",
      "True SMILES: O=C(NC(COP(=O)([O-])OCC[N+](C)(C)C)C(O)C=CCCCCCCCCCCCCCCCCCCCCCCC)CCCCCCCC=CCCCCCCCCCCC\n",
      "Pred SMILES: O=C(NC(COP(=O)([O-])OCC[N+](C)(C)C)C(O)C=CCCCCCCCCCCCCCCCCCCCCCCC)CCCCCCCC=CCCCCCCCCCCC(\n",
      "\n",
      "True SMILES: O=C(NC(COP(=O)([O-])OCC[N+](C)(C)C)C(O)C=CCCCCCCCCCCCCCCCCCCCCCCC)CCCCCCCCCCCCCCCCCCCC\n",
      "Pred SMILES: O=C(NC(COP(=O)([O-])OCC[N+](C)(C)C)C(O)C=CCCCCCCCCCCCCCCCCCCCCCCC)CCCCCCCCCCCCCCCCCCCC(\n",
      "\n",
      "True SMILES: O=C(NC(COP(=O)([O-])OCC[N+](C)(C)C)C(O)C=CCCCCCCCCCCCCCCCCCCCCCCC)CCCCCCCCCC=CCC=CCCCCC\n",
      "Pred SMILES: O=C(NC(COP(=O)([O-])OCC[N+](C)(C)C)C(O)C=CCCCCCCCCCCCCCCCCCCCCCCC)CCCCCCCCCC=CCC=CCCCCC(\n",
      "\n",
      "True SMILES: O=C(NC(COP(=O)([O-])OCC[N+](C)(C)C)C(O)CCCCCCCCCCCCCCCCCCCCCCCCC)CCCCCCCCCCCCCCCCCCCCCCCCCCCCCCCCCCCCC\n",
      "Pred SMILES: O=C(NC(COP(=O)([O-])OCC[N+](C)(C)C)C(O)CCCCCCCCCCCCCCCCCCCCCCCCC)CCCCCCCCCCCCCCCCCCCCCCCCCCCCCCCCCCCCC\n",
      "\n",
      "True SMILES: O=C(NC(COP(=O)([O-])OCC[N+](C)(C)C)C(O)CCCCCCCCCCCCCCCCCCCCCCCCC)CCCCCCCCCCCCCCCCCCCC=CCC=CCCCCCCCCCCC\n",
      "Pred SMILES: O=C(NC(COP(=O)([O-])OCC[N+](C)(C)C)C(O)CCCCCCCCCCCCCCCCCCCCCCCCC)CCCCCCCCCCCCCCCCCCCC=CCC=CCCCCCCCCCCC\n",
      "\n",
      "True SMILES: O=C(NC(COP(=O)([O-])OCC[N+](C)(C)C)C(O)CCCCCCCCCCCCCCCCCCCCCCCCC)CCCCCCCCCCCCCCCCCCCC=CCCCCCCCCCCCCCC\n",
      "Pred SMILES: O=C(NC(COP(=O)([O-])OCC[N+](C)(C)C)C(O)CCCCCCCCCCCCCCCCCCCCCCCCC)CCCCCCCCCCCCCCCCCCCC=CCCCCCCCCCCCCCC\n",
      "\n",
      "True SMILES: O=C(NC(COP(=O)([O-])OCC[N+](C)(C)C)C(O)CCCCCCCCCCCCCCCCCCCCCCCCC)CCCCCCCCCCCCCCCCCCCCCCCCCCCCCCCCCCC\n",
      "Pred SMILES: O=C(NC(COP(=O)([O-])OCC[N+](C)(C)C)C(O)CCCCCCCCCCCCCCCCCCCCCCCCC)CCCCCCCCCCCCCCCCCCCCCCCCCCCCCCCCCCC\n",
      "\n",
      "True SMILES: O=C(NC(COP(=O)([O-])OCC[N+](C)(C)C)C(O)CCCCCCCCCCCCCCCCCCCCCCCCC)CCCCCCCCCCCCCCCCCCC=CCCCCCCCCCCCCCC\n",
      "Pred SMILES: O=C(NC(COP(=O)([O-])OCC[N+](C)(C)C)C(O)CCCCCCCCCCCCCCCCCCCCCCCCC)CCCCCCCCCCCCCCCCCCC=CCCCCCCCCCCCCCC\n",
      "\n",
      "True SMILES: O=C(NC(COP(=O)([O-])OCC[N+](C)(C)C)C(O)CCCCCCCCCCCCCCCCCCCCCCCCC)CCCCCCCCCC=CCCCCCCCCCCCC\n",
      "Pred SMILES: O=C(NC(COP(=O)([O-])OCC[N+](C)(C)C)C(O)CCCCCCCCCCCCCCCCCCCCCCCCC)CCCCCCCCCC=CCCCCCCCCCCCC(\n",
      "\n",
      "True SMILES: O=C(NC(COP(=O)([O-])OCC[N+](C)(C)C)C(O)CCCCCCCCCCCCCCCCCCCCCCCCC)CCCCCCCCCCCCCCCCCCCCCCC\n",
      "Pred SMILES: O=C(NC(COP(=O)([O-])OCC[N+](C)(C)C)C(O)CCCCCCCCCCCCCCCCCCCCCCCCC)CCCCCCCCCCCCCCCCCCCCCCC(\n",
      "\n",
      "True SMILES: O=C(NC(COP(=O)([O-])OCC[N+](C)(C)C)C(O)CCCCCCCCCCCCCCCCCCCCCCCCC)CCCCCCCCCC=CCCCCCCCCCCC\n",
      "Pred SMILES: O=C(NC(COP(=O)([O-])OCC[N+](C)(C)C)C(O)CCCCCCCCCCCCCCCCCCCCCCCCC)CCCCCCCCCC=CCCCCCCCCCCC(\n",
      "\n",
      "True SMILES: O=C(NC(COP(=O)([O-])OCC[N+](C)(C)C)C(O)CCCCCCCCCCCCCCCCCCCCCCCCC)CCCCCCCCCCCCCCCCCCCCCC\n",
      "Pred SMILES: O=C(NC(COP(=O)([O-])OCC[N+](C)(C)C)C(O)CCCCCCCCCCCCCCCCCCCCCCCCC)CCCCCCCCCCCCCCCCCCCCCC(\n",
      "\n",
      "True SMILES: O=C(NC(COP(=O)([O-])OCC[N+](C)(C)C)C(O)CCCCCCCCCCCCCCCCCCCCCCCCC)CCCCCCCCCCCCC=CC=CCCCCC\n",
      "Pred SMILES: O=C(NC(COP(=O)([O-])OCC[N+](C)(C)C)C(O)CCCCCCCCCCCCCCCCCCCCCCCCC)CCCCCCCCCCCCC=CC=CCCCCC(\n",
      "\n",
      "True SMILES: O=C(NC(COP(=O)([O-])OCC[N+](C)(C)C)C(O)C=CCCC=CCCC=CCCCCCCCCCCCCCC)CCCCCCCCCCCCCCCCCCCC=CCC=CCCCCCCCCCCCCCCC\n",
      "Pred SMILES: O=C(NC(COP(=O)([O-])OCC[N+](C)(C)C)C(O)C=CCCC=CCCC=CCCCCCCCCCCCCCC)CCCCCCCCCCCCCCCCCCCC=CCC=CCCCCCCCCCCCCCCC\n",
      "\n",
      "True SMILES: O=C(NC(COP(=O)([O-])OCC[N+](C)(C)C)C(O)C=CCCC=CCCC=CCCCCCCCCCCCCCC)CCCCCCCCCCCCCCCCCCCC=CCCCCCCCCCCCCCCCCCC\n",
      "Pred SMILES: O=C(NC(COP(=O)([O-])OCC[N+](C)(C)C)C(O)C=CCCC=CCCC=CCCCCCCCCCCCCCC)CCCCCCCCCCCCCCCCCCCC=CCCCCCCCCCCCCCCCCCC\n",
      "\n",
      "True SMILES: O=C(NC(COP(=O)([O-])OCC[N+](C)(C)C)C(O)C=CCCC=CCCC=CCCCCCCCCCCCCCC)CCCCCCCCCCCCCCCCCCCCCCCCCCCCCCCCCCCCCCC\n",
      "Pred SMILES: O=C(NC(COP(=O)([O-])OCC[N+](C)(C)C)C(O)C=CCCC=CCCC=CCCCCCCCCCCCCCC)CCCCCCCCCCCCCCCCCCCCCCCCCCCCCCCCCCCCCCC)\n",
      "\n",
      "True SMILES: O=C(NC(COP(=O)([O-])OCC[N+](C)(C)C)C(O)C=CCCC=CCCC=CCCCCCCCCCCCCCC)CCCCCCCCCCCCCCCCCCCC=CCC=CCCCCCCCCCCCCC\n",
      "Pred SMILES: O=C(NC(COP(=O)([O-])OCC[N+](C)(C)C)C(O)C=CCCC=CCCC=CCCCCCCCCCCCCCC)CCCCCCCCCCCCCCCCCCCC=CCC=CCCCCCCCCCCCCC)\n",
      "\n",
      "True SMILES: O=C(NC(COP(=O)([O-])OCC[N+](C)(C)C)C(O)C=CCCC=CCCC=CCCCCCCCCCCCCCC)CCCCCCCCCCCCCCCCCCCC=CCCCCCCCCCCCCCCCC\n",
      "Pred SMILES: O=C(NC(COP(=O)([O-])OCC[N+](C)(C)C)C(O)C=CCCC=CCCC=CCCCCCCCCCCCCCC)CCCCCCCCCCCCCCCCCCCC=CCCCCCCCCCCCCCCCC(\n",
      "\n",
      "True SMILES: O=C(NC(COP(=O)([O-])OCC[N+](C)(C)C)C(O)C=CCCC=CCCC=CCCCCCCCCCCCCCC)CCCCCCCCCC=CCCCCCCCCCCCCCC\n",
      "Pred SMILES: O=C(NC(COP(=O)([O-])OCC[N+](C)(C)C)C(O)C=CCCC=CCCC=CCCCCCCCCCCCCCC)CCCCCCCCCC=CCCCCCCCCCCCCCCC\n",
      "\n",
      "True SMILES: O=C(NC(COP(=O)([O-])OCC[N+](C)(C)C)C(O)C=CCCC=CCCC=CCCCCCCCCCCCCCC)CCCCCCCCCCCCCCCCCCCCCCCCC\n",
      "Pred SMILES: O=C(NC(COP(=O)([O-])OCC[N+](C)(C)C)C(O)C=CCCC=CCCC=CCCCCCCCCCCCCCC)CCCCCCCCCCCCCCCCCCCCCCCCC-\n",
      "\n",
      "True SMILES: O=C(NC(COP(=O)([O-])OCC[N+](C)(C)C)C(O)C=CCCC=CCCC=CCCCCCCCCCCCCCC)CCCCCCCCCC=CCCCCCCCCCCCCC\n",
      "Pred SMILES: O=C(NC(COP(=O)([O-])OCC[N+](C)(C)C)C(O)C=CCCC=CCCC=CCCCCCCCCCCCCCC)CCCCCCCCCC=CCCCCCCCCCCCCC-\n",
      "\n",
      "True SMILES: O=C(NC(COP(=O)([O-])OCC[N+](C)(C)C)C(O)C=CCCC=CCCC=CCCCCCCCCCCCCCC)CCCCCCCCCCCCCCCCCCCCCCCC\n",
      "Pred SMILES: O=C(NC(COP(=O)([O-])OCC[N+](C)(C)C)C(O)C=CCCC=CCCC=CCCCCCCCCCCCCCC)CCCCCCCCCCCCCCCCCCCCCCCCC\n",
      "\n",
      "True SMILES: O=C(NC(COP(=O)([O-])OCC[N+](C)(C)C)C(O)C=CCCC=CCCC=CCCCCCCCCCCCCCC)CCCCCCCCCCCCCCCCC=CCC=CCC\n",
      "Pred SMILES: O=C(NC(COP(=O)([O-])OCC[N+](C)(C)C)C(O)C=CCCC=CCCC=CCCCCCCCCCCCCCC)CCCCCCCCCCCCCCCCC=CCC=CCC-\n",
      "\n",
      "True SMILES: O=C(NC(COP(=O)([O-])OCC[N+](C)(C)C)C(O)C=CCCC=CCCC=CCCCCCCCCCCCCCC)CCCC=CCCCCCC\n",
      "Pred SMILES: O=C(NC(COP(=O)([O-])OCC[N+](C)(C)C)C(O)C=CCCC=CCCC=CCCCCCCCCCCCCCC)CCCC=CCCCCCC\n",
      "\n",
      "True SMILES: O=C(NC(COP(=O)([O-])OCC[N+](C)(C)C)C(O)C=CCCC=CCCC=CCCCCCCCCCCCCCC)CCCCCCCCCCC\n",
      "Pred SMILES: O=C(NC(COP(=O)([O-])OCC[N+](C)(C)C)C(O)C=CCCC=CCCC=CCCCCCCCCCCCCCC)CCCCCCCCCCC\n",
      "\n",
      "True SMILES: O=C(NC(COP(=O)([O-])OCC[N+](C)(C)C)C(O)C=CCCC=CCCCCCCCCCCCCCCCCCC)CCCCCCCCCCCCCCCCCCCC=CCC=CCCCCCCCCCCCCCCCCC\n",
      "Pred SMILES: O=C(NC(COP(=O)([O-])OCC[N+](C)(C)C)C(O)C=CCCC=CCCCCCCCCCCCCCCCCCC)CCCCCCCCCCCCCCCCCCCC=CCC=CCCCCCCCCCCCCCCCCC\n",
      "\n",
      "True SMILES: O=C(NC(COP(=O)([O-])OCC[N+](C)(C)C)C(O)C=CCCC=CCCCCCCCCCCCCCCCCCC)CCCCCCCCCCCCCCCCCCCC=CCCCCCCCCCCCCCCCCCCCC\n",
      "Pred SMILES: O=C(NC(COP(=O)([O-])OCC[N+](C)(C)C)C(O)C=CCCC=CCCCCCCCCCCCCCCCCCC)CCCCCCCCCCCCCCCCCCCC=CCCCCCCCCCCCCCCCCCCCC\n",
      "\n",
      "True SMILES: O=C(NC(COP(=O)([O-])OCC[N+](C)(C)C)C(O)C=CCCC=CCCCCCCCCCCCCCCCCCC)CCCCCCCCCCCCCCCCCCCCCCCCCCCCCCCCCCCCCCCCC\n",
      "Pred SMILES: O=C(NC(COP(=O)([O-])OCC[N+](C)(C)C)C(O)C=CCCC=CCCCCCCCCCCCCCCCCCC)CCCCCCCCCCCCCCCCCCCCCCCCCCCCCCCCCCCCCCCCC\n",
      "\n",
      "True SMILES: O=C(NC(COP(=O)([O-])OCC[N+](C)(C)C)C(O)C=CCCC=CCCCCCCCCCCCCCCCCCC)CCCCCCCCCCCC=CCCCCCCCCCCCCCC\n",
      "Pred SMILES: O=C(NC(COP(=O)([O-])OCC[N+](C)(C)C)C(O)C=CCCC=CCCCCCCCCCCCCCCCCCC)CCCCCCCCCCCC=CCCCCCCCCCCCCCCC\n",
      "\n",
      "True SMILES: O=C(NC(COP(=O)([O-])OCC[N+](C)(C)C)C(O)C=CCCC=CCCCCCCCCCCCCCCCCCC)CCCCCCCCCCCCCCCCCCCCCCCCCCC\n",
      "Pred SMILES: O=C(NC(COP(=O)([O-])OCC[N+](C)(C)C)C(O)C=CCCC=CCCCCCCCCCCCCCCCCCC)CCCCCCCCCCCCCCCCCCCCCCCCCCC)\n",
      "\n",
      "True SMILES: O=C(NC(COP(=O)([O-])OCC[N+](C)(C)C)C(O)C=CCCC=CCCCCCCCCCCCCCCCCCC)CCCCCCCCCCC=CCCCCCCCCCCCCCC\n",
      "Pred SMILES: O=C(NC(COP(=O)([O-])OCC[N+](C)(C)C)C(O)C=CCCC=CCCCCCCCCCCCCCCCCCC)CCCCCCCCCCC=CCCCCCCCCCCCCCC)\n",
      "\n",
      "True SMILES: O=C(NC(COP(=O)([O-])OCC[N+](C)(C)C)C(O)C=CCCC=CCCCCCCCCCCCCCCCCCC)CCCCCCCCCCCCCCCCCCCCCCCCCC\n",
      "Pred SMILES: O=C(NC(COP(=O)([O-])OCC[N+](C)(C)C)C(O)C=CCCC=CCCCCCCCCCCCCCCCCCC)CCCCCCCCCCCCCCCCCCCCCCCCCC\n",
      "\n",
      "True SMILES: O=C(NC(COP(=O)([O-])OCC[N+](C)(C)C)C(O)C=CCCC=CCCCCCCCCCCCCCCCCCC)CCCCCCCCCC=CCC=CCCCCCCCCCCC\n",
      "Pred SMILES: O=C(NC(COP(=O)([O-])OCC[N+](C)(C)C)C(O)C=CCCC=CCCCCCCCCCCCCCCCCCC)CCCCCCCCCC=CCC=CCCCCCCCCCCC)\n",
      "\n",
      "True SMILES: O=C(NC(COP(=O)([O-])OCC[N+](C)(C)C)C(O)C=CCCC=CCCCCCCCCCCCCCCCCCC)CCCCCCCCCCCCCC\n",
      "Pred SMILES: O=C(NC(COP(=O)([O-])OCC[N+](C)(C)C)C(O)C=CCCC=CCCCCCCCCCCCCCCCCCC)CCCCCCCCCCCCCC(\n",
      "\n",
      "True SMILES: O=C(NC(COP(=O)([O-])OCC[N+](C)(C)C)C(O)C=CCCC=CCCCCCCCCCCCCCCCCCC)CCCCCCCC=CCCCC\n",
      "Pred SMILES: O=C(NC(COP(=O)([O-])OCC[N+](C)(C)C)C(O)C=CCCC=CCCCCCCCCCCCCCCCCCC)CCCCCCCC=CCCCC(\n",
      "\n",
      "True SMILES: O=C(NC(COP(=O)([O-])OCC[N+](C)(C)C)C(O)C=CCCC=CCCCCCCCCCCCCCCCCCC)CCCCCCCCCCCCC\n",
      "Pred SMILES: O=C(NC(COP(=O)([O-])OCC[N+](C)(C)C)C(O)C=CCCC=CCCCCCCCCCCCCCCCCCC)CCCCCCCCCCCCC\n",
      "\n",
      "True SMILES: O=C(NC(COP(=O)([O-])OCC[N+](C)(C)C)C(O)C=CCCC=CCCCCCCCCCCCCCCCCCC)CCCCCCC=CCCCC\n",
      "Pred SMILES: O=C(NC(COP(=O)([O-])OCC[N+](C)(C)C)C(O)C=CCCC=CCCCCCCCCCCCCCCCCCC)CCCCCCC=CCCCC\n",
      "\n",
      "True SMILES: O=C(NC(COP(=O)([O-])OCC[N+](C)(C)C)C(O)C=CCCC=CCCCCCCCCCCCCCCCCCC)CCCCCCCCCCCC\n",
      "Pred SMILES: O=C(NC(COP(=O)([O-])OCC[N+](C)(C)C)C(O)C=CCCC=CCCCCCCCCCCCCCCCCCC)CCCCCCCCCCCC\n",
      "\n",
      "True SMILES: O=C(NC(COP(=O)([O-])OCC[N+](C)(C)C)C(O)C=CCCCCCCCCCCCCCCCCCCCCCC)CCCCCCCCCCCCCC=CCCCCCCCCCCCCCC\n",
      "Pred SMILES: O=C(NC(COP(=O)([O-])OCC[N+](C)(C)C)C(O)C=CCCCCCCCCCCCCCCCCCCCCCC)CCCCCCCCCCCCCC=CCCCCCCCCCCCCCCC\n",
      "\n",
      "True SMILES: O=C(NC(COP(=O)([O-])OCC[N+](C)(C)C)C(O)C=CCCCCCCCCCCCCCCCCCCCCCC)CCCCCCCCCCCCCCCCCCCCCCCCCCCCC\n",
      "Pred SMILES: O=C(NC(COP(=O)([O-])OCC[N+](C)(C)C)C(O)C=CCCCCCCCCCCCCCCCCCCCCCC)CCCCCCCCCCCCCCCCCCCCCCCCCCCCC)\n",
      "\n",
      "True SMILES: O=C(NC(COP(=O)([O-])OCC[N+](C)(C)C)C(O)C=CCCCCCCCCCCCCCCCCCCCCCC)CCCCCCCCCCCCC=CCCCCCCCCCCCCCC\n",
      "Pred SMILES: O=C(NC(COP(=O)([O-])OCC[N+](C)(C)C)C(O)C=CCCCCCCCCCCCCCCCCCCCCCC)CCCCCCCCCCCCC=CCCCCCCCCCCCCCC)\n",
      "\n",
      "True SMILES: O=C(NC(COP(=O)([O-])OCC[N+](C)(C)C)C(O)C=CCCCCCCCCCCCCCCCCCCCCCC)CCCCCCCCCCCCCCCCCCCCCCCCCCCC\n",
      "Pred SMILES: O=C(NC(COP(=O)([O-])OCC[N+](C)(C)C)C(O)C=CCCCCCCCCCCCCCCCCCCCCCC)CCCCCCCCCCCCCCCCCCCCCCCCCCCC\n",
      "\n",
      "True SMILES: O=C(NC(COP(=O)([O-])OCC[N+](C)(C)C)C(O)C=CCCCCCCCCCCCCCCCCCCCCCC)CCCCCCCCCCCC=CCC=CCCCCCCCCCCC\n",
      "Pred SMILES: O=C(NC(COP(=O)([O-])OCC[N+](C)(C)C)C(O)C=CCCCCCCCCCCCCCCCCCCCCCC)CCCCCCCCCCCC=CCC=CCCCCCCCCCCC)\n",
      "\n",
      "True SMILES: O=C(NC(COP(=O)([O-])OCC[N+](C)(C)C)C(O)C=CCCCCCCCCCCCCCCCCCCCCCC)CCCCCCCCCCCCCCCC\n",
      "Pred SMILES: O=C(NC(COP(=O)([O-])OCC[N+](C)(C)C)C(O)C=CCCCCCCCCCCCCCCCCCCCCCC)CCCCCCCCCCCCCCCC\n",
      "\n",
      "True SMILES: O=C(NC(COP(=O)([O-])OCC[N+](C)(C)C)C(O)C=CCCCCCCCCCCCCCCCCCCCCCC)CCC=CCC=CCCCCCCCC\n",
      "Pred SMILES: O=C(NC(COP(=O)([O-])OCC[N+](C)(C)C)C(O)C=CCCCCCCCCCCCCCCCCCCCCCC)CCC=CCC=CCCCCCCCC\n",
      "\n",
      "True SMILES: O=C(NC(COP(=O)([O-])OCC[N+](C)(C)C)C(O)C=CCCCCCCCCCCCCCCCCCCCCCC)CCCCCC=CCCCCCCCC\n",
      "Pred SMILES: O=C(NC(COP(=O)([O-])OCC[N+](C)(C)C)C(O)C=CCCCCCCCCCCCCCCCCCCCCCC)CCCCCC=CCCCCCCCC\n",
      "\n",
      "True SMILES: O=C(NC(COP(=O)([O-])OCC[N+](C)(C)C)C(O)C=CCCCCCCCCCCCCCCCCCCCCCC)CCCCCCCCCCCCCCC\n",
      "Pred SMILES: O=C(NC(COP(=O)([O-])OCC[N+](C)(C)C)C(O)C=CCCCCCCCCCCCCCCCCCCCCCC)CCCCCCCCCCCCCCC\n",
      "\n",
      "True SMILES: O=C(NC(COP(=O)([O-])OCC[N+](C)(C)C)C(O)C=CCCCCCCCCCCCCCCCCCCCCCC)CCCCCCCC=CCCCCC\n",
      "Pred SMILES: O=C(NC(COP(=O)([O-])OCC[N+](C)(C)C)C(O)C=CCCCCCCCCCCCCCCCCCCCCCC)CCCCCCCC=CCCCCC(\n",
      "\n",
      "True SMILES: O=C(NC(COP(=O)([O-])OCC[N+](C)(C)C)C(O)CCCCCCCCCCCCCCCCCCCCCCCC)CCCCCCCCCCCCCCCC=CCCCCCCCCCCCCCC\n",
      "Pred SMILES: O=C(NC(COP(=O)([O-])OCC[N+](C)(C)C)C(O)CCCCCCCCCCCCCCCCCCCCCCCC)CCCCCCCCCCCCCCCC=CCCCCCCCCCCCCCCC\n",
      "\n",
      "True SMILES: O=C(NC(COP(=O)([O-])OCC[N+](C)(C)C)C(O)CCCCCCCCCCCCCCCCCCCCCCCC)CCCCCCCCCCCCCCCCCCCCCCCCCCCCCCC\n",
      "Pred SMILES: O=C(NC(COP(=O)([O-])OCC[N+](C)(C)C)C(O)CCCCCCCCCCCCCCCCCCCCCCCC)CCCCCCCCCCCCCCCCCCCCCCCCCCCCCCCC\n",
      "\n",
      "True SMILES: O=C(NC(COP(=O)([O-])OCC[N+](C)(C)C)C(O)CCCCCCCCCCCCCCCCCCCCCCCC)CCCCCCCCCCCCCCC=CCCCCCCCCCCCCCC\n",
      "Pred SMILES: O=C(NC(COP(=O)([O-])OCC[N+](C)(C)C)C(O)CCCCCCCCCCCCCCCCCCCCCCCC)CCCCCCCCCCCCCCC=CCCCCCCCCCCCCCCC\n",
      "\n",
      "True SMILES: O=C(NC(COP(=O)([O-])OCC[N+](C)(C)C)C(O)CCCCCCCCCCCCCCCCCCCCCCCC)CCCCCCCCCCCCCCCCCCCCCCCCCCCCCC\n",
      "Pred SMILES: O=C(NC(COP(=O)([O-])OCC[N+](C)(C)C)C(O)CCCCCCCCCCCCCCCCCCCCCCCC)CCCCCCCCCCCCCCCCCCCCCCCCCCCCCC\n",
      "\n",
      "True SMILES: O=C(NC(COP(=O)([O-])OCC[N+](C)(C)C)C(O)CCCCCCCCCCCCCCCCCCCCCCCC)CCCCCCCCCCCCCC=CCC=CCCCCCCCCCCC\n",
      "Pred SMILES: O=C(NC(COP(=O)([O-])OCC[N+](C)(C)C)C(O)CCCCCCCCCCCCCCCCCCCCCCCC)CCCCCCCCCCCCCC=CCC=CCCCCCCCCCCCC\n",
      "\n",
      "True SMILES: O=C(NC(COP(=O)([O-])OCC[N+](C)(C)C)C(O)CCCCCCCCCCCCCCCCCCCCCCCC)CCCCCCCC=CCCCCCCCCC\n",
      "Pred SMILES: O=C(NC(COP(=O)([O-])OCC[N+](C)(C)C)C(O)CCCCCCCCCCCCCCCCCCCCCCCC)CCCCCCCC=CCCCCCCCCC\n",
      "\n",
      "True SMILES: O=C(NC(COP(=O)([O-])OCC[N+](C)(C)C)C(O)CCCCCCCCCCCCCCCCCCCCCCCC)CCCCCCCCCCCCCCCCCC\n",
      "Pred SMILES: O=C(NC(COP(=O)([O-])OCC[N+](C)(C)C)C(O)CCCCCCCCCCCCCCCCCCCCCCCC)CCCCCCCCCCCCCCCCCC\n",
      "\n",
      "True SMILES: O=C(NC(COP(=O)([O-])OCC[N+](C)(C)C)C(O)CCCCCCCCCCCCCCCCCCCCCCCC)CCCCCCCCC=CC=CCCCCC\n",
      "Pred SMILES: O=C(NC(COP(=O)([O-])OCC[N+](C)(C)C)C(O)CCCCCCCCCCCCCCCCCCCCCCCC)CCCCCCCCC=CC=CCCCCC\n",
      "\n",
      "True SMILES: O=C(NC(COP(=O)([O-])OCC[N+](C)(C)C)C(O)CCCCCCCCCCCCCCCCCCCCCCCC)CCCCCCCCCC=CCCCCCC\n",
      "Pred SMILES: O=C(NC(COP(=O)([O-])OCC[N+](C)(C)C)C(O)CCCCCCCCCCCCCCCCCCCCCCCC)CCCCCCCCCC=CCCCCCC\n",
      "\n",
      "True SMILES: O=C(NC(COP(=O)([O-])OCC[N+](C)(C)C)C(O)CCCCCCCCCCCCCCCCCCCCCCCC)CCCCCCCCCCCCCCCCC\n",
      "Pred SMILES: O=C(NC(COP(=O)([O-])OCC[N+](C)(C)C)C(O)CCCCCCCCCCCCCCCCCCCCCCCC)CCCCCCCCCCCCCCCCC\n",
      "\n",
      "True SMILES: O=C(NC(COP(=O)([O-])OCC[N+](C)(C)C)C(O)C=CCCC=CCCC=CCCCCCCCCCCCCC)CCCCCCCCCCCCCCCCCC=CCCCCCCCCCCCCCC\n",
      "Pred SMILES: O=C(NC(COP(=O)([O-])OCC[N+](C)(C)C)C(O)C=CCCC=CCCC=CCCCCCCCCCCCCC)CCCCCCCCCCCCCCCCCC=CCCCCCCCCCCCCCC\n",
      "\n",
      "True SMILES: O=C(NC(COP(=O)([O-])OCC[N+](C)(C)C)C(O)C=CCCC=CCCC=CCCCCCCCCCCCCC)CCCCCCCCCCCCCCCCCCCCCCCCCCCCCCCCC\n",
      "Pred SMILES: O=C(NC(COP(=O)([O-])OCC[N+](C)(C)C)C(O)C=CCCC=CCCC=CCCCCCCCCCCCCC)CCCCCCCCCCCCCCCCCCCCCCCCCCCCCCCCC\n",
      "\n",
      "True SMILES: O=C(NC(COP(=O)([O-])OCC[N+](C)(C)C)C(O)C=CCCC=CCCC=CCCCCCCCCCCCCC)CCCCCCCCCCCCCCCCC=CCCCCCCCCCCCCCC\n",
      "Pred SMILES: O=C(NC(COP(=O)([O-])OCC[N+](C)(C)C)C(O)C=CCCC=CCCC=CCCCCCCCCCCCCC)CCCCCCCCCCCCCCCCC=CCCCCCCCCCCCCCC\n",
      "\n",
      "True SMILES: O=C(NC(COP(=O)([O-])OCC[N+](C)(C)C)C(O)C=CCCC=CCCC=CCCCCCCCCCCCCC)CCCCCCCCCCCCCCCCCCCCCCCCCCCCCCCC\n",
      "Pred SMILES: O=C(NC(COP(=O)([O-])OCC[N+](C)(C)C)C(O)C=CCCC=CCCC=CCCCCCCCCCCCCC)CCCCCCCCCCCCCCCCCCCCCCCCCCCCCCCC\n",
      "\n",
      "True SMILES: O=C(NC(COP(=O)([O-])OCC[N+](C)(C)C)C(O)C=CCCC=CCCC=CCCCCCCCCCCCCC)CCCCCCCCCCCCCCCC=CCC=CCCCCCCCCCCC\n",
      "Pred SMILES: O=C(NC(COP(=O)([O-])OCC[N+](C)(C)C)C(O)C=CCCC=CCCC=CCCCCCCCCCCCCC)CCCCCCCCCCCCCCCC=CCC=CCCCCCCCCCCC\n",
      "\n",
      "True SMILES: O=C(NC(COP(=O)([O-])OCC[N+](C)(C)C)C(O)C=CCCC=CCCC=CCCCCCCCCCCCCC)CCCCCCCC=CCCCCCCCCCCC\n",
      "Pred SMILES: O=C(NC(COP(=O)([O-])OCC[N+](C)(C)C)C(O)C=CCCC=CCCC=CCCCCCCCCCCCCC)CCCCCCCC=CCCCCCCCCCCC(\n",
      "\n",
      "True SMILES: O=C(NC(COP(=O)([O-])OCC[N+](C)(C)C)C(O)C=CCCC=CCCC=CCCCCCCCCCCCCC)CCCCCCCCCCCCCCCCCCCC\n",
      "Pred SMILES: O=C(NC(COP(=O)([O-])OCC[N+](C)(C)C)C(O)C=CCCC=CCCC=CCCCCCCCCCCCCC)CCCCCCCCCCCCCCCCCCCC(\n",
      "\n",
      "True SMILES: O=C(NC(COP(=O)([O-])OCC[N+](C)(C)C)C(O)C=CCCC=CCCC=CCCCCCCCCCCCCC)CCCCCCCCCC=CCC=CCCCCC\n",
      "Pred SMILES: O=C(NC(COP(=O)([O-])OCC[N+](C)(C)C)C(O)C=CCCC=CCCC=CCCCCCCCCCCCCC)CCCCCCCCCC=CCC=CCCCCC(\n",
      "\n",
      "True SMILES: O=C(NC(COP(=O)([O-])OCC[N+](C)(C)C)C(O)C=CCCC=CCCC=CCCCCCCCCCCCCC)CCCCCCCCCC=CCCCCCCCC\n",
      "Pred SMILES: O=C(NC(COP(=O)([O-])OCC[N+](C)(C)C)C(O)C=CCCC=CCCC=CCCCCCCCCCCCCC)CCCCCCCCCC=CCCCCCCCC(\n",
      "\n",
      "True SMILES: O=C(NC(COP(=O)([O-])OCC[N+](C)(C)C)C(O)C=CCCC=CCCC=CCCCCCCCCCCCCC)CCCCCCCCCCCCCCCCCCC\n",
      "Pred SMILES: O=C(NC(COP(=O)([O-])OCC[N+](C)(C)C)C(O)C=CCCC=CCCC=CCCCCCCCCCCCCC)CCCCCCCCCCCCCCCCCCC(\n",
      "\n",
      "True SMILES: O=C(NC(COP(=O)([O-])OCC[N+](C)(C)C)C(O)C=CCCC=CCCCCCCCCCCCCCCCCC)CCCCCCCCCCCCCCCCCCCC=CCCCCCCCCCCCCCC\n",
      "Pred SMILES: O=C(NC(COP(=O)([O-])OCC[N+](C)(C)C)C(O)C=CCCC=CCCCCCCCCCCCCCCCCC)CCCCCCCCCCCCCCCCCCCC=CCCCCCCCCCCCCCC\n",
      "\n",
      "True SMILES: O=C(NC(COP(=O)([O-])OCC[N+](C)(C)C)C(O)C=CCCC=CCCCCCCCCCCCCCCCCC)CCCCCCCCCCCCCCCCCCCCCCCCCCCCCCCCCCC\n",
      "Pred SMILES: O=C(NC(COP(=O)([O-])OCC[N+](C)(C)C)C(O)C=CCCC=CCCCCCCCCCCCCCCCCC)CCCCCCCCCCCCCCCCCCCCCCCCCCCCCCCCCCC\n",
      "\n",
      "True SMILES: O=C(NC(COP(=O)([O-])OCC[N+](C)(C)C)C(O)C=CCCC=CCCCCCCCCCCCCCCCCC)CCCCCCCCCCCCCCCCCCC=CCCCCCCCCCCCCCC\n",
      "Pred SMILES: O=C(NC(COP(=O)([O-])OCC[N+](C)(C)C)C(O)C=CCCC=CCCCCCCCCCCCCCCCCC)CCCCCCCCCCCCCCCCCCC=CCCCCCCCCCCCCCC\n",
      "\n",
      "True SMILES: O=C(NC(COP(=O)([O-])OCC[N+](C)(C)C)C(O)C=CCCC=CCCCCCCCCCCCCCCCCC)CCCCCCCCCCCCCCCCCCCCCCCCCCCCCCCCCC\n",
      "Pred SMILES: O=C(NC(COP(=O)([O-])OCC[N+](C)(C)C)C(O)C=CCCC=CCCCCCCCCCCCCCCCCC)CCCCCCCCCCCCCCCCCCCCCCCCCCCCCCCCCC\n",
      "\n",
      "True SMILES: O=C(NC(COP(=O)([O-])OCC[N+](C)(C)C)C(O)C=CCCC=CCCCCCCCCCCCCCCCCC)CCCCCCCCCCCCCCCCCC=CCC=CCCCCCCCCCCC\n",
      "Pred SMILES: O=C(NC(COP(=O)([O-])OCC[N+](C)(C)C)C(O)C=CCCC=CCCCCCCCCCCCCCCCCC)CCCCCCCCCCCCCCCCCC=CCC=CCCCCCCCCCCC\n",
      "\n",
      "True SMILES: O=C(NC(COP(=O)([O-])OCC[N+](C)(C)C)C(O)C=CCCC=CCCCCCCCCCCCCCCCCC)CCCCCCCCCC=CCCCCCCCCCCC\n",
      "Pred SMILES: O=C(NC(COP(=O)([O-])OCC[N+](C)(C)C)C(O)C=CCCC=CCCCCCCCCCCCCCCCCC)CCCCCCCCCC=CCCCCCCCCCCC(\n",
      "\n",
      "True SMILES: O=C(NC(COP(=O)([O-])OCC[N+](C)(C)C)C(O)C=CCCC=CCCCCCCCCCCCCCCCCC)CCCCCCCCCCCCCCCCCCCCCC\n",
      "Pred SMILES: O=C(NC(COP(=O)([O-])OCC[N+](C)(C)C)C(O)C=CCCC=CCCCCCCCCCCCCCCCCC)CCCCCCCCCCCCCCCCCCCCCC(\n",
      "\n",
      "True SMILES: O=C(NC(COP(=O)([O-])OCC[N+](C)(C)C)C(O)C=CCCC=CCCCCCCCCCCCCCCCCC)CCCCCCCCCCCCC=CC=CCCCCC\n",
      "Pred SMILES: O=C(NC(COP(=O)([O-])OCC[N+](C)(C)C)C(O)C=CCCC=CCCCCCCCCCCCCCCCCC)CCCCCCCCCCCCC=CC=CCCCCC(\n",
      "\n",
      "True SMILES: O=C(NC(COP(=O)([O-])OCC[N+](C)(C)C)C(O)C=CCCC=CCCCCCCCCCCCCCCCCC)CCCCCCCCCC=CCCCCCCCCCC\n",
      "Pred SMILES: O=C(NC(COP(=O)([O-])OCC[N+](C)(C)C)C(O)C=CCCC=CCCCCCCCCCCCCCCCCC)CCCCCCCCCC=CCCCCCCCCCC(\n",
      "\n",
      "True SMILES: O=C(NC(COP(=O)([O-])OCC[N+](C)(C)C)C(O)C=CCCC=CCCCCCCCCCCCCCCCCC)CCCCCCCCCCCCCCCCCCCCC\n",
      "Pred SMILES: O=C(NC(COP(=O)([O-])OCC[N+](C)(C)C)C(O)C=CCCC=CCCCCCCCCCCCCCCCCC)CCCCCCCCCCCCCCCCCCCCC(\n",
      "\n",
      "True SMILES: O=C(NC(COP(=O)([O-])OCC[N+](C)(C)C)C(O)C=CCCCCCCCCCCCCCCCCCCCCC)CCCCCCCCCCCCCCCCCCCCCCCCCCCCCCCCCCCCCCC\n",
      "Pred SMILES: O=C(NC(COP(=O)([O-])OCC[N+](C)(C)C)C(O)C=CCCCCCCCCCCCCCCCCCCCCC)CCCCCCCCCCCCCCCCCCCCCCCCCCCCCCCCCCCCCCC\n",
      "\n",
      "True SMILES: O=C(NC(COP(=O)([O-])OCC[N+](C)(C)C)C(O)C=CCCCCCCCCCCCCCCCCCCCCC)CCCCCCCCCCCCCCCCCCCC=CCC=CCCCCCCCCCCCCC\n",
      "Pred SMILES: O=C(NC(COP(=O)([O-])OCC[N+](C)(C)C)C(O)C=CCCCCCCCCCCCCCCCCCCCCC)CCCCCCCCCCCCCCCCCCCC=CCC=CCCCCCCCCCCCCC\n",
      "\n",
      "True SMILES: O=C(NC(COP(=O)([O-])OCC[N+](C)(C)C)C(O)C=CCCCCCCCCCCCCCCCCCCCCC)CCCCCCCCCCCCCCCCCCCC=CCCCCCCCCCCCCCCCC\n",
      "Pred SMILES: O=C(NC(COP(=O)([O-])OCC[N+](C)(C)C)C(O)C=CCCCCCCCCCCCCCCCCCCCCC)CCCCCCCCCCCCCCCCCCCC=CCCCCCCCCCCCCCCCC\n",
      "\n",
      "True SMILES: O=C(NC(COP(=O)([O-])OCC[N+](C)(C)C)C(O)C=CCCCCCCCCCCCCCCCCCCCCC)CCCCCCCCCCCCCCCCCCCCCCCCCCCCCCCCCCCCC\n",
      "Pred SMILES: O=C(NC(COP(=O)([O-])OCC[N+](C)(C)C)C(O)C=CCCCCCCCCCCCCCCCCCCCCC)CCCCCCCCCCCCCCCCCCCCCCCCCCCCCCCCCCCCC\n",
      "\n",
      "True SMILES: O=C(NC(COP(=O)([O-])OCC[N+](C)(C)C)C(O)C=CCCCCCCCCCCCCCCCCCCCCC)CCCCCCCCCCCCCCCCCCCC=CCC=CCCCCCCCCCCC\n",
      "Pred SMILES: O=C(NC(COP(=O)([O-])OCC[N+](C)(C)C)C(O)C=CCCCCCCCCCCCCCCCCCCCCC)CCCCCCCCCCCCCCCCCCCC=CCC=CCCCCCCCCCCC\n",
      "\n",
      "True SMILES: O=C(NC(COP(=O)([O-])OCC[N+](C)(C)C)C(O)C=CCCCCCCCCCCCCCCCCCCCCC)CCCCCCCCCC=CCCCCCCCCCCCCC\n",
      "Pred SMILES: O=C(NC(COP(=O)([O-])OCC[N+](C)(C)C)C(O)C=CCCCCCCCCCCCCCCCCCCCCC)CCCCCCCCCC=CCCCCCCCCCCCCCC\n",
      "\n",
      "True SMILES: O=C(NC(COP(=O)([O-])OCC[N+](C)(C)C)C(O)C=CCCCCCCCCCCCCCCCCCCCCC)CCCCCCCCCCCCCCCCCCCCCCCC\n",
      "Pred SMILES: O=C(NC(COP(=O)([O-])OCC[N+](C)(C)C)C(O)C=CCCCCCCCCCCCCCCCCCCCCC)CCCCCCCCCCCCCCCCCCCCCCCCC\n",
      "\n",
      "True SMILES: O=C(NC(COP(=O)([O-])OCC[N+](C)(C)C)C(O)C=CCCCCCCCCCCCCCCCCCCCCC)CCCCCCCCCCCCCCCCC=CCC=CCC\n",
      "Pred SMILES: O=C(NC(COP(=O)([O-])OCC[N+](C)(C)C)C(O)C=CCCCCCCCCCCCCCCCCCCCCC)CCCCCCCCCCCCCCCCC=CCC=CCCC\n",
      "\n",
      "True SMILES: O=C(NC(COP(=O)([O-])OCC[N+](C)(C)C)C(O)C=CCCCCCCCCCCCCCCCCCCCCC)CCCCCCCCCC=CCCCCCCCCCCCC\n",
      "Pred SMILES: O=C(NC(COP(=O)([O-])OCC[N+](C)(C)C)C(O)C=CCCCCCCCCCCCCCCCCCCCCC)CCCCCCCCCC=CCCCCCCCCCCCCC\n",
      "\n",
      "True SMILES: O=C(NC(COP(=O)([O-])OCC[N+](C)(C)C)C(O)C=CCCCCCCCCCCCCCCCCCCCCC)CCCCCCCCCCCCCCCCCCCCCCC\n",
      "Pred SMILES: O=C(NC(COP(=O)([O-])OCC[N+](C)(C)C)C(O)C=CCCCCCCCCCCCCCCCCCCCCC)CCCCCCCCCCCCCCCCCCCCCCC\n",
      "\n",
      "True SMILES: O=C(NC(COP(=O)([O-])OCC[N+](C)(C)C)C(O)CCCCCCCCCCCCCCCCCCCCCCC)CCCCCCCCCCCCCCCCCCCC=CCC=CCCCCCCCCCCCCCCCCC\n",
      "Pred SMILES: O=C(NC(COP(=O)([O-])OCC[N+](C)(C)C)C(O)CCCCCCCCCCCCCCCCCCCCCCC)CCCCCCCCCCCCCCCCCCCC=CCC=CCCCCCCCCCCCCCCCCC\n",
      "\n",
      "True SMILES: O=C(NC(COP(=O)([O-])OCC[N+](C)(C)C)C(O)CCCCCCCCCCCCCCCCCCCCCCC)CCCCCCCCCCCCCCCCCCCC=CCCCCCCCCCCCCCCCCCCCC\n",
      "Pred SMILES: O=C(NC(COP(=O)([O-])OCC[N+](C)(C)C)C(O)CCCCCCCCCCCCCCCCCCCCCCC)CCCCCCCCCCCCCCCCCCCC=CCCCCCCCCCCCCCCCCCCCC(\n",
      "\n",
      "True SMILES: O=C(NC(COP(=O)([O-])OCC[N+](C)(C)C)C(O)CCCCCCCCCCCCCCCCCCCCCCC)CCCCCCCCCCCCCCCCCCCCCCCCCCCCCCCCCCCCCCCCC\n",
      "Pred SMILES: O=C(NC(COP(=O)([O-])OCC[N+](C)(C)C)C(O)CCCCCCCCCCCCCCCCCCCCCCC)CCCCCCCCCCCCCCCCCCCCCCCCCCCCCCCCCCCCCCCCC\n",
      "\n",
      "True SMILES: O=C(NC(COP(=O)([O-])OCC[N+](C)(C)C)C(O)CCCCCCCCCCCCCCCCCCCCCCC)CCCCCCCCCCCCCCCCCCCC=CCC=CCCCCCCCCCCCCCCC\n",
      "Pred SMILES: O=C(NC(COP(=O)([O-])OCC[N+](C)(C)C)C(O)CCCCCCCCCCCCCCCCCCCCCCC)CCCCCCCCCCCCCCCCCCCC=CCC=CCCCCCCCCCCCCCCC\n",
      "\n",
      "True SMILES: O=C(NC(COP(=O)([O-])OCC[N+](C)(C)C)C(O)CCCCCCCCCCCCCCCCCCCCCCC)CCCCCCCCCCCCCCCCCCCC=CCCCCCCCCCCCCCCCCCC\n",
      "Pred SMILES: O=C(NC(COP(=O)([O-])OCC[N+](C)(C)C)C(O)CCCCCCCCCCCCCCCCCCCCCCC)CCCCCCCCCCCCCCCCCCCC=CCCCCCCCCCCCCCCCCCC(\n",
      "\n",
      "True SMILES: O=C(NC(COP(=O)([O-])OCC[N+](C)(C)C)C(O)CCCCCCCCCCCCCCCCCCCCCCC)CCCCCCCCCCC=CCCCCCCCCCCCCCC\n",
      "Pred SMILES: O=C(NC(COP(=O)([O-])OCC[N+](C)(C)C)C(O)CCCCCCCCCCCCCCCCCCCCCCC)CCCCCCCCCCC=CCCCCCCCCCCCCCCC\n",
      "\n",
      "True SMILES: O=C(NC(COP(=O)([O-])OCC[N+](C)(C)C)C(O)CCCCCCCCCCCCCCCCCCCCCCC)CCCCCCCCCCCCCCCCCCCCCCCCCC\n",
      "Pred SMILES: O=C(NC(COP(=O)([O-])OCC[N+](C)(C)C)C(O)CCCCCCCCCCCCCCCCCCCCCCC)CCCCCCCCCCCCCCCCCCCCCCCCCCC\n",
      "\n",
      "True SMILES: O=C(NC(COP(=O)([O-])OCC[N+](C)(C)C)C(O)CCCCCCCCCCCCCCCCCCCCCCC)CCCCCCCCCC=CCC=CCCCCCCCCCCC\n",
      "Pred SMILES: O=C(NC(COP(=O)([O-])OCC[N+](C)(C)C)C(O)CCCCCCCCCCCCCCCCCCCCCCC)CCCCCCCCCC=CCC=CCCCCCCCCCCCC\n",
      "\n",
      "True SMILES: O=C(NC(COP(=O)([O-])OCC[N+](C)(C)C)C(O)CCCCCCCCCCCCCCCCCCCCCCC)CCCCCCCCCC=CCCCCCCCCCCCCCC\n",
      "Pred SMILES: O=C(NC(COP(=O)([O-])OCC[N+](C)(C)C)C(O)CCCCCCCCCCCCCCCCCCCCCCC)CCCCCCCCCC=CCCCCCCCCCCCCCCC\n",
      "\n",
      "True SMILES: O=C(NC(COP(=O)([O-])OCC[N+](C)(C)C)C(O)CCCCCCCCCCCCCCCCCCCCCCC)CCCCCCCCCCCCCCCCCCCCCCCCC\n",
      "Pred SMILES: O=C(NC(COP(=O)([O-])OCC[N+](C)(C)C)C(O)CCCCCCCCCCCCCCCCCCCCCCC)CCCCCCCCCCCCCCCCCCCCCCCCC\n",
      "\n",
      "True SMILES: O=C(NC(COP(=O)([O-])OCC[N+](C)(C)C)C(O)CCCCCCCCCCCCCCCCCCCCCCC)CCCCCCCCCCCCC\n",
      "Pred SMILES: O=C(NC(COP(=O)([O-])OCC[N+](C)(C)C)C(O)CCCCCCCCCCCCCCCCCCCCCCC)CCCCCCCCCCCCC\n",
      "\n",
      "True SMILES: O=C(NC(COP(=O)([O-])OCC[N+](C)(C)C)C(O)CCCCCCCCCCCCCCCCCCCCCCC)CCCCCCC=CCCCC\n",
      "Pred SMILES: O=C(NC(COP(=O)([O-])OCC[N+](C)(C)C)C(O)CCCCCCCCCCCCCCCCCCCCCCC)CCCCCCC=CCCCC\n",
      "\n",
      "True SMILES: O=C(NC(COP(=O)([O-])OCC[N+](C)(C)C)C(O)CCCCCCCCCCCCCCCCCCCCCCC)CCCCCCCCCCCC\n",
      "Pred SMILES: O=C(NC(COP(=O)([O-])OCC[N+](C)(C)C)C(O)CCCCCCCCCCCCCCCCCCCCCCC)CCCCCCCCCCCC\n",
      "\n",
      "True SMILES: O=C(NC(COP(=O)([O-])OCC[N+](C)(C)C)C(O)CCCCCCCCCCCCCCCCCCCCCCC)CCCC=CCCCCCC\n",
      "Pred SMILES: O=C(NC(COP(=O)([O-])OCC[N+](C)(C)C)C(O)CCCCCCCCCCCCCCCCCCCCCCC)CCCC=CCCCCCC\n",
      "\n",
      "True SMILES: O=C(NC(COP(=O)([O-])OCC[N+](C)(C)C)C(O)CCCCCCCCCCCCCCCCCCCCCCC)CCCCCCCCCCC\n",
      "Pred SMILES: O=C(NC(COP(=O)([O-])OCC[N+](C)(C)C)C(O)CCCCCCCCCCCCCCCCCCCCCCC)CCCCCCCCCCC\n",
      "\n",
      "True SMILES: O=C(NC(COP(=O)([O-])OCC[N+](C)(C)C)C(O)C=CCCC=CCCC=CCCCCCCCCCCCC)CCCCCCCCCCCCC=CCCCCCCCCCCCCCC\n",
      "Pred SMILES: O=C(NC(COP(=O)([O-])OCC[N+](C)(C)C)C(O)C=CCCC=CCCC=CCCCCCCCCCCCC)CCCCCCCCCCCCC=CCCCCCCCCCCCCCCC\n",
      "\n",
      "True SMILES: O=C(NC(COP(=O)([O-])OCC[N+](C)(C)C)C(O)C=CCCC=CCCC=CCCCCCCCCCCCC)CCCCCCCCCCCCCCCCCCCCCCCCCCCC\n",
      "Pred SMILES: O=C(NC(COP(=O)([O-])OCC[N+](C)(C)C)C(O)C=CCCC=CCCC=CCCCCCCCCCCCC)CCCCCCCCCCCCCCCCCCCCCCCCCCCC)\n",
      "\n",
      "True SMILES: O=C(NC(COP(=O)([O-])OCC[N+](C)(C)C)C(O)C=CCCC=CCCC=CCCCCCCCCCCCC)CCCCCCCCCCCC=CCC=CCCCCCCCCCCC\n",
      "Pred SMILES: O=C(NC(COP(=O)([O-])OCC[N+](C)(C)C)C(O)C=CCCC=CCCC=CCCCCCCCCCCCC)CCCCCCCCCCCC=CCC=CCCCCCCCCCCCC\n",
      "\n",
      "True SMILES: O=C(NC(COP(=O)([O-])OCC[N+](C)(C)C)C(O)C=CCCC=CCCC=CCCCCCCCCCCCC)CCCCCCCCCCCC=CCCCCCCCCCCCCCC\n",
      "Pred SMILES: O=C(NC(COP(=O)([O-])OCC[N+](C)(C)C)C(O)C=CCCC=CCCC=CCCCCCCCCCCCC)CCCCCCCCCCCC=CCCCCCCCCCCCCCC)\n",
      "\n",
      "True SMILES: O=C(NC(COP(=O)([O-])OCC[N+](C)(C)C)C(O)C=CCCC=CCCC=CCCCCCCCCCCCC)CCCCCCCCCCCCCCCCCCCCCCCCCCC\n",
      "Pred SMILES: O=C(NC(COP(=O)([O-])OCC[N+](C)(C)C)C(O)C=CCCC=CCCC=CCCCCCCCCCCCC)CCCCCCCCCCCCCCCCCCCCCCCCCCC\n",
      "\n",
      "True SMILES: O=C(NC(COP(=O)([O-])OCC[N+](C)(C)C)C(O)C=CCCC=CCCC=CCCCCCCCCCCCC)CCCCCC=CCCCCCCCC\n",
      "Pred SMILES: O=C(NC(COP(=O)([O-])OCC[N+](C)(C)C)C(O)C=CCCC=CCCC=CCCCCCCCCCCCC)CCCCCC=CCCCCCCCC\n",
      "\n",
      "True SMILES: O=C(NC(COP(=O)([O-])OCC[N+](C)(C)C)C(O)C=CCCC=CCCC=CCCCCCCCCCCCC)CCCCCCCCCCCCCCC\n",
      "Pred SMILES: O=C(NC(COP(=O)([O-])OCC[N+](C)(C)C)C(O)C=CCCC=CCCC=CCCCCCCCCCCCC)CCCCCCCCCCCCCCC(\n",
      "\n",
      "True SMILES: O=C(NC(COP(=O)([O-])OCC[N+](C)(C)C)C(O)C=CCCC=CCCC=CCCCCCCCCCCCC)CCCCCCCC=CCCCCC\n",
      "Pred SMILES: O=C(NC(COP(=O)([O-])OCC[N+](C)(C)C)C(O)C=CCCC=CCCC=CCCCCCCCCCCCC)CCCCCCCC=CCCCCC(\n",
      "\n",
      "True SMILES: O=C(NC(COP(=O)([O-])OCC[N+](C)(C)C)C(O)C=CCCC=CCCC=CCCCCCCCCCCCC)CCCCCCCCCCCCCC\n",
      "Pred SMILES: O=C(NC(COP(=O)([O-])OCC[N+](C)(C)C)C(O)C=CCCC=CCCC=CCCCCCCCCCCCC)CCCCCCCCCCCCCC\n",
      "\n",
      "True SMILES: O=C(NC(COP(=O)([O-])OCC[N+](C)(C)C)C(O)C=CCCC=CCCC=CCCCCCCCCCCCC)CCCCCCCC=CCCCC\n",
      "Pred SMILES: O=C(NC(COP(=O)([O-])OCC[N+](C)(C)C)C(O)C=CCCC=CCCC=CCCCCCCCCCCCC)CCCCCCCC=CCCCC\n",
      "\n",
      "True SMILES: O=C(NC(COP(=O)([O-])OCC[N+](C)(C)C)C(O)C=CCCC=CCCCCCCCCCCCCCCCC)CCCCCCCCCCCCCCC=CCCCCCCCCCCCCCC\n",
      "Pred SMILES: O=C(NC(COP(=O)([O-])OCC[N+](C)(C)C)C(O)C=CCCC=CCCCCCCCCCCCCCCCC)CCCCCCCCCCCCCCC=CCCCCCCCCCCCCCCC\n",
      "\n",
      "True SMILES: O=C(NC(COP(=O)([O-])OCC[N+](C)(C)C)C(O)C=CCCC=CCCCCCCCCCCCCCCCC)CCCCCCCCCCCCCCCCCCCCCCCCCCCCCC\n",
      "Pred SMILES: O=C(NC(COP(=O)([O-])OCC[N+](C)(C)C)C(O)C=CCCC=CCCCCCCCCCCCCCCCC)CCCCCCCCCCCCCCCCCCCCCCCCCCCCCC)\n",
      "\n",
      "True SMILES: O=C(NC(COP(=O)([O-])OCC[N+](C)(C)C)C(O)C=CCCC=CCCCCCCCCCCCCCCCC)CCCCCCCCCCCCCC=CCC=CCCCCCCCCCCC\n",
      "Pred SMILES: O=C(NC(COP(=O)([O-])OCC[N+](C)(C)C)C(O)C=CCCC=CCCCCCCCCCCCCCCCC)CCCCCCCCCCCCCC=CCC=CCCCCCCCCCCCC\n",
      "\n",
      "True SMILES: O=C(NC(COP(=O)([O-])OCC[N+](C)(C)C)C(O)C=CCCC=CCCCCCCCCCCCCCCCC)CCCCCCCCCCCCCC=CCCCCCCCCCCCCCC\n",
      "Pred SMILES: O=C(NC(COP(=O)([O-])OCC[N+](C)(C)C)C(O)C=CCCC=CCCCCCCCCCCCCCCCC)CCCCCCCCCCCCCC=CCCCCCCCCCCCCCC)\n",
      "\n",
      "True SMILES: O=C(NC(COP(=O)([O-])OCC[N+](C)(C)C)C(O)C=CCCC=CCCCCCCCCCCCCCCCC)CCCCCCCCCCCCCCCCCCCCCCCCCCCCC\n",
      "Pred SMILES: O=C(NC(COP(=O)([O-])OCC[N+](C)(C)C)C(O)C=CCCC=CCCCCCCCCCCCCCCCC)CCCCCCCCCCCCCCCCCCCCCCCCCCCCC\n",
      "\n",
      "True SMILES: O=C(NC(COP(=O)([O-])OCC[N+](C)(C)C)C(O)C=CCCC=CCCCCCCCCCCCCCCCC)CCCCCCCCC=CC=CCCCCC\n",
      "Pred SMILES: O=C(NC(COP(=O)([O-])OCC[N+](C)(C)C)C(O)C=CCCC=CCCCCCCCCCCCCCCCC)CCCCCCCCC=CC=CCCCCC\n",
      "\n",
      "True SMILES: O=C(NC(COP(=O)([O-])OCC[N+](C)(C)C)C(O)C=CCCC=CCCCCCCCCCCCCCCCC)CCCCCCCCCC=CCCCCCC\n",
      "Pred SMILES: O=C(NC(COP(=O)([O-])OCC[N+](C)(C)C)C(O)C=CCCC=CCCCCCCCCCCCCCCCC)CCCCCCCCCC=CCCCCCC\n",
      "\n",
      "True SMILES: O=C(NC(COP(=O)([O-])OCC[N+](C)(C)C)C(O)C=CCCC=CCCCCCCCCCCCCCCCC)CCCCCCCCCCCCCCCCC\n",
      "Pred SMILES: O=C(NC(COP(=O)([O-])OCC[N+](C)(C)C)C(O)C=CCCC=CCCCCCCCCCCCCCCCC)CCCCCCCCCCCCCCCCC\n",
      "\n",
      "True SMILES: O=C(NC(COP(=O)([O-])OCC[N+](C)(C)C)C(O)C=CCCC=CCCCCCCCCCCCCCCCC)CCCCCCCCCCCCCCCC\n",
      "Pred SMILES: O=C(NC(COP(=O)([O-])OCC[N+](C)(C)C)C(O)C=CCCC=CCCCCCCCCCCCCCCCC)CCCCCCCCCCCCCCCC\n",
      "\n",
      "True SMILES: O=C(NC(COP(=O)([O-])OCC[N+](C)(C)C)C(O)C=CCCC=CCCCCCCCCCCCCCCCC)CCC=CCC=CCCCCCCCC\n",
      "Pred SMILES: O=C(NC(COP(=O)([O-])OCC[N+](C)(C)C)C(O)C=CCCC=CCCCCCCCCCCCCCCCC)CCC=CCC=CCCCCCCCC\n",
      "\n",
      "True SMILES: O=C(NC(COP(=O)([O-])OCC[N+](C)(C)C)C(O)C=CCCCCCCCCCCCCCCCCCCCC)CCCCCCCCCCCCCCCCC=CCCCCCCCCCCCCCC\n",
      "Pred SMILES: O=C(NC(COP(=O)([O-])OCC[N+](C)(C)C)C(O)C=CCCCCCCCCCCCCCCCCCCCC)CCCCCCCCCCCCCCCCC=CCCCCCCCCCCCCCCC\n",
      "\n",
      "True SMILES: O=C(NC(COP(=O)([O-])OCC[N+](C)(C)C)C(O)C=CCCCCCCCCCCCCCCCCCCCC)CCCCCCCCCCCCCCCCCCCCCCCCCCCCCCCC\n",
      "Pred SMILES: O=C(NC(COP(=O)([O-])OCC[N+](C)(C)C)C(O)C=CCCCCCCCCCCCCCCCCCCCC)CCCCCCCCCCCCCCCCCCCCCCCCCCCCCCCCC\n",
      "\n",
      "True SMILES: O=C(NC(COP(=O)([O-])OCC[N+](C)(C)C)C(O)C=CCCCCCCCCCCCCCCCCCCCC)CCCCCCCCCCCCCCCC=CCC=CCCCCCCCCCCC\n",
      "Pred SMILES: O=C(NC(COP(=O)([O-])OCC[N+](C)(C)C)C(O)C=CCCCCCCCCCCCCCCCCCCCC)CCCCCCCCCCCCCCCC=CCC=CCCCCCCCCCCCC\n",
      "\n",
      "True SMILES: O=C(NC(COP(=O)([O-])OCC[N+](C)(C)C)C(O)C=CCCCCCCCCCCCCCCCCCCCC)CCCCCCCCCCCCCCCC=CCCCCCCCCCCCCCC\n",
      "Pred SMILES: O=C(NC(COP(=O)([O-])OCC[N+](C)(C)C)C(O)C=CCCCCCCCCCCCCCCCCCCCC)CCCCCCCCCCCCCCCC=CCCCCCCCCCCCCCCC\n",
      "\n",
      "True SMILES: O=C(NC(COP(=O)([O-])OCC[N+](C)(C)C)C(O)C=CCCCCCCCCCCCCCCCCCCCC)CCCCCCCCCCCCCCCCCCCCCCCCCCCCCCC\n",
      "Pred SMILES: O=C(NC(COP(=O)([O-])OCC[N+](C)(C)C)C(O)C=CCCCCCCCCCCCCCCCCCCCC)CCCCCCCCCCCCCCCCCCCCCCCCCCCCCCC\n",
      "\n",
      "True SMILES: O=C(NC(COP(=O)([O-])OCC[N+](C)(C)C)C(O)C=CCCCCCCCCCCCCCCCCCCCC)CCCCCCCCCC=CCC=CCCCCC\n",
      "Pred SMILES: O=C(NC(COP(=O)([O-])OCC[N+](C)(C)C)C(O)C=CCCCCCCCCCCCCCCCCCCCC)CCCCCCCCCC=CCC=CCCCCC(\n",
      "\n",
      "True SMILES: CCCCCCCCCCCCCCCCCCCC\\C=C\\C(O)C(COP([O-])(=O)OCC[N+](C)(C)C)NC(=O)CCCCCCCCC\\C=C/CCCCCCCC\n",
      "Pred SMILES: CCCCCCCCCCCCCCCCCCCC\\C=C\\C(O)C(COP([O-])(=O)OCC[N+](C)(C)C)NC(=O)CCCCCCCCC\\C=C/CCCCCCCC\n",
      "\n",
      "True SMILES: O=C(NC(COP(=O)([O-])OCC[N+](C)(C)C)C(O)C=CCCCCCCCCCCCCCCCCCCCC)CCCCCCCCCCCCCCCCCCC\n",
      "Pred SMILES: O=C(NC(COP(=O)([O-])OCC[N+](C)(C)C)C(O)C=CCCCCCCCCCCCCCCCCCCCC)CCCCCCCCCCCCCCCCCCC\n",
      "\n",
      "True SMILES: O=C(NC(COP(=O)([O-])OCC[N+](C)(C)C)C(O)C=CCCCCCCCCCCCCCCCCCCCC)CCCCCCCC=CCCCCCCCCC\n",
      "Pred SMILES: O=C(NC(COP(=O)([O-])OCC[N+](C)(C)C)C(O)C=CCCCCCCCCCCCCCCCCCCCC)CCCCCCCC=CCCCCCCCCC\n",
      "\n",
      "True SMILES: O=C(NC(COP(=O)([O-])OCC[N+](C)(C)C)C(O)C=CCCCCCCCCCCCCCCCCCCCC)CCCCCCCCCCCCCCCCCC\n",
      "Pred SMILES: O=C(NC(COP(=O)([O-])OCC[N+](C)(C)C)C(O)C=CCCCCCCCCCCCCCCCCCCCC)CCCCCCCCCCCCCCCCCC\n",
      "\n",
      "True SMILES: O=C(NC(COP(=O)([O-])OCC[N+](C)(C)C)C(O)CCCCCCCCCCCCCCCCCCCCCC)CCCCCCCCCCCCCCCCCCC=CCCCCCCCCCCCCCC\n",
      "Pred SMILES: O=C(NC(COP(=O)([O-])OCC[N+](C)(C)C)C(O)CCCCCCCCCCCCCCCCCCCCCC)CCCCCCCCCCCCCCCCCCC=CCCCCCCCCCCCCCC\n",
      "\n",
      "True SMILES: O=C(NC(COP(=O)([O-])OCC[N+](C)(C)C)C(O)CCCCCCCCCCCCCCCCCCCCCC)CCCCCCCCCCCCCCCCCCCCCCCCCCCCCCCCCC\n",
      "Pred SMILES: O=C(NC(COP(=O)([O-])OCC[N+](C)(C)C)C(O)CCCCCCCCCCCCCCCCCCCCCC)CCCCCCCCCCCCCCCCCCCCCCCCCCCCCCCCCC\n",
      "\n",
      "True SMILES: O=C(NC(COP(=O)([O-])OCC[N+](C)(C)C)C(O)CCCCCCCCCCCCCCCCCCCCCC)CCCCCCCCCCCCCCCCCC=CCC=CCCCCCCCCCCC\n",
      "Pred SMILES: O=C(NC(COP(=O)([O-])OCC[N+](C)(C)C)C(O)CCCCCCCCCCCCCCCCCCCCCC)CCCCCCCCCCCCCCCCCC=CCC=CCCCCCCCCCCC\n",
      "\n",
      "True SMILES: O=C(NC(COP(=O)([O-])OCC[N+](C)(C)C)C(O)CCCCCCCCCCCCCCCCCCCCCC)CCCCCCCCCCCCCCCCCC=CCCCCCCCCCCCCCC\n",
      "Pred SMILES: O=C(NC(COP(=O)([O-])OCC[N+](C)(C)C)C(O)CCCCCCCCCCCCCCCCCCCCCC)CCCCCCCCCCCCCCCCCC=CCCCCCCCCCCCCCC\n",
      "\n",
      "True SMILES: O=C(NC(COP(=O)([O-])OCC[N+](C)(C)C)C(O)CCCCCCCCCCCCCCCCCCCCCC)CCCCCCCCCCCCCCCCCCCCCCCCCCCCCCCCC\n",
      "Pred SMILES: O=C(NC(COP(=O)([O-])OCC[N+](C)(C)C)C(O)CCCCCCCCCCCCCCCCCCCCCC)CCCCCCCCCCCCCCCCCCCCCCCCCCCCCCCCC\n",
      "\n",
      "True SMILES: O=C(NC(COP(=O)([O-])OCC[N+](C)(C)C)C(O)CCCCCCCCCCCCCCCCCCCCCC)CCCCCCCCCCCCC=CC=CCCCCC\n",
      "Pred SMILES: O=C(NC(COP(=O)([O-])OCC[N+](C)(C)C)C(O)CCCCCCCCCCCCCCCCCCCCCC)CCCCCCCCCCCCC=CC=CCCCCC)\n",
      "\n",
      "True SMILES: O=C(NC(COP(=O)([O-])OCC[N+](C)(C)C)C(O)CCCCCCCCCCCCCCCCCCCCCC)CCCCCCCCCC=CCCCCCCCCCC\n",
      "Pred SMILES: O=C(NC(COP(=O)([O-])OCC[N+](C)(C)C)C(O)CCCCCCCCCCCCCCCCCCCCCC)CCCCCCCCCC=CCCCCCCCCCC)\n",
      "\n",
      "True SMILES: O=C(NC(COP(=O)([O-])OCC[N+](C)(C)C)C(O)CCCCCCCCCCCCCCCCCCCCCC)CCCCCCCCCCCCCCCCCCCCC\n",
      "Pred SMILES: O=C(NC(COP(=O)([O-])OCC[N+](C)(C)C)C(O)CCCCCCCCCCCCCCCCCCCCCC)CCCCCCCCCCCCCCCCCCCCC)\n",
      "\n",
      "True SMILES: O=C(NC(COP(=O)([O-])OCC[N+](C)(C)C)C(O)CCCCCCCCCCCCCCCCCCCCCC)CCCCCCCC=CCCCCCCCCCCC\n",
      "Pred SMILES: O=C(NC(COP(=O)([O-])OCC[N+](C)(C)C)C(O)CCCCCCCCCCCCCCCCCCCCCC)CCCCCCCC=CCCCCCCCCCCC)\n",
      "\n",
      "True SMILES: O=C(NC(COP(=O)([O-])OCC[N+](C)(C)C)C(O)CCCCCCCCCCCCCCCCCCCCCC)CCCCCCCCCCCCCCCCCCCC\n",
      "Pred SMILES: O=C(NC(COP(=O)([O-])OCC[N+](C)(C)C)C(O)CCCCCCCCCCCCCCCCCCCCCC)CCCCCCCCCCCCCCCCCCCC)\n",
      "\n",
      "True SMILES: O=C(NC(COP(=O)([O-])OCC[N+](C)(C)C)C(O)C=CCCC=CCCC=CCCCCCCCCCCC)CCCCCCCCCCCCCCCCCCCC=CCCCCCCCCCCCCCCCC\n",
      "Pred SMILES: O=C(NC(COP(=O)([O-])OCC[N+](C)(C)C)C(O)C=CCCC=CCCC=CCCCCCCCCCCC)CCCCCCCCCCCCCCCCCCCC=CCCCCCCCCCCCCCCCC\n",
      "\n",
      "True SMILES: O=C(NC(COP(=O)([O-])OCC[N+](C)(C)C)C(O)C=CCCC=CCCC=CCCCCCCCCCCC)CCCCCCCCCCCCCCCCCCCCCCCCCCCCCCCCCCCCC\n",
      "Pred SMILES: O=C(NC(COP(=O)([O-])OCC[N+](C)(C)C)C(O)C=CCCC=CCCC=CCCCCCCCCCCC)CCCCCCCCCCCCCCCCCCCCCCCCCCCCCCCCCCCCC\n",
      "\n",
      "True SMILES: O=C(NC(COP(=O)([O-])OCC[N+](C)(C)C)C(O)C=CCCC=CCCC=CCCCCCCCCCCC)CCCCCCCCCCCCCCCCCCCC=CCC=CCCCCCCCCCCC\n",
      "Pred SMILES: O=C(NC(COP(=O)([O-])OCC[N+](C)(C)C)C(O)C=CCCC=CCCC=CCCCCCCCCCCC)CCCCCCCCCCCCCCCCCCCC=CCC=CCCCCCCCCCCC\n",
      "\n",
      "True SMILES: O=C(NC(COP(=O)([O-])OCC[N+](C)(C)C)C(O)C=CCCC=CCCC=CCCCCCCCCCCC)CCCCCCCCCCCCCCCCCCCC=CCCCCCCCCCCCCCC\n",
      "Pred SMILES: O=C(NC(COP(=O)([O-])OCC[N+](C)(C)C)C(O)C=CCCC=CCCC=CCCCCCCCCCCC)CCCCCCCCCCCCCCCCCCCC=CCCCCCCCCCCCCCC\n",
      "\n",
      "True SMILES: O=C(NC(COP(=O)([O-])OCC[N+](C)(C)C)C(O)C=CCCC=CCCC=CCCCCCCCCCCC)CCCCCCCCCCCCCCCCCCCCCCCCCCCCCCCCCCC\n",
      "Pred SMILES: O=C(NC(COP(=O)([O-])OCC[N+](C)(C)C)C(O)C=CCCC=CCCC=CCCCCCCCCCCC)CCCCCCCCCCCCCCCCCCCCCCCCCCCCCCCCCCC\n",
      "\n",
      "True SMILES: O=C(NC(COP(=O)([O-])OCC[N+](C)(C)C)C(O)C=CCCC=CCCC=CCCCCCCCCCCC)CCCCCCCCCCCCCCCCC=CCC=CCC\n",
      "Pred SMILES: O=C(NC(COP(=O)([O-])OCC[N+](C)(C)C)C(O)C=CCCC=CCCC=CCCCCCCCCCCC)CCCCCCCCCCCCCCCCC=CCC=CCC(\n",
      "\n",
      "True SMILES: O=C(NC(COP(=O)([O-])OCC[N+](C)(C)C)C(O)C=CCCC=CCCC=CCCCCCCCCCCC)CCCCCCCCCC=CCCCCCCCCCCCC\n",
      "Pred SMILES: O=C(NC(COP(=O)([O-])OCC[N+](C)(C)C)C(O)C=CCCC=CCCC=CCCCCCCCCCCC)CCCCCCCCCC=CCCCCCCCCCCCC(\n",
      "\n",
      "True SMILES: O=C(NC(COP(=O)([O-])OCC[N+](C)(C)C)C(O)C=CCCC=CCCC=CCCCCCCCCCCC)CCCCCCCCCCCCCCCCCCCCCCC\n",
      "Pred SMILES: O=C(NC(COP(=O)([O-])OCC[N+](C)(C)C)C(O)C=CCCC=CCCC=CCCCCCCCCCCC)CCCCCCCCCCCCCCCCCCCCCCC(\n",
      "\n",
      "True SMILES: O=C(NC(COP(=O)([O-])OCC[N+](C)(C)C)C(O)C=CCCC=CCCC=CCCCCCCCCCCC)CCCCCCCCCC=CCCCCCCCCCCC\n",
      "Pred SMILES: O=C(NC(COP(=O)([O-])OCC[N+](C)(C)C)C(O)C=CCCC=CCCC=CCCCCCCCCCCC)CCCCCCCCCC=CCCCCCCCCCCC(\n",
      "\n",
      "True SMILES: CCCCCCCCCCCCCCCCCCCCCCC(=O)NC(COP([O-])(=O)OCC[N+](C)(C)C)C(O)\\C=C\\CC\\C=C\\CC\\C=C\\CCCCCCCCCCC\n",
      "Pred SMILES: CCCCCCCCCCCCCCCCCCCCCCC(=O)NC(COP([O-])(=O)OCC[N+](C)(C)C)C(O)\\C=C\\CC\\C=C\\CC\\C=C\\CCCCCCCCCCC\n",
      "\n",
      "True SMILES: O=C(NC(COP(=O)([O-])OCC[N+](C)(C)C)C(O)C=CCCC=CCCCCCCCCCCCCCCC)CCCCCCCCCCCCCCCCCCCCCCCCCCCCCCCCCCCCCCCCC\n",
      "Pred SMILES: O=C(NC(COP(=O)([O-])OCC[N+](C)(C)C)C(O)C=CCCC=CCCCCCCCCCCCCCCC)CCCCCCCCCCCCCCCCCCCCCCCCCCCCCCCCCCCCCCCCCP\n",
      "\n",
      "True SMILES: CCCCCCCCCCCCCCC\\C=C\\CC\\C=C\\C(O)C(COP([O-])(=O)OCC[N+](C)(C)C)NC(=O)CCCCCCCCCCCCCCCCCCC\\C=C/C\\C=C/CCCCCCCCCCCCCCC\n",
      "Pred SMILES: CCCCCCCCCCCCCCC\\C=C\\CC\\C=C\\C(O)C(COP([O-])(=O)OCC[N+](C)(C)C)NC(=O)CCCCCCCCCCCCCCCCCCC\\C=C/C\\C=C/CCCCCCCCCCCCCCC\n",
      "\n",
      "True SMILES: O=C(NC(COP(=O)([O-])OCC[N+](C)(C)C)C(O)C=CCCC=CCCCCCCCCCCCCCCC)CCCCCCCCCCCCCCCCCCCC=CCCCCCCCCCCCCCCCCCC\n",
      "Pred SMILES: O=C(NC(COP(=O)([O-])OCC[N+](C)(C)C)C(O)C=CCCC=CCCCCCCCCCCCCCCC)CCCCCCCCCCCCCCCCCCCC=CCCCCCCCCCCCCCCCCCC(P\n",
      "\n",
      "True SMILES: O=C(NC(COP(=O)([O-])OCC[N+](C)(C)C)C(O)C=CCCC=CCCCCCCCCCCCCCCC)CCCCCCCCCCCCCCCCCCCCCCCCCCCCCCCCCCCCCCC\n",
      "Pred SMILES: O=C(NC(COP(=O)([O-])OCC[N+](C)(C)C)C(O)C=CCCC=CCCCCCCCCCCCCCCC)CCCCCCCCCCCCCCCCCCCCCCCCCCCCCCCCCCCCCCCC(P\n",
      "\n",
      "True SMILES: O=C(NC(COP(=O)([O-])OCC[N+](C)(C)C)C(O)C=CCCC=CCCCCCCCCCCCCCCC)CCCCCCCCCCCCCCCCCCCC=CCC=CCCCCCCCCCCCCC\n",
      "Pred SMILES: O=C(NC(COP(=O)([O-])OCC[N+](C)(C)C)C(O)C=CCCC=CCCCCCCCCCCCCCCC)CCCCCCCCCCCCCCCCCCCC=CCC=CCCCCCCCCCCCCCC(P\n",
      "\n",
      "True SMILES: CCCCCCCCCCCCCCC\\C=C\\CC\\C=C\\C(O)C(COP([O-])(=O)OCC[N+](C)(C)C)NC(=O)CCCCCCCCC\\C=C/C\\C=C/CCCCCCCCCCC\n",
      "Pred SMILES: CCCCCCCCCCCCCCC\\C=C\\CC\\C=C\\C(O)C(COP([O-])(=O)OCC[N+](C)(C)C)NC(=O)CCCCCCCCC\\C=C/C\\C=C/CCCCCCCCCCCC\n",
      "\n",
      "True SMILES: O=C(NC(COP(=O)([O-])OCC[N+](C)(C)C)C(O)C=CCCC=CCCCCCCCCCCCCCCC)CCCCCCCCCC=CCCCCCCCCCCCCCC\n",
      "Pred SMILES: O=C(NC(COP(=O)([O-])OCC[N+](C)(C)C)C(O)C=CCCC=CCCCCCCCCCCCCCCC)CCCCCCCCCC=CCCCCCCCCCCCCCC\n",
      "\n",
      "True SMILES: O=C(NC(COP(=O)([O-])OCC[N+](C)(C)C)C(O)C=CCCC=CCCCCCCCCCCCCCCC)CCCCCCCCCCCCCCCCCCCCCCCCC\n",
      "Pred SMILES: O=C(NC(COP(=O)([O-])OCC[N+](C)(C)C)C(O)C=CCCC=CCCCCCCCCCCCCCCC)CCCCCCCCCCCCCCCCCCCCCCCCC\n",
      "\n",
      "True SMILES: O=C(NC(COP(=O)([O-])OCC[N+](C)(C)C)C(O)C=CCCC=CCCCCCCCCCCCCCCC)CCCCCCCCCC=CCCCCCCCCCCCCC\n",
      "Pred SMILES: O=C(NC(COP(=O)([O-])OCC[N+](C)(C)C)C(O)C=CCCC=CCCCCCCCCCCCCCCC)CCCCCCCCCC=CCCCCCCCCCCCCC\n",
      "\n",
      "True SMILES: O=C(NC(COP(=O)([O-])OCC[N+](C)(C)C)C(O)C=CCCC=CCCCCCCCCCCCCCCC)CCCCCCCCCCCCCCCCCCCCCCCC\n",
      "Pred SMILES: O=C(NC(COP(=O)([O-])OCC[N+](C)(C)C)C(O)C=CCCC=CCCCCCCCCCCCCCCC)CCCCCCCCCCCCCCCCCCCCCCCC\n",
      "\n",
      "True SMILES: CCCCCCCCCCCCCCC\\C=C\\CC\\C=C\\C(O)C(COP([O-])(=O)OCC[N+](C)(C)C)NC(=O)CCCCCCCCCCCC\n",
      "Pred SMILES: CCCCCCCCCCCCCCC\\C=C\\CC\\C=C\\C(O)C(COP([O-])(=O)OCC[N+](C)(C)C)NC(=O)CCCCCCCCCCCC\n",
      "\n",
      "True SMILES: O=C(NC(COP(=O)([O-])OCC[N+](C)(C)C)C(O)C=CCCC=CCCCCCCCCCCCCCCC)CCCC=CCCCCCC\n",
      "Pred SMILES: O=C(NC(COP(=O)([O-])OCC[N+](C)(C)C)C(O)C=CCCC=CCCCCCCCCCCCCCCC)CCCC=CCCCCCC\n",
      "\n",
      "True SMILES: O=C(NC(COP(=O)([O-])OCC[N+](C)(C)C)C(O)C=CCCC=CCCCCCCCCCCCCCCC)CCCCCCCCCCC\n",
      "Pred SMILES: O=C(NC(COP(=O)([O-])OCC[N+](C)(C)C)C(O)C=CCCC=CCCCCCCCCCCCCCCC)CCCCCCCCCCC\n",
      "\n",
      "True SMILES: O=C(NC(COP(=O)([O-])OCC[N+](C)(C)C)C(O)C=CCCCCCCCCCCCCCCCCCCC)CCCCCCCCCCCCCCCCCCCC=CCC=CCCCCCCCCCCCCCCCCC\n",
      "Pred SMILES: O=C(NC(COP(=O)([O-])OCC[N+](C)(C)C)C(O)C=CCCCCCCCCCCCCCCCCCCC)CCCCCCCCCCCCCCCCCCCC=CCC=CCCCCCCCCCCCCCCCCC\n",
      "\n",
      "True SMILES: O=C(NC(COP(=O)([O-])OCC[N+](C)(C)C)C(O)C=CCCCCCCCCCCCCCCCCCCC)CCCCCCCCCCCCCCCCCCCC=CCCCCCCCCCCCCCCCCCCCC\n",
      "Pred SMILES: O=C(NC(COP(=O)([O-])OCC[N+](C)(C)C)C(O)C=CCCCCCCCCCCCCCCCCCCC)CCCCCCCCCCCCCCCCCCCC=CCCCCCCCCCCCCCCCCCCCC)\n",
      "\n",
      "True SMILES: O=C(NC(COP(=O)([O-])OCC[N+](C)(C)C)C(O)C=CCCCCCCCCCCCCCCCCCCC)CCCCCCCCCCCC=CCC=CCCCCCCCCCCC\n",
      "Pred SMILES: O=C(NC(COP(=O)([O-])OCC[N+](C)(C)C)C(O)C=CCCCCCCCCCCCCCCCCCCC)CCCCCCCCCCCC=CCC=CCCCCCCCCCCCC\n",
      "\n",
      "True SMILES: O=C(NC(COP(=O)([O-])OCC[N+](C)(C)C)C(O)C=CCCCCCCCCCCCCCCCCCCC)CCCCCCCCCCCC=CCCCCCCCCCCCCCC\n",
      "Pred SMILES: O=C(NC(COP(=O)([O-])OCC[N+](C)(C)C)C(O)C=CCCCCCCCCCCCCCCCCCCC)CCCCCCCCCCCC=CCCCCCCCCCCCCCCC\n",
      "\n",
      "True SMILES: O=C(NC(COP(=O)([O-])OCC[N+](C)(C)C)C(O)C=CCCCCCCCCCCCCCCCCCCC)CCCCCCCCCCCCCCCCCCCCCCCCCCC\n",
      "Pred SMILES: O=C(NC(COP(=O)([O-])OCC[N+](C)(C)C)C(O)C=CCCCCCCCCCCCCCCCCCCC)CCCCCCCCCCCCCCCCCCCCCCCCCCCC\n",
      "\n",
      "True SMILES: O=C(NC(COP(=O)([O-])OCC[N+](C)(C)C)C(O)C=CCCCCCCCCCCCCCCCCCCC)CCCCCCCCCCC=CCCCCCCCCCCCCCC\n",
      "Pred SMILES: O=C(NC(COP(=O)([O-])OCC[N+](C)(C)C)C(O)C=CCCCCCCCCCCCCCCCCCCC)CCCCCCCCCCC=CCCCCCCCCCCCCCCC\n",
      "\n",
      "True SMILES: O=C(NC(COP(=O)([O-])OCC[N+](C)(C)C)C(O)C=CCCCCCCCCCCCCCCCCCCC)CCCCCCCCCCCCCCCCCCCCCCCCCC\n",
      "Pred SMILES: O=C(NC(COP(=O)([O-])OCC[N+](C)(C)C)C(O)C=CCCCCCCCCCCCCCCCCCCC)CCCCCCCCCCCCCCCCCCCCCCCCCC\n",
      "\n",
      "True SMILES: O=C(NC(COP(=O)([O-])OCC[N+](C)(C)C)C(O)C=CCCCCCCCCCCCCCCCCCCC)CCCCCCCC=CCCCCC\n",
      "Pred SMILES: O=C(NC(COP(=O)([O-])OCC[N+](C)(C)C)C(O)C=CCCCCCCCCCCCCCCCCCCC)CCCCCCCC=CCCCCC(\n",
      "\n",
      "True SMILES: O=C(NC(COP(=O)([O-])OCC[N+](C)(C)C)C(O)C=CCCCCCCCCCCCCCCCCCCC)CCCCCCCCCCCCCC\n",
      "Pred SMILES: O=C(NC(COP(=O)([O-])OCC[N+](C)(C)C)C(O)C=CCCCCCCCCCCCCCCCCCCC)CCCCCCCCCCCCCC(\n",
      "\n",
      "True SMILES: O=C(NC(COP(=O)([O-])OCC[N+](C)(C)C)C(O)C=CCCCCCCCCCCCCCCCCCCC)CCCCCCCC=CCCCC\n",
      "Pred SMILES: O=C(NC(COP(=O)([O-])OCC[N+](C)(C)C)C(O)C=CCCCCCCCCCCCCCCCCCCC)CCCCCCCC=CCCCC(\n",
      "\n",
      "True SMILES: O=C(NC(COP(=O)([O-])OCC[N+](C)(C)C)C(O)C=CCCCCCCCCCCCCCCCCCCC)CCCCCCCCCCCCC\n",
      "Pred SMILES: O=C(NC(COP(=O)([O-])OCC[N+](C)(C)C)C(O)C=CCCCCCCCCCCCCCCCCCCC)CCCCCCCCCCCCC(\n",
      "\n",
      "True SMILES: O=C(NC(COP(=O)([O-])OCC[N+](C)(C)C)C(O)C=CCCCCCCCCCCCCCCCCCCC)CCCCCCC=CCCCC\n",
      "Pred SMILES: O=C(NC(COP(=O)([O-])OCC[N+](C)(C)C)C(O)C=CCCCCCCCCCCCCCCCCCCC)CCCCCCC=CCCCC(\n",
      "\n",
      "True SMILES: O=C(NC(COP(=O)([O-])OCC[N+](C)(C)C)C(O)CCCCCCCCCCCCCCCCCCCCC)CCCCCCCCCCCCCC=CCC=CCCCCCCCCCCC\n",
      "Pred SMILES: O=C(NC(COP(=O)([O-])OCC[N+](C)(C)C)C(O)CCCCCCCCCCCCCCCCCCCCC)CCCCCCCCCCCCCC=CCC=CCCCCCCCCCCCC\n",
      "\n",
      "True SMILES: O=C(NC(COP(=O)([O-])OCC[N+](C)(C)C)C(O)CCCCCCCCCCCCCCCCCCCCC)CCCCCCCCCCCCCC=CCCCCCCCCCCCCCC\n",
      "Pred SMILES: O=C(NC(COP(=O)([O-])OCC[N+](C)(C)C)C(O)CCCCCCCCCCCCCCCCCCCCC)CCCCCCCCCCCCCC=CCCCCCCCCCCCCCCC\n",
      "\n",
      "True SMILES: O=C(NC(COP(=O)([O-])OCC[N+](C)(C)C)C(O)CCCCCCCCCCCCCCCCCCCCC)CCCCCCCCCCCCCCCCCCCCCCCCCCCCC\n",
      "Pred SMILES: O=C(NC(COP(=O)([O-])OCC[N+](C)(C)C)C(O)CCCCCCCCCCCCCCCCCCCCC)CCCCCCCCCCCCCCCCCCCCCCCCCCCCCC\n",
      "\n",
      "True SMILES: O=C(NC(COP(=O)([O-])OCC[N+](C)(C)C)C(O)CCCCCCCCCCCCCCCCCCCCC)CCCCCCCCCCCCC=CCCCCCCCCCCCCCC\n",
      "Pred SMILES: O=C(NC(COP(=O)([O-])OCC[N+](C)(C)C)C(O)CCCCCCCCCCCCCCCCCCCCC)CCCCCCCCCCCCC=CCCCCCCCCCCCCCCC\n",
      "\n",
      "True SMILES: O=C(NC(COP(=O)([O-])OCC[N+](C)(C)C)C(O)CCCCCCCCCCCCCCCCCCCCC)CCCCCCCCCCCCCCCCCCCCCCCCCCCC\n",
      "Pred SMILES: O=C(NC(COP(=O)([O-])OCC[N+](C)(C)C)C(O)CCCCCCCCCCCCCCCCCCCCC)CCCCCCCCCCCCCCCCCCCCCCCCCCCC\n",
      "\n",
      "True SMILES: O=C(NC(COP(=O)([O-])OCC[N+](C)(C)C)C(O)CCCCCCCCCCCCCCCCCCCCC)CCCCCCCCCCCCCCCCC\n",
      "Pred SMILES: O=C(NC(COP(=O)([O-])OCC[N+](C)(C)C)C(O)CCCCCCCCCCCCCCCCCCCCC)CCCCCCCCCCCCCCCCC\n",
      "\n",
      "True SMILES: O=C(NC(COP(=O)([O-])OCC[N+](C)(C)C)C(O)CCCCCCCCCCCCCCCCCCCCC)CCCCCCCCCCCCCCCC\n",
      "Pred SMILES: O=C(NC(COP(=O)([O-])OCC[N+](C)(C)C)C(O)CCCCCCCCCCCCCCCCCCCCC)CCCCCCCCCCCCCCCC\n",
      "\n",
      "True SMILES: O=C(NC(COP(=O)([O-])OCC[N+](C)(C)C)C(O)CCCCCCCCCCCCCCCCCCCCC)CCC=CCC=CCCCCCCCC\n",
      "Pred SMILES: O=C(NC(COP(=O)([O-])OCC[N+](C)(C)C)C(O)CCCCCCCCCCCCCCCCCCCCC)CCC=CCC=CCCCCCCCC\n",
      "\n",
      "True SMILES: O=C(NC(COP(=O)([O-])OCC[N+](C)(C)C)C(O)CCCCCCCCCCCCCCCCCCCCC)CCCCCC=CCCCCCCCC\n",
      "Pred SMILES: O=C(NC(COP(=O)([O-])OCC[N+](C)(C)C)C(O)CCCCCCCCCCCCCCCCCCCCC)CCCCCC=CCCCCCCCC\n",
      "\n",
      "True SMILES: O=C(NC(COP(=O)([O-])OCC[N+](C)(C)C)C(O)CCCCCCCCCCCCCCCCCCCCC)CCCCCCCCCCCCCCC\n",
      "Pred SMILES: O=C(NC(COP(=O)([O-])OCC[N+](C)(C)C)C(O)CCCCCCCCCCCCCCCCCCCCC)CCCCCCCCCCCCCCC\n",
      "\n",
      "True SMILES: O=C(NC(COP(=O)([O-])OCC[N+](C)(C)C)C(O)C=CCCC=CCCC=CCCCCCCCCCC)CCCCCCCCCCCCCCCC=CCC=CCCCCCCCCCCC\n",
      "Pred SMILES: O=C(NC(COP(=O)([O-])OCC[N+](C)(C)C)C(O)C=CCCC=CCCC=CCCCCCCCCCC)CCCCCCCCCCCCCCCC=CCC=CCCCCCCCCCCC\n",
      "\n",
      "True SMILES: O=C(NC(COP(=O)([O-])OCC[N+](C)(C)C)C(O)C=CCCC=CCCC=CCCCCCCCCCC)CCCCCCCCCCCCCCCC=CCCCCCCCCCCCCCC\n",
      "Pred SMILES: O=C(NC(COP(=O)([O-])OCC[N+](C)(C)C)C(O)C=CCCC=CCCC=CCCCCCCCCCC)CCCCCCCCCCCCCCCC=CCCCCCCCCCCCCCC\n",
      "\n",
      "True SMILES: O=C(NC(COP(=O)([O-])OCC[N+](C)(C)C)C(O)C=CCCC=CCCC=CCCCCCCCCCC)CCCCCCCCCCCCCCCCCCCCCCCCCCCCCCC\n",
      "Pred SMILES: O=C(NC(COP(=O)([O-])OCC[N+](C)(C)C)C(O)C=CCCC=CCCC=CCCCCCCCCCC)CCCCCCCCCCCCCCCCCCCCCCCCCCCCCCC\n",
      "\n",
      "True SMILES: O=C(NC(COP(=O)([O-])OCC[N+](C)(C)C)C(O)C=CCCC=CCCC=CCCCCCCCCCC)CCCCCCCCCCCCCCC=CCCCCCCCCCCCCCC\n",
      "Pred SMILES: O=C(NC(COP(=O)([O-])OCC[N+](C)(C)C)C(O)C=CCCC=CCCC=CCCCCCCCCCC)CCCCCCCCCCCCCCC=CCCCCCCCCCCCCCC\n",
      "\n",
      "True SMILES: O=C(NC(COP(=O)([O-])OCC[N+](C)(C)C)C(O)C=CCCC=CCCC=CCCCCCCCCCC)CCCCCCCCCCCCCCCCCCCCCCCCCCCCCC\n",
      "Pred SMILES: O=C(NC(COP(=O)([O-])OCC[N+](C)(C)C)C(O)C=CCCC=CCCC=CCCCCCCCCCC)CCCCCCCCCCCCCCCCCCCCCCCCCCCCCC\n",
      "\n",
      "True SMILES: O=C(NC(COP(=O)([O-])OCC[N+](C)(C)C)C(O)C=CCCC=CCCC=CCCCCCCCCCC)CCCCCCCCCCCCCCCCCCC\n",
      "Pred SMILES: O=C(NC(COP(=O)([O-])OCC[N+](C)(C)C)C(O)C=CCCC=CCCC=CCCCCCCCCCC)CCCCCCCCCCCCCCCCCCC\n",
      "\n",
      "True SMILES: O=C(NC(COP(=O)([O-])OCC[N+](C)(C)C)C(O)C=CCCC=CCCC=CCCCCCCCCCC)CCCCCCCC=CCCCCCCCCC\n",
      "Pred SMILES: O=C(NC(COP(=O)([O-])OCC[N+](C)(C)C)C(O)C=CCCC=CCCC=CCCCCCCCCCC)CCCCCCCC=CCCCCCCCCC\n",
      "\n",
      "True SMILES: O=C(NC(COP(=O)([O-])OCC[N+](C)(C)C)C(O)C=CCCC=CCCC=CCCCCCCCCCC)CCCCCCCCCCCCCCCCCC\n",
      "Pred SMILES: O=C(NC(COP(=O)([O-])OCC[N+](C)(C)C)C(O)C=CCCC=CCCC=CCCCCCCCCCC)CCCCCCCCCCCCCCCCCC\n",
      "\n",
      "True SMILES: O=C(NC(COP(=O)([O-])OCC[N+](C)(C)C)C(O)C=CCCC=CCCC=CCCCCCCCCCC)CCCCCCCCC=CC=CCCCCC\n",
      "Pred SMILES: O=C(NC(COP(=O)([O-])OCC[N+](C)(C)C)C(O)C=CCCC=CCCC=CCCCCCCCCCC)CCCCCCCCC=CC=CCCCCC\n",
      "\n",
      "True SMILES: O=C(NC(COP(=O)([O-])OCC[N+](C)(C)C)C(O)C=CCCC=CCCC=CCCCCCCCCCC)CCCCCCCCCC=CCCCCCC\n",
      "Pred SMILES: O=C(NC(COP(=O)([O-])OCC[N+](C)(C)C)C(O)C=CCCC=CCCC=CCCCCCCCCCC)CCCCCCCCCC=CCCCCCC\n",
      "\n",
      "True SMILES: O=C(NC(COP(=O)([O-])OCC[N+](C)(C)C)C(O)C=CCCC=CCCCCCCCCCCCCCC)CCCCCCCCCCCCCCCCCC=CCC=CCCCCCCCCCCC\n",
      "Pred SMILES: O=C(NC(COP(=O)([O-])OCC[N+](C)(C)C)C(O)C=CCCC=CCCCCCCCCCCCCCC)CCCCCCCCCCCCCCCCCC=CCC=CCCCCCCCCCCCC\n",
      "\n",
      "True SMILES: O=C(NC(COP(=O)([O-])OCC[N+](C)(C)C)C(O)C=CCCC=CCCCCCCCCCCCCCC)CCCCCCCCCCCCCCCCCC=CCCCCCCCCCCCCCC\n",
      "Pred SMILES: O=C(NC(COP(=O)([O-])OCC[N+](C)(C)C)C(O)C=CCCC=CCCCCCCCCCCCCCC)CCCCCCCCCCCCCCCCCC=CCCCCCCCCCCCCCCC\n",
      "\n",
      "True SMILES: O=C(NC(COP(=O)([O-])OCC[N+](C)(C)C)C(O)C=CCCC=CCCCCCCCCCCCCCC)CCCCCCCCCCCCCCCCCCCCCCCCCCCCCCCCC\n",
      "Pred SMILES: O=C(NC(COP(=O)([O-])OCC[N+](C)(C)C)C(O)C=CCCC=CCCCCCCCCCCCCCC)CCCCCCCCCCCCCCCCCCCCCCCCCCCCCCCCC\n",
      "\n",
      "True SMILES: O=C(NC(COP(=O)([O-])OCC[N+](C)(C)C)C(O)C=CCCC=CCCCCCCCCCCCCCC)CCCCCCCCCCCCCCCCC=CCCCCCCCCCCCCCC\n",
      "Pred SMILES: O=C(NC(COP(=O)([O-])OCC[N+](C)(C)C)C(O)C=CCCC=CCCCCCCCCCCCCCC)CCCCCCCCCCCCCCCCC=CCCCCCCCCCCCCCC\n",
      "\n",
      "True SMILES: O=C(NC(COP(=O)([O-])OCC[N+](C)(C)C)C(O)C=CCCC=CCCCCCCCCCCCCCC)CCCCCCCCCCCCCCCCCCCCCCCCCCCCCCCC\n",
      "Pred SMILES: O=C(NC(COP(=O)([O-])OCC[N+](C)(C)C)C(O)C=CCCC=CCCCCCCCCCCCCCC)CCCCCCCCCCCCCCCCCCCCCCCCCCCCCCCC\n",
      "\n",
      "True SMILES: O=C(NC(COP(=O)([O-])OCC[N+](C)(C)C)C(O)C=CCCC=CCCCCCCCCCCCCCC)CCCCCCCCCCCCCCCCCCCCC\n",
      "Pred SMILES: O=C(NC(COP(=O)([O-])OCC[N+](C)(C)C)C(O)C=CCCC=CCCCCCCCCCCCCCC)CCCCCCCCCCCCCCCCCCCCC(\n",
      "\n",
      "True SMILES: O=C(NC(COP(=O)([O-])OCC[N+](C)(C)C)C(O)C=CCCC=CCCCCCCCCCCCCCC)CCCCCCCC=CCCCCCCCCCCC\n",
      "Pred SMILES: O=C(NC(COP(=O)([O-])OCC[N+](C)(C)C)C(O)C=CCCC=CCCCCCCCCCCCCCC)CCCCCCCC=CCCCCCCCCCCC(\n",
      "\n",
      "True SMILES: O=C(NC(COP(=O)([O-])OCC[N+](C)(C)C)C(O)C=CCCC=CCCCCCCCCCCCCCC)CCCCCCCCCCCCCCCCCCCC\n",
      "Pred SMILES: O=C(NC(COP(=O)([O-])OCC[N+](C)(C)C)C(O)C=CCCC=CCCCCCCCCCCCCCC)CCCCCCCCCCCCCCCCCCCC(\n",
      "\n",
      "True SMILES: O=C(NC(COP(=O)([O-])OCC[N+](C)(C)C)C(O)C=CCCC=CCCCCCCCCCCCCCC)CCCCCCCCCC=CCC=CCCCCC\n",
      "Pred SMILES: O=C(NC(COP(=O)([O-])OCC[N+](C)(C)C)C(O)C=CCCC=CCCCCCCCCCCCCCC)CCCCCCCCCC=CCC=CCCCCC(\n",
      "\n",
      "True SMILES: O=C(NC(COP(=O)([O-])OCC[N+](C)(C)C)C(O)C=CCCC=CCCCCCCCCCCCCCC)CCCCCCCCCC=CCCCCCCCC\n",
      "Pred SMILES: O=C(NC(COP(=O)([O-])OCC[N+](C)(C)C)C(O)C=CCCC=CCCCCCCCCCCCCCC)CCCCCCCCCC=CCCCCCCCC(\n",
      "\n",
      "True SMILES: O=C(NC(COP(=O)([O-])OCC[N+](C)(C)C)C(O)C=CCCCCCCCCCCCCCCCCCC)CCCCCCCCCCCCCCCCCCCC=CCC=CCCCCCCCCCCC\n",
      "Pred SMILES: O=C(NC(COP(=O)([O-])OCC[N+](C)(C)C)C(O)C=CCCCCCCCCCCCCCCCCCC)CCCCCCCCCCCCCCCCCCCC=CCC=CCCCCCCCCCCCC\n",
      "\n",
      "True SMILES: O=C(NC(COP(=O)([O-])OCC[N+](C)(C)C)C(O)C=CCCCCCCCCCCCCCCCCCC)CCCCCCCCCCCCCCCCCCCC=CCCCCCCCCCCCCCC\n",
      "Pred SMILES: O=C(NC(COP(=O)([O-])OCC[N+](C)(C)C)C(O)C=CCCCCCCCCCCCCCCCCCC)CCCCCCCCCCCCCCCCCCCC=CCCCCCCCCCCCCCC\n",
      "\n",
      "True SMILES: O=C(NC(COP(=O)([O-])OCC[N+](C)(C)C)C(O)C=CCCCCCCCCCCCCCCCCCC)CCCCCCCCCCCCCCCCCCCCCCCCCCCCCCCCCCC\n",
      "Pred SMILES: O=C(NC(COP(=O)([O-])OCC[N+](C)(C)C)C(O)C=CCCCCCCCCCCCCCCCCCC)CCCCCCCCCCCCCCCCCCCCCCCCCCCCCCCCCCCC\n",
      "\n",
      "True SMILES: O=C(NC(COP(=O)([O-])OCC[N+](C)(C)C)C(O)C=CCCCCCCCCCCCCCCCCCC)CCCCCCCCCCCCCCCCCCC=CCCCCCCCCCCCCCC\n",
      "Pred SMILES: O=C(NC(COP(=O)([O-])OCC[N+](C)(C)C)C(O)C=CCCCCCCCCCCCCCCCCCC)CCCCCCCCCCCCCCCCCCC=CCCCCCCCCCCCCCCC\n",
      "\n",
      "True SMILES: O=C(NC(COP(=O)([O-])OCC[N+](C)(C)C)C(O)C=CCCCCCCCCCCCCCCCCCC)CCCCCCCCCCCCCCCCCCCCCCCCCCCCCCCCCC\n",
      "Pred SMILES: O=C(NC(COP(=O)([O-])OCC[N+](C)(C)C)C(O)C=CCCCCCCCCCCCCCCCCCC)CCCCCCCCCCCCCCCCCCCCCCCCCCCCCCCCCC\n",
      "\n",
      "True SMILES: O=C(NC(COP(=O)([O-])OCC[N+](C)(C)C)C(O)C=CCCCCCCCCCCCCCCCCCC)CCCCCCCCCCCCCCCCCCCCCCC\n",
      "Pred SMILES: O=C(NC(COP(=O)([O-])OCC[N+](C)(C)C)C(O)C=CCCCCCCCCCCCCCCCCCC)CCCCCCCCCCCCCCCCCCCCCCC\n",
      "\n",
      "True SMILES: O=C(NC(COP(=O)([O-])OCC[N+](C)(C)C)C(O)C=CCCCCCCCCCCCCCCCCCC)CCCCCCCCCC=CCCCCCCCCCCC\n",
      "Pred SMILES: O=C(NC(COP(=O)([O-])OCC[N+](C)(C)C)C(O)C=CCCCCCCCCCCCCCCCCCC)CCCCCCCCCC=CCCCCCCCCCCC\n",
      "\n",
      "True SMILES: O=C(NC(COP(=O)([O-])OCC[N+](C)(C)C)C(O)C=CCCCCCCCCCCCCCCCCCC)CCCCCCCCCCCCCCCCCCCCCC\n",
      "Pred SMILES: O=C(NC(COP(=O)([O-])OCC[N+](C)(C)C)C(O)C=CCCCCCCCCCCCCCCCCCC)CCCCCCCCCCCCCCCCCCCCCC\n",
      "\n",
      "True SMILES: O=C(NC(COP(=O)([O-])OCC[N+](C)(C)C)C(O)C=CCCCCCCCCCCCCCCCCCC)CCCCCCCCCCCCC=CC=CCCCCC\n",
      "Pred SMILES: O=C(NC(COP(=O)([O-])OCC[N+](C)(C)C)C(O)C=CCCCCCCCCCCCCCCCCCC)CCCCCCCCCCCCC=CC=CCCCCC\n",
      "\n",
      "True SMILES: O=C(NC(COP(=O)([O-])OCC[N+](C)(C)C)C(O)C=CCCCCCCCCCCCCCCCCCC)CCCCCCCCCC=CCCCCCCCCCC\n",
      "Pred SMILES: O=C(NC(COP(=O)([O-])OCC[N+](C)(C)C)C(O)C=CCCCCCCCCCCCCCCCCCC)CCCCCCCCCC=CCCCCCCCCCC\n",
      "\n",
      "True SMILES: O=C(NC(COP(=O)([O-])OCC[N+](C)(C)C)C(O)CCCCCCCCCCCCCCCCCCCC)CCCCCCCCCCCCCCCCCCCC=CCCCCCCCCCCCCCCCCCC\n",
      "Pred SMILES: O=C(NC(COP(=O)([O-])OCC[N+](C)(C)C)C(O)CCCCCCCCCCCCCCCCCCCC)CCCCCCCCCCCCCCCCCCCC=CCCCCCCCCCCCCCCCCCC\n",
      "\n",
      "True SMILES: O=C(NC(COP(=O)([O-])OCC[N+](C)(C)C)C(O)CCCCCCCCCCCCCCCCCCCC)CCCCCCCCCCCCCCCCCCCCCCCCCCCCCCCCCCCCCCC\n",
      "Pred SMILES: O=C(NC(COP(=O)([O-])OCC[N+](C)(C)C)C(O)CCCCCCCCCCCCCCCCCCCC)CCCCCCCCCCCCCCCCCCCCCCCCCCCCCCCCCCCCCCC\n",
      "\n",
      "True SMILES: O=C(NC(COP(=O)([O-])OCC[N+](C)(C)C)C(O)CCCCCCCCCCCCCCCCCCCC)CCCCCCCCCCCCCCCCCCCC=CCC=CCCCCCCCCCCCCC\n",
      "Pred SMILES: O=C(NC(COP(=O)([O-])OCC[N+](C)(C)C)C(O)CCCCCCCCCCCCCCCCCCCC)CCCCCCCCCCCCCCCCCCCC=CCC=CCCCCCCCCCCCCC\n",
      "\n",
      "True SMILES: O=C(NC(COP(=O)([O-])OCC[N+](C)(C)C)C(O)CCCCCCCCCCCCCCCCCCCC)CCCCCCCCCCCCCCCCCCCC=CCCCCCCCCCCCCCCCC\n",
      "Pred SMILES: O=C(NC(COP(=O)([O-])OCC[N+](C)(C)C)C(O)CCCCCCCCCCCCCCCCCCCC)CCCCCCCCCCCCCCCCCCCC=CCCCCCCCCCCCCCCCC\n",
      "\n",
      "True SMILES: O=C(NC(COP(=O)([O-])OCC[N+](C)(C)C)C(O)CCCCCCCCCCCCCCCCCCCC)CCCCCCCCCCCCCCCCCCCCCCCCCCCCCCCCCCCCC\n",
      "Pred SMILES: O=C(NC(COP(=O)([O-])OCC[N+](C)(C)C)C(O)CCCCCCCCCCCCCCCCCCCC)CCCCCCCCCCCCCCCCCCCCCCCCCCCCCCCCCCCCC\n",
      "\n",
      "True SMILES: O=C(NC(COP(=O)([O-])OCC[N+](C)(C)C)C(O)CCCCCCCCCCCCCCCCCCCC)CCCCCCCCCCCCCCCCCCCCCCCCC\n",
      "Pred SMILES: O=C(NC(COP(=O)([O-])OCC[N+](C)(C)C)C(O)CCCCCCCCCCCCCCCCCCCC)CCCCCCCCCCCCCCCCCCCCCCCCCC\n",
      "\n",
      "True SMILES: O=C(NC(COP(=O)([O-])OCC[N+](C)(C)C)C(O)CCCCCCCCCCCCCCCCCCCC)CCCCCCCCCC=CCCCCCCCCCCCCC\n",
      "Pred SMILES: O=C(NC(COP(=O)([O-])OCC[N+](C)(C)C)C(O)CCCCCCCCCCCCCCCCCCCC)CCCCCCCCCC=CCCCCCCCCCCCCCC\n",
      "\n",
      "True SMILES: O=C(NC(COP(=O)([O-])OCC[N+](C)(C)C)C(O)CCCCCCCCCCCCCCCCCCCC)CCCCCCCCCCCCCCCCCCCCCCCC\n",
      "Pred SMILES: O=C(NC(COP(=O)([O-])OCC[N+](C)(C)C)C(O)CCCCCCCCCCCCCCCCCCCC)CCCCCCCCCCCCCCCCCCCCCCCCC\n",
      "\n",
      "True SMILES: O=C(NC(COP(=O)([O-])OCC[N+](C)(C)C)C(O)CCCCCCCCCCCCCCCCCCCC)CCCCCCCCCCCCCCCCC=CCC=CCC\n",
      "Pred SMILES: O=C(NC(COP(=O)([O-])OCC[N+](C)(C)C)C(O)CCCCCCCCCCCCCCCCCCCC)CCCCCCCCCCCCCCCCC=CCC=CCCC\n",
      "\n",
      "True SMILES: O=C(NC(COP(=O)([O-])OCC[N+](C)(C)C)C(O)CCCCCCCCCCCCCCCCCCCC)CCCCCCCCCC=CCCCCCCCCCCCC\n",
      "Pred SMILES: O=C(NC(COP(=O)([O-])OCC[N+](C)(C)C)C(O)CCCCCCCCCCCCCCCCCCCC)CCCCCCCCCC=CCCCCCCCCCCCCC\n",
      "\n",
      "True SMILES: O=C(NC(COP(=O)([O-])OCC[N+](C)(C)C)C(O)CCCCCCCCCCCCCCCCCCCC)CCCCCCCCCCC\n",
      "Pred SMILES: O=C(NC(COP(=O)([O-])OCC[N+](C)(C)C)C(O)CCCCCCCCCCCCCCCCCCCC)CCCCCCCCCCC)\n",
      "\n",
      "True SMILES: O=C(NC(COP(=O)([O-])OCC[N+](C)(C)C)C(O)C=CCCC=CCCC=CCCCCCCCCC)CCCCCCCCCCCCCCCCCCCC=CCC=CCCCCCCCCCCCCCCCCC\n",
      "Pred SMILES: O=C(NC(COP(=O)([O-])OCC[N+](C)(C)C)C(O)C=CCCC=CCCC=CCCCCCCCCC)CCCCCCCCCCCCCCCCCCCC=CCC=CCCCCCCCCCCCCCCCCC((\n",
      "\n",
      "True SMILES: O=C(NC(COP(=O)([O-])OCC[N+](C)(C)C)C(O)C=CCCC=CCCC=CCCCCCCCCC)CCCCCCCCCCCCCCCCCCCC=CCCCCCCCCCCCCCCCCCCCC\n",
      "Pred SMILES: O=C(NC(COP(=O)([O-])OCC[N+](C)(C)C)C(O)C=CCCC=CCCC=CCCCCCCCCC)CCCCCCCCCCCCCCCCCCCC=CCCCCCCCCCCCCCCCCCCCC(\n",
      "\n",
      "True SMILES: CCCCCCCCCCCCCCCCCCCCCCCCCCCCCCCCCCCCCCCCCC(=O)NC(COP([O-])(=O)OCC[N+](C)(C)C)C(O)\\C=C\\CC\\C=C\\CC\\C=C\\CCCCCCCCC\n",
      "Pred SMILES: CCCCCCCCCCCCCCCCCCCCCCCCCCCCCCCCCCCCCCCCCC(=O)NC(COP([O-])(=O)OCC[N+](C)(C)C)C(O)\\C=C\\CC\\C=C\\CC\\C=C\\CCCCCCCCC\n",
      "\n",
      "True SMILES: O=C(NC(COP(=O)([O-])OCC[N+](C)(C)C)C(O)C=CCCC=CCCC=CCCCCCCCCC)CCCCCCCCCCCCCCCCCCCC=CCC=CCCCCCCCCCCCCCCC\n",
      "Pred SMILES: O=C(NC(COP(=O)([O-])OCC[N+](C)(C)C)C(O)C=CCCC=CCCC=CCCCCCCCCC)CCCCCCCCCCCCCCCCCCCC=CCC=CCCCCCCCCCCCCCCC((\n",
      "\n",
      "True SMILES: O=C(NC(COP(=O)([O-])OCC[N+](C)(C)C)C(O)C=CCCC=CCCC=CCCCCCCCCC)CCCCCCCCCCCCCCCCCCCCCCCCCCC\n",
      "Pred SMILES: O=C(NC(COP(=O)([O-])OCC[N+](C)(C)C)C(O)C=CCCC=CCCC=CCCCCCCCCC)CCCCCCCCCCCCCCCCCCCCCCCCCCCC\n",
      "\n",
      "True SMILES: O=C(NC(COP(=O)([O-])OCC[N+](C)(C)C)C(O)C=CCCC=CCCC=CCCCCCCCCC)CCCCCCCCCCC=CCCCCCCCCCCCCCC\n",
      "Pred SMILES: O=C(NC(COP(=O)([O-])OCC[N+](C)(C)C)C(O)C=CCCC=CCCC=CCCCCCCCCC)CCCCCCCCCCC=CCCCCCCCCCCCCCCC\n",
      "\n",
      "True SMILES: O=C(NC(COP(=O)([O-])OCC[N+](C)(C)C)C(O)C=CCCC=CCCC=CCCCCCCCCC)CCCCCCCCCCCCCCCCCCCCCCCCCC\n",
      "Pred SMILES: O=C(NC(COP(=O)([O-])OCC[N+](C)(C)C)C(O)C=CCCC=CCCC=CCCCCCCCCC)CCCCCCCCCCCCCCCCCCCCCCCCCC\n",
      "\n",
      "True SMILES: O=C(NC(COP(=O)([O-])OCC[N+](C)(C)C)C(O)C=CCCC=CCCC=CCCCCCCCCC)CCCCCCCCCC=CCC=CCCCCCCCCCCC\n",
      "Pred SMILES: O=C(NC(COP(=O)([O-])OCC[N+](C)(C)C)C(O)C=CCCC=CCCC=CCCCCCCCCC)CCCCCCCCCC=CCC=CCCCCCCCCCCCC\n",
      "\n",
      "True SMILES: O=C(NC(COP(=O)([O-])OCC[N+](C)(C)C)C(O)C=CCCC=CCCC=CCCCCCCCCC)CCCCCCCCCC=CCCCCCCCCCCCCCC\n",
      "Pred SMILES: O=C(NC(COP(=O)([O-])OCC[N+](C)(C)C)C(O)C=CCCC=CCCC=CCCCCCCCCC)CCCCCCCCCC=CCCCCCCCCCCCCCC\n",
      "\n",
      "True SMILES: O=C(NC(COP(=O)([O-])OCC[N+](C)(C)C)C(O)C=CCCC=CCCC=CCCCCCCCCC)CCCCCCCC=CCCCC\n",
      "Pred SMILES: O=C(NC(COP(=O)([O-])OCC[N+](C)(C)C)C(O)C=CCCC=CCCC=CCCCCCCCCC)CCCCCCCC=CCCCC(\n",
      "\n",
      "True SMILES: O=C(NC(COP(=O)([O-])OCC[N+](C)(C)C)C(O)C=CCCC=CCCC=CCCCCCCCCC)CCCCCCCCCCCCC\n",
      "Pred SMILES: O=C(NC(COP(=O)([O-])OCC[N+](C)(C)C)C(O)C=CCCC=CCCC=CCCCCCCCCC)CCCCCCCCCCCCC(\n",
      "\n",
      "True SMILES: O=C(NC(COP(=O)([O-])OCC[N+](C)(C)C)C(O)C=CCCC=CCCC=CCCCCCCCCC)CCCCCCC=CCCCC\n",
      "Pred SMILES: O=C(NC(COP(=O)([O-])OCC[N+](C)(C)C)C(O)C=CCCC=CCCC=CCCCCCCCCC)CCCCCCC=CCCCC(\n",
      "\n",
      "True SMILES: O=C(NC(COP(=O)([O-])OCC[N+](C)(C)C)C(O)C=CCCC=CCCC=CCCCCCCCCC)CCCCCCCCCCCC\n",
      "Pred SMILES: O=C(NC(COP(=O)([O-])OCC[N+](C)(C)C)C(O)C=CCCC=CCCC=CCCCCCCCCC)CCCCCCCCCCCC(\n",
      "\n",
      "True SMILES: CCCCCCCCC\\C=C\\CC\\C=C\\CC\\C=C\\C(O)C(COP([O-])(=O)OCC[N+](C)(C)C)NC(=O)CCC\\C=C/CCCCCC\n",
      "Pred SMILES: CCCCCCCCC\\C=C\\CC\\C=C\\CC\\C=C\\C(O)C(COP([O-])(=O)OCC[N+](C)(C)C)NC(=O)CCC\\C=C/CCCCCC\n",
      "\n",
      "True SMILES: O=C(NC(COP(=O)([O-])OCC[N+](C)(C)C)C(O)C=CCCC=CCCCCCCCCCCCCC)CCCCCCCCCCCCCCCCCCCCCCCCCCCCC\n",
      "Pred SMILES: O=C(NC(COP(=O)([O-])OCC[N+](C)(C)C)C(O)C=CCCC=CCCCCCCCCCCCCC)CCCCCCCCCCCCCCCCCCCCCCCCCCCCCC\n",
      "\n",
      "True SMILES: O=C(NC(COP(=O)([O-])OCC[N+](C)(C)C)C(O)C=CCCC=CCCCCCCCCCCCCC)CCCCCCCCCCCCC=CCCCCCCCCCCCCCC\n",
      "Pred SMILES: O=C(NC(COP(=O)([O-])OCC[N+](C)(C)C)C(O)C=CCCC=CCCCCCCCCCCCCC)CCCCCCCCCCCCC=CCCCCCCCCCCCCCCC\n",
      "\n",
      "True SMILES: O=C(NC(COP(=O)([O-])OCC[N+](C)(C)C)C(O)C=CCCC=CCCCCCCCCCCCCC)CCCCCCCCCCCCCCCCCCCCCCCCCCCC\n",
      "Pred SMILES: O=C(NC(COP(=O)([O-])OCC[N+](C)(C)C)C(O)C=CCCC=CCCCCCCCCCCCCC)CCCCCCCCCCCCCCCCCCCCCCCCCCCC\n",
      "\n",
      "True SMILES: O=C(NC(COP(=O)([O-])OCC[N+](C)(C)C)C(O)C=CCCC=CCCCCCCCCCCCCC)CCCCCCCCCCCC=CCC=CCCCCCCCCCCC\n",
      "Pred SMILES: O=C(NC(COP(=O)([O-])OCC[N+](C)(C)C)C(O)C=CCCC=CCCCCCCCCCCCCC)CCCCCCCCCCCC=CCC=CCCCCCCCCCCCC\n",
      "\n",
      "True SMILES: O=C(NC(COP(=O)([O-])OCC[N+](C)(C)C)C(O)C=CCCC=CCCCCCCCCCCCCC)CCCCCCCCCCCC=CCCCCCCCCCCCCCC\n",
      "Pred SMILES: O=C(NC(COP(=O)([O-])OCC[N+](C)(C)C)C(O)C=CCCC=CCCCCCCCCCCCCC)CCCCCCCCCCCC=CCCCCCCCCCCCCCC\n",
      "\n",
      "True SMILES: O=C(NC(COP(=O)([O-])OCC[N+](C)(C)C)C(O)C=CCCC=CCCCCCCCCCCCCC)CCC=CCC=CCCCCCCCC\n",
      "Pred SMILES: O=C(NC(COP(=O)([O-])OCC[N+](C)(C)C)C(O)C=CCCC=CCCCCCCCCCCCCC)CCC=CCC=CCCCCCCCC\n",
      "\n",
      "True SMILES: O=C(NC(COP(=O)([O-])OCC[N+](C)(C)C)C(O)C=CCCC=CCCCCCCCCCCCCC)CCCCCC=CCCCCCCCC\n",
      "Pred SMILES: O=C(NC(COP(=O)([O-])OCC[N+](C)(C)C)C(O)C=CCCC=CCCCCCCCCCCCCC)CCCCCC=CCCCCCCCC\n",
      "\n",
      "True SMILES: O=C(NC(COP(=O)([O-])OCC[N+](C)(C)C)C(O)C=CCCC=CCCCCCCCCCCCCC)CCCCCCCCCCCCCCC\n",
      "Pred SMILES: O=C(NC(COP(=O)([O-])OCC[N+](C)(C)C)C(O)C=CCCC=CCCCCCCCCCCCCC)CCCCCCCCCCCCCCC\n",
      "\n",
      "True SMILES: O=C(NC(COP(=O)([O-])OCC[N+](C)(C)C)C(O)C=CCCC=CCCCCCCCCCCCCC)CCCCCCCC=CCCCCC\n",
      "Pred SMILES: O=C(NC(COP(=O)([O-])OCC[N+](C)(C)C)C(O)C=CCCC=CCCCCCCCCCCCCC)CCCCCCCC=CCCCCC\n",
      "\n",
      "True SMILES: O=C(NC(COP(=O)([O-])OCC[N+](C)(C)C)C(O)C=CCCC=CCCCCCCCCCCCCC)CCCCCCCCCCCCCC\n",
      "Pred SMILES: O=C(NC(COP(=O)([O-])OCC[N+](C)(C)C)C(O)C=CCCC=CCCCCCCCCCCCCC)CCCCCCCCCCCCCC\n",
      "\n",
      "True SMILES: O=C(NC(COP(=O)([O-])OCC[N+](C)(C)C)C(O)C=CCCCCCCCCCCCCCCCCC)CCCCCCCCCCCCCCCCCCCCCCCCCCCCCCC\n",
      "Pred SMILES: O=C(NC(COP(=O)([O-])OCC[N+](C)(C)C)C(O)C=CCCCCCCCCCCCCCCCCC)CCCCCCCCCCCCCCCCCCCCCCCCCCCCCCCC\n",
      "\n",
      "True SMILES: O=C(NC(COP(=O)([O-])OCC[N+](C)(C)C)C(O)C=CCCCCCCCCCCCCCCCCC)CCCCCCCCCCCCCCC=CCCCCCCCCCCCCCC\n",
      "Pred SMILES: O=C(NC(COP(=O)([O-])OCC[N+](C)(C)C)C(O)C=CCCCCCCCCCCCCCCCCC)CCCCCCCCCCCCCCC=CCCCCCCCCCCCCCCC\n",
      "\n",
      "True SMILES: CCCCCCCCCCCCCCCCCCCCCCCCCCCCCCC(=O)NC(COP([O-])(=O)OCC[N+](C)(C)C)C(O)\\C=C\\CCCCCCCCCCCCCCCCC\n",
      "Pred SMILES: CCCCCCCCCCCCCCCCCCCCCCCCCCCCCCC(=O)NC(COP([O-])(=O)OCC[N+](C)(C)C)C(O)\\C=C\\CCCCCCCCCCCCCCCCCC\n",
      "\n",
      "True SMILES: O=C(NC(COP(=O)([O-])OCC[N+](C)(C)C)C(O)C=CCCCCCCCCCCCCCCCCC)CCCCCCCCCCCCCC=CCC=CCCCCCCCCCCC\n",
      "Pred SMILES: O=C(NC(COP(=O)([O-])OCC[N+](C)(C)C)C(O)C=CCCCCCCCCCCCCCCCCC)CCCCCCCCCCCCCC=CCC=CCCCCCCCCCCCC\n",
      "\n",
      "True SMILES: O=C(NC(COP(=O)([O-])OCC[N+](C)(C)C)C(O)C=CCCCCCCCCCCCCCCCCC)CCCCCCCCCCCCCC=CCCCCCCCCCCCCCC\n",
      "Pred SMILES: O=C(NC(COP(=O)([O-])OCC[N+](C)(C)C)C(O)C=CCCCCCCCCCCCCCCCCC)CCCCCCCCCCCCCC=CCCCCCCCCCCCCCCC\n",
      "\n",
      "True SMILES: O=C(NC(COP(=O)([O-])OCC[N+](C)(C)C)C(O)C=CCCCCCCCCCCCCCCCCC)CCCCCCCCCCCCCCCCCC\n",
      "Pred SMILES: O=C(NC(COP(=O)([O-])OCC[N+](C)(C)C)C(O)C=CCCCCCCCCCCCCCCCCC)CCCCCCCCCCCCCCCCCC(\n",
      "\n",
      "True SMILES: O=C(NC(COP(=O)([O-])OCC[N+](C)(C)C)C(O)C=CCCCCCCCCCCCCCCCCC)CCCCCCCCC=CC=CCCCCC\n",
      "Pred SMILES: O=C(NC(COP(=O)([O-])OCC[N+](C)(C)C)C(O)C=CCCCCCCCCCCCCCCCCC)CCCCCCCCC=CC=CCCCCC(\n",
      "\n",
      "True SMILES: O=C(NC(COP(=O)([O-])OCC[N+](C)(C)C)C(O)C=CCCCCCCCCCCCCCCCCC)CCCCCCCCCC=CCCCCCC\n",
      "Pred SMILES: O=C(NC(COP(=O)([O-])OCC[N+](C)(C)C)C(O)C=CCCCCCCCCCCCCCCCCC)CCCCCCCCCC=CCCCCCC(\n",
      "\n",
      "True SMILES: O=C(NC(COP(=O)([O-])OCC[N+](C)(C)C)C(O)C=CCCCCCCCCCCCCCCCCC)CCCCCCCCCCCCCCCCC\n",
      "Pred SMILES: O=C(NC(COP(=O)([O-])OCC[N+](C)(C)C)C(O)C=CCCCCCCCCCCCCCCCCC)CCCCCCCCCCCCCCCCC(\n",
      "\n",
      "True SMILES: O=C(NC(COP(=O)([O-])OCC[N+](C)(C)C)C(O)C=CCCCCCCCCCCCCCCCCC)CCCCCCCCCCCCCCCC\n",
      "Pred SMILES: O=C(NC(COP(=O)([O-])OCC[N+](C)(C)C)C(O)C=CCCCCCCCCCCCCCCCCC)CCCCCCCCCCCCCCCC(\n",
      "\n",
      "True SMILES: O=C(NC(COP(=O)([O-])OCC[N+](C)(C)C)C(O)CCCCCCCCCCCCCCCCCCC)CCCCCCCCCCCCCCCCCCCCCCCCCCCCCCCCC\n",
      "Pred SMILES: O=C(NC(COP(=O)([O-])OCC[N+](C)(C)C)C(O)CCCCCCCCCCCCCCCCCCC)CCCCCCCCCCCCCCCCCCCCCCCCCCCCCCCCCC\n",
      "\n",
      "True SMILES: O=C(NC(COP(=O)([O-])OCC[N+](C)(C)C)C(O)CCCCCCCCCCCCCCCCCCC)CCCCCCCCCCCCCCCCC=CCCCCCCCCCCCCCC\n",
      "Pred SMILES: O=C(NC(COP(=O)([O-])OCC[N+](C)(C)C)C(O)CCCCCCCCCCCCCCCCCCC)CCCCCCCCCCCCCCCCC=CCCCCCCCCCCCCCCC\n",
      "\n",
      "True SMILES: O=C(NC(COP(=O)([O-])OCC[N+](C)(C)C)C(O)CCCCCCCCCCCCCCCCCCC)CCCCCCCCCCCCCCCCCCCCCCCCCCCCCCCC\n",
      "Pred SMILES: O=C(NC(COP(=O)([O-])OCC[N+](C)(C)C)C(O)CCCCCCCCCCCCCCCCCCC)CCCCCCCCCCCCCCCCCCCCCCCCCCCCCCCCC\n",
      "\n",
      "True SMILES: O=C(NC(COP(=O)([O-])OCC[N+](C)(C)C)C(O)CCCCCCCCCCCCCCCCCCC)CCCCCCCCCCCCCCCC=CCC=CCCCCCCCCCCC\n",
      "Pred SMILES: O=C(NC(COP(=O)([O-])OCC[N+](C)(C)C)C(O)CCCCCCCCCCCCCCCCCCC)CCCCCCCCCCCCCCCC=CCC=CCCCCCCCCCCCC\n",
      "\n",
      "True SMILES: O=C(NC(COP(=O)([O-])OCC[N+](C)(C)C)C(O)CCCCCCCCCCCCCCCCCCC)CCCCCCCCCCCCCCCC=CCCCCCCCCCCCCCC\n",
      "Pred SMILES: O=C(NC(COP(=O)([O-])OCC[N+](C)(C)C)C(O)CCCCCCCCCCCCCCCCCCC)CCCCCCCCCCCCCCCC=CCCCCCCCCCCCCCCC\n",
      "\n",
      "True SMILES: O=C(NC(COP(=O)([O-])OCC[N+](C)(C)C)C(O)CCCCCCCCCCCCCCCCCCC)CCCCCCCCCCCCCCCCCCCC\n",
      "Pred SMILES: O=C(NC(COP(=O)([O-])OCC[N+](C)(C)C)C(O)CCCCCCCCCCCCCCCCCCC)CCCCCCCCCCCCCCCCCCCC\n",
      "\n",
      "True SMILES: O=C(NC(COP(=O)([O-])OCC[N+](C)(C)C)C(O)CCCCCCCCCCCCCCCCCCC)CCCCCCCCCC=CCC=CCCCCC\n",
      "Pred SMILES: O=C(NC(COP(=O)([O-])OCC[N+](C)(C)C)C(O)CCCCCCCCCCCCCCCCCCC)CCCCCCCCCC=CCC=CCCCCC(\n",
      "\n",
      "True SMILES: O=C(NC(COP(=O)([O-])OCC[N+](C)(C)C)C(O)CCCCCCCCCCCCCCCCCCC)CCCCCCCCCC=CCCCCCCCC\n",
      "Pred SMILES: O=C(NC(COP(=O)([O-])OCC[N+](C)(C)C)C(O)CCCCCCCCCCCCCCCCCCC)CCCCCCCCCC=CCCCCCCCC\n",
      "\n",
      "True SMILES: O=C(NC(COP(=O)([O-])OCC[N+](C)(C)C)C(O)CCCCCCCCCCCCCCCCCCC)CCCCCCCCCCCCCCCCCCC\n",
      "Pred SMILES: O=C(NC(COP(=O)([O-])OCC[N+](C)(C)C)C(O)CCCCCCCCCCCCCCCCCCC)CCCCCCCCCCCCCCCCCCC\n",
      "\n",
      "True SMILES: O=C(NC(COP(=O)([O-])OCC[N+](C)(C)C)C(O)CCCCCCCCCCCCCCCCCCC)CCCCCCCC=CCCCCCCCCC\n",
      "Pred SMILES: O=C(NC(COP(=O)([O-])OCC[N+](C)(C)C)C(O)CCCCCCCCCCCCCCCCCCC)CCCCCCCC=CCCCCCCCCC\n",
      "\n",
      "True SMILES: O=C(NC(COP(=O)([O-])OCC[N+](C)(C)C)C(O)C=CCCC=CCCC=CCCCCCCCC)CCCCCCCCCCCCCCCCCCCCCCCCCCCCCCCCCCC\n",
      "Pred SMILES: O=C(NC(COP(=O)([O-])OCC[N+](C)(C)C)C(O)C=CCCC=CCCC=CCCCCCCCC)CCCCCCCCCCCCCCCCCCCCCCCCCCCCCCCCCCCC\n",
      "\n",
      "True SMILES: O=C(NC(COP(=O)([O-])OCC[N+](C)(C)C)C(O)C=CCCC=CCCC=CCCCCCCCC)CCCCCCCCCCCCCCCCCCC=CCCCCCCCCCCCCCC\n",
      "Pred SMILES: O=C(NC(COP(=O)([O-])OCC[N+](C)(C)C)C(O)C=CCCC=CCCC=CCCCCCCCC)CCCCCCCCCCCCCCCCCCC=CCCCCCCCCCCCCCCC\n",
      "\n",
      "True SMILES: O=C(NC(COP(=O)([O-])OCC[N+](C)(C)C)C(O)C=CCCC=CCCC=CCCCCCCCC)CCCCCCCCCCCCCCCCCCCCCCCCCCCCCCCCCC\n",
      "Pred SMILES: O=C(NC(COP(=O)([O-])OCC[N+](C)(C)C)C(O)C=CCCC=CCCC=CCCCCCCCC)CCCCCCCCCCCCCCCCCCCCCCCCCCCCCCCCCCC\n",
      "\n",
      "True SMILES: O=C(NC(COP(=O)([O-])OCC[N+](C)(C)C)C(O)C=CCCC=CCCC=CCCCCCCCC)CCCCCCCCCCCCCCCCCC=CCC=CCCCCCCCCCCC\n",
      "Pred SMILES: O=C(NC(COP(=O)([O-])OCC[N+](C)(C)C)C(O)C=CCCC=CCCC=CCCCCCCCC)CCCCCCCCCCCCCCCCCC=CCC=CCCCCCCCCCCCC\n",
      "\n",
      "True SMILES: O=C(NC(COP(=O)([O-])OCC[N+](C)(C)C)C(O)C=CCCC=CCCC=CCCCCCCCC)CCCCCCCCCCCCCCCCCC=CCCCCCCCCCCCCCC\n",
      "Pred SMILES: O=C(NC(COP(=O)([O-])OCC[N+](C)(C)C)C(O)C=CCCC=CCCC=CCCCCCCCC)CCCCCCCCCCCCCCCCCC=CCCCCCCCCCCCCCCC\n",
      "\n",
      "True SMILES: O=C(NC(COP(=O)([O-])OCC[N+](C)(C)C)C(O)C=CCCC=CCCC=CCCCCCCCC)CCCCCCCCCCCCCCCCCCCCCC\n",
      "Pred SMILES: O=C(NC(COP(=O)([O-])OCC[N+](C)(C)C)C(O)C=CCCC=CCCC=CCCCCCCCC)CCCCCCCCCCCCCCCCCCCCCC\n",
      "\n",
      "True SMILES: O=C(NC(COP(=O)([O-])OCC[N+](C)(C)C)C(O)C=CCCC=CCCC=CCCCCCCCC)CCCCCCCCCCCCC=CC=CCCCCC\n",
      "Pred SMILES: O=C(NC(COP(=O)([O-])OCC[N+](C)(C)C)C(O)C=CCCC=CCCC=CCCCCCCCC)CCCCCCCCCCCCC=CC=CCCCCC\n",
      "\n",
      "True SMILES: O=C(NC(COP(=O)([O-])OCC[N+](C)(C)C)C(O)C=CCCC=CCCC=CCCCCCCCC)CCCCCCCCCC=CCCCCCCCCCC\n",
      "Pred SMILES: O=C(NC(COP(=O)([O-])OCC[N+](C)(C)C)C(O)C=CCCC=CCCC=CCCCCCCCC)CCCCCCCCCC=CCCCCCCCCCC\n",
      "\n",
      "True SMILES: O=C(NC(COP(=O)([O-])OCC[N+](C)(C)C)C(O)C=CCCC=CCCC=CCCCCCCCC)CCCCCCCCCCCCCCCCCCCCC\n",
      "Pred SMILES: O=C(NC(COP(=O)([O-])OCC[N+](C)(C)C)C(O)C=CCCC=CCCC=CCCCCCCCC)CCCCCCCCCCCCCCCCCCCCC\n",
      "\n",
      "True SMILES: O=C(NC(COP(=O)([O-])OCC[N+](C)(C)C)C(O)C=CCCC=CCCC=CCCCCCCCC)CCCCCCCC=CCCCCCCCCCCC\n",
      "Pred SMILES: O=C(NC(COP(=O)([O-])OCC[N+](C)(C)C)C(O)C=CCCC=CCCC=CCCCCCCCC)CCCCCCCC=CCCCCCCCCCCC\n",
      "\n",
      "True SMILES: O=C(NC(COP(=O)([O-])OCC[N+](C)(C)C)C(O)C=CCCC=CCCCCCCCCCCCC)CCCCCCCCCCCCCCCCCCCC=CCC=CCCCCCCCCCCCCC\n",
      "Pred SMILES: O=C(NC(COP(=O)([O-])OCC[N+](C)(C)C)C(O)C=CCCC=CCCCCCCCCCCCC)CCCCCCCCCCCCCCCCCCCC=CCC=CCCCCCCCCCCCCC\n",
      "\n",
      "True SMILES: O=C(NC(COP(=O)([O-])OCC[N+](C)(C)C)C(O)C=CCCC=CCCCCCCCCCCCC)CCCCCCCCCCCCCCCCCCCC=CCCCCCCCCCCCCCCCC\n",
      "Pred SMILES: O=C(NC(COP(=O)([O-])OCC[N+](C)(C)C)C(O)C=CCCC=CCCCCCCCCCCCC)CCCCCCCCCCCCCCCCCCCC=CCCCCCCCCCCCCCCCC\n",
      "\n",
      "True SMILES: O=C(NC(COP(=O)([O-])OCC[N+](C)(C)C)C(O)C=CCCC=CCCCCCCCCCCCC)CCCCCCCCCCCCCCCCCCCCCCCCCCCCCCCCCCCCC\n",
      "Pred SMILES: O=C(NC(COP(=O)([O-])OCC[N+](C)(C)C)C(O)C=CCCC=CCCCCCCCCCCCC)CCCCCCCCCCCCCCCCCCCCCCCCCCCCCCCCCCCCC\n",
      "\n",
      "True SMILES: O=C(NC(COP(=O)([O-])OCC[N+](C)(C)C)C(O)C=CCCC=CCCCCCCCCCCCC)CCCCCCCCCCCCCCCCCCCC=CCC=CCCCCCCCCCCC\n",
      "Pred SMILES: O=C(NC(COP(=O)([O-])OCC[N+](C)(C)C)C(O)C=CCCC=CCCCCCCCCCCCC)CCCCCCCCCCCCCCCCCCCC=CCC=CCCCCCCCCCCC\n",
      "\n",
      "True SMILES: O=C(NC(COP(=O)([O-])OCC[N+](C)(C)C)C(O)C=CCCC=CCCCCCCCCCCCC)CCCCCCCCCCCCCCCCCCCC=CCCCCCCCCCCCCCC\n",
      "Pred SMILES: O=C(NC(COP(=O)([O-])OCC[N+](C)(C)C)C(O)C=CCCC=CCCCCCCCCCCCC)CCCCCCCCCCCCCCCCCCCC=CCCCCCCCCCCCCCC\n",
      "\n",
      "True SMILES: O=C(NC(COP(=O)([O-])OCC[N+](C)(C)C)C(O)C=CCCC=CCCCCCCCCCCCC)CCCCCCCCCCCCCCCCCCCCCCCC\n",
      "Pred SMILES: O=C(NC(COP(=O)([O-])OCC[N+](C)(C)C)C(O)C=CCCC=CCCCCCCCCCCCC)CCCCCCCCCCCCCCCCCCCCCCCC\n",
      "\n",
      "True SMILES: O=C(NC(COP(=O)([O-])OCC[N+](C)(C)C)C(O)C=CCCC=CCCCCCCCCCCCC)CCCCCCCCCCCCCCCCC=CCC=CCC\n",
      "Pred SMILES: O=C(NC(COP(=O)([O-])OCC[N+](C)(C)C)C(O)C=CCCC=CCCCCCCCCCCCC)CCCCCCCCCCCCCCCCC=CCC=CCC\n",
      "\n",
      "True SMILES: O=C(NC(COP(=O)([O-])OCC[N+](C)(C)C)C(O)C=CCCC=CCCCCCCCCCCCC)CCCCCCCCCC=CCCCCCCCCCCCC\n",
      "Pred SMILES: O=C(NC(COP(=O)([O-])OCC[N+](C)(C)C)C(O)C=CCCC=CCCCCCCCCCCCC)CCCCCCCCCC=CCCCCCCCCCCCC\n",
      "\n",
      "True SMILES: O=C(NC(COP(=O)([O-])OCC[N+](C)(C)C)C(O)C=CCCC=CCCCCCCCCCCCC)CCCCCCCCCCCCCCCCCCCCCCC\n",
      "Pred SMILES: O=C(NC(COP(=O)([O-])OCC[N+](C)(C)C)C(O)C=CCCC=CCCCCCCCCCCCC)CCCCCCCCCCCCCCCCCCCCCCC\n",
      "\n",
      "True SMILES: O=C(NC(COP(=O)([O-])OCC[N+](C)(C)C)C(O)C=CCCC=CCCCCCCCCCCCC)CCCCCCCCCC=CCCCCCCCCCCC\n",
      "Pred SMILES: O=C(NC(COP(=O)([O-])OCC[N+](C)(C)C)C(O)C=CCCC=CCCCCCCCCCCCC)CCCCCCCCCC=CCCCCCCCCCCC\n",
      "\n",
      "True SMILES: O=C(NC(COP(=O)([O-])OCC[N+](C)(C)C)C(O)C=CCCCCCCCCCCCCCCCC)CCCCCCCCCCCCCCCCCCCC=CCCCCCCCCCCCCCCCCCCCC\n",
      "Pred SMILES: O=C(NC(COP(=O)([O-])OCC[N+](C)(C)C)C(O)C=CCCCCCCCCCCCCCCCC)CCCCCCCCCCCCCCCCCCCC=CCCCCCCCCCCCCCCCCCCCC\n",
      "\n",
      "True SMILES: O=C(NC(COP(=O)([O-])OCC[N+](C)(C)C)C(O)C=CCCCCCCCCCCCCCCCC)CCCCCCCCCCCCCCCCCCCCCCCCCCCCCCCCCCCCCCCCC\n",
      "Pred SMILES: O=C(NC(COP(=O)([O-])OCC[N+](C)(C)C)C(O)C=CCCCCCCCCCCCCCCCC)CCCCCCCCCCCCCCCCCCCCCCCCCCCCCCCCCCCCCCCCC\n",
      "\n",
      "True SMILES: O=C(NC(COP(=O)([O-])OCC[N+](C)(C)C)C(O)C=CCCCCCCCCCCCCCCCC)CCCCCCCCCCCCCCCCCCCC=CCC=CCCCCCCCCCCCCCCC\n",
      "Pred SMILES: O=C(NC(COP(=O)([O-])OCC[N+](C)(C)C)C(O)C=CCCCCCCCCCCCCCCCC)CCCCCCCCCCCCCCCCCCCC=CCC=CCCCCCCCCCCCCCCC\n",
      "\n",
      "True SMILES: O=C(NC(COP(=O)([O-])OCC[N+](C)(C)C)C(O)C=CCCCCCCCCCCCCCCCC)CCCCCCCCCCCCCCCCCCCC=CCCCCCCCCCCCCCCCCCC\n",
      "Pred SMILES: O=C(NC(COP(=O)([O-])OCC[N+](C)(C)C)C(O)C=CCCCCCCCCCCCCCCCC)CCCCCCCCCCCCCCCCCCCC=CCCCCCCCCCCCCCCCCCC\n",
      "\n",
      "True SMILES: O=C(NC(COP(=O)([O-])OCC[N+](C)(C)C)C(O)C=CCCCCCCCCCCCCCCCC)CCCCCCCCCCCCCCCCCCCCCCCCCCCCCCCCCCCCCCC\n",
      "Pred SMILES: O=C(NC(COP(=O)([O-])OCC[N+](C)(C)C)C(O)C=CCCCCCCCCCCCCCCCC)CCCCCCCCCCCCCCCCCCCCCCCCCCCCCCCCCCCCCCC\n",
      "\n",
      "Sequence Accuracy: 0.8481\n",
      "Average Sequence Loss: 0.0046\n"
     ]
    }
   ],
   "source": [
    "seq_accuracy, avg_seq_loss = evaluate_model_seq2seq(model, test_loader, smiles_vocab)"
   ]
  },
  {
   "cell_type": "code",
   "execution_count": 14,
   "metadata": {},
   "outputs": [
    {
     "data": {
      "image/png": "[encoded data removed]",
      "text/plain": [
       "<Figure size 1200x400 with 2 Axes>"
      ]
     },
     "metadata": {},
     "output_type": "display_data"
    }
   ],
   "source": [
    "# Visualize training history\n",
    "import matplotlib.pyplot as plt\n",
    "\n",
    "plt.figure(figsize=(12, 4))\n",
    "plt.subplot(1, 2, 1)\n",
    "plt.plot(history['seq_loss'].values(), label='Sequence Loss')\n",
    "plt.xlabel('Epoch')\n",
    "plt.ylabel('Loss')\n",
    "plt.legend()\n",
    "\n",
    "plt.subplot(1, 2, 2)\n",
    "plt.plot(history['seq_accuracy'].values(), label='Sequence Accuracy')\n",
    "plt.xlabel('Epoch')\n",
    "plt.ylabel('Accuracy')\n",
    "plt.legend()\n",
    "\n",
    "plt.tight_layout()\n",
    "plt.show()"
   ]
  },
  {
   "cell_type": "code",
   "execution_count": 15,
   "metadata": {},
   "outputs": [
    {
     "name": "stdout",
     "output_type": "stream",
     "text": [
      "\n",
      "Spectra tokenized with direct tokenization:\n",
      "\n",
      "SMILES tokenized with atom_wise tokenization\n",
      "Spectra shape: torch.Size([32, 1, 112, 16])\n",
      "SMILES shape: torch.Size([32, 109])\n"
     ]
    }
   ],
   "source": [
    "results = {}\n",
    "print(f\"\\nSpectra tokenized with {method} tokenization:\")\n",
    "print(f\"\\nSMILES tokenized with {'atom_wise'} tokenization\")\n",
    "smiles_vocab = smiles_vocabs['atom_wise']\n",
    "\n",
    "train_loader, test_loader = load_tokenized_data_with_smiles(df, df, \n",
    "                                                            method, \n",
    "                                                            smiles_vocab, \n",
    "                                                            max_mz=max_mz)\n",
    "\n",
    "#num_classes = len(label_encoder.classes_)\n",
    "smiles_vocab_size = len(smiles_vocab)\n",
    "\n",
    "# sample batch used for input dimensions\n",
    "sample_batch, target_batch = next(iter(train_loader))\n",
    "print(\"Spectra shape:\", sample_batch.shape)\n",
    "print(\"SMILES shape:\", target_batch.shape)\n",
    "embed_depth = sample_batch.shape[3]"
   ]
  },
  {
   "cell_type": "code",
   "execution_count": 16,
   "metadata": {},
   "outputs": [],
   "source": [
    "model = MS_VIT_Seq2Seq(\n",
    "    smiles_vocab_size=len(smiles_vocab),\n",
    "    embed_depth=embed_depth,\n",
    "    d_model=64,           # Reduced from 256\n",
    "    nhead=4,              # Reduced from 8\n",
    "    num_layers=2,         # Reduced from 6\n",
    "    dim_feedforward=256,  # Reduced from 2048\n",
    "    dropout=0.1,\n",
    "    num_classes=None\n",
    ")"
   ]
  },
  {
   "cell_type": "code",
   "execution_count": 17,
   "metadata": {},
   "outputs": [
    {
     "name": "stdout",
     "output_type": "stream",
     "text": [
      "Saving checkpoints to ./model_checkpoints/checkpoint_6\n"
     ]
    },
    {
     "data": {
      "application/vnd.jupyter.widget-view+json": {
       "model_id": "ce6dc54c13ac4c8582e1e67f3dbeded2",
       "version_major": 2,
       "version_minor": 0
      },
      "text/plain": [
       "Epoch 1/50 [Train]:   0%|          | 0/157 [00:00<?, ?it/s]"
      ]
     },
     "metadata": {},
     "output_type": "display_data"
    },
    {
     "data": {
      "application/vnd.jupyter.widget-view+json": {
       "model_id": "5a5fa2a28f6f4b308766f905e63f9ce2",
       "version_major": 2,
       "version_minor": 0
      },
      "text/plain": [
       "Epoch 1/50 [Test]:   0%|          | 0/157 [00:00<?, ?it/s]"
      ]
     },
     "metadata": {},
     "output_type": "display_data"
    },
    {
     "data": {
      "application/vnd.jupyter.widget-view+json": {
       "model_id": "67e37b13e3e24966ad8bd0c3978bb459",
       "version_major": 2,
       "version_minor": 0
      },
      "text/plain": [
       "Epoch 2/50 [Train]:   0%|          | 0/157 [00:00<?, ?it/s]"
      ]
     },
     "metadata": {},
     "output_type": "display_data"
    },
    {
     "data": {
      "application/vnd.jupyter.widget-view+json": {
       "model_id": "b23d36a9440841258d5a93c41dd7a50c",
       "version_major": 2,
       "version_minor": 0
      },
      "text/plain": [
       "Epoch 2/50 [Test]:   0%|          | 0/157 [00:00<?, ?it/s]"
      ]
     },
     "metadata": {},
     "output_type": "display_data"
    },
    {
     "data": {
      "application/vnd.jupyter.widget-view+json": {
       "model_id": "8bb366af380a494690ac0fddc26bc5f6",
       "version_major": 2,
       "version_minor": 0
      },
      "text/plain": [
       "Epoch 3/50 [Train]:   0%|          | 0/157 [00:00<?, ?it/s]"
      ]
     },
     "metadata": {},
     "output_type": "display_data"
    },
    {
     "data": {
      "application/vnd.jupyter.widget-view+json": {
       "model_id": "38e92a2a9ccb450e84ca766c03cc0ffb",
       "version_major": 2,
       "version_minor": 0
      },
      "text/plain": [
       "Epoch 3/50 [Test]:   0%|          | 0/157 [00:00<?, ?it/s]"
      ]
     },
     "metadata": {},
     "output_type": "display_data"
    },
    {
     "data": {
      "application/vnd.jupyter.widget-view+json": {
       "model_id": "9e5ace61501544e2b3956e95ec205fe7",
       "version_major": 2,
       "version_minor": 0
      },
      "text/plain": [
       "Epoch 4/50 [Train]:   0%|          | 0/157 [00:00<?, ?it/s]"
      ]
     },
     "metadata": {},
     "output_type": "display_data"
    },
    {
     "data": {
      "application/vnd.jupyter.widget-view+json": {
       "model_id": "0e6d7593210642b38a3a7995a3ceaf65",
       "version_major": 2,
       "version_minor": 0
      },
      "text/plain": [
       "Epoch 4/50 [Test]:   0%|          | 0/157 [00:00<?, ?it/s]"
      ]
     },
     "metadata": {},
     "output_type": "display_data"
    },
    {
     "data": {
      "application/vnd.jupyter.widget-view+json": {
       "model_id": "4fcabecff3c44661bc491cdd3502e22b",
       "version_major": 2,
       "version_minor": 0
      },
      "text/plain": [
       "Epoch 5/50 [Train]:   0%|          | 0/157 [00:00<?, ?it/s]"
      ]
     },
     "metadata": {},
     "output_type": "display_data"
    },
    {
     "data": {
      "application/vnd.jupyter.widget-view+json": {
       "model_id": "34b15bcd13994e65a532d68e92282f63",
       "version_major": 2,
       "version_minor": 0
      },
      "text/plain": [
       "Epoch 5/50 [Test]:   0%|          | 0/157 [00:00<?, ?it/s]"
      ]
     },
     "metadata": {},
     "output_type": "display_data"
    },
    {
     "data": {
      "application/vnd.jupyter.widget-view+json": {
       "model_id": "e0691a37c5194648bb3555e01cc18296",
       "version_major": 2,
       "version_minor": 0
      },
      "text/plain": [
       "Epoch 6/50 [Train]:   0%|          | 0/157 [00:00<?, ?it/s]"
      ]
     },
     "metadata": {},
     "output_type": "display_data"
    },
    {
     "data": {
      "application/vnd.jupyter.widget-view+json": {
       "model_id": "800c90cb1790429e99a5657c0c04d019",
       "version_major": 2,
       "version_minor": 0
      },
      "text/plain": [
       "Epoch 6/50 [Test]:   0%|          | 0/157 [00:00<?, ?it/s]"
      ]
     },
     "metadata": {},
     "output_type": "display_data"
    },
    {
     "data": {
      "application/vnd.jupyter.widget-view+json": {
       "model_id": "8f81405e49364be5a56a5db7a7274b0b",
       "version_major": 2,
       "version_minor": 0
      },
      "text/plain": [
       "Epoch 7/50 [Train]:   0%|          | 0/157 [00:00<?, ?it/s]"
      ]
     },
     "metadata": {},
     "output_type": "display_data"
    },
    {
     "data": {
      "application/vnd.jupyter.widget-view+json": {
       "model_id": "ddc6455388244b99aa0ad16cb9e628b9",
       "version_major": 2,
       "version_minor": 0
      },
      "text/plain": [
       "Epoch 7/50 [Test]:   0%|          | 0/157 [00:00<?, ?it/s]"
      ]
     },
     "metadata": {},
     "output_type": "display_data"
    },
    {
     "data": {
      "application/vnd.jupyter.widget-view+json": {
       "model_id": "401b6c0e93ce4acaa8031ea278ed08e7",
       "version_major": 2,
       "version_minor": 0
      },
      "text/plain": [
       "Epoch 8/50 [Train]:   0%|          | 0/157 [00:00<?, ?it/s]"
      ]
     },
     "metadata": {},
     "output_type": "display_data"
    },
    {
     "data": {
      "application/vnd.jupyter.widget-view+json": {
       "model_id": "b80daae84dcb4008aed488dc1c19854c",
       "version_major": 2,
       "version_minor": 0
      },
      "text/plain": [
       "Epoch 8/50 [Test]:   0%|          | 0/157 [00:00<?, ?it/s]"
      ]
     },
     "metadata": {},
     "output_type": "display_data"
    },
    {
     "data": {
      "application/vnd.jupyter.widget-view+json": {
       "model_id": "79ce2d3ae2fc4efcb0ceb1c450119eb0",
       "version_major": 2,
       "version_minor": 0
      },
      "text/plain": [
       "Epoch 9/50 [Train]:   0%|          | 0/157 [00:00<?, ?it/s]"
      ]
     },
     "metadata": {},
     "output_type": "display_data"
    },
    {
     "data": {
      "application/vnd.jupyter.widget-view+json": {
       "model_id": "da3fe65e7ed74a769a206b2704536fd2",
       "version_major": 2,
       "version_minor": 0
      },
      "text/plain": [
       "Epoch 9/50 [Test]:   0%|          | 0/157 [00:00<?, ?it/s]"
      ]
     },
     "metadata": {},
     "output_type": "display_data"
    },
    {
     "data": {
      "application/vnd.jupyter.widget-view+json": {
       "model_id": "acf3592f9030490489b39be6b34de140",
       "version_major": 2,
       "version_minor": 0
      },
      "text/plain": [
       "Epoch 10/50 [Train]:   0%|          | 0/157 [00:00<?, ?it/s]"
      ]
     },
     "metadata": {},
     "output_type": "display_data"
    },
    {
     "data": {
      "application/vnd.jupyter.widget-view+json": {
       "model_id": "9a9ddbcfc96c4e5c805e0959e32cd366",
       "version_major": 2,
       "version_minor": 0
      },
      "text/plain": [
       "Epoch 10/50 [Test]:   0%|          | 0/157 [00:00<?, ?it/s]"
      ]
     },
     "metadata": {},
     "output_type": "display_data"
    },
    {
     "data": {
      "application/vnd.jupyter.widget-view+json": {
       "model_id": "5e29bd5236154bbba7564f4d41d6dfc2",
       "version_major": 2,
       "version_minor": 0
      },
      "text/plain": [
       "Epoch 11/50 [Train]:   0%|          | 0/157 [00:00<?, ?it/s]"
      ]
     },
     "metadata": {},
     "output_type": "display_data"
    },
    {
     "data": {
      "application/vnd.jupyter.widget-view+json": {
       "model_id": "51eb74a826d74b05adca88396c0ea63a",
       "version_major": 2,
       "version_minor": 0
      },
      "text/plain": [
       "Epoch 11/50 [Test]:   0%|          | 0/157 [00:00<?, ?it/s]"
      ]
     },
     "metadata": {},
     "output_type": "display_data"
    },
    {
     "data": {
      "application/vnd.jupyter.widget-view+json": {
       "model_id": "efd6eb648f05483c99134fa15da31366",
       "version_major": 2,
       "version_minor": 0
      },
      "text/plain": [
       "Epoch 12/50 [Train]:   0%|          | 0/157 [00:00<?, ?it/s]"
      ]
     },
     "metadata": {},
     "output_type": "display_data"
    },
    {
     "data": {
      "application/vnd.jupyter.widget-view+json": {
       "model_id": "06b4983fe0704aa388c44b4fa67d5bc9",
       "version_major": 2,
       "version_minor": 0
      },
      "text/plain": [
       "Epoch 12/50 [Test]:   0%|          | 0/157 [00:00<?, ?it/s]"
      ]
     },
     "metadata": {},
     "output_type": "display_data"
    },
    {
     "data": {
      "application/vnd.jupyter.widget-view+json": {
       "model_id": "996732e6a4124ec3847bbb309aeed110",
       "version_major": 2,
       "version_minor": 0
      },
      "text/plain": [
       "Epoch 13/50 [Train]:   0%|          | 0/157 [00:00<?, ?it/s]"
      ]
     },
     "metadata": {},
     "output_type": "display_data"
    },
    {
     "data": {
      "application/vnd.jupyter.widget-view+json": {
       "model_id": "34c5fecf5e9249028cf73e8c17c48495",
       "version_major": 2,
       "version_minor": 0
      },
      "text/plain": [
       "Epoch 13/50 [Test]:   0%|          | 0/157 [00:00<?, ?it/s]"
      ]
     },
     "metadata": {},
     "output_type": "display_data"
    },
    {
     "data": {
      "application/vnd.jupyter.widget-view+json": {
       "model_id": "e3b69bf7eed4401e9b21866e6161dc7f",
       "version_major": 2,
       "version_minor": 0
      },
      "text/plain": [
       "Epoch 14/50 [Train]:   0%|          | 0/157 [00:00<?, ?it/s]"
      ]
     },
     "metadata": {},
     "output_type": "display_data"
    },
    {
     "data": {
      "application/vnd.jupyter.widget-view+json": {
       "model_id": "2c449e785f5f4f20bada23fa60faff06",
       "version_major": 2,
       "version_minor": 0
      },
      "text/plain": [
       "Epoch 14/50 [Test]:   0%|          | 0/157 [00:00<?, ?it/s]"
      ]
     },
     "metadata": {},
     "output_type": "display_data"
    },
    {
     "data": {
      "application/vnd.jupyter.widget-view+json": {
       "model_id": "c51aafb980c64db797eafd170ccd38f9",
       "version_major": 2,
       "version_minor": 0
      },
      "text/plain": [
       "Epoch 15/50 [Train]:   0%|          | 0/157 [00:00<?, ?it/s]"
      ]
     },
     "metadata": {},
     "output_type": "display_data"
    },
    {
     "data": {
      "application/vnd.jupyter.widget-view+json": {
       "model_id": "cb878bce62a7461baa9d6adb4bd24509",
       "version_major": 2,
       "version_minor": 0
      },
      "text/plain": [
       "Epoch 15/50 [Test]:   0%|          | 0/157 [00:00<?, ?it/s]"
      ]
     },
     "metadata": {},
     "output_type": "display_data"
    },
    {
     "data": {
      "application/vnd.jupyter.widget-view+json": {
       "model_id": "c75fbdbba795451ca5f98bd34a9a0f75",
       "version_major": 2,
       "version_minor": 0
      },
      "text/plain": [
       "Epoch 16/50 [Train]:   0%|          | 0/157 [00:00<?, ?it/s]"
      ]
     },
     "metadata": {},
     "output_type": "display_data"
    },
    {
     "data": {
      "application/vnd.jupyter.widget-view+json": {
       "model_id": "d8d42fe04ad841ccb88547aae1727702",
       "version_major": 2,
       "version_minor": 0
      },
      "text/plain": [
       "Epoch 16/50 [Test]:   0%|          | 0/157 [00:00<?, ?it/s]"
      ]
     },
     "metadata": {},
     "output_type": "display_data"
    },
    {
     "data": {
      "application/vnd.jupyter.widget-view+json": {
       "model_id": "48665dbbae044e1bb0eaff96c8581b22",
       "version_major": 2,
       "version_minor": 0
      },
      "text/plain": [
       "Epoch 17/50 [Train]:   0%|          | 0/157 [00:00<?, ?it/s]"
      ]
     },
     "metadata": {},
     "output_type": "display_data"
    },
    {
     "data": {
      "application/vnd.jupyter.widget-view+json": {
       "model_id": "de38c6712ffe4dffa9eb0718e2dfb626",
       "version_major": 2,
       "version_minor": 0
      },
      "text/plain": [
       "Epoch 17/50 [Test]:   0%|          | 0/157 [00:00<?, ?it/s]"
      ]
     },
     "metadata": {},
     "output_type": "display_data"
    },
    {
     "data": {
      "application/vnd.jupyter.widget-view+json": {
       "model_id": "ab6385b545e04acb9dbd72476e23d414",
       "version_major": 2,
       "version_minor": 0
      },
      "text/plain": [
       "Epoch 18/50 [Train]:   0%|          | 0/157 [00:00<?, ?it/s]"
      ]
     },
     "metadata": {},
     "output_type": "display_data"
    },
    {
     "data": {
      "application/vnd.jupyter.widget-view+json": {
       "model_id": "ddc6bb24f96940b6b821b16f209e3c98",
       "version_major": 2,
       "version_minor": 0
      },
      "text/plain": [
       "Epoch 18/50 [Test]:   0%|          | 0/157 [00:00<?, ?it/s]"
      ]
     },
     "metadata": {},
     "output_type": "display_data"
    },
    {
     "data": {
      "application/vnd.jupyter.widget-view+json": {
       "model_id": "e560504be6e04c52aa4f8dd8371002ca",
       "version_major": 2,
       "version_minor": 0
      },
      "text/plain": [
       "Epoch 19/50 [Train]:   0%|          | 0/157 [00:00<?, ?it/s]"
      ]
     },
     "metadata": {},
     "output_type": "display_data"
    },
    {
     "data": {
      "application/vnd.jupyter.widget-view+json": {
       "model_id": "47a408d8bd8242e89012090f6d290301",
       "version_major": 2,
       "version_minor": 0
      },
      "text/plain": [
       "Epoch 19/50 [Test]:   0%|          | 0/157 [00:00<?, ?it/s]"
      ]
     },
     "metadata": {},
     "output_type": "display_data"
    },
    {
     "data": {
      "application/vnd.jupyter.widget-view+json": {
       "model_id": "262be12fd4b940b5a30ccb5f1005137a",
       "version_major": 2,
       "version_minor": 0
      },
      "text/plain": [
       "Epoch 20/50 [Train]:   0%|          | 0/157 [00:00<?, ?it/s]"
      ]
     },
     "metadata": {},
     "output_type": "display_data"
    },
    {
     "data": {
      "application/vnd.jupyter.widget-view+json": {
       "model_id": "5dbebe5ca7014b21abd3b3cc20e6ef35",
       "version_major": 2,
       "version_minor": 0
      },
      "text/plain": [
       "Epoch 20/50 [Test]:   0%|          | 0/157 [00:00<?, ?it/s]"
      ]
     },
     "metadata": {},
     "output_type": "display_data"
    },
    {
     "data": {
      "application/vnd.jupyter.widget-view+json": {
       "model_id": "56a7fd0aab994d2a8cd1390bae3de014",
       "version_major": 2,
       "version_minor": 0
      },
      "text/plain": [
       "Epoch 21/50 [Train]:   0%|          | 0/157 [00:00<?, ?it/s]"
      ]
     },
     "metadata": {},
     "output_type": "display_data"
    },
    {
     "data": {
      "application/vnd.jupyter.widget-view+json": {
       "model_id": "3bdbe465de6c4ae587502cee83a90c1a",
       "version_major": 2,
       "version_minor": 0
      },
      "text/plain": [
       "Epoch 21/50 [Test]:   0%|          | 0/157 [00:00<?, ?it/s]"
      ]
     },
     "metadata": {},
     "output_type": "display_data"
    },
    {
     "data": {
      "application/vnd.jupyter.widget-view+json": {
       "model_id": "3ec241493ec84f5880f87849de5db497",
       "version_major": 2,
       "version_minor": 0
      },
      "text/plain": [
       "Epoch 22/50 [Train]:   0%|          | 0/157 [00:00<?, ?it/s]"
      ]
     },
     "metadata": {},
     "output_type": "display_data"
    },
    {
     "data": {
      "application/vnd.jupyter.widget-view+json": {
       "model_id": "c040e548bd2341ccb2722dad62d70fc7",
       "version_major": 2,
       "version_minor": 0
      },
      "text/plain": [
       "Epoch 22/50 [Test]:   0%|          | 0/157 [00:00<?, ?it/s]"
      ]
     },
     "metadata": {},
     "output_type": "display_data"
    },
    {
     "data": {
      "application/vnd.jupyter.widget-view+json": {
       "model_id": "0b0112473c754234aacac4cbdc043499",
       "version_major": 2,
       "version_minor": 0
      },
      "text/plain": [
       "Epoch 23/50 [Train]:   0%|          | 0/157 [00:00<?, ?it/s]"
      ]
     },
     "metadata": {},
     "output_type": "display_data"
    },
    {
     "data": {
      "application/vnd.jupyter.widget-view+json": {
       "model_id": "e4e883bc78b64d5fa7ded9aa0b2b2bd2",
       "version_major": 2,
       "version_minor": 0
      },
      "text/plain": [
       "Epoch 23/50 [Test]:   0%|          | 0/157 [00:00<?, ?it/s]"
      ]
     },
     "metadata": {},
     "output_type": "display_data"
    },
    {
     "data": {
      "application/vnd.jupyter.widget-view+json": {
       "model_id": "6eadb41b1fe94a0497fae3d6cd7ddaaf",
       "version_major": 2,
       "version_minor": 0
      },
      "text/plain": [
       "Epoch 24/50 [Train]:   0%|          | 0/157 [00:00<?, ?it/s]"
      ]
     },
     "metadata": {},
     "output_type": "display_data"
    },
    {
     "data": {
      "application/vnd.jupyter.widget-view+json": {
       "model_id": "ef794ceb02a54d0b8dbc60e973e3eed1",
       "version_major": 2,
       "version_minor": 0
      },
      "text/plain": [
       "Epoch 24/50 [Test]:   0%|          | 0/157 [00:00<?, ?it/s]"
      ]
     },
     "metadata": {},
     "output_type": "display_data"
    },
    {
     "data": {
      "application/vnd.jupyter.widget-view+json": {
       "model_id": "2084217e8a034630a97c9e37b800d04f",
       "version_major": 2,
       "version_minor": 0
      },
      "text/plain": [
       "Epoch 25/50 [Train]:   0%|          | 0/157 [00:00<?, ?it/s]"
      ]
     },
     "metadata": {},
     "output_type": "display_data"
    },
    {
     "data": {
      "application/vnd.jupyter.widget-view+json": {
       "model_id": "dedf5770feef4ba39566d7ae1f241e9c",
       "version_major": 2,
       "version_minor": 0
      },
      "text/plain": [
       "Epoch 25/50 [Test]:   0%|          | 0/157 [00:00<?, ?it/s]"
      ]
     },
     "metadata": {},
     "output_type": "display_data"
    },
    {
     "data": {
      "application/vnd.jupyter.widget-view+json": {
       "model_id": "12b122921ff74a93897993abc86f13d2",
       "version_major": 2,
       "version_minor": 0
      },
      "text/plain": [
       "Epoch 26/50 [Train]:   0%|          | 0/157 [00:00<?, ?it/s]"
      ]
     },
     "metadata": {},
     "output_type": "display_data"
    },
    {
     "data": {
      "application/vnd.jupyter.widget-view+json": {
       "model_id": "0f6e9f4709634f4ca4b1b3392953994b",
       "version_major": 2,
       "version_minor": 0
      },
      "text/plain": [
       "Epoch 26/50 [Test]:   0%|          | 0/157 [00:00<?, ?it/s]"
      ]
     },
     "metadata": {},
     "output_type": "display_data"
    },
    {
     "data": {
      "application/vnd.jupyter.widget-view+json": {
       "model_id": "049acc209371439794323e63d04ce756",
       "version_major": 2,
       "version_minor": 0
      },
      "text/plain": [
       "Epoch 27/50 [Train]:   0%|          | 0/157 [00:00<?, ?it/s]"
      ]
     },
     "metadata": {},
     "output_type": "display_data"
    },
    {
     "data": {
      "application/vnd.jupyter.widget-view+json": {
       "model_id": "22bb77ed58f240f99f5634b3df5d21c1",
       "version_major": 2,
       "version_minor": 0
      },
      "text/plain": [
       "Epoch 27/50 [Test]:   0%|          | 0/157 [00:00<?, ?it/s]"
      ]
     },
     "metadata": {},
     "output_type": "display_data"
    },
    {
     "data": {
      "application/vnd.jupyter.widget-view+json": {
       "model_id": "ad65d4f5f7d84edeb1de66f626f2e35e",
       "version_major": 2,
       "version_minor": 0
      },
      "text/plain": [
       "Epoch 28/50 [Train]:   0%|          | 0/157 [00:00<?, ?it/s]"
      ]
     },
     "metadata": {},
     "output_type": "display_data"
    },
    {
     "data": {
      "application/vnd.jupyter.widget-view+json": {
       "model_id": "11348aea0e314e9d9be7090e89c07491",
       "version_major": 2,
       "version_minor": 0
      },
      "text/plain": [
       "Epoch 28/50 [Test]:   0%|          | 0/157 [00:00<?, ?it/s]"
      ]
     },
     "metadata": {},
     "output_type": "display_data"
    },
    {
     "data": {
      "application/vnd.jupyter.widget-view+json": {
       "model_id": "85374b3b66304bf49c7b68cf2c42b815",
       "version_major": 2,
       "version_minor": 0
      },
      "text/plain": [
       "Epoch 29/50 [Train]:   0%|          | 0/157 [00:00<?, ?it/s]"
      ]
     },
     "metadata": {},
     "output_type": "display_data"
    },
    {
     "data": {
      "application/vnd.jupyter.widget-view+json": {
       "model_id": "31e8400e4a774589a037ccd0f301ced2",
       "version_major": 2,
       "version_minor": 0
      },
      "text/plain": [
       "Epoch 29/50 [Test]:   0%|          | 0/157 [00:00<?, ?it/s]"
      ]
     },
     "metadata": {},
     "output_type": "display_data"
    },
    {
     "data": {
      "application/vnd.jupyter.widget-view+json": {
       "model_id": "d27be776e87a4b24ae8b61e0802c8878",
       "version_major": 2,
       "version_minor": 0
      },
      "text/plain": [
       "Epoch 30/50 [Train]:   0%|          | 0/157 [00:00<?, ?it/s]"
      ]
     },
     "metadata": {},
     "output_type": "display_data"
    },
    {
     "data": {
      "application/vnd.jupyter.widget-view+json": {
       "model_id": "36647f3bd31c46ca9c26a30b9317869b",
       "version_major": 2,
       "version_minor": 0
      },
      "text/plain": [
       "Epoch 30/50 [Test]:   0%|          | 0/157 [00:00<?, ?it/s]"
      ]
     },
     "metadata": {},
     "output_type": "display_data"
    },
    {
     "data": {
      "application/vnd.jupyter.widget-view+json": {
       "model_id": "14676daa2e054fa5a62b3601de97b3e1",
       "version_major": 2,
       "version_minor": 0
      },
      "text/plain": [
       "Epoch 31/50 [Train]:   0%|          | 0/157 [00:00<?, ?it/s]"
      ]
     },
     "metadata": {},
     "output_type": "display_data"
    },
    {
     "data": {
      "application/vnd.jupyter.widget-view+json": {
       "model_id": "6cfcd32ec2f84c0894ea5aa348fb6118",
       "version_major": 2,
       "version_minor": 0
      },
      "text/plain": [
       "Epoch 31/50 [Test]:   0%|          | 0/157 [00:00<?, ?it/s]"
      ]
     },
     "metadata": {},
     "output_type": "display_data"
    },
    {
     "data": {
      "application/vnd.jupyter.widget-view+json": {
       "model_id": "2a109e83ce5a49499654f6f01a2f9802",
       "version_major": 2,
       "version_minor": 0
      },
      "text/plain": [
       "Epoch 32/50 [Train]:   0%|          | 0/157 [00:00<?, ?it/s]"
      ]
     },
     "metadata": {},
     "output_type": "display_data"
    },
    {
     "data": {
      "application/vnd.jupyter.widget-view+json": {
       "model_id": "a93f91513b114ef988bfa60afeb4a93a",
       "version_major": 2,
       "version_minor": 0
      },
      "text/plain": [
       "Epoch 32/50 [Test]:   0%|          | 0/157 [00:00<?, ?it/s]"
      ]
     },
     "metadata": {},
     "output_type": "display_data"
    },
    {
     "data": {
      "application/vnd.jupyter.widget-view+json": {
       "model_id": "8797602890d64ab4ba739d88bb6b2684",
       "version_major": 2,
       "version_minor": 0
      },
      "text/plain": [
       "Epoch 33/50 [Train]:   0%|          | 0/157 [00:00<?, ?it/s]"
      ]
     },
     "metadata": {},
     "output_type": "display_data"
    },
    {
     "data": {
      "application/vnd.jupyter.widget-view+json": {
       "model_id": "20e1e8f0095d43b3b5d7684cf04eef9e",
       "version_major": 2,
       "version_minor": 0
      },
      "text/plain": [
       "Epoch 33/50 [Test]:   0%|          | 0/157 [00:00<?, ?it/s]"
      ]
     },
     "metadata": {},
     "output_type": "display_data"
    },
    {
     "data": {
      "application/vnd.jupyter.widget-view+json": {
       "model_id": "7fa5de6f5e544f8294e655ac41e16447",
       "version_major": 2,
       "version_minor": 0
      },
      "text/plain": [
       "Epoch 34/50 [Train]:   0%|          | 0/157 [00:00<?, ?it/s]"
      ]
     },
     "metadata": {},
     "output_type": "display_data"
    },
    {
     "data": {
      "application/vnd.jupyter.widget-view+json": {
       "model_id": "95f4a0d277e04fdfa4c4d9835ae3b125",
       "version_major": 2,
       "version_minor": 0
      },
      "text/plain": [
       "Epoch 34/50 [Test]:   0%|          | 0/157 [00:00<?, ?it/s]"
      ]
     },
     "metadata": {},
     "output_type": "display_data"
    },
    {
     "data": {
      "application/vnd.jupyter.widget-view+json": {
       "model_id": "46e1d8d04bdb4e178f854bde876b711a",
       "version_major": 2,
       "version_minor": 0
      },
      "text/plain": [
       "Epoch 35/50 [Train]:   0%|          | 0/157 [00:00<?, ?it/s]"
      ]
     },
     "metadata": {},
     "output_type": "display_data"
    },
    {
     "data": {
      "application/vnd.jupyter.widget-view+json": {
       "model_id": "f5847511ca044c08b0f4325e06b08b9e",
       "version_major": 2,
       "version_minor": 0
      },
      "text/plain": [
       "Epoch 35/50 [Test]:   0%|          | 0/157 [00:00<?, ?it/s]"
      ]
     },
     "metadata": {},
     "output_type": "display_data"
    },
    {
     "data": {
      "application/vnd.jupyter.widget-view+json": {
       "model_id": "5eb22e0f81414ac4848c7f212a6ad5b7",
       "version_major": 2,
       "version_minor": 0
      },
      "text/plain": [
       "Epoch 36/50 [Train]:   0%|          | 0/157 [00:00<?, ?it/s]"
      ]
     },
     "metadata": {},
     "output_type": "display_data"
    },
    {
     "data": {
      "application/vnd.jupyter.widget-view+json": {
       "model_id": "62d1a34117ba43b9bbc50140f8139641",
       "version_major": 2,
       "version_minor": 0
      },
      "text/plain": [
       "Epoch 36/50 [Test]:   0%|          | 0/157 [00:00<?, ?it/s]"
      ]
     },
     "metadata": {},
     "output_type": "display_data"
    },
    {
     "data": {
      "application/vnd.jupyter.widget-view+json": {
       "model_id": "a5e082dfc9104944a481b3714ebd8920",
       "version_major": 2,
       "version_minor": 0
      },
      "text/plain": [
       "Epoch 37/50 [Train]:   0%|          | 0/157 [00:00<?, ?it/s]"
      ]
     },
     "metadata": {},
     "output_type": "display_data"
    },
    {
     "data": {
      "application/vnd.jupyter.widget-view+json": {
       "model_id": "b8ea97aa5ff7495eb35005e6d8826ae5",
       "version_major": 2,
       "version_minor": 0
      },
      "text/plain": [
       "Epoch 37/50 [Test]:   0%|          | 0/157 [00:00<?, ?it/s]"
      ]
     },
     "metadata": {},
     "output_type": "display_data"
    },
    {
     "data": {
      "application/vnd.jupyter.widget-view+json": {
       "model_id": "096e7e0db21847f98836d6bce853ea7e",
       "version_major": 2,
       "version_minor": 0
      },
      "text/plain": [
       "Epoch 38/50 [Train]:   0%|          | 0/157 [00:00<?, ?it/s]"
      ]
     },
     "metadata": {},
     "output_type": "display_data"
    },
    {
     "data": {
      "application/vnd.jupyter.widget-view+json": {
       "model_id": "e4a2a184e3cd4b069d4dbdd4a8e9e706",
       "version_major": 2,
       "version_minor": 0
      },
      "text/plain": [
       "Epoch 38/50 [Test]:   0%|          | 0/157 [00:00<?, ?it/s]"
      ]
     },
     "metadata": {},
     "output_type": "display_data"
    },
    {
     "data": {
      "application/vnd.jupyter.widget-view+json": {
       "model_id": "ac6e6d7a724d4c6d953dbb347cd36e77",
       "version_major": 2,
       "version_minor": 0
      },
      "text/plain": [
       "Epoch 39/50 [Train]:   0%|          | 0/157 [00:00<?, ?it/s]"
      ]
     },
     "metadata": {},
     "output_type": "display_data"
    },
    {
     "data": {
      "application/vnd.jupyter.widget-view+json": {
       "model_id": "a5b6d7eb932f4822860d405887bc951b",
       "version_major": 2,
       "version_minor": 0
      },
      "text/plain": [
       "Epoch 39/50 [Test]:   0%|          | 0/157 [00:00<?, ?it/s]"
      ]
     },
     "metadata": {},
     "output_type": "display_data"
    },
    {
     "data": {
      "application/vnd.jupyter.widget-view+json": {
       "model_id": "4a68e328bfb34d79bcacf63c2c5972da",
       "version_major": 2,
       "version_minor": 0
      },
      "text/plain": [
       "Epoch 40/50 [Train]:   0%|          | 0/157 [00:00<?, ?it/s]"
      ]
     },
     "metadata": {},
     "output_type": "display_data"
    },
    {
     "data": {
      "application/vnd.jupyter.widget-view+json": {
       "model_id": "e433775c49fd4e1490cadcefb2130767",
       "version_major": 2,
       "version_minor": 0
      },
      "text/plain": [
       "Epoch 40/50 [Test]:   0%|          | 0/157 [00:00<?, ?it/s]"
      ]
     },
     "metadata": {},
     "output_type": "display_data"
    },
    {
     "data": {
      "application/vnd.jupyter.widget-view+json": {
       "model_id": "ca1105fd0c7849cfb5e270ed09979e98",
       "version_major": 2,
       "version_minor": 0
      },
      "text/plain": [
       "Epoch 41/50 [Train]:   0%|          | 0/157 [00:00<?, ?it/s]"
      ]
     },
     "metadata": {},
     "output_type": "display_data"
    },
    {
     "data": {
      "application/vnd.jupyter.widget-view+json": {
       "model_id": "341c1ead8a804cb3961f29632052891c",
       "version_major": 2,
       "version_minor": 0
      },
      "text/plain": [
       "Epoch 41/50 [Test]:   0%|          | 0/157 [00:00<?, ?it/s]"
      ]
     },
     "metadata": {},
     "output_type": "display_data"
    },
    {
     "data": {
      "application/vnd.jupyter.widget-view+json": {
       "model_id": "21be3096a368460da485c13868e921a7",
       "version_major": 2,
       "version_minor": 0
      },
      "text/plain": [
       "Epoch 42/50 [Train]:   0%|          | 0/157 [00:00<?, ?it/s]"
      ]
     },
     "metadata": {},
     "output_type": "display_data"
    },
    {
     "data": {
      "application/vnd.jupyter.widget-view+json": {
       "model_id": "ef306aea9bb5439b95cf27851df84183",
       "version_major": 2,
       "version_minor": 0
      },
      "text/plain": [
       "Epoch 42/50 [Test]:   0%|          | 0/157 [00:00<?, ?it/s]"
      ]
     },
     "metadata": {},
     "output_type": "display_data"
    },
    {
     "data": {
      "application/vnd.jupyter.widget-view+json": {
       "model_id": "dc014c470901452db589aa4cb1add9c9",
       "version_major": 2,
       "version_minor": 0
      },
      "text/plain": [
       "Epoch 43/50 [Train]:   0%|          | 0/157 [00:00<?, ?it/s]"
      ]
     },
     "metadata": {},
     "output_type": "display_data"
    },
    {
     "data": {
      "application/vnd.jupyter.widget-view+json": {
       "model_id": "40f0c513a61f475888512a4aa0943929",
       "version_major": 2,
       "version_minor": 0
      },
      "text/plain": [
       "Epoch 43/50 [Test]:   0%|          | 0/157 [00:00<?, ?it/s]"
      ]
     },
     "metadata": {},
     "output_type": "display_data"
    },
    {
     "data": {
      "application/vnd.jupyter.widget-view+json": {
       "model_id": "b4348cf0a53c47ec9bd4ff8651d575da",
       "version_major": 2,
       "version_minor": 0
      },
      "text/plain": [
       "Epoch 44/50 [Train]:   0%|          | 0/157 [00:00<?, ?it/s]"
      ]
     },
     "metadata": {},
     "output_type": "display_data"
    },
    {
     "data": {
      "application/vnd.jupyter.widget-view+json": {
       "model_id": "0e60af92a64449139cace089d11293bc",
       "version_major": 2,
       "version_minor": 0
      },
      "text/plain": [
       "Epoch 44/50 [Test]:   0%|          | 0/157 [00:00<?, ?it/s]"
      ]
     },
     "metadata": {},
     "output_type": "display_data"
    },
    {
     "data": {
      "application/vnd.jupyter.widget-view+json": {
       "model_id": "b13accbda4e64487a852a7467cb0d805",
       "version_major": 2,
       "version_minor": 0
      },
      "text/plain": [
       "Epoch 45/50 [Train]:   0%|          | 0/157 [00:00<?, ?it/s]"
      ]
     },
     "metadata": {},
     "output_type": "display_data"
    },
    {
     "data": {
      "application/vnd.jupyter.widget-view+json": {
       "model_id": "7d23c016db684a3c85f12d7df2293be8",
       "version_major": 2,
       "version_minor": 0
      },
      "text/plain": [
       "Epoch 45/50 [Test]:   0%|          | 0/157 [00:00<?, ?it/s]"
      ]
     },
     "metadata": {},
     "output_type": "display_data"
    },
    {
     "data": {
      "application/vnd.jupyter.widget-view+json": {
       "model_id": "f644ee72115c4659af658b956af27a50",
       "version_major": 2,
       "version_minor": 0
      },
      "text/plain": [
       "Epoch 46/50 [Train]:   0%|          | 0/157 [00:00<?, ?it/s]"
      ]
     },
     "metadata": {},
     "output_type": "display_data"
    },
    {
     "data": {
      "application/vnd.jupyter.widget-view+json": {
       "model_id": "197ade7f99884cfba3b948b41fdf6b04",
       "version_major": 2,
       "version_minor": 0
      },
      "text/plain": [
       "Epoch 46/50 [Test]:   0%|          | 0/157 [00:00<?, ?it/s]"
      ]
     },
     "metadata": {},
     "output_type": "display_data"
    },
    {
     "data": {
      "application/vnd.jupyter.widget-view+json": {
       "model_id": "6cbb20497ae44aa4a95acc1e5ae76050",
       "version_major": 2,
       "version_minor": 0
      },
      "text/plain": [
       "Epoch 47/50 [Train]:   0%|          | 0/157 [00:00<?, ?it/s]"
      ]
     },
     "metadata": {},
     "output_type": "display_data"
    },
    {
     "data": {
      "application/vnd.jupyter.widget-view+json": {
       "model_id": "e4a3f8f9b389405d9cd76277a45ab1ec",
       "version_major": 2,
       "version_minor": 0
      },
      "text/plain": [
       "Epoch 47/50 [Test]:   0%|          | 0/157 [00:00<?, ?it/s]"
      ]
     },
     "metadata": {},
     "output_type": "display_data"
    },
    {
     "data": {
      "application/vnd.jupyter.widget-view+json": {
       "model_id": "3a8533d6ce5b4a73887cc11d30b70416",
       "version_major": 2,
       "version_minor": 0
      },
      "text/plain": [
       "Epoch 48/50 [Train]:   0%|          | 0/157 [00:00<?, ?it/s]"
      ]
     },
     "metadata": {},
     "output_type": "display_data"
    },
    {
     "data": {
      "application/vnd.jupyter.widget-view+json": {
       "model_id": "db8ccaef87ca49e28395b9da5246e0de",
       "version_major": 2,
       "version_minor": 0
      },
      "text/plain": [
       "Epoch 48/50 [Test]:   0%|          | 0/157 [00:00<?, ?it/s]"
      ]
     },
     "metadata": {},
     "output_type": "display_data"
    },
    {
     "data": {
      "application/vnd.jupyter.widget-view+json": {
       "model_id": "57f8ae46cbe545dc9a7f54a4ae072d12",
       "version_major": 2,
       "version_minor": 0
      },
      "text/plain": [
       "Epoch 49/50 [Train]:   0%|          | 0/157 [00:00<?, ?it/s]"
      ]
     },
     "metadata": {},
     "output_type": "display_data"
    },
    {
     "data": {
      "application/vnd.jupyter.widget-view+json": {
       "model_id": "b0cd5f6f523a44c3a20e2c39afb96f2a",
       "version_major": 2,
       "version_minor": 0
      },
      "text/plain": [
       "Epoch 49/50 [Test]:   0%|          | 0/157 [00:00<?, ?it/s]"
      ]
     },
     "metadata": {},
     "output_type": "display_data"
    },
    {
     "data": {
      "application/vnd.jupyter.widget-view+json": {
       "model_id": "a105752b6daf45c496df9cc1236ee533",
       "version_major": 2,
       "version_minor": 0
      },
      "text/plain": [
       "Epoch 50/50 [Train]:   0%|          | 0/157 [00:00<?, ?it/s]"
      ]
     },
     "metadata": {},
     "output_type": "display_data"
    },
    {
     "data": {
      "application/vnd.jupyter.widget-view+json": {
       "model_id": "47492d01da7b4e4394c0b48a3c804c82",
       "version_major": 2,
       "version_minor": 0
      },
      "text/plain": [
       "Epoch 50/50 [Test]:   0%|          | 0/157 [00:00<?, ?it/s]"
      ]
     },
     "metadata": {},
     "output_type": "display_data"
    }
   ],
   "source": [
    "optimizer = optim.Adam(model.parameters(), lr=0.0001)\n",
    "criterion_cls = nn.CrossEntropyLoss()\n",
    "criterion_seq = nn.CrossEntropyLoss(ignore_index=smiles_vocab['<pad>'])\n",
    "\n",
    "model, history = train_model_seq2seq(model, train_loader, test_loader, \n",
    "                                     optimizer, criterion_seq, \n",
    "                                     num_epochs=50, evaluate=True, verbose=1,\n",
    "                                     checkpoint_path=\"./model_checkpoints/\",\n",
    "                                     meta_tag=(method+\"_atom_wise\"))"
   ]
  },
  {
   "cell_type": "code",
   "execution_count": 18,
   "metadata": {},
   "outputs": [
    {
     "name": "stdout",
     "output_type": "stream",
     "text": [
      "True SMILES: C<unk><unk>CC<unk><unk>C<unk>C<unk>C<unk>C<unk>C<unk><unk>C<unk>N<unk><unk>S<unk><unk><unk>C<unk><unk>C<unk>C<unk>C<unk>C\n",
      "Pred SMILES: C<unk><unk>CC<unk><unk>C<unk>C<unk>C<unk>C<unk>C<unk><unk>C<unk>N<unk><unk>S<unk><unk><unk>C<unk><unk>C<unk>C<unk>C<unk>CCCCCC\n",
      "\n",
      "True SMILES: O<unk>C<unk>OCC<unk>CC<unk>O<unk>S<unk><unk><unk>C<unk><unk>C<unk>C<unk><unk>C<unk>CC\n",
      "Pred SMILES: O<unk>C<unk>OCC<unk>CC<unk>O<unk>S<unk><unk><unk>C<unk><unk>C<unk>C<unk><unk>C<unk>CCCCCCCCCCCCCCC\n",
      "\n",
      "True SMILES: O<unk>C<unk>O<unk>S<unk><unk><unk>C<unk><unk>C<unk>C<unk>C<unk>N<unk>C<unk>C<unk>C\n",
      "Pred SMILES: O<unk>C<unk>O<unk>S<unk><unk><unk>C<unk><unk>C<unk>C<unk>C<unk>N<unk>C<unk>C<unk>CCCCCCCCCCCCCCC\n",
      "\n",
      "True SMILES: O<unk>C<unk>OC<unk>CC<unk>O<unk>S<unk><unk><unk>C<unk><unk>C<unk>C<unk>C\n",
      "Pred SMILES: O<unk>C<unk>OC<unk>CC<unk>O<unk>S<unk><unk><unk>C<unk><unk>C<unk>C<unk>CCCCCCCCCCCCCCCCCCC\n",
      "\n",
      "True SMILES: O<unk>CCCC<unk><unk>S<unk><unk><unk>C<unk><unk>C<unk>C\n",
      "Pred SMILES: O<unk>CCCC<unk><unk>S<unk><unk><unk>C<unk><unk>C<unk>CCCCCCCCCCCCCCCCCCCCCCCCC\n",
      "\n",
      "True SMILES: O<unk>C<unk>CC<unk>CCC<unk>C<unk><unk><unk>S<unk><unk><unk>C<unk><unk>C<unk>C\n",
      "Pred SMILES: O<unk>C<unk>CC<unk>CCC<unk>C<unk><unk><unk>S<unk><unk><unk>C<unk><unk>C<unk>CCCCCCCCCCCCCCCCC\n",
      "\n",
      "True SMILES: OC<unk><unk>CC<unk>CC<unk>O<unk>S<unk><unk><unk>C<unk><unk>C<unk>C<unk><unk>C<unk>\n",
      "Pred SMILES: OC<unk><unk>CC<unk>CC<unk>O<unk>S<unk><unk><unk>C<unk><unk>C<unk>C<unk><unk>C<unk>CCCCCCCCCCCCCC\n",
      "\n",
      "True SMILES: N<unk>O<unk>S<unk><unk><unk>C<unk><unk>C<unk>C<unk><unk>C<unk>C<unk><unk>CC<unk>C<unk>OC<unk>C<unk>C<unk><unk>C\n",
      "Pred SMILES: N<unk>O<unk>S<unk><unk><unk>C<unk><unk>C<unk>C<unk><unk>C<unk>C<unk><unk>CC<unk>C<unk>OC<unk>C<unk>C<unk><unk>CCCCCCC\n",
      "\n",
      "True SMILES: O<unk>C<unk><unk>C<unk>CC<unk>CC<unk>N<unk><unk>S<unk><unk><unk>C<unk><unk>C<unk>C\n",
      "Pred SMILES: O<unk>C<unk><unk>C<unk>CC<unk>CC<unk>N<unk><unk>S<unk><unk><unk>C<unk><unk>C<unk>CCCCCCCCCCCCCCC\n",
      "\n",
      "True SMILES: O<unk>C<unk>CCC<unk>C<unk><unk>C<unk>CC<unk>CC<unk><unk>CCO<unk>S<unk><unk><unk>C<unk><unk>C<unk>C\n",
      "Pred SMILES: O<unk>C<unk>CCC<unk>C<unk><unk>C<unk>CC<unk>CC<unk><unk>CCO<unk>S<unk><unk><unk>C<unk><unk>C<unk>CCCCCCC\n",
      "\n",
      "True SMILES: N<unk>CC<unk><unk>C<unk><unk>S<unk>N<unk>C<unk><unk>CC<unk>C<unk>C<unk><unk>S<unk><unk><unk>C<unk><unk>C<unk>C\n",
      "Pred SMILES: N<unk>CC<unk><unk>C<unk><unk>S<unk>N<unk>C<unk><unk>CC<unk>C<unk>C<unk><unk>S<unk><unk><unk>C<unk><unk>C<unk>CCCCCCC\n",
      "\n",
      "True SMILES: O<unk>C<unk><unk>CC<unk>C<unk>C<unk>C<unk><unk>C<unk>C<unk><unk>C<unk>CC<unk><unk>S<unk><unk><unk>C<unk><unk>C<unk>C\n",
      "Pred SMILES: O<unk>C<unk><unk>CC<unk>C<unk>C<unk>C<unk><unk>C<unk>C<unk><unk>C<unk>CC<unk><unk>S<unk><unk><unk>C<unk><unk>C<unk>CCCCCC\n",
      "\n",
      "True SMILES: O<unk>C<unk>O<unk>S<unk><unk><unk>C<unk><unk>C<unk>C<unk>C<unk>C<unk>CC<unk>C\n",
      "Pred SMILES: O<unk>C<unk>O<unk>S<unk><unk><unk>C<unk><unk>C<unk>C<unk>C<unk>C<unk>CC<unk>CCCCCCCCCCCCCCCCC\n",
      "\n",
      "True SMILES: O<unk>C<unk>C<unk>CCCCC<unk><unk>S<unk><unk><unk>C<unk><unk>C<unk>C\n",
      "Pred SMILES: O<unk>C<unk>C<unk>CCCCC<unk><unk>S<unk><unk><unk>C<unk><unk>C<unk>CCCCCCCCCCCCCCCCCCC\n",
      "\n",
      "True SMILES: O<unk>C<unk>O<unk>S<unk><unk><unk>C<unk><unk>C<unk>C<unk>C<unk><unk>C<unk>CC<unk>CC<unk>O\n",
      "Pred SMILES: O<unk>C<unk>O<unk>S<unk><unk><unk>C<unk><unk>C<unk>C<unk>C<unk><unk>C<unk>CC<unk>CC<unk>OCCCCCCCCCCCC\n",
      "\n",
      "True SMILES: O<unk>C<unk>OC<unk><unk>C<unk>CC<unk>CC<unk>C<unk>O<unk>S<unk><unk><unk>C<unk><unk>C<unk>C<unk><unk>C<unk>\n",
      "Pred SMILES: O<unk>C<unk>OC<unk><unk>C<unk>CC<unk>CC<unk>C<unk>O<unk>S<unk><unk><unk>C<unk><unk>C<unk>C<unk><unk>C<unk>CCCCC\n",
      "\n",
      "True SMILES: O<unk>C<unk>OCC<unk><unk>O<unk>O<unk>S<unk><unk><unk>C<unk><unk>C<unk>C<unk>C\n",
      "Pred SMILES: O<unk>C<unk>OCC<unk><unk>O<unk>O<unk>S<unk><unk><unk>C<unk><unk>C<unk>C<unk>CCCCCCCCCCCCCCCC\n",
      "\n",
      "True SMILES: O<unk>C<unk><unk>CC<unk>C<unk>C<unk>C<unk>C<unk>C<unk><unk>S<unk><unk><unk>C<unk><unk>C<unk>C\n",
      "Pred SMILES: O<unk>C<unk><unk>CC<unk>C<unk>C<unk>C<unk>C<unk>C<unk><unk>S<unk><unk><unk>C<unk><unk>C<unk>CCCCCCCCCCCC\n",
      "\n",
      "True SMILES: O<unk>CCC<unk>CC<unk>O<unk>S<unk><unk><unk>C<unk><unk>C<unk>C<unk>C\n",
      "Pred SMILES: O<unk>CCC<unk>CC<unk>O<unk>S<unk><unk><unk>C<unk><unk>C<unk>C<unk>CCCCCCCCCCCCCCCCCC\n",
      "\n",
      "True SMILES: O<unk>C<unk>C<unk><unk>O<unk>N<unk>C<unk><unk>CC<unk>C<unk>C<unk>C<unk><unk><unk>C<unk><unk>S<unk><unk><unk>C<unk><unk>C<unk>C\n",
      "Pred SMILES: O<unk>C<unk>C<unk><unk>O<unk>N<unk>C<unk><unk>CC<unk>C<unk>C<unk>C<unk><unk><unk>C<unk><unk>S<unk><unk><unk>C<unk><unk>C<unk>CC\n",
      "\n",
      "True SMILES: O<unk>S<unk><unk>O<unk><unk>CC<unk>CCO<unk>S<unk><unk><unk>C<unk><unk>C<unk>C\n",
      "Pred SMILES: O<unk>S<unk><unk>O<unk><unk>CC<unk>CCO<unk>S<unk><unk><unk>C<unk><unk>C<unk>CCCCCCCCCCCCCCC\n",
      "\n",
      "True SMILES: O<unk>CC<unk><unk>CN<unk>C<unk><unk>C<unk>CC<unk>CC<unk><unk><unk><unk>S<unk><unk><unk>C<unk><unk>C<unk>C\n",
      "Pred SMILES: O<unk>CC<unk><unk>CN<unk>C<unk><unk>C<unk>CC<unk>CC<unk><unk><unk><unk>S<unk><unk><unk>C<unk><unk>C<unk>CCCCCC\n",
      "\n",
      "True SMILES: O<unk>C<unk>CC<unk>NC<unk><unk>C<unk>CCCCC<unk><unk><unk>C<unk><unk>S<unk><unk><unk>C<unk><unk>C<unk>C\n",
      "Pred SMILES: O<unk>C<unk>CC<unk>NC<unk><unk>C<unk>CCCCC<unk><unk><unk>C<unk><unk>S<unk><unk><unk>C<unk><unk>C<unk>CCCCC\n",
      "\n",
      "True SMILES: O<unk>C<unk>O<unk>S<unk><unk><unk>C<unk><unk>C<unk>C<unk>C<unk><unk>O<unk>C<unk>C<unk>C\n",
      "Pred SMILES: O<unk>C<unk>O<unk>S<unk><unk><unk>C<unk><unk>C<unk>C<unk>C<unk><unk>O<unk>C<unk>C<unk>CCCCCCCCCCCC\n",
      "\n",
      "True SMILES: O<unk>C<unk>O<unk>S<unk><unk><unk>C<unk><unk>C<unk>C<unk>C<unk><unk>CC<unk>OC<unk><unk>CC<unk>C<unk>OC\n",
      "Pred SMILES: O<unk>C<unk>O<unk>S<unk><unk><unk>C<unk><unk>C<unk>C<unk>C<unk><unk>CC<unk>OC<unk><unk>CC<unk>C<unk>OCCCCC\n",
      "\n",
      "True SMILES: O<unk>C<unk><unk>C<unk><unk>CC<unk>CC<unk>C<unk>C<unk><unk>C<unk>C<unk>C<unk><unk>S<unk><unk><unk>C<unk><unk>C<unk>C\n",
      "Pred SMILES: O<unk>C<unk><unk>C<unk><unk>CC<unk>CC<unk>C<unk>C<unk><unk>C<unk>C<unk>C<unk><unk>S<unk><unk><unk>C<unk><unk>C<unk>CC\n",
      "\n",
      "True SMILES: O<unk>C<unk>O<unk>S<unk><unk><unk>C<unk><unk>C<unk>C<unk>CCCC<unk><unk>C<unk>CC<unk>CC<unk>\n",
      "Pred SMILES: O<unk>C<unk>O<unk>S<unk><unk><unk>C<unk><unk>C<unk>C<unk>CCCC<unk><unk>C<unk>CC<unk>CC<unk>CCCCC\n",
      "\n",
      "True SMILES: O<unk>C<unk>O<unk>S<unk><unk><unk>C<unk><unk>C<unk>C<unk>C<unk>CCCC\n",
      "Pred SMILES: O<unk>C<unk>O<unk>S<unk><unk><unk>C<unk><unk>C<unk>C<unk>C<unk>CCCCCCCCCCCCCCCCC\n",
      "\n",
      "True SMILES: O<unk>C<unk><unk>CC<unk>C<unk>N<unk>C<unk>C<unk><unk><unk>S<unk><unk><unk>C<unk><unk>C<unk>C\n",
      "Pred SMILES: O<unk>C<unk><unk>CC<unk>C<unk>N<unk>C<unk>C<unk><unk><unk>S<unk><unk><unk>C<unk><unk>C<unk>CCCCCCCC\n",
      "\n",
      "True SMILES: O<unk>CCCSC<unk><unk>S<unk><unk><unk>C<unk><unk>C<unk>C\n",
      "Pred SMILES: O<unk>CCCSC<unk><unk>S<unk><unk><unk>C<unk><unk>C<unk>CCCCCCCCCCCCCCCCCC\n",
      "\n",
      "True SMILES: C<unk><unk>C<unk>C<unk>N<unk>C<unk><unk><unk>S<unk><unk><unk>C<unk><unk>C<unk>C<unk>CN<unk>C<unk>C\n",
      "Pred SMILES: C<unk><unk>C<unk>C<unk>N<unk>C<unk><unk><unk>S<unk><unk><unk>C<unk><unk>C<unk>C<unk>CN<unk>C<unk>CCCCCCCC\n",
      "\n",
      "True SMILES: O<unk>C<unk>O<unk>S<unk><unk><unk>C<unk><unk>C<unk>C<unk>C<unk><unk>SC<unk>CC<unk>\n",
      "Pred SMILES: O<unk>C<unk>O<unk>S<unk><unk><unk>C<unk><unk>C<unk>C<unk>C<unk><unk>SC<unk>CC<unk>CCCCCCCCCCC\n",
      "\n",
      "True SMILES: OC<unk><unk>NC<unk>C<unk>CC<unk>O<unk>S<unk><unk><unk>C<unk><unk>C<unk>C<unk>CC<unk><unk>C\n",
      "Pred SMILES: OC<unk><unk>NC<unk>C<unk>CC<unk>O<unk>S<unk><unk><unk>C<unk><unk>C<unk>C<unk>CC<unk><unk>CCCCCCCC\n",
      "\n",
      "True SMILES: O<unk>C<unk><unk>CC<unk>C<unk>O<unk>S<unk><unk><unk>C<unk><unk>C<unk>C<unk>C<unk>C<unk>OC<unk>C\n",
      "Pred SMILES: O<unk>C<unk><unk>CC<unk>C<unk>O<unk>S<unk><unk><unk>C<unk><unk>C<unk>C<unk>C<unk>C<unk>OC<unk>CCCCCC\n",
      "\n",
      "True SMILES: O<unk>C<unk>O<unk>S<unk><unk><unk>C<unk><unk>C<unk>C<unk>C<unk>CC<unk><unk>O<unk>C<unk><unk>C<unk>CC<unk>CC<unk>\n",
      "Pred SMILES: O<unk>C<unk>O<unk>S<unk><unk><unk>C<unk><unk>C<unk>C<unk>C<unk>CC<unk><unk>O<unk>C<unk><unk>C<unk>CC<unk>CC<unk>\n",
      "\n",
      "True SMILES: O<unk>C<unk>OC<unk>C<unk><unk>C<unk>CC<unk>CC<unk>O<unk>S<unk><unk><unk>C<unk><unk>C<unk>C\n",
      "Pred SMILES: O<unk>C<unk>OC<unk>C<unk><unk>C<unk>CC<unk>CC<unk>O<unk>S<unk><unk><unk>C<unk><unk>C<unk>CCCCCCCCCCCCC\n",
      "\n",
      "True SMILES: O<unk>CC<unk>CCCCCCCCCC<unk><unk>S<unk><unk><unk>C<unk><unk>C<unk>C\n",
      "Pred SMILES: O<unk>CC<unk>CCCCCCCCCC<unk><unk>S<unk><unk><unk>C<unk><unk>C<unk>CCCCCCCCCCCCCCC\n",
      "\n",
      "True SMILES: O<unk>CCC<unk>CCC<unk><unk>S<unk><unk><unk>C<unk><unk>C<unk>C\n",
      "Pred SMILES: O<unk>CCC<unk>CCC<unk><unk>S<unk><unk><unk>C<unk><unk>C<unk>CCCCCCCCCCCCCCCCCCCCC\n",
      "\n",
      "True SMILES: O<unk>C<unk>O<unk>S<unk><unk><unk>C<unk><unk>C<unk>C<unk>CC<unk><unk>CC<unk>CC<unk><unk>C<unk>CC<unk>CC<unk><unk>\n",
      "Pred SMILES: O<unk>C<unk>O<unk>S<unk><unk><unk>C<unk><unk>C<unk>C<unk>CC<unk><unk>CC<unk>CC<unk><unk>C<unk>CC<unk>CC<unk><unk>CCCC<unk>\n",
      "\n",
      "True SMILES: N<unk>O<unk>S<unk><unk><unk>C<unk><unk>C<unk>C<unk><unk>C<unk>CC<unk>NC<unk>C<unk><unk>C<unk>C<unk><unk><unk>C<unk>C\n",
      "Pred SMILES: N<unk>O<unk>S<unk><unk><unk>C<unk><unk>C<unk>C<unk><unk>C<unk>CC<unk>NC<unk>C<unk><unk>C<unk>C<unk><unk><unk>C<unk>CCCCCC\n",
      "\n",
      "True SMILES: O<unk>C<unk>C<unk>COC<unk>O<unk>S<unk><unk><unk>C<unk><unk>C<unk>C<unk>C<unk>OC<unk>C<unk>OC\n",
      "Pred SMILES: O<unk>C<unk>C<unk>COC<unk>O<unk>S<unk><unk><unk>C<unk><unk>C<unk>C<unk>C<unk>OC<unk>C<unk>OCCCCCC\n",
      "\n",
      "True SMILES: O<unk>CCN<unk>C<unk>C<unk><unk>S<unk><unk><unk>C<unk><unk>C<unk>C\n",
      "Pred SMILES: O<unk>CCN<unk>C<unk>C<unk><unk>S<unk><unk><unk>C<unk><unk>C<unk>CCCCCCCCCCCCCCCCC\n",
      "\n",
      "True SMILES: O<unk>O<unk>S<unk><unk><unk>C<unk><unk>C<unk>C<unk>C<unk>OCCC<unk>\n",
      "Pred SMILES: O<unk>O<unk>S<unk><unk><unk>C<unk><unk>C<unk>C<unk>C<unk>OCCC<unk>CCCCCCCCCCCCCCC\n",
      "\n",
      "True SMILES: O<unk>CC<unk>CCCC<unk><unk>S<unk><unk><unk>C<unk><unk>C<unk>C\n",
      "Pred SMILES: O<unk>CC<unk>CCCC<unk><unk>S<unk><unk><unk>C<unk><unk>C<unk>CCCCCCCCCCCCCCCCC\n",
      "\n",
      "True SMILES: N<unk>CC<unk>CC<unk>CC<unk><unk>S<unk><unk><unk>C<unk><unk>C<unk>C\n",
      "Pred SMILES: N<unk>CC<unk>CC<unk>CC<unk><unk>S<unk><unk><unk>C<unk><unk>C<unk>CCCCCCCCCCCCCCCC\n",
      "\n",
      "True SMILES: N<unk>O<unk>S<unk><unk><unk>C<unk><unk>C<unk>C<unk><unk>C<unk>C<unk>C<unk>C<unk><unk>C<unk>CC<unk>CC<unk>CC<unk>\n",
      "Pred SMILES: N<unk>O<unk>S<unk><unk><unk>C<unk><unk>C<unk>C<unk><unk>C<unk>C<unk>C<unk>C<unk><unk>C<unk>CC<unk>CC<unk>CC<unk>CCCCC\n",
      "\n",
      "True SMILES: OCCCO<unk>S<unk><unk><unk>C<unk><unk>C<unk>C\n",
      "Pred SMILES: OCCCO<unk>S<unk><unk><unk>C<unk><unk>C<unk>CCCCCCCCCCCCCCCCCCCCCCCCC\n",
      "\n",
      "True SMILES: O<unk>CC<unk>CCC<unk><unk>S<unk><unk><unk>C<unk><unk>C<unk>C\n",
      "Pred SMILES: O<unk>CC<unk>CCC<unk><unk>S<unk><unk><unk>C<unk><unk>C<unk>CCCCCCCCCCCCCCCCCCCCC\n",
      "\n",
      "True SMILES: O<unk>CCCCCCCC<unk><unk>S<unk><unk><unk>C<unk><unk>C<unk>C\n",
      "Pred SMILES: O<unk>CCCCCCCC<unk><unk>S<unk><unk><unk>C<unk><unk>C<unk>CCCCCCCCCCCCCCCCCCC\n",
      "\n",
      "True SMILES: O<unk>C<unk><unk>C<unk>CC<unk>CC<unk><unk>CCS<unk>S<unk><unk><unk>C<unk><unk>C<unk>C\n",
      "Pred SMILES: O<unk>C<unk><unk>C<unk>CC<unk>CC<unk><unk>CCS<unk>S<unk><unk><unk>C<unk><unk>C<unk>CCCCCCCCCCCCC\n",
      "\n",
      "True SMILES: O<unk>C<unk>O<unk>S<unk><unk><unk>C<unk><unk>C<unk>C<unk>CCCN<unk>C<unk>C\n",
      "Pred SMILES: O<unk>C<unk>O<unk>S<unk><unk><unk>C<unk><unk>C<unk>C<unk>CCCN<unk>C<unk>CCCCCCCCCCCCCC\n",
      "\n",
      "True SMILES: O<unk>CC<unk><unk>CC<unk>C<unk>C<unk>C<unk><unk>N<unk>C<unk>C<unk><unk>S<unk><unk><unk>C<unk><unk>C<unk>C\n",
      "Pred SMILES: O<unk>CC<unk><unk>CC<unk>C<unk>C<unk>C<unk><unk>N<unk>C<unk>C<unk><unk>S<unk><unk><unk>C<unk><unk>C<unk>CCCCCC\n",
      "\n",
      "True SMILES: O<unk>C<unk>CCC<unk>C<unk>CCO<unk>S<unk><unk><unk>C<unk><unk>C<unk>C\n",
      "Pred SMILES: O<unk>C<unk>CCC<unk>C<unk>CCO<unk>S<unk><unk><unk>C<unk><unk>C<unk>CCCCCCCCCCCCCCCC\n",
      "\n",
      "True SMILES: O<unk>CC<unk><unk>CC<unk>C<unk>OC<unk>C<unk>O<unk>S<unk><unk><unk>C<unk><unk>C<unk>C<unk><unk>C<unk>\n",
      "Pred SMILES: O<unk>CC<unk><unk>CC<unk>C<unk>OC<unk>C<unk>O<unk>S<unk><unk><unk>C<unk><unk>C<unk>C<unk><unk>C<unk>CCCCCC\n",
      "\n",
      "True SMILES: O<unk>C<unk><unk>CC<unk>C<unk>C<unk>C<unk><unk>C<unk>C<unk><unk>C<unk>C<unk><unk>S<unk><unk><unk>C<unk><unk>C<unk>C\n",
      "Pred SMILES: O<unk>C<unk><unk>CC<unk>C<unk>C<unk>C<unk><unk>C<unk>C<unk><unk>C<unk>C<unk><unk>S<unk><unk><unk>C<unk><unk>C<unk>CCCCC\n",
      "\n",
      "True SMILES: O<unk>C<unk>C<unk>CCCCC<unk>C<unk><unk>S<unk><unk><unk>C<unk><unk>C<unk>C\n",
      "Pred SMILES: O<unk>C<unk>C<unk>CCCCC<unk>C<unk><unk>S<unk><unk><unk>C<unk><unk>C<unk>CCCCCCCCCCCCCCC\n",
      "\n",
      "True SMILES: <unk>C<unk><unk><unk><unk>N<unk><unk>C<unk>CCCCC<unk>O<unk>S<unk><unk><unk>C<unk><unk>C<unk>C\n",
      "Pred SMILES: <unk>C<unk><unk><unk><unk>N<unk><unk>C<unk>CCCCC<unk>O<unk>S<unk><unk><unk>C<unk><unk>C<unk>CCCCCCCCCCC\n",
      "\n",
      "True SMILES: O<unk>C<unk>CC<unk>CCC<unk><unk>C<unk>C<unk><unk>C<unk>C<unk><unk>S<unk><unk><unk>C<unk><unk>C<unk>C\n",
      "Pred SMILES: O<unk>C<unk>CC<unk>CCC<unk><unk>C<unk>C<unk><unk>C<unk>C<unk><unk>S<unk><unk><unk>C<unk><unk>C<unk>CCCCCCC\n",
      "\n",
      "True SMILES: O<unk>C<unk>O<unk>S<unk><unk><unk>C<unk><unk>C<unk>C<unk>C<unk><unk>NC<unk>CN<unk>C<unk>\n",
      "Pred SMILES: O<unk>C<unk>O<unk>S<unk><unk><unk>C<unk><unk>C<unk>C<unk>C<unk><unk>NC<unk>CN<unk>C<unk>CCCCCCCCCC\n",
      "\n",
      "True SMILES: O<unk>C<unk>OC<unk>CN<unk>S<unk><unk><unk>C<unk><unk>C<unk>C\n",
      "Pred SMILES: O<unk>C<unk>OC<unk>CN<unk>S<unk><unk><unk>C<unk><unk>C<unk>CCCCCCCCCCCCCCCCCCC\n",
      "\n",
      "True SMILES: O<unk>C<unk>C<unk>C<unk>N<unk>C<unk><unk>O<unk>N<unk>C<unk>C<unk>CO<unk>S<unk><unk><unk>C<unk><unk>C<unk>C\n",
      "Pred SMILES: O<unk>C<unk>C<unk>C<unk>N<unk>C<unk><unk>O<unk>N<unk>C<unk>C<unk>CO<unk>S<unk><unk><unk>C<unk><unk>C<unk>CCCCCCC\n",
      "\n",
      "True SMILES: O<unk>C<unk>O<unk>S<unk><unk><unk>C<unk><unk>C<unk>C<unk>C<unk><unk>CC<unk>C\n",
      "Pred SMILES: O<unk>C<unk>O<unk>S<unk><unk><unk>C<unk><unk>C<unk>C<unk>C<unk><unk>CC<unk>CCCCCCCCCCCCCCCCCC\n",
      "\n",
      "True SMILES: O<unk>C<unk>O<unk>S<unk><unk><unk>C<unk><unk>C<unk>C<unk>CCCC\n",
      "Pred SMILES: O<unk>C<unk>O<unk>S<unk><unk><unk>C<unk><unk>C<unk>C<unk>CCCCCCCCCCCCCCCCCCCCCCC\n",
      "\n",
      "True SMILES: O<unk>C<unk>CCC<unk><unk>C<unk>C<unk>C<unk>C<unk>O<unk>S<unk><unk><unk>C<unk><unk>C<unk>C<unk><unk>C<unk>C\n",
      "Pred SMILES: O<unk>C<unk>CCC<unk><unk>C<unk>C<unk>C<unk>C<unk>O<unk>S<unk><unk><unk>C<unk><unk>C<unk>C<unk><unk>C<unk>CCCCCCC\n",
      "\n",
      "True SMILES: C<unk><unk>C<unk>CC<unk><unk>CC<unk><unk>C<unk><unk>CC<unk><unk>C<unk>CC<unk>CC<unk>N<unk><unk>S<unk><unk><unk>C<unk><unk>C<unk>C\n",
      "Pred SMILES: C<unk><unk>C<unk>CC<unk><unk>CC<unk><unk>C<unk><unk>CC<unk><unk>C<unk>CC<unk>CC<unk>N<unk><unk>S<unk><unk><unk>C<unk><unk>C<unk>CC\n",
      "\n",
      "True SMILES: OC<unk><unk>NCCO<unk>S<unk><unk><unk>C<unk><unk>C<unk>C<unk>C\n",
      "Pred SMILES: OC<unk><unk>NCCO<unk>S<unk><unk><unk>C<unk><unk>C<unk>C<unk>CCCCCCCCCCCCCCCCCCCC\n",
      "\n",
      "True SMILES: O<unk>CCC<unk>C<unk>CC<unk><unk>S<unk><unk><unk>C<unk><unk>C<unk>C\n",
      "Pred SMILES: O<unk>CCC<unk>C<unk>CC<unk><unk>S<unk><unk><unk>C<unk><unk>C<unk>CCCCCCCCCCCCCCCCCCC\n",
      "\n",
      "True SMILES: O<unk>C<unk>C<unk>O<unk>S<unk><unk><unk>C<unk><unk>C<unk>C<unk><unk>C<unk>C<unk><unk>O<unk>C<unk><unk>C<unk>CC<unk>CC<unk><unk><unk>C\n",
      "Pred SMILES: O<unk>C<unk>C<unk>O<unk>S<unk><unk><unk>C<unk><unk>C<unk>C<unk><unk>C<unk>C<unk><unk>O<unk>C<unk><unk>C<unk>CC<unk>CC<unk><unk><unk>CC\n",
      "\n",
      "True SMILES: C<unk><unk>CC<unk>O<unk>S<unk><unk><unk>C<unk><unk>C<unk>C<unk>C<unk>C<unk>CCC<unk>C<unk><unk>C<unk>C\n",
      "Pred SMILES: C<unk><unk>CC<unk>O<unk>S<unk><unk><unk>C<unk><unk>C<unk>C<unk>C<unk>C<unk>CCC<unk>C<unk><unk>C<unk>CCCCCCCC\n",
      "\n",
      "True SMILES: O<unk>CC<unk>CCCC<unk>CCCCCC<unk><unk>S<unk><unk><unk>C<unk><unk>C<unk>C\n",
      "Pred SMILES: O<unk>CC<unk>CCCC<unk>CCCCCC<unk><unk>S<unk><unk><unk>C<unk><unk>C<unk>CCCCCCCCCCCCC\n",
      "\n",
      "True SMILES: O<unk>C<unk><unk>CC<unk>C<unk>C<unk>C<unk><unk>N<unk>S<unk><unk><unk>C<unk><unk>C<unk>C<unk>C\n",
      "Pred SMILES: O<unk>C<unk><unk>CC<unk>C<unk>C<unk>C<unk><unk>N<unk>S<unk><unk><unk>C<unk><unk>C<unk>C<unk>CCCCCCCCCC\n",
      "\n",
      "True SMILES: O<unk>CC<unk>CCCCCCCC<unk><unk>S<unk><unk><unk>C<unk><unk>C<unk>C\n",
      "Pred SMILES: O<unk>CC<unk>CCCCCCCC<unk><unk>S<unk><unk><unk>C<unk><unk>C<unk>CCCCCCCCCCCCCC\n",
      "\n",
      "True SMILES: O<unk>CC<unk>C<unk><unk>C<unk>C<unk>CC<unk>C<unk>C<unk>C<unk><unk>S<unk><unk><unk>C<unk><unk>C<unk>C\n",
      "Pred SMILES: O<unk>CC<unk>C<unk><unk>C<unk>C<unk>CC<unk>C<unk>C<unk>C<unk><unk>S<unk><unk><unk>C<unk><unk>C<unk>CCCCCC\n",
      "\n",
      "True SMILES: O<unk>C<unk>O<unk>S<unk><unk><unk>C<unk><unk>C<unk>C<unk>C<unk>NCCCC<unk>\n",
      "Pred SMILES: O<unk>C<unk>O<unk>S<unk><unk><unk>C<unk><unk>C<unk>C<unk>C<unk>NCCCC<unk>CCCCCCCCCCCC\n",
      "\n",
      "True SMILES: NC<unk><unk>CC<unk>CC<unk><unk>C<unk><unk>CC<unk>CC<unk><unk><unk>N<unk>S<unk><unk><unk>C<unk><unk>C<unk>C\n",
      "Pred SMILES: NC<unk><unk>CC<unk>CC<unk><unk>C<unk><unk>CC<unk>CC<unk><unk><unk>N<unk>S<unk><unk><unk>C<unk><unk>C<unk>CCC<unk>\n",
      "\n",
      "True SMILES: C<unk><unk>C<unk>CC<unk><unk>CC<unk><unk>CN<unk>CC<unk><unk>S<unk><unk><unk>C<unk><unk>C<unk>C\n",
      "Pred SMILES: C<unk><unk>C<unk>CC<unk><unk>CC<unk><unk>CN<unk>CC<unk><unk>S<unk><unk><unk>C<unk><unk>C<unk>CCCCCCC\n",
      "\n",
      "True SMILES: O<unk>C<unk>O<unk>S<unk><unk><unk>C<unk><unk>C<unk>C<unk>COCCOC\n",
      "Pred SMILES: O<unk>C<unk>O<unk>S<unk><unk><unk>C<unk><unk>C<unk>C<unk>COCCOCCCCCCCCCCCCCC\n",
      "\n",
      "True SMILES: O<unk>C<unk>O<unk>S<unk><unk><unk>C<unk><unk>C<unk>C<unk>COC<unk><unk>C<unk>CC<unk>CC<unk>\n",
      "Pred SMILES: O<unk>C<unk>O<unk>S<unk><unk><unk>C<unk><unk>C<unk>C<unk>COC<unk><unk>C<unk>CC<unk>CC<unk>CCCCCC\n",
      "\n",
      "True SMILES: S<unk>C<unk>S<unk>S<unk><unk><unk>C<unk><unk>C<unk>C<unk>N<unk>CC<unk>CC\n",
      "Pred SMILES: S<unk>C<unk>S<unk>S<unk><unk><unk>C<unk><unk>C<unk>C<unk>N<unk>CC<unk>CCCCCCCCCCCCCC\n",
      "\n",
      "True SMILES: O<unk>CCCCCCCCCCCC<unk><unk>S<unk><unk><unk>C<unk><unk>C<unk>C\n",
      "Pred SMILES: O<unk>CCCCCCCCCCCC<unk><unk>S<unk><unk><unk>C<unk><unk>C<unk>CCCCCCCCCCC\n",
      "\n",
      "True SMILES: O<unk>C<unk>N<unk>C<unk><unk>CC<unk>OC<unk><unk>CC<unk>C<unk>CCC<unk><unk><unk>S<unk><unk><unk>C<unk><unk>C<unk>C\n",
      "Pred SMILES: O<unk>C<unk>N<unk>C<unk><unk>CC<unk>OC<unk><unk>CC<unk>C<unk>CCC<unk><unk><unk>S<unk><unk><unk>C<unk><unk>C<unk>CC\n",
      "\n",
      "True SMILES: O<unk>C<unk>C<unk>C<unk>O<unk>S<unk><unk><unk>C<unk><unk>C<unk>C<unk>C\n",
      "Pred SMILES: O<unk>C<unk>C<unk>C<unk>O<unk>S<unk><unk><unk>C<unk><unk>C<unk>C<unk>CCCCCCCCCCCCCCC\n",
      "\n",
      "True SMILES: N<unk><unk>CCCCCC<unk><unk><unk>S<unk><unk><unk>C<unk><unk>C<unk>C\n",
      "Pred SMILES: N<unk><unk>CCCCCC<unk><unk><unk>S<unk><unk><unk>C<unk><unk>C<unk>CCCCCCCCCCCCCCC\n",
      "\n",
      "True SMILES: O<unk>C<unk>N<unk>C<unk>C<unk>C<unk><unk>C<unk>NC<unk>CC<unk><unk>CC<unk>O<unk>S<unk><unk><unk>C<unk><unk>C<unk>C\n",
      "Pred SMILES: O<unk>C<unk>N<unk>C<unk>C<unk>C<unk><unk>C<unk>NC<unk>CC<unk><unk>CC<unk>O<unk>S<unk><unk><unk>C<unk><unk>C<unk>CC\n",
      "\n",
      "True SMILES: O<unk>C<unk><unk>CC<unk>O<unk>S<unk><unk><unk>C<unk><unk>C<unk>C<unk><unk>CC<unk>C<unk>CCN<unk>C\n",
      "Pred SMILES: O<unk>C<unk><unk>CC<unk>O<unk>S<unk><unk><unk>C<unk><unk>C<unk>C<unk><unk>CC<unk>C<unk>CCN<unk>CCCCC\n",
      "\n",
      "True SMILES: O<unk>C<unk>OC<unk>CC<unk>O<unk>S<unk><unk><unk>C<unk><unk>C<unk>C<unk>CC<unk><unk>O<unk>OC\n",
      "Pred SMILES: O<unk>C<unk>OC<unk>CC<unk>O<unk>S<unk><unk><unk>C<unk><unk>C<unk>C<unk>CC<unk><unk>O<unk>OCCCCCCCC\n",
      "\n",
      "True SMILES: O<unk>C<unk>C<unk>C<unk>C<unk>C<unk><unk>S<unk><unk><unk>C<unk><unk>C<unk>C\n",
      "Pred SMILES: O<unk>C<unk>C<unk>C<unk>C<unk>C<unk><unk>S<unk><unk><unk>C<unk><unk>C<unk>CCCCCCCCCCCCCCCC\n",
      "\n",
      "True SMILES: O<unk>CC<unk>C<unk>CC<unk>C<unk><unk>C<unk>C<unk><unk>S<unk><unk><unk>C<unk><unk>C<unk>C\n",
      "Pred SMILES: O<unk>CC<unk>C<unk>CC<unk>C<unk><unk>C<unk>C<unk><unk>S<unk><unk><unk>C<unk><unk>C<unk>CCCCCCCCCC\n",
      "\n",
      "True SMILES: N<unk><unk>C<unk><unk>NC<unk><unk>CC<unk>O<unk>S<unk><unk><unk>C<unk><unk>C<unk>C<unk>C<unk>SC\n",
      "Pred SMILES: N<unk><unk>C<unk><unk>NC<unk><unk>CC<unk>O<unk>S<unk><unk><unk>C<unk><unk>C<unk>C<unk>C<unk>SCCCCCCCCC\n",
      "\n",
      "True SMILES: O<unk>C<unk>OC<unk>CC<unk><unk>CCC<unk><unk>O<unk>O<unk>S<unk><unk><unk>C<unk><unk>C<unk>C\n",
      "Pred SMILES: O<unk>C<unk>OC<unk>CC<unk><unk>CCC<unk><unk>O<unk>O<unk>S<unk><unk><unk>C<unk><unk>C<unk>CCCCCCCCC\n",
      "\n",
      "True SMILES: O<unk>C<unk><unk>C<unk>CC<unk>CC<unk>O<unk>S<unk><unk><unk>C<unk><unk>C<unk>C<unk>CCC\n",
      "Pred SMILES: O<unk>C<unk><unk>C<unk>CC<unk>CC<unk>O<unk>S<unk><unk><unk>C<unk><unk>C<unk>C<unk>CCCCCCCCCCCCC\n",
      "\n",
      "True SMILES: O<unk>C<unk><unk>C<unk>CC<unk>CC<unk>O<unk>S<unk><unk><unk>C<unk><unk>C<unk>C<unk>C<unk>C<unk>C\n",
      "Pred SMILES: O<unk>C<unk><unk>C<unk>CC<unk>CC<unk>O<unk>S<unk><unk><unk>C<unk><unk>C<unk>C<unk>C<unk>C<unk>CCCCCCCCC\n",
      "\n",
      "True SMILES: O<unk>C<unk>OCC<unk>CC<unk><unk>O<unk>O<unk>S<unk><unk><unk>C<unk><unk>C<unk>C\n",
      "Pred SMILES: O<unk>C<unk>OCC<unk>CC<unk><unk>O<unk>O<unk>S<unk><unk><unk>C<unk><unk>C<unk>CCCCCCCCCCCCC\n",
      "\n",
      "True SMILES: O<unk>CCCC<unk>CC<unk>O<unk>S<unk><unk><unk>C<unk><unk>C<unk>C<unk>C\n",
      "Pred SMILES: O<unk>CCCC<unk>CC<unk>O<unk>S<unk><unk><unk>C<unk><unk>C<unk>C<unk>CCCCCCCCCCCCCCCC\n",
      "\n",
      "True SMILES: O<unk>C<unk>O<unk>S<unk><unk><unk>C<unk><unk>C<unk>C<unk>CCC<unk><unk>C<unk>CC<unk>CC<unk>\n",
      "Pred SMILES: O<unk>C<unk>O<unk>S<unk><unk><unk>C<unk><unk>C<unk>C<unk>CCC<unk><unk>C<unk>CC<unk>CC<unk>CCCCCCCCC\n",
      "\n",
      "True SMILES: O<unk>C<unk>OC<unk>C<unk>C<unk><unk>C<unk>CC<unk>CC<unk><unk>CO<unk>S<unk><unk><unk>C<unk><unk>C<unk>C\n",
      "Pred SMILES: O<unk>C<unk>OC<unk>C<unk>C<unk><unk>C<unk>CC<unk>CC<unk><unk>CO<unk>S<unk><unk><unk>C<unk><unk>C<unk>CCCC\n",
      "\n",
      "True SMILES: N<unk>CC<unk><unk>C<unk>N<unk>S<unk><unk><unk>C<unk><unk>C<unk>C<unk>C<unk>N<unk>C<unk><unk>O<unk>C<unk>C<unk><unk>CC\n",
      "Pred SMILES: N<unk>CC<unk><unk>C<unk>N<unk>S<unk><unk><unk>C<unk><unk>C<unk>C<unk>C<unk>N<unk>C<unk><unk>O<unk>C<unk>C<unk><unk>CCC\n",
      "\n",
      "True SMILES: O<unk>C<unk>O<unk>S<unk><unk><unk>C<unk><unk>C<unk>C<unk>C<unk>CC<unk><unk>C<unk>CC<unk>CC<unk>OC\n",
      "Pred SMILES: O<unk>C<unk>O<unk>S<unk><unk><unk>C<unk><unk>C<unk>C<unk>C<unk>CC<unk><unk>C<unk>CC<unk>CC<unk>OCCCC\n",
      "\n",
      "True SMILES: O<unk>C<unk>OC<unk>C<unk>O<unk>S<unk><unk><unk>C<unk><unk>C<unk>C<unk>C<unk><unk>C<unk>CC<unk>CC<unk>OC\n",
      "Pred SMILES: O<unk>C<unk>OC<unk>C<unk>O<unk>S<unk><unk><unk>C<unk><unk>C<unk>C<unk>C<unk><unk>C<unk>CC<unk>CC<unk>OCCC\n",
      "\n",
      "True SMILES: C<unk><unk>C<unk>CC<unk><unk>CC<unk><unk>CN<unk>S<unk><unk><unk>C<unk><unk>C<unk>C\n",
      "Pred SMILES: C<unk><unk>C<unk>CC<unk><unk>CC<unk><unk>CN<unk>S<unk><unk><unk>C<unk><unk>C<unk>CCCCCCCCCCC\n",
      "\n",
      "True SMILES: O<unk>C<unk>CCC<unk>C<unk>CC<unk><unk><unk>S<unk><unk><unk>C<unk><unk>C<unk>C\n",
      "Pred SMILES: O<unk>C<unk>CCC<unk>C<unk>CC<unk><unk><unk>S<unk><unk><unk>C<unk><unk>C<unk>CCCCCCCCCCCCCC\n",
      "\n",
      "True SMILES: O<unk>C<unk>O<unk>S<unk><unk><unk>C<unk><unk>C<unk>C<unk>CCCOC<unk><unk>C<unk>CC<unk>CC<unk>\n",
      "Pred SMILES: O<unk>C<unk>O<unk>S<unk><unk><unk>C<unk><unk>C<unk>C<unk>CCCOC<unk><unk>C<unk>CC<unk>CC<unk>CCCCC\n",
      "\n",
      "True SMILES: O<unk>CC<unk><unk>C<unk>CC<unk>C<unk>C<unk><unk>C<unk><unk>S<unk><unk><unk>C<unk><unk>C<unk>C\n",
      "Pred SMILES: O<unk>CC<unk><unk>C<unk>CC<unk>C<unk>C<unk><unk>C<unk><unk>S<unk><unk><unk>C<unk><unk>C<unk>CCCCCCCCC\n",
      "\n",
      "True SMILES: O<unk>C<unk>O<unk>S<unk><unk><unk>C<unk><unk>C<unk>C<unk>CC<unk><unk>CC<unk>C<unk>OC<unk>C<unk>OC<unk><unk>C<unk>\n",
      "Pred SMILES: O<unk>C<unk>O<unk>S<unk><unk><unk>C<unk><unk>C<unk>C<unk>CC<unk><unk>CC<unk>C<unk>OC<unk>C<unk>OC<unk><unk>C<unk>\n",
      "\n",
      "True SMILES: O<unk>C<unk>O<unk>S<unk><unk><unk>C<unk><unk>C<unk>C<unk>C<unk><unk>C<unk>CC<unk>C<unk>SC<unk><unk>O<unk>C<unk>C<unk>\n",
      "Pred SMILES: O<unk>C<unk>O<unk>S<unk><unk><unk>C<unk><unk>C<unk>C<unk>C<unk><unk>C<unk>CC<unk>C<unk>SC<unk><unk>O<unk>C<unk>C<unk>\n",
      "\n",
      "True SMILES: O<unk>C<unk>O<unk>S<unk><unk><unk>C<unk><unk>C<unk>C<unk>CCCCC\n",
      "Pred SMILES: O<unk>C<unk>O<unk>S<unk><unk><unk>C<unk><unk>C<unk>C<unk>CCCCCCCCCCCCCCCCCCCCC\n",
      "\n",
      "True SMILES: O<unk>C<unk><unk>CC<unk>C<unk>N<unk>C<unk>C<unk>O<unk>S<unk><unk><unk>C<unk><unk>C<unk>C<unk>C\n",
      "Pred SMILES: O<unk>C<unk><unk>CC<unk>C<unk>N<unk>C<unk>C<unk>O<unk>S<unk><unk><unk>C<unk><unk>C<unk>C<unk>CCCCCCCCCC\n",
      "\n",
      "True SMILES: O<unk>C<unk>C<unk><unk>C<unk>CC<unk>CC<unk>C<unk><unk>O<unk>N<unk><unk>S<unk><unk><unk>C<unk><unk>C<unk>C\n",
      "Pred SMILES: O<unk>C<unk>C<unk><unk>C<unk>CC<unk>CC<unk>C<unk><unk>O<unk>N<unk><unk>S<unk><unk><unk>C<unk><unk>C<unk>CCCCC\n",
      "\n",
      "True SMILES: O<unk>C<unk>C<unk><unk>C<unk>CC<unk>CC<unk><unk><unk>C<unk>C<unk><unk>S<unk><unk><unk>C<unk><unk>C<unk>C\n",
      "Pred SMILES: O<unk>C<unk>C<unk><unk>C<unk>CC<unk>CC<unk><unk><unk>C<unk>C<unk><unk>S<unk><unk><unk>C<unk><unk>C<unk>CCCCCCC\n",
      "\n",
      "True SMILES: O<unk>C<unk>O<unk>S<unk><unk><unk>C<unk><unk>C<unk>C<unk>C<unk><unk>C<unk>CC<unk>C<unk>N<unk>C<unk>\n",
      "Pred SMILES: O<unk>C<unk>O<unk>S<unk><unk><unk>C<unk><unk>C<unk>C<unk>C<unk><unk>C<unk>CC<unk>C<unk>N<unk>C<unk>CCCCCCCC\n",
      "\n",
      "True SMILES: O<unk>C<unk>O<unk>S<unk><unk><unk>C<unk><unk>C<unk>C<unk>C<unk>CC<unk><unk>CC<unk>C<unk>C<unk>C<unk><unk>C\n",
      "Pred SMILES: O<unk>C<unk>O<unk>S<unk><unk><unk>C<unk><unk>C<unk>C<unk>C<unk>CC<unk><unk>CC<unk>C<unk>C<unk>C<unk><unk>CCCCCC\n",
      "\n",
      "True SMILES: O<unk>CCC<unk><unk>S<unk><unk><unk>C<unk><unk>C<unk>C\n",
      "Pred SMILES: O<unk>CCC<unk><unk>S<unk><unk><unk>C<unk><unk>C<unk>CCCCCCCCCCCCCCCCCCCCCCC\n",
      "\n",
      "True SMILES: O<unk>C<unk>O<unk>S<unk><unk><unk>C<unk><unk>C<unk>C<unk>C<unk><unk>C<unk>CC<unk>CC<unk>\n",
      "Pred SMILES: O<unk>C<unk>O<unk>S<unk><unk><unk>C<unk><unk>C<unk>C<unk>C<unk><unk>C<unk>CC<unk>CC<unk>CCCCCCCCCC\n",
      "\n",
      "True SMILES: O<unk>CC<unk><unk>CC<unk>C<unk>C<unk>C<unk><unk>C<unk><unk>S<unk><unk><unk>C<unk><unk>C<unk>C\n",
      "Pred SMILES: O<unk>CC<unk><unk>CC<unk>C<unk>C<unk>C<unk><unk>C<unk><unk>S<unk><unk><unk>C<unk><unk>C<unk>CCCCCCCCCCC\n",
      "\n",
      "True SMILES: O<unk>CCN<unk>CC<unk>CC<unk><unk>S<unk><unk><unk>C<unk><unk>C<unk>C\n",
      "Pred SMILES: O<unk>CCN<unk>CC<unk>CC<unk><unk>S<unk><unk><unk>C<unk><unk>C<unk>CCCCCCCCCCCCCCCCC\n",
      "\n",
      "True SMILES: O<unk>C<unk><unk>CC<unk>CC<unk><unk>C<unk>CC<unk>CC<unk><unk><unk><unk>S<unk><unk><unk>C<unk><unk>C<unk>C\n",
      "Pred SMILES: O<unk>C<unk><unk>CC<unk>CC<unk><unk>C<unk>CC<unk>CC<unk><unk><unk><unk>S<unk><unk><unk>C<unk><unk>C<unk>CCCCC\n",
      "\n",
      "True SMILES: O<unk>C<unk><unk>C<unk>CC<unk><unk>C<unk>CC<unk>CC<unk>C<unk><unk><unk>S<unk><unk><unk>C<unk><unk>C<unk>C\n",
      "Pred SMILES: O<unk>C<unk><unk>C<unk>CC<unk><unk>C<unk>CC<unk>CC<unk>C<unk><unk><unk>S<unk><unk><unk>C<unk><unk>C<unk>CCCCC\n",
      "\n",
      "True SMILES: O<unk>C<unk>C<unk>CC<unk><unk>C<unk>CC<unk>CC<unk><unk>C<unk><unk>S<unk><unk><unk>C<unk><unk>C<unk>C\n",
      "Pred SMILES: O<unk>C<unk>C<unk>CC<unk><unk>C<unk>CC<unk>CC<unk><unk>C<unk><unk>S<unk><unk><unk>C<unk><unk>C<unk>CCCCCC\n",
      "\n",
      "True SMILES: O<unk>C<unk><unk>CC<unk>CC<unk><unk>C<unk><unk>CO<unk>S<unk><unk><unk>C<unk><unk>C<unk>C<unk>C\n",
      "Pred SMILES: O<unk>C<unk><unk>CC<unk>CC<unk><unk>C<unk><unk>CO<unk>S<unk><unk><unk>C<unk><unk>C<unk>C<unk>CCCCCCCCC\n",
      "\n",
      "True SMILES: O<unk>C<unk><unk>CC<unk>C<unk>SC<unk>C<unk>C<unk><unk><unk>S<unk><unk><unk>C<unk><unk>C<unk>C\n",
      "Pred SMILES: O<unk>C<unk><unk>CC<unk>C<unk>SC<unk>C<unk>C<unk><unk><unk>S<unk><unk><unk>C<unk><unk>C<unk>CCCCCCCCC\n",
      "\n",
      "True SMILES: O<unk>C<unk><unk>C<unk>C<unk>C<unk>C<unk>C<unk><unk>C<unk>C<unk><unk>S<unk><unk><unk>C<unk><unk>C<unk>C\n",
      "Pred SMILES: O<unk>C<unk><unk>C<unk>C<unk>C<unk>C<unk>C<unk><unk>C<unk>C<unk><unk>S<unk><unk><unk>C<unk><unk>C<unk>CCCCCCCC\n",
      "\n",
      "True SMILES: O<unk>C<unk>N<unk>C<unk>C<unk><unk>C<unk>NC<unk>CC<unk><unk>CC<unk><unk><unk>S<unk><unk><unk>C<unk><unk>C<unk>C\n",
      "Pred SMILES: O<unk>C<unk>N<unk>C<unk>C<unk><unk>C<unk>NC<unk>CC<unk><unk>CC<unk><unk><unk>S<unk><unk><unk>C<unk><unk>C<unk>CCCC\n",
      "\n",
      "True SMILES: O<unk>C<unk>O<unk>S<unk><unk><unk>C<unk><unk>C<unk>C<unk>C<unk><unk>O<unk>C<unk><unk>CC<unk>C<unk>OC<unk>C<unk>C<unk>\n",
      "Pred SMILES: O<unk>C<unk>O<unk>S<unk><unk><unk>C<unk><unk>C<unk>C<unk>C<unk><unk>O<unk>C<unk><unk>CC<unk>C<unk>OC<unk>C<unk>C<unk>\n",
      "\n",
      "True SMILES: O<unk>C<unk>C<unk>C<unk><unk>S<unk><unk><unk>C<unk><unk>C<unk>C\n",
      "Pred SMILES: O<unk>C<unk>C<unk>C<unk><unk>S<unk><unk><unk>C<unk><unk>C<unk>CCCCCCCCCCCCCCCCCCC\n",
      "\n",
      "True SMILES: OCCOCCOCCOCCO<unk>S<unk><unk><unk>C<unk><unk>C<unk>C\n",
      "Pred SMILES: OCCOCCOCCOCCO<unk>S<unk><unk><unk>C<unk><unk>C<unk>CCCCCCCCCCCCCCC\n",
      "\n",
      "True SMILES: O<unk>C<unk>O<unk>S<unk><unk><unk>C<unk><unk>C<unk>C<unk>C<unk>CC<unk>CC\n",
      "Pred SMILES: O<unk>C<unk>O<unk>S<unk><unk><unk>C<unk><unk>C<unk>C<unk>C<unk>CC<unk>CCCCCCCCCCCCCCCCCCCCCCCCCCCCCCCCCCCCCCCCCCCCCCCCCCCCCCCCCCC\n",
      "\n",
      "True SMILES: O<unk>C<unk>CCCCC<unk>C<unk><unk>S<unk><unk><unk>C<unk><unk>C<unk>C\n",
      "Pred SMILES: O<unk>C<unk>CCCCC<unk>C<unk><unk>S<unk><unk><unk>C<unk><unk>C<unk>CCCCCCCCCCCCCCCCCCCCCCCCCCCCCCCCCCCCCCCCCCCCCCCCCCCCCCCCCCC\n",
      "\n",
      "True SMILES: O<unk>C<unk>C<unk><unk>CC<unk>C<unk>OC<unk>C<unk>C<unk>O<unk>S<unk><unk><unk>C<unk><unk>C<unk>C<unk>C\n",
      "Pred SMILES: O<unk>C<unk>C<unk><unk>CC<unk>C<unk>OC<unk>C<unk>C<unk>O<unk>S<unk><unk><unk>C<unk><unk>C<unk>C<unk>CCCCCCCCCCCCCCCCCCCCCCCCCCCCCCCCCCCCCCCCCCCCCCC\n",
      "\n",
      "True SMILES: O<unk>C<unk>O<unk>S<unk><unk><unk>C<unk><unk>C<unk>C<unk>CCC<unk><unk>CC<unk>C<unk>O<unk>C<unk>C<unk>\n",
      "Pred SMILES: O<unk>C<unk>O<unk>S<unk><unk><unk>C<unk><unk>C<unk>C<unk>CCC<unk><unk>CC<unk>C<unk>O<unk>C<unk>C<unk>CCCCCCCCCCCCCCCCCCCCCCCCCCCCCCCCCCCCCCCCCCCCCCC\n",
      "\n",
      "True SMILES: O<unk>C<unk>O<unk>S<unk><unk><unk>C<unk><unk>C<unk>C<unk>C<unk><unk>CC<unk>C<unk>SC<unk><unk>O<unk>C<unk>C<unk>C<unk>\n",
      "Pred SMILES: O<unk>C<unk>O<unk>S<unk><unk><unk>C<unk><unk>C<unk>C<unk>C<unk><unk>CC<unk>C<unk>SC<unk><unk>O<unk>C<unk>C<unk>C<unk>CCCCCCCCCCCCCCCCCCCCCCCCCCCCCCCCCCCCCCCCCC\n",
      "\n",
      "True SMILES: O<unk>P<unk>O<unk><unk>O<unk>OC<unk>F<unk><unk>F<unk>C<unk>F<unk><unk>F<unk>C<unk>F<unk><unk>F<unk>C<unk>F<unk><unk>F<unk>C<unk>F<unk><unk>F<unk>C<unk>F<unk><unk>F<unk>C<unk>F<unk><unk>F<unk>F\n",
      "Pred SMILES: O<unk>P<unk>O<unk><unk>O<unk>OC<unk>F<unk><unk>F<unk>C<unk>F<unk><unk>F<unk>C<unk>F<unk><unk>F<unk>C<unk>F<unk><unk>F<unk>C<unk>F<unk><unk>F<unk>C<unk>F<unk><unk>F<unk>C<unk>F<unk><unk>F<unk>FCCCCCCCCCCCCCCCCCCCCCCCCCCCCCCCCCCCCCCC<unk><unk>CCCCCCC<unk>CCCCCCC<unk>CC<unk><unk>C<unk>CCC\n",
      "\n",
      "True SMILES: O<unk>P<unk>O<unk><unk>O<unk>OC<unk>F<unk><unk>F<unk>C<unk>F<unk><unk>F<unk>C<unk>F<unk><unk>F<unk>C<unk>F<unk><unk>F<unk>F\n",
      "Pred SMILES: O<unk>P<unk>O<unk><unk>O<unk>OC<unk>F<unk><unk>F<unk>C<unk>F<unk><unk>F<unk>C<unk>F<unk><unk>F<unk>C<unk>F<unk><unk>F<unk>FCCCCCCCCCCCCCCCCCCCCCCCCCCCCCCCCCCCCCCCCCCCCCCCCCCCCCCCCCC<unk><unk>CCCCCCCCCCCCCCOCCCCCCCC\n",
      "\n",
      "True SMILES: O<unk>P<unk>O<unk><unk>O<unk>OC<unk>F<unk><unk>F<unk>C<unk>F<unk><unk>F<unk>F\n",
      "Pred SMILES: O<unk>P<unk>O<unk><unk>O<unk>OC<unk>F<unk><unk>F<unk>C<unk>F<unk><unk>F<unk>FCCCCCCCCCCCCCCCCCCCCCCCCCCCCCCCCCCCCCCCCCCCCCCCCCCCCCCCCCCCCCCCCCCCCCCCCCCCCCCCCCCCCCCCCCCCCCCCCCCCC\n",
      "\n",
      "True SMILES: O<unk>P<unk>O<unk><unk>O<unk>OC<unk>F<unk><unk>F<unk>F\n",
      "Pred SMILES: O<unk>P<unk>O<unk><unk>O<unk>OC<unk>F<unk><unk>F<unk>FCCCCCCCCCCCCCCCCCCCCCCCCCCCCCCCCCCCCCCCCCCCCCCCCCCCCCCCCCCCCCCCCCCCCCCCCCCCCCCCCCCCCCCCCCCCCCCCCCCCCCCCCCCCCCCCC\n",
      "\n",
      "True SMILES: O<unk>S<unk><unk>O<unk><unk>O<unk>C<unk><unk>C<unk>F<unk><unk>F<unk>F<unk>C<unk>F<unk><unk>F<unk>C<unk>F<unk><unk>F<unk>C<unk>F<unk><unk>F<unk>C<unk>F<unk><unk>F<unk>C<unk><unk>F<unk>F\n",
      "Pred SMILES: O<unk>S<unk><unk>O<unk><unk>O<unk>C<unk><unk>C<unk>F<unk><unk>F<unk>F<unk>C<unk>F<unk><unk>F<unk>C<unk>F<unk><unk>F<unk>C<unk>F<unk><unk>F<unk>C<unk>F<unk><unk>F<unk>C<unk><unk>F<unk>FCCCCCCCCCCCCCCCCCCCCCCCCCCCCCCCCCCCCCC<unk>CC<unk>CCCCCCCC<unk>CCCCCCC<unk>CCC<unk>CCCC\n",
      "\n",
      "True SMILES: O<unk>C<unk>O<unk>C<unk>F<unk><unk>OC<unk>F<unk><unk>F<unk>C<unk>F<unk><unk>F<unk>F<unk>C<unk>F<unk><unk>F<unk>F\n",
      "Pred SMILES: O<unk>C<unk>O<unk>C<unk>F<unk><unk>OC<unk>F<unk><unk>F<unk>C<unk>F<unk><unk>F<unk>F<unk>C<unk>F<unk><unk>F<unk>FCCCCCCCCCCCCCCCCCCCCCCCCCCCCCCCCCCCCCCCCCCCCCCCCCCCCCCCCCCCCCCCCCCCCCCCCCCCCCCCCCCCCCCCCCCCCCCCCCCCCCCCCCCCCCCCCCCCCCCCCCCCCCCCCCC<unk>CCCCC<unk>CCCCCCCCCC<unk>CCCCCCC<unk>CCCCCCCCCC\n",
      "\n",
      "True SMILES: O<unk>C<unk>O<unk>C<unk>F<unk><unk>OC<unk>F<unk><unk>F<unk>F<unk>C<unk>F<unk><unk>F<unk>F\n",
      "Pred SMILES: O<unk>C<unk>O<unk>C<unk>F<unk><unk>OC<unk>F<unk><unk>F<unk>F<unk>C<unk>F<unk><unk>F<unk>FCCCCCCCCCCCCCCCCCCCCCCCCCCCCCCCCCCCCCCCCCCCCCCCCCCCCCCCCCCCCCCCCCCCCCCCCCCCCCCCCCCCCCCCCCCCCCCCCCCCCCCCCCCCCCCCCCCCCCCCCCCCCCCCCCCCCCCCCCCCCCCCCCCCCCCCCCC<unk>CCCCCCCCCCCCCCCCCCCCCCCCCCCCCCCCCCCCCCCCCCCC\n",
      "\n",
      "True SMILES: O<unk>P<unk>O<unk><unk>O<unk>CCC<unk>F<unk><unk>F<unk>C<unk>F<unk><unk>F<unk>C<unk>F<unk><unk>F<unk>C<unk>F<unk><unk>F<unk>C<unk>F<unk><unk>F<unk>C<unk>F<unk><unk>F<unk>C<unk>F<unk><unk>F<unk>F\n",
      "Pred SMILES: O<unk>P<unk>O<unk><unk>O<unk>CCC<unk>F<unk><unk>F<unk>C<unk>F<unk><unk>F<unk>C<unk>F<unk><unk>F<unk>C<unk>F<unk><unk>F<unk>C<unk>F<unk><unk>F<unk>C<unk>F<unk><unk>F<unk>C<unk>F<unk><unk>F<unk>FCCCCCCCCCCCCCCCCCCCCCCCCCCCCCCCCCCCCCCCC<unk><unk>CCCCCCCCCCCCCCCCCCCCCCCCCCCCCCCCCCCCCCCCCCCCCCCCCCCCCCCCCCCCCCC<unk>CCCCCCCCCCCCCCCCC<unk>FCCCCCCCCCC<unk><unk>CCC<unk>CCCCCC<unk><unk><unk>CCC<unk><unk>CCCC<unk><unk><unk>C\n",
      "\n",
      "True SMILES: O<unk>P<unk>O<unk><unk>O<unk>CCC<unk>F<unk><unk>F<unk>C<unk>F<unk><unk>F<unk>C<unk>F<unk><unk>F<unk>C<unk>F<unk><unk>F<unk>C<unk>F<unk><unk>F<unk>C<unk>F<unk><unk>F<unk>C<unk>F<unk><unk>F<unk>C<unk>F<unk><unk>F<unk>F\n",
      "Pred SMILES: O<unk>P<unk>O<unk><unk>O<unk>CCC<unk>F<unk><unk>F<unk>C<unk>F<unk><unk>F<unk>C<unk>F<unk><unk>F<unk>C<unk>F<unk><unk>F<unk>C<unk>F<unk><unk>F<unk>C<unk>F<unk><unk>F<unk>C<unk>F<unk><unk>F<unk>C<unk>F<unk><unk>F<unk>FCCCCCCCCCCCCCCCCCCCCCCCCCCCCCCCCC<unk><unk>CCCCCCCCCCCCCC<unk>CCCCCCCCCCCCCCCCCCCCCCCCCCCCCCCCCCCCCCCCCCCCCC<unk>CCCCCCCCCCCCCCCCC<unk>FCCCCCCCCCC<unk><unk>CCC<unk>CCCCC<unk><unk><unk>CCC<unk><unk>CCCC<unk><unk><unk>C\n",
      "\n",
      "True SMILES: O<unk>P<unk>O<unk><unk>O<unk>CCC<unk>F<unk><unk>F<unk>C<unk>F<unk><unk>F<unk>C<unk>F<unk><unk>F<unk>C<unk>F<unk><unk>F<unk>C<unk>F<unk><unk>F<unk>C<unk>F<unk><unk>F<unk>F\n",
      "Pred SMILES: O<unk>P<unk>O<unk><unk>O<unk>CCC<unk>F<unk><unk>F<unk>C<unk>F<unk><unk>F<unk>C<unk>F<unk><unk>F<unk>C<unk>F<unk><unk>F<unk>C<unk>F<unk><unk>F<unk>C<unk>F<unk><unk>F<unk>FCCCCCCCCCCCCCCCCCCCCCCCCCCCCCCCCCCCCCCCC<unk>CCCCC<unk><unk>CCCCCCCCCCCCCCCCCCCCCCCCCCCCCCCCCCCCCCCCCCCCCCCCCCCCCCCCCCCCC<unk>CCCCCCCCCCCCCCCC<unk>CCCCCCCCCC<unk><unk>CCC<unk>CCCCC<unk><unk><unk>CCC<unk><unk>CCCC<unk><unk><unk>C\n",
      "\n",
      "True SMILES: O<unk>S<unk><unk>O<unk><unk>O<unk>CCC<unk>F<unk><unk>F<unk>C<unk>F<unk><unk>F<unk>C<unk>F<unk><unk>F<unk>C<unk>F<unk><unk>F<unk>C<unk>F<unk><unk>F<unk>C<unk>F<unk><unk>F<unk>C<unk>F<unk><unk>F<unk>C<unk>F<unk><unk>F<unk>C<unk>F<unk><unk>F<unk>C<unk>F<unk><unk>F<unk>F\n",
      "Pred SMILES: O<unk>S<unk><unk>O<unk><unk>O<unk>CCC<unk>F<unk><unk>F<unk>C<unk>F<unk><unk>F<unk>C<unk>F<unk><unk>F<unk>C<unk>F<unk><unk>F<unk>C<unk>F<unk><unk>F<unk>C<unk>F<unk><unk>F<unk>C<unk>F<unk><unk>F<unk>C<unk>F<unk><unk>F<unk>C<unk>F<unk><unk>F<unk>C<unk>F<unk><unk>F<unk>FCCCCCC<unk>CCCC<unk>CCC<unk><unk>CCCCCC<unk>CCCC<unk>CCCCCC<unk>CCCCCCCC<unk><unk>F<unk>CC<unk><unk>CCCCCCCC<unk>\n",
      "\n",
      "True SMILES: O<unk>S<unk><unk>O<unk><unk>O<unk>CCC<unk>F<unk><unk>F<unk>C<unk>F<unk><unk>F<unk>C<unk>F<unk><unk>F<unk>C<unk>F<unk><unk>F<unk>C<unk>F<unk><unk>F<unk>C<unk>F<unk><unk>F<unk>C<unk>F<unk><unk>F<unk>C<unk>F<unk><unk>F<unk>C<unk>F<unk><unk>F<unk>C<unk>F<unk><unk>F<unk>C<unk>F<unk><unk>F<unk>C<unk>F<unk><unk>F<unk>C<unk>F<unk><unk>F<unk>F\n",
      "Pred SMILES: O<unk>S<unk><unk>O<unk><unk>O<unk>CCC<unk>F<unk><unk>F<unk>C<unk>F<unk><unk>F<unk>C<unk>F<unk><unk>F<unk>C<unk>F<unk><unk>F<unk>C<unk>F<unk><unk>F<unk>C<unk>F<unk><unk>F<unk>C<unk>F<unk><unk>F<unk>C<unk>F<unk><unk>F<unk>C<unk>F<unk><unk>F<unk>C<unk>F<unk><unk>F<unk>C<unk>F<unk><unk>F<unk>C<unk>F<unk><unk>F<unk>C<unk>F<unk><unk>F<unk>F<unk>CCCCCCC<unk>CCCCCCC<unk>CCCCCC<unk><unk>F<unk>CC<unk><unk>CCCCC<unk>\n",
      "\n",
      "True SMILES: O<unk>S<unk><unk>O<unk><unk>O<unk>CCC<unk>F<unk><unk>F<unk>C<unk>F<unk><unk>F<unk>C<unk>F<unk><unk>F<unk>C<unk>F<unk><unk>F<unk>C<unk>F<unk><unk>F<unk>C<unk>F<unk><unk>F<unk>C<unk>F<unk><unk>F<unk>C<unk>F<unk><unk>F<unk>C<unk>F<unk><unk>F<unk>C<unk>F<unk><unk>F<unk>C<unk>F<unk><unk>F<unk>F\n",
      "Pred SMILES: O<unk>S<unk><unk>O<unk><unk>O<unk>CCC<unk>F<unk><unk>F<unk>C<unk>F<unk><unk>F<unk>C<unk>F<unk><unk>F<unk>C<unk>F<unk><unk>F<unk>C<unk>F<unk><unk>F<unk>C<unk>F<unk><unk>F<unk>C<unk>F<unk><unk>F<unk>C<unk>F<unk><unk>F<unk>C<unk>F<unk><unk>F<unk>C<unk>F<unk><unk>F<unk>C<unk>F<unk><unk>F<unk>FCCCC<unk>CCC<unk><unk>CCCCC<unk>CCCC<unk>CCCCCCC<unk><unk>CC<unk>CCCCC<unk><unk>F<unk>CC<unk><unk>CCCCCCCC<unk>\n",
      "\n",
      "True SMILES: O<unk>S<unk><unk>O<unk><unk>O<unk>CCC<unk>F<unk><unk>F<unk>C<unk>F<unk><unk>F<unk>C<unk>F<unk><unk>F<unk>C<unk>F<unk><unk>F<unk>C<unk>F<unk><unk>F<unk>C<unk>F<unk><unk>F<unk>C<unk>F<unk><unk>F<unk>C<unk>F<unk><unk>F<unk>C<unk>F<unk><unk>F<unk>C<unk>F<unk><unk>F<unk>C<unk>F<unk><unk>F<unk>C<unk>F<unk><unk>F<unk>F\n",
      "Pred SMILES: O<unk>S<unk><unk>O<unk><unk>O<unk>CCC<unk>F<unk><unk>F<unk>C<unk>F<unk><unk>F<unk>C<unk>F<unk><unk>F<unk>C<unk>F<unk><unk>F<unk>C<unk>F<unk><unk>F<unk>C<unk>F<unk><unk>F<unk>C<unk>F<unk><unk>F<unk>C<unk>F<unk><unk>F<unk>C<unk>F<unk><unk>F<unk>C<unk>F<unk><unk>F<unk>C<unk>F<unk><unk>F<unk>C<unk>F<unk><unk>F<unk>FCCC<unk><unk>CCC<unk>CCCC<unk>CCCCCCC<unk><unk>CCCCCCC<unk><unk>F<unk>CC<unk><unk>CCCCCCC<unk>\n",
      "\n",
      "True SMILES: O<unk>S<unk><unk>O<unk><unk>O<unk>CCC<unk>F<unk><unk>F<unk>C<unk>F<unk><unk>F<unk>C<unk>F<unk><unk>F<unk>C<unk>F<unk><unk>F<unk>C<unk>F<unk><unk>F<unk>C<unk>F<unk><unk>F<unk>C<unk>F<unk><unk>F<unk>C<unk>F<unk><unk>F<unk>C<unk>F<unk><unk>F<unk>F\n",
      "Pred SMILES: O<unk>S<unk><unk>O<unk><unk>O<unk>CCC<unk>F<unk><unk>F<unk>C<unk>F<unk><unk>F<unk>C<unk>F<unk><unk>F<unk>C<unk>F<unk><unk>F<unk>C<unk>F<unk><unk>F<unk>C<unk>F<unk><unk>F<unk>C<unk>F<unk><unk>F<unk>C<unk>F<unk><unk>F<unk>C<unk>F<unk><unk>F<unk>FCCCCCCCCCCCCCCCCCCCCCC<unk><unk>CCCCC<unk>CCCC<unk>CCCCCCCCCCCC<unk><unk>CCCCCCCCCCC<unk>\n",
      "\n",
      "True SMILES: O<unk>C<unk>O<unk>CC<unk>F<unk><unk>F<unk>C<unk>F<unk><unk>F<unk>C<unk>F<unk><unk>F<unk>C<unk>F<unk><unk>F<unk>F\n",
      "Pred SMILES: O<unk>C<unk>O<unk>CC<unk>F<unk><unk>F<unk>C<unk>F<unk><unk>F<unk>C<unk>F<unk><unk>F<unk>C<unk>F<unk><unk>F<unk>FCCCCCCCCCCCCCCCCCCCCCCCCCCCCCCCCCCCCCCCCCCCCCCCCCCCCCCCCCCCCCCCCCCCCCCCCCCCCCCCCCC\n",
      "\n",
      "True SMILES: O<unk>C<unk>O<unk>CC<unk>F<unk><unk>F<unk>C<unk>F<unk><unk>F<unk>C<unk>F<unk><unk>F<unk>F\n",
      "Pred SMILES: O<unk>C<unk>O<unk>CC<unk>F<unk><unk>F<unk>C<unk>F<unk><unk>F<unk>C<unk>F<unk><unk>F<unk>FCCCCCCCCCCCCCCCCCCCCCCCCCCCCCCCCCCCCCCCCCCCCCCCCCCCCCCCCCCCCCCCCCCCCCCCCCCCCCCCCCCCCCCCCCCCC\n",
      "\n",
      "True SMILES: O<unk>C<unk>O<unk>CC<unk>F<unk><unk>F<unk>C<unk>F<unk><unk>F<unk>F\n",
      "Pred SMILES: O<unk>C<unk>O<unk>CC<unk>F<unk><unk>F<unk>C<unk>F<unk><unk>F<unk>FCCCCCCCCCCCCCCCCCCCCCCCCCCCCCCCCCCCCCCCCCCCCCCCCCCCCCCCCCCCCCCCCCCCCCCCCCCCCCCCCCCCCCCCCCCCCCC\n",
      "\n",
      "True SMILES: O<unk>C<unk>O<unk>CC<unk>F<unk><unk>F<unk>F\n",
      "Pred SMILES: O<unk>C<unk>O<unk>CC<unk>F<unk><unk>F<unk>FCCCCCCCCCCCCCCCCCCCCCCCCCCCCCCCCCCCCCCCCCCCCCCCCCCCCCCCCCCCCCCCCCCCCCCCCCCCCCCCCCCCCCCCCCCCCCCCCCCCCCCCCCCCCCCC\n",
      "\n",
      "True SMILES: O<unk>S<unk><unk>O<unk><unk>N<unk>C<unk>F<unk><unk>F<unk>C<unk>F<unk><unk>F<unk>C<unk>F<unk><unk>F<unk>C<unk>F<unk><unk>F<unk>C<unk>F<unk><unk>F<unk>C<unk>F<unk><unk>F<unk>C<unk>F<unk><unk>F<unk>C<unk>F<unk><unk>F<unk>F\n",
      "Pred SMILES: O<unk>S<unk><unk>O<unk><unk>N<unk>C<unk>F<unk><unk>F<unk>C<unk>F<unk><unk>F<unk>C<unk>F<unk><unk>F<unk>C<unk>F<unk><unk>F<unk>C<unk>F<unk><unk>F<unk>C<unk>F<unk><unk>F<unk>C<unk>F<unk><unk>F<unk>C<unk>F<unk><unk>F<unk>FCCCCCCCCCCCCCCCCCCCCCCCCCCCC<unk>CCCCCCCCCC\n",
      "\n",
      "True SMILES: FC<unk>F<unk><unk>F<unk>C<unk>F<unk><unk>F<unk>C<unk>F<unk><unk>F<unk>C<unk>F<unk><unk>F<unk>C<unk>F<unk><unk>F<unk>C<unk>F<unk><unk>F<unk>C<unk>F<unk><unk>F<unk>O\n",
      "Pred SMILES: FC<unk>F<unk><unk>F<unk>C<unk>F<unk><unk>F<unk>C<unk>F<unk><unk>F<unk>C<unk>F<unk><unk>F<unk>C<unk>F<unk><unk>F<unk>C<unk>F<unk><unk>F<unk>C<unk>F<unk><unk>F<unk>OC<unk>CCCCCCCCCCCCCCCCCCCCCCCCCCCCCCCCCCCCCCCC<unk>CCCC<unk>C<unk>CCCCCCC<unk>CCCCCC<unk>CC\n",
      "\n",
      "True SMILES: FC<unk>F<unk><unk>F<unk>C<unk>F<unk><unk>F<unk>C<unk>F<unk><unk>F<unk>C<unk>F<unk><unk>F<unk>C<unk>F<unk><unk>F<unk>C<unk>F<unk><unk>F<unk>O\n",
      "Pred SMILES: FC<unk>F<unk><unk>F<unk>C<unk>F<unk><unk>F<unk>C<unk>F<unk><unk>F<unk>C<unk>F<unk><unk>F<unk>C<unk>F<unk><unk>F<unk>C<unk>F<unk><unk>F<unk>OCCCCCCCCCCCCCCCCCCCCCCCCCCCCCCCCCCCCCCCCCCCCCCCCCCCC<unk>C<unk>CCCCCCCCCCC\n",
      "\n",
      "True SMILES: FC<unk>F<unk><unk>F<unk>C<unk>F<unk><unk>F<unk>C<unk>F<unk><unk>F<unk>C<unk>F<unk><unk>F<unk>C<unk>F<unk><unk>F<unk>O\n",
      "Pred SMILES: FC<unk>F<unk><unk>F<unk>C<unk>F<unk><unk>F<unk>C<unk>F<unk><unk>F<unk>C<unk>F<unk><unk>F<unk>C<unk>F<unk><unk>F<unk>OCCCCCCCCCCCCCCCCCCCCCCCCCCCCCCCCCCCCCCCCCCCCCCCCCCCCCCCCCCCCC<unk>OCCCCCCCCCCCCCCCC\n",
      "\n",
      "True SMILES: FC<unk>F<unk><unk>F<unk>C<unk>F<unk><unk>F<unk>C<unk>F<unk><unk>F<unk>C<unk>F<unk><unk>F<unk>O\n",
      "Pred SMILES: FC<unk>F<unk><unk>F<unk>C<unk>F<unk><unk>F<unk>C<unk>F<unk><unk>F<unk>C<unk>F<unk><unk>F<unk>OCCCCCCCCCCCCCCCCCCCCCCCCCCCCCCCCCCCCCCCCCCCCCCCCCCCCCCCCCCCCCCCCCCCCCCCCCCCCCCCCCCCCCCCCCCCCC\n",
      "\n",
      "True SMILES: FC<unk>F<unk><unk>F<unk>C<unk>F<unk><unk>F<unk>C<unk>F<unk><unk>F<unk>O\n",
      "Pred SMILES: FC<unk>F<unk><unk>F<unk>C<unk>F<unk><unk>F<unk>C<unk>F<unk><unk>F<unk>OCCCCCCCCCCCCCCCCCCCCCCCCCCCCCCCCCCCCCCCCCCCCCCCCCCCCCCCCCCCCCCCCCCCCCCCCCCCCCCCCCCCCCCCCCCCCCC\n",
      "\n",
      "True SMILES: FC<unk>F<unk><unk>F<unk>C<unk>F<unk><unk>F<unk>C<unk>F<unk><unk>F<unk>CCO\n",
      "Pred SMILES: FC<unk>F<unk><unk>F<unk>C<unk>F<unk><unk>F<unk>C<unk>F<unk><unk>F<unk>CCOCCCCCCCCCCCCCCCCCCCCCCCCCCCCCCCCCCCCCCCCCCCCCCCCCCCCCCCCCCCCCCCCCCCCCCCCCCC\n",
      "\n",
      "True SMILES: FC<unk>F<unk><unk>F<unk>C<unk>F<unk><unk>F<unk>CCO\n",
      "Pred SMILES: FC<unk>F<unk><unk>F<unk>C<unk>F<unk><unk>F<unk>CCOCCCCCCCCCCCCCCCCCCCCCCCCCCCCCCCCCCCCCCCCCCCCCCCCCCCCCCCCCCCCCCCCCCCCCCCCCCCCCCCCCCCC\n",
      "\n",
      "True SMILES: FC<unk>F<unk><unk>F<unk>CCO\n",
      "Pred SMILES: FC<unk>F<unk><unk>F<unk>CCOCCCCCCCCCCCCCCCCCCCCCCCCCCCCCCCCCCCCCCCCCCCCCCCCCCCCCCCCCCCCCCCCCCCCCCCCCCCCCCCCOCCCCCCCCCCC\n",
      "\n",
      "True SMILES: O<unk>S<unk><unk>O<unk><unk>NC<unk>C<unk>F<unk><unk>F<unk>C<unk>F<unk><unk>F<unk>C<unk>F<unk><unk>F<unk>C<unk>F<unk><unk>F<unk>C<unk>F<unk><unk>F<unk>C<unk>F<unk><unk>F<unk>C<unk>F<unk><unk>F<unk>C<unk>F<unk><unk>F<unk>C<unk>F<unk><unk>F<unk>C<unk>F<unk><unk>F<unk>F\n",
      "Pred SMILES: O<unk>S<unk><unk>O<unk><unk>NC<unk>C<unk>F<unk><unk>F<unk>C<unk>F<unk><unk>F<unk>C<unk>F<unk><unk>F<unk>C<unk>F<unk><unk>F<unk>C<unk>F<unk><unk>F<unk>C<unk>F<unk><unk>F<unk>C<unk>F<unk><unk>F<unk>C<unk>F<unk><unk>F<unk>C<unk>F<unk><unk>F<unk>C<unk>F<unk><unk>F<unk>FCCCCC<unk>CCCCC<unk>C<unk><unk>\n",
      "\n",
      "True SMILES: O<unk>S<unk><unk>O<unk><unk>NC<unk>C<unk>F<unk><unk>F<unk>C<unk>F<unk><unk>F<unk>C<unk>F<unk><unk>F<unk>C<unk>F<unk><unk>F<unk>C<unk>F<unk><unk>F<unk>C<unk>F<unk><unk>F<unk>C<unk>F<unk><unk>F<unk>C<unk>F<unk><unk>F<unk>F\n",
      "Pred SMILES: O<unk>S<unk><unk>O<unk><unk>NC<unk>C<unk>F<unk><unk>F<unk>C<unk>F<unk><unk>F<unk>C<unk>F<unk><unk>F<unk>C<unk>F<unk><unk>F<unk>C<unk>F<unk><unk>F<unk>C<unk>F<unk><unk>F<unk>C<unk>F<unk><unk>F<unk>C<unk>F<unk><unk>F<unk>FCCCCCCCCCCCCCCCCCCCCCCCCCC<unk>C<unk><unk>\n",
      "\n",
      "True SMILES: O<unk>C<unk>O<unk>CNS<unk><unk>O<unk><unk><unk>O<unk>C<unk>F<unk><unk>F<unk>C<unk>F<unk><unk>F<unk>C<unk>F<unk><unk>F<unk>C<unk>F<unk><unk>F<unk>C<unk>F<unk><unk>F<unk>C<unk>F<unk><unk>F<unk>C<unk>F<unk><unk>F<unk>C<unk>F<unk><unk>F<unk>F\n",
      "Pred SMILES: O<unk>C<unk>O<unk>CNS<unk><unk>O<unk><unk><unk>O<unk>C<unk>F<unk><unk>F<unk>C<unk>F<unk><unk>F<unk>C<unk>F<unk><unk>F<unk>C<unk>F<unk><unk>F<unk>C<unk>F<unk><unk>F<unk>C<unk>F<unk><unk>F<unk>C<unk>F<unk><unk>F<unk>C<unk>F<unk><unk>F<unk>FCCCCCCCCCCCCCCC<unk>CCCC<unk><unk>C<unk><unk>\n",
      "\n",
      "True SMILES: O<unk>C<unk>O<unk>CNS<unk><unk>O<unk><unk><unk>O<unk>C<unk>F<unk><unk>F<unk>C<unk>F<unk><unk>F<unk>C<unk>F<unk><unk>F<unk>C<unk>F<unk><unk>F<unk>F\n",
      "Pred SMILES: O<unk>C<unk>O<unk>CNS<unk><unk>O<unk><unk><unk>O<unk>C<unk>F<unk><unk>F<unk>C<unk>F<unk><unk>F<unk>C<unk>F<unk><unk>F<unk>C<unk>F<unk><unk>F<unk>FCCCCCCCCCCCCCCCCCCCCCCCCCCCCCCCCCCCCCCCC<unk>CCCCCCC<unk><unk>\n",
      "\n",
      "True SMILES: O<unk>C<unk>O<unk>CNS<unk><unk>O<unk><unk><unk>O<unk>C<unk>F<unk><unk>F<unk>C<unk>F<unk><unk>F<unk>C<unk>F<unk><unk>F<unk>C<unk>F<unk><unk>F<unk>C<unk>F<unk><unk>F<unk>F\n",
      "Pred SMILES: O<unk>C<unk>O<unk>CNS<unk><unk>O<unk><unk><unk>O<unk>C<unk>F<unk><unk>F<unk>C<unk>F<unk><unk>F<unk>C<unk>F<unk><unk>F<unk>C<unk>F<unk><unk>F<unk>C<unk>F<unk><unk>F<unk>FCCCCCCCCCCCCCCCCCCCCCCCCCCCCCCCCCC<unk>CCC<unk>CCC<unk><unk>\n",
      "\n",
      "True SMILES: O<unk>C<unk>O<unk>CNS<unk><unk>O<unk><unk><unk>O<unk>C<unk>F<unk><unk>F<unk>F\n",
      "Pred SMILES: O<unk>C<unk>O<unk>CNS<unk><unk>O<unk><unk><unk>O<unk>C<unk>F<unk><unk>F<unk>FCCCCCCCCCCCCCCCCCCCCCCCCCCCCCCCCCCCCCCCCCCCCCCCCCCCCCCCCCCCCCCCCCCCCCCCCCCCC\n",
      "\n",
      "True SMILES: O<unk>C<unk>O<unk>C<unk>F<unk><unk>F<unk>C<unk>F<unk><unk>F<unk>C<unk>F<unk><unk>F<unk>C<unk>F<unk><unk>F<unk>C<unk>F<unk><unk>F<unk>F\n",
      "Pred SMILES: O<unk>C<unk>O<unk>C<unk>F<unk><unk>F<unk>C<unk>F<unk><unk>F<unk>C<unk>F<unk><unk>F<unk>C<unk>F<unk><unk>F<unk>C<unk>F<unk><unk>F<unk>FCCCCCCCCCCCCCCCCCCCCCCCCCCCCCCCCCCCCCCCCCCCCCCCCCCCCCCCC<unk><unk>\n",
      "\n",
      "True SMILES: O<unk>C<unk>OCC<unk>OC<unk><unk>O<unk>CCCCCCCCCCCCCC<unk>CCCCCCCCCCC<unk>COC<unk>OC<unk>CS<unk><unk>O<unk><unk><unk>O<unk>O<unk>C<unk>O<unk>C<unk>O<unk>C<unk>O<unk>CCCCCCCCCCCCCCCCCCCCCCCCC\n",
      "Pred SMILES: O<unk>C<unk>OCC<unk>OC<unk><unk>O<unk>CCCCCCCCCCCCCC<unk>CCCCCCCCCCC<unk>COC<unk>OC<unk>CS<unk><unk>O<unk><unk><unk>O<unk>O<unk>C<unk>O<unk>C<unk>O<unk>C<unk>O<unk>CCCCCCCCCCCCCCCCCCCCCCCCCCCCC\n",
      "\n",
      "True SMILES: O<unk>C<unk>OCC<unk>OC<unk><unk>O<unk>CCCCCCCCCCCCCCCCCCCCCCCCC<unk>COC<unk>OC<unk>CS<unk><unk>O<unk><unk><unk>O<unk>O<unk>C<unk>O<unk>C<unk>O<unk>C<unk>O<unk>CCCCCCCCCCCCCCCCCCCCCCCCC\n",
      "Pred SMILES: O<unk>C<unk>OCC<unk>OC<unk><unk>O<unk>CCCCCCCCCCCCCCCCCCCCCCCCC<unk>COC<unk>OC<unk>CS<unk><unk>O<unk><unk><unk>O<unk>O<unk>C<unk>O<unk>C<unk>O<unk>C<unk>O<unk>CCCCCCCCCCCCCCCCCCCCCCCCCCCCCC\n",
      "\n",
      "True SMILES: CCCCCCCCCCCCCCCCCCCCCCCCCCC<unk><unk>O<unk>OC<unk>COC<unk>OC<unk>CS<unk>O<unk><unk><unk>O<unk><unk>O<unk>C<unk>O<unk>C<unk>O<unk>C<unk>O<unk>COC<unk><unk>O<unk>CCCCCCCCCCCCCCCCCCCCCCCC\n",
      "Pred SMILES: CCCCCCCCCCCCCCCCCCCCCCCCCCC<unk><unk>O<unk>OC<unk>COC<unk>OC<unk>CS<unk>O<unk><unk><unk>O<unk><unk>O<unk>C<unk>O<unk>C<unk>O<unk>C<unk>O<unk>COC<unk><unk>O<unk>CCCCCCCCCCCCCCCCCCCCCCCCCCCCC\n",
      "\n",
      "True SMILES: O<unk>C<unk>OCC<unk>OC<unk><unk>O<unk>CCCCCCCCCCCCC<unk>CCC<unk>CCC<unk>CCC<unk>CCC<unk>COC<unk>OC<unk>CS<unk><unk>O<unk><unk><unk>O<unk>O<unk>C<unk>O<unk>C<unk>O<unk>C<unk>O<unk>CCCCCCCCCCCCCCCCCCCCCCCC\n",
      "Pred SMILES: O<unk>C<unk>OCC<unk>OC<unk><unk>O<unk>CCCCCCCCCCCCC<unk>CCC<unk>CCC<unk>CCC<unk>CCC<unk>COC<unk>OC<unk>CS<unk><unk>O<unk><unk><unk>O<unk>O<unk>C<unk>O<unk>C<unk>O<unk>C<unk>O<unk>CCCCCCCCCCCCCCCCCCCCCCCCCC\n",
      "\n",
      "True SMILES: O<unk>C<unk>OCC<unk>OC<unk><unk>O<unk>CCCCCCCCCCCCCC<unk>CCC<unk>CCCCCCCC<unk>COC<unk>OC<unk>CS<unk><unk>O<unk><unk><unk>O<unk>O<unk>C<unk>O<unk>C<unk>O<unk>C<unk>O<unk>CCCCCCCCCCCCCCCCCCCCCCCC\n",
      "Pred SMILES: O<unk>C<unk>OCC<unk>OC<unk><unk>O<unk>CCCCCCCCCCCCCC<unk>CCC<unk>CCCCCCCC<unk>COC<unk>OC<unk>CS<unk><unk>O<unk><unk><unk>O<unk>O<unk>C<unk>O<unk>C<unk>O<unk>C<unk>O<unk>CCCCCCCCCCCCCCCCCCCCCCCCCCCC\n",
      "\n",
      "True SMILES: O<unk>C<unk>OCC<unk>OC<unk><unk>O<unk>CCCCCCCCCCCCCCCCCCCCCCCCCC<unk>COC<unk>OC<unk>CS<unk><unk>O<unk><unk><unk>O<unk>O<unk>C<unk>O<unk>C<unk>O<unk>C<unk>O<unk>CCCCCCCCCCCCCCCCCCCCCCC\n",
      "Pred SMILES: O<unk>C<unk>OCC<unk>OC<unk><unk>O<unk>CCCCCCCCCCCCCCCCCCCCCCCCCC<unk>COC<unk>OC<unk>CS<unk><unk>O<unk><unk><unk>O<unk>O<unk>C<unk>O<unk>C<unk>O<unk>C<unk>O<unk>CCCCCCCCCCCCCCCCCCCCCCCCCCCCCCCCCCCCCC\n",
      "\n",
      "True SMILES: O<unk>C<unk>OCC<unk>OC<unk><unk>O<unk>CCCCCCCCCCCCC<unk>CCC<unk>CCC<unk>CCC<unk>CCC<unk>COC<unk>OC<unk>CS<unk><unk>O<unk><unk><unk>O<unk>O<unk>C<unk>O<unk>C<unk>O<unk>C<unk>O<unk>CCCCCCCCCCCCCCCCCCCCCCC\n",
      "Pred SMILES: O<unk>C<unk>OCC<unk>OC<unk><unk>O<unk>CCCCCCCCCCCCC<unk>CCC<unk>CCC<unk>CCC<unk>CCC<unk>COC<unk>OC<unk>CS<unk><unk>O<unk><unk><unk>O<unk>O<unk>C<unk>O<unk>C<unk>O<unk>C<unk>O<unk>CCCCCCCCCCCCCCCCCCCCCCCCCCCCCCCCCC\n",
      "\n",
      "True SMILES: O<unk>C<unk>OCC<unk>OC<unk><unk>O<unk>CCCCCCCCCCCCCC<unk>CCC<unk>CCCCCCCC<unk>COC<unk>OC<unk>CS<unk><unk>O<unk><unk><unk>O<unk>O<unk>C<unk>O<unk>C<unk>O<unk>C<unk>O<unk>CCCCCCCCCCCCCCCCCCCCCCC\n",
      "Pred SMILES: O<unk>C<unk>OCC<unk>OC<unk><unk>O<unk>CCCCCCCCCCCCCC<unk>CCC<unk>CCCCCCCC<unk>COC<unk>OC<unk>CS<unk><unk>O<unk><unk><unk>O<unk>O<unk>C<unk>O<unk>C<unk>O<unk>C<unk>O<unk>CCCCCCCCCCCCCCCCCCCCCCCCCCCCCCCCCCCC\n",
      "\n",
      "True SMILES: O<unk>C<unk>OCC<unk>OC<unk><unk>O<unk>CCCCCCCCCCCCCC<unk>CCCCCCCCCCC<unk>COC<unk>OC<unk>CS<unk><unk>O<unk><unk><unk>O<unk>O<unk>C<unk>O<unk>C<unk>O<unk>C<unk>O<unk>CCCCCCCCCCCCCCCCCCCCCCC\n",
      "Pred SMILES: O<unk>C<unk>OCC<unk>OC<unk><unk>O<unk>CCCCCCCCCCCCCC<unk>CCCCCCCCCCC<unk>COC<unk>OC<unk>CS<unk><unk>O<unk><unk><unk>O<unk>O<unk>C<unk>O<unk>C<unk>O<unk>C<unk>O<unk>CCCCCCCCCCCCCCCCCCCCCCCCCCCCCCCCCCCCCC\n",
      "\n",
      "True SMILES: O<unk>C<unk>OCC<unk>OC<unk><unk>O<unk>CCCCCCCCCCCCCCCCCCCCCCCCC<unk>COC<unk>OC<unk>CS<unk><unk>O<unk><unk><unk>O<unk>O<unk>C<unk>O<unk>C<unk>O<unk>C<unk>O<unk>CCCCCCCCCCCCCCCCCCCCCCC\n",
      "Pred SMILES: O<unk>C<unk>OCC<unk>OC<unk><unk>O<unk>CCCCCCCCCCCCCCCCCCCCCCCCC<unk>COC<unk>OC<unk>CS<unk><unk>O<unk><unk><unk>O<unk>O<unk>C<unk>O<unk>C<unk>O<unk>C<unk>O<unk>CCCCCCCCCCCCCCCCCCCCCCCCCCCCCCCCCCCCCCC\n",
      "\n",
      "True SMILES: O<unk>C<unk>OCC<unk>OC<unk><unk>O<unk>CCC<unk>CCC<unk>CCC<unk>CCC<unk>CCC<unk>CCC<unk>CCC<unk>COC<unk>OC<unk>CS<unk><unk>O<unk><unk><unk>O<unk>O<unk>C<unk>O<unk>C<unk>O<unk>C<unk>O<unk>CCC<unk>CCC<unk>CCC<unk>CCC<unk>CCC<unk>CCC<unk>CCC\n",
      "Pred SMILES: O<unk>C<unk>OCC<unk>OC<unk><unk>O<unk>CCC<unk>CCC<unk>CCC<unk>CCC<unk>CCC<unk>CCC<unk>CCC<unk>COC<unk>OC<unk>CS<unk><unk>O<unk><unk><unk>O<unk>O<unk>C<unk>O<unk>C<unk>O<unk>C<unk>O<unk>CCC<unk>CCC<unk>CCC<unk>CCC<unk>CCC<unk>CCC<unk>CCC\n",
      "\n",
      "True SMILES: O<unk>C<unk>OCC<unk>OC<unk><unk>O<unk>CCCCCC<unk>CCC<unk>CCC<unk>CCC<unk>CCC<unk>CCC<unk>COC<unk>OC<unk>CS<unk><unk>O<unk><unk><unk>O<unk>O<unk>C<unk>O<unk>C<unk>O<unk>C<unk>O<unk>CCCCCCCCCCCCCCCCCCCCCCCCCC\n",
      "Pred SMILES: O<unk>C<unk>OCC<unk>OC<unk><unk>O<unk>CCCCCC<unk>CCC<unk>CCC<unk>CCC<unk>CCC<unk>CCC<unk>COC<unk>OC<unk>CS<unk><unk>O<unk><unk><unk>O<unk>O<unk>C<unk>O<unk>C<unk>O<unk>C<unk>O<unk>CCCCCCCCCCCCCCCCCCCCCCCCCCC\n",
      "\n",
      "True SMILES: O<unk>C<unk>OCC<unk>OC<unk><unk>O<unk>CCCCCC<unk>CCC<unk>CCC<unk>CCC<unk>CCC<unk>CCC<unk>COC<unk>OC<unk>CS<unk><unk>O<unk><unk><unk>O<unk>O<unk>C<unk>O<unk>C<unk>O<unk>C<unk>O<unk>CCCCCCCCCCCCC<unk>CCC<unk>CCC<unk>CCC<unk>CCC\n",
      "Pred SMILES: O<unk>C<unk>OCC<unk>OC<unk><unk>O<unk>CCCCCC<unk>CCC<unk>CCC<unk>CCC<unk>CCC<unk>CCC<unk>COC<unk>OC<unk>CS<unk><unk>O<unk><unk><unk>O<unk>O<unk>C<unk>O<unk>C<unk>O<unk>C<unk>O<unk>CCCCCCCCCCCCC<unk>CCC<unk>CCC<unk>CCC<unk>CCC\n",
      "\n",
      "True SMILES: O<unk>C<unk>OCC<unk>OC<unk><unk>O<unk>CCCCCC<unk>CCC<unk>CCC<unk>CCC<unk>CCC<unk>CCC<unk>COC<unk>OC<unk>CS<unk><unk>O<unk><unk><unk>O<unk>O<unk>C<unk>O<unk>C<unk>O<unk>C<unk>O<unk>CCCCCCCCCCCCCC<unk>CCC<unk>CCCCCCCC\n",
      "Pred SMILES: O<unk>C<unk>OCC<unk>OC<unk><unk>O<unk>CCCCCC<unk>CCC<unk>CCC<unk>CCC<unk>CCC<unk>CCC<unk>COC<unk>OC<unk>CS<unk><unk>O<unk><unk><unk>O<unk>O<unk>C<unk>O<unk>C<unk>O<unk>C<unk>O<unk>CCCCCCCCCCCCCC<unk>CCC<unk>CCCCCCCCC\n",
      "\n",
      "True SMILES: O<unk>C<unk>OCC<unk>OC<unk><unk>O<unk>CCCCCC<unk>CCC<unk>CCC<unk>CCC<unk>CCC<unk>CCC<unk>COC<unk>OC<unk>CS<unk><unk>O<unk><unk><unk>O<unk>O<unk>C<unk>O<unk>C<unk>O<unk>C<unk>O<unk>CCCCCCCCCCCCCC<unk>CCCCCCCCCCC\n",
      "Pred SMILES: O<unk>C<unk>OCC<unk>OC<unk><unk>O<unk>CCCCCC<unk>CCC<unk>CCC<unk>CCC<unk>CCC<unk>CCC<unk>COC<unk>OC<unk>CS<unk><unk>O<unk><unk><unk>O<unk>O<unk>C<unk>O<unk>C<unk>O<unk>C<unk>O<unk>CCCCCCCCCCCCCC<unk>CCCCCCCCCCCC\n",
      "\n",
      "True SMILES: O<unk>C<unk>OCC<unk>OC<unk><unk>O<unk>CCCCCCCCC<unk>CCC<unk>CCC<unk>CCCCCC<unk>COC<unk>OC<unk>CS<unk><unk>O<unk><unk><unk>O<unk>O<unk>C<unk>O<unk>C<unk>O<unk>C<unk>O<unk>CCCCCCCCCCCCCCCCCCCCCCCCC\n",
      "Pred SMILES: O<unk>C<unk>OCC<unk>OC<unk><unk>O<unk>CCCCCCCCC<unk>CCC<unk>CCC<unk>CCCCCC<unk>COC<unk>OC<unk>CS<unk><unk>O<unk><unk><unk>O<unk>O<unk>C<unk>O<unk>C<unk>O<unk>C<unk>O<unk>CCCCCCCCCCCCCCCCCCCCCCCCCCCCCCCCCCCCCCC\n",
      "\n",
      "True SMILES: O<unk>C<unk>OCC<unk>OC<unk><unk>O<unk>CCCCCCCCC<unk>CCC<unk>CCC<unk>CCCCCC<unk>COC<unk>OC<unk>CS<unk><unk>O<unk><unk><unk>O<unk>O<unk>C<unk>O<unk>C<unk>O<unk>C<unk>O<unk>CCCCCCCCCCCCCCCCCCCCCCCC\n",
      "Pred SMILES: O<unk>C<unk>OCC<unk>OC<unk><unk>O<unk>CCCCCCCCC<unk>CCC<unk>CCC<unk>CCCCCC<unk>COC<unk>OC<unk>CS<unk><unk>O<unk><unk><unk>O<unk>O<unk>C<unk>O<unk>C<unk>O<unk>C<unk>O<unk>CCCCCCCCCCCCCCCCCCCCCCCCCCCCCCCCCCCCCCC\n",
      "\n",
      "True SMILES: O<unk>C<unk>OCC<unk>OC<unk><unk>O<unk>CCCCCCCCCCC<unk>CCC<unk>CCC<unk>CCC<unk>CCC<unk>COC<unk>OC<unk>CS<unk><unk>O<unk><unk><unk>O<unk>O<unk>C<unk>O<unk>C<unk>O<unk>C<unk>O<unk>CCCCCCCCC<unk>CCC<unk>CCC<unk>CCCCCC\n",
      "Pred SMILES: O<unk>C<unk>OCC<unk>OC<unk><unk>O<unk>CCCCCCCCCCC<unk>CCC<unk>CCC<unk>CCC<unk>CCC<unk>COC<unk>OC<unk>CS<unk><unk>O<unk><unk><unk>O<unk>O<unk>C<unk>O<unk>C<unk>O<unk>C<unk>O<unk>CCCCCCCCC<unk>CCC<unk>CCC<unk>CCCCCCCCCCCCCCCCCC\n",
      "\n",
      "True SMILES: O<unk>C<unk>OCC<unk>OC<unk><unk>O<unk>CCCCCCCCC<unk>CCC<unk>CCC<unk>CCCCCC<unk>COC<unk>OC<unk>CS<unk><unk>O<unk><unk><unk>O<unk>O<unk>C<unk>O<unk>C<unk>O<unk>C<unk>O<unk>CCCCCCCCCCCC<unk>CCC<unk>CCCCCCCC\n",
      "Pred SMILES: O<unk>C<unk>OCC<unk>OC<unk><unk>O<unk>CCCCCCCCC<unk>CCC<unk>CCC<unk>CCCCCC<unk>COC<unk>OC<unk>CS<unk><unk>O<unk><unk><unk>O<unk>O<unk>C<unk>O<unk>C<unk>O<unk>C<unk>O<unk>CCCCCCCCCCCC<unk>CCC<unk>CCCCCCCCCCCCCCCCCCCCCC\n",
      "\n",
      "True SMILES: O<unk>C<unk>OCC<unk>OC<unk><unk>O<unk>CCCCCCCCC<unk>CCC<unk>CCC<unk>CCCCCC<unk>COC<unk>OC<unk>CS<unk><unk>O<unk><unk><unk>O<unk>O<unk>C<unk>O<unk>C<unk>O<unk>C<unk>O<unk>CCCCCCCCCCCC<unk>CCCCCCCCCCC\n",
      "Pred SMILES: O<unk>C<unk>OCC<unk>OC<unk><unk>O<unk>CCCCCCCCC<unk>CCC<unk>CCC<unk>CCCCCC<unk>COC<unk>OC<unk>CS<unk><unk>O<unk><unk><unk>O<unk>O<unk>C<unk>O<unk>C<unk>O<unk>C<unk>O<unk>CCCCCCCCCCCC<unk>CCCCCCCCCCCCCCCCCCCCCCCCCC\n",
      "\n",
      "True SMILES: O<unk>C<unk>OCC<unk>OC<unk><unk>O<unk>CCCCCCCCCCCC<unk>CCCCCCCCC<unk>COC<unk>OC<unk>CS<unk><unk>O<unk><unk><unk>O<unk>O<unk>C<unk>O<unk>C<unk>O<unk>C<unk>O<unk>CCCCCCCCCCCCCCCCCCCCCCCC\n",
      "Pred SMILES: O<unk>C<unk>OCC<unk>OC<unk><unk>O<unk>CCCCCCCCCCCC<unk>CCCCCCCCC<unk>COC<unk>OC<unk>CS<unk><unk>O<unk><unk><unk>O<unk>O<unk>C<unk>O<unk>C<unk>O<unk>C<unk>O<unk>CCCCCCCCCCCCCCCCCCCCCCCCCCCCCCCCCCCCCCOCC\n",
      "\n",
      "True SMILES: O<unk>C<unk>OCC<unk>OC<unk><unk>O<unk>CCCCCCCCCCC<unk>CCC<unk>CCC<unk>CCC<unk>CCC<unk>COC<unk>OC<unk>CS<unk><unk>O<unk><unk><unk>O<unk>O<unk>C<unk>O<unk>C<unk>O<unk>C<unk>O<unk>CCCCCCCCCCCC<unk>CCCCCCCCC\n",
      "Pred SMILES: O<unk>C<unk>OCC<unk>OC<unk><unk>O<unk>CCCCCCCCCCC<unk>CCC<unk>CCC<unk>CCC<unk>CCC<unk>COC<unk>OC<unk>CS<unk><unk>O<unk><unk><unk>O<unk>O<unk>C<unk>O<unk>C<unk>O<unk>C<unk>O<unk>CCCCCCCCCCCC<unk>CCCCCCCCCCCCCCCCCCCCCC\n",
      "\n",
      "True SMILES: O<unk>C<unk>OCC<unk>OC<unk><unk>O<unk>CCCCCCCCCCCC<unk>CCC<unk>CCCCCCCC<unk>COC<unk>OC<unk>CS<unk><unk>O<unk><unk><unk>O<unk>O<unk>C<unk>O<unk>C<unk>O<unk>C<unk>O<unk>CCCCCCCCCCCC<unk>CCCCCCCCC\n",
      "Pred SMILES: O<unk>C<unk>OCC<unk>OC<unk><unk>O<unk>CCCCCCCCCCCC<unk>CCC<unk>CCCCCCCC<unk>COC<unk>OC<unk>CS<unk><unk>O<unk><unk><unk>O<unk>O<unk>C<unk>O<unk>C<unk>O<unk>C<unk>O<unk>CCCCCCCCCCCC<unk>CCCCCCCCCCCCCCCCCCCCCCCCC\n",
      "\n",
      "True SMILES: O<unk>C<unk>OCC<unk>OC<unk><unk>O<unk>CCCCCCCCCCCC<unk>CCCCCCCCCCC<unk>COC<unk>OC<unk>CS<unk><unk>O<unk><unk><unk>O<unk>O<unk>C<unk>O<unk>C<unk>O<unk>C<unk>O<unk>CCCCCCCCCCCC<unk>CCCCCCCCC\n",
      "Pred SMILES: O<unk>C<unk>OCC<unk>OC<unk><unk>O<unk>CCCCCCCCCCCC<unk>CCCCCCCCCCC<unk>COC<unk>OC<unk>CS<unk><unk>O<unk><unk><unk>O<unk>O<unk>C<unk>O<unk>C<unk>O<unk>C<unk>O<unk>CCCCCCCCCCCC<unk>CCCCCCCCCCCCCCCCCCCCCCCCCC\n",
      "\n",
      "True SMILES: O<unk>C<unk>OCC<unk>OC<unk><unk>O<unk>CCCCCCCCCCCC<unk>CCCCCCCCC<unk>COC<unk>OC<unk>CS<unk><unk>O<unk><unk><unk>O<unk>O<unk>C<unk>O<unk>C<unk>O<unk>C<unk>O<unk>CCCCCCCCCCCCCCCCCCCCCCC\n",
      "Pred SMILES: O<unk>C<unk>OCC<unk>OC<unk><unk>O<unk>CCCCCCCCCCCC<unk>CCCCCCCCC<unk>COC<unk>OC<unk>CS<unk><unk>O<unk><unk><unk>O<unk>O<unk>C<unk>O<unk>C<unk>O<unk>C<unk>O<unk>CCCCCCCCCCCCCCCCCCCCCCCCCCCCCCCCCCCCCCOCC\n",
      "\n",
      "True SMILES: O<unk>C<unk>OCC<unk>OC<unk><unk>O<unk>CCCCCCCCCCCCCC<unk>CCC<unk>CCCCCCCC<unk>COC<unk>OC<unk>CS<unk><unk>O<unk><unk><unk>O<unk>O<unk>C<unk>O<unk>C<unk>O<unk>C<unk>O<unk>CCCCCCCCCC<unk>CCC<unk>CCCCCCC\n",
      "Pred SMILES: O<unk>C<unk>OCC<unk>OC<unk><unk>O<unk>CCCCCCCCCCCCCC<unk>CCC<unk>CCCCCCCC<unk>COC<unk>OC<unk>CS<unk><unk>O<unk><unk><unk>O<unk>O<unk>C<unk>O<unk>C<unk>O<unk>C<unk>O<unk>CCCCCCCCCC<unk>CCC<unk>CCCCCCC\n",
      "\n",
      "True SMILES: O<unk>C<unk>OCC<unk>OC<unk><unk>O<unk>CCCCCCCCCC<unk>CCC<unk>CCCCCCC<unk>COC<unk>OC<unk>CS<unk><unk>O<unk><unk><unk>O<unk>O<unk>C<unk>O<unk>C<unk>O<unk>C<unk>O<unk>CCCCCCCCCCCCCC<unk>CCCCCCCCCCC\n",
      "Pred SMILES: O<unk>C<unk>OCC<unk>OC<unk><unk>O<unk>CCCCCCCCCC<unk>CCC<unk>CCCCCCC<unk>COC<unk>OC<unk>CS<unk><unk>O<unk><unk><unk>O<unk>O<unk>C<unk>O<unk>C<unk>O<unk>C<unk>O<unk>CCCCCCCCCCCCCC<unk>CCCCCCCCCCCCC\n",
      "\n",
      "True SMILES: O<unk>C<unk>OCC<unk>OC<unk><unk>O<unk>CCCCCCCCCC<unk>CCC<unk>CCCCCCC<unk>COC<unk>OC<unk>CS<unk><unk>O<unk><unk><unk>O<unk>O<unk>C<unk>O<unk>C<unk>O<unk>C<unk>O<unk>CCCCCCCCCCCCCCCCCCCCCCCCC\n",
      "Pred SMILES: O<unk>C<unk>OCC<unk>OC<unk><unk>O<unk>CCCCCCCCCC<unk>CCC<unk>CCCCCCC<unk>COC<unk>OC<unk>CS<unk><unk>O<unk><unk><unk>O<unk>O<unk>C<unk>O<unk>C<unk>O<unk>C<unk>O<unk>CCCCCCCCCCCCCCCCCCCCCCCCCCCC\n",
      "\n",
      "True SMILES: O<unk>C<unk>OCC<unk>OC<unk><unk>O<unk>CCCCCCCCCC<unk>CCC<unk>CCCCCCC<unk>COC<unk>OC<unk>CS<unk><unk>O<unk><unk><unk>O<unk>O<unk>C<unk>O<unk>C<unk>O<unk>C<unk>O<unk>CCCCCCCCCCCCCCCCCCCCCCCC\n",
      "Pred SMILES: O<unk>C<unk>OCC<unk>OC<unk><unk>O<unk>CCCCCCCCCC<unk>CCC<unk>CCCCCCC<unk>COC<unk>OC<unk>CS<unk><unk>O<unk><unk><unk>O<unk>O<unk>C<unk>O<unk>C<unk>O<unk>C<unk>O<unk>CCCCCCCCCCCCCCCCCCCCCCCCCCCC\n",
      "\n",
      "True SMILES: O<unk>C<unk>OCC<unk>OC<unk><unk>O<unk>CCCCCCCCCCC<unk>CCC<unk>CCC<unk>CCC<unk>CCC<unk>COC<unk>OC<unk>CS<unk><unk>O<unk><unk><unk>O<unk>O<unk>C<unk>O<unk>C<unk>O<unk>C<unk>O<unk>CCCCCCCCCC<unk>CCC<unk>CCCCCCC\n",
      "Pred SMILES: O<unk>C<unk>OCC<unk>OC<unk><unk>O<unk>CCCCCCCCCCC<unk>CCC<unk>CCC<unk>CCC<unk>CCC<unk>COC<unk>OC<unk>CS<unk><unk>O<unk><unk><unk>O<unk>O<unk>C<unk>O<unk>C<unk>O<unk>C<unk>O<unk>CCCCCCCCCC<unk>CCC<unk>CCCCCCC\n",
      "\n",
      "True SMILES: O<unk>C<unk>OCC<unk>OC<unk><unk>O<unk>CCCCCCCCCCCC<unk>CCC<unk>CCCCCC<unk>COC<unk>OC<unk>CS<unk><unk>O<unk><unk><unk>O<unk>O<unk>C<unk>O<unk>C<unk>O<unk>C<unk>O<unk>CCCCCCCCCC<unk>CCCCCCCCCC\n",
      "Pred SMILES: O<unk>C<unk>OCC<unk>OC<unk><unk>O<unk>CCCCCCCCCCCC<unk>CCC<unk>CCCCCC<unk>COC<unk>OC<unk>CS<unk><unk>O<unk><unk><unk>O<unk>O<unk>C<unk>O<unk>C<unk>O<unk>C<unk>O<unk>CCCCCCCCCC<unk>CCCCCCCCCCCCCCCCCC\n",
      "\n",
      "True SMILES: O<unk>C<unk>OCC<unk>OC<unk><unk>O<unk>CCCCCCCCCCCC<unk>CCCCCCCCC<unk>COC<unk>OC<unk>CS<unk><unk>O<unk><unk><unk>O<unk>O<unk>C<unk>O<unk>C<unk>O<unk>C<unk>O<unk>CCCCCCCCCC<unk>CCCCCCCCCC\n",
      "Pred SMILES: O<unk>C<unk>OCC<unk>OC<unk><unk>O<unk>CCCCCCCCCCCC<unk>CCCCCCCCC<unk>COC<unk>OC<unk>CS<unk><unk>O<unk><unk><unk>O<unk>O<unk>C<unk>O<unk>C<unk>O<unk>C<unk>O<unk>CCCCCCCCCC<unk>CCCCCCCCCCCCCCCCCCCC\n",
      "\n",
      "True SMILES: O<unk>C<unk>OCC<unk>OC<unk><unk>O<unk>CCCCCCCCCC<unk>CCCCCCCCCC<unk>COC<unk>OC<unk>CS<unk><unk>O<unk><unk><unk>O<unk>O<unk>C<unk>O<unk>C<unk>O<unk>C<unk>O<unk>CCCCCCCCCCCCCCCCCCCCC\n",
      "Pred SMILES: O<unk>C<unk>OCC<unk>OC<unk><unk>O<unk>CCCCCCCCCC<unk>CCCCCCCCCC<unk>COC<unk>OC<unk>CS<unk><unk>O<unk><unk><unk>O<unk>O<unk>C<unk>O<unk>C<unk>O<unk>C<unk>O<unk>CCCCCCCCCCCCCCCCCCCCCCCCCCCCCCCC\n",
      "\n",
      "True SMILES: O<unk>C<unk>OCC<unk>OC<unk><unk>O<unk>CCCCCCCCCC<unk>CCC<unk>CCCCCCC<unk>COC<unk>OC<unk>CS<unk><unk>O<unk><unk><unk>O<unk>O<unk>C<unk>O<unk>C<unk>O<unk>C<unk>O<unk>CCCCCCCCCC<unk>CCCCCCCCCC\n",
      "Pred SMILES: O<unk>C<unk>OCC<unk>OC<unk><unk>O<unk>CCCCCCCCCC<unk>CCC<unk>CCCCCCC<unk>COC<unk>OC<unk>CS<unk><unk>O<unk><unk><unk>O<unk>O<unk>C<unk>O<unk>C<unk>O<unk>C<unk>O<unk>CCCCCCCCCC<unk>CCCCCCCCCCCCCCCCCCCC\n",
      "\n",
      "True SMILES: O<unk>C<unk>OCC<unk>OC<unk><unk>O<unk>CCCCCCCCCC<unk>CCCCCCCCCC<unk>COC<unk>OC<unk>CS<unk><unk>O<unk><unk><unk>O<unk>O<unk>C<unk>O<unk>C<unk>O<unk>C<unk>O<unk>CCCCCCCCCC<unk>CCCCCCCCCC\n",
      "Pred SMILES: O<unk>C<unk>OCC<unk>OC<unk><unk>O<unk>CCCCCCCCCC<unk>CCCCCCCCCC<unk>COC<unk>OC<unk>CS<unk><unk>O<unk><unk><unk>O<unk>O<unk>C<unk>O<unk>C<unk>O<unk>C<unk>O<unk>CCCCCCCCCC<unk>CCCCCCCCCCCCCCCCCCCCC\n",
      "\n",
      "True SMILES: O<unk>C<unk>OCC<unk>OC<unk><unk>O<unk>CCCC<unk>CCC<unk>CCC<unk>CCC<unk>CCC<unk>CCC<unk>COC<unk>OC<unk>CS<unk><unk>O<unk><unk><unk>O<unk>O<unk>C<unk>O<unk>C<unk>O<unk>C<unk>O<unk>CCCCCCCCCCC<unk>CCC<unk>CCC<unk>CCC<unk>CCC\n",
      "Pred SMILES: O<unk>C<unk>OCC<unk>OC<unk><unk>O<unk>CCCC<unk>CCC<unk>CCC<unk>CCC<unk>CCC<unk>CCC<unk>COC<unk>OC<unk>CS<unk><unk>O<unk><unk><unk>O<unk>O<unk>C<unk>O<unk>C<unk>O<unk>C<unk>O<unk>CCCCCCCCCCC<unk>CCC<unk>CCC<unk>CCC<unk>CCC\n",
      "\n",
      "True SMILES: O<unk>C<unk>OCC<unk>OC<unk><unk>O<unk>CCCC<unk>CCC<unk>CCC<unk>CCC<unk>CCC<unk>CCC<unk>COC<unk>OC<unk>CS<unk><unk>O<unk><unk><unk>O<unk>O<unk>C<unk>O<unk>C<unk>O<unk>C<unk>O<unk>CCCCCCCCCCCC<unk>CCC<unk>CCCCCCCC\n",
      "Pred SMILES: O<unk>C<unk>OCC<unk>OC<unk><unk>O<unk>CCCC<unk>CCC<unk>CCC<unk>CCC<unk>CCC<unk>CCC<unk>COC<unk>OC<unk>CS<unk><unk>O<unk><unk><unk>O<unk>O<unk>C<unk>O<unk>C<unk>O<unk>C<unk>O<unk>CCCCCCCCCCCC<unk>CCC<unk>CCCCCCCCCCC\n",
      "\n",
      "True SMILES: O<unk>C<unk>OCC<unk>OC<unk><unk>O<unk>CCCC<unk>CCC<unk>CCC<unk>CCC<unk>CCC<unk>CCC<unk>COC<unk>OC<unk>CS<unk><unk>O<unk><unk><unk>O<unk>O<unk>C<unk>O<unk>C<unk>O<unk>C<unk>O<unk>CCCCCCCCCCCC<unk>CCCCCCCCCCC\n",
      "Pred SMILES: O<unk>C<unk>OCC<unk>OC<unk><unk>O<unk>CCCC<unk>CCC<unk>CCC<unk>CCC<unk>CCC<unk>CCC<unk>COC<unk>OC<unk>CS<unk><unk>O<unk><unk><unk>O<unk>O<unk>C<unk>O<unk>C<unk>O<unk>C<unk>O<unk>CCCCCCCCCCCC<unk>CCCCCCCCCCCCCCC\n",
      "\n",
      "True SMILES: O<unk>C<unk>OCC<unk>OC<unk><unk>O<unk>CCCC<unk>CCC<unk>CCC<unk>CCC<unk>CCC<unk>CCC<unk>COC<unk>OC<unk>CS<unk><unk>O<unk><unk><unk>O<unk>O<unk>C<unk>O<unk>C<unk>O<unk>C<unk>O<unk>CCCCCCCCCCCCCCCCCCCCCCC\n",
      "Pred SMILES: O<unk>C<unk>OCC<unk>OC<unk><unk>O<unk>CCCC<unk>CCC<unk>CCC<unk>CCC<unk>CCC<unk>CCC<unk>COC<unk>OC<unk>CS<unk><unk>O<unk><unk><unk>O<unk>O<unk>C<unk>O<unk>C<unk>O<unk>C<unk>O<unk>CCCCCCCCCCCCCCCCCCCCCCCCCCCC\n",
      "\n",
      "True SMILES: O<unk>C<unk>OCC<unk>OC<unk><unk>O<unk>CCCC<unk>CCC<unk>CCC<unk>CCC<unk>CCC<unk>CCC<unk>COC<unk>OC<unk>CS<unk><unk>O<unk><unk><unk>O<unk>O<unk>C<unk>O<unk>C<unk>O<unk>C<unk>O<unk>CCCCCCCCCCCCCCCCCCCCCC\n",
      "Pred SMILES: O<unk>C<unk>OCC<unk>OC<unk><unk>O<unk>CCCC<unk>CCC<unk>CCC<unk>CCC<unk>CCC<unk>CCC<unk>COC<unk>OC<unk>CS<unk><unk>O<unk><unk><unk>O<unk>O<unk>C<unk>O<unk>C<unk>O<unk>C<unk>O<unk>CCCCCCCCCCCCCCCCCCCCCCCCCCCC\n",
      "\n",
      "True SMILES: O<unk>C<unk>OCC<unk>OC<unk><unk>O<unk>CCCCCCC<unk>CCC<unk>CCC<unk>CCC<unk>CCC<unk>COC<unk>OC<unk>CS<unk><unk>O<unk><unk><unk>O<unk>O<unk>C<unk>O<unk>C<unk>O<unk>C<unk>O<unk>CCCCCCCCCCCC<unk>CCCCCCCCC\n",
      "Pred SMILES: O<unk>C<unk>OCC<unk>OC<unk><unk>O<unk>CCCCCCC<unk>CCC<unk>CCC<unk>CCC<unk>CCC<unk>COC<unk>OC<unk>CS<unk><unk>O<unk><unk><unk>O<unk>O<unk>C<unk>O<unk>C<unk>O<unk>C<unk>O<unk>CCCCCCCCCCCC<unk>CCCCCCCCCCCCCCC\n",
      "\n",
      "True SMILES: O<unk>C<unk>OCC<unk>OC<unk><unk>O<unk>CCCCCCC<unk>CCC<unk>CCC<unk>CCC<unk>CCC<unk>COC<unk>OC<unk>CS<unk><unk>O<unk><unk><unk>O<unk>O<unk>C<unk>O<unk>C<unk>O<unk>C<unk>O<unk>CCCCCCCCCCCCCCCCCCCCC\n",
      "Pred SMILES: O<unk>C<unk>OCC<unk>OC<unk><unk>O<unk>CCCCCCC<unk>CCC<unk>CCC<unk>CCC<unk>CCC<unk>COC<unk>OC<unk>CS<unk><unk>O<unk><unk><unk>O<unk>O<unk>C<unk>O<unk>C<unk>O<unk>C<unk>O<unk>CCCCCCCCCCCCCCCCCCCCCCCCCC\n",
      "\n",
      "True SMILES: O<unk>C<unk>OCC<unk>OC<unk><unk>O<unk>CCCCCCC<unk>CCC<unk>CCC<unk>CCC<unk>CCC<unk>COC<unk>OC<unk>CS<unk><unk>O<unk><unk><unk>O<unk>O<unk>C<unk>O<unk>C<unk>O<unk>C<unk>O<unk>CCCCCCCCCC<unk>CCC<unk>CCCCCCC\n",
      "Pred SMILES: O<unk>C<unk>OCC<unk>OC<unk><unk>O<unk>CCCCCCC<unk>CCC<unk>CCC<unk>CCC<unk>CCC<unk>COC<unk>OC<unk>CS<unk><unk>O<unk><unk><unk>O<unk>O<unk>C<unk>O<unk>C<unk>O<unk>C<unk>O<unk>CCCCCCCCCC<unk>CCC<unk>CCCCCCCCCCCCC\n",
      "\n",
      "True SMILES: O<unk>C<unk>OCC<unk>OC<unk><unk>O<unk>CCCCCCC<unk>CCC<unk>CCC<unk>CCC<unk>CCC<unk>COC<unk>OC<unk>CS<unk><unk>O<unk><unk><unk>O<unk>O<unk>C<unk>O<unk>C<unk>O<unk>C<unk>O<unk>CCCCCCCCCC<unk>CCCCCCCCCC\n",
      "Pred SMILES: O<unk>C<unk>OCC<unk>OC<unk><unk>O<unk>CCCCCCC<unk>CCC<unk>CCC<unk>CCC<unk>CCC<unk>COC<unk>OC<unk>CS<unk><unk>O<unk><unk><unk>O<unk>O<unk>C<unk>O<unk>C<unk>O<unk>C<unk>O<unk>CCCCCCCCCC<unk>CCCCCCCCCCCCCCC\n",
      "\n",
      "True SMILES: O<unk>C<unk>OCC<unk>OC<unk><unk>O<unk>CCCCCCC<unk>CCC<unk>CCC<unk>CCC<unk>CCC<unk>COC<unk>OC<unk>CS<unk><unk>O<unk><unk><unk>O<unk>O<unk>C<unk>O<unk>C<unk>O<unk>C<unk>O<unk>CCCCCCCCCCCCCCCCCCCC\n",
      "Pred SMILES: O<unk>C<unk>OCC<unk>OC<unk><unk>O<unk>CCCCCCC<unk>CCC<unk>CCC<unk>CCC<unk>CCC<unk>COC<unk>OC<unk>CS<unk><unk>O<unk><unk><unk>O<unk>O<unk>C<unk>O<unk>C<unk>O<unk>C<unk>O<unk>CCCCCCCCCCCCCCCCCCCCCCCCCCCC\n",
      "\n",
      "True SMILES: O<unk>C<unk>OCC<unk>OC<unk><unk>O<unk>CCCCCCCCCCCCC<unk>CCC<unk>CCC<unk>CCC<unk>CCC<unk>COC<unk>OC<unk>CS<unk><unk>O<unk><unk><unk>O<unk>O<unk>C<unk>O<unk>C<unk>O<unk>C<unk>O<unk>CCCCCCCCCC<unk>CCC<unk>CCCCCC\n",
      "Pred SMILES: O<unk>C<unk>OCC<unk>OC<unk><unk>O<unk>CCCCCCCCCCCCC<unk>CCC<unk>CCC<unk>CCC<unk>CCC<unk>COC<unk>OC<unk>CS<unk><unk>O<unk><unk><unk>O<unk>O<unk>C<unk>O<unk>C<unk>O<unk>C<unk>O<unk>CCCCCCCCCC<unk>CCC<unk>CCCCCCC\n",
      "\n",
      "True SMILES: O<unk>C<unk>OCC<unk>OC<unk><unk>O<unk>CCCCCCCCCCCCCC<unk>CCC<unk>CCCCCCCC<unk>COC<unk>OC<unk>CS<unk><unk>O<unk><unk><unk>O<unk>O<unk>C<unk>O<unk>C<unk>O<unk>C<unk>O<unk>CCCCCCCCCC<unk>CCC<unk>CCCCCC\n",
      "Pred SMILES: O<unk>C<unk>OCC<unk>OC<unk><unk>O<unk>CCCCCCCCCCCCCC<unk>CCC<unk>CCCCCCCC<unk>COC<unk>OC<unk>CS<unk><unk>O<unk><unk><unk>O<unk>O<unk>C<unk>O<unk>C<unk>O<unk>C<unk>O<unk>CCCCCCCCCC<unk>CCC<unk>CCCCCCCC\n",
      "\n",
      "True SMILES: O<unk>C<unk>OCC<unk>OC<unk><unk>O<unk>CCCCCCCCCC<unk>CCC<unk>CCCCCC<unk>COC<unk>OC<unk>CS<unk><unk>O<unk><unk><unk>O<unk>O<unk>C<unk>O<unk>C<unk>O<unk>C<unk>O<unk>CCCCCCCCCCCCCC<unk>CCCCCCCCCCC\n",
      "Pred SMILES: O<unk>C<unk>OCC<unk>OC<unk><unk>O<unk>CCCCCCCCCC<unk>CCC<unk>CCCCCC<unk>COC<unk>OC<unk>CS<unk><unk>O<unk><unk><unk>O<unk>O<unk>C<unk>O<unk>C<unk>O<unk>C<unk>O<unk>CCCCCCCCCCCCCC<unk>CCCCCCCCCCCCCC\n",
      "\n",
      "True SMILES: O<unk>C<unk>OCC<unk>OC<unk><unk>O<unk>CCCCCCCCCC<unk>CCC<unk>CCCCCC<unk>COC<unk>OC<unk>CS<unk><unk>O<unk><unk><unk>O<unk>O<unk>C<unk>O<unk>C<unk>O<unk>C<unk>O<unk>CCCCCCCCCCCCCCCCCCCCCCCCC\n",
      "Pred SMILES: O<unk>C<unk>OCC<unk>OC<unk><unk>O<unk>CCCCCCCCCC<unk>CCC<unk>CCCCCC<unk>COC<unk>OC<unk>CS<unk><unk>O<unk><unk><unk>O<unk>O<unk>C<unk>O<unk>C<unk>O<unk>C<unk>O<unk>CCCCCCCCCCCCCCCCCCCCCCCCCCCCC\n",
      "\n",
      "True SMILES: O<unk>C<unk>OCC<unk>OC<unk><unk>O<unk>CCCCCCCCCC<unk>CCC<unk>CCCCCC<unk>COC<unk>OC<unk>CS<unk><unk>O<unk><unk><unk>O<unk>O<unk>C<unk>O<unk>C<unk>O<unk>C<unk>O<unk>CCCCCCCCCCCCCCCCCCCCCCCC\n",
      "Pred SMILES: O<unk>C<unk>OCC<unk>OC<unk><unk>O<unk>CCCCCCCCCC<unk>CCC<unk>CCCCCC<unk>COC<unk>OC<unk>CS<unk><unk>O<unk><unk><unk>O<unk>O<unk>C<unk>O<unk>C<unk>O<unk>C<unk>O<unk>CCCCCCCCCCCCCCCCCCCCCCCCCCCCC\n",
      "\n",
      "True SMILES: O<unk>C<unk>OCC<unk>OC<unk><unk>O<unk>CCCCCCCCCCCC<unk>CCCCCCCCCCC<unk>COC<unk>OC<unk>CS<unk><unk>O<unk><unk><unk>O<unk>O<unk>C<unk>O<unk>C<unk>O<unk>C<unk>O<unk>CCCCCCCCCC<unk>CCCCCCCCC\n",
      "Pred SMILES: O<unk>C<unk>OCC<unk>OC<unk><unk>O<unk>CCCCCCCCCCCC<unk>CCCCCCCCCCC<unk>COC<unk>OC<unk>CS<unk><unk>O<unk><unk><unk>O<unk>O<unk>C<unk>O<unk>C<unk>O<unk>C<unk>O<unk>CCCCCCCCCC<unk>CCCCCCCCCCCCC\n",
      "\n",
      "True SMILES: O<unk>C<unk>OCC<unk>OC<unk><unk>O<unk>CCCCCCCCCC<unk>CCCCCCCCC<unk>COC<unk>OC<unk>CS<unk><unk>O<unk><unk><unk>O<unk>O<unk>C<unk>O<unk>C<unk>O<unk>C<unk>O<unk>CCCCCCCCCCCCCCCCCCCCCCC\n",
      "Pred SMILES: O<unk>C<unk>OCC<unk>OC<unk><unk>O<unk>CCCCCCCCCC<unk>CCCCCCCCC<unk>COC<unk>OC<unk>CS<unk><unk>O<unk><unk><unk>O<unk>O<unk>C<unk>O<unk>C<unk>O<unk>C<unk>O<unk>CCCCCCCCCCCCCCCCCCCCCCCCCCCC\n",
      "\n",
      "True SMILES: O<unk>C<unk>OCC<unk>OC<unk><unk>O<unk>CCCCCCCCCC<unk>CCCCCCCCC<unk>COC<unk>OC<unk>CS<unk><unk>O<unk><unk><unk>O<unk>O<unk>C<unk>O<unk>C<unk>O<unk>C<unk>O<unk>CCCCCCCCCCCCCCCCCCCCCC\n",
      "Pred SMILES: O<unk>C<unk>OCC<unk>OC<unk><unk>O<unk>CCCCCCCCCC<unk>CCCCCCCCC<unk>COC<unk>OC<unk>CS<unk><unk>O<unk><unk><unk>O<unk>O<unk>C<unk>O<unk>C<unk>O<unk>C<unk>O<unk>CCCCCCCCCCCCCCCCCCCCCCCCCCCC\n",
      "\n",
      "True SMILES: O<unk>C<unk>OCC<unk>OC<unk><unk>O<unk>CCC<unk>CCC<unk>CCC<unk>CCC<unk>CCC<unk>CCC<unk>CCC<unk>COC<unk>OC<unk>CS<unk><unk>O<unk><unk><unk>O<unk>O<unk>C<unk>O<unk>C<unk>O<unk>C<unk>O<unk>CCCCCCCCCC<unk>CCCCCCCCC\n",
      "Pred SMILES: O<unk>C<unk>OCC<unk>OC<unk><unk>O<unk>CCC<unk>CCC<unk>CCC<unk>CCC<unk>CCC<unk>CCC<unk>CCC<unk>COC<unk>OC<unk>CS<unk><unk>O<unk><unk><unk>O<unk>O<unk>C<unk>O<unk>C<unk>O<unk>C<unk>O<unk>CCCCCCCCCC<unk>CCCCCCCCCC\n",
      "\n",
      "True SMILES: O<unk>C<unk>OCC<unk>OC<unk><unk>O<unk>CCCCCC<unk>CCC<unk>CCC<unk>CCC<unk>CCC<unk>CCC<unk>COC<unk>OC<unk>CS<unk><unk>O<unk><unk><unk>O<unk>O<unk>C<unk>O<unk>C<unk>O<unk>C<unk>O<unk>CCCCCCCCCC<unk>CCCCCCCCC\n",
      "Pred SMILES: O<unk>C<unk>OCC<unk>OC<unk><unk>O<unk>CCCCCC<unk>CCC<unk>CCC<unk>CCC<unk>CCC<unk>CCC<unk>COC<unk>OC<unk>CS<unk><unk>O<unk><unk><unk>O<unk>O<unk>C<unk>O<unk>C<unk>O<unk>C<unk>O<unk>CCCCCCCCCC<unk>CCCCCCCCCCC\n",
      "\n",
      "True SMILES: O<unk>C<unk>OCC<unk>OC<unk><unk>O<unk>CCCCCCCCC<unk>CCC<unk>CCC<unk>CCCCCC<unk>COC<unk>OC<unk>CS<unk><unk>O<unk><unk><unk>O<unk>O<unk>C<unk>O<unk>C<unk>O<unk>C<unk>O<unk>CCCCCCCCCCCCCCCCCCC\n",
      "Pred SMILES: O<unk>C<unk>OCC<unk>OC<unk><unk>O<unk>CCCCCCCCC<unk>CCC<unk>CCC<unk>CCCCCC<unk>COC<unk>OC<unk>CS<unk><unk>O<unk><unk><unk>O<unk>O<unk>C<unk>O<unk>C<unk>O<unk>C<unk>O<unk>CCCCCCCCCCCCCCCCCCCCCCCCCCCCCCCCC\n",
      "\n",
      "True SMILES: O<unk>C<unk>OCC<unk>OC<unk><unk>O<unk>CCCCCCCCCCCC<unk>CCC<unk>CCCCCC<unk>COC<unk>OC<unk>CS<unk><unk>O<unk><unk><unk>O<unk>O<unk>C<unk>O<unk>C<unk>O<unk>C<unk>O<unk>CCCCCCCCCCCCCCCCCCC\n",
      "Pred SMILES: O<unk>C<unk>OCC<unk>OC<unk><unk>O<unk>CCCCCCCCCCCC<unk>CCC<unk>CCCCCC<unk>COC<unk>OC<unk>CS<unk><unk>O<unk><unk><unk>O<unk>O<unk>C<unk>O<unk>C<unk>O<unk>C<unk>O<unk>CCCCCCCCCCCCCCCCCCCCCCCCCCCCCCCCCC\n",
      "\n",
      "True SMILES: O<unk>C<unk>OCC<unk>OC<unk><unk>O<unk>CCCCCCCCCCCC<unk>CCCCCCCCC<unk>COC<unk>OC<unk>CS<unk><unk>O<unk><unk><unk>O<unk>O<unk>C<unk>O<unk>C<unk>O<unk>C<unk>O<unk>CCCCCCCCCCCCCCCCCCC\n",
      "Pred SMILES: O<unk>C<unk>OCC<unk>OC<unk><unk>O<unk>CCCCCCCCCCCC<unk>CCCCCCCCC<unk>COC<unk>OC<unk>CS<unk><unk>O<unk><unk><unk>O<unk>O<unk>C<unk>O<unk>C<unk>O<unk>C<unk>O<unk>CCCCCCCCCCCCCCCCCCCCCCCCCCCCCCCCCCC\n",
      "\n",
      "True SMILES: O<unk>C<unk>OCC<unk>OC<unk><unk>O<unk>CCCCCCCCCCCCCCCCCCCCC<unk>COC<unk>OC<unk>CS<unk><unk>O<unk><unk><unk>O<unk>O<unk>C<unk>O<unk>C<unk>O<unk>C<unk>O<unk>CCCCCCCCCCCCCCCCCCC\n",
      "Pred SMILES: O<unk>C<unk>OCC<unk>OC<unk><unk>O<unk>CCCCCCCCCCCCCCCCCCCCC<unk>COC<unk>OC<unk>CS<unk><unk>O<unk><unk><unk>O<unk>O<unk>C<unk>O<unk>C<unk>O<unk>C<unk>O<unk>CCCCCCCCCCCCCCCCCCCCCCCCCCCCCCCCCCCC\n",
      "\n",
      "True SMILES: O<unk>C<unk>OCC<unk>OC<unk><unk>O<unk>CCCCCCCCCC<unk>CCC<unk>CCCCCCC<unk>COC<unk>OC<unk>CS<unk><unk>O<unk><unk><unk>O<unk>O<unk>C<unk>O<unk>C<unk>O<unk>C<unk>O<unk>CCCCCCCCCCCCCCCCCCC\n",
      "Pred SMILES: O<unk>C<unk>OCC<unk>OC<unk><unk>O<unk>CCCCCCCCCC<unk>CCC<unk>CCCCCCC<unk>COC<unk>OC<unk>CS<unk><unk>O<unk><unk><unk>O<unk>O<unk>C<unk>O<unk>C<unk>O<unk>C<unk>O<unk>CCCCCCCCCCCCCCCCCCCCCCCCCCCCCCCCCCC\n",
      "\n",
      "True SMILES: O<unk>C<unk>OCC<unk>OC<unk><unk>O<unk>CCCCCCCC<unk>CCC<unk>CCCCCCC<unk>COC<unk>OC<unk>CS<unk><unk>O<unk><unk><unk>O<unk>O<unk>C<unk>O<unk>C<unk>O<unk>C<unk>O<unk>CCCCCCCCCC<unk>CCCCCCCCCC\n",
      "Pred SMILES: O<unk>C<unk>OCC<unk>OC<unk><unk>O<unk>CCCCCCCC<unk>CCC<unk>CCCCCCC<unk>COC<unk>OC<unk>CS<unk><unk>O<unk><unk><unk>O<unk>O<unk>C<unk>O<unk>C<unk>O<unk>C<unk>O<unk>CCCCCCCCCC<unk>CCCCCCCCCCCCCCCCC\n",
      "\n",
      "True SMILES: O<unk>C<unk>OCC<unk>OC<unk><unk>O<unk>CCCCCCCC<unk>CCC<unk>CCCCCCC<unk>COC<unk>OC<unk>CS<unk><unk>O<unk><unk><unk>O<unk>O<unk>C<unk>O<unk>C<unk>O<unk>C<unk>O<unk>CCCCCCCCCCCCCCCCCCCC\n",
      "Pred SMILES: O<unk>C<unk>OCC<unk>OC<unk><unk>O<unk>CCCCCCCC<unk>CCC<unk>CCCCCCC<unk>COC<unk>OC<unk>CS<unk><unk>O<unk><unk><unk>O<unk>O<unk>C<unk>O<unk>C<unk>O<unk>C<unk>O<unk>CCCCCCCCCCCCCCCCCCCCCCCCCCCC\n",
      "\n",
      "True SMILES: O<unk>C<unk>OCC<unk>OC<unk><unk>O<unk>CCCC<unk>CCC<unk>CCC<unk>CCC<unk>CCC<unk>CCC<unk>COC<unk>OC<unk>CS<unk><unk>O<unk><unk><unk>O<unk>O<unk>C<unk>O<unk>C<unk>O<unk>C<unk>O<unk>CCCCCCCC<unk>CCC<unk>CCCCCCC\n",
      "Pred SMILES: O<unk>C<unk>OCC<unk>OC<unk><unk>O<unk>CCCC<unk>CCC<unk>CCC<unk>CCC<unk>CCC<unk>CCC<unk>COC<unk>OC<unk>CS<unk><unk>O<unk><unk><unk>O<unk>O<unk>C<unk>O<unk>C<unk>O<unk>C<unk>O<unk>CCCCCCCC<unk>CCC<unk>CCCCCCCCCC\n",
      "\n",
      "True SMILES: O<unk>C<unk>OCC<unk>OC<unk><unk>O<unk>CCCCCCC<unk>CCC<unk>CCC<unk>CCC<unk>CCC<unk>COC<unk>OC<unk>CS<unk><unk>O<unk><unk><unk>O<unk>O<unk>C<unk>O<unk>C<unk>O<unk>C<unk>O<unk>CCCCCCCC<unk>CCC<unk>CCCCCCC\n",
      "Pred SMILES: O<unk>C<unk>OCC<unk>OC<unk><unk>O<unk>CCCCCCC<unk>CCC<unk>CCC<unk>CCC<unk>CCC<unk>COC<unk>OC<unk>CS<unk><unk>O<unk><unk><unk>O<unk>O<unk>C<unk>O<unk>C<unk>O<unk>C<unk>O<unk>CCCCCCCC<unk>CCC<unk>CCCCCCCCCCCC\n",
      "\n",
      "True SMILES: O<unk>C<unk>OCC<unk>OC<unk><unk>O<unk>CCCCCCCCCC<unk>CCC<unk>CCC<unk>CCC<unk>COC<unk>OC<unk>CS<unk><unk>O<unk><unk><unk>O<unk>O<unk>C<unk>O<unk>C<unk>O<unk>C<unk>O<unk>CCCCCCCC<unk>CCC<unk>CCCCCCC\n",
      "Pred SMILES: O<unk>C<unk>OCC<unk>OC<unk><unk>O<unk>CCCCCCCCCC<unk>CCC<unk>CCC<unk>CCC<unk>COC<unk>OC<unk>CS<unk><unk>O<unk><unk><unk>O<unk>O<unk>C<unk>O<unk>C<unk>O<unk>C<unk>O<unk>CCCCCCCC<unk>CCC<unk>CCCCCCCCCCCCC\n",
      "\n",
      "True SMILES: O<unk>C<unk>OCC<unk>OC<unk><unk>O<unk>CCCCCCCCCC<unk>CCC<unk>CCC<unk>CCC<unk>COC<unk>OC<unk>CS<unk><unk>O<unk><unk><unk>O<unk>O<unk>C<unk>O<unk>C<unk>O<unk>C<unk>O<unk>CCCCCCCC<unk>CCCCCCCCCC\n",
      "Pred SMILES: O<unk>C<unk>OCC<unk>OC<unk><unk>O<unk>CCCCCCCCCC<unk>CCC<unk>CCC<unk>CCC<unk>COC<unk>OC<unk>CS<unk><unk>O<unk><unk><unk>O<unk>O<unk>C<unk>O<unk>C<unk>O<unk>C<unk>O<unk>CCCCCCCC<unk>CCCCCCCCCCCCCCCC\n",
      "\n",
      "True SMILES: O<unk>C<unk>OCC<unk>OC<unk><unk>O<unk>CCCCCCCCCC<unk>CCC<unk>CCCCCC<unk>COC<unk>OC<unk>CS<unk><unk>O<unk><unk><unk>O<unk>O<unk>C<unk>O<unk>C<unk>O<unk>C<unk>O<unk>CCCCCCCC<unk>CCCCCCCCCC\n",
      "Pred SMILES: O<unk>C<unk>OCC<unk>OC<unk><unk>O<unk>CCCCCCCCCC<unk>CCC<unk>CCCCCC<unk>COC<unk>OC<unk>CS<unk><unk>O<unk><unk><unk>O<unk>O<unk>C<unk>O<unk>C<unk>O<unk>C<unk>O<unk>CCCCCCCC<unk>CCCCCCCCCCCCCCCCC\n",
      "\n",
      "True SMILES: O<unk>C<unk>OCC<unk>OC<unk><unk>O<unk>CCCCCCCCCC<unk>CCCCCCCCC<unk>COC<unk>OC<unk>CS<unk><unk>O<unk><unk><unk>O<unk>O<unk>C<unk>O<unk>C<unk>O<unk>C<unk>O<unk>CCCCCCCC<unk>CCCCCCCCCC\n",
      "Pred SMILES: O<unk>C<unk>OCC<unk>OC<unk><unk>O<unk>CCCCCCCCCC<unk>CCCCCCCCC<unk>COC<unk>OC<unk>CS<unk><unk>O<unk><unk><unk>O<unk>O<unk>C<unk>O<unk>C<unk>O<unk>C<unk>O<unk>CCCCCCCC<unk>CCCCCCCCCCCCCCCCCC\n",
      "\n",
      "True SMILES: CCCCCCCCCCCCCCCCCCCC<unk><unk>O<unk>OCC<unk>COC<unk>OC<unk>CS<unk>O<unk><unk><unk>O<unk><unk>O<unk>C<unk>O<unk>C<unk>O<unk>C<unk>O<unk>OC<unk><unk>O<unk>CCCCCCC<unk>C<unk>C<unk>CCCCCCCCC\n",
      "Pred SMILES: CCCCCCCCCCCCCCCCCCCC<unk><unk>O<unk>OCC<unk>COC<unk>OC<unk>CS<unk>O<unk><unk><unk>O<unk><unk>O<unk>C<unk>O<unk>C<unk>O<unk>C<unk>O<unk>OC<unk><unk>O<unk>CCCCCCC<unk>C<unk>C<unk>CCCCCCCCCCCCCCCC\n",
      "\n",
      "True SMILES: O<unk>C<unk>OCC<unk>OC<unk><unk>O<unk>CCCCCCCC<unk>CCC<unk>CCCCCCC<unk>COC<unk>OC<unk>CS<unk><unk>O<unk><unk><unk>O<unk>O<unk>C<unk>O<unk>C<unk>O<unk>C<unk>O<unk>CCCCCCCC<unk>CCCCCCCCCC\n",
      "Pred SMILES: O<unk>C<unk>OCC<unk>OC<unk><unk>O<unk>CCCCCCCC<unk>CCC<unk>CCCCCCC<unk>COC<unk>OC<unk>CS<unk><unk>O<unk><unk><unk>O<unk>O<unk>C<unk>O<unk>C<unk>O<unk>C<unk>O<unk>CCCCCCCC<unk>CCCCCCCCCCCCCCCCCC\n",
      "\n",
      "True SMILES: O<unk>C<unk>OCC<unk>OC<unk><unk>O<unk>CCCCCCCCCCCCCCCCCCC<unk>COC<unk>OC<unk>CS<unk><unk>O<unk><unk><unk>O<unk>O<unk>C<unk>O<unk>C<unk>O<unk>C<unk>O<unk>CCCCCCCCCCCCCCCCCC\n",
      "Pred SMILES: O<unk>C<unk>OCC<unk>OC<unk><unk>O<unk>CCCCCCCCCCCCCCCCCCC<unk>COC<unk>OC<unk>CS<unk><unk>O<unk><unk><unk>O<unk>O<unk>C<unk>O<unk>C<unk>O<unk>C<unk>O<unk>CCCCCCCCCCCCCCCCCCCCCCCCCCCCCCCC\n",
      "\n",
      "True SMILES: O<unk>C<unk>OCC<unk>OC<unk><unk>O<unk>CCCCCCCC<unk>CCC<unk>CCCCCCC<unk>COC<unk>OC<unk>CS<unk><unk>O<unk><unk><unk>O<unk>O<unk>C<unk>O<unk>C<unk>O<unk>C<unk>O<unk>CCCCCCCCCCCCCCCCCC\n",
      "Pred SMILES: O<unk>C<unk>OCC<unk>OC<unk><unk>O<unk>CCCCCCCC<unk>CCC<unk>CCCCCCC<unk>COC<unk>OC<unk>CS<unk><unk>O<unk><unk><unk>O<unk>O<unk>C<unk>O<unk>C<unk>O<unk>C<unk>O<unk>CCCCCCCCCCCCCCCCCCCCCCCCCCCCCCC\n",
      "\n",
      "True SMILES: O<unk>C<unk>OCC<unk>OC<unk><unk>O<unk>CCCCCCCC<unk>CCCCCCCCCC<unk>COC<unk>OC<unk>CS<unk><unk>O<unk><unk><unk>O<unk>O<unk>C<unk>O<unk>C<unk>O<unk>C<unk>O<unk>CCCCCCCCCCCCCCCCCC\n",
      "Pred SMILES: O<unk>C<unk>OCC<unk>OC<unk><unk>O<unk>CCCCCCCC<unk>CCCCCCCCCC<unk>COC<unk>OC<unk>CS<unk><unk>O<unk><unk><unk>O<unk>O<unk>C<unk>O<unk>C<unk>O<unk>C<unk>O<unk>CCCCCCCCCCCCCCCCCCCCCCCCCCCCCCCC\n",
      "\n",
      "True SMILES: O<unk>C<unk>OCC<unk>OC<unk><unk>O<unk>CCCCCCCCCCCCCCCCCC<unk>COC<unk>OC<unk>CS<unk><unk>O<unk><unk><unk>O<unk>O<unk>C<unk>O<unk>C<unk>O<unk>C<unk>O<unk>CCCCCCCCCCCCCCCCCC\n",
      "Pred SMILES: O<unk>C<unk>OCC<unk>OC<unk><unk>O<unk>CCCCCCCCCCCCCCCCCC<unk>COC<unk>OC<unk>CS<unk><unk>O<unk><unk><unk>O<unk>O<unk>C<unk>O<unk>C<unk>O<unk>C<unk>O<unk>CCCCCCCCCCCCCCCCCCCCCCCCCCCCCCCCC\n",
      "\n",
      "True SMILES: O<unk>C<unk>OC<unk>COC<unk><unk>O<unk>CCCCCCCCCCCCCCCCCCCCCCCCCC<unk>COC<unk>OC<unk>CS<unk><unk>O<unk><unk><unk>O<unk>O<unk>C<unk>O<unk>C<unk>O<unk>C<unk>O<unk>CC<unk>CCC<unk>CCC<unk>CCC<unk>CCC<unk>CCC\n",
      "Pred SMILES: O<unk>C<unk>OC<unk>COC<unk><unk>O<unk>CCCCCCCCCCCCCCCCCCCCCCCCCC<unk>COC<unk>OC<unk>CS<unk><unk>O<unk><unk><unk>O<unk>O<unk>C<unk>O<unk>C<unk>O<unk>C<unk>O<unk>CC<unk>CCC<unk>CCC<unk>CCC<unk>CCC<unk>CCCCCC\n",
      "\n",
      "True SMILES: O<unk>C<unk>OC<unk>COC<unk><unk>O<unk>CCCCCCCC<unk>CCCCCCCCCC<unk>COC<unk>OC<unk>CS<unk><unk>O<unk><unk><unk>O<unk>O<unk>C<unk>O<unk>C<unk>O<unk>C<unk>O<unk>CC<unk>CCC<unk>CCC<unk>CCC<unk>CCC<unk>CCC\n",
      "Pred SMILES: O<unk>C<unk>OC<unk>COC<unk><unk>O<unk>CCCCCCCC<unk>CCCCCCCCCC<unk>COC<unk>OC<unk>CS<unk><unk>O<unk><unk><unk>O<unk>O<unk>C<unk>O<unk>C<unk>O<unk>C<unk>O<unk>CC<unk>CCC<unk>CCC<unk>CCC<unk>CCC<unk>CCCCCCCCCCCC\n",
      "\n",
      "True SMILES: O<unk>C<unk>OC<unk>COC<unk><unk>O<unk>CCCCCCCCCCCCCCCCCC<unk>COC<unk>OC<unk>CS<unk><unk>O<unk><unk><unk>O<unk>O<unk>C<unk>O<unk>C<unk>O<unk>C<unk>O<unk>CC<unk>CCC<unk>CCC<unk>CCC<unk>CCC<unk>CCC\n",
      "Pred SMILES: O<unk>C<unk>OC<unk>COC<unk><unk>O<unk>CCCCCCCCCCCCCCCCCC<unk>COC<unk>OC<unk>CS<unk><unk>O<unk><unk><unk>O<unk>O<unk>C<unk>O<unk>C<unk>O<unk>C<unk>O<unk>CC<unk>CCC<unk>CCC<unk>CCC<unk>CCC<unk>CCCCCCCCCCCCC\n",
      "\n",
      "True SMILES: O<unk>C<unk>OCC<unk>OC<unk><unk>O<unk>CC<unk>CCC<unk>CCC<unk>CCC<unk>CCC<unk>CCC<unk>COC<unk>OC<unk>CS<unk><unk>O<unk><unk><unk>O<unk>O<unk>C<unk>O<unk>C<unk>O<unk>C<unk>O<unk>CC<unk>CCC<unk>CCC<unk>CCC<unk>CCC<unk>CCC\n",
      "Pred SMILES: O<unk>C<unk>OCC<unk>OC<unk><unk>O<unk>CC<unk>CCC<unk>CCC<unk>CCC<unk>CCC<unk>CCC<unk>COC<unk>OC<unk>CS<unk><unk>O<unk><unk><unk>O<unk>O<unk>C<unk>O<unk>C<unk>O<unk>C<unk>O<unk>CC<unk>CCC<unk>CCC<unk>CCC<unk>CCC<unk>CCCCCCC\n",
      "\n",
      "True SMILES: O<unk>C<unk>OCC<unk>OC<unk><unk>O<unk>CCCCC<unk>CCC<unk>CCC<unk>CCC<unk>CCC<unk>COC<unk>OC<unk>CS<unk><unk>O<unk><unk><unk>O<unk>O<unk>C<unk>O<unk>C<unk>O<unk>C<unk>O<unk>CCCCCCCCCCCCCCCCCCCCCCCCCC\n",
      "Pred SMILES: O<unk>C<unk>OCC<unk>OC<unk><unk>O<unk>CCCCC<unk>CCC<unk>CCC<unk>CCC<unk>CCC<unk>COC<unk>OC<unk>CS<unk><unk>O<unk><unk><unk>O<unk>O<unk>C<unk>O<unk>C<unk>O<unk>C<unk>O<unk>CCCCCCCCCCCCCCCCCCCCCCCCCCCCC\n",
      "\n",
      "True SMILES: O<unk>C<unk>OCC<unk>OC<unk><unk>O<unk>CCCCCCCCCCCCC<unk>CCC<unk>CCC<unk>CCC<unk>CCC<unk>COC<unk>OC<unk>CS<unk><unk>O<unk><unk><unk>O<unk>O<unk>C<unk>O<unk>C<unk>O<unk>C<unk>O<unk>CCCCC<unk>CCC<unk>CCC<unk>CCC<unk>CCC\n",
      "Pred SMILES: O<unk>C<unk>OCC<unk>OC<unk><unk>O<unk>CCCCCCCCCCCCC<unk>CCC<unk>CCC<unk>CCC<unk>CCC<unk>COC<unk>OC<unk>CS<unk><unk>O<unk><unk><unk>O<unk>O<unk>C<unk>O<unk>C<unk>O<unk>C<unk>O<unk>CCCCC<unk>CCC<unk>CCC<unk>CCC<unk>CCCC\n",
      "\n",
      "True SMILES: O<unk>C<unk>OCC<unk>OC<unk><unk>O<unk>CCCCC<unk>CCC<unk>CCC<unk>CCC<unk>CCC<unk>COC<unk>OC<unk>CS<unk><unk>O<unk><unk><unk>O<unk>O<unk>C<unk>O<unk>C<unk>O<unk>C<unk>O<unk>CCCCCCCCCCCCCCCCCC\n",
      "Pred SMILES: O<unk>C<unk>OCC<unk>OC<unk><unk>O<unk>CCCCC<unk>CCC<unk>CCC<unk>CCC<unk>CCC<unk>COC<unk>OC<unk>CS<unk><unk>O<unk><unk><unk>O<unk>O<unk>C<unk>O<unk>C<unk>O<unk>C<unk>O<unk>CCCCCCCCCCCCCCCCCCCCCCCCCCC<unk>\n",
      "\n",
      "True SMILES: O<unk>C<unk>OC<unk>COC<unk><unk>O<unk>CCCCC<unk>CCC<unk>CCC<unk>CCC<unk>CCC<unk>COC<unk>OC<unk>CS<unk><unk>O<unk><unk><unk>O<unk>O<unk>C<unk>O<unk>C<unk>O<unk>C<unk>O<unk>CC<unk>CCC<unk>CCC<unk>CCC<unk>CCC<unk>CCC\n",
      "Pred SMILES: O<unk>C<unk>OC<unk>COC<unk><unk>O<unk>CCCCC<unk>CCC<unk>CCC<unk>CCC<unk>CCC<unk>COC<unk>OC<unk>CS<unk><unk>O<unk><unk><unk>O<unk>O<unk>C<unk>O<unk>C<unk>O<unk>C<unk>O<unk>CC<unk>CCC<unk>CCC<unk>CCC<unk>CCC<unk>CCCCCCC<unk>\n",
      "\n",
      "True SMILES: O<unk>C<unk>OCC<unk>OC<unk><unk>O<unk>CCCCC<unk>CCC<unk>CCC<unk>CCC<unk>CCC<unk>COC<unk>OC<unk>CS<unk><unk>O<unk><unk><unk>O<unk>O<unk>C<unk>O<unk>C<unk>O<unk>C<unk>O<unk>CCCCC<unk>CCC<unk>CCC<unk>CCC<unk>CCC\n",
      "Pred SMILES: O<unk>C<unk>OCC<unk>OC<unk><unk>O<unk>CCCCC<unk>CCC<unk>CCC<unk>CCC<unk>CCC<unk>COC<unk>OC<unk>CS<unk><unk>O<unk><unk><unk>O<unk>O<unk>C<unk>O<unk>C<unk>O<unk>C<unk>O<unk>CCCCC<unk>CCC<unk>CCC<unk>CCC<unk>CCCCCCCCC<unk>\n",
      "\n",
      "True SMILES: O<unk>C<unk>OCC<unk>OC<unk><unk>O<unk>CCCCCCCC<unk>CCC<unk>CCC<unk>CCC<unk>COC<unk>OC<unk>CS<unk><unk>O<unk><unk><unk>O<unk>O<unk>C<unk>O<unk>C<unk>O<unk>C<unk>O<unk>CCCCCCCCCCCCCCCCCCCCCCCCCC\n",
      "Pred SMILES: O<unk>C<unk>OCC<unk>OC<unk><unk>O<unk>CCCCCCCC<unk>CCC<unk>CCC<unk>CCC<unk>COC<unk>OC<unk>CS<unk><unk>O<unk><unk><unk>O<unk>O<unk>C<unk>O<unk>C<unk>O<unk>C<unk>O<unk>CCCCCCCCCCCCCCCCCCCCCCCCCCCCC\n",
      "\n",
      "True SMILES: O<unk>C<unk>OCC<unk>OC<unk><unk>O<unk>CCCCCCCCCCCCC<unk>CCC<unk>CCC<unk>CCC<unk>CCC<unk>COC<unk>OC<unk>CS<unk><unk>O<unk><unk><unk>O<unk>O<unk>C<unk>O<unk>C<unk>O<unk>C<unk>O<unk>CCCCCCCC<unk>CCC<unk>CCC<unk>CCC\n",
      "Pred SMILES: O<unk>C<unk>OCC<unk>OC<unk><unk>O<unk>CCCCCCCCCCCCC<unk>CCC<unk>CCC<unk>CCC<unk>CCC<unk>COC<unk>OC<unk>CS<unk><unk>O<unk><unk><unk>O<unk>O<unk>C<unk>O<unk>C<unk>O<unk>C<unk>O<unk>CCCCCCCC<unk>CCC<unk>CCC<unk>CCCC\n",
      "\n",
      "True SMILES: O<unk>C<unk>OCC<unk>OC<unk><unk>O<unk>CCCCCCCC<unk>CCC<unk>CCC<unk>CCC<unk>COC<unk>OC<unk>CS<unk><unk>O<unk><unk><unk>O<unk>O<unk>C<unk>O<unk>C<unk>O<unk>C<unk>O<unk>CCCCCCCCCCCCCCCCCC\n",
      "Pred SMILES: O<unk>C<unk>OCC<unk>OC<unk><unk>O<unk>CCCCCCCC<unk>CCC<unk>CCC<unk>CCC<unk>COC<unk>OC<unk>CS<unk><unk>O<unk><unk><unk>O<unk>O<unk>C<unk>O<unk>C<unk>O<unk>C<unk>O<unk>CCCCCCCCCCCCCCCCCCCCCCCCCCCC\n",
      "\n",
      "True SMILES: O<unk>C<unk>OC<unk>COC<unk><unk>O<unk>CCCCCCCC<unk>CCC<unk>CCC<unk>CCC<unk>COC<unk>OC<unk>CS<unk><unk>O<unk><unk><unk>O<unk>O<unk>C<unk>O<unk>C<unk>O<unk>C<unk>O<unk>CC<unk>CCC<unk>CCC<unk>CCC<unk>CCC<unk>CCC\n",
      "Pred SMILES: O<unk>C<unk>OC<unk>COC<unk><unk>O<unk>CCCCCCCC<unk>CCC<unk>CCC<unk>CCC<unk>COC<unk>OC<unk>CS<unk><unk>O<unk><unk><unk>O<unk>O<unk>C<unk>O<unk>C<unk>O<unk>C<unk>O<unk>CC<unk>CCC<unk>CCC<unk>CCC<unk>CCC<unk>CCCCCCCCC\n",
      "\n",
      "True SMILES: O<unk>C<unk>OCC<unk>OC<unk><unk>O<unk>CCCCC<unk>CCC<unk>CCC<unk>CCC<unk>CCC<unk>COC<unk>OC<unk>CS<unk><unk>O<unk><unk><unk>O<unk>O<unk>C<unk>O<unk>C<unk>O<unk>C<unk>O<unk>CCCCCCCC<unk>CCC<unk>CCC<unk>CCC\n",
      "Pred SMILES: O<unk>C<unk>OCC<unk>OC<unk><unk>O<unk>CCCCC<unk>CCC<unk>CCC<unk>CCC<unk>CCC<unk>COC<unk>OC<unk>CS<unk><unk>O<unk><unk><unk>O<unk>O<unk>C<unk>O<unk>C<unk>O<unk>C<unk>O<unk>CCCCCCCC<unk>CCC<unk>CCC<unk>CCCCCCCCCO\n",
      "\n",
      "True SMILES: O<unk>C<unk>OCC<unk>OC<unk><unk>O<unk>CCCCCCCC<unk>CCC<unk>CCC<unk>CCC<unk>COC<unk>OC<unk>CS<unk><unk>O<unk><unk><unk>O<unk>O<unk>C<unk>O<unk>C<unk>O<unk>C<unk>O<unk>CCCCCCCC<unk>CCC<unk>CCC<unk>CCC\n",
      "Pred SMILES: O<unk>C<unk>OCC<unk>OC<unk><unk>O<unk>CCCCCCCC<unk>CCC<unk>CCC<unk>CCC<unk>COC<unk>OC<unk>CS<unk><unk>O<unk><unk><unk>O<unk>O<unk>C<unk>O<unk>C<unk>O<unk>C<unk>O<unk>CCCCCCCC<unk>CCC<unk>CCC<unk>CCCCCCCCCCC\n",
      "\n",
      "True SMILES: O<unk>C<unk>OCC<unk>OC<unk><unk>O<unk>CCCCCCCC<unk>CCC<unk>CCCCCC<unk>COC<unk>OC<unk>CS<unk><unk>O<unk><unk><unk>O<unk>O<unk>C<unk>O<unk>C<unk>O<unk>C<unk>O<unk>CCCCCCCCCCCCCCCCCCCCCCCCCC\n",
      "Pred SMILES: O<unk>C<unk>OCC<unk>OC<unk><unk>O<unk>CCCCCCCC<unk>CCC<unk>CCCCCC<unk>COC<unk>OC<unk>CS<unk><unk>O<unk><unk><unk>O<unk>O<unk>C<unk>O<unk>C<unk>O<unk>C<unk>O<unk>CCCCCCCCCCCCCCCCCCCCCCCCCCCCC\n",
      "\n",
      "True SMILES: O<unk>C<unk>OCC<unk>OC<unk><unk>O<unk>CCCCCCCC<unk>CCC<unk>CCCCCC<unk>COC<unk>OC<unk>CS<unk><unk>O<unk><unk><unk>O<unk>O<unk>C<unk>O<unk>C<unk>O<unk>C<unk>O<unk>CCCCCCCC<unk>CCCCCCCCCC\n",
      "Pred SMILES: O<unk>C<unk>OCC<unk>OC<unk><unk>O<unk>CCCCCCCC<unk>CCC<unk>CCCCCC<unk>COC<unk>OC<unk>CS<unk><unk>O<unk><unk><unk>O<unk>O<unk>C<unk>O<unk>C<unk>O<unk>C<unk>O<unk>CCCCCCCC<unk>CCCCCCCCCCCCCCCCCCCCCCCCC\n",
      "\n",
      "True SMILES: O<unk>C<unk>OCC<unk>OC<unk><unk>O<unk>CCCCCCCC<unk>CCC<unk>CCCCCC<unk>COC<unk>OC<unk>CS<unk><unk>O<unk><unk><unk>O<unk>O<unk>C<unk>O<unk>C<unk>O<unk>C<unk>O<unk>CCCCCCCCCCCCCCCCCC\n",
      "Pred SMILES: O<unk>C<unk>OCC<unk>OC<unk><unk>O<unk>CCCCCCCC<unk>CCC<unk>CCCCCC<unk>COC<unk>OC<unk>CS<unk><unk>O<unk><unk><unk>O<unk>O<unk>C<unk>O<unk>C<unk>O<unk>C<unk>O<unk>CCCCCCCCCCCCCCCCCCCCCCCCCCCCCCCCCC\n",
      "\n",
      "True SMILES: O<unk>C<unk>OC<unk>COC<unk><unk>O<unk>CCCCCCCC<unk>CCC<unk>CCCCCC<unk>COC<unk>OC<unk>CS<unk><unk>O<unk><unk><unk>O<unk>O<unk>C<unk>O<unk>C<unk>O<unk>C<unk>O<unk>CC<unk>CCC<unk>CCC<unk>CCC<unk>CCC<unk>CCC\n",
      "Pred SMILES: O<unk>C<unk>OC<unk>COC<unk><unk>O<unk>CCCCCCCC<unk>CCC<unk>CCCCCC<unk>COC<unk>OC<unk>CS<unk><unk>O<unk><unk><unk>O<unk>O<unk>C<unk>O<unk>C<unk>O<unk>C<unk>O<unk>CC<unk>CCC<unk>CCC<unk>CCC<unk>CCC<unk>CCCCCCCCCCCCCCC\n",
      "\n",
      "True SMILES: O<unk>C<unk>OCC<unk>OC<unk><unk>O<unk>CCCCC<unk>CCC<unk>CCC<unk>CCC<unk>CCC<unk>COC<unk>OC<unk>CS<unk><unk>O<unk><unk><unk>O<unk>O<unk>C<unk>O<unk>C<unk>O<unk>C<unk>O<unk>CCCCCCCC<unk>CCC<unk>CCCCCC\n",
      "Pred SMILES: O<unk>C<unk>OCC<unk>OC<unk><unk>O<unk>CCCCC<unk>CCC<unk>CCC<unk>CCC<unk>CCC<unk>COC<unk>OC<unk>CS<unk><unk>O<unk><unk><unk>O<unk>O<unk>C<unk>O<unk>C<unk>O<unk>C<unk>O<unk>CCCCCCCC<unk>CCC<unk>CCCCCCCCCCCCCCCCCC\n",
      "\n",
      "True SMILES: O<unk>C<unk>OCC<unk>OC<unk><unk>O<unk>CCCCCCCC<unk>CCC<unk>CCC<unk>CCC<unk>COC<unk>OC<unk>CS<unk><unk>O<unk><unk><unk>O<unk>O<unk>C<unk>O<unk>C<unk>O<unk>C<unk>O<unk>CCCCCCCC<unk>CCC<unk>CCCCCC\n",
      "Pred SMILES: O<unk>C<unk>OCC<unk>OC<unk><unk>O<unk>CCCCCCCC<unk>CCC<unk>CCC<unk>CCC<unk>COC<unk>OC<unk>CS<unk><unk>O<unk><unk><unk>O<unk>O<unk>C<unk>O<unk>C<unk>O<unk>C<unk>O<unk>CCCCCCCC<unk>CCC<unk>CCCCCCCCCCCCCCCCCCCC\n",
      "\n",
      "True SMILES: O<unk>C<unk>OCC<unk>OC<unk><unk>O<unk>CCCCCCCC<unk>CCCCCCCCC<unk>COC<unk>OC<unk>CS<unk><unk>O<unk><unk><unk>O<unk>O<unk>C<unk>O<unk>C<unk>O<unk>C<unk>O<unk>CCCCCCCCCCCCCCCCCCC\n",
      "Pred SMILES: O<unk>C<unk>OCC<unk>OC<unk><unk>O<unk>CCCCCCCC<unk>CCCCCCCCC<unk>COC<unk>OC<unk>CS<unk><unk>O<unk><unk><unk>O<unk>O<unk>C<unk>O<unk>C<unk>O<unk>C<unk>O<unk>CCCCCCCCCCCCCCCCCCCCCCCCCCCC\n",
      "\n",
      "True SMILES: O<unk>C<unk>OCC<unk>OC<unk><unk>O<unk>CCCCCCCC<unk>CCC<unk>CCCCCCC<unk>COC<unk>OC<unk>CS<unk><unk>O<unk><unk><unk>O<unk>O<unk>C<unk>O<unk>C<unk>O<unk>C<unk>O<unk>CCCCCCCC<unk>CCCCCCCCC\n",
      "Pred SMILES: O<unk>C<unk>OCC<unk>OC<unk><unk>O<unk>CCCCCCCC<unk>CCC<unk>CCCCCCC<unk>COC<unk>OC<unk>CS<unk><unk>O<unk><unk><unk>O<unk>O<unk>C<unk>O<unk>C<unk>O<unk>C<unk>O<unk>CCCCCCCC<unk>CCCCCCCCCCCCCCCCC\n",
      "\n",
      "True SMILES: O<unk>C<unk>OCC<unk>OC<unk><unk>O<unk>CCCCCCCC<unk>CCCCCCCCCC<unk>COC<unk>OC<unk>CS<unk><unk>O<unk><unk><unk>O<unk>O<unk>C<unk>O<unk>C<unk>O<unk>C<unk>O<unk>CCCCCCCC<unk>CCCCCCCCC\n",
      "Pred SMILES: O<unk>C<unk>OCC<unk>OC<unk><unk>O<unk>CCCCCCCC<unk>CCCCCCCCCC<unk>COC<unk>OC<unk>CS<unk><unk>O<unk><unk><unk>O<unk>O<unk>C<unk>O<unk>C<unk>O<unk>C<unk>O<unk>CCCCCCCC<unk>CCCCCCCCCCCCCCCCCO\n",
      "\n",
      "True SMILES: O<unk>C<unk>OCC<unk>OC<unk><unk>O<unk>CCCCCCCC<unk>CCCCCCCCC<unk>COC<unk>OC<unk>CS<unk><unk>O<unk><unk><unk>O<unk>O<unk>C<unk>O<unk>C<unk>O<unk>C<unk>O<unk>CCCCCCCCCCCCCCCCCC\n",
      "Pred SMILES: O<unk>C<unk>OCC<unk>OC<unk><unk>O<unk>CCCCCCCC<unk>CCCCCCCCC<unk>COC<unk>OC<unk>CS<unk><unk>O<unk><unk><unk>O<unk>O<unk>C<unk>O<unk>C<unk>O<unk>C<unk>O<unk>CCCCCCCCCCCCCCCCCCCCCCCCCCCC\n",
      "\n",
      "True SMILES: O<unk>C<unk>OC<unk>COC<unk><unk>O<unk>CCCCCCCC<unk>CCCCCCCCC<unk>COC<unk>OC<unk>CS<unk><unk>O<unk><unk><unk>O<unk>O<unk>C<unk>O<unk>C<unk>O<unk>C<unk>O<unk>CC<unk>CCC<unk>CCC<unk>CCC<unk>CCC<unk>CCC\n",
      "Pred SMILES: O<unk>C<unk>OC<unk>COC<unk><unk>O<unk>CCCCCCCC<unk>CCCCCCCCC<unk>COC<unk>OC<unk>CS<unk><unk>O<unk><unk><unk>O<unk>O<unk>C<unk>O<unk>C<unk>O<unk>C<unk>O<unk>CC<unk>CCC<unk>CCC<unk>CCC<unk>CCC<unk>CCCCCCCCC\n",
      "\n",
      "True SMILES: O<unk>C<unk>OCC<unk>OC<unk><unk>O<unk>CCCCCCCCCC<unk>CCC<unk>CCC<unk>CCC<unk>COC<unk>OC<unk>CS<unk><unk>O<unk><unk><unk>O<unk>O<unk>C<unk>O<unk>C<unk>O<unk>C<unk>O<unk>CCCCCCCCCCCCCCCCC\n",
      "Pred SMILES: O<unk>C<unk>OCC<unk>OC<unk><unk>O<unk>CCCCCCCCCC<unk>CCC<unk>CCC<unk>CCC<unk>COC<unk>OC<unk>CS<unk><unk>O<unk><unk><unk>O<unk>O<unk>C<unk>O<unk>C<unk>O<unk>C<unk>O<unk>CCCCCCCCCCCCCCCCCCCCCCCCC\n",
      "\n",
      "True SMILES: O<unk>C<unk>OCC<unk>OC<unk><unk>O<unk>CCCCCCCCCC<unk>CCC<unk>CCCCCC<unk>COC<unk>OC<unk>CS<unk><unk>O<unk><unk><unk>O<unk>O<unk>C<unk>O<unk>C<unk>O<unk>C<unk>O<unk>CCCCCCCCCCCCCCCCC\n",
      "Pred SMILES: O<unk>C<unk>OCC<unk>OC<unk><unk>O<unk>CCCCCCCCCC<unk>CCC<unk>CCCCCC<unk>COC<unk>OC<unk>CS<unk><unk>O<unk><unk><unk>O<unk>O<unk>C<unk>O<unk>C<unk>O<unk>C<unk>O<unk>CCCCCCCCCCCCCCCCCCCCCCCCCC\n",
      "\n",
      "True SMILES: O<unk>C<unk>OCC<unk>OC<unk><unk>O<unk>CCCCCCCCCC<unk>CCCCCCCCC<unk>COC<unk>OC<unk>CS<unk><unk>O<unk><unk><unk>O<unk>O<unk>C<unk>O<unk>C<unk>O<unk>C<unk>O<unk>CCCCCCCCCCCCCCCCC\n",
      "Pred SMILES: O<unk>C<unk>OCC<unk>OC<unk><unk>O<unk>CCCCCCCCCC<unk>CCCCCCCCC<unk>COC<unk>OC<unk>CS<unk><unk>O<unk><unk><unk>O<unk>O<unk>C<unk>O<unk>C<unk>O<unk>C<unk>O<unk>CCCCCCCCCCCCCCCCCCCCCCCCCCC\n",
      "\n",
      "True SMILES: O<unk>C<unk>OCC<unk>OC<unk><unk>O<unk>CCCCCCCCCCCCCCCCCCC<unk>COC<unk>OC<unk>CS<unk><unk>O<unk><unk><unk>O<unk>O<unk>C<unk>O<unk>C<unk>O<unk>C<unk>O<unk>CCCCCCCCCCCCCCCCC\n",
      "Pred SMILES: O<unk>C<unk>OCC<unk>OC<unk><unk>O<unk>CCCCCCCCCCCCCCCCCCC<unk>COC<unk>OC<unk>CS<unk><unk>O<unk><unk><unk>O<unk>O<unk>C<unk>O<unk>C<unk>O<unk>C<unk>O<unk>CCCCCCCCCCCCCCCCCCCCCCCCCCCC\n",
      "\n",
      "True SMILES: O<unk>C<unk>OCC<unk>OC<unk><unk>O<unk>CCCCCCCC<unk>CCC<unk>CCCCCCC<unk>COC<unk>OC<unk>CS<unk><unk>O<unk><unk><unk>O<unk>O<unk>C<unk>O<unk>C<unk>O<unk>C<unk>O<unk>CCCCCCCCCCCCCCCCC\n",
      "Pred SMILES: O<unk>C<unk>OCC<unk>OC<unk><unk>O<unk>CCCCCCCC<unk>CCC<unk>CCCCCCC<unk>COC<unk>OC<unk>CS<unk><unk>O<unk><unk><unk>O<unk>O<unk>C<unk>O<unk>C<unk>O<unk>C<unk>O<unk>CCCCCCCCCCCCCCCCCCCCCCCCCCC\n",
      "\n",
      "True SMILES: O<unk>C<unk>OCC<unk>OC<unk><unk>O<unk>CCCCCCCC<unk>CCC<unk>CCCCC<unk>COC<unk>OC<unk>CS<unk><unk>O<unk><unk><unk>O<unk>O<unk>C<unk>O<unk>C<unk>O<unk>C<unk>O<unk>CCCCCCCCCC<unk>CCCCCCCCCC\n",
      "Pred SMILES: O<unk>C<unk>OCC<unk>OC<unk><unk>O<unk>CCCCCCCC<unk>CCC<unk>CCCCC<unk>COC<unk>OC<unk>CS<unk><unk>O<unk><unk><unk>O<unk>O<unk>C<unk>O<unk>C<unk>O<unk>C<unk>O<unk>CCCCCCCCCC<unk>CCCCCCCCCCCCCCCCC\n",
      "\n",
      "True SMILES: O<unk>C<unk>OCC<unk>OC<unk><unk>O<unk>CCCCCCCC<unk>CCC<unk>CCCCC<unk>COC<unk>OC<unk>CS<unk><unk>O<unk><unk><unk>O<unk>O<unk>C<unk>O<unk>C<unk>O<unk>C<unk>O<unk>CCCCCCCCCCCCCCCCCCCC\n",
      "Pred SMILES: O<unk>C<unk>OCC<unk>OC<unk><unk>O<unk>CCCCCCCC<unk>CCC<unk>CCCCC<unk>COC<unk>OC<unk>CS<unk><unk>O<unk><unk><unk>O<unk>O<unk>C<unk>O<unk>C<unk>O<unk>C<unk>O<unk>CCCCCCCCCCCCCCCCCCCCCCCCCCCC\n",
      "\n",
      "True SMILES: O<unk>C<unk>OCC<unk>OC<unk><unk>O<unk>CCCC<unk>CCC<unk>CCC<unk>CCC<unk>CCC<unk>CCC<unk>COC<unk>OC<unk>CS<unk><unk>O<unk><unk><unk>O<unk>O<unk>C<unk>O<unk>C<unk>O<unk>C<unk>O<unk>CCCCCCCC<unk>CCC<unk>CCCCC\n",
      "Pred SMILES: O<unk>C<unk>OCC<unk>OC<unk><unk>O<unk>CCCC<unk>CCC<unk>CCC<unk>CCC<unk>CCC<unk>CCC<unk>COC<unk>OC<unk>CS<unk><unk>O<unk><unk><unk>O<unk>O<unk>C<unk>O<unk>C<unk>O<unk>C<unk>O<unk>CCCCCCCC<unk>CCC<unk>CCCCCCCCC\n",
      "\n",
      "True SMILES: O<unk>C<unk>OCC<unk>OC<unk><unk>O<unk>CCCCCCC<unk>CCC<unk>CCC<unk>CCC<unk>CCC<unk>COC<unk>OC<unk>CS<unk><unk>O<unk><unk><unk>O<unk>O<unk>C<unk>O<unk>C<unk>O<unk>C<unk>O<unk>CCCCCCCC<unk>CCC<unk>CCCCC\n",
      "Pred SMILES: O<unk>C<unk>OCC<unk>OC<unk><unk>O<unk>CCCCCCC<unk>CCC<unk>CCC<unk>CCC<unk>CCC<unk>COC<unk>OC<unk>CS<unk><unk>O<unk><unk><unk>O<unk>O<unk>C<unk>O<unk>C<unk>O<unk>C<unk>O<unk>CCCCCCCC<unk>CCC<unk>CCCCCCCCCC\n",
      "\n",
      "True SMILES: O<unk>C<unk>OCC<unk>OC<unk><unk>O<unk>CCCCCCCCCC<unk>CCC<unk>CCC<unk>CCC<unk>COC<unk>OC<unk>CS<unk><unk>O<unk><unk><unk>O<unk>O<unk>C<unk>O<unk>C<unk>O<unk>C<unk>O<unk>CCCCCCCC<unk>CCC<unk>CCCCC\n",
      "Pred SMILES: O<unk>C<unk>OCC<unk>OC<unk><unk>O<unk>CCCCCCCCCC<unk>CCC<unk>CCC<unk>CCC<unk>COC<unk>OC<unk>CS<unk><unk>O<unk><unk><unk>O<unk>O<unk>C<unk>O<unk>C<unk>O<unk>C<unk>O<unk>CCCCCCCC<unk>CCC<unk>CCCCCCCCCCC\n",
      "\n",
      "True SMILES: O<unk>C<unk>OCC<unk>OC<unk><unk>O<unk>CCCCCCCCC<unk>CCC<unk>CCC<unk>CCCCCC<unk>COC<unk>OC<unk>CS<unk><unk>O<unk><unk><unk>O<unk>O<unk>C<unk>O<unk>C<unk>O<unk>C<unk>O<unk>CCCCCCCC<unk>CCCCCCCC\n",
      "Pred SMILES: O<unk>C<unk>OCC<unk>OC<unk><unk>O<unk>CCCCCCCCC<unk>CCC<unk>CCC<unk>CCCCCC<unk>COC<unk>OC<unk>CS<unk><unk>O<unk><unk><unk>O<unk>O<unk>C<unk>O<unk>C<unk>O<unk>C<unk>O<unk>CCCCCCCC<unk>CCCCCCCCCCCC\n",
      "\n",
      "True SMILES: O<unk>C<unk>OCC<unk>OC<unk><unk>O<unk>CCCCCCCCCCCC<unk>CCC<unk>CCCCCC<unk>COC<unk>OC<unk>CS<unk><unk>O<unk><unk><unk>O<unk>O<unk>C<unk>O<unk>C<unk>O<unk>C<unk>O<unk>CCCCCCCC<unk>CCCCCCCC\n",
      "Pred SMILES: O<unk>C<unk>OCC<unk>OC<unk><unk>O<unk>CCCCCCCCCCCC<unk>CCC<unk>CCCCCC<unk>COC<unk>OC<unk>CS<unk><unk>O<unk><unk><unk>O<unk>O<unk>C<unk>O<unk>C<unk>O<unk>C<unk>O<unk>CCCCCCCC<unk>CCCCCCCCCCCCC\n",
      "\n",
      "True SMILES: O<unk>C<unk>OCC<unk>OC<unk><unk>O<unk>CCCCCCCCCCCC<unk>CCCCCCCCC<unk>COC<unk>OC<unk>CS<unk><unk>O<unk><unk><unk>O<unk>O<unk>C<unk>O<unk>C<unk>O<unk>C<unk>O<unk>CCCCCCCC<unk>CCCCCCCC\n",
      "Pred SMILES: O<unk>C<unk>OCC<unk>OC<unk><unk>O<unk>CCCCCCCCCCCC<unk>CCCCCCCCC<unk>COC<unk>OC<unk>CS<unk><unk>O<unk><unk><unk>O<unk>O<unk>C<unk>O<unk>C<unk>O<unk>C<unk>O<unk>CCCCCCCC<unk>CCCCCCCCCCCCCC\n",
      "\n",
      "True SMILES: O<unk>C<unk>OCC<unk>OC<unk><unk>O<unk>CCCCCCCC<unk>CCCCCCCC<unk>COC<unk>OC<unk>CS<unk><unk>O<unk><unk><unk>O<unk>O<unk>C<unk>O<unk>C<unk>O<unk>C<unk>O<unk>CCCCCCCCCCCCCCCCCCCCC\n",
      "Pred SMILES: O<unk>C<unk>OCC<unk>OC<unk><unk>O<unk>CCCCCCCC<unk>CCCCCCCC<unk>COC<unk>OC<unk>CS<unk><unk>O<unk><unk><unk>O<unk>O<unk>C<unk>O<unk>C<unk>O<unk>C<unk>O<unk>CCCCCCCCCCCCCCCCCCCCCCCCCCCC\n",
      "\n",
      "True SMILES: O<unk>C<unk>OCC<unk>OC<unk><unk>O<unk>CCCCCCCCCC<unk>CCC<unk>CCCCCCC<unk>COC<unk>OC<unk>CS<unk><unk>O<unk><unk><unk>O<unk>O<unk>C<unk>O<unk>C<unk>O<unk>C<unk>O<unk>CCCCCCCC<unk>CCCCCCCC\n",
      "Pred SMILES: O<unk>C<unk>OCC<unk>OC<unk><unk>O<unk>CCCCCCCCCC<unk>CCC<unk>CCCCCCC<unk>COC<unk>OC<unk>CS<unk><unk>O<unk><unk><unk>O<unk>O<unk>C<unk>O<unk>C<unk>O<unk>C<unk>O<unk>CCCCCCCC<unk>CCCCCCCCCCCCCC\n",
      "\n",
      "True SMILES: O<unk>C<unk>OCC<unk>OC<unk><unk>O<unk>CCCCCCCCCCCC<unk>CCCCCCCCCCC<unk>COC<unk>OC<unk>CS<unk><unk>O<unk><unk><unk>O<unk>O<unk>C<unk>O<unk>C<unk>O<unk>C<unk>O<unk>CCCCCCCCCCCCCCCC\n",
      "Pred SMILES: O<unk>C<unk>OCC<unk>OC<unk><unk>O<unk>CCCCCCCCCCCC<unk>CCCCCCCCCCC<unk>COC<unk>OC<unk>CS<unk><unk>O<unk><unk><unk>O<unk>O<unk>C<unk>O<unk>C<unk>O<unk>C<unk>O<unk>CCCCCCCCCCCCCCCCCCCCC\n",
      "\n",
      "True SMILES: O<unk>C<unk>OCC<unk>OC<unk><unk>O<unk>CCCCCCCCCCCCCCCCCCCCCCC<unk>COC<unk>OC<unk>CS<unk><unk>O<unk><unk><unk>O<unk>O<unk>C<unk>O<unk>C<unk>O<unk>C<unk>O<unk>CCCCCCCCCCCCCCCC\n",
      "Pred SMILES: O<unk>C<unk>OCC<unk>OC<unk><unk>O<unk>CCCCCCCCCCCCCCCCCCCCCCC<unk>COC<unk>OC<unk>CS<unk><unk>O<unk><unk><unk>O<unk>O<unk>C<unk>O<unk>C<unk>O<unk>C<unk>O<unk>CCCCCCCCCCCCCCCCCCCCCC\n",
      "\n",
      "True SMILES: O<unk>C<unk>OCC<unk>OC<unk><unk>O<unk>CCCCCCCCCCCCCCCCCCCCCC<unk>COC<unk>OC<unk>CS<unk><unk>O<unk><unk><unk>O<unk>O<unk>C<unk>O<unk>C<unk>O<unk>C<unk>O<unk>CCCCCCCCCCCCCCCC\n",
      "Pred SMILES: O<unk>C<unk>OCC<unk>OC<unk><unk>O<unk>CCCCCCCCCCCCCCCCCCCCCC<unk>COC<unk>OC<unk>CS<unk><unk>O<unk><unk><unk>O<unk>O<unk>C<unk>O<unk>C<unk>O<unk>C<unk>O<unk>CCCCCCCCCCCCCCCCCCCCCCC\n",
      "\n",
      "True SMILES: O<unk>C<unk>OCC<unk>OC<unk><unk>O<unk>CCC<unk>CCC<unk>CCC<unk>CCC<unk>CCC<unk>CCC<unk>CCC<unk>COC<unk>OC<unk>CS<unk><unk>O<unk><unk><unk>O<unk>O<unk>C<unk>O<unk>C<unk>O<unk>C<unk>O<unk>CCCCCCCCCCCCCCCC\n",
      "Pred SMILES: O<unk>C<unk>OCC<unk>OC<unk><unk>O<unk>CCC<unk>CCC<unk>CCC<unk>CCC<unk>CCC<unk>CCC<unk>CCC<unk>COC<unk>OC<unk>CS<unk><unk>O<unk><unk><unk>O<unk>O<unk>C<unk>O<unk>C<unk>O<unk>C<unk>O<unk>CCCCCCCCCCCCCCCCCC\n",
      "\n",
      "True SMILES: O<unk>C<unk>OCC<unk>OC<unk><unk>O<unk>CCCCCC<unk>CCC<unk>CCC<unk>CCC<unk>CCC<unk>CCC<unk>COC<unk>OC<unk>CS<unk><unk>O<unk><unk><unk>O<unk>O<unk>C<unk>O<unk>C<unk>O<unk>C<unk>O<unk>CCCCCCCCCCCCCCCC\n",
      "Pred SMILES: O<unk>C<unk>OCC<unk>OC<unk><unk>O<unk>CCCCCC<unk>CCC<unk>CCC<unk>CCC<unk>CCC<unk>CCC<unk>COC<unk>OC<unk>CS<unk><unk>O<unk><unk><unk>O<unk>O<unk>C<unk>O<unk>C<unk>O<unk>C<unk>O<unk>CCCCCCCCCCCCCCCCCCC\n",
      "\n",
      "True SMILES: O<unk>C<unk>OCC<unk>OC<unk><unk>O<unk>CCCCCCCCCCCCC<unk>CCC<unk>CCC<unk>CCC<unk>CCC<unk>COC<unk>OC<unk>CS<unk><unk>O<unk><unk><unk>O<unk>O<unk>C<unk>O<unk>C<unk>O<unk>C<unk>O<unk>CCC<unk>CCC<unk>CCC<unk>CCC<unk>CCC\n",
      "Pred SMILES: O<unk>C<unk>OCC<unk>OC<unk><unk>O<unk>CCCCCCCCCCCCC<unk>CCC<unk>CCC<unk>CCC<unk>CCC<unk>COC<unk>OC<unk>CS<unk><unk>O<unk><unk><unk>O<unk>O<unk>C<unk>O<unk>C<unk>O<unk>C<unk>O<unk>CCC<unk>CCC<unk>CCC<unk>CCC<unk>CCCCCCCCCCCCCCCC\n",
      "\n",
      "True SMILES: O<unk>C<unk>OCC<unk>OC<unk><unk>O<unk>CCC<unk>CCC<unk>CCC<unk>CCC<unk>CCC<unk>COC<unk>OC<unk>CS<unk><unk>O<unk><unk><unk>O<unk>O<unk>C<unk>O<unk>C<unk>O<unk>C<unk>O<unk>CCCCCCCCCCCCCC<unk>CCC<unk>CCCCCCCC\n",
      "Pred SMILES: O<unk>C<unk>OCC<unk>OC<unk><unk>O<unk>CCC<unk>CCC<unk>CCC<unk>CCC<unk>CCC<unk>COC<unk>OC<unk>CS<unk><unk>O<unk><unk><unk>O<unk>O<unk>C<unk>O<unk>C<unk>O<unk>C<unk>O<unk>CCCCCCCCCCCCCC<unk>CCC<unk>CCCCCCCCCCCCCCCCCCCCCO\n",
      "\n",
      "True SMILES: O<unk>C<unk>OCC<unk>OC<unk><unk>O<unk>CCC<unk>CCC<unk>CCC<unk>CCC<unk>CCC<unk>COC<unk>OC<unk>CS<unk><unk>O<unk><unk><unk>O<unk>O<unk>C<unk>O<unk>C<unk>O<unk>C<unk>O<unk>CCCCCCCCCCCCCC<unk>CCCCCCCCCCC\n",
      "Pred SMILES: O<unk>C<unk>OCC<unk>OC<unk><unk>O<unk>CCC<unk>CCC<unk>CCC<unk>CCC<unk>CCC<unk>COC<unk>OC<unk>CS<unk><unk>O<unk><unk><unk>O<unk>O<unk>C<unk>O<unk>C<unk>O<unk>C<unk>O<unk>CCCCCCCCCCCCCC<unk>CCCCCCCCCCCCCCCCCCCCCCCCCO\n",
      "\n",
      "True SMILES: O<unk>C<unk>OCC<unk>OC<unk><unk>O<unk>CCC<unk>CCC<unk>CCC<unk>CCC<unk>CCC<unk>COC<unk>OC<unk>CS<unk><unk>O<unk><unk><unk>O<unk>O<unk>C<unk>O<unk>C<unk>O<unk>C<unk>O<unk>CCCCCCCCCCCCCCCCCCCCCCCCC\n",
      "Pred SMILES: O<unk>C<unk>OCC<unk>OC<unk><unk>O<unk>CCC<unk>CCC<unk>CCC<unk>CCC<unk>CCC<unk>COC<unk>OC<unk>CS<unk><unk>O<unk><unk><unk>O<unk>O<unk>C<unk>O<unk>C<unk>O<unk>C<unk>O<unk>CCCCCCCCCCCCCCCCCCCCCCCCCCCCCCCCCCCCCCCCO\n",
      "\n",
      "True SMILES: O<unk>C<unk>OCC<unk>OC<unk><unk>O<unk>CCC<unk>CCC<unk>CCC<unk>CCC<unk>CCC<unk>COC<unk>OC<unk>CS<unk><unk>O<unk><unk><unk>O<unk>O<unk>C<unk>O<unk>C<unk>O<unk>C<unk>O<unk>CCCCCCCCCCCCCCCCCCCCCCCC\n",
      "Pred SMILES: O<unk>C<unk>OCC<unk>OC<unk><unk>O<unk>CCC<unk>CCC<unk>CCC<unk>CCC<unk>CCC<unk>COC<unk>OC<unk>CS<unk><unk>O<unk><unk><unk>O<unk>O<unk>C<unk>O<unk>C<unk>O<unk>C<unk>O<unk>CCCCCCCCCCCCCCCCCCCCCCCCCCCCCCCCCCCCCCOCO\n",
      "\n",
      "True SMILES: O<unk>C<unk>OCC<unk>OC<unk><unk>O<unk>CCC<unk>CCC<unk>CCC<unk>CCC<unk>CCC<unk>COC<unk>OC<unk>CS<unk><unk>O<unk><unk><unk>O<unk>O<unk>C<unk>O<unk>C<unk>O<unk>C<unk>O<unk>CCCCCCCC<unk>CCC<unk>CCCCCC\n",
      "Pred SMILES: O<unk>C<unk>OCC<unk>OC<unk><unk>O<unk>CCC<unk>CCC<unk>CCC<unk>CCC<unk>CCC<unk>COC<unk>OC<unk>CS<unk><unk>O<unk><unk><unk>O<unk>O<unk>C<unk>O<unk>C<unk>O<unk>C<unk>O<unk>CCCCCCCC<unk>CCC<unk>CCCCCCCCCCCCCCC\n",
      "\n",
      "True SMILES: O<unk>C<unk>OCC<unk>OC<unk><unk>O<unk>CCC<unk>CCC<unk>CCC<unk>CCC<unk>CCC<unk>COC<unk>OC<unk>CS<unk><unk>O<unk><unk><unk>O<unk>O<unk>C<unk>O<unk>C<unk>O<unk>C<unk>O<unk>CCCCCCCC<unk>CCCCCCCCC\n",
      "Pred SMILES: O<unk>C<unk>OCC<unk>OC<unk><unk>O<unk>CCC<unk>CCC<unk>CCC<unk>CCC<unk>CCC<unk>COC<unk>OC<unk>CS<unk><unk>O<unk><unk><unk>O<unk>O<unk>C<unk>O<unk>C<unk>O<unk>C<unk>O<unk>CCCCCCCC<unk>CCCCCCCCCCCCCCCCCCC\n",
      "\n",
      "True SMILES: O<unk>C<unk>OCC<unk>OC<unk><unk>O<unk>CCC<unk>CCC<unk>CCC<unk>CCC<unk>CCC<unk>COC<unk>OC<unk>CS<unk><unk>O<unk><unk><unk>O<unk>O<unk>C<unk>O<unk>C<unk>O<unk>C<unk>O<unk>CCCCCCCCCCCCCCCCC\n",
      "Pred SMILES: O<unk>C<unk>OCC<unk>OC<unk><unk>O<unk>CCC<unk>CCC<unk>CCC<unk>CCC<unk>CCC<unk>COC<unk>OC<unk>CS<unk><unk>O<unk><unk><unk>O<unk>O<unk>C<unk>O<unk>C<unk>O<unk>C<unk>O<unk>CCCCCCCCCCCCCCCCCCCCCCCCCCCC\n",
      "\n",
      "True SMILES: O<unk>C<unk>OCC<unk>OC<unk><unk>O<unk>CCC<unk>CCC<unk>CCC<unk>CCC<unk>CCC<unk>COC<unk>OC<unk>CS<unk><unk>O<unk><unk><unk>O<unk>O<unk>C<unk>O<unk>C<unk>O<unk>C<unk>O<unk>CCCCCCCC<unk>CCC<unk>CCCCC\n",
      "Pred SMILES: O<unk>C<unk>OCC<unk>OC<unk><unk>O<unk>CCC<unk>CCC<unk>CCC<unk>CCC<unk>CCC<unk>COC<unk>OC<unk>CS<unk><unk>O<unk><unk><unk>O<unk>O<unk>C<unk>O<unk>C<unk>O<unk>C<unk>O<unk>CCCCCCCC<unk>CCC<unk>CCCCCCCCCCCCCCC\n",
      "\n",
      "True SMILES: O<unk>C<unk>OCC<unk>OC<unk><unk>O<unk>CCC<unk>CCC<unk>CCC<unk>CCC<unk>CCC<unk>COC<unk>OC<unk>CS<unk><unk>O<unk><unk><unk>O<unk>O<unk>C<unk>O<unk>C<unk>O<unk>C<unk>O<unk>CCCCCCCC<unk>CCCCCCCC\n",
      "Pred SMILES: O<unk>C<unk>OCC<unk>OC<unk><unk>O<unk>CCC<unk>CCC<unk>CCC<unk>CCC<unk>CCC<unk>COC<unk>OC<unk>CS<unk><unk>O<unk><unk><unk>O<unk>O<unk>C<unk>O<unk>C<unk>O<unk>C<unk>O<unk>CCCCCCCC<unk>CCCCCCCCCCCCCCCCCCC\n",
      "\n",
      "True SMILES: O<unk>C<unk>OCC<unk>OC<unk><unk>O<unk>CCCCCC<unk>CCC<unk>CCC<unk>CCC<unk>COC<unk>OC<unk>CS<unk><unk>O<unk><unk><unk>O<unk>O<unk>C<unk>O<unk>C<unk>O<unk>C<unk>O<unk>CCCCCCCCCC<unk>CCCCCCCCC\n",
      "Pred SMILES: O<unk>C<unk>OCC<unk>OC<unk><unk>O<unk>CCCCCC<unk>CCC<unk>CCC<unk>CCC<unk>COC<unk>OC<unk>CS<unk><unk>O<unk><unk><unk>O<unk>O<unk>C<unk>O<unk>C<unk>O<unk>C<unk>O<unk>CCCCCCCCCC<unk>CCCCCCCCCCCCCCCCCCO\n",
      "\n",
      "True SMILES: O<unk>C<unk>OCC<unk>OC<unk><unk>O<unk>CCCCCC<unk>CCC<unk>CCC<unk>CCC<unk>COC<unk>OC<unk>CS<unk><unk>O<unk><unk><unk>O<unk>O<unk>C<unk>O<unk>C<unk>O<unk>C<unk>O<unk>CCCCCCCCCCCCCCCCCCC\n",
      "Pred SMILES: O<unk>C<unk>OCC<unk>OC<unk><unk>O<unk>CCCCCC<unk>CCC<unk>CCC<unk>CCC<unk>COC<unk>OC<unk>CS<unk><unk>O<unk><unk><unk>O<unk>O<unk>C<unk>O<unk>C<unk>O<unk>C<unk>O<unk>CCCCCCCCCCCCCCCCCCCCCCCCCCCCCO\n",
      "\n",
      "True SMILES: O<unk>C<unk>OCC<unk>OC<unk><unk>O<unk>CCCCCC<unk>CCC<unk>CCC<unk>CCC<unk>COC<unk>OC<unk>CS<unk><unk>O<unk><unk><unk>O<unk>O<unk>C<unk>O<unk>C<unk>O<unk>C<unk>O<unk>CCCCCCCC<unk>CCC<unk>CCCCCCC\n",
      "Pred SMILES: O<unk>C<unk>OCC<unk>OC<unk><unk>O<unk>CCCCCC<unk>CCC<unk>CCC<unk>CCC<unk>COC<unk>OC<unk>CS<unk><unk>O<unk><unk><unk>O<unk>O<unk>C<unk>O<unk>C<unk>O<unk>C<unk>O<unk>CCCCCCCC<unk>CCC<unk>CCCCCCCCCCCCCCCO\n",
      "\n",
      "True SMILES: O<unk>C<unk>OCC<unk>OC<unk><unk>O<unk>CCCCCC<unk>CCC<unk>CCC<unk>CCC<unk>COC<unk>OC<unk>CS<unk><unk>O<unk><unk><unk>O<unk>O<unk>C<unk>O<unk>C<unk>O<unk>C<unk>O<unk>CCCCCCCC<unk>CCCCCCCCCC\n",
      "Pred SMILES: O<unk>C<unk>OCC<unk>OC<unk><unk>O<unk>CCCCCC<unk>CCC<unk>CCC<unk>CCC<unk>COC<unk>OC<unk>CS<unk><unk>O<unk><unk><unk>O<unk>O<unk>C<unk>O<unk>C<unk>O<unk>C<unk>O<unk>CCCCCCCC<unk>CCCCCCCCCCCCCCCCCCCCO\n",
      "\n",
      "True SMILES: O<unk>C<unk>OCC<unk>OC<unk><unk>O<unk>CCCCCC<unk>CCC<unk>CCC<unk>CCC<unk>COC<unk>OC<unk>CS<unk><unk>O<unk><unk><unk>O<unk>O<unk>C<unk>O<unk>C<unk>O<unk>C<unk>O<unk>CCCCCCCCCCCCCCCCCC\n",
      "Pred SMILES: O<unk>C<unk>OCC<unk>OC<unk><unk>O<unk>CCCCCC<unk>CCC<unk>CCC<unk>CCC<unk>COC<unk>OC<unk>CS<unk><unk>O<unk><unk><unk>O<unk>O<unk>C<unk>O<unk>C<unk>O<unk>C<unk>O<unk>CCCCCCCCCCCCCCCCCCCCCCCCCCCCCO\n",
      "\n",
      "True SMILES: O<unk>C<unk>OCC<unk>OC<unk><unk>O<unk>CCCCCCCC<unk>CCC<unk>CCCC<unk>COC<unk>OC<unk>CS<unk><unk>O<unk><unk><unk>O<unk>O<unk>C<unk>O<unk>C<unk>O<unk>C<unk>O<unk>CCCCCCCCCCCC<unk>CCCCCCCCC\n",
      "Pred SMILES: O<unk>C<unk>OCC<unk>OC<unk><unk>O<unk>CCCCCCCC<unk>CCC<unk>CCCC<unk>COC<unk>OC<unk>CS<unk><unk>O<unk><unk><unk>O<unk>O<unk>C<unk>O<unk>C<unk>O<unk>C<unk>O<unk>CCCCCCCCCCCC<unk>CCCCCCCCCCCCCCC\n",
      "\n",
      "True SMILES: CCCCCCCCCCCCCCCCCCCCCC<unk><unk>O<unk>OCC<unk>COC<unk>OC<unk>CS<unk>O<unk><unk><unk>O<unk><unk>O<unk>C<unk>O<unk>C<unk>O<unk>C<unk>O<unk>OC<unk><unk>O<unk>CCCCCCC<unk>C<unk>C<unk>C<unk>C<unk>C<unk>CCC\n",
      "Pred SMILES: CCCCCCCCCCCCCCCCCCCCCC<unk><unk>O<unk>OCC<unk>COC<unk>OC<unk>CS<unk>O<unk><unk><unk>O<unk><unk>O<unk>C<unk>O<unk>C<unk>O<unk>C<unk>O<unk>OC<unk><unk>O<unk>CCCCCCC<unk>C<unk>C<unk>C<unk>C<unk>C<unk>CCCCCC\n",
      "\n",
      "True SMILES: O<unk>C<unk>OCC<unk>OC<unk><unk>O<unk>CCCCCCCCCC<unk>CCC<unk>CCCCCCC<unk>COC<unk>OC<unk>CS<unk><unk>O<unk><unk><unk>O<unk>O<unk>C<unk>O<unk>C<unk>O<unk>C<unk>O<unk>CCCCCCCC<unk>CCC<unk>CCCC\n",
      "Pred SMILES: O<unk>C<unk>OCC<unk>OC<unk><unk>O<unk>CCCCCCCCCC<unk>CCC<unk>CCCCCCC<unk>COC<unk>OC<unk>CS<unk><unk>O<unk><unk><unk>O<unk>O<unk>C<unk>O<unk>C<unk>O<unk>C<unk>O<unk>CCCCCCCC<unk>CCC<unk>CCCCCCCCCC\n",
      "\n",
      "True SMILES: O<unk>C<unk>OCC<unk>OC<unk><unk>O<unk>CCCCCCCC<unk>CCC<unk>CCCC<unk>COC<unk>OC<unk>CS<unk><unk>O<unk><unk><unk>O<unk>O<unk>C<unk>O<unk>C<unk>O<unk>C<unk>O<unk>CCCCCCCCCC<unk>CCCCCCCCCC\n",
      "Pred SMILES: O<unk>C<unk>OCC<unk>OC<unk><unk>O<unk>CCCCCCCC<unk>CCC<unk>CCCC<unk>COC<unk>OC<unk>CS<unk><unk>O<unk><unk><unk>O<unk>O<unk>C<unk>O<unk>C<unk>O<unk>C<unk>O<unk>CCCCCCCCCC<unk>CCCCCCCCCCCCCCCCC\n",
      "\n",
      "True SMILES: O<unk>C<unk>OCC<unk>OC<unk><unk>O<unk>CCCCCCCC<unk>CCC<unk>CCCC<unk>COC<unk>OC<unk>CS<unk><unk>O<unk><unk><unk>O<unk>O<unk>C<unk>O<unk>C<unk>O<unk>C<unk>O<unk>CCCCCCCCCCCCCCCCCCCC\n",
      "Pred SMILES: O<unk>C<unk>OCC<unk>OC<unk><unk>O<unk>CCCCCCCC<unk>CCC<unk>CCCC<unk>COC<unk>OC<unk>CS<unk><unk>O<unk><unk><unk>O<unk>O<unk>C<unk>O<unk>C<unk>O<unk>C<unk>O<unk>CCCCCCCCCCCCCCCCCCCCCCCCCCCC\n",
      "\n",
      "True SMILES: O<unk>C<unk>OCC<unk>OC<unk><unk>O<unk>CCCCCCCCCCC<unk>CCC<unk>CCC<unk>CCC<unk>CCC<unk>COC<unk>OC<unk>CS<unk><unk>O<unk><unk><unk>O<unk>O<unk>C<unk>O<unk>C<unk>O<unk>C<unk>O<unk>CCCCCCCC<unk>CCCCCCC\n",
      "Pred SMILES: O<unk>C<unk>OCC<unk>OC<unk><unk>O<unk>CCCCCCCCCCC<unk>CCC<unk>CCC<unk>CCC<unk>CCC<unk>COC<unk>OC<unk>CS<unk><unk>O<unk><unk><unk>O<unk>O<unk>C<unk>O<unk>C<unk>O<unk>C<unk>O<unk>CCCCCCCC<unk>CCCCCCCC\n",
      "\n",
      "True SMILES: O<unk>C<unk>OCC<unk>OC<unk><unk>O<unk>CCCCCCCCCCCC<unk>CCC<unk>CCCCCCCC<unk>COC<unk>OC<unk>CS<unk><unk>O<unk><unk><unk>O<unk>O<unk>C<unk>O<unk>C<unk>O<unk>C<unk>O<unk>CCCCCCCC<unk>CCCCCCC\n",
      "Pred SMILES: O<unk>C<unk>OCC<unk>OC<unk><unk>O<unk>CCCCCCCCCCCC<unk>CCC<unk>CCCCCCCC<unk>COC<unk>OC<unk>CS<unk><unk>O<unk><unk><unk>O<unk>O<unk>C<unk>O<unk>C<unk>O<unk>C<unk>O<unk>CCCCCCCC<unk>CCCCCCCCC\n",
      "\n",
      "True SMILES: O<unk>C<unk>OCC<unk>OC<unk><unk>O<unk>CCCCCCCCCCCC<unk>CCCCCCCCCCC<unk>COC<unk>OC<unk>CS<unk><unk>O<unk><unk><unk>O<unk>O<unk>C<unk>O<unk>C<unk>O<unk>C<unk>O<unk>CCCCCCCC<unk>CCCCCCC\n",
      "Pred SMILES: O<unk>C<unk>OCC<unk>OC<unk><unk>O<unk>CCCCCCCCCCCC<unk>CCCCCCCCCCC<unk>COC<unk>OC<unk>CS<unk><unk>O<unk><unk><unk>O<unk>O<unk>C<unk>O<unk>C<unk>O<unk>C<unk>O<unk>CCCCCCCC<unk>CCCCCCCCCC\n",
      "\n",
      "True SMILES: O<unk>C<unk>OCC<unk>OC<unk><unk>O<unk>CCCCCCCC<unk>CCCCCCC<unk>COC<unk>OC<unk>CS<unk><unk>O<unk><unk><unk>O<unk>O<unk>C<unk>O<unk>C<unk>O<unk>C<unk>O<unk>CCCCCCCCCCCCCCCCCCCCCCC\n",
      "Pred SMILES: O<unk>C<unk>OCC<unk>OC<unk><unk>O<unk>CCCCCCCC<unk>CCCCCCC<unk>COC<unk>OC<unk>CS<unk><unk>O<unk><unk><unk>O<unk>O<unk>C<unk>O<unk>C<unk>O<unk>C<unk>O<unk>CCCCCCCCCCCCCCCCCCCCCCCCCCC\n",
      "\n",
      "True SMILES: O<unk>C<unk>OCC<unk>OC<unk><unk>O<unk>CCCCCCCC<unk>CCCCCCC<unk>COC<unk>OC<unk>CS<unk><unk>O<unk><unk><unk>O<unk>O<unk>C<unk>O<unk>C<unk>O<unk>C<unk>O<unk>CCCCCCCCCCCCCCCCCCCCCC\n",
      "Pred SMILES: O<unk>C<unk>OCC<unk>OC<unk><unk>O<unk>CCCCCCCC<unk>CCCCCCC<unk>COC<unk>OC<unk>CS<unk><unk>O<unk><unk><unk>O<unk>O<unk>C<unk>O<unk>C<unk>O<unk>C<unk>O<unk>CCCCCCCCCCCCCCCCCCCCCCCCCCC\n",
      "\n",
      "True SMILES: O<unk>C<unk>OCC<unk>OC<unk><unk>O<unk>CCCCCCCC<unk>CCCCCCC<unk>COC<unk>OC<unk>CS<unk><unk>O<unk><unk><unk>O<unk>O<unk>C<unk>O<unk>C<unk>O<unk>C<unk>O<unk>CCCCCCCCCCCCCCCC\n",
      "Pred SMILES: O<unk>C<unk>OCC<unk>OC<unk><unk>O<unk>CCCCCCCC<unk>CCCCCCC<unk>COC<unk>OC<unk>CS<unk><unk>O<unk><unk><unk>O<unk>O<unk>C<unk>O<unk>C<unk>O<unk>C<unk>O<unk>CCCCCCCCCCCCCCCCCCCCCCCCCCC\n",
      "\n",
      "True SMILES: O<unk>C<unk>OCC<unk>OC<unk><unk>O<unk>CCC<unk>CCC<unk>CCC<unk>CCC<unk>CCC<unk>COC<unk>OC<unk>CS<unk><unk>O<unk><unk><unk>O<unk>O<unk>C<unk>O<unk>C<unk>O<unk>C<unk>O<unk>CCCCCCCC<unk>CCCCCCC\n",
      "Pred SMILES: O<unk>C<unk>OCC<unk>OC<unk><unk>O<unk>CCC<unk>CCC<unk>CCC<unk>CCC<unk>CCC<unk>COC<unk>OC<unk>CS<unk><unk>O<unk><unk><unk>O<unk>O<unk>C<unk>O<unk>C<unk>O<unk>C<unk>O<unk>CCCCCCCC<unk>CCCCCCCCCCCCCCCC\n",
      "\n",
      "True SMILES: O<unk>C<unk>OCC<unk>OC<unk><unk>O<unk>CCCCCC<unk>CCC<unk>CCC<unk>CCC<unk>COC<unk>OC<unk>CS<unk><unk>O<unk><unk><unk>O<unk>O<unk>C<unk>O<unk>C<unk>O<unk>C<unk>O<unk>CCCCCCCC<unk>CCCCCCC\n",
      "Pred SMILES: O<unk>C<unk>OCC<unk>OC<unk><unk>O<unk>CCCCCC<unk>CCC<unk>CCC<unk>CCC<unk>COC<unk>OC<unk>CS<unk><unk>O<unk><unk><unk>O<unk>O<unk>C<unk>O<unk>C<unk>O<unk>C<unk>O<unk>CCCCCCCC<unk>CCCCCCCCCCCCCCCCC\n",
      "\n",
      "True SMILES: CCCCCC<unk>C<unk>C<unk>CCCCCCCC<unk><unk>O<unk>OCC<unk>COC<unk>OC<unk>CS<unk>O<unk><unk><unk>O<unk><unk>O<unk>C<unk>O<unk>C<unk>O<unk>C<unk>O<unk>OC<unk><unk>O<unk>CCCCCCC<unk>C<unk>C<unk>C<unk>C<unk>C<unk>CCC\n",
      "Pred SMILES: CCCCCC<unk>C<unk>C<unk>CCCCCCCC<unk><unk>O<unk>OCC<unk>COC<unk>OC<unk>CS<unk>O<unk><unk><unk>O<unk><unk>O<unk>C<unk>O<unk>C<unk>O<unk>C<unk>O<unk>OC<unk><unk>O<unk>CCCCCCC<unk>C<unk>C<unk>C<unk>C<unk>C<unk>CCCCCCC<unk>\n",
      "\n",
      "True SMILES: O<unk>C<unk>OCC<unk>OC<unk><unk>O<unk>CCCCCCCC<unk>CCCCCCC<unk>COC<unk>OC<unk>CS<unk><unk>O<unk><unk><unk>O<unk>O<unk>C<unk>O<unk>C<unk>O<unk>C<unk>O<unk>CCCCCCCC<unk>CCCCCCC\n",
      "Pred SMILES: O<unk>C<unk>OCC<unk>OC<unk><unk>O<unk>CCCCCCCC<unk>CCCCCCC<unk>COC<unk>OC<unk>CS<unk><unk>O<unk><unk><unk>O<unk>O<unk>C<unk>O<unk>C<unk>O<unk>C<unk>O<unk>CCCCCCCC<unk>CCCCCCCCCCCCCCCCCC\n",
      "\n",
      "True SMILES: O<unk>C<unk>OCC<unk>OC<unk><unk>O<unk>CCCCCCCC<unk>CCC<unk>CCCCCCC<unk>COC<unk>OC<unk>CS<unk><unk>O<unk><unk><unk>O<unk>O<unk>C<unk>O<unk>C<unk>O<unk>C<unk>O<unk>CCCCCCCCCCCCCCC\n",
      "Pred SMILES: O<unk>C<unk>OCC<unk>OC<unk><unk>O<unk>CCCCCCCC<unk>CCC<unk>CCCCCCC<unk>COC<unk>OC<unk>CS<unk><unk>O<unk><unk><unk>O<unk>O<unk>C<unk>O<unk>C<unk>O<unk>C<unk>O<unk>CCCCCCCCCCCCCCCCCCCCCCCC\n",
      "\n",
      "True SMILES: O<unk>C<unk>OCC<unk>OC<unk><unk>O<unk>CCCCCCCC<unk>CCCCCCCCCC<unk>COC<unk>OC<unk>CS<unk><unk>O<unk><unk><unk>O<unk>O<unk>C<unk>O<unk>C<unk>O<unk>C<unk>O<unk>CCCCCCCCCCCCCCC\n",
      "Pred SMILES: O<unk>C<unk>OCC<unk>OC<unk><unk>O<unk>CCCCCCCC<unk>CCCCCCCCCC<unk>COC<unk>OC<unk>CS<unk><unk>O<unk><unk><unk>O<unk>O<unk>C<unk>O<unk>C<unk>O<unk>C<unk>O<unk>CCCCCCCCCCCCCCCCCCCCCCCCC\n",
      "\n",
      "True SMILES: O<unk>C<unk>OCC<unk>OC<unk><unk>O<unk>CCCCCCCCCCCCCCCCCC<unk>COC<unk>OC<unk>CS<unk><unk>O<unk><unk><unk>O<unk>O<unk>C<unk>O<unk>C<unk>O<unk>C<unk>O<unk>CCCCCCCCCCCCCCC\n",
      "Pred SMILES: O<unk>C<unk>OCC<unk>OC<unk><unk>O<unk>CCCCCCCCCCCCCCCCCC<unk>COC<unk>OC<unk>CS<unk><unk>O<unk><unk><unk>O<unk>O<unk>C<unk>O<unk>C<unk>O<unk>C<unk>O<unk>CCCCCCCCCCCCCCCCCCCCCCCCC\n",
      "\n",
      "True SMILES: O<unk>C<unk>OC<unk>COC<unk><unk>O<unk>CCCCCCCCCCCCCCC<unk>COC<unk>OC<unk>CS<unk><unk>O<unk><unk><unk>O<unk>O<unk>C<unk>O<unk>C<unk>O<unk>C<unk>O<unk>CC<unk>CCC<unk>CCC<unk>CCC<unk>CCC<unk>CCC\n",
      "Pred SMILES: O<unk>C<unk>OC<unk>COC<unk><unk>O<unk>CCCCCCCCCCCCCCC<unk>COC<unk>OC<unk>CS<unk><unk>O<unk><unk><unk>O<unk>O<unk>C<unk>O<unk>C<unk>O<unk>C<unk>O<unk>CC<unk>CCC<unk>CCC<unk>CCC<unk>CCC<unk>CCCCCCCCCC\n",
      "\n",
      "True SMILES: O<unk>C<unk>OCC<unk>OC<unk><unk>O<unk>CCCCC<unk>CCC<unk>CCC<unk>CCC<unk>CCC<unk>COC<unk>OC<unk>CS<unk><unk>O<unk><unk><unk>O<unk>O<unk>C<unk>O<unk>C<unk>O<unk>C<unk>O<unk>CCCCCCCCCCCCCCC\n",
      "Pred SMILES: O<unk>C<unk>OCC<unk>OC<unk><unk>O<unk>CCCCC<unk>CCC<unk>CCC<unk>CCC<unk>CCC<unk>COC<unk>OC<unk>CS<unk><unk>O<unk><unk><unk>O<unk>O<unk>C<unk>O<unk>C<unk>O<unk>C<unk>O<unk>CCCCCCCCCCCCCCCCCCCCCCC\n",
      "\n",
      "True SMILES: O<unk>C<unk>OCC<unk>OC<unk><unk>O<unk>CCCCCCCCCCCC<unk>CCC<unk>CCCCCC<unk>COC<unk>OC<unk>CS<unk><unk>O<unk><unk><unk>O<unk>O<unk>C<unk>O<unk>C<unk>O<unk>C<unk>O<unk>CCCCCCCC<unk>CCCCCC\n",
      "Pred SMILES: O<unk>C<unk>OCC<unk>OC<unk><unk>O<unk>CCCCCCCCCCCC<unk>CCC<unk>CCCCCC<unk>COC<unk>OC<unk>CS<unk><unk>O<unk><unk><unk>O<unk>O<unk>C<unk>O<unk>C<unk>O<unk>C<unk>O<unk>CCCCCCCC<unk>CCCCCCCCCCC\n",
      "\n",
      "True SMILES: O<unk>C<unk>OCC<unk>OC<unk><unk>O<unk>CCCCCCCCCCCC<unk>CCCCCCCCC<unk>COC<unk>OC<unk>CS<unk><unk>O<unk><unk><unk>O<unk>O<unk>C<unk>O<unk>C<unk>O<unk>C<unk>O<unk>CCCCCCCC<unk>CCCCCC\n",
      "Pred SMILES: O<unk>C<unk>OCC<unk>OC<unk><unk>O<unk>CCCCCCCCCCCC<unk>CCCCCCCCC<unk>COC<unk>OC<unk>CS<unk><unk>O<unk><unk><unk>O<unk>O<unk>C<unk>O<unk>C<unk>O<unk>C<unk>O<unk>CCCCCCCC<unk>CCCCCCCCCCCC\n",
      "\n",
      "True SMILES: O<unk>C<unk>OCC<unk>OC<unk><unk>O<unk>CCCCCCCC<unk>CCCCCC<unk>COC<unk>OC<unk>CS<unk><unk>O<unk><unk><unk>O<unk>O<unk>C<unk>O<unk>C<unk>O<unk>C<unk>O<unk>CCCCCCCCCCCCCCCCCCCCC\n",
      "Pred SMILES: O<unk>C<unk>OCC<unk>OC<unk><unk>O<unk>CCCCCCCC<unk>CCCCCC<unk>COC<unk>OC<unk>CS<unk><unk>O<unk><unk><unk>O<unk>O<unk>C<unk>O<unk>C<unk>O<unk>C<unk>O<unk>CCCCCCCCCCCCCCCCCCCCCCCCCCCC\n",
      "\n",
      "True SMILES: O<unk>C<unk>OCC<unk>OC<unk><unk>O<unk>CCCCCCCCCC<unk>CCC<unk>CCCCCCC<unk>COC<unk>OC<unk>CS<unk><unk>O<unk><unk><unk>O<unk>O<unk>C<unk>O<unk>C<unk>O<unk>C<unk>O<unk>CCCCCCCC<unk>CCCCCC\n",
      "Pred SMILES: O<unk>C<unk>OCC<unk>OC<unk><unk>O<unk>CCCCCCCCCC<unk>CCC<unk>CCCCCCC<unk>COC<unk>OC<unk>CS<unk><unk>O<unk><unk><unk>O<unk>O<unk>C<unk>O<unk>C<unk>O<unk>C<unk>O<unk>CCCCCCCC<unk>CCCCCCCCCCCC\n",
      "\n",
      "True SMILES: O<unk>C<unk>OCC<unk>OC<unk><unk>O<unk>CCCCCCCCCC<unk>CCCCCCCCCC<unk>COC<unk>OC<unk>CS<unk><unk>O<unk><unk><unk>O<unk>O<unk>C<unk>O<unk>C<unk>O<unk>C<unk>O<unk>CCCCCCCC<unk>CCCCCC\n",
      "Pred SMILES: O<unk>C<unk>OCC<unk>OC<unk><unk>O<unk>CCCCCCCCCC<unk>CCCCCCCCCC<unk>COC<unk>OC<unk>CS<unk><unk>O<unk><unk><unk>O<unk>O<unk>C<unk>O<unk>C<unk>O<unk>C<unk>O<unk>CCCCCCCC<unk>CCCCCCCCCCCCC\n",
      "\n",
      "True SMILES: O<unk>C<unk>OCC<unk>OC<unk><unk>O<unk>CCCCCCCCCCCCCC<unk>CCC<unk>CCCCCCCC<unk>COC<unk>OC<unk>CS<unk><unk>O<unk><unk><unk>O<unk>O<unk>C<unk>O<unk>C<unk>O<unk>C<unk>O<unk>CCCCCCCCCCCCCC\n",
      "Pred SMILES: O<unk>C<unk>OCC<unk>OC<unk><unk>O<unk>CCCCCCCCCCCCCC<unk>CCC<unk>CCCCCCCC<unk>COC<unk>OC<unk>CS<unk><unk>O<unk><unk><unk>O<unk>O<unk>C<unk>O<unk>C<unk>O<unk>C<unk>O<unk>CCCCCCCCCCCCCCC\n",
      "\n",
      "True SMILES: O<unk>C<unk>OCC<unk>OC<unk><unk>O<unk>CCCCCCCCCCCCCC<unk>CCCCCCCCCCC<unk>COC<unk>OC<unk>CS<unk><unk>O<unk><unk><unk>O<unk>O<unk>C<unk>O<unk>C<unk>O<unk>C<unk>O<unk>CCCCCCCCCCCCCC\n",
      "Pred SMILES: O<unk>C<unk>OCC<unk>OC<unk><unk>O<unk>CCCCCCCCCCCCCC<unk>CCCCCCCCCCC<unk>COC<unk>OC<unk>CS<unk><unk>O<unk><unk><unk>O<unk>O<unk>C<unk>O<unk>C<unk>O<unk>C<unk>O<unk>CCCCCCCCCCCCCCC\n",
      "\n",
      "True SMILES: O<unk>C<unk>OCC<unk>OC<unk><unk>O<unk>CCCCCCCCCCCCCCCCCCCCCCCCC<unk>COC<unk>OC<unk>CS<unk><unk>O<unk><unk><unk>O<unk>O<unk>C<unk>O<unk>C<unk>O<unk>C<unk>O<unk>CCCCCCCCCCCCCC\n",
      "Pred SMILES: O<unk>C<unk>OCC<unk>OC<unk><unk>O<unk>CCCCCCCCCCCCCCCCCCCCCCCCC<unk>COC<unk>OC<unk>CS<unk><unk>O<unk><unk><unk>O<unk>O<unk>C<unk>O<unk>C<unk>O<unk>C<unk>O<unk>CCCCCCCCCCCCCCCC\n",
      "\n",
      "True SMILES: O<unk>C<unk>OCC<unk>OC<unk><unk>O<unk>CCCCCCCCCCCCCCCCCCCCCCCC<unk>COC<unk>OC<unk>CS<unk><unk>O<unk><unk><unk>O<unk>O<unk>C<unk>O<unk>C<unk>O<unk>C<unk>O<unk>CCCCCCCCCCCCCC\n",
      "Pred SMILES: O<unk>C<unk>OCC<unk>OC<unk><unk>O<unk>CCCCCCCCCCCCCCCCCCCCCCCC<unk>COC<unk>OC<unk>CS<unk><unk>O<unk><unk><unk>O<unk>O<unk>C<unk>O<unk>C<unk>O<unk>C<unk>O<unk>CCCCCCCCCCCCCCCCC\n",
      "\n",
      "True SMILES: O<unk>C<unk>OCC<unk>OC<unk><unk>O<unk>CCCCCCCCCCC<unk>CCC<unk>CCC<unk>CCC<unk>CCC<unk>COC<unk>OC<unk>CS<unk><unk>O<unk><unk><unk>O<unk>O<unk>C<unk>O<unk>C<unk>O<unk>C<unk>O<unk>CCCCCCCCCCCCCC\n",
      "Pred SMILES: O<unk>C<unk>OCC<unk>OC<unk><unk>O<unk>CCCCCCCCCCC<unk>CCC<unk>CCC<unk>CCC<unk>CCC<unk>COC<unk>OC<unk>CS<unk><unk>O<unk><unk><unk>O<unk>O<unk>C<unk>O<unk>C<unk>O<unk>C<unk>O<unk>CCCCCCCCCCCCCCC\n",
      "\n",
      "True SMILES: O<unk>C<unk>OCC<unk>OC<unk><unk>O<unk>CCCCCCCC<unk>CCCCCCCCC<unk>COC<unk>OC<unk>CS<unk><unk>O<unk><unk><unk>O<unk>O<unk>C<unk>O<unk>C<unk>O<unk>C<unk>O<unk>CCCCCCCCCCCCCC\n",
      "Pred SMILES: O<unk>C<unk>OCC<unk>OC<unk><unk>O<unk>CCCCCCCC<unk>CCCCCCCCC<unk>COC<unk>OC<unk>CS<unk><unk>O<unk><unk><unk>O<unk>O<unk>C<unk>O<unk>C<unk>O<unk>C<unk>O<unk>CCCCCCCCCCCCCCCCCCCCCCCCCCCCCCCC\n",
      "\n",
      "True SMILES: O<unk>C<unk>OCC<unk>OC<unk><unk>O<unk>CCCCCCCCCCCCCCCCC<unk>COC<unk>OC<unk>CS<unk><unk>O<unk><unk><unk>O<unk>O<unk>C<unk>O<unk>C<unk>O<unk>C<unk>O<unk>CCCCCCCCCCCCCC\n",
      "Pred SMILES: O<unk>C<unk>OCC<unk>OC<unk><unk>O<unk>CCCCCCCCCCCCCCCCC<unk>COC<unk>OC<unk>CS<unk><unk>O<unk><unk><unk>O<unk>O<unk>C<unk>O<unk>C<unk>O<unk>C<unk>O<unk>CCCCCCCCCCCCCCCCCCCCCCCCCCCCCCCCCCC\n",
      "\n",
      "True SMILES: O<unk>C<unk>OCC<unk>OC<unk><unk>O<unk>CCCCCCCC<unk>CCC<unk>CCCCC<unk>COC<unk>OC<unk>CS<unk><unk>O<unk><unk><unk>O<unk>O<unk>C<unk>O<unk>C<unk>O<unk>C<unk>O<unk>CCCCCCCCCCCCCC\n",
      "Pred SMILES: O<unk>C<unk>OCC<unk>OC<unk><unk>O<unk>CCCCCCCC<unk>CCC<unk>CCCCC<unk>COC<unk>OC<unk>CS<unk><unk>O<unk><unk><unk>O<unk>O<unk>C<unk>O<unk>C<unk>O<unk>C<unk>O<unk>CCCCCCCCCCCCCCCCCCCCCCCCCCCCCCCC\n",
      "\n",
      "True SMILES: O<unk>C<unk>OCC<unk>OC<unk><unk>O<unk>CCCCCCCC<unk>CCCCCCCC<unk>COC<unk>OC<unk>CS<unk><unk>O<unk><unk><unk>O<unk>O<unk>C<unk>O<unk>C<unk>O<unk>C<unk>O<unk>CCCCCCCCCCCCCC\n",
      "Pred SMILES: O<unk>C<unk>OCC<unk>OC<unk><unk>O<unk>CCCCCCCC<unk>CCCCCCCC<unk>COC<unk>OC<unk>CS<unk><unk>O<unk><unk><unk>O<unk>O<unk>C<unk>O<unk>C<unk>O<unk>C<unk>O<unk>CCCCCCCCCCCCCCCCCCCCCCCCCCCCCCCCCC\n",
      "\n",
      "True SMILES: O<unk>C<unk>OCC<unk>OC<unk><unk>O<unk>CCCCCCCCCCCCCCCC<unk>COC<unk>OC<unk>CS<unk><unk>O<unk><unk><unk>O<unk>O<unk>C<unk>O<unk>C<unk>O<unk>C<unk>O<unk>CCCCCCCCCCCCCC\n",
      "Pred SMILES: O<unk>C<unk>OCC<unk>OC<unk><unk>O<unk>CCCCCCCCCCCCCCCC<unk>COC<unk>OC<unk>CS<unk><unk>O<unk><unk><unk>O<unk>O<unk>C<unk>O<unk>C<unk>O<unk>C<unk>O<unk>CCCCCCCCCCCCCCCCCCCCCCCCCCCCCCCCCCCCC\n",
      "\n",
      "True SMILES: O<unk>C<unk>OCC<unk>OC<unk><unk>O<unk>CCCCCCCC<unk>CCCCC<unk>COC<unk>OC<unk>CS<unk><unk>O<unk><unk><unk>O<unk>O<unk>C<unk>O<unk>C<unk>O<unk>C<unk>O<unk>CCCCCCCCCCCCCCCCCCCC\n",
      "Pred SMILES: O<unk>C<unk>OCC<unk>OC<unk><unk>O<unk>CCCCCCCC<unk>CCCCC<unk>COC<unk>OC<unk>CS<unk><unk>O<unk><unk><unk>O<unk>O<unk>C<unk>O<unk>C<unk>O<unk>C<unk>O<unk>CCCCCCCCCCCCCCCCCCCCCCCCCCCC\n",
      "\n",
      "True SMILES: O<unk>C<unk>OCC<unk>OC<unk><unk>O<unk>CCCC<unk>CCC<unk>CCC<unk>CCC<unk>CCC<unk>CCC<unk>COC<unk>OC<unk>CS<unk><unk>O<unk><unk><unk>O<unk>O<unk>C<unk>O<unk>C<unk>O<unk>C<unk>O<unk>CCCCCCCC<unk>CCCCC\n",
      "Pred SMILES: O<unk>C<unk>OCC<unk>OC<unk><unk>O<unk>CCCC<unk>CCC<unk>CCC<unk>CCC<unk>CCC<unk>CCC<unk>COC<unk>OC<unk>CS<unk><unk>O<unk><unk><unk>O<unk>O<unk>C<unk>O<unk>C<unk>O<unk>C<unk>O<unk>CCCCCCCC<unk>CCCCCCCCC\n",
      "\n",
      "True SMILES: O<unk>C<unk>OCC<unk>OC<unk><unk>O<unk>CCCCCCC<unk>CCC<unk>CCC<unk>CCC<unk>CCC<unk>COC<unk>OC<unk>CS<unk><unk>O<unk><unk><unk>O<unk>O<unk>C<unk>O<unk>C<unk>O<unk>C<unk>O<unk>CCCCCCCC<unk>CCCCC\n",
      "Pred SMILES: O<unk>C<unk>OCC<unk>OC<unk><unk>O<unk>CCCCCCC<unk>CCC<unk>CCC<unk>CCC<unk>CCC<unk>COC<unk>OC<unk>CS<unk><unk>O<unk><unk><unk>O<unk>O<unk>C<unk>O<unk>C<unk>O<unk>C<unk>O<unk>CCCCCCCC<unk>CCCCCCCCCC\n",
      "\n",
      "True SMILES: O<unk>C<unk>OCC<unk>OC<unk><unk>O<unk>CCCCCCCCCC<unk>CCC<unk>CCC<unk>CCC<unk>COC<unk>OC<unk>CS<unk><unk>O<unk><unk><unk>O<unk>O<unk>C<unk>O<unk>C<unk>O<unk>C<unk>O<unk>CCCCCCCC<unk>CCCCC\n",
      "Pred SMILES: O<unk>C<unk>OCC<unk>OC<unk><unk>O<unk>CCCCCCCCCC<unk>CCC<unk>CCC<unk>CCC<unk>COC<unk>OC<unk>CS<unk><unk>O<unk><unk><unk>O<unk>O<unk>C<unk>O<unk>C<unk>O<unk>C<unk>O<unk>CCCCCCCC<unk>CCCCCCCCCCC\n",
      "\n",
      "True SMILES: O<unk>C<unk>OCC<unk>OC<unk><unk>O<unk>CCCCCCCCCC<unk>CCC<unk>CCCCCC<unk>COC<unk>OC<unk>CS<unk><unk>O<unk><unk><unk>O<unk>O<unk>C<unk>O<unk>C<unk>O<unk>C<unk>O<unk>CCCCCCCC<unk>CCCCC\n",
      "Pred SMILES: O<unk>C<unk>OCC<unk>OC<unk><unk>O<unk>CCCCCCCCCC<unk>CCC<unk>CCCCCC<unk>COC<unk>OC<unk>CS<unk><unk>O<unk><unk><unk>O<unk>O<unk>C<unk>O<unk>C<unk>O<unk>C<unk>O<unk>CCCCCCCC<unk>CCCCCCCCCCCC\n",
      "\n",
      "True SMILES: O<unk>C<unk>OCC<unk>OC<unk><unk>O<unk>CCCCCCCCCCCCCCCCCCCCCCCC<unk>COC<unk>OC<unk>CS<unk><unk>O<unk><unk><unk>O<unk>O<unk>C<unk>O<unk>C<unk>O<unk>C<unk>O<unk>CCCCCCCCCCCCC\n",
      "Pred SMILES: O<unk>C<unk>OCC<unk>OC<unk><unk>O<unk>CCCCCCCCCCCCCCCCCCCCCCCC<unk>COC<unk>OC<unk>CS<unk><unk>O<unk><unk><unk>O<unk>O<unk>C<unk>O<unk>C<unk>O<unk>C<unk>O<unk>CCCCCCCCCCCCCCCCCCCCCCCCCCCC\n",
      "\n",
      "True SMILES: O<unk>C<unk>OCC<unk>OC<unk><unk>O<unk>CCCCCCCCCCC<unk>CCC<unk>CCC<unk>CCC<unk>CCC<unk>COC<unk>OC<unk>CS<unk><unk>O<unk><unk><unk>O<unk>O<unk>C<unk>O<unk>C<unk>O<unk>C<unk>O<unk>CCCCCCCCCCCCC\n",
      "Pred SMILES: O<unk>C<unk>OCC<unk>OC<unk><unk>O<unk>CCCCCCCCCCC<unk>CCC<unk>CCC<unk>CCC<unk>CCC<unk>COC<unk>OC<unk>CS<unk><unk>O<unk><unk><unk>O<unk>O<unk>C<unk>O<unk>C<unk>O<unk>C<unk>O<unk>CCCCCCCCCCCCCCCCCCCCCCCCC\n",
      "\n",
      "True SMILES: O<unk>C<unk>OCC<unk>OC<unk><unk>O<unk>CCCCCCCCCCCC<unk>CCC<unk>CCCCCCCC<unk>COC<unk>OC<unk>CS<unk><unk>O<unk><unk><unk>O<unk>O<unk>C<unk>O<unk>C<unk>O<unk>C<unk>O<unk>CCCCCCCCCCCCC\n",
      "Pred SMILES: O<unk>C<unk>OCC<unk>OC<unk><unk>O<unk>CCCCCCCCCCCC<unk>CCC<unk>CCCCCCCC<unk>COC<unk>OC<unk>CS<unk><unk>O<unk><unk><unk>O<unk>O<unk>C<unk>O<unk>C<unk>O<unk>C<unk>O<unk>CCCCCCCCCCCCCCCCCCCCCCCCCCC\n",
      "\n",
      "True SMILES: O<unk>C<unk>OCC<unk>OC<unk><unk>O<unk>CCCCCCCCCCCC<unk>CCCCCCCCCCC<unk>COC<unk>OC<unk>CS<unk><unk>O<unk><unk><unk>O<unk>O<unk>C<unk>O<unk>C<unk>O<unk>C<unk>O<unk>CCCCCCCCCCCCC\n",
      "Pred SMILES: O<unk>C<unk>OCC<unk>OC<unk><unk>O<unk>CCCCCCCCCCCC<unk>CCCCCCCCCCC<unk>COC<unk>OC<unk>CS<unk><unk>O<unk><unk><unk>O<unk>O<unk>C<unk>O<unk>C<unk>O<unk>C<unk>O<unk>CCCCCCCCCCCCCCCCCCCCCCCCCCCC\n",
      "\n",
      "True SMILES: O<unk>C<unk>OCC<unk>OC<unk><unk>O<unk>CCCCCCCCCCCCCCCCCCCCCCC<unk>COC<unk>OC<unk>CS<unk><unk>O<unk><unk><unk>O<unk>O<unk>C<unk>O<unk>C<unk>O<unk>C<unk>O<unk>CCCCCCCCCCCCC\n",
      "Pred SMILES: O<unk>C<unk>OCC<unk>OC<unk><unk>O<unk>CCCCCCCCCCCCCCCCCCCCCCC<unk>COC<unk>OC<unk>CS<unk><unk>O<unk><unk><unk>O<unk>O<unk>C<unk>O<unk>C<unk>O<unk>C<unk>O<unk>CCCCCCCCCCCCCCCCCCCCCCCCCCCCC\n",
      "\n",
      "True SMILES: O<unk>C<unk>OCC<unk>OC<unk><unk>O<unk>CCCCCCCC<unk>CCCCCCCC<unk>COC<unk>OC<unk>CS<unk><unk>O<unk><unk><unk>O<unk>O<unk>C<unk>O<unk>C<unk>O<unk>C<unk>O<unk>CCCCCCCCCCCCC\n",
      "Pred SMILES: O<unk>C<unk>OCC<unk>OC<unk><unk>O<unk>CCCCCCCC<unk>CCCCCCCC<unk>COC<unk>OC<unk>CS<unk><unk>O<unk><unk><unk>O<unk>O<unk>C<unk>O<unk>C<unk>O<unk>C<unk>O<unk>CCCCCCCCCCCCCCCCCCCCCCCC\n",
      "\n",
      "True SMILES: O<unk>C<unk>OCC<unk>OC<unk><unk>O<unk>CCCCCCCCCCCCCCCC<unk>COC<unk>OC<unk>CS<unk><unk>O<unk><unk><unk>O<unk>O<unk>C<unk>O<unk>C<unk>O<unk>C<unk>O<unk>CCCCCCCCCCCCC\n",
      "Pred SMILES: O<unk>C<unk>OCC<unk>OC<unk><unk>O<unk>CCCCCCCCCCCCCCCC<unk>COC<unk>OC<unk>CS<unk><unk>O<unk><unk><unk>O<unk>O<unk>C<unk>O<unk>C<unk>O<unk>C<unk>O<unk>CCCCCCCCCCCCCCCCCCCCCCCCCC\n",
      "\n",
      "True SMILES: O<unk>C<unk>OCC<unk>OC<unk><unk>O<unk>CCC<unk>CCC<unk>CCC<unk>CCC<unk>CCC<unk>COC<unk>OC<unk>CS<unk><unk>O<unk><unk><unk>O<unk>O<unk>C<unk>O<unk>C<unk>O<unk>C<unk>O<unk>CCCCCCCCCCCCC\n",
      "Pred SMILES: O<unk>C<unk>OCC<unk>OC<unk><unk>O<unk>CCC<unk>CCC<unk>CCC<unk>CCC<unk>CCC<unk>COC<unk>OC<unk>CS<unk><unk>O<unk><unk><unk>O<unk>O<unk>C<unk>O<unk>C<unk>O<unk>C<unk>O<unk>CCCCCCCCCCCCCCCCCCCCCC\n",
      "\n",
      "True SMILES: O<unk>C<unk>OCC<unk>OC<unk><unk>O<unk>CCCCCC<unk>CCC<unk>CCC<unk>CCC<unk>COC<unk>OC<unk>CS<unk><unk>O<unk><unk><unk>O<unk>O<unk>C<unk>O<unk>C<unk>O<unk>C<unk>O<unk>CCCCCCCCCCCCC\n",
      "Pred SMILES: O<unk>C<unk>OCC<unk>OC<unk><unk>O<unk>CCCCCC<unk>CCC<unk>CCC<unk>CCC<unk>COC<unk>OC<unk>CS<unk><unk>O<unk><unk><unk>O<unk>O<unk>C<unk>O<unk>C<unk>O<unk>C<unk>O<unk>CCCCCCCCCCCCCCCCCCCCCCO\n",
      "\n",
      "True SMILES: O<unk>C<unk>OCC<unk>OC<unk><unk>O<unk>CCCCCCCC<unk>CCC<unk>CCCC<unk>COC<unk>OC<unk>CS<unk><unk>O<unk><unk><unk>O<unk>O<unk>C<unk>O<unk>C<unk>O<unk>C<unk>O<unk>CCCCCCCCCCCCC\n",
      "Pred SMILES: O<unk>C<unk>OCC<unk>OC<unk><unk>O<unk>CCCCCCCC<unk>CCC<unk>CCCC<unk>COC<unk>OC<unk>CS<unk><unk>O<unk><unk><unk>O<unk>O<unk>C<unk>O<unk>C<unk>O<unk>C<unk>O<unk>CCCCCCCCCCCCCCCCCCCCCCCC\n",
      "\n",
      "True SMILES: O<unk>C<unk>OCC<unk>OC<unk><unk>O<unk>CCCC<unk>CCC<unk>CCC<unk>CCC<unk>CCC<unk>CCC<unk>COC<unk>OC<unk>CS<unk><unk>O<unk><unk><unk>O<unk>O<unk>C<unk>O<unk>C<unk>O<unk>C<unk>O<unk>CCCCCCCC<unk>CCCC\n",
      "Pred SMILES: O<unk>C<unk>OCC<unk>OC<unk><unk>O<unk>CCCC<unk>CCC<unk>CCC<unk>CCC<unk>CCC<unk>CCC<unk>COC<unk>OC<unk>CS<unk><unk>O<unk><unk><unk>O<unk>O<unk>C<unk>O<unk>C<unk>O<unk>C<unk>O<unk>CCCCCCCC<unk>CCCCCCCC\n",
      "\n",
      "True SMILES: O<unk>C<unk>OCC<unk>OC<unk><unk>O<unk>CCCCCCC<unk>CCC<unk>CCC<unk>CCC<unk>CCC<unk>COC<unk>OC<unk>CS<unk><unk>O<unk><unk><unk>O<unk>O<unk>C<unk>O<unk>C<unk>O<unk>C<unk>O<unk>CCCCCCCC<unk>CCCC\n",
      "Pred SMILES: O<unk>C<unk>OCC<unk>OC<unk><unk>O<unk>CCCCCCC<unk>CCC<unk>CCC<unk>CCC<unk>CCC<unk>COC<unk>OC<unk>CS<unk><unk>O<unk><unk><unk>O<unk>O<unk>C<unk>O<unk>C<unk>O<unk>C<unk>O<unk>CCCCCCCC<unk>CCCCCCCCC\n",
      "\n",
      "True SMILES: O<unk>C<unk>OCC<unk>OC<unk><unk>O<unk>CCCCCCCCCC<unk>CCC<unk>CCC<unk>CCC<unk>COC<unk>OC<unk>CS<unk><unk>O<unk><unk><unk>O<unk>O<unk>C<unk>O<unk>C<unk>O<unk>C<unk>O<unk>CCCCCCCC<unk>CCCC\n",
      "Pred SMILES: O<unk>C<unk>OCC<unk>OC<unk><unk>O<unk>CCCCCCCCCC<unk>CCC<unk>CCC<unk>CCC<unk>COC<unk>OC<unk>CS<unk><unk>O<unk><unk><unk>O<unk>O<unk>C<unk>O<unk>C<unk>O<unk>C<unk>O<unk>CCCCCCCC<unk>CCCCCCCCCC\n",
      "\n",
      "True SMILES: O<unk>C<unk>OCC<unk>OC<unk><unk>O<unk>CCCCCCCCCC<unk>CCC<unk>CCCCCC<unk>COC<unk>OC<unk>CS<unk><unk>O<unk><unk><unk>O<unk>O<unk>C<unk>O<unk>C<unk>O<unk>C<unk>O<unk>CCCCCCCC<unk>CCCC\n",
      "Pred SMILES: O<unk>C<unk>OCC<unk>OC<unk><unk>O<unk>CCCCCCCCCC<unk>CCC<unk>CCCCCC<unk>COC<unk>OC<unk>CS<unk><unk>O<unk><unk><unk>O<unk>O<unk>C<unk>O<unk>C<unk>O<unk>C<unk>O<unk>CCCCCCCC<unk>CCCCCCCCCCC\n",
      "\n",
      "True SMILES: O<unk>C<unk>OCC<unk>OC<unk><unk>O<unk>CCCCCCCCCC<unk>CCCCCCCCC<unk>COC<unk>OC<unk>CS<unk><unk>O<unk><unk><unk>O<unk>O<unk>C<unk>O<unk>C<unk>O<unk>C<unk>O<unk>CCCCCCCC<unk>CCCC\n",
      "Pred SMILES: O<unk>C<unk>OCC<unk>OC<unk><unk>O<unk>CCCCCCCCCC<unk>CCCCCCCCC<unk>COC<unk>OC<unk>CS<unk><unk>O<unk><unk><unk>O<unk>O<unk>C<unk>O<unk>C<unk>O<unk>C<unk>O<unk>CCCCCCCC<unk>CCCCCCCCCCC\n",
      "\n",
      "True SMILES: O<unk>C<unk>OCC<unk>OC<unk><unk>O<unk>CCCCCCCCCCCCCCCCCCCCCCCCC<unk>COC<unk>OC<unk>CS<unk><unk>O<unk><unk><unk>O<unk>O<unk>C<unk>O<unk>C<unk>O<unk>C<unk>O<unk>CCCCCCCCCCCC\n",
      "Pred SMILES: O<unk>C<unk>OCC<unk>OC<unk><unk>O<unk>CCCCCCCCCCCCCCCCCCCCCCCCC<unk>COC<unk>OC<unk>CS<unk><unk>O<unk><unk><unk>O<unk>O<unk>C<unk>O<unk>C<unk>O<unk>C<unk>O<unk>CCCCCCCCCCCCCCCCCCCC\n",
      "\n",
      "True SMILES: O<unk>C<unk>OCC<unk>OC<unk><unk>O<unk>CCCCCCCCCCCCCCCCCCCCCCCC<unk>COC<unk>OC<unk>CS<unk><unk>O<unk><unk><unk>O<unk>O<unk>C<unk>O<unk>C<unk>O<unk>C<unk>O<unk>CCCCCCCCCCCC\n",
      "Pred SMILES: O<unk>C<unk>OCC<unk>OC<unk><unk>O<unk>CCCCCCCCCCCCCCCCCCCCCCCC<unk>COC<unk>OC<unk>CS<unk><unk>O<unk><unk><unk>O<unk>O<unk>C<unk>O<unk>C<unk>O<unk>C<unk>O<unk>CCCCCCCCCCCCCCCCCCCCC\n",
      "\n",
      "True SMILES: O<unk>C<unk>OCC<unk>OC<unk><unk>O<unk>CCCCCCCCCCC<unk>CCC<unk>CCC<unk>CCC<unk>CCC<unk>COC<unk>OC<unk>CS<unk><unk>O<unk><unk><unk>O<unk>O<unk>C<unk>O<unk>C<unk>O<unk>C<unk>O<unk>CCCCCCCCCCCC\n",
      "Pred SMILES: O<unk>C<unk>OCC<unk>OC<unk><unk>O<unk>CCCCCCCCCCC<unk>CCC<unk>CCC<unk>CCC<unk>CCC<unk>COC<unk>OC<unk>CS<unk><unk>O<unk><unk><unk>O<unk>O<unk>C<unk>O<unk>C<unk>O<unk>C<unk>O<unk>CCCCCCCCCCCCCCCCCC\n",
      "\n",
      "True SMILES: O<unk>C<unk>OCC<unk>OC<unk><unk>O<unk>CCCCCCCCCCCC<unk>CCC<unk>CCCCCCCC<unk>COC<unk>OC<unk>CS<unk><unk>O<unk><unk><unk>O<unk>O<unk>C<unk>O<unk>C<unk>O<unk>C<unk>O<unk>CCCCCCCCCCCC\n",
      "Pred SMILES: O<unk>C<unk>OCC<unk>OC<unk><unk>O<unk>CCCCCCCCCCCC<unk>CCC<unk>CCCCCCCC<unk>COC<unk>OC<unk>CS<unk><unk>O<unk><unk><unk>O<unk>O<unk>C<unk>O<unk>C<unk>O<unk>C<unk>O<unk>CCCCCCCCCCCCCCCCCCCC\n",
      "\n",
      "True SMILES: O<unk>C<unk>OCC<unk>OC<unk><unk>O<unk>CCCCCCCCCCCC<unk>CCCCCCCCCCC<unk>COC<unk>OC<unk>CS<unk><unk>O<unk><unk><unk>O<unk>O<unk>C<unk>O<unk>C<unk>O<unk>C<unk>O<unk>CCCCCCCCCCCC\n",
      "Pred SMILES: O<unk>C<unk>OCC<unk>OC<unk><unk>O<unk>CCCCCCCCCCCC<unk>CCCCCCCCCCC<unk>COC<unk>OC<unk>CS<unk><unk>O<unk><unk><unk>O<unk>O<unk>C<unk>O<unk>C<unk>O<unk>C<unk>O<unk>CCCCCCCCCCCCCCCCCCCCC\n",
      "\n",
      "True SMILES: O<unk>C<unk>OCC<unk>OC<unk><unk>O<unk>CCCCCCCC<unk>CCC<unk>CCCCC<unk>COC<unk>OC<unk>CS<unk><unk>O<unk><unk><unk>O<unk>O<unk>C<unk>O<unk>C<unk>O<unk>C<unk>O<unk>CCCCCCCCCCCC\n",
      "Pred SMILES: O<unk>C<unk>OCC<unk>OC<unk><unk>O<unk>CCCCCCCC<unk>CCC<unk>CCCCC<unk>COC<unk>OC<unk>CS<unk><unk>O<unk><unk><unk>O<unk>O<unk>C<unk>O<unk>C<unk>O<unk>C<unk>O<unk>CCCCCCCCCCCCCCCCCCCCCC\n",
      "\n",
      "True SMILES: O<unk>C<unk>OCC<unk>OC<unk><unk>O<unk>CCCCCCCC<unk>CCCCCCCC<unk>COC<unk>OC<unk>CS<unk><unk>O<unk><unk><unk>O<unk>O<unk>C<unk>O<unk>C<unk>O<unk>C<unk>O<unk>CCCCCCCCCCCC\n",
      "Pred SMILES: O<unk>C<unk>OCC<unk>OC<unk><unk>O<unk>CCCCCCCC<unk>CCCCCCCC<unk>COC<unk>OC<unk>CS<unk><unk>O<unk><unk><unk>O<unk>O<unk>C<unk>O<unk>C<unk>O<unk>C<unk>O<unk>CCCCCCCCCCCCCCCCCCCCCCC\n",
      "\n",
      "True SMILES: O<unk>C<unk>OCC<unk>OC<unk><unk>O<unk>CCCCCCCCCCCCCCCC<unk>COC<unk>OC<unk>CS<unk><unk>O<unk><unk><unk>O<unk>O<unk>C<unk>O<unk>C<unk>O<unk>C<unk>O<unk>CCCCCCCCCCCC\n",
      "Pred SMILES: O<unk>C<unk>OCC<unk>OC<unk><unk>O<unk>CCCCCCCCCCCCCCCC<unk>COC<unk>OC<unk>CS<unk><unk>O<unk><unk><unk>O<unk>O<unk>C<unk>O<unk>C<unk>O<unk>C<unk>O<unk>CCCCCCCCCCCCCCCCCCCCCCCC\n",
      "\n",
      "True SMILES: O<unk>C<unk>OCC<unk>OC<unk><unk>O<unk>CCC<unk>CCC<unk>CCC<unk>CCC<unk>CCC<unk>COC<unk>OC<unk>CS<unk><unk>O<unk><unk><unk>O<unk>O<unk>C<unk>O<unk>C<unk>O<unk>C<unk>O<unk>CCCCCCCCCCCC\n",
      "Pred SMILES: O<unk>C<unk>OCC<unk>OC<unk><unk>O<unk>CCC<unk>CCC<unk>CCC<unk>CCC<unk>CCC<unk>COC<unk>OC<unk>CS<unk><unk>O<unk><unk><unk>O<unk>O<unk>C<unk>O<unk>C<unk>O<unk>C<unk>O<unk>CCCCCCCCCCCCCCCCCCCC\n",
      "\n",
      "True SMILES: O<unk>C<unk>OCC<unk>OC<unk><unk>O<unk>CCCCCC<unk>CCC<unk>CCC<unk>CCC<unk>COC<unk>OC<unk>CS<unk><unk>O<unk><unk><unk>O<unk>O<unk>C<unk>O<unk>C<unk>O<unk>C<unk>O<unk>CCCCCCCCCCCC\n",
      "Pred SMILES: O<unk>C<unk>OCC<unk>OC<unk><unk>O<unk>CCCCCC<unk>CCC<unk>CCC<unk>CCC<unk>COC<unk>OC<unk>CS<unk><unk>O<unk><unk><unk>O<unk>O<unk>C<unk>O<unk>C<unk>O<unk>C<unk>O<unk>CCCCCCCCCCCCCCCCCCCCCC\n",
      "\n",
      "True SMILES: O<unk>C<unk>OCC<unk>OC<unk><unk>O<unk>CCCCCCCCCC<unk>CCC<unk>CCCCCCC<unk>COC<unk>OC<unk>CS<unk><unk>O<unk><unk><unk>O<unk>O<unk>C<unk>O<unk>C<unk>O<unk>C<unk>O<unk>CCCCCCCCCCC\n",
      "Pred SMILES: O<unk>C<unk>OCC<unk>OC<unk><unk>O<unk>CCCCCCCCCC<unk>CCC<unk>CCCCCCC<unk>COC<unk>OC<unk>CS<unk><unk>O<unk><unk><unk>O<unk>O<unk>C<unk>O<unk>C<unk>O<unk>C<unk>O<unk>CCCCCCCCCCCC\n",
      "\n",
      "True SMILES: O<unk>C<unk>OCC<unk>OC<unk><unk>O<unk>CCCCCCCCCC<unk>CCCCCCCCCC<unk>COC<unk>OC<unk>CS<unk><unk>O<unk><unk><unk>O<unk>O<unk>C<unk>O<unk>C<unk>O<unk>C<unk>O<unk>CCCCCCCCCCC\n",
      "Pred SMILES: O<unk>C<unk>OCC<unk>OC<unk><unk>O<unk>CCCCCCCCCC<unk>CCCCCCCCCC<unk>COC<unk>OC<unk>CS<unk><unk>O<unk><unk><unk>O<unk>O<unk>C<unk>O<unk>C<unk>O<unk>C<unk>O<unk>CCCCCCCCCCCCC\n",
      "\n",
      "True SMILES: O<unk>C<unk>OCC<unk>OC<unk><unk>O<unk>CCCCCCCCCCCCCCCCCCCC<unk>COC<unk>OC<unk>CS<unk><unk>O<unk><unk><unk>O<unk>O<unk>C<unk>O<unk>C<unk>O<unk>C<unk>O<unk>CCCCCCCCCCC\n",
      "Pred SMILES: O<unk>C<unk>OCC<unk>OC<unk><unk>O<unk>CCCCCCCCCCCCCCCCCCCC<unk>COC<unk>OC<unk>CS<unk><unk>O<unk><unk><unk>O<unk>O<unk>C<unk>O<unk>C<unk>O<unk>C<unk>O<unk>CCCCCCCCCCCCCC\n",
      "\n",
      "True SMILES: O<unk>C<unk>OCC<unk>OC<unk><unk>O<unk>CCCC<unk>CCC<unk>CCC<unk>CCC<unk>CCC<unk>CCC<unk>COC<unk>OC<unk>CS<unk><unk>O<unk><unk><unk>O<unk>O<unk>C<unk>O<unk>C<unk>O<unk>C<unk>O<unk>CCCCCCCCCCC\n",
      "Pred SMILES: O<unk>C<unk>OCC<unk>OC<unk><unk>O<unk>CCCC<unk>CCC<unk>CCC<unk>CCC<unk>CCC<unk>CCC<unk>COC<unk>OC<unk>CS<unk><unk>O<unk><unk><unk>O<unk>O<unk>C<unk>O<unk>C<unk>O<unk>C<unk>O<unk>CCCCCCCCCCCC\n",
      "\n",
      "True SMILES: O<unk>C<unk>OCC<unk>OC<unk><unk>O<unk>CCCCCCC<unk>CCC<unk>CCC<unk>CCC<unk>CCC<unk>COC<unk>OC<unk>CS<unk><unk>O<unk><unk><unk>O<unk>O<unk>C<unk>O<unk>C<unk>O<unk>C<unk>O<unk>CCCCCCCCCCC\n",
      "Pred SMILES: O<unk>C<unk>OCC<unk>OC<unk><unk>O<unk>CCCCCCC<unk>CCC<unk>CCC<unk>CCC<unk>CCC<unk>COC<unk>OC<unk>CS<unk><unk>O<unk><unk><unk>O<unk>O<unk>C<unk>O<unk>C<unk>O<unk>C<unk>O<unk>CCCCCCCCCCCC\n",
      "\n",
      "True SMILES: O<unk>C<unk>OCC<unk>OC<unk><unk>O<unk>CCCCCCCCCCC<unk>COC<unk>OC<unk>CS<unk><unk>O<unk><unk><unk>O<unk>O<unk>C<unk>O<unk>C<unk>O<unk>C<unk>O<unk>CCCCCCCCCCC\n",
      "Pred SMILES: O<unk>C<unk>OCC<unk>OC<unk><unk>O<unk>CCCCCCCCCCC<unk>COC<unk>OC<unk>CS<unk><unk>O<unk><unk><unk>O<unk>O<unk>C<unk>O<unk>C<unk>O<unk>C<unk>O<unk>CCCCCCCCCCCCCCCCCCCCCCCCCCCCCCCCCCCCCCCCCCCCCC<unk>COC<unk>\n",
      "\n",
      "True SMILES: O<unk>C<unk>NC<unk>COP<unk><unk>O<unk><unk><unk>O<unk><unk><unk>OCC<unk>N<unk><unk><unk>C<unk><unk>C<unk>C<unk>C<unk>O<unk>C<unk>CCCC<unk>CCCC<unk>CCCCCCCCCCCCCCCCCC<unk>CCCCCCCCCCCCCCCCCCCC<unk>CCC<unk>CCCCCCCCCCCCCCCCCC\n",
      "Pred SMILES: O<unk>C<unk>NC<unk>COP<unk><unk>O<unk><unk><unk>O<unk><unk><unk>OCC<unk>N<unk><unk><unk>C<unk><unk>C<unk>C<unk>C<unk>O<unk>C<unk>CCCC<unk>CCCC<unk>CCCCCCCCCCCCCCCCCC<unk>CCCCCCCCCCCCCCCCCCCC<unk>CCC<unk>CCCCCCCCCCCCCCCCCC\n",
      "\n",
      "True SMILES: O<unk>C<unk>NC<unk>COP<unk><unk>O<unk><unk><unk>O<unk><unk><unk>OCC<unk>N<unk><unk><unk>C<unk><unk>C<unk>C<unk>C<unk>O<unk>C<unk>CCCC<unk>CCCC<unk>CCCCCCCCCCCCCCCCCC<unk>CCCCCCCCCCCCCCCCCCCC<unk>CCCCCCCCCCCCCCCCCCCCC\n",
      "Pred SMILES: O<unk>C<unk>NC<unk>COP<unk><unk>O<unk><unk><unk>O<unk><unk><unk>OCC<unk>N<unk><unk><unk>C<unk><unk>C<unk>C<unk>C<unk>O<unk>C<unk>CCCC<unk>CCCC<unk>CCCCCCCCCCCCCCCCCC<unk>CCCCCCCCCCCCCCCCCCCC<unk>CCCCCCCCCCCCCCCCCCCCC\n",
      "\n",
      "True SMILES: O<unk>C<unk>NC<unk>COP<unk><unk>O<unk><unk><unk>O<unk><unk><unk>OCC<unk>N<unk><unk><unk>C<unk><unk>C<unk>C<unk>C<unk>O<unk>C<unk>CCCC<unk>CCCC<unk>CCCCCCCCCCCCCCCCCC<unk>CCCCCCCCCCCCCCCCCCCCCCCCCCCCCCCCCCCCCCCCC\n",
      "Pred SMILES: O<unk>C<unk>NC<unk>COP<unk><unk>O<unk><unk><unk>O<unk><unk><unk>OCC<unk>N<unk><unk><unk>C<unk><unk>C<unk>C<unk>C<unk>O<unk>C<unk>CCCC<unk>CCCC<unk>CCCCCCCCCCCCCCCCCC<unk>CCCCCCCCCCCCCCCCCCCCCCCCCCCCCCCCCCCCCCCCCO\n",
      "\n",
      "True SMILES: O<unk>C<unk>NC<unk>COP<unk><unk>O<unk><unk><unk>O<unk><unk><unk>OCC<unk>N<unk><unk><unk>C<unk><unk>C<unk>C<unk>C<unk>O<unk>C<unk>CCCC<unk>CCCC<unk>CCCCCCCCCCCCCCCCCC<unk>CCCCCCCCCCCCCCCCCCCC<unk>CCC<unk>CCCCCCCCCCCCCCCC\n",
      "Pred SMILES: O<unk>C<unk>NC<unk>COP<unk><unk>O<unk><unk><unk>O<unk><unk><unk>OCC<unk>N<unk><unk><unk>C<unk><unk>C<unk>C<unk>C<unk>O<unk>C<unk>CCCC<unk>CCCC<unk>CCCCCCCCCCCCCCCCCC<unk>CCCCCCCCCCCCCCCCCCCC<unk>CCC<unk>CCCCCCCCCCCCCCCCO\n",
      "\n",
      "True SMILES: O<unk>C<unk>NC<unk>COP<unk><unk>O<unk><unk><unk>O<unk><unk><unk>OCC<unk>N<unk><unk><unk>C<unk><unk>C<unk>C<unk>C<unk>O<unk>C<unk>CCCC<unk>CCCC<unk>CCCCCCCCCCCCCCCCCC<unk>CCCCCCCCCCCCCCCCCCCCCCCCCCC\n",
      "Pred SMILES: O<unk>C<unk>NC<unk>COP<unk><unk>O<unk><unk><unk>O<unk><unk><unk>OCC<unk>N<unk><unk><unk>C<unk><unk>C<unk>C<unk>C<unk>O<unk>C<unk>CCCC<unk>CCCC<unk>CCCCCCCCCCCCCCCCCC<unk>CCCCCCCCCCCCCCCCCCCCCCCCCCCC\n",
      "\n",
      "True SMILES: O<unk>C<unk>NC<unk>COP<unk><unk>O<unk><unk><unk>O<unk><unk><unk>OCC<unk>N<unk><unk><unk>C<unk><unk>C<unk>C<unk>C<unk>O<unk>C<unk>CCCC<unk>CCCC<unk>CCCCCCCCCCCCCCCCCC<unk>CCCCCCCCCCC<unk>CCCCCCCCCCCCCCC\n",
      "Pred SMILES: O<unk>C<unk>NC<unk>COP<unk><unk>O<unk><unk><unk>O<unk><unk><unk>OCC<unk>N<unk><unk><unk>C<unk><unk>C<unk>C<unk>C<unk>O<unk>C<unk>CCCC<unk>CCCC<unk>CCCCCCCCCCCCCCCCCC<unk>CCCCCCCCCCC<unk>CCCCCCCCCCCCCCCC\n",
      "\n",
      "True SMILES: O<unk>C<unk>NC<unk>COP<unk><unk>O<unk><unk><unk>O<unk><unk><unk>OCC<unk>N<unk><unk><unk>C<unk><unk>C<unk>C<unk>C<unk>O<unk>C<unk>CCCC<unk>CCCC<unk>CCCCCCCCCCCCCCCCCC<unk>CCCCCCCCCCCCCCCCCCCCCCCCCC\n",
      "Pred SMILES: O<unk>C<unk>NC<unk>COP<unk><unk>O<unk><unk><unk>O<unk><unk><unk>OCC<unk>N<unk><unk><unk>C<unk><unk>C<unk>C<unk>C<unk>O<unk>C<unk>CCCC<unk>CCCC<unk>CCCCCCCCCCCCCCCCCC<unk>CCCCCCCCCCCCCCCCCCCCCCCCCC\n",
      "\n",
      "True SMILES: O<unk>C<unk>NC<unk>COP<unk><unk>O<unk><unk><unk>O<unk><unk><unk>OCC<unk>N<unk><unk><unk>C<unk><unk>C<unk>C<unk>C<unk>O<unk>C<unk>CCCC<unk>CCCC<unk>CCCCCCCCCCCCCCCCCC<unk>CCCCCCCCCC<unk>CCC<unk>CCCCCCCCCCCC\n",
      "Pred SMILES: O<unk>C<unk>NC<unk>COP<unk><unk>O<unk><unk><unk>O<unk><unk><unk>OCC<unk>N<unk><unk><unk>C<unk><unk>C<unk>C<unk>C<unk>O<unk>C<unk>CCCC<unk>CCCC<unk>CCCCCCCCCCCCCCCCCC<unk>CCCCCCCCCC<unk>CCC<unk>CCCCCCCCCCCCC\n",
      "\n",
      "True SMILES: O<unk>C<unk>NC<unk>COP<unk><unk>O<unk><unk><unk>O<unk><unk><unk>OCC<unk>N<unk><unk><unk>C<unk><unk>C<unk>C<unk>C<unk>O<unk>C<unk>CCCC<unk>CCCC<unk>CCCCCCCCCCCCCCCCCC<unk>CCCCCCCCCC<unk>CCCCCCCCCCCCCCC\n",
      "Pred SMILES: O<unk>C<unk>NC<unk>COP<unk><unk>O<unk><unk><unk>O<unk><unk><unk>OCC<unk>N<unk><unk><unk>C<unk><unk>C<unk>C<unk>C<unk>O<unk>C<unk>CCCC<unk>CCCC<unk>CCCCCCCCCCCCCCCCCC<unk>CCCCCCCCCC<unk>CCCCCCCCCCCCCCC\n",
      "\n",
      "True SMILES: O<unk>C<unk>NC<unk>COP<unk><unk>O<unk><unk><unk>O<unk><unk><unk>OCC<unk>N<unk><unk><unk>C<unk><unk>C<unk>C<unk>C<unk>O<unk>C<unk>CCCC<unk>CCCC<unk>CCCCCCCCCCCCCCCCCC<unk>CCCCCCCC<unk>CCCCC\n",
      "Pred SMILES: O<unk>C<unk>NC<unk>COP<unk><unk>O<unk><unk><unk>O<unk><unk><unk>OCC<unk>N<unk><unk><unk>C<unk><unk>C<unk>C<unk>C<unk>O<unk>C<unk>CCCC<unk>CCCC<unk>CCCCCCCCCCCCCCCCCC<unk>CCCCCCCC<unk>CCCCCCCCCCCCCCCCCCCCCCC\n",
      "\n",
      "True SMILES: O<unk>C<unk>NC<unk>COP<unk><unk>O<unk><unk><unk>O<unk><unk><unk>OCC<unk>N<unk><unk><unk>C<unk><unk>C<unk>C<unk>C<unk>O<unk>C<unk>CCCC<unk>CCCC<unk>CCCCCCCCCCCCCCCCCC<unk>CCCCCCCCCCCCC\n",
      "Pred SMILES: O<unk>C<unk>NC<unk>COP<unk><unk>O<unk><unk><unk>O<unk><unk><unk>OCC<unk>N<unk><unk><unk>C<unk><unk>C<unk>C<unk>C<unk>O<unk>C<unk>CCCC<unk>CCCC<unk>CCCCCCCCCCCCCCCCCC<unk>CCCCCCCCCCCCCCCCCCCCCCCCCCCCCCCCCCO\n",
      "\n",
      "True SMILES: O<unk>C<unk>NC<unk>COP<unk><unk>O<unk><unk><unk>O<unk><unk><unk>OCC<unk>N<unk><unk><unk>C<unk><unk>C<unk>C<unk>C<unk>O<unk>C<unk>CCCC<unk>CCCC<unk>CCCCCCCCCCCCCCCCCC<unk>CCCCCCC<unk>CCCCC\n",
      "Pred SMILES: O<unk>C<unk>NC<unk>COP<unk><unk>O<unk><unk><unk>O<unk><unk><unk>OCC<unk>N<unk><unk><unk>C<unk><unk>C<unk>C<unk>C<unk>O<unk>C<unk>CCCC<unk>CCCC<unk>CCCCCCCCCCCCCCCCCC<unk>CCCCCCC<unk>CCCCCCCCCCCCCCCCCCCCCCCCCCO\n",
      "\n",
      "True SMILES: O<unk>C<unk>NC<unk>COP<unk><unk>O<unk><unk><unk>O<unk><unk><unk>OCC<unk>N<unk><unk><unk>C<unk><unk>C<unk>C<unk>C<unk>O<unk>C<unk>CCCC<unk>CCCC<unk>CCCCCCCCCCCCCCCCCC<unk>CCCCCCCCCCCC\n",
      "Pred SMILES: O<unk>C<unk>NC<unk>COP<unk><unk>O<unk><unk><unk>O<unk><unk><unk>OCC<unk>N<unk><unk><unk>C<unk><unk>C<unk>C<unk>C<unk>O<unk>C<unk>CCCC<unk>CCCC<unk>CCCCCCCCCCCCCCCCCC<unk>CCCCCCCCCCCCCCCCCCCCCCCCCCCCCCCCCCO\n",
      "\n",
      "True SMILES: O<unk>C<unk>NC<unk>COP<unk><unk>O<unk><unk><unk>O<unk><unk><unk>OCC<unk>N<unk><unk><unk>C<unk><unk>C<unk>C<unk>C<unk>O<unk>C<unk>CCCC<unk>CCCC<unk>CCCCCCCCCCCCCCCCCC<unk>CCCC<unk>CCCCCCC\n",
      "Pred SMILES: O<unk>C<unk>NC<unk>COP<unk><unk>O<unk><unk><unk>O<unk><unk><unk>OCC<unk>N<unk><unk><unk>C<unk><unk>C<unk>C<unk>C<unk>O<unk>C<unk>CCCC<unk>CCCC<unk>CCCCCCCCCCCCCCCCCC<unk>CCCC<unk>CCCCCCCCCCCCCCCCCCCCCCCCCCCCCO\n",
      "\n",
      "True SMILES: O<unk>C<unk>NC<unk>COP<unk><unk>O<unk><unk><unk>O<unk><unk><unk>OCC<unk>N<unk><unk><unk>C<unk><unk>C<unk>C<unk>C<unk>O<unk>C<unk>CCCC<unk>CCCCCCCCCCCCCCCCCCCCCC<unk>CCCCCCCCCCCCCCCCCCCCCCCCCCCCC\n",
      "Pred SMILES: O<unk>C<unk>NC<unk>COP<unk><unk>O<unk><unk><unk>O<unk><unk><unk>OCC<unk>N<unk><unk><unk>C<unk><unk>C<unk>C<unk>C<unk>O<unk>C<unk>CCCC<unk>CCCCCCCCCCCCCCCCCCCCCC<unk>CCCCCCCCCCCCCCCCCCCCCCCCCCCCCC\n",
      "\n",
      "True SMILES: O<unk>C<unk>NC<unk>COP<unk><unk>O<unk><unk><unk>O<unk><unk><unk>OCC<unk>N<unk><unk><unk>C<unk><unk>C<unk>C<unk>C<unk>O<unk>C<unk>CCCC<unk>CCCCCCCCCCCCCCCCCCCCCC<unk>CCCCCCCCCCCCC<unk>CCCCCCCCCCCCCCC\n",
      "Pred SMILES: O<unk>C<unk>NC<unk>COP<unk><unk>O<unk><unk><unk>O<unk><unk><unk>OCC<unk>N<unk><unk><unk>C<unk><unk>C<unk>C<unk>C<unk>O<unk>C<unk>CCCC<unk>CCCCCCCCCCCCCCCCCCCCCC<unk>CCCCCCCCCCCCC<unk>CCCCCCCCCCCCCCCC\n",
      "\n",
      "True SMILES: O<unk>C<unk>NC<unk>COP<unk><unk>O<unk><unk><unk>O<unk><unk><unk>OCC<unk>N<unk><unk><unk>C<unk><unk>C<unk>C<unk>C<unk>O<unk>C<unk>CCCC<unk>CCCCCCCCCCCCCCCCCCCCCC<unk>CCCCCCCCCCCCCCCCCCCCCCCCCCCC\n",
      "Pred SMILES: O<unk>C<unk>NC<unk>COP<unk><unk>O<unk><unk><unk>O<unk><unk><unk>OCC<unk>N<unk><unk><unk>C<unk><unk>C<unk>C<unk>C<unk>O<unk>C<unk>CCCC<unk>CCCCCCCCCCCCCCCCCCCCCC<unk>CCCCCCCCCCCCCCCCCCCCCCCCCCCC\n",
      "\n",
      "True SMILES: O<unk>C<unk>NC<unk>COP<unk><unk>O<unk><unk><unk>O<unk><unk><unk>OCC<unk>N<unk><unk><unk>C<unk><unk>C<unk>C<unk>C<unk>O<unk>C<unk>CCCC<unk>CCCCCCCCCCCCCCCCCCCCCC<unk>CCCCCCCCCCCC<unk>CCC<unk>CCCCCCCCCCCC\n",
      "Pred SMILES: O<unk>C<unk>NC<unk>COP<unk><unk>O<unk><unk><unk>O<unk><unk><unk>OCC<unk>N<unk><unk><unk>C<unk><unk>C<unk>C<unk>C<unk>O<unk>C<unk>CCCC<unk>CCCCCCCCCCCCCCCCCCCCCC<unk>CCCCCCCCCCCC<unk>CCC<unk>CCCCCCCCCCCCC\n",
      "\n",
      "True SMILES: O<unk>C<unk>NC<unk>COP<unk><unk>O<unk><unk><unk>O<unk><unk><unk>OCC<unk>N<unk><unk><unk>C<unk><unk>C<unk>C<unk>C<unk>O<unk>C<unk>CCCC<unk>CCCCCCCCCCCCCCCCCCCCCC<unk>CCCCCCCCCCCC<unk>CCCCCCCCCCCCCCC\n",
      "Pred SMILES: O<unk>C<unk>NC<unk>COP<unk><unk>O<unk><unk><unk>O<unk><unk><unk>OCC<unk>N<unk><unk><unk>C<unk><unk>C<unk>C<unk>C<unk>O<unk>C<unk>CCCC<unk>CCCCCCCCCCCCCCCCCCCCCC<unk>CCCCCCCCCCCC<unk>CCCCCCCCCCCCCCC\n",
      "\n",
      "True SMILES: O<unk>C<unk>NC<unk>COP<unk><unk>O<unk><unk><unk>O<unk><unk><unk>OCC<unk>N<unk><unk><unk>C<unk><unk>C<unk>C<unk>C<unk>O<unk>C<unk>CCCC<unk>CCCCCCCCCCCCCCCCCCCCCC<unk>CCC<unk>CCC<unk>CCCCCCCCC\n",
      "Pred SMILES: O<unk>C<unk>NC<unk>COP<unk><unk>O<unk><unk><unk>O<unk><unk><unk>OCC<unk>N<unk><unk><unk>C<unk><unk>C<unk>C<unk>C<unk>O<unk>C<unk>CCCC<unk>CCCCCCCCCCCCCCCCCCCCCC<unk>CCC<unk>CCC<unk>CCCCCCCCCCCCCCCCCCCCCCCCCCCOO\n",
      "\n",
      "True SMILES: O<unk>C<unk>NC<unk>COP<unk><unk>O<unk><unk><unk>O<unk><unk><unk>OCC<unk>N<unk><unk><unk>C<unk><unk>C<unk>C<unk>C<unk>O<unk>C<unk>CCCC<unk>CCCCCCCCCCCCCCCCCCCCCC<unk>CCCCCC<unk>CCCCCCCCC\n",
      "Pred SMILES: O<unk>C<unk>NC<unk>COP<unk><unk>O<unk><unk><unk>O<unk><unk><unk>OCC<unk>N<unk><unk><unk>C<unk><unk>C<unk>C<unk>C<unk>O<unk>C<unk>CCCC<unk>CCCCCCCCCCCCCCCCCCCCCC<unk>CCCCCC<unk>CCCCCCCCCCCCCCCCCCCCCCCCCCCCOCO\n",
      "\n",
      "True SMILES: O<unk>C<unk>NC<unk>COP<unk><unk>O<unk><unk><unk>O<unk><unk><unk>OCC<unk>N<unk><unk><unk>C<unk><unk>C<unk>C<unk>C<unk>O<unk>C<unk>CCCC<unk>CCCCCCCCCCCCCCCCCCCCCC<unk>CCCCCCCCCCCCCCC\n",
      "Pred SMILES: O<unk>C<unk>NC<unk>COP<unk><unk>O<unk><unk><unk>O<unk><unk><unk>OCC<unk>N<unk><unk><unk>C<unk><unk>C<unk>C<unk>C<unk>O<unk>C<unk>CCCC<unk>CCCCCCCCCCCCCCCCCCCCCC<unk>CCCCCCCCCCCCCCCCCCCCCCCCCCCCCCCCCCCO\n",
      "\n",
      "True SMILES: O<unk>C<unk>NC<unk>COP<unk><unk>O<unk><unk><unk>O<unk><unk><unk>OCC<unk>N<unk><unk><unk>C<unk><unk>C<unk>C<unk>C<unk>O<unk>C<unk>CCCC<unk>CCCCCCCCCCCCCCCCCCCCCC<unk>CCCCCCCC<unk>CCCCCC\n",
      "Pred SMILES: O<unk>C<unk>NC<unk>COP<unk><unk>O<unk><unk><unk>O<unk><unk><unk>OCC<unk>N<unk><unk><unk>C<unk><unk>C<unk>C<unk>C<unk>O<unk>C<unk>CCCC<unk>CCCCCCCCCCCCCCCCCCCCCC<unk>CCCCCCCC<unk>CCCCCCCCCCCCCCCCCCCCCCCCCO\n",
      "\n",
      "True SMILES: O<unk>C<unk>NC<unk>COP<unk><unk>O<unk><unk><unk>O<unk><unk><unk>OCC<unk>N<unk><unk><unk>C<unk><unk>C<unk>C<unk>C<unk>O<unk>C<unk>CCCC<unk>CCCCCCCCCCCCCCCCCCCCCC<unk>CCCCCCCCCCCCCC\n",
      "Pred SMILES: O<unk>C<unk>NC<unk>COP<unk><unk>O<unk><unk><unk>O<unk><unk><unk>OCC<unk>N<unk><unk><unk>C<unk><unk>C<unk>C<unk>C<unk>O<unk>C<unk>CCCC<unk>CCCCCCCCCCCCCCCCCCCCCC<unk>CCCCCCCCCCCCCCCCCCCCCCCCCCCCCCCCCCCOO\n",
      "\n",
      "True SMILES: O<unk>C<unk>NC<unk>COP<unk><unk>O<unk><unk><unk>O<unk><unk><unk>OCC<unk>N<unk><unk><unk>C<unk><unk>C<unk>C<unk>C<unk>O<unk>C<unk>CCCCCCCCCCCCCCCCCCCCCCCCCC<unk>CCCCCCCCCCCCCCCCCCCCCCCCCCCCCCC\n",
      "Pred SMILES: O<unk>C<unk>NC<unk>COP<unk><unk>O<unk><unk><unk>O<unk><unk><unk>OCC<unk>N<unk><unk><unk>C<unk><unk>C<unk>C<unk>C<unk>O<unk>C<unk>CCCCCCCCCCCCCCCCCCCCCCCCCC<unk>CCCCCCCCCCCCCCCCCCCCCCCCCCCCCCCC\n",
      "\n",
      "True SMILES: O<unk>C<unk>NC<unk>COP<unk><unk>O<unk><unk><unk>O<unk><unk><unk>OCC<unk>N<unk><unk><unk>C<unk><unk>C<unk>C<unk>C<unk>O<unk>C<unk>CCCCCCCCCCCCCCCCCCCCCCCCCC<unk>CCCCCCCCCCCCCCC<unk>CCCCCCCCCCCCCCC\n",
      "Pred SMILES: O<unk>C<unk>NC<unk>COP<unk><unk>O<unk><unk><unk>O<unk><unk><unk>OCC<unk>N<unk><unk><unk>C<unk><unk>C<unk>C<unk>C<unk>O<unk>C<unk>CCCCCCCCCCCCCCCCCCCCCCCCCC<unk>CCCCCCCCCCCCCCC<unk>CCCCCCCCCCCCCCCC\n",
      "\n",
      "True SMILES: O<unk>C<unk>NC<unk>COP<unk><unk>O<unk><unk><unk>O<unk><unk><unk>OCC<unk>N<unk><unk><unk>C<unk><unk>C<unk>C<unk>C<unk>O<unk>C<unk>CCCCCCCCCCCCCCCCCCCCCCCCCC<unk>CCCCCCCCCCCCCCCCCCCCCCCCCCCCCC\n",
      "Pred SMILES: O<unk>C<unk>NC<unk>COP<unk><unk>O<unk><unk><unk>O<unk><unk><unk>OCC<unk>N<unk><unk><unk>C<unk><unk>C<unk>C<unk>C<unk>O<unk>C<unk>CCCCCCCCCCCCCCCCCCCCCCCCCC<unk>CCCCCCCCCCCCCCCCCCCCCCCCCCCCCC\n",
      "\n",
      "True SMILES: O<unk>C<unk>NC<unk>COP<unk><unk>O<unk><unk><unk>O<unk><unk><unk>OCC<unk>N<unk><unk><unk>C<unk><unk>C<unk>C<unk>C<unk>O<unk>C<unk>CCCCCCCCCCCCCCCCCCCCCCCCCC<unk>CCCCCCCCCCCCCC<unk>CCC<unk>CCCCCCCCCCCC\n",
      "Pred SMILES: O<unk>C<unk>NC<unk>COP<unk><unk>O<unk><unk><unk>O<unk><unk><unk>OCC<unk>N<unk><unk><unk>C<unk><unk>C<unk>C<unk>C<unk>O<unk>C<unk>CCCCCCCCCCCCCCCCCCCCCCCCCC<unk>CCCCCCCCCCCCCC<unk>CCC<unk>CCCCCCCCCCCCC\n",
      "\n",
      "True SMILES: O<unk>C<unk>NC<unk>COP<unk><unk>O<unk><unk><unk>O<unk><unk><unk>OCC<unk>N<unk><unk><unk>C<unk><unk>C<unk>C<unk>C<unk>O<unk>C<unk>CCCCCCCCCCCCCCCCCCCCCCCCCC<unk>CCCCCCCCCCCCCC<unk>CCCCCCCCCCCCCCC\n",
      "Pred SMILES: O<unk>C<unk>NC<unk>COP<unk><unk>O<unk><unk><unk>O<unk><unk><unk>OCC<unk>N<unk><unk><unk>C<unk><unk>C<unk>C<unk>C<unk>O<unk>C<unk>CCCCCCCCCCCCCCCCCCCCCCCCCC<unk>CCCCCCCCCCCCCC<unk>CCCCCCCCCCCCCCC\n",
      "\n",
      "True SMILES: O<unk>C<unk>NC<unk>COP<unk><unk>O<unk><unk><unk>O<unk><unk><unk>OCC<unk>N<unk><unk><unk>C<unk><unk>C<unk>C<unk>C<unk>O<unk>C<unk>CCCCCCCCCCCCCCCCCCCCCCCCCC<unk>CCCCCCCCCCCCCCCCCC\n",
      "Pred SMILES: O<unk>C<unk>NC<unk>COP<unk><unk>O<unk><unk><unk>O<unk><unk><unk>OCC<unk>N<unk><unk><unk>C<unk><unk>C<unk>C<unk>C<unk>O<unk>C<unk>CCCCCCCCCCCCCCCCCCCCCCCCCC<unk>CCCCCCCCCCCCCCCCCCCCCCCCCCCCCCCCCCCO\n",
      "\n",
      "True SMILES: O<unk>C<unk>NC<unk>COP<unk><unk>O<unk><unk><unk>O<unk><unk><unk>OCC<unk>N<unk><unk><unk>C<unk><unk>C<unk>C<unk>C<unk>O<unk>C<unk>CCCCCCCCCCCCCCCCCCCCCCCCCC<unk>CCCCCCCCC<unk>CC<unk>CCCCCC\n",
      "Pred SMILES: O<unk>C<unk>NC<unk>COP<unk><unk>O<unk><unk><unk>O<unk><unk><unk>OCC<unk>N<unk><unk><unk>C<unk><unk>C<unk>C<unk>C<unk>O<unk>C<unk>CCCCCCCCCCCCCCCCCCCCCCCCCC<unk>CCCCCCCCC<unk>CC<unk>CCCCCCCCCCCCCCCCCCCCCCCO\n",
      "\n",
      "True SMILES: O<unk>C<unk>NC<unk>COP<unk><unk>O<unk><unk><unk>O<unk><unk><unk>OCC<unk>N<unk><unk><unk>C<unk><unk>C<unk>C<unk>C<unk>O<unk>C<unk>CCCCCCCCCCCCCCCCCCCCCCCCCC<unk>CCCCCCCCCC<unk>CCCCCCC\n",
      "Pred SMILES: O<unk>C<unk>NC<unk>COP<unk><unk>O<unk><unk><unk>O<unk><unk><unk>OCC<unk>N<unk><unk><unk>C<unk><unk>C<unk>C<unk>C<unk>O<unk>C<unk>CCCCCCCCCCCCCCCCCCCCCCCCCC<unk>CCCCCCCCCC<unk>CCCCCCCCCCCCCCCCCCCCCCCO\n",
      "\n",
      "True SMILES: O<unk>C<unk>NC<unk>COP<unk><unk>O<unk><unk><unk>O<unk><unk><unk>OCC<unk>N<unk><unk><unk>C<unk><unk>C<unk>C<unk>C<unk>O<unk>C<unk>CCCCCCCCCCCCCCCCCCCCCCCCCC<unk>CCCCCCCCCCCCCCCCC\n",
      "Pred SMILES: O<unk>C<unk>NC<unk>COP<unk><unk>O<unk><unk><unk>O<unk><unk><unk>OCC<unk>N<unk><unk><unk>C<unk><unk>C<unk>C<unk>C<unk>O<unk>C<unk>CCCCCCCCCCCCCCCCCCCCCCCCCC<unk>CCCCCCCCCCCCCCCCCCCCCCCCCCCCCCCCCCCCOC\n",
      "\n",
      "True SMILES: O<unk>C<unk>NC<unk>COP<unk><unk>O<unk><unk><unk>O<unk><unk><unk>OCC<unk>N<unk><unk><unk>C<unk><unk>C<unk>C<unk>C<unk>O<unk>C<unk>CCCCCCCCCCCCCCCCCCCCCCCCCC<unk>CCCCCCCCCCCCCCCC\n",
      "Pred SMILES: O<unk>C<unk>NC<unk>COP<unk><unk>O<unk><unk><unk>O<unk><unk><unk>OCC<unk>N<unk><unk><unk>C<unk><unk>C<unk>C<unk>C<unk>O<unk>C<unk>CCCCCCCCCCCCCCCCCCCCCCCCCC<unk>CCCCCCCCCCCCCCCCCCCCCCCCCCCCCCCCCCC\n",
      "\n",
      "True SMILES: O<unk>C<unk>NC<unk>COP<unk><unk>O<unk><unk><unk>O<unk><unk><unk>OCC<unk>N<unk><unk><unk>C<unk><unk>C<unk>C<unk>C<unk>O<unk>CCCCCCCCCCCCCCCCCCCCCCCCCCC<unk>CCCCCCCCCCCCCCCCCCCCCCCCCCCCCCCCC\n",
      "Pred SMILES: O<unk>C<unk>NC<unk>COP<unk><unk>O<unk><unk><unk>O<unk><unk><unk>OCC<unk>N<unk><unk><unk>C<unk><unk>C<unk>C<unk>C<unk>O<unk>CCCCCCCCCCCCCCCCCCCCCCCCCCC<unk>CCCCCCCCCCCCCCCCCCCCCCCCCCCCCCCCCC\n",
      "\n",
      "True SMILES: O<unk>C<unk>NC<unk>COP<unk><unk>O<unk><unk><unk>O<unk><unk><unk>OCC<unk>N<unk><unk><unk>C<unk><unk>C<unk>C<unk>C<unk>O<unk>CCCCCCCCCCCCCCCCCCCCCCCCCCC<unk>CCCCCCCCCCCCCCCCC<unk>CCCCCCCCCCCCCCC\n",
      "Pred SMILES: O<unk>C<unk>NC<unk>COP<unk><unk>O<unk><unk><unk>O<unk><unk><unk>OCC<unk>N<unk><unk><unk>C<unk><unk>C<unk>C<unk>C<unk>O<unk>CCCCCCCCCCCCCCCCCCCCCCCCCCC<unk>CCCCCCCCCCCCCCCCC<unk>CCCCCCCCCCCCCCCC\n",
      "\n",
      "True SMILES: O<unk>C<unk>NC<unk>COP<unk><unk>O<unk><unk><unk>O<unk><unk><unk>OCC<unk>N<unk><unk><unk>C<unk><unk>C<unk>C<unk>C<unk>O<unk>CCCCCCCCCCCCCCCCCCCCCCCCCCC<unk>CCCCCCCCCCCCCCCCCCCCCCCCCCCCCCCC\n",
      "Pred SMILES: O<unk>C<unk>NC<unk>COP<unk><unk>O<unk><unk><unk>O<unk><unk><unk>OCC<unk>N<unk><unk><unk>C<unk><unk>C<unk>C<unk>C<unk>O<unk>CCCCCCCCCCCCCCCCCCCCCCCCCCC<unk>CCCCCCCCCCCCCCCCCCCCCCCCCCCCCCCCC\n",
      "\n",
      "True SMILES: O<unk>C<unk>NC<unk>COP<unk><unk>O<unk><unk><unk>O<unk><unk><unk>OCC<unk>N<unk><unk><unk>C<unk><unk>C<unk>C<unk>C<unk>O<unk>CCCCCCCCCCCCCCCCCCCCCCCCCCC<unk>CCCCCCCCCCCCCCCC<unk>CCC<unk>CCCCCCCCCCCC\n",
      "Pred SMILES: O<unk>C<unk>NC<unk>COP<unk><unk>O<unk><unk><unk>O<unk><unk><unk>OCC<unk>N<unk><unk><unk>C<unk><unk>C<unk>C<unk>C<unk>O<unk>CCCCCCCCCCCCCCCCCCCCCCCCCCC<unk>CCCCCCCCCCCCCCCC<unk>CCC<unk>CCCCCCCCCCCCC\n",
      "\n",
      "True SMILES: O<unk>C<unk>NC<unk>COP<unk><unk>O<unk><unk><unk>O<unk><unk><unk>OCC<unk>N<unk><unk><unk>C<unk><unk>C<unk>C<unk>C<unk>O<unk>CCCCCCCCCCCCCCCCCCCCCCCCCCC<unk>CCCCCCCCCCCCCCCC<unk>CCCCCCCCCCCCCCC\n",
      "Pred SMILES: O<unk>C<unk>NC<unk>COP<unk><unk>O<unk><unk><unk>O<unk><unk><unk>OCC<unk>N<unk><unk><unk>C<unk><unk>C<unk>C<unk>C<unk>O<unk>CCCCCCCCCCCCCCCCCCCCCCCCCCC<unk>CCCCCCCCCCCCCCCC<unk>CCCCCCCCCCCCCCCC\n",
      "\n",
      "True SMILES: O<unk>C<unk>NC<unk>COP<unk><unk>O<unk><unk><unk>O<unk><unk><unk>OCC<unk>N<unk><unk><unk>C<unk><unk>C<unk>C<unk>C<unk>O<unk>CCCCCCCCCCCCCCCCCCCCCCCCCCC<unk>CCCCCCCCCCCCCCCCCCCC\n",
      "Pred SMILES: O<unk>C<unk>NC<unk>COP<unk><unk>O<unk><unk><unk>O<unk><unk><unk>OCC<unk>N<unk><unk><unk>C<unk><unk>C<unk>C<unk>C<unk>O<unk>CCCCCCCCCCCCCCCCCCCCCCCCCCC<unk>CCCCCCCCCCCCCCCCCCCCCCCCCCCCCCCCCCCCCO\n",
      "\n",
      "True SMILES: O<unk>C<unk>NC<unk>COP<unk><unk>O<unk><unk><unk>O<unk><unk><unk>OCC<unk>N<unk><unk><unk>C<unk><unk>C<unk>C<unk>C<unk>O<unk>CCCCCCCCCCCCCCCCCCCCCCCCCCC<unk>CCCCCCCCCC<unk>CCC<unk>CCCCCC\n",
      "Pred SMILES: O<unk>C<unk>NC<unk>COP<unk><unk>O<unk><unk><unk>O<unk><unk><unk>OCC<unk>N<unk><unk><unk>C<unk><unk>C<unk>C<unk>C<unk>O<unk>CCCCCCCCCCCCCCCCCCCCCCCCCCC<unk>CCCCCCCCCC<unk>CCC<unk>CCCCCCCCCCCCCCCCCCCCCCOO\n",
      "\n",
      "True SMILES: O<unk>C<unk>NC<unk>COP<unk><unk>O<unk><unk><unk>O<unk><unk><unk>OCC<unk>N<unk><unk><unk>C<unk><unk>C<unk>C<unk>C<unk>O<unk>CCCCCCCCCCCCCCCCCCCCCCCCCCC<unk>CCCCCCCCCC<unk>CCCCCCCCC\n",
      "Pred SMILES: O<unk>C<unk>NC<unk>COP<unk><unk>O<unk><unk><unk>O<unk><unk><unk>OCC<unk>N<unk><unk><unk>C<unk><unk>C<unk>C<unk>C<unk>O<unk>CCCCCCCCCCCCCCCCCCCCCCCCCCC<unk>CCCCCCCCCC<unk>CCCCCCCCCCCCCCCCCCCCCCCCCCO\n",
      "\n",
      "True SMILES: O<unk>C<unk>NC<unk>COP<unk><unk>O<unk><unk><unk>O<unk><unk><unk>OCC<unk>N<unk><unk><unk>C<unk><unk>C<unk>C<unk>C<unk>O<unk>CCCCCCCCCCCCCCCCCCCCCCCCCCC<unk>CCCCCCCCCCCCCCCCCCC\n",
      "Pred SMILES: O<unk>C<unk>NC<unk>COP<unk><unk>O<unk><unk><unk>O<unk><unk><unk>OCC<unk>N<unk><unk><unk>C<unk><unk>C<unk>C<unk>C<unk>O<unk>CCCCCCCCCCCCCCCCCCCCCCCCCCC<unk>CCCCCCCCCCCCCCCCCCCCCCCCCCCCCCCCCCCCCOO\n",
      "\n",
      "True SMILES: O<unk>C<unk>NC<unk>COP<unk><unk>O<unk><unk><unk>O<unk><unk><unk>OCC<unk>N<unk><unk><unk>C<unk><unk>C<unk>C<unk>C<unk>O<unk>CCCCCCCCCCCCCCCCCCCCCCCCCCC<unk>CCCCCCCC<unk>CCCCCCCCCC\n",
      "Pred SMILES: O<unk>C<unk>NC<unk>COP<unk><unk>O<unk><unk><unk>O<unk><unk><unk>OCC<unk>N<unk><unk><unk>C<unk><unk>C<unk>C<unk>C<unk>O<unk>CCCCCCCCCCCCCCCCCCCCCCCCCCC<unk>CCCCCCCC<unk>CCCCCCCCCCCCCCCCCCCCCCCCCCCCOO\n",
      "\n",
      "True SMILES: O<unk>C<unk>NC<unk>COP<unk><unk>O<unk><unk><unk>O<unk><unk><unk>OCC<unk>N<unk><unk><unk>C<unk><unk>C<unk>C<unk>C<unk>O<unk>C<unk>CCCC<unk>CCCC<unk>CCCCCCCCCCCCCCCCC<unk>CCCCCCCCCCCCCCCCCCCCCCCCCCCCCCCCCCC\n",
      "Pred SMILES: O<unk>C<unk>NC<unk>COP<unk><unk>O<unk><unk><unk>O<unk><unk><unk>OCC<unk>N<unk><unk><unk>C<unk><unk>C<unk>C<unk>C<unk>O<unk>C<unk>CCCC<unk>CCCC<unk>CCCCCCCCCCCCCCCCC<unk>CCCCCCCCCCCCCCCCCCCCCCCCCCCCCCCCCCCCO\n",
      "\n",
      "True SMILES: O<unk>C<unk>NC<unk>COP<unk><unk>O<unk><unk><unk>O<unk><unk><unk>OCC<unk>N<unk><unk><unk>C<unk><unk>C<unk>C<unk>C<unk>O<unk>C<unk>CCCC<unk>CCCC<unk>CCCCCCCCCCCCCCCCC<unk>CCCCCCCCCCCCCCCCCCC<unk>CCCCCCCCCCCCCCC\n",
      "Pred SMILES: O<unk>C<unk>NC<unk>COP<unk><unk>O<unk><unk><unk>O<unk><unk><unk>OCC<unk>N<unk><unk><unk>C<unk><unk>C<unk>C<unk>C<unk>O<unk>C<unk>CCCC<unk>CCCC<unk>CCCCCCCCCCCCCCCCC<unk>CCCCCCCCCCCCCCCCCCC<unk>CCCCCCCCCCCCCCCCO\n",
      "\n",
      "True SMILES: O<unk>C<unk>NC<unk>COP<unk><unk>O<unk><unk><unk>O<unk><unk><unk>OCC<unk>N<unk><unk><unk>C<unk><unk>C<unk>C<unk>C<unk>O<unk>C<unk>CCCC<unk>CCCC<unk>CCCCCCCCCCCCCCCCC<unk>CCCCCCCCCCCCCCCCCCCCCCCCCCCCCCCCCC\n",
      "Pred SMILES: O<unk>C<unk>NC<unk>COP<unk><unk>O<unk><unk><unk>O<unk><unk><unk>OCC<unk>N<unk><unk><unk>C<unk><unk>C<unk>C<unk>C<unk>O<unk>C<unk>CCCC<unk>CCCC<unk>CCCCCCCCCCCCCCCCC<unk>CCCCCCCCCCCCCCCCCCCCCCCCCCCCCCCCCCCOO\n",
      "\n",
      "True SMILES: CCCCCCCCCCCCCCCC<unk>C<unk>C<unk>CC<unk>C<unk>C<unk>CC<unk>C<unk>C<unk>C<unk>O<unk>C<unk>COP<unk><unk>O<unk><unk><unk><unk><unk>O<unk>OCC<unk>N<unk><unk><unk>C<unk><unk>C<unk>C<unk>NC<unk><unk>O<unk>CCCCCCCCCCCCCCCCC<unk>C<unk>C<unk>C<unk>C<unk>C<unk>CCCCCCCCCCC\n",
      "Pred SMILES: CCCCCCCCCCCCCCCC<unk>C<unk>C<unk>CC<unk>C<unk>C<unk>CC<unk>C<unk>C<unk>C<unk>O<unk>C<unk>COP<unk><unk>O<unk><unk><unk><unk><unk>O<unk>OCC<unk>N<unk><unk><unk>C<unk><unk>C<unk>C<unk>NC<unk><unk>O<unk>CCCCCCCCCCCCCCCCC<unk>C<unk>C<unk>C<unk>C<unk>C<unk>CCCCCCCCCCC\n",
      "\n",
      "True SMILES: O<unk>C<unk>NC<unk>COP<unk><unk>O<unk><unk><unk>O<unk><unk><unk>OCC<unk>N<unk><unk><unk>C<unk><unk>C<unk>C<unk>C<unk>O<unk>C<unk>CCCC<unk>CCCC<unk>CCCCCCCCCCCCCCCCC<unk>CCCCCCCCCCCCCCCCCC<unk>CCCCCCCCCCCCCCC\n",
      "Pred SMILES: O<unk>C<unk>NC<unk>COP<unk><unk>O<unk><unk><unk>O<unk><unk><unk>OCC<unk>N<unk><unk><unk>C<unk><unk>C<unk>C<unk>C<unk>O<unk>C<unk>CCCC<unk>CCCC<unk>CCCCCCCCCCCCCCCCC<unk>CCCCCCCCCCCCCCCCCC<unk>CCCCCCCCCCCCCCCCOO\n",
      "\n",
      "True SMILES: O<unk>C<unk>NC<unk>COP<unk><unk>O<unk><unk><unk>O<unk><unk><unk>OCC<unk>N<unk><unk><unk>C<unk><unk>C<unk>C<unk>C<unk>O<unk>C<unk>CCCC<unk>CCCC<unk>CCCCCCCCCCCCCCCCC<unk>CCCCCCCCCCCCCCCCCCCCCC\n",
      "Pred SMILES: O<unk>C<unk>NC<unk>COP<unk><unk>O<unk><unk><unk>O<unk><unk><unk>OCC<unk>N<unk><unk><unk>C<unk><unk>C<unk>C<unk>C<unk>O<unk>C<unk>CCCC<unk>CCCC<unk>CCCCCCCCCCCCCCCCC<unk>CCCCCCCCCCCCCCCCCCCCCCCCCCCCCCCCCCCO\n",
      "\n",
      "True SMILES: O<unk>C<unk>NC<unk>COP<unk><unk>O<unk><unk><unk>O<unk><unk><unk>OCC<unk>N<unk><unk><unk>C<unk><unk>C<unk>C<unk>C<unk>O<unk>C<unk>CCCC<unk>CCCC<unk>CCCCCCCCCCCCCCCCC<unk>CCCCCCCCCCCCC<unk>CC<unk>CCCCCC\n",
      "Pred SMILES: O<unk>C<unk>NC<unk>COP<unk><unk>O<unk><unk><unk>O<unk><unk><unk>OCC<unk>N<unk><unk><unk>C<unk><unk>C<unk>C<unk>C<unk>O<unk>C<unk>CCCC<unk>CCCC<unk>CCCCCCCCCCCCCCCCC<unk>CCCCCCCCCCCCC<unk>CC<unk>CCCCCCCCCCCCCCC\n",
      "\n",
      "True SMILES: O<unk>C<unk>NC<unk>COP<unk><unk>O<unk><unk><unk>O<unk><unk><unk>OCC<unk>N<unk><unk><unk>C<unk><unk>C<unk>C<unk>C<unk>O<unk>C<unk>CCCC<unk>CCCC<unk>CCCCCCCCCCCCCCCCC<unk>CCCCCCCCCC<unk>CCCCCCCCCCC\n",
      "Pred SMILES: O<unk>C<unk>NC<unk>COP<unk><unk>O<unk><unk><unk>O<unk><unk><unk>OCC<unk>N<unk><unk><unk>C<unk><unk>C<unk>C<unk>C<unk>O<unk>C<unk>CCCC<unk>CCCC<unk>CCCCCCCCCCCCCCCCC<unk>CCCCCCCCCC<unk>CCCCCCCCCCCCCCCCCCCCCCCCO\n",
      "\n",
      "True SMILES: O<unk>C<unk>NC<unk>COP<unk><unk>O<unk><unk><unk>O<unk><unk><unk>OCC<unk>N<unk><unk><unk>C<unk><unk>C<unk>C<unk>C<unk>O<unk>C<unk>CCCC<unk>CCCC<unk>CCCCCCCCCCCCCCCCC<unk>CCCCCCCCCCCCCCCCCCCCC\n",
      "Pred SMILES: O<unk>C<unk>NC<unk>COP<unk><unk>O<unk><unk><unk>O<unk><unk><unk>OCC<unk>N<unk><unk><unk>C<unk><unk>C<unk>C<unk>C<unk>O<unk>C<unk>CCCC<unk>CCCC<unk>CCCCCCCCCCCCCCCCC<unk>CCCCCCCCCCCCCCCCCCCCCCCCCCCCCCCCCCO\n",
      "\n",
      "True SMILES: O<unk>C<unk>NC<unk>COP<unk><unk>O<unk><unk><unk>O<unk><unk><unk>OCC<unk>N<unk><unk><unk>C<unk><unk>C<unk>C<unk>C<unk>O<unk>C<unk>CCCC<unk>CCCC<unk>CCCCCCCCCCCCCCCCC<unk>CCCCCCCC<unk>CCCCCCCCCCCC\n",
      "Pred SMILES: O<unk>C<unk>NC<unk>COP<unk><unk>O<unk><unk><unk>O<unk><unk><unk>OCC<unk>N<unk><unk><unk>C<unk><unk>C<unk>C<unk>C<unk>O<unk>C<unk>CCCC<unk>CCCC<unk>CCCCCCCCCCCCCCCCC<unk>CCCCCCCC<unk>CCCCCCCCCCCCCCCCCCCCCCCCCO\n",
      "\n",
      "True SMILES: O<unk>C<unk>NC<unk>COP<unk><unk>O<unk><unk><unk>O<unk><unk><unk>OCC<unk>N<unk><unk><unk>C<unk><unk>C<unk>C<unk>C<unk>O<unk>C<unk>CCCC<unk>CCCCCCCCCCCCCCCCCCCCC<unk>CCCCCCCCCCCCCCCCCCCC<unk>CCC<unk>CCCCCCCCCCCCCC\n",
      "Pred SMILES: O<unk>C<unk>NC<unk>COP<unk><unk>O<unk><unk><unk>O<unk><unk><unk>OCC<unk>N<unk><unk><unk>C<unk><unk>C<unk>C<unk>C<unk>O<unk>C<unk>CCCC<unk>CCCCCCCCCCCCCCCCCCCCC<unk>CCCCCCCCCCCCCCCCCCCC<unk>CCC<unk>CCCCCCCCCCCCCC\n",
      "\n",
      "True SMILES: O<unk>C<unk>NC<unk>COP<unk><unk>O<unk><unk><unk>O<unk><unk><unk>OCC<unk>N<unk><unk><unk>C<unk><unk>C<unk>C<unk>C<unk>O<unk>C<unk>CCCC<unk>CCCCCCCCCCCCCCCCCCCCC<unk>CCCCCCCCCCCCCCCCCCCC<unk>CCCCCCCCCCCCCCCCC\n",
      "Pred SMILES: O<unk>C<unk>NC<unk>COP<unk><unk>O<unk><unk><unk>O<unk><unk><unk>OCC<unk>N<unk><unk><unk>C<unk><unk>C<unk>C<unk>C<unk>O<unk>C<unk>CCCC<unk>CCCCCCCCCCCCCCCCCCCCC<unk>CCCCCCCCCCCCCCCCCCCC<unk>CCCCCCCCCCCCCCCCC\n",
      "\n",
      "True SMILES: O<unk>C<unk>NC<unk>COP<unk><unk>O<unk><unk><unk>O<unk><unk><unk>OCC<unk>N<unk><unk><unk>C<unk><unk>C<unk>C<unk>C<unk>O<unk>C<unk>CCCC<unk>CCCCCCCCCCCCCCCCCCCCC<unk>CCCCCCCCCCCCCCCCCCCCCCCCCCCCCCCCCCCCC\n",
      "Pred SMILES: O<unk>C<unk>NC<unk>COP<unk><unk>O<unk><unk><unk>O<unk><unk><unk>OCC<unk>N<unk><unk><unk>C<unk><unk>C<unk>C<unk>C<unk>O<unk>C<unk>CCCC<unk>CCCCCCCCCCCCCCCCCCCCC<unk>CCCCCCCCCCCCCCCCCCCCCCCCCCCCCCCCCCCCCC<unk>\n",
      "\n",
      "True SMILES: O<unk>C<unk>NC<unk>COP<unk><unk>O<unk><unk><unk>O<unk><unk><unk>OCC<unk>N<unk><unk><unk>C<unk><unk>C<unk>C<unk>C<unk>O<unk>C<unk>CCCC<unk>CCCCCCCCCCCCCCCCCCCCC<unk>CCCCCCCCCCCCCCCCCCCC<unk>CCC<unk>CCCCCCCCCCCC\n",
      "Pred SMILES: O<unk>C<unk>NC<unk>COP<unk><unk>O<unk><unk><unk>O<unk><unk><unk>OCC<unk>N<unk><unk><unk>C<unk><unk>C<unk>C<unk>C<unk>O<unk>C<unk>CCCC<unk>CCCCCCCCCCCCCCCCCCCCC<unk>CCCCCCCCCCCCCCCCCCCC<unk>CCC<unk>CCCCCCCCCCCCC<unk>\n",
      "\n",
      "True SMILES: O<unk>C<unk>NC<unk>COP<unk><unk>O<unk><unk><unk>O<unk><unk><unk>OCC<unk>N<unk><unk><unk>C<unk><unk>C<unk>C<unk>C<unk>O<unk>C<unk>CCCC<unk>CCCCCCCCCCCCCCCCCCCCC<unk>CCCCCCCCCCCCCCCCCCCC<unk>CCCCCCCCCCCCCCC\n",
      "Pred SMILES: O<unk>C<unk>NC<unk>COP<unk><unk>O<unk><unk><unk>O<unk><unk><unk>OCC<unk>N<unk><unk><unk>C<unk><unk>C<unk>C<unk>C<unk>O<unk>C<unk>CCCC<unk>CCCCCCCCCCCCCCCCCCCCC<unk>CCCCCCCCCCCCCCCCCCCC<unk>CCCCCCCCCCCCCCCCO<unk>\n",
      "\n",
      "True SMILES: O<unk>C<unk>NC<unk>COP<unk><unk>O<unk><unk><unk>O<unk><unk><unk>OCC<unk>N<unk><unk><unk>C<unk><unk>C<unk>C<unk>C<unk>O<unk>C<unk>CCCC<unk>CCCCCCCCCCCCCCCCCCCCC<unk>CCCCCCCCCCCCCCCCCCCCCCCC\n",
      "Pred SMILES: O<unk>C<unk>NC<unk>COP<unk><unk>O<unk><unk><unk>O<unk><unk><unk>OCC<unk>N<unk><unk><unk>C<unk><unk>C<unk>C<unk>C<unk>O<unk>C<unk>CCCC<unk>CCCCCCCCCCCCCCCCCCCCC<unk>CCCCCCCCCCCCCCCCCCCCCCCCCCCCCCCCC\n",
      "\n",
      "True SMILES: O<unk>C<unk>NC<unk>COP<unk><unk>O<unk><unk><unk>O<unk><unk><unk>OCC<unk>N<unk><unk><unk>C<unk><unk>C<unk>C<unk>C<unk>O<unk>C<unk>CCCC<unk>CCCCCCCCCCCCCCCCCCCCC<unk>CCCCCCCCCCCCCCCCC<unk>CCC<unk>CCC\n",
      "Pred SMILES: O<unk>C<unk>NC<unk>COP<unk><unk>O<unk><unk><unk>O<unk><unk><unk>OCC<unk>N<unk><unk><unk>C<unk><unk>C<unk>C<unk>C<unk>O<unk>C<unk>CCCC<unk>CCCCCCCCCCCCCCCCCCCCC<unk>CCCCCCCCCCCCCCCCC<unk>CCC<unk>CCCCCCCCCCCCCO\n",
      "\n",
      "True SMILES: O<unk>C<unk>NC<unk>COP<unk><unk>O<unk><unk><unk>O<unk><unk><unk>OCC<unk>N<unk><unk><unk>C<unk><unk>C<unk>C<unk>C<unk>O<unk>C<unk>CCCC<unk>CCCCCCCCCCCCCCCCCCCCC<unk>CCCCCCCCCC<unk>CCCCCCCCCCCCC\n",
      "Pred SMILES: O<unk>C<unk>NC<unk>COP<unk><unk>O<unk><unk><unk>O<unk><unk><unk>OCC<unk>N<unk><unk><unk>C<unk><unk>C<unk>C<unk>C<unk>O<unk>C<unk>CCCC<unk>CCCCCCCCCCCCCCCCCCCCC<unk>CCCCCCCCCC<unk>CCCCCCCCCCCCCCCCCCCCCC\n",
      "\n",
      "True SMILES: O<unk>C<unk>NC<unk>COP<unk><unk>O<unk><unk><unk>O<unk><unk><unk>OCC<unk>N<unk><unk><unk>C<unk><unk>C<unk>C<unk>C<unk>O<unk>C<unk>CCCC<unk>CCCCCCCCCCCCCCCCCCCCC<unk>CCCCCCCCCCCCCCCCCCCCCCC\n",
      "Pred SMILES: O<unk>C<unk>NC<unk>COP<unk><unk>O<unk><unk><unk>O<unk><unk><unk>OCC<unk>N<unk><unk><unk>C<unk><unk>C<unk>C<unk>C<unk>O<unk>C<unk>CCCC<unk>CCCCCCCCCCCCCCCCCCCCC<unk>CCCCCCCCCCCCCCCCCCCCCCCCCCCCCCCCCCCCO\n",
      "\n",
      "True SMILES: O<unk>C<unk>NC<unk>COP<unk><unk>O<unk><unk><unk>O<unk><unk><unk>OCC<unk>N<unk><unk><unk>C<unk><unk>C<unk>C<unk>C<unk>O<unk>C<unk>CCCC<unk>CCCCCCCCCCCCCCCCCCCCC<unk>CCCCCCCCCC<unk>CCCCCCCCCCCC\n",
      "Pred SMILES: O<unk>C<unk>NC<unk>COP<unk><unk>O<unk><unk><unk>O<unk><unk><unk>OCC<unk>N<unk><unk><unk>C<unk><unk>C<unk>C<unk>C<unk>O<unk>C<unk>CCCC<unk>CCCCCCCCCCCCCCCCCCCCC<unk>CCCCCCCCCC<unk>CCCCCCCCCCCCCCCCCCCCCCCCCO\n",
      "\n",
      "True SMILES: O<unk>C<unk>NC<unk>COP<unk><unk>O<unk><unk><unk>O<unk><unk><unk>OCC<unk>N<unk><unk><unk>C<unk><unk>C<unk>C<unk>C<unk>O<unk>C<unk>CCCCCCCCCCCCCCCCCCCCCCCCC<unk>CCCCCCCCCCCCCCCCCCCC<unk>CCCCCCCCCCCCCCCCCCCCC\n",
      "Pred SMILES: O<unk>C<unk>NC<unk>COP<unk><unk>O<unk><unk><unk>O<unk><unk><unk>OCC<unk>N<unk><unk><unk>C<unk><unk>C<unk>C<unk>C<unk>O<unk>C<unk>CCCCCCCCCCCCCCCCCCCCCCCCC<unk>CCCCCCCCCCCCCCCCCCCC<unk>CCCCCCCCCCCCCCCCCCCCC\n",
      "\n",
      "True SMILES: O<unk>C<unk>NC<unk>COP<unk><unk>O<unk><unk><unk>O<unk><unk><unk>OCC<unk>N<unk><unk><unk>C<unk><unk>C<unk>C<unk>C<unk>O<unk>C<unk>CCCCCCCCCCCCCCCCCCCCCCCCC<unk>CCCCCCCCCCCCCCCCCCCCCCCCCCCCCCCCCCCCCCCCC\n",
      "Pred SMILES: O<unk>C<unk>NC<unk>COP<unk><unk>O<unk><unk><unk>O<unk><unk><unk>OCC<unk>N<unk><unk><unk>C<unk><unk>C<unk>C<unk>C<unk>O<unk>C<unk>CCCCCCCCCCCCCCCCCCCCCCCCC<unk>CCCCCCCCCCCCCCCCCCCCCCCCCCCCCCCCCCCCCCCCC\n",
      "\n",
      "True SMILES: O<unk>C<unk>NC<unk>COP<unk><unk>O<unk><unk><unk>O<unk><unk><unk>OCC<unk>N<unk><unk><unk>C<unk><unk>C<unk>C<unk>C<unk>O<unk>C<unk>CCCCCCCCCCCCCCCCCCCCCCCCC<unk>CCCCCCCCCCCCCCCCCCCC<unk>CCC<unk>CCCCCCCCCCCCCCCC\n",
      "Pred SMILES: O<unk>C<unk>NC<unk>COP<unk><unk>O<unk><unk><unk>O<unk><unk><unk>OCC<unk>N<unk><unk><unk>C<unk><unk>C<unk>C<unk>C<unk>O<unk>C<unk>CCCCCCCCCCCCCCCCCCCCCCCCC<unk>CCCCCCCCCCCCCCCCCCCC<unk>CCC<unk>CCCCCCCCCCCCCCCC\n",
      "\n",
      "True SMILES: O<unk>C<unk>NC<unk>COP<unk><unk>O<unk><unk><unk>O<unk><unk><unk>OCC<unk>N<unk><unk><unk>C<unk><unk>C<unk>C<unk>C<unk>O<unk>C<unk>CCCCCCCCCCCCCCCCCCCCCCCCC<unk>CCCCCCCCCCCCCCCCCCCC<unk>CCCCCCCCCCCCCCCCCCC\n",
      "Pred SMILES: O<unk>C<unk>NC<unk>COP<unk><unk>O<unk><unk><unk>O<unk><unk><unk>OCC<unk>N<unk><unk><unk>C<unk><unk>C<unk>C<unk>C<unk>O<unk>C<unk>CCCCCCCCCCCCCCCCCCCCCCCCC<unk>CCCCCCCCCCCCCCCCCCCC<unk>CCCCCCCCCCCCCCCCCCCC\n",
      "\n",
      "True SMILES: O<unk>C<unk>NC<unk>COP<unk><unk>O<unk><unk><unk>O<unk><unk><unk>OCC<unk>N<unk><unk><unk>C<unk><unk>C<unk>C<unk>C<unk>O<unk>C<unk>CCCCCCCCCCCCCCCCCCCCCCCCC<unk>CCCCCCCCCCCCCCCCCCCCCCCCCCCCCCCCCCCCCCC\n",
      "Pred SMILES: O<unk>C<unk>NC<unk>COP<unk><unk>O<unk><unk><unk>O<unk><unk><unk>OCC<unk>N<unk><unk><unk>C<unk><unk>C<unk>C<unk>C<unk>O<unk>C<unk>CCCCCCCCCCCCCCCCCCCCCCCCC<unk>CCCCCCCCCCCCCCCCCCCCCCCCCCCCCCCCCCCCCCCC\n",
      "\n",
      "True SMILES: O<unk>C<unk>NC<unk>COP<unk><unk>O<unk><unk><unk>O<unk><unk><unk>OCC<unk>N<unk><unk><unk>C<unk><unk>C<unk>C<unk>C<unk>O<unk>C<unk>CCCCCCCCCCCCCCCCCCCCCCCCC<unk>CCCCCCCCCCCCCCCCCCCCCCCCCC\n",
      "Pred SMILES: O<unk>C<unk>NC<unk>COP<unk><unk>O<unk><unk><unk>O<unk><unk><unk>OCC<unk>N<unk><unk><unk>C<unk><unk>C<unk>C<unk>C<unk>O<unk>C<unk>CCCCCCCCCCCCCCCCCCCCCCCCC<unk>CCCCCCCCCCCCCCCCCCCCCCCCCCC\n",
      "\n",
      "True SMILES: O<unk>C<unk>NC<unk>COP<unk><unk>O<unk><unk><unk>O<unk><unk><unk>OCC<unk>N<unk><unk><unk>C<unk><unk>C<unk>C<unk>C<unk>O<unk>C<unk>CCCCCCCCCCCCCCCCCCCCCCCCC<unk>CCCCCCCCCC<unk>CCC<unk>CCCCCCCCCCCC\n",
      "Pred SMILES: O<unk>C<unk>NC<unk>COP<unk><unk>O<unk><unk><unk>O<unk><unk><unk>OCC<unk>N<unk><unk><unk>C<unk><unk>C<unk>C<unk>C<unk>O<unk>C<unk>CCCCCCCCCCCCCCCCCCCCCCCCC<unk>CCCCCCCCCC<unk>CCC<unk>CCCCCCCCCCCCC\n",
      "\n",
      "True SMILES: O<unk>C<unk>NC<unk>COP<unk><unk>O<unk><unk><unk>O<unk><unk><unk>OCC<unk>N<unk><unk><unk>C<unk><unk>C<unk>C<unk>C<unk>O<unk>C<unk>CCCCCCCCCCCCCCCCCCCCCCCCC<unk>CCCCCCCCCC<unk>CCCCCCCCCCCCCCC\n",
      "Pred SMILES: O<unk>C<unk>NC<unk>COP<unk><unk>O<unk><unk><unk>O<unk><unk><unk>OCC<unk>N<unk><unk><unk>C<unk><unk>C<unk>C<unk>C<unk>O<unk>C<unk>CCCCCCCCCCCCCCCCCCCCCCCCC<unk>CCCCCCCCCC<unk>CCCCCCCCCCCCCCCC\n",
      "\n",
      "True SMILES: O<unk>C<unk>NC<unk>COP<unk><unk>O<unk><unk><unk>O<unk><unk><unk>OCC<unk>N<unk><unk><unk>C<unk><unk>C<unk>C<unk>C<unk>O<unk>C<unk>CCCCCCCCCCCCCCCCCCCCCCCCC<unk>CCCCCCCCCCCCCCCCCCCCCCCCC\n",
      "Pred SMILES: O<unk>C<unk>NC<unk>COP<unk><unk>O<unk><unk><unk>O<unk><unk><unk>OCC<unk>N<unk><unk><unk>C<unk><unk>C<unk>C<unk>C<unk>O<unk>C<unk>CCCCCCCCCCCCCCCCCCCCCCCCC<unk>CCCCCCCCCCCCCCCCCCCCCCCCCC\n",
      "\n",
      "True SMILES: O<unk>C<unk>NC<unk>COP<unk><unk>O<unk><unk><unk>O<unk><unk><unk>OCC<unk>N<unk><unk><unk>C<unk><unk>C<unk>C<unk>C<unk>O<unk>C<unk>CCCCCCCCCCCCCCCCCCCCCCCCC<unk>CCCCCCCCCC<unk>CCCCCCCCCCCCCC\n",
      "Pred SMILES: O<unk>C<unk>NC<unk>COP<unk><unk>O<unk><unk><unk>O<unk><unk><unk>OCC<unk>N<unk><unk><unk>C<unk><unk>C<unk>C<unk>C<unk>O<unk>C<unk>CCCCCCCCCCCCCCCCCCCCCCCCC<unk>CCCCCCCCCC<unk>CCCCCCCCCCCCCCC\n",
      "\n",
      "True SMILES: O<unk>C<unk>NC<unk>COP<unk><unk>O<unk><unk><unk>O<unk><unk><unk>OCC<unk>N<unk><unk><unk>C<unk><unk>C<unk>C<unk>C<unk>O<unk>C<unk>CCCCCCCCCCCCCCCCCCCCCCCCC<unk>CCCCCCC<unk>CCCCC\n",
      "Pred SMILES: O<unk>C<unk>NC<unk>COP<unk><unk>O<unk><unk><unk>O<unk><unk><unk>OCC<unk>N<unk><unk><unk>C<unk><unk>C<unk>C<unk>C<unk>O<unk>C<unk>CCCCCCCCCCCCCCCCCCCCCCCCC<unk>CCCCCCC<unk>CCCCCCCCCCCCCCCCCCCCCCCCCCCCC\n",
      "\n",
      "True SMILES: O<unk>C<unk>NC<unk>COP<unk><unk>O<unk><unk><unk>O<unk><unk><unk>OCC<unk>N<unk><unk><unk>C<unk><unk>C<unk>C<unk>C<unk>O<unk>C<unk>CCCCCCCCCCCCCCCCCCCCCCCCC<unk>CCCCCCCCCCCC\n",
      "Pred SMILES: O<unk>C<unk>NC<unk>COP<unk><unk>O<unk><unk><unk>O<unk><unk><unk>OCC<unk>N<unk><unk><unk>C<unk><unk>C<unk>C<unk>C<unk>O<unk>C<unk>CCCCCCCCCCCCCCCCCCCCCCCCC<unk>CCCCCCCCCCCCCCCCCCCCCCCCCCCCCCCCCCCO\n",
      "\n",
      "True SMILES: O<unk>C<unk>NC<unk>COP<unk><unk>O<unk><unk><unk>O<unk><unk><unk>OCC<unk>N<unk><unk><unk>C<unk><unk>C<unk>C<unk>C<unk>O<unk>C<unk>CCCCCCCCCCCCCCCCCCCCCCCCC<unk>CCCC<unk>CCCCCCC\n",
      "Pred SMILES: O<unk>C<unk>NC<unk>COP<unk><unk>O<unk><unk><unk>O<unk><unk><unk>OCC<unk>N<unk><unk><unk>C<unk><unk>C<unk>C<unk>C<unk>O<unk>C<unk>CCCCCCCCCCCCCCCCCCCCCCCCC<unk>CCCC<unk>CCCCCCCCCCCCCCCCCCCCCCCCCCCCCCO\n",
      "\n",
      "True SMILES: O<unk>C<unk>NC<unk>COP<unk><unk>O<unk><unk><unk>O<unk><unk><unk>OCC<unk>N<unk><unk><unk>C<unk><unk>C<unk>C<unk>C<unk>O<unk>C<unk>CCCCCCCCCCCCCCCCCCCCCCCCC<unk>CCCCCCCCCCC\n",
      "Pred SMILES: O<unk>C<unk>NC<unk>COP<unk><unk>O<unk><unk><unk>O<unk><unk><unk>OCC<unk>N<unk><unk><unk>C<unk><unk>C<unk>C<unk>C<unk>O<unk>C<unk>CCCCCCCCCCCCCCCCCCCCCCCCC<unk>CCCCCCCCCCCCCCCCCCCCCCCCCCCCCCCCCCO\n",
      "\n",
      "True SMILES: O<unk>C<unk>NC<unk>COP<unk><unk>O<unk><unk><unk>O<unk><unk><unk>OCC<unk>N<unk><unk><unk>C<unk><unk>C<unk>C<unk>C<unk>O<unk>CCCCCCCCCCCCCCCCCCCCCCCCCC<unk>CCCCCCCCCCCCCCCCCCCC<unk>CCC<unk>CCCCCCCCCCCCCCCCCC\n",
      "Pred SMILES: O<unk>C<unk>NC<unk>COP<unk><unk>O<unk><unk><unk>O<unk><unk><unk>OCC<unk>N<unk><unk><unk>C<unk><unk>C<unk>C<unk>C<unk>O<unk>CCCCCCCCCCCCCCCCCCCCCCCCCC<unk>CCCCCCCCCCCCCCCCCCCC<unk>CCC<unk>CCCCCCCCCCCCCCCCCC\n",
      "\n",
      "True SMILES: O<unk>C<unk>NC<unk>COP<unk><unk>O<unk><unk><unk>O<unk><unk><unk>OCC<unk>N<unk><unk><unk>C<unk><unk>C<unk>C<unk>C<unk>O<unk>CCCCCCCCCCCCCCCCCCCCCCCCCC<unk>CCCCCCCCCCCCCCCCCCCCCCCCCCCC\n",
      "Pred SMILES: O<unk>C<unk>NC<unk>COP<unk><unk>O<unk><unk><unk>O<unk><unk><unk>OCC<unk>N<unk><unk><unk>C<unk><unk>C<unk>C<unk>C<unk>O<unk>CCCCCCCCCCCCCCCCCCCCCCCCCC<unk>CCCCCCCCCCCCCCCCCCCCCCCCCCCCC\n",
      "\n",
      "True SMILES: O<unk>C<unk>NC<unk>COP<unk><unk>O<unk><unk><unk>O<unk><unk><unk>OCC<unk>N<unk><unk><unk>C<unk><unk>C<unk>C<unk>C<unk>O<unk>CCCCCCCCCCCCCCCCCCCCCCCCCC<unk>CCCCCCCCCCCC<unk>CCC<unk>CCCCCCCCCCCC\n",
      "Pred SMILES: O<unk>C<unk>NC<unk>COP<unk><unk>O<unk><unk><unk>O<unk><unk><unk>OCC<unk>N<unk><unk><unk>C<unk><unk>C<unk>C<unk>C<unk>O<unk>CCCCCCCCCCCCCCCCCCCCCCCCCC<unk>CCCCCCCCCCCC<unk>CCC<unk>CCCCCCCCCCCCC\n",
      "\n",
      "True SMILES: O<unk>C<unk>NC<unk>COP<unk><unk>O<unk><unk><unk>O<unk><unk><unk>OCC<unk>N<unk><unk><unk>C<unk><unk>C<unk>C<unk>C<unk>O<unk>CCCCCCCCCCCCCCCCCCCCCCCCCC<unk>CCCCCCCCCCCC<unk>CCCCCCCCCCCCCCC\n",
      "Pred SMILES: O<unk>C<unk>NC<unk>COP<unk><unk>O<unk><unk><unk>O<unk><unk><unk>OCC<unk>N<unk><unk><unk>C<unk><unk>C<unk>C<unk>C<unk>O<unk>CCCCCCCCCCCCCCCCCCCCCCCCCC<unk>CCCCCCCCCCCC<unk>CCCCCCCCCCCCCCCC\n",
      "\n",
      "True SMILES: O<unk>C<unk>NC<unk>COP<unk><unk>O<unk><unk><unk>O<unk><unk><unk>OCC<unk>N<unk><unk><unk>C<unk><unk>C<unk>C<unk>C<unk>O<unk>CCCCCCCCCCCCCCCCCCCCCCCCCC<unk>CCCCCCCCCCCCCCCCCCCCCCCCCCC\n",
      "Pred SMILES: O<unk>C<unk>NC<unk>COP<unk><unk>O<unk><unk><unk>O<unk><unk><unk>OCC<unk>N<unk><unk><unk>C<unk><unk>C<unk>C<unk>C<unk>O<unk>CCCCCCCCCCCCCCCCCCCCCCCCCC<unk>CCCCCCCCCCCCCCCCCCCCCCCCCCCC<unk>\n",
      "\n",
      "True SMILES: O<unk>C<unk>NC<unk>COP<unk><unk>O<unk><unk><unk>O<unk><unk><unk>OCC<unk>N<unk><unk><unk>C<unk><unk>C<unk>C<unk>C<unk>O<unk>CCCCCCCCCCCCCCCCCCCCCCCCCC<unk>CCCCCCCCCCC<unk>CCCCCCCCCCCCCCC\n",
      "Pred SMILES: O<unk>C<unk>NC<unk>COP<unk><unk>O<unk><unk><unk>O<unk><unk><unk>OCC<unk>N<unk><unk><unk>C<unk><unk>C<unk>C<unk>C<unk>O<unk>CCCCCCCCCCCCCCCCCCCCCCCCCC<unk>CCCCCCCCCCC<unk>CCCCCCCCCCCCCCCC<unk>\n",
      "\n",
      "True SMILES: O<unk>C<unk>NC<unk>COP<unk><unk>O<unk><unk><unk>O<unk><unk><unk>OCC<unk>N<unk><unk><unk>C<unk><unk>C<unk>C<unk>C<unk>O<unk>CCCCCCCCCCCCCCCCCCCCCCCCCC<unk>CCCCCCCCCCCCCCC\n",
      "Pred SMILES: O<unk>C<unk>NC<unk>COP<unk><unk>O<unk><unk><unk>O<unk><unk><unk>OCC<unk>N<unk><unk><unk>C<unk><unk>C<unk>C<unk>C<unk>O<unk>CCCCCCCCCCCCCCCCCCCCCCCCCC<unk>CCCCCCCCCCCCCCCCCCCCCCCCCCCCCCCCCCCCCCOCC\n",
      "\n",
      "True SMILES: O<unk>C<unk>NC<unk>COP<unk><unk>O<unk><unk><unk>O<unk><unk><unk>OCC<unk>N<unk><unk><unk>C<unk><unk>C<unk>C<unk>C<unk>O<unk>CCCCCCCCCCCCCCCCCCCCCCCCCC<unk>CCCCCCCC<unk>CCCCCC\n",
      "Pred SMILES: O<unk>C<unk>NC<unk>COP<unk><unk>O<unk><unk><unk>O<unk><unk><unk>OCC<unk>N<unk><unk><unk>C<unk><unk>C<unk>C<unk>C<unk>O<unk>CCCCCCCCCCCCCCCCCCCCCCCCCC<unk>CCCCCCCC<unk>CCCCCCCCCCCCCCCCCCCCCCCCCCCCCOCC\n",
      "\n",
      "True SMILES: O<unk>C<unk>NC<unk>COP<unk><unk>O<unk><unk><unk>O<unk><unk><unk>OCC<unk>N<unk><unk><unk>C<unk><unk>C<unk>C<unk>C<unk>O<unk>CCCCCCCCCCCCCCCCCCCCCCCCCC<unk>CCCCCCCCCCCCCC\n",
      "Pred SMILES: O<unk>C<unk>NC<unk>COP<unk><unk>O<unk><unk><unk>O<unk><unk><unk>OCC<unk>N<unk><unk><unk>C<unk><unk>C<unk>C<unk>C<unk>O<unk>CCCCCCCCCCCCCCCCCCCCCCCCCC<unk>CCCCCCCCCCCCCCCCCCCCCCCCCCCCCCCCCCCCCC\n",
      "\n",
      "True SMILES: O<unk>C<unk>NC<unk>COP<unk><unk>O<unk><unk><unk>O<unk><unk><unk>OCC<unk>N<unk><unk><unk>C<unk><unk>C<unk>C<unk>C<unk>O<unk>CCCCCCCCCCCCCCCCCCCCCCCCCC<unk>CCCCCCCC<unk>CCCCC\n",
      "Pred SMILES: O<unk>C<unk>NC<unk>COP<unk><unk>O<unk><unk><unk>O<unk><unk><unk>OCC<unk>N<unk><unk><unk>C<unk><unk>C<unk>C<unk>C<unk>O<unk>CCCCCCCCCCCCCCCCCCCCCCCCCC<unk>CCCCCCCC<unk>CCCCCCCCCCCCCCCCCCCCCCCCCCCCC\n",
      "\n",
      "True SMILES: O<unk>C<unk>NC<unk>COP<unk><unk>O<unk><unk><unk>O<unk><unk><unk>OCC<unk>N<unk><unk><unk>C<unk><unk>C<unk>C<unk>C<unk>O<unk>CCCCCCCCCCCCCCCCCCCCCCCCCC<unk>CCCCCCCCCCCCC\n",
      "Pred SMILES: O<unk>C<unk>NC<unk>COP<unk><unk>O<unk><unk><unk>O<unk><unk><unk>OCC<unk>N<unk><unk><unk>C<unk><unk>C<unk>C<unk>C<unk>O<unk>CCCCCCCCCCCCCCCCCCCCCCCCCC<unk>CCCCCCCCCCCCCCCCCCCCCCCCCCCCCCCCCCCCO\n",
      "\n",
      "True SMILES: O<unk>C<unk>NC<unk>COP<unk><unk>O<unk><unk><unk>O<unk><unk><unk>OCC<unk>N<unk><unk><unk>C<unk><unk>C<unk>C<unk>C<unk>O<unk>C<unk>CCCC<unk>CCCC<unk>CCCCCCCCCCCCCCCC<unk>CCCCCCCCCCCCCCCCCCCCCCCCCCCCCC\n",
      "Pred SMILES: O<unk>C<unk>NC<unk>COP<unk><unk>O<unk><unk><unk>O<unk><unk><unk>OCC<unk>N<unk><unk><unk>C<unk><unk>C<unk>C<unk>C<unk>O<unk>C<unk>CCCC<unk>CCCC<unk>CCCCCCCCCCCCCCCC<unk>CCCCCCCCCCCCCCCCCCCCCCCCCCCCCCCC\n",
      "\n",
      "True SMILES: O<unk>C<unk>NC<unk>COP<unk><unk>O<unk><unk><unk>O<unk><unk><unk>OCC<unk>N<unk><unk><unk>C<unk><unk>C<unk>C<unk>C<unk>O<unk>C<unk>CCCC<unk>CCCC<unk>CCCCCCCCCCCCCCCC<unk>CCCCCCCCCCCCCC<unk>CCC<unk>CCCCCCCCCCCC\n",
      "Pred SMILES: O<unk>C<unk>NC<unk>COP<unk><unk>O<unk><unk><unk>O<unk><unk><unk>OCC<unk>N<unk><unk><unk>C<unk><unk>C<unk>C<unk>C<unk>O<unk>C<unk>CCCC<unk>CCCC<unk>CCCCCCCCCCCCCCCC<unk>CCCCCCCCCCCCCC<unk>CCC<unk>CCCCCCCCCCCCC\n",
      "\n",
      "True SMILES: O<unk>C<unk>NC<unk>COP<unk><unk>O<unk><unk><unk>O<unk><unk><unk>OCC<unk>N<unk><unk><unk>C<unk><unk>C<unk>C<unk>C<unk>O<unk>C<unk>CCCC<unk>CCCC<unk>CCCCCCCCCCCCCCCC<unk>CCCCCCCCCCCCCC<unk>CCCCCCCCCCCCCCC\n",
      "Pred SMILES: O<unk>C<unk>NC<unk>COP<unk><unk>O<unk><unk><unk>O<unk><unk><unk>OCC<unk>N<unk><unk><unk>C<unk><unk>C<unk>C<unk>C<unk>O<unk>C<unk>CCCC<unk>CCCC<unk>CCCCCCCCCCCCCCCC<unk>CCCCCCCCCCCCCC<unk>CCCCCCCCCCCCCCCCC\n",
      "\n",
      "True SMILES: O<unk>C<unk>NC<unk>COP<unk><unk>O<unk><unk><unk>O<unk><unk><unk>OCC<unk>N<unk><unk><unk>C<unk><unk>C<unk>C<unk>C<unk>O<unk>C<unk>CCCC<unk>CCCC<unk>CCCCCCCCCCCCCCCC<unk>CCCCCCCCCCCCCCCCCCCCCCCCCCCCC\n",
      "Pred SMILES: O<unk>C<unk>NC<unk>COP<unk><unk>O<unk><unk><unk>O<unk><unk><unk>OCC<unk>N<unk><unk><unk>C<unk><unk>C<unk>C<unk>C<unk>O<unk>C<unk>CCCC<unk>CCCC<unk>CCCCCCCCCCCCCCCC<unk>CCCCCCCCCCCCCCCCCCCCCCCCCCCCCCCCC\n",
      "\n",
      "True SMILES: O<unk>C<unk>NC<unk>COP<unk><unk>O<unk><unk><unk>O<unk><unk><unk>OCC<unk>N<unk><unk><unk>C<unk><unk>C<unk>C<unk>C<unk>O<unk>C<unk>CCCC<unk>CCCC<unk>CCCCCCCCCCCCCCCC<unk>CCCCCCCCCCCCC<unk>CCCCCCCCCCCCCCC\n",
      "Pred SMILES: O<unk>C<unk>NC<unk>COP<unk><unk>O<unk><unk><unk>O<unk><unk><unk>OCC<unk>N<unk><unk><unk>C<unk><unk>C<unk>C<unk>C<unk>O<unk>C<unk>CCCC<unk>CCCC<unk>CCCCCCCCCCCCCCCC<unk>CCCCCCCCCCCCC<unk>CCCCCCCCCCCCCCCCCCC\n",
      "\n",
      "True SMILES: O<unk>C<unk>NC<unk>COP<unk><unk>O<unk><unk><unk>O<unk><unk><unk>OCC<unk>N<unk><unk><unk>C<unk><unk>C<unk>C<unk>C<unk>O<unk>C<unk>CCCC<unk>CCCC<unk>CCCCCCCCCCCCCCCC<unk>CCCCCCCCCC<unk>CCCCCCC\n",
      "Pred SMILES: O<unk>C<unk>NC<unk>COP<unk><unk>O<unk><unk><unk>O<unk><unk><unk>OCC<unk>N<unk><unk><unk>C<unk><unk>C<unk>C<unk>C<unk>O<unk>C<unk>CCCC<unk>CCCC<unk>CCCCCCCCCCCCCCCC<unk>CCCCCCCCCC<unk>CCCCCCCCCCCCCCCCCCCCCCCO\n",
      "\n",
      "True SMILES: O<unk>C<unk>NC<unk>COP<unk><unk>O<unk><unk><unk>O<unk><unk><unk>OCC<unk>N<unk><unk><unk>C<unk><unk>C<unk>C<unk>C<unk>O<unk>C<unk>CCCC<unk>CCCC<unk>CCCCCCCCCCCCCCCC<unk>CCCCCCCCCCCCCCCCC\n",
      "Pred SMILES: O<unk>C<unk>NC<unk>COP<unk><unk>O<unk><unk><unk>O<unk><unk><unk>OCC<unk>N<unk><unk><unk>C<unk><unk>C<unk>C<unk>C<unk>O<unk>C<unk>CCCC<unk>CCCC<unk>CCCCCCCCCCCCCCCC<unk>CCCCCCCCCCCCCCCCCCCCCCCCCCCCCCCCCCCOC\n",
      "\n",
      "True SMILES: O<unk>C<unk>NC<unk>COP<unk><unk>O<unk><unk><unk>O<unk><unk><unk>OCC<unk>N<unk><unk><unk>C<unk><unk>C<unk>C<unk>C<unk>O<unk>C<unk>CCCC<unk>CCCC<unk>CCCCCCCCCCCCCCCC<unk>CCCCCCCCCCCCCCCC\n",
      "Pred SMILES: O<unk>C<unk>NC<unk>COP<unk><unk>O<unk><unk><unk>O<unk><unk><unk>OCC<unk>N<unk><unk><unk>C<unk><unk>C<unk>C<unk>C<unk>O<unk>C<unk>CCCC<unk>CCCC<unk>CCCCCCCCCCCCCCCC<unk>CCCCCCCCCCCCCCCCCCCCCCCCCCCCCCCCCC\n",
      "\n",
      "True SMILES: O<unk>C<unk>NC<unk>COP<unk><unk>O<unk><unk><unk>O<unk><unk><unk>OCC<unk>N<unk><unk><unk>C<unk><unk>C<unk>C<unk>C<unk>O<unk>C<unk>CCCC<unk>CCCC<unk>CCCCCCCCCCCCCCCC<unk>CCC<unk>CCC<unk>CCCCCCCCC\n",
      "Pred SMILES: O<unk>C<unk>NC<unk>COP<unk><unk>O<unk><unk><unk>O<unk><unk><unk>OCC<unk>N<unk><unk><unk>C<unk><unk>C<unk>C<unk>C<unk>O<unk>C<unk>CCCC<unk>CCCC<unk>CCCCCCCCCCCCCCCC<unk>CCC<unk>CCC<unk>CCCCCCCCCCCCCCCCCCCCCCCCCCCOC\n",
      "\n",
      "True SMILES: O<unk>C<unk>NC<unk>COP<unk><unk>O<unk><unk><unk>O<unk><unk><unk>OCC<unk>N<unk><unk><unk>C<unk><unk>C<unk>C<unk>C<unk>O<unk>C<unk>CCCC<unk>CCCC<unk>CCCCCCCCCCCCCCCC<unk>CCCCCC<unk>CCCCCCCCC\n",
      "Pred SMILES: O<unk>C<unk>NC<unk>COP<unk><unk>O<unk><unk><unk>O<unk><unk><unk>OCC<unk>N<unk><unk><unk>C<unk><unk>C<unk>C<unk>C<unk>O<unk>C<unk>CCCC<unk>CCCC<unk>CCCCCCCCCCCCCCCC<unk>CCCCCC<unk>CCCCCCCCCCCCCCCCCCCCCCCCCCC\n",
      "\n",
      "True SMILES: O<unk>C<unk>NC<unk>COP<unk><unk>O<unk><unk><unk>O<unk><unk><unk>OCC<unk>N<unk><unk><unk>C<unk><unk>C<unk>C<unk>C<unk>O<unk>C<unk>CCCC<unk>CCCCCCCCCCCCCCCCCCCC<unk>CCCCCCCCCCCCCCCCCCCCCCCCCCCCCCCC\n",
      "Pred SMILES: O<unk>C<unk>NC<unk>COP<unk><unk>O<unk><unk><unk>O<unk><unk><unk>OCC<unk>N<unk><unk><unk>C<unk><unk>C<unk>C<unk>C<unk>O<unk>C<unk>CCCC<unk>CCCCCCCCCCCCCCCCCCCC<unk>CCCCCCCCCCCCCCCCCCCCCCCCCCCCCCCCC\n",
      "\n",
      "True SMILES: O<unk>C<unk>NC<unk>COP<unk><unk>O<unk><unk><unk>O<unk><unk><unk>OCC<unk>N<unk><unk><unk>C<unk><unk>C<unk>C<unk>C<unk>O<unk>C<unk>CCCC<unk>CCCCCCCCCCCCCCCCCCCC<unk>CCCCCCCCCCCCCCCC<unk>CCC<unk>CCCCCCCCCCCC\n",
      "Pred SMILES: O<unk>C<unk>NC<unk>COP<unk><unk>O<unk><unk><unk>O<unk><unk><unk>OCC<unk>N<unk><unk><unk>C<unk><unk>C<unk>C<unk>C<unk>O<unk>C<unk>CCCC<unk>CCCCCCCCCCCCCCCCCCCC<unk>CCCCCCCCCCCCCCCC<unk>CCC<unk>CCCCCCCCCCCCC\n",
      "\n",
      "True SMILES: O<unk>C<unk>NC<unk>COP<unk><unk>O<unk><unk><unk>O<unk><unk><unk>OCC<unk>N<unk><unk><unk>C<unk><unk>C<unk>C<unk>C<unk>O<unk>C<unk>CCCC<unk>CCCCCCCCCCCCCCCCCCCC<unk>CCCCCCCCCCCCCCCC<unk>CCCCCCCCCCCCCCC\n",
      "Pred SMILES: O<unk>C<unk>NC<unk>COP<unk><unk>O<unk><unk><unk>O<unk><unk><unk>OCC<unk>N<unk><unk><unk>C<unk><unk>C<unk>C<unk>C<unk>O<unk>C<unk>CCCC<unk>CCCCCCCCCCCCCCCCCCCC<unk>CCCCCCCCCCCCCCCC<unk>CCCCCCCCCCCCCCCC\n",
      "\n",
      "True SMILES: O<unk>C<unk>NC<unk>COP<unk><unk>O<unk><unk><unk>O<unk><unk><unk>OCC<unk>N<unk><unk><unk>C<unk><unk>C<unk>C<unk>C<unk>O<unk>C<unk>CCCC<unk>CCCCCCCCCCCCCCCCCCCC<unk>CCCCCCCCCCCCCCCCCCCCCCCCCCCCCCC\n",
      "Pred SMILES: O<unk>C<unk>NC<unk>COP<unk><unk>O<unk><unk><unk>O<unk><unk><unk>OCC<unk>N<unk><unk><unk>C<unk><unk>C<unk>C<unk>C<unk>O<unk>C<unk>CCCC<unk>CCCCCCCCCCCCCCCCCCCC<unk>CCCCCCCCCCCCCCCCCCCCCCCCCCCCCCCC\n",
      "\n",
      "True SMILES: O<unk>C<unk>NC<unk>COP<unk><unk>O<unk><unk><unk>O<unk><unk><unk>OCC<unk>N<unk><unk><unk>C<unk><unk>C<unk>C<unk>C<unk>O<unk>C<unk>CCCC<unk>CCCCCCCCCCCCCCCCCCCC<unk>CCCCCCCCCCCCCCC<unk>CCCCCCCCCCCCCCC\n",
      "Pred SMILES: O<unk>C<unk>NC<unk>COP<unk><unk>O<unk><unk><unk>O<unk><unk><unk>OCC<unk>N<unk><unk><unk>C<unk><unk>C<unk>C<unk>C<unk>O<unk>C<unk>CCCC<unk>CCCCCCCCCCCCCCCCCCCC<unk>CCCCCCCCCCCCCCC<unk>CCCCCCCCCCCCCCCC\n",
      "\n",
      "True SMILES: O<unk>C<unk>NC<unk>COP<unk><unk>O<unk><unk><unk>O<unk><unk><unk>OCC<unk>N<unk><unk><unk>C<unk><unk>C<unk>C<unk>C<unk>O<unk>C<unk>CCCC<unk>CCCCCCCCCCCCCCCCCCCC<unk>CCCCCCCCCC<unk>CCCCCCCCC\n",
      "Pred SMILES: O<unk>C<unk>NC<unk>COP<unk><unk>O<unk><unk><unk>O<unk><unk><unk>OCC<unk>N<unk><unk><unk>C<unk><unk>C<unk>C<unk>C<unk>O<unk>C<unk>CCCC<unk>CCCCCCCCCCCCCCCCCCCC<unk>CCCCCCCCCC<unk>CCCCCCCCCCCCCCCCCCCCCCCCCCO\n",
      "\n",
      "True SMILES: O<unk>C<unk>NC<unk>COP<unk><unk>O<unk><unk><unk>O<unk><unk><unk>OCC<unk>N<unk><unk><unk>C<unk><unk>C<unk>C<unk>C<unk>O<unk>C<unk>CCCC<unk>CCCCCCCCCCCCCCCCCCCC<unk>CCCCCCCCCCCCCCCCCCC\n",
      "Pred SMILES: O<unk>C<unk>NC<unk>COP<unk><unk>O<unk><unk><unk>O<unk><unk><unk>OCC<unk>N<unk><unk><unk>C<unk><unk>C<unk>C<unk>C<unk>O<unk>C<unk>CCCC<unk>CCCCCCCCCCCCCCCCCCCC<unk>CCCCCCCCCCCCCCCCCCCCCCCCCCCCCCCCCCCCO\n",
      "\n",
      "True SMILES: O<unk>C<unk>NC<unk>COP<unk><unk>O<unk><unk><unk>O<unk><unk><unk>OCC<unk>N<unk><unk><unk>C<unk><unk>C<unk>C<unk>C<unk>O<unk>C<unk>CCCC<unk>CCCCCCCCCCCCCCCCCCCC<unk>CCCCCCCC<unk>CCCCCCCCCC\n",
      "Pred SMILES: O<unk>C<unk>NC<unk>COP<unk><unk>O<unk><unk><unk>O<unk><unk><unk>OCC<unk>N<unk><unk><unk>C<unk><unk>C<unk>C<unk>C<unk>O<unk>C<unk>CCCC<unk>CCCCCCCCCCCCCCCCCCCC<unk>CCCCCCCC<unk>CCCCCCCCCCCCCCCCCCCCCCCCCCCO\n",
      "\n",
      "True SMILES: O<unk>C<unk>NC<unk>COP<unk><unk>O<unk><unk><unk>O<unk><unk><unk>OCC<unk>N<unk><unk><unk>C<unk><unk>C<unk>C<unk>C<unk>O<unk>C<unk>CCCC<unk>CCCCCCCCCCCCCCCCCCCC<unk>CCCCCCCCCCCCCCCCCC\n",
      "Pred SMILES: O<unk>C<unk>NC<unk>COP<unk><unk>O<unk><unk><unk>O<unk><unk><unk>OCC<unk>N<unk><unk><unk>C<unk><unk>C<unk>C<unk>C<unk>O<unk>C<unk>CCCC<unk>CCCCCCCCCCCCCCCCCCCC<unk>CCCCCCCCCCCCCCCCCCCCCCCCCCCCCCCCCCCCOC\n",
      "\n",
      "True SMILES: O<unk>C<unk>NC<unk>COP<unk><unk>O<unk><unk><unk>O<unk><unk><unk>OCC<unk>N<unk><unk><unk>C<unk><unk>C<unk>C<unk>C<unk>O<unk>C<unk>CCCC<unk>CCCCCCCCCCCCCCCCCCCC<unk>CCCCCCCCC<unk>CC<unk>CCCCCC\n",
      "Pred SMILES: O<unk>C<unk>NC<unk>COP<unk><unk>O<unk><unk><unk>O<unk><unk><unk>OCC<unk>N<unk><unk><unk>C<unk><unk>C<unk>C<unk>C<unk>O<unk>C<unk>CCCC<unk>CCCCCCCCCCCCCCCCCCCC<unk>CCCCCCCCC<unk>CC<unk>CCCCCCCCCCCCCCCCCCCCCCCO\n",
      "\n",
      "True SMILES: O<unk>C<unk>NC<unk>COP<unk><unk>O<unk><unk><unk>O<unk><unk><unk>OCC<unk>N<unk><unk><unk>C<unk><unk>C<unk>C<unk>C<unk>O<unk>C<unk>CCCCCCCCCCCCCCCCCCCCCCCC<unk>CCCCCCCCCCCCCCCCCCCCCCCCCCCCCCCCCC\n",
      "Pred SMILES: O<unk>C<unk>NC<unk>COP<unk><unk>O<unk><unk><unk>O<unk><unk><unk>OCC<unk>N<unk><unk><unk>C<unk><unk>C<unk>C<unk>C<unk>O<unk>C<unk>CCCCCCCCCCCCCCCCCCCCCCCC<unk>CCCCCCCCCCCCCCCCCCCCCCCCCCCCCCCCCC\n",
      "\n",
      "True SMILES: O<unk>C<unk>NC<unk>COP<unk><unk>O<unk><unk><unk>O<unk><unk><unk>OCC<unk>N<unk><unk><unk>C<unk><unk>C<unk>C<unk>C<unk>O<unk>C<unk>CCCCCCCCCCCCCCCCCCCCCCCC<unk>CCCCCCCCCCCCCCCCCC<unk>CCC<unk>CCCCCCCCCCCC\n",
      "Pred SMILES: O<unk>C<unk>NC<unk>COP<unk><unk>O<unk><unk><unk>O<unk><unk><unk>OCC<unk>N<unk><unk><unk>C<unk><unk>C<unk>C<unk>C<unk>O<unk>C<unk>CCCCCCCCCCCCCCCCCCCCCCCC<unk>CCCCCCCCCCCCCCCCCC<unk>CCC<unk>CCCCCCCCCCCC\n",
      "\n",
      "True SMILES: O<unk>C<unk>NC<unk>COP<unk><unk>O<unk><unk><unk>O<unk><unk><unk>OCC<unk>N<unk><unk><unk>C<unk><unk>C<unk>C<unk>C<unk>O<unk>C<unk>CCCCCCCCCCCCCCCCCCCCCCCC<unk>CCCCCCCCCCCCCCCCCC<unk>CCCCCCCCCCCCCCC\n",
      "Pred SMILES: O<unk>C<unk>NC<unk>COP<unk><unk>O<unk><unk><unk>O<unk><unk><unk>OCC<unk>N<unk><unk><unk>C<unk><unk>C<unk>C<unk>C<unk>O<unk>C<unk>CCCCCCCCCCCCCCCCCCCCCCCC<unk>CCCCCCCCCCCCCCCCCC<unk>CCCCCCCCCCCCCCC\n",
      "\n",
      "True SMILES: O<unk>C<unk>NC<unk>COP<unk><unk>O<unk><unk><unk>O<unk><unk><unk>OCC<unk>N<unk><unk><unk>C<unk><unk>C<unk>C<unk>C<unk>O<unk>C<unk>CCCCCCCCCCCCCCCCCCCCCCCC<unk>CCCCCCCCCCCCCCCCCCCCCCCCCCCCCCCCC\n",
      "Pred SMILES: O<unk>C<unk>NC<unk>COP<unk><unk>O<unk><unk><unk>O<unk><unk><unk>OCC<unk>N<unk><unk><unk>C<unk><unk>C<unk>C<unk>C<unk>O<unk>C<unk>CCCCCCCCCCCCCCCCCCCCCCCC<unk>CCCCCCCCCCCCCCCCCCCCCCCCCCCCCCCCCC\n",
      "\n",
      "True SMILES: O<unk>C<unk>NC<unk>COP<unk><unk>O<unk><unk><unk>O<unk><unk><unk>OCC<unk>N<unk><unk><unk>C<unk><unk>C<unk>C<unk>C<unk>O<unk>C<unk>CCCCCCCCCCCCCCCCCCCCCCCC<unk>CCCCCCCCCCCCCCCCC<unk>CCCCCCCCCCCCCCC\n",
      "Pred SMILES: O<unk>C<unk>NC<unk>COP<unk><unk>O<unk><unk><unk>O<unk><unk><unk>OCC<unk>N<unk><unk><unk>C<unk><unk>C<unk>C<unk>C<unk>O<unk>C<unk>CCCCCCCCCCCCCCCCCCCCCCCC<unk>CCCCCCCCCCCCCCCCC<unk>CCCCCCCCCCCCCCCC\n",
      "\n",
      "True SMILES: O<unk>C<unk>NC<unk>COP<unk><unk>O<unk><unk><unk>O<unk><unk><unk>OCC<unk>N<unk><unk><unk>C<unk><unk>C<unk>C<unk>C<unk>O<unk>C<unk>CCCCCCCCCCCCCCCCCCCCCCCC<unk>CCCCCCCCCC<unk>CCCCCCCCCCC\n",
      "Pred SMILES: O<unk>C<unk>NC<unk>COP<unk><unk>O<unk><unk><unk>O<unk><unk><unk>OCC<unk>N<unk><unk><unk>C<unk><unk>C<unk>C<unk>C<unk>O<unk>C<unk>CCCCCCCCCCCCCCCCCCCCCCCC<unk>CCCCCCCCCC<unk>CCCCCCCCCCCCCCCCCCCCCCCCCCCO\n",
      "\n",
      "True SMILES: O<unk>C<unk>NC<unk>COP<unk><unk>O<unk><unk><unk>O<unk><unk><unk>OCC<unk>N<unk><unk><unk>C<unk><unk>C<unk>C<unk>C<unk>O<unk>C<unk>CCCCCCCCCCCCCCCCCCCCCCCC<unk>CCCCCCCCCCCCCCCCCCCCC\n",
      "Pred SMILES: O<unk>C<unk>NC<unk>COP<unk><unk>O<unk><unk><unk>O<unk><unk><unk>OCC<unk>N<unk><unk><unk>C<unk><unk>C<unk>C<unk>C<unk>O<unk>C<unk>CCCCCCCCCCCCCCCCCCCCCCCC<unk>CCCCCCCCCCCCCCCCCCCCCCCCCCCCCCCCCCCCCCO\n",
      "\n",
      "True SMILES: O<unk>C<unk>NC<unk>COP<unk><unk>O<unk><unk><unk>O<unk><unk><unk>OCC<unk>N<unk><unk><unk>C<unk><unk>C<unk>C<unk>C<unk>O<unk>C<unk>CCCCCCCCCCCCCCCCCCCCCCCC<unk>CCCCCCCC<unk>CCCCCCCCCCCC\n",
      "Pred SMILES: O<unk>C<unk>NC<unk>COP<unk><unk>O<unk><unk><unk>O<unk><unk><unk>OCC<unk>N<unk><unk><unk>C<unk><unk>C<unk>C<unk>C<unk>O<unk>C<unk>CCCCCCCCCCCCCCCCCCCCCCCC<unk>CCCCCCCC<unk>CCCCCCCCCCCCCCCCCCCCCCCCCCCCCO\n",
      "\n",
      "True SMILES: O<unk>C<unk>NC<unk>COP<unk><unk>O<unk><unk><unk>O<unk><unk><unk>OCC<unk>N<unk><unk><unk>C<unk><unk>C<unk>C<unk>C<unk>O<unk>C<unk>CCCCCCCCCCCCCCCCCCCCCCCC<unk>CCCCCCCCCCCCCCCCCCCC\n",
      "Pred SMILES: O<unk>C<unk>NC<unk>COP<unk><unk>O<unk><unk><unk>O<unk><unk><unk>OCC<unk>N<unk><unk><unk>C<unk><unk>C<unk>C<unk>C<unk>O<unk>C<unk>CCCCCCCCCCCCCCCCCCCCCCCC<unk>CCCCCCCCCCCCCCCCCCCCCCCCCCCCCCCCCCCCCO\n",
      "\n",
      "True SMILES: O<unk>C<unk>NC<unk>COP<unk><unk>O<unk><unk><unk>O<unk><unk><unk>OCC<unk>N<unk><unk><unk>C<unk><unk>C<unk>C<unk>C<unk>O<unk>C<unk>CCCCCCCCCCCCCCCCCCCCCCCC<unk>CCCCCCCCCC<unk>CCC<unk>CCCCCC\n",
      "Pred SMILES: O<unk>C<unk>NC<unk>COP<unk><unk>O<unk><unk><unk>O<unk><unk><unk>OCC<unk>N<unk><unk><unk>C<unk><unk>C<unk>C<unk>C<unk>O<unk>C<unk>CCCCCCCCCCCCCCCCCCCCCCCC<unk>CCCCCCCCCC<unk>CCC<unk>CCCCCCCCCCCCCCCCCCCCCCO\n",
      "\n",
      "True SMILES: O<unk>C<unk>NC<unk>COP<unk><unk>O<unk><unk><unk>O<unk><unk><unk>OCC<unk>N<unk><unk><unk>C<unk><unk>C<unk>C<unk>C<unk>O<unk>CCCCCCCCCCCCCCCCCCCCCCCCC<unk>CCCCCCCCCCCCCCCCCCCCCCCCCCCCCCCCCCCCC\n",
      "Pred SMILES: O<unk>C<unk>NC<unk>COP<unk><unk>O<unk><unk><unk>O<unk><unk><unk>OCC<unk>N<unk><unk><unk>C<unk><unk>C<unk>C<unk>C<unk>O<unk>CCCCCCCCCCCCCCCCCCCCCCCCC<unk>CCCCCCCCCCCCCCCCCCCCCCCCCCCCCCCCCCCCC\n",
      "\n",
      "True SMILES: O<unk>C<unk>NC<unk>COP<unk><unk>O<unk><unk><unk>O<unk><unk><unk>OCC<unk>N<unk><unk><unk>C<unk><unk>C<unk>C<unk>C<unk>O<unk>CCCCCCCCCCCCCCCCCCCCCCCCC<unk>CCCCCCCCCCCCCCCCCCCC<unk>CCC<unk>CCCCCCCCCCCC\n",
      "Pred SMILES: O<unk>C<unk>NC<unk>COP<unk><unk>O<unk><unk><unk>O<unk><unk><unk>OCC<unk>N<unk><unk><unk>C<unk><unk>C<unk>C<unk>C<unk>O<unk>CCCCCCCCCCCCCCCCCCCCCCCCC<unk>CCCCCCCCCCCCCCCCCCCC<unk>CCC<unk>CCCCCCCCCCCC\n",
      "\n",
      "True SMILES: O<unk>C<unk>NC<unk>COP<unk><unk>O<unk><unk><unk>O<unk><unk><unk>OCC<unk>N<unk><unk><unk>C<unk><unk>C<unk>C<unk>C<unk>O<unk>CCCCCCCCCCCCCCCCCCCCCCCCC<unk>CCCCCCCCCCCCCCCCCCCC<unk>CCCCCCCCCCCCCCC\n",
      "Pred SMILES: O<unk>C<unk>NC<unk>COP<unk><unk>O<unk><unk><unk>O<unk><unk><unk>OCC<unk>N<unk><unk><unk>C<unk><unk>C<unk>C<unk>C<unk>O<unk>CCCCCCCCCCCCCCCCCCCCCCCCC<unk>CCCCCCCCCCCCCCCCCCCC<unk>CCCCCCCCCCCCCCCC\n",
      "\n",
      "True SMILES: O<unk>C<unk>NC<unk>COP<unk><unk>O<unk><unk><unk>O<unk><unk><unk>OCC<unk>N<unk><unk><unk>C<unk><unk>C<unk>C<unk>C<unk>O<unk>CCCCCCCCCCCCCCCCCCCCCCCCC<unk>CCCCCCCCCCCCCCCCCCCCCCCCCCCCCCCCCCC\n",
      "Pred SMILES: O<unk>C<unk>NC<unk>COP<unk><unk>O<unk><unk><unk>O<unk><unk><unk>OCC<unk>N<unk><unk><unk>C<unk><unk>C<unk>C<unk>C<unk>O<unk>CCCCCCCCCCCCCCCCCCCCCCCCC<unk>CCCCCCCCCCCCCCCCCCCCCCCCCCCCCCCCCCC\n",
      "\n",
      "True SMILES: O<unk>C<unk>NC<unk>COP<unk><unk>O<unk><unk><unk>O<unk><unk><unk>OCC<unk>N<unk><unk><unk>C<unk><unk>C<unk>C<unk>C<unk>O<unk>CCCCCCCCCCCCCCCCCCCCCCCCC<unk>CCCCCCCCCCCCCCCCCCC<unk>CCCCCCCCCCCCCCC\n",
      "Pred SMILES: O<unk>C<unk>NC<unk>COP<unk><unk>O<unk><unk><unk>O<unk><unk><unk>OCC<unk>N<unk><unk><unk>C<unk><unk>C<unk>C<unk>C<unk>O<unk>CCCCCCCCCCCCCCCCCCCCCCCCC<unk>CCCCCCCCCCCCCCCCCCC<unk>CCCCCCCCCCCCCCC\n",
      "\n",
      "True SMILES: O<unk>C<unk>NC<unk>COP<unk><unk>O<unk><unk><unk>O<unk><unk><unk>OCC<unk>N<unk><unk><unk>C<unk><unk>C<unk>C<unk>C<unk>O<unk>CCCCCCCCCCCCCCCCCCCCCCCCC<unk>CCCCCCCCCC<unk>CCCCCCCCCCCCC\n",
      "Pred SMILES: O<unk>C<unk>NC<unk>COP<unk><unk>O<unk><unk><unk>O<unk><unk><unk>OCC<unk>N<unk><unk><unk>C<unk><unk>C<unk>C<unk>C<unk>O<unk>CCCCCCCCCCCCCCCCCCCCCCCCC<unk>CCCCCCCCCC<unk>CCCCCCCCCCCCCCCCCCCCCCCCCCCCOCC\n",
      "\n",
      "True SMILES: O<unk>C<unk>NC<unk>COP<unk><unk>O<unk><unk><unk>O<unk><unk><unk>OCC<unk>N<unk><unk><unk>C<unk><unk>C<unk>C<unk>C<unk>O<unk>CCCCCCCCCCCCCCCCCCCCCCCCC<unk>CCCCCCCCCCCCCCCCCCCCCCC\n",
      "Pred SMILES: O<unk>C<unk>NC<unk>COP<unk><unk>O<unk><unk><unk>O<unk><unk><unk>OCC<unk>N<unk><unk><unk>C<unk><unk>C<unk>C<unk>C<unk>O<unk>CCCCCCCCCCCCCCCCCCCCCCCCC<unk>CCCCCCCCCCCCCCCCCCCCCCCCCCCCCCCCCCCCCCCO\n",
      "\n",
      "True SMILES: O<unk>C<unk>NC<unk>COP<unk><unk>O<unk><unk><unk>O<unk><unk><unk>OCC<unk>N<unk><unk><unk>C<unk><unk>C<unk>C<unk>C<unk>O<unk>CCCCCCCCCCCCCCCCCCCCCCCCC<unk>CCCCCCCCCC<unk>CCCCCCCCCCCC\n",
      "Pred SMILES: O<unk>C<unk>NC<unk>COP<unk><unk>O<unk><unk><unk>O<unk><unk><unk>OCC<unk>N<unk><unk><unk>C<unk><unk>C<unk>C<unk>C<unk>O<unk>CCCCCCCCCCCCCCCCCCCCCCCCC<unk>CCCCCCCCCC<unk>CCCCCCCCCCCCCCCCCCCCCCCCCCCCO\n",
      "\n",
      "True SMILES: O<unk>C<unk>NC<unk>COP<unk><unk>O<unk><unk><unk>O<unk><unk><unk>OCC<unk>N<unk><unk><unk>C<unk><unk>C<unk>C<unk>C<unk>O<unk>CCCCCCCCCCCCCCCCCCCCCCCCC<unk>CCCCCCCCCCCCCCCCCCCCCC\n",
      "Pred SMILES: O<unk>C<unk>NC<unk>COP<unk><unk>O<unk><unk><unk>O<unk><unk><unk>OCC<unk>N<unk><unk><unk>C<unk><unk>C<unk>C<unk>C<unk>O<unk>CCCCCCCCCCCCCCCCCCCCCCCCC<unk>CCCCCCCCCCCCCCCCCCCCCCCCCCCCCCCCCCCCCCCO\n",
      "\n",
      "True SMILES: O<unk>C<unk>NC<unk>COP<unk><unk>O<unk><unk><unk>O<unk><unk><unk>OCC<unk>N<unk><unk><unk>C<unk><unk>C<unk>C<unk>C<unk>O<unk>CCCCCCCCCCCCCCCCCCCCCCCCC<unk>CCCCCCCCCCCCC<unk>CC<unk>CCCCCC\n",
      "Pred SMILES: O<unk>C<unk>NC<unk>COP<unk><unk>O<unk><unk><unk>O<unk><unk><unk>OCC<unk>N<unk><unk><unk>C<unk><unk>C<unk>C<unk>C<unk>O<unk>CCCCCCCCCCCCCCCCCCCCCCCCC<unk>CCCCCCCCCCCCC<unk>CC<unk>CCCCCCCCCCCCCCCCCCCCCCO\n",
      "\n",
      "True SMILES: O<unk>C<unk>NC<unk>COP<unk><unk>O<unk><unk><unk>O<unk><unk><unk>OCC<unk>N<unk><unk><unk>C<unk><unk>C<unk>C<unk>C<unk>O<unk>C<unk>CCCC<unk>CCCC<unk>CCCCCCCCCCCCCCC<unk>CCCCCCCCCCCCCCCCCCCC<unk>CCC<unk>CCCCCCCCCCCCCCCC\n",
      "Pred SMILES: O<unk>C<unk>NC<unk>COP<unk><unk>O<unk><unk><unk>O<unk><unk><unk>OCC<unk>N<unk><unk><unk>C<unk><unk>C<unk>C<unk>C<unk>O<unk>C<unk>CCCC<unk>CCCC<unk>CCCCCCCCCCCCCCC<unk>CCCCCCCCCCCCCCCCCCCC<unk>CCC<unk>CCCCCCCCCCCCCCCC\n",
      "\n",
      "True SMILES: O<unk>C<unk>NC<unk>COP<unk><unk>O<unk><unk><unk>O<unk><unk><unk>OCC<unk>N<unk><unk><unk>C<unk><unk>C<unk>C<unk>C<unk>O<unk>C<unk>CCCC<unk>CCCC<unk>CCCCCCCCCCCCCCC<unk>CCCCCCCCCCCCCCCCCCCC<unk>CCCCCCCCCCCCCCCCCCC\n",
      "Pred SMILES: O<unk>C<unk>NC<unk>COP<unk><unk>O<unk><unk><unk>O<unk><unk><unk>OCC<unk>N<unk><unk><unk>C<unk><unk>C<unk>C<unk>C<unk>O<unk>C<unk>CCCC<unk>CCCC<unk>CCCCCCCCCCCCCCC<unk>CCCCCCCCCCCCCCCCCCCC<unk>CCCCCCCCCCCCCCCCCCCC\n",
      "\n",
      "True SMILES: O<unk>C<unk>NC<unk>COP<unk><unk>O<unk><unk><unk>O<unk><unk><unk>OCC<unk>N<unk><unk><unk>C<unk><unk>C<unk>C<unk>C<unk>O<unk>C<unk>CCCC<unk>CCCC<unk>CCCCCCCCCCCCCCC<unk>CCCCCCCCCCCCCCCCCCCCCCCCCCCCCCCCCCCCCCC\n",
      "Pred SMILES: O<unk>C<unk>NC<unk>COP<unk><unk>O<unk><unk><unk>O<unk><unk><unk>OCC<unk>N<unk><unk><unk>C<unk><unk>C<unk>C<unk>C<unk>O<unk>C<unk>CCCC<unk>CCCC<unk>CCCCCCCCCCCCCCC<unk>CCCCCCCCCCCCCCCCCCCCCCCCCCCCCCCCCCCCCCCC\n",
      "\n",
      "True SMILES: O<unk>C<unk>NC<unk>COP<unk><unk>O<unk><unk><unk>O<unk><unk><unk>OCC<unk>N<unk><unk><unk>C<unk><unk>C<unk>C<unk>C<unk>O<unk>C<unk>CCCC<unk>CCCC<unk>CCCCCCCCCCCCCCC<unk>CCCCCCCCCCCCCCCCCCCC<unk>CCC<unk>CCCCCCCCCCCCCC\n",
      "Pred SMILES: O<unk>C<unk>NC<unk>COP<unk><unk>O<unk><unk><unk>O<unk><unk><unk>OCC<unk>N<unk><unk><unk>C<unk><unk>C<unk>C<unk>C<unk>O<unk>C<unk>CCCC<unk>CCCC<unk>CCCCCCCCCCCCCCC<unk>CCCCCCCCCCCCCCCCCCCC<unk>CCC<unk>CCCCCCCCCCCCCCC\n",
      "\n",
      "True SMILES: O<unk>C<unk>NC<unk>COP<unk><unk>O<unk><unk><unk>O<unk><unk><unk>OCC<unk>N<unk><unk><unk>C<unk><unk>C<unk>C<unk>C<unk>O<unk>C<unk>CCCC<unk>CCCC<unk>CCCCCCCCCCCCCCC<unk>CCCCCCCCCCCCCCCCCCCC<unk>CCCCCCCCCCCCCCCCC\n",
      "Pred SMILES: O<unk>C<unk>NC<unk>COP<unk><unk>O<unk><unk><unk>O<unk><unk><unk>OCC<unk>N<unk><unk><unk>C<unk><unk>C<unk>C<unk>C<unk>O<unk>C<unk>CCCC<unk>CCCC<unk>CCCCCCCCCCCCCCC<unk>CCCCCCCCCCCCCCCCCCCC<unk>CCCCCCCCCCCCCCCCCC\n",
      "\n",
      "True SMILES: O<unk>C<unk>NC<unk>COP<unk><unk>O<unk><unk><unk>O<unk><unk><unk>OCC<unk>N<unk><unk><unk>C<unk><unk>C<unk>C<unk>C<unk>O<unk>C<unk>CCCC<unk>CCCC<unk>CCCCCCCCCCCCCCC<unk>CCCCCCCCCC<unk>CCCCCCCCCCCCCCC\n",
      "Pred SMILES: O<unk>C<unk>NC<unk>COP<unk><unk>O<unk><unk><unk>O<unk><unk><unk>OCC<unk>N<unk><unk><unk>C<unk><unk>C<unk>C<unk>C<unk>O<unk>C<unk>CCCC<unk>CCCC<unk>CCCCCCCCCCCCCCC<unk>CCCCCCCCCC<unk>CCCCCCCCCCCCCCCC\n",
      "\n",
      "True SMILES: O<unk>C<unk>NC<unk>COP<unk><unk>O<unk><unk><unk>O<unk><unk><unk>OCC<unk>N<unk><unk><unk>C<unk><unk>C<unk>C<unk>C<unk>O<unk>C<unk>CCCC<unk>CCCC<unk>CCCCCCCCCCCCCCC<unk>CCCCCCCCCCCCCCCCCCCCCCCCC\n",
      "Pred SMILES: O<unk>C<unk>NC<unk>COP<unk><unk>O<unk><unk><unk>O<unk><unk><unk>OCC<unk>N<unk><unk><unk>C<unk><unk>C<unk>C<unk>C<unk>O<unk>C<unk>CCCC<unk>CCCC<unk>CCCCCCCCCCCCCCC<unk>CCCCCCCCCCCCCCCCCCCCCCCCCC\n",
      "\n",
      "True SMILES: O<unk>C<unk>NC<unk>COP<unk><unk>O<unk><unk><unk>O<unk><unk><unk>OCC<unk>N<unk><unk><unk>C<unk><unk>C<unk>C<unk>C<unk>O<unk>C<unk>CCCC<unk>CCCC<unk>CCCCCCCCCCCCCCC<unk>CCCCCCCCCC<unk>CCCCCCCCCCCCCC\n",
      "Pred SMILES: O<unk>C<unk>NC<unk>COP<unk><unk>O<unk><unk><unk>O<unk><unk><unk>OCC<unk>N<unk><unk><unk>C<unk><unk>C<unk>C<unk>C<unk>O<unk>C<unk>CCCC<unk>CCCC<unk>CCCCCCCCCCCCCCC<unk>CCCCCCCCCC<unk>CCCCCCCCCCCCCCC\n",
      "\n",
      "True SMILES: O<unk>C<unk>NC<unk>COP<unk><unk>O<unk><unk><unk>O<unk><unk><unk>OCC<unk>N<unk><unk><unk>C<unk><unk>C<unk>C<unk>C<unk>O<unk>C<unk>CCCC<unk>CCCC<unk>CCCCCCCCCCCCCCC<unk>CCCCCCCCCCCCCCCCCCCCCCCC\n",
      "Pred SMILES: O<unk>C<unk>NC<unk>COP<unk><unk>O<unk><unk><unk>O<unk><unk><unk>OCC<unk>N<unk><unk><unk>C<unk><unk>C<unk>C<unk>C<unk>O<unk>C<unk>CCCC<unk>CCCC<unk>CCCCCCCCCCCCCCC<unk>CCCCCCCCCCCCCCCCCCCCCCCCC\n",
      "\n",
      "True SMILES: O<unk>C<unk>NC<unk>COP<unk><unk>O<unk><unk><unk>O<unk><unk><unk>OCC<unk>N<unk><unk><unk>C<unk><unk>C<unk>C<unk>C<unk>O<unk>C<unk>CCCC<unk>CCCC<unk>CCCCCCCCCCCCCCC<unk>CCCCCCCCCCCCCCCCC<unk>CCC<unk>CCC\n",
      "Pred SMILES: O<unk>C<unk>NC<unk>COP<unk><unk>O<unk><unk><unk>O<unk><unk><unk>OCC<unk>N<unk><unk><unk>C<unk><unk>C<unk>C<unk>C<unk>O<unk>C<unk>CCCC<unk>CCCC<unk>CCCCCCCCCCCCCCC<unk>CCCCCCCCCCCCCCCCC<unk>CCC<unk>CCCC\n",
      "\n",
      "True SMILES: O<unk>C<unk>NC<unk>COP<unk><unk>O<unk><unk><unk>O<unk><unk><unk>OCC<unk>N<unk><unk><unk>C<unk><unk>C<unk>C<unk>C<unk>O<unk>C<unk>CCCC<unk>CCCC<unk>CCCCCCCCCCCCCCC<unk>CCCC<unk>CCCCCCC\n",
      "Pred SMILES: O<unk>C<unk>NC<unk>COP<unk><unk>O<unk><unk><unk>O<unk><unk><unk>OCC<unk>N<unk><unk><unk>C<unk><unk>C<unk>C<unk>C<unk>O<unk>C<unk>CCCC<unk>CCCC<unk>CCCCCCCCCCCCCCC<unk>CCCC<unk>CCCCCCCCCCCCCCCCCCCCCCCCCCCCCO\n",
      "\n",
      "True SMILES: O<unk>C<unk>NC<unk>COP<unk><unk>O<unk><unk><unk>O<unk><unk><unk>OCC<unk>N<unk><unk><unk>C<unk><unk>C<unk>C<unk>C<unk>O<unk>C<unk>CCCC<unk>CCCC<unk>CCCCCCCCCCCCCCC<unk>CCCCCCCCCCC\n",
      "Pred SMILES: O<unk>C<unk>NC<unk>COP<unk><unk>O<unk><unk><unk>O<unk><unk><unk>OCC<unk>N<unk><unk><unk>C<unk><unk>C<unk>C<unk>C<unk>O<unk>C<unk>CCCC<unk>CCCC<unk>CCCCCCCCCCCCCCC<unk>CCCCCCCCCCCCCCCCCCCCCCCCCCCCCCCCCCO\n",
      "\n",
      "True SMILES: O<unk>C<unk>NC<unk>COP<unk><unk>O<unk><unk><unk>O<unk><unk><unk>OCC<unk>N<unk><unk><unk>C<unk><unk>C<unk>C<unk>C<unk>O<unk>C<unk>CCCC<unk>CCCCCCCCCCCCCCCCCCC<unk>CCCCCCCCCCCCCCCCCCCC<unk>CCC<unk>CCCCCCCCCCCCCCCCCC\n",
      "Pred SMILES: O<unk>C<unk>NC<unk>COP<unk><unk>O<unk><unk><unk>O<unk><unk><unk>OCC<unk>N<unk><unk><unk>C<unk><unk>C<unk>C<unk>C<unk>O<unk>C<unk>CCCC<unk>CCCCCCCCCCCCCCCCCCC<unk>CCCCCCCCCCCCCCCCCCCC<unk>CCC<unk>CCCCCCCCCCCCCCCCCC\n",
      "\n",
      "True SMILES: O<unk>C<unk>NC<unk>COP<unk><unk>O<unk><unk><unk>O<unk><unk><unk>OCC<unk>N<unk><unk><unk>C<unk><unk>C<unk>C<unk>C<unk>O<unk>C<unk>CCCC<unk>CCCCCCCCCCCCCCCCCCC<unk>CCCCCCCCCCCCCCCCCCCC<unk>CCCCCCCCCCCCCCCCCCCCC\n",
      "Pred SMILES: O<unk>C<unk>NC<unk>COP<unk><unk>O<unk><unk><unk>O<unk><unk><unk>OCC<unk>N<unk><unk><unk>C<unk><unk>C<unk>C<unk>C<unk>O<unk>C<unk>CCCC<unk>CCCCCCCCCCCCCCCCCCC<unk>CCCCCCCCCCCCCCCCCCCC<unk>CCCCCCCCCCCCCCCCCCCCC\n",
      "\n",
      "True SMILES: O<unk>C<unk>NC<unk>COP<unk><unk>O<unk><unk><unk>O<unk><unk><unk>OCC<unk>N<unk><unk><unk>C<unk><unk>C<unk>C<unk>C<unk>O<unk>C<unk>CCCC<unk>CCCCCCCCCCCCCCCCCCC<unk>CCCCCCCCCCCCCCCCCCCCCCCCCCCCCCCCCCCCCCCCC\n",
      "Pred SMILES: O<unk>C<unk>NC<unk>COP<unk><unk>O<unk><unk><unk>O<unk><unk><unk>OCC<unk>N<unk><unk><unk>C<unk><unk>C<unk>C<unk>C<unk>O<unk>C<unk>CCCC<unk>CCCCCCCCCCCCCCCCCCC<unk>CCCCCCCCCCCCCCCCCCCCCCCCCCCCCCCCCCCCCCCCCC\n",
      "\n",
      "True SMILES: O<unk>C<unk>NC<unk>COP<unk><unk>O<unk><unk><unk>O<unk><unk><unk>OCC<unk>N<unk><unk><unk>C<unk><unk>C<unk>C<unk>C<unk>O<unk>C<unk>CCCC<unk>CCCCCCCCCCCCCCCCCCC<unk>CCCCCCCCCCCC<unk>CCCCCCCCCCCCCCC\n",
      "Pred SMILES: O<unk>C<unk>NC<unk>COP<unk><unk>O<unk><unk><unk>O<unk><unk><unk>OCC<unk>N<unk><unk><unk>C<unk><unk>C<unk>C<unk>C<unk>O<unk>C<unk>CCCC<unk>CCCCCCCCCCCCCCCCCCC<unk>CCCCCCCCCCCC<unk>CCCCCCCCCCCCCCCC\n",
      "\n",
      "True SMILES: O<unk>C<unk>NC<unk>COP<unk><unk>O<unk><unk><unk>O<unk><unk><unk>OCC<unk>N<unk><unk><unk>C<unk><unk>C<unk>C<unk>C<unk>O<unk>C<unk>CCCC<unk>CCCCCCCCCCCCCCCCCCC<unk>CCCCCCCCCCCCCCCCCCCCCCCCCCC\n",
      "Pred SMILES: O<unk>C<unk>NC<unk>COP<unk><unk>O<unk><unk><unk>O<unk><unk><unk>OCC<unk>N<unk><unk><unk>C<unk><unk>C<unk>C<unk>C<unk>O<unk>C<unk>CCCC<unk>CCCCCCCCCCCCCCCCCCC<unk>CCCCCCCCCCCCCCCCCCCCCCCCCCCC\n",
      "\n",
      "True SMILES: O<unk>C<unk>NC<unk>COP<unk><unk>O<unk><unk><unk>O<unk><unk><unk>OCC<unk>N<unk><unk><unk>C<unk><unk>C<unk>C<unk>C<unk>O<unk>C<unk>CCCC<unk>CCCCCCCCCCCCCCCCCCC<unk>CCCCCCCCCCC<unk>CCCCCCCCCCCCCCC\n",
      "Pred SMILES: O<unk>C<unk>NC<unk>COP<unk><unk>O<unk><unk><unk>O<unk><unk><unk>OCC<unk>N<unk><unk><unk>C<unk><unk>C<unk>C<unk>C<unk>O<unk>C<unk>CCCC<unk>CCCCCCCCCCCCCCCCCCC<unk>CCCCCCCCCCC<unk>CCCCCCCCCCCCCCCC\n",
      "\n",
      "True SMILES: O<unk>C<unk>NC<unk>COP<unk><unk>O<unk><unk><unk>O<unk><unk><unk>OCC<unk>N<unk><unk><unk>C<unk><unk>C<unk>C<unk>C<unk>O<unk>C<unk>CCCC<unk>CCCCCCCCCCCCCCCCCCC<unk>CCCCCCCCCCCCCCCCCCCCCCCCCC\n",
      "Pred SMILES: O<unk>C<unk>NC<unk>COP<unk><unk>O<unk><unk><unk>O<unk><unk><unk>OCC<unk>N<unk><unk><unk>C<unk><unk>C<unk>C<unk>C<unk>O<unk>C<unk>CCCC<unk>CCCCCCCCCCCCCCCCCCC<unk>CCCCCCCCCCCCCCCCCCCCCCCCCCC\n",
      "\n",
      "True SMILES: O<unk>C<unk>NC<unk>COP<unk><unk>O<unk><unk><unk>O<unk><unk><unk>OCC<unk>N<unk><unk><unk>C<unk><unk>C<unk>C<unk>C<unk>O<unk>C<unk>CCCC<unk>CCCCCCCCCCCCCCCCCCC<unk>CCCCCCCCCC<unk>CCC<unk>CCCCCCCCCCCC\n",
      "Pred SMILES: O<unk>C<unk>NC<unk>COP<unk><unk>O<unk><unk><unk>O<unk><unk><unk>OCC<unk>N<unk><unk><unk>C<unk><unk>C<unk>C<unk>C<unk>O<unk>C<unk>CCCC<unk>CCCCCCCCCCCCCCCCCCC<unk>CCCCCCCCCC<unk>CCC<unk>CCCCCCCCCCCCC\n",
      "\n",
      "True SMILES: O<unk>C<unk>NC<unk>COP<unk><unk>O<unk><unk><unk>O<unk><unk><unk>OCC<unk>N<unk><unk><unk>C<unk><unk>C<unk>C<unk>C<unk>O<unk>C<unk>CCCC<unk>CCCCCCCCCCCCCCCCCCC<unk>CCCCCCCCCCCCCC\n",
      "Pred SMILES: O<unk>C<unk>NC<unk>COP<unk><unk>O<unk><unk><unk>O<unk><unk><unk>OCC<unk>N<unk><unk><unk>C<unk><unk>C<unk>C<unk>C<unk>O<unk>C<unk>CCCC<unk>CCCCCCCCCCCCCCCCCCC<unk>CCCCCCCCCCCCCCCCCCCCCCCCCCCCCCCCCCCCCC\n",
      "\n",
      "True SMILES: O<unk>C<unk>NC<unk>COP<unk><unk>O<unk><unk><unk>O<unk><unk><unk>OCC<unk>N<unk><unk><unk>C<unk><unk>C<unk>C<unk>C<unk>O<unk>C<unk>CCCC<unk>CCCCCCCCCCCCCCCCCCC<unk>CCCCCCCC<unk>CCCCC\n",
      "Pred SMILES: O<unk>C<unk>NC<unk>COP<unk><unk>O<unk><unk><unk>O<unk><unk><unk>OCC<unk>N<unk><unk><unk>C<unk><unk>C<unk>C<unk>C<unk>O<unk>C<unk>CCCC<unk>CCCCCCCCCCCCCCCCCCC<unk>CCCCCCCC<unk>CCCCCCCCCCCCCCCCCCCCCCCCCCCCC\n",
      "\n",
      "True SMILES: O<unk>C<unk>NC<unk>COP<unk><unk>O<unk><unk><unk>O<unk><unk><unk>OCC<unk>N<unk><unk><unk>C<unk><unk>C<unk>C<unk>C<unk>O<unk>C<unk>CCCC<unk>CCCCCCCCCCCCCCCCCCC<unk>CCCCCCCCCCCCC\n",
      "Pred SMILES: O<unk>C<unk>NC<unk>COP<unk><unk>O<unk><unk><unk>O<unk><unk><unk>OCC<unk>N<unk><unk><unk>C<unk><unk>C<unk>C<unk>C<unk>O<unk>C<unk>CCCC<unk>CCCCCCCCCCCCCCCCCCC<unk>CCCCCCCCCCCCCCCCCCCCCCCCCCCCCCCCCCCO\n",
      "\n",
      "True SMILES: O<unk>C<unk>NC<unk>COP<unk><unk>O<unk><unk><unk>O<unk><unk><unk>OCC<unk>N<unk><unk><unk>C<unk><unk>C<unk>C<unk>C<unk>O<unk>C<unk>CCCC<unk>CCCCCCCCCCCCCCCCCCC<unk>CCCCCCC<unk>CCCCC\n",
      "Pred SMILES: O<unk>C<unk>NC<unk>COP<unk><unk>O<unk><unk><unk>O<unk><unk><unk>OCC<unk>N<unk><unk><unk>C<unk><unk>C<unk>C<unk>C<unk>O<unk>C<unk>CCCC<unk>CCCCCCCCCCCCCCCCCCC<unk>CCCCCCC<unk>CCCCCCCCCCCCCCCCCCCCCCCCCCCCO\n",
      "\n",
      "True SMILES: O<unk>C<unk>NC<unk>COP<unk><unk>O<unk><unk><unk>O<unk><unk><unk>OCC<unk>N<unk><unk><unk>C<unk><unk>C<unk>C<unk>C<unk>O<unk>C<unk>CCCC<unk>CCCCCCCCCCCCCCCCCCC<unk>CCCCCCCCCCCC\n",
      "Pred SMILES: O<unk>C<unk>NC<unk>COP<unk><unk>O<unk><unk><unk>O<unk><unk><unk>OCC<unk>N<unk><unk><unk>C<unk><unk>C<unk>C<unk>C<unk>O<unk>C<unk>CCCC<unk>CCCCCCCCCCCCCCCCCCC<unk>CCCCCCCCCCCCCCCCCCCCCCCCCCCCCCCCCCO\n",
      "\n",
      "True SMILES: O<unk>C<unk>NC<unk>COP<unk><unk>O<unk><unk><unk>O<unk><unk><unk>OCC<unk>N<unk><unk><unk>C<unk><unk>C<unk>C<unk>C<unk>O<unk>C<unk>CCCCCCCCCCCCCCCCCCCCCCC<unk>CCCCCCCCCCCCCC<unk>CCCCCCCCCCCCCCC\n",
      "Pred SMILES: O<unk>C<unk>NC<unk>COP<unk><unk>O<unk><unk><unk>O<unk><unk><unk>OCC<unk>N<unk><unk><unk>C<unk><unk>C<unk>C<unk>C<unk>O<unk>C<unk>CCCCCCCCCCCCCCCCCCCCCCC<unk>CCCCCCCCCCCCCC<unk>CCCCCCCCCCCCCCCC\n",
      "\n",
      "True SMILES: O<unk>C<unk>NC<unk>COP<unk><unk>O<unk><unk><unk>O<unk><unk><unk>OCC<unk>N<unk><unk><unk>C<unk><unk>C<unk>C<unk>C<unk>O<unk>C<unk>CCCCCCCCCCCCCCCCCCCCCCC<unk>CCCCCCCCCCCCCCCCCCCCCCCCCCCCC\n",
      "Pred SMILES: O<unk>C<unk>NC<unk>COP<unk><unk>O<unk><unk><unk>O<unk><unk><unk>OCC<unk>N<unk><unk><unk>C<unk><unk>C<unk>C<unk>C<unk>O<unk>C<unk>CCCCCCCCCCCCCCCCCCCCCCC<unk>CCCCCCCCCCCCCCCCCCCCCCCCCCCCCC\n",
      "\n",
      "True SMILES: O<unk>C<unk>NC<unk>COP<unk><unk>O<unk><unk><unk>O<unk><unk><unk>OCC<unk>N<unk><unk><unk>C<unk><unk>C<unk>C<unk>C<unk>O<unk>C<unk>CCCCCCCCCCCCCCCCCCCCCCC<unk>CCCCCCCCCCCCC<unk>CCCCCCCCCCCCCCC\n",
      "Pred SMILES: O<unk>C<unk>NC<unk>COP<unk><unk>O<unk><unk><unk>O<unk><unk><unk>OCC<unk>N<unk><unk><unk>C<unk><unk>C<unk>C<unk>C<unk>O<unk>C<unk>CCCCCCCCCCCCCCCCCCCCCCC<unk>CCCCCCCCCCCCC<unk>CCCCCCCCCCCCCCCC\n",
      "\n",
      "True SMILES: O<unk>C<unk>NC<unk>COP<unk><unk>O<unk><unk><unk>O<unk><unk><unk>OCC<unk>N<unk><unk><unk>C<unk><unk>C<unk>C<unk>C<unk>O<unk>C<unk>CCCCCCCCCCCCCCCCCCCCCCC<unk>CCCCCCCCCCCCCCCCCCCCCCCCCCCC\n",
      "Pred SMILES: O<unk>C<unk>NC<unk>COP<unk><unk>O<unk><unk><unk>O<unk><unk><unk>OCC<unk>N<unk><unk><unk>C<unk><unk>C<unk>C<unk>C<unk>O<unk>C<unk>CCCCCCCCCCCCCCCCCCCCCCC<unk>CCCCCCCCCCCCCCCCCCCCCCCCCCCCC<unk>\n",
      "\n",
      "True SMILES: O<unk>C<unk>NC<unk>COP<unk><unk>O<unk><unk><unk>O<unk><unk><unk>OCC<unk>N<unk><unk><unk>C<unk><unk>C<unk>C<unk>C<unk>O<unk>C<unk>CCCCCCCCCCCCCCCCCCCCCCC<unk>CCCCCCCCCCCC<unk>CCC<unk>CCCCCCCCCCCC\n",
      "Pred SMILES: O<unk>C<unk>NC<unk>COP<unk><unk>O<unk><unk><unk>O<unk><unk><unk>OCC<unk>N<unk><unk><unk>C<unk><unk>C<unk>C<unk>C<unk>O<unk>C<unk>CCCCCCCCCCCCCCCCCCCCCCC<unk>CCCCCCCCCCCC<unk>CCC<unk>CCCCCCCCCCCCC\n",
      "\n",
      "True SMILES: O<unk>C<unk>NC<unk>COP<unk><unk>O<unk><unk><unk>O<unk><unk><unk>OCC<unk>N<unk><unk><unk>C<unk><unk>C<unk>C<unk>C<unk>O<unk>C<unk>CCCCCCCCCCCCCCCCCCCCCCC<unk>CCCCCCCCCCCCCCCC\n",
      "Pred SMILES: O<unk>C<unk>NC<unk>COP<unk><unk>O<unk><unk><unk>O<unk><unk><unk>OCC<unk>N<unk><unk><unk>C<unk><unk>C<unk>C<unk>C<unk>O<unk>C<unk>CCCCCCCCCCCCCCCCCCCCCCC<unk>CCCCCCCCCCCCCCCCCCCCCCCCCCCCCCCCCCCCCCCO<unk>\n",
      "\n",
      "True SMILES: O<unk>C<unk>NC<unk>COP<unk><unk>O<unk><unk><unk>O<unk><unk><unk>OCC<unk>N<unk><unk><unk>C<unk><unk>C<unk>C<unk>C<unk>O<unk>C<unk>CCCCCCCCCCCCCCCCCCCCCCC<unk>CCC<unk>CCC<unk>CCCCCCCCC\n",
      "Pred SMILES: O<unk>C<unk>NC<unk>COP<unk><unk>O<unk><unk><unk>O<unk><unk><unk>OCC<unk>N<unk><unk><unk>C<unk><unk>C<unk>C<unk>C<unk>O<unk>C<unk>CCCCCCCCCCCCCCCCCCCCCCC<unk>CCC<unk>CCC<unk>CCCCCCCCCCCCCCCCCCCCCCCCCCCCCCCO<unk>\n",
      "\n",
      "True SMILES: O<unk>C<unk>NC<unk>COP<unk><unk>O<unk><unk><unk>O<unk><unk><unk>OCC<unk>N<unk><unk><unk>C<unk><unk>C<unk>C<unk>C<unk>O<unk>C<unk>CCCCCCCCCCCCCCCCCCCCCCC<unk>CCCCCC<unk>CCCCCCCCC\n",
      "Pred SMILES: O<unk>C<unk>NC<unk>COP<unk><unk>O<unk><unk><unk>O<unk><unk><unk>OCC<unk>N<unk><unk><unk>C<unk><unk>C<unk>C<unk>C<unk>O<unk>C<unk>CCCCCCCCCCCCCCCCCCCCCCC<unk>CCCCCC<unk>CCCCCCCCCCCCCCCCCCCCCCCCCCCCCCCCO<unk>\n",
      "\n",
      "True SMILES: O<unk>C<unk>NC<unk>COP<unk><unk>O<unk><unk><unk>O<unk><unk><unk>OCC<unk>N<unk><unk><unk>C<unk><unk>C<unk>C<unk>C<unk>O<unk>C<unk>CCCCCCCCCCCCCCCCCCCCCCC<unk>CCCCCCCCCCCCCCC\n",
      "Pred SMILES: O<unk>C<unk>NC<unk>COP<unk><unk>O<unk><unk><unk>O<unk><unk><unk>OCC<unk>N<unk><unk><unk>C<unk><unk>C<unk>C<unk>C<unk>O<unk>C<unk>CCCCCCCCCCCCCCCCCCCCCCC<unk>CCCCCCCCCCCCCCCCCCCCCCCCCCCCCCCCCCCCCCC<unk>\n",
      "\n",
      "True SMILES: O<unk>C<unk>NC<unk>COP<unk><unk>O<unk><unk><unk>O<unk><unk><unk>OCC<unk>N<unk><unk><unk>C<unk><unk>C<unk>C<unk>C<unk>O<unk>C<unk>CCCCCCCCCCCCCCCCCCCCCCC<unk>CCCCCCCC<unk>CCCCCC\n",
      "Pred SMILES: O<unk>C<unk>NC<unk>COP<unk><unk>O<unk><unk><unk>O<unk><unk><unk>OCC<unk>N<unk><unk><unk>C<unk><unk>C<unk>C<unk>C<unk>O<unk>C<unk>CCCCCCCCCCCCCCCCCCCCCCC<unk>CCCCCCCC<unk>CCCCCCCCCCCCCCCCCCCCCCCCCCCCCC<unk>\n",
      "\n",
      "True SMILES: O<unk>C<unk>NC<unk>COP<unk><unk>O<unk><unk><unk>O<unk><unk><unk>OCC<unk>N<unk><unk><unk>C<unk><unk>C<unk>C<unk>C<unk>O<unk>CCCCCCCCCCCCCCCCCCCCCCCC<unk>CCCCCCCCCCCCCCCC<unk>CCCCCCCCCCCCCCC\n",
      "Pred SMILES: O<unk>C<unk>NC<unk>COP<unk><unk>O<unk><unk><unk>O<unk><unk><unk>OCC<unk>N<unk><unk><unk>C<unk><unk>C<unk>C<unk>C<unk>O<unk>CCCCCCCCCCCCCCCCCCCCCCCC<unk>CCCCCCCCCCCCCCCC<unk>CCCCCCCCCCCCCCCC\n",
      "\n",
      "True SMILES: O<unk>C<unk>NC<unk>COP<unk><unk>O<unk><unk><unk>O<unk><unk><unk>OCC<unk>N<unk><unk><unk>C<unk><unk>C<unk>C<unk>C<unk>O<unk>CCCCCCCCCCCCCCCCCCCCCCCC<unk>CCCCCCCCCCCCCCCCCCCCCCCCCCCCCCC\n",
      "Pred SMILES: O<unk>C<unk>NC<unk>COP<unk><unk>O<unk><unk><unk>O<unk><unk><unk>OCC<unk>N<unk><unk><unk>C<unk><unk>C<unk>C<unk>C<unk>O<unk>CCCCCCCCCCCCCCCCCCCCCCCC<unk>CCCCCCCCCCCCCCCCCCCCCCCCCCCCCCCC\n",
      "\n",
      "True SMILES: O<unk>C<unk>NC<unk>COP<unk><unk>O<unk><unk><unk>O<unk><unk><unk>OCC<unk>N<unk><unk><unk>C<unk><unk>C<unk>C<unk>C<unk>O<unk>CCCCCCCCCCCCCCCCCCCCCCCC<unk>CCCCCCCCCCCCCCC<unk>CCCCCCCCCCCCCCC\n",
      "Pred SMILES: O<unk>C<unk>NC<unk>COP<unk><unk>O<unk><unk><unk>O<unk><unk><unk>OCC<unk>N<unk><unk><unk>C<unk><unk>C<unk>C<unk>C<unk>O<unk>CCCCCCCCCCCCCCCCCCCCCCCC<unk>CCCCCCCCCCCCCCC<unk>CCCCCCCCCCCCCCCC\n",
      "\n",
      "True SMILES: O<unk>C<unk>NC<unk>COP<unk><unk>O<unk><unk><unk>O<unk><unk><unk>OCC<unk>N<unk><unk><unk>C<unk><unk>C<unk>C<unk>C<unk>O<unk>CCCCCCCCCCCCCCCCCCCCCCCC<unk>CCCCCCCCCCCCCCCCCCCCCCCCCCCCCC\n",
      "Pred SMILES: O<unk>C<unk>NC<unk>COP<unk><unk>O<unk><unk><unk>O<unk><unk><unk>OCC<unk>N<unk><unk><unk>C<unk><unk>C<unk>C<unk>C<unk>O<unk>CCCCCCCCCCCCCCCCCCCCCCCC<unk>CCCCCCCCCCCCCCCCCCCCCCCCCCCCCCCO\n",
      "\n",
      "True SMILES: O<unk>C<unk>NC<unk>COP<unk><unk>O<unk><unk><unk>O<unk><unk><unk>OCC<unk>N<unk><unk><unk>C<unk><unk>C<unk>C<unk>C<unk>O<unk>CCCCCCCCCCCCCCCCCCCCCCCC<unk>CCCCCCCCCCCCCC<unk>CCC<unk>CCCCCCCCCCCC\n",
      "Pred SMILES: O<unk>C<unk>NC<unk>COP<unk><unk>O<unk><unk><unk>O<unk><unk><unk>OCC<unk>N<unk><unk><unk>C<unk><unk>C<unk>C<unk>C<unk>O<unk>CCCCCCCCCCCCCCCCCCCCCCCC<unk>CCCCCCCCCCCCCC<unk>CCC<unk>CCCCCCCCCCCCC\n",
      "\n",
      "True SMILES: O<unk>C<unk>NC<unk>COP<unk><unk>O<unk><unk><unk>O<unk><unk><unk>OCC<unk>N<unk><unk><unk>C<unk><unk>C<unk>C<unk>C<unk>O<unk>CCCCCCCCCCCCCCCCCCCCCCCC<unk>CCCCCCCC<unk>CCCCCCCCCC\n",
      "Pred SMILES: O<unk>C<unk>NC<unk>COP<unk><unk>O<unk><unk><unk>O<unk><unk><unk>OCC<unk>N<unk><unk><unk>C<unk><unk>C<unk>C<unk>C<unk>O<unk>CCCCCCCCCCCCCCCCCCCCCCCC<unk>CCCCCCCC<unk>CCCCCCCCCCCCCCCCCCCCCCCCCCCCCCCO\n",
      "\n",
      "True SMILES: O<unk>C<unk>NC<unk>COP<unk><unk>O<unk><unk><unk>O<unk><unk><unk>OCC<unk>N<unk><unk><unk>C<unk><unk>C<unk>C<unk>C<unk>O<unk>CCCCCCCCCCCCCCCCCCCCCCCC<unk>CCCCCCCCCCCCCCCCCC\n",
      "Pred SMILES: O<unk>C<unk>NC<unk>COP<unk><unk>O<unk><unk><unk>O<unk><unk><unk>OCC<unk>N<unk><unk><unk>C<unk><unk>C<unk>C<unk>C<unk>O<unk>CCCCCCCCCCCCCCCCCCCCCCCC<unk>CCCCCCCCCCCCCCCCCCCCCCCCCCCCCCCCCCCCCCCCO\n",
      "\n",
      "True SMILES: O<unk>C<unk>NC<unk>COP<unk><unk>O<unk><unk><unk>O<unk><unk><unk>OCC<unk>N<unk><unk><unk>C<unk><unk>C<unk>C<unk>C<unk>O<unk>CCCCCCCCCCCCCCCCCCCCCCCC<unk>CCCCCCCCC<unk>CC<unk>CCCCCC\n",
      "Pred SMILES: O<unk>C<unk>NC<unk>COP<unk><unk>O<unk><unk><unk>O<unk><unk><unk>OCC<unk>N<unk><unk><unk>C<unk><unk>C<unk>C<unk>C<unk>O<unk>CCCCCCCCCCCCCCCCCCCCCCCC<unk>CCCCCCCCC<unk>CC<unk>CCCCCCCCCCCCCCCCCCCCCCCCCCCO\n",
      "\n",
      "True SMILES: O<unk>C<unk>NC<unk>COP<unk><unk>O<unk><unk><unk>O<unk><unk><unk>OCC<unk>N<unk><unk><unk>C<unk><unk>C<unk>C<unk>C<unk>O<unk>CCCCCCCCCCCCCCCCCCCCCCCC<unk>CCCCCCCCCC<unk>CCCCCCC\n",
      "Pred SMILES: O<unk>C<unk>NC<unk>COP<unk><unk>O<unk><unk><unk>O<unk><unk><unk>OCC<unk>N<unk><unk><unk>C<unk><unk>C<unk>C<unk>C<unk>O<unk>CCCCCCCCCCCCCCCCCCCCCCCC<unk>CCCCCCCCCC<unk>CCCCCCCCCCCCCCCCCCCCCCCCCCCCCO\n",
      "\n",
      "True SMILES: O<unk>C<unk>NC<unk>COP<unk><unk>O<unk><unk><unk>O<unk><unk><unk>OCC<unk>N<unk><unk><unk>C<unk><unk>C<unk>C<unk>C<unk>O<unk>CCCCCCCCCCCCCCCCCCCCCCCC<unk>CCCCCCCCCCCCCCCCC\n",
      "Pred SMILES: O<unk>C<unk>NC<unk>COP<unk><unk>O<unk><unk><unk>O<unk><unk><unk>OCC<unk>N<unk><unk><unk>C<unk><unk>C<unk>C<unk>C<unk>O<unk>CCCCCCCCCCCCCCCCCCCCCCCC<unk>CCCCCCCCCCCCCCCCCCCCCCCCCCCCCCCCCCCCCCCCOC\n",
      "\n",
      "True SMILES: O<unk>C<unk>NC<unk>COP<unk><unk>O<unk><unk><unk>O<unk><unk><unk>OCC<unk>N<unk><unk><unk>C<unk><unk>C<unk>C<unk>C<unk>O<unk>C<unk>CCCC<unk>CCCC<unk>CCCCCCCCCCCCCC<unk>CCCCCCCCCCCCCCCCCC<unk>CCCCCCCCCCCCCCC\n",
      "Pred SMILES: O<unk>C<unk>NC<unk>COP<unk><unk>O<unk><unk><unk>O<unk><unk><unk>OCC<unk>N<unk><unk><unk>C<unk><unk>C<unk>C<unk>C<unk>O<unk>C<unk>CCCC<unk>CCCC<unk>CCCCCCCCCCCCCC<unk>CCCCCCCCCCCCCCCCCC<unk>CCCCCCCCCCCCCCCC\n",
      "\n",
      "True SMILES: O<unk>C<unk>NC<unk>COP<unk><unk>O<unk><unk><unk>O<unk><unk><unk>OCC<unk>N<unk><unk><unk>C<unk><unk>C<unk>C<unk>C<unk>O<unk>C<unk>CCCC<unk>CCCC<unk>CCCCCCCCCCCCCC<unk>CCCCCCCCCCCCCCCCCCCCCCCCCCCCCCCCC\n",
      "Pred SMILES: O<unk>C<unk>NC<unk>COP<unk><unk>O<unk><unk><unk>O<unk><unk><unk>OCC<unk>N<unk><unk><unk>C<unk><unk>C<unk>C<unk>C<unk>O<unk>C<unk>CCCC<unk>CCCC<unk>CCCCCCCCCCCCCC<unk>CCCCCCCCCCCCCCCCCCCCCCCCCCCCCCCCCC\n",
      "\n",
      "True SMILES: O<unk>C<unk>NC<unk>COP<unk><unk>O<unk><unk><unk>O<unk><unk><unk>OCC<unk>N<unk><unk><unk>C<unk><unk>C<unk>C<unk>C<unk>O<unk>C<unk>CCCC<unk>CCCC<unk>CCCCCCCCCCCCCC<unk>CCCCCCCCCCCCCCCCC<unk>CCCCCCCCCCCCCCC\n",
      "Pred SMILES: O<unk>C<unk>NC<unk>COP<unk><unk>O<unk><unk><unk>O<unk><unk><unk>OCC<unk>N<unk><unk><unk>C<unk><unk>C<unk>C<unk>C<unk>O<unk>C<unk>CCCC<unk>CCCC<unk>CCCCCCCCCCCCCC<unk>CCCCCCCCCCCCCCCCC<unk>CCCCCCCCCCCCCCCC\n",
      "\n",
      "True SMILES: O<unk>C<unk>NC<unk>COP<unk><unk>O<unk><unk><unk>O<unk><unk><unk>OCC<unk>N<unk><unk><unk>C<unk><unk>C<unk>C<unk>C<unk>O<unk>C<unk>CCCC<unk>CCCC<unk>CCCCCCCCCCCCCC<unk>CCCCCCCCCCCCCCCCCCCCCCCCCCCCCCCC\n",
      "Pred SMILES: O<unk>C<unk>NC<unk>COP<unk><unk>O<unk><unk><unk>O<unk><unk><unk>OCC<unk>N<unk><unk><unk>C<unk><unk>C<unk>C<unk>C<unk>O<unk>C<unk>CCCC<unk>CCCC<unk>CCCCCCCCCCCCCC<unk>CCCCCCCCCCCCCCCCCCCCCCCCCCCCCCCCC\n",
      "\n",
      "True SMILES: O<unk>C<unk>NC<unk>COP<unk><unk>O<unk><unk><unk>O<unk><unk><unk>OCC<unk>N<unk><unk><unk>C<unk><unk>C<unk>C<unk>C<unk>O<unk>C<unk>CCCC<unk>CCCC<unk>CCCCCCCCCCCCCC<unk>CCCCCCCCCCCCCCCC<unk>CCC<unk>CCCCCCCCCCCC\n",
      "Pred SMILES: O<unk>C<unk>NC<unk>COP<unk><unk>O<unk><unk><unk>O<unk><unk><unk>OCC<unk>N<unk><unk><unk>C<unk><unk>C<unk>C<unk>C<unk>O<unk>C<unk>CCCC<unk>CCCC<unk>CCCCCCCCCCCCCC<unk>CCCCCCCCCCCCCCCC<unk>CCC<unk>CCCCCCCCCCCCC\n",
      "\n",
      "True SMILES: O<unk>C<unk>NC<unk>COP<unk><unk>O<unk><unk><unk>O<unk><unk><unk>OCC<unk>N<unk><unk><unk>C<unk><unk>C<unk>C<unk>C<unk>O<unk>C<unk>CCCC<unk>CCCC<unk>CCCCCCCCCCCCCC<unk>CCCCCCCC<unk>CCCCCCCCCCCC\n",
      "Pred SMILES: O<unk>C<unk>NC<unk>COP<unk><unk>O<unk><unk><unk>O<unk><unk><unk>OCC<unk>N<unk><unk><unk>C<unk><unk>C<unk>C<unk>C<unk>O<unk>C<unk>CCCC<unk>CCCC<unk>CCCCCCCCCCCCCC<unk>CCCCCCCC<unk>CCCCCCCCCCCCCCCCCCCCCCCCCCCCO\n",
      "\n",
      "True SMILES: O<unk>C<unk>NC<unk>COP<unk><unk>O<unk><unk><unk>O<unk><unk><unk>OCC<unk>N<unk><unk><unk>C<unk><unk>C<unk>C<unk>C<unk>O<unk>C<unk>CCCC<unk>CCCC<unk>CCCCCCCCCCCCCC<unk>CCCCCCCCCCCCCCCCCCCC\n",
      "Pred SMILES: O<unk>C<unk>NC<unk>COP<unk><unk>O<unk><unk><unk>O<unk><unk><unk>OCC<unk>N<unk><unk><unk>C<unk><unk>C<unk>C<unk>C<unk>O<unk>C<unk>CCCC<unk>CCCC<unk>CCCCCCCCCCCCCC<unk>CCCCCCCCCCCCCCCCCCCCCCCCCCCCCCCCCCCCO\n",
      "\n",
      "True SMILES: O<unk>C<unk>NC<unk>COP<unk><unk>O<unk><unk><unk>O<unk><unk><unk>OCC<unk>N<unk><unk><unk>C<unk><unk>C<unk>C<unk>C<unk>O<unk>C<unk>CCCC<unk>CCCC<unk>CCCCCCCCCCCCCC<unk>CCCCCCCCCC<unk>CCC<unk>CCCCCC\n",
      "Pred SMILES: O<unk>C<unk>NC<unk>COP<unk><unk>O<unk><unk><unk>O<unk><unk><unk>OCC<unk>N<unk><unk><unk>C<unk><unk>C<unk>C<unk>C<unk>O<unk>C<unk>CCCC<unk>CCCC<unk>CCCCCCCCCCCCCC<unk>CCCCCCCCCC<unk>CCC<unk>CCCCCCCCCCCCCCCCCCCCCCO\n",
      "\n",
      "True SMILES: O<unk>C<unk>NC<unk>COP<unk><unk>O<unk><unk><unk>O<unk><unk><unk>OCC<unk>N<unk><unk><unk>C<unk><unk>C<unk>C<unk>C<unk>O<unk>C<unk>CCCC<unk>CCCC<unk>CCCCCCCCCCCCCC<unk>CCCCCCCCCC<unk>CCCCCCCCC\n",
      "Pred SMILES: O<unk>C<unk>NC<unk>COP<unk><unk>O<unk><unk><unk>O<unk><unk><unk>OCC<unk>N<unk><unk><unk>C<unk><unk>C<unk>C<unk>C<unk>O<unk>C<unk>CCCC<unk>CCCC<unk>CCCCCCCCCCCCCC<unk>CCCCCCCCCC<unk>CCCCCCCCCCCCCCCCCCCCCCCCO\n",
      "\n",
      "True SMILES: O<unk>C<unk>NC<unk>COP<unk><unk>O<unk><unk><unk>O<unk><unk><unk>OCC<unk>N<unk><unk><unk>C<unk><unk>C<unk>C<unk>C<unk>O<unk>C<unk>CCCC<unk>CCCC<unk>CCCCCCCCCCCCCC<unk>CCCCCCCCCCCCCCCCCCC\n",
      "Pred SMILES: O<unk>C<unk>NC<unk>COP<unk><unk>O<unk><unk><unk>O<unk><unk><unk>OCC<unk>N<unk><unk><unk>C<unk><unk>C<unk>C<unk>C<unk>O<unk>C<unk>CCCC<unk>CCCC<unk>CCCCCCCCCCCCCC<unk>CCCCCCCCCCCCCCCCCCCCCCCCCCCCCCCCCCCCCO\n",
      "\n",
      "True SMILES: O<unk>C<unk>NC<unk>COP<unk><unk>O<unk><unk><unk>O<unk><unk><unk>OCC<unk>N<unk><unk><unk>C<unk><unk>C<unk>C<unk>C<unk>O<unk>C<unk>CCCC<unk>CCCCCCCCCCCCCCCCCC<unk>CCCCCCCCCCCCCCCCCCCC<unk>CCCCCCCCCCCCCCC\n",
      "Pred SMILES: O<unk>C<unk>NC<unk>COP<unk><unk>O<unk><unk><unk>O<unk><unk><unk>OCC<unk>N<unk><unk><unk>C<unk><unk>C<unk>C<unk>C<unk>O<unk>C<unk>CCCC<unk>CCCCCCCCCCCCCCCCCC<unk>CCCCCCCCCCCCCCCCCCCC<unk>CCCCCCCCCCCCCCC\n",
      "\n",
      "True SMILES: O<unk>C<unk>NC<unk>COP<unk><unk>O<unk><unk><unk>O<unk><unk><unk>OCC<unk>N<unk><unk><unk>C<unk><unk>C<unk>C<unk>C<unk>O<unk>C<unk>CCCC<unk>CCCCCCCCCCCCCCCCCC<unk>CCCCCCCCCCCCCCCCCCCCCCCCCCCCCCCCCCC\n",
      "Pred SMILES: O<unk>C<unk>NC<unk>COP<unk><unk>O<unk><unk><unk>O<unk><unk><unk>OCC<unk>N<unk><unk><unk>C<unk><unk>C<unk>C<unk>C<unk>O<unk>C<unk>CCCC<unk>CCCCCCCCCCCCCCCCCC<unk>CCCCCCCCCCCCCCCCCCCCCCCCCCCCCCCCCCC\n",
      "\n",
      "True SMILES: O<unk>C<unk>NC<unk>COP<unk><unk>O<unk><unk><unk>O<unk><unk><unk>OCC<unk>N<unk><unk><unk>C<unk><unk>C<unk>C<unk>C<unk>O<unk>C<unk>CCCC<unk>CCCCCCCCCCCCCCCCCC<unk>CCCCCCCCCCCCCCCCCCC<unk>CCCCCCCCCCCCCCC\n",
      "Pred SMILES: O<unk>C<unk>NC<unk>COP<unk><unk>O<unk><unk><unk>O<unk><unk><unk>OCC<unk>N<unk><unk><unk>C<unk><unk>C<unk>C<unk>C<unk>O<unk>C<unk>CCCC<unk>CCCCCCCCCCCCCCCCCC<unk>CCCCCCCCCCCCCCCCCCC<unk>CCCCCCCCCCCCCCC\n",
      "\n",
      "True SMILES: O<unk>C<unk>NC<unk>COP<unk><unk>O<unk><unk><unk>O<unk><unk><unk>OCC<unk>N<unk><unk><unk>C<unk><unk>C<unk>C<unk>C<unk>O<unk>C<unk>CCCC<unk>CCCCCCCCCCCCCCCCCC<unk>CCCCCCCCCCCCCCCCCCCCCCCCCCCCCCCCCC\n",
      "Pred SMILES: O<unk>C<unk>NC<unk>COP<unk><unk>O<unk><unk><unk>O<unk><unk><unk>OCC<unk>N<unk><unk><unk>C<unk><unk>C<unk>C<unk>C<unk>O<unk>C<unk>CCCC<unk>CCCCCCCCCCCCCCCCCC<unk>CCCCCCCCCCCCCCCCCCCCCCCCCCCCCCCCCCC\n",
      "\n",
      "True SMILES: O<unk>C<unk>NC<unk>COP<unk><unk>O<unk><unk><unk>O<unk><unk><unk>OCC<unk>N<unk><unk><unk>C<unk><unk>C<unk>C<unk>C<unk>O<unk>C<unk>CCCC<unk>CCCCCCCCCCCCCCCCCC<unk>CCCCCCCCCCCCCCCCCC<unk>CCC<unk>CCCCCCCCCCCC\n",
      "Pred SMILES: O<unk>C<unk>NC<unk>COP<unk><unk>O<unk><unk><unk>O<unk><unk><unk>OCC<unk>N<unk><unk><unk>C<unk><unk>C<unk>C<unk>C<unk>O<unk>C<unk>CCCC<unk>CCCCCCCCCCCCCCCCCC<unk>CCCCCCCCCCCCCCCCCC<unk>CCC<unk>CCCCCCCCCCCC\n",
      "\n",
      "True SMILES: O<unk>C<unk>NC<unk>COP<unk><unk>O<unk><unk><unk>O<unk><unk><unk>OCC<unk>N<unk><unk><unk>C<unk><unk>C<unk>C<unk>C<unk>O<unk>C<unk>CCCC<unk>CCCCCCCCCCCCCCCCCC<unk>CCCCCCCCCC<unk>CCCCCCCCCCCC\n",
      "Pred SMILES: O<unk>C<unk>NC<unk>COP<unk><unk>O<unk><unk><unk>O<unk><unk><unk>OCC<unk>N<unk><unk><unk>C<unk><unk>C<unk>C<unk>C<unk>O<unk>C<unk>CCCC<unk>CCCCCCCCCCCCCCCCCC<unk>CCCCCCCCCC<unk>CCCCCCCCCCCCCCCCCCCCCCCCCCCCO<unk>\n",
      "\n",
      "True SMILES: O<unk>C<unk>NC<unk>COP<unk><unk>O<unk><unk><unk>O<unk><unk><unk>OCC<unk>N<unk><unk><unk>C<unk><unk>C<unk>C<unk>C<unk>O<unk>C<unk>CCCC<unk>CCCCCCCCCCCCCCCCCC<unk>CCCCCCCCCCCCCCCCCCCCCC\n",
      "Pred SMILES: O<unk>C<unk>NC<unk>COP<unk><unk>O<unk><unk><unk>O<unk><unk><unk>OCC<unk>N<unk><unk><unk>C<unk><unk>C<unk>C<unk>C<unk>O<unk>C<unk>CCCC<unk>CCCCCCCCCCCCCCCCCC<unk>CCCCCCCCCCCCCCCCCCCCCCCCCCCCCCCCCCCCCCO<unk>\n",
      "\n",
      "True SMILES: O<unk>C<unk>NC<unk>COP<unk><unk>O<unk><unk><unk>O<unk><unk><unk>OCC<unk>N<unk><unk><unk>C<unk><unk>C<unk>C<unk>C<unk>O<unk>C<unk>CCCC<unk>CCCCCCCCCCCCCCCCCC<unk>CCCCCCCCCCCCC<unk>CC<unk>CCCCCC\n",
      "Pred SMILES: O<unk>C<unk>NC<unk>COP<unk><unk>O<unk><unk><unk>O<unk><unk><unk>OCC<unk>N<unk><unk><unk>C<unk><unk>C<unk>C<unk>C<unk>O<unk>C<unk>CCCC<unk>CCCCCCCCCCCCCCCCCC<unk>CCCCCCCCCCCCC<unk>CC<unk>CCCCCCCCCCCCCCCCCCCCCCO<unk>\n",
      "\n",
      "True SMILES: O<unk>C<unk>NC<unk>COP<unk><unk>O<unk><unk><unk>O<unk><unk><unk>OCC<unk>N<unk><unk><unk>C<unk><unk>C<unk>C<unk>C<unk>O<unk>C<unk>CCCC<unk>CCCCCCCCCCCCCCCCCC<unk>CCCCCCCCCC<unk>CCCCCCCCCCC\n",
      "Pred SMILES: O<unk>C<unk>NC<unk>COP<unk><unk>O<unk><unk><unk>O<unk><unk><unk>OCC<unk>N<unk><unk><unk>C<unk><unk>C<unk>C<unk>C<unk>O<unk>C<unk>CCCC<unk>CCCCCCCCCCCCCCCCCC<unk>CCCCCCCCCC<unk>CCCCCCCCCCCCCCCCCCCCCCCCCCCO<unk>\n",
      "\n",
      "True SMILES: O<unk>C<unk>NC<unk>COP<unk><unk>O<unk><unk><unk>O<unk><unk><unk>OCC<unk>N<unk><unk><unk>C<unk><unk>C<unk>C<unk>C<unk>O<unk>C<unk>CCCC<unk>CCCCCCCCCCCCCCCCCC<unk>CCCCCCCCCCCCCCCCCCCCC\n",
      "Pred SMILES: O<unk>C<unk>NC<unk>COP<unk><unk>O<unk><unk><unk>O<unk><unk><unk>OCC<unk>N<unk><unk><unk>C<unk><unk>C<unk>C<unk>C<unk>O<unk>C<unk>CCCC<unk>CCCCCCCCCCCCCCCCCC<unk>CCCCCCCCCCCCCCCCCCCCCCCCCCCCCCCCCCCCCO<unk>\n",
      "\n",
      "True SMILES: O<unk>C<unk>NC<unk>COP<unk><unk>O<unk><unk><unk>O<unk><unk><unk>OCC<unk>N<unk><unk><unk>C<unk><unk>C<unk>C<unk>C<unk>O<unk>C<unk>CCCCCCCCCCCCCCCCCCCCCC<unk>CCCCCCCCCCCCCCCCCCCCCCCCCCCCCCCCCCCCCCC\n",
      "Pred SMILES: O<unk>C<unk>NC<unk>COP<unk><unk>O<unk><unk><unk>O<unk><unk><unk>OCC<unk>N<unk><unk><unk>C<unk><unk>C<unk>C<unk>C<unk>O<unk>C<unk>CCCCCCCCCCCCCCCCCCCCCC<unk>CCCCCCCCCCCCCCCCCCCCCCCCCCCCCCCCCCCCCCC\n",
      "\n",
      "True SMILES: O<unk>C<unk>NC<unk>COP<unk><unk>O<unk><unk><unk>O<unk><unk><unk>OCC<unk>N<unk><unk><unk>C<unk><unk>C<unk>C<unk>C<unk>O<unk>C<unk>CCCCCCCCCCCCCCCCCCCCCC<unk>CCCCCCCCCCCCCCCCCCCC<unk>CCC<unk>CCCCCCCCCCCCCC\n",
      "Pred SMILES: O<unk>C<unk>NC<unk>COP<unk><unk>O<unk><unk><unk>O<unk><unk><unk>OCC<unk>N<unk><unk><unk>C<unk><unk>C<unk>C<unk>C<unk>O<unk>C<unk>CCCCCCCCCCCCCCCCCCCCCC<unk>CCCCCCCCCCCCCCCCCCCC<unk>CCC<unk>CCCCCCCCCCCCCC\n",
      "\n",
      "True SMILES: O<unk>C<unk>NC<unk>COP<unk><unk>O<unk><unk><unk>O<unk><unk><unk>OCC<unk>N<unk><unk><unk>C<unk><unk>C<unk>C<unk>C<unk>O<unk>C<unk>CCCCCCCCCCCCCCCCCCCCCC<unk>CCCCCCCCCCCCCCCCCCCC<unk>CCCCCCCCCCCCCCCCC\n",
      "Pred SMILES: O<unk>C<unk>NC<unk>COP<unk><unk>O<unk><unk><unk>O<unk><unk><unk>OCC<unk>N<unk><unk><unk>C<unk><unk>C<unk>C<unk>C<unk>O<unk>C<unk>CCCCCCCCCCCCCCCCCCCCCC<unk>CCCCCCCCCCCCCCCCCCCC<unk>CCCCCCCCCCCCCCCCC\n",
      "\n",
      "True SMILES: O<unk>C<unk>NC<unk>COP<unk><unk>O<unk><unk><unk>O<unk><unk><unk>OCC<unk>N<unk><unk><unk>C<unk><unk>C<unk>C<unk>C<unk>O<unk>C<unk>CCCCCCCCCCCCCCCCCCCCCC<unk>CCCCCCCCCCCCCCCCCCCCCCCCCCCCCCCCCCCCC\n",
      "Pred SMILES: O<unk>C<unk>NC<unk>COP<unk><unk>O<unk><unk><unk>O<unk><unk><unk>OCC<unk>N<unk><unk><unk>C<unk><unk>C<unk>C<unk>C<unk>O<unk>C<unk>CCCCCCCCCCCCCCCCCCCCCC<unk>CCCCCCCCCCCCCCCCCCCCCCCCCCCCCCCCCCCCCC\n",
      "\n",
      "True SMILES: O<unk>C<unk>NC<unk>COP<unk><unk>O<unk><unk><unk>O<unk><unk><unk>OCC<unk>N<unk><unk><unk>C<unk><unk>C<unk>C<unk>C<unk>O<unk>C<unk>CCCCCCCCCCCCCCCCCCCCCC<unk>CCCCCCCCCCCCCCCCCCCC<unk>CCC<unk>CCCCCCCCCCCC\n",
      "Pred SMILES: O<unk>C<unk>NC<unk>COP<unk><unk>O<unk><unk><unk>O<unk><unk><unk>OCC<unk>N<unk><unk><unk>C<unk><unk>C<unk>C<unk>C<unk>O<unk>C<unk>CCCCCCCCCCCCCCCCCCCCCC<unk>CCCCCCCCCCCCCCCCCCCC<unk>CCC<unk>CCCCCCCCCCCCC\n",
      "\n",
      "True SMILES: O<unk>C<unk>NC<unk>COP<unk><unk>O<unk><unk><unk>O<unk><unk><unk>OCC<unk>N<unk><unk><unk>C<unk><unk>C<unk>C<unk>C<unk>O<unk>C<unk>CCCCCCCCCCCCCCCCCCCCCC<unk>CCCCCCCCCC<unk>CCCCCCCCCCCCCC\n",
      "Pred SMILES: O<unk>C<unk>NC<unk>COP<unk><unk>O<unk><unk><unk>O<unk><unk><unk>OCC<unk>N<unk><unk><unk>C<unk><unk>C<unk>C<unk>C<unk>O<unk>C<unk>CCCCCCCCCCCCCCCCCCCCCC<unk>CCCCCCCCCC<unk>CCCCCCCCCCCCCCC\n",
      "\n",
      "True SMILES: O<unk>C<unk>NC<unk>COP<unk><unk>O<unk><unk><unk>O<unk><unk><unk>OCC<unk>N<unk><unk><unk>C<unk><unk>C<unk>C<unk>C<unk>O<unk>C<unk>CCCCCCCCCCCCCCCCCCCCCC<unk>CCCCCCCCCCCCCCCCCCCCCCCC\n",
      "Pred SMILES: O<unk>C<unk>NC<unk>COP<unk><unk>O<unk><unk><unk>O<unk><unk><unk>OCC<unk>N<unk><unk><unk>C<unk><unk>C<unk>C<unk>C<unk>O<unk>C<unk>CCCCCCCCCCCCCCCCCCCCCC<unk>CCCCCCCCCCCCCCCCCCCCCCCC\n",
      "\n",
      "True SMILES: O<unk>C<unk>NC<unk>COP<unk><unk>O<unk><unk><unk>O<unk><unk><unk>OCC<unk>N<unk><unk><unk>C<unk><unk>C<unk>C<unk>C<unk>O<unk>C<unk>CCCCCCCCCCCCCCCCCCCCCC<unk>CCCCCCCCCCCCCCCCC<unk>CCC<unk>CCC\n",
      "Pred SMILES: O<unk>C<unk>NC<unk>COP<unk><unk>O<unk><unk><unk>O<unk><unk><unk>OCC<unk>N<unk><unk><unk>C<unk><unk>C<unk>C<unk>C<unk>O<unk>C<unk>CCCCCCCCCCCCCCCCCCCCCC<unk>CCCCCCCCCCCCCCCCC<unk>CCC<unk>CCCC\n",
      "\n",
      "True SMILES: O<unk>C<unk>NC<unk>COP<unk><unk>O<unk><unk><unk>O<unk><unk><unk>OCC<unk>N<unk><unk><unk>C<unk><unk>C<unk>C<unk>C<unk>O<unk>C<unk>CCCCCCCCCCCCCCCCCCCCCC<unk>CCCCCCCCCC<unk>CCCCCCCCCCCCC\n",
      "Pred SMILES: O<unk>C<unk>NC<unk>COP<unk><unk>O<unk><unk><unk>O<unk><unk><unk>OCC<unk>N<unk><unk><unk>C<unk><unk>C<unk>C<unk>C<unk>O<unk>C<unk>CCCCCCCCCCCCCCCCCCCCCC<unk>CCCCCCCCCC<unk>CCCCCCCCCCCCC\n",
      "\n",
      "True SMILES: O<unk>C<unk>NC<unk>COP<unk><unk>O<unk><unk><unk>O<unk><unk><unk>OCC<unk>N<unk><unk><unk>C<unk><unk>C<unk>C<unk>C<unk>O<unk>C<unk>CCCCCCCCCCCCCCCCCCCCCC<unk>CCCCCCCCCCCCCCCCCCCCCCC\n",
      "Pred SMILES: O<unk>C<unk>NC<unk>COP<unk><unk>O<unk><unk><unk>O<unk><unk><unk>OCC<unk>N<unk><unk><unk>C<unk><unk>C<unk>C<unk>C<unk>O<unk>C<unk>CCCCCCCCCCCCCCCCCCCCCC<unk>CCCCCCCCCCCCCCCCCCCCCCCCC\n",
      "\n",
      "True SMILES: O<unk>C<unk>NC<unk>COP<unk><unk>O<unk><unk><unk>O<unk><unk><unk>OCC<unk>N<unk><unk><unk>C<unk><unk>C<unk>C<unk>C<unk>O<unk>CCCCCCCCCCCCCCCCCCCCCCC<unk>CCCCCCCCCCCCCCCCCCCC<unk>CCC<unk>CCCCCCCCCCCCCCCCCC\n",
      "Pred SMILES: O<unk>C<unk>NC<unk>COP<unk><unk>O<unk><unk><unk>O<unk><unk><unk>OCC<unk>N<unk><unk><unk>C<unk><unk>C<unk>C<unk>C<unk>O<unk>CCCCCCCCCCCCCCCCCCCCCCC<unk>CCCCCCCCCCCCCCCCCCCC<unk>CCC<unk>CCCCCCCCCCCCCCCCCC\n",
      "\n",
      "True SMILES: O<unk>C<unk>NC<unk>COP<unk><unk>O<unk><unk><unk>O<unk><unk><unk>OCC<unk>N<unk><unk><unk>C<unk><unk>C<unk>C<unk>C<unk>O<unk>CCCCCCCCCCCCCCCCCCCCCCC<unk>CCCCCCCCCCCCCCCCCCCC<unk>CCCCCCCCCCCCCCCCCCCCC\n",
      "Pred SMILES: O<unk>C<unk>NC<unk>COP<unk><unk>O<unk><unk><unk>O<unk><unk><unk>OCC<unk>N<unk><unk><unk>C<unk><unk>C<unk>C<unk>C<unk>O<unk>CCCCCCCCCCCCCCCCCCCCCCC<unk>CCCCCCCCCCCCCCCCCCCC<unk>CCCCCCCCCCCCCCCCCCCCC\n",
      "\n",
      "True SMILES: O<unk>C<unk>NC<unk>COP<unk><unk>O<unk><unk><unk>O<unk><unk><unk>OCC<unk>N<unk><unk><unk>C<unk><unk>C<unk>C<unk>C<unk>O<unk>CCCCCCCCCCCCCCCCCCCCCCC<unk>CCCCCCCCCCCCCCCCCCCCCCCCCCCCCCCCCCCCCCCCC\n",
      "Pred SMILES: O<unk>C<unk>NC<unk>COP<unk><unk>O<unk><unk><unk>O<unk><unk><unk>OCC<unk>N<unk><unk><unk>C<unk><unk>C<unk>C<unk>C<unk>O<unk>CCCCCCCCCCCCCCCCCCCCCCC<unk>CCCCCCCCCCCCCCCCCCCCCCCCCCCCCCCCCCCCCCCCCCO\n",
      "\n",
      "True SMILES: O<unk>C<unk>NC<unk>COP<unk><unk>O<unk><unk><unk>O<unk><unk><unk>OCC<unk>N<unk><unk><unk>C<unk><unk>C<unk>C<unk>C<unk>O<unk>CCCCCCCCCCCCCCCCCCCCCCC<unk>CCCCCCCCCCCCCCCCCCCC<unk>CCC<unk>CCCCCCCCCCCCCCCC\n",
      "Pred SMILES: O<unk>C<unk>NC<unk>COP<unk><unk>O<unk><unk><unk>O<unk><unk><unk>OCC<unk>N<unk><unk><unk>C<unk><unk>C<unk>C<unk>C<unk>O<unk>CCCCCCCCCCCCCCCCCCCCCCC<unk>CCCCCCCCCCCCCCCCCCCC<unk>CCC<unk>CCCCCCCCCCCCCCCCCO\n",
      "\n",
      "True SMILES: O<unk>C<unk>NC<unk>COP<unk><unk>O<unk><unk><unk>O<unk><unk><unk>OCC<unk>N<unk><unk><unk>C<unk><unk>C<unk>C<unk>C<unk>O<unk>CCCCCCCCCCCCCCCCCCCCCCC<unk>CCCCCCCCCCCCCCCCCCCC<unk>CCCCCCCCCCCCCCCCCCC\n",
      "Pred SMILES: O<unk>C<unk>NC<unk>COP<unk><unk>O<unk><unk><unk>O<unk><unk><unk>OCC<unk>N<unk><unk><unk>C<unk><unk>C<unk>C<unk>C<unk>O<unk>CCCCCCCCCCCCCCCCCCCCCCC<unk>CCCCCCCCCCCCCCCCCCCC<unk>CCCCCCCCCCCCCCCCCCCCO\n",
      "\n",
      "True SMILES: O<unk>C<unk>NC<unk>COP<unk><unk>O<unk><unk><unk>O<unk><unk><unk>OCC<unk>N<unk><unk><unk>C<unk><unk>C<unk>C<unk>C<unk>O<unk>CCCCCCCCCCCCCCCCCCCCCCC<unk>CCCCCCCCCCC<unk>CCCCCCCCCCCCCCC\n",
      "Pred SMILES: O<unk>C<unk>NC<unk>COP<unk><unk>O<unk><unk><unk>O<unk><unk><unk>OCC<unk>N<unk><unk><unk>C<unk><unk>C<unk>C<unk>C<unk>O<unk>CCCCCCCCCCCCCCCCCCCCCCC<unk>CCCCCCCCCCC<unk>CCCCCCCCCCCCCCCC\n",
      "\n",
      "True SMILES: O<unk>C<unk>NC<unk>COP<unk><unk>O<unk><unk><unk>O<unk><unk><unk>OCC<unk>N<unk><unk><unk>C<unk><unk>C<unk>C<unk>C<unk>O<unk>CCCCCCCCCCCCCCCCCCCCCCC<unk>CCCCCCCCCCCCCCCCCCCCCCCCCC\n",
      "Pred SMILES: O<unk>C<unk>NC<unk>COP<unk><unk>O<unk><unk><unk>O<unk><unk><unk>OCC<unk>N<unk><unk><unk>C<unk><unk>C<unk>C<unk>C<unk>O<unk>CCCCCCCCCCCCCCCCCCCCCCC<unk>CCCCCCCCCCCCCCCCCCCCCCCCCC\n",
      "\n",
      "True SMILES: O<unk>C<unk>NC<unk>COP<unk><unk>O<unk><unk><unk>O<unk><unk><unk>OCC<unk>N<unk><unk><unk>C<unk><unk>C<unk>C<unk>C<unk>O<unk>CCCCCCCCCCCCCCCCCCCCCCC<unk>CCCCCCCCCC<unk>CCC<unk>CCCCCCCCCCCC\n",
      "Pred SMILES: O<unk>C<unk>NC<unk>COP<unk><unk>O<unk><unk><unk>O<unk><unk><unk>OCC<unk>N<unk><unk><unk>C<unk><unk>C<unk>C<unk>C<unk>O<unk>CCCCCCCCCCCCCCCCCCCCCCC<unk>CCCCCCCCCC<unk>CCC<unk>CCCCCCCCCCCCC\n",
      "\n",
      "True SMILES: O<unk>C<unk>NC<unk>COP<unk><unk>O<unk><unk><unk>O<unk><unk><unk>OCC<unk>N<unk><unk><unk>C<unk><unk>C<unk>C<unk>C<unk>O<unk>CCCCCCCCCCCCCCCCCCCCCCC<unk>CCCCCCCCCC<unk>CCCCCCCCCCCCCCC\n",
      "Pred SMILES: O<unk>C<unk>NC<unk>COP<unk><unk>O<unk><unk><unk>O<unk><unk><unk>OCC<unk>N<unk><unk><unk>C<unk><unk>C<unk>C<unk>C<unk>O<unk>CCCCCCCCCCCCCCCCCCCCCCC<unk>CCCCCCCCCC<unk>CCCCCCCCCCCCCCC\n",
      "\n",
      "True SMILES: O<unk>C<unk>NC<unk>COP<unk><unk>O<unk><unk><unk>O<unk><unk><unk>OCC<unk>N<unk><unk><unk>C<unk><unk>C<unk>C<unk>C<unk>O<unk>CCCCCCCCCCCCCCCCCCCCCCC<unk>CCCCCCCCCCCCCCCCCCCCCCCCC\n",
      "Pred SMILES: O<unk>C<unk>NC<unk>COP<unk><unk>O<unk><unk><unk>O<unk><unk><unk>OCC<unk>N<unk><unk><unk>C<unk><unk>C<unk>C<unk>C<unk>O<unk>CCCCCCCCCCCCCCCCCCCCCCC<unk>CCCCCCCCCCCCCCCCCCCCCCCCCCC\n",
      "\n",
      "True SMILES: O<unk>C<unk>NC<unk>COP<unk><unk>O<unk><unk><unk>O<unk><unk><unk>OCC<unk>N<unk><unk><unk>C<unk><unk>C<unk>C<unk>C<unk>O<unk>CCCCCCCCCCCCCCCCCCCCCCC<unk>CCCCCCCCCCCCC\n",
      "Pred SMILES: O<unk>C<unk>NC<unk>COP<unk><unk>O<unk><unk><unk>O<unk><unk><unk>OCC<unk>N<unk><unk><unk>C<unk><unk>C<unk>C<unk>C<unk>O<unk>CCCCCCCCCCCCCCCCCCCCCCC<unk>CCCCCCCCCCCCCCCCCCCCCCCCCCCCCCCCCCCCCCC\n",
      "\n",
      "True SMILES: O<unk>C<unk>NC<unk>COP<unk><unk>O<unk><unk><unk>O<unk><unk><unk>OCC<unk>N<unk><unk><unk>C<unk><unk>C<unk>C<unk>C<unk>O<unk>CCCCCCCCCCCCCCCCCCCCCCC<unk>CCCCCCC<unk>CCCCC\n",
      "Pred SMILES: O<unk>C<unk>NC<unk>COP<unk><unk>O<unk><unk><unk>O<unk><unk><unk>OCC<unk>N<unk><unk><unk>C<unk><unk>C<unk>C<unk>C<unk>O<unk>CCCCCCCCCCCCCCCCCCCCCCC<unk>CCCCCCC<unk>CCCCCCCCCCCCCCCCCCCCCCCCCCCCCCC\n",
      "\n",
      "True SMILES: O<unk>C<unk>NC<unk>COP<unk><unk>O<unk><unk><unk>O<unk><unk><unk>OCC<unk>N<unk><unk><unk>C<unk><unk>C<unk>C<unk>C<unk>O<unk>CCCCCCCCCCCCCCCCCCCCCCC<unk>CCCCCCCCCCCC\n",
      "Pred SMILES: O<unk>C<unk>NC<unk>COP<unk><unk>O<unk><unk><unk>O<unk><unk><unk>OCC<unk>N<unk><unk><unk>C<unk><unk>C<unk>C<unk>C<unk>O<unk>CCCCCCCCCCCCCCCCCCCCCCC<unk>CCCCCCCCCCCCCCCCCCCCCCCCCCCCCCCCCCCCCCCCCO\n",
      "\n",
      "True SMILES: O<unk>C<unk>NC<unk>COP<unk><unk>O<unk><unk><unk>O<unk><unk><unk>OCC<unk>N<unk><unk><unk>C<unk><unk>C<unk>C<unk>C<unk>O<unk>CCCCCCCCCCCCCCCCCCCCCCC<unk>CCCC<unk>CCCCCCC\n",
      "Pred SMILES: O<unk>C<unk>NC<unk>COP<unk><unk>O<unk><unk><unk>O<unk><unk><unk>OCC<unk>N<unk><unk><unk>C<unk><unk>C<unk>C<unk>C<unk>O<unk>CCCCCCCCCCCCCCCCCCCCCCC<unk>CCCC<unk>CCCCCCCCCCCCCCCCCCCCCCCCCCCCCCCCCCCCO\n",
      "\n",
      "True SMILES: O<unk>C<unk>NC<unk>COP<unk><unk>O<unk><unk><unk>O<unk><unk><unk>OCC<unk>N<unk><unk><unk>C<unk><unk>C<unk>C<unk>C<unk>O<unk>CCCCCCCCCCCCCCCCCCCCCCC<unk>CCCCCCCCCCC\n",
      "Pred SMILES: O<unk>C<unk>NC<unk>COP<unk><unk>O<unk><unk><unk>O<unk><unk><unk>OCC<unk>N<unk><unk><unk>C<unk><unk>C<unk>C<unk>C<unk>O<unk>CCCCCCCCCCCCCCCCCCCCCCC<unk>CCCCCCCCCCCCCCCCCCCCCCCCCCCCCCCCCCCCCCCCCO\n",
      "\n",
      "True SMILES: O<unk>C<unk>NC<unk>COP<unk><unk>O<unk><unk><unk>O<unk><unk><unk>OCC<unk>N<unk><unk><unk>C<unk><unk>C<unk>C<unk>C<unk>O<unk>C<unk>CCCC<unk>CCCC<unk>CCCCCCCCCCCCC<unk>CCCCCCCCCCCCC<unk>CCCCCCCCCCCCCCC\n",
      "Pred SMILES: O<unk>C<unk>NC<unk>COP<unk><unk>O<unk><unk><unk>O<unk><unk><unk>OCC<unk>N<unk><unk><unk>C<unk><unk>C<unk>C<unk>C<unk>O<unk>C<unk>CCCC<unk>CCCC<unk>CCCCCCCCCCCCC<unk>CCCCCCCCCCCCC<unk>CCCCCCCCCCCCCCCC\n",
      "\n",
      "True SMILES: O<unk>C<unk>NC<unk>COP<unk><unk>O<unk><unk><unk>O<unk><unk><unk>OCC<unk>N<unk><unk><unk>C<unk><unk>C<unk>C<unk>C<unk>O<unk>C<unk>CCCC<unk>CCCC<unk>CCCCCCCCCCCCC<unk>CCCCCCCCCCCCCCCCCCCCCCCCCCCC\n",
      "Pred SMILES: O<unk>C<unk>NC<unk>COP<unk><unk>O<unk><unk><unk>O<unk><unk><unk>OCC<unk>N<unk><unk><unk>C<unk><unk>C<unk>C<unk>C<unk>O<unk>C<unk>CCCC<unk>CCCC<unk>CCCCCCCCCCCCC<unk>CCCCCCCCCCCCCCCCCCCCCCCCCCCCC\n",
      "\n",
      "True SMILES: O<unk>C<unk>NC<unk>COP<unk><unk>O<unk><unk><unk>O<unk><unk><unk>OCC<unk>N<unk><unk><unk>C<unk><unk>C<unk>C<unk>C<unk>O<unk>C<unk>CCCC<unk>CCCC<unk>CCCCCCCCCCCCC<unk>CCCCCCCCCCCC<unk>CCC<unk>CCCCCCCCCCCC\n",
      "Pred SMILES: O<unk>C<unk>NC<unk>COP<unk><unk>O<unk><unk><unk>O<unk><unk><unk>OCC<unk>N<unk><unk><unk>C<unk><unk>C<unk>C<unk>C<unk>O<unk>C<unk>CCCC<unk>CCCC<unk>CCCCCCCCCCCCC<unk>CCCCCCCCCCCC<unk>CCC<unk>CCCCCCCCCCCCC\n",
      "\n",
      "True SMILES: O<unk>C<unk>NC<unk>COP<unk><unk>O<unk><unk><unk>O<unk><unk><unk>OCC<unk>N<unk><unk><unk>C<unk><unk>C<unk>C<unk>C<unk>O<unk>C<unk>CCCC<unk>CCCC<unk>CCCCCCCCCCCCC<unk>CCCCCCCCCCCC<unk>CCCCCCCCCCCCCCC\n",
      "Pred SMILES: O<unk>C<unk>NC<unk>COP<unk><unk>O<unk><unk><unk>O<unk><unk><unk>OCC<unk>N<unk><unk><unk>C<unk><unk>C<unk>C<unk>C<unk>O<unk>C<unk>CCCC<unk>CCCC<unk>CCCCCCCCCCCCC<unk>CCCCCCCCCCCC<unk>CCCCCCCCCCCCCCCC\n",
      "\n",
      "True SMILES: O<unk>C<unk>NC<unk>COP<unk><unk>O<unk><unk><unk>O<unk><unk><unk>OCC<unk>N<unk><unk><unk>C<unk><unk>C<unk>C<unk>C<unk>O<unk>C<unk>CCCC<unk>CCCC<unk>CCCCCCCCCCCCC<unk>CCCCCCCCCCCCCCCCCCCCCCCCCCC\n",
      "Pred SMILES: O<unk>C<unk>NC<unk>COP<unk><unk>O<unk><unk><unk>O<unk><unk><unk>OCC<unk>N<unk><unk><unk>C<unk><unk>C<unk>C<unk>C<unk>O<unk>C<unk>CCCC<unk>CCCC<unk>CCCCCCCCCCCCC<unk>CCCCCCCCCCCCCCCCCCCCCCCCCCCC\n",
      "\n",
      "True SMILES: O<unk>C<unk>NC<unk>COP<unk><unk>O<unk><unk><unk>O<unk><unk><unk>OCC<unk>N<unk><unk><unk>C<unk><unk>C<unk>C<unk>C<unk>O<unk>C<unk>CCCC<unk>CCCC<unk>CCCCCCCCCCCCC<unk>CCCCCC<unk>CCCCCCCCC\n",
      "Pred SMILES: O<unk>C<unk>NC<unk>COP<unk><unk>O<unk><unk><unk>O<unk><unk><unk>OCC<unk>N<unk><unk><unk>C<unk><unk>C<unk>C<unk>C<unk>O<unk>C<unk>CCCC<unk>CCCC<unk>CCCCCCCCCCCCC<unk>CCCCCC<unk>CCCCCCCCCCCCCCCCCCCCCCCCCCCCCCCCO<unk>\n",
      "\n",
      "True SMILES: O<unk>C<unk>NC<unk>COP<unk><unk>O<unk><unk><unk>O<unk><unk><unk>OCC<unk>N<unk><unk><unk>C<unk><unk>C<unk>C<unk>C<unk>O<unk>C<unk>CCCC<unk>CCCC<unk>CCCCCCCCCCCCC<unk>CCCCCCCCCCCCCCC\n",
      "Pred SMILES: O<unk>C<unk>NC<unk>COP<unk><unk>O<unk><unk><unk>O<unk><unk><unk>OCC<unk>N<unk><unk><unk>C<unk><unk>C<unk>C<unk>C<unk>O<unk>C<unk>CCCC<unk>CCCC<unk>CCCCCCCCCCCCC<unk>CCCCCCCCCCCCCCCCCCCCCCCCCCCCCCCCCCCCCCCO<unk>\n",
      "\n",
      "True SMILES: O<unk>C<unk>NC<unk>COP<unk><unk>O<unk><unk><unk>O<unk><unk><unk>OCC<unk>N<unk><unk><unk>C<unk><unk>C<unk>C<unk>C<unk>O<unk>C<unk>CCCC<unk>CCCC<unk>CCCCCCCCCCCCC<unk>CCCCCCCC<unk>CCCCCC\n",
      "Pred SMILES: O<unk>C<unk>NC<unk>COP<unk><unk>O<unk><unk><unk>O<unk><unk><unk>OCC<unk>N<unk><unk><unk>C<unk><unk>C<unk>C<unk>C<unk>O<unk>C<unk>CCCC<unk>CCCC<unk>CCCCCCCCCCCCC<unk>CCCCCCCC<unk>CCCCCCCCCCCCCCCCCCCCCCCCCCCCCCO<unk>\n",
      "\n",
      "True SMILES: O<unk>C<unk>NC<unk>COP<unk><unk>O<unk><unk><unk>O<unk><unk><unk>OCC<unk>N<unk><unk><unk>C<unk><unk>C<unk>C<unk>C<unk>O<unk>C<unk>CCCC<unk>CCCC<unk>CCCCCCCCCCCCC<unk>CCCCCCCCCCCCCC\n",
      "Pred SMILES: O<unk>C<unk>NC<unk>COP<unk><unk>O<unk><unk><unk>O<unk><unk><unk>OCC<unk>N<unk><unk><unk>C<unk><unk>C<unk>C<unk>C<unk>O<unk>C<unk>CCCC<unk>CCCC<unk>CCCCCCCCCCCCC<unk>CCCCCCCCCCCCCCCCCCCCCCCCCCCCCCCCCCCCO<unk>\n",
      "\n",
      "True SMILES: O<unk>C<unk>NC<unk>COP<unk><unk>O<unk><unk><unk>O<unk><unk><unk>OCC<unk>N<unk><unk><unk>C<unk><unk>C<unk>C<unk>C<unk>O<unk>C<unk>CCCC<unk>CCCC<unk>CCCCCCCCCCCCC<unk>CCCCCCCC<unk>CCCCC\n",
      "Pred SMILES: O<unk>C<unk>NC<unk>COP<unk><unk>O<unk><unk><unk>O<unk><unk><unk>OCC<unk>N<unk><unk><unk>C<unk><unk>C<unk>C<unk>C<unk>O<unk>C<unk>CCCC<unk>CCCC<unk>CCCCCCCCCCCCC<unk>CCCCCCCC<unk>CCCCCCCCCCCCCCCCCCCCCCCCCCCO<unk>\n",
      "\n",
      "True SMILES: O<unk>C<unk>NC<unk>COP<unk><unk>O<unk><unk><unk>O<unk><unk><unk>OCC<unk>N<unk><unk><unk>C<unk><unk>C<unk>C<unk>C<unk>O<unk>C<unk>CCCC<unk>CCCCCCCCCCCCCCCCC<unk>CCCCCCCCCCCCCCC<unk>CCCCCCCCCCCCCCC\n",
      "Pred SMILES: O<unk>C<unk>NC<unk>COP<unk><unk>O<unk><unk><unk>O<unk><unk><unk>OCC<unk>N<unk><unk><unk>C<unk><unk>C<unk>C<unk>C<unk>O<unk>C<unk>CCCC<unk>CCCCCCCCCCCCCCCCC<unk>CCCCCCCCCCCCCCC<unk>CCCCCCCCCCCCCCCC\n",
      "\n",
      "True SMILES: O<unk>C<unk>NC<unk>COP<unk><unk>O<unk><unk><unk>O<unk><unk><unk>OCC<unk>N<unk><unk><unk>C<unk><unk>C<unk>C<unk>C<unk>O<unk>C<unk>CCCC<unk>CCCCCCCCCCCCCCCCC<unk>CCCCCCCCCCCCCCCCCCCCCCCCCCCCCC\n",
      "Pred SMILES: O<unk>C<unk>NC<unk>COP<unk><unk>O<unk><unk><unk>O<unk><unk><unk>OCC<unk>N<unk><unk><unk>C<unk><unk>C<unk>C<unk>C<unk>O<unk>C<unk>CCCC<unk>CCCCCCCCCCCCCCCCC<unk>CCCCCCCCCCCCCCCCCCCCCCCCCCCCCC<unk>\n",
      "\n",
      "True SMILES: O<unk>C<unk>NC<unk>COP<unk><unk>O<unk><unk><unk>O<unk><unk><unk>OCC<unk>N<unk><unk><unk>C<unk><unk>C<unk>C<unk>C<unk>O<unk>C<unk>CCCC<unk>CCCCCCCCCCCCCCCCC<unk>CCCCCCCCCCCCCC<unk>CCC<unk>CCCCCCCCCCCC\n",
      "Pred SMILES: O<unk>C<unk>NC<unk>COP<unk><unk>O<unk><unk><unk>O<unk><unk><unk>OCC<unk>N<unk><unk><unk>C<unk><unk>C<unk>C<unk>C<unk>O<unk>C<unk>CCCC<unk>CCCCCCCCCCCCCCCCC<unk>CCCCCCCCCCCCCC<unk>CCC<unk>CCCCCCCCCCCCC\n",
      "\n",
      "True SMILES: O<unk>C<unk>NC<unk>COP<unk><unk>O<unk><unk><unk>O<unk><unk><unk>OCC<unk>N<unk><unk><unk>C<unk><unk>C<unk>C<unk>C<unk>O<unk>C<unk>CCCC<unk>CCCCCCCCCCCCCCCCC<unk>CCCCCCCCCCCCCC<unk>CCCCCCCCCCCCCCC\n",
      "Pred SMILES: O<unk>C<unk>NC<unk>COP<unk><unk>O<unk><unk><unk>O<unk><unk><unk>OCC<unk>N<unk><unk><unk>C<unk><unk>C<unk>C<unk>C<unk>O<unk>C<unk>CCCC<unk>CCCCCCCCCCCCCCCCC<unk>CCCCCCCCCCCCCC<unk>CCCCCCCCCCCCCCC<unk>\n",
      "\n",
      "True SMILES: O<unk>C<unk>NC<unk>COP<unk><unk>O<unk><unk><unk>O<unk><unk><unk>OCC<unk>N<unk><unk><unk>C<unk><unk>C<unk>C<unk>C<unk>O<unk>C<unk>CCCC<unk>CCCCCCCCCCCCCCCCC<unk>CCCCCCCCCCCCCCCCCCCCCCCCCCCCC\n",
      "Pred SMILES: O<unk>C<unk>NC<unk>COP<unk><unk>O<unk><unk><unk>O<unk><unk><unk>OCC<unk>N<unk><unk><unk>C<unk><unk>C<unk>C<unk>C<unk>O<unk>C<unk>CCCC<unk>CCCCCCCCCCCCCCCCC<unk>CCCCCCCCCCCCCCCCCCCCCCCCCCCCCC<unk>\n",
      "\n",
      "True SMILES: O<unk>C<unk>NC<unk>COP<unk><unk>O<unk><unk><unk>O<unk><unk><unk>OCC<unk>N<unk><unk><unk>C<unk><unk>C<unk>C<unk>C<unk>O<unk>C<unk>CCCC<unk>CCCCCCCCCCCCCCCCC<unk>CCCCCCCCC<unk>CC<unk>CCCCCC\n",
      "Pred SMILES: O<unk>C<unk>NC<unk>COP<unk><unk>O<unk><unk><unk>O<unk><unk><unk>OCC<unk>N<unk><unk><unk>C<unk><unk>C<unk>C<unk>C<unk>O<unk>C<unk>CCCC<unk>CCCCCCCCCCCCCCCCC<unk>CCCCCCCCC<unk>CC<unk>CCCCCCCCCCCCCCCCCCCCCCCCCCCO\n",
      "\n",
      "True SMILES: O<unk>C<unk>NC<unk>COP<unk><unk>O<unk><unk><unk>O<unk><unk><unk>OCC<unk>N<unk><unk><unk>C<unk><unk>C<unk>C<unk>C<unk>O<unk>C<unk>CCCC<unk>CCCCCCCCCCCCCCCCC<unk>CCCCCCCCCC<unk>CCCCCCC\n",
      "Pred SMILES: O<unk>C<unk>NC<unk>COP<unk><unk>O<unk><unk><unk>O<unk><unk><unk>OCC<unk>N<unk><unk><unk>C<unk><unk>C<unk>C<unk>C<unk>O<unk>C<unk>CCCC<unk>CCCCCCCCCCCCCCCCC<unk>CCCCCCCCCC<unk>CCCCCCCCCCCCCCCCCCCCCCCCCCCCCO\n",
      "\n",
      "True SMILES: O<unk>C<unk>NC<unk>COP<unk><unk>O<unk><unk><unk>O<unk><unk><unk>OCC<unk>N<unk><unk><unk>C<unk><unk>C<unk>C<unk>C<unk>O<unk>C<unk>CCCC<unk>CCCCCCCCCCCCCCCCC<unk>CCCCCCCCCCCCCCCCC\n",
      "Pred SMILES: O<unk>C<unk>NC<unk>COP<unk><unk>O<unk><unk><unk>O<unk><unk><unk>OCC<unk>N<unk><unk><unk>C<unk><unk>C<unk>C<unk>C<unk>O<unk>C<unk>CCCC<unk>CCCCCCCCCCCCCCCCC<unk>CCCCCCCCCCCCCCCCCCCCCCCCCCCCCCCCCCCCCCCCO\n",
      "\n",
      "True SMILES: O<unk>C<unk>NC<unk>COP<unk><unk>O<unk><unk><unk>O<unk><unk><unk>OCC<unk>N<unk><unk><unk>C<unk><unk>C<unk>C<unk>C<unk>O<unk>C<unk>CCCC<unk>CCCCCCCCCCCCCCCCC<unk>CCCCCCCCCCCCCCCC\n",
      "Pred SMILES: O<unk>C<unk>NC<unk>COP<unk><unk>O<unk><unk><unk>O<unk><unk><unk>OCC<unk>N<unk><unk><unk>C<unk><unk>C<unk>C<unk>C<unk>O<unk>C<unk>CCCC<unk>CCCCCCCCCCCCCCCCC<unk>CCCCCCCCCCCCCCCCCCCCCCCCCCCCCCCCCCCCCCCCO\n",
      "\n",
      "True SMILES: O<unk>C<unk>NC<unk>COP<unk><unk>O<unk><unk><unk>O<unk><unk><unk>OCC<unk>N<unk><unk><unk>C<unk><unk>C<unk>C<unk>C<unk>O<unk>C<unk>CCCC<unk>CCCCCCCCCCCCCCCCC<unk>CCC<unk>CCC<unk>CCCCCCCCC\n",
      "Pred SMILES: O<unk>C<unk>NC<unk>COP<unk><unk>O<unk><unk><unk>O<unk><unk><unk>OCC<unk>N<unk><unk><unk>C<unk><unk>C<unk>C<unk>C<unk>O<unk>C<unk>CCCC<unk>CCCCCCCCCCCCCCCCC<unk>CCC<unk>CCC<unk>CCCCCCCCCCCCCCCCCCCCCCCCCCCCCCCCO\n",
      "\n",
      "True SMILES: O<unk>C<unk>NC<unk>COP<unk><unk>O<unk><unk><unk>O<unk><unk><unk>OCC<unk>N<unk><unk><unk>C<unk><unk>C<unk>C<unk>C<unk>O<unk>C<unk>CCCCCCCCCCCCCCCCCCCCC<unk>CCCCCCCCCCCCCCCCC<unk>CCCCCCCCCCCCCCC\n",
      "Pred SMILES: O<unk>C<unk>NC<unk>COP<unk><unk>O<unk><unk><unk>O<unk><unk><unk>OCC<unk>N<unk><unk><unk>C<unk><unk>C<unk>C<unk>C<unk>O<unk>C<unk>CCCCCCCCCCCCCCCCCCCCC<unk>CCCCCCCCCCCCCCCCC<unk>CCCCCCCCCCCCCCCC\n",
      "\n",
      "True SMILES: O<unk>C<unk>NC<unk>COP<unk><unk>O<unk><unk><unk>O<unk><unk><unk>OCC<unk>N<unk><unk><unk>C<unk><unk>C<unk>C<unk>C<unk>O<unk>C<unk>CCCCCCCCCCCCCCCCCCCCC<unk>CCCCCCCCCCCCCCCCCCCCCCCCCCCCCCCC\n",
      "Pred SMILES: O<unk>C<unk>NC<unk>COP<unk><unk>O<unk><unk><unk>O<unk><unk><unk>OCC<unk>N<unk><unk><unk>C<unk><unk>C<unk>C<unk>C<unk>O<unk>C<unk>CCCCCCCCCCCCCCCCCCCCC<unk>CCCCCCCCCCCCCCCCCCCCCCCCCCCCCCCCC\n",
      "\n",
      "True SMILES: O<unk>C<unk>NC<unk>COP<unk><unk>O<unk><unk><unk>O<unk><unk><unk>OCC<unk>N<unk><unk><unk>C<unk><unk>C<unk>C<unk>C<unk>O<unk>C<unk>CCCCCCCCCCCCCCCCCCCCC<unk>CCCCCCCCCCCCCCCC<unk>CCC<unk>CCCCCCCCCCCC\n",
      "Pred SMILES: O<unk>C<unk>NC<unk>COP<unk><unk>O<unk><unk><unk>O<unk><unk><unk>OCC<unk>N<unk><unk><unk>C<unk><unk>C<unk>C<unk>C<unk>O<unk>C<unk>CCCCCCCCCCCCCCCCCCCCC<unk>CCCCCCCCCCCCCCCC<unk>CCC<unk>CCCCCCCCCCCCC\n",
      "\n",
      "True SMILES: O<unk>C<unk>NC<unk>COP<unk><unk>O<unk><unk><unk>O<unk><unk><unk>OCC<unk>N<unk><unk><unk>C<unk><unk>C<unk>C<unk>C<unk>O<unk>C<unk>CCCCCCCCCCCCCCCCCCCCC<unk>CCCCCCCCCCCCCCCC<unk>CCCCCCCCCCCCCCC\n",
      "Pred SMILES: O<unk>C<unk>NC<unk>COP<unk><unk>O<unk><unk><unk>O<unk><unk><unk>OCC<unk>N<unk><unk><unk>C<unk><unk>C<unk>C<unk>C<unk>O<unk>C<unk>CCCCCCCCCCCCCCCCCCCCC<unk>CCCCCCCCCCCCCCCC<unk>CCCCCCCCCCCCCCCC\n",
      "\n",
      "True SMILES: O<unk>C<unk>NC<unk>COP<unk><unk>O<unk><unk><unk>O<unk><unk><unk>OCC<unk>N<unk><unk><unk>C<unk><unk>C<unk>C<unk>C<unk>O<unk>C<unk>CCCCCCCCCCCCCCCCCCCCC<unk>CCCCCCCCCCCCCCCCCCCCCCCCCCCCCCC\n",
      "Pred SMILES: O<unk>C<unk>NC<unk>COP<unk><unk>O<unk><unk><unk>O<unk><unk><unk>OCC<unk>N<unk><unk><unk>C<unk><unk>C<unk>C<unk>C<unk>O<unk>C<unk>CCCCCCCCCCCCCCCCCCCCC<unk>CCCCCCCCCCCCCCCCCCCCCCCCCCCCCCCCO\n",
      "\n",
      "True SMILES: O<unk>C<unk>NC<unk>COP<unk><unk>O<unk><unk><unk>O<unk><unk><unk>OCC<unk>N<unk><unk><unk>C<unk><unk>C<unk>C<unk>C<unk>O<unk>C<unk>CCCCCCCCCCCCCCCCCCCCC<unk>CCCCCCCCCC<unk>CCC<unk>CCCCCC\n",
      "Pred SMILES: O<unk>C<unk>NC<unk>COP<unk><unk>O<unk><unk><unk>O<unk><unk><unk>OCC<unk>N<unk><unk><unk>C<unk><unk>C<unk>C<unk>C<unk>O<unk>C<unk>CCCCCCCCCCCCCCCCCCCCC<unk>CCCCCCCCCC<unk>CCC<unk>CCCCCCCCCCCCCCCCCCCCCCC\n",
      "\n",
      "True SMILES: CCCCCCCCCCCCCCCCCCCC<unk>C<unk>C<unk>C<unk>O<unk>C<unk>COP<unk><unk>O<unk><unk><unk><unk><unk>O<unk>OCC<unk>N<unk><unk><unk>C<unk><unk>C<unk>C<unk>NC<unk><unk>O<unk>CCCCCCCCC<unk>C<unk>C<unk>CCCCCCCC\n",
      "Pred SMILES: CCCCCCCCCCCCCCCCCCCC<unk>C<unk>C<unk>C<unk>O<unk>C<unk>COP<unk><unk>O<unk><unk><unk><unk><unk>O<unk>OCC<unk>N<unk><unk><unk>C<unk><unk>C<unk>C<unk>NC<unk><unk>O<unk>CCCCCCCCC<unk>C<unk>C<unk>CCCCCCCCCCCCCCCCCCCCCCCCO\n",
      "\n",
      "True SMILES: O<unk>C<unk>NC<unk>COP<unk><unk>O<unk><unk><unk>O<unk><unk><unk>OCC<unk>N<unk><unk><unk>C<unk><unk>C<unk>C<unk>C<unk>O<unk>C<unk>CCCCCCCCCCCCCCCCCCCCC<unk>CCCCCCCCCCCCCCCCCCC\n",
      "Pred SMILES: O<unk>C<unk>NC<unk>COP<unk><unk>O<unk><unk><unk>O<unk><unk><unk>OCC<unk>N<unk><unk><unk>C<unk><unk>C<unk>C<unk>C<unk>O<unk>C<unk>CCCCCCCCCCCCCCCCCCCCC<unk>CCCCCCCCCCCCCCCCCCCCCCCCCCCCCCCCCCCCCCCCC<unk>\n",
      "\n",
      "True SMILES: O<unk>C<unk>NC<unk>COP<unk><unk>O<unk><unk><unk>O<unk><unk><unk>OCC<unk>N<unk><unk><unk>C<unk><unk>C<unk>C<unk>C<unk>O<unk>C<unk>CCCCCCCCCCCCCCCCCCCCC<unk>CCCCCCCC<unk>CCCCCCCCCC\n",
      "Pred SMILES: O<unk>C<unk>NC<unk>COP<unk><unk>O<unk><unk><unk>O<unk><unk><unk>OCC<unk>N<unk><unk><unk>C<unk><unk>C<unk>C<unk>C<unk>O<unk>C<unk>CCCCCCCCCCCCCCCCCCCCC<unk>CCCCCCCC<unk>CCCCCCCCCCCCCCCCCCCCCCCCCCCCCCCC<unk>\n",
      "\n",
      "True SMILES: O<unk>C<unk>NC<unk>COP<unk><unk>O<unk><unk><unk>O<unk><unk><unk>OCC<unk>N<unk><unk><unk>C<unk><unk>C<unk>C<unk>C<unk>O<unk>C<unk>CCCCCCCCCCCCCCCCCCCCC<unk>CCCCCCCCCCCCCCCCCC\n",
      "Pred SMILES: O<unk>C<unk>NC<unk>COP<unk><unk>O<unk><unk><unk>O<unk><unk><unk>OCC<unk>N<unk><unk><unk>C<unk><unk>C<unk>C<unk>C<unk>O<unk>C<unk>CCCCCCCCCCCCCCCCCCCCC<unk>CCCCCCCCCCCCCCCCCCCCCCCCCCCCCCCCCCCCCCCCC<unk>\n",
      "\n",
      "True SMILES: O<unk>C<unk>NC<unk>COP<unk><unk>O<unk><unk><unk>O<unk><unk><unk>OCC<unk>N<unk><unk><unk>C<unk><unk>C<unk>C<unk>C<unk>O<unk>CCCCCCCCCCCCCCCCCCCCCC<unk>CCCCCCCCCCCCCCCCCCC<unk>CCCCCCCCCCCCCCC\n",
      "Pred SMILES: O<unk>C<unk>NC<unk>COP<unk><unk>O<unk><unk><unk>O<unk><unk><unk>OCC<unk>N<unk><unk><unk>C<unk><unk>C<unk>C<unk>C<unk>O<unk>CCCCCCCCCCCCCCCCCCCCCC<unk>CCCCCCCCCCCCCCCCCCC<unk>CCCCCCCCCCCCCCCC\n",
      "\n",
      "True SMILES: O<unk>C<unk>NC<unk>COP<unk><unk>O<unk><unk><unk>O<unk><unk><unk>OCC<unk>N<unk><unk><unk>C<unk><unk>C<unk>C<unk>C<unk>O<unk>CCCCCCCCCCCCCCCCCCCCCC<unk>CCCCCCCCCCCCCCCCCCCCCCCCCCCCCCCCCC\n",
      "Pred SMILES: O<unk>C<unk>NC<unk>COP<unk><unk>O<unk><unk><unk>O<unk><unk><unk>OCC<unk>N<unk><unk><unk>C<unk><unk>C<unk>C<unk>C<unk>O<unk>CCCCCCCCCCCCCCCCCCCCCC<unk>CCCCCCCCCCCCCCCCCCCCCCCCCCCCCCCCCCCCC\n",
      "\n",
      "True SMILES: O<unk>C<unk>NC<unk>COP<unk><unk>O<unk><unk><unk>O<unk><unk><unk>OCC<unk>N<unk><unk><unk>C<unk><unk>C<unk>C<unk>C<unk>O<unk>CCCCCCCCCCCCCCCCCCCCCC<unk>CCCCCCCCCCCCCCCCCC<unk>CCC<unk>CCCCCCCCCCCC\n",
      "Pred SMILES: O<unk>C<unk>NC<unk>COP<unk><unk>O<unk><unk><unk>O<unk><unk><unk>OCC<unk>N<unk><unk><unk>C<unk><unk>C<unk>C<unk>C<unk>O<unk>CCCCCCCCCCCCCCCCCCCCCC<unk>CCCCCCCCCCCCCCCCCC<unk>CCC<unk>CCCCCCCCCCCCC\n",
      "\n",
      "True SMILES: O<unk>C<unk>NC<unk>COP<unk><unk>O<unk><unk><unk>O<unk><unk><unk>OCC<unk>N<unk><unk><unk>C<unk><unk>C<unk>C<unk>C<unk>O<unk>CCCCCCCCCCCCCCCCCCCCCC<unk>CCCCCCCCCCCCCCCCCC<unk>CCCCCCCCCCCCCCC\n",
      "Pred SMILES: O<unk>C<unk>NC<unk>COP<unk><unk>O<unk><unk><unk>O<unk><unk><unk>OCC<unk>N<unk><unk><unk>C<unk><unk>C<unk>C<unk>C<unk>O<unk>CCCCCCCCCCCCCCCCCCCCCC<unk>CCCCCCCCCCCCCCCCCC<unk>CCCCCCCCCCCCCCCCCC\n",
      "\n",
      "True SMILES: O<unk>C<unk>NC<unk>COP<unk><unk>O<unk><unk><unk>O<unk><unk><unk>OCC<unk>N<unk><unk><unk>C<unk><unk>C<unk>C<unk>C<unk>O<unk>CCCCCCCCCCCCCCCCCCCCCC<unk>CCCCCCCCCCCCCCCCCCCCCCCCCCCCCCCCC\n",
      "Pred SMILES: O<unk>C<unk>NC<unk>COP<unk><unk>O<unk><unk><unk>O<unk><unk><unk>OCC<unk>N<unk><unk><unk>C<unk><unk>C<unk>C<unk>C<unk>O<unk>CCCCCCCCCCCCCCCCCCCCCC<unk>CCCCCCCCCCCCCCCCCCCCCCCCCCCCCCCCCCCCC\n",
      "\n",
      "True SMILES: O<unk>C<unk>NC<unk>COP<unk><unk>O<unk><unk><unk>O<unk><unk><unk>OCC<unk>N<unk><unk><unk>C<unk><unk>C<unk>C<unk>C<unk>O<unk>CCCCCCCCCCCCCCCCCCCCCC<unk>CCCCCCCCCCCCC<unk>CC<unk>CCCCCC\n",
      "Pred SMILES: O<unk>C<unk>NC<unk>COP<unk><unk>O<unk><unk><unk>O<unk><unk><unk>OCC<unk>N<unk><unk><unk>C<unk><unk>C<unk>C<unk>C<unk>O<unk>CCCCCCCCCCCCCCCCCCCCCC<unk>CCCCCCCCCCCCC<unk>CC<unk>CCCCCCCCCCCCCCCCCCCCCCCCCOC\n",
      "\n",
      "True SMILES: O<unk>C<unk>NC<unk>COP<unk><unk>O<unk><unk><unk>O<unk><unk><unk>OCC<unk>N<unk><unk><unk>C<unk><unk>C<unk>C<unk>C<unk>O<unk>CCCCCCCCCCCCCCCCCCCCCC<unk>CCCCCCCCCC<unk>CCCCCCCCCCC\n",
      "Pred SMILES: O<unk>C<unk>NC<unk>COP<unk><unk>O<unk><unk><unk>O<unk><unk><unk>OCC<unk>N<unk><unk><unk>C<unk><unk>C<unk>C<unk>C<unk>O<unk>CCCCCCCCCCCCCCCCCCCCCC<unk>CCCCCCCCCC<unk>CCCCCCCCCCCCCCCCCCCCCCCCCCCCCCC\n",
      "\n",
      "True SMILES: O<unk>C<unk>NC<unk>COP<unk><unk>O<unk><unk><unk>O<unk><unk><unk>OCC<unk>N<unk><unk><unk>C<unk><unk>C<unk>C<unk>C<unk>O<unk>CCCCCCCCCCCCCCCCCCCCCC<unk>CCCCCCCCCCCCCCCCCCCCC\n",
      "Pred SMILES: O<unk>C<unk>NC<unk>COP<unk><unk>O<unk><unk><unk>O<unk><unk><unk>OCC<unk>N<unk><unk><unk>C<unk><unk>C<unk>C<unk>C<unk>O<unk>CCCCCCCCCCCCCCCCCCCCCC<unk>CCCCCCCCCCCCCCCCCCCCCCCCCCCCCCCCCCCCCCCCCCO\n",
      "\n",
      "True SMILES: O<unk>C<unk>NC<unk>COP<unk><unk>O<unk><unk><unk>O<unk><unk><unk>OCC<unk>N<unk><unk><unk>C<unk><unk>C<unk>C<unk>C<unk>O<unk>CCCCCCCCCCCCCCCCCCCCCC<unk>CCCCCCCC<unk>CCCCCCCCCCCC\n",
      "Pred SMILES: O<unk>C<unk>NC<unk>COP<unk><unk>O<unk><unk><unk>O<unk><unk><unk>OCC<unk>N<unk><unk><unk>C<unk><unk>C<unk>C<unk>C<unk>O<unk>CCCCCCCCCCCCCCCCCCCCCC<unk>CCCCCCCC<unk>CCCCCCCCCCCCCCCCCCCCCCCCCCCCCCCCCO\n",
      "\n",
      "True SMILES: O<unk>C<unk>NC<unk>COP<unk><unk>O<unk><unk><unk>O<unk><unk><unk>OCC<unk>N<unk><unk><unk>C<unk><unk>C<unk>C<unk>C<unk>O<unk>CCCCCCCCCCCCCCCCCCCCCC<unk>CCCCCCCCCCCCCCCCCCCC\n",
      "Pred SMILES: O<unk>C<unk>NC<unk>COP<unk><unk>O<unk><unk><unk>O<unk><unk><unk>OCC<unk>N<unk><unk><unk>C<unk><unk>C<unk>C<unk>C<unk>O<unk>CCCCCCCCCCCCCCCCCCCCCC<unk>CCCCCCCCCCCCCCCCCCCCCCCCCCCCCCCCCCCCCCCCCCOCC\n",
      "\n",
      "True SMILES: O<unk>C<unk>NC<unk>COP<unk><unk>O<unk><unk><unk>O<unk><unk><unk>OCC<unk>N<unk><unk><unk>C<unk><unk>C<unk>C<unk>C<unk>O<unk>C<unk>CCCC<unk>CCCC<unk>CCCCCCCCCCCC<unk>CCCCCCCCCCCCCCCCCCCC<unk>CCCCCCCCCCCCCCCCC\n",
      "Pred SMILES: O<unk>C<unk>NC<unk>COP<unk><unk>O<unk><unk><unk>O<unk><unk><unk>OCC<unk>N<unk><unk><unk>C<unk><unk>C<unk>C<unk>C<unk>O<unk>C<unk>CCCC<unk>CCCC<unk>CCCCCCCCCCCC<unk>CCCCCCCCCCCCCCCCCCCC<unk>CCCCCCCCCCCCCCCCC\n",
      "\n",
      "True SMILES: O<unk>C<unk>NC<unk>COP<unk><unk>O<unk><unk><unk>O<unk><unk><unk>OCC<unk>N<unk><unk><unk>C<unk><unk>C<unk>C<unk>C<unk>O<unk>C<unk>CCCC<unk>CCCC<unk>CCCCCCCCCCCC<unk>CCCCCCCCCCCCCCCCCCCCCCCCCCCCCCCCCCCCC\n",
      "Pred SMILES: O<unk>C<unk>NC<unk>COP<unk><unk>O<unk><unk><unk>O<unk><unk><unk>OCC<unk>N<unk><unk><unk>C<unk><unk>C<unk>C<unk>C<unk>O<unk>C<unk>CCCC<unk>CCCC<unk>CCCCCCCCCCCC<unk>CCCCCCCCCCCCCCCCCCCCCCCCCCCCCCCCCCCCC\n",
      "\n",
      "True SMILES: O<unk>C<unk>NC<unk>COP<unk><unk>O<unk><unk><unk>O<unk><unk><unk>OCC<unk>N<unk><unk><unk>C<unk><unk>C<unk>C<unk>C<unk>O<unk>C<unk>CCCC<unk>CCCC<unk>CCCCCCCCCCCC<unk>CCCCCCCCCCCCCCCCCCCC<unk>CCC<unk>CCCCCCCCCCCC\n",
      "Pred SMILES: O<unk>C<unk>NC<unk>COP<unk><unk>O<unk><unk><unk>O<unk><unk><unk>OCC<unk>N<unk><unk><unk>C<unk><unk>C<unk>C<unk>C<unk>O<unk>C<unk>CCCC<unk>CCCC<unk>CCCCCCCCCCCC<unk>CCCCCCCCCCCCCCCCCCCC<unk>CCC<unk>CCCCCCCCCCCC\n",
      "\n",
      "True SMILES: O<unk>C<unk>NC<unk>COP<unk><unk>O<unk><unk><unk>O<unk><unk><unk>OCC<unk>N<unk><unk><unk>C<unk><unk>C<unk>C<unk>C<unk>O<unk>C<unk>CCCC<unk>CCCC<unk>CCCCCCCCCCCC<unk>CCCCCCCCCCCCCCCCCCCC<unk>CCCCCCCCCCCCCCC\n",
      "Pred SMILES: O<unk>C<unk>NC<unk>COP<unk><unk>O<unk><unk><unk>O<unk><unk><unk>OCC<unk>N<unk><unk><unk>C<unk><unk>C<unk>C<unk>C<unk>O<unk>C<unk>CCCC<unk>CCCC<unk>CCCCCCCCCCCC<unk>CCCCCCCCCCCCCCCCCCCC<unk>CCCCCCCCCCCCCCC\n",
      "\n",
      "True SMILES: O<unk>C<unk>NC<unk>COP<unk><unk>O<unk><unk><unk>O<unk><unk><unk>OCC<unk>N<unk><unk><unk>C<unk><unk>C<unk>C<unk>C<unk>O<unk>C<unk>CCCC<unk>CCCC<unk>CCCCCCCCCCCC<unk>CCCCCCCCCCCCCCCCCCCCCCCCCCCCCCCCCCC\n",
      "Pred SMILES: O<unk>C<unk>NC<unk>COP<unk><unk>O<unk><unk><unk>O<unk><unk><unk>OCC<unk>N<unk><unk><unk>C<unk><unk>C<unk>C<unk>C<unk>O<unk>C<unk>CCCC<unk>CCCC<unk>CCCCCCCCCCCC<unk>CCCCCCCCCCCCCCCCCCCCCCCCCCCCCCCCCCCC\n",
      "\n",
      "True SMILES: O<unk>C<unk>NC<unk>COP<unk><unk>O<unk><unk><unk>O<unk><unk><unk>OCC<unk>N<unk><unk><unk>C<unk><unk>C<unk>C<unk>C<unk>O<unk>C<unk>CCCC<unk>CCCC<unk>CCCCCCCCCCCC<unk>CCCCCCCCCCCCCCCCC<unk>CCC<unk>CCC\n",
      "Pred SMILES: O<unk>C<unk>NC<unk>COP<unk><unk>O<unk><unk><unk>O<unk><unk><unk>OCC<unk>N<unk><unk><unk>C<unk><unk>C<unk>C<unk>C<unk>O<unk>C<unk>CCCC<unk>CCCC<unk>CCCCCCCCCCCC<unk>CCCCCCCCCCCCCCCCC<unk>CCC<unk>CCCCCCCCCCCCCCCCCCO\n",
      "\n",
      "True SMILES: O<unk>C<unk>NC<unk>COP<unk><unk>O<unk><unk><unk>O<unk><unk><unk>OCC<unk>N<unk><unk><unk>C<unk><unk>C<unk>C<unk>C<unk>O<unk>C<unk>CCCC<unk>CCCC<unk>CCCCCCCCCCCC<unk>CCCCCCCCCC<unk>CCCCCCCCCCCCC\n",
      "Pred SMILES: O<unk>C<unk>NC<unk>COP<unk><unk>O<unk><unk><unk>O<unk><unk><unk>OCC<unk>N<unk><unk><unk>C<unk><unk>C<unk>C<unk>C<unk>O<unk>C<unk>CCCC<unk>CCCC<unk>CCCCCCCCCCCC<unk>CCCCCCCCCC<unk>CCCCCCCCCCCCCCCCCCCCCCCCCCCCCO\n",
      "\n",
      "True SMILES: O<unk>C<unk>NC<unk>COP<unk><unk>O<unk><unk><unk>O<unk><unk><unk>OCC<unk>N<unk><unk><unk>C<unk><unk>C<unk>C<unk>C<unk>O<unk>C<unk>CCCC<unk>CCCC<unk>CCCCCCCCCCCC<unk>CCCCCCCCCCCCCCCCCCCCCCC\n",
      "Pred SMILES: O<unk>C<unk>NC<unk>COP<unk><unk>O<unk><unk><unk>O<unk><unk><unk>OCC<unk>N<unk><unk><unk>C<unk><unk>C<unk>C<unk>C<unk>O<unk>C<unk>CCCC<unk>CCCC<unk>CCCCCCCCCCCC<unk>CCCCCCCCCCCCCCCCCCCCCCCCCCCCCCCCCCCCCCO\n",
      "\n",
      "True SMILES: O<unk>C<unk>NC<unk>COP<unk><unk>O<unk><unk><unk>O<unk><unk><unk>OCC<unk>N<unk><unk><unk>C<unk><unk>C<unk>C<unk>C<unk>O<unk>C<unk>CCCC<unk>CCCC<unk>CCCCCCCCCCCC<unk>CCCCCCCCCC<unk>CCCCCCCCCCCC\n",
      "Pred SMILES: O<unk>C<unk>NC<unk>COP<unk><unk>O<unk><unk><unk>O<unk><unk><unk>OCC<unk>N<unk><unk><unk>C<unk><unk>C<unk>C<unk>C<unk>O<unk>C<unk>CCCC<unk>CCCC<unk>CCCCCCCCCCCC<unk>CCCCCCCCCC<unk>CCCCCCCCCCCCCCCCCCCCCCCCCCCO\n",
      "\n",
      "True SMILES: CCCCCCCCCCCCCCCCCCCCCCC<unk><unk>O<unk>NC<unk>COP<unk><unk>O<unk><unk><unk><unk><unk>O<unk>OCC<unk>N<unk><unk><unk>C<unk><unk>C<unk>C<unk>C<unk>O<unk><unk>C<unk>C<unk>CC<unk>C<unk>C<unk>CC<unk>C<unk>C<unk>CCCCCCCCCCC\n",
      "Pred SMILES: CCCCCCCCCCCCCCCCCCCCCCC<unk><unk>O<unk>NC<unk>COP<unk><unk>O<unk><unk><unk><unk><unk>O<unk>OCC<unk>N<unk><unk><unk>C<unk><unk>C<unk>C<unk>C<unk>O<unk><unk>C<unk>C<unk>CC<unk>C<unk>C<unk>CC<unk>C<unk>C<unk>CCCCCCCCCCCCCCCCCCCCCCC<unk>\n",
      "\n",
      "True SMILES: O<unk>C<unk>NC<unk>COP<unk><unk>O<unk><unk><unk>O<unk><unk><unk>OCC<unk>N<unk><unk><unk>C<unk><unk>C<unk>C<unk>C<unk>O<unk>C<unk>CCCC<unk>CCCCCCCCCCCCCCCC<unk>CCCCCCCCCCCCCCCCCCCCCCCCCCCCCCCCCCCCCCCCC\n",
      "Pred SMILES: O<unk>C<unk>NC<unk>COP<unk><unk>O<unk><unk><unk>O<unk><unk><unk>OCC<unk>N<unk><unk><unk>C<unk><unk>C<unk>C<unk>C<unk>O<unk>C<unk>CCCC<unk>CCCCCCCCCCCCCCCC<unk>CCCCCCCCCCCCCCCCCCCCCCCCCCCCCCCCCCCCCCCCCCOO\n",
      "\n",
      "True SMILES: CCCCCCCCCCCCCCC<unk>C<unk>C<unk>CC<unk>C<unk>C<unk>C<unk>O<unk>C<unk>COP<unk><unk>O<unk><unk><unk><unk><unk>O<unk>OCC<unk>N<unk><unk><unk>C<unk><unk>C<unk>C<unk>NC<unk><unk>O<unk>CCCCCCCCCCCCCCCCCCC<unk>C<unk>C<unk>C<unk>C<unk>C<unk>CCCCCCCCCCCCCCC\n",
      "Pred SMILES: CCCCCCCCCCCCCCC<unk>C<unk>C<unk>CC<unk>C<unk>C<unk>C<unk>O<unk>C<unk>COP<unk><unk>O<unk><unk><unk><unk><unk>O<unk>OCC<unk>N<unk><unk><unk>C<unk><unk>C<unk>C<unk>NC<unk><unk>O<unk>CCCCCCCCCCCCCCCCCCC<unk>C<unk>C<unk>C<unk>C<unk>C<unk>CCCCCCCCCCCCCCCC\n",
      "\n",
      "True SMILES: O<unk>C<unk>NC<unk>COP<unk><unk>O<unk><unk><unk>O<unk><unk><unk>OCC<unk>N<unk><unk><unk>C<unk><unk>C<unk>C<unk>C<unk>O<unk>C<unk>CCCC<unk>CCCCCCCCCCCCCCCC<unk>CCCCCCCCCCCCCCCCCCCC<unk>CCCCCCCCCCCCCCCCCCC\n",
      "Pred SMILES: O<unk>C<unk>NC<unk>COP<unk><unk>O<unk><unk><unk>O<unk><unk><unk>OCC<unk>N<unk><unk><unk>C<unk><unk>C<unk>C<unk>C<unk>O<unk>C<unk>CCCC<unk>CCCCCCCCCCCCCCCC<unk>CCCCCCCCCCCCCCCCCCCC<unk>CCCCCCCCCCCCCCCCCCCCO\n",
      "\n",
      "True SMILES: O<unk>C<unk>NC<unk>COP<unk><unk>O<unk><unk><unk>O<unk><unk><unk>OCC<unk>N<unk><unk><unk>C<unk><unk>C<unk>C<unk>C<unk>O<unk>C<unk>CCCC<unk>CCCCCCCCCCCCCCCC<unk>CCCCCCCCCCCCCCCCCCCCCCCCCCCCCCCCCCCCCCC\n",
      "Pred SMILES: O<unk>C<unk>NC<unk>COP<unk><unk>O<unk><unk><unk>O<unk><unk><unk>OCC<unk>N<unk><unk><unk>C<unk><unk>C<unk>C<unk>C<unk>O<unk>C<unk>CCCC<unk>CCCCCCCCCCCCCCCC<unk>CCCCCCCCCCCCCCCCCCCCCCCCCCCCCCCCCCCCCCCCOO\n",
      "\n",
      "True SMILES: O<unk>C<unk>NC<unk>COP<unk><unk>O<unk><unk><unk>O<unk><unk><unk>OCC<unk>N<unk><unk><unk>C<unk><unk>C<unk>C<unk>C<unk>O<unk>C<unk>CCCC<unk>CCCCCCCCCCCCCCCC<unk>CCCCCCCCCCCCCCCCCCCC<unk>CCC<unk>CCCCCCCCCCCCCC\n",
      "Pred SMILES: O<unk>C<unk>NC<unk>COP<unk><unk>O<unk><unk><unk>O<unk><unk><unk>OCC<unk>N<unk><unk><unk>C<unk><unk>C<unk>C<unk>C<unk>O<unk>C<unk>CCCC<unk>CCCCCCCCCCCCCCCC<unk>CCCCCCCCCCCCCCCCCCCC<unk>CCC<unk>CCCCCCCCCCCCCCCOO\n",
      "\n",
      "True SMILES: CCCCCCCCCCCCCCC<unk>C<unk>C<unk>CC<unk>C<unk>C<unk>C<unk>O<unk>C<unk>COP<unk><unk>O<unk><unk><unk><unk><unk>O<unk>OCC<unk>N<unk><unk><unk>C<unk><unk>C<unk>C<unk>NC<unk><unk>O<unk>CCCCCCCCC<unk>C<unk>C<unk>C<unk>C<unk>C<unk>CCCCCCCCCCC\n",
      "Pred SMILES: CCCCCCCCCCCCCCC<unk>C<unk>C<unk>CC<unk>C<unk>C<unk>C<unk>O<unk>C<unk>COP<unk><unk>O<unk><unk><unk><unk><unk>O<unk>OCC<unk>N<unk><unk><unk>C<unk><unk>C<unk>C<unk>NC<unk><unk>O<unk>CCCCCCCCC<unk>C<unk>C<unk>C<unk>C<unk>C<unk>CCCCCCCCCCCC\n",
      "\n",
      "True SMILES: O<unk>C<unk>NC<unk>COP<unk><unk>O<unk><unk><unk>O<unk><unk><unk>OCC<unk>N<unk><unk><unk>C<unk><unk>C<unk>C<unk>C<unk>O<unk>C<unk>CCCC<unk>CCCCCCCCCCCCCCCC<unk>CCCCCCCCCC<unk>CCCCCCCCCCCCCCC\n",
      "Pred SMILES: O<unk>C<unk>NC<unk>COP<unk><unk>O<unk><unk><unk>O<unk><unk><unk>OCC<unk>N<unk><unk><unk>C<unk><unk>C<unk>C<unk>C<unk>O<unk>C<unk>CCCC<unk>CCCCCCCCCCCCCCCC<unk>CCCCCCCCCC<unk>CCCCCCCCCCCCCCCCCCCCCCCC\n",
      "\n",
      "True SMILES: O<unk>C<unk>NC<unk>COP<unk><unk>O<unk><unk><unk>O<unk><unk><unk>OCC<unk>N<unk><unk><unk>C<unk><unk>C<unk>C<unk>C<unk>O<unk>C<unk>CCCC<unk>CCCCCCCCCCCCCCCC<unk>CCCCCCCCCCCCCCCCCCCCCCCCC\n",
      "Pred SMILES: O<unk>C<unk>NC<unk>COP<unk><unk>O<unk><unk><unk>O<unk><unk><unk>OCC<unk>N<unk><unk><unk>C<unk><unk>C<unk>C<unk>C<unk>O<unk>C<unk>CCCC<unk>CCCCCCCCCCCCCCCC<unk>CCCCCCCCCCCCCCCCCCCCCCCCCCCCCCCCCC\n",
      "\n",
      "True SMILES: O<unk>C<unk>NC<unk>COP<unk><unk>O<unk><unk><unk>O<unk><unk><unk>OCC<unk>N<unk><unk><unk>C<unk><unk>C<unk>C<unk>C<unk>O<unk>C<unk>CCCC<unk>CCCCCCCCCCCCCCCC<unk>CCCCCCCCCC<unk>CCCCCCCCCCCCCC\n",
      "Pred SMILES: O<unk>C<unk>NC<unk>COP<unk><unk>O<unk><unk><unk>O<unk><unk><unk>OCC<unk>N<unk><unk><unk>C<unk><unk>C<unk>C<unk>C<unk>O<unk>C<unk>CCCC<unk>CCCCCCCCCCCCCCCC<unk>CCCCCCCCCC<unk>CCCCCCCCCCCCCCCCCCCCCCC\n",
      "\n",
      "True SMILES: O<unk>C<unk>NC<unk>COP<unk><unk>O<unk><unk><unk>O<unk><unk><unk>OCC<unk>N<unk><unk><unk>C<unk><unk>C<unk>C<unk>C<unk>O<unk>C<unk>CCCC<unk>CCCCCCCCCCCCCCCC<unk>CCCCCCCCCCCCCCCCCCCCCCCC\n",
      "Pred SMILES: O<unk>C<unk>NC<unk>COP<unk><unk>O<unk><unk><unk>O<unk><unk><unk>OCC<unk>N<unk><unk><unk>C<unk><unk>C<unk>C<unk>C<unk>O<unk>C<unk>CCCC<unk>CCCCCCCCCCCCCCCC<unk>CCCCCCCCCCCCCCCCCCCCCCCCCCCCCCCC\n",
      "\n",
      "True SMILES: CCCCCCCCCCCCCCC<unk>C<unk>C<unk>CC<unk>C<unk>C<unk>C<unk>O<unk>C<unk>COP<unk><unk>O<unk><unk><unk><unk><unk>O<unk>OCC<unk>N<unk><unk><unk>C<unk><unk>C<unk>C<unk>NC<unk><unk>O<unk>CCCCCCCCCCCC\n",
      "Pred SMILES: CCCCCCCCCCCCCCC<unk>C<unk>C<unk>CC<unk>C<unk>C<unk>C<unk>O<unk>C<unk>COP<unk><unk>O<unk><unk><unk><unk><unk>O<unk>OCC<unk>N<unk><unk><unk>C<unk><unk>C<unk>C<unk>NC<unk><unk>O<unk>CCCCCCCCCCCCCCCCCCCCCCCCCCCCCCCCC<unk>\n",
      "\n",
      "True SMILES: O<unk>C<unk>NC<unk>COP<unk><unk>O<unk><unk><unk>O<unk><unk><unk>OCC<unk>N<unk><unk><unk>C<unk><unk>C<unk>C<unk>C<unk>O<unk>C<unk>CCCC<unk>CCCCCCCCCCCCCCCC<unk>CCCC<unk>CCCCCCC\n",
      "Pred SMILES: O<unk>C<unk>NC<unk>COP<unk><unk>O<unk><unk><unk>O<unk><unk><unk>OCC<unk>N<unk><unk><unk>C<unk><unk>C<unk>C<unk>C<unk>O<unk>C<unk>CCCC<unk>CCCCCCCCCCCCCCCC<unk>CCCC<unk>CCCCCCCCCCCCCCCCCCCCCCCCCCCCCCCCCCC<unk>\n",
      "\n",
      "True SMILES: O<unk>C<unk>NC<unk>COP<unk><unk>O<unk><unk><unk>O<unk><unk><unk>OCC<unk>N<unk><unk><unk>C<unk><unk>C<unk>C<unk>C<unk>O<unk>C<unk>CCCC<unk>CCCCCCCCCCCCCCCC<unk>CCCCCCCCCCC\n",
      "Pred SMILES: O<unk>C<unk>NC<unk>COP<unk><unk>O<unk><unk><unk>O<unk><unk><unk>OCC<unk>N<unk><unk><unk>C<unk><unk>C<unk>C<unk>C<unk>O<unk>C<unk>CCCC<unk>CCCCCCCCCCCCCCCC<unk>CCCCCCCCCCCCCCCCCCCCCCCCCCCCCCCCCCCCCCCCC<unk>\n",
      "\n",
      "True SMILES: O<unk>C<unk>NC<unk>COP<unk><unk>O<unk><unk><unk>O<unk><unk><unk>OCC<unk>N<unk><unk><unk>C<unk><unk>C<unk>C<unk>C<unk>O<unk>C<unk>CCCCCCCCCCCCCCCCCCCC<unk>CCCCCCCCCCCCCCCCCCCC<unk>CCC<unk>CCCCCCCCCCCCCCCCCC\n",
      "Pred SMILES: O<unk>C<unk>NC<unk>COP<unk><unk>O<unk><unk><unk>O<unk><unk><unk>OCC<unk>N<unk><unk><unk>C<unk><unk>C<unk>C<unk>C<unk>O<unk>C<unk>CCCCCCCCCCCCCCCCCCCC<unk>CCCCCCCCCCCCCCCCCCCC<unk>CCC<unk>CCCCCCCCCCCCCCCCCC\n",
      "\n",
      "True SMILES: O<unk>C<unk>NC<unk>COP<unk><unk>O<unk><unk><unk>O<unk><unk><unk>OCC<unk>N<unk><unk><unk>C<unk><unk>C<unk>C<unk>C<unk>O<unk>C<unk>CCCCCCCCCCCCCCCCCCCC<unk>CCCCCCCCCCCCCCCCCCCC<unk>CCCCCCCCCCCCCCCCCCCCC\n",
      "Pred SMILES: O<unk>C<unk>NC<unk>COP<unk><unk>O<unk><unk><unk>O<unk><unk><unk>OCC<unk>N<unk><unk><unk>C<unk><unk>C<unk>C<unk>C<unk>O<unk>C<unk>CCCCCCCCCCCCCCCCCCCC<unk>CCCCCCCCCCCCCCCCCCCC<unk>CCCCCCCCCCCCCCCCCCCCC\n",
      "\n",
      "True SMILES: O<unk>C<unk>NC<unk>COP<unk><unk>O<unk><unk><unk>O<unk><unk><unk>OCC<unk>N<unk><unk><unk>C<unk><unk>C<unk>C<unk>C<unk>O<unk>C<unk>CCCCCCCCCCCCCCCCCCCC<unk>CCCCCCCCCCCC<unk>CCC<unk>CCCCCCCCCCCC\n",
      "Pred SMILES: O<unk>C<unk>NC<unk>COP<unk><unk>O<unk><unk><unk>O<unk><unk><unk>OCC<unk>N<unk><unk><unk>C<unk><unk>C<unk>C<unk>C<unk>O<unk>C<unk>CCCCCCCCCCCCCCCCCCCC<unk>CCCCCCCCCCCC<unk>CCC<unk>CCCCCCCCCCCCC\n",
      "\n",
      "True SMILES: O<unk>C<unk>NC<unk>COP<unk><unk>O<unk><unk><unk>O<unk><unk><unk>OCC<unk>N<unk><unk><unk>C<unk><unk>C<unk>C<unk>C<unk>O<unk>C<unk>CCCCCCCCCCCCCCCCCCCC<unk>CCCCCCCCCCCC<unk>CCCCCCCCCCCCCCC\n",
      "Pred SMILES: O<unk>C<unk>NC<unk>COP<unk><unk>O<unk><unk><unk>O<unk><unk><unk>OCC<unk>N<unk><unk><unk>C<unk><unk>C<unk>C<unk>C<unk>O<unk>C<unk>CCCCCCCCCCCCCCCCCCCC<unk>CCCCCCCCCCCC<unk>CCCCCCCCCCCCCCC\n",
      "\n",
      "True SMILES: O<unk>C<unk>NC<unk>COP<unk><unk>O<unk><unk><unk>O<unk><unk><unk>OCC<unk>N<unk><unk><unk>C<unk><unk>C<unk>C<unk>C<unk>O<unk>C<unk>CCCCCCCCCCCCCCCCCCCC<unk>CCCCCCCCCCCCCCCCCCCCCCCCCCC\n",
      "Pred SMILES: O<unk>C<unk>NC<unk>COP<unk><unk>O<unk><unk><unk>O<unk><unk><unk>OCC<unk>N<unk><unk><unk>C<unk><unk>C<unk>C<unk>C<unk>O<unk>C<unk>CCCCCCCCCCCCCCCCCCCC<unk>CCCCCCCCCCCCCCCCCCCCCCCCCCCCC\n",
      "\n",
      "True SMILES: O<unk>C<unk>NC<unk>COP<unk><unk>O<unk><unk><unk>O<unk><unk><unk>OCC<unk>N<unk><unk><unk>C<unk><unk>C<unk>C<unk>C<unk>O<unk>C<unk>CCCCCCCCCCCCCCCCCCCC<unk>CCCCCCCCCCC<unk>CCCCCCCCCCCCCCC\n",
      "Pred SMILES: O<unk>C<unk>NC<unk>COP<unk><unk>O<unk><unk><unk>O<unk><unk><unk>OCC<unk>N<unk><unk><unk>C<unk><unk>C<unk>C<unk>C<unk>O<unk>C<unk>CCCCCCCCCCCCCCCCCCCC<unk>CCCCCCCCCCC<unk>CCCCCCCCCCCCCCCCC\n",
      "\n",
      "True SMILES: O<unk>C<unk>NC<unk>COP<unk><unk>O<unk><unk><unk>O<unk><unk><unk>OCC<unk>N<unk><unk><unk>C<unk><unk>C<unk>C<unk>C<unk>O<unk>C<unk>CCCCCCCCCCCCCCCCCCCC<unk>CCCCCCCCCCCCCCCCCCCCCCCCCC\n",
      "Pred SMILES: O<unk>C<unk>NC<unk>COP<unk><unk>O<unk><unk><unk>O<unk><unk><unk>OCC<unk>N<unk><unk><unk>C<unk><unk>C<unk>C<unk>C<unk>O<unk>C<unk>CCCCCCCCCCCCCCCCCCCC<unk>CCCCCCCCCCCCCCCCCCCCCCCCCCCCC\n",
      "\n",
      "True SMILES: O<unk>C<unk>NC<unk>COP<unk><unk>O<unk><unk><unk>O<unk><unk><unk>OCC<unk>N<unk><unk><unk>C<unk><unk>C<unk>C<unk>C<unk>O<unk>C<unk>CCCCCCCCCCCCCCCCCCCC<unk>CCCCCCCC<unk>CCCCCC\n",
      "Pred SMILES: O<unk>C<unk>NC<unk>COP<unk><unk>O<unk><unk><unk>O<unk><unk><unk>OCC<unk>N<unk><unk><unk>C<unk><unk>C<unk>C<unk>C<unk>O<unk>C<unk>CCCCCCCCCCCCCCCCCCCC<unk>CCCCCCCC<unk>CCCCCCCCCCCCCCCCCCCCCCCCCCCC\n",
      "\n",
      "True SMILES: O<unk>C<unk>NC<unk>COP<unk><unk>O<unk><unk><unk>O<unk><unk><unk>OCC<unk>N<unk><unk><unk>C<unk><unk>C<unk>C<unk>C<unk>O<unk>C<unk>CCCCCCCCCCCCCCCCCCCC<unk>CCCCCCCCCCCCCC\n",
      "Pred SMILES: O<unk>C<unk>NC<unk>COP<unk><unk>O<unk><unk><unk>O<unk><unk><unk>OCC<unk>N<unk><unk><unk>C<unk><unk>C<unk>C<unk>C<unk>O<unk>C<unk>CCCCCCCCCCCCCCCCCCCC<unk>CCCCCCCCCCCCCCCCCCCCCCCCCCCCCCCCCCCCC\n",
      "\n",
      "True SMILES: O<unk>C<unk>NC<unk>COP<unk><unk>O<unk><unk><unk>O<unk><unk><unk>OCC<unk>N<unk><unk><unk>C<unk><unk>C<unk>C<unk>C<unk>O<unk>C<unk>CCCCCCCCCCCCCCCCCCCC<unk>CCCCCCCC<unk>CCCCC\n",
      "Pred SMILES: O<unk>C<unk>NC<unk>COP<unk><unk>O<unk><unk><unk>O<unk><unk><unk>OCC<unk>N<unk><unk><unk>C<unk><unk>C<unk>C<unk>C<unk>O<unk>C<unk>CCCCCCCCCCCCCCCCCCCC<unk>CCCCCCCC<unk>CCCCCCCCCCCCCCCCCCCCCCCCCCCC\n",
      "\n",
      "True SMILES: O<unk>C<unk>NC<unk>COP<unk><unk>O<unk><unk><unk>O<unk><unk><unk>OCC<unk>N<unk><unk><unk>C<unk><unk>C<unk>C<unk>C<unk>O<unk>C<unk>CCCCCCCCCCCCCCCCCCCC<unk>CCCCCCCCCCCCC\n",
      "Pred SMILES: O<unk>C<unk>NC<unk>COP<unk><unk>O<unk><unk><unk>O<unk><unk><unk>OCC<unk>N<unk><unk><unk>C<unk><unk>C<unk>C<unk>C<unk>O<unk>C<unk>CCCCCCCCCCCCCCCCCCCC<unk>CCCCCCCCCCCCCCCCCCCCCCCCCCCCCCCCCCCCCCCC\n",
      "\n",
      "True SMILES: O<unk>C<unk>NC<unk>COP<unk><unk>O<unk><unk><unk>O<unk><unk><unk>OCC<unk>N<unk><unk><unk>C<unk><unk>C<unk>C<unk>C<unk>O<unk>C<unk>CCCCCCCCCCCCCCCCCCCC<unk>CCCCCCC<unk>CCCCC\n",
      "Pred SMILES: O<unk>C<unk>NC<unk>COP<unk><unk>O<unk><unk><unk>O<unk><unk><unk>OCC<unk>N<unk><unk><unk>C<unk><unk>C<unk>C<unk>C<unk>O<unk>C<unk>CCCCCCCCCCCCCCCCCCCC<unk>CCCCCCC<unk>CCCCCCCCCCCCCCCCCCCCCCCCCCCCCCC\n",
      "\n",
      "True SMILES: O<unk>C<unk>NC<unk>COP<unk><unk>O<unk><unk><unk>O<unk><unk><unk>OCC<unk>N<unk><unk><unk>C<unk><unk>C<unk>C<unk>C<unk>O<unk>CCCCCCCCCCCCCCCCCCCCC<unk>CCCCCCCCCCCCCC<unk>CCC<unk>CCCCCCCCCCCC\n",
      "Pred SMILES: O<unk>C<unk>NC<unk>COP<unk><unk>O<unk><unk><unk>O<unk><unk><unk>OCC<unk>N<unk><unk><unk>C<unk><unk>C<unk>C<unk>C<unk>O<unk>CCCCCCCCCCCCCCCCCCCCC<unk>CCCCCCCCCCCCCC<unk>CCC<unk>CCCCCCCCCCCCC\n",
      "\n",
      "True SMILES: O<unk>C<unk>NC<unk>COP<unk><unk>O<unk><unk><unk>O<unk><unk><unk>OCC<unk>N<unk><unk><unk>C<unk><unk>C<unk>C<unk>C<unk>O<unk>CCCCCCCCCCCCCCCCCCCCC<unk>CCCCCCCCCCCCCC<unk>CCCCCCCCCCCCCCC\n",
      "Pred SMILES: O<unk>C<unk>NC<unk>COP<unk><unk>O<unk><unk><unk>O<unk><unk><unk>OCC<unk>N<unk><unk><unk>C<unk><unk>C<unk>C<unk>C<unk>O<unk>CCCCCCCCCCCCCCCCCCCCC<unk>CCCCCCCCCCCCCC<unk>CCCCCCCCCCCCCCC\n",
      "\n",
      "True SMILES: O<unk>C<unk>NC<unk>COP<unk><unk>O<unk><unk><unk>O<unk><unk><unk>OCC<unk>N<unk><unk><unk>C<unk><unk>C<unk>C<unk>C<unk>O<unk>CCCCCCCCCCCCCCCCCCCCC<unk>CCCCCCCCCCCCCCCCCCCCCCCCCCCCC\n",
      "Pred SMILES: O<unk>C<unk>NC<unk>COP<unk><unk>O<unk><unk><unk>O<unk><unk><unk>OCC<unk>N<unk><unk><unk>C<unk><unk>C<unk>C<unk>C<unk>O<unk>CCCCCCCCCCCCCCCCCCCCC<unk>CCCCCCCCCCCCCCCCCCCCCCCCCCCCC\n",
      "\n",
      "True SMILES: O<unk>C<unk>NC<unk>COP<unk><unk>O<unk><unk><unk>O<unk><unk><unk>OCC<unk>N<unk><unk><unk>C<unk><unk>C<unk>C<unk>C<unk>O<unk>CCCCCCCCCCCCCCCCCCCCC<unk>CCCCCCCCCCCCC<unk>CCCCCCCCCCCCCCC\n",
      "Pred SMILES: O<unk>C<unk>NC<unk>COP<unk><unk>O<unk><unk><unk>O<unk><unk><unk>OCC<unk>N<unk><unk><unk>C<unk><unk>C<unk>C<unk>C<unk>O<unk>CCCCCCCCCCCCCCCCCCCCC<unk>CCCCCCCCCCCCC<unk>CCCCCCCCCCCCCCC\n",
      "\n",
      "True SMILES: O<unk>C<unk>NC<unk>COP<unk><unk>O<unk><unk><unk>O<unk><unk><unk>OCC<unk>N<unk><unk><unk>C<unk><unk>C<unk>C<unk>C<unk>O<unk>CCCCCCCCCCCCCCCCCCCCC<unk>CCCCCCCCCCCCCCCCCCCCCCCCCCCC\n",
      "Pred SMILES: O<unk>C<unk>NC<unk>COP<unk><unk>O<unk><unk><unk>O<unk><unk><unk>OCC<unk>N<unk><unk><unk>C<unk><unk>C<unk>C<unk>C<unk>O<unk>CCCCCCCCCCCCCCCCCCCCC<unk>CCCCCCCCCCCCCCCCCCCCCCCCCCCCCC\n",
      "\n",
      "True SMILES: O<unk>C<unk>NC<unk>COP<unk><unk>O<unk><unk><unk>O<unk><unk><unk>OCC<unk>N<unk><unk><unk>C<unk><unk>C<unk>C<unk>C<unk>O<unk>CCCCCCCCCCCCCCCCCCCCC<unk>CCCCCCCCCCCCCCCCC\n",
      "Pred SMILES: O<unk>C<unk>NC<unk>COP<unk><unk>O<unk><unk><unk>O<unk><unk><unk>OCC<unk>N<unk><unk><unk>C<unk><unk>C<unk>C<unk>C<unk>O<unk>CCCCCCCCCCCCCCCCCCCCC<unk>CCCCCCCCCCCCCCCCCCCCCCCCCCCCCCCCCCCCCCCCO\n",
      "\n",
      "True SMILES: O<unk>C<unk>NC<unk>COP<unk><unk>O<unk><unk><unk>O<unk><unk><unk>OCC<unk>N<unk><unk><unk>C<unk><unk>C<unk>C<unk>C<unk>O<unk>CCCCCCCCCCCCCCCCCCCCC<unk>CCCCCCCCCCCCCCCC\n",
      "Pred SMILES: O<unk>C<unk>NC<unk>COP<unk><unk>O<unk><unk><unk>O<unk><unk><unk>OCC<unk>N<unk><unk><unk>C<unk><unk>C<unk>C<unk>C<unk>O<unk>CCCCCCCCCCCCCCCCCCCCC<unk>CCCCCCCCCCCCCCCCCCCCCCCCCCCCCCCCCCCCCCCCCCOC\n",
      "\n",
      "True SMILES: O<unk>C<unk>NC<unk>COP<unk><unk>O<unk><unk><unk>O<unk><unk><unk>OCC<unk>N<unk><unk><unk>C<unk><unk>C<unk>C<unk>C<unk>O<unk>CCCCCCCCCCCCCCCCCCCCC<unk>CCC<unk>CCC<unk>CCCCCCCCC\n",
      "Pred SMILES: O<unk>C<unk>NC<unk>COP<unk><unk>O<unk><unk><unk>O<unk><unk><unk>OCC<unk>N<unk><unk><unk>C<unk><unk>C<unk>C<unk>C<unk>O<unk>CCCCCCCCCCCCCCCCCCCCC<unk>CCC<unk>CCC<unk>CCCCCCCCCCCCCCCCCCCCCCCCCCCCCCCCCO\n",
      "\n",
      "True SMILES: O<unk>C<unk>NC<unk>COP<unk><unk>O<unk><unk><unk>O<unk><unk><unk>OCC<unk>N<unk><unk><unk>C<unk><unk>C<unk>C<unk>C<unk>O<unk>CCCCCCCCCCCCCCCCCCCCC<unk>CCCCCC<unk>CCCCCCCCC\n",
      "Pred SMILES: O<unk>C<unk>NC<unk>COP<unk><unk>O<unk><unk><unk>O<unk><unk><unk>OCC<unk>N<unk><unk><unk>C<unk><unk>C<unk>C<unk>C<unk>O<unk>CCCCCCCCCCCCCCCCCCCCC<unk>CCCCCC<unk>CCCCCCCCCCCCCCCCCCCCCCCCCCCCCCCCCCCOC\n",
      "\n",
      "True SMILES: O<unk>C<unk>NC<unk>COP<unk><unk>O<unk><unk><unk>O<unk><unk><unk>OCC<unk>N<unk><unk><unk>C<unk><unk>C<unk>C<unk>C<unk>O<unk>CCCCCCCCCCCCCCCCCCCCC<unk>CCCCCCCCCCCCCCC\n",
      "Pred SMILES: O<unk>C<unk>NC<unk>COP<unk><unk>O<unk><unk><unk>O<unk><unk><unk>OCC<unk>N<unk><unk><unk>C<unk><unk>C<unk>C<unk>C<unk>O<unk>CCCCCCCCCCCCCCCCCCCCC<unk>CCCCCCCCCCCCCCCCCCCCCCCCCCCCCCCCCCCCCCCCC\n",
      "\n",
      "True SMILES: O<unk>C<unk>NC<unk>COP<unk><unk>O<unk><unk><unk>O<unk><unk><unk>OCC<unk>N<unk><unk><unk>C<unk><unk>C<unk>C<unk>C<unk>O<unk>C<unk>CCCC<unk>CCCC<unk>CCCCCCCCCCC<unk>CCCCCCCCCCCCCCCC<unk>CCC<unk>CCCCCCCCCCCC\n",
      "Pred SMILES: O<unk>C<unk>NC<unk>COP<unk><unk>O<unk><unk><unk>O<unk><unk><unk>OCC<unk>N<unk><unk><unk>C<unk><unk>C<unk>C<unk>C<unk>O<unk>C<unk>CCCC<unk>CCCC<unk>CCCCCCCCCCC<unk>CCCCCCCCCCCCCCCC<unk>CCC<unk>CCCCCCCCCCCCCCCC\n",
      "\n",
      "True SMILES: O<unk>C<unk>NC<unk>COP<unk><unk>O<unk><unk><unk>O<unk><unk><unk>OCC<unk>N<unk><unk><unk>C<unk><unk>C<unk>C<unk>C<unk>O<unk>C<unk>CCCC<unk>CCCC<unk>CCCCCCCCCCC<unk>CCCCCCCCCCCCCCCC<unk>CCCCCCCCCCCCCCC\n",
      "Pred SMILES: O<unk>C<unk>NC<unk>COP<unk><unk>O<unk><unk><unk>O<unk><unk><unk>OCC<unk>N<unk><unk><unk>C<unk><unk>C<unk>C<unk>C<unk>O<unk>C<unk>CCCC<unk>CCCC<unk>CCCCCCCCCCC<unk>CCCCCCCCCCCCCCCC<unk>CCCCCCCCCCCCCCCCCCCC\n",
      "\n",
      "True SMILES: O<unk>C<unk>NC<unk>COP<unk><unk>O<unk><unk><unk>O<unk><unk><unk>OCC<unk>N<unk><unk><unk>C<unk><unk>C<unk>C<unk>C<unk>O<unk>C<unk>CCCC<unk>CCCC<unk>CCCCCCCCCCC<unk>CCCCCCCCCCCCCCCCCCCCCCCCCCCCCCC\n",
      "Pred SMILES: O<unk>C<unk>NC<unk>COP<unk><unk>O<unk><unk><unk>O<unk><unk><unk>OCC<unk>N<unk><unk><unk>C<unk><unk>C<unk>C<unk>C<unk>O<unk>C<unk>CCCC<unk>CCCC<unk>CCCCCCCCCCC<unk>CCCCCCCCCCCCCCCCCCCCCCCCCCCCCCCCCCCC\n",
      "\n",
      "True SMILES: O<unk>C<unk>NC<unk>COP<unk><unk>O<unk><unk><unk>O<unk><unk><unk>OCC<unk>N<unk><unk><unk>C<unk><unk>C<unk>C<unk>C<unk>O<unk>C<unk>CCCC<unk>CCCC<unk>CCCCCCCCCCC<unk>CCCCCCCCCCCCCCC<unk>CCCCCCCCCCCCCCC\n",
      "Pred SMILES: O<unk>C<unk>NC<unk>COP<unk><unk>O<unk><unk><unk>O<unk><unk><unk>OCC<unk>N<unk><unk><unk>C<unk><unk>C<unk>C<unk>C<unk>O<unk>C<unk>CCCC<unk>CCCC<unk>CCCCCCCCCCC<unk>CCCCCCCCCCCCCCC<unk>CCCCCCCCCCCCCCCCCCCC\n",
      "\n",
      "True SMILES: O<unk>C<unk>NC<unk>COP<unk><unk>O<unk><unk><unk>O<unk><unk><unk>OCC<unk>N<unk><unk><unk>C<unk><unk>C<unk>C<unk>C<unk>O<unk>C<unk>CCCC<unk>CCCC<unk>CCCCCCCCCCC<unk>CCCCCCCCCCCCCCCCCCCCCCCCCCCCCC\n",
      "Pred SMILES: O<unk>C<unk>NC<unk>COP<unk><unk>O<unk><unk><unk>O<unk><unk><unk>OCC<unk>N<unk><unk><unk>C<unk><unk>C<unk>C<unk>C<unk>O<unk>C<unk>CCCC<unk>CCCC<unk>CCCCCCCCCCC<unk>CCCCCCCCCCCCCCCCCCCCCCCCCCCCCCCCCCC\n",
      "\n",
      "True SMILES: O<unk>C<unk>NC<unk>COP<unk><unk>O<unk><unk><unk>O<unk><unk><unk>OCC<unk>N<unk><unk><unk>C<unk><unk>C<unk>C<unk>C<unk>O<unk>C<unk>CCCC<unk>CCCC<unk>CCCCCCCCCCC<unk>CCCCCCCCCCCCCCCCCCC\n",
      "Pred SMILES: O<unk>C<unk>NC<unk>COP<unk><unk>O<unk><unk><unk>O<unk><unk><unk>OCC<unk>N<unk><unk><unk>C<unk><unk>C<unk>C<unk>C<unk>O<unk>C<unk>CCCC<unk>CCCC<unk>CCCCCCCCCCC<unk>CCCCCCCCCCCCCCCCCCCCCCCCCCCCCCCCCCCCCCCCC<unk>\n",
      "\n",
      "True SMILES: O<unk>C<unk>NC<unk>COP<unk><unk>O<unk><unk><unk>O<unk><unk><unk>OCC<unk>N<unk><unk><unk>C<unk><unk>C<unk>C<unk>C<unk>O<unk>C<unk>CCCC<unk>CCCC<unk>CCCCCCCCCCC<unk>CCCCCCCC<unk>CCCCCCCCCC\n",
      "Pred SMILES: O<unk>C<unk>NC<unk>COP<unk><unk>O<unk><unk><unk>O<unk><unk><unk>OCC<unk>N<unk><unk><unk>C<unk><unk>C<unk>C<unk>C<unk>O<unk>C<unk>CCCC<unk>CCCC<unk>CCCCCCCCCCC<unk>CCCCCCCC<unk>CCCCCCCCCCCCCCCCCCCCCCCCCCCCCCCC<unk>\n",
      "\n",
      "True SMILES: O<unk>C<unk>NC<unk>COP<unk><unk>O<unk><unk><unk>O<unk><unk><unk>OCC<unk>N<unk><unk><unk>C<unk><unk>C<unk>C<unk>C<unk>O<unk>C<unk>CCCC<unk>CCCC<unk>CCCCCCCCCCC<unk>CCCCCCCCCCCCCCCCCC\n",
      "Pred SMILES: O<unk>C<unk>NC<unk>COP<unk><unk>O<unk><unk><unk>O<unk><unk><unk>OCC<unk>N<unk><unk><unk>C<unk><unk>C<unk>C<unk>C<unk>O<unk>C<unk>CCCC<unk>CCCC<unk>CCCCCCCCCCC<unk>CCCCCCCCCCCCCCCCCCCCCCCCCCCCCCCCCCCCCCCCC<unk>\n",
      "\n",
      "True SMILES: O<unk>C<unk>NC<unk>COP<unk><unk>O<unk><unk><unk>O<unk><unk><unk>OCC<unk>N<unk><unk><unk>C<unk><unk>C<unk>C<unk>C<unk>O<unk>C<unk>CCCC<unk>CCCC<unk>CCCCCCCCCCC<unk>CCCCCCCCC<unk>CC<unk>CCCCCC\n",
      "Pred SMILES: O<unk>C<unk>NC<unk>COP<unk><unk>O<unk><unk><unk>O<unk><unk><unk>OCC<unk>N<unk><unk><unk>C<unk><unk>C<unk>C<unk>C<unk>O<unk>C<unk>CCCC<unk>CCCC<unk>CCCCCCCCCCC<unk>CCCCCCCCC<unk>CC<unk>CCCCCCCCCCCCCCCCCCCCCCCCCCCC<unk>\n",
      "\n",
      "True SMILES: O<unk>C<unk>NC<unk>COP<unk><unk>O<unk><unk><unk>O<unk><unk><unk>OCC<unk>N<unk><unk><unk>C<unk><unk>C<unk>C<unk>C<unk>O<unk>C<unk>CCCC<unk>CCCC<unk>CCCCCCCCCCC<unk>CCCCCCCCCC<unk>CCCCCCC\n",
      "Pred SMILES: O<unk>C<unk>NC<unk>COP<unk><unk>O<unk><unk><unk>O<unk><unk><unk>OCC<unk>N<unk><unk><unk>C<unk><unk>C<unk>C<unk>C<unk>O<unk>C<unk>CCCC<unk>CCCC<unk>CCCCCCCCCCC<unk>CCCCCCCCCC<unk>CCCCCCCCCCCCCCCCCCCCCCCCCCCCCC<unk>\n",
      "\n",
      "True SMILES: O<unk>C<unk>NC<unk>COP<unk><unk>O<unk><unk><unk>O<unk><unk><unk>OCC<unk>N<unk><unk><unk>C<unk><unk>C<unk>C<unk>C<unk>O<unk>C<unk>CCCC<unk>CCCCCCCCCCCCCCC<unk>CCCCCCCCCCCCCCCCCC<unk>CCC<unk>CCCCCCCCCCCC\n",
      "Pred SMILES: O<unk>C<unk>NC<unk>COP<unk><unk>O<unk><unk><unk>O<unk><unk><unk>OCC<unk>N<unk><unk><unk>C<unk><unk>C<unk>C<unk>C<unk>O<unk>C<unk>CCCC<unk>CCCCCCCCCCCCCCC<unk>CCCCCCCCCCCCCCCCCC<unk>CCC<unk>CCCCCCCCCCCCC\n",
      "\n",
      "True SMILES: O<unk>C<unk>NC<unk>COP<unk><unk>O<unk><unk><unk>O<unk><unk><unk>OCC<unk>N<unk><unk><unk>C<unk><unk>C<unk>C<unk>C<unk>O<unk>C<unk>CCCC<unk>CCCCCCCCCCCCCCC<unk>CCCCCCCCCCCCCCCCCC<unk>CCCCCCCCCCCCCCC\n",
      "Pred SMILES: O<unk>C<unk>NC<unk>COP<unk><unk>O<unk><unk><unk>O<unk><unk><unk>OCC<unk>N<unk><unk><unk>C<unk><unk>C<unk>C<unk>C<unk>O<unk>C<unk>CCCC<unk>CCCCCCCCCCCCCCC<unk>CCCCCCCCCCCCCCCCCC<unk>CCCCCCCCCCCCCCC\n",
      "\n",
      "True SMILES: O<unk>C<unk>NC<unk>COP<unk><unk>O<unk><unk><unk>O<unk><unk><unk>OCC<unk>N<unk><unk><unk>C<unk><unk>C<unk>C<unk>C<unk>O<unk>C<unk>CCCC<unk>CCCCCCCCCCCCCCC<unk>CCCCCCCCCCCCCCCCCCCCCCCCCCCCCCCCC\n",
      "Pred SMILES: O<unk>C<unk>NC<unk>COP<unk><unk>O<unk><unk><unk>O<unk><unk><unk>OCC<unk>N<unk><unk><unk>C<unk><unk>C<unk>C<unk>C<unk>O<unk>C<unk>CCCC<unk>CCCCCCCCCCCCCCC<unk>CCCCCCCCCCCCCCCCCCCCCCCCCCCCCCCCCCC\n",
      "\n",
      "True SMILES: O<unk>C<unk>NC<unk>COP<unk><unk>O<unk><unk><unk>O<unk><unk><unk>OCC<unk>N<unk><unk><unk>C<unk><unk>C<unk>C<unk>C<unk>O<unk>C<unk>CCCC<unk>CCCCCCCCCCCCCCC<unk>CCCCCCCCCCCCCCCCC<unk>CCCCCCCCCCCCCCC\n",
      "Pred SMILES: O<unk>C<unk>NC<unk>COP<unk><unk>O<unk><unk><unk>O<unk><unk><unk>OCC<unk>N<unk><unk><unk>C<unk><unk>C<unk>C<unk>C<unk>O<unk>C<unk>CCCC<unk>CCCCCCCCCCCCCCC<unk>CCCCCCCCCCCCCCCCC<unk>CCCCCCCCCCCCCCCCC\n",
      "\n",
      "True SMILES: O<unk>C<unk>NC<unk>COP<unk><unk>O<unk><unk><unk>O<unk><unk><unk>OCC<unk>N<unk><unk><unk>C<unk><unk>C<unk>C<unk>C<unk>O<unk>C<unk>CCCC<unk>CCCCCCCCCCCCCCC<unk>CCCCCCCCCCCCCCCCCCCCCCCCCCCCCCCC\n",
      "Pred SMILES: O<unk>C<unk>NC<unk>COP<unk><unk>O<unk><unk><unk>O<unk><unk><unk>OCC<unk>N<unk><unk><unk>C<unk><unk>C<unk>C<unk>C<unk>O<unk>C<unk>CCCC<unk>CCCCCCCCCCCCCCC<unk>CCCCCCCCCCCCCCCCCCCCCCCCCCCCCCCCCC\n",
      "\n",
      "True SMILES: O<unk>C<unk>NC<unk>COP<unk><unk>O<unk><unk><unk>O<unk><unk><unk>OCC<unk>N<unk><unk><unk>C<unk><unk>C<unk>C<unk>C<unk>O<unk>C<unk>CCCC<unk>CCCCCCCCCCCCCCC<unk>CCCCCCCCCCCCCCCCCCCCC\n",
      "Pred SMILES: O<unk>C<unk>NC<unk>COP<unk><unk>O<unk><unk><unk>O<unk><unk><unk>OCC<unk>N<unk><unk><unk>C<unk><unk>C<unk>C<unk>C<unk>O<unk>C<unk>CCCC<unk>CCCCCCCCCCCCCCC<unk>CCCCCCCCCCCCCCCCCCCCCCCCCCCCCCCCCCCCCCCC\n",
      "\n",
      "True SMILES: O<unk>C<unk>NC<unk>COP<unk><unk>O<unk><unk><unk>O<unk><unk><unk>OCC<unk>N<unk><unk><unk>C<unk><unk>C<unk>C<unk>C<unk>O<unk>C<unk>CCCC<unk>CCCCCCCCCCCCCCC<unk>CCCCCCCC<unk>CCCCCCCCCCCC\n",
      "Pred SMILES: O<unk>C<unk>NC<unk>COP<unk><unk>O<unk><unk><unk>O<unk><unk><unk>OCC<unk>N<unk><unk><unk>C<unk><unk>C<unk>C<unk>C<unk>O<unk>C<unk>CCCC<unk>CCCCCCCCCCCCCCC<unk>CCCCCCCC<unk>CCCCCCCCCCCCCCCCCCCCCCCCCCCCC\n",
      "\n",
      "True SMILES: O<unk>C<unk>NC<unk>COP<unk><unk>O<unk><unk><unk>O<unk><unk><unk>OCC<unk>N<unk><unk><unk>C<unk><unk>C<unk>C<unk>C<unk>O<unk>C<unk>CCCC<unk>CCCCCCCCCCCCCCC<unk>CCCCCCCCCCCCCCCCCCCC\n",
      "Pred SMILES: O<unk>C<unk>NC<unk>COP<unk><unk>O<unk><unk><unk>O<unk><unk><unk>OCC<unk>N<unk><unk><unk>C<unk><unk>C<unk>C<unk>C<unk>O<unk>C<unk>CCCC<unk>CCCCCCCCCCCCCCC<unk>CCCCCCCCCCCCCCCCCCCCCCCCCCCCCCCCCCCCCCCCC\n",
      "\n",
      "True SMILES: O<unk>C<unk>NC<unk>COP<unk><unk>O<unk><unk><unk>O<unk><unk><unk>OCC<unk>N<unk><unk><unk>C<unk><unk>C<unk>C<unk>C<unk>O<unk>C<unk>CCCC<unk>CCCCCCCCCCCCCCC<unk>CCCCCCCCCC<unk>CCC<unk>CCCCCC\n",
      "Pred SMILES: O<unk>C<unk>NC<unk>COP<unk><unk>O<unk><unk><unk>O<unk><unk><unk>OCC<unk>N<unk><unk><unk>C<unk><unk>C<unk>C<unk>C<unk>O<unk>C<unk>CCCC<unk>CCCCCCCCCCCCCCC<unk>CCCCCCCCCC<unk>CCC<unk>CCCCCCCCCCCCCCCCCCCCCCCC\n",
      "\n",
      "True SMILES: O<unk>C<unk>NC<unk>COP<unk><unk>O<unk><unk><unk>O<unk><unk><unk>OCC<unk>N<unk><unk><unk>C<unk><unk>C<unk>C<unk>C<unk>O<unk>C<unk>CCCC<unk>CCCCCCCCCCCCCCC<unk>CCCCCCCCCC<unk>CCCCCCCCC\n",
      "Pred SMILES: O<unk>C<unk>NC<unk>COP<unk><unk>O<unk><unk><unk>O<unk><unk><unk>OCC<unk>N<unk><unk><unk>C<unk><unk>C<unk>C<unk>C<unk>O<unk>C<unk>CCCC<unk>CCCCCCCCCCCCCCC<unk>CCCCCCCCCC<unk>CCCCCCCCCCCCCCCCCCCCCCCCCCCCCC\n",
      "\n",
      "True SMILES: O<unk>C<unk>NC<unk>COP<unk><unk>O<unk><unk><unk>O<unk><unk><unk>OCC<unk>N<unk><unk><unk>C<unk><unk>C<unk>C<unk>C<unk>O<unk>C<unk>CCCCCCCCCCCCCCCCCCC<unk>CCCCCCCCCCCCCCCCCCCC<unk>CCC<unk>CCCCCCCCCCCC\n",
      "Pred SMILES: O<unk>C<unk>NC<unk>COP<unk><unk>O<unk><unk><unk>O<unk><unk><unk>OCC<unk>N<unk><unk><unk>C<unk><unk>C<unk>C<unk>C<unk>O<unk>C<unk>CCCCCCCCCCCCCCCCCCC<unk>CCCCCCCCCCCCCCCCCCCC<unk>CCC<unk>CCCCCCCCCCCCC\n",
      "\n",
      "True SMILES: O<unk>C<unk>NC<unk>COP<unk><unk>O<unk><unk><unk>O<unk><unk><unk>OCC<unk>N<unk><unk><unk>C<unk><unk>C<unk>C<unk>C<unk>O<unk>C<unk>CCCCCCCCCCCCCCCCCCC<unk>CCCCCCCCCCCCCCCCCCCC<unk>CCCCCCCCCCCCCCC\n",
      "Pred SMILES: O<unk>C<unk>NC<unk>COP<unk><unk>O<unk><unk><unk>O<unk><unk><unk>OCC<unk>N<unk><unk><unk>C<unk><unk>C<unk>C<unk>C<unk>O<unk>C<unk>CCCCCCCCCCCCCCCCCCC<unk>CCCCCCCCCCCCCCCCCCCC<unk>CCCCCCCCCCCCCCC\n",
      "\n",
      "True SMILES: O<unk>C<unk>NC<unk>COP<unk><unk>O<unk><unk><unk>O<unk><unk><unk>OCC<unk>N<unk><unk><unk>C<unk><unk>C<unk>C<unk>C<unk>O<unk>C<unk>CCCCCCCCCCCCCCCCCCC<unk>CCCCCCCCCCCCCCCCCCCCCCCCCCCCCCCCCCC\n",
      "Pred SMILES: O<unk>C<unk>NC<unk>COP<unk><unk>O<unk><unk><unk>O<unk><unk><unk>OCC<unk>N<unk><unk><unk>C<unk><unk>C<unk>C<unk>C<unk>O<unk>C<unk>CCCCCCCCCCCCCCCCCCC<unk>CCCCCCCCCCCCCCCCCCCCCCCCCCCCCCCCCCCC\n",
      "\n",
      "True SMILES: O<unk>C<unk>NC<unk>COP<unk><unk>O<unk><unk><unk>O<unk><unk><unk>OCC<unk>N<unk><unk><unk>C<unk><unk>C<unk>C<unk>C<unk>O<unk>C<unk>CCCCCCCCCCCCCCCCCCC<unk>CCCCCCCCCCCCCCCCCCC<unk>CCCCCCCCCCCCCCC\n",
      "Pred SMILES: O<unk>C<unk>NC<unk>COP<unk><unk>O<unk><unk><unk>O<unk><unk><unk>OCC<unk>N<unk><unk><unk>C<unk><unk>C<unk>C<unk>C<unk>O<unk>C<unk>CCCCCCCCCCCCCCCCCCC<unk>CCCCCCCCCCCCCCCCCCC<unk>CCCCCCCCCCCCCCCC\n",
      "\n",
      "True SMILES: O<unk>C<unk>NC<unk>COP<unk><unk>O<unk><unk><unk>O<unk><unk><unk>OCC<unk>N<unk><unk><unk>C<unk><unk>C<unk>C<unk>C<unk>O<unk>C<unk>CCCCCCCCCCCCCCCCCCC<unk>CCCCCCCCCCCCCCCCCCCCCCCCCCCCCCCCCC\n",
      "Pred SMILES: O<unk>C<unk>NC<unk>COP<unk><unk>O<unk><unk><unk>O<unk><unk><unk>OCC<unk>N<unk><unk><unk>C<unk><unk>C<unk>C<unk>C<unk>O<unk>C<unk>CCCCCCCCCCCCCCCCCCC<unk>CCCCCCCCCCCCCCCCCCCCCCCCCCCCCCCCCCCCC\n",
      "\n",
      "True SMILES: O<unk>C<unk>NC<unk>COP<unk><unk>O<unk><unk><unk>O<unk><unk><unk>OCC<unk>N<unk><unk><unk>C<unk><unk>C<unk>C<unk>C<unk>O<unk>C<unk>CCCCCCCCCCCCCCCCCCC<unk>CCCCCCCCCCCCCCCCCCCCCCC\n",
      "Pred SMILES: O<unk>C<unk>NC<unk>COP<unk><unk>O<unk><unk><unk>O<unk><unk><unk>OCC<unk>N<unk><unk><unk>C<unk><unk>C<unk>C<unk>C<unk>O<unk>C<unk>CCCCCCCCCCCCCCCCCCC<unk>CCCCCCCCCCCCCCCCCCCCCCCCCCCCCCCCCCCCCC\n",
      "\n",
      "True SMILES: O<unk>C<unk>NC<unk>COP<unk><unk>O<unk><unk><unk>O<unk><unk><unk>OCC<unk>N<unk><unk><unk>C<unk><unk>C<unk>C<unk>C<unk>O<unk>C<unk>CCCCCCCCCCCCCCCCCCC<unk>CCCCCCCCCC<unk>CCCCCCCCCCCC\n",
      "Pred SMILES: O<unk>C<unk>NC<unk>COP<unk><unk>O<unk><unk><unk>O<unk><unk><unk>OCC<unk>N<unk><unk><unk>C<unk><unk>C<unk>C<unk>C<unk>O<unk>C<unk>CCCCCCCCCCCCCCCCCCC<unk>CCCCCCCCCC<unk>CCCCCCCCCCCCCCCCCCCCCCCCCCC\n",
      "\n",
      "True SMILES: O<unk>C<unk>NC<unk>COP<unk><unk>O<unk><unk><unk>O<unk><unk><unk>OCC<unk>N<unk><unk><unk>C<unk><unk>C<unk>C<unk>C<unk>O<unk>C<unk>CCCCCCCCCCCCCCCCCCC<unk>CCCCCCCCCCCCCCCCCCCCCC\n",
      "Pred SMILES: O<unk>C<unk>NC<unk>COP<unk><unk>O<unk><unk><unk>O<unk><unk><unk>OCC<unk>N<unk><unk><unk>C<unk><unk>C<unk>C<unk>C<unk>O<unk>C<unk>CCCCCCCCCCCCCCCCCCC<unk>CCCCCCCCCCCCCCCCCCCCCCCCCCCCCCCCCCCCCCCC\n",
      "\n",
      "True SMILES: O<unk>C<unk>NC<unk>COP<unk><unk>O<unk><unk><unk>O<unk><unk><unk>OCC<unk>N<unk><unk><unk>C<unk><unk>C<unk>C<unk>C<unk>O<unk>C<unk>CCCCCCCCCCCCCCCCCCC<unk>CCCCCCCCCCCCC<unk>CC<unk>CCCCCC\n",
      "Pred SMILES: O<unk>C<unk>NC<unk>COP<unk><unk>O<unk><unk><unk>O<unk><unk><unk>OCC<unk>N<unk><unk><unk>C<unk><unk>C<unk>C<unk>C<unk>O<unk>C<unk>CCCCCCCCCCCCCCCCCCC<unk>CCCCCCCCCCCCC<unk>CC<unk>CCCCCCCCCCCCCCCCCCCCC\n",
      "\n",
      "True SMILES: O<unk>C<unk>NC<unk>COP<unk><unk>O<unk><unk><unk>O<unk><unk><unk>OCC<unk>N<unk><unk><unk>C<unk><unk>C<unk>C<unk>C<unk>O<unk>C<unk>CCCCCCCCCCCCCCCCCCC<unk>CCCCCCCCCC<unk>CCCCCCCCCCC\n",
      "Pred SMILES: O<unk>C<unk>NC<unk>COP<unk><unk>O<unk><unk><unk>O<unk><unk><unk>OCC<unk>N<unk><unk><unk>C<unk><unk>C<unk>C<unk>C<unk>O<unk>C<unk>CCCCCCCCCCCCCCCCCCC<unk>CCCCCCCCCC<unk>CCCCCCCCCCCCCCCCCCCCCCCCCCCCC\n",
      "\n",
      "True SMILES: O<unk>C<unk>NC<unk>COP<unk><unk>O<unk><unk><unk>O<unk><unk><unk>OCC<unk>N<unk><unk><unk>C<unk><unk>C<unk>C<unk>C<unk>O<unk>CCCCCCCCCCCCCCCCCCCC<unk>CCCCCCCCCCCCCCCCCCCC<unk>CCCCCCCCCCCCCCCCCCC\n",
      "Pred SMILES: O<unk>C<unk>NC<unk>COP<unk><unk>O<unk><unk><unk>O<unk><unk><unk>OCC<unk>N<unk><unk><unk>C<unk><unk>C<unk>C<unk>C<unk>O<unk>CCCCCCCCCCCCCCCCCCCC<unk>CCCCCCCCCCCCCCCCCCCC<unk>CCCCCCCCCCCCCCCCCCC\n",
      "\n",
      "True SMILES: O<unk>C<unk>NC<unk>COP<unk><unk>O<unk><unk><unk>O<unk><unk><unk>OCC<unk>N<unk><unk><unk>C<unk><unk>C<unk>C<unk>C<unk>O<unk>CCCCCCCCCCCCCCCCCCCC<unk>CCCCCCCCCCCCCCCCCCCCCCCCCCCCCCCCCCCCCCC\n",
      "Pred SMILES: O<unk>C<unk>NC<unk>COP<unk><unk>O<unk><unk><unk>O<unk><unk><unk>OCC<unk>N<unk><unk><unk>C<unk><unk>C<unk>C<unk>C<unk>O<unk>CCCCCCCCCCCCCCCCCCCC<unk>CCCCCCCCCCCCCCCCCCCCCCCCCCCCCCCCCCCCCCCC\n",
      "\n",
      "True SMILES: O<unk>C<unk>NC<unk>COP<unk><unk>O<unk><unk><unk>O<unk><unk><unk>OCC<unk>N<unk><unk><unk>C<unk><unk>C<unk>C<unk>C<unk>O<unk>CCCCCCCCCCCCCCCCCCCC<unk>CCCCCCCCCCCCCCCCCCCC<unk>CCC<unk>CCCCCCCCCCCCCC\n",
      "Pred SMILES: O<unk>C<unk>NC<unk>COP<unk><unk>O<unk><unk><unk>O<unk><unk><unk>OCC<unk>N<unk><unk><unk>C<unk><unk>C<unk>C<unk>C<unk>O<unk>CCCCCCCCCCCCCCCCCCCC<unk>CCCCCCCCCCCCCCCCCCCC<unk>CCC<unk>CCCCCCCCCCCCCCC\n",
      "\n",
      "True SMILES: O<unk>C<unk>NC<unk>COP<unk><unk>O<unk><unk><unk>O<unk><unk><unk>OCC<unk>N<unk><unk><unk>C<unk><unk>C<unk>C<unk>C<unk>O<unk>CCCCCCCCCCCCCCCCCCCC<unk>CCCCCCCCCCCCCCCCCCCC<unk>CCCCCCCCCCCCCCCCC\n",
      "Pred SMILES: O<unk>C<unk>NC<unk>COP<unk><unk>O<unk><unk><unk>O<unk><unk><unk>OCC<unk>N<unk><unk><unk>C<unk><unk>C<unk>C<unk>C<unk>O<unk>CCCCCCCCCCCCCCCCCCCC<unk>CCCCCCCCCCCCCCCCCCCC<unk>CCCCCCCCCCCCCCCCCC\n",
      "\n",
      "True SMILES: O<unk>C<unk>NC<unk>COP<unk><unk>O<unk><unk><unk>O<unk><unk><unk>OCC<unk>N<unk><unk><unk>C<unk><unk>C<unk>C<unk>C<unk>O<unk>CCCCCCCCCCCCCCCCCCCC<unk>CCCCCCCCCCCCCCCCCCCCCCCCCCCCCCCCCCCCC\n",
      "Pred SMILES: O<unk>C<unk>NC<unk>COP<unk><unk>O<unk><unk><unk>O<unk><unk><unk>OCC<unk>N<unk><unk><unk>C<unk><unk>C<unk>C<unk>C<unk>O<unk>CCCCCCCCCCCCCCCCCCCC<unk>CCCCCCCCCCCCCCCCCCCCCCCCCCCCCCCCCCCCCCC\n",
      "\n",
      "True SMILES: O<unk>C<unk>NC<unk>COP<unk><unk>O<unk><unk><unk>O<unk><unk><unk>OCC<unk>N<unk><unk><unk>C<unk><unk>C<unk>C<unk>C<unk>O<unk>CCCCCCCCCCCCCCCCCCCC<unk>CCCCCCCCCCCCCCCCCCCCCCCCC\n",
      "Pred SMILES: O<unk>C<unk>NC<unk>COP<unk><unk>O<unk><unk><unk>O<unk><unk><unk>OCC<unk>N<unk><unk><unk>C<unk><unk>C<unk>C<unk>C<unk>O<unk>CCCCCCCCCCCCCCCCCCCC<unk>CCCCCCCCCCCCCCCCCCCCCCCCCC\n",
      "\n",
      "True SMILES: O<unk>C<unk>NC<unk>COP<unk><unk>O<unk><unk><unk>O<unk><unk><unk>OCC<unk>N<unk><unk><unk>C<unk><unk>C<unk>C<unk>C<unk>O<unk>CCCCCCCCCCCCCCCCCCCC<unk>CCCCCCCCCC<unk>CCCCCCCCCCCCCC\n",
      "Pred SMILES: O<unk>C<unk>NC<unk>COP<unk><unk>O<unk><unk><unk>O<unk><unk><unk>OCC<unk>N<unk><unk><unk>C<unk><unk>C<unk>C<unk>C<unk>O<unk>CCCCCCCCCCCCCCCCCCCC<unk>CCCCCCCCCC<unk>CCCCCCCCCCCCCCC\n",
      "\n",
      "True SMILES: O<unk>C<unk>NC<unk>COP<unk><unk>O<unk><unk><unk>O<unk><unk><unk>OCC<unk>N<unk><unk><unk>C<unk><unk>C<unk>C<unk>C<unk>O<unk>CCCCCCCCCCCCCCCCCCCC<unk>CCCCCCCCCCCCCCCCCCCCCCCC\n",
      "Pred SMILES: O<unk>C<unk>NC<unk>COP<unk><unk>O<unk><unk><unk>O<unk><unk><unk>OCC<unk>N<unk><unk><unk>C<unk><unk>C<unk>C<unk>C<unk>O<unk>CCCCCCCCCCCCCCCCCCCC<unk>CCCCCCCCCCCCCCCCCCCCCCCCC\n",
      "\n",
      "True SMILES: O<unk>C<unk>NC<unk>COP<unk><unk>O<unk><unk><unk>O<unk><unk><unk>OCC<unk>N<unk><unk><unk>C<unk><unk>C<unk>C<unk>C<unk>O<unk>CCCCCCCCCCCCCCCCCCCC<unk>CCCCCCCCCCCCCCCCC<unk>CCC<unk>CCC\n",
      "Pred SMILES: O<unk>C<unk>NC<unk>COP<unk><unk>O<unk><unk><unk>O<unk><unk><unk>OCC<unk>N<unk><unk><unk>C<unk><unk>C<unk>C<unk>C<unk>O<unk>CCCCCCCCCCCCCCCCCCCC<unk>CCCCCCCCCCCCCCCCC<unk>CCC<unk>CCCC\n",
      "\n",
      "True SMILES: O<unk>C<unk>NC<unk>COP<unk><unk>O<unk><unk><unk>O<unk><unk><unk>OCC<unk>N<unk><unk><unk>C<unk><unk>C<unk>C<unk>C<unk>O<unk>CCCCCCCCCCCCCCCCCCCC<unk>CCCCCCCCCC<unk>CCCCCCCCCCCCC\n",
      "Pred SMILES: O<unk>C<unk>NC<unk>COP<unk><unk>O<unk><unk><unk>O<unk><unk><unk>OCC<unk>N<unk><unk><unk>C<unk><unk>C<unk>C<unk>C<unk>O<unk>CCCCCCCCCCCCCCCCCCCC<unk>CCCCCCCCCC<unk>CCCCCCCCCCCCCC\n",
      "\n",
      "True SMILES: O<unk>C<unk>NC<unk>COP<unk><unk>O<unk><unk><unk>O<unk><unk><unk>OCC<unk>N<unk><unk><unk>C<unk><unk>C<unk>C<unk>C<unk>O<unk>CCCCCCCCCCCCCCCCCCCC<unk>CCCCCCCCCCC\n",
      "Pred SMILES: O<unk>C<unk>NC<unk>COP<unk><unk>O<unk><unk><unk>O<unk><unk><unk>OCC<unk>N<unk><unk><unk>C<unk><unk>C<unk>C<unk>C<unk>O<unk>CCCCCCCCCCCCCCCCCCCC<unk>CCCCCCCCCCCCCCCCCCCCCCCCCCCCCCCCCCCCCCCCCCCCO\n",
      "\n",
      "True SMILES: O<unk>C<unk>NC<unk>COP<unk><unk>O<unk><unk><unk>O<unk><unk><unk>OCC<unk>N<unk><unk><unk>C<unk><unk>C<unk>C<unk>C<unk>O<unk>C<unk>CCCC<unk>CCCC<unk>CCCCCCCCCC<unk>CCCCCCCCCCCCCCCCCCCC<unk>CCC<unk>CCCCCCCCCCCCCCCCCC\n",
      "Pred SMILES: O<unk>C<unk>NC<unk>COP<unk><unk>O<unk><unk><unk>O<unk><unk><unk>OCC<unk>N<unk><unk><unk>C<unk><unk>C<unk>C<unk>C<unk>O<unk>C<unk>CCCC<unk>CCCC<unk>CCCCCCCCCC<unk>CCCCCCCCCCCCCCCCCCCC<unk>CCC<unk>CCCCCCCCCCCCCCCCCCC\n",
      "\n",
      "True SMILES: O<unk>C<unk>NC<unk>COP<unk><unk>O<unk><unk><unk>O<unk><unk><unk>OCC<unk>N<unk><unk><unk>C<unk><unk>C<unk>C<unk>C<unk>O<unk>C<unk>CCCC<unk>CCCC<unk>CCCCCCCCCC<unk>CCCCCCCCCCCCCCCCCCCC<unk>CCCCCCCCCCCCCCCCCCCCC\n",
      "Pred SMILES: O<unk>C<unk>NC<unk>COP<unk><unk>O<unk><unk><unk>O<unk><unk><unk>OCC<unk>N<unk><unk><unk>C<unk><unk>C<unk>C<unk>C<unk>O<unk>C<unk>CCCC<unk>CCCC<unk>CCCCCCCCCC<unk>CCCCCCCCCCCCCCCCCCCC<unk>CCCCCCCCCCCCCCCCCCCCCO\n",
      "\n",
      "True SMILES: CCCCCCCCCCCCCCCCCCCCCCCCCCCCCCCCCCCCCCCCCC<unk><unk>O<unk>NC<unk>COP<unk><unk>O<unk><unk><unk><unk><unk>O<unk>OCC<unk>N<unk><unk><unk>C<unk><unk>C<unk>C<unk>C<unk>O<unk><unk>C<unk>C<unk>CC<unk>C<unk>C<unk>CC<unk>C<unk>C<unk>CCCCCCCCC\n",
      "Pred SMILES: CCCCCCCCCCCCCCCCCCCCCCCCCCCCCCCCCCCCCCCCCC<unk><unk>O<unk>NC<unk>COP<unk><unk>O<unk><unk><unk><unk><unk>O<unk>OCC<unk>N<unk><unk><unk>C<unk><unk>C<unk>C<unk>C<unk>O<unk><unk>C<unk>C<unk>CC<unk>C<unk>C<unk>CC<unk>C<unk>C<unk>CCCCCCCCC\n",
      "\n",
      "True SMILES: O<unk>C<unk>NC<unk>COP<unk><unk>O<unk><unk><unk>O<unk><unk><unk>OCC<unk>N<unk><unk><unk>C<unk><unk>C<unk>C<unk>C<unk>O<unk>C<unk>CCCC<unk>CCCC<unk>CCCCCCCCCC<unk>CCCCCCCCCCCCCCCCCCCC<unk>CCC<unk>CCCCCCCCCCCCCCCC\n",
      "Pred SMILES: O<unk>C<unk>NC<unk>COP<unk><unk>O<unk><unk><unk>O<unk><unk><unk>OCC<unk>N<unk><unk><unk>C<unk><unk>C<unk>C<unk>C<unk>O<unk>C<unk>CCCC<unk>CCCC<unk>CCCCCCCCCC<unk>CCCCCCCCCCCCCCCCCCCC<unk>CCC<unk>CCCCCCCCCCCCCCCCCO\n",
      "\n",
      "True SMILES: O<unk>C<unk>NC<unk>COP<unk><unk>O<unk><unk><unk>O<unk><unk><unk>OCC<unk>N<unk><unk><unk>C<unk><unk>C<unk>C<unk>C<unk>O<unk>C<unk>CCCC<unk>CCCC<unk>CCCCCCCCCC<unk>CCCCCCCCCCCCCCCCCCCCCCCCCCC\n",
      "Pred SMILES: O<unk>C<unk>NC<unk>COP<unk><unk>O<unk><unk><unk>O<unk><unk><unk>OCC<unk>N<unk><unk><unk>C<unk><unk>C<unk>C<unk>C<unk>O<unk>C<unk>CCCC<unk>CCCC<unk>CCCCCCCCCC<unk>CCCCCCCCCCCCCCCCCCCCCCCCCCC\n",
      "\n",
      "True SMILES: O<unk>C<unk>NC<unk>COP<unk><unk>O<unk><unk><unk>O<unk><unk><unk>OCC<unk>N<unk><unk><unk>C<unk><unk>C<unk>C<unk>C<unk>O<unk>C<unk>CCCC<unk>CCCC<unk>CCCCCCCCCC<unk>CCCCCCCCCCC<unk>CCCCCCCCCCCCCCC\n",
      "Pred SMILES: O<unk>C<unk>NC<unk>COP<unk><unk>O<unk><unk><unk>O<unk><unk><unk>OCC<unk>N<unk><unk><unk>C<unk><unk>C<unk>C<unk>C<unk>O<unk>C<unk>CCCC<unk>CCCC<unk>CCCCCCCCCC<unk>CCCCCCCCCCC<unk>CCCCCCCCCCCCCCC\n",
      "\n",
      "True SMILES: O<unk>C<unk>NC<unk>COP<unk><unk>O<unk><unk><unk>O<unk><unk><unk>OCC<unk>N<unk><unk><unk>C<unk><unk>C<unk>C<unk>C<unk>O<unk>C<unk>CCCC<unk>CCCC<unk>CCCCCCCCCC<unk>CCCCCCCCCCCCCCCCCCCCCCCCCC\n",
      "Pred SMILES: O<unk>C<unk>NC<unk>COP<unk><unk>O<unk><unk><unk>O<unk><unk><unk>OCC<unk>N<unk><unk><unk>C<unk><unk>C<unk>C<unk>C<unk>O<unk>C<unk>CCCC<unk>CCCC<unk>CCCCCCCCCC<unk>CCCCCCCCCCCCCCCCCCCCCCCCCCCC\n",
      "\n",
      "True SMILES: O<unk>C<unk>NC<unk>COP<unk><unk>O<unk><unk><unk>O<unk><unk><unk>OCC<unk>N<unk><unk><unk>C<unk><unk>C<unk>C<unk>C<unk>O<unk>C<unk>CCCC<unk>CCCC<unk>CCCCCCCCCC<unk>CCCCCCCCCC<unk>CCC<unk>CCCCCCCCCCCC\n",
      "Pred SMILES: O<unk>C<unk>NC<unk>COP<unk><unk>O<unk><unk><unk>O<unk><unk><unk>OCC<unk>N<unk><unk><unk>C<unk><unk>C<unk>C<unk>C<unk>O<unk>C<unk>CCCC<unk>CCCC<unk>CCCCCCCCCC<unk>CCCCCCCCCC<unk>CCC<unk>CCCCCCCCCCCC\n",
      "\n",
      "True SMILES: O<unk>C<unk>NC<unk>COP<unk><unk>O<unk><unk><unk>O<unk><unk><unk>OCC<unk>N<unk><unk><unk>C<unk><unk>C<unk>C<unk>C<unk>O<unk>C<unk>CCCC<unk>CCCC<unk>CCCCCCCCCC<unk>CCCCCCCCCC<unk>CCCCCCCCCCCCCCC\n",
      "Pred SMILES: O<unk>C<unk>NC<unk>COP<unk><unk>O<unk><unk><unk>O<unk><unk><unk>OCC<unk>N<unk><unk><unk>C<unk><unk>C<unk>C<unk>C<unk>O<unk>C<unk>CCCC<unk>CCCC<unk>CCCCCCCCCC<unk>CCCCCCCCCC<unk>CCCCCCCCCCCCCCCCC\n",
      "\n",
      "True SMILES: O<unk>C<unk>NC<unk>COP<unk><unk>O<unk><unk><unk>O<unk><unk><unk>OCC<unk>N<unk><unk><unk>C<unk><unk>C<unk>C<unk>C<unk>O<unk>C<unk>CCCC<unk>CCCC<unk>CCCCCCCCCC<unk>CCCCCCCC<unk>CCCCC\n",
      "Pred SMILES: O<unk>C<unk>NC<unk>COP<unk><unk>O<unk><unk><unk>O<unk><unk><unk>OCC<unk>N<unk><unk><unk>C<unk><unk>C<unk>C<unk>C<unk>O<unk>C<unk>CCCC<unk>CCCC<unk>CCCCCCCCCC<unk>CCCCCCCC<unk>CCCCCCCCCCCCCCCCCCCCCCCCCCC\n",
      "\n",
      "True SMILES: O<unk>C<unk>NC<unk>COP<unk><unk>O<unk><unk><unk>O<unk><unk><unk>OCC<unk>N<unk><unk><unk>C<unk><unk>C<unk>C<unk>C<unk>O<unk>C<unk>CCCC<unk>CCCC<unk>CCCCCCCCCC<unk>CCCCCCCCCCCCC\n",
      "Pred SMILES: O<unk>C<unk>NC<unk>COP<unk><unk>O<unk><unk><unk>O<unk><unk><unk>OCC<unk>N<unk><unk><unk>C<unk><unk>C<unk>C<unk>C<unk>O<unk>C<unk>CCCC<unk>CCCC<unk>CCCCCCCCCC<unk>CCCCCCCCCCCCCCCCCCCCCCCCCCCCCCCCCCCCCCC\n",
      "\n",
      "True SMILES: O<unk>C<unk>NC<unk>COP<unk><unk>O<unk><unk><unk>O<unk><unk><unk>OCC<unk>N<unk><unk><unk>C<unk><unk>C<unk>C<unk>C<unk>O<unk>C<unk>CCCC<unk>CCCC<unk>CCCCCCCCCC<unk>CCCCCCC<unk>CCCCC\n",
      "Pred SMILES: O<unk>C<unk>NC<unk>COP<unk><unk>O<unk><unk><unk>O<unk><unk><unk>OCC<unk>N<unk><unk><unk>C<unk><unk>C<unk>C<unk>C<unk>O<unk>C<unk>CCCC<unk>CCCC<unk>CCCCCCCCCC<unk>CCCCCCC<unk>CCCCCCCCCCCCCCCCCCCCCCCCCCCCC\n",
      "\n",
      "True SMILES: O<unk>C<unk>NC<unk>COP<unk><unk>O<unk><unk><unk>O<unk><unk><unk>OCC<unk>N<unk><unk><unk>C<unk><unk>C<unk>C<unk>C<unk>O<unk>C<unk>CCCC<unk>CCCC<unk>CCCCCCCCCC<unk>CCCCCCCCCCCC\n",
      "Pred SMILES: O<unk>C<unk>NC<unk>COP<unk><unk>O<unk><unk><unk>O<unk><unk><unk>OCC<unk>N<unk><unk><unk>C<unk><unk>C<unk>C<unk>C<unk>O<unk>C<unk>CCCC<unk>CCCC<unk>CCCCCCCCCC<unk>CCCCCCCCCCCCCCCCCCCCCCCCCCCCCCCCCCCCCCCC\n",
      "\n",
      "True SMILES: CCCCCCCCC<unk>C<unk>C<unk>CC<unk>C<unk>C<unk>CC<unk>C<unk>C<unk>C<unk>O<unk>C<unk>COP<unk><unk>O<unk><unk><unk><unk><unk>O<unk>OCC<unk>N<unk><unk><unk>C<unk><unk>C<unk>C<unk>NC<unk><unk>O<unk>CCC<unk>C<unk>C<unk>CCCCCC\n",
      "Pred SMILES: CCCCCCCCC<unk>C<unk>C<unk>CC<unk>C<unk>C<unk>CC<unk>C<unk>C<unk>C<unk>O<unk>C<unk>COP<unk><unk>O<unk><unk><unk><unk><unk>O<unk>OCC<unk>N<unk><unk><unk>C<unk><unk>C<unk>C<unk>NC<unk><unk>O<unk>CCC<unk>C<unk>C<unk>CCCCCCCCCCCCCCCCCCCCCCCCCCCO\n",
      "\n",
      "True SMILES: O<unk>C<unk>NC<unk>COP<unk><unk>O<unk><unk><unk>O<unk><unk><unk>OCC<unk>N<unk><unk><unk>C<unk><unk>C<unk>C<unk>C<unk>O<unk>C<unk>CCCC<unk>CCCCCCCCCCCCCC<unk>CCCCCCCCCCCCCCCCCCCCCCCCCCCCC\n",
      "Pred SMILES: O<unk>C<unk>NC<unk>COP<unk><unk>O<unk><unk><unk>O<unk><unk><unk>OCC<unk>N<unk><unk><unk>C<unk><unk>C<unk>C<unk>C<unk>O<unk>C<unk>CCCC<unk>CCCCCCCCCCCCCC<unk>CCCCCCCCCCCCCCCCCCCCCCCCCCCCCC\n",
      "\n",
      "True SMILES: O<unk>C<unk>NC<unk>COP<unk><unk>O<unk><unk><unk>O<unk><unk><unk>OCC<unk>N<unk><unk><unk>C<unk><unk>C<unk>C<unk>C<unk>O<unk>C<unk>CCCC<unk>CCCCCCCCCCCCCC<unk>CCCCCCCCCCCCC<unk>CCCCCCCCCCCCCCC\n",
      "Pred SMILES: O<unk>C<unk>NC<unk>COP<unk><unk>O<unk><unk><unk>O<unk><unk><unk>OCC<unk>N<unk><unk><unk>C<unk><unk>C<unk>C<unk>C<unk>O<unk>C<unk>CCCC<unk>CCCCCCCCCCCCCC<unk>CCCCCCCCCCCCC<unk>CCCCCCCCCCCCCCCC\n",
      "\n",
      "True SMILES: O<unk>C<unk>NC<unk>COP<unk><unk>O<unk><unk><unk>O<unk><unk><unk>OCC<unk>N<unk><unk><unk>C<unk><unk>C<unk>C<unk>C<unk>O<unk>C<unk>CCCC<unk>CCCCCCCCCCCCCC<unk>CCCCCCCCCCCCCCCCCCCCCCCCCCCC\n",
      "Pred SMILES: O<unk>C<unk>NC<unk>COP<unk><unk>O<unk><unk><unk>O<unk><unk><unk>OCC<unk>N<unk><unk><unk>C<unk><unk>C<unk>C<unk>C<unk>O<unk>C<unk>CCCC<unk>CCCCCCCCCCCCCC<unk>CCCCCCCCCCCCCCCCCCCCCCCCCCCCCCC\n",
      "\n",
      "True SMILES: O<unk>C<unk>NC<unk>COP<unk><unk>O<unk><unk><unk>O<unk><unk><unk>OCC<unk>N<unk><unk><unk>C<unk><unk>C<unk>C<unk>C<unk>O<unk>C<unk>CCCC<unk>CCCCCCCCCCCCCC<unk>CCCCCCCCCCCC<unk>CCC<unk>CCCCCCCCCCCC\n",
      "Pred SMILES: O<unk>C<unk>NC<unk>COP<unk><unk>O<unk><unk><unk>O<unk><unk><unk>OCC<unk>N<unk><unk><unk>C<unk><unk>C<unk>C<unk>C<unk>O<unk>C<unk>CCCC<unk>CCCCCCCCCCCCCC<unk>CCCCCCCCCCCC<unk>CCC<unk>CCCCCCCCCCCCC\n",
      "\n",
      "True SMILES: O<unk>C<unk>NC<unk>COP<unk><unk>O<unk><unk><unk>O<unk><unk><unk>OCC<unk>N<unk><unk><unk>C<unk><unk>C<unk>C<unk>C<unk>O<unk>C<unk>CCCC<unk>CCCCCCCCCCCCCC<unk>CCCCCCCCCCCC<unk>CCCCCCCCCCCCCCC\n",
      "Pred SMILES: O<unk>C<unk>NC<unk>COP<unk><unk>O<unk><unk><unk>O<unk><unk><unk>OCC<unk>N<unk><unk><unk>C<unk><unk>C<unk>C<unk>C<unk>O<unk>C<unk>CCCC<unk>CCCCCCCCCCCCCC<unk>CCCCCCCCCCCC<unk>CCCCCCCCCCCCCCCCCC\n",
      "\n",
      "True SMILES: O<unk>C<unk>NC<unk>COP<unk><unk>O<unk><unk><unk>O<unk><unk><unk>OCC<unk>N<unk><unk><unk>C<unk><unk>C<unk>C<unk>C<unk>O<unk>C<unk>CCCC<unk>CCCCCCCCCCCCCC<unk>CCC<unk>CCC<unk>CCCCCCCCC\n",
      "Pred SMILES: O<unk>C<unk>NC<unk>COP<unk><unk>O<unk><unk><unk>O<unk><unk><unk>OCC<unk>N<unk><unk><unk>C<unk><unk>C<unk>C<unk>C<unk>O<unk>C<unk>CCCC<unk>CCCCCCCCCCCCCC<unk>CCC<unk>CCC<unk>CCCCCCCCCCCCCCCCCCCCCCCCCCC\n",
      "\n",
      "True SMILES: O<unk>C<unk>NC<unk>COP<unk><unk>O<unk><unk><unk>O<unk><unk><unk>OCC<unk>N<unk><unk><unk>C<unk><unk>C<unk>C<unk>C<unk>O<unk>C<unk>CCCC<unk>CCCCCCCCCCCCCC<unk>CCCCCC<unk>CCCCCCCCC\n",
      "Pred SMILES: O<unk>C<unk>NC<unk>COP<unk><unk>O<unk><unk><unk>O<unk><unk><unk>OCC<unk>N<unk><unk><unk>C<unk><unk>C<unk>C<unk>C<unk>O<unk>C<unk>CCCC<unk>CCCCCCCCCCCCCC<unk>CCCCCC<unk>CCCCCCCCCCCCCCCCCCCCCCCCCCCCC\n",
      "\n",
      "True SMILES: O<unk>C<unk>NC<unk>COP<unk><unk>O<unk><unk><unk>O<unk><unk><unk>OCC<unk>N<unk><unk><unk>C<unk><unk>C<unk>C<unk>C<unk>O<unk>C<unk>CCCC<unk>CCCCCCCCCCCCCC<unk>CCCCCCCCCCCCCCC\n",
      "Pred SMILES: O<unk>C<unk>NC<unk>COP<unk><unk>O<unk><unk><unk>O<unk><unk><unk>OCC<unk>N<unk><unk><unk>C<unk><unk>C<unk>C<unk>C<unk>O<unk>C<unk>CCCC<unk>CCCCCCCCCCCCCC<unk>CCCCCCCCCCCCCCCCCCCCCCCCCCCCCCCCCCCC\n",
      "\n",
      "True SMILES: O<unk>C<unk>NC<unk>COP<unk><unk>O<unk><unk><unk>O<unk><unk><unk>OCC<unk>N<unk><unk><unk>C<unk><unk>C<unk>C<unk>C<unk>O<unk>C<unk>CCCC<unk>CCCCCCCCCCCCCC<unk>CCCCCCCC<unk>CCCCCC\n",
      "Pred SMILES: O<unk>C<unk>NC<unk>COP<unk><unk>O<unk><unk><unk>O<unk><unk><unk>OCC<unk>N<unk><unk><unk>C<unk><unk>C<unk>C<unk>C<unk>O<unk>C<unk>CCCC<unk>CCCCCCCCCCCCCC<unk>CCCCCCCC<unk>CCCCCCCCCCCCCCCCCCCCCCCCCCC\n",
      "\n",
      "True SMILES: O<unk>C<unk>NC<unk>COP<unk><unk>O<unk><unk><unk>O<unk><unk><unk>OCC<unk>N<unk><unk><unk>C<unk><unk>C<unk>C<unk>C<unk>O<unk>C<unk>CCCC<unk>CCCCCCCCCCCCCC<unk>CCCCCCCCCCCCCC\n",
      "Pred SMILES: O<unk>C<unk>NC<unk>COP<unk><unk>O<unk><unk><unk>O<unk><unk><unk>OCC<unk>N<unk><unk><unk>C<unk><unk>C<unk>C<unk>C<unk>O<unk>C<unk>CCCC<unk>CCCCCCCCCCCCCC<unk>CCCCCCCCCCCCCCCCCCCCCCCCCCCCCCCCCCCCCC\n",
      "\n",
      "True SMILES: O<unk>C<unk>NC<unk>COP<unk><unk>O<unk><unk><unk>O<unk><unk><unk>OCC<unk>N<unk><unk><unk>C<unk><unk>C<unk>C<unk>C<unk>O<unk>C<unk>CCCCCCCCCCCCCCCCCC<unk>CCCCCCCCCCCCCCCCCCCCCCCCCCCCCCC\n",
      "Pred SMILES: O<unk>C<unk>NC<unk>COP<unk><unk>O<unk><unk><unk>O<unk><unk><unk>OCC<unk>N<unk><unk><unk>C<unk><unk>C<unk>C<unk>C<unk>O<unk>C<unk>CCCCCCCCCCCCCCCCCC<unk>CCCCCCCCCCCCCCCCCCCCCCCCCCCCCCC\n",
      "\n",
      "True SMILES: O<unk>C<unk>NC<unk>COP<unk><unk>O<unk><unk><unk>O<unk><unk><unk>OCC<unk>N<unk><unk><unk>C<unk><unk>C<unk>C<unk>C<unk>O<unk>C<unk>CCCCCCCCCCCCCCCCCC<unk>CCCCCCCCCCCCCCC<unk>CCCCCCCCCCCCCCC\n",
      "Pred SMILES: O<unk>C<unk>NC<unk>COP<unk><unk>O<unk><unk><unk>O<unk><unk><unk>OCC<unk>N<unk><unk><unk>C<unk><unk>C<unk>C<unk>C<unk>O<unk>C<unk>CCCCCCCCCCCCCCCCCC<unk>CCCCCCCCCCCCCCC<unk>CCCCCCCCCCCCCCC\n",
      "\n",
      "True SMILES: CCCCCCCCCCCCCCCCCCCCCCCCCCCCCCC<unk><unk>O<unk>NC<unk>COP<unk><unk>O<unk><unk><unk><unk><unk>O<unk>OCC<unk>N<unk><unk><unk>C<unk><unk>C<unk>C<unk>C<unk>O<unk><unk>C<unk>C<unk>CCCCCCCCCCCCCCCCC\n",
      "Pred SMILES: CCCCCCCCCCCCCCCCCCCCCCCCCCCCCCC<unk><unk>O<unk>NC<unk>COP<unk><unk>O<unk><unk><unk><unk><unk>O<unk>OCC<unk>N<unk><unk><unk>C<unk><unk>C<unk>C<unk>C<unk>O<unk><unk>C<unk>C<unk>CCCCCCCCCCCCCCCCCC\n",
      "\n",
      "True SMILES: O<unk>C<unk>NC<unk>COP<unk><unk>O<unk><unk><unk>O<unk><unk><unk>OCC<unk>N<unk><unk><unk>C<unk><unk>C<unk>C<unk>C<unk>O<unk>C<unk>CCCCCCCCCCCCCCCCCC<unk>CCCCCCCCCCCCCC<unk>CCC<unk>CCCCCCCCCCCC\n",
      "Pred SMILES: O<unk>C<unk>NC<unk>COP<unk><unk>O<unk><unk><unk>O<unk><unk><unk>OCC<unk>N<unk><unk><unk>C<unk><unk>C<unk>C<unk>C<unk>O<unk>C<unk>CCCCCCCCCCCCCCCCCC<unk>CCCCCCCCCCCCCC<unk>CCC<unk>CCCCCCCCCCCCC\n",
      "\n",
      "True SMILES: O<unk>C<unk>NC<unk>COP<unk><unk>O<unk><unk><unk>O<unk><unk><unk>OCC<unk>N<unk><unk><unk>C<unk><unk>C<unk>C<unk>C<unk>O<unk>C<unk>CCCCCCCCCCCCCCCCCC<unk>CCCCCCCCCCCCCC<unk>CCCCCCCCCCCCCCC\n",
      "Pred SMILES: O<unk>C<unk>NC<unk>COP<unk><unk>O<unk><unk><unk>O<unk><unk><unk>OCC<unk>N<unk><unk><unk>C<unk><unk>C<unk>C<unk>C<unk>O<unk>C<unk>CCCCCCCCCCCCCCCCCC<unk>CCCCCCCCCCCCCC<unk>CCCCCCCCCCCCCCC\n",
      "\n",
      "True SMILES: O<unk>C<unk>NC<unk>COP<unk><unk>O<unk><unk><unk>O<unk><unk><unk>OCC<unk>N<unk><unk><unk>C<unk><unk>C<unk>C<unk>C<unk>O<unk>C<unk>CCCCCCCCCCCCCCCCCC<unk>CCCCCCCCCCCCCCCCCC\n",
      "Pred SMILES: O<unk>C<unk>NC<unk>COP<unk><unk>O<unk><unk><unk>O<unk><unk><unk>OCC<unk>N<unk><unk><unk>C<unk><unk>C<unk>C<unk>C<unk>O<unk>C<unk>CCCCCCCCCCCCCCCCCC<unk>CCCCCCCCCCCCCCCCCCCCCCCCCCCCCCCCCCCCC\n",
      "\n",
      "True SMILES: O<unk>C<unk>NC<unk>COP<unk><unk>O<unk><unk><unk>O<unk><unk><unk>OCC<unk>N<unk><unk><unk>C<unk><unk>C<unk>C<unk>C<unk>O<unk>C<unk>CCCCCCCCCCCCCCCCCC<unk>CCCCCCCCC<unk>CC<unk>CCCCCC\n",
      "Pred SMILES: O<unk>C<unk>NC<unk>COP<unk><unk>O<unk><unk><unk>O<unk><unk><unk>OCC<unk>N<unk><unk><unk>C<unk><unk>C<unk>C<unk>C<unk>O<unk>C<unk>CCCCCCCCCCCCCCCCCC<unk>CCCCCCCCC<unk>CC<unk>CCCCCCCCCCCCCCCCCCCCCCCCCC\n",
      "\n",
      "True SMILES: O<unk>C<unk>NC<unk>COP<unk><unk>O<unk><unk><unk>O<unk><unk><unk>OCC<unk>N<unk><unk><unk>C<unk><unk>C<unk>C<unk>C<unk>O<unk>C<unk>CCCCCCCCCCCCCCCCCC<unk>CCCCCCCCCC<unk>CCCCCCC\n",
      "Pred SMILES: O<unk>C<unk>NC<unk>COP<unk><unk>O<unk><unk><unk>O<unk><unk><unk>OCC<unk>N<unk><unk><unk>C<unk><unk>C<unk>C<unk>C<unk>O<unk>C<unk>CCCCCCCCCCCCCCCCCC<unk>CCCCCCCCCC<unk>CCCCCCCCCCCCCCCCCCCCCCCCC\n",
      "\n",
      "True SMILES: O<unk>C<unk>NC<unk>COP<unk><unk>O<unk><unk><unk>O<unk><unk><unk>OCC<unk>N<unk><unk><unk>C<unk><unk>C<unk>C<unk>C<unk>O<unk>C<unk>CCCCCCCCCCCCCCCCCC<unk>CCCCCCCCCCCCCCCCC\n",
      "Pred SMILES: O<unk>C<unk>NC<unk>COP<unk><unk>O<unk><unk><unk>O<unk><unk><unk>OCC<unk>N<unk><unk><unk>C<unk><unk>C<unk>C<unk>C<unk>O<unk>C<unk>CCCCCCCCCCCCCCCCCC<unk>CCCCCCCCCCCCCCCCCCCCCCCCCCCCCCCCCCCCCCC\n",
      "\n",
      "True SMILES: O<unk>C<unk>NC<unk>COP<unk><unk>O<unk><unk><unk>O<unk><unk><unk>OCC<unk>N<unk><unk><unk>C<unk><unk>C<unk>C<unk>C<unk>O<unk>C<unk>CCCCCCCCCCCCCCCCCC<unk>CCCCCCCCCCCCCCCC\n",
      "Pred SMILES: O<unk>C<unk>NC<unk>COP<unk><unk>O<unk><unk><unk>O<unk><unk><unk>OCC<unk>N<unk><unk><unk>C<unk><unk>C<unk>C<unk>C<unk>O<unk>C<unk>CCCCCCCCCCCCCCCCCC<unk>CCCCCCCCCCCCCCCCCCCCCCCCCCCCCCCCCCCCCCC\n",
      "\n",
      "True SMILES: O<unk>C<unk>NC<unk>COP<unk><unk>O<unk><unk><unk>O<unk><unk><unk>OCC<unk>N<unk><unk><unk>C<unk><unk>C<unk>C<unk>C<unk>O<unk>CCCCCCCCCCCCCCCCCCC<unk>CCCCCCCCCCCCCCCCCCCCCCCCCCCCCCCCC\n",
      "Pred SMILES: O<unk>C<unk>NC<unk>COP<unk><unk>O<unk><unk><unk>O<unk><unk><unk>OCC<unk>N<unk><unk><unk>C<unk><unk>C<unk>C<unk>C<unk>O<unk>CCCCCCCCCCCCCCCCCCC<unk>CCCCCCCCCCCCCCCCCCCCCCCCCCCCCCCCCC\n",
      "\n",
      "True SMILES: O<unk>C<unk>NC<unk>COP<unk><unk>O<unk><unk><unk>O<unk><unk><unk>OCC<unk>N<unk><unk><unk>C<unk><unk>C<unk>C<unk>C<unk>O<unk>CCCCCCCCCCCCCCCCCCC<unk>CCCCCCCCCCCCCCCCC<unk>CCCCCCCCCCCCCCC\n",
      "Pred SMILES: O<unk>C<unk>NC<unk>COP<unk><unk>O<unk><unk><unk>O<unk><unk><unk>OCC<unk>N<unk><unk><unk>C<unk><unk>C<unk>C<unk>C<unk>O<unk>CCCCCCCCCCCCCCCCCCC<unk>CCCCCCCCCCCCCCCCC<unk>CCCCCCCCCCCCCCCC\n",
      "\n",
      "True SMILES: O<unk>C<unk>NC<unk>COP<unk><unk>O<unk><unk><unk>O<unk><unk><unk>OCC<unk>N<unk><unk><unk>C<unk><unk>C<unk>C<unk>C<unk>O<unk>CCCCCCCCCCCCCCCCCCC<unk>CCCCCCCCCCCCCCCCCCCCCCCCCCCCCCCC\n",
      "Pred SMILES: O<unk>C<unk>NC<unk>COP<unk><unk>O<unk><unk><unk>O<unk><unk><unk>OCC<unk>N<unk><unk><unk>C<unk><unk>C<unk>C<unk>C<unk>O<unk>CCCCCCCCCCCCCCCCCCC<unk>CCCCCCCCCCCCCCCCCCCCCCCCCCCCCCCC\n",
      "\n",
      "True SMILES: O<unk>C<unk>NC<unk>COP<unk><unk>O<unk><unk><unk>O<unk><unk><unk>OCC<unk>N<unk><unk><unk>C<unk><unk>C<unk>C<unk>C<unk>O<unk>CCCCCCCCCCCCCCCCCCC<unk>CCCCCCCCCCCCCCCC<unk>CCC<unk>CCCCCCCCCCCC\n",
      "Pred SMILES: O<unk>C<unk>NC<unk>COP<unk><unk>O<unk><unk><unk>O<unk><unk><unk>OCC<unk>N<unk><unk><unk>C<unk><unk>C<unk>C<unk>C<unk>O<unk>CCCCCCCCCCCCCCCCCCC<unk>CCCCCCCCCCCCCCCC<unk>CCC<unk>CCCCCCCCCCCCC\n",
      "\n",
      "True SMILES: O<unk>C<unk>NC<unk>COP<unk><unk>O<unk><unk><unk>O<unk><unk><unk>OCC<unk>N<unk><unk><unk>C<unk><unk>C<unk>C<unk>C<unk>O<unk>CCCCCCCCCCCCCCCCCCC<unk>CCCCCCCCCCCCCCCC<unk>CCCCCCCCCCCCCCC\n",
      "Pred SMILES: O<unk>C<unk>NC<unk>COP<unk><unk>O<unk><unk><unk>O<unk><unk><unk>OCC<unk>N<unk><unk><unk>C<unk><unk>C<unk>C<unk>C<unk>O<unk>CCCCCCCCCCCCCCCCCCC<unk>CCCCCCCCCCCCCCCC<unk>CCCCCCCCCCCCCCC\n",
      "\n",
      "True SMILES: O<unk>C<unk>NC<unk>COP<unk><unk>O<unk><unk><unk>O<unk><unk><unk>OCC<unk>N<unk><unk><unk>C<unk><unk>C<unk>C<unk>C<unk>O<unk>CCCCCCCCCCCCCCCCCCC<unk>CCCCCCCCCCCCCCCCCCCC\n",
      "Pred SMILES: O<unk>C<unk>NC<unk>COP<unk><unk>O<unk><unk><unk>O<unk><unk><unk>OCC<unk>N<unk><unk><unk>C<unk><unk>C<unk>C<unk>C<unk>O<unk>CCCCCCCCCCCCCCCCCCC<unk>CCCCCCCCCCCCCCCCCCCCCCCCCCCCCCCCCCCCCCCCCCCCOC\n",
      "\n",
      "True SMILES: O<unk>C<unk>NC<unk>COP<unk><unk>O<unk><unk><unk>O<unk><unk><unk>OCC<unk>N<unk><unk><unk>C<unk><unk>C<unk>C<unk>C<unk>O<unk>CCCCCCCCCCCCCCCCCCC<unk>CCCCCCCCCC<unk>CCC<unk>CCCCCC\n",
      "Pred SMILES: O<unk>C<unk>NC<unk>COP<unk><unk>O<unk><unk><unk>O<unk><unk><unk>OCC<unk>N<unk><unk><unk>C<unk><unk>C<unk>C<unk>C<unk>O<unk>CCCCCCCCCCCCCCCCCCC<unk>CCCCCCCCCC<unk>CCC<unk>CCCCCCCCCCCCCCCCCCCCCCCCCCCCCCOCCO\n",
      "\n",
      "True SMILES: O<unk>C<unk>NC<unk>COP<unk><unk>O<unk><unk><unk>O<unk><unk><unk>OCC<unk>N<unk><unk><unk>C<unk><unk>C<unk>C<unk>C<unk>O<unk>CCCCCCCCCCCCCCCCCCC<unk>CCCCCCCCCC<unk>CCCCCCCCC\n",
      "Pred SMILES: O<unk>C<unk>NC<unk>COP<unk><unk>O<unk><unk><unk>O<unk><unk><unk>OCC<unk>N<unk><unk><unk>C<unk><unk>C<unk>C<unk>C<unk>O<unk>CCCCCCCCCCCCCCCCCCC<unk>CCCCCCCCCC<unk>CCCCCCCCCCCCCCCCCCCCCCCCCCCCCCCCCOC\n",
      "\n",
      "True SMILES: O<unk>C<unk>NC<unk>COP<unk><unk>O<unk><unk><unk>O<unk><unk><unk>OCC<unk>N<unk><unk><unk>C<unk><unk>C<unk>C<unk>C<unk>O<unk>CCCCCCCCCCCCCCCCCCC<unk>CCCCCCCCCCCCCCCCCCC\n",
      "Pred SMILES: O<unk>C<unk>NC<unk>COP<unk><unk>O<unk><unk><unk>O<unk><unk><unk>OCC<unk>N<unk><unk><unk>C<unk><unk>C<unk>C<unk>C<unk>O<unk>CCCCCCCCCCCCCCCCCCC<unk>CCCCCCCCCCCCCCCCCCCCCCCCCCCCCCCCCCCCCCCCCCOO\n",
      "\n",
      "True SMILES: O<unk>C<unk>NC<unk>COP<unk><unk>O<unk><unk><unk>O<unk><unk><unk>OCC<unk>N<unk><unk><unk>C<unk><unk>C<unk>C<unk>C<unk>O<unk>CCCCCCCCCCCCCCCCCCC<unk>CCCCCCCC<unk>CCCCCCCCCC\n",
      "Pred SMILES: O<unk>C<unk>NC<unk>COP<unk><unk>O<unk><unk><unk>O<unk><unk><unk>OCC<unk>N<unk><unk><unk>C<unk><unk>C<unk>C<unk>C<unk>O<unk>CCCCCCCCCCCCCCCCCCC<unk>CCCCCCCC<unk>CCCCCCCCCCCCCCCCCCCCCCCCCCCCCCCCCCOO\n",
      "\n",
      "True SMILES: O<unk>C<unk>NC<unk>COP<unk><unk>O<unk><unk><unk>O<unk><unk><unk>OCC<unk>N<unk><unk><unk>C<unk><unk>C<unk>C<unk>C<unk>O<unk>C<unk>CCCC<unk>CCCC<unk>CCCCCCCCC<unk>CCCCCCCCCCCCCCCCCCCCCCCCCCCCCCCCCCC\n",
      "Pred SMILES: O<unk>C<unk>NC<unk>COP<unk><unk>O<unk><unk><unk>O<unk><unk><unk>OCC<unk>N<unk><unk><unk>C<unk><unk>C<unk>C<unk>C<unk>O<unk>C<unk>CCCC<unk>CCCC<unk>CCCCCCCCC<unk>CCCCCCCCCCCCCCCCCCCCCCCCCCCCCCCCCCCC\n",
      "\n",
      "True SMILES: O<unk>C<unk>NC<unk>COP<unk><unk>O<unk><unk><unk>O<unk><unk><unk>OCC<unk>N<unk><unk><unk>C<unk><unk>C<unk>C<unk>C<unk>O<unk>C<unk>CCCC<unk>CCCC<unk>CCCCCCCCC<unk>CCCCCCCCCCCCCCCCCCC<unk>CCCCCCCCCCCCCCC\n",
      "Pred SMILES: O<unk>C<unk>NC<unk>COP<unk><unk>O<unk><unk><unk>O<unk><unk><unk>OCC<unk>N<unk><unk><unk>C<unk><unk>C<unk>C<unk>C<unk>O<unk>C<unk>CCCC<unk>CCCC<unk>CCCCCCCCC<unk>CCCCCCCCCCCCCCCCCCC<unk>CCCCCCCCCCCCCCCC\n",
      "\n",
      "True SMILES: O<unk>C<unk>NC<unk>COP<unk><unk>O<unk><unk><unk>O<unk><unk><unk>OCC<unk>N<unk><unk><unk>C<unk><unk>C<unk>C<unk>C<unk>O<unk>C<unk>CCCC<unk>CCCC<unk>CCCCCCCCC<unk>CCCCCCCCCCCCCCCCCCCCCCCCCCCCCCCCCC\n",
      "Pred SMILES: O<unk>C<unk>NC<unk>COP<unk><unk>O<unk><unk><unk>O<unk><unk><unk>OCC<unk>N<unk><unk><unk>C<unk><unk>C<unk>C<unk>C<unk>O<unk>C<unk>CCCC<unk>CCCC<unk>CCCCCCCCC<unk>CCCCCCCCCCCCCCCCCCCCCCCCCCCCCCCCCCC\n",
      "\n",
      "True SMILES: O<unk>C<unk>NC<unk>COP<unk><unk>O<unk><unk><unk>O<unk><unk><unk>OCC<unk>N<unk><unk><unk>C<unk><unk>C<unk>C<unk>C<unk>O<unk>C<unk>CCCC<unk>CCCC<unk>CCCCCCCCC<unk>CCCCCCCCCCCCCCCCCC<unk>CCC<unk>CCCCCCCCCCCC\n",
      "Pred SMILES: O<unk>C<unk>NC<unk>COP<unk><unk>O<unk><unk><unk>O<unk><unk><unk>OCC<unk>N<unk><unk><unk>C<unk><unk>C<unk>C<unk>C<unk>O<unk>C<unk>CCCC<unk>CCCC<unk>CCCCCCCCC<unk>CCCCCCCCCCCCCCCCCC<unk>CCC<unk>CCCCCCCCCCCCC\n",
      "\n",
      "True SMILES: O<unk>C<unk>NC<unk>COP<unk><unk>O<unk><unk><unk>O<unk><unk><unk>OCC<unk>N<unk><unk><unk>C<unk><unk>C<unk>C<unk>C<unk>O<unk>C<unk>CCCC<unk>CCCC<unk>CCCCCCCCC<unk>CCCCCCCCCCCCCCCCCC<unk>CCCCCCCCCCCCCCC\n",
      "Pred SMILES: O<unk>C<unk>NC<unk>COP<unk><unk>O<unk><unk><unk>O<unk><unk><unk>OCC<unk>N<unk><unk><unk>C<unk><unk>C<unk>C<unk>C<unk>O<unk>C<unk>CCCC<unk>CCCC<unk>CCCCCCCCC<unk>CCCCCCCCCCCCCCCCCC<unk>CCCCCCCCCCCCCCCC\n",
      "\n",
      "True SMILES: O<unk>C<unk>NC<unk>COP<unk><unk>O<unk><unk><unk>O<unk><unk><unk>OCC<unk>N<unk><unk><unk>C<unk><unk>C<unk>C<unk>C<unk>O<unk>C<unk>CCCC<unk>CCCC<unk>CCCCCCCCC<unk>CCCCCCCCCCCCCCCCCCCCCC\n",
      "Pred SMILES: O<unk>C<unk>NC<unk>COP<unk><unk>O<unk><unk><unk>O<unk><unk><unk>OCC<unk>N<unk><unk><unk>C<unk><unk>C<unk>C<unk>C<unk>O<unk>C<unk>CCCC<unk>CCCC<unk>CCCCCCCCC<unk>CCCCCCCCCCCCCCCCCCCCCCCCCCCCCCCCCCCCCCC\n",
      "\n",
      "True SMILES: O<unk>C<unk>NC<unk>COP<unk><unk>O<unk><unk><unk>O<unk><unk><unk>OCC<unk>N<unk><unk><unk>C<unk><unk>C<unk>C<unk>C<unk>O<unk>C<unk>CCCC<unk>CCCC<unk>CCCCCCCCC<unk>CCCCCCCCCCCCC<unk>CC<unk>CCCCCC\n",
      "Pred SMILES: O<unk>C<unk>NC<unk>COP<unk><unk>O<unk><unk><unk>O<unk><unk><unk>OCC<unk>N<unk><unk><unk>C<unk><unk>C<unk>C<unk>C<unk>O<unk>C<unk>CCCC<unk>CCCC<unk>CCCCCCCCC<unk>CCCCCCCCCCCCC<unk>CC<unk>CCCCCCCCCCCCCCCCCCCC\n",
      "\n",
      "True SMILES: O<unk>C<unk>NC<unk>COP<unk><unk>O<unk><unk><unk>O<unk><unk><unk>OCC<unk>N<unk><unk><unk>C<unk><unk>C<unk>C<unk>C<unk>O<unk>C<unk>CCCC<unk>CCCC<unk>CCCCCCCCC<unk>CCCCCCCCCC<unk>CCCCCCCCCCC\n",
      "Pred SMILES: O<unk>C<unk>NC<unk>COP<unk><unk>O<unk><unk><unk>O<unk><unk><unk>OCC<unk>N<unk><unk><unk>C<unk><unk>C<unk>C<unk>C<unk>O<unk>C<unk>CCCC<unk>CCCC<unk>CCCCCCCCC<unk>CCCCCCCCCC<unk>CCCCCCCCCCCCCCCCCCCCCCCCCCCC\n",
      "\n",
      "True SMILES: O<unk>C<unk>NC<unk>COP<unk><unk>O<unk><unk><unk>O<unk><unk><unk>OCC<unk>N<unk><unk><unk>C<unk><unk>C<unk>C<unk>C<unk>O<unk>C<unk>CCCC<unk>CCCC<unk>CCCCCCCCC<unk>CCCCCCCCCCCCCCCCCCCCC\n",
      "Pred SMILES: O<unk>C<unk>NC<unk>COP<unk><unk>O<unk><unk><unk>O<unk><unk><unk>OCC<unk>N<unk><unk><unk>C<unk><unk>C<unk>C<unk>C<unk>O<unk>C<unk>CCCC<unk>CCCC<unk>CCCCCCCCC<unk>CCCCCCCCCCCCCCCCCCCCCCCCCCCCCCCCCCCCCCCC\n",
      "\n",
      "True SMILES: O<unk>C<unk>NC<unk>COP<unk><unk>O<unk><unk><unk>O<unk><unk><unk>OCC<unk>N<unk><unk><unk>C<unk><unk>C<unk>C<unk>C<unk>O<unk>C<unk>CCCC<unk>CCCC<unk>CCCCCCCCC<unk>CCCCCCCC<unk>CCCCCCCCCCCC\n",
      "Pred SMILES: O<unk>C<unk>NC<unk>COP<unk><unk>O<unk><unk><unk>O<unk><unk><unk>OCC<unk>N<unk><unk><unk>C<unk><unk>C<unk>C<unk>C<unk>O<unk>C<unk>CCCC<unk>CCCC<unk>CCCCCCCCC<unk>CCCCCCCC<unk>CCCCCCCCCCCCCCCCCCCCCCCCCCCCCCC\n",
      "\n",
      "True SMILES: O<unk>C<unk>NC<unk>COP<unk><unk>O<unk><unk><unk>O<unk><unk><unk>OCC<unk>N<unk><unk><unk>C<unk><unk>C<unk>C<unk>C<unk>O<unk>C<unk>CCCC<unk>CCCCCCCCCCCCC<unk>CCCCCCCCCCCCCCCCCCCC<unk>CCC<unk>CCCCCCCCCCCCCC\n",
      "Pred SMILES: O<unk>C<unk>NC<unk>COP<unk><unk>O<unk><unk><unk>O<unk><unk><unk>OCC<unk>N<unk><unk><unk>C<unk><unk>C<unk>C<unk>C<unk>O<unk>C<unk>CCCC<unk>CCCCCCCCCCCCC<unk>CCCCCCCCCCCCCCCCCCCC<unk>CCC<unk>CCCCCCCCCCCCCCC\n",
      "\n",
      "True SMILES: O<unk>C<unk>NC<unk>COP<unk><unk>O<unk><unk><unk>O<unk><unk><unk>OCC<unk>N<unk><unk><unk>C<unk><unk>C<unk>C<unk>C<unk>O<unk>C<unk>CCCC<unk>CCCCCCCCCCCCC<unk>CCCCCCCCCCCCCCCCCCCC<unk>CCCCCCCCCCCCCCCCC\n",
      "Pred SMILES: O<unk>C<unk>NC<unk>COP<unk><unk>O<unk><unk><unk>O<unk><unk><unk>OCC<unk>N<unk><unk><unk>C<unk><unk>C<unk>C<unk>C<unk>O<unk>C<unk>CCCC<unk>CCCCCCCCCCCCC<unk>CCCCCCCCCCCCCCCCCCCC<unk>CCCCCCCCCCCCCCCCC\n",
      "\n",
      "True SMILES: O<unk>C<unk>NC<unk>COP<unk><unk>O<unk><unk><unk>O<unk><unk><unk>OCC<unk>N<unk><unk><unk>C<unk><unk>C<unk>C<unk>C<unk>O<unk>C<unk>CCCC<unk>CCCCCCCCCCCCC<unk>CCCCCCCCCCCCCCCCCCCCCCCCCCCCCCCCCCCCC\n",
      "Pred SMILES: O<unk>C<unk>NC<unk>COP<unk><unk>O<unk><unk><unk>O<unk><unk><unk>OCC<unk>N<unk><unk><unk>C<unk><unk>C<unk>C<unk>C<unk>O<unk>C<unk>CCCC<unk>CCCCCCCCCCCCC<unk>CCCCCCCCCCCCCCCCCCCCCCCCCCCCCCCCCCCCCC\n",
      "\n",
      "True SMILES: O<unk>C<unk>NC<unk>COP<unk><unk>O<unk><unk><unk>O<unk><unk><unk>OCC<unk>N<unk><unk><unk>C<unk><unk>C<unk>C<unk>C<unk>O<unk>C<unk>CCCC<unk>CCCCCCCCCCCCC<unk>CCCCCCCCCCCCCCCCCCCC<unk>CCC<unk>CCCCCCCCCCCC\n",
      "Pred SMILES: O<unk>C<unk>NC<unk>COP<unk><unk>O<unk><unk><unk>O<unk><unk><unk>OCC<unk>N<unk><unk><unk>C<unk><unk>C<unk>C<unk>C<unk>O<unk>C<unk>CCCC<unk>CCCCCCCCCCCCC<unk>CCCCCCCCCCCCCCCCCCCC<unk>CCC<unk>CCCCCCCCCCCCC\n",
      "\n",
      "True SMILES: O<unk>C<unk>NC<unk>COP<unk><unk>O<unk><unk><unk>O<unk><unk><unk>OCC<unk>N<unk><unk><unk>C<unk><unk>C<unk>C<unk>C<unk>O<unk>C<unk>CCCC<unk>CCCCCCCCCCCCC<unk>CCCCCCCCCCCCCCCCCCCC<unk>CCCCCCCCCCCCCCC\n",
      "Pred SMILES: O<unk>C<unk>NC<unk>COP<unk><unk>O<unk><unk><unk>O<unk><unk><unk>OCC<unk>N<unk><unk><unk>C<unk><unk>C<unk>C<unk>C<unk>O<unk>C<unk>CCCC<unk>CCCCCCCCCCCCC<unk>CCCCCCCCCCCCCCCCCCCC<unk>CCCCCCCCCCCCCCCCC\n",
      "\n",
      "True SMILES: O<unk>C<unk>NC<unk>COP<unk><unk>O<unk><unk><unk>O<unk><unk><unk>OCC<unk>N<unk><unk><unk>C<unk><unk>C<unk>C<unk>C<unk>O<unk>C<unk>CCCC<unk>CCCCCCCCCCCCC<unk>CCCCCCCCCCCCCCCCCCCCCCCC\n",
      "Pred SMILES: O<unk>C<unk>NC<unk>COP<unk><unk>O<unk><unk><unk>O<unk><unk><unk>OCC<unk>N<unk><unk><unk>C<unk><unk>C<unk>C<unk>C<unk>O<unk>C<unk>CCCC<unk>CCCCCCCCCCCCC<unk>CCCCCCCCCCCCCCCCCCCCCCCCCCCCCCCCCCCCCC\n",
      "\n",
      "True SMILES: O<unk>C<unk>NC<unk>COP<unk><unk>O<unk><unk><unk>O<unk><unk><unk>OCC<unk>N<unk><unk><unk>C<unk><unk>C<unk>C<unk>C<unk>O<unk>C<unk>CCCC<unk>CCCCCCCCCCCCC<unk>CCCCCCCCCCCCCCCCC<unk>CCC<unk>CCC\n",
      "Pred SMILES: O<unk>C<unk>NC<unk>COP<unk><unk>O<unk><unk><unk>O<unk><unk><unk>OCC<unk>N<unk><unk><unk>C<unk><unk>C<unk>C<unk>C<unk>O<unk>C<unk>CCCC<unk>CCCCCCCCCCCCC<unk>CCCCCCCCCCCCCCCCC<unk>CCC<unk>CCCCCCCCCCCCCCCCC\n",
      "\n",
      "True SMILES: O<unk>C<unk>NC<unk>COP<unk><unk>O<unk><unk><unk>O<unk><unk><unk>OCC<unk>N<unk><unk><unk>C<unk><unk>C<unk>C<unk>C<unk>O<unk>C<unk>CCCC<unk>CCCCCCCCCCCCC<unk>CCCCCCCCCC<unk>CCCCCCCCCCCCC\n",
      "Pred SMILES: O<unk>C<unk>NC<unk>COP<unk><unk>O<unk><unk><unk>O<unk><unk><unk>OCC<unk>N<unk><unk><unk>C<unk><unk>C<unk>C<unk>C<unk>O<unk>C<unk>CCCC<unk>CCCCCCCCCCCCC<unk>CCCCCCCCCC<unk>CCCCCCCCCCCCCCCCCCCCCCCCCCC\n",
      "\n",
      "True SMILES: O<unk>C<unk>NC<unk>COP<unk><unk>O<unk><unk><unk>O<unk><unk><unk>OCC<unk>N<unk><unk><unk>C<unk><unk>C<unk>C<unk>C<unk>O<unk>C<unk>CCCC<unk>CCCCCCCCCCCCC<unk>CCCCCCCCCCCCCCCCCCCCCCC\n",
      "Pred SMILES: O<unk>C<unk>NC<unk>COP<unk><unk>O<unk><unk><unk>O<unk><unk><unk>OCC<unk>N<unk><unk><unk>C<unk><unk>C<unk>C<unk>C<unk>O<unk>C<unk>CCCC<unk>CCCCCCCCCCCCC<unk>CCCCCCCCCCCCCCCCCCCCCCCCCCCCCCCCCCCCCCCC\n",
      "\n",
      "True SMILES: O<unk>C<unk>NC<unk>COP<unk><unk>O<unk><unk><unk>O<unk><unk><unk>OCC<unk>N<unk><unk><unk>C<unk><unk>C<unk>C<unk>C<unk>O<unk>C<unk>CCCC<unk>CCCCCCCCCCCCC<unk>CCCCCCCCCC<unk>CCCCCCCCCCCC\n",
      "Pred SMILES: O<unk>C<unk>NC<unk>COP<unk><unk>O<unk><unk><unk>O<unk><unk><unk>OCC<unk>N<unk><unk><unk>C<unk><unk>C<unk>C<unk>C<unk>O<unk>C<unk>CCCC<unk>CCCCCCCCCCCCC<unk>CCCCCCCCCC<unk>CCCCCCCCCCCCCCCCCCCCCCCCCCCC\n",
      "\n",
      "True SMILES: O<unk>C<unk>NC<unk>COP<unk><unk>O<unk><unk><unk>O<unk><unk><unk>OCC<unk>N<unk><unk><unk>C<unk><unk>C<unk>C<unk>C<unk>O<unk>C<unk>CCCCCCCCCCCCCCCCC<unk>CCCCCCCCCCCCCCCCCCCC<unk>CCCCCCCCCCCCCCCCCCCCC\n",
      "Pred SMILES: O<unk>C<unk>NC<unk>COP<unk><unk>O<unk><unk><unk>O<unk><unk><unk>OCC<unk>N<unk><unk><unk>C<unk><unk>C<unk>C<unk>C<unk>O<unk>C<unk>CCCCCCCCCCCCCCCCC<unk>CCCCCCCCCCCCCCCCCCCC<unk>CCCCCCCCCCCCCCCCCCCCC\n",
      "\n",
      "True SMILES: O<unk>C<unk>NC<unk>COP<unk><unk>O<unk><unk><unk>O<unk><unk><unk>OCC<unk>N<unk><unk><unk>C<unk><unk>C<unk>C<unk>C<unk>O<unk>C<unk>CCCCCCCCCCCCCCCCC<unk>CCCCCCCCCCCCCCCCCCCCCCCCCCCCCCCCCCCCCCCCC\n",
      "Pred SMILES: O<unk>C<unk>NC<unk>COP<unk><unk>O<unk><unk><unk>O<unk><unk><unk>OCC<unk>N<unk><unk><unk>C<unk><unk>C<unk>C<unk>C<unk>O<unk>C<unk>CCCCCCCCCCCCCCCCC<unk>CCCCCCCCCCCCCCCCCCCCCCCCCCCCCCCCCCCCCCCCC\n",
      "\n",
      "True SMILES: O<unk>C<unk>NC<unk>COP<unk><unk>O<unk><unk><unk>O<unk><unk><unk>OCC<unk>N<unk><unk><unk>C<unk><unk>C<unk>C<unk>C<unk>O<unk>C<unk>CCCCCCCCCCCCCCCCC<unk>CCCCCCCCCCCCCCCCCCCC<unk>CCC<unk>CCCCCCCCCCCCCCCC\n",
      "Pred SMILES: O<unk>C<unk>NC<unk>COP<unk><unk>O<unk><unk><unk>O<unk><unk><unk>OCC<unk>N<unk><unk><unk>C<unk><unk>C<unk>C<unk>C<unk>O<unk>C<unk>CCCCCCCCCCCCCCCCC<unk>CCCCCCCCCCCCCCCCCCCC<unk>CCC<unk>CCCCCCCCCCCCCCCC\n",
      "\n",
      "True SMILES: O<unk>C<unk>NC<unk>COP<unk><unk>O<unk><unk><unk>O<unk><unk><unk>OCC<unk>N<unk><unk><unk>C<unk><unk>C<unk>C<unk>C<unk>O<unk>C<unk>CCCCCCCCCCCCCCCCC<unk>CCCCCCCCCCCCCCCCCCCC<unk>CCCCCCCCCCCCCCCCCCC\n",
      "Pred SMILES: O<unk>C<unk>NC<unk>COP<unk><unk>O<unk><unk><unk>O<unk><unk><unk>OCC<unk>N<unk><unk><unk>C<unk><unk>C<unk>C<unk>C<unk>O<unk>C<unk>CCCCCCCCCCCCCCCCC<unk>CCCCCCCCCCCCCCCCCCCC<unk>CCCCCCCCCCCCCCCCCCCC\n",
      "\n",
      "True SMILES: O<unk>C<unk>NC<unk>COP<unk><unk>O<unk><unk><unk>O<unk><unk><unk>OCC<unk>N<unk><unk><unk>C<unk><unk>C<unk>C<unk>C<unk>O<unk>C<unk>CCCCCCCCCCCCCCCCC<unk>CCCCCCCCCCCCCCCCCCCCCCCCCCCCCCCCCCCCCCC\n",
      "Pred SMILES: O<unk>C<unk>NC<unk>COP<unk><unk>O<unk><unk><unk>O<unk><unk><unk>OCC<unk>N<unk><unk><unk>C<unk><unk>C<unk>C<unk>C<unk>O<unk>C<unk>CCCCCCCCCCCCCCCCC<unk>CCCCCCCCCCCCCCCCCCCCCCCCCCCCCCCCCCCCCCCC\n",
      "\n",
      "Sequence Accuracy: 0.8483\n",
      "Average Sequence Loss: 0.0038\n"
     ]
    }
   ],
   "source": [
    "seq_accuracy, avg_seq_loss = evaluate_model_seq2seq(model, test_loader, smiles_vocab)"
   ]
  },
  {
   "cell_type": "code",
   "execution_count": 19,
   "metadata": {},
   "outputs": [
    {
     "data": {
      "image/png": "[encoded data removed]",
      "text/plain": [
       "<Figure size 1200x400 with 2 Axes>"
      ]
     },
     "metadata": {},
     "output_type": "display_data"
    }
   ],
   "source": [
    "# Visualize training history\n",
    "import matplotlib.pyplot as plt\n",
    "\n",
    "plt.figure(figsize=(12, 4))\n",
    "plt.subplot(1, 2, 1)\n",
    "plt.plot(history['seq_loss'].values(), label='Sequence Loss')\n",
    "plt.xlabel('Epoch')\n",
    "plt.ylabel('Loss')\n",
    "plt.legend()\n",
    "\n",
    "plt.subplot(1, 2, 2)\n",
    "plt.plot(history['seq_accuracy'].values(), label='Sequence Accuracy')\n",
    "plt.xlabel('Epoch')\n",
    "plt.ylabel('Accuracy')\n",
    "plt.legend()\n",
    "\n",
    "plt.tight_layout()\n",
    "plt.show()"
   ]
  },
  {
   "cell_type": "code",
   "execution_count": 20,
   "metadata": {},
   "outputs": [
    {
     "name": "stdout",
     "output_type": "stream",
     "text": [
      "\n",
      "Spectra tokenized with direct tokenization:\n",
      "\n",
      "SMILES tokenized with substructure tokenization\n",
      "Spectra shape: torch.Size([32, 1, 112, 16])\n",
      "SMILES shape: torch.Size([32, 104])\n"
     ]
    }
   ],
   "source": [
    "results = {}\n",
    "print(f\"\\nSpectra tokenized with {method} tokenization:\")\n",
    "print(f\"\\nSMILES tokenized with {'substructure'} tokenization\")\n",
    "smiles_vocab = smiles_vocabs['substructure']\n",
    "\n",
    "train_loader, test_loader = load_tokenized_data_with_smiles(df, df, \n",
    "                                                            method, \n",
    "                                                            smiles_vocab, \n",
    "                                                            max_mz=max_mz)\n",
    "\n",
    "#num_classes = len(label_encoder.classes_)\n",
    "smiles_vocab_size = len(smiles_vocab)\n",
    "\n",
    "# sample batch used for input dimensions\n",
    "sample_batch, target_batch = next(iter(train_loader))\n",
    "print(\"Spectra shape:\", sample_batch.shape)\n",
    "print(\"SMILES shape:\", target_batch.shape)\n",
    "embed_depth = sample_batch.shape[3]"
   ]
  },
  {
   "cell_type": "code",
   "execution_count": 21,
   "metadata": {},
   "outputs": [
    {
     "name": "stdout",
     "output_type": "stream",
     "text": [
      "MS_VIT_Seq2Seq(\n",
      "  (embedding): Linear(in_features=16, out_features=64, bias=True)\n",
      "  (pos_encoder): PositionalEncoding()\n",
      "  (transformer_encoder): TransformerEncoder(\n",
      "    (layers): ModuleList(\n",
      "      (0-1): 2 x TransformerEncoderLayer(\n",
      "        (self_attn): MultiheadAttention(\n",
      "          (out_proj): NonDynamicallyQuantizableLinear(in_features=64, out_features=64, bias=True)\n",
      "        )\n",
      "        (linear1): Linear(in_features=64, out_features=256, bias=True)\n",
      "        (dropout): Dropout(p=0.1, inplace=False)\n",
      "        (linear2): Linear(in_features=256, out_features=64, bias=True)\n",
      "        (norm1): LayerNorm((64,), eps=1e-05, elementwise_affine=True)\n",
      "        (norm2): LayerNorm((64,), eps=1e-05, elementwise_affine=True)\n",
      "        (dropout1): Dropout(p=0.1, inplace=False)\n",
      "        (dropout2): Dropout(p=0.1, inplace=False)\n",
      "      )\n",
      "    )\n",
      "  )\n",
      "  (smiles_embedding): Embedding(38759, 64)\n",
      "  (transformer_decoder): TransformerDecoder(\n",
      "    (layers): ModuleList(\n",
      "      (0-1): 2 x TransformerDecoderLayer(\n",
      "        (self_attn): MultiheadAttention(\n",
      "          (out_proj): NonDynamicallyQuantizableLinear(in_features=64, out_features=64, bias=True)\n",
      "        )\n",
      "        (multihead_attn): MultiheadAttention(\n",
      "          (out_proj): NonDynamicallyQuantizableLinear(in_features=64, out_features=64, bias=True)\n",
      "        )\n",
      "        (linear1): Linear(in_features=64, out_features=256, bias=True)\n",
      "        (dropout): Dropout(p=0.1, inplace=False)\n",
      "        (linear2): Linear(in_features=256, out_features=64, bias=True)\n",
      "        (norm1): LayerNorm((64,), eps=1e-05, elementwise_affine=True)\n",
      "        (norm2): LayerNorm((64,), eps=1e-05, elementwise_affine=True)\n",
      "        (norm3): LayerNorm((64,), eps=1e-05, elementwise_affine=True)\n",
      "        (dropout1): Dropout(p=0.1, inplace=False)\n",
      "        (dropout2): Dropout(p=0.1, inplace=False)\n",
      "        (dropout3): Dropout(p=0.1, inplace=False)\n",
      "      )\n",
      "    )\n",
      "  )\n",
      "  (fc_smiles): Linear(in_features=64, out_features=38759, bias=True)\n",
      ")\n"
     ]
    }
   ],
   "source": [
    "model = MS_VIT_Seq2Seq(\n",
    "    smiles_vocab_size=len(smiles_vocab),\n",
    "    embed_depth=embed_depth,\n",
    "    d_model=64,           # Reduced from 256\n",
    "    nhead=4,              # Reduced from 8\n",
    "    num_layers=2,         # Reduced from 6\n",
    "    dim_feedforward=256,  # Reduced from 2048\n",
    "    dropout=0.1,\n",
    "    num_classes=None\n",
    ")\n",
    "print(model)"
   ]
  },
  {
   "cell_type": "code",
   "execution_count": 22,
   "metadata": {},
   "outputs": [
    {
     "name": "stdout",
     "output_type": "stream",
     "text": [
      "Saving checkpoints to ./model_checkpoints/checkpoint_7\n"
     ]
    },
    {
     "data": {
      "application/vnd.jupyter.widget-view+json": {
       "model_id": "7d0f851038a1460c81ce5ca94fe52d6d",
       "version_major": 2,
       "version_minor": 0
      },
      "text/plain": [
       "Epoch 1/50 [Train]:   0%|          | 0/157 [00:00<?, ?it/s]"
      ]
     },
     "metadata": {},
     "output_type": "display_data"
    },
    {
     "data": {
      "application/vnd.jupyter.widget-view+json": {
       "model_id": "bdf169afb6124dc880da3af09e3c7a0d",
       "version_major": 2,
       "version_minor": 0
      },
      "text/plain": [
       "Epoch 1/50 [Test]:   0%|          | 0/157 [00:00<?, ?it/s]"
      ]
     },
     "metadata": {},
     "output_type": "display_data"
    },
    {
     "data": {
      "application/vnd.jupyter.widget-view+json": {
       "model_id": "f0336a936cd0485195349c7df8c25b00",
       "version_major": 2,
       "version_minor": 0
      },
      "text/plain": [
       "Epoch 2/50 [Train]:   0%|          | 0/157 [00:00<?, ?it/s]"
      ]
     },
     "metadata": {},
     "output_type": "display_data"
    },
    {
     "data": {
      "application/vnd.jupyter.widget-view+json": {
       "model_id": "ef06e0aad1c84ac49ba43a4985822e7c",
       "version_major": 2,
       "version_minor": 0
      },
      "text/plain": [
       "Epoch 2/50 [Test]:   0%|          | 0/157 [00:00<?, ?it/s]"
      ]
     },
     "metadata": {},
     "output_type": "display_data"
    },
    {
     "data": {
      "application/vnd.jupyter.widget-view+json": {
       "model_id": "51fd679dbe7444fda8fed376fa581df8",
       "version_major": 2,
       "version_minor": 0
      },
      "text/plain": [
       "Epoch 3/50 [Train]:   0%|          | 0/157 [00:00<?, ?it/s]"
      ]
     },
     "metadata": {},
     "output_type": "display_data"
    },
    {
     "data": {
      "application/vnd.jupyter.widget-view+json": {
       "model_id": "a7c88117c5ff4131b92cecb6b8b885e3",
       "version_major": 2,
       "version_minor": 0
      },
      "text/plain": [
       "Epoch 3/50 [Test]:   0%|          | 0/157 [00:00<?, ?it/s]"
      ]
     },
     "metadata": {},
     "output_type": "display_data"
    },
    {
     "data": {
      "application/vnd.jupyter.widget-view+json": {
       "model_id": "33e7a2c9a2ea48e1995bdaf6e5ebff2c",
       "version_major": 2,
       "version_minor": 0
      },
      "text/plain": [
       "Epoch 4/50 [Train]:   0%|          | 0/157 [00:00<?, ?it/s]"
      ]
     },
     "metadata": {},
     "output_type": "display_data"
    },
    {
     "data": {
      "application/vnd.jupyter.widget-view+json": {
       "model_id": "3ba187857b6e4ebfa80e1290dbf742e6",
       "version_major": 2,
       "version_minor": 0
      },
      "text/plain": [
       "Epoch 4/50 [Test]:   0%|          | 0/157 [00:00<?, ?it/s]"
      ]
     },
     "metadata": {},
     "output_type": "display_data"
    },
    {
     "data": {
      "application/vnd.jupyter.widget-view+json": {
       "model_id": "c1f551bd34ff4749b8a020ada7609d49",
       "version_major": 2,
       "version_minor": 0
      },
      "text/plain": [
       "Epoch 5/50 [Train]:   0%|          | 0/157 [00:00<?, ?it/s]"
      ]
     },
     "metadata": {},
     "output_type": "display_data"
    },
    {
     "data": {
      "application/vnd.jupyter.widget-view+json": {
       "model_id": "5f6d4a9ffd3f498489c000768e9402e3",
       "version_major": 2,
       "version_minor": 0
      },
      "text/plain": [
       "Epoch 5/50 [Test]:   0%|          | 0/157 [00:00<?, ?it/s]"
      ]
     },
     "metadata": {},
     "output_type": "display_data"
    },
    {
     "data": {
      "application/vnd.jupyter.widget-view+json": {
       "model_id": "634458b9e51344ed9a532a281b796854",
       "version_major": 2,
       "version_minor": 0
      },
      "text/plain": [
       "Epoch 6/50 [Train]:   0%|          | 0/157 [00:00<?, ?it/s]"
      ]
     },
     "metadata": {},
     "output_type": "display_data"
    },
    {
     "data": {
      "application/vnd.jupyter.widget-view+json": {
       "model_id": "2034cc4987744f91b73623bb25cbcad0",
       "version_major": 2,
       "version_minor": 0
      },
      "text/plain": [
       "Epoch 6/50 [Test]:   0%|          | 0/157 [00:00<?, ?it/s]"
      ]
     },
     "metadata": {},
     "output_type": "display_data"
    },
    {
     "data": {
      "application/vnd.jupyter.widget-view+json": {
       "model_id": "81397927990c47b3a4d03224d08eede7",
       "version_major": 2,
       "version_minor": 0
      },
      "text/plain": [
       "Epoch 7/50 [Train]:   0%|          | 0/157 [00:00<?, ?it/s]"
      ]
     },
     "metadata": {},
     "output_type": "display_data"
    },
    {
     "data": {
      "application/vnd.jupyter.widget-view+json": {
       "model_id": "3bd926b2d50c435da41d93550e29ffd7",
       "version_major": 2,
       "version_minor": 0
      },
      "text/plain": [
       "Epoch 7/50 [Test]:   0%|          | 0/157 [00:00<?, ?it/s]"
      ]
     },
     "metadata": {},
     "output_type": "display_data"
    },
    {
     "data": {
      "application/vnd.jupyter.widget-view+json": {
       "model_id": "7a84c6950fa74f9c9c7bbdf6c2a434e7",
       "version_major": 2,
       "version_minor": 0
      },
      "text/plain": [
       "Epoch 8/50 [Train]:   0%|          | 0/157 [00:00<?, ?it/s]"
      ]
     },
     "metadata": {},
     "output_type": "display_data"
    },
    {
     "data": {
      "application/vnd.jupyter.widget-view+json": {
       "model_id": "edc44f529b424133925c9ea8a1a91018",
       "version_major": 2,
       "version_minor": 0
      },
      "text/plain": [
       "Epoch 8/50 [Test]:   0%|          | 0/157 [00:00<?, ?it/s]"
      ]
     },
     "metadata": {},
     "output_type": "display_data"
    },
    {
     "data": {
      "application/vnd.jupyter.widget-view+json": {
       "model_id": "3ff612a9557e4789b22061098f2a6618",
       "version_major": 2,
       "version_minor": 0
      },
      "text/plain": [
       "Epoch 9/50 [Train]:   0%|          | 0/157 [00:00<?, ?it/s]"
      ]
     },
     "metadata": {},
     "output_type": "display_data"
    },
    {
     "data": {
      "application/vnd.jupyter.widget-view+json": {
       "model_id": "a5ed3f1956234ca38587faf5f78d5c61",
       "version_major": 2,
       "version_minor": 0
      },
      "text/plain": [
       "Epoch 9/50 [Test]:   0%|          | 0/157 [00:00<?, ?it/s]"
      ]
     },
     "metadata": {},
     "output_type": "display_data"
    },
    {
     "data": {
      "application/vnd.jupyter.widget-view+json": {
       "model_id": "b3906936de3d4519aad377f9890eeb46",
       "version_major": 2,
       "version_minor": 0
      },
      "text/plain": [
       "Epoch 10/50 [Train]:   0%|          | 0/157 [00:00<?, ?it/s]"
      ]
     },
     "metadata": {},
     "output_type": "display_data"
    },
    {
     "data": {
      "application/vnd.jupyter.widget-view+json": {
       "model_id": "4815d9d0ddfe415fa9bee472782577cd",
       "version_major": 2,
       "version_minor": 0
      },
      "text/plain": [
       "Epoch 10/50 [Test]:   0%|          | 0/157 [00:00<?, ?it/s]"
      ]
     },
     "metadata": {},
     "output_type": "display_data"
    },
    {
     "data": {
      "application/vnd.jupyter.widget-view+json": {
       "model_id": "0c11c8f415264a17ad1c2a859241c01d",
       "version_major": 2,
       "version_minor": 0
      },
      "text/plain": [
       "Epoch 11/50 [Train]:   0%|          | 0/157 [00:00<?, ?it/s]"
      ]
     },
     "metadata": {},
     "output_type": "display_data"
    },
    {
     "data": {
      "application/vnd.jupyter.widget-view+json": {
       "model_id": "54dc29ffc00443e3a3ccd31d30222d05",
       "version_major": 2,
       "version_minor": 0
      },
      "text/plain": [
       "Epoch 11/50 [Test]:   0%|          | 0/157 [00:00<?, ?it/s]"
      ]
     },
     "metadata": {},
     "output_type": "display_data"
    },
    {
     "data": {
      "application/vnd.jupyter.widget-view+json": {
       "model_id": "c9fdca4b0b0b4003a1dde4845a2baa82",
       "version_major": 2,
       "version_minor": 0
      },
      "text/plain": [
       "Epoch 12/50 [Train]:   0%|          | 0/157 [00:00<?, ?it/s]"
      ]
     },
     "metadata": {},
     "output_type": "display_data"
    },
    {
     "data": {
      "application/vnd.jupyter.widget-view+json": {
       "model_id": "3c56824075cf42408bf57b88433dfcac",
       "version_major": 2,
       "version_minor": 0
      },
      "text/plain": [
       "Epoch 12/50 [Test]:   0%|          | 0/157 [00:00<?, ?it/s]"
      ]
     },
     "metadata": {},
     "output_type": "display_data"
    },
    {
     "data": {
      "application/vnd.jupyter.widget-view+json": {
       "model_id": "4516187ffae84c4f8f1fb41962314be8",
       "version_major": 2,
       "version_minor": 0
      },
      "text/plain": [
       "Epoch 13/50 [Train]:   0%|          | 0/157 [00:00<?, ?it/s]"
      ]
     },
     "metadata": {},
     "output_type": "display_data"
    },
    {
     "data": {
      "application/vnd.jupyter.widget-view+json": {
       "model_id": "de43a691797a49018068eaa5908fe08b",
       "version_major": 2,
       "version_minor": 0
      },
      "text/plain": [
       "Epoch 13/50 [Test]:   0%|          | 0/157 [00:00<?, ?it/s]"
      ]
     },
     "metadata": {},
     "output_type": "display_data"
    },
    {
     "data": {
      "application/vnd.jupyter.widget-view+json": {
       "model_id": "40905a4e562c4a6c84e9fd9c33ab9713",
       "version_major": 2,
       "version_minor": 0
      },
      "text/plain": [
       "Epoch 14/50 [Train]:   0%|          | 0/157 [00:00<?, ?it/s]"
      ]
     },
     "metadata": {},
     "output_type": "display_data"
    },
    {
     "data": {
      "application/vnd.jupyter.widget-view+json": {
       "model_id": "847bbf31ab8f4fdd83ce7fd1ecb2486a",
       "version_major": 2,
       "version_minor": 0
      },
      "text/plain": [
       "Epoch 14/50 [Test]:   0%|          | 0/157 [00:00<?, ?it/s]"
      ]
     },
     "metadata": {},
     "output_type": "display_data"
    },
    {
     "data": {
      "application/vnd.jupyter.widget-view+json": {
       "model_id": "d025e64355bf4c0ca0122a1f15471b69",
       "version_major": 2,
       "version_minor": 0
      },
      "text/plain": [
       "Epoch 15/50 [Train]:   0%|          | 0/157 [00:00<?, ?it/s]"
      ]
     },
     "metadata": {},
     "output_type": "display_data"
    },
    {
     "data": {
      "application/vnd.jupyter.widget-view+json": {
       "model_id": "f06234977afd4a7695bcaa81c2fe99d2",
       "version_major": 2,
       "version_minor": 0
      },
      "text/plain": [
       "Epoch 15/50 [Test]:   0%|          | 0/157 [00:00<?, ?it/s]"
      ]
     },
     "metadata": {},
     "output_type": "display_data"
    },
    {
     "data": {
      "application/vnd.jupyter.widget-view+json": {
       "model_id": "c60475185e2847aca28fef32d32613ed",
       "version_major": 2,
       "version_minor": 0
      },
      "text/plain": [
       "Epoch 16/50 [Train]:   0%|          | 0/157 [00:00<?, ?it/s]"
      ]
     },
     "metadata": {},
     "output_type": "display_data"
    },
    {
     "data": {
      "application/vnd.jupyter.widget-view+json": {
       "model_id": "fab73961e71b45d1971dc14fad0bdc7e",
       "version_major": 2,
       "version_minor": 0
      },
      "text/plain": [
       "Epoch 16/50 [Test]:   0%|          | 0/157 [00:00<?, ?it/s]"
      ]
     },
     "metadata": {},
     "output_type": "display_data"
    },
    {
     "data": {
      "application/vnd.jupyter.widget-view+json": {
       "model_id": "0eb2d0c51de74b408b27db7d032ed2eb",
       "version_major": 2,
       "version_minor": 0
      },
      "text/plain": [
       "Epoch 17/50 [Train]:   0%|          | 0/157 [00:00<?, ?it/s]"
      ]
     },
     "metadata": {},
     "output_type": "display_data"
    },
    {
     "data": {
      "application/vnd.jupyter.widget-view+json": {
       "model_id": "9261e6144dae4a2189ef397f34b91771",
       "version_major": 2,
       "version_minor": 0
      },
      "text/plain": [
       "Epoch 17/50 [Test]:   0%|          | 0/157 [00:00<?, ?it/s]"
      ]
     },
     "metadata": {},
     "output_type": "display_data"
    },
    {
     "data": {
      "application/vnd.jupyter.widget-view+json": {
       "model_id": "e6d37f00fe484447b16444c0a8987bfa",
       "version_major": 2,
       "version_minor": 0
      },
      "text/plain": [
       "Epoch 18/50 [Train]:   0%|          | 0/157 [00:00<?, ?it/s]"
      ]
     },
     "metadata": {},
     "output_type": "display_data"
    },
    {
     "data": {
      "application/vnd.jupyter.widget-view+json": {
       "model_id": "fcae3ff242344c0c9778f204f135d591",
       "version_major": 2,
       "version_minor": 0
      },
      "text/plain": [
       "Epoch 18/50 [Test]:   0%|          | 0/157 [00:00<?, ?it/s]"
      ]
     },
     "metadata": {},
     "output_type": "display_data"
    },
    {
     "data": {
      "application/vnd.jupyter.widget-view+json": {
       "model_id": "ba95b9fa6168492292cba5af6cb5da45",
       "version_major": 2,
       "version_minor": 0
      },
      "text/plain": [
       "Epoch 19/50 [Train]:   0%|          | 0/157 [00:00<?, ?it/s]"
      ]
     },
     "metadata": {},
     "output_type": "display_data"
    },
    {
     "data": {
      "application/vnd.jupyter.widget-view+json": {
       "model_id": "e48bc0253569434884505e6103a39655",
       "version_major": 2,
       "version_minor": 0
      },
      "text/plain": [
       "Epoch 19/50 [Test]:   0%|          | 0/157 [00:00<?, ?it/s]"
      ]
     },
     "metadata": {},
     "output_type": "display_data"
    },
    {
     "data": {
      "application/vnd.jupyter.widget-view+json": {
       "model_id": "d4ac806d7a004584bdfe3c4892667fc3",
       "version_major": 2,
       "version_minor": 0
      },
      "text/plain": [
       "Epoch 20/50 [Train]:   0%|          | 0/157 [00:00<?, ?it/s]"
      ]
     },
     "metadata": {},
     "output_type": "display_data"
    },
    {
     "data": {
      "application/vnd.jupyter.widget-view+json": {
       "model_id": "16d4ba1fc00a4b609569030b7a880aec",
       "version_major": 2,
       "version_minor": 0
      },
      "text/plain": [
       "Epoch 20/50 [Test]:   0%|          | 0/157 [00:00<?, ?it/s]"
      ]
     },
     "metadata": {},
     "output_type": "display_data"
    },
    {
     "data": {
      "application/vnd.jupyter.widget-view+json": {
       "model_id": "c6202591e7f24805aca7d9b4ad195268",
       "version_major": 2,
       "version_minor": 0
      },
      "text/plain": [
       "Epoch 21/50 [Train]:   0%|          | 0/157 [00:00<?, ?it/s]"
      ]
     },
     "metadata": {},
     "output_type": "display_data"
    },
    {
     "data": {
      "application/vnd.jupyter.widget-view+json": {
       "model_id": "0f4223f305114140947b684fa9d548bb",
       "version_major": 2,
       "version_minor": 0
      },
      "text/plain": [
       "Epoch 21/50 [Test]:   0%|          | 0/157 [00:00<?, ?it/s]"
      ]
     },
     "metadata": {},
     "output_type": "display_data"
    },
    {
     "data": {
      "application/vnd.jupyter.widget-view+json": {
       "model_id": "9d6b132b2eed41b2967b737a17ed1889",
       "version_major": 2,
       "version_minor": 0
      },
      "text/plain": [
       "Epoch 22/50 [Train]:   0%|          | 0/157 [00:00<?, ?it/s]"
      ]
     },
     "metadata": {},
     "output_type": "display_data"
    },
    {
     "data": {
      "application/vnd.jupyter.widget-view+json": {
       "model_id": "3761807f651445faab401b766ce4c142",
       "version_major": 2,
       "version_minor": 0
      },
      "text/plain": [
       "Epoch 22/50 [Test]:   0%|          | 0/157 [00:00<?, ?it/s]"
      ]
     },
     "metadata": {},
     "output_type": "display_data"
    },
    {
     "data": {
      "application/vnd.jupyter.widget-view+json": {
       "model_id": "aa3d96b5aae94c97b688494f4c4a8f6a",
       "version_major": 2,
       "version_minor": 0
      },
      "text/plain": [
       "Epoch 23/50 [Train]:   0%|          | 0/157 [00:00<?, ?it/s]"
      ]
     },
     "metadata": {},
     "output_type": "display_data"
    },
    {
     "data": {
      "application/vnd.jupyter.widget-view+json": {
       "model_id": "ac50b8397e4b467f9f4d11f53817c4d3",
       "version_major": 2,
       "version_minor": 0
      },
      "text/plain": [
       "Epoch 23/50 [Test]:   0%|          | 0/157 [00:00<?, ?it/s]"
      ]
     },
     "metadata": {},
     "output_type": "display_data"
    },
    {
     "data": {
      "application/vnd.jupyter.widget-view+json": {
       "model_id": "5499591f5e7b46f8a199d15aa70fcf15",
       "version_major": 2,
       "version_minor": 0
      },
      "text/plain": [
       "Epoch 24/50 [Train]:   0%|          | 0/157 [00:00<?, ?it/s]"
      ]
     },
     "metadata": {},
     "output_type": "display_data"
    },
    {
     "data": {
      "application/vnd.jupyter.widget-view+json": {
       "model_id": "a82d002bdd3145e4a7f3759c2cadb600",
       "version_major": 2,
       "version_minor": 0
      },
      "text/plain": [
       "Epoch 24/50 [Test]:   0%|          | 0/157 [00:00<?, ?it/s]"
      ]
     },
     "metadata": {},
     "output_type": "display_data"
    },
    {
     "data": {
      "application/vnd.jupyter.widget-view+json": {
       "model_id": "5904a7ec76c240da816e3a9bb3710469",
       "version_major": 2,
       "version_minor": 0
      },
      "text/plain": [
       "Epoch 25/50 [Train]:   0%|          | 0/157 [00:00<?, ?it/s]"
      ]
     },
     "metadata": {},
     "output_type": "display_data"
    },
    {
     "data": {
      "application/vnd.jupyter.widget-view+json": {
       "model_id": "a0f3cc73aee7425499228664c73b72ee",
       "version_major": 2,
       "version_minor": 0
      },
      "text/plain": [
       "Epoch 25/50 [Test]:   0%|          | 0/157 [00:00<?, ?it/s]"
      ]
     },
     "metadata": {},
     "output_type": "display_data"
    },
    {
     "data": {
      "application/vnd.jupyter.widget-view+json": {
       "model_id": "dd0dbafd66c944cfa31e18783d1b580d",
       "version_major": 2,
       "version_minor": 0
      },
      "text/plain": [
       "Epoch 26/50 [Train]:   0%|          | 0/157 [00:00<?, ?it/s]"
      ]
     },
     "metadata": {},
     "output_type": "display_data"
    },
    {
     "data": {
      "application/vnd.jupyter.widget-view+json": {
       "model_id": "8e96c7624b2344b295dc55cb11fcb4cf",
       "version_major": 2,
       "version_minor": 0
      },
      "text/plain": [
       "Epoch 26/50 [Test]:   0%|          | 0/157 [00:00<?, ?it/s]"
      ]
     },
     "metadata": {},
     "output_type": "display_data"
    },
    {
     "data": {
      "application/vnd.jupyter.widget-view+json": {
       "model_id": "bf5d7d45eccf49829672a75711aa692c",
       "version_major": 2,
       "version_minor": 0
      },
      "text/plain": [
       "Epoch 27/50 [Train]:   0%|          | 0/157 [00:00<?, ?it/s]"
      ]
     },
     "metadata": {},
     "output_type": "display_data"
    },
    {
     "data": {
      "application/vnd.jupyter.widget-view+json": {
       "model_id": "a2edbdb5eea24422a297e7cf85c3af44",
       "version_major": 2,
       "version_minor": 0
      },
      "text/plain": [
       "Epoch 27/50 [Test]:   0%|          | 0/157 [00:00<?, ?it/s]"
      ]
     },
     "metadata": {},
     "output_type": "display_data"
    },
    {
     "data": {
      "application/vnd.jupyter.widget-view+json": {
       "model_id": "9b65c2b9ace947e5a23e525ef5823567",
       "version_major": 2,
       "version_minor": 0
      },
      "text/plain": [
       "Epoch 28/50 [Train]:   0%|          | 0/157 [00:00<?, ?it/s]"
      ]
     },
     "metadata": {},
     "output_type": "display_data"
    },
    {
     "data": {
      "application/vnd.jupyter.widget-view+json": {
       "model_id": "740a5908020a4b9db49db1dfc5a45c1b",
       "version_major": 2,
       "version_minor": 0
      },
      "text/plain": [
       "Epoch 28/50 [Test]:   0%|          | 0/157 [00:00<?, ?it/s]"
      ]
     },
     "metadata": {},
     "output_type": "display_data"
    },
    {
     "data": {
      "application/vnd.jupyter.widget-view+json": {
       "model_id": "34459d4d696b4becb39f59c070d07357",
       "version_major": 2,
       "version_minor": 0
      },
      "text/plain": [
       "Epoch 29/50 [Train]:   0%|          | 0/157 [00:00<?, ?it/s]"
      ]
     },
     "metadata": {},
     "output_type": "display_data"
    },
    {
     "data": {
      "application/vnd.jupyter.widget-view+json": {
       "model_id": "708231855eec41198411ebebe516fa33",
       "version_major": 2,
       "version_minor": 0
      },
      "text/plain": [
       "Epoch 29/50 [Test]:   0%|          | 0/157 [00:00<?, ?it/s]"
      ]
     },
     "metadata": {},
     "output_type": "display_data"
    },
    {
     "data": {
      "application/vnd.jupyter.widget-view+json": {
       "model_id": "fd029afd659e4d1bbfe193567fe4dc76",
       "version_major": 2,
       "version_minor": 0
      },
      "text/plain": [
       "Epoch 30/50 [Train]:   0%|          | 0/157 [00:00<?, ?it/s]"
      ]
     },
     "metadata": {},
     "output_type": "display_data"
    },
    {
     "data": {
      "application/vnd.jupyter.widget-view+json": {
       "model_id": "7e21daba6a9b4982be08751eee7580f3",
       "version_major": 2,
       "version_minor": 0
      },
      "text/plain": [
       "Epoch 30/50 [Test]:   0%|          | 0/157 [00:00<?, ?it/s]"
      ]
     },
     "metadata": {},
     "output_type": "display_data"
    },
    {
     "data": {
      "application/vnd.jupyter.widget-view+json": {
       "model_id": "b2cbcffe8bf146b793ba55191da5f79b",
       "version_major": 2,
       "version_minor": 0
      },
      "text/plain": [
       "Epoch 31/50 [Train]:   0%|          | 0/157 [00:00<?, ?it/s]"
      ]
     },
     "metadata": {},
     "output_type": "display_data"
    },
    {
     "data": {
      "application/vnd.jupyter.widget-view+json": {
       "model_id": "f6340a3ee18749499a915d3cfac09f6e",
       "version_major": 2,
       "version_minor": 0
      },
      "text/plain": [
       "Epoch 31/50 [Test]:   0%|          | 0/157 [00:00<?, ?it/s]"
      ]
     },
     "metadata": {},
     "output_type": "display_data"
    },
    {
     "data": {
      "application/vnd.jupyter.widget-view+json": {
       "model_id": "7ec5cb5325654bd78e7c0d9e30dfc866",
       "version_major": 2,
       "version_minor": 0
      },
      "text/plain": [
       "Epoch 32/50 [Train]:   0%|          | 0/157 [00:00<?, ?it/s]"
      ]
     },
     "metadata": {},
     "output_type": "display_data"
    },
    {
     "data": {
      "application/vnd.jupyter.widget-view+json": {
       "model_id": "0025968c8b4547c9a7fc6a028959f689",
       "version_major": 2,
       "version_minor": 0
      },
      "text/plain": [
       "Epoch 32/50 [Test]:   0%|          | 0/157 [00:00<?, ?it/s]"
      ]
     },
     "metadata": {},
     "output_type": "display_data"
    },
    {
     "data": {
      "application/vnd.jupyter.widget-view+json": {
       "model_id": "d9f0f262b7c2454dada616b654958235",
       "version_major": 2,
       "version_minor": 0
      },
      "text/plain": [
       "Epoch 33/50 [Train]:   0%|          | 0/157 [00:00<?, ?it/s]"
      ]
     },
     "metadata": {},
     "output_type": "display_data"
    },
    {
     "data": {
      "application/vnd.jupyter.widget-view+json": {
       "model_id": "11451e65a91f4734b0967ad6561565f6",
       "version_major": 2,
       "version_minor": 0
      },
      "text/plain": [
       "Epoch 33/50 [Test]:   0%|          | 0/157 [00:00<?, ?it/s]"
      ]
     },
     "metadata": {},
     "output_type": "display_data"
    },
    {
     "data": {
      "application/vnd.jupyter.widget-view+json": {
       "model_id": "6cd3e5567ece4f828dcf74ca8a85a41b",
       "version_major": 2,
       "version_minor": 0
      },
      "text/plain": [
       "Epoch 34/50 [Train]:   0%|          | 0/157 [00:00<?, ?it/s]"
      ]
     },
     "metadata": {},
     "output_type": "display_data"
    },
    {
     "data": {
      "application/vnd.jupyter.widget-view+json": {
       "model_id": "81a7a9fab07c4255a58456bf227cd98e",
       "version_major": 2,
       "version_minor": 0
      },
      "text/plain": [
       "Epoch 34/50 [Test]:   0%|          | 0/157 [00:00<?, ?it/s]"
      ]
     },
     "metadata": {},
     "output_type": "display_data"
    },
    {
     "data": {
      "application/vnd.jupyter.widget-view+json": {
       "model_id": "e817694c05b4404eb0cc0870c331d075",
       "version_major": 2,
       "version_minor": 0
      },
      "text/plain": [
       "Epoch 35/50 [Train]:   0%|          | 0/157 [00:00<?, ?it/s]"
      ]
     },
     "metadata": {},
     "output_type": "display_data"
    },
    {
     "data": {
      "application/vnd.jupyter.widget-view+json": {
       "model_id": "06c426a2bc24444ca04c53aa71ad2cd0",
       "version_major": 2,
       "version_minor": 0
      },
      "text/plain": [
       "Epoch 35/50 [Test]:   0%|          | 0/157 [00:00<?, ?it/s]"
      ]
     },
     "metadata": {},
     "output_type": "display_data"
    },
    {
     "data": {
      "application/vnd.jupyter.widget-view+json": {
       "model_id": "c65368df9aa9485a9f3f03ecc28c654e",
       "version_major": 2,
       "version_minor": 0
      },
      "text/plain": [
       "Epoch 36/50 [Train]:   0%|          | 0/157 [00:00<?, ?it/s]"
      ]
     },
     "metadata": {},
     "output_type": "display_data"
    },
    {
     "data": {
      "application/vnd.jupyter.widget-view+json": {
       "model_id": "c0135e6b334c4275b7d9df3cec67a1b7",
       "version_major": 2,
       "version_minor": 0
      },
      "text/plain": [
       "Epoch 36/50 [Test]:   0%|          | 0/157 [00:00<?, ?it/s]"
      ]
     },
     "metadata": {},
     "output_type": "display_data"
    },
    {
     "data": {
      "application/vnd.jupyter.widget-view+json": {
       "model_id": "2e1f41add121425f9c6a9529ba385308",
       "version_major": 2,
       "version_minor": 0
      },
      "text/plain": [
       "Epoch 37/50 [Train]:   0%|          | 0/157 [00:00<?, ?it/s]"
      ]
     },
     "metadata": {},
     "output_type": "display_data"
    },
    {
     "data": {
      "application/vnd.jupyter.widget-view+json": {
       "model_id": "5a766c895a0d4bd0a7cbd3b3ed05c88c",
       "version_major": 2,
       "version_minor": 0
      },
      "text/plain": [
       "Epoch 37/50 [Test]:   0%|          | 0/157 [00:00<?, ?it/s]"
      ]
     },
     "metadata": {},
     "output_type": "display_data"
    },
    {
     "data": {
      "application/vnd.jupyter.widget-view+json": {
       "model_id": "06ece79767144485a5c3b51b95449cc9",
       "version_major": 2,
       "version_minor": 0
      },
      "text/plain": [
       "Epoch 38/50 [Train]:   0%|          | 0/157 [00:00<?, ?it/s]"
      ]
     },
     "metadata": {},
     "output_type": "display_data"
    },
    {
     "data": {
      "application/vnd.jupyter.widget-view+json": {
       "model_id": "5680531765fe4521aacca9eb366de257",
       "version_major": 2,
       "version_minor": 0
      },
      "text/plain": [
       "Epoch 38/50 [Test]:   0%|          | 0/157 [00:00<?, ?it/s]"
      ]
     },
     "metadata": {},
     "output_type": "display_data"
    },
    {
     "data": {
      "application/vnd.jupyter.widget-view+json": {
       "model_id": "4e3adc4b05814f98ab76547ce9d48361",
       "version_major": 2,
       "version_minor": 0
      },
      "text/plain": [
       "Epoch 39/50 [Train]:   0%|          | 0/157 [00:00<?, ?it/s]"
      ]
     },
     "metadata": {},
     "output_type": "display_data"
    },
    {
     "data": {
      "application/vnd.jupyter.widget-view+json": {
       "model_id": "c70491ae038741feb90bdfc5b7c31ce2",
       "version_major": 2,
       "version_minor": 0
      },
      "text/plain": [
       "Epoch 39/50 [Test]:   0%|          | 0/157 [00:00<?, ?it/s]"
      ]
     },
     "metadata": {},
     "output_type": "display_data"
    },
    {
     "data": {
      "application/vnd.jupyter.widget-view+json": {
       "model_id": "4d022aceb17e48e7a7dced7c4d7bb7d6",
       "version_major": 2,
       "version_minor": 0
      },
      "text/plain": [
       "Epoch 40/50 [Train]:   0%|          | 0/157 [00:00<?, ?it/s]"
      ]
     },
     "metadata": {},
     "output_type": "display_data"
    },
    {
     "data": {
      "application/vnd.jupyter.widget-view+json": {
       "model_id": "da489d216d764e8fa2435a8a8fd0bff7",
       "version_major": 2,
       "version_minor": 0
      },
      "text/plain": [
       "Epoch 40/50 [Test]:   0%|          | 0/157 [00:00<?, ?it/s]"
      ]
     },
     "metadata": {},
     "output_type": "display_data"
    },
    {
     "data": {
      "application/vnd.jupyter.widget-view+json": {
       "model_id": "81eaaf0d4eb147e795c5c23d490f550b",
       "version_major": 2,
       "version_minor": 0
      },
      "text/plain": [
       "Epoch 41/50 [Train]:   0%|          | 0/157 [00:00<?, ?it/s]"
      ]
     },
     "metadata": {},
     "output_type": "display_data"
    },
    {
     "data": {
      "application/vnd.jupyter.widget-view+json": {
       "model_id": "d145a12b17b540319f6e956dff6e3e43",
       "version_major": 2,
       "version_minor": 0
      },
      "text/plain": [
       "Epoch 41/50 [Test]:   0%|          | 0/157 [00:00<?, ?it/s]"
      ]
     },
     "metadata": {},
     "output_type": "display_data"
    },
    {
     "data": {
      "application/vnd.jupyter.widget-view+json": {
       "model_id": "ee7d6efefc20424da45c38b3d2ba9571",
       "version_major": 2,
       "version_minor": 0
      },
      "text/plain": [
       "Epoch 42/50 [Train]:   0%|          | 0/157 [00:00<?, ?it/s]"
      ]
     },
     "metadata": {},
     "output_type": "display_data"
    },
    {
     "data": {
      "application/vnd.jupyter.widget-view+json": {
       "model_id": "4b628dd677924ca2a2f15b8106eb6a44",
       "version_major": 2,
       "version_minor": 0
      },
      "text/plain": [
       "Epoch 42/50 [Test]:   0%|          | 0/157 [00:00<?, ?it/s]"
      ]
     },
     "metadata": {},
     "output_type": "display_data"
    },
    {
     "data": {
      "application/vnd.jupyter.widget-view+json": {
       "model_id": "8006468b32a649ceac146541ea92310b",
       "version_major": 2,
       "version_minor": 0
      },
      "text/plain": [
       "Epoch 43/50 [Train]:   0%|          | 0/157 [00:00<?, ?it/s]"
      ]
     },
     "metadata": {},
     "output_type": "display_data"
    },
    {
     "data": {
      "application/vnd.jupyter.widget-view+json": {
       "model_id": "d89bf91a79084c55865b82f1df9990db",
       "version_major": 2,
       "version_minor": 0
      },
      "text/plain": [
       "Epoch 43/50 [Test]:   0%|          | 0/157 [00:00<?, ?it/s]"
      ]
     },
     "metadata": {},
     "output_type": "display_data"
    },
    {
     "data": {
      "application/vnd.jupyter.widget-view+json": {
       "model_id": "12a867728bcd4a1da21e8a36140488d5",
       "version_major": 2,
       "version_minor": 0
      },
      "text/plain": [
       "Epoch 44/50 [Train]:   0%|          | 0/157 [00:00<?, ?it/s]"
      ]
     },
     "metadata": {},
     "output_type": "display_data"
    },
    {
     "data": {
      "application/vnd.jupyter.widget-view+json": {
       "model_id": "d8d716a2e46e45e6b7f8cbd0f7874398",
       "version_major": 2,
       "version_minor": 0
      },
      "text/plain": [
       "Epoch 44/50 [Test]:   0%|          | 0/157 [00:00<?, ?it/s]"
      ]
     },
     "metadata": {},
     "output_type": "display_data"
    },
    {
     "data": {
      "application/vnd.jupyter.widget-view+json": {
       "model_id": "23caf813abe342f4adc7ed9e3f8b513e",
       "version_major": 2,
       "version_minor": 0
      },
      "text/plain": [
       "Epoch 45/50 [Train]:   0%|          | 0/157 [00:00<?, ?it/s]"
      ]
     },
     "metadata": {},
     "output_type": "display_data"
    },
    {
     "data": {
      "application/vnd.jupyter.widget-view+json": {
       "model_id": "2f711ca5a5d341088ecefd0892aff1eb",
       "version_major": 2,
       "version_minor": 0
      },
      "text/plain": [
       "Epoch 45/50 [Test]:   0%|          | 0/157 [00:00<?, ?it/s]"
      ]
     },
     "metadata": {},
     "output_type": "display_data"
    },
    {
     "data": {
      "application/vnd.jupyter.widget-view+json": {
       "model_id": "0e6af7801c5a4a178b712893c73cee7f",
       "version_major": 2,
       "version_minor": 0
      },
      "text/plain": [
       "Epoch 46/50 [Train]:   0%|          | 0/157 [00:00<?, ?it/s]"
      ]
     },
     "metadata": {},
     "output_type": "display_data"
    },
    {
     "data": {
      "application/vnd.jupyter.widget-view+json": {
       "model_id": "c8edc4f230b5426989285149cab98cb2",
       "version_major": 2,
       "version_minor": 0
      },
      "text/plain": [
       "Epoch 46/50 [Test]:   0%|          | 0/157 [00:00<?, ?it/s]"
      ]
     },
     "metadata": {},
     "output_type": "display_data"
    },
    {
     "data": {
      "application/vnd.jupyter.widget-view+json": {
       "model_id": "7eec7f0bb77640c39d33ce8121531e99",
       "version_major": 2,
       "version_minor": 0
      },
      "text/plain": [
       "Epoch 47/50 [Train]:   0%|          | 0/157 [00:00<?, ?it/s]"
      ]
     },
     "metadata": {},
     "output_type": "display_data"
    },
    {
     "data": {
      "application/vnd.jupyter.widget-view+json": {
       "model_id": "f64974c2bcce49cf94977b49ea42996b",
       "version_major": 2,
       "version_minor": 0
      },
      "text/plain": [
       "Epoch 47/50 [Test]:   0%|          | 0/157 [00:00<?, ?it/s]"
      ]
     },
     "metadata": {},
     "output_type": "display_data"
    },
    {
     "data": {
      "application/vnd.jupyter.widget-view+json": {
       "model_id": "574839cf721c475d8784b3a76bf4768c",
       "version_major": 2,
       "version_minor": 0
      },
      "text/plain": [
       "Epoch 48/50 [Train]:   0%|          | 0/157 [00:00<?, ?it/s]"
      ]
     },
     "metadata": {},
     "output_type": "display_data"
    },
    {
     "data": {
      "application/vnd.jupyter.widget-view+json": {
       "model_id": "68057807c11d4ffcaf0f291b73b16a6c",
       "version_major": 2,
       "version_minor": 0
      },
      "text/plain": [
       "Epoch 48/50 [Test]:   0%|          | 0/157 [00:00<?, ?it/s]"
      ]
     },
     "metadata": {},
     "output_type": "display_data"
    },
    {
     "data": {
      "application/vnd.jupyter.widget-view+json": {
       "model_id": "fffcd908c7c445dfb57aa6826fe5649f",
       "version_major": 2,
       "version_minor": 0
      },
      "text/plain": [
       "Epoch 49/50 [Train]:   0%|          | 0/157 [00:00<?, ?it/s]"
      ]
     },
     "metadata": {},
     "output_type": "display_data"
    },
    {
     "data": {
      "application/vnd.jupyter.widget-view+json": {
       "model_id": "dfae52caab964a68ad2ba9ca772c4713",
       "version_major": 2,
       "version_minor": 0
      },
      "text/plain": [
       "Epoch 49/50 [Test]:   0%|          | 0/157 [00:00<?, ?it/s]"
      ]
     },
     "metadata": {},
     "output_type": "display_data"
    },
    {
     "data": {
      "application/vnd.jupyter.widget-view+json": {
       "model_id": "6ca7261d612e4b94b4066d5a53c0cc00",
       "version_major": 2,
       "version_minor": 0
      },
      "text/plain": [
       "Epoch 50/50 [Train]:   0%|          | 0/157 [00:00<?, ?it/s]"
      ]
     },
     "metadata": {},
     "output_type": "display_data"
    },
    {
     "data": {
      "application/vnd.jupyter.widget-view+json": {
       "model_id": "f9c6c2aa133845db8861ce9874fca672",
       "version_major": 2,
       "version_minor": 0
      },
      "text/plain": [
       "Epoch 50/50 [Test]:   0%|          | 0/157 [00:00<?, ?it/s]"
      ]
     },
     "metadata": {},
     "output_type": "display_data"
    }
   ],
   "source": [
    "optimizer = optim.Adam(model.parameters(), lr=0.0001)\n",
    "criterion_cls = nn.CrossEntropyLoss()\n",
    "criterion_seq = nn.CrossEntropyLoss(ignore_index=smiles_vocab['<pad>'])\n",
    "\n",
    "model, history = train_model_seq2seq(model, train_loader, test_loader, \n",
    "                                     optimizer, criterion_seq, \n",
    "                                     num_epochs=50, evaluate=True, verbose=1,\n",
    "                                     checkpoint_path=\"./model_checkpoints/\",\n",
    "                                     meta_tag=(method+\"_substructure\"))"
   ]
  },
  {
   "cell_type": "code",
   "execution_count": 23,
   "metadata": {},
   "outputs": [
    {
     "name": "stdout",
     "output_type": "stream",
     "text": [
      "True SMILES: C1=CC2=C(C=C1C)C(=C(N2[Si](C)(C)C)C)C\n",
      "Pred SMILES: C=CC1=CC=C=CC)CC==C)[C[Si](C)[C)C)C)C))1111\n",
      "\n",
      "True SMILES: O=C(OCC)CC(O[Si](C)(C)C)(C)CC\n",
      "Pred SMILES: O=C(OCCCCCC=[Si](O)[C)C)CC)C))CCCCCCC1(((((\n",
      "\n",
      "True SMILES: O=C(O[Si](C)(C)C)C(N)C(C)C\n",
      "Pred SMILES: O=C(O[Si](C)(N)C)C)NCC)C(C)C\n",
      "\n",
      "True SMILES: O=C(OC)CC(O[Si](C)(C)C)C\n",
      "Pred SMILES: O=C(OCCCC(O[Si](C)[C)C)C)C\n",
      "\n",
      "True SMILES: O(CCCC)[Si](C)(C)C\n",
      "Pred SMILES: O(CCCCC[Si](C)CC)CCC\n",
      "\n",
      "True SMILES: O(C1CC2CCC1C2)[Si](C)(C)C\n",
      "Pred SMILES: O=CCCCCCCCCOCC[Si])C)[C)C)C\n",
      "\n",
      "True SMILES: OC1=CC=CC(O[Si](C)(C)C)=C1\n",
      "Pred SMILES: O=1CC=CCCC=[Si](C)[C)C=CCC)C1CCCCC\n",
      "\n",
      "True SMILES: N(O[Si](C)(C)C)=C(C1=CC=C(OC)C=C1)C\n",
      "Pred SMILES: OCO[Si](C)C=)C)CC====C==OC=)=C=C=OC1C11111\n",
      "\n",
      "True SMILES: O(C=1C=CC=CC1N)[Si](C)(C)C\n",
      "Pred SMILES: O=C=1==C==CCC)C[Si])C)[C)C)C1CCCCC\n",
      "\n",
      "True SMILES: O(C)CCC(C=1C=CC=CC1)CCO[Si](C)(C)C\n",
      "Pred SMILES: O=C(CCCCCCC==CCCCCC)C))[Si](C)(C)C)CC11111\n",
      "\n",
      "True SMILES: N#CC=1C(=S)N(C(=CC1C)C)[Si](C)(C)C\n",
      "Pred SMILES: NCC11C===CiCCN2CCCC))C)[Ni](C)[C)C)C111111\n",
      "\n",
      "True SMILES: O(C1=CC=C(C=C1)C(C)(C)CC)[Si](C)(C)C\n",
      "Pred SMILES: O(C1=CC=CCCCCC)CCC)CC)[))[Si](C)[C)C))1111\n",
      "\n",
      "True SMILES: O=C(O[Si](C)(C)C)C(C)CC=C\n",
      "Pred SMILES: O=C(O[Si](C)(C)C)CC=CC==OCC1\n",
      "\n",
      "True SMILES: O(C(C)CCCCC)[Si](C)(C)C\n",
      "Pred SMILES: O(CCCCCCCCCC[Si](C)[C)C)C\n",
      "\n",
      "True SMILES: O=C(O[Si](C)(C)C)C=1C=CC=CC1O\n",
      "Pred SMILES: O=C(O[Si](C)(C)CCC=O==O==O=COCCC\n",
      "\n",
      "True SMILES: O=C1OC=2C=CC=CC2C(O[Si](C)(C)C)=C1\n",
      "Pred SMILES: O=C(=)=C==C==CCCCCO[Si](O)[C)()=C=)C11111\n",
      "\n",
      "True SMILES: O=C(OCC(=O)O[Si](C)(C)C)C\n",
      "Pred SMILES: O=C(=)C(=OC([Si](C)CC)C)CCC1\n",
      "\n",
      "True SMILES: O(C1=CC=C(C=C1C)C)[Si](C)(C)C\n",
      "Pred SMILES: O(C1=C==C=C=CC)CCC[Si](C)[C)C)CCCCCCC1111\n",
      "\n",
      "True SMILES: O(CCC)CC(O[Si](C)(C)C)C\n",
      "Pred SMILES: O(CCCCCCCO[Si](C)[C)C)CC\n",
      "\n",
      "True SMILES: O=C1C(=O)N(C2=CC=C(C=C12)C)[Si](C)(C)C\n",
      "Pred SMILES: O=C(=(=C)CC=C=CCCCC==C==[[)[Si](C)CC)C))1\n",
      "\n",
      "True SMILES: O=S(=O)(CC)CCO[Si](C)(C)C\n",
      "Pred SMILES: O=O(=O)COCCCCC[Si](C)[C)C)C1\n",
      "\n",
      "True SMILES: O=CC1=CN(C=2C=CC=CC12)[Si](C)(C)C\n",
      "Pred SMILES: N=C11=C=C==C==CCCC=C)[[Si](C)[C)C)CC1111\n",
      "\n",
      "True SMILES: O(C1CC(NC2(C)CCCCC12)C)[Si](C)(C)C\n",
      "Pred SMILES: O(CCCCCCCCCCCCCCCCC))[)[Si](C)[C)C)CC111\n",
      "\n",
      "True SMILES: O=C(O[Si](C)(C)C)C(=O)C(C)C\n",
      "Pred SMILES: O=C(O[Si](O)(O)C)C(=O)C(O(C)CCC\n",
      "\n",
      "True SMILES: O=C(O[Si](C)(C)C)C1=CC(OC)=CC=C1OC\n",
      "Pred SMILES: O=C(O[Si](=)(O)CCC==C==O[=CC==C=OC=C1111\n",
      "\n",
      "True SMILES: O(C=1C(=CC=CC1C(C)(C)C)C)[Si](C)(C)C\n",
      "Pred SMILES: O=C1C=C=C=CCCCOCCCCC)[)[)[Si](C)[C)C)\n",
      "\n",
      "True SMILES: O=C(O[Si](C)(C)C)CCCC=1C=CC=CC1\n",
      "Pred SMILES: O=C(O[Si](C)(=)CCCCC==C==C==C==)CCCCC\n",
      "\n",
      "True SMILES: O=C(O[Si](C)(C)C)C=CCCC\n",
      "Pred SMILES: O=C(O[Si](C)CC)CCC=CCCCCC\n",
      "\n",
      "True SMILES: O(C1=CC=C(N)C=C1)[Si](C)(C)C\n",
      "Pred SMILES: O(C1=C==C=CCC=CC)[Si])C)[C)C)CCCCCCC1\n",
      "\n",
      "True SMILES: O(CCCSC)[Si](C)(C)C\n",
      "Pred SMILES: O(CCCCCC[Si](C)(CCCCC1111\n",
      "\n",
      "True SMILES: C=1C=C(N(C1)[Si](C)(C)C)CN(C)C\n",
      "Pred SMILES: N=C=1C(NCNC)[Si])C)[C)C)C)+C)C)CCCCC11\n",
      "\n",
      "True SMILES: O=C(O[Si](C)(C)C)C=1SC=CC1\n",
      "Pred SMILES: O=C(O[Si](C)(C)CCC=O=C=O=CCCC111111\n",
      "\n",
      "True SMILES: OC(=NC1C=CC(O[Si](C)(C)C)CC1)C\n",
      "Pred SMILES: O=(CCCC==CCC=[Si](C)[C)C)C)))C)CCCC111\n",
      "\n",
      "True SMILES: O(C1=CC=C(O[Si](C)(C)C)C=C1OC)C\n",
      "Pred SMILES: O=C(=CCCC(=[Si](C)[C)C)C=CCO[)C)CCCCC1\n",
      "\n",
      "True SMILES: O=C(O[Si](C)(C)C)C=CC(=O)C=1C=CC=CC1\n",
      "Pred SMILES: O=C(O[Si](=)(=)CCC=C===O[C=C==C==C==OC\n",
      "\n",
      "True SMILES: O=C(OC)C=1C=CC=CC1O[Si](C)(C)C\n",
      "Pred SMILES: O=C(O)CC=C=CCCCCCCO[Si](C)[C)C)CCCCC111\n",
      "\n",
      "True SMILES: O(CC=CCCCCCCCCC)[Si](C)(C)C\n",
      "Pred SMILES: O(CCCCCCCCCCCCCC[Si])C)[C)C)CCCCCCC\n",
      "\n",
      "True SMILES: O(CCC=CCC)[Si](C)(C)C\n",
      "Pred SMILES: O(CCCCCCCC[Si](C)[C)C)C\n",
      "\n",
      "True SMILES: O=C(O[Si](C)(C)C)CC1=CC=CC=2C=CC=CC21\n",
      "Pred SMILES: O=C(O[Si](C)(=)CCC===C==C==CC=C==C==COC1111\n",
      "\n",
      "True SMILES: N(O[Si](C)(C)C)=C1CC(NC(C)(C)C1)(C)C\n",
      "Pred SMILES: OCO[Si](C)CC)C)CCC=C(=C(C)CO)C)OCC)C)C11S11\n",
      "\n",
      "True SMILES: O(C)C1COC(O[Si](C)(C)C)C(OC)C1OC\n",
      "Pred SMILES: O=O(CCOCCCO[Si](OC[O)C)C)O[)C)OC)CCC111\n",
      "\n",
      "True SMILES: O(CCN(C)C)[Si](C)(C)C\n",
      "Pred SMILES: O(CCCCCCCC[Si](C)(C)C)C\n",
      "\n",
      "True SMILES: O(O[Si](C)(C)C)C1OCCC1\n",
      "Pred SMILES: O=O[Si](OOCOCC)CCO-C1COCF\n",
      "\n",
      "True SMILES: O(CC=CCCC)[Si](C)(C)C\n",
      "Pred SMILES: O(CCCCCCCC[Si](C)[C)C)C\n",
      "\n",
      "True SMILES: N(CC(CC)CC)[Si](C)(C)C\n",
      "Pred SMILES: OCCCCCCCCCC[Si](C)[C)C)C1\n",
      "\n",
      "True SMILES: N(O[Si](C)(C)C)=C(C)C1C=2C=CC=CC2CC1\n",
      "Pred SMILES: OCO[Si](C)C=)C)CC==CC===C==C==CCCC==OC1111\n",
      "\n",
      "True SMILES: OCCCO[Si](C)(C)C\n",
      "Pred SMILES: O=CCC[Si](C)CC)CC\n",
      "\n",
      "True SMILES: O(CC=CCC)[Si](C)(C)C\n",
      "Pred SMILES: O(CCCCCCC[Si](C)(C)C)C\n",
      "\n",
      "True SMILES: O(CCCCCCCC)[Si](C)(C)C\n",
      "Pred SMILES: O(CCCCCCCCC[Si](C)[C)C)C\n",
      "\n",
      "True SMILES: O(C=1C=CC=CC1)CCS[Si](C)(C)C\n",
      "Pred SMILES: O=C=1==C==CCC)CCCiSi](C)[C)C)CCCCCC\n",
      "\n",
      "True SMILES: O=C(O[Si](C)(C)C)CCCN(C)C\n",
      "Pred SMILES: O=C(O[Si](C)(N)CCCCCCCCCCCC\n",
      "\n",
      "True SMILES: O(CC1=CC=C(C=C1)N(C)C)[Si](C)(C)C\n",
      "Pred SMILES: O(C(==C==CC==CC)CCC)[)[Si](C)[C)C)CC1111\n",
      "\n",
      "True SMILES: O(C)CCC(C)CCO[Si](C)(C)C\n",
      "Pred SMILES: O(CCCCCCCCCCC[Si](C)[C)C)C\n",
      "\n",
      "True SMILES: O=CC1=CC=C(OC)C(O[Si](C)(C)C)=C1\n",
      "Pred SMILES: O=C((=C==CC=)CCCO[Si](C)[C)C)CC=)CCCC111\n",
      "\n",
      "True SMILES: O(C1=CC=C(C=C1)C(C)(C)C)[Si](C)(C)C\n",
      "Pred SMILES: O=C1=CCCCCCCCC)CCC)CC)[)[Si](C)[C)C)C111\n",
      "\n",
      "True SMILES: O(C(C=CCCCC)C)[Si](C)(C)C\n",
      "Pred SMILES: O(C(CCCCCCCCCC[Si](C)[C)C)CCCCC\n",
      "\n",
      "True SMILES: [C-]#[N+]C1CCCCC1O[Si](C)(C)C\n",
      "Pred SMILES: O=C](CSC](CCCCCCCO[Si](C)[C)C)CCCCCC111\n",
      "\n",
      "True SMILES: O(C1CC2CCC1(C)C2(C)C)[Si](C)(C)C\n",
      "Pred SMILES: O(CCCCCCCCC)CCCCCCC[)[Si](C)[C)C)CCCC111\n",
      "\n",
      "True SMILES: O=C(O[Si](C)(C)C)C1=NC=CN=C1\n",
      "Pred SMILES: O=C(O[Si](C)(C)C)C==1C=O=CC=)CC1111\n",
      "\n",
      "True SMILES: O=C(OC)CN[Si](C)(C)C\n",
      "Pred SMILES: O=C(O)CCCCSi](C)CC)C)C\n",
      "\n",
      "True SMILES: O=C1C=C(N(C(=O)N1C)C)CO[Si](C)(C)C\n",
      "Pred SMILES: O=C(=(C(=C=(=O)CCOCC)C)[Si](O)[C)C)CC11111\n",
      "\n",
      "True SMILES: O=C(O[Si](C)(C)C)C(=CC)C\n",
      "Pred SMILES: O=C(O[Si](C)(O)C)CC=CCCCCCF\n",
      "\n",
      "True SMILES: O=C(O[Si](C)(C)C)CCCC\n",
      "Pred SMILES: O=CCO[Si](C)CC)C)CCCCCC1\n",
      "\n",
      "True SMILES: O1C(CCC1(C=C)C)C(O[Si](C)(C)C)(C)C\n",
      "Pred SMILES: O=CCCCCCCCCCCCCCCO[Si](O)[O)()(C)C)CC11111\n",
      "\n",
      "True SMILES: C=1C=CC(=CC1)C2=CC=3C=CC=CC3N2[Si](C)(C)C\n",
      "Pred SMILES: C=CC=C===C===C=CC==C==C==CC))C)Si](C)[C)[)\n",
      "\n",
      "True SMILES: OC(=NCCO[Si](C)(C)C)C\n",
      "Pred SMILES: O=(=CCCC[Si](O)[CCCCC)C\n",
      "\n",
      "True SMILES: O(CCC(C)CC)[Si](C)(C)C\n",
      "Pred SMILES: O(CCCCCCCCC[Si](C)[C)CC\n",
      "\n",
      "True SMILES: O=C1C(O[Si](C)(C)C)=C(C(=O)C=2C=CC=CC12)C\n",
      "Pred SMILES: O=C(=(=[Si](=)[=)C==C)===O[C=C==C==C11OCC)\n",
      "\n",
      "True SMILES: C(#CC(O[Si](C)(C)C)C(C)CCC)C(=C)C\n",
      "Pred SMILES: OCCCCCO[Si]([)[C)C)C)C)C)))C)CO)C)CCCC1(11\n",
      "\n",
      "True SMILES: O(CC(CCCC)CCCCCC)[Si](C)(C)C\n",
      "Pred SMILES: O(CCCCCCCCCCCCCCC[Si](C)[C)C)CCCCCCCC((\n",
      "\n",
      "True SMILES: O(C1=CC=C(C=C1)N[Si](C)(C)C)C\n",
      "Pred SMILES: O(C==C==C=C=CC)[CSi])C)[C)C)C)CCCCCCC11\n",
      "\n",
      "True SMILES: O(CC=CCCCCCCC)[Si](C)(C)C\n",
      "Pred SMILES: O(CCCCCCCCCCCC[Si](C)[C)C)CCCCCC\n",
      "\n",
      "True SMILES: O(CC(C(=C)C)CC=C(C)C)[Si](C)(C)C\n",
      "Pred SMILES: O(CCCCCCCCCCCCCCCCC[)[Si])C)[C)C)CCCC11\n",
      "\n",
      "True SMILES: O=C(O[Si](C)(C)C)C1NCCCC1\n",
      "Pred SMILES: O=C(O[Si](C)(C)CCC1OCCCCCCC11111\n",
      "\n",
      "True SMILES: NC1=CC=CC=2C(=CC=CC12)N[Si](C)(C)C\n",
      "Pred SMILES: CC=CC==C==C==CCCCCCC)[[CNi](C)[C)C)C111\n",
      "\n",
      "True SMILES: C=1C=CC(=CC1)CN(CC)[Si](C)(C)C\n",
      "Pred SMILES: O=C==CC==CCC)CCCCC)[Si](C)[C)C)CCCCCC\n",
      "\n",
      "True SMILES: O=C(O[Si](C)(C)C)COCCOC\n",
      "Pred SMILES: O=C(O[Si](O)(O)CCCC-CCCCCFF\n",
      "\n",
      "True SMILES: O=C(O[Si](C)(C)C)COC=1C=CC=CC1\n",
      "Pred SMILES: O=C(O[Si](=)(=)CCCC)=OO=O==C=COCCCCC1\n",
      "\n",
      "True SMILES: S=C(S[Si](C)(C)C)N(CC)CC\n",
      "Pred SMILES: OiC(CiSi](C)[C)C)CCC))CCCC\n",
      "\n",
      "True SMILES: O(CCCCCCCCCCCC)[Si](C)(C)C\n",
      "Pred SMILES: O(CCCCCCCCCCCCC[Si])C)[C)C)CCCCCCCCCC\n",
      "\n",
      "True SMILES: O=C1N(C2=CC(OC)=CC=C2CCC1)[Si](C)(C)C\n",
      "Pred SMILES: O=C(=C===CCC=)CCCCCC=CC)))[Si](C)CC)C)\n",
      "\n",
      "True SMILES: O=C(C)C(O[Si](C)(C)C)C\n",
      "Pred SMILES: O=C(CCC(O[Si](C)[C)C)C)C\n",
      "\n",
      "True SMILES: N1(CCCCCC1)[Si](C)(C)C\n",
      "Pred SMILES: OCCCCCCCCC)[Si](C)(C)C)C\n",
      "\n",
      "True SMILES: O=C1N(C)C(C=2C=NC=CC2)CC1O[Si](C)(C)C\n",
      "Pred SMILES: O=C(=CCCC(C=C==CC=C==CC)))[Si](C)CC)C)\n",
      "\n",
      "True SMILES: O(C1=CC(O[Si](C)(C)C)=CC=C1CCN)C\n",
      "Pred SMILES: O=C(=CCCC[Si](=CCC)C)CO==CCCCCCCCCCCC1\n",
      "\n",
      "True SMILES: O=C(OC)CC(O[Si](C)(C)C)CC(=O)OC\n",
      "Pred SMILES: O=C(OCCCC(=[Si](O)[C)C)C)(=CCC))CCCC111\n",
      "\n",
      "True SMILES: O(C(C)C(C)C)[Si](C)(C)C\n",
      "Pred SMILES: O(CCCCCCCCCC[Si](C)[C)C)CF\n",
      "\n",
      "True SMILES: O(CC(C)CC(C)(C)C)[Si](C)(C)C\n",
      "Pred SMILES: O(CCCCCCCCCCCCCCC[Si](C)[C)C)CCCCCCCCC1\n",
      "\n",
      "True SMILES: N=1C(=NC(=CC1O[Si](C)(C)C)C)SC\n",
      "Pred SMILES: O=C=(=CC==CCCO[Si])C)[C)C)C)Ci)CCCC\n",
      "\n",
      "True SMILES: O=C1OC(CC1)CCC(=O)O[Si](C)(C)C\n",
      "Pred SMILES: O=C(OCCCCCCCCCCOC[[[Si](O)[C)C)CCCCC111\n",
      "\n",
      "True SMILES: O(C=1C=CC=CC1O[Si](C)(C)C)CCC\n",
      "Pred SMILES: O=C=1==C==CCCO[Si])C)[C)C)C)))CCCCCC11\n",
      "\n",
      "True SMILES: O(C=1C=CC=CC1O[Si](C)(C)C)C(C)C\n",
      "Pred SMILES: O=C(1==C==CCCO[Si])C)[C)()C)C)C)CCCCC111\n",
      "\n",
      "True SMILES: O=C(OCC)CC(=O)O[Si](C)(C)C\n",
      "Pred SMILES: O=C(=CCCCCC=O)([Si](C)(C)C)CCCCCCCCCC\n",
      "\n",
      "True SMILES: O(CCCC)CC(O[Si](C)(C)C)C\n",
      "Pred SMILES: O(CCCCCCCCO[Si](C)[C)C)CCCCC\n",
      "\n",
      "True SMILES: O=C(O[Si](C)(C)C)CCC=1C=CC=CC1\n",
      "Pred SMILES: O=C(O[Si](C)(=)CCC===C==C==C=C)CCCCC1111\n",
      "\n",
      "True SMILES: O=C(OC)C(C=1C=CC=CC1)CO[Si](C)(C)C\n",
      "Pred SMILES: O=C(O)CC(CCC=CCCCCCCOC)[Ni](C)(C)C)C11\n",
      "\n",
      "True SMILES: N#CC1=C(N[Si](C)(C)C)C(N(C(=O)C)C1)CC\n",
      "Pred SMILES: NCC((=C(NCSi](NC[N)C)C)NCC)=O)C)C))C))\n",
      "\n",
      "True SMILES: O=C(O[Si](C)(C)C)C=CC=1C=CC=CC1OC\n",
      "Pred SMILES: O=C(O[Si](=)C=)CCC=C==C==C==C==OCCCCC1\n",
      "\n",
      "True SMILES: O=C(OC)C(O[Si](C)(C)C)C=1C=CC=CC1OC\n",
      "Pred SMILES: O=C(OCCC(=[Si](OC[C)C)C=C==C==CCCOC1CC\n",
      "\n",
      "True SMILES: C=1C=CC(=CC1)CN[Si](C)(C)C\n",
      "Pred SMILES: O=C==C===CCC)CCCSi])C)[C)C)C1CCCCCC1\n",
      "\n",
      "True SMILES: O(C1CCC(C)CC1)[Si](C)(C)C\n",
      "Pred SMILES: O(CCCCCCCCCCCO[Si])C)[C)C)C11CCCCCCC1\n",
      "\n",
      "True SMILES: O=C(O[Si](C)(C)C)CCCOC=1C=CC=CC1\n",
      "Pred SMILES: O=C(O[Si](=)(=)CCCCCC[=O==C==C==)CCC111\n",
      "\n",
      "True SMILES: O(CC=1C=CC=C(C1)C)[Si](C)(C)C\n",
      "Pred SMILES: O(C11C==C==CCCC)CC[Si](C)[C)C)CCCCCCC11\n",
      "\n",
      "True SMILES: O=C(O[Si](C)(C)C)CC1=CC=C(OC)C(OC)=C1\n",
      "Pred SMILES: O=C(O[Si](=)(=)CCCC==O==O(O[(C(CC=CC1OC\n",
      "\n",
      "True SMILES: O=C(O[Si](C)(C)C)C=1C=CC=C(SC(=O)C)C1\n",
      "Pred SMILES: O=C(O[Si](=)(=)CCC=C==C==O(Ci)=O)C)C1O)\n",
      "\n",
      "True SMILES: O=C(O[Si](C)(C)C)CCCCC\n",
      "Pred SMILES: O=C(O[Si](C)CC)CCCCCCCCC1\n",
      "\n",
      "True SMILES: O(C1=CC=C(N)C=C1O[Si](C)(C)C)C\n",
      "Pred SMILES: O(C(=C==C(=CCCCCO[Si](O)[=)C)C)CCCCC1111\n",
      "\n",
      "True SMILES: O=C1C=2C=CC=CC2C(=O)N1[Si](C)(C)C\n",
      "Pred SMILES: O=C===CC=C==CCCCCOO[[C)Si](C)[C)C)C11111\n",
      "\n",
      "True SMILES: O(C(C=1C=CC=CC1)(C)C)[Si](C)(C)C\n",
      "Pred SMILES: O(C1C=C==C==CCC)CCC[)[Si](C)[C)()CCCC111\n",
      "\n",
      "True SMILES: O=C(O[Si](C)(C)C)C=1C=CC=C(N)C1\n",
      "Pred SMILES: O=C(O[Si](C)(C)CCC=C==O==O(CCC1)CC111111\n",
      "\n",
      "True SMILES: O=C(O[Si](C)(C)C)C=CC1=CC=C(C=C1)C\n",
      "Pred SMILES: O=C(O[Si](=)(=)CCC=C===C==C===C=)C=CC111\n",
      "\n",
      "True SMILES: O(CCC)[Si](C)(C)C\n",
      "Pred SMILES: O(CCCCCSi](C)CC)CC\n",
      "\n",
      "True SMILES: O=C(O[Si](C)(C)C)C=1C=CC=CC1\n",
      "Pred SMILES: O=C(O[Si](C)(C)CCC=1==C==C=C)CCCCCC11111\n",
      "\n",
      "True SMILES: O(CC1=CC=C(C=C1)C)[Si](C)(C)C\n",
      "Pred SMILES: O(C11=C==C=C=CC)CC[Si](C)[C)C)CCCCCCC111\n",
      "\n",
      "True SMILES: O(CCN(CC)CC)[Si](C)(C)C\n",
      "Pred SMILES: O(CCCCCCCCCC[Si](C)[C)C)C\n",
      "\n",
      "True SMILES: O(C1=CC=CC=2C=CC=CC12)[Si](C)(C)C\n",
      "Pred SMILES: O(C1=C==C==CC=CCCCCC)[[Si](C)[C)C)CC111\n",
      "\n",
      "True SMILES: O(C=1C=CC=2C=CC=CC2C1)[Si](C)(C)C\n",
      "Pred SMILES: O=C11==C==CC=CCCCCC[))[Si](C)[C)C)CC111\n",
      "\n",
      "True SMILES: O(C(C=CC=1C=CC=CC1)C)[Si](C)(C)C\n",
      "Pred SMILES: O(C1C=C==C==CCCCCC)[)[Si](C)[C)C)CCC111\n",
      "\n",
      "True SMILES: O(C1=CC=CC(=C1)CO[Si](C)(C)C)C\n",
      "Pred SMILES: O(C(=C==C=C=CCOCC[Si](C)[C)C)C)CCCCCC11\n",
      "\n",
      "True SMILES: O(C1=CC=C(SC)C=C1)[Si](C)(C)C\n",
      "Pred SMILES: O(C1=C==CCCiCCCCC)[Si](C)[C)C)CCCCCC111\n",
      "\n",
      "True SMILES: O(C=1C=C(C=C(C1)C)C)[Si](C)(C)C\n",
      "Pred SMILES: O(C1C==C=C=CCCC)CC[)[Si])C)[C)C)CCCCC11\n",
      "\n",
      "True SMILES: O=C1N(C(C=2C=NC=CC2)CC1)[Si](C)(C)C\n",
      "Pred SMILES: N=C1=CC(C=CC=CCCCCCCC)))[Ni](C)[C)C)C11\n",
      "\n",
      "True SMILES: O=C(O[Si](C)(C)C)C(=O)C1=CC=C(OC)C=C1\n",
      "Pred SMILES: O=C(O[Si](=)(=)CCC==O[==OO==C)C)=C=C1OC\n",
      "\n",
      "True SMILES: O(C(C)C)[Si](C)(C)C\n",
      "Pred SMILES: O(CCCCCC[Si](C)[C)CCC111\n",
      "\n",
      "True SMILES: OCCOCCOCCOCCO[Si](C)(C)C\n",
      "Pred SMILES: O=((CCCCCCCCC[Si](C)CC)C)CCCCCCCCC\n",
      "\n",
      "True SMILES: O=C(O[Si](C)(C)C)C=CC=CC\n",
      "Pred SMILES: O=C(O[Si](C)(C)C)C=C==CCCC\n",
      "\n",
      "True SMILES: O(C1CCCCC1C)[Si](C)(C)C\n",
      "Pred SMILES: O(C1CCCCCCCC[Si](C)(C)CC\n",
      "\n",
      "True SMILES: O=C(C1=CC=C(OC)C=C1O[Si](C)(C)C)C\n",
      "Pred SMILES: O=C1C==C==C(=)(C=C1O[Si](C)(C)C)C\n",
      "\n",
      "True SMILES: O=C(O[Si](C)(C)C)CCC1=CC=C(O)C=C1\n",
      "Pred SMILES: O=C(O[Si](C)(C)C)CCCCCC==C(C)C=C1\n",
      "\n",
      "True SMILES: O=C(O[Si](C)(C)C)C1=CC=C(SC(=O)C)C=C1\n",
      "Pred SMILES: O=C(O[Si](C)(C)C)C1=C==C(CC(CC)C)C1C1\n",
      "\n",
      "True SMILES: O=P(O)(O)OC(F)(F)C(F)(F)C(F)(F)C(F)(F)C(F)(F)C(F)(F)C(F)(F)F\n",
      "Pred SMILES: O=P(O)(O)()(F)(F)C(F)(F)((F)(F)((F)(F)((F)(F)((F)(F)((F)FFF)(FFFFFFFFFFFFFFFFFFFFFFFFFFFFFFFFFFFFFFFFFFFFFFFFFFFFFFFFFFFFFFFFFFFFFFFFF(((((((F((((((FFFFFFFF\n",
      "\n",
      "True SMILES: O=P(O)(O)OC(F)(F)C(F)(F)C(F)(F)C(F)(F)F\n",
      "Pred SMILES: O=P(O)(O)()(F)(F)C(F)CF)((F)(F)((F)(F)((FFFFFFFFFFFFFFFFFFFFFFFFFFFFFFFFFFFFFFFFFFFFFFFFFFFFFFFFFFFFFFFFFFFFFFFFFFFFFFFFFFFFFFFFFFFFFFF\n",
      "\n",
      "True SMILES: O=P(O)(O)OC(F)(F)C(F)(F)F\n",
      "Pred SMILES: O=P(O)(O)()(F)(F)C(F)FF)F(FFFFFFFFFFFFFFFFFFFFFFFFFFFFFFFFFFFFFFFFFFFFFFFFFFFFFFFFF\n",
      "\n",
      "True SMILES: O=P(O)(O)OC(F)(F)F\n",
      "Pred SMILES: O=P(O)(O)()(F)CF)F(FFFFFFFFFFFFFFFFFFFFFFFFFFFFFFFFFFFFFFF\n",
      "\n",
      "True SMILES: O=S(=O)(O)C1(C(F)(F)F)C(F)(F)C(F)(F)C(F)(F)C(F)(F)C1(F)F\n",
      "Pred SMILES: O=S(=O)(O)CC(F(F)(F)()((F)(F)((F)(F)C(F)CF)C(F)CF)(((F)C(FFFFFFFFFFFFFFFFFFFFFFFFFFFFFFFFFFFFFFFFFFFFFFFFFFFFFFFF((((\n",
      "\n",
      "True SMILES: O=C(O)C(F)(OC(F)(F)C(F)(F)F)C(F)(F)F\n",
      "Pred SMILES: O=C(O)C(F)(F)(F)(F)((F)(F)F)((F)(FC(FFFFFFFFFFFFFFFFFFFFFFFFFFFFFFFFFFFFFFFFFFFFFFFFFFFFFFFFFFFFFFFFFFFFFFFFFFFF(((FFFFFFFFFFFF((((FF((FFFFFFFF(((FFFFFFFFFFFFFFFFFFFFFFFFFFFFFFFF(((((\n",
      "\n",
      "True SMILES: O=C(O)C(F)(OC(F)(F)F)C(F)(F)F\n",
      "Pred SMILES: O=C(O)C(F)CF)(F)(F)()C(F)FF)C(FFFFFFFFFFFFFFFFFFFFFFFFFFFFFFFFFFFFFFFFFFFFF\n",
      "\n",
      "True SMILES: O=P(O)(O)CCC(F)(F)C(F)(F)C(F)(F)C(F)(F)C(F)(F)C(F)(F)C(F)(F)F\n",
      "Pred SMILES: O=P(O)(O)CCC(F)(F)C(F)(F)((F)(F)((F)(F)((F)(F)((F)(F)((FFF)F(FFFFFFFFFFFFFFFFFFFFFFFFFFFFFFFFFFFFFFFFFFFFFFFFFFFFFFFFFFFFFFFFFFFFFFFF((((((FFFFFFFFFFFFFFFFFFFFFFFFFFFF(((((FFFFF((FFFFFFFFFFFFFFFFFFFFFFFFFFFFFFFFFFFFFFFFFFFFFFFFF(FFFF((((((\n",
      "\n",
      "True SMILES: O=P(O)(O)CCC(F)(F)C(F)(F)C(F)(F)C(F)(F)C(F)(F)C(F)(F)C(F)(F)C(F)(F)F\n",
      "Pred SMILES: O=P(O)(O)CCC(F)(F)C(F)(F)((F)(F)((F)(F)((F)(F)((F)(F)((F)(F)((F)FF)FCFFFFFFFFFFFFFFFFFFFFFFFFFFFFFFFFFFFFFFFFFFFFFFFFFFFFFFFFFFFFFFFFF(((((((FF(((((FFFFFFFFFFFFFFFFFFF(((((FFFF(((((FFFFFF((((((((FFFFFFFFFFFFFFFFFFFFFFFFFFFFFFFF((FFFF((((((\n",
      "\n",
      "True SMILES: O=P(O)(O)CCC(F)(F)C(F)(F)C(F)(F)C(F)(F)C(F)(F)C(F)(F)F\n",
      "Pred SMILES: O=P(O)(O)CC((F)(F)((F)(F)((F)(F)((F)(F)((F)(F)((F)FF)F(FFFFFFFFFFFFFFFFFFFFFFFFFFFFFFFFFFFFFFFFFFFFFFFFFFFFFFFFFFFFFFFFFFFFFFFFFFFFFF((((((FFFFFFFFFFFFFFFFFFFFFFFF((((FFFFF((FFFFFFFFF(FFFFF(FFFFFFFFFFFFFFFFFFFFFFFFFFFFFFFFFFFFFFF(((((\n",
      "\n",
      "True SMILES: O=S(=O)(O)CCC(F)(F)C(F)(F)C(F)(F)C(F)(F)C(F)(F)C(F)(F)C(F)(F)C(F)(F)C(F)(F)C(F)(F)F\n",
      "Pred SMILES: O=S(=O)(O)CCC(F)CF)((F)(F)C(F)(F)C(F)CF)C(F)CF)((F)(F)((F)(F)((F)(F)((F)(F)((F)(FF(FFFFFFFFFFFFFFFFFFFFFFFFFFFFFFFFFFFFFFFFFFFFFFFFF(((((((((((((((FFFFFF(FFFFFFFFFF(\n",
      "\n",
      "True SMILES: O=S(=O)(O)CCC(F)(F)C(F)(F)C(F)(F)C(F)(F)C(F)(F)C(F)(F)C(F)(F)C(F)(F)C(F)(F)C(F)(F)C(F)(F)C(F)(F)C(F)(F)F\n",
      "Pred SMILES: O=S(=O)(O)CCC(F)CF)((F)(F)C(F)(F)C(F)CF)C(F)CF)((F)(F)((F)(F)((F)(F)C(F)(F)((F)(F)((F)CF)((F)(F)((F(F((FFFFFFFFFFFFFFFFFFFFFFFFFFFF((((((((((((((((FFFF(((FFF(((F(((\n",
      "\n",
      "True SMILES: O=S(=O)(O)CCC(F)(F)C(F)(F)C(F)(F)C(F)(F)C(F)(F)C(F)(F)C(F)(F)C(F)(F)C(F)(F)C(F)(F)C(F)(F)F\n",
      "Pred SMILES: O=S(=O)(O)CCC(F)CF)((F)(F)C(F)(F)C(F)(F)C(F)CF)((F)(F)((F)(F)((F)(F)C(F)(F)((F)(F)F(F)CF((FFFFFFFFFFFFFFFFFFFFFFFFFFFFFFFFFFFFFFFFFF(((((((((((((((FFFFFFFFFFFFFFFFF(\n",
      "\n",
      "True SMILES: O=S(=O)(O)CCC(F)(F)C(F)(F)C(F)(F)C(F)(F)C(F)(F)C(F)(F)C(F)(F)C(F)(F)C(F)(F)C(F)(F)C(F)(F)C(F)(F)F\n",
      "Pred SMILES: O=S(=O)(O)CCC(F)CF)((F)(F)C(F)(F)C(F)(F)C(F)CF)((F)(F)((F)(F)((F)(F)C(F)(F)((F)(F)((F)CF)((F)(F((FFFFFFFFFFFFFFFFFFFFFFFFFFFFFFFFFFF((((((((((((((((FFFF((FFFFF(FFF((\n",
      "\n",
      "True SMILES: O=S(=O)(O)CCC(F)(F)C(F)(F)C(F)(F)C(F)(F)C(F)(F)C(F)(F)C(F)(F)C(F)(F)C(F)(F)F\n",
      "Pred SMILES: O=S(=O)(N)CCC(F)CF)C(F)CF)C(F)(F)C(F)(F)C(F)CF)((F)(F)((F)(F)C(F)(F)C(F)FF)F(FFFFFFFFFFFFFFFFFFFFFFFFFFFFFFFFFFFFFFFFFFFFFFFFFFFFFFFF(((((((((((((((FFFFF((FFFFFFFFFF(\n",
      "\n",
      "True SMILES: O=C(O)CC(F)(F)C(F)(F)C(F)(F)C(F)(F)F\n",
      "Pred SMILES: O=C(O)CC(F)(F)((F)(F)((F)(F)((F)(F)C(FFFFFFFFFFFFFFFFFFFFFFFFFFFFFFFFFFFFFFFFFFFFFFFFFFFFFFFFFFFFFFFFFFFFFFFFFFFFFFFFFFFF((((FF\n",
      "\n",
      "True SMILES: O=C(O)CC(F)(F)C(F)(F)C(F)(F)F\n",
      "Pred SMILES: O=C(O)C((F)(F)((F)(F)C(F)(F)C(FFFFFFFFFFFFFFFFFFFFFFFFFFFFFFFFFFFFFFFFFFFFF\n",
      "\n",
      "True SMILES: O=C(O)CC(F)(F)C(F)(F)F\n",
      "Pred SMILES: O=C(O)CCCF)(F)((F)FF)F(FFFFFFFFFFFFFFFFFFFFFFFFFFFFFFFFFFFFFFFFFFFFFFFFFFFFF\n",
      "\n",
      "True SMILES: O=C(O)CC(F)(F)F\n",
      "Pred SMILES: O=C(O)C((F)(F)()(FFFFFFF\n",
      "\n",
      "True SMILES: O=S(=O)(N)C(F)(F)C(F)(F)C(F)(F)C(F)(F)C(F)(F)C(F)(F)C(F)(F)C(F)(F)F\n",
      "Pred SMILES: O=S(=O)(NCC(F)(F)C(F)(F)((F)(F)((F)(F)((F)CF)((F)(F)((F)(F)((F)FF)F)(FFFFFFFFFFFFFFFFFFFFFFFFFFFFFFFFFFFFFFFFFFFFFFFFFFFFFFFFFFFFFF((((\n",
      "\n",
      "True SMILES: FC(F)(F)C(F)(F)C(F)(F)C(F)(F)C(F)(F)C(F)(F)C(F)(F)O\n",
      "Pred SMILES: FC(F)(F)C(F)(F)((F)(F)((F)(F)((F)(F)C(F)CF)C(F)(F)F(FFFFFFFFFFFFFFFFFFFFFFFFFFFFFFFFFFFFFFFFFFFFFFFFFFFFFFFFFFFFFFFFFFFFFFFFFFFFFFFFFFF(((FFFFFF\n",
      "\n",
      "True SMILES: FC(F)(F)C(F)(F)C(F)(F)C(F)(F)C(F)(F)C(F)(F)O\n",
      "Pred SMILES: FC(F)(F)C(F)(F)((F)(F)((F)(F)((F)(F)((F)(F)C(FFFFFFFFFFFFFFFFFFFFFFFFFFFFFFFFFFFFFFFFFFFFFFFFFFFFFFFFFFFFFFFFFFFFFFFFFFFFFFFFFFFFFFFFFFFFFFFFFFF\n",
      "\n",
      "True SMILES: FC(F)(F)C(F)(F)C(F)(F)C(F)(F)C(F)(F)O\n",
      "Pred SMILES: FC(F)(F)C(F)(F)((F)(F)((F)(F)((F)(F)((FFFFFFFFFFFFFFFFFFFFFFFFFFFFFFFFFFFFFFFFFFFFFFFFFFFFFFFFFFFFFFFFFFFFFFFFFFFFFFFFFFFFFFFFFFFFFFFFFF\n",
      "\n",
      "True SMILES: FC(F)(F)C(F)(F)C(F)(F)C(F)(F)O\n",
      "Pred SMILES: FC(F)(F)C(F)(F)((F)(F)((F)FFC(FFFFFFFFFFFFFFFFFFFFFFFFFFFFFFFFFFFFFFFFFFFFFFFFFFFFFFFFFFFFFFFFFF\n",
      "\n",
      "True SMILES: FC(F)(F)C(F)(F)C(F)(F)O\n",
      "Pred SMILES: FC(F)(F)C(F)(F)((F)(F)C(FFFFFFFFFFFFFFFFFFFFF\n",
      "\n",
      "True SMILES: FC(F)(F)C(F)(F)C(F)(F)CCO\n",
      "Pred SMILES: FC(F)CF)C(F)(F)C(F)(F)C(((FFFFFFFFFFFFFFFFFFFFFFFFFFFFFFFFF\n",
      "\n",
      "True SMILES: FC(F)(F)C(F)(F)CCO\n",
      "Pred SMILES: FC(F)CF)C(F)(F)C((FFFFFF\n",
      "\n",
      "True SMILES: FC(F)(F)CCO\n",
      "Pred SMILES: F(F)CC)CCC)(F\n",
      "\n",
      "True SMILES: O=S(=O)(NC)C(F)(F)C(F)(F)C(F)(F)C(F)(F)C(F)(F)C(F)(F)C(F)(F)C(F)(F)C(F)(F)C(F)(F)F\n",
      "Pred SMILES: O=S(=O)(N(CC(F)CF)C(F)(F)C(F)CF)((F)CF)((F)CF)((F)(F)((F)(F)((F)(F)C(F)(F)((F)(F)()(FFFFFFFFFFFFFFFFFFF(((F\n",
      "\n",
      "True SMILES: O=S(=O)(NC)C(F)(F)C(F)(F)C(F)(F)C(F)(F)C(F)(F)C(F)(F)C(F)(F)C(F)(F)F\n",
      "Pred SMILES: O=S(=O)(N(CC(F)(F)C(F)CF)C(F)(F)((F)(F)((F)CF)((F)(F)((F)(F)((F)FF)F)(FFFFFFFFFFFFFFFFFFFFFFFFFFFFFFFFFFFFF\n",
      "\n",
      "True SMILES: O=C(O)CNS(=O)(=O)C(F)(F)C(F)(F)C(F)(F)C(F)(F)C(F)(F)C(F)(F)C(F)(F)C(F)(F)F\n",
      "Pred SMILES: O=C(O)CN((=O)(=O)C(F)CF)C(F)CF)((F)CF)C(F)CF)C(F)(F)C(F)(F)C(F)CF)C(F)CF)()(FFFFFFFFFFFFFFFFFFFFFFFFFFFFFFF\n",
      "\n",
      "True SMILES: O=C(O)CNS(=O)(=O)C(F)(F)C(F)(F)C(F)(F)C(F)(F)F\n",
      "Pred SMILES: O=C(O)C(((=O)(=O)C(F)CF)((F)(F)((F)CF)C(F)CF)C(FFFFFFFFFFFFFFFFFFFFFFFFFFFFFFFFFFF\n",
      "\n",
      "True SMILES: O=C(O)CNS(=O)(=O)C(F)(F)C(F)(F)C(F)(F)C(F)(F)C(F)(F)F\n",
      "Pred SMILES: O=C(O)C(((=O)(=O)C(F)CF)((F)CF)((F)CF)C(F)CF)C(F)CF)F)(FFFFFFFFFFFFFFFFFFFFFFFFFFFFFFFFFF\n",
      "\n",
      "True SMILES: O=C(O)CNS(=O)(=O)C(F)(F)F\n",
      "Pred SMILES: O=C(O)C(((=O)(=O)C(F)CF)C(FFFF\n",
      "\n",
      "True SMILES: O=C(O)C(F)(F)C(F)(F)C(F)(F)C(F)(F)C(F)(F)F\n",
      "Pred SMILES: O=C(O)C(F)CF)((F)(F)((F)(F)C(F)(F)C(F)CF)C)(FFFFFFFFFFFFFFFFFFFFFFFFFFFFFFFFFFFFFFFFFFFFFFFFFFFFFFFFFFFF\n",
      "\n",
      "True SMILES: O=C(OCC(OC(=O)CCCCCCCCCCCCCC=CCCCCCCCCCC)COC1OC(CS(=O)(=O)O)C(O)C(O)C1O)CCCCCCCCCCCCCCCCCCCCCCCCC\n",
      "Pred SMILES: O=C(OCC(OC(=O)CCCCCCCCCCCCCCCCCCCCCCCCCC)COC1OC(CS(=O)(=O)O)C(O)C(O)C1O)CCCCCCCCCCCCCCCCCCCCCCCCC\n",
      "\n",
      "True SMILES: O=C(OCC(OC(=O)CCCCCCCCCCCCCCCCCCCCCCCCC)COC1OC(CS(=O)(=O)O)C(O)C(O)C1O)CCCCCCCCCCCCCCCCCCCCCCCCC\n",
      "Pred SMILES: O=C(OCC(OC(=O)CCCCCCCCCCCCCCCCCCCCCCCCC)COC1OC(CS(=O)(=O)O)C(O)C(O)C1O)CCCCCCCCCCCCCCCCCCCCCCCCC\n",
      "\n",
      "True SMILES: CCCCCCCCCCCCCCCCCCCCCCCCCCC(=O)OC(COC1OC(CS(O)(=O)=O)C(O)C(O)C1O)COC(=O)CCCCCCCCCCCCCCCCCCCCCCCC\n",
      "Pred SMILES: CCCCCCCCCCCCCCCCCCCCCCCCCCCCCCCCC)COC1OC(CS(=)(=O)(O)((=)O(O)C(O)C1)1OO)CCCCCCCCCCCCCCCCCCCCCCCC\n",
      "\n",
      "True SMILES: O=C(OCC(OC(=O)CCCCCCCCCCCCC=CCC=CCC=CCC=CCC)COC1OC(CS(=O)(=O)O)C(O)C(O)C1O)CCCCCCCCCCCCCCCCCCCCCCCC\n",
      "Pred SMILES: O=C(OCC(OC(=O)CCCCCCCCCCCCCCCCCCCCCCCCCCCCC)COC1OC(CS(=O)(=O)O)C(O)C(O)C1O)CCCCCCCCCCCCCCCCCCCCCCCC\n",
      "\n",
      "True SMILES: O=C(OCC(OC(=O)CCCCCCCCCCCCCC=CCC=CCCCCCCC)COC1OC(CS(=O)(=O)O)C(O)C(O)C1O)CCCCCCCCCCCCCCCCCCCCCCCC\n",
      "Pred SMILES: O=C(OCC(OC(=O)CCCCCCCCCCCCCCCCCCCCCCCCCCC)COC1OC(CS(=O)(=O)O)C(O)C(O)C1O)CCCCCCCCCCCCCCCCCCCCCCCC\n",
      "\n",
      "True SMILES: O=C(OCC(OC(=O)CCCCCCCCCCCCCCCCCCCCCCCCCC)COC1OC(CS(=O)(=O)O)C(O)C(O)C1O)CCCCCCCCCCCCCCCCCCCCCCC\n",
      "Pred SMILES: O=C(OCC(OC(=O)CCCCCCCCCCCCCCCCCCCCCCCCCC)COC1OC(CS(=O)(=O)O)C(O)C(O)C1O)CCCCCCCCCCCCCCCCCCCCCCC\n",
      "\n",
      "True SMILES: O=C(OCC(OC(=O)CCCCCCCCCCCCC=CCC=CCC=CCC=CCC)COC1OC(CS(=O)(=O)O)C(O)C(O)C1O)CCCCCCCCCCCCCCCCCCCCCCC\n",
      "Pred SMILES: O=C(OCC(OC(=O)CCCCCCCCCCCCCCCCCCCCCCCCCCCCC)COC1OC(CS(=O)(=O)O)C(O)C(O)C1O)CCCCCCCCCCCCCCCCCCCCCCC\n",
      "\n",
      "True SMILES: O=C(OCC(OC(=O)CCCCCCCCCCCCCC=CCC=CCCCCCCC)COC1OC(CS(=O)(=O)O)C(O)C(O)C1O)CCCCCCCCCCCCCCCCCCCCCCC\n",
      "Pred SMILES: O=C(OCC(OC(=O)CCCCCCCCCCCCCCCCCCCCCCCCCCC)COC1OC(CS(=O)(=O)O)C(O)C(O)C1O)CCCCCCCCCCCCCCCCCCCCCCC\n",
      "\n",
      "True SMILES: O=C(OCC(OC(=O)CCCCCCCCCCCCCC=CCCCCCCCCCC)COC1OC(CS(=O)(=O)O)C(O)C(O)C1O)CCCCCCCCCCCCCCCCCCCCCCC\n",
      "Pred SMILES: O=C(OCC(OC(=O)CCCCCCCCCCCCCCCCCCCCCCCCCC)COC1OC(CS(=O)(=O)O)C(O)C(O)C1O)CCCCCCCCCCCCCCCCCCCCCCC\n",
      "\n",
      "True SMILES: O=C(OCC(OC(=O)CCCCCCCCCCCCCCCCCCCCCCCCC)COC1OC(CS(=O)(=O)O)C(O)C(O)C1O)CCCCCCCCCCCCCCCCCCCCCCC\n",
      "Pred SMILES: O=C(OCC(OC(=O)CCCCCCCCCCCCCCCCCCCCCCCCC)COC1OC(CS(=O)(=O)O)C(O)C(O)C1O)CCCCCCCCCCCCCCCCCCCCCCC\n",
      "\n",
      "True SMILES: O=C(OCC(OC(=O)CCC=CCC=CCC=CCC=CCC=CCC=CCC)COC1OC(CS(=O)(=O)O)C(O)C(O)C1O)CCC=CCC=CCC=CCC=CCC=CCC=CCC\n",
      "Pred SMILES: O=C(OCC(OC(=O)CCC=CCCCCCCCCCCCCCCCCCCCCCC)COC1OC(CS(=O)(=O)O)C(O)C(O)C1O)CCC=CCCCCCCCCC==CCCCCCCCCCCC\n",
      "\n",
      "True SMILES: O=C(OCC(OC(=O)CCCCCC=CCC=CCC=CCC=CCC=CCC)COC1OC(CS(=O)(=O)O)C(O)C(O)C1O)CCCCCCCCCCCCCCCCCCCCCCCCCC\n",
      "Pred SMILES: O=C(OCC(OC(=O)CCCCCCCCCCCC=CCCCCCCCCCCCC)COC1OC(CS(=O)(=O)O)C(O)C(O)C1O)CCCCCCCCCCCCCCCCCCCCCCCCCC\n",
      "\n",
      "True SMILES: O=C(OCC(OC(=O)CCCCCC=CCC=CCC=CCC=CCC=CCC)COC1OC(CS(=O)(=O)O)C(O)C(O)C1O)CCCCCCCCCCCCC=CCC=CCC=CCC=CCC\n",
      "Pred SMILES: O=C(OCC(OC(=O)CCCCCCCCCCCCCCCCCCCCCCCCCC)COC1OC(CS(=O)(=O)O)C(O)C(O)C1O)CCCCCCCCCCCCC=C===CCCCCCCCCCCC\n",
      "\n",
      "True SMILES: O=C(OCC(OC(=O)CCCCCC=CCC=CCC=CCC=CCC=CCC)COC1OC(CS(=O)(=O)O)C(O)C(O)C1O)CCCCCCCCCCCCCC=CCC=CCCCCCCC\n",
      "Pred SMILES: O=C(OCC(OC(=O)CCCCCCCCCCCCCCCCCCCCCCCCCC)COC1OC(CS(=O)(=O)O)C(O)C(O)C1O)CCCCCCCCCCCCCCCCCCCCCCCCCCCC\n",
      "\n",
      "True SMILES: O=C(OCC(OC(=O)CCCCCC=CCC=CCC=CCC=CCC=CCC)COC1OC(CS(=O)(=O)O)C(O)C(O)C1O)CCCCCCCCCCCCCC=CCCCCCCCCCC\n",
      "Pred SMILES: O=C(OCC(OC(=O)CCCCCCCCCCCC=CCCCCCCCCCCCC)COC1OC(CS(=O)(=O)O)C(O)C(O)C1O)CCCCCCCCCCCCCCCCCCCCCCCCCC\n",
      "\n",
      "True SMILES: O=C(OCC(OC(=O)CCCCCCCCC=CCC=CCC=CCCCCC)COC1OC(CS(=O)(=O)O)C(O)C(O)C1O)CCCCCCCCCCCCCCCCCCCCCCCCC\n",
      "Pred SMILES: O=C(OCC(OC(=O)CCCCCCCCC=CCCCCCCCCCCCCC)COC1OC(CS(=O)(=O)O)C(O)C(O)C1O)CCCCCCCCCCCCCCCCCCCCCCCCC\n",
      "\n",
      "True SMILES: O=C(OCC(OC(=O)CCCCCCCCC=CCC=CCC=CCCCCC)COC1OC(CS(=O)(=O)O)C(O)C(O)C1O)CCCCCCCCCCCCCCCCCCCCCCCC\n",
      "Pred SMILES: O=C(OCC(OC(=O)CCCCCCCCC=CCCCCCCCCCCCCC)COC1OC(CS(=O)(=O)O)C(O)C(O)C1O)CCCCCCCCCCCCCCCCCCCCCCCC\n",
      "\n",
      "True SMILES: O=C(OCC(OC(=O)CCCCCCCCCCC=CCC=CCC=CCC=CCC)COC1OC(CS(=O)(=O)O)C(O)C(O)C1O)CCCCCCCCC=CCC=CCC=CCCCCC\n",
      "Pred SMILES: O=C(OCC(OC(=O)CCCCCCCCCCCCCCCCCCCCCCCCCCC)COC1OC(CS(=O)(=O)O)C(O)C(O)C1O)CCCCCCCCCCCCC=CCCCCCCCCC\n",
      "\n",
      "True SMILES: O=C(OCC(OC(=O)CCCCCCCCC=CCC=CCC=CCCCCC)COC1OC(CS(=O)(=O)O)C(O)C(O)C1O)CCCCCCCCCCCC=CCC=CCCCCCCC\n",
      "Pred SMILES: O=C(OCC(OC(=O)CCCCCCCCCCCCCCCCCCCCCCCC)COC1OC(CS(=O)(=O)O)C(O)C(O)C1O)CCCCCCCCCCCCCCCC=CCCCCCCC\n",
      "\n",
      "True SMILES: O=C(OCC(OC(=O)CCCCCCCCC=CCC=CCC=CCCCCC)COC1OC(CS(=O)(=O)O)C(O)C(O)C1O)CCCCCCCCCCCC=CCCCCCCCCCC\n",
      "Pred SMILES: O=C(OCC(OC(=O)CCCCCCCCCCCCCCCCCCCCCCCC)COC1OC(CS(=O)(=O)O)C(O)C(O)C1O)CCCCCCCCCCCCCCCCCCCCCCCC\n",
      "\n",
      "True SMILES: O=C(OCC(OC(=O)CCCCCCCCCCCC=CCCCCCCCC)COC1OC(CS(=O)(=O)O)C(O)C(O)C1O)CCCCCCCCCCCCCCCCCCCCCCCC\n",
      "Pred SMILES: O=C(OCC(OC(=O)CCCCCCCCCCCCCCCCCCCCCC)COC1OC(CS(=O)(=O)O)C(O)C(O)C1O)CCCCCCCCCCCCCCCCCCCCCCCC\n",
      "\n",
      "True SMILES: O=C(OCC(OC(=O)CCCCCCCCCCC=CCC=CCC=CCC=CCC)COC1OC(CS(=O)(=O)O)C(O)C(O)C1O)CCCCCCCCCCCC=CCCCCCCCC\n",
      "Pred SMILES: O=C(OCC(OC(=O)CCCCCCCCCCCCCCCCCCCCCCCCCCC)COC1OC(CS(=O)(=O)O)C(O)C(O)C1O)CCCCCCCCCCCCCCCCCCCCCC\n",
      "\n",
      "True SMILES: O=C(OCC(OC(=O)CCCCCCCCCCCC=CCC=CCCCCCCC)COC1OC(CS(=O)(=O)O)C(O)C(O)C1O)CCCCCCCCCCCC=CCCCCCCCC\n",
      "Pred SMILES: O=C(OCC(OC(=O)CCCCCCCCCCCCCCCCCCCCCCCCC)COC1OC(CS(=O)(=O)O)C(O)C(O)C1O)CCCCCCCCCCCCCCCCCCCCCC\n",
      "\n",
      "True SMILES: O=C(OCC(OC(=O)CCCCCCCCCCCC=CCCCCCCCCCC)COC1OC(CS(=O)(=O)O)C(O)C(O)C1O)CCCCCCCCCCCC=CCCCCCCCC\n",
      "Pred SMILES: O=C(OCC(OC(=O)CCCCCCCCCCCCCCCCCCCCCCCC)COC1OC(CS(=O)(=O)O)C(O)C(O)C1O)CCCCCCCCCCCCCCCCCCCCCC\n",
      "\n",
      "True SMILES: O=C(OCC(OC(=O)CCCCCCCCCCCC=CCCCCCCCC)COC1OC(CS(=O)(=O)O)C(O)C(O)C1O)CCCCCCCCCCCCCCCCCCCCCCC\n",
      "Pred SMILES: O=C(OCC(OC(=O)CCCCCCCCCCCCCCCCCCCCCC)COC1OC(CS(=O)(=O)O)C(O)C(O)C1O)CCCCCCCCCCCCCCCCCCCCCCC\n",
      "\n",
      "True SMILES: O=C(OCC(OC(=O)CCCCCCCCCCCCCC=CCC=CCCCCCCC)COC1OC(CS(=O)(=O)O)C(O)C(O)C1O)CCCCCCCCCC=CCC=CCCCCCC\n",
      "Pred SMILES: O=C(OCC(OC(=O)CCCCCCCCCCCCCCCCCCCCCCCCCCC)COC1OC(CS(=O)(=O)O)C(O)C(O)C1O)CCCCCCCCCCCCCCCCCCCCCCCC\n",
      "\n",
      "True SMILES: O=C(OCC(OC(=O)CCCCCCCCCC=CCC=CCCCCCC)COC1OC(CS(=O)(=O)O)C(O)C(O)C1O)CCCCCCCCCCCCCC=CCCCCCCCCCC\n",
      "Pred SMILES: O=C(OCC(OC(=O)CCCCCCCCCC=CCCCCCCCCCC)COC1OC(CS(=O)(=O)O)C(O)C(O)C1O)CCCCCCCCCCCCCCCCCCCCCCCCCC\n",
      "\n",
      "True SMILES: O=C(OCC(OC(=O)CCCCCCCCCC=CCC=CCCCCCC)COC1OC(CS(=O)(=O)O)C(O)C(O)C1O)CCCCCCCCCCCCCCCCCCCCCCCCC\n",
      "Pred SMILES: O=C(OCC(OC(=O)CCCCCCCCCC=C=CCCCCCCCC)COC1OC(CS(=O)(=O)O)C(O)C(O)C1O)CCCCCCCCCCCCCCCCCCCCCCCCC\n",
      "\n",
      "True SMILES: O=C(OCC(OC(=O)CCCCCCCCCC=CCC=CCCCCCC)COC1OC(CS(=O)(=O)O)C(O)C(O)C1O)CCCCCCCCCCCCCCCCCCCCCCCC\n",
      "Pred SMILES: O=C(OCC(OC(=O)CCCCCCCCCC=CCCCCCCCCCC)COC1OC(CS(=O)(=O)O)C(O)C(O)C1O)CCCCCCCCCCCCCCCCCCCCCCCC\n",
      "\n",
      "True SMILES: O=C(OCC(OC(=O)CCCCCCCCCCC=CCC=CCC=CCC=CCC)COC1OC(CS(=O)(=O)O)C(O)C(O)C1O)CCCCCCCCCC=CCC=CCCCCCC\n",
      "Pred SMILES: O=C(OCC(OC(=O)CCCCCCCCCCCCCCCCCCCCCCCCCCC)COC1OC(CS(=O)(=O)O)C(O)C(O)C1O)CCCCCCCCCCCCCCCCCCCCCCCC\n",
      "\n",
      "True SMILES: O=C(OCC(OC(=O)CCCCCCCCCCCC=CCC=CCCCCC)COC1OC(CS(=O)(=O)O)C(O)C(O)C1O)CCCCCCCCCC=CCCCCCCCCC\n",
      "Pred SMILES: O=C(OCC(OC(=O)CCCCCCCCCCCCCCCCCCCCCCC)COC1OC(CS(=O)(=O)O)C(O)C(O)C1O)CCCCCCCCCCCCCCCCCCCCC\n",
      "\n",
      "True SMILES: O=C(OCC(OC(=O)CCCCCCCCCCCC=CCCCCCCCC)COC1OC(CS(=O)(=O)O)C(O)C(O)C1O)CCCCCCCCCC=CCCCCCCCCC\n",
      "Pred SMILES: O=C(OCC(OC(=O)CCCCCCCCCCCCCCCCCCCCCC)COC1OC(CS(=O)(=O)O)C(O)C(O)C1O)CCCCCCCCCCCCCCCCCCCCC\n",
      "\n",
      "True SMILES: O=C(OCC(OC(=O)CCCCCCCCCC=CCCCCCCCCC)COC1OC(CS(=O)(=O)O)C(O)C(O)C1O)CCCCCCCCCCCCCCCCCCCCC\n",
      "Pred SMILES: O=C(OCC(OC(=O)CCCCCCCCCC=CCCCCCCCCC)COC1OC(CS(=O)(=O)O)C(O)C(O)C1O)CCCCCCCCCCCCCCCCCCCCC\n",
      "\n",
      "True SMILES: O=C(OCC(OC(=O)CCCCCCCCCC=CCC=CCCCCCC)COC1OC(CS(=O)(=O)O)C(O)C(O)C1O)CCCCCCCCCC=CCCCCCCCCC\n",
      "Pred SMILES: O=C(OCC(OC(=O)CCCCCCCCCC=CCCCCCCCCCC)COC1OC(CS(=O)(=O)O)C(O)C(O)C1O)CCCCCCCCCCCCCCCCCCCCC\n",
      "\n",
      "True SMILES: O=C(OCC(OC(=O)CCCCCCCCCC=CCCCCCCCCC)COC1OC(CS(=O)(=O)O)C(O)C(O)C1O)CCCCCCCCCC=CCCCCCCCCC\n",
      "Pred SMILES: O=C(OCC(OC(=O)CCCCCCCCCCCCCCCCCCCCC)COC1OC(CS(=O)(=O)O)C(O)C(O)C1O)CCCCCCCCCCCCCCCCCCCCC\n",
      "\n",
      "True SMILES: O=C(OCC(OC(=O)CCCC=CCC=CCC=CCC=CCC=CCC)COC1OC(CS(=O)(=O)O)C(O)C(O)C1O)CCCCCCCCCCC=CCC=CCC=CCC=CCC\n",
      "Pred SMILES: O=C(OCC(OC(=O)CCC==CCCCCCC=CCCCCCCCCCC)COC1OC(CS(=O)(=O)O)C(O)C(O)C1O)CCCCCCCCCCCCCCC=CCCCCCCCCCCCC\n",
      "\n",
      "True SMILES: O=C(OCC(OC(=O)CCCC=CCC=CCC=CCC=CCC=CCC)COC1OC(CS(=O)(=O)O)C(O)C(O)C1O)CCCCCCCCCCCC=CCC=CCCCCCCC\n",
      "Pred SMILES: O=C(OCC(OC(=O)CCC==CCCCCCC=CCCCCCCCCCC)COC1OC(CS(=O)(=O)O)C(O)C(O)C1O)CCCCCCCCCCCCCCCC=CCCCCCCC\n",
      "\n",
      "True SMILES: O=C(OCC(OC(=O)CCCC=CCC=CCC=CCC=CCC=CCC)COC1OC(CS(=O)(=O)O)C(O)C(O)C1O)CCCCCCCCCCCC=CCCCCCCCCCC\n",
      "Pred SMILES: O=C(OCC(OC(=O)CCCC=CCCCCCC=CCCCCCCCCCC)COC1OC(CS(=O)(=O)O)C(O)C(O)C1O)CCCCCCCCCCCCCCCCCCCCCCCC\n",
      "\n",
      "True SMILES: O=C(OCC(OC(=O)CCCC=CCC=CCC=CCC=CCC=CCC)COC1OC(CS(=O)(=O)O)C(O)C(O)C1O)CCCCCCCCCCCCCCCCCCCCCCC\n",
      "Pred SMILES: O=C(OCC(OC(=O)CCC==C===CCC=CCCCCCCCCCC)COC1OC(CS(=O)(=O)O)C(O)C(O)C1O)CCCCCCCCCCCCCCCCCCCCCCC\n",
      "\n",
      "True SMILES: O=C(OCC(OC(=O)CCCC=CCC=CCC=CCC=CCC=CCC)COC1OC(CS(=O)(=O)O)C(O)C(O)C1O)CCCCCCCCCCCCCCCCCCCCCC\n",
      "Pred SMILES: O=C(OCC(OC(=O)CCCC=CC=CCCC=CCCCCCCCCCC)COC1OC(CS(=O)(=O)O)C(O)C(O)C1O)CCCCCCCCCCCCCCCCCCCCCC\n",
      "\n",
      "True SMILES: O=C(OCC(OC(=O)CCCCCCC=CCC=CCC=CCC=CCC)COC1OC(CS(=O)(=O)O)C(O)C(O)C1O)CCCCCCCCCCCC=CCCCCCCCC\n",
      "Pred SMILES: O=C(OCC(OC(=O)CCCCCCCCCCC=CCCCCCCCCCC)COC1OC(CS(=O)(=O)O)C(O)C(O)C1O)CCCCCCCCCCCCCCCCCCCCCC\n",
      "\n",
      "True SMILES: O=C(OCC(OC(=O)CCCCCCC=CCC=CCC=CCC=CCC)COC1OC(CS(=O)(=O)O)C(O)C(O)C1O)CCCCCCCCCCCCCCCCCCCCC\n",
      "Pred SMILES: O=C(OCC(OC(=O)CCCCCCCCCCC=CCCCCCCCCCC)COC1OC(CS(=O)(=O)O)C(O)C(O)C1O)CCCCCCCCCCCCCCCCCCCCC\n",
      "\n",
      "True SMILES: O=C(OCC(OC(=O)CCCCCCC=CCC=CCC=CCC=CCC)COC1OC(CS(=O)(=O)O)C(O)C(O)C1O)CCCCCCCCCC=CCC=CCCCCCC\n",
      "Pred SMILES: O=C(OCC(OC(=O)CCCCCCCCCCCCCCCCCCCCCCC)COC1OC(CS(=O)(=O)O)C(O)C(O)C1O)CCCCCCCCCCCCCCCCCCCCCC\n",
      "\n",
      "True SMILES: O=C(OCC(OC(=O)CCCCCCC=CCC=CCC=CCC=CCC)COC1OC(CS(=O)(=O)O)C(O)C(O)C1O)CCCCCCCCCC=CCCCCCCCCC\n",
      "Pred SMILES: O=C(OCC(OC(=O)CCCCCCCCCCC=CCCCCCCCCCC)COC1OC(CS(=O)(=O)O)C(O)C(O)C1O)CCCCCCCCCCCCCCCCCCCCC\n",
      "\n",
      "True SMILES: O=C(OCC(OC(=O)CCCCCCC=CCC=CCC=CCC=CCC)COC1OC(CS(=O)(=O)O)C(O)C(O)C1O)CCCCCCCCCCCCCCCCCCCC\n",
      "Pred SMILES: O=C(OCC(OC(=O)CCCCCCCCCCC=CCCCCCCCCCC)COC1OC(CS(=O)(=O)O)C(O)C(O)C1O)CCCCCCCCCCCCCCCCCCCC\n",
      "\n",
      "True SMILES: O=C(OCC(OC(=O)CCCCCCCCCCCCC=CCC=CCC=CCC=CCC)COC1OC(CS(=O)(=O)O)C(O)C(O)C1O)CCCCCCCCCC=CCC=CCCCCC\n",
      "Pred SMILES: O=C(OCC(OC(=O)CCCCCCCCCCCCCCCCCCCCCCCCCCCCC)COC1OC(CS(=O)(=O)O)C(O)C(O)C1O)CCCCCCCCCC=CCCCCCCCCCC\n",
      "\n",
      "True SMILES: O=C(OCC(OC(=O)CCCCCCCCCCCCCC=CCC=CCCCCCCC)COC1OC(CS(=O)(=O)O)C(O)C(O)C1O)CCCCCCCCCC=CCC=CCCCCC\n",
      "Pred SMILES: O=C(OCC(OC(=O)CCCCCCCCCCCCCCCCCCCCCCCCCCC)COC1OC(CS(=O)(=O)O)C(O)C(O)C1O)CCCCCCCCCCCCCCCCCCCCCC\n",
      "\n",
      "True SMILES: O=C(OCC(OC(=O)CCCCCCCCCC=CCC=CCCCCC)COC1OC(CS(=O)(=O)O)C(O)C(O)C1O)CCCCCCCCCCCCCC=CCCCCCCCCCC\n",
      "Pred SMILES: O=C(OCC(OC(=O)CCCCCCCCCC=C=CCCCCCCC)COC1OC(CS(=O)(=O)O)C(O)C(O)C1O)CCCCCCCCCCCCCCCCCCCCCCCCCCC\n",
      "\n",
      "True SMILES: O=C(OCC(OC(=O)CCCCCCCCCC=CCC=CCCCCC)COC1OC(CS(=O)(=O)O)C(O)C(O)C1O)CCCCCCCCCCCCCCCCCCCCCCCCC\n",
      "Pred SMILES: O=C(OCC(OC(=O)CCCCCCCCCC=C=CCCCCCCC)COC1OC(CS(=O)(=O)O)C(O)C(O)C1O)CCCCCCCCCCCCCCCCCCCCCCCCC\n",
      "\n",
      "True SMILES: O=C(OCC(OC(=O)CCCCCCCCCC=CCC=CCCCCC)COC1OC(CS(=O)(=O)O)C(O)C(O)C1O)CCCCCCCCCCCCCCCCCCCCCCCC\n",
      "Pred SMILES: O=C(OCC(OC(=O)CCCCCCCCCC=C=CCCCCCCC)COC1OC(CS(=O)(=O)O)C(O)C(O)C1O)CCCCCCCCCCCCCCCCCCCCCCCC\n",
      "\n",
      "True SMILES: O=C(OCC(OC(=O)CCCCCCCCCCCC=CCCCCCCCCCC)COC1OC(CS(=O)(=O)O)C(O)C(O)C1O)CCCCCCCCCC=CCCCCCCCC\n",
      "Pred SMILES: O=C(OCC(OC(=O)CCCCCCCCCCCCCCCCCCCCCCCC)COC1OC(CS(=O)(=O)O)C(O)C(O)C1O)CCCCCCCCCCCCCCCCCCCC\n",
      "\n",
      "True SMILES: O=C(OCC(OC(=O)CCCCCCCCCC=CCCCCCCCC)COC1OC(CS(=O)(=O)O)C(O)C(O)C1O)CCCCCCCCCCCCCCCCCCCCCCC\n",
      "Pred SMILES: O=C(OCC(OC(=O)CCCCCCCCCC=CCCCCCCCC)COC1OC(CS(=O)(=O)O)C(O)C(O)C1O)CCCCCCCCCCCCCCCCCCCCCCC\n",
      "\n",
      "True SMILES: O=C(OCC(OC(=O)CCCCCCCCCC=CCCCCCCCC)COC1OC(CS(=O)(=O)O)C(O)C(O)C1O)CCCCCCCCCCCCCCCCCCCCCC\n",
      "Pred SMILES: O=C(OCC(OC(=O)CCCCCCCCCC=CCCCCCCCC)COC1OC(CS(=O)(=O)O)C(O)C(O)C1O)CCCCCCCCCCCCCCCCCCCCCC\n",
      "\n",
      "True SMILES: O=C(OCC(OC(=O)CCC=CCC=CCC=CCC=CCC=CCC=CCC)COC1OC(CS(=O)(=O)O)C(O)C(O)C1O)CCCCCCCCCC=CCCCCCCCC\n",
      "Pred SMILES: O=C(OCC(OC(=O)CCC=CCCCCCCCCCCCCCCCCCCCCCC)COC1OC(CS(=O)(=O)O)C(O)C(O)C1O)CCCCCCCCCCCCCCCCCCCCCC\n",
      "\n",
      "True SMILES: O=C(OCC(OC(=O)CCCCCC=CCC=CCC=CCC=CCC=CCC)COC1OC(CS(=O)(=O)O)C(O)C(O)C1O)CCCCCCCCCC=CCCCCCCCC\n",
      "Pred SMILES: O=C(OCC(OC(=O)CCCCCCCCCCCCCCCCCCCCCCCCCC)COC1OC(CS(=O)(=O)O)C(O)C(O)C1O)CCCCCCCCCCCCCCCCCCCCCC\n",
      "\n",
      "True SMILES: O=C(OCC(OC(=O)CCCCCCCCC=CCC=CCC=CCCCCC)COC1OC(CS(=O)(=O)O)C(O)C(O)C1O)CCCCCCCCCCCCCCCCCCC\n",
      "Pred SMILES: O=C(OCC(OC(=O)CCCCCCCCC=CCCCCCCCCCCCCC)COC1OC(CS(=O)(=O)O)C(O)C(O)C1O)CCCCCCCCCCCCCCCCCCC\n",
      "\n",
      "True SMILES: O=C(OCC(OC(=O)CCCCCCCCCCCC=CCC=CCCCCC)COC1OC(CS(=O)(=O)O)C(O)C(O)C1O)CCCCCCCCCCCCCCCCCCC\n",
      "Pred SMILES: O=C(OCC(OC(=O)CCCCCCCCCCCCCCCCCCCCCCC)COC1OC(CS(=O)(=O)O)C(O)C(O)C1O)CCCCCCCCCCCCCCCCCCC\n",
      "\n",
      "True SMILES: O=C(OCC(OC(=O)CCCCCCCCCCCC=CCCCCCCCC)COC1OC(CS(=O)(=O)O)C(O)C(O)C1O)CCCCCCCCCCCCCCCCCCC\n",
      "Pred SMILES: O=C(OCC(OC(=O)CCCCCCCCCCCCCCCCCCCCCC)COC1OC(CS(=O)(=O)O)C(O)C(O)C1O)CCCCCCCCCCCCCCCCCCC\n",
      "\n",
      "True SMILES: O=C(OCC(OC(=O)CCCCCCCCCCCCCCCCCCCCC)COC1OC(CS(=O)(=O)O)C(O)C(O)C1O)CCCCCCCCCCCCCCCCCCC\n",
      "Pred SMILES: O=C(OCC(OC(=O)CCCCCCCCCCCCCCCCCCCCC)COC1OC(CS(=O)(=O)O)C(O)C(O)C1O)CCCCCCCCCCCCCCCCCCC\n",
      "\n",
      "True SMILES: O=C(OCC(OC(=O)CCCCCCCCCC=CCC=CCCCCCC)COC1OC(CS(=O)(=O)O)C(O)C(O)C1O)CCCCCCCCCCCCCCCCCCC\n",
      "Pred SMILES: O=C(OCC(OC(=O)CCCCCCCCCC=C=CCCCCCCCC)COC1OC(CS(=O)(=O)O)C(O)C(O)C1O)CCCCCCCCCCCCCCCCCCC\n",
      "\n",
      "True SMILES: O=C(OCC(OC(=O)CCCCCCCC=CCC=CCCCCCC)COC1OC(CS(=O)(=O)O)C(O)C(O)C1O)CCCCCCCCCC=CCCCCCCCCC\n",
      "Pred SMILES: O=C(OCC(OC(=O)CCCCCCCC=CCC=CCCCCCC)COC1OC(CS(=O)(=O)O)C(O)C(O)C1O)CCCCCCCCCC=CCCCCCCCCC\n",
      "\n",
      "True SMILES: O=C(OCC(OC(=O)CCCCCCCC=CCC=CCCCCCC)COC1OC(CS(=O)(=O)O)C(O)C(O)C1O)CCCCCCCCCCCCCCCCCCCC\n",
      "Pred SMILES: O=C(OCC(OC(=O)CCCCCCCC=CCC=CCCCCCC)COC1OC(CS(=O)(=O)O)C(O)C(O)C1O)CCCCCCCCCCCCCCCCCCCC\n",
      "\n",
      "True SMILES: O=C(OCC(OC(=O)CCCC=CCC=CCC=CCC=CCC=CCC)COC1OC(CS(=O)(=O)O)C(O)C(O)C1O)CCCCCCCC=CCC=CCCCCCC\n",
      "Pred SMILES: O=C(OCC(OC(=O)CCCC=CCCCCCCCCCCCCCCCCCC)COC1OC(CS(=O)(=O)O)C(O)C(O)C1O)CCCCCCCCCCCCCCCCCCCC\n",
      "\n",
      "True SMILES: O=C(OCC(OC(=O)CCCCCCC=CCC=CCC=CCC=CCC)COC1OC(CS(=O)(=O)O)C(O)C(O)C1O)CCCCCCCC=CCC=CCCCCCC\n",
      "Pred SMILES: O=C(OCC(OC(=O)CCCCCCCCCCC=CCCCCCCCCCC)COC1OC(CS(=O)(=O)O)C(O)C(O)C1O)CCCCCCCC=CCCCCCCCCCC\n",
      "\n",
      "True SMILES: O=C(OCC(OC(=O)CCCCCCCCCC=CCC=CCC=CCC)COC1OC(CS(=O)(=O)O)C(O)C(O)C1O)CCCCCCCC=CCC=CCCCCCC\n",
      "Pred SMILES: O=C(OCC(OC(=O)CCCCCCCCCCCCCCCCCCCCCC)COC1OC(CS(=O)(=O)O)C(O)C(O)C1O)CCCCCCCC=CCCCCCCCCCC\n",
      "\n",
      "True SMILES: O=C(OCC(OC(=O)CCCCCCCCCC=CCC=CCC=CCC)COC1OC(CS(=O)(=O)O)C(O)C(O)C1O)CCCCCCCC=CCCCCCCCCC\n",
      "Pred SMILES: O=C(OCC(OC(=O)CCCCCCCCCC=C=CCC==CCCC)COC1OC(CS(=O)(=O)O)C(O)C(O)C1O)CCCCCCCC=CCCCCCCCCC\n",
      "\n",
      "True SMILES: O=C(OCC(OC(=O)CCCCCCCCCC=CCC=CCCCCC)COC1OC(CS(=O)(=O)O)C(O)C(O)C1O)CCCCCCCC=CCCCCCCCCC\n",
      "Pred SMILES: O=C(OCC(OC(=O)CCCCCCCCCC=C=CCCCCCCC)COC1OC(CS(=O)(=O)O)C(O)C(O)C1O)CCCCCCCC=CCCCCCCCCC\n",
      "\n",
      "True SMILES: O=C(OCC(OC(=O)CCCCCCCCCC=CCCCCCCCC)COC1OC(CS(=O)(=O)O)C(O)C(O)C1O)CCCCCCCC=CCCCCCCCCC\n",
      "Pred SMILES: O=C(OCC(OC(=O)CCCCCCCCCC=CCCCCCCCC)COC1OC(CS(=O)(=O)O)C(O)C(O)C1O)CCCCCCCC=CCCCCCCCCCC\n",
      "\n",
      "True SMILES: CCCCCCCCCCCCCCCCCCCC(=O)OCC(COC1OC(CS(O)(=O)=O)C(O)C(O)C1O)OC(=O)CCCCCCC\\C=C/CCCCCCCCC\n",
      "Pred SMILES: CCCCCCCCCCCCCCCCCCCCC=O)C)((O1)1O)(CS(C)(=O)OO)O(O)C(O)C(O)C)1=O)CCCCCCCCC=CCCCCCCCCCCC\n",
      "\n",
      "True SMILES: O=C(OCC(OC(=O)CCCCCCCC=CCC=CCCCCCC)COC1OC(CS(=O)(=O)O)C(O)C(O)C1O)CCCCCCCC=CCCCCCCCCC\n",
      "Pred SMILES: O=C(OCC(OC(=O)CCCCCCCC=CCC=CCCCCCC)COC1OC(CS(=O)(=O)O)C(O)C(O)C1O)CCCCCCCC=CCCCCCCCCCC\n",
      "\n",
      "True SMILES: O=C(OCC(OC(=O)CCCCCCCCCCCCCCCCCCC)COC1OC(CS(=O)(=O)O)C(O)C(O)C1O)CCCCCCCCCCCCCCCCCC\n",
      "Pred SMILES: O=C(OCC(OC(=O)CCCCCCCCCCCCCCCCCCC)COC1OC(CS(=O)(=O)O)C(O)C(O)C1O)CCCCCCCCCCCCCCCCCCC\n",
      "\n",
      "True SMILES: O=C(OCC(OC(=O)CCCCCCCC=CCC=CCCCCCC)COC1OC(CS(=O)(=O)O)C(O)C(O)C1O)CCCCCCCCCCCCCCCCCC\n",
      "Pred SMILES: O=C(OCC(OC(=O)CCCCCCCC=CCC=CCCCCCC)COC1OC(CS(=O)(=O)O)C(O)C(O)C1O)CCCCCCCCCCCCCCCCCCC\n",
      "\n",
      "True SMILES: O=C(OCC(OC(=O)CCCCCCCC=CCCCCCCCCC)COC1OC(CS(=O)(=O)O)C(O)C(O)C1O)CCCCCCCCCCCCCCCCCC\n",
      "Pred SMILES: O=C(OCC(OC(=O)CCCCCCCC=CCCCCCCCCC)COC1OC(CS(=O)(=O)O)C(O)C(O)C1O)CCCCCCCCCCCCCCCCCCC\n",
      "\n",
      "True SMILES: O=C(OCC(OC(=O)CCCCCCCCCCCCCCCCCC)COC1OC(CS(=O)(=O)O)C(O)C(O)C1O)CCCCCCCCCCCCCCCCCC\n",
      "Pred SMILES: O=C(OCC(OC(=O)CCCCCCCCCCCCCCCCCC)COC1OC(CS(=O)(=O)O)C(O)C(O)C1O)CCCCCCCCCCCCCCCCCC\n",
      "\n",
      "True SMILES: O=C(OC(COC(=O)CCCCCCCCCCCCCCCCCCCCCCCCCC)COC1OC(CS(=O)(=O)O)C(O)C(O)C1O)CC=CCC=CCC=CCC=CCC=CCC\n",
      "Pred SMILES: O=C(OCCCOC(=O)CCCCCCCCCCCCCCCCCCCCCCCCCC)COC1OC(CS(=O)(=O)O)C(O)C(O)C1O)CCCC===C=CCCCC=CCCCCCC\n",
      "\n",
      "True SMILES: O=C(OC(COC(=O)CCCCCCCC=CCCCCCCCCC)COC1OC(CS(=O)(=O)O)C(O)C(O)C1O)CC=CCC=CCC=CCC=CCC=CCC\n",
      "Pred SMILES: O=C(OCCCOC(=O)CCCCCCCCCCCCCCCCCCC)COC1OC(CS(=O)(=O)O)C(O)C(O)C1O)CCCCCCCCC==C===CCCCCCC\n",
      "\n",
      "True SMILES: O=C(OC(COC(=O)CCCCCCCCCCCCCCCCCC)COC1OC(CS(=O)(=O)O)C(O)C(O)C1O)CC=CCC=CCC=CCC=CCC=CCC\n",
      "Pred SMILES: O=C(OCCCOC(=O)CCCCCCCCCCCCCCCCCC)COC1OC(CS(=O)(=O)O)C(O)C(O)C1O)CCCCCC=CCC=C===CCCCCCC\n",
      "\n",
      "True SMILES: O=C(OCC(OC(=O)CC=CCC=CCC=CCC=CCC=CCC)COC1OC(CS(=O)(=O)O)C(O)C(O)C1O)CC=CCC=CCC=CCC=CCC=CCC\n",
      "Pred SMILES: O=C(OCC(OC(=O)CCCCCC=CCCCCCCCCCCCCCC)COC1OC(CS(=O)(=O)O)C(O)C(O)C1O)CCCCCCCC===CCCCCCCCCCC\n",
      "\n",
      "True SMILES: O=C(OCC(OC(=O)CCCCC=CCC=CCC=CCC=CCC)COC1OC(CS(=O)(=O)O)C(O)C(O)C1O)CCCCCCCCCCCCCCCCCCCCCCCCCC\n",
      "Pred SMILES: O=C(OCC(OC(=O)CCCC=CC===CC=CCCCCCCC)COC1OC(CS(=O)(=O)O)C(O)C(O)C1O)CCCCCCCCCCCCCCCCCCCCCCCCCCC\n",
      "\n",
      "True SMILES: O=C(OCC(OC(=O)CCCCCCCCCCCCC=CCC=CCC=CCC=CCC)COC1OC(CS(=O)(=O)O)C(O)C(O)C1O)CCCCC=CCC=CCC=CCC=CCC\n",
      "Pred SMILES: O=C(OCC(OC(=O)CCCCCCCCCCCCCCCCCCCCCCCCCCCCC)COC1OC(CS(=O)(=O)O)C(O)C(O)C1O)CCCC==C=CCC===CCCCCCCC\n",
      "\n",
      "True SMILES: O=C(OCC(OC(=O)CCCCC=CCC=CCC=CCC=CCC)COC1OC(CS(=O)(=O)O)C(O)C(O)C1O)CCCCCCCCCCCCCCCCCC\n",
      "Pred SMILES: O=C(OCC(OC(=O)CCCC==C===CC=CCCCCCCC)COC1OC(CS(=O)(=O)O)C(O)C(O)C1O)CCCCCCCCCCCCCCCCCCC\n",
      "\n",
      "True SMILES: O=C(OC(COC(=O)CCCCC=CCC=CCC=CCC=CCC)COC1OC(CS(=O)(=O)O)C(O)C(O)C1O)CC=CCC=CCC=CCC=CCC=CCC\n",
      "Pred SMILES: O=C(OCCCOC(=O)CCCCCCCCCCCCCCCCCCCCC)COC1OC(CS(=O)(=O)O)C(O)C(O)C1O)CCCCCCCC===C=CCCCCCCCC\n",
      "\n",
      "True SMILES: O=C(OCC(OC(=O)CCCCC=CCC=CCC=CCC=CCC)COC1OC(CS(=O)(=O)O)C(O)C(O)C1O)CCCCC=CCC=CCC=CCC=CCC\n",
      "Pred SMILES: O=C(OCC(OC(=O)CCCCCCCCCCCCCCCCCCCCC)COC1OC(CS(=O)(=O)O)C(O)C(O)C1O)CCCCCCCC==C=CCCCCCCCC\n",
      "\n",
      "True SMILES: O=C(OCC(OC(=O)CCCCCCCC=CCC=CCC=CCC)COC1OC(CS(=O)(=O)O)C(O)C(O)C1O)CCCCCCCCCCCCCCCCCCCCCCCCCC\n",
      "Pred SMILES: O=C(OCC(OC(=O)CCCCCCCC=CCC=CCCCCCC)COC1OC(CS(=O)(=O)O)C(O)C(O)C1O)CCCCCCCCCCCCCCCCCCCCCCCCCC\n",
      "\n",
      "True SMILES: O=C(OCC(OC(=O)CCCCCCCCCCCCC=CCC=CCC=CCC=CCC)COC1OC(CS(=O)(=O)O)C(O)C(O)C1O)CCCCCCCC=CCC=CCC=CCC\n",
      "Pred SMILES: O=C(OCC(OC(=O)CCCCCCCCCCCCCCCCCCCCCCCCCCCCC)COC1OC(CS(=O)(=O)O)C(O)C(O)C1O)CCCCCCCCCCCC=CCCCCCCC\n",
      "\n",
      "True SMILES: O=C(OCC(OC(=O)CCCCCCCC=CCC=CCC=CCC)COC1OC(CS(=O)(=O)O)C(O)C(O)C1O)CCCCCCCCCCCCCCCCCC\n",
      "Pred SMILES: O=C(OCC(OC(=O)CCCCCCCC=CCC=CCCCCCC)COC1OC(CS(=O)(=O)O)C(O)C(O)C1O)CCCCCCCCCCCCCCCCCCC\n",
      "\n",
      "True SMILES: O=C(OC(COC(=O)CCCCCCCC=CCC=CCC=CCC)COC1OC(CS(=O)(=O)O)C(O)C(O)C1O)CC=CCC=CCC=CCC=CCC=CCC\n",
      "Pred SMILES: O=C(OCCCOC(=O)CCCCCCCCCCCCCCCCCCCC)COC1OC(CS(=O)(=O)O)C(O)C(O)C1O)CCCCCCCCC==C==CCCCCCCC\n",
      "\n",
      "True SMILES: O=C(OCC(OC(=O)CCCCC=CCC=CCC=CCC=CCC)COC1OC(CS(=O)(=O)O)C(O)C(O)C1O)CCCCCCCC=CCC=CCC=CCC\n",
      "Pred SMILES: O=C(OCC(OC(=O)CCCC==CCCCCCCCCCCCCCC)COC1OC(CS(=O)(=O)O)C(O)C(O)C1O)CCCCCCCC=C=CCCCCCCCC\n",
      "\n",
      "True SMILES: O=C(OCC(OC(=O)CCCCCCCC=CCC=CCC=CCC)COC1OC(CS(=O)(=O)O)C(O)C(O)C1O)CCCCCCCC=CCC=CCC=CCC\n",
      "Pred SMILES: O=C(OCC(OC(=O)CCCCCCCC=CCC=CCCCCCC)COC1OC(CS(=O)(=O)O)C(O)C(O)C1O)CCCCCCCC=C===CCCCCCC\n",
      "\n",
      "True SMILES: O=C(OCC(OC(=O)CCCCCCCC=CCC=CCCCCC)COC1OC(CS(=O)(=O)O)C(O)C(O)C1O)CCCCCCCCCCCCCCCCCCCCCCCCCC\n",
      "Pred SMILES: O=C(OCC(OC(=O)CCCCCCCC=CCC=CCCCCC)COC1OC(CS(=O)(=O)O)C(O)C(O)C1O)CCCCCCCCCCCCCCCCCCCCCCCCCC\n",
      "\n",
      "True SMILES: O=C(OCC(OC(=O)CCCCCCCC=CCC=CCCCCC)COC1OC(CS(=O)(=O)O)C(O)C(O)C1O)CCCCCCCC=CCCCCCCCCC\n",
      "Pred SMILES: O=C(OCC(OC(=O)CCCCCCCC=CCC=CCCCCC)COC1OC(CS(=O)(=O)O)C(O)C(O)C1O)CCCCCCCC=CCCCCCCCCC\n",
      "\n",
      "True SMILES: O=C(OCC(OC(=O)CCCCCCCC=CCC=CCCCCC)COC1OC(CS(=O)(=O)O)C(O)C(O)C1O)CCCCCCCCCCCCCCCCCC\n",
      "Pred SMILES: O=C(OCC(OC(=O)CCCCCCCC=CCC=CCCCCC)COC1OC(CS(=O)(=O)O)C(O)C(O)C1O)CCCCCCCCCCCCCCCCCCC\n",
      "\n",
      "True SMILES: O=C(OC(COC(=O)CCCCCCCC=CCC=CCCCCC)COC1OC(CS(=O)(=O)O)C(O)C(O)C1O)CC=CCC=CCC=CCC=CCC=CCC\n",
      "Pred SMILES: O=C(OCCCOC(=O)CCCCCCCC=CCCCCCCCCC)COC1OC(CS(=O)(=O)O)C(O)C(O)C1O)CCCCCCCCCC=C===CCCCCCC\n",
      "\n",
      "True SMILES: O=C(OCC(OC(=O)CCCCC=CCC=CCC=CCC=CCC)COC1OC(CS(=O)(=O)O)C(O)C(O)C1O)CCCCCCCC=CCC=CCCCCC\n",
      "Pred SMILES: O=C(OCC(OC(=O)CCCCCCCCCCCCCCCCCCCCC)COC1OC(CS(=O)(=O)O)C(O)C(O)C1O)CCCCCCCC=C=CCCCCCCC\n",
      "\n",
      "True SMILES: O=C(OCC(OC(=O)CCCCCCCC=CCC=CCC=CCC)COC1OC(CS(=O)(=O)O)C(O)C(O)C1O)CCCCCCCC=CCC=CCCCCC\n",
      "Pred SMILES: O=C(OCC(OC(=O)CCCCCCCCCCCC=CCCCCCC)COC1OC(CS(=O)(=O)O)C(O)C(O)C1O)CCCCCCCC=C===CCCCCC\n",
      "\n",
      "True SMILES: O=C(OCC(OC(=O)CCCCCCCC=CCCCCCCCC)COC1OC(CS(=O)(=O)O)C(O)C(O)C1O)CCCCCCCCCCCCCCCCCCC\n",
      "Pred SMILES: O=C(OCC(OC(=O)CCCCCCCC=CCCCCCCCC)COC1OC(CS(=O)(=O)O)C(O)C(O)C1O)CCCCCCCCCCCCCCCCCCCC\n",
      "\n",
      "True SMILES: O=C(OCC(OC(=O)CCCCCCCC=CCC=CCCCCCC)COC1OC(CS(=O)(=O)O)C(O)C(O)C1O)CCCCCCCC=CCCCCCCCC\n",
      "Pred SMILES: O=C(OCC(OC(=O)CCCCCCCC=CCC=CCCCCCC)COC1OC(CS(=O)(=O)O)C(O)C(O)C1O)CCCCCCCC=CCCCCCCCCC\n",
      "\n",
      "True SMILES: O=C(OCC(OC(=O)CCCCCCCC=CCCCCCCCCC)COC1OC(CS(=O)(=O)O)C(O)C(O)C1O)CCCCCCCC=CCCCCCCCC\n",
      "Pred SMILES: O=C(OCC(OC(=O)CCCCCCCC=CCCCCCCCCC)COC1OC(CS(=O)(=O)O)C(O)C(O)C1O)CCCCCCCC=CCCCCCCCCC\n",
      "\n",
      "True SMILES: O=C(OCC(OC(=O)CCCCCCCC=CCCCCCCCC)COC1OC(CS(=O)(=O)O)C(O)C(O)C1O)CCCCCCCCCCCCCCCCCC\n",
      "Pred SMILES: O=C(OCC(OC(=O)CCCCCCCC=CCCCCCCCC)COC1OC(CS(=O)(=O)O)C(O)C(O)C1O)CCCCCCCCCCCCCCCCCCC\n",
      "\n",
      "True SMILES: O=C(OC(COC(=O)CCCCCCCC=CCCCCCCCC)COC1OC(CS(=O)(=O)O)C(O)C(O)C1O)CC=CCC=CCC=CCC=CCC=CCC\n",
      "Pred SMILES: O=C(OCCCOC(=O)CCCCCCCCCCCCCCCCCC)COC1OC(CS(=O)(=O)O)C(O)C(O)C1O)CCCCCCCCCC=C===CCCCCCC\n",
      "\n",
      "True SMILES: O=C(OCC(OC(=O)CCCCCCCCCC=CCC=CCC=CCC)COC1OC(CS(=O)(=O)O)C(O)C(O)C1O)CCCCCCCCCCCCCCCCC\n",
      "Pred SMILES: O=C(OCC(OC(=O)CCCCCCCCCC=C=CCC==CCCC)COC1OC(CS(=O)(=O)O)C(O)C(O)C1O)CCCCCCCCCCCCCCCCCC\n",
      "\n",
      "True SMILES: O=C(OCC(OC(=O)CCCCCCCCCC=CCC=CCCCCC)COC1OC(CS(=O)(=O)O)C(O)C(O)C1O)CCCCCCCCCCCCCCCCC\n",
      "Pred SMILES: O=C(OCC(OC(=O)CCCCCCCCCC=CCCCCCCCCC)COC1OC(CS(=O)(=O)O)C(O)C(O)C1O)CCCCCCCCCCCCCCCCCC\n",
      "\n",
      "True SMILES: O=C(OCC(OC(=O)CCCCCCCCCC=CCCCCCCCC)COC1OC(CS(=O)(=O)O)C(O)C(O)C1O)CCCCCCCCCCCCCCCCC\n",
      "Pred SMILES: O=C(OCC(OC(=O)CCCCCCCCCCCCCCCCCCCC)COC1OC(CS(=O)(=O)O)C(O)C(O)C1O)CCCCCCCCCCCCCCCCCC\n",
      "\n",
      "True SMILES: O=C(OCC(OC(=O)CCCCCCCCCCCCCCCCCCC)COC1OC(CS(=O)(=O)O)C(O)C(O)C1O)CCCCCCCCCCCCCCCCC\n",
      "Pred SMILES: O=C(OCC(OC(=O)CCCCCCCCCCCCCCCCCCC)COC1OC(CS(=O)(=O)O)C(O)C(O)C1O)CCCCCCCCCCCCCCCCC\n",
      "\n",
      "True SMILES: O=C(OCC(OC(=O)CCCCCCCC=CCC=CCCCCCC)COC1OC(CS(=O)(=O)O)C(O)C(O)C1O)CCCCCCCCCCCCCCCCC\n",
      "Pred SMILES: O=C(OCC(OC(=O)CCCCCCCC=CCC=CCCCCCC)COC1OC(CS(=O)(=O)O)C(O)C(O)C1O)CCCCCCCCCCCCCCCCCC\n",
      "\n",
      "True SMILES: O=C(OCC(OC(=O)CCCCCCCC=CCC=CCCCC)COC1OC(CS(=O)(=O)O)C(O)C(O)C1O)CCCCCCCCCC=CCCCCCCCCC\n",
      "Pred SMILES: O=C(OCC(OC(=O)CCCCCCCC=CCC=CCCCC)COC1OC(CS(=O)(=O)O)C(O)C(O)C1O)CCCCCCCCCC=CCCCCCCCCCC\n",
      "\n",
      "True SMILES: O=C(OCC(OC(=O)CCCCCCCC=CCC=CCCCC)COC1OC(CS(=O)(=O)O)C(O)C(O)C1O)CCCCCCCCCCCCCCCCCCCC\n",
      "Pred SMILES: O=C(OCC(OC(=O)CCCCCCCC=CCC=CCCCC)COC1OC(CS(=O)(=O)O)C(O)C(O)C1O)CCCCCCCCCCCCCCCCCCCCC\n",
      "\n",
      "True SMILES: O=C(OCC(OC(=O)CCCC=CCC=CCC=CCC=CCC=CCC)COC1OC(CS(=O)(=O)O)C(O)C(O)C1O)CCCCCCCC=CCC=CCCCC\n",
      "Pred SMILES: O=C(OCC(OC(=O)CCCC=CCCCCCCCCCCCCCCCCCC)COC1OC(CS(=O)(=O)O)C(O)C(O)C1O)CCCCCCCCCCCCCCCCCCCC\n",
      "\n",
      "True SMILES: O=C(OCC(OC(=O)CCCCCCC=CCC=CCC=CCC=CCC)COC1OC(CS(=O)(=O)O)C(O)C(O)C1O)CCCCCCCC=CCC=CCCCC\n",
      "Pred SMILES: O=C(OCC(OC(=O)CCCCCCCCCCCCCCCCCCCCCCC)COC1OC(CS(=O)(=O)O)C(O)C(O)C1O)CCCCCCCC=CCCCCCCCCC\n",
      "\n",
      "True SMILES: O=C(OCC(OC(=O)CCCCCCCCCC=CCC=CCC=CCC)COC1OC(CS(=O)(=O)O)C(O)C(O)C1O)CCCCCCCC=CCC=CCCCC\n",
      "Pred SMILES: O=C(OCC(OC(=O)CCCCCCCCCCCCCCCC=CCCCC)COC1OC(CS(=O)(=O)O)C(O)C(O)C1O)CCCCCCCC=CCCCCCCCC\n",
      "\n",
      "True SMILES: O=C(OCC(OC(=O)CCCCCCCCC=CCC=CCC=CCCCCC)COC1OC(CS(=O)(=O)O)C(O)C(O)C1O)CCCCCCCC=CCCCCCCC\n",
      "Pred SMILES: O=C(OCC(OC(=O)CCCCCCCCCCCCCCCCCCCCCCCC)COC1OC(CS(=O)(=O)O)C(O)C(O)C1O)CCCCCCCCCCCCCCCCCC\n",
      "\n",
      "True SMILES: O=C(OCC(OC(=O)CCCCCCCCCCCC=CCC=CCCCCC)COC1OC(CS(=O)(=O)O)C(O)C(O)C1O)CCCCCCCC=CCCCCCCC\n",
      "Pred SMILES: O=C(OCC(OC(=O)CCCCCCCCCCCCCCCCCCCCCCC)COC1OC(CS(=O)(=O)O)C(O)C(O)C1O)CCCCCCCCCCCCCCCCCC\n",
      "\n",
      "True SMILES: O=C(OCC(OC(=O)CCCCCCCCCCCC=CCCCCCCCC)COC1OC(CS(=O)(=O)O)C(O)C(O)C1O)CCCCCCCC=CCCCCCCC\n",
      "Pred SMILES: O=C(OCC(OC(=O)CCCCCCCCCCCCCCCCCCCCCC)COC1OC(CS(=O)(=O)O)C(O)C(O)C1O)CCCCCCCC=CCCCCCCCC\n",
      "\n",
      "True SMILES: O=C(OCC(OC(=O)CCCCCCCC=CCCCCCCC)COC1OC(CS(=O)(=O)O)C(O)C(O)C1O)CCCCCCCCCCCCCCCCCCCCC\n",
      "Pred SMILES: O=C(OCC(OC(=O)CCCCCCCC=CCCCCCCC)COC1O)(CS(=O)(=O)O)C(O)C(O)C1O)CCCCCCCCCCCCCCCCCCCCCC\n",
      "\n",
      "True SMILES: O=C(OCC(OC(=O)CCCCCCCCCC=CCC=CCCCCCC)COC1OC(CS(=O)(=O)O)C(O)C(O)C1O)CCCCCCCC=CCCCCCCC\n",
      "Pred SMILES: O=C(OCC(OC(=O)CCCCCCCCCCCCCCCCCCCCCC)COC1OC(CS(=O)(=O)O)C(O)C(O)C1O)CCCCCCCC=CCCCCCCCC\n",
      "\n",
      "True SMILES: O=C(OCC(OC(=O)CCCCCCCCCCCC=CCCCCCCCCCC)COC1OC(CS(=O)(=O)O)C(O)C(O)C1O)CCCCCCCCCCCCCCCC\n",
      "Pred SMILES: O=C(OCC(OC(=O)CCCCCCCCCCCCCCCCCCCCCCCC)COC1OC(CS(=O)(=O)O)C(O)C(O)C1O)CCCCCCCCCCCCCCCCC\n",
      "\n",
      "True SMILES: O=C(OCC(OC(=O)CCCCCCCCCCCCCCCCCCCCCCC)COC1OC(CS(=O)(=O)O)C(O)C(O)C1O)CCCCCCCCCCCCCCCC\n",
      "Pred SMILES: O=C(OCC(OC(=O)CCCCCCCCCCCCCCCCCCCCCCC)COC1OC(CS(=O)(=O)O)C(O)C(O)C1O)CCCCCCCCCCCCCCCCC\n",
      "\n",
      "True SMILES: O=C(OCC(OC(=O)CCCCCCCCCCCCCCCCCCCCCC)COC1OC(CS(=O)(=O)O)C(O)C(O)C1O)CCCCCCCCCCCCCCCC\n",
      "Pred SMILES: O=C(OCC(OC(=O)CCCCCCCCCCCCCCCCCCCCCC)COC1OC(CS(=O)(=O)O)C(O)C(O)C1O)CCCCCCCCCCCCCCCCC\n",
      "\n",
      "True SMILES: O=C(OCC(OC(=O)CCC=CCC=CCC=CCC=CCC=CCC=CCC)COC1OC(CS(=O)(=O)O)C(O)C(O)C1O)CCCCCCCCCCCCCCCC\n",
      "Pred SMILES: O=C(OCC(OC(=O)CCC=CCCCCCCCCCCCCCCCCCCCCCC)COC1OC(CS(=O)(=O)O)C(O)C(O)C1O)CCCCCCCCCCCCCCCCCC\n",
      "\n",
      "True SMILES: O=C(OCC(OC(=O)CCCCCC=CCC=CCC=CCC=CCC=CCC)COC1OC(CS(=O)(=O)O)C(O)C(O)C1O)CCCCCCCCCCCCCCCC\n",
      "Pred SMILES: O=C(OCC(OC(=O)CCCCCCCCCCCCCCCCCCCCCCCCCC)COC1OC(CS(=O)(=O)O)C(O)C(O)C1O)CCCCCCCCCCCCCCCCC\n",
      "\n",
      "True SMILES: O=C(OCC(OC(=O)CCCCCCCCCCCCC=CCC=CCC=CCC=CCC)COC1OC(CS(=O)(=O)O)C(O)C(O)C1O)CCC=CCC=CCC=CCC=CCC\n",
      "Pred SMILES: O=C(OCC(OC(=O)CCCCCCCCCCCCCCCCCCCCCCCCCCCCC)COC1OC(CS(=O)(=O)O)C(O)C(O)C1O)CCC=C=C=CCC=CCCCCCC\n",
      "\n",
      "True SMILES: O=C(OCC(OC(=O)CCC=CCC=CCC=CCC=CCC)COC1OC(CS(=O)(=O)O)C(O)C(O)C1O)CCCCCCCCCCCCCC=CCC=CCCCCCCC\n",
      "Pred SMILES: O=C(OCC(OC(=O)CCC=C===CCC=CCCCCCC)COC1OC(CS(=O)(=O)O)C(O)C(O)C1O)CCCCCCCCCCCCCCCCCCCCCCCCCCC\n",
      "\n",
      "True SMILES: O=C(OCC(OC(=O)CCC=CCC=CCC=CCC=CCC)COC1OC(CS(=O)(=O)O)C(O)C(O)C1O)CCCCCCCCCCCCCC=CCCCCCCCCCC\n",
      "Pred SMILES: O=C(OCC(OC(=O)CCC=C===CCC=CCCCCCC)COC1OC(CS(=O)(=O)O)C(O)C(O)C1O)CCCCCCCCCCCCCCCCCCCCCCCCCC\n",
      "\n",
      "True SMILES: O=C(OCC(OC(=O)CCC=CCC=CCC=CCC=CCC)COC1OC(CS(=O)(=O)O)C(O)C(O)C1O)CCCCCCCCCCCCCCCCCCCCCCCCC\n",
      "Pred SMILES: O=C(OCC(OC(=O)CCC=CC==CCC=CCCCCCC)COC1OC(CS(=O)(=O)O)C(O)C(O)C1O)CCCCCCCCCCCCCCCCCCCCCCCCC\n",
      "\n",
      "True SMILES: O=C(OCC(OC(=O)CCC=CCC=CCC=CCC=CCC)COC1OC(CS(=O)(=O)O)C(O)C(O)C1O)CCCCCCCCCCCCCCCCCCCCCCCC\n",
      "Pred SMILES: O=C(OCC(OC(=O)CCC=CC==CCC=CCCCCCC)COC1OC(CS(=O)(=O)O)C(O)C(O)C1O)CCCCCCCCCCCCCCCCCCCCCCCC\n",
      "\n",
      "True SMILES: O=C(OCC(OC(=O)CCC=CCC=CCC=CCC=CCC)COC1OC(CS(=O)(=O)O)C(O)C(O)C1O)CCCCCCCC=CCC=CCCCCC\n",
      "Pred SMILES: O=C(OCC(OC(=O)CCC=C===CCC=CCCCCCC)COC1OC(CS(=O)(=O)O)C(O)C(O)C1O)CCCCCCCCCC===CCCCCC\n",
      "\n",
      "True SMILES: O=C(OCC(OC(=O)CCC=CCC=CCC=CCC=CCC)COC1OC(CS(=O)(=O)O)C(O)C(O)C1O)CCCCCCCC=CCCCCCCCC\n",
      "Pred SMILES: O=C(OCC(OC(=O)CCC=CCC=CCC=CCCCCCC)COC1OC(CS(=O)(=O)O)C(O)C(O)C1O)CCCCCCCCCCCCCCCCCC\n",
      "\n",
      "True SMILES: O=C(OCC(OC(=O)CCC=CCC=CCC=CCC=CCC)COC1OC(CS(=O)(=O)O)C(O)C(O)C1O)CCCCCCCCCCCCCCCCC\n",
      "Pred SMILES: O=C(OCC(OC(=O)CCC=CCC=CCC=CCCCCCC)COC1OC(CS(=O)(=O)O)C(O)C(O)C1O)CCCCCCCCCCCCCCCCC\n",
      "\n",
      "True SMILES: O=C(OCC(OC(=O)CCC=CCC=CCC=CCC=CCC)COC1OC(CS(=O)(=O)O)C(O)C(O)C1O)CCCCCCCC=CCC=CCCCC\n",
      "Pred SMILES: O=C(OCC(OC(=O)CCC=CC==CCC=CCCCCCC)COC1OC(CS(=O)(=O)O)C(O)C(O)C1O)CCCCCCCCCCCC=CCCCC\n",
      "\n",
      "True SMILES: O=C(OCC(OC(=O)CCC=CCC=CCC=CCC=CCC)COC1OC(CS(=O)(=O)O)C(O)C(O)C1O)CCCCCCCC=CCCCCCCC\n",
      "Pred SMILES: O=C(OCC(OC(=O)CCC=CCC=CCC=CCCCCCC)COC1OC(CS(=O)(=O)O)C(O)C(O)C1O)CCCCCCCC=CCCCCCCC\n",
      "\n",
      "True SMILES: O=C(OCC(OC(=O)CCCCCC=CCC=CCC=CCC)COC1OC(CS(=O)(=O)O)C(O)C(O)C1O)CCCCCCCCCC=CCCCCCCCC\n",
      "Pred SMILES: O=C(OCC(OC(=O)CCCCCCCC===C=CCCCC)COC1OC(CS(=O)(=O)O)C(O)C(O)C1O)CCCCCCCCCC=CCCCCCCCC\n",
      "\n",
      "True SMILES: O=C(OCC(OC(=O)CCCCCC=CCC=CCC=CCC)COC1OC(CS(=O)(=O)O)C(O)C(O)C1O)CCCCCCCCCCCCCCCCCCC\n",
      "Pred SMILES: O=C(OCC(OC(=O)CCCCCCCC===C=CCCCC)COC1OC(CS(=O)(=O)O)C(O)C(O)C1O)CCCCCCCCCCCCCCCCCCCC\n",
      "\n",
      "True SMILES: O=C(OCC(OC(=O)CCCCCC=CCC=CCC=CCC)COC1OC(CS(=O)(=O)O)C(O)C(O)C1O)CCCCCCCC=CCC=CCCCCCC\n",
      "Pred SMILES: O=C(OCC(OC(=O)CCCCCCCC===C=CCCCC)COC1OC(CS(=O)(=O)O)C(O)C(O)C1O)CCCCCCCCCC===CCCCCCC\n",
      "\n",
      "True SMILES: O=C(OCC(OC(=O)CCCCCC=CCC=CCC=CCC)COC1OC(CS(=O)(=O)O)C(O)C(O)C1O)CCCCCCCC=CCCCCCCCCC\n",
      "Pred SMILES: O=C(OCC(OC(=O)CCCCCCCC===C=CCCCC)COC1OC(CS(=O)(=O)O)C(O)C(O)C1O)CCCCCCCCCCCCCCCCCCC\n",
      "\n",
      "True SMILES: O=C(OCC(OC(=O)CCCCCC=CCC=CCC=CCC)COC1OC(CS(=O)(=O)O)C(O)C(O)C1O)CCCCCCCCCCCCCCCCCC\n",
      "Pred SMILES: O=C(OCC(OC(=O)CCCCCCCC===C=CCCCC)COC1OC(CS(=O)(=O)O)C(O)C(O)C1O)CCCCCCCCCCCCCCCCCC\n",
      "\n",
      "True SMILES: O=C(OCC(OC(=O)CCCCCCCC=CCC=CCCC)COC1OC(CS(=O)(=O)O)C(O)C(O)C1O)CCCCCCCCCCCC=CCCCCCCCC\n",
      "Pred SMILES: O=C(OCC(OC(=O)CCCCCCCC=CCC=CCCC)COC1O)(CS(=O)(=O)O)C(O)C(O)C1O)CCCCCCCCCCCC=CCCCCCCCCC\n",
      "\n",
      "True SMILES: CCCCCCCCCCCCCCCCCCCCCC(=O)OCC(COC1OC(CS(O)(=O)=O)C(O)C(O)C1O)OC(=O)CCCCCCC\\C=C/C\\C=C/CCC\n",
      "Pred SMILES: CCCCCCCCCCCCCCCCCCCCCCC=O)CC((O1)1O)(C((=)(=O)OO)OS=)C(O)C(O)C)1=O)CCCCCCCCC=C=CCCCCCCCCCCC\n",
      "\n",
      "True SMILES: O=C(OCC(OC(=O)CCCCCCCCCC=CCC=CCCCCCC)COC1OC(CS(=O)(=O)O)C(O)C(O)C1O)CCCCCCCC=CCC=CCCC\n",
      "Pred SMILES: O=C(OCC(OC(=O)CCCCCCCCCCCCCCCCCCCCCC)COC1OC(CS(=O)(=O)O)C(O)C(O)C1O)CCCCCCCC=CCCCCCCCC\n",
      "\n",
      "True SMILES: O=C(OCC(OC(=O)CCCCCCCC=CCC=CCCC)COC1OC(CS(=O)(=O)O)C(O)C(O)C1O)CCCCCCCCCC=CCCCCCCCCC\n",
      "Pred SMILES: O=C(OCC(OC(=O)CCCCCCCC=CCC=CCCC)COC1O)(CS(=O)(=O)O)C(O)C(O)C1O)CCCCCCCCCC=CCCCCCCCCCC\n",
      "\n",
      "True SMILES: O=C(OCC(OC(=O)CCCCCCCC=CCC=CCCC)COC1OC(CS(=O)(=O)O)C(O)C(O)C1O)CCCCCCCCCCCCCCCCCCCC\n",
      "Pred SMILES: O=C(OCC(OC(=O)CCCCCCCC=CCC=CCCC)COC1O)(CS(=O)(=O)O)C(O)C(O)C1O)CCCCCCCCCCCCCCCCCCCCC\n",
      "\n",
      "True SMILES: O=C(OCC(OC(=O)CCCCCCCCCCC=CCC=CCC=CCC=CCC)COC1OC(CS(=O)(=O)O)C(O)C(O)C1O)CCCCCCCC=CCCCCCC\n",
      "Pred SMILES: O=C(OCC(OC(=O)CCCCCCCCCCCCCCCCCCCCCCCCCCC)COC1OC(CS(=O)(=O)O)C(O)C(O)C1O)CCCCCCCCCCCCCCCCC\n",
      "\n",
      "True SMILES: O=C(OCC(OC(=O)CCCCCCCCCCCC=CCC=CCCCCCCC)COC1OC(CS(=O)(=O)O)C(O)C(O)C1O)CCCCCCCC=CCCCCCC\n",
      "Pred SMILES: O=C(OCC(OC(=O)CCCCCCCCCCCCCCCCCCCCCCCCC)COC1OC(CS(=O)(=O)O)C(O)C(O)C1O)CCCCCCCCCCCCCCCCCC\n",
      "\n",
      "True SMILES: O=C(OCC(OC(=O)CCCCCCCCCCCC=CCCCCCCCCCC)COC1OC(CS(=O)(=O)O)C(O)C(O)C1O)CCCCCCCC=CCCCCCC\n",
      "Pred SMILES: O=C(OCC(OC(=O)CCCCCCCCCCCCCCCCCCCCCCCC)COC1OC(CS(=O)(=O)O)C(O)C(O)C1O)CCCCCCCCCCCCCCCCCCC\n",
      "\n",
      "True SMILES: O=C(OCC(OC(=O)CCCCCCCC=CCCCCCC)COC1OC(CS(=O)(=O)O)C(O)C(O)C1O)CCCCCCCCCCCCCCCCCCCCCCC\n",
      "Pred SMILES: O=C(OCC(OC(=O)CCCCCCCC=CCCCCCC)COC1OC(CS(=O)(=O)O)C(O)C(O)C1O)CCCCCCCCCCCCCCCCCCCCCCCC\n",
      "\n",
      "True SMILES: O=C(OCC(OC(=O)CCCCCCCC=CCCCCCC)COC1OC(CS(=O)(=O)O)C(O)C(O)C1O)CCCCCCCCCCCCCCCCCCCCCC\n",
      "Pred SMILES: O=C(OCC(OC(=O)CCCCCCCC=CCCCCCC)COC1OC(CS(=O)(=O)O)C(O)C(O)C1O)CCCCCCCCCCCCCCCCCCCCCCC\n",
      "\n",
      "True SMILES: O=C(OCC(OC(=O)CCCCCCCC=CCCCCCC)COC1OC(CS(=O)(=O)O)C(O)C(O)C1O)CCCCCCCCCCCCCCCC\n",
      "Pred SMILES: O=C(OCC(OC(=O)CCCCCCCC=CCCCCCC)COC1OC(CS(=O)(=O)O)C(O)C(O)C1O)CCCCCCCCCCCCCCCCC\n",
      "\n",
      "True SMILES: O=C(OCC(OC(=O)CCC=CCC=CCC=CCC=CCC)COC1OC(CS(=O)(=O)O)C(O)C(O)C1O)CCCCCCCC=CCCCCCC\n",
      "Pred SMILES: O=C(OCC(OC(=O)CCC=CC==CCC=CCCCCCC)COC1OC(CS(=O)(=O)O)C(O)C(O)C1O)CCCCCCCC=CCCCCCCC\n",
      "\n",
      "True SMILES: O=C(OCC(OC(=O)CCCCCC=CCC=CCC=CCC)COC1OC(CS(=O)(=O)O)C(O)C(O)C1O)CCCCCCCC=CCCCCCC\n",
      "Pred SMILES: O=C(OCC(OC(=O)CCCCCCCC===C=CCCCC)COC1OC(CS(=O)(=O)O)C(O)C(O)C1O)CCCCCCCCCCCCCCCCC\n",
      "\n",
      "True SMILES: CCCCCC\\C=C/CCCCCCCC(=O)OCC(COC1OC(CS(O)(=O)=O)C(O)C(O)C1O)OC(=O)CCCCCCC\\C=C/C\\C=C/CCC\n",
      "Pred SMILES: CCCCCCCCCCCCCCCCCCCC=OCC)((O()(O)(O((=)(=O)(O)((O)C(O)C(O)C)(=O)CCCCCCCCC=C\\C\\C=CCCCCCCCCCC\n",
      "\n",
      "True SMILES: O=C(OCC(OC(=O)CCCCCCCC=CCCCCCC)COC1OC(CS(=O)(=O)O)C(O)C(O)C1O)CCCCCCCC=CCCCCCC\n",
      "Pred SMILES: O=C(OCC(OC(=O)CCCCCCCC=CCCCCCC)COC1OC(CS(=O)(=O)O)C(O)C(O)C1O)CCCCCCCCCCCCCCCCC\n",
      "\n",
      "True SMILES: O=C(OCC(OC(=O)CCCCCCCC=CCC=CCCCCCC)COC1OC(CS(=O)(=O)O)C(O)C(O)C1O)CCCCCCCCCCCCCCC\n",
      "Pred SMILES: O=C(OCC(OC(=O)CCCCCCCC=CCC=CCCCCCC)COC1OC(CS(=O)(=O)O)C(O)C(O)C1O)CCCCCCCCCCCCCCC\n",
      "\n",
      "True SMILES: O=C(OCC(OC(=O)CCCCCCCC=CCCCCCCCCC)COC1OC(CS(=O)(=O)O)C(O)C(O)C1O)CCCCCCCCCCCCCCC\n",
      "Pred SMILES: O=C(OCC(OC(=O)CCCCCCCC=CCCCCCCCCC)COC1OC(CS(=O)(=O)O)C(O)C(O)C1O)CCCCCCCCCCCCCCC\n",
      "\n",
      "True SMILES: O=C(OCC(OC(=O)CCCCCCCCCCCCCCCCCC)COC1OC(CS(=O)(=O)O)C(O)C(O)C1O)CCCCCCCCCCCCCCC\n",
      "Pred SMILES: O=C(OCC(OC(=O)CCCCCCCCCCCCCCCCCC)COC1OC(CS(=O)(=O)O)C(O)C(O)C1O)CCCCCCCCCCCCCCC\n",
      "\n",
      "True SMILES: O=C(OC(COC(=O)CCCCCCCCCCCCCCC)COC1OC(CS(=O)(=O)O)C(O)C(O)C1O)CC=CCC=CCC=CCC=CCC=CCC\n",
      "Pred SMILES: O=C(OCCCOC(=O)CCCCCCCCCCCCCC))COC1OC(CS(=O)(=O)O)O(=)C(O)C1O)C1CC===CCCCCCC=C==CCCC\n",
      "\n",
      "True SMILES: O=C(OCC(OC(=O)CCCCC=CCC=CCC=CCC=CCC)COC1OC(CS(=O)(=O)O)C(O)C(O)C1O)CCCCCCCCCCCCCCC\n",
      "Pred SMILES: O=C(OCC(OC(=O)CCCC=CC===CCCCCCCCCCC)COC1OC(CS(=O)(=O)O)C(O)C(O)C1O)CCCCCCCCCCCCCCCC\n",
      "\n",
      "True SMILES: O=C(OCC(OC(=O)CCCCCCCCCCCC=CCC=CCCCCC)COC1OC(CS(=O)(=O)O)C(O)C(O)C1O)CCCCCCCC=CCCCCC\n",
      "Pred SMILES: O=C(OCC(OC(=O)CCCCCCCCCCCCCCCCCCCCCCC)COC1OC(CS(=O)(=O)O)C(O)C(O)C1O)CCCCCCCCCCCCCCCC\n",
      "\n",
      "True SMILES: O=C(OCC(OC(=O)CCCCCCCCCCCC=CCCCCCCCC)COC1OC(CS(=O)(=O)O)C(O)C(O)C1O)CCCCCCCC=CCCCCC\n",
      "Pred SMILES: O=C(OCC(OC(=O)CCCCCCCCCCCCCCCCCCCCCC)COC1OC(CS(=O)(=O)O)C(O)C(O)C1O)CCCCCCCC=CCCCCCC\n",
      "\n",
      "True SMILES: O=C(OCC(OC(=O)CCCCCCCC=CCCCCC)COC1OC(CS(=O)(=O)O)C(O)C(O)C1O)CCCCCCCCCCCCCCCCCCCCC\n",
      "Pred SMILES: O=C(OCC(OC(=O)CCCCCCCC=CCCCCC)COC1OC(CS(=O)(=O)O)C(O)C(O)C1O)CCCCCCCCCCCCCCCCCCCCCC\n",
      "\n",
      "True SMILES: O=C(OCC(OC(=O)CCCCCCCCCC=CCC=CCCCCCC)COC1OC(CS(=O)(=O)O)C(O)C(O)C1O)CCCCCCCC=CCCCCC\n",
      "Pred SMILES: O=C(OCC(OC(=O)CCCCCCCCCCCCCCCCCCCCCC)COC1OC(CS(=O)(=O)O)C(O)C(O)C1O)CCCCCCCC=CCCCCCC\n",
      "\n",
      "True SMILES: O=C(OCC(OC(=O)CCCCCCCCCC=CCCCCCCCCC)COC1OC(CS(=O)(=O)O)C(O)C(O)C1O)CCCCCCCC=CCCCCC\n",
      "Pred SMILES: O=C(OCC(OC(=O)CCCCCCCCCCCCCCCCCCCCC)COC1OC(CS(=O)(=O)O)C(O)C(O)C1O)CCCCCCCC=CCCCCCC\n",
      "\n",
      "True SMILES: O=C(OCC(OC(=O)CCCCCCCCCCCCCC=CCC=CCCCCCCC)COC1OC(CS(=O)(=O)O)C(O)C(O)C1O)CCCCCCCCCCCCCC\n",
      "Pred SMILES: O=C(OCC(OC(=O)CCCCCCCCCCCCCCCCCCCCCCCCCCC)COC1OC(CS(=O)(=O)O)C(O)C(O)C1O)CCCCCCCCCCCCCCC\n",
      "\n",
      "True SMILES: O=C(OCC(OC(=O)CCCCCCCCCCCCCC=CCCCCCCCCCC)COC1OC(CS(=O)(=O)O)C(O)C(O)C1O)CCCCCCCCCCCCCC\n",
      "Pred SMILES: O=C(OCC(OC(=O)CCCCCCCCCCCCCCCCCCCCCCCCCC)COC1OC(CS(=O)(=O)O)C(O)C(O)C1O)CCCCCCCCCCCCCCCC\n",
      "\n",
      "True SMILES: O=C(OCC(OC(=O)CCCCCCCCCCCCCCCCCCCCCCCCC)COC1OC(CS(=O)(=O)O)C(O)C(O)C1O)CCCCCCCCCCCCCC\n",
      "Pred SMILES: O=C(OCC(OC(=O)CCCCCCCCCCCCCCCCCCCCCCCCC)COC1OC(CS(=O)(=O)O)C(O)C(O)C1O)CCCCCCCCCCCCCCCCC\n",
      "\n",
      "True SMILES: O=C(OCC(OC(=O)CCCCCCCCCCCCCCCCCCCCCCCC)COC1OC(CS(=O)(=O)O)C(O)C(O)C1O)CCCCCCCCCCCCCC\n",
      "Pred SMILES: O=C(OCC(OC(=O)CCCCCCCCCCCCCCCCCCCCCCCC)COC1OC(CS(=O)(=O)O)C(O)C(O)C1O)CCCCCCCCCCCCCCCC\n",
      "\n",
      "True SMILES: O=C(OCC(OC(=O)CCCCCCCCCCC=CCC=CCC=CCC=CCC)COC1OC(CS(=O)(=O)O)C(O)C(O)C1O)CCCCCCCCCCCCCC\n",
      "Pred SMILES: O=C(OCC(OC(=O)CCCCCCCCCCCCCCCCCCCCCCCCCCC)COC1OC(CS(=O)(=O)O)C(O)C(O)C1O)CCCCCCCCCCCCCCC\n",
      "\n",
      "True SMILES: O=C(OCC(OC(=O)CCCCCCCC=CCCCCCCCC)COC1OC(CS(=O)(=O)O)C(O)C(O)C1O)CCCCCCCCCCCCCC\n",
      "Pred SMILES: O=C(OCC(OC(=O)CCCCCCCC=CCCCCCCCC)COC1OC(CS(=O)(=O)O)C(O)C(O)C1O)CCCCCCCCCCCCCC\n",
      "\n",
      "True SMILES: O=C(OCC(OC(=O)CCCCCCCCCCCCCCCCC)COC1OC(CS(=O)(=O)O)C(O)C(O)C1O)CCCCCCCCCCCCCC\n",
      "Pred SMILES: O=C(OCC(OC(=O)CCCCCCCCCCCCCCCCC)COC1OC(CS(=O)(=O)O)C(O)C(O)C1O)CCCCCCCCCCCCCCC\n",
      "\n",
      "True SMILES: O=C(OCC(OC(=O)CCCCCCCC=CCC=CCCCC)COC1OC(CS(=O)(=O)O)C(O)C(O)C1O)CCCCCCCCCCCCCC\n",
      "Pred SMILES: O=C(OCC(OC(=O)CCCCCCCC=CCCCCCCCC)COC1OC(CS(=O)(=O)O)C(O)C(O)C1O)CCCCCCCCCCCCCCC\n",
      "\n",
      "True SMILES: O=C(OCC(OC(=O)CCCCCCCC=CCCCCCCC)COC1OC(CS(=O)(=O)O)C(O)C(O)C1O)CCCCCCCCCCCCCC\n",
      "Pred SMILES: O=C(OCC(OC(=O)CCCCCCCC=CCCCCCCC)COC1OC(CS(=O)(=O)O)C(O)C(O)C1O)CCCCCCCCCCCCCCC\n",
      "\n",
      "True SMILES: O=C(OCC(OC(=O)CCCCCCCCCCCCCCCC)COC1OC(CS(=O)(=O)O)C(O)C(O)C1O)CCCCCCCCCCCCCC\n",
      "Pred SMILES: O=C(OCC(OC(=O)CCCCCCCCCCCCCCCC)COC1OC(CS(=O)(=O)O)C(O)C(O)C1O)CCCCCCCCCCCCCCC\n",
      "\n",
      "True SMILES: O=C(OCC(OC(=O)CCCCCCCC=CCCCC)COC1OC(CS(=O)(=O)O)C(O)C(O)C1O)CCCCCCCCCCCCCCCCCCCC\n",
      "Pred SMILES: O=C(OCC(OC(=O)CCCCCCCC=CCCCC)COC1OC(CS(=O)(=O)O)C(O)C(O)C1O)CCCCCCCCCCCCCCCCCCCCCC\n",
      "\n",
      "True SMILES: O=C(OCC(OC(=O)CCCC=CCC=CCC=CCC=CCC=CCC)COC1OC(CS(=O)(=O)O)C(O)C(O)C1O)CCCCCCCC=CCCCC\n",
      "Pred SMILES: O=C(OCC(OC(=O)CCCC=CCCCCCCCCCCCCCCCCCC)COC1OC(CS(=O)(=O)O)C(O)C(O)C1O)CCCCCCCCCCCCCCCC\n",
      "\n",
      "True SMILES: O=C(OCC(OC(=O)CCCCCCC=CCC=CCC=CCC=CCC)COC1OC(CS(=O)(=O)O)C(O)C(O)C1O)CCCCCCCC=CCCCC\n",
      "Pred SMILES: O=C(OCC(OC(=O)CCCCCCCCCCC=CCCCCCCCCCC)COC1OC(CS(=O)(=O)O)C(O)C(O)C1O)CCCCCCCCCCCCCCC\n",
      "\n",
      "True SMILES: O=C(OCC(OC(=O)CCCCCCCCCC=CCC=CCC=CCC)COC1OC(CS(=O)(=O)O)C(O)C(O)C1O)CCCCCCCC=CCCCC\n",
      "Pred SMILES: O=C(OCC(OC(=O)CCCCCCCCCCCCCCCCCCCCCC)COC1OC(CS(=O)(=O)O)C(O)C(O)C1O)CCCCCCCCCCCCCCC\n",
      "\n",
      "True SMILES: O=C(OCC(OC(=O)CCCCCCCCCC=CCC=CCCCCC)COC1OC(CS(=O)(=O)O)C(O)C(O)C1O)CCCCCCCC=CCCCC\n",
      "Pred SMILES: O=C(OCC(OC(=O)CCCCCCCCCC=CCCCCCCCCC)COC1OC(CS(=O)(=O)O)C(O)C(O)C1O)CCCCCCCC=CCCCCCC\n",
      "\n",
      "True SMILES: O=C(OCC(OC(=O)CCCCCCCCCCCCCCCCCCCCCCCC)COC1OC(CS(=O)(=O)O)C(O)C(O)C1O)CCCCCCCCCCCCC\n",
      "Pred SMILES: O=C(OCC(OC(=O)CCCCCCCCCCCCCCCCCCCCCCCC)COC1OC(CS(=O)(=O)O)C(O)C(O)C1O)CCCCCCCCCCCCCC\n",
      "\n",
      "True SMILES: O=C(OCC(OC(=O)CCCCCCCCCCC=CCC=CCC=CCC=CCC)COC1OC(CS(=O)(=O)O)C(O)C(O)C1O)CCCCCCCCCCCCC\n",
      "Pred SMILES: O=C(OCC(OC(=O)CCCCCCCCCCCCCCCCCCCCCCCCCCC)COC1OC(CS(=O)(=O)O)C(O)C(O)C1O)CCCCCCCCCCCCC\n",
      "\n",
      "True SMILES: O=C(OCC(OC(=O)CCCCCCCCCCCC=CCC=CCCCCCCC)COC1OC(CS(=O)(=O)O)C(O)C(O)C1O)CCCCCCCCCCCCC\n",
      "Pred SMILES: O=C(OCC(OC(=O)CCCCCCCCCCCCCCCCCCCCCCCCC)COC1OC(CS(=O)(=O)O)C(O)C(O)C1O)CCCCCCCCCCCCCC\n",
      "\n",
      "True SMILES: O=C(OCC(OC(=O)CCCCCCCCCCCC=CCCCCCCCCCC)COC1OC(CS(=O)(=O)O)C(O)C(O)C1O)CCCCCCCCCCCCC\n",
      "Pred SMILES: O=C(OCC(OC(=O)CCCCCCCCCCCCCCCCCCCCCCCC)COC1OC(CS(=O)(=O)O)C(O)C(O)C1O)CCCCCCCCCCCCCC\n",
      "\n",
      "True SMILES: O=C(OCC(OC(=O)CCCCCCCCCCCCCCCCCCCCCCC)COC1OC(CS(=O)(=O)O)C(O)C(O)C1O)CCCCCCCCCCCCC\n",
      "Pred SMILES: O=C(OCC(OC(=O)CCCCCCCCCCCCCCCCCCCCCCC)COC1OC(CS(=O)(=O)O)C(O)C(O)C1O)CCCCCCCCCCCCC\n",
      "\n",
      "True SMILES: O=C(OCC(OC(=O)CCCCCCCC=CCCCCCCC)COC1OC(CS(=O)(=O)O)C(O)C(O)C1O)CCCCCCCCCCCCC\n",
      "Pred SMILES: O=C(OCC(OC(=O)CCCCCCCC=CCCCCCCC)COC1OC(CS(=O)(=O)O)C(O)C(O)C1O)CCCCCCCCCCCCCC\n",
      "\n",
      "True SMILES: O=C(OCC(OC(=O)CCCCCCCCCCCCCCCC)COC1OC(CS(=O)(=O)O)C(O)C(O)C1O)CCCCCCCCCCCCC\n",
      "Pred SMILES: O=C(OCC(OC(=O)CCCCCCCCCCCCCCCC)COC1OC(CS(=O)(=O)O)C(O)C(O)C1O)CCCCCCCCCCCCCC\n",
      "\n",
      "True SMILES: O=C(OCC(OC(=O)CCC=CCC=CCC=CCC=CCC)COC1OC(CS(=O)(=O)O)C(O)C(O)C1O)CCCCCCCCCCCCC\n",
      "Pred SMILES: O=C(OCC(OC(=O)CCC=CC==CCCCCCCCCCC)COC1OC(CS(=O)(=O)O)C(O)C(O)C1O)CCCCCCCCCCCCCCC\n",
      "\n",
      "True SMILES: O=C(OCC(OC(=O)CCCCCC=CCC=CCC=CCC)COC1OC(CS(=O)(=O)O)C(O)C(O)C1O)CCCCCCCCCCCCC\n",
      "Pred SMILES: O=C(OCC(OC(=O)CCCCCCCC===C=CCCCC)COC1OC(CS(=O)(=O)O)C(O)C(O)C1O)CCCCCCCCCCCCCC\n",
      "\n",
      "True SMILES: O=C(OCC(OC(=O)CCCCCCCC=CCC=CCCC)COC1OC(CS(=O)(=O)O)C(O)C(O)C1O)CCCCCCCCCCCCC\n",
      "Pred SMILES: O=C(OCC(OC(=O)CCCCCCCC=CCC=CCCC)COC1OC(CS(=O)(=O)O)C(O)C(O)C1O)CCCCCCCCCCCCCC\n",
      "\n",
      "True SMILES: O=C(OCC(OC(=O)CCCC=CCC=CCC=CCC=CCC=CCC)COC1OC(CS(=O)(=O)O)C(O)C(O)C1O)CCCCCCCC=CCCC\n",
      "Pred SMILES: O=C(OCC(OC(=O)CCCC=CCCCCCC=CCCCCCCCCCC)COC1OC(CS(=O)(=O)O)C(O)C(O)C1O)CCCCCCCCCCCCCCC\n",
      "\n",
      "True SMILES: O=C(OCC(OC(=O)CCCCCCC=CCC=CCC=CCC=CCC)COC1OC(CS(=O)(=O)O)C(O)C(O)C1O)CCCCCCCC=CCCC\n",
      "Pred SMILES: O=C(OCC(OC(=O)CCCCCCCCCCCCCCCCCCCCCCC)COC1OC(CS(=O)(=O)O)C(O)C(O)C1O)CCCCCCCCCCCCCCC\n",
      "\n",
      "True SMILES: O=C(OCC(OC(=O)CCCCCCCCCC=CCC=CCC=CCC)COC1OC(CS(=O)(=O)O)C(O)C(O)C1O)CCCCCCCC=CCCC\n",
      "Pred SMILES: O=C(OCC(OC(=O)CCCCCCCCCCCCCCCCCCCCCC)COC1OC(CS(=O)(=O)O)C(O)C(O)C1O)CCCCCCCC=CCCCCC\n",
      "\n",
      "True SMILES: O=C(OCC(OC(=O)CCCCCCCCCC=CCC=CCCCCC)COC1OC(CS(=O)(=O)O)C(O)C(O)C1O)CCCCCCCC=CCCC\n",
      "Pred SMILES: O=C(OCC(OC(=O)CCCCCCCCCCCCCCCCCCCCC)COC1OC(CS(=O)(=O)O)C(O)C(O)C1O)CCCCCCCC=CCCCCC\n",
      "\n",
      "True SMILES: O=C(OCC(OC(=O)CCCCCCCCCC=CCCCCCCCC)COC1OC(CS(=O)(=O)O)C(O)C(O)C1O)CCCCCCCC=CCCC\n",
      "Pred SMILES: O=C(OCC(OC(=O)CCCCCCCCCCCCCCCCCCCC)COC1OC(CS(=O)(=O)O)C(O)C(O)C1O)CCCCCCCC=CCCCCC\n",
      "\n",
      "True SMILES: O=C(OCC(OC(=O)CCCCCCCCCCCCCCCCCCCCCCCCC)COC1OC(CS(=O)(=O)O)C(O)C(O)C1O)CCCCCCCCCCCC\n",
      "Pred SMILES: O=C(OCC(OC(=O)CCCCCCCCCCCCCCCCCCCCCCCCC)COC1OC(CS(=O)(=O)O)C(O)C(O)C1O)CCCCCCCCCCCCC\n",
      "\n",
      "True SMILES: O=C(OCC(OC(=O)CCCCCCCCCCCCCCCCCCCCCCCC)COC1OC(CS(=O)(=O)O)C(O)C(O)C1O)CCCCCCCCCCCC\n",
      "Pred SMILES: O=C(OCC(OC(=O)CCCCCCCCCCCCCCCCCCCCCCCC)COC1OC(CS(=O)(=O)O)C(O)C(O)C1O)CCCCCCCCCCCCC\n",
      "\n",
      "True SMILES: O=C(OCC(OC(=O)CCCCCCCCCCC=CCC=CCC=CCC=CCC)COC1OC(CS(=O)(=O)O)C(O)C(O)C1O)CCCCCCCCCCCC\n",
      "Pred SMILES: O=C(OCC(OC(=O)CCCCCCCCCCCCCCCCCCCCCCCCCCC)COC1OC(CS(=O)(=O)O)C(O)C(O)C1O)CCCCCCCCCCCCC\n",
      "\n",
      "True SMILES: O=C(OCC(OC(=O)CCCCCCCCCCCC=CCC=CCCCCCCC)COC1OC(CS(=O)(=O)O)C(O)C(O)C1O)CCCCCCCCCCCC\n",
      "Pred SMILES: O=C(OCC(OC(=O)CCCCCCCCCCCCCCCCCCCCCCCCC)COC1OC(CS(=O)(=O)O)C(O)C(O)C1O)CCCCCCCCCCCCC\n",
      "\n",
      "True SMILES: O=C(OCC(OC(=O)CCCCCCCCCCCC=CCCCCCCCCCC)COC1OC(CS(=O)(=O)O)C(O)C(O)C1O)CCCCCCCCCCCC\n",
      "Pred SMILES: O=C(OCC(OC(=O)CCCCCCCCCCCCCCCCCCCCCCCC)COC1OC(CS(=O)(=O)O)C(O)C(O)C1O)CCCCCCCCCCCCC\n",
      "\n",
      "True SMILES: O=C(OCC(OC(=O)CCCCCCCC=CCC=CCCCC)COC1OC(CS(=O)(=O)O)C(O)C(O)C1O)CCCCCCCCCCCC\n",
      "Pred SMILES: O=C(OCC(OC(=O)CCCCCCCC=CCC=CCCCC)COC1OC(CS(=O)(=O)O)C(O)C(O)C1O)CCCCCCCCCCCCC\n",
      "\n",
      "True SMILES: O=C(OCC(OC(=O)CCCCCCCC=CCCCCCCC)COC1OC(CS(=O)(=O)O)C(O)C(O)C1O)CCCCCCCCCCCC\n",
      "Pred SMILES: O=C(OCC(OC(=O)CCCCCCCC=CCCCCCCC)COC1O)(CS(=O)(=O)O)C(O)C(O)C1O)CCCCCCCCCCCCC\n",
      "\n",
      "True SMILES: O=C(OCC(OC(=O)CCCCCCCCCCCCCCCC)COC1OC(CS(=O)(=O)O)C(O)C(O)C1O)CCCCCCCCCCCC\n",
      "Pred SMILES: O=C(OCC(OC(=O)CCCCCCCCCCCCCCCC)COC1OC(CS(=O)(=O)O)C(O)C(O)C1O)CCCCCCCCCCCCC\n",
      "\n",
      "True SMILES: O=C(OCC(OC(=O)CCC=CCC=CCC=CCC=CCC)COC1OC(CS(=O)(=O)O)C(O)C(O)C1O)CCCCCCCCCCCC\n",
      "Pred SMILES: O=C(OCC(OC(=O)CCC=CC==CCC=CCCCCCC)COC1OC(CS(=O)(=O)O)C(O)C(O)C1O)CCCCCCCCCCCCC\n",
      "\n",
      "True SMILES: O=C(OCC(OC(=O)CCCCCC=CCC=CCC=CCC)COC1OC(CS(=O)(=O)O)C(O)C(O)C1O)CCCCCCCCCCCC\n",
      "Pred SMILES: O=C(OCC(OC(=O)CCCCCCCC===C=CCCCC)COC1OC(CS(=O)(=O)O)C(O)C(O)C1O)CCCCCCCCCCCCC\n",
      "\n",
      "True SMILES: O=C(OCC(OC(=O)CCCCCCCCCC=CCC=CCCCCCC)COC1OC(CS(=O)(=O)O)C(O)C(O)C1O)CCCCCCCCCCC\n",
      "Pred SMILES: O=C(OCC(OC(=O)CCCCCCCCCC=CCCCCCCCCCC)COC1OC(CS(=O)(=O)O)C(O)C(O)C1O)CCCCCCCCCCCCCC\n",
      "\n",
      "True SMILES: O=C(OCC(OC(=O)CCCCCCCCCC=CCCCCCCCCC)COC1OC(CS(=O)(=O)O)C(O)C(O)C1O)CCCCCCCCCCC\n",
      "Pred SMILES: O=C(OCC(OC(=O)CCCCCCCCCCCCCCCCCCCCC)COC1OC(CS(=O)(=O)O)C(O)C(O)C1O)CCCCCCCCCCCCCCC\n",
      "\n",
      "True SMILES: O=C(OCC(OC(=O)CCCCCCCCCCCCCCCCCCCC)COC1OC(CS(=O)(=O)O)C(O)C(O)C1O)CCCCCCCCCCC\n",
      "Pred SMILES: O=C(OCC(OC(=O)CCCCCCCCCCCCCCCCCCCC)COC1OC(CS(=O)(=O)O)C(O)C(O)C1O)CCCCCCCCCCCCCCCC\n",
      "\n",
      "True SMILES: O=C(OCC(OC(=O)CCCC=CCC=CCC=CCC=CCC=CCC)COC1OC(CS(=O)(=O)O)C(O)C(O)C1O)CCCCCCCCCCC\n",
      "Pred SMILES: O=C(OCC(OC(=O)CCCC=CCCCCCCCCCCCCCCCCCC)COC1OC(CS(=O)(=O)O)C(O)C(O)C1O)CCCCCCCCCCCC\n",
      "\n",
      "True SMILES: O=C(OCC(OC(=O)CCCCCCC=CCC=CCC=CCC=CCC)COC1OC(CS(=O)(=O)O)C(O)C(O)C1O)CCCCCCCCCCC\n",
      "Pred SMILES: O=C(OCC(OC(=O)CCCCCCCCCCCCCCCCCCCCCCC)COC1OC(CS(=O)(=O)O)C(O)C(O)C1O)CCCCCCCCCCCCC\n",
      "\n",
      "True SMILES: O=C(OCC(OC(=O)CCCCCCCCCCC)COC1OC(CS(=O)(=O)O)C(O)C(O)C1O)CCCCCCCCCCC\n",
      "Pred SMILES: O=C(OCC(OC(=O)CCCCCCCCCCCCC)COOC1C((CO)(=O)()OSO)C(O)C1O)C1CCCCCCCCCCC\n",
      "\n",
      "True SMILES: O=C(NC(COP(=O)([O-])OCC[N+](C)(C)C)C(O)C=CCCC=CCCC=CCCCCCCCCCCCCCCCCC)CCCCCCCCCCCCCCCCCCCC=CCC=CCCCCCCCCCCCCCCCCC\n",
      "Pred SMILES: O=C(NC(COP(=O)([O-])OCC[N+](C)(C)C)C(O)C=CCCC=CCCC=CCCCCCCCCCCCCCCCCCCCCCCCCCCCCCCCCCCCCCCCCCCCCCCCCCCCCCCCC\n",
      "\n",
      "True SMILES: O=C(NC(COP(=O)([O-])OCC[N+](C)(C)C)C(O)C=CCCC=CCCC=CCCCCCCCCCCCCCCCCC)CCCCCCCCCCCCCCCCCCCC=CCCCCCCCCCCCCCCCCCCCC\n",
      "Pred SMILES: O=C(NC(COP(=O)([O-])OCC[N+](C)(C)C)C(O)C=CCCC=CCCC=CCCCCCCCCCCCCCCCCCCCCCCCCCCCCCCCCCCCCCCCCCCCCCCCCCCCCCCCCCCCC(\n",
      "\n",
      "True SMILES: O=C(NC(COP(=O)([O-])OCC[N+](C)(C)C)C(O)C=CCCC=CCCC=CCCCCCCCCCCCCCCCCC)CCCCCCCCCCCCCCCCCCCCCCCCCCCCCCCCCCCCCCCCC\n",
      "Pred SMILES: O=C(NC(COP(=O)([O-])OCC[N+](C)(C)C)C(O)C=CCCC=CCCC=CCCCCCCCCCCCCCCCCCCCCCCCCCCCCCCCCCCCCCCCCCCCCCCCCCCCCCCCCCCC(C\n",
      "\n",
      "True SMILES: O=C(NC(COP(=O)([O-])OCC[N+](C)(C)C)C(O)C=CCCC=CCCC=CCCCCCCCCCCCCCCCCC)CCCCCCCCCCCCCCCCCCCC=CCC=CCCCCCCCCCCCCCCC\n",
      "Pred SMILES: O=C(NC(COP(=O)([O-])OCC[N+](C)(C)C)C(O)C=CCCC=CCCC=CCCCCCCCCCCCCCCCCCCCCCCCCCCCCCCCCCCCCCCCCCCCCCCCCCCCCCCCCCCC(C\n",
      "\n",
      "True SMILES: O=C(NC(COP(=O)([O-])OCC[N+](C)(C)C)C(O)C=CCCC=CCCC=CCCCCCCCCCCCCCCCCC)CCCCCCCCCCCCCCCCCCCCCCCCCCC\n",
      "Pred SMILES: O=C(NC(COP(=O)([O-])OCC[N+](C)(C)C)C(O)C=CCCC=CCCC=CCCCCCCCCCCCCCCCCCCCCCCCCCCCCCCCCCCCCCCCCCCCCCC\n",
      "\n",
      "True SMILES: O=C(NC(COP(=O)([O-])OCC[N+](C)(C)C)C(O)C=CCCC=CCCC=CCCCCCCCCCCCCCCCCC)CCCCCCCCCCC=CCCCCCCCCCCCCCC\n",
      "Pred SMILES: O=C(NC(COP(=O)([O-])OCC[N+](C)(C)C)C(O)C=CCCC=CCCC=CCCCCCCCCCCCCCCCCCCCCCCCCCCCCC=CCCCCCCCCCCCCCCC\n",
      "\n",
      "True SMILES: O=C(NC(COP(=O)([O-])OCC[N+](C)(C)C)C(O)C=CCCC=CCCC=CCCCCCCCCCCCCCCCCC)CCCCCCCCCCCCCCCCCCCCCCCCCC\n",
      "Pred SMILES: O=C(NC(COP(=O)([O-])OCC[N+](C)(C)C)C(O)C=CCCC=CCCC=CCCCCCCCCCCCCCCCCCCCCCCCCCCCCCCCCCCCCCCCCCCCCCC\n",
      "\n",
      "True SMILES: O=C(NC(COP(=O)([O-])OCC[N+](C)(C)C)C(O)C=CCCC=CCCC=CCCCCCCCCCCCCCCCCC)CCCCCCCCCC=CCC=CCCCCCCCCCCC\n",
      "Pred SMILES: O=C(NC(COP(=O)([O-])OCC[N+](C)(C)C)C(O)C=CCCC=CCCC=CCCCCCCCCCCCCCCCCCCCCCCCCCCCC=C===CCCCCCCCCCCCC\n",
      "\n",
      "True SMILES: O=C(NC(COP(=O)([O-])OCC[N+](C)(C)C)C(O)C=CCCC=CCCC=CCCCCCCCCCCCCCCCCC)CCCCCCCCCC=CCCCCCCCCCCCCCC\n",
      "Pred SMILES: O=C(NC(COP(=O)([O-])OCC[N+](C)(C)C)C(O)C=CCCC=CCCC=CCCCCCCCCCCCCCCCCCCCCCCCCCCCC=CCCCCCCCCCCCCCCCC\n",
      "\n",
      "True SMILES: O=C(NC(COP(=O)([O-])OCC[N+](C)(C)C)C(O)C=CCCC=CCCC=CCCCCCCCCCCCCCCCCC)CCCCCCCC=CCCCC\n",
      "Pred SMILES: O=C(NC(COP(=O)([O-])OCC[N+](C)(C)C)C(O)C=CCCC=CCCC=CCCCCCCCCCCCCCCCCCCCCCCCCCCCCCCCC\n",
      "\n",
      "True SMILES: O=C(NC(COP(=O)([O-])OCC[N+](C)(C)C)C(O)C=CCCC=CCCC=CCCCCCCCCCCCCCCCCC)CCCCCCCCCCCCC\n",
      "Pred SMILES: O=C(NC(COP(=O)([O-])OCC[N+](C)(C)C)C(O)C=CCCC=CCCC=CCCCCCCCCCCCCCCCCCCCCCCCCCCCCCCCC\n",
      "\n",
      "True SMILES: O=C(NC(COP(=O)([O-])OCC[N+](C)(C)C)C(O)C=CCCC=CCCC=CCCCCCCCCCCCCCCCCC)CCCCCCC=CCCCC\n",
      "Pred SMILES: O=C(NC(COP(=O)([O-])OCC[N+](C)(C)C)C(O)C=CCCC=CCCC=CCCCCCCCCCCCCCCCCCCCCCCCCCCCCCCC\n",
      "\n",
      "True SMILES: O=C(NC(COP(=O)([O-])OCC[N+](C)(C)C)C(O)C=CCCC=CCCC=CCCCCCCCCCCCCCCCCC)CCCCCCCCCCCC\n",
      "Pred SMILES: O=C(NC(COP(=O)([O-])OCC[N+](C)(C)C)C(O)C=CCCC=CCCC=CCCCCCCCCCCCCCCCCCCCCCCCCCCCCCC\n",
      "\n",
      "True SMILES: O=C(NC(COP(=O)([O-])OCC[N+](C)(C)C)C(O)C=CCCC=CCCC=CCCCCCCCCCCCCCCCCC)CCCC=CCCCCCC\n",
      "Pred SMILES: O=C(NC(COP(=O)([O-])OCC[N+](C)(C)C)C(O)C=CCCC=CCCC=CCCCCCCCCCCCCCCCCCCCCCC=CCCCCCC\n",
      "\n",
      "True SMILES: O=C(NC(COP(=O)([O-])OCC[N+](C)(C)C)C(O)C=CCCC=CCCCCCCCCCCCCCCCCCCCCC)CCCCCCCCCCCCCCCCCCCCCCCCCCCCC\n",
      "Pred SMILES: O=C(NC(COP(=O)([O-])OCC[N+](C)(C)C)C(O)C=CCCC=CCCCCCCCCCCCCCCCCCCCCCCCCCCCCCCCCCCCCCCCCCCCCCCCCCCCC\n",
      "\n",
      "True SMILES: O=C(NC(COP(=O)([O-])OCC[N+](C)(C)C)C(O)C=CCCC=CCCCCCCCCCCCCCCCCCCCCC)CCCCCCCCCCCCC=CCCCCCCCCCCCCCC\n",
      "Pred SMILES: O=C(NC(COP(=O)([O-])OCC[N+](C)(C)C)C(O)C=CCCC=CCCCCCCCCCCCCCCCCCCCCCCCCCCCCCCCCCCCCCCCCCCCCCCCCCCCC\n",
      "\n",
      "True SMILES: O=C(NC(COP(=O)([O-])OCC[N+](C)(C)C)C(O)C=CCCC=CCCCCCCCCCCCCCCCCCCCCC)CCCCCCCCCCCCCCCCCCCCCCCCCCCC\n",
      "Pred SMILES: O=C(NC(COP(=O)([O-])OCC[N+](C)(C)C)C(O)C=CCCC=CCCCCCCCCCCCCCCCCCCCCCCCCCCCCCCCCCCCCCCCCCCCCCCCCCCCC\n",
      "\n",
      "True SMILES: O=C(NC(COP(=O)([O-])OCC[N+](C)(C)C)C(O)C=CCCC=CCCCCCCCCCCCCCCCCCCCCC)CCCCCCCCCCCC=CCC=CCCCCCCCCCCC\n",
      "Pred SMILES: O=C(NC(COP(=O)([O-])OCC[N+](C)(C)C)C(O)C=CCCC=CCCCCCCCCCCCCCCCCCCCCCCCCCCCCCCCCCC=CC==CCCCCCCCCCCCC\n",
      "\n",
      "True SMILES: O=C(NC(COP(=O)([O-])OCC[N+](C)(C)C)C(O)C=CCCC=CCCCCCCCCCCCCCCCCCCCCC)CCCCCCCCCCCC=CCCCCCCCCCCCCCC\n",
      "Pred SMILES: O=C(NC(COP(=O)([O-])OCC[N+](C)(C)C)C(O)C=CCCC=CCCCCCCCCCCCCCCCCCCCCCCCCCCCCCCCCCC=CCCCCCCCCCCCCCCCC\n",
      "\n",
      "True SMILES: O=C(NC(COP(=O)([O-])OCC[N+](C)(C)C)C(O)C=CCCC=CCCCCCCCCCCCCCCCCCCCCC)CCC=CCC=CCCCCCCCC\n",
      "Pred SMILES: O=C(NC(COP(=O)([O-])OCC[N+](C)(C)C)C(O)C=CCCC=CCCCCCCCCCCCCCCCCCCCCCCCCCCC===CCCCCCCCC\n",
      "\n",
      "True SMILES: O=C(NC(COP(=O)([O-])OCC[N+](C)(C)C)C(O)C=CCCC=CCCCCCCCCCCCCCCCCCCCCC)CCCCCC=CCCCCCCCC\n",
      "Pred SMILES: O=C(NC(COP(=O)([O-])OCC[N+](C)(C)C)C(O)C=CCCC=CCCCCCCCCCCCCCCCCCCCCCCCCCCCC=CCCCCCCCC\n",
      "\n",
      "True SMILES: O=C(NC(COP(=O)([O-])OCC[N+](C)(C)C)C(O)C=CCCC=CCCCCCCCCCCCCCCCCCCCCC)CCCCCCCCCCCCCCC\n",
      "Pred SMILES: O=C(NC(COP(=O)([O-])OCC[N+](C)(C)C)C(O)C=CCCC=CCCCCCCCCCCCCCCCCCCCCCCCCCCCCCCCCCCCCC\n",
      "\n",
      "True SMILES: O=C(NC(COP(=O)([O-])OCC[N+](C)(C)C)C(O)C=CCCC=CCCCCCCCCCCCCCCCCCCCCC)CCCCCCCC=CCCCCC\n",
      "Pred SMILES: O=C(NC(COP(=O)([O-])OCC[N+](C)(C)C)C(O)C=CCCC=CCCCCCCCCCCCCCCCCCCCCCCCCCCCCCCCCCCCCC\n",
      "\n",
      "True SMILES: O=C(NC(COP(=O)([O-])OCC[N+](C)(C)C)C(O)C=CCCC=CCCCCCCCCCCCCCCCCCCCCC)CCCCCCCCCCCCCC\n",
      "Pred SMILES: O=C(NC(COP(=O)([O-])OCC[N+](C)(C)C)C(O)C=CCCC=CCCCCCCCCCCCCCCCCCCCCCCCCCCCCCCCCCCCCC\n",
      "\n",
      "True SMILES: O=C(NC(COP(=O)([O-])OCC[N+](C)(C)C)C(O)C=CCCCCCCCCCCCCCCCCCCCCCCCCC)CCCCCCCCCCCCCCCCCCCCCCCCCCCCCCC\n",
      "Pred SMILES: O=C(NC(COP(=O)([O-])OCC[N+](C)(C)C)C(O)C=CCCCCCCCCCCCCCCCCCCCCCCCCCCCCCCCCCCCCCCCCCCCCCCCCCCCCCCCCCC\n",
      "\n",
      "True SMILES: O=C(NC(COP(=O)([O-])OCC[N+](C)(C)C)C(O)C=CCCCCCCCCCCCCCCCCCCCCCCCCC)CCCCCCCCCCCCCCC=CCCCCCCCCCCCCCC\n",
      "Pred SMILES: O=C(NC(COP(=O)([O-])OCC[N+](C)(C)C)C(O)C=CCCCCCCCCCCCCCCCCCCCCCCCCCCCCCCCCCCCCCCCCCCCCCCCCCCCCCCCCCC\n",
      "\n",
      "True SMILES: O=C(NC(COP(=O)([O-])OCC[N+](C)(C)C)C(O)C=CCCCCCCCCCCCCCCCCCCCCCCCCC)CCCCCCCCCCCCCCCCCCCCCCCCCCCCCC\n",
      "Pred SMILES: O=C(NC(COP(=O)([O-])OCC[N+](C)(C)C)C(O)C=CCCCCCCCCCCCCCCCCCCCCCCCCCCCCCCCCCCCCCCCCCCCCCCCCCCCCCCCCCC\n",
      "\n",
      "True SMILES: O=C(NC(COP(=O)([O-])OCC[N+](C)(C)C)C(O)C=CCCCCCCCCCCCCCCCCCCCCCCCCC)CCCCCCCCCCCCCC=CCC=CCCCCCCCCCCC\n",
      "Pred SMILES: O=C(NC(COP(=O)([O-])OCC[N+](C)(C)C)C(O)C=CCCCCCCCCCCCCCCCCCCCCCCCCCCCCCCCCCCCCCCCC=CCC=CCCCCCCCCCCCC\n",
      "\n",
      "True SMILES: O=C(NC(COP(=O)([O-])OCC[N+](C)(C)C)C(O)C=CCCCCCCCCCCCCCCCCCCCCCCCCC)CCCCCCCCCCCCCC=CCCCCCCCCCCCCCC\n",
      "Pred SMILES: O=C(NC(COP(=O)([O-])OCC[N+](C)(C)C)C(O)C=CCCCCCCCCCCCCCCCCCCCCCCCCCCCCCCCCCCCCCCCCCCCCCCCCCCCCCCCCCC\n",
      "\n",
      "True SMILES: O=C(NC(COP(=O)([O-])OCC[N+](C)(C)C)C(O)C=CCCCCCCCCCCCCCCCCCCCCCCCCC)CCCCCCCCCCCCCCCCCC\n",
      "Pred SMILES: O=C(NC(COP(=O)([O-])OCC[N+](C)(C)C)C(O)C=CCCCCCCCCCCCCCCCCCCCCCCCCCCCCCCCCCCCCCCCCCCCC\n",
      "\n",
      "True SMILES: O=C(NC(COP(=O)([O-])OCC[N+](C)(C)C)C(O)C=CCCCCCCCCCCCCCCCCCCCCCCCCC)CCCCCCCCC=CC=CCCCCC\n",
      "Pred SMILES: O=C(NC(COP(=O)([O-])OCC[N+](C)(C)C)C(O)C=CCCCCCCCCCCCCCCCCCCCCCCCCCCCCCCCCCCC=C=CCCCCCC\n",
      "\n",
      "True SMILES: O=C(NC(COP(=O)([O-])OCC[N+](C)(C)C)C(O)C=CCCCCCCCCCCCCCCCCCCCCCCCCC)CCCCCCCCCC=CCCCCCC\n",
      "Pred SMILES: O=C(NC(COP(=O)([O-])OCC[N+](C)(C)C)C(O)C=CCCCCCCCCCCCCCCCCCCCCCCCCCCCCCCCCCCCC=CCCCCCC\n",
      "\n",
      "True SMILES: O=C(NC(COP(=O)([O-])OCC[N+](C)(C)C)C(O)C=CCCCCCCCCCCCCCCCCCCCCCCCCC)CCCCCCCCCCCCCCCCC\n",
      "Pred SMILES: O=C(NC(COP(=O)([O-])OCC[N+](C)(C)C)C(O)C=CCCCCCCCCCCCCCCCCCCCCCCCCCCCCCCCCCCCCCCCCCCC\n",
      "\n",
      "True SMILES: O=C(NC(COP(=O)([O-])OCC[N+](C)(C)C)C(O)C=CCCCCCCCCCCCCCCCCCCCCCCCCC)CCCCCCCCCCCCCCCC\n",
      "Pred SMILES: O=C(NC(COP(=O)([O-])OCC[N+](C)(C)C)C(O)C=CCCCCCCCCCCCCCCCCCCCCCCCCCCCCCCCCCCCCCCCCCC\n",
      "\n",
      "True SMILES: O=C(NC(COP(=O)([O-])OCC[N+](C)(C)C)C(O)CCCCCCCCCCCCCCCCCCCCCCCCCCC)CCCCCCCCCCCCCCCCCCCCCCCCCCCCCCCCC\n",
      "Pred SMILES: O=C(NC(COP(=O)([O-])OCC[N+](C)(C)C)C(O)CCCCCCCCCCCCCCCCCCCCCCCCCCCCCCCCCCCCCCCCCCCCCCCCCCCCCCCCCCCCC\n",
      "\n",
      "True SMILES: O=C(NC(COP(=O)([O-])OCC[N+](C)(C)C)C(O)CCCCCCCCCCCCCCCCCCCCCCCCCCC)CCCCCCCCCCCCCCCCC=CCCCCCCCCCCCCCC\n",
      "Pred SMILES: O=C(NC(COP(=O)([O-])OCC[N+](C)(C)C)C(O)CCCCCCCCCCCCCCCCCCCCCCCCCCCCCCCCCCCCCCCCCCCCC=CCCCCCCCCCCCCCC\n",
      "\n",
      "True SMILES: O=C(NC(COP(=O)([O-])OCC[N+](C)(C)C)C(O)CCCCCCCCCCCCCCCCCCCCCCCCCCC)CCCCCCCCCCCCCCCCCCCCCCCCCCCCCCCC\n",
      "Pred SMILES: O=C(NC(COP(=O)([O-])OCC[N+](C)(C)C)C(O)CCCCCCCCCCCCCCCCCCCCCCCCCCCCCCCCCCCCCCCCCCCCCCCCCCCCCCCCCCCCC\n",
      "\n",
      "True SMILES: O=C(NC(COP(=O)([O-])OCC[N+](C)(C)C)C(O)CCCCCCCCCCCCCCCCCCCCCCCCCCC)CCCCCCCCCCCCCCCC=CCC=CCCCCCCCCCCC\n",
      "Pred SMILES: O=C(NC(COP(=O)([O-])OCC[N+](C)(C)C)C(O)CCCCCCCCCCCCCCCCCCCCCCCCCCCCCCCCCCCCCCCCCCCC=CC==CCCCCCCCCCCCC\n",
      "\n",
      "True SMILES: O=C(NC(COP(=O)([O-])OCC[N+](C)(C)C)C(O)CCCCCCCCCCCCCCCCCCCCCCCCCCC)CCCCCCCCCCCCCCCC=CCCCCCCCCCCCCCC\n",
      "Pred SMILES: O=C(NC(COP(=O)([O-])OCC[N+](C)(C)C)C(O)CCCCCCCCCCCCCCCCCCCCCCCCCCCCCCCCCCCCCCCCCCCCCCCCCCCCCCCCCCCCC\n",
      "\n",
      "True SMILES: O=C(NC(COP(=O)([O-])OCC[N+](C)(C)C)C(O)CCCCCCCCCCCCCCCCCCCCCCCCCCC)CCCCCCCCCCCCCCCCCCCC\n",
      "Pred SMILES: O=C(NC(COP(=O)([O-])OCC[N+](C)(C)C)C(O)CCCCCCCCCCCCCCCCCCCCCCCCCCCCCCCCCCCCCCCCCCCCCCCC\n",
      "\n",
      "True SMILES: O=C(NC(COP(=O)([O-])OCC[N+](C)(C)C)C(O)CCCCCCCCCCCCCCCCCCCCCCCCCCC)CCCCCCCCCC=CCC=CCCCCC\n",
      "Pred SMILES: O=C(NC(COP(=O)([O-])OCC[N+](C)(C)C)C(O)CCCCCCCCCCCCCCCCCCCCCCCCCCCCCCCCCCCCCC=CCCCCCCCCC\n",
      "\n",
      "True SMILES: O=C(NC(COP(=O)([O-])OCC[N+](C)(C)C)C(O)CCCCCCCCCCCCCCCCCCCCCCCCCCC)CCCCCCCCCC=CCCCCCCCC\n",
      "Pred SMILES: O=C(NC(COP(=O)([O-])OCC[N+](C)(C)C)C(O)CCCCCCCCCCCCCCCCCCCCCCCCCCCCCCCCCCCCCCCCCCCCCCCC\n",
      "\n",
      "True SMILES: O=C(NC(COP(=O)([O-])OCC[N+](C)(C)C)C(O)CCCCCCCCCCCCCCCCCCCCCCCCCCC)CCCCCCCCCCCCCCCCCCC\n",
      "Pred SMILES: O=C(NC(COP(=O)([O-])OCC[N+](C)(C)C)C(O)CCCCCCCCCCCCCCCCCCCCCCCCCCCCCCCCCCCCCCCCCCCCCCC\n",
      "\n",
      "True SMILES: O=C(NC(COP(=O)([O-])OCC[N+](C)(C)C)C(O)CCCCCCCCCCCCCCCCCCCCCCCCCCC)CCCCCCCC=CCCCCCCCCC\n",
      "Pred SMILES: O=C(NC(COP(=O)([O-])OCC[N+](C)(C)C)C(O)CCCCCCCCCCCCCCCCCCCCCCCCCCCCCCCCCCCC=CCCCCCCCCC\n",
      "\n",
      "True SMILES: O=C(NC(COP(=O)([O-])OCC[N+](C)(C)C)C(O)C=CCCC=CCCC=CCCCCCCCCCCCCCCCC)CCCCCCCCCCCCCCCCCCCCCCCCCCCCCCCCCCC\n",
      "Pred SMILES: O=C(NC(COP(=O)([O-])OCC[N+](C)(C)C)C(O)C=CCCC=CCCC=CCCCCCCCCCCCCCCCCCCCCCCCCCCCCCCCCCCCCCCCCCCCCCCCCCCCC\n",
      "\n",
      "True SMILES: O=C(NC(COP(=O)([O-])OCC[N+](C)(C)C)C(O)C=CCCC=CCCC=CCCCCCCCCCCCCCCCC)CCCCCCCCCCCCCCCCCCC=CCCCCCCCCCCCCCC\n",
      "Pred SMILES: O=C(NC(COP(=O)([O-])OCC[N+](C)(C)C)C(O)C=CCCC=CCCC=CCCCCCCCCCCCCCCCCCCCCCCCCCCCCCCCCCCCCCCCCCCCCCCCCCCCC\n",
      "\n",
      "True SMILES: O=C(NC(COP(=O)([O-])OCC[N+](C)(C)C)C(O)C=CCCC=CCCC=CCCCCCCCCCCCCCCCC)CCCCCCCCCCCCCCCCCCCCCCCCCCCCCCCCCC\n",
      "Pred SMILES: O=C(NC(COP(=O)([O-])OCC[N+](C)(C)C)C(O)C=CCCC=CCCC=CCCCCCCCCCCCCCCCCCCCCCCCCCCCCCCCCCCCCCCCCCCCCCCCCCCC\n",
      "\n",
      "True SMILES: CCCCCCCCCCCCCCCC\\C=C\\CC\\C=C\\CC\\C=C\\C(O)C(COP([O-])(=O)OCC[N+](C)(C)C)NC(=O)CCCCCCCCCCCCCCCCC\\C=C/C\\C=C/CCCCCCCCCCC\n",
      "Pred SMILES: CCCCCCCCCCCCCCCC=C=C\\C==C=C\\CC\\CCC(C(CPC(COP([O)])(CO)O)))N+])C)(C)()(C(CO)CCCCCCCCCCCCCCCCCCCCCCCCCCCCCCCCCCCCCCCC\n",
      "\n",
      "True SMILES: O=C(NC(COP(=O)([O-])OCC[N+](C)(C)C)C(O)C=CCCC=CCCC=CCCCCCCCCCCCCCCCC)CCCCCCCCCCCCCCCCCC=CCCCCCCCCCCCCCC\n",
      "Pred SMILES: O=C(NC(COP(=O)([O-])OCC[N+](C)(C)C)C(O)C=CCCC=CCCC=CCCCCCCCCCCCCCCCCCCCCCCCCCCCCCCCCCCCCCCCCCCCCCCCCCCCC\n",
      "\n",
      "True SMILES: O=C(NC(COP(=O)([O-])OCC[N+](C)(C)C)C(O)C=CCCC=CCCC=CCCCCCCCCCCCCCCCC)CCCCCCCCCCCCCCCCCCCCCC\n",
      "Pred SMILES: O=C(NC(COP(=O)([O-])OCC[N+](C)(C)C)C(O)C=CCCC=CCCC=CCCCCCCCCCCCCCCCCCCCCCCCCCCCCCCCCCCCCCCC\n",
      "\n",
      "True SMILES: O=C(NC(COP(=O)([O-])OCC[N+](C)(C)C)C(O)C=CCCC=CCCC=CCCCCCCCCCCCCCCCC)CCCCCCCCCCCCC=CC=CCCCCC\n",
      "Pred SMILES: O=C(NC(COP(=O)([O-])OCC[N+](C)(C)C)C(O)C=CCCC=CCCC=CCCCCCCCCCCCCCCCCCCCCCCCCCCCCCC=C==CCCCCC\n",
      "\n",
      "True SMILES: O=C(NC(COP(=O)([O-])OCC[N+](C)(C)C)C(O)C=CCCC=CCCC=CCCCCCCCCCCCCCCCC)CCCCCCCCCC=CCCCCCCCCCC\n",
      "Pred SMILES: O=C(NC(COP(=O)([O-])OCC[N+](C)(C)C)C(O)C=CCCC=CCCC=CCCCCCCCCCCCCCCCCCCCCCCCCCCCCCCCCCCCCCCC\n",
      "\n",
      "True SMILES: O=C(NC(COP(=O)([O-])OCC[N+](C)(C)C)C(O)C=CCCC=CCCC=CCCCCCCCCCCCCCCCC)CCCCCCCCCCCCCCCCCCCCC\n",
      "Pred SMILES: O=C(NC(COP(=O)([O-])OCC[N+](C)(C)C)C(O)C=CCCC=CCCC=CCCCCCCCCCCCCCCCCCCCCCCCCCCCCCCCCCCCCCC\n",
      "\n",
      "True SMILES: O=C(NC(COP(=O)([O-])OCC[N+](C)(C)C)C(O)C=CCCC=CCCC=CCCCCCCCCCCCCCCCC)CCCCCCCC=CCCCCCCCCCCC\n",
      "Pred SMILES: O=C(NC(COP(=O)([O-])OCC[N+](C)(C)C)C(O)C=CCCC=CCCC=CCCCCCCCCCCCCCCCCCCCCCCCCCCCCCCCCCCCCCC\n",
      "\n",
      "True SMILES: O=C(NC(COP(=O)([O-])OCC[N+](C)(C)C)C(O)C=CCCC=CCCCCCCCCCCCCCCCCCCCC)CCCCCCCCCCCCCCCCCCCC=CCC=CCCCCCCCCCCCCC\n",
      "Pred SMILES: O=C(NC(COP(=O)([O-])OCC[N+](C)(C)C)C(O)C=CCCC=CCCCCCCCCCCCCCCCCCCCCCCCCCCCCCCCCCCCCCCCCCCCCCCCCCCCCCCCCCCCC\n",
      "\n",
      "True SMILES: O=C(NC(COP(=O)([O-])OCC[N+](C)(C)C)C(O)C=CCCC=CCCCCCCCCCCCCCCCCCCCC)CCCCCCCCCCCCCCCCCCCC=CCCCCCCCCCCCCCCCC\n",
      "Pred SMILES: O=C(NC(COP(=O)([O-])OCC[N+](C)(C)C)C(O)C=CCCC=CCCCCCCCCCCCCCCCCCCCCCCCCCCCCCCCCCCCCCCCCCCCCCCCCCCCCCCCCCCCC\n",
      "\n",
      "True SMILES: O=C(NC(COP(=O)([O-])OCC[N+](C)(C)C)C(O)C=CCCC=CCCCCCCCCCCCCCCCCCCCC)CCCCCCCCCCCCCCCCCCCCCCCCCCCCCCCCCCCCC\n",
      "Pred SMILES: O=C(NC(COP(=O)([O-])OCC[N+](C)(C)C)C(O)C=CCCC=CCCCCCCCCCCCCCCCCCCCCCCCCCCCCCCCCCCCCCCCCCCCCCCCCCCCCCCCCCC\n",
      "\n",
      "True SMILES: O=C(NC(COP(=O)([O-])OCC[N+](C)(C)C)C(O)C=CCCC=CCCCCCCCCCCCCCCCCCCCC)CCCCCCCCCCCCCCCCCCCC=CCC=CCCCCCCCCCCC\n",
      "Pred SMILES: O=C(NC(COP(=O)([O-])OCC[N+](C)(C)C)C(O)C=CCCC=CCCCCCCCCCCCCCCCCCCCCCCCCCCCCCCCCCCCCCCCCCCCCCCCCCCCCCCCCCC\n",
      "\n",
      "True SMILES: O=C(NC(COP(=O)([O-])OCC[N+](C)(C)C)C(O)C=CCCC=CCCCCCCCCCCCCCCCCCCCC)CCCCCCCCCCCCCCCCCCCC=CCCCCCCCCCCCCCC\n",
      "Pred SMILES: O=C(NC(COP(=O)([O-])OCC[N+](C)(C)C)C(O)C=CCCC=CCCCCCCCCCCCCCCCCCCCCCCCCCCCCCCCCCCCCCCCCCCCCCCCCCCCCCCCCC\n",
      "\n",
      "True SMILES: O=C(NC(COP(=O)([O-])OCC[N+](C)(C)C)C(O)C=CCCC=CCCCCCCCCCCCCCCCCCCCC)CCCCCCCCCCCCCCCCCCCCCCCC\n",
      "Pred SMILES: O=C(NC(COP(=O)([O-])OCC[N+](C)(C)C)C(O)C=CCCC=CCCCCCCCCCCCCCCCCCCCCCCCCCCCCCCCCCCCCCCCCCCCCC\n",
      "\n",
      "True SMILES: O=C(NC(COP(=O)([O-])OCC[N+](C)(C)C)C(O)C=CCCC=CCCCCCCCCCCCCCCCCCCCC)CCCCCCCCCCCCCCCCC=CCC=CCC\n",
      "Pred SMILES: O=C(NC(COP(=O)([O-])OCC[N+](C)(C)C)C(O)C=CCCC=CCCCCCCCCCCCCCCCCCCCCCCCCCCCCCCCCCCCCCC=CCCCCCC\n",
      "\n",
      "True SMILES: O=C(NC(COP(=O)([O-])OCC[N+](C)(C)C)C(O)C=CCCC=CCCCCCCCCCCCCCCCCCCCC)CCCCCCCCCC=CCCCCCCCCCCCC\n",
      "Pred SMILES: O=C(NC(COP(=O)([O-])OCC[N+](C)(C)C)C(O)C=CCCC=CCCCCCCCCCCCCCCCCCCCCCCCCCCCCCCC=CCCCCCCCCCCCC\n",
      "\n",
      "True SMILES: O=C(NC(COP(=O)([O-])OCC[N+](C)(C)C)C(O)C=CCCC=CCCCCCCCCCCCCCCCCCCCC)CCCCCCCCCCCCCCCCCCCCCCC\n",
      "Pred SMILES: O=C(NC(COP(=O)([O-])OCC[N+](C)(C)C)C(O)C=CCCC=CCCCCCCCCCCCCCCCCCCCCCCCCCCCCCCCCCCCCCCCCCCCC\n",
      "\n",
      "True SMILES: O=C(NC(COP(=O)([O-])OCC[N+](C)(C)C)C(O)C=CCCC=CCCCCCCCCCCCCCCCCCCCC)CCCCCCCCCC=CCCCCCCCCCCC\n",
      "Pred SMILES: O=C(NC(COP(=O)([O-])OCC[N+](C)(C)C)C(O)C=CCCC=CCCCCCCCCCCCCCCCCCCCCCCCCCCCCCCCCCCCCCCCCCCCC\n",
      "\n",
      "True SMILES: O=C(NC(COP(=O)([O-])OCC[N+](C)(C)C)C(O)C=CCCCCCCCCCCCCCCCCCCCCCCCC)CCCCCCCCCCCCCCCCCCCC=CCCCCCCCCCCCCCCCCCCCC\n",
      "Pred SMILES: O=C(NC(COP(=O)([O-])OCC[N+](C)(C)C)C(O)C=CCCCCCCCCCCCCCCCCCCCCCCCCCCCCCCCCCCCCCCCCCCCCCCCCCCCCCCCCCCCCCCCCCCC\n",
      "\n",
      "True SMILES: O=C(NC(COP(=O)([O-])OCC[N+](C)(C)C)C(O)C=CCCCCCCCCCCCCCCCCCCCCCCCC)CCCCCCCCCCCCCCCCCCCCCCCCCCCCCCCCCCCCCCCCC\n",
      "Pred SMILES: O=C(NC(COP(=O)([O-])OCC[N+](C)(C)C)C(O)C=CCCCCCCCCCCCCCCCCCCCCCCCCCCCCCCCCCCCCCCCCCCCCCCCCCCCCCCCCCCCCCCCCCCC\n",
      "\n",
      "True SMILES: O=C(NC(COP(=O)([O-])OCC[N+](C)(C)C)C(O)C=CCCCCCCCCCCCCCCCCCCCCCCCC)CCCCCCCCCCCCCCCCCCCC=CCC=CCCCCCCCCCCCCCCC\n",
      "Pred SMILES: O=C(NC(COP(=O)([O-])OCC[N+](C)(C)C)C(O)C=CCCCCCCCCCCCCCCCCCCCCCCCCCCCCCCCCCCCCCCCCCCCCCCCCCCCCCCCCCCCCCCCCCCC\n",
      "\n",
      "True SMILES: O=C(NC(COP(=O)([O-])OCC[N+](C)(C)C)C(O)C=CCCCCCCCCCCCCCCCCCCCCCCCC)CCCCCCCCCCCCCCCCCCCC=CCCCCCCCCCCCCCCCCCC\n",
      "Pred SMILES: O=C(NC(COP(=O)([O-])OCC[N+](C)(C)C)C(O)C=CCCCCCCCCCCCCCCCCCCCCCCCCCCCCCCCCCCCCCCCCCCCCCCCCCCCCCCCCCCCCCCCCCC\n",
      "\n",
      "True SMILES: O=C(NC(COP(=O)([O-])OCC[N+](C)(C)C)C(O)C=CCCCCCCCCCCCCCCCCCCCCCCCC)CCCCCCCCCCCCCCCCCCCCCCCCCCCCCCCCCCCCCCC\n",
      "Pred SMILES: O=C(NC(COP(=O)([O-])OCC[N+](C)(C)C)C(O)C=CCCCCCCCCCCCCCCCCCCCCCCCCCCCCCCCCCCCCCCCCCCCCCCCCCCCCCCCCCCCCCCCCC\n",
      "\n",
      "True SMILES: O=C(NC(COP(=O)([O-])OCC[N+](C)(C)C)C(O)C=CCCCCCCCCCCCCCCCCCCCCCCCC)CCCCCCCCCCCCCCCCCCCCCCCCCC\n",
      "Pred SMILES: O=C(NC(COP(=O)([O-])OCC[N+](C)(C)C)C(O)C=CCCCCCCCCCCCCCCCCCCCCCCCCCCCCCCCCCCCCCCCCCCCCCCCCCCCCC\n",
      "\n",
      "True SMILES: O=C(NC(COP(=O)([O-])OCC[N+](C)(C)C)C(O)C=CCCCCCCCCCCCCCCCCCCCCCCCC)CCCCCCCCCC=CCC=CCCCCCCCCCCC\n",
      "Pred SMILES: O=C(NC(COP(=O)([O-])OCC[N+](C)(C)C)C(O)C=CCCCCCCCCCCCCCCCCCCCCCCCCCCCCCCCCCCC=C=C=CCCCCCCCCCCCC\n",
      "\n",
      "True SMILES: O=C(NC(COP(=O)([O-])OCC[N+](C)(C)C)C(O)C=CCCCCCCCCCCCCCCCCCCCCCCCC)CCCCCCCCCC=CCCCCCCCCCCCCCC\n",
      "Pred SMILES: O=C(NC(COP(=O)([O-])OCC[N+](C)(C)C)C(O)C=CCCCCCCCCCCCCCCCCCCCCCCCCCCCCCCCCCCC=CCCCCCCCCCCCCCCCC\n",
      "\n",
      "True SMILES: O=C(NC(COP(=O)([O-])OCC[N+](C)(C)C)C(O)C=CCCCCCCCCCCCCCCCCCCCCCCCC)CCCCCCCCCCCCCCCCCCCCCCCCC\n",
      "Pred SMILES: O=C(NC(COP(=O)([O-])OCC[N+](C)(C)C)C(O)C=CCCCCCCCCCCCCCCCCCCCCCCCCCCCCCCCCCCCCCCCCCCCCCCCCCC\n",
      "\n",
      "True SMILES: O=C(NC(COP(=O)([O-])OCC[N+](C)(C)C)C(O)C=CCCCCCCCCCCCCCCCCCCCCCCCC)CCCCCCCCCC=CCCCCCCCCCCCCC\n",
      "Pred SMILES: O=C(NC(COP(=O)([O-])OCC[N+](C)(C)C)C(O)C=CCCCCCCCCCCCCCCCCCCCCCCCCCCCCCCCCCCC=CCCCCCCCCCCCCC\n",
      "\n",
      "True SMILES: O=C(NC(COP(=O)([O-])OCC[N+](C)(C)C)C(O)C=CCCCCCCCCCCCCCCCCCCCCCCCC)CCCCCCC=CCCCC\n",
      "Pred SMILES: O=C(NC(COP(=O)([O-])OCC[N+](C)(C)C)C(O)C=CCCCCCCCCCCCCCCCCCCCCCCCCCCCCCCCC=CCCCC\n",
      "\n",
      "True SMILES: O=C(NC(COP(=O)([O-])OCC[N+](C)(C)C)C(O)C=CCCCCCCCCCCCCCCCCCCCCCCCC)CCCCCCCCCCCC\n",
      "Pred SMILES: O=C(NC(COP(=O)([O-])OCC[N+](C)(C)C)C(O)C=CCCCCCCCCCCCCCCCCCCCCCCCCCCCCCCCCCCCCC\n",
      "\n",
      "True SMILES: O=C(NC(COP(=O)([O-])OCC[N+](C)(C)C)C(O)C=CCCCCCCCCCCCCCCCCCCCCCCCC)CCCC=CCCCCCC\n",
      "Pred SMILES: O=C(NC(COP(=O)([O-])OCC[N+](C)(C)C)C(O)C=CCCCCCCCCCCCCCCCCCCCCCCCCCCCCCCCCCCCCC\n",
      "\n",
      "True SMILES: O=C(NC(COP(=O)([O-])OCC[N+](C)(C)C)C(O)C=CCCCCCCCCCCCCCCCCCCCCCCCC)CCCCCCCCCCC\n",
      "Pred SMILES: O=C(NC(COP(=O)([O-])OCC[N+](C)(C)C)C(O)C=CCCCCCCCCCCCCCCCCCCCCCCCCCCCCCCCCCCCC\n",
      "\n",
      "True SMILES: O=C(NC(COP(=O)([O-])OCC[N+](C)(C)C)C(O)CCCCCCCCCCCCCCCCCCCCCCCCCC)CCCCCCCCCCCCCCCCCCCC=CCC=CCCCCCCCCCCCCCCCCC\n",
      "Pred SMILES: O=C(NC(COP(=O)([O-])OCC[N+](C)(C)C)C(O)CCCCCCCCCCCCCCCCCCCCCCCCCCCCCCCCCCCCCCCCCCCCCCC=CCCCCCCCCCCCCCCCCCCCCC\n",
      "\n",
      "True SMILES: O=C(NC(COP(=O)([O-])OCC[N+](C)(C)C)C(O)CCCCCCCCCCCCCCCCCCCCCCCCCC)CCCCCCCCCCCCCCCCCCCCCCCCCCCC\n",
      "Pred SMILES: O=C(NC(COP(=O)([O-])OCC[N+](C)(C)C)C(O)CCCCCCCCCCCCCCCCCCCCCCCCCCCCCCCCCCCCCCCCCCCCCCCCCCCCCCCCC\n",
      "\n",
      "True SMILES: O=C(NC(COP(=O)([O-])OCC[N+](C)(C)C)C(O)CCCCCCCCCCCCCCCCCCCCCCCCCC)CCCCCCCCCCCC=CCC=CCCCCCCCCCCC\n",
      "Pred SMILES: O=C(NC(COP(=O)([O-])OCC[N+](C)(C)C)C(O)CCCCCCCCCCCCCCCCCCCCCCCCCCCCCCCCCCCCCCC=CCC=CCCCCCCCCCCCC\n",
      "\n",
      "True SMILES: O=C(NC(COP(=O)([O-])OCC[N+](C)(C)C)C(O)CCCCCCCCCCCCCCCCCCCCCCCCCC)CCCCCCCCCCCC=CCCCCCCCCCCCCCC\n",
      "Pred SMILES: O=C(NC(COP(=O)([O-])OCC[N+](C)(C)C)C(O)CCCCCCCCCCCCCCCCCCCCCCCCCCCCCCCCCCCCCCC=CCCCCCCCCCCCCCCCC\n",
      "\n",
      "True SMILES: O=C(NC(COP(=O)([O-])OCC[N+](C)(C)C)C(O)CCCCCCCCCCCCCCCCCCCCCCCCCC)CCCCCCCCCCCCCCCCCCCCCCCCCCC\n",
      "Pred SMILES: O=C(NC(COP(=O)([O-])OCC[N+](C)(C)C)C(O)CCCCCCCCCCCCCCCCCCCCCCCCCCCCCCCCCCCCCCCCCCCCCCCCCCCCCCCC\n",
      "\n",
      "True SMILES: O=C(NC(COP(=O)([O-])OCC[N+](C)(C)C)C(O)CCCCCCCCCCCCCCCCCCCCCCCCCC)CCCCCCCCCCC=CCCCCCCCCCCCCCC\n",
      "Pred SMILES: O=C(NC(COP(=O)([O-])OCC[N+](C)(C)C)C(O)CCCCCCCCCCCCCCCCCCCCCCCCCCCCCCCCCCCCCC=CCCCCCCCCCCCCCCCC\n",
      "\n",
      "True SMILES: O=C(NC(COP(=O)([O-])OCC[N+](C)(C)C)C(O)CCCCCCCCCCCCCCCCCCCCCCCCCC)CCCCCCCCCCCCCCC\n",
      "Pred SMILES: O=C(NC(COP(=O)([O-])OCC[N+](C)(C)C)C(O)CCCCCCCCCCCCCCCCCCCCCCCCCCCCCCCCCCCCCCCCCC\n",
      "\n",
      "True SMILES: O=C(NC(COP(=O)([O-])OCC[N+](C)(C)C)C(O)CCCCCCCCCCCCCCCCCCCCCCCCCC)CCCCCCCC=CCCCCC\n",
      "Pred SMILES: O=C(NC(COP(=O)([O-])OCC[N+](C)(C)C)C(O)CCCCCCCCCCCCCCCCCCCCCCCCCCCCCCCCCCC=CCCCCC\n",
      "\n",
      "True SMILES: O=C(NC(COP(=O)([O-])OCC[N+](C)(C)C)C(O)CCCCCCCCCCCCCCCCCCCCCCCCCC)CCCCCCCCCCCCCC\n",
      "Pred SMILES: O=C(NC(COP(=O)([O-])OCC[N+](C)(C)C)C(O)CCCCCCCCCCCCCCCCCCCCCCCCCCCCCCCCCCCCCCCCC\n",
      "\n",
      "True SMILES: O=C(NC(COP(=O)([O-])OCC[N+](C)(C)C)C(O)CCCCCCCCCCCCCCCCCCCCCCCCCC)CCCCCCCC=CCCCC\n",
      "Pred SMILES: O=C(NC(COP(=O)([O-])OCC[N+](C)(C)C)C(O)CCCCCCCCCCCCCCCCCCCCCCCCCCCCCCCCCCC=CCCCC\n",
      "\n",
      "True SMILES: O=C(NC(COP(=O)([O-])OCC[N+](C)(C)C)C(O)CCCCCCCCCCCCCCCCCCCCCCCCCC)CCCCCCCCCCCCC\n",
      "Pred SMILES: O=C(NC(COP(=O)([O-])OCC[N+](C)(C)C)C(O)CCCCCCCCCCCCCCCCCCCCCCCCCCCCCCCCCCCCCCCC\n",
      "\n",
      "True SMILES: O=C(NC(COP(=O)([O-])OCC[N+](C)(C)C)C(O)C=CCCC=CCCC=CCCCCCCCCCCCCCCC)CCCCCCCCCCCCCCCCCCCCCCCCCCCCCC\n",
      "Pred SMILES: O=C(NC(COP(=O)([O-])OCC[N+](C)(C)C)C(O)C=CCCC=CCCC=CCCCCCCCCCCCCCCCCCCCCCCCCCCCCCCCCCCCCCCCCCCCCCC\n",
      "\n",
      "True SMILES: O=C(NC(COP(=O)([O-])OCC[N+](C)(C)C)C(O)C=CCCC=CCCC=CCCCCCCCCCCCCCCC)CCCCCCCCCCCCCC=CCC=CCCCCCCCCCCC\n",
      "Pred SMILES: O=C(NC(COP(=O)([O-])OCC[N+](C)(C)C)C(O)C=CCCC=CCCC=CCCCCCCCCCCCCCCCCCCCCCCCCCCCCCC=CC==CCCCCCCCCCCC\n",
      "\n",
      "True SMILES: O=C(NC(COP(=O)([O-])OCC[N+](C)(C)C)C(O)C=CCCC=CCCC=CCCCCCCCCCCCCCCC)CCCCCCCCCCCCCC=CCCCCCCCCCCCCCC\n",
      "Pred SMILES: O=C(NC(COP(=O)([O-])OCC[N+](C)(C)C)C(O)C=CCCC=CCCC=CCCCCCCCCCCCCCCCCCCCCCCCCCCCCCCCCCCCCCCCCCCCCCC\n",
      "\n",
      "True SMILES: O=C(NC(COP(=O)([O-])OCC[N+](C)(C)C)C(O)C=CCCC=CCCC=CCCCCCCCCCCCCCCC)CCCCCCCCCCCCCCCCCCCCCCCCCCCCC\n",
      "Pred SMILES: O=C(NC(COP(=O)([O-])OCC[N+](C)(C)C)C(O)C=CCCC=CCCC=CCCCCCCCCCCCCCCCCCCCCCCCCCCCCCCCCCCCCCCCCCCCCC\n",
      "\n",
      "True SMILES: O=C(NC(COP(=O)([O-])OCC[N+](C)(C)C)C(O)C=CCCC=CCCC=CCCCCCCCCCCCCCCC)CCCCCCCCCCCCC=CCCCCCCCCCCCCCC\n",
      "Pred SMILES: O=C(NC(COP(=O)([O-])OCC[N+](C)(C)C)C(O)C=CCCC=CCCC=CCCCCCCCCCCCCCCCCCCCCCCCCCCCCC=CCCCCCCCCCCCCCC\n",
      "\n",
      "True SMILES: O=C(NC(COP(=O)([O-])OCC[N+](C)(C)C)C(O)C=CCCC=CCCC=CCCCCCCCCCCCCCCC)CCCCCCCCCC=CCCCCCC\n",
      "Pred SMILES: O=C(NC(COP(=O)([O-])OCC[N+](C)(C)C)C(O)C=CCCC=CCCC=CCCCCCCCCCCCCCCCCCCCCCCCCCC=CCCCCCC\n",
      "\n",
      "True SMILES: O=C(NC(COP(=O)([O-])OCC[N+](C)(C)C)C(O)C=CCCC=CCCC=CCCCCCCCCCCCCCCC)CCCCCCCCCCCCCCCCC\n",
      "Pred SMILES: O=C(NC(COP(=O)([O-])OCC[N+](C)(C)C)C(O)C=CCCC=CCCC=CCCCCCCCCCCCCCCCCCCCCCCCCCCCCCCCCC\n",
      "\n",
      "True SMILES: O=C(NC(COP(=O)([O-])OCC[N+](C)(C)C)C(O)C=CCCC=CCCC=CCCCCCCCCCCCCCCC)CCCCCCCCCCCCCCCC\n",
      "Pred SMILES: O=C(NC(COP(=O)([O-])OCC[N+](C)(C)C)C(O)C=CCCC=CCCC=CCCCCCCCCCCCCCCCCCCCCCCCCCCCCCCCC\n",
      "\n",
      "True SMILES: O=C(NC(COP(=O)([O-])OCC[N+](C)(C)C)C(O)C=CCCC=CCCC=CCCCCCCCCCCCCCCC)CCC=CCC=CCCCCCCCC\n",
      "Pred SMILES: O=C(NC(COP(=O)([O-])OCC[N+](C)(C)C)C(O)C=CCCC=CCCC=CCCCCCCCCCCCCCCCCCCCCCC==CCCCCCCCC\n",
      "\n",
      "True SMILES: O=C(NC(COP(=O)([O-])OCC[N+](C)(C)C)C(O)C=CCCC=CCCC=CCCCCCCCCCCCCCCC)CCCCCC=CCCCCCCCC\n",
      "Pred SMILES: O=C(NC(COP(=O)([O-])OCC[N+](C)(C)C)C(O)C=CCCC=CCCC=CCCCCCCCCCCCCCCCCCCCCCC=CCCCCCCCC\n",
      "\n",
      "True SMILES: O=C(NC(COP(=O)([O-])OCC[N+](C)(C)C)C(O)C=CCCC=CCCCCCCCCCCCCCCCCCCC)CCCCCCCCCCCCCCCCCCCCCCCCCCCCCCCC\n",
      "Pred SMILES: O=C(NC(COP(=O)([O-])OCC[N+](C)(C)C)C(O)C=CCCC=CCCCCCCCCCCCCCCCCCCCCCCCCCCCCCCCCCCCCCCCCCCCCCCCCCCCCC\n",
      "\n",
      "True SMILES: O=C(NC(COP(=O)([O-])OCC[N+](C)(C)C)C(O)C=CCCC=CCCCCCCCCCCCCCCCCCCC)CCCCCCCCCCCCCCCC=CCC=CCCCCCCCCCCC\n",
      "Pred SMILES: O=C(NC(COP(=O)([O-])OCC[N+](C)(C)C)C(O)C=CCCC=CCCCCCCCCCCCCCCCCCCCCCCCCCCCCCCCCCCCC=CC==CCCCCCCCCCCCC\n",
      "\n",
      "True SMILES: O=C(NC(COP(=O)([O-])OCC[N+](C)(C)C)C(O)C=CCCC=CCCCCCCCCCCCCCCCCCCC)CCCCCCCCCCCCCCCC=CCCCCCCCCCCCCCC\n",
      "Pred SMILES: O=C(NC(COP(=O)([O-])OCC[N+](C)(C)C)C(O)C=CCCC=CCCCCCCCCCCCCCCCCCCCCCCCCCCCCCCCCCCCCCCCCCCCCCCCCCCCCC\n",
      "\n",
      "True SMILES: O=C(NC(COP(=O)([O-])OCC[N+](C)(C)C)C(O)C=CCCC=CCCCCCCCCCCCCCCCCCCC)CCCCCCCCCCCCCCCCCCCCCCCCCCCCCCC\n",
      "Pred SMILES: O=C(NC(COP(=O)([O-])OCC[N+](C)(C)C)C(O)C=CCCC=CCCCCCCCCCCCCCCCCCCCCCCCCCCCCCCCCCCCCCCCCCCCCCCCCCCC\n",
      "\n",
      "True SMILES: O=C(NC(COP(=O)([O-])OCC[N+](C)(C)C)C(O)C=CCCC=CCCCCCCCCCCCCCCCCCCC)CCCCCCCCCCCCCCC=CCCCCCCCCCCCCCC\n",
      "Pred SMILES: O=C(NC(COP(=O)([O-])OCC[N+](C)(C)C)C(O)C=CCCC=CCCCCCCCCCCCCCCCCCCCCCCCCCCCCCCCCCCCCCCCCCCCCCCCCCCC\n",
      "\n",
      "True SMILES: O=C(NC(COP(=O)([O-])OCC[N+](C)(C)C)C(O)C=CCCC=CCCCCCCCCCCCCCCCCCCC)CCCCCCCCCC=CCCCCCCCC\n",
      "Pred SMILES: O=C(NC(COP(=O)([O-])OCC[N+](C)(C)C)C(O)C=CCCC=CCCCCCCCCCCCCCCCCCCCCCCCCCCCCCCCCCCCCCCCC\n",
      "\n",
      "True SMILES: O=C(NC(COP(=O)([O-])OCC[N+](C)(C)C)C(O)C=CCCC=CCCCCCCCCCCCCCCCCCCC)CCCCCCCCCCCCCCCCCCC\n",
      "Pred SMILES: O=C(NC(COP(=O)([O-])OCC[N+](C)(C)C)C(O)C=CCCC=CCCCCCCCCCCCCCCCCCCCCCCCCCCCCCCCCCCCCCCC\n",
      "\n",
      "True SMILES: O=C(NC(COP(=O)([O-])OCC[N+](C)(C)C)C(O)C=CCCC=CCCCCCCCCCCCCCCCCCCC)CCCCCCCC=CCCCCCCCCC\n",
      "Pred SMILES: O=C(NC(COP(=O)([O-])OCC[N+](C)(C)C)C(O)C=CCCC=CCCCCCCCCCCCCCCCCCCCCCCCCCCCC=CCCCCCCCCC\n",
      "\n",
      "True SMILES: O=C(NC(COP(=O)([O-])OCC[N+](C)(C)C)C(O)C=CCCC=CCCCCCCCCCCCCCCCCCCC)CCCCCCCCCCCCCCCCCC\n",
      "Pred SMILES: O=C(NC(COP(=O)([O-])OCC[N+](C)(C)C)C(O)C=CCCC=CCCCCCCCCCCCCCCCCCCCCCCCCCCCCCCCCCCCCCC\n",
      "\n",
      "True SMILES: O=C(NC(COP(=O)([O-])OCC[N+](C)(C)C)C(O)C=CCCC=CCCCCCCCCCCCCCCCCCCC)CCCCCCCCC=CC=CCCCCC\n",
      "Pred SMILES: O=C(NC(COP(=O)([O-])OCC[N+](C)(C)C)C(O)C=CCCC=CCCCCCCCCCCCCCCCCCCCCCCCCCCCCC=C==CCCCCC\n",
      "\n",
      "True SMILES: O=C(NC(COP(=O)([O-])OCC[N+](C)(C)C)C(O)C=CCCCCCCCCCCCCCCCCCCCCCCC)CCCCCCCCCCCCCCCCCCCCCCCCCCCCCCCCCC\n",
      "Pred SMILES: O=C(NC(COP(=O)([O-])OCC[N+](C)(C)C)C(O)C=CCCCCCCCCCCCCCCCCCCCCCCCCCCCCCCCCCCCCCCCCCCCCCCCCCCCCCCCCCCC\n",
      "\n",
      "True SMILES: O=C(NC(COP(=O)([O-])OCC[N+](C)(C)C)C(O)C=CCCCCCCCCCCCCCCCCCCCCCCC)CCCCCCCCCCCCCCCCCC=CCC=CCCCCCCCCCCC\n",
      "Pred SMILES: O=C(NC(COP(=O)([O-])OCC[N+](C)(C)C)C(O)C=CCCCCCCCCCCCCCCCCCCCCCCCCCCCCCCCCCCCCCCCCCC=C==CCCCCCCCCCCCCC\n",
      "\n",
      "True SMILES: O=C(NC(COP(=O)([O-])OCC[N+](C)(C)C)C(O)C=CCCCCCCCCCCCCCCCCCCCCCCC)CCCCCCCCCCCCCCCCCC=CCCCCCCCCCCCCCC\n",
      "Pred SMILES: O=C(NC(COP(=O)([O-])OCC[N+](C)(C)C)C(O)C=CCCCCCCCCCCCCCCCCCCCCCCCCCCCCCCCCCCCCCCCCCC=CCCCCCCCCCCCCCCC\n",
      "\n",
      "True SMILES: O=C(NC(COP(=O)([O-])OCC[N+](C)(C)C)C(O)C=CCCCCCCCCCCCCCCCCCCCCCCC)CCCCCCCCCCCCCCCCCCCCCCCCCCCCCCCCC\n",
      "Pred SMILES: O=C(NC(COP(=O)([O-])OCC[N+](C)(C)C)C(O)C=CCCCCCCCCCCCCCCCCCCCCCCCCCCCCCCCCCCCCCCCCCCCCCCCCCCCCCCCCC\n",
      "\n",
      "True SMILES: O=C(NC(COP(=O)([O-])OCC[N+](C)(C)C)C(O)C=CCCCCCCCCCCCCCCCCCCCCCCC)CCCCCCCCCCCCCCCCC=CCCCCCCCCCCCCCC\n",
      "Pred SMILES: O=C(NC(COP(=O)([O-])OCC[N+](C)(C)C)C(O)C=CCCCCCCCCCCCCCCCCCCCCCCCCCCCCCCCCCCCCCCCCCCCCCCCCCCCCCCCCC\n",
      "\n",
      "True SMILES: O=C(NC(COP(=O)([O-])OCC[N+](C)(C)C)C(O)C=CCCCCCCCCCCCCCCCCCCCCCCC)CCCCCCCCCC=CCCCCCCCCCC\n",
      "Pred SMILES: O=C(NC(COP(=O)([O-])OCC[N+](C)(C)C)C(O)C=CCCCCCCCCCCCCCCCCCCCCCCCCCCCCCCCCCC=CCCCCCCCCCC\n",
      "\n",
      "True SMILES: O=C(NC(COP(=O)([O-])OCC[N+](C)(C)C)C(O)C=CCCCCCCCCCCCCCCCCCCCCCCC)CCCCCCCCCCCCCCCCCCCCC\n",
      "Pred SMILES: O=C(NC(COP(=O)([O-])OCC[N+](C)(C)C)C(O)C=CCCCCCCCCCCCCCCCCCCCCCCCCCCCCCCCCCCCCCCCCCCCCC\n",
      "\n",
      "True SMILES: O=C(NC(COP(=O)([O-])OCC[N+](C)(C)C)C(O)C=CCCCCCCCCCCCCCCCCCCCCCCC)CCCCCCCC=CCCCCCCCCCCC\n",
      "Pred SMILES: O=C(NC(COP(=O)([O-])OCC[N+](C)(C)C)C(O)C=CCCCCCCCCCCCCCCCCCCCCCCCCCCCCCCCC=CCCCCCCCCCCC\n",
      "\n",
      "True SMILES: O=C(NC(COP(=O)([O-])OCC[N+](C)(C)C)C(O)C=CCCCCCCCCCCCCCCCCCCCCCCC)CCCCCCCCCCCCCCCCCCCC\n",
      "Pred SMILES: O=C(NC(COP(=O)([O-])OCC[N+](C)(C)C)C(O)C=CCCCCCCCCCCCCCCCCCCCCCCCCCCCCCCCCCCCCCCCCCCCC\n",
      "\n",
      "True SMILES: O=C(NC(COP(=O)([O-])OCC[N+](C)(C)C)C(O)C=CCCCCCCCCCCCCCCCCCCCCCCC)CCCCCCCCCC=CCC=CCCCCC\n",
      "Pred SMILES: O=C(NC(COP(=O)([O-])OCC[N+](C)(C)C)C(O)C=CCCCCCCCCCCCCCCCCCCCCCCCCCCCCCCCCCC=CC=CCCCCCC\n",
      "\n",
      "True SMILES: O=C(NC(COP(=O)([O-])OCC[N+](C)(C)C)C(O)CCCCCCCCCCCCCCCCCCCCCCCCC)CCCCCCCCCCCCCCCCCCCCCCCCCCCCCCCCCCCCC\n",
      "Pred SMILES: O=C(NC(COP(=O)([O-])OCC[N+](C)(C)C)C(O)CCCCCCCCCCCCCCCCCCCCCCCCCCCCCCCCCCCCCCCCCCCCCCCCCCCCCCCCCCCCCCC\n",
      "\n",
      "True SMILES: O=C(NC(COP(=O)([O-])OCC[N+](C)(C)C)C(O)CCCCCCCCCCCCCCCCCCCCCCCCC)CCCCCCCCCCCCCCCCCCCC=CCC=CCCCCCCCCCCC\n",
      "Pred SMILES: O=C(NC(COP(=O)([O-])OCC[N+](C)(C)C)C(O)CCCCCCCCCCCCCCCCCCCCCCCCCCCCCCCCCCCCCCCCCCCCCC=C=CCCCCCCCCCCCCC\n",
      "\n",
      "True SMILES: O=C(NC(COP(=O)([O-])OCC[N+](C)(C)C)C(O)CCCCCCCCCCCCCCCCCCCCCCCCC)CCCCCCCCCCCCCCCCCCCC=CCCCCCCCCCCCCCC\n",
      "Pred SMILES: O=C(NC(COP(=O)([O-])OCC[N+](C)(C)C)C(O)CCCCCCCCCCCCCCCCCCCCCCCCCCCCCCCCCCCCCCCCCCCCCC=CCCCCCCCCCCCCCCC\n",
      "\n",
      "True SMILES: O=C(NC(COP(=O)([O-])OCC[N+](C)(C)C)C(O)CCCCCCCCCCCCCCCCCCCCCCCCC)CCCCCCCCCCCCCCCCCCCCCCCCCCCCCCCCCCC\n",
      "Pred SMILES: O=C(NC(COP(=O)([O-])OCC[N+](C)(C)C)C(O)CCCCCCCCCCCCCCCCCCCCCCCCCCCCCCCCCCCCCCCCCCCCCCCCCCCCCCCCCCCCC\n",
      "\n",
      "True SMILES: O=C(NC(COP(=O)([O-])OCC[N+](C)(C)C)C(O)CCCCCCCCCCCCCCCCCCCCCCCCC)CCCCCCCCCCCCCCCCCCC=CCCCCCCCCCCCCCC\n",
      "Pred SMILES: O=C(NC(COP(=O)([O-])OCC[N+](C)(C)C)C(O)CCCCCCCCCCCCCCCCCCCCCCCCCCCCCCCCCCCCCCCCCCCCC=CCCCCCCCCCCCCCC\n",
      "\n",
      "True SMILES: O=C(NC(COP(=O)([O-])OCC[N+](C)(C)C)C(O)CCCCCCCCCCCCCCCCCCCCCCCCC)CCCCCCCCCC=CCCCCCCCCCCCC\n",
      "Pred SMILES: O=C(NC(COP(=O)([O-])OCC[N+](C)(C)C)C(O)CCCCCCCCCCCCCCCCCCCCCCCCCCCCCCCCCCCC=CCCCCCCCCCCCC\n",
      "\n",
      "True SMILES: O=C(NC(COP(=O)([O-])OCC[N+](C)(C)C)C(O)CCCCCCCCCCCCCCCCCCCCCCCCC)CCCCCCCCCCCCCCCCCCCCCCC\n",
      "Pred SMILES: O=C(NC(COP(=O)([O-])OCC[N+](C)(C)C)C(O)CCCCCCCCCCCCCCCCCCCCCCCCCCCCCCCCCCCCCCCCCCCCCCCCC\n",
      "\n",
      "True SMILES: O=C(NC(COP(=O)([O-])OCC[N+](C)(C)C)C(O)CCCCCCCCCCCCCCCCCCCCCCCCC)CCCCCCCCCC=CCCCCCCCCCCC\n",
      "Pred SMILES: O=C(NC(COP(=O)([O-])OCC[N+](C)(C)C)C(O)CCCCCCCCCCCCCCCCCCCCCCCCCCCCCCCCCCCC=CCCCCCCCCCCC\n",
      "\n",
      "True SMILES: O=C(NC(COP(=O)([O-])OCC[N+](C)(C)C)C(O)CCCCCCCCCCCCCCCCCCCCCCCCC)CCCCCCCCCCCCCCCCCCCCCC\n",
      "Pred SMILES: O=C(NC(COP(=O)([O-])OCC[N+](C)(C)C)C(O)CCCCCCCCCCCCCCCCCCCCCCCCCCCCCCCCCCCCCCCCCCCCCCCC\n",
      "\n",
      "True SMILES: O=C(NC(COP(=O)([O-])OCC[N+](C)(C)C)C(O)CCCCCCCCCCCCCCCCCCCCCCCCC)CCCCCCCCCCCCC=CC=CCCCCC\n",
      "Pred SMILES: O=C(NC(COP(=O)([O-])OCC[N+](C)(C)C)C(O)CCCCCCCCCCCCCCCCCCCCCCCCCCCCCCCCCCCCCCC=CCCCCCCCC\n",
      "\n",
      "True SMILES: O=C(NC(COP(=O)([O-])OCC[N+](C)(C)C)C(O)C=CCCC=CCCC=CCCCCCCCCCCCCCC)CCCCCCCCCCCCCCCCCCCC=CCC=CCCCCCCCCCCCCCCC\n",
      "Pred SMILES: O=C(NC(COP(=O)([O-])OCC[N+](C)(C)C)C(O)C=CCCC=CCCC=CCCCCCCCCCCCCCCCCCCCCCCCCCCCCCCCCCCCCCCCCCCCCCCCCCCCCCCCC\n",
      "\n",
      "True SMILES: O=C(NC(COP(=O)([O-])OCC[N+](C)(C)C)C(O)C=CCCC=CCCC=CCCCCCCCCCCCCCC)CCCCCCCCCCCCCCCCCCCC=CCCCCCCCCCCCCCCCCCC\n",
      "Pred SMILES: O=C(NC(COP(=O)([O-])OCC[N+](C)(C)C)C(O)C=CCCC=CCCC=CCCCCCCCCCCCCCCCCCCCCCCCCCCCCCCCCCCCCCCCCCCCCCCCCCCCCCCCC\n",
      "\n",
      "True SMILES: O=C(NC(COP(=O)([O-])OCC[N+](C)(C)C)C(O)C=CCCC=CCCC=CCCCCCCCCCCCCCC)CCCCCCCCCCCCCCCCCCCCCCCCCCCCCCCCCCCCCCC\n",
      "Pred SMILES: O=C(NC(COP(=O)([O-])OCC[N+](C)(C)C)C(O)C=CCCC=CCCC=CCCCCCCCCCCCCCCCCCCCCCCCCCCCCCCCCCCCCCCCCCCCCCCCCCCCCCCC\n",
      "\n",
      "True SMILES: O=C(NC(COP(=O)([O-])OCC[N+](C)(C)C)C(O)C=CCCC=CCCC=CCCCCCCCCCCCCCC)CCCCCCCCCCCCCCCCCCCC=CCC=CCCCCCCCCCCCCC\n",
      "Pred SMILES: O=C(NC(COP(=O)([O-])OCC[N+](C)(C)C)C(O)C=CCCC=CCCC=CCCCCCCCCCCCCCCCCCCCCCCCCCCCCCCCCCCC=CCCCCCCCCCCCCCCCCCC\n",
      "\n",
      "True SMILES: O=C(NC(COP(=O)([O-])OCC[N+](C)(C)C)C(O)C=CCCC=CCCC=CCCCCCCCCCCCCCC)CCCCCCCCCCCCCCCCCCCC=CCCCCCCCCCCCCCCCC\n",
      "Pred SMILES: O=C(NC(COP(=O)([O-])OCC[N+](C)(C)C)C(O)C=CCCC=CCCC=CCCCCCCCCCCCCCCCCCCCCCCCCCCCCCCCCCCCCCCCCCCCCCCCCCCCCC\n",
      "\n",
      "True SMILES: O=C(NC(COP(=O)([O-])OCC[N+](C)(C)C)C(O)C=CCCC=CCCC=CCCCCCCCCCCCCCC)CCCCCCCCCC=CCCCCCCCCCCCCCC\n",
      "Pred SMILES: O=C(NC(COP(=O)([O-])OCC[N+](C)(C)C)C(O)C=CCCC=CCCC=CCCCCCCCCCCCCCCCCCCCCCCCCC=CCCCCCCCCCCCCCCC\n",
      "\n",
      "True SMILES: O=C(NC(COP(=O)([O-])OCC[N+](C)(C)C)C(O)C=CCCC=CCCC=CCCCCCCCCCCCCCC)CCCCCCCCCCCCCCCCCCCCCCCCC\n",
      "Pred SMILES: O=C(NC(COP(=O)([O-])OCC[N+](C)(C)C)C(O)C=CCCC=CCCC=CCCCCCCCCCCCCCCCCCCCCCCCCCCCCCCCCCCCCCCCCCC\n",
      "\n",
      "True SMILES: O=C(NC(COP(=O)([O-])OCC[N+](C)(C)C)C(O)C=CCCC=CCCC=CCCCCCCCCCCCCCC)CCCCCCCCCC=CCCCCCCCCCCCCC\n",
      "Pred SMILES: O=C(NC(COP(=O)([O-])OCC[N+](C)(C)C)C(O)C=CCCC=CCCC=CCCCCCCCCCCCCCCCCCCCCCCCCC=CCCCCCCCCCCCCCCC\n",
      "\n",
      "True SMILES: O=C(NC(COP(=O)([O-])OCC[N+](C)(C)C)C(O)C=CCCC=CCCC=CCCCCCCCCCCCCCC)CCCCCCCCCCCCCCCCCCCCCCCC\n",
      "Pred SMILES: O=C(NC(COP(=O)([O-])OCC[N+](C)(C)C)C(O)C=CCCC=CCCC=CCCCCCCCCCCCCCCCCCCCCCCCCCCCCCCCCCCCCCCCCC\n",
      "\n",
      "True SMILES: O=C(NC(COP(=O)([O-])OCC[N+](C)(C)C)C(O)C=CCCC=CCCC=CCCCCCCCCCCCCCC)CCCCCCCCCCCCCCCCC=CCC=CCC\n",
      "Pred SMILES: O=C(NC(COP(=O)([O-])OCC[N+](C)(C)C)C(O)C=CCCC=CCCC=CCCCCCCCCCCCCCCCCCCCCCCCCCCCCCCCC=CCCCCCCCC\n",
      "\n",
      "True SMILES: O=C(NC(COP(=O)([O-])OCC[N+](C)(C)C)C(O)C=CCCC=CCCC=CCCCCCCCCCCCCCC)CCCC=CCCCCCC\n",
      "Pred SMILES: O=C(NC(COP(=O)([O-])OCC[N+](C)(C)C)C(O)C=CCCC=CCCC=CCCCCCCCCCCCCCCCCCCCCCCCCCCC\n",
      "\n",
      "True SMILES: O=C(NC(COP(=O)([O-])OCC[N+](C)(C)C)C(O)C=CCCC=CCCC=CCCCCCCCCCCCCCC)CCCCCCCCCCC\n",
      "Pred SMILES: O=C(NC(COP(=O)([O-])OCC[N+](C)(C)C)C(O)C=CCCC=CCCC=CCCCCCCCCCCCCCCCCCCCCCCCCCCC\n",
      "\n",
      "True SMILES: O=C(NC(COP(=O)([O-])OCC[N+](C)(C)C)C(O)C=CCCC=CCCCCCCCCCCCCCCCCCC)CCCCCCCCCCCCCCCCCCCC=CCC=CCCCCCCCCCCCCCCCCC\n",
      "Pred SMILES: O=C(NC(COP(=O)([O-])OCC[N+](C)(C)C)C(O)C=CCCC=CCCCCCCCCCCCCCCCCCCCCCCCCCCCCCCCCCCCCCCC=CCCCCCCCCCCCCCCCCCCCCC\n",
      "\n",
      "True SMILES: O=C(NC(COP(=O)([O-])OCC[N+](C)(C)C)C(O)C=CCCC=CCCCCCCCCCCCCCCCCCC)CCCCCCCCCCCCCCCCCCCC=CCCCCCCCCCCCCCCCCCCCC\n",
      "Pred SMILES: O=C(NC(COP(=O)([O-])OCC[N+](C)(C)C)C(O)C=CCCC=CCCCCCCCCCCCCCCCCCCCCCCCCCCCCCCCCCCCCCCCCCCCCCCCCCCCCCCCCCCCCCC\n",
      "\n",
      "True SMILES: O=C(NC(COP(=O)([O-])OCC[N+](C)(C)C)C(O)C=CCCC=CCCCCCCCCCCCCCCCCCC)CCCCCCCCCCCCCCCCCCCCCCCCCCCCCCCCCCCCCCCCC\n",
      "Pred SMILES: O=C(NC(COP(=O)([O-])OCC[N+](C)(C)C)C(O)C=CCCC=CCCCCCCCCCCCCCCCCCCCCCCCCCCCCCCCCCCCCCCCCCCCCCCCCCCCCCCCCCCCCCC\n",
      "\n",
      "True SMILES: O=C(NC(COP(=O)([O-])OCC[N+](C)(C)C)C(O)C=CCCC=CCCCCCCCCCCCCCCCCCC)CCCCCCCCCCCC=CCCCCCCCCCCCCCC\n",
      "Pred SMILES: O=C(NC(COP(=O)([O-])OCC[N+](C)(C)C)C(O)C=CCCC=CCCCCCCCCCCCCCCCCCCCCCCCCCCCCCCC=CCCCCCCCCCCCCCCC\n",
      "\n",
      "True SMILES: O=C(NC(COP(=O)([O-])OCC[N+](C)(C)C)C(O)C=CCCC=CCCCCCCCCCCCCCCCCCC)CCCCCCCCCCCCCCCCCCCCCCCCCCC\n",
      "Pred SMILES: O=C(NC(COP(=O)([O-])OCC[N+](C)(C)C)C(O)C=CCCC=CCCCCCCCCCCCCCCCCCCCCCCCCCCCCCCCCCCCCCCCCCCCCCCCC\n",
      "\n",
      "True SMILES: O=C(NC(COP(=O)([O-])OCC[N+](C)(C)C)C(O)C=CCCC=CCCCCCCCCCCCCCCCCCC)CCCCCCCCCCC=CCCCCCCCCCCCCCC\n",
      "Pred SMILES: O=C(NC(COP(=O)([O-])OCC[N+](C)(C)C)C(O)C=CCCC=CCCCCCCCCCCCCCCCCCCCCCCCCCCCCCC=CCCCCCCCCCCCCCCCC\n",
      "\n",
      "True SMILES: O=C(NC(COP(=O)([O-])OCC[N+](C)(C)C)C(O)C=CCCC=CCCCCCCCCCCCCCCCCCC)CCCCCCCCCCCCCCCCCCCCCCCCCC\n",
      "Pred SMILES: O=C(NC(COP(=O)([O-])OCC[N+](C)(C)C)C(O)C=CCCC=CCCCCCCCCCCCCCCCCCCCCCCCCCCCCCCCCCCCCCCCCCCCCC\n",
      "\n",
      "True SMILES: O=C(NC(COP(=O)([O-])OCC[N+](C)(C)C)C(O)C=CCCC=CCCCCCCCCCCCCCCCCCC)CCCCCCCCCC=CCC=CCCCCCCCCCCC\n",
      "Pred SMILES: O=C(NC(COP(=O)([O-])OCC[N+](C)(C)C)C(O)C=CCCC=CCCCCCCCCCCCCCCCCCCCCCCCCCCCCC=C===CCCCCCCCCCCCCC\n",
      "\n",
      "True SMILES: O=C(NC(COP(=O)([O-])OCC[N+](C)(C)C)C(O)C=CCCC=CCCCCCCCCCCCCCCCCCC)CCCCCCCCCCCCCC\n",
      "Pred SMILES: O=C(NC(COP(=O)([O-])OCC[N+](C)(C)C)C(O)C=CCCC=CCCCCCCCCCCCCCCCCCCCCCCCCCCCCCCCCC\n",
      "\n",
      "True SMILES: O=C(NC(COP(=O)([O-])OCC[N+](C)(C)C)C(O)C=CCCC=CCCCCCCCCCCCCCCCCCC)CCCCCCCC=CCCCC\n",
      "Pred SMILES: O=C(NC(COP(=O)([O-])OCC[N+](C)(C)C)C(O)C=CCCC=CCCCCCCCCCCCCCCCCCCCCCCCCCCC=CCCCC\n",
      "\n",
      "True SMILES: O=C(NC(COP(=O)([O-])OCC[N+](C)(C)C)C(O)C=CCCC=CCCCCCCCCCCCCCCCCCC)CCCCCCCCCCCCC\n",
      "Pred SMILES: O=C(NC(COP(=O)([O-])OCC[N+](C)(C)C)C(O)C=CCCC=CCCCCCCCCCCCCCCCCCCCCCCCCCCCCCCCC\n",
      "\n",
      "True SMILES: O=C(NC(COP(=O)([O-])OCC[N+](C)(C)C)C(O)C=CCCC=CCCCCCCCCCCCCCCCCCC)CCCCCCC=CCCCC\n",
      "Pred SMILES: O=C(NC(COP(=O)([O-])OCC[N+](C)(C)C)C(O)C=CCCC=CCCCCCCCCCCCCCCCCCCCCCCCCCCCCCCCC\n",
      "\n",
      "True SMILES: O=C(NC(COP(=O)([O-])OCC[N+](C)(C)C)C(O)C=CCCC=CCCCCCCCCCCCCCCCCCC)CCCCCCCCCCCC\n",
      "Pred SMILES: O=C(NC(COP(=O)([O-])OCC[N+](C)(C)C)C(O)C=CCCC=CCCCCCCCCCCCCCCCCCCCCCCCCCCCCCCCC\n",
      "\n",
      "True SMILES: O=C(NC(COP(=O)([O-])OCC[N+](C)(C)C)C(O)C=CCCCCCCCCCCCCCCCCCCCCCC)CCCCCCCCCCCCCC=CCCCCCCCCCCCCCC\n",
      "Pred SMILES: O=C(NC(COP(=O)([O-])OCC[N+](C)(C)C)C(O)C=CCCCCCCCCCCCCCCCCCCCCCCCCCCCCCCCCCCCCC=CCCCCCCCCCCCCCCC\n",
      "\n",
      "True SMILES: O=C(NC(COP(=O)([O-])OCC[N+](C)(C)C)C(O)C=CCCCCCCCCCCCCCCCCCCCCCC)CCCCCCCCCCCCCCCCCCCCCCCCCCCCC\n",
      "Pred SMILES: O=C(NC(COP(=O)([O-])OCC[N+](C)(C)C)C(O)C=CCCCCCCCCCCCCCCCCCCCCCCCCCCCCCCCCCCCCCCCCCCCCCCCCCCCCCC\n",
      "\n",
      "True SMILES: O=C(NC(COP(=O)([O-])OCC[N+](C)(C)C)C(O)C=CCCCCCCCCCCCCCCCCCCCCCC)CCCCCCCCCCCCC=CCCCCCCCCCCCCCC\n",
      "Pred SMILES: O=C(NC(COP(=O)([O-])OCC[N+](C)(C)C)C(O)C=CCCCCCCCCCCCCCCCCCCCCCCCCCCCCCCCCCCCC=CCCCCCCCCCCCCCCCC\n",
      "\n",
      "True SMILES: O=C(NC(COP(=O)([O-])OCC[N+](C)(C)C)C(O)C=CCCCCCCCCCCCCCCCCCCCCCC)CCCCCCCCCCCCCCCCCCCCCCCCCCCC\n",
      "Pred SMILES: O=C(NC(COP(=O)([O-])OCC[N+](C)(C)C)C(O)C=CCCCCCCCCCCCCCCCCCCCCCCCCCCCCCCCCCCCCCCCCCCCCCCCCCCCCC\n",
      "\n",
      "True SMILES: O=C(NC(COP(=O)([O-])OCC[N+](C)(C)C)C(O)C=CCCCCCCCCCCCCCCCCCCCCCC)CCCCCCCCCCCC=CCC=CCCCCCCCCCCC\n",
      "Pred SMILES: O=C(NC(COP(=O)([O-])OCC[N+](C)(C)C)C(O)C=CCCCCCCCCCCCCCCCCCCCCCCCCCCCCCCCCCCC=C=C=CCCCCCCCCCCCCC\n",
      "\n",
      "True SMILES: O=C(NC(COP(=O)([O-])OCC[N+](C)(C)C)C(O)C=CCCCCCCCCCCCCCCCCCCCCCC)CCCCCCCCCCCCCCCC\n",
      "Pred SMILES: O=C(NC(COP(=O)([O-])OCC[N+](C)(C)C)C(O)C=CCCCCCCCCCCCCCCCCCCCCCCCCCCCCCCCCCCCCCCC\n",
      "\n",
      "True SMILES: O=C(NC(COP(=O)([O-])OCC[N+](C)(C)C)C(O)C=CCCCCCCCCCCCCCCCCCCCCCC)CCC=CCC=CCCCCCCCC\n",
      "Pred SMILES: O=C(NC(COP(=O)([O-])OCC[N+](C)(C)C)C(O)C=CCCCCCCCCCCCCCCCCCCCCCCCCCCCCCC=CCCCCCCCC\n",
      "\n",
      "True SMILES: O=C(NC(COP(=O)([O-])OCC[N+](C)(C)C)C(O)C=CCCCCCCCCCCCCCCCCCCCCCC)CCCCCC=CCCCCCCCC\n",
      "Pred SMILES: O=C(NC(COP(=O)([O-])OCC[N+](C)(C)C)C(O)C=CCCCCCCCCCCCCCCCCCCCCCCCCCCCCCCCCCCCCCCC\n",
      "\n",
      "True SMILES: O=C(NC(COP(=O)([O-])OCC[N+](C)(C)C)C(O)C=CCCCCCCCCCCCCCCCCCCCCCC)CCCCCCCCCCCCCCC\n",
      "Pred SMILES: O=C(NC(COP(=O)([O-])OCC[N+](C)(C)C)C(O)C=CCCCCCCCCCCCCCCCCCCCCCCCCCCCCCCCCCCCCCC\n",
      "\n",
      "True SMILES: O=C(NC(COP(=O)([O-])OCC[N+](C)(C)C)C(O)C=CCCCCCCCCCCCCCCCCCCCCCC)CCCCCCCC=CCCCCC\n",
      "Pred SMILES: O=C(NC(COP(=O)([O-])OCC[N+](C)(C)C)C(O)C=CCCCCCCCCCCCCCCCCCCCCCCCCCCCCCCCCCCCCCC\n",
      "\n",
      "True SMILES: O=C(NC(COP(=O)([O-])OCC[N+](C)(C)C)C(O)CCCCCCCCCCCCCCCCCCCCCCCC)CCCCCCCCCCCCCCCC=CCCCCCCCCCCCCCC\n",
      "Pred SMILES: O=C(NC(COP(=O)([O-])OCC[N+](C)(C)C)C(O)CCCCCCCCCCCCCCCCCCCCCCCCCCCCCCCCCCCCCCCCC=CCCCCCCCCCCCCCCC\n",
      "\n",
      "True SMILES: O=C(NC(COP(=O)([O-])OCC[N+](C)(C)C)C(O)CCCCCCCCCCCCCCCCCCCCCCCC)CCCCCCCCCCCCCCCCCCCCCCCCCCCCCCC\n",
      "Pred SMILES: O=C(NC(COP(=O)([O-])OCC[N+](C)(C)C)C(O)CCCCCCCCCCCCCCCCCCCCCCCCCCCCCCCCCCCCCCCCCCCCCCCCCCCCCCCCCC\n",
      "\n",
      "True SMILES: O=C(NC(COP(=O)([O-])OCC[N+](C)(C)C)C(O)CCCCCCCCCCCCCCCCCCCCCCCC)CCCCCCCCCCCCCCC=CCCCCCCCCCCCCCC\n",
      "Pred SMILES: O=C(NC(COP(=O)([O-])OCC[N+](C)(C)C)C(O)CCCCCCCCCCCCCCCCCCCCCCCCCCCCCCCCCCCCCCCC=CCCCCCCCCCCCCCCCC\n",
      "\n",
      "True SMILES: O=C(NC(COP(=O)([O-])OCC[N+](C)(C)C)C(O)CCCCCCCCCCCCCCCCCCCCCCCC)CCCCCCCCCCCCCCCCCCCCCCCCCCCCCC\n",
      "Pred SMILES: O=C(NC(COP(=O)([O-])OCC[N+](C)(C)C)C(O)CCCCCCCCCCCCCCCCCCCCCCCCCCCCCCCCCCCCCCCCCCCCCCCCCCCCCCCCC\n",
      "\n",
      "True SMILES: O=C(NC(COP(=O)([O-])OCC[N+](C)(C)C)C(O)CCCCCCCCCCCCCCCCCCCCCCCC)CCCCCCCCCCCCCC=CCC=CCCCCCCCCCCC\n",
      "Pred SMILES: O=C(NC(COP(=O)([O-])OCC[N+](C)(C)C)C(O)CCCCCCCCCCCCCCCCCCCCCCCCCCCCCCCCCCCCCCC=CCC=CCCCCCCCCCCCCC\n",
      "\n",
      "True SMILES: O=C(NC(COP(=O)([O-])OCC[N+](C)(C)C)C(O)CCCCCCCCCCCCCCCCCCCCCCCC)CCCCCCCC=CCCCCCCCCC\n",
      "Pred SMILES: O=C(NC(COP(=O)([O-])OCC[N+](C)(C)C)C(O)CCCCCCCCCCCCCCCCCCCCCCCCCCCCCCCCCCCCCCCCCCCC\n",
      "\n",
      "True SMILES: O=C(NC(COP(=O)([O-])OCC[N+](C)(C)C)C(O)CCCCCCCCCCCCCCCCCCCCCCCC)CCCCCCCCCCCCCCCCCC\n",
      "Pred SMILES: O=C(NC(COP(=O)([O-])OCC[N+](C)(C)C)C(O)CCCCCCCCCCCCCCCCCCCCCCCCCCCCCCCCCCCCCCCCCCC\n",
      "\n",
      "True SMILES: O=C(NC(COP(=O)([O-])OCC[N+](C)(C)C)C(O)CCCCCCCCCCCCCCCCCCCCCCCC)CCCCCCCCC=CC=CCCCCC\n",
      "Pred SMILES: O=C(NC(COP(=O)([O-])OCC[N+](C)(C)C)C(O)CCCCCCCCCCCCCCCCCCCCCCCCCCCCCCCCCC=C==CCCCCC\n",
      "\n",
      "True SMILES: O=C(NC(COP(=O)([O-])OCC[N+](C)(C)C)C(O)CCCCCCCCCCCCCCCCCCCCCCCC)CCCCCCCCCC=CCCCCCC\n",
      "Pred SMILES: O=C(NC(COP(=O)([O-])OCC[N+](C)(C)C)C(O)CCCCCCCCCCCCCCCCCCCCCCCCCCCCCCCCCCC=CCCCCCC\n",
      "\n",
      "True SMILES: O=C(NC(COP(=O)([O-])OCC[N+](C)(C)C)C(O)CCCCCCCCCCCCCCCCCCCCCCCC)CCCCCCCCCCCCCCCCC\n",
      "Pred SMILES: O=C(NC(COP(=O)([O-])OCC[N+](C)(C)C)C(O)CCCCCCCCCCCCCCCCCCCCCCCCCCCCCCCCCCCCCCCCCC\n",
      "\n",
      "True SMILES: O=C(NC(COP(=O)([O-])OCC[N+](C)(C)C)C(O)C=CCCC=CCCC=CCCCCCCCCCCCCC)CCCCCCCCCCCCCCCCCC=CCCCCCCCCCCCCCC\n",
      "Pred SMILES: O=C(NC(COP(=O)([O-])OCC[N+](C)(C)C)C(O)C=CCCC=CCCC=CCCCCCCCCCCCCCCCCCCCCCCCCCCCCCCCC=CCCCCCCCCCCCCCCC\n",
      "\n",
      "True SMILES: O=C(NC(COP(=O)([O-])OCC[N+](C)(C)C)C(O)C=CCCC=CCCC=CCCCCCCCCCCCCC)CCCCCCCCCCCCCCCCCCCCCCCCCCCCCCCCC\n",
      "Pred SMILES: O=C(NC(COP(=O)([O-])OCC[N+](C)(C)C)C(O)C=CCCC=CCCC=CCCCCCCCCCCCCCCCCCCCCCCCCCCCCCCCCCCCCCCCCCCCCCCCC\n",
      "\n",
      "True SMILES: O=C(NC(COP(=O)([O-])OCC[N+](C)(C)C)C(O)C=CCCC=CCCC=CCCCCCCCCCCCCC)CCCCCCCCCCCCCCCCC=CCCCCCCCCCCCCCC\n",
      "Pred SMILES: O=C(NC(COP(=O)([O-])OCC[N+](C)(C)C)C(O)C=CCCC=CCCC=CCCCCCCCCCCCCCCCCCCCCCCCCCCCCCCCCCCCCCCCCCCCCCCCC\n",
      "\n",
      "True SMILES: O=C(NC(COP(=O)([O-])OCC[N+](C)(C)C)C(O)C=CCCC=CCCC=CCCCCCCCCCCCCC)CCCCCCCCCCCCCCCCCCCCCCCCCCCCCCCC\n",
      "Pred SMILES: O=C(NC(COP(=O)([O-])OCC[N+](C)(C)C)C(O)C=CCCC=CCCC=CCCCCCCCCCCCCCCCCCCCCCCCCCCCCCCCCCCCCCCCCCCCCCC\n",
      "\n",
      "True SMILES: O=C(NC(COP(=O)([O-])OCC[N+](C)(C)C)C(O)C=CCCC=CCCC=CCCCCCCCCCCCCC)CCCCCCCCCCCCCCCC=CCC=CCCCCCCCCCCC\n",
      "Pred SMILES: O=C(NC(COP(=O)([O-])OCC[N+](C)(C)C)C(O)C=CCCC=CCCC=CCCCCCCCCCCCCCCCCCCCCCCCCCCCCCC=CC==CCCCCCCCCCCCCC\n",
      "\n",
      "True SMILES: O=C(NC(COP(=O)([O-])OCC[N+](C)(C)C)C(O)C=CCCC=CCCC=CCCCCCCCCCCCCC)CCCCCCCC=CCCCCCCCCCCC\n",
      "Pred SMILES: O=C(NC(COP(=O)([O-])OCC[N+](C)(C)C)C(O)C=CCCC=CCCC=CCCCCCCCCCCCCCCCCCCCCCC=CCCCCCCCCCCC\n",
      "\n",
      "True SMILES: O=C(NC(COP(=O)([O-])OCC[N+](C)(C)C)C(O)C=CCCC=CCCC=CCCCCCCCCCCCCC)CCCCCCCCCCCCCCCCCCCC\n",
      "Pred SMILES: O=C(NC(COP(=O)([O-])OCC[N+](C)(C)C)C(O)C=CCCC=CCCC=CCCCCCCCCCCCCCCCCCCCCCCCCCCCCCCCCCC\n",
      "\n",
      "True SMILES: O=C(NC(COP(=O)([O-])OCC[N+](C)(C)C)C(O)C=CCCC=CCCC=CCCCCCCCCCCCCC)CCCCCCCCCC=CCC=CCCCCC\n",
      "Pred SMILES: O=C(NC(COP(=O)([O-])OCC[N+](C)(C)C)C(O)C=CCCC=CCCC=CCCCCCCCCCCCCCCCCCCCCCCCC=CC=CCCCCCC\n",
      "\n",
      "True SMILES: O=C(NC(COP(=O)([O-])OCC[N+](C)(C)C)C(O)C=CCCC=CCCC=CCCCCCCCCCCCCC)CCCCCCCCCC=CCCCCCCCC\n",
      "Pred SMILES: O=C(NC(COP(=O)([O-])OCC[N+](C)(C)C)C(O)C=CCCC=CCCC=CCCCCCCCCCCCCCCCCCCCCCCCC=CCCCCCCCC\n",
      "\n",
      "True SMILES: O=C(NC(COP(=O)([O-])OCC[N+](C)(C)C)C(O)C=CCCC=CCCC=CCCCCCCCCCCCCC)CCCCCCCCCCCCCCCCCCC\n",
      "Pred SMILES: O=C(NC(COP(=O)([O-])OCC[N+](C)(C)C)C(O)C=CCCC=CCCC=CCCCCCCCCCCCCCCCCCCCCCCCCCCCCCCCCC\n",
      "\n",
      "True SMILES: O=C(NC(COP(=O)([O-])OCC[N+](C)(C)C)C(O)C=CCCC=CCCCCCCCCCCCCCCCCC)CCCCCCCCCCCCCCCCCCCC=CCCCCCCCCCCCCCC\n",
      "Pred SMILES: O=C(NC(COP(=O)([O-])OCC[N+](C)(C)C)C(O)C=CCCC=CCCCCCCCCCCCCCCCCCCCCCCCCCCCCCCCCCCCCCC=CCCCCCCCCCCCCCCC\n",
      "\n",
      "True SMILES: O=C(NC(COP(=O)([O-])OCC[N+](C)(C)C)C(O)C=CCCC=CCCCCCCCCCCCCCCCCC)CCCCCCCCCCCCCCCCCCCCCCCCCCCCCCCCCCC\n",
      "Pred SMILES: O=C(NC(COP(=O)([O-])OCC[N+](C)(C)C)C(O)C=CCCC=CCCCCCCCCCCCCCCCCCCCCCCCCCCCCCCCCCCCCCCCCCCCCCCCCCCCCCC\n",
      "\n",
      "True SMILES: O=C(NC(COP(=O)([O-])OCC[N+](C)(C)C)C(O)C=CCCC=CCCCCCCCCCCCCCCCCC)CCCCCCCCCCCCCCCCCCC=CCCCCCCCCCCCCCC\n",
      "Pred SMILES: O=C(NC(COP(=O)([O-])OCC[N+](C)(C)C)C(O)C=CCCC=CCCCCCCCCCCCCCCCCCCCCCCCCCCCCCCCCCCCCC=CCCCCCCCCCCCCCCC\n",
      "\n",
      "True SMILES: O=C(NC(COP(=O)([O-])OCC[N+](C)(C)C)C(O)C=CCCC=CCCCCCCCCCCCCCCCCC)CCCCCCCCCCCCCCCCCCCCCCCCCCCCCCCCCC\n",
      "Pred SMILES: O=C(NC(COP(=O)([O-])OCC[N+](C)(C)C)C(O)C=CCCC=CCCCCCCCCCCCCCCCCCCCCCCCCCCCCCCCCCCCCCCCCCCCCCCCCCCCC\n",
      "\n",
      "True SMILES: O=C(NC(COP(=O)([O-])OCC[N+](C)(C)C)C(O)C=CCCC=CCCCCCCCCCCCCCCCCC)CCCCCCCCCCCCCCCCCC=CCC=CCCCCCCCCCCC\n",
      "Pred SMILES: O=C(NC(COP(=O)([O-])OCC[N+](C)(C)C)C(O)C=CCCC=CCCCCCCCCCCCCCCCCCCCCCCCCCCCCCCCCCCCC=C===CCCCCCCCCCCCC\n",
      "\n",
      "True SMILES: O=C(NC(COP(=O)([O-])OCC[N+](C)(C)C)C(O)C=CCCC=CCCCCCCCCCCCCCCCCC)CCCCCCCCCC=CCCCCCCCCCCC\n",
      "Pred SMILES: O=C(NC(COP(=O)([O-])OCC[N+](C)(C)C)C(O)C=CCCC=CCCCCCCCCCCCCCCCCCCCCCCCCCCCC=CCCCCCCCCCCC\n",
      "\n",
      "True SMILES: O=C(NC(COP(=O)([O-])OCC[N+](C)(C)C)C(O)C=CCCC=CCCCCCCCCCCCCCCCCC)CCCCCCCCCCCCCCCCCCCCCC\n",
      "Pred SMILES: O=C(NC(COP(=O)([O-])OCC[N+](C)(C)C)C(O)C=CCCC=CCCCCCCCCCCCCCCCCCCCCCCCCCCCCCCCCCCCCCCCC\n",
      "\n",
      "True SMILES: O=C(NC(COP(=O)([O-])OCC[N+](C)(C)C)C(O)C=CCCC=CCCCCCCCCCCCCCCCCC)CCCCCCCCCCCCC=CC=CCCCCC\n",
      "Pred SMILES: O=C(NC(COP(=O)([O-])OCC[N+](C)(C)C)C(O)C=CCCC=CCCCCCCCCCCCCCCCCCCCCCCCCCCCCCCC=CCCCCCCCC\n",
      "\n",
      "True SMILES: O=C(NC(COP(=O)([O-])OCC[N+](C)(C)C)C(O)C=CCCC=CCCCCCCCCCCCCCCCCC)CCCCCCCCCC=CCCCCCCCCCC\n",
      "Pred SMILES: O=C(NC(COP(=O)([O-])OCC[N+](C)(C)C)C(O)C=CCCC=CCCCCCCCCCCCCCCCCCCCCCCCCCCCC=CCCCCCCCCCC\n",
      "\n",
      "True SMILES: O=C(NC(COP(=O)([O-])OCC[N+](C)(C)C)C(O)C=CCCC=CCCCCCCCCCCCCCCCCC)CCCCCCCCCCCCCCCCCCCCC\n",
      "Pred SMILES: O=C(NC(COP(=O)([O-])OCC[N+](C)(C)C)C(O)C=CCCC=CCCCCCCCCCCCCCCCCCCCCCCCCCCCCCCCCCCCCCCC\n",
      "\n",
      "True SMILES: O=C(NC(COP(=O)([O-])OCC[N+](C)(C)C)C(O)C=CCCCCCCCCCCCCCCCCCCCCC)CCCCCCCCCCCCCCCCCCCCCCCCCCCCCCCCCCCCCCC\n",
      "Pred SMILES: O=C(NC(COP(=O)([O-])OCC[N+](C)(C)C)C(O)C=CCCCCCCCCCCCCCCCCCCCCCCCCCCCCCCCCCCCCCCCCCCCCCCCCCCCCCCCCCCCCC\n",
      "\n",
      "True SMILES: O=C(NC(COP(=O)([O-])OCC[N+](C)(C)C)C(O)C=CCCCCCCCCCCCCCCCCCCCCC)CCCCCCCCCCCCCCCCCCCC=CCC=CCCCCCCCCCCCCC\n",
      "Pred SMILES: O=C(NC(COP(=O)([O-])OCC[N+](C)(C)C)C(O)C=CCCCCCCCCCCCCCCCCCCCCCCCCCCCCCCCCCCCCCCCCCC=CC==CCCCCCCCCCCCCC\n",
      "\n",
      "True SMILES: O=C(NC(COP(=O)([O-])OCC[N+](C)(C)C)C(O)C=CCCCCCCCCCCCCCCCCCCCCC)CCCCCCCCCCCCCCCCCCCC=CCCCCCCCCCCCCCCCC\n",
      "Pred SMILES: O=C(NC(COP(=O)([O-])OCC[N+](C)(C)C)C(O)C=CCCCCCCCCCCCCCCCCCCCCCCCCCCCCCCCCCCCCCCCCCC=CCCCCCCCCCCCCCCCCC\n",
      "\n",
      "True SMILES: O=C(NC(COP(=O)([O-])OCC[N+](C)(C)C)C(O)C=CCCCCCCCCCCCCCCCCCCCCC)CCCCCCCCCCCCCCCCCCCCCCCCCCCCCCCCCCCCC\n",
      "Pred SMILES: O=C(NC(COP(=O)([O-])OCC[N+](C)(C)C)C(O)C=CCCCCCCCCCCCCCCCCCCCCCCCCCCCCCCCCCCCCCCCCCCCCCCCCCCCCCCCCCCC\n",
      "\n",
      "True SMILES: O=C(NC(COP(=O)([O-])OCC[N+](C)(C)C)C(O)C=CCCCCCCCCCCCCCCCCCCCCC)CCCCCCCCCCCCCCCCCCCC=CCC=CCCCCCCCCCCC\n",
      "Pred SMILES: O=C(NC(COP(=O)([O-])OCC[N+](C)(C)C)C(O)C=CCCCCCCCCCCCCCCCCCCCCCCCCCCCCCCCCCCCCCCCCCC=C==CCCCCCCCCCCCC\n",
      "\n",
      "True SMILES: O=C(NC(COP(=O)([O-])OCC[N+](C)(C)C)C(O)C=CCCCCCCCCCCCCCCCCCCCCC)CCCCCCCCCC=CCCCCCCCCCCCCC\n",
      "Pred SMILES: O=C(NC(COP(=O)([O-])OCC[N+](C)(C)C)C(O)C=CCCCCCCCCCCCCCCCCCCCCCCCCCCCCCCCC=CCCCCCCCCCCCCCC\n",
      "\n",
      "True SMILES: O=C(NC(COP(=O)([O-])OCC[N+](C)(C)C)C(O)C=CCCCCCCCCCCCCCCCCCCCCC)CCCCCCCCCCCCCCCCCCCCCCCC\n",
      "Pred SMILES: O=C(NC(COP(=O)([O-])OCC[N+](C)(C)C)C(O)C=CCCCCCCCCCCCCCCCCCCCCCCCCCCCCCCCCCCCCCCCCCCCCCCCC\n",
      "\n",
      "True SMILES: O=C(NC(COP(=O)([O-])OCC[N+](C)(C)C)C(O)C=CCCCCCCCCCCCCCCCCCCCCC)CCCCCCCCCCCCCCCCC=CCC=CCC\n",
      "Pred SMILES: O=C(NC(COP(=O)([O-])OCC[N+](C)(C)C)C(O)C=CCCCCCCCCCCCCCCCCCCCCCCCCCCCCCCCCCCCCCCC=CCC=CCCC\n",
      "\n",
      "True SMILES: O=C(NC(COP(=O)([O-])OCC[N+](C)(C)C)C(O)C=CCCCCCCCCCCCCCCCCCCCCC)CCCCCCCCCC=CCCCCCCCCCCCC\n",
      "Pred SMILES: O=C(NC(COP(=O)([O-])OCC[N+](C)(C)C)C(O)C=CCCCCCCCCCCCCCCCCCCCCCCCCCCCCCCCC=CCCCCCCCCCCCCCC\n",
      "\n",
      "True SMILES: O=C(NC(COP(=O)([O-])OCC[N+](C)(C)C)C(O)C=CCCCCCCCCCCCCCCCCCCCCC)CCCCCCCCCCCCCCCCCCCCCCC\n",
      "Pred SMILES: O=C(NC(COP(=O)([O-])OCC[N+](C)(C)C)C(O)C=CCCCCCCCCCCCCCCCCCCCCCCCCCCCCCCCCCCCCCCCCCCCCCCC\n",
      "\n",
      "True SMILES: O=C(NC(COP(=O)([O-])OCC[N+](C)(C)C)C(O)CCCCCCCCCCCCCCCCCCCCCCC)CCCCCCCCCCCCCCCCCCCC=CCC=CCCCCCCCCCCCCCCCCC\n",
      "Pred SMILES: O=C(NC(COP(=O)([O-])OCC[N+](C)(C)C)C(O)CCCCCCCCCCCCCCCCCCCCCCCCCCCCCCCCCCCCCCCCCCCC=CC==CCCCCCCCCCCCCCCCCC\n",
      "\n",
      "True SMILES: O=C(NC(COP(=O)([O-])OCC[N+](C)(C)C)C(O)CCCCCCCCCCCCCCCCCCCCCCC)CCCCCCCCCCCCCCCCCCCC=CCCCCCCCCCCCCCCCCCCCC\n",
      "Pred SMILES: O=C(NC(COP(=O)([O-])OCC[N+](C)(C)C)C(O)CCCCCCCCCCCCCCCCCCCCCCCCCCCCCCCCCCCCCCCCCCCCCCCCCCCCCCCCCCCCCCCCCCC\n",
      "\n",
      "True SMILES: O=C(NC(COP(=O)([O-])OCC[N+](C)(C)C)C(O)CCCCCCCCCCCCCCCCCCCCCCC)CCCCCCCCCCCCCCCCCCCCCCCCCCCCCCCCCCCCCCCCC\n",
      "Pred SMILES: O=C(NC(COP(=O)([O-])OCC[N+](C)(C)C)C(O)CCCCCCCCCCCCCCCCCCCCCCCCCCCCCCCCCCCCCCCCCCCCCCCCCCCCCCCCCCCCCCCCCC\n",
      "\n",
      "True SMILES: O=C(NC(COP(=O)([O-])OCC[N+](C)(C)C)C(O)CCCCCCCCCCCCCCCCCCCCCCC)CCCCCCCCCCCCCCCCCCCC=CCC=CCCCCCCCCCCCCCCC\n",
      "Pred SMILES: O=C(NC(COP(=O)([O-])OCC[N+](C)(C)C)C(O)CCCCCCCCCCCCCCCCCCCCCCCCCCCCCCCCCCCCCCCCCCCC=CC==CCCCCCCCCCCCCCCCC\n",
      "\n",
      "True SMILES: O=C(NC(COP(=O)([O-])OCC[N+](C)(C)C)C(O)CCCCCCCCCCCCCCCCCCCCCCC)CCCCCCCCCCCCCCCCCCCC=CCCCCCCCCCCCCCCCCCC\n",
      "Pred SMILES: O=C(NC(COP(=O)([O-])OCC[N+](C)(C)C)C(O)CCCCCCCCCCCCCCCCCCCCCCCCCCCCCCCCCCCCCCCCCCCCCCCCCCCCCCCCCCCCCCCCCC\n",
      "\n",
      "True SMILES: O=C(NC(COP(=O)([O-])OCC[N+](C)(C)C)C(O)CCCCCCCCCCCCCCCCCCCCCCC)CCCCCCCCCCC=CCCCCCCCCCCCCCC\n",
      "Pred SMILES: O=C(NC(COP(=O)([O-])OCC[N+](C)(C)C)C(O)CCCCCCCCCCCCCCCCCCCCCCCCCCCCCCCCCCC=CCCCCCCCCCCCCCCC\n",
      "\n",
      "True SMILES: O=C(NC(COP(=O)([O-])OCC[N+](C)(C)C)C(O)CCCCCCCCCCCCCCCCCCCCCCC)CCCCCCCCCCCCCCCCCCCCCCCCCC\n",
      "Pred SMILES: O=C(NC(COP(=O)([O-])OCC[N+](C)(C)C)C(O)CCCCCCCCCCCCCCCCCCCCCCCCCCCCCCCCCCCCCCCCCCCCCCCCCCCC\n",
      "\n",
      "True SMILES: O=C(NC(COP(=O)([O-])OCC[N+](C)(C)C)C(O)CCCCCCCCCCCCCCCCCCCCCCC)CCCCCCCCCC=CCC=CCCCCCCCCCCC\n",
      "Pred SMILES: O=C(NC(COP(=O)([O-])OCC[N+](C)(C)C)C(O)CCCCCCCCCCCCCCCCCCCCCCCCCCCCCCCCCCCC===CCCCCCCCCCCCC\n",
      "\n",
      "True SMILES: O=C(NC(COP(=O)([O-])OCC[N+](C)(C)C)C(O)CCCCCCCCCCCCCCCCCCCCCCC)CCCCCCCCCC=CCCCCCCCCCCCCCC\n",
      "Pred SMILES: O=C(NC(COP(=O)([O-])OCC[N+](C)(C)C)C(O)CCCCCCCCCCCCCCCCCCCCCCCCCCCCCCCCCC=CCCCCCCCCCCCCCCCC\n",
      "\n",
      "True SMILES: O=C(NC(COP(=O)([O-])OCC[N+](C)(C)C)C(O)CCCCCCCCCCCCCCCCCCCCCCC)CCCCCCCCCCCCCCCCCCCCCCCCC\n",
      "Pred SMILES: O=C(NC(COP(=O)([O-])OCC[N+](C)(C)C)C(O)CCCCCCCCCCCCCCCCCCCCCCCCCCCCCCCCCCCCCCCCCCCCCCCCCCC\n",
      "\n",
      "True SMILES: O=C(NC(COP(=O)([O-])OCC[N+](C)(C)C)C(O)CCCCCCCCCCCCCCCCCCCCCCC)CCCCCCCCCCCCC\n",
      "Pred SMILES: O=C(NC(COP(=O)([O-])OCC[N+](C)(C)C)C(O)CCCCCCCCCCCCCCCCCCCCCCCCCCCCCCCCCCCCCC\n",
      "\n",
      "True SMILES: O=C(NC(COP(=O)([O-])OCC[N+](C)(C)C)C(O)CCCCCCCCCCCCCCCCCCCCCCC)CCCCCCC=CCCCC\n",
      "Pred SMILES: O=C(NC(COP(=O)([O-])OCC[N+](C)(C)C)C(O)CCCCCCCCCCCCCCCCCCCCCCCCCCCCCCCCCCCCC\n",
      "\n",
      "True SMILES: O=C(NC(COP(=O)([O-])OCC[N+](C)(C)C)C(O)CCCCCCCCCCCCCCCCCCCCCCC)CCCCCCCCCCCC\n",
      "Pred SMILES: O=C(NC(COP(=O)([O-])OCC[N+](C)(C)C)C(O)CCCCCCCCCCCCCCCCCCCCCCCCCCCCCCCCCCCCC\n",
      "\n",
      "True SMILES: O=C(NC(COP(=O)([O-])OCC[N+](C)(C)C)C(O)CCCCCCCCCCCCCCCCCCCCCCC)CCCC=CCCCCCC\n",
      "Pred SMILES: O=C(NC(COP(=O)([O-])OCC[N+](C)(C)C)C(O)CCCCCCCCCCCCCCCCCCCCCCCCCCCC=CCCCCCCC\n",
      "\n",
      "True SMILES: O=C(NC(COP(=O)([O-])OCC[N+](C)(C)C)C(O)CCCCCCCCCCCCCCCCCCCCCCC)CCCCCCCCCCC\n",
      "Pred SMILES: O=C(NC(COP(=O)([O-])OCC[N+](C)(C)C)C(O)CCCCCCCCCCCCCCCCCCCCCCCCCCCCCCCCCCCC\n",
      "\n",
      "True SMILES: O=C(NC(COP(=O)([O-])OCC[N+](C)(C)C)C(O)C=CCCC=CCCC=CCCCCCCCCCCCC)CCCCCCCCCCCCC=CCCCCCCCCCCCCCC\n",
      "Pred SMILES: O=C(NC(COP(=O)([O-])OCC[N+](C)(C)C)C(O)C=CCCC=CCCC=CCCCCCCCCCCCCCCCCCCCCCCCCCC=CCCCCCCCCCCCCCCC\n",
      "\n",
      "True SMILES: O=C(NC(COP(=O)([O-])OCC[N+](C)(C)C)C(O)C=CCCC=CCCC=CCCCCCCCCCCCC)CCCCCCCCCCCCCCCCCCCCCCCCCCCC\n",
      "Pred SMILES: O=C(NC(COP(=O)([O-])OCC[N+](C)(C)C)C(O)C=CCCC=CCCC=CCCCCCCCCCCCCCCCCCCCCCCCCCCCCCCCCCCCCCCCCCCC\n",
      "\n",
      "True SMILES: O=C(NC(COP(=O)([O-])OCC[N+](C)(C)C)C(O)C=CCCC=CCCC=CCCCCCCCCCCCC)CCCCCCCCCCCC=CCC=CCCCCCCCCCCC\n",
      "Pred SMILES: O=C(NC(COP(=O)([O-])OCC[N+](C)(C)C)C(O)C=CCCC=CCCC=CCCCCCCCCCCCCCCCCCCCCCCCCC=C=C=CCCCCCCCCCCCC\n",
      "\n",
      "True SMILES: O=C(NC(COP(=O)([O-])OCC[N+](C)(C)C)C(O)C=CCCC=CCCC=CCCCCCCCCCCCC)CCCCCCCCCCCC=CCCCCCCCCCCCCCC\n",
      "Pred SMILES: O=C(NC(COP(=O)([O-])OCC[N+](C)(C)C)C(O)C=CCCC=CCCC=CCCCCCCCCCCCCCCCCCCCCCCCCC=CCCCCCCCCCCCCCCCC\n",
      "\n",
      "True SMILES: O=C(NC(COP(=O)([O-])OCC[N+](C)(C)C)C(O)C=CCCC=CCCC=CCCCCCCCCCCCC)CCCCCCCCCCCCCCCCCCCCCCCCCCC\n",
      "Pred SMILES: O=C(NC(COP(=O)([O-])OCC[N+](C)(C)C)C(O)C=CCCC=CCCC=CCCCCCCCCCCCCCCCCCCCCCCCCCCCCCCCCCCCCCCCCC\n",
      "\n",
      "True SMILES: O=C(NC(COP(=O)([O-])OCC[N+](C)(C)C)C(O)C=CCCC=CCCC=CCCCCCCCCCCCC)CCCCCC=CCCCCCCCC\n",
      "Pred SMILES: O=C(NC(COP(=O)([O-])OCC[N+](C)(C)C)C(O)C=CCCC=CCCC=CCCCCCCCCCCCCCCCCCCCCCCCCCCCCC\n",
      "\n",
      "True SMILES: O=C(NC(COP(=O)([O-])OCC[N+](C)(C)C)C(O)C=CCCC=CCCC=CCCCCCCCCCCCC)CCCCCCCCCCCCCCC\n",
      "Pred SMILES: O=C(NC(COP(=O)([O-])OCC[N+](C)(C)C)C(O)C=CCCC=CCCC=CCCCCCCCCCCCCCCCCCCCCCCCCCCCC\n",
      "\n",
      "True SMILES: O=C(NC(COP(=O)([O-])OCC[N+](C)(C)C)C(O)C=CCCC=CCCC=CCCCCCCCCCCCC)CCCCCCCC=CCCCCC\n",
      "Pred SMILES: O=C(NC(COP(=O)([O-])OCC[N+](C)(C)C)C(O)C=CCCC=CCCC=CCCCCCCCCCCCCCCCCCCCCCCCCCCCC\n",
      "\n",
      "True SMILES: O=C(NC(COP(=O)([O-])OCC[N+](C)(C)C)C(O)C=CCCC=CCCC=CCCCCCCCCCCCC)CCCCCCCCCCCCCC\n",
      "Pred SMILES: O=C(NC(COP(=O)([O-])OCC[N+](C)(C)C)C(O)C=CCCC=CCCC=CCCCCCCCCCCCCCCCCCCCCCCCCCCC\n",
      "\n",
      "True SMILES: O=C(NC(COP(=O)([O-])OCC[N+](C)(C)C)C(O)C=CCCC=CCCC=CCCCCCCCCCCCC)CCCCCCCC=CCCCC\n",
      "Pred SMILES: O=C(NC(COP(=O)([O-])OCC[N+](C)(C)C)C(O)C=CCCC=CCCC=CCCCCCCCCCCCCCCCCCCCCCCCCCCC\n",
      "\n",
      "True SMILES: O=C(NC(COP(=O)([O-])OCC[N+](C)(C)C)C(O)C=CCCC=CCCCCCCCCCCCCCCCC)CCCCCCCCCCCCCCC=CCCCCCCCCCCCCCC\n",
      "Pred SMILES: O=C(NC(COP(=O)([O-])OCC[N+](C)(C)C)C(O)C=CCCC=CCCCCCCCCCCCCCCCCCCCCCCCCCCCCCCCC=CCCCCCCCCCCCCCCC\n",
      "\n",
      "True SMILES: O=C(NC(COP(=O)([O-])OCC[N+](C)(C)C)C(O)C=CCCC=CCCCCCCCCCCCCCCCC)CCCCCCCCCCCCCCCCCCCCCCCCCCCCCC\n",
      "Pred SMILES: O=C(NC(COP(=O)([O-])OCC[N+](C)(C)C)C(O)C=CCCC=CCCCCCCCCCCCCCCCCCCCCCCCCCCCCCCCCCCCCCCCCCCCCCCCCC\n",
      "\n",
      "True SMILES: O=C(NC(COP(=O)([O-])OCC[N+](C)(C)C)C(O)C=CCCC=CCCCCCCCCCCCCCCCC)CCCCCCCCCCCCCC=CCC=CCCCCCCCCCCC\n",
      "Pred SMILES: O=C(NC(COP(=O)([O-])OCC[N+](C)(C)C)C(O)C=CCCC=CCCCCCCCCCCCCCCCCCCCCCCCCCCCCCCC=CCC=CCCCCCCCCCCCC\n",
      "\n",
      "True SMILES: O=C(NC(COP(=O)([O-])OCC[N+](C)(C)C)C(O)C=CCCC=CCCCCCCCCCCCCCCCC)CCCCCCCCCCCCCC=CCCCCCCCCCCCCCC\n",
      "Pred SMILES: O=C(NC(COP(=O)([O-])OCC[N+](C)(C)C)C(O)C=CCCC=CCCCCCCCCCCCCCCCCCCCCCCCCCCCCCCC=CCCCCCCCCCCCCCCCC\n",
      "\n",
      "True SMILES: O=C(NC(COP(=O)([O-])OCC[N+](C)(C)C)C(O)C=CCCC=CCCCCCCCCCCCCCCCC)CCCCCCCCCCCCCCCCCCCCCCCCCCCCC\n",
      "Pred SMILES: O=C(NC(COP(=O)([O-])OCC[N+](C)(C)C)C(O)C=CCCC=CCCCCCCCCCCCCCCCCCCCCCCCCCCCCCCCCCCCCCCCCCCCCCCCC\n",
      "\n",
      "True SMILES: O=C(NC(COP(=O)([O-])OCC[N+](C)(C)C)C(O)C=CCCC=CCCCCCCCCCCCCCCCC)CCCCCCCCC=CC=CCCCCC\n",
      "Pred SMILES: O=C(NC(COP(=O)([O-])OCC[N+](C)(C)C)C(O)C=CCCC=CCCCCCCCCCCCCCCCCCCCCCCCCCC=C==CCCCCC\n",
      "\n",
      "True SMILES: O=C(NC(COP(=O)([O-])OCC[N+](C)(C)C)C(O)C=CCCC=CCCCCCCCCCCCCCCCC)CCCCCCCCCC=CCCCCCC\n",
      "Pred SMILES: O=C(NC(COP(=O)([O-])OCC[N+](C)(C)C)C(O)C=CCCC=CCCCCCCCCCCCCCCCCCCCCCCCCCCC=CCCCCCC\n",
      "\n",
      "True SMILES: O=C(NC(COP(=O)([O-])OCC[N+](C)(C)C)C(O)C=CCCC=CCCCCCCCCCCCCCCCC)CCCCCCCCCCCCCCCCC\n",
      "Pred SMILES: O=C(NC(COP(=O)([O-])OCC[N+](C)(C)C)C(O)C=CCCC=CCCCCCCCCCCCCCCCCCCCCCCCCCCCCCCCCCC\n",
      "\n",
      "True SMILES: O=C(NC(COP(=O)([O-])OCC[N+](C)(C)C)C(O)C=CCCC=CCCCCCCCCCCCCCCCC)CCCCCCCCCCCCCCCC\n",
      "Pred SMILES: O=C(NC(COP(=O)([O-])OCC[N+](C)(C)C)C(O)C=CCCC=CCCCCCCCCCCCCCCCCCCCCCCCCCCCCCCCCC\n",
      "\n",
      "True SMILES: O=C(NC(COP(=O)([O-])OCC[N+](C)(C)C)C(O)C=CCCC=CCCCCCCCCCCCCCCCC)CCC=CCC=CCCCCCCCC\n",
      "Pred SMILES: O=C(NC(COP(=O)([O-])OCC[N+](C)(C)C)C(O)C=CCCC=CCCCCCCCCCCCCCCCCCCCCCCCC=CCCCCCCCC\n",
      "\n",
      "True SMILES: O=C(NC(COP(=O)([O-])OCC[N+](C)(C)C)C(O)C=CCCCCCCCCCCCCCCCCCCCC)CCCCCCCCCCCCCCCCC=CCCCCCCCCCCCCCC\n",
      "Pred SMILES: O=C(NC(COP(=O)([O-])OCC[N+](C)(C)C)C(O)C=CCCCCCCCCCCCCCCCCCCCCCCCCCCCCCCCCCCCCCC=CCCCCCCCCCCCCCCC\n",
      "\n",
      "True SMILES: O=C(NC(COP(=O)([O-])OCC[N+](C)(C)C)C(O)C=CCCCCCCCCCCCCCCCCCCCC)CCCCCCCCCCCCCCCCCCCCCCCCCCCCCCCC\n",
      "Pred SMILES: O=C(NC(COP(=O)([O-])OCC[N+](C)(C)C)C(O)C=CCCCCCCCCCCCCCCCCCCCCCCCCCCCCCCCCCCCCCCCCCCCCCCCCCCCCCCC\n",
      "\n",
      "True SMILES: O=C(NC(COP(=O)([O-])OCC[N+](C)(C)C)C(O)C=CCCCCCCCCCCCCCCCCCCCC)CCCCCCCCCCCCCCCC=CCC=CCCCCCCCCCCC\n",
      "Pred SMILES: O=C(NC(COP(=O)([O-])OCC[N+](C)(C)C)C(O)C=CCCCCCCCCCCCCCCCCCCCCCCCCCCCCCCCCCCCCCCCC==CCCCCCCCCCCCC\n",
      "\n",
      "True SMILES: O=C(NC(COP(=O)([O-])OCC[N+](C)(C)C)C(O)C=CCCCCCCCCCCCCCCCCCCCC)CCCCCCCCCCCCCCCC=CCCCCCCCCCCCCCC\n",
      "Pred SMILES: O=C(NC(COP(=O)([O-])OCC[N+](C)(C)C)C(O)C=CCCCCCCCCCCCCCCCCCCCCCCCCCCCCCCCCCCCCC=CCCCCCCCCCCCCCCCC\n",
      "\n",
      "True SMILES: O=C(NC(COP(=O)([O-])OCC[N+](C)(C)C)C(O)C=CCCCCCCCCCCCCCCCCCCCC)CCCCCCCCCCCCCCCCCCCCCCCCCCCCCCC\n",
      "Pred SMILES: O=C(NC(COP(=O)([O-])OCC[N+](C)(C)C)C(O)C=CCCCCCCCCCCCCCCCCCCCCCCCCCCCCCCCCCCCCCCCCCCCCCCCCCCCCCC\n",
      "\n",
      "True SMILES: O=C(NC(COP(=O)([O-])OCC[N+](C)(C)C)C(O)C=CCCCCCCCCCCCCCCCCCCCC)CCCCCCCCCC=CCC=CCCCCC\n",
      "Pred SMILES: O=C(NC(COP(=O)([O-])OCC[N+](C)(C)C)C(O)C=CCCCCCCCCCCCCCCCCCCCCCCCCCCCCCCC=C===CCCCCC\n",
      "\n",
      "True SMILES: CCCCCCCCCCCCCCCCCCCC\\C=C\\C(O)C(COP([O-])(=O)OCC[N+](C)(C)C)NC(=O)CCCCCCCCC\\C=C/CCCCCCCC\n",
      "Pred SMILES: CCCCCCCCCCCCCCCCCCCCCCCCCC(C)C(COP([O-])(=O-OCCCN+](C)CC)C)CC)=O)CCCCCCCCCCC=CCCCCCCCCCC\n",
      "\n",
      "True SMILES: O=C(NC(COP(=O)([O-])OCC[N+](C)(C)C)C(O)C=CCCCCCCCCCCCCCCCCCCCC)CCCCCCCCCCCCCCCCCCC\n",
      "Pred SMILES: O=C(NC(COP(=O)([O-])OCC[N+](C)(C)C)C(O)C=CCCCCCCCCCCCCCCCCCCCCCCCCCCCCCCCCCCCCCCCC\n",
      "\n",
      "True SMILES: O=C(NC(COP(=O)([O-])OCC[N+](C)(C)C)C(O)C=CCCCCCCCCCCCCCCCCCCCC)CCCCCCCC=CCCCCCCCCC\n",
      "Pred SMILES: O=C(NC(COP(=O)([O-])OCC[N+](C)(C)C)C(O)C=CCCCCCCCCCCCCCCCCCCCCCCCCCCCCCCCCCCCCCCCC\n",
      "\n",
      "True SMILES: O=C(NC(COP(=O)([O-])OCC[N+](C)(C)C)C(O)C=CCCCCCCCCCCCCCCCCCCCC)CCCCCCCCCCCCCCCCCC\n",
      "Pred SMILES: O=C(NC(COP(=O)([O-])OCC[N+](C)(C)C)C(O)C=CCCCCCCCCCCCCCCCCCCCCCCCCCCCCCCCCCCCCCCC\n",
      "\n",
      "True SMILES: O=C(NC(COP(=O)([O-])OCC[N+](C)(C)C)C(O)CCCCCCCCCCCCCCCCCCCCCC)CCCCCCCCCCCCCCCCCCC=CCCCCCCCCCCCCCC\n",
      "Pred SMILES: O=C(NC(COP(=O)([O-])OCC[N+](C)(C)C)C(O)CCCCCCCCCCCCCCCCCCCCCCCCCCCCCCCCCCCCCCCCCC=CCCCCCCCCCCCCCC\n",
      "\n",
      "True SMILES: O=C(NC(COP(=O)([O-])OCC[N+](C)(C)C)C(O)CCCCCCCCCCCCCCCCCCCCCC)CCCCCCCCCCCCCCCCCCCCCCCCCCCCCCCCCC\n",
      "Pred SMILES: O=C(NC(COP(=O)([O-])OCC[N+](C)(C)C)C(O)CCCCCCCCCCCCCCCCCCCCCCCCCCCCCCCCCCCCCCCCCCCCCCCCCCCCCCCCC\n",
      "\n",
      "True SMILES: O=C(NC(COP(=O)([O-])OCC[N+](C)(C)C)C(O)CCCCCCCCCCCCCCCCCCCCCC)CCCCCCCCCCCCCCCCCC=CCC=CCCCCCCCCCCC\n",
      "Pred SMILES: O=C(NC(COP(=O)([O-])OCC[N+](C)(C)C)C(O)CCCCCCCCCCCCCCCCCCCCCCCCCCCCCCCCCCCCCCCCC=C===CCCCCCCCCCCC\n",
      "\n",
      "True SMILES: O=C(NC(COP(=O)([O-])OCC[N+](C)(C)C)C(O)CCCCCCCCCCCCCCCCCCCCCC)CCCCCCCCCCCCCCCCCC=CCCCCCCCCCCCCCC\n",
      "Pred SMILES: O=C(NC(COP(=O)([O-])OCC[N+](C)(C)C)C(O)CCCCCCCCCCCCCCCCCCCCCCCCCCCCCCCCCCCCCCCCC=CCCCCCCCCCCCCCC\n",
      "\n",
      "True SMILES: O=C(NC(COP(=O)([O-])OCC[N+](C)(C)C)C(O)CCCCCCCCCCCCCCCCCCCCCC)CCCCCCCCCCCCCCCCCCCCCCCCCCCCCCCCC\n",
      "Pred SMILES: O=C(NC(COP(=O)([O-])OCC[N+](C)(C)C)C(O)CCCCCCCCCCCCCCCCCCCCCCCCCCCCCCCCCCCCCCCCCCCCCCCCCCCCCCCC\n",
      "\n",
      "True SMILES: O=C(NC(COP(=O)([O-])OCC[N+](C)(C)C)C(O)CCCCCCCCCCCCCCCCCCCCCC)CCCCCCCCCCCCC=CC=CCCCCC\n",
      "Pred SMILES: O=C(NC(COP(=O)([O-])OCC[N+](C)(C)C)C(O)CCCCCCCCCCCCCCCCCCCCCCCCCCCCCCCCCCCC=C==CCCCCC\n",
      "\n",
      "True SMILES: O=C(NC(COP(=O)([O-])OCC[N+](C)(C)C)C(O)CCCCCCCCCCCCCCCCCCCCCC)CCCCCCCCCC=CCCCCCCCCCC\n",
      "Pred SMILES: O=C(NC(COP(=O)([O-])OCC[N+](C)(C)C)C(O)CCCCCCCCCCCCCCCCCCCCCCCCCCCCCCCCCCCCCCCCCCCCC\n",
      "\n",
      "True SMILES: O=C(NC(COP(=O)([O-])OCC[N+](C)(C)C)C(O)CCCCCCCCCCCCCCCCCCCCCC)CCCCCCCCCCCCCCCCCCCCC\n",
      "Pred SMILES: O=C(NC(COP(=O)([O-])OCC[N+](C)(C)C)C(O)CCCCCCCCCCCCCCCCCCCCCCCCCCCCCCCCCCCCCCCCCCCC\n",
      "\n",
      "True SMILES: O=C(NC(COP(=O)([O-])OCC[N+](C)(C)C)C(O)CCCCCCCCCCCCCCCCCCCCCC)CCCCCCCC=CCCCCCCCCCCC\n",
      "Pred SMILES: O=C(NC(COP(=O)([O-])OCC[N+](C)(C)C)C(O)CCCCCCCCCCCCCCCCCCCCCCCCCCCCCCCCCCCCCCCCCCCC\n",
      "\n",
      "True SMILES: O=C(NC(COP(=O)([O-])OCC[N+](C)(C)C)C(O)CCCCCCCCCCCCCCCCCCCCCC)CCCCCCCCCCCCCCCCCCCC\n",
      "Pred SMILES: O=C(NC(COP(=O)([O-])OCC[N+](C)(C)C)C(O)CCCCCCCCCCCCCCCCCCCCCCCCCCCCCCCCCCCCCCCCCCC\n",
      "\n",
      "True SMILES: O=C(NC(COP(=O)([O-])OCC[N+](C)(C)C)C(O)C=CCCC=CCCC=CCCCCCCCCCCC)CCCCCCCCCCCCCCCCCCCC=CCCCCCCCCCCCCCCCC\n",
      "Pred SMILES: O=C(NC(COP(=O)([O-])OCC[N+](C)(C)C)C(O)C=CCCC=CCCC=CCCCCCCCCCCCCCCCCCCCCCCCCCCCCCCCC=CCCCCCCCCCCCCCCCC\n",
      "\n",
      "True SMILES: O=C(NC(COP(=O)([O-])OCC[N+](C)(C)C)C(O)C=CCCC=CCCC=CCCCCCCCCCCC)CCCCCCCCCCCCCCCCCCCCCCCCCCCCCCCCCCCCC\n",
      "Pred SMILES: O=C(NC(COP(=O)([O-])OCC[N+](C)(C)C)C(O)C=CCCC=CCCC=CCCCCCCCCCCCCCCCCCCCCCCCCCCCCCCCCCCCCCCCCCCCCCCCCCC\n",
      "\n",
      "True SMILES: O=C(NC(COP(=O)([O-])OCC[N+](C)(C)C)C(O)C=CCCC=CCCC=CCCCCCCCCCCC)CCCCCCCCCCCCCCCCCCCC=CCC=CCCCCCCCCCCC\n",
      "Pred SMILES: O=C(NC(COP(=O)([O-])OCC[N+](C)(C)C)C(O)C=CCCC=CCCC=CCCCCCCCCCCCCCCCCCCCCCCCCCCCCCCCC=C==CCCCCCCCCCCCCC\n",
      "\n",
      "True SMILES: O=C(NC(COP(=O)([O-])OCC[N+](C)(C)C)C(O)C=CCCC=CCCC=CCCCCCCCCCCC)CCCCCCCCCCCCCCCCCCCC=CCCCCCCCCCCCCCC\n",
      "Pred SMILES: O=C(NC(COP(=O)([O-])OCC[N+](C)(C)C)C(O)C=CCCC=CCCC=CCCCCCCCCCCCCCCCCCCCCCCCCCCCCCCCC=CCCCCCCCCCCCCCC\n",
      "\n",
      "True SMILES: O=C(NC(COP(=O)([O-])OCC[N+](C)(C)C)C(O)C=CCCC=CCCC=CCCCCCCCCCCC)CCCCCCCCCCCCCCCCCCCCCCCCCCCCCCCCCCC\n",
      "Pred SMILES: O=C(NC(COP(=O)([O-])OCC[N+](C)(C)C)C(O)C=CCCC=CCCC=CCCCCCCCCCCCCCCCCCCCCCCCCCCCCCCCCCCCCCCCCCCCCCCC\n",
      "\n",
      "True SMILES: O=C(NC(COP(=O)([O-])OCC[N+](C)(C)C)C(O)C=CCCC=CCCC=CCCCCCCCCCCC)CCCCCCCCCCCCCCCCC=CCC=CCC\n",
      "Pred SMILES: O=C(NC(COP(=O)([O-])OCC[N+](C)(C)C)C(O)C=CCCC=CCCC=CCCCCCCCCCCCCCCCCCCCCCCCCCCCCC=CCC=CCC\n",
      "\n",
      "True SMILES: O=C(NC(COP(=O)([O-])OCC[N+](C)(C)C)C(O)C=CCCC=CCCC=CCCCCCCCCCCC)CCCCCCCCCC=CCCCCCCCCCCCC\n",
      "Pred SMILES: O=C(NC(COP(=O)([O-])OCC[N+](C)(C)C)C(O)C=CCCC=CCCC=CCCCCCCCCCCCCCCCCCCCCCC=CCCCCCCCCCCCC\n",
      "\n",
      "True SMILES: O=C(NC(COP(=O)([O-])OCC[N+](C)(C)C)C(O)C=CCCC=CCCC=CCCCCCCCCCCC)CCCCCCCCCCCCCCCCCCCCCCC\n",
      "Pred SMILES: O=C(NC(COP(=O)([O-])OCC[N+](C)(C)C)C(O)C=CCCC=CCCC=CCCCCCCCCCCCCCCCCCCCCCCCCCCCCCCCCCCC\n",
      "\n",
      "True SMILES: O=C(NC(COP(=O)([O-])OCC[N+](C)(C)C)C(O)C=CCCC=CCCC=CCCCCCCCCCCC)CCCCCCCCCC=CCCCCCCCCCCC\n",
      "Pred SMILES: O=C(NC(COP(=O)([O-])OCC[N+](C)(C)C)C(O)C=CCCC=CCCC=CCCCCCCCCCCCCCCCCCCCCCC=CCCCCCCCCCCC\n",
      "\n",
      "True SMILES: CCCCCCCCCCCCCCCCCCCCCCC(=O)NC(COP([O-])(=O)OCC[N+](C)(C)C)C(O)\\C=C\\CC\\C=C\\CC\\C=C\\CCCCCCCCCCC\n",
      "Pred SMILES: CCCCCCCCCCCCCCCCCCCCCCCC=O)CC(C(P([O-])(=O-()CCN+](C)CC)C)C)C)CCCCCCCCC\\C\\C\\\\C\\CCCCCCCCCCCCC\n",
      "\n",
      "True SMILES: O=C(NC(COP(=O)([O-])OCC[N+](C)(C)C)C(O)C=CCCC=CCCCCCCCCCCCCCCC)CCCCCCCCCCCCCCCCCCCCCCCCCCCCCCCCCCCCCCCCC\n",
      "Pred SMILES: O=C(NC(COP(=O)([O-])OCC[N+](C)(C)C)C(O)C=CCCC=CCCCCCCCCCCCCCCCCCCCCCCCCCCCCCCCCCCCCCCCCCCCCCCCCCCCCCCCCC\n",
      "\n",
      "True SMILES: CCCCCCCCCCCCCCC\\C=C\\CC\\C=C\\C(O)C(COP([O-])(=O)OCC[N+](C)(C)C)NC(=O)CCCCCCCCCCCCCCCCCCC\\C=C/C\\C=C/CCCCCCCCCCCCCCC\n",
      "Pred SMILES: CCCCCCCCCCCCCCCCC=C\\C\\\\C\\C\\C(C)C(C(P([O-])(=O)O)[[N+](C)CC)C)CC)=O)CCCCCCCCCCCCCCCCCCCCC=CCCCCCCCCCCCCCCCCCCCCCCC\n",
      "\n",
      "True SMILES: O=C(NC(COP(=O)([O-])OCC[N+](C)(C)C)C(O)C=CCCC=CCCCCCCCCCCCCCCC)CCCCCCCCCCCCCCCCCCCC=CCCCCCCCCCCCCCCCCCC\n",
      "Pred SMILES: O=C(NC(COP(=O)([O-])OCC[N+](C)(C)C)C(O)C=CCCC=CCCCCCCCCCCCCCCCCCCCCCCCCCCCCCCCCCCCCCCCCCCCCCCCCCCCCCCCCC\n",
      "\n",
      "True SMILES: O=C(NC(COP(=O)([O-])OCC[N+](C)(C)C)C(O)C=CCCC=CCCCCCCCCCCCCCCC)CCCCCCCCCCCCCCCCCCCCCCCCCCCCCCCCCCCCCCC\n",
      "Pred SMILES: O=C(NC(COP(=O)([O-])OCC[N+](C)(C)C)C(O)C=CCCC=CCCCCCCCCCCCCCCCCCCCCCCCCCCCCCCCCCCCCCCCCCCCCCCCCCCCCCCC\n",
      "\n",
      "True SMILES: O=C(NC(COP(=O)([O-])OCC[N+](C)(C)C)C(O)C=CCCC=CCCCCCCCCCCCCCCC)CCCCCCCCCCCCCCCCCCCC=CCC=CCCCCCCCCCCCCC\n",
      "Pred SMILES: O=C(NC(COP(=O)([O-])OCC[N+](C)(C)C)C(O)C=CCCC=CCCCCCCCCCCCCCCCCCCCCCCCCCCCCCCCCCCCCCCC==CCCCCCCCCCCCCC\n",
      "\n",
      "True SMILES: CCCCCCCCCCCCCCC\\C=C\\CC\\C=C\\C(O)C(COP([O-])(=O)OCC[N+](C)(C)C)NC(=O)CCCCCCCCC\\C=C/C\\C=C/CCCCCCCCCCC\n",
      "Pred SMILES: CCCCCCCCCCCCCCCCC=C\\C\\=C=C\\C(C)C(C(P([O)])(=O)()[[N+](C)CC)C)CC)=O)CCCCCCCCCCC=C=CCC\\CCCCCCCCCCCCCC\n",
      "\n",
      "True SMILES: O=C(NC(COP(=O)([O-])OCC[N+](C)(C)C)C(O)C=CCCC=CCCCCCCCCCCCCCCC)CCCCCCCCCC=CCCCCCCCCCCCCCC\n",
      "Pred SMILES: O=C(NC(COP(=O)([O-])OCC[N+](C)(C)C)C(O)C=CCCC=CCCCCCCCCCCCCCCCCCCCCCCCCCC=CCCCCCCCCCCCCCC\n",
      "\n",
      "True SMILES: O=C(NC(COP(=O)([O-])OCC[N+](C)(C)C)C(O)C=CCCC=CCCCCCCCCCCCCCCC)CCCCCCCCCCCCCCCCCCCCCCCCC\n",
      "Pred SMILES: O=C(NC(COP(=O)([O-])OCC[N+](C)(C)C)C(O)C=CCCC=CCCCCCCCCCCCCCCCCCCCCCCCCCCCCCCCCCCCCCCCCC\n",
      "\n",
      "True SMILES: O=C(NC(COP(=O)([O-])OCC[N+](C)(C)C)C(O)C=CCCC=CCCCCCCCCCCCCCCC)CCCCCCCCCC=CCCCCCCCCCCCCC\n",
      "Pred SMILES: O=C(NC(COP(=O)([O-])OCC[N+](C)(C)C)C(O)C=CCCC=CCCCCCCCCCCCCCCCCCCCCCCCCCC=CCCCCCCCCCCCCC\n",
      "\n",
      "True SMILES: O=C(NC(COP(=O)([O-])OCC[N+](C)(C)C)C(O)C=CCCC=CCCCCCCCCCCCCCCC)CCCCCCCCCCCCCCCCCCCCCCCC\n",
      "Pred SMILES: O=C(NC(COP(=O)([O-])OCC[N+](C)(C)C)C(O)C=CCCC=CCCCCCCCCCCCCCCCCCCCCCCCCCCCCCCCCCCCCCCCC\n",
      "\n",
      "True SMILES: CCCCCCCCCCCCCCC\\C=C\\CC\\C=C\\C(O)C(COP([O-])(=O)OCC[N+](C)(C)C)NC(=O)CCCCCCCCCCCC\n",
      "Pred SMILES: CCCCCCCCCCCCCCCCC=CCC==C\\C\\C(C)C(COP([O-])(=O)(CC[N+](C)CC)C)CC(=O)CCCCCCCCCCCCC\n",
      "\n",
      "True SMILES: O=C(NC(COP(=O)([O-])OCC[N+](C)(C)C)C(O)C=CCCC=CCCCCCCCCCCCCCCC)CCCC=CCCCCCC\n",
      "Pred SMILES: O=C(NC(COP(=O)([O-])OCC[N+](C)(C)C)C(O)C=CCCC=CCCCCCCCCCCCCCCCCCCCC=CCCCCCCC\n",
      "\n",
      "True SMILES: O=C(NC(COP(=O)([O-])OCC[N+](C)(C)C)C(O)C=CCCC=CCCCCCCCCCCCCCCC)CCCCCCCCCCC\n",
      "Pred SMILES: O=C(NC(COP(=O)([O-])OCC[N+](C)(C)C)C(O)C=CCCC=CCCCCCCCCCCCCCCCCCCCCCCCCCCCC\n",
      "\n",
      "True SMILES: O=C(NC(COP(=O)([O-])OCC[N+](C)(C)C)C(O)C=CCCCCCCCCCCCCCCCCCCC)CCCCCCCCCCCCCCCCCCCC=CCC=CCCCCCCCCCCCCCCCCC\n",
      "Pred SMILES: O=C(NC(COP(=O)([O-])OCC[N+](C)(C)C)C(O)C=CCCCCCCCCCCCCCCCCCCCCCCCCCCCCCCCCCCCCCCCC=CCC=CCCCCCCCCCCCCCCCCC\n",
      "\n",
      "True SMILES: O=C(NC(COP(=O)([O-])OCC[N+](C)(C)C)C(O)C=CCCCCCCCCCCCCCCCCCCC)CCCCCCCCCCCCCCCCCCCC=CCCCCCCCCCCCCCCCCCCCC\n",
      "Pred SMILES: O=C(NC(COP(=O)([O-])OCC[N+](C)(C)C)C(O)C=CCCCCCCCCCCCCCCCCCCCCCCCCCCCCCCCCCCCCCCCCCCCCCCCCCCCCCCCCCCCCCCC\n",
      "\n",
      "True SMILES: O=C(NC(COP(=O)([O-])OCC[N+](C)(C)C)C(O)C=CCCCCCCCCCCCCCCCCCCC)CCCCCCCCCCCC=CCC=CCCCCCCCCCCC\n",
      "Pred SMILES: O=C(NC(COP(=O)([O-])OCC[N+](C)(C)C)C(O)C=CCCCCCCCCCCCCCCCCCCCCCCCCCCCCCCCC=C===CCCCCCCCCCCCC\n",
      "\n",
      "True SMILES: O=C(NC(COP(=O)([O-])OCC[N+](C)(C)C)C(O)C=CCCCCCCCCCCCCCCCCCCC)CCCCCCCCCCCC=CCCCCCCCCCCCCCC\n",
      "Pred SMILES: O=C(NC(COP(=O)([O-])OCC[N+](C)(C)C)C(O)C=CCCCCCCCCCCCCCCCCCCCCCCCCCCCCCCCC=CCCCCCCCCCCCCCCCC\n",
      "\n",
      "True SMILES: O=C(NC(COP(=O)([O-])OCC[N+](C)(C)C)C(O)C=CCCCCCCCCCCCCCCCCCCC)CCCCCCCCCCCCCCCCCCCCCCCCCCC\n",
      "Pred SMILES: O=C(NC(COP(=O)([O-])OCC[N+](C)(C)C)C(O)C=CCCCCCCCCCCCCCCCCCCCCCCCCCCCCCCCCCCCCCCCCCCCCCCCCCC\n",
      "\n",
      "True SMILES: O=C(NC(COP(=O)([O-])OCC[N+](C)(C)C)C(O)C=CCCCCCCCCCCCCCCCCCCC)CCCCCCCCCCC=CCCCCCCCCCCCCCC\n",
      "Pred SMILES: O=C(NC(COP(=O)([O-])OCC[N+](C)(C)C)C(O)C=CCCCCCCCCCCCCCCCCCCCCCCCCCCCCCCC=CCCCCCCCCCCCCCCC\n",
      "\n",
      "True SMILES: O=C(NC(COP(=O)([O-])OCC[N+](C)(C)C)C(O)C=CCCCCCCCCCCCCCCCCCCC)CCCCCCCCCCCCCCCCCCCCCCCCCC\n",
      "Pred SMILES: O=C(NC(COP(=O)([O-])OCC[N+](C)(C)C)C(O)C=CCCCCCCCCCCCCCCCCCCCCCCCCCCCCCCCCCCCCCCCCCCCCCCC\n",
      "\n",
      "True SMILES: O=C(NC(COP(=O)([O-])OCC[N+](C)(C)C)C(O)C=CCCCCCCCCCCCCCCCCCCC)CCCCCCCC=CCCCCC\n",
      "Pred SMILES: O=C(NC(COP(=O)([O-])OCC[N+](C)(C)C)C(O)C=CCCCCCCCCCCCCCCCCCCCCCCCCCCCCCCCCCCCC\n",
      "\n",
      "True SMILES: O=C(NC(COP(=O)([O-])OCC[N+](C)(C)C)C(O)C=CCCCCCCCCCCCCCCCCCCC)CCCCCCCCCCCCCC\n",
      "Pred SMILES: O=C(NC(COP(=O)([O-])OCC[N+](C)(C)C)C(O)C=CCCCCCCCCCCCCCCCCCCCCCCCCCCCCCCCCCCC\n",
      "\n",
      "True SMILES: O=C(NC(COP(=O)([O-])OCC[N+](C)(C)C)C(O)C=CCCCCCCCCCCCCCCCCCCC)CCCCCCCC=CCCCC\n",
      "Pred SMILES: O=C(NC(COP(=O)([O-])OCC[N+](C)(C)C)C(O)C=CCCCCCCCCCCCCCCCCCCCCCCCCCCCCCCCCCC\n",
      "\n",
      "True SMILES: O=C(NC(COP(=O)([O-])OCC[N+](C)(C)C)C(O)C=CCCCCCCCCCCCCCCCCCCC)CCCCCCCCCCCCC\n",
      "Pred SMILES: O=C(NC(COP(=O)([O-])OCC[N+](C)(C)C)C(O)C=CCCCCCCCCCCCCCCCCCCCCCCCCCCCCCCCCCC\n",
      "\n",
      "True SMILES: O=C(NC(COP(=O)([O-])OCC[N+](C)(C)C)C(O)C=CCCCCCCCCCCCCCCCCCCC)CCCCCCC=CCCCC\n",
      "Pred SMILES: O=C(NC(COP(=O)([O-])OCC[N+](C)(C)C)C(O)C=CCCCCCCCCCCCCCCCCCCCCCCCCCCCCCCCCCC\n",
      "\n",
      "True SMILES: O=C(NC(COP(=O)([O-])OCC[N+](C)(C)C)C(O)CCCCCCCCCCCCCCCCCCCCC)CCCCCCCCCCCCCC=CCC=CCCCCCCCCCCC\n",
      "Pred SMILES: O=C(NC(COP(=O)([O-])OCC[N+](C)(C)C)C(O)CCCCCCCCCCCCCCCCCCCCCCCCCCCCCCCCCCCC=C==CCCCCCCCCCCCCC\n",
      "\n",
      "True SMILES: O=C(NC(COP(=O)([O-])OCC[N+](C)(C)C)C(O)CCCCCCCCCCCCCCCCCCCCC)CCCCCCCCCCCCCC=CCCCCCCCCCCCCCC\n",
      "Pred SMILES: O=C(NC(COP(=O)([O-])OCC[N+](C)(C)C)C(O)CCCCCCCCCCCCCCCCCCCCCCCCCCCCCCCCCCCC=CCCCCCCCCCCCCCCCC\n",
      "\n",
      "True SMILES: O=C(NC(COP(=O)([O-])OCC[N+](C)(C)C)C(O)CCCCCCCCCCCCCCCCCCCCC)CCCCCCCCCCCCCCCCCCCCCCCCCCCCC\n",
      "Pred SMILES: O=C(NC(COP(=O)([O-])OCC[N+](C)(C)C)C(O)CCCCCCCCCCCCCCCCCCCCCCCCCCCCCCCCCCCCCCCCCCCCCCCCCCCCC\n",
      "\n",
      "True SMILES: O=C(NC(COP(=O)([O-])OCC[N+](C)(C)C)C(O)CCCCCCCCCCCCCCCCCCCCC)CCCCCCCCCCCCC=CCCCCCCCCCCCCCC\n",
      "Pred SMILES: O=C(NC(COP(=O)([O-])OCC[N+](C)(C)C)C(O)CCCCCCCCCCCCCCCCCCCCCCCCCCCCCCCCCCC=CCCCCCCCCCCCCCCCC\n",
      "\n",
      "True SMILES: O=C(NC(COP(=O)([O-])OCC[N+](C)(C)C)C(O)CCCCCCCCCCCCCCCCCCCCC)CCCCCCCCCCCCCCCCCCCCCCCCCCCC\n",
      "Pred SMILES: O=C(NC(COP(=O)([O-])OCC[N+](C)(C)C)C(O)CCCCCCCCCCCCCCCCCCCCCCCCCCCCCCCCCCCCCCCCCCCCCCCCCC\n",
      "\n",
      "True SMILES: O=C(NC(COP(=O)([O-])OCC[N+](C)(C)C)C(O)CCCCCCCCCCCCCCCCCCCCC)CCCCCCCCCCCCCCCCC\n",
      "Pred SMILES: O=C(NC(COP(=O)([O-])OCC[N+](C)(C)C)C(O)CCCCCCCCCCCCCCCCCCCCCCCCCCCCCCCCCCCCCCCC\n",
      "\n",
      "True SMILES: O=C(NC(COP(=O)([O-])OCC[N+](C)(C)C)C(O)CCCCCCCCCCCCCCCCCCCCC)CCCCCCCCCCCCCCCC\n",
      "Pred SMILES: O=C(NC(COP(=O)([O-])OCC[N+](C)(C)C)C(O)CCCCCCCCCCCCCCCCCCCCCCCCCCCCCCCCCCCCCCC\n",
      "\n",
      "True SMILES: O=C(NC(COP(=O)([O-])OCC[N+](C)(C)C)C(O)CCCCCCCCCCCCCCCCCCCCC)CCC=CCC=CCCCCCCCC\n",
      "Pred SMILES: O=C(NC(COP(=O)([O-])OCC[N+](C)(C)C)C(O)CCCCCCCCCCCCCCCCCCCCCCCCCCCC==C=CCCCCCCC\n",
      "\n",
      "True SMILES: O=C(NC(COP(=O)([O-])OCC[N+](C)(C)C)C(O)CCCCCCCCCCCCCCCCCCCCC)CCCCCC=CCCCCCCCC\n",
      "Pred SMILES: O=C(NC(COP(=O)([O-])OCC[N+](C)(C)C)C(O)CCCCCCCCCCCCCCCCCCCCCCCCCCCCCCCCCCCCCCCCC\n",
      "\n",
      "True SMILES: O=C(NC(COP(=O)([O-])OCC[N+](C)(C)C)C(O)CCCCCCCCCCCCCCCCCCCCC)CCCCCCCCCCCCCCC\n",
      "Pred SMILES: O=C(NC(COP(=O)([O-])OCC[N+](C)(C)C)C(O)CCCCCCCCCCCCCCCCCCCCCCCCCCCCCCCCCCCCCC\n",
      "\n",
      "True SMILES: O=C(NC(COP(=O)([O-])OCC[N+](C)(C)C)C(O)C=CCCC=CCCC=CCCCCCCCCCC)CCCCCCCCCCCCCCCC=CCC=CCCCCCCCCCCC\n",
      "Pred SMILES: O=C(NC(COP(=O)([O-])OCC[N+](C)(C)C)C(O)C=CCCC=CCCC=CCCCCCCCCCCCCCCCCCCCCCCCCCCCCCC==CCCCCCCCCCCC\n",
      "\n",
      "True SMILES: O=C(NC(COP(=O)([O-])OCC[N+](C)(C)C)C(O)C=CCCC=CCCC=CCCCCCCCCCC)CCCCCCCCCCCCCCCC=CCCCCCCCCCCCCCC\n",
      "Pred SMILES: O=C(NC(COP(=O)([O-])OCC[N+](C)(C)C)C(O)C=CCCC=CCCC=CCCCCCCCCCCCCCCCCCCCCCCCCCCC=CCCCCCCCCCCCCCC\n",
      "\n",
      "True SMILES: O=C(NC(COP(=O)([O-])OCC[N+](C)(C)C)C(O)C=CCCC=CCCC=CCCCCCCCCCC)CCCCCCCCCCCCCCCCCCCCCCCCCCCCCCC\n",
      "Pred SMILES: O=C(NC(COP(=O)([O-])OCC[N+](C)(C)C)C(O)C=CCCC=CCCC=CCCCCCCCCCCCCCCCCCCCCCCCCCCCCCCCCCCCCCCCCCC\n",
      "\n",
      "True SMILES: O=C(NC(COP(=O)([O-])OCC[N+](C)(C)C)C(O)C=CCCC=CCCC=CCCCCCCCCCC)CCCCCCCCCCCCCCC=CCCCCCCCCCCCCCC\n",
      "Pred SMILES: O=C(NC(COP(=O)([O-])OCC[N+](C)(C)C)C(O)C=CCCC=CCCC=CCCCCCCCCCCCCCCCCCCCCCCCCCC=CCCCCCCCCCCCCCC\n",
      "\n",
      "True SMILES: O=C(NC(COP(=O)([O-])OCC[N+](C)(C)C)C(O)C=CCCC=CCCC=CCCCCCCCCCC)CCCCCCCCCCCCCCCCCCCCCCCCCCCCCC\n",
      "Pred SMILES: O=C(NC(COP(=O)([O-])OCC[N+](C)(C)C)C(O)C=CCCC=CCCC=CCCCCCCCCCCCCCCCCCCCCCCCCCCCCCCCCCCCCCCCCC\n",
      "\n",
      "True SMILES: O=C(NC(COP(=O)([O-])OCC[N+](C)(C)C)C(O)C=CCCC=CCCC=CCCCCCCCCCC)CCCCCCCCCCCCCCCCCCC\n",
      "Pred SMILES: O=C(NC(COP(=O)([O-])OCC[N+](C)(C)C)C(O)C=CCCC=CCCC=CCCCCCCCCCCCCCCCCCCCCCCCCCCCCCC\n",
      "\n",
      "True SMILES: O=C(NC(COP(=O)([O-])OCC[N+](C)(C)C)C(O)C=CCCC=CCCC=CCCCCCCCCCC)CCCCCCCC=CCCCCCCCCC\n",
      "Pred SMILES: O=C(NC(COP(=O)([O-])OCC[N+](C)(C)C)C(O)C=CCCC=CCCC=CCCCCCCCCCCCCCCCCCCCCCCCCCCCCCC\n",
      "\n",
      "True SMILES: O=C(NC(COP(=O)([O-])OCC[N+](C)(C)C)C(O)C=CCCC=CCCC=CCCCCCCCCCC)CCCCCCCCCCCCCCCCCC\n",
      "Pred SMILES: O=C(NC(COP(=O)([O-])OCC[N+](C)(C)C)C(O)C=CCCC=CCCC=CCCCCCCCCCCCCCCCCCCCCCCCCCCCCC\n",
      "\n",
      "True SMILES: O=C(NC(COP(=O)([O-])OCC[N+](C)(C)C)C(O)C=CCCC=CCCC=CCCCCCCCCCC)CCCCCCCCC=CC=CCCCCC\n",
      "Pred SMILES: O=C(NC(COP(=O)([O-])OCC[N+](C)(C)C)C(O)C=CCCC=CCCC=CCCCCCCCCCCCCCCCCCCCCCC==CCCCCC\n",
      "\n",
      "True SMILES: O=C(NC(COP(=O)([O-])OCC[N+](C)(C)C)C(O)C=CCCC=CCCC=CCCCCCCCCCC)CCCCCCCCCC=CCCCCCC\n",
      "Pred SMILES: O=C(NC(COP(=O)([O-])OCC[N+](C)(C)C)C(O)C=CCCC=CCCC=CCCCCCCCCCCCCCCCCCCCCC=CCCCCCC\n",
      "\n",
      "True SMILES: O=C(NC(COP(=O)([O-])OCC[N+](C)(C)C)C(O)C=CCCC=CCCCCCCCCCCCCCC)CCCCCCCCCCCCCCCCCC=CCC=CCCCCCCCCCCC\n",
      "Pred SMILES: O=C(NC(COP(=O)([O-])OCC[N+](C)(C)C)C(O)C=CCCC=CCCCCCCCCCCCCCCCCCCCCCCCCCCCCCCCCC=C===CCCCCCCCCCCCC\n",
      "\n",
      "True SMILES: O=C(NC(COP(=O)([O-])OCC[N+](C)(C)C)C(O)C=CCCC=CCCCCCCCCCCCCCC)CCCCCCCCCCCCCCCCCC=CCCCCCCCCCCCCCC\n",
      "Pred SMILES: O=C(NC(COP(=O)([O-])OCC[N+](C)(C)C)C(O)C=CCCC=CCCCCCCCCCCCCCCCCCCCCCCCCCCCCCCCCC=CCCCCCCCCCCCCCCCC\n",
      "\n",
      "True SMILES: O=C(NC(COP(=O)([O-])OCC[N+](C)(C)C)C(O)C=CCCC=CCCCCCCCCCCCCCC)CCCCCCCCCCCCCCCCCCCCCCCCCCCCCCCCC\n",
      "Pred SMILES: O=C(NC(COP(=O)([O-])OCC[N+](C)(C)C)C(O)C=CCCC=CCCCCCCCCCCCCCCCCCCCCCCCCCCCCCCCCCCCCCCCCCCCCCCCCC\n",
      "\n",
      "True SMILES: O=C(NC(COP(=O)([O-])OCC[N+](C)(C)C)C(O)C=CCCC=CCCCCCCCCCCCCCC)CCCCCCCCCCCCCCCCC=CCCCCCCCCCCCCCC\n",
      "Pred SMILES: O=C(NC(COP(=O)([O-])OCC[N+](C)(C)C)C(O)C=CCCC=CCCCCCCCCCCCCCCCCCCCCCCCCCCCCCCCC=CCCCCCCCCCCCCCCC\n",
      "\n",
      "True SMILES: O=C(NC(COP(=O)([O-])OCC[N+](C)(C)C)C(O)C=CCCC=CCCCCCCCCCCCCCC)CCCCCCCCCCCCCCCCCCCCCCCCCCCCCCCC\n",
      "Pred SMILES: O=C(NC(COP(=O)([O-])OCC[N+](C)(C)C)C(O)C=CCCC=CCCCCCCCCCCCCCCCCCCCCCCCCCCCCCCCCCCCCCCCCCCCCCCCC\n",
      "\n",
      "True SMILES: O=C(NC(COP(=O)([O-])OCC[N+](C)(C)C)C(O)C=CCCC=CCCCCCCCCCCCCCC)CCCCCCCCCCCCCCCCCCCCC\n",
      "Pred SMILES: O=C(NC(COP(=O)([O-])OCC[N+](C)(C)C)C(O)C=CCCC=CCCCCCCCCCCCCCCCCCCCCCCCCCCCCCCCCCCCCC\n",
      "\n",
      "True SMILES: O=C(NC(COP(=O)([O-])OCC[N+](C)(C)C)C(O)C=CCCC=CCCCCCCCCCCCCCC)CCCCCCCC=CCCCCCCCCCCC\n",
      "Pred SMILES: O=C(NC(COP(=O)([O-])OCC[N+](C)(C)C)C(O)C=CCCC=CCCCCCCCCCCCCCCCCCCCCCCCCCCCCCCCCCCCC\n",
      "\n",
      "True SMILES: O=C(NC(COP(=O)([O-])OCC[N+](C)(C)C)C(O)C=CCCC=CCCCCCCCCCCCCCC)CCCCCCCCCCCCCCCCCCCC\n",
      "Pred SMILES: O=C(NC(COP(=O)([O-])OCC[N+](C)(C)C)C(O)C=CCCC=CCCCCCCCCCCCCCCCCCCCCCCCCCCCCCCCCCCC\n",
      "\n",
      "True SMILES: O=C(NC(COP(=O)([O-])OCC[N+](C)(C)C)C(O)C=CCCC=CCCCCCCCCCCCCCC)CCCCCCCCCC=CCC=CCCCCC\n",
      "Pred SMILES: O=C(NC(COP(=O)([O-])OCC[N+](C)(C)C)C(O)C=CCCC=CCCCCCCCCCCCCCCCCCCCCCCCCCCC===CCCCCC\n",
      "\n",
      "True SMILES: O=C(NC(COP(=O)([O-])OCC[N+](C)(C)C)C(O)C=CCCC=CCCCCCCCCCCCCCC)CCCCCCCCCC=CCCCCCCCC\n",
      "Pred SMILES: O=C(NC(COP(=O)([O-])OCC[N+](C)(C)C)C(O)C=CCCC=CCCCCCCCCCCCCCCCCCCCCCCCCCCCCCCCCCCC\n",
      "\n",
      "True SMILES: O=C(NC(COP(=O)([O-])OCC[N+](C)(C)C)C(O)C=CCCCCCCCCCCCCCCCCCC)CCCCCCCCCCCCCCCCCCCC=CCC=CCCCCCCCCCCC\n",
      "Pred SMILES: O=C(NC(COP(=O)([O-])OCC[N+](C)(C)C)C(O)C=CCCCCCCCCCCCCCCCCCCCCCCCCCCCCCCCCCCCCCCC=CC==CCCCCCCCCCCCC\n",
      "\n",
      "True SMILES: O=C(NC(COP(=O)([O-])OCC[N+](C)(C)C)C(O)C=CCCCCCCCCCCCCCCCCCC)CCCCCCCCCCCCCCCCCCCC=CCCCCCCCCCCCCCC\n",
      "Pred SMILES: O=C(NC(COP(=O)([O-])OCC[N+](C)(C)C)C(O)C=CCCCCCCCCCCCCCCCCCCCCCCCCCCCCCCCCCCCCCCC=CCCCCCCCCCCCCCCCC\n",
      "\n",
      "True SMILES: O=C(NC(COP(=O)([O-])OCC[N+](C)(C)C)C(O)C=CCCCCCCCCCCCCCCCCCC)CCCCCCCCCCCCCCCCCCCCCCCCCCCCCCCCCCC\n",
      "Pred SMILES: O=C(NC(COP(=O)([O-])OCC[N+](C)(C)C)C(O)C=CCCCCCCCCCCCCCCCCCCCCCCCCCCCCCCCCCCCCCCCCCCCCCCCCCCCCCC\n",
      "\n",
      "True SMILES: O=C(NC(COP(=O)([O-])OCC[N+](C)(C)C)C(O)C=CCCCCCCCCCCCCCCCCCC)CCCCCCCCCCCCCCCCCCC=CCCCCCCCCCCCCCC\n",
      "Pred SMILES: O=C(NC(COP(=O)([O-])OCC[N+](C)(C)C)C(O)C=CCCCCCCCCCCCCCCCCCCCCCCCCCCCCCCCCCCCCCC=CCCCCCCCCCCCCCCC\n",
      "\n",
      "True SMILES: O=C(NC(COP(=O)([O-])OCC[N+](C)(C)C)C(O)C=CCCCCCCCCCCCCCCCCCC)CCCCCCCCCCCCCCCCCCCCCCCCCCCCCCCCCC\n",
      "Pred SMILES: O=C(NC(COP(=O)([O-])OCC[N+](C)(C)C)C(O)C=CCCCCCCCCCCCCCCCCCCCCCCCCCCCCCCCCCCCCCCCCCCCCCCCCCCCCC\n",
      "\n",
      "True SMILES: O=C(NC(COP(=O)([O-])OCC[N+](C)(C)C)C(O)C=CCCCCCCCCCCCCCCCCCC)CCCCCCCCCCCCCCCCCCCCCCC\n",
      "Pred SMILES: O=C(NC(COP(=O)([O-])OCC[N+](C)(C)C)C(O)C=CCCCCCCCCCCCCCCCCCCCCCCCCCCCCCCCCCCCCCCCCCC\n",
      "\n",
      "True SMILES: O=C(NC(COP(=O)([O-])OCC[N+](C)(C)C)C(O)C=CCCCCCCCCCCCCCCCCCC)CCCCCCCCCC=CCCCCCCCCCCC\n",
      "Pred SMILES: O=C(NC(COP(=O)([O-])OCC[N+](C)(C)C)C(O)C=CCCCCCCCCCCCCCCCCCCCCCCCCCCCCCCCCCCCCCCCCCC\n",
      "\n",
      "True SMILES: O=C(NC(COP(=O)([O-])OCC[N+](C)(C)C)C(O)C=CCCCCCCCCCCCCCCCCCC)CCCCCCCCCCCCCCCCCCCCCC\n",
      "Pred SMILES: O=C(NC(COP(=O)([O-])OCC[N+](C)(C)C)C(O)C=CCCCCCCCCCCCCCCCCCCCCCCCCCCCCCCCCCCCCCCCCC\n",
      "\n",
      "True SMILES: O=C(NC(COP(=O)([O-])OCC[N+](C)(C)C)C(O)C=CCCCCCCCCCCCCCCCCCC)CCCCCCCCCCCCC=CC=CCCCCC\n",
      "Pred SMILES: O=C(NC(COP(=O)([O-])OCC[N+](C)(C)C)C(O)C=CCCCCCCCCCCCCCCCCCCCCCCCCCCCCCCCC=C==CCCCCC\n",
      "\n",
      "True SMILES: O=C(NC(COP(=O)([O-])OCC[N+](C)(C)C)C(O)C=CCCCCCCCCCCCCCCCCCC)CCCCCCCCCC=CCCCCCCCCCC\n",
      "Pred SMILES: O=C(NC(COP(=O)([O-])OCC[N+](C)(C)C)C(O)C=CCCCCCCCCCCCCCCCCCCCCCCCCCCCCCCCCCCCCCCCCC\n",
      "\n",
      "True SMILES: O=C(NC(COP(=O)([O-])OCC[N+](C)(C)C)C(O)CCCCCCCCCCCCCCCCCCCC)CCCCCCCCCCCCCCCCCCCC=CCCCCCCCCCCCCCCCCCC\n",
      "Pred SMILES: O=C(NC(COP(=O)([O-])OCC[N+](C)(C)C)C(O)CCCCCCCCCCCCCCCCCCCCCCCCCCCCCCCCCCCCCCCCC=CCCCCCCCCCCCCCCCCCCC\n",
      "\n",
      "True SMILES: O=C(NC(COP(=O)([O-])OCC[N+](C)(C)C)C(O)CCCCCCCCCCCCCCCCCCCC)CCCCCCCCCCCCCCCCCCCCCCCCCCCCCCCCCCCCCCC\n",
      "Pred SMILES: O=C(NC(COP(=O)([O-])OCC[N+](C)(C)C)C(O)CCCCCCCCCCCCCCCCCCCCCCCCCCCCCCCCCCCCCCCCCCCCCCCCCCCCCCCCCCCC\n",
      "\n",
      "True SMILES: O=C(NC(COP(=O)([O-])OCC[N+](C)(C)C)C(O)CCCCCCCCCCCCCCCCCCCC)CCCCCCCCCCCCCCCCCCCC=CCC=CCCCCCCCCCCCCC\n",
      "Pred SMILES: O=C(NC(COP(=O)([O-])OCC[N+](C)(C)C)C(O)CCCCCCCCCCCCCCCCCCCCCCCCCCCCCCCCCCCCCCCCC=CC==CCCCCCCCCCCCCC\n",
      "\n",
      "True SMILES: O=C(NC(COP(=O)([O-])OCC[N+](C)(C)C)C(O)CCCCCCCCCCCCCCCCCCCC)CCCCCCCCCCCCCCCCCCCC=CCCCCCCCCCCCCCCCC\n",
      "Pred SMILES: O=C(NC(COP(=O)([O-])OCC[N+](C)(C)C)C(O)CCCCCCCCCCCCCCCCCCCCCCCCCCCCCCCCCCCCCCCCC=CCCCCCCCCCCCCCCCC\n",
      "\n",
      "True SMILES: O=C(NC(COP(=O)([O-])OCC[N+](C)(C)C)C(O)CCCCCCCCCCCCCCCCCCCC)CCCCCCCCCCCCCCCCCCCCCCCCCCCCCCCCCCCCC\n",
      "Pred SMILES: O=C(NC(COP(=O)([O-])OCC[N+](C)(C)C)C(O)CCCCCCCCCCCCCCCCCCCCCCCCCCCCCCCCCCCCCCCCCCCCCCCCCCCCCCCCCC\n",
      "\n",
      "True SMILES: O=C(NC(COP(=O)([O-])OCC[N+](C)(C)C)C(O)CCCCCCCCCCCCCCCCCCCC)CCCCCCCCCCCCCCCCCCCCCCCCC\n",
      "Pred SMILES: O=C(NC(COP(=O)([O-])OCC[N+](C)(C)C)C(O)CCCCCCCCCCCCCCCCCCCCCCCCCCCCCCCCCCCCCCCCCCCCCCC\n",
      "\n",
      "True SMILES: O=C(NC(COP(=O)([O-])OCC[N+](C)(C)C)C(O)CCCCCCCCCCCCCCCCCCCC)CCCCCCCCCC=CCCCCCCCCCCCCC\n",
      "Pred SMILES: O=C(NC(COP(=O)([O-])OCC[N+](C)(C)C)C(O)CCCCCCCCCCCCCCCCCCCCCCCCCCCCCCCCCCCCCCCCCCCCCCC\n",
      "\n",
      "True SMILES: O=C(NC(COP(=O)([O-])OCC[N+](C)(C)C)C(O)CCCCCCCCCCCCCCCCCCCC)CCCCCCCCCCCCCCCCCCCCCCCC\n",
      "Pred SMILES: O=C(NC(COP(=O)([O-])OCC[N+](C)(C)C)C(O)CCCCCCCCCCCCCCCCCCCCCCCCCCCCCCCCCCCCCCCCCCCCCCC\n",
      "\n",
      "True SMILES: O=C(NC(COP(=O)([O-])OCC[N+](C)(C)C)C(O)CCCCCCCCCCCCCCCCCCCC)CCCCCCCCCCCCCCCCC=CCC=CCC\n",
      "Pred SMILES: O=C(NC(COP(=O)([O-])OCC[N+](C)(C)C)C(O)CCCCCCCCCCCCCCCCCCCCCCCCCCCCCCCCCCCCCC=CC==CCCC\n",
      "\n",
      "True SMILES: O=C(NC(COP(=O)([O-])OCC[N+](C)(C)C)C(O)CCCCCCCCCCCCCCCCCCCC)CCCCCCCCCC=CCCCCCCCCCCCC\n",
      "Pred SMILES: O=C(NC(COP(=O)([O-])OCC[N+](C)(C)C)C(O)CCCCCCCCCCCCCCCCCCCCCCCCCCCCCCCCCCCCCCCCCCCCCCC\n",
      "\n",
      "True SMILES: O=C(NC(COP(=O)([O-])OCC[N+](C)(C)C)C(O)CCCCCCCCCCCCCCCCCCCC)CCCCCCCCCCC\n",
      "Pred SMILES: O=C(NC(COP(=O)([O-])OCC[N+](C)(C)C)C(O)CCCCCCCCCCCCCCCCCCCCCCCCCCCCCCCCC\n",
      "\n",
      "True SMILES: O=C(NC(COP(=O)([O-])OCC[N+](C)(C)C)C(O)C=CCCC=CCCC=CCCCCCCCCC)CCCCCCCCCCCCCCCCCCCC=CCC=CCCCCCCCCCCCCCCCCC\n",
      "Pred SMILES: O=C(NC(COP(=O)([O-])OCC[N+](C)(C)C)C(O)C=CCCC=CCCC=CCCCCCCCCCCCCCCCCCCCCCCCCCCCCCC=CC==CCCCCCCCCCCCCCCCCCC\n",
      "\n",
      "True SMILES: O=C(NC(COP(=O)([O-])OCC[N+](C)(C)C)C(O)C=CCCC=CCCC=CCCCCCCCCC)CCCCCCCCCCCCCCCCCCCC=CCCCCCCCCCCCCCCCCCCCC\n",
      "Pred SMILES: O=C(NC(COP(=O)([O-])OCC[N+](C)(C)C)C(O)C=CCCC=CCCC=CCCCCCCCCCCCCCCCCCCCCCCCCCCCCCCCCCCCCCCCCCCCCCCCCCCCCC\n",
      "\n",
      "True SMILES: CCCCCCCCCCCCCCCCCCCCCCCCCCCCCCCCCCCCCCCCCC(=O)NC(COP([O-])(=O)OCC[N+](C)(C)C)C(O)\\C=C\\CC\\C=C\\CC\\C=C\\CCCCCCCCC\n",
      "Pred SMILES: CCCCCCCCCCCCCCCCCCCCCCCCCCCCCCCCCCCCCCCCCCCCOP(CC=C-(=N)](O=O-O)))N+](C)(C(C)CCO)CC\\CCCCCCCCCCCCCCCCCCCCCCCCCC\n",
      "\n",
      "True SMILES: O=C(NC(COP(=O)([O-])OCC[N+](C)(C)C)C(O)C=CCCC=CCCC=CCCCCCCCCC)CCCCCCCCCCCCCCCCCCCC=CCC=CCCCCCCCCCCCCCCC\n",
      "Pred SMILES: O=C(NC(COP(=O)([O-])OCC[N+](C)(C)C)C(O)C=CCCC=CCCC=CCCCCCCCCCCCCCCCCCCCCCCCCCCCCCC=CCC=CCCCCCCCCCCCCCCCCC\n",
      "\n",
      "True SMILES: O=C(NC(COP(=O)([O-])OCC[N+](C)(C)C)C(O)C=CCCC=CCCC=CCCCCCCCCC)CCCCCCCCCCCCCCCCCCCCCCCCCCC\n",
      "Pred SMILES: O=C(NC(COP(=O)([O-])OCC[N+](C)(C)C)C(O)C=CCCC=CCCC=CCCCCCCCCCCCCCCCCCCCCCCCCCCCCCCCCCCCCCCC\n",
      "\n",
      "True SMILES: O=C(NC(COP(=O)([O-])OCC[N+](C)(C)C)C(O)C=CCCC=CCCC=CCCCCCCCCC)CCCCCCCCCCC=CCCCCCCCCCCCCCC\n",
      "Pred SMILES: O=C(NC(COP(=O)([O-])OCC[N+](C)(C)C)C(O)C=CCCC=CCCC=CCCCCCCCCCCCCCCCCCCCCC=CCCCCCCCCCCCCCCCC\n",
      "\n",
      "True SMILES: O=C(NC(COP(=O)([O-])OCC[N+](C)(C)C)C(O)C=CCCC=CCCC=CCCCCCCCCC)CCCCCCCCCCCCCCCCCCCCCCCCCC\n",
      "Pred SMILES: O=C(NC(COP(=O)([O-])OCC[N+](C)(C)C)C(O)C=CCCC=CCCC=CCCCCCCCCCCCCCCCCCCCCCCCCCCCCCCCCCCCCCC\n",
      "\n",
      "True SMILES: O=C(NC(COP(=O)([O-])OCC[N+](C)(C)C)C(O)C=CCCC=CCCC=CCCCCCCCCC)CCCCCCCCCC=CCC=CCCCCCCCCCCC\n",
      "Pred SMILES: O=C(NC(COP(=O)([O-])OCC[N+](C)(C)C)C(O)C=CCCC=CCCC=CCCCCCCCCCCCCCCCCCCCCCC===CCCCCCCCCCCCCC\n",
      "\n",
      "True SMILES: O=C(NC(COP(=O)([O-])OCC[N+](C)(C)C)C(O)C=CCCC=CCCC=CCCCCCCCCC)CCCCCCCCCC=CCCCCCCCCCCCCCC\n",
      "Pred SMILES: O=C(NC(COP(=O)([O-])OCC[N+](C)(C)C)C(O)C=CCCC=CCCC=CCCCCCCCCCCCCCCCCCCCCCCCCCCCCCCCCCCCCCC\n",
      "\n",
      "True SMILES: O=C(NC(COP(=O)([O-])OCC[N+](C)(C)C)C(O)C=CCCC=CCCC=CCCCCCCCCC)CCCCCCCC=CCCCC\n",
      "Pred SMILES: O=C(NC(COP(=O)([O-])OCC[N+](C)(C)C)C(O)C=CCCC=CCCC=CCCCCCCCCCCCCCCCCCCCCCCCC\n",
      "\n",
      "True SMILES: O=C(NC(COP(=O)([O-])OCC[N+](C)(C)C)C(O)C=CCCC=CCCC=CCCCCCCCCC)CCCCCCCCCCCCC\n",
      "Pred SMILES: O=C(NC(COP(=O)([O-])OCC[N+](C)(C)C)C(O)C=CCCC=CCCC=CCCCCCCCCCCCCCCCCCCCCCCCC\n",
      "\n",
      "True SMILES: O=C(NC(COP(=O)([O-])OCC[N+](C)(C)C)C(O)C=CCCC=CCCC=CCCCCCCCCC)CCCCCCC=CCCCC\n",
      "Pred SMILES: O=C(NC(COP(=O)([O-])OCC[N+](C)(C)C)C(O)C=CCCC=CCCC=CCCCCCCCCCCCCCCCCC=CCCCCC\n",
      "\n",
      "True SMILES: O=C(NC(COP(=O)([O-])OCC[N+](C)(C)C)C(O)C=CCCC=CCCC=CCCCCCCCCC)CCCCCCCCCCCC\n",
      "Pred SMILES: O=C(NC(COP(=O)([O-])OCC[N+](C)(C)C)C(O)C=CCCC=CCCC=CCCCCCCCCCCCCCCCCCCCCCCC\n",
      "\n",
      "True SMILES: CCCCCCCCC\\C=C\\CC\\C=C\\CC\\C=C\\C(O)C(COP([O-])(=O)OCC[N+](C)(C)C)NC(=O)CCC\\C=C/CCCCCC\n",
      "Pred SMILES: CCCCCCCCCCCCCCCC\\C=C\\C=CC\\CCC(C)C(COP([O-])(=O)O)[[N+](C)CC)C)CC(=O)CCCCC\\C\\CCCCCCC\n",
      "\n",
      "True SMILES: O=C(NC(COP(=O)([O-])OCC[N+](C)(C)C)C(O)C=CCCC=CCCCCCCCCCCCCC)CCCCCCCCCCCCCCCCCCCCCCCCCCCCC\n",
      "Pred SMILES: O=C(NC(COP(=O)([O-])OCC[N+](C)(C)C)C(O)C=CCCC=CCCCCCCCCCCCCCCCCCCCCCCCCCCCCCCCCCCCCCCCCCCCC\n",
      "\n",
      "True SMILES: O=C(NC(COP(=O)([O-])OCC[N+](C)(C)C)C(O)C=CCCC=CCCCCCCCCCCCCC)CCCCCCCCCCCCC=CCCCCCCCCCCCCCC\n",
      "Pred SMILES: O=C(NC(COP(=O)([O-])OCC[N+](C)(C)C)C(O)C=CCCC=CCCCCCCCCCCCCCCCCCCCCCCCCCCC=CCCCCCCCCCCCCCCC\n",
      "\n",
      "True SMILES: O=C(NC(COP(=O)([O-])OCC[N+](C)(C)C)C(O)C=CCCC=CCCCCCCCCCCCCC)CCCCCCCCCCCCCCCCCCCCCCCCCCCC\n",
      "Pred SMILES: O=C(NC(COP(=O)([O-])OCC[N+](C)(C)C)C(O)C=CCCC=CCCCCCCCCCCCCCCCCCCCCCCCCCCCCCCCCCCCCCCCCCC\n",
      "\n",
      "True SMILES: O=C(NC(COP(=O)([O-])OCC[N+](C)(C)C)C(O)C=CCCC=CCCCCCCCCCCCCC)CCCCCCCCCCCC=CCC=CCCCCCCCCCCC\n",
      "Pred SMILES: O=C(NC(COP(=O)([O-])OCC[N+](C)(C)C)C(O)C=CCCC=CCCCCCCCCCCCCCCCCCCCCCCCCCC=C===CCCCCCCCCCCCC\n",
      "\n",
      "True SMILES: O=C(NC(COP(=O)([O-])OCC[N+](C)(C)C)C(O)C=CCCC=CCCCCCCCCCCCCC)CCCCCCCCCCCC=CCCCCCCCCCCCCCC\n",
      "Pred SMILES: O=C(NC(COP(=O)([O-])OCC[N+](C)(C)C)C(O)C=CCCC=CCCCCCCCCCCCCCCCCCCCCCCCCCC=CCCCCCCCCCCCCCC\n",
      "\n",
      "True SMILES: O=C(NC(COP(=O)([O-])OCC[N+](C)(C)C)C(O)C=CCCC=CCCCCCCCCCCCCC)CCC=CCC=CCCCCCCCC\n",
      "Pred SMILES: O=C(NC(COP(=O)([O-])OCC[N+](C)(C)C)C(O)C=CCCC=CCCCCCCCCCCCCCCCCCCCC==C=CCCCCCCC\n",
      "\n",
      "True SMILES: O=C(NC(COP(=O)([O-])OCC[N+](C)(C)C)C(O)C=CCCC=CCCCCCCCCCCCCC)CCCCCC=CCCCCCCCC\n",
      "Pred SMILES: O=C(NC(COP(=O)([O-])OCC[N+](C)(C)C)C(O)C=CCCC=CCCCCCCCCCCCCCCCCCCCCCCCCCCCCCCCCC\n",
      "\n",
      "True SMILES: O=C(NC(COP(=O)([O-])OCC[N+](C)(C)C)C(O)C=CCCC=CCCCCCCCCCCCCC)CCCCCCCCCCCCCCC\n",
      "Pred SMILES: O=C(NC(COP(=O)([O-])OCC[N+](C)(C)C)C(O)C=CCCC=CCCCCCCCCCCCCCCCCCCCCCCCCCCCCCC\n",
      "\n",
      "True SMILES: O=C(NC(COP(=O)([O-])OCC[N+](C)(C)C)C(O)C=CCCC=CCCCCCCCCCCCCC)CCCCCCCC=CCCCCC\n",
      "Pred SMILES: O=C(NC(COP(=O)([O-])OCC[N+](C)(C)C)C(O)C=CCCC=CCCCCCCCCCCCCCCCCCCCCCCCCCCCCCC\n",
      "\n",
      "True SMILES: O=C(NC(COP(=O)([O-])OCC[N+](C)(C)C)C(O)C=CCCC=CCCCCCCCCCCCCC)CCCCCCCCCCCCCC\n",
      "Pred SMILES: O=C(NC(COP(=O)([O-])OCC[N+](C)(C)C)C(O)C=CCCC=CCCCCCCCCCCCCCCCCCCCCCCCCCCCCC\n",
      "\n",
      "True SMILES: O=C(NC(COP(=O)([O-])OCC[N+](C)(C)C)C(O)C=CCCCCCCCCCCCCCCCCC)CCCCCCCCCCCCCCCCCCCCCCCCCCCCCCC\n",
      "Pred SMILES: O=C(NC(COP(=O)([O-])OCC[N+](C)(C)C)C(O)C=CCCCCCCCCCCCCCCCCCCCCCCCCCCCCCCCCCCCCCCCCCCCCCCCCCCC\n",
      "\n",
      "True SMILES: O=C(NC(COP(=O)([O-])OCC[N+](C)(C)C)C(O)C=CCCCCCCCCCCCCCCCCC)CCCCCCCCCCCCCCC=CCCCCCCCCCCCCCC\n",
      "Pred SMILES: O=C(NC(COP(=O)([O-])OCC[N+](C)(C)C)C(O)C=CCCCCCCCCCCCCCCCCCCCCCCCCCCCCCCCCC=CCCCCCCCCCCCCCCCC\n",
      "\n",
      "True SMILES: CCCCCCCCCCCCCCCCCCCCCCCCCCCCCCC(=O)NC(COP([O-])(=O)OCC[N+](C)(C)C)C(O)\\C=C\\CCCCCCCCCCCCCCCCC\n",
      "Pred SMILES: CCCCCCCCCCCCCCCCCCCCCCCCCCCCCC((COP(C(C(P([O-])(=O-OC))N+](C)OO)C)C)C)CCCC\\CCCCCCCCCCCCCCCCCC\n",
      "\n",
      "True SMILES: O=C(NC(COP(=O)([O-])OCC[N+](C)(C)C)C(O)C=CCCCCCCCCCCCCCCCCC)CCCCCCCCCCCCCC=CCC=CCCCCCCCCCCC\n",
      "Pred SMILES: O=C(NC(COP(=O)([O-])OCC[N+](C)(C)C)C(O)C=CCCCCCCCCCCCCCCCCCCCCCCCCCCCCCCCC=C===CCCCCCCCCCCCCC\n",
      "\n",
      "True SMILES: O=C(NC(COP(=O)([O-])OCC[N+](C)(C)C)C(O)C=CCCCCCCCCCCCCCCCCC)CCCCCCCCCCCCCC=CCCCCCCCCCCCCCC\n",
      "Pred SMILES: O=C(NC(COP(=O)([O-])OCC[N+](C)(C)C)C(O)C=CCCCCCCCCCCCCCCCCCCCCCCCCCCCCCCCC=CCCCCCCCCCCCCCCCC\n",
      "\n",
      "True SMILES: O=C(NC(COP(=O)([O-])OCC[N+](C)(C)C)C(O)C=CCCCCCCCCCCCCCCCCC)CCCCCCCCCCCCCCCCCC\n",
      "Pred SMILES: O=C(NC(COP(=O)([O-])OCC[N+](C)(C)C)C(O)C=CCCCCCCCCCCCCCCCCCCCCCCCCCCCCCCCCCCCCC\n",
      "\n",
      "True SMILES: O=C(NC(COP(=O)([O-])OCC[N+](C)(C)C)C(O)C=CCCCCCCCCCCCCCCCCC)CCCCCCCCC=CC=CCCCCC\n",
      "Pred SMILES: O=C(NC(COP(=O)([O-])OCC[N+](C)(C)C)C(O)C=CCCCCCCCCCCCCCCCCCCCCCCCCCCCCCC=CCCCCCC\n",
      "\n",
      "True SMILES: O=C(NC(COP(=O)([O-])OCC[N+](C)(C)C)C(O)C=CCCCCCCCCCCCCCCCCC)CCCCCCCCCC=CCCCCCC\n",
      "Pred SMILES: O=C(NC(COP(=O)([O-])OCC[N+](C)(C)C)C(O)C=CCCCCCCCCCCCCCCCCCCCCCCCCCCCCCCCCCCCCC\n",
      "\n",
      "True SMILES: O=C(NC(COP(=O)([O-])OCC[N+](C)(C)C)C(O)C=CCCCCCCCCCCCCCCCCC)CCCCCCCCCCCCCCCCC\n",
      "Pred SMILES: O=C(NC(COP(=O)([O-])OCC[N+](C)(C)C)C(O)C=CCCCCCCCCCCCCCCCCCCCCCCCCCCCCCCCCCCCC\n",
      "\n",
      "True SMILES: O=C(NC(COP(=O)([O-])OCC[N+](C)(C)C)C(O)C=CCCCCCCCCCCCCCCCCC)CCCCCCCCCCCCCCCC\n",
      "Pred SMILES: O=C(NC(COP(=O)([O-])OCC[N+](C)(C)C)C(O)C=CCCCCCCCCCCCCCCCCCCCCCCCCCCCCCCCCCCC\n",
      "\n",
      "True SMILES: O=C(NC(COP(=O)([O-])OCC[N+](C)(C)C)C(O)CCCCCCCCCCCCCCCCCCC)CCCCCCCCCCCCCCCCCCCCCCCCCCCCCCCCC\n",
      "Pred SMILES: O=C(NC(COP(=O)([O-])OCC[N+](C)(C)C)C(O)CCCCCCCCCCCCCCCCCCCCCCCCCCCCCCCCCCCCCCCCCCCCCCCCCCCCCC\n",
      "\n",
      "True SMILES: O=C(NC(COP(=O)([O-])OCC[N+](C)(C)C)C(O)CCCCCCCCCCCCCCCCCCC)CCCCCCCCCCCCCCCCC=CCCCCCCCCCCCCCC\n",
      "Pred SMILES: O=C(NC(COP(=O)([O-])OCC[N+](C)(C)C)C(O)CCCCCCCCCCCCCCCCCCCCCCCCCCCCCCCCCCCCC=CCCCCCCCCCCCCCCC\n",
      "\n",
      "True SMILES: O=C(NC(COP(=O)([O-])OCC[N+](C)(C)C)C(O)CCCCCCCCCCCCCCCCCCC)CCCCCCCCCCCCCCCCCCCCCCCCCCCCCCCC\n",
      "Pred SMILES: O=C(NC(COP(=O)([O-])OCC[N+](C)(C)C)C(O)CCCCCCCCCCCCCCCCCCCCCCCCCCCCCCCCCCCCCCCCCCCCCCCCCCCCCC\n",
      "\n",
      "True SMILES: O=C(NC(COP(=O)([O-])OCC[N+](C)(C)C)C(O)CCCCCCCCCCCCCCCCCCC)CCCCCCCCCCCCCCCC=CCC=CCCCCCCCCCCC\n",
      "Pred SMILES: O=C(NC(COP(=O)([O-])OCC[N+](C)(C)C)C(O)CCCCCCCCCCCCCCCCCCCCCCCCCCCCCCCCCCCC=C==CCCCCCCCCCCCCC\n",
      "\n",
      "True SMILES: O=C(NC(COP(=O)([O-])OCC[N+](C)(C)C)C(O)CCCCCCCCCCCCCCCCCCC)CCCCCCCCCCCCCCCC=CCCCCCCCCCCCCCC\n",
      "Pred SMILES: O=C(NC(COP(=O)([O-])OCC[N+](C)(C)C)C(O)CCCCCCCCCCCCCCCCCCCCCCCCCCCCCCCCCCCC=CCCCCCCCCCCCCCCCC\n",
      "\n",
      "True SMILES: O=C(NC(COP(=O)([O-])OCC[N+](C)(C)C)C(O)CCCCCCCCCCCCCCCCCCC)CCCCCCCCCCCCCCCCCCCC\n",
      "Pred SMILES: O=C(NC(COP(=O)([O-])OCC[N+](C)(C)C)C(O)CCCCCCCCCCCCCCCCCCCCCCCCCCCCCCCCCCCCCCCC\n",
      "\n",
      "True SMILES: O=C(NC(COP(=O)([O-])OCC[N+](C)(C)C)C(O)CCCCCCCCCCCCCCCCCCC)CCCCCCCCCC=CCC=CCCCCC\n",
      "Pred SMILES: O=C(NC(COP(=O)([O-])OCC[N+](C)(C)C)C(O)CCCCCCCCCCCCCCCCCCCCCCCCCCCCCCCCC==CCCCCC\n",
      "\n",
      "True SMILES: O=C(NC(COP(=O)([O-])OCC[N+](C)(C)C)C(O)CCCCCCCCCCCCCCCCCCC)CCCCCCCCCC=CCCCCCCCC\n",
      "Pred SMILES: O=C(NC(COP(=O)([O-])OCC[N+](C)(C)C)C(O)CCCCCCCCCCCCCCCCCCCCCCCCCCCCCCCCCCCCCCCCC\n",
      "\n",
      "True SMILES: O=C(NC(COP(=O)([O-])OCC[N+](C)(C)C)C(O)CCCCCCCCCCCCCCCCCCC)CCCCCCCCCCCCCCCCCCC\n",
      "Pred SMILES: O=C(NC(COP(=O)([O-])OCC[N+](C)(C)C)C(O)CCCCCCCCCCCCCCCCCCCCCCCCCCCCCCCCCCCCCCCC\n",
      "\n",
      "True SMILES: O=C(NC(COP(=O)([O-])OCC[N+](C)(C)C)C(O)CCCCCCCCCCCCCCCCCCC)CCCCCCCC=CCCCCCCCCC\n",
      "Pred SMILES: O=C(NC(COP(=O)([O-])OCC[N+](C)(C)C)C(O)CCCCCCCCCCCCCCCCCCCCCCCCCCCCCCCCCCCCCCCC\n",
      "\n",
      "True SMILES: O=C(NC(COP(=O)([O-])OCC[N+](C)(C)C)C(O)C=CCCC=CCCC=CCCCCCCCC)CCCCCCCCCCCCCCCCCCCCCCCCCCCCCCCCCCC\n",
      "Pred SMILES: O=C(NC(COP(=O)([O-])OCC[N+](C)(C)C)C(O)C=CCCC=CCCC=CCCCCCCCCCCCCCCCCCCCCCCCCCCCCCCCCCCCCCCCCCCCCC\n",
      "\n",
      "True SMILES: O=C(NC(COP(=O)([O-])OCC[N+](C)(C)C)C(O)C=CCCC=CCCC=CCCCCCCCC)CCCCCCCCCCCCCCCCCCC=CCCCCCCCCCCCCCC\n",
      "Pred SMILES: O=C(NC(COP(=O)([O-])OCC[N+](C)(C)C)C(O)C=CCCC=CCCC=CCCCCCCCCCCCCCCCCCCCCCCCCCCCC=CCCCCCCCCCCCCCCC\n",
      "\n",
      "True SMILES: O=C(NC(COP(=O)([O-])OCC[N+](C)(C)C)C(O)C=CCCC=CCCC=CCCCCCCCC)CCCCCCCCCCCCCCCCCCCCCCCCCCCCCCCCCC\n",
      "Pred SMILES: O=C(NC(COP(=O)([O-])OCC[N+](C)(C)C)C(O)C=CCCC=CCCC=CCCCCCCCCCCCCCCCCCCCCCCCCCCCCCCCCCCCCCCCCCCCCC\n",
      "\n",
      "True SMILES: O=C(NC(COP(=O)([O-])OCC[N+](C)(C)C)C(O)C=CCCC=CCCC=CCCCCCCCC)CCCCCCCCCCCCCCCCCC=CCC=CCCCCCCCCCCC\n",
      "Pred SMILES: O=C(NC(COP(=O)([O-])OCC[N+](C)(C)C)C(O)C=CCCC=CCCC=CCCCCCCCCCCCCCCCCCCCCCCCCCCCCC===CCCCCCCCCCCCC\n",
      "\n",
      "True SMILES: O=C(NC(COP(=O)([O-])OCC[N+](C)(C)C)C(O)C=CCCC=CCCC=CCCCCCCCC)CCCCCCCCCCCCCCCCCC=CCCCCCCCCCCCCCC\n",
      "Pred SMILES: O=C(NC(COP(=O)([O-])OCC[N+](C)(C)C)C(O)C=CCCC=CCCC=CCCCCCCCCCCCCCCCCCCCCCCCCCCC=CCCCCCCCCCCCCCCCC\n",
      "\n",
      "True SMILES: O=C(NC(COP(=O)([O-])OCC[N+](C)(C)C)C(O)C=CCCC=CCCC=CCCCCCCCC)CCCCCCCCCCCCCCCCCCCCCC\n",
      "Pred SMILES: O=C(NC(COP(=O)([O-])OCC[N+](C)(C)C)C(O)C=CCCC=CCCC=CCCCCCCCCCCCCCCCCCCCCCCCCCCCCCCC\n",
      "\n",
      "True SMILES: O=C(NC(COP(=O)([O-])OCC[N+](C)(C)C)C(O)C=CCCC=CCCC=CCCCCCCCC)CCCCCCCCCCCCC=CC=CCCCCC\n",
      "Pred SMILES: O=C(NC(COP(=O)([O-])OCC[N+](C)(C)C)C(O)C=CCCC=CCCC=CCCCCCCCCCCCCCCCCCCCCCC=C==CCCCCC\n",
      "\n",
      "True SMILES: O=C(NC(COP(=O)([O-])OCC[N+](C)(C)C)C(O)C=CCCC=CCCC=CCCCCCCCC)CCCCCCCCCC=CCCCCCCCCCC\n",
      "Pred SMILES: O=C(NC(COP(=O)([O-])OCC[N+](C)(C)C)C(O)C=CCCC=CCCC=CCCCCCCCCCCCCCCCCCCCCCCCCCCCCCCC\n",
      "\n",
      "True SMILES: O=C(NC(COP(=O)([O-])OCC[N+](C)(C)C)C(O)C=CCCC=CCCC=CCCCCCCCC)CCCCCCCCCCCCCCCCCCCCC\n",
      "Pred SMILES: O=C(NC(COP(=O)([O-])OCC[N+](C)(C)C)C(O)C=CCCC=CCCC=CCCCCCCCCCCCCCCCCCCCCCCCCCCCCCC\n",
      "\n",
      "True SMILES: O=C(NC(COP(=O)([O-])OCC[N+](C)(C)C)C(O)C=CCCC=CCCC=CCCCCCCCC)CCCCCCCC=CCCCCCCCCCCC\n",
      "Pred SMILES: O=C(NC(COP(=O)([O-])OCC[N+](C)(C)C)C(O)C=CCCC=CCCC=CCCCCCCCCCCCCCCCCCCCCCCCCCCCCCC\n",
      "\n",
      "True SMILES: O=C(NC(COP(=O)([O-])OCC[N+](C)(C)C)C(O)C=CCCC=CCCCCCCCCCCCC)CCCCCCCCCCCCCCCCCCCC=CCC=CCCCCCCCCCCCCC\n",
      "Pred SMILES: O=C(NC(COP(=O)([O-])OCC[N+](C)(C)C)C(O)C=CCCC=CCCCCCCCCCCCCCCCCCCCCCCCCCCCCCCCCC=CC==CCCCCCCCCCCCCCC\n",
      "\n",
      "True SMILES: O=C(NC(COP(=O)([O-])OCC[N+](C)(C)C)C(O)C=CCCC=CCCCCCCCCCCCC)CCCCCCCCCCCCCCCCCCCC=CCCCCCCCCCCCCCCCC\n",
      "Pred SMILES: O=C(NC(COP(=O)([O-])OCC[N+](C)(C)C)C(O)C=CCCC=CCCCCCCCCCCCCCCCCCCCCCCCCCCCCCCCCC=CCCCCCCCCCCCCCCCCCC\n",
      "\n",
      "True SMILES: O=C(NC(COP(=O)([O-])OCC[N+](C)(C)C)C(O)C=CCCC=CCCCCCCCCCCCC)CCCCCCCCCCCCCCCCCCCCCCCCCCCCCCCCCCCCC\n",
      "Pred SMILES: O=C(NC(COP(=O)([O-])OCC[N+](C)(C)C)C(O)C=CCCC=CCCCCCCCCCCCCCCCCCCCCCCCCCCCCCCCCCCCCCCCCCCCCCCCCCC\n",
      "\n",
      "True SMILES: O=C(NC(COP(=O)([O-])OCC[N+](C)(C)C)C(O)C=CCCC=CCCCCCCCCCCCC)CCCCCCCCCCCCCCCCCCCC=CCC=CCCCCCCCCCCC\n",
      "Pred SMILES: O=C(NC(COP(=O)([O-])OCC[N+](C)(C)C)C(O)C=CCCC=CCCCCCCCCCCCCCCCCCCCCCCCCCCCCCCCCC=C===CCCCCCCCCCCC\n",
      "\n",
      "True SMILES: O=C(NC(COP(=O)([O-])OCC[N+](C)(C)C)C(O)C=CCCC=CCCCCCCCCCCCC)CCCCCCCCCCCCCCCCCCCC=CCCCCCCCCCCCCCC\n",
      "Pred SMILES: O=C(NC(COP(=O)([O-])OCC[N+](C)(C)C)C(O)C=CCCC=CCCCCCCCCCCCCCCCCCCCCCCCCCCCCCCCCC=CCCCCCCCCCCCCCC\n",
      "\n",
      "True SMILES: O=C(NC(COP(=O)([O-])OCC[N+](C)(C)C)C(O)C=CCCC=CCCCCCCCCCCCC)CCCCCCCCCCCCCCCCCCCCCCCC\n",
      "Pred SMILES: O=C(NC(COP(=O)([O-])OCC[N+](C)(C)C)C(O)C=CCCC=CCCCCCCCCCCCCCCCCCCCCCCCCCCCCCCCCCCCCC\n",
      "\n",
      "True SMILES: O=C(NC(COP(=O)([O-])OCC[N+](C)(C)C)C(O)C=CCCC=CCCCCCCCCCCCC)CCCCCCCCCCCCCCCCC=CCC=CCC\n",
      "Pred SMILES: O=C(NC(COP(=O)([O-])OCC[N+](C)(C)C)C(O)C=CCCC=CCCCCCCCCCCCCCCCCCCCCCCCCCCCCCC=CCCCCCC\n",
      "\n",
      "True SMILES: O=C(NC(COP(=O)([O-])OCC[N+](C)(C)C)C(O)C=CCCC=CCCCCCCCCCCCC)CCCCCCCCCC=CCCCCCCCCCCCC\n",
      "Pred SMILES: O=C(NC(COP(=O)([O-])OCC[N+](C)(C)C)C(O)C=CCCC=CCCCCCCCCCCCCCCCCCCCCCCCCCCCCCCCCCCCCC\n",
      "\n",
      "True SMILES: O=C(NC(COP(=O)([O-])OCC[N+](C)(C)C)C(O)C=CCCC=CCCCCCCCCCCCC)CCCCCCCCCCCCCCCCCCCCCCC\n",
      "Pred SMILES: O=C(NC(COP(=O)([O-])OCC[N+](C)(C)C)C(O)C=CCCC=CCCCCCCCCCCCCCCCCCCCCCCCCCCCCCCCCCCCC\n",
      "\n",
      "True SMILES: O=C(NC(COP(=O)([O-])OCC[N+](C)(C)C)C(O)C=CCCC=CCCCCCCCCCCCC)CCCCCCCCCC=CCCCCCCCCCCC\n",
      "Pred SMILES: O=C(NC(COP(=O)([O-])OCC[N+](C)(C)C)C(O)C=CCCC=CCCCCCCCCCCCCCCCCCCCCCCCCCCCCCCCCCCCC\n",
      "\n",
      "True SMILES: O=C(NC(COP(=O)([O-])OCC[N+](C)(C)C)C(O)C=CCCCCCCCCCCCCCCCC)CCCCCCCCCCCCCCCCCCCC=CCCCCCCCCCCCCCCCCCCCC\n",
      "Pred SMILES: O=C(NC(COP(=O)([O-])OCC[N+](C)(C)C)C(O)C=CCCCCCCCCCCCCCCCCCCCCCCCCCCCCCCCCCCCCC=CCCCCCCCCCCCCCCCCCCCCC\n",
      "\n",
      "True SMILES: O=C(NC(COP(=O)([O-])OCC[N+](C)(C)C)C(O)C=CCCCCCCCCCCCCCCCC)CCCCCCCCCCCCCCCCCCCCCCCCCCCCCCCCCCCCCCCCC\n",
      "Pred SMILES: O=C(NC(COP(=O)([O-])OCC[N+](C)(C)C)C(O)C=CCCCCCCCCCCCCCCCCCCCCCCCCCCCCCCCCCCCCCCCCCCCCCCCCCCCCCCCCCCC\n",
      "\n",
      "True SMILES: O=C(NC(COP(=O)([O-])OCC[N+](C)(C)C)C(O)C=CCCCCCCCCCCCCCCCC)CCCCCCCCCCCCCCCCCCCC=CCC=CCCCCCCCCCCCCCCC\n",
      "Pred SMILES: O=C(NC(COP(=O)([O-])OCC[N+](C)(C)C)C(O)C=CCCCCCCCCCCCCCCCCCCCCCCCCCCCCCCCCCCCCCCCCC=CCCCCCCCCCCCCCCCC\n",
      "\n",
      "True SMILES: O=C(NC(COP(=O)([O-])OCC[N+](C)(C)C)C(O)C=CCCCCCCCCCCCCCCCC)CCCCCCCCCCCCCCCCCCCC=CCCCCCCCCCCCCCCCCCC\n",
      "Pred SMILES: O=C(NC(COP(=O)([O-])OCC[N+](C)(C)C)C(O)C=CCCCCCCCCCCCCCCCCCCCCCCCCCCCCCCCCCCCCCCCCCCCCCCCCCCCCCCCCC\n",
      "\n",
      "True SMILES: O=C(NC(COP(=O)([O-])OCC[N+](C)(C)C)C(O)C=CCCCCCCCCCCCCCCCC)CCCCCCCCCCCCCCCCCCCCCCCCCCCCCCCCCCCCCCC\n",
      "Pred SMILES: O=C(NC(COP(=O)([O-])OCC[N+](C)(C)C)C(O)C=CCCCCCCCCCCCCCCCCCCCCCCCCCCCCCCCCCCCCCCCCCCCCCCCCCCCCCCCC\n",
      "\n",
      "Sequence Accuracy: 0.8061\n",
      "Average Sequence Loss: 0.2453\n"
     ]
    }
   ],
   "source": [
    "seq_accuracy, avg_seq_loss = evaluate_model_seq2seq(model, test_loader, smiles_vocab)"
   ]
  },
  {
   "cell_type": "code",
   "execution_count": 24,
   "metadata": {},
   "outputs": [
    {
     "data": {
      "image/png": "[encoded data removed]",
      "text/plain": [
       "<Figure size 1200x400 with 2 Axes>"
      ]
     },
     "metadata": {},
     "output_type": "display_data"
    }
   ],
   "source": [
    "# Visualize training history\n",
    "import matplotlib.pyplot as plt\n",
    "\n",
    "plt.figure(figsize=(12, 4))\n",
    "plt.subplot(1, 2, 1)\n",
    "plt.plot(history['seq_loss'].values(), label='Sequence Loss')\n",
    "plt.xlabel('Epoch')\n",
    "plt.ylabel('Loss')\n",
    "plt.legend()\n",
    "\n",
    "plt.subplot(1, 2, 2)\n",
    "plt.plot(history['seq_accuracy'].values(), label='Sequence Accuracy')\n",
    "plt.xlabel('Epoch')\n",
    "plt.ylabel('Accuracy')\n",
    "plt.legend()\n",
    "\n",
    "plt.tight_layout()\n",
    "plt.show()"
   ]
  }
 ],
 "metadata": {
  "kernelspec": {
   "display_name": "ml",
   "language": "python",
   "name": "python3"
  },
  "language_info": {
   "codemirror_mode": {
    "name": "ipython",
    "version": 3
   },
   "file_extension": ".py",
   "mimetype": "text/x-python",
   "name": "python",
   "nbconvert_exporter": "python",
   "pygments_lexer": "ipython3",
   "version": "3.11.4"
  }
 },
 "nbformat": 4,
 "nbformat_minor": 2
}
