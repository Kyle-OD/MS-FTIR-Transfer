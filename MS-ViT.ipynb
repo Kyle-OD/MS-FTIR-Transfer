{
 "cells": [
  {
   "cell_type": "code",
   "execution_count": 1,
   "metadata": {},
   "outputs": [],
   "source": [
    "import torch\n",
    "import torch.nn as nn\n",
    "import torch.nn.functional as F\n",
    "from torch import optim, nn\n",
    "from torch.utils.data import TensorDataset, DataLoader, Dataset\n",
    "from sklearn.model_selection import train_test_split\n",
    "from sklearn.preprocessing import LabelEncoder\n",
    "import numpy as np\n",
    "import pandas as pd\n",
    "import math\n",
    "import ast\n",
    "from scipy.signal import find_peaks\n",
    "import pywt\n",
    "import matplotlib.pyplot as plt\n",
    "from tqdm.notebook import tqdm"
   ]
  },
  {
   "cell_type": "code",
   "execution_count": 2,
   "metadata": {},
   "outputs": [
    {
     "name": "stdout",
     "output_type": "stream",
     "text": [
      "CUDA is available.\n",
      "PyTorch version: 2.1.0+cu121\n",
      "CUDA version: 12.1\n",
      "Number of available GPUs: 1\n",
      "GPU name: NVIDIA GeForce RTX 4060 Laptop GPU\n"
     ]
    }
   ],
   "source": [
    "if torch.cuda.is_available():\n",
    "    print(\"CUDA is available.\")\n",
    "    print(\"PyTorch version:\", torch.__version__)\n",
    "    print(\"CUDA version:\", torch.version.cuda)\n",
    "    print(\"Number of available GPUs:\", torch.cuda.device_count())\n",
    "    print(\"GPU name:\", torch.cuda.get_device_name(0))\n",
    "else:\n",
    "    print(\"CUDA is not available.\")"
   ]
  },
  {
   "cell_type": "code",
   "execution_count": 3,
   "metadata": {},
   "outputs": [
    {
     "name": "stdout",
     "output_type": "stream",
     "text": [
      "Using device: cuda\n"
     ]
    }
   ],
   "source": [
    "device = torch.device(\"cuda\" if torch.cuda.is_available() else \"cpu\")\n",
    "print(f\"Using device: {device}\")"
   ]
  },
  {
   "cell_type": "code",
   "execution_count": 4,
   "metadata": {},
   "outputs": [
    {
     "name": "stderr",
     "output_type": "stream",
     "text": [
      "/tmp/ipykernel_1054/2621324627.py:1: DtypeWarning: Columns (6,7,10,12) have mixed types. Specify dtype option on import or set low_memory=False.\n",
      "  df = pd.read_csv('data/MoNA/in-silico.csv')\n"
     ]
    },
    {
     "name": "stdout",
     "output_type": "stream",
     "text": [
      "(1844352, 17)\n"
     ]
    }
   ],
   "source": [
    "df = pd.read_csv('data/MoNA/in-silico.csv') \n",
    "print(df.shape)"
   ]
  },
  {
   "cell_type": "code",
   "execution_count": 5,
   "metadata": {},
   "outputs": [],
   "source": [
    "# Prepare the labels\n",
    "label_encoder = LabelEncoder()\n",
    "y = label_encoder.fit_transform(df['molecular_formula'])"
   ]
  },
  {
   "cell_type": "code",
   "execution_count": 6,
   "metadata": {},
   "outputs": [],
   "source": [
    "def direct_tokenization(binned_spectrum, window_size=16):\n",
    "    # Pad the spectrum if necessary\n",
    "    if len(binned_spectrum) % window_size != 0:\n",
    "        pad_length = window_size - (len(binned_spectrum) % window_size)\n",
    "        binned_spectrum = np.pad(binned_spectrum, (0, pad_length), mode='constant')\n",
    "    \n",
    "    # Reshape into 2D\n",
    "    return binned_spectrum.reshape(-1, window_size)\n",
    "\n",
    "def fourier_tokenization_2d(binned_spectrum, window_size=16):\n",
    "    fft = np.fft.fft(binned_spectrum)\n",
    "    magnitude_spectrum = np.abs(fft[:len(fft)//2])\n",
    "    \n",
    "    # Pad if necessary\n",
    "    if len(magnitude_spectrum) % window_size != 0:\n",
    "        pad_length = window_size - (len(magnitude_spectrum) % window_size)\n",
    "        magnitude_spectrum = np.pad(magnitude_spectrum, (0, pad_length), mode='constant')\n",
    "    \n",
    "    # Reshape into 2D\n",
    "    return magnitude_spectrum.reshape(-1, window_size)\n",
    "\n",
    "def wavelet_tokenization_2d(binned_spectrum, window_size=16, wavelet='db1'):\n",
    "    coeffs = pywt.wavedec(binned_spectrum, wavelet)\n",
    "    flat_coeffs = np.concatenate(coeffs)\n",
    "    \n",
    "    # Pad if necessary\n",
    "    if len(flat_coeffs) % window_size != 0:\n",
    "        pad_length = window_size - (len(flat_coeffs) % window_size)\n",
    "        flat_coeffs = np.pad(flat_coeffs, (0, pad_length), mode='constant')\n",
    "    \n",
    "    # Reshape into 2D\n",
    "    return flat_coeffs.reshape(-1, window_size)\n",
    "\n",
    "def peak_tokenization(spectrum_string, top_n=50, pad_to=50):\n",
    "    spectrum = ast.literal_eval(spectrum_string)\n",
    "    spectrum.sort(key=lambda x: x[1], reverse=True)\n",
    "    top_peaks = spectrum[:top_n]\n",
    "    flattened = [val for peak in top_peaks for val in peak]\n",
    "    \n",
    "    # Pad if necessary\n",
    "    if len(flattened) < pad_to * 2:\n",
    "        flattened.extend([0] * (pad_to * 2 - len(flattened)))\n",
    "    \n",
    "    return np.array(flattened).reshape(-1, 2)"
   ]
  },
  {
   "cell_type": "code",
   "execution_count": 7,
   "metadata": {},
   "outputs": [
    {
     "data": {
      "text/plain": [
       "\"\\ndef fourier_tokenization_2d(binned_spectrum, window_size=16):\\n    # Perform FFT\\n    fft = np.fft.fft(binned_spectrum)\\n    magnitude_spectrum = np.abs(fft[:len(fft)//2])\\n    \\n    # Pad the spectrum if necessary\\n    if len(magnitude_spectrum) % (window_size * window_size) != 0:\\n        pad_length = window_size * window_size * (len(magnitude_spectrum) // (window_size * window_size) + 1) - len(magnitude_spectrum)\\n        magnitude_spectrum = np.pad(magnitude_spectrum, (0, pad_length), mode='constant')\\n    \\n    # Reshape into 2D\\n    num_windows = len(magnitude_spectrum) // (window_size * window_size)\\n    reshaped = magnitude_spectrum.reshape(num_windows, window_size, window_size)\\n    \\n    # Flatten each window\\n    return reshaped.reshape(num_windows, -1).tolist()\\n\\ndef wavelet_tokenization_2d(binned_spectrum, window_size=16, wavelet='db1'):\\n    # Perform wavelet transform\\n    coeffs = pywt.wavedec(binned_spectrum, wavelet)\\n    \\n    # Concatenate all levels\\n    flat_coeffs = np.concatenate(coeffs)\\n    \\n    # Pad if necessary\\n    if len(flat_coeffs) % (window_size * window_size) != 0:\\n        pad_length = window_size * window_size * (len(flat_coeffs) // (window_size * window_size) + 1) - len(flat_coeffs)\\n        flat_coeffs = np.pad(flat_coeffs, (0, pad_length), mode='constant')\\n    \\n    # Reshape into 2D\\n    num_windows = len(flat_coeffs) // (window_size * window_size)\\n    reshaped = flat_coeffs.reshape(num_windows, window_size, window_size)\\n    \\n    # Flatten each window\\n    return reshaped.reshape(num_windows, -1).tolist()\\n\""
      ]
     },
     "execution_count": 7,
     "metadata": {},
     "output_type": "execute_result"
    }
   ],
   "source": [
    "'''\n",
    "def fourier_tokenization_2d(binned_spectrum, window_size=16):\n",
    "    # Perform FFT\n",
    "    fft = np.fft.fft(binned_spectrum)\n",
    "    magnitude_spectrum = np.abs(fft[:len(fft)//2])\n",
    "    \n",
    "    # Pad the spectrum if necessary\n",
    "    if len(magnitude_spectrum) % (window_size * window_size) != 0:\n",
    "        pad_length = window_size * window_size * (len(magnitude_spectrum) // (window_size * window_size) + 1) - len(magnitude_spectrum)\n",
    "        magnitude_spectrum = np.pad(magnitude_spectrum, (0, pad_length), mode='constant')\n",
    "    \n",
    "    # Reshape into 2D\n",
    "    num_windows = len(magnitude_spectrum) // (window_size * window_size)\n",
    "    reshaped = magnitude_spectrum.reshape(num_windows, window_size, window_size)\n",
    "    \n",
    "    # Flatten each window\n",
    "    return reshaped.reshape(num_windows, -1).tolist()\n",
    "\n",
    "def wavelet_tokenization_2d(binned_spectrum, window_size=16, wavelet='db1'):\n",
    "    # Perform wavelet transform\n",
    "    coeffs = pywt.wavedec(binned_spectrum, wavelet)\n",
    "    \n",
    "    # Concatenate all levels\n",
    "    flat_coeffs = np.concatenate(coeffs)\n",
    "    \n",
    "    # Pad if necessary\n",
    "    if len(flat_coeffs) % (window_size * window_size) != 0:\n",
    "        pad_length = window_size * window_size * (len(flat_coeffs) // (window_size * window_size) + 1) - len(flat_coeffs)\n",
    "        flat_coeffs = np.pad(flat_coeffs, (0, pad_length), mode='constant')\n",
    "    \n",
    "    # Reshape into 2D\n",
    "    num_windows = len(flat_coeffs) // (window_size * window_size)\n",
    "    reshaped = flat_coeffs.reshape(num_windows, window_size, window_size)\n",
    "    \n",
    "    # Flatten each window\n",
    "    return reshaped.reshape(num_windows, -1).tolist()\n",
    "'''"
   ]
  },
  {
   "cell_type": "code",
   "execution_count": 8,
   "metadata": {},
   "outputs": [],
   "source": [
    "def calculate_max_mz(df, spectrum_column='spectrum'):\n",
    "    def get_max_mz(spectrum_string):\n",
    "        spectrum = ast.literal_eval(spectrum_string)\n",
    "        return max(peak[0] for peak in spectrum)\n",
    "\n",
    "    max_mz_series = df[spectrum_column].apply(get_max_mz)\n",
    "    return int(np.ceil(max_mz_series.max()))\n",
    "\n",
    "def bin_spectrum(spectrum_string, max_mz):\n",
    "    spectrum = ast.literal_eval(spectrum_string)\n",
    "    binned = np.zeros(max_mz + 1)  # +1 to include the max_mz value\n",
    "    \n",
    "    for mz, intensity in spectrum:\n",
    "        mz_int = int(np.round(mz))\n",
    "        if mz_int <= max_mz:\n",
    "            binned[mz_int] += intensity\n",
    "    \n",
    "    return binned\n",
    "\n",
    "def variable_density_bin_spectrum(spectrum_string, max_mz):\n",
    "    spectrum = ast.literal_eval(spectrum_string)\n",
    "    binned = np.zeros(max_mz+1)\n",
    "    for mz, intensity in spectrum:\n",
    "        continue\n",
    "    pass\n",
    "\n",
    "def tokenize_spectrum(spectrum, method, max_mz, window_size=16):\n",
    "    if isinstance(spectrum, str):\n",
    "        binned_spectrum = bin_spectrum(spectrum, max_mz)\n",
    "    else:\n",
    "        binned_spectrum = spectrum\n",
    "\n",
    "    if method == 'direct':\n",
    "        return direct_tokenization(binned_spectrum, window_size)\n",
    "    elif method == 'peak':\n",
    "        return peak_tokenization(spectrum)\n",
    "    elif method == 'fourier2':\n",
    "        return fourier_tokenization_2d(binned_spectrum, window_size)\n",
    "    elif method == 'wavelet2':\n",
    "        return wavelet_tokenization_2d(binned_spectrum, window_size)\n",
    "    else:\n",
    "        raise ValueError(f\"Unknown tokenization method: {method}\")\n"
   ]
  },
  {
   "cell_type": "code",
   "execution_count": 9,
   "metadata": {},
   "outputs": [
    {
     "data": {
      "image/png": "[encoded data removed]",
      "text/plain": [
       "<Figure size 1200x600 with 2 Axes>"
      ]
     },
     "metadata": {},
     "output_type": "display_data"
    },
    {
     "data": {
      "image/png": "[encoded data removed]",
      "text/plain": [
       "<Figure size 1200x600 with 1 Axes>"
      ]
     },
     "metadata": {},
     "output_type": "display_data"
    },
    {
     "data": {
      "image/png": "[encoded data removed]",
      "text/plain": [
       "<Figure size 1200x600 with 2 Axes>"
      ]
     },
     "metadata": {},
     "output_type": "display_data"
    },
    {
     "data": {
      "image/png": "[encoded data removed]",
      "text/plain": [
       "<Figure size 1200x600 with 2 Axes>"
      ]
     },
     "metadata": {},
     "output_type": "display_data"
    }
   ],
   "source": [
    "def visualize_tokenization(spectrum, method, max_mz, window_size=16):\n",
    "    tokenized = tokenize_spectrum(spectrum, method, max_mz, window_size)\n",
    "    \n",
    "    plt.figure(figsize=(12, 6))\n",
    "    \n",
    "    if method == 'peak':\n",
    "        plt.scatter(tokenized[:, 0], tokenized[:, 1])\n",
    "        plt.xlabel('m/z')\n",
    "        plt.ylabel('Intensity')\n",
    "        plt.title(f'Peak Tokenization (Top {tokenized.shape[0]} peaks)')\n",
    "    else:\n",
    "        plt.imshow(tokenized, aspect='auto', interpolation='nearest')\n",
    "        plt.colorbar(label='Intensity')\n",
    "        plt.xlabel('Feature')\n",
    "        plt.ylabel('Token')\n",
    "        plt.title(f'{method.capitalize()} Tokenization')\n",
    "    \n",
    "    plt.tight_layout()\n",
    "    plt.show()\n",
    "\n",
    "# Function to get a sample spectrum\n",
    "def get_sample_spectrum(df):\n",
    "    return df['spectrum'].iloc[0]\n",
    "\n",
    "# Visualize each method\n",
    "max_mz = calculate_max_mz(df)\n",
    "sample_spectrum = get_sample_spectrum(df)\n",
    "for method in ['direct', 'peak', 'fourier2', 'wavelet2']:\n",
    "    visualize_tokenization(sample_spectrum, method, max_mz)"
   ]
  },
  {
   "cell_type": "code",
   "execution_count": 10,
   "metadata": {},
   "outputs": [
    {
     "name": "stdout",
     "output_type": "stream",
     "text": [
      "(221, 16)\n",
      "(50, 2)\n",
      "(111, 16)\n",
      "(222, 16)\n"
     ]
    }
   ],
   "source": [
    "for method in ['direct', 'peak', 'fourier2', 'wavelet2']:\n",
    "    print(tokenize_spectrum(sample_spectrum, method, max_mz, 16).shape)"
   ]
  },
  {
   "cell_type": "code",
   "execution_count": 11,
   "metadata": {},
   "outputs": [],
   "source": [
    "class SpectralDataset(Dataset):\n",
    "    def __init__(self, df, labels, tokenization_method, max_mz):\n",
    "        self.spectra = df['spectrum']\n",
    "        self.labels = labels\n",
    "        self.tokenization_method = tokenization_method\n",
    "        self.max_mz = max_mz\n",
    "\n",
    "    def __len__(self):\n",
    "        return len(self.spectra)\n",
    "\n",
    "    def __getitem__(self, idx):\n",
    "        spectrum = self.spectra.iloc[idx]\n",
    "        label = self.labels[idx]\n",
    "        tokenized = tokenize_spectrum(spectrum, self.tokenization_method, self.max_mz)\n",
    "        return torch.tensor(tokenized, dtype=torch.float32).unsqueeze(0), label  # Add an extra dimension"
   ]
  },
  {
   "cell_type": "code",
   "execution_count": 12,
   "metadata": {},
   "outputs": [
    {
     "name": "stdout",
     "output_type": "stream",
     "text": [
      "Maximum m/z value across all spectra: 3533\n"
     ]
    }
   ],
   "source": [
    "# Calculate max_mz\n",
    "max_mz = calculate_max_mz(df)\n",
    "print(f\"Maximum m/z value across all spectra: {max_mz}\")    "
   ]
  },
  {
   "cell_type": "code",
   "execution_count": 13,
   "metadata": {},
   "outputs": [],
   "source": [
    "# Split the data\n",
    "X_train = df\n",
    "X_test = df\n",
    "y_train = y\n",
    "y_test = y"
   ]
  },
  {
   "cell_type": "code",
   "execution_count": 14,
   "metadata": {},
   "outputs": [],
   "source": [
    "def load_tokenized_data(method, batch_size=32):\n",
    "    train_dataset = SpectralDataset(X_train, y_train, method, max_mz)\n",
    "    test_dataset = SpectralDataset(X_test, y_test, method, max_mz)\n",
    "    \n",
    "    train_loader = DataLoader(train_dataset, batch_size=batch_size, shuffle=True)\n",
    "    test_loader = DataLoader(test_dataset, batch_size=batch_size, shuffle=False)\n",
    "    \n",
    "    return train_loader, test_loader"
   ]
  },
  {
   "cell_type": "code",
   "execution_count": 15,
   "metadata": {},
   "outputs": [],
   "source": [
    "import torch\n",
    "import torch.nn as nn\n",
    "import math\n",
    "\n",
    "class PositionalEncoding(nn.Module):\n",
    "    def __init__(self, d_model, max_len=5000):\n",
    "        super().__init__()\n",
    "        position = torch.arange(max_len).unsqueeze(1)\n",
    "        div_term = torch.exp(torch.arange(0, d_model, 2) * (-math.log(10000.0) / d_model))\n",
    "        pe = torch.zeros(max_len, 1, d_model)\n",
    "        pe[:, 0, 0::2] = torch.sin(position * div_term)\n",
    "        pe[:, 0, 1::2] = torch.cos(position * div_term)\n",
    "        self.register_buffer('pe', pe)\n",
    "\n",
    "    def forward(self, x):\n",
    "        return x + self.pe[:x.size(0)]\n",
    "\n",
    "class MS_VIT(nn.Module):\n",
    "    def __init__(self, num_classes, embed_depth=16, d_model=256, nhead=8, num_layers=6, dim_feedforward=2048, dropout=0.1):\n",
    "        super().__init__()\n",
    "        self.d_model = d_model\n",
    "        # Initial embedding layer\n",
    "        self.embedding = nn.Linear(embed_depth, d_model)\n",
    "        # Positional encoding\n",
    "        self.pos_encoder = PositionalEncoding(d_model)\n",
    "        # Transformer encoder\n",
    "        encoder_layers = nn.TransformerEncoderLayer(d_model, nhead, dim_feedforward, dropout)\n",
    "        self.transformer_encoder = nn.TransformerEncoder(encoder_layers, num_layers)\n",
    "        # Final classification layer\n",
    "        self.fc = nn.Linear(d_model, num_classes)\n",
    "        \n",
    "        self.init_weights()\n",
    "\n",
    "    def init_weights(self):\n",
    "        initrange = 0.1\n",
    "        self.embedding.weight.data.uniform_(-initrange, initrange)\n",
    "        self.fc.bias.data.zero_()\n",
    "        self.fc.weight.data.uniform_(-initrange, initrange)\n",
    "\n",
    "    def forward(self, src):\n",
    "        # src shape: (batch_size, seq_length, 16)\n",
    "        # Embed the input\n",
    "        src = self.embedding(src) * math.sqrt(self.d_model)\n",
    "        # Add positional encoding\n",
    "        src = self.pos_encoder(src.transpose(0, 1))\n",
    "        # Pass through transformer encoder\n",
    "        output = self.transformer_encoder(src)\n",
    "        # Global average pooling\n",
    "        output = output.mean(dim=0)\n",
    "        # Classification\n",
    "        output = self.fc(output)\n",
    "        \n",
    "        return output\n"
   ]
  },
  {
   "cell_type": "code",
   "execution_count": 16,
   "metadata": {},
   "outputs": [],
   "source": [
    "def train_model(model, train_loader, test_loader, optimizer, criterion, num_epochs=50):\n",
    "    device = next(model.parameters()).device\n",
    "    \n",
    "    for epoch in range(num_epochs):\n",
    "        model.train()\n",
    "        total_loss = 0\n",
    "        \n",
    "        # progress bar\n",
    "        train_pbar = tqdm(train_loader, desc=f'Epoch {epoch+1}/{num_epochs} [Train]', leave=False)\n",
    "    \n",
    "        for x_batch, y_batch in train_loader:\n",
    "            x_batch, y_batch = x_batch.to(device), y_batch.to(device)\n",
    "            \n",
    "            # Reshape input: (batch_size, 1, seq_length, 16) -> (batch_size, seq_length, 16)\n",
    "            x_batch = x_batch.squeeze(1)\n",
    "            \n",
    "            optimizer.zero_grad()\n",
    "            outputs = model(x_batch)\n",
    "            loss = criterion(outputs, y_batch)\n",
    "            loss.backward()\n",
    "            optimizer.step()\n",
    "            \n",
    "            total_loss += loss.item()\n",
    "\n",
    "            # Update progress bar description with current loss\n",
    "            train_pbar.update(1)\n",
    "            train_pbar.set_postfix({'loss': f'{loss.item():.4f}'})\n",
    "        '''\n",
    "        # Evaluate on test set\n",
    "        model.eval()\n",
    "        correct = 0\n",
    "        total = 0\n",
    "\n",
    "        # Create progress bar for evaluation\n",
    "        test_pbar = tqdm(test_loader, desc=f'Epoch {epoch+1}/{num_epochs} [Test]', leave=False)\n",
    "        \n",
    "        with torch.no_grad():\n",
    "            for x_batch, y_batch in test_loader:\n",
    "                x_batch, y_batch = x_batch.to(device), y_batch.to(device)\n",
    "                x_batch = x_batch.squeeze(1)\n",
    "                outputs = model(x_batch)\n",
    "                _, predicted = torch.max(outputs.data, 1)\n",
    "                total += y_batch.size(0)\n",
    "                correct += (predicted == y_batch).sum().item()\n",
    "\n",
    "                # Update progress bar description with current accuracy\n",
    "                accuracy = correct / total\n",
    "                test_pbar.update(1)\n",
    "                test_pbar.set_postfix({'accuracy': f'{accuracy:.4f}'})\n",
    "        \n",
    "        accuracy = correct / total\n",
    "        print(f'Epoch {epoch+1}/{num_epochs}, Loss: {total_loss/len(train_loader):.4f}, Accuracy: {accuracy:.4f}')\n",
    "        '''\n",
    "        print(f'Epoch {epoch+1}/{num_epochs}, Loss: {total_loss/len(train_loader):.4f}')\n",
    "    return model"
   ]
  },
  {
   "cell_type": "code",
   "execution_count": 17,
   "metadata": {},
   "outputs": [
    {
     "name": "stdout",
     "output_type": "stream",
     "text": [
      "\n",
      "Training with direct tokenization:\n",
      "Sample shape: torch.Size([32, 1, 221, 16])\n"
     ]
    },
    {
     "name": "stderr",
     "output_type": "stream",
     "text": [
      "/home/kyle/anaconda3/envs/ml/lib/python3.11/site-packages/torch/nn/modules/transformer.py:282: UserWarning: enable_nested_tensor is True, but self.use_nested_tensor is False because encoder_layer.self_attn.batch_first was not True(use batch_first for better inference performance)\n",
      "  warnings.warn(f\"enable_nested_tensor is True, but self.use_nested_tensor is False because {why_not_sparsity_fast_path}\")\n"
     ]
    },
    {
     "data": {
      "application/vnd.jupyter.widget-view+json": {
       "model_id": "36eb7bd15f00467aadf8be6a234ae470",
       "version_major": 2,
       "version_minor": 0
      },
      "text/plain": [
       "Epoch 1/10 [Train]:   0%|          | 0/57636 [00:00<?, ?it/s]"
      ]
     },
     "metadata": {},
     "output_type": "display_data"
    },
    {
     "name": "stdout",
     "output_type": "stream",
     "text": [
      "Epoch 1/10, Loss: 6.0775\n"
     ]
    },
    {
     "data": {
      "application/vnd.jupyter.widget-view+json": {
       "model_id": "c2d6e2bb884b4dd1b0e1f785ff44465f",
       "version_major": 2,
       "version_minor": 0
      },
      "text/plain": [
       "Epoch 2/10 [Train]:   0%|          | 0/57636 [00:00<?, ?it/s]"
      ]
     },
     "metadata": {},
     "output_type": "display_data"
    },
    {
     "name": "stdout",
     "output_type": "stream",
     "text": [
      "Epoch 2/10, Loss: 3.0525\n"
     ]
    },
    {
     "data": {
      "application/vnd.jupyter.widget-view+json": {
       "model_id": "1352e5012193418b9a505a70a451e195",
       "version_major": 2,
       "version_minor": 0
      },
      "text/plain": [
       "Epoch 3/10 [Train]:   0%|          | 0/57636 [00:00<?, ?it/s]"
      ]
     },
     "metadata": {},
     "output_type": "display_data"
    },
    {
     "name": "stdout",
     "output_type": "stream",
     "text": [
      "Epoch 3/10, Loss: 1.7949\n"
     ]
    },
    {
     "data": {
      "application/vnd.jupyter.widget-view+json": {
       "model_id": "0c0e36e4a8f147aa8a353ea3859a1d66",
       "version_major": 2,
       "version_minor": 0
      },
      "text/plain": [
       "Epoch 4/10 [Train]:   0%|          | 0/57636 [00:00<?, ?it/s]"
      ]
     },
     "metadata": {},
     "output_type": "display_data"
    },
    {
     "name": "stdout",
     "output_type": "stream",
     "text": [
      "Epoch 4/10, Loss: 1.2461\n"
     ]
    },
    {
     "data": {
      "application/vnd.jupyter.widget-view+json": {
       "model_id": "d5f90b8489de4ee892e5a847070a99b0",
       "version_major": 2,
       "version_minor": 0
      },
      "text/plain": [
       "Epoch 5/10 [Train]:   0%|          | 0/57636 [00:00<?, ?it/s]"
      ]
     },
     "metadata": {},
     "output_type": "display_data"
    },
    {
     "name": "stdout",
     "output_type": "stream",
     "text": [
      "Epoch 5/10, Loss: 0.9903\n"
     ]
    },
    {
     "data": {
      "application/vnd.jupyter.widget-view+json": {
       "model_id": "a79ffeae34a44c53a05412d54afbe712",
       "version_major": 2,
       "version_minor": 0
      },
      "text/plain": [
       "Epoch 6/10 [Train]:   0%|          | 0/57636 [00:00<?, ?it/s]"
      ]
     },
     "metadata": {},
     "output_type": "display_data"
    },
    {
     "name": "stdout",
     "output_type": "stream",
     "text": [
      "Epoch 6/10, Loss: 0.8487\n"
     ]
    },
    {
     "data": {
      "application/vnd.jupyter.widget-view+json": {
       "model_id": "3263d70a5d344c0ca3cb04b27da8e51b",
       "version_major": 2,
       "version_minor": 0
      },
      "text/plain": [
       "Epoch 7/10 [Train]:   0%|          | 0/57636 [00:00<?, ?it/s]"
      ]
     },
     "metadata": {},
     "output_type": "display_data"
    },
    {
     "name": "stdout",
     "output_type": "stream",
     "text": [
      "Epoch 7/10, Loss: 0.7627\n"
     ]
    },
    {
     "data": {
      "application/vnd.jupyter.widget-view+json": {
       "model_id": "4d9f4a44a49349bd882334054a220244",
       "version_major": 2,
       "version_minor": 0
      },
      "text/plain": [
       "Epoch 8/10 [Train]:   0%|          | 0/57636 [00:00<?, ?it/s]"
      ]
     },
     "metadata": {},
     "output_type": "display_data"
    },
    {
     "name": "stdout",
     "output_type": "stream",
     "text": [
      "Epoch 8/10, Loss: 0.7030\n"
     ]
    },
    {
     "data": {
      "application/vnd.jupyter.widget-view+json": {
       "model_id": "561193a9b300437b953da32b5b92940b",
       "version_major": 2,
       "version_minor": 0
      },
      "text/plain": [
       "Epoch 9/10 [Train]:   0%|          | 0/57636 [00:00<?, ?it/s]"
      ]
     },
     "metadata": {},
     "output_type": "display_data"
    },
    {
     "name": "stdout",
     "output_type": "stream",
     "text": [
      "Epoch 9/10, Loss: 0.6613\n"
     ]
    },
    {
     "data": {
      "application/vnd.jupyter.widget-view+json": {
       "model_id": "c68762dfd8de459597d330a74bce4cf2",
       "version_major": 2,
       "version_minor": 0
      },
      "text/plain": [
       "Epoch 10/10 [Train]:   0%|          | 0/57636 [00:00<?, ?it/s]"
      ]
     },
     "metadata": {},
     "output_type": "display_data"
    },
    {
     "name": "stdout",
     "output_type": "stream",
     "text": [
      "Epoch 10/10, Loss: 0.6279\n",
      "Final accuracy with direct tokenization: 0.8621\n",
      "\n",
      "Training with peak tokenization:\n",
      "Sample shape: torch.Size([32, 1, 50, 2])\n"
     ]
    },
    {
     "name": "stderr",
     "output_type": "stream",
     "text": [
      "/home/kyle/anaconda3/envs/ml/lib/python3.11/site-packages/torch/nn/modules/transformer.py:282: UserWarning: enable_nested_tensor is True, but self.use_nested_tensor is False because encoder_layer.self_attn.batch_first was not True(use batch_first for better inference performance)\n",
      "  warnings.warn(f\"enable_nested_tensor is True, but self.use_nested_tensor is False because {why_not_sparsity_fast_path}\")\n"
     ]
    },
    {
     "data": {
      "application/vnd.jupyter.widget-view+json": {
       "model_id": "c4f6e2aa03fb4270a0e8bcb2efdb1540",
       "version_major": 2,
       "version_minor": 0
      },
      "text/plain": [
       "Epoch 1/10 [Train]:   0%|          | 0/57636 [00:00<?, ?it/s]"
      ]
     },
     "metadata": {},
     "output_type": "display_data"
    },
    {
     "name": "stdout",
     "output_type": "stream",
     "text": [
      "Epoch 1/10, Loss: 6.4885\n"
     ]
    },
    {
     "data": {
      "application/vnd.jupyter.widget-view+json": {
       "model_id": "12ccf05bda90487c911e243a5960fab2",
       "version_major": 2,
       "version_minor": 0
      },
      "text/plain": [
       "Epoch 2/10 [Train]:   0%|          | 0/57636 [00:00<?, ?it/s]"
      ]
     },
     "metadata": {},
     "output_type": "display_data"
    },
    {
     "name": "stdout",
     "output_type": "stream",
     "text": [
      "Epoch 2/10, Loss: 4.6703\n"
     ]
    },
    {
     "data": {
      "application/vnd.jupyter.widget-view+json": {
       "model_id": "44264bdc6e5b4f84aa9717eda92151c6",
       "version_major": 2,
       "version_minor": 0
      },
      "text/plain": [
       "Epoch 3/10 [Train]:   0%|          | 0/57636 [00:00<?, ?it/s]"
      ]
     },
     "metadata": {},
     "output_type": "display_data"
    },
    {
     "name": "stdout",
     "output_type": "stream",
     "text": [
      "Epoch 3/10, Loss: 4.1236\n"
     ]
    },
    {
     "data": {
      "application/vnd.jupyter.widget-view+json": {
       "model_id": "f7f038de51e546a482435d2e98289559",
       "version_major": 2,
       "version_minor": 0
      },
      "text/plain": [
       "Epoch 4/10 [Train]:   0%|          | 0/57636 [00:00<?, ?it/s]"
      ]
     },
     "metadata": {},
     "output_type": "display_data"
    },
    {
     "name": "stdout",
     "output_type": "stream",
     "text": [
      "Epoch 4/10, Loss: 3.9147\n"
     ]
    },
    {
     "data": {
      "application/vnd.jupyter.widget-view+json": {
       "model_id": "fc65141596cb4b90a8b0732381208106",
       "version_major": 2,
       "version_minor": 0
      },
      "text/plain": [
       "Epoch 5/10 [Train]:   0%|          | 0/57636 [00:00<?, ?it/s]"
      ]
     },
     "metadata": {},
     "output_type": "display_data"
    },
    {
     "name": "stdout",
     "output_type": "stream",
     "text": [
      "Epoch 5/10, Loss: 4.0260\n"
     ]
    },
    {
     "data": {
      "application/vnd.jupyter.widget-view+json": {
       "model_id": "10b0fdf33c8f42b3bb260aa769c60b60",
       "version_major": 2,
       "version_minor": 0
      },
      "text/plain": [
       "Epoch 6/10 [Train]:   0%|          | 0/57636 [00:00<?, ?it/s]"
      ]
     },
     "metadata": {},
     "output_type": "display_data"
    },
    {
     "name": "stdout",
     "output_type": "stream",
     "text": [
      "Epoch 6/10, Loss: 3.6207\n"
     ]
    },
    {
     "data": {
      "application/vnd.jupyter.widget-view+json": {
       "model_id": "67b33d5a5fcb4c8391afd96d58cd8d65",
       "version_major": 2,
       "version_minor": 0
      },
      "text/plain": [
       "Epoch 7/10 [Train]:   0%|          | 0/57636 [00:00<?, ?it/s]"
      ]
     },
     "metadata": {},
     "output_type": "display_data"
    },
    {
     "name": "stdout",
     "output_type": "stream",
     "text": [
      "Epoch 7/10, Loss: 3.5240\n"
     ]
    },
    {
     "data": {
      "application/vnd.jupyter.widget-view+json": {
       "model_id": "cad06ba1408e4e2d9974f70ad2b15df4",
       "version_major": 2,
       "version_minor": 0
      },
      "text/plain": [
       "Epoch 8/10 [Train]:   0%|          | 0/57636 [00:00<?, ?it/s]"
      ]
     },
     "metadata": {},
     "output_type": "display_data"
    },
    {
     "name": "stdout",
     "output_type": "stream",
     "text": [
      "Epoch 8/10, Loss: 3.4600\n"
     ]
    },
    {
     "data": {
      "application/vnd.jupyter.widget-view+json": {
       "model_id": "cad40a54f1ac450695057aebfe680a92",
       "version_major": 2,
       "version_minor": 0
      },
      "text/plain": [
       "Epoch 9/10 [Train]:   0%|          | 0/57636 [00:00<?, ?it/s]"
      ]
     },
     "metadata": {},
     "output_type": "display_data"
    },
    {
     "name": "stdout",
     "output_type": "stream",
     "text": [
      "Epoch 9/10, Loss: 3.6222\n"
     ]
    },
    {
     "data": {
      "application/vnd.jupyter.widget-view+json": {
       "model_id": "6e08985066ad4fdd95321a1d8feadec8",
       "version_major": 2,
       "version_minor": 0
      },
      "text/plain": [
       "Epoch 10/10 [Train]:   0%|          | 0/57636 [00:00<?, ?it/s]"
      ]
     },
     "metadata": {},
     "output_type": "display_data"
    },
    {
     "name": "stdout",
     "output_type": "stream",
     "text": [
      "Epoch 10/10, Loss: 3.4279\n",
      "Final accuracy with peak tokenization: 0.0784\n",
      "\n",
      "Training with fourier2 tokenization:\n",
      "Sample shape: torch.Size([32, 1, 111, 16])\n"
     ]
    },
    {
     "data": {
      "application/vnd.jupyter.widget-view+json": {
       "model_id": "25c7e2273c7541a190056864e37fcbcc",
       "version_major": 2,
       "version_minor": 0
      },
      "text/plain": [
       "Epoch 1/10 [Train]:   0%|          | 0/57636 [00:00<?, ?it/s]"
      ]
     },
     "metadata": {},
     "output_type": "display_data"
    },
    {
     "name": "stdout",
     "output_type": "stream",
     "text": [
      "Epoch 1/10, Loss: 6.1265\n"
     ]
    },
    {
     "data": {
      "application/vnd.jupyter.widget-view+json": {
       "model_id": "912b3c02023244b7b165aa90bcafc698",
       "version_major": 2,
       "version_minor": 0
      },
      "text/plain": [
       "Epoch 2/10 [Train]:   0%|          | 0/57636 [00:00<?, ?it/s]"
      ]
     },
     "metadata": {},
     "output_type": "display_data"
    },
    {
     "name": "stdout",
     "output_type": "stream",
     "text": [
      "Epoch 2/10, Loss: 4.5585\n"
     ]
    },
    {
     "data": {
      "application/vnd.jupyter.widget-view+json": {
       "model_id": "c3d6aae5d63d4986a9aa65a983dcf930",
       "version_major": 2,
       "version_minor": 0
      },
      "text/plain": [
       "Epoch 3/10 [Train]:   0%|          | 0/57636 [00:00<?, ?it/s]"
      ]
     },
     "metadata": {},
     "output_type": "display_data"
    },
    {
     "name": "stdout",
     "output_type": "stream",
     "text": [
      "Epoch 3/10, Loss: 4.1384\n"
     ]
    },
    {
     "data": {
      "application/vnd.jupyter.widget-view+json": {
       "model_id": "c66e2f8791f74c6c86157147023201a0",
       "version_major": 2,
       "version_minor": 0
      },
      "text/plain": [
       "Epoch 4/10 [Train]:   0%|          | 0/57636 [00:00<?, ?it/s]"
      ]
     },
     "metadata": {},
     "output_type": "display_data"
    },
    {
     "name": "stdout",
     "output_type": "stream",
     "text": [
      "Epoch 4/10, Loss: 3.8875\n"
     ]
    },
    {
     "data": {
      "application/vnd.jupyter.widget-view+json": {
       "model_id": "30758d501ec942ac89f6634c12180a0b",
       "version_major": 2,
       "version_minor": 0
      },
      "text/plain": [
       "Epoch 5/10 [Train]:   0%|          | 0/57636 [00:00<?, ?it/s]"
      ]
     },
     "metadata": {},
     "output_type": "display_data"
    },
    {
     "name": "stdout",
     "output_type": "stream",
     "text": [
      "Epoch 5/10, Loss: 3.8428\n"
     ]
    },
    {
     "data": {
      "application/vnd.jupyter.widget-view+json": {
       "model_id": "41a5cbc6342c4045b618da9d0d657048",
       "version_major": 2,
       "version_minor": 0
      },
      "text/plain": [
       "Epoch 6/10 [Train]:   0%|          | 0/57636 [00:00<?, ?it/s]"
      ]
     },
     "metadata": {},
     "output_type": "display_data"
    },
    {
     "name": "stdout",
     "output_type": "stream",
     "text": [
      "Epoch 6/10, Loss: 3.6039\n"
     ]
    },
    {
     "data": {
      "application/vnd.jupyter.widget-view+json": {
       "model_id": "0c1ceba39b7c442ebd78b8aa603dfd03",
       "version_major": 2,
       "version_minor": 0
      },
      "text/plain": [
       "Epoch 7/10 [Train]:   0%|          | 0/57636 [00:00<?, ?it/s]"
      ]
     },
     "metadata": {},
     "output_type": "display_data"
    },
    {
     "name": "stdout",
     "output_type": "stream",
     "text": [
      "Epoch 7/10, Loss: 3.4927\n"
     ]
    },
    {
     "data": {
      "application/vnd.jupyter.widget-view+json": {
       "model_id": "aa8bce29fd22489d9a15f6c92a5e09f4",
       "version_major": 2,
       "version_minor": 0
      },
      "text/plain": [
       "Epoch 8/10 [Train]:   0%|          | 0/57636 [00:00<?, ?it/s]"
      ]
     },
     "metadata": {},
     "output_type": "display_data"
    },
    {
     "name": "stdout",
     "output_type": "stream",
     "text": [
      "Epoch 8/10, Loss: 3.3996\n"
     ]
    },
    {
     "data": {
      "application/vnd.jupyter.widget-view+json": {
       "model_id": "8c9c022272174659b4cad563124d60e6",
       "version_major": 2,
       "version_minor": 0
      },
      "text/plain": [
       "Epoch 9/10 [Train]:   0%|          | 0/57636 [00:00<?, ?it/s]"
      ]
     },
     "metadata": {},
     "output_type": "display_data"
    },
    {
     "name": "stdout",
     "output_type": "stream",
     "text": [
      "Epoch 9/10, Loss: 3.3379\n"
     ]
    },
    {
     "data": {
      "application/vnd.jupyter.widget-view+json": {
       "model_id": "00d7576ffc45485794ec5dd0020b9b91",
       "version_major": 2,
       "version_minor": 0
      },
      "text/plain": [
       "Epoch 10/10 [Train]:   0%|          | 0/57636 [00:00<?, ?it/s]"
      ]
     },
     "metadata": {},
     "output_type": "display_data"
    },
    {
     "name": "stdout",
     "output_type": "stream",
     "text": [
      "Epoch 10/10, Loss: 3.2802\n",
      "Final accuracy with fourier2 tokenization: 0.2630\n",
      "\n",
      "Training with wavelet2 tokenization:\n",
      "Sample shape: torch.Size([32, 1, 222, 16])\n"
     ]
    },
    {
     "data": {
      "application/vnd.jupyter.widget-view+json": {
       "model_id": "d79b1713bf3d4c348e60955c56476ee1",
       "version_major": 2,
       "version_minor": 0
      },
      "text/plain": [
       "Epoch 1/10 [Train]:   0%|          | 0/57636 [00:00<?, ?it/s]"
      ]
     },
     "metadata": {},
     "output_type": "display_data"
    },
    {
     "name": "stdout",
     "output_type": "stream",
     "text": [
      "Epoch 1/10, Loss: 6.3212\n"
     ]
    },
    {
     "data": {
      "application/vnd.jupyter.widget-view+json": {
       "model_id": "755450dfabe5401097ea1477fbec2d1d",
       "version_major": 2,
       "version_minor": 0
      },
      "text/plain": [
       "Epoch 2/10 [Train]:   0%|          | 0/57636 [00:00<?, ?it/s]"
      ]
     },
     "metadata": {},
     "output_type": "display_data"
    },
    {
     "name": "stdout",
     "output_type": "stream",
     "text": [
      "Epoch 2/10, Loss: 3.0032\n"
     ]
    },
    {
     "data": {
      "application/vnd.jupyter.widget-view+json": {
       "model_id": "8a6bd8f409fd40c9a0a16dff0b8558e8",
       "version_major": 2,
       "version_minor": 0
      },
      "text/plain": [
       "Epoch 3/10 [Train]:   0%|          | 0/57636 [00:00<?, ?it/s]"
      ]
     },
     "metadata": {},
     "output_type": "display_data"
    },
    {
     "name": "stdout",
     "output_type": "stream",
     "text": [
      "Epoch 3/10, Loss: 1.7439\n"
     ]
    },
    {
     "data": {
      "application/vnd.jupyter.widget-view+json": {
       "model_id": "2c25d0fa601342aba8d3d22dfa6b5e01",
       "version_major": 2,
       "version_minor": 0
      },
      "text/plain": [
       "Epoch 4/10 [Train]:   0%|          | 0/57636 [00:00<?, ?it/s]"
      ]
     },
     "metadata": {},
     "output_type": "display_data"
    },
    {
     "name": "stdout",
     "output_type": "stream",
     "text": [
      "Epoch 4/10, Loss: 1.2678\n"
     ]
    },
    {
     "data": {
      "application/vnd.jupyter.widget-view+json": {
       "model_id": "9014c58e0e2d4f0bbbb7b2db5793ae68",
       "version_major": 2,
       "version_minor": 0
      },
      "text/plain": [
       "Epoch 5/10 [Train]:   0%|          | 0/57636 [00:00<?, ?it/s]"
      ]
     },
     "metadata": {},
     "output_type": "display_data"
    },
    {
     "name": "stdout",
     "output_type": "stream",
     "text": [
      "Epoch 5/10, Loss: 1.0284\n"
     ]
    },
    {
     "data": {
      "application/vnd.jupyter.widget-view+json": {
       "model_id": "56e7f9418e6f48c9bf5f564f0b4aaedd",
       "version_major": 2,
       "version_minor": 0
      },
      "text/plain": [
       "Epoch 6/10 [Train]:   0%|          | 0/57636 [00:00<?, ?it/s]"
      ]
     },
     "metadata": {},
     "output_type": "display_data"
    },
    {
     "name": "stdout",
     "output_type": "stream",
     "text": [
      "Epoch 6/10, Loss: 0.8975\n"
     ]
    },
    {
     "data": {
      "application/vnd.jupyter.widget-view+json": {
       "model_id": "248d57831df14f33b8ed4074eb7800e0",
       "version_major": 2,
       "version_minor": 0
      },
      "text/plain": [
       "Epoch 7/10 [Train]:   0%|          | 0/57636 [00:00<?, ?it/s]"
      ]
     },
     "metadata": {},
     "output_type": "display_data"
    },
    {
     "name": "stdout",
     "output_type": "stream",
     "text": [
      "Epoch 7/10, Loss: 0.8219\n"
     ]
    },
    {
     "data": {
      "application/vnd.jupyter.widget-view+json": {
       "model_id": "1a7e6e8591d54b93ad0f7c2a4a0714d0",
       "version_major": 2,
       "version_minor": 0
      },
      "text/plain": [
       "Epoch 8/10 [Train]:   0%|          | 0/57636 [00:00<?, ?it/s]"
      ]
     },
     "metadata": {},
     "output_type": "display_data"
    },
    {
     "name": "stdout",
     "output_type": "stream",
     "text": [
      "Epoch 8/10, Loss: 0.7781\n"
     ]
    },
    {
     "data": {
      "application/vnd.jupyter.widget-view+json": {
       "model_id": "b8a362b9e7bb42788f9894fac34a9b30",
       "version_major": 2,
       "version_minor": 0
      },
      "text/plain": [
       "Epoch 9/10 [Train]:   0%|          | 0/57636 [00:00<?, ?it/s]"
      ]
     },
     "metadata": {},
     "output_type": "display_data"
    },
    {
     "name": "stdout",
     "output_type": "stream",
     "text": [
      "Epoch 9/10, Loss: 0.7480\n"
     ]
    },
    {
     "data": {
      "application/vnd.jupyter.widget-view+json": {
       "model_id": "c3527f65b3874d6cbb6f8cc10fe70ceb",
       "version_major": 2,
       "version_minor": 0
      },
      "text/plain": [
       "Epoch 10/10 [Train]:   0%|          | 0/57636 [00:00<?, ?it/s]"
      ]
     },
     "metadata": {},
     "output_type": "display_data"
    },
    {
     "name": "stdout",
     "output_type": "stream",
     "text": [
      "Epoch 10/10, Loss: 0.7246\n",
      "Final accuracy with wavelet2 tokenization: 0.8366\n"
     ]
    }
   ],
   "source": [
    "results = {}\n",
    "for method in ['direct', 'peak', 'fourier2', 'wavelet2']:\n",
    "    print(f\"\\nTraining with {method} tokenization:\")\n",
    "    \n",
    "    train_loader, test_loader = load_tokenized_data(method)\n",
    "    \n",
    "    # Get a sample batch to determine input dimensions\n",
    "    sample_batch, _ = next(iter(train_loader))\n",
    "    print('Sample shape:', sample_batch.shape)\n",
    "    #print('Sample first element:', sample_batch[0])\n",
    "    \n",
    "    num_classes = len(label_encoder.classes_)\n",
    "    embed_depth = sample_batch.shape[3]\n",
    "    \n",
    "    model = MS_VIT(num_classes, embed_depth=embed_depth,\n",
    "                   d_model=64, nhead=2, num_layers=2,\n",
    "                   ).to(device)\n",
    "    optimizer = optim.Adam(model.parameters(), lr=0.0001)\n",
    "    criterion = nn.CrossEntropyLoss()\n",
    "    \n",
    "    model = train_model(model, train_loader, test_loader, optimizer, criterion,\n",
    "                        num_epochs=10)\n",
    "    \n",
    "    # Final evaluation\n",
    "    model.eval()\n",
    "    correct = 0\n",
    "    total = 0\n",
    "    with torch.no_grad():\n",
    "        for x_batch, y_batch in test_loader:\n",
    "            x_batch, y_batch = x_batch.to(device), y_batch.to(device)\n",
    "            x_batch = x_batch.squeeze(1)\n",
    "            outputs = model(x_batch)\n",
    "            _, predicted = torch.max(outputs.data, 1)\n",
    "            total += y_batch.size(0)\n",
    "            correct += (predicted == y_batch).sum().item()\n",
    "    \n",
    "    accuracy = correct / total\n",
    "    results[method] = accuracy\n",
    "    print(f\"Final accuracy with {method} tokenization: {accuracy:.4f}\")"
   ]
  },
  {
   "cell_type": "code",
   "execution_count": 18,
   "metadata": {},
   "outputs": [
    {
     "name": "stdout",
     "output_type": "stream",
     "text": [
      "direct tokenization accuracy: 0.8621\n",
      "peak tokenization accuracy: 0.0784\n",
      "fourier2 tokenization accuracy: 0.2630\n",
      "wavelet2 tokenization accuracy: 0.8366\n"
     ]
    }
   ],
   "source": [
    "# Compare results\n",
    "for method, accuracy in results.items():\n",
    "    print(f\"{method} tokenization accuracy: {accuracy:.4f}\")"
   ]
  },
  {
   "cell_type": "code",
   "execution_count": null,
   "metadata": {},
   "outputs": [],
   "source": []
  }
 ],
 "metadata": {
  "kernelspec": {
   "display_name": "ml",
   "language": "python",
   "name": "python3"
  },
  "language_info": {
   "codemirror_mode": {
    "name": "ipython",
    "version": 3
   },
   "file_extension": ".py",
   "mimetype": "text/x-python",
   "name": "python",
   "nbconvert_exporter": "python",
   "pygments_lexer": "ipython3",
   "version": "3.11.4"
  }
 },
 "nbformat": 4,
 "nbformat_minor": 2
}
