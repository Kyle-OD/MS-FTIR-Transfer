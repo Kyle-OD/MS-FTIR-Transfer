{
 "cells": [
  {
   "cell_type": "code",
   "execution_count": 1,
   "metadata": {},
   "outputs": [],
   "source": [
    "import torch\n",
    "import torch.nn as nn\n",
    "import torch.nn.functional as F\n",
    "from torch.optim import Adam\n",
    "from torch.nn import CrossEntropyLoss\n",
    "from torch.utils.data import TensorDataset, DataLoader, Dataset\n",
    "from sklearn.model_selection import train_test_split\n",
    "from sklearn.preprocessing import LabelEncoder\n",
    "import numpy as np\n",
    "import pandas as pd\n",
    "import math\n",
    "import ast\n",
    "from scipy.signal import find_peaks\n",
    "import pywt"
   ]
  },
  {
   "cell_type": "code",
   "execution_count": 2,
   "metadata": {},
   "outputs": [
    {
     "name": "stdout",
     "output_type": "stream",
     "text": [
      "CUDA is available.\n",
      "PyTorch version: 2.1.0+cu121\n",
      "CUDA version: 12.1\n",
      "Number of available GPUs: 1\n",
      "GPU name: NVIDIA GeForce RTX 4060 Laptop GPU\n"
     ]
    }
   ],
   "source": [
    "if torch.cuda.is_available():\n",
    "    print(\"CUDA is available.\")\n",
    "    print(\"PyTorch version:\", torch.__version__)\n",
    "    print(\"CUDA version:\", torch.version.cuda)\n",
    "    print(\"Number of available GPUs:\", torch.cuda.device_count())\n",
    "    print(\"GPU name:\", torch.cuda.get_device_name(0))\n",
    "else:\n",
    "    print(\"CUDA is not available.\")"
   ]
  },
  {
   "cell_type": "code",
   "execution_count": 3,
   "metadata": {},
   "outputs": [
    {
     "name": "stdout",
     "output_type": "stream",
     "text": [
      "Using device: cuda\n"
     ]
    }
   ],
   "source": [
    "device = torch.device(\"cuda\" if torch.cuda.is_available() else \"cpu\")\n",
    "print(f\"Using device: {device}\")"
   ]
  },
  {
   "cell_type": "code",
   "execution_count": 4,
   "metadata": {},
   "outputs": [
    {
     "name": "stderr",
     "output_type": "stream",
     "text": [
      "/tmp/ipykernel_32599/2771391255.py:1: DtypeWarning: Columns (6,7,10,12) have mixed types. Specify dtype option on import or set low_memory=False.\n",
      "  df = pd.read_csv('data/MoNA/in-silico.csv')\n"
     ]
    }
   ],
   "source": [
    "df = pd.read_csv('data/MoNA/in-silico.csv') "
   ]
  },
  {
   "cell_type": "code",
   "execution_count": 5,
   "metadata": {},
   "outputs": [],
   "source": [
    "# Prepare the labels\n",
    "label_encoder = LabelEncoder()\n",
    "y = label_encoder.fit_transform(df['molecular_formula'])"
   ]
  },
  {
   "cell_type": "code",
   "execution_count": 6,
   "metadata": {},
   "outputs": [],
   "source": [
    "def direct_tokenization(binned_spectrum, window_size=16):\n",
    "    # Pad the spectrum if necessary\n",
    "    if len(binned_spectrum) % window_size != 0:\n",
    "        pad_length = window_size - (len(binned_spectrum) % window_size)\n",
    "        binned_spectrum = np.pad(binned_spectrum, (0, pad_length), mode='constant')\n",
    "    \n",
    "    # Reshape into 2D\n",
    "    return binned_spectrum.reshape(-1, window_size)\n",
    "\n",
    "def fourier_tokenization_2d(binned_spectrum, window_size=16):\n",
    "    fft = np.fft.fft(binned_spectrum)\n",
    "    magnitude_spectrum = np.abs(fft[:len(fft)//2])\n",
    "    \n",
    "    # Pad if necessary\n",
    "    if len(magnitude_spectrum) % window_size != 0:\n",
    "        pad_length = window_size - (len(magnitude_spectrum) % window_size)\n",
    "        magnitude_spectrum = np.pad(magnitude_spectrum, (0, pad_length), mode='constant')\n",
    "    \n",
    "    # Reshape into 2D\n",
    "    return magnitude_spectrum.reshape(-1, window_size)\n",
    "\n",
    "def wavelet_tokenization_2d(binned_spectrum, window_size=16, wavelet='db1'):\n",
    "    coeffs = pywt.wavedec(binned_spectrum, wavelet)\n",
    "    flat_coeffs = np.concatenate(coeffs)\n",
    "    \n",
    "    # Pad if necessary\n",
    "    if len(flat_coeffs) % window_size != 0:\n",
    "        pad_length = window_size - (len(flat_coeffs) % window_size)\n",
    "        flat_coeffs = np.pad(flat_coeffs, (0, pad_length), mode='constant')\n",
    "    \n",
    "    # Reshape into 2D\n",
    "    return flat_coeffs.reshape(-1, window_size)\n",
    "\n",
    "def peak_tokenization(spectrum_string, top_n=50, pad_to=50):\n",
    "    spectrum = ast.literal_eval(spectrum_string)\n",
    "    spectrum.sort(key=lambda x: x[1], reverse=True)\n",
    "    top_peaks = spectrum[:top_n]\n",
    "    flattened = [val for peak in top_peaks for val in peak]\n",
    "    \n",
    "    # Pad if necessary\n",
    "    if len(flattened) < pad_to * 2:\n",
    "        flattened.extend([0] * (pad_to * 2 - len(flattened)))\n",
    "    \n",
    "    return np.array(flattened).reshape(-1, 2)"
   ]
  },
  {
   "cell_type": "code",
   "execution_count": 7,
   "metadata": {},
   "outputs": [
    {
     "data": {
      "text/plain": [
       "\"def fourier_tokenization_2d(binned_spectrum, window_size=16):\\n    # Perform FFT\\n    fft = np.fft.fft(binned_spectrum)\\n    magnitude_spectrum = np.abs(fft[:len(fft)//2])\\n    \\n    # Pad the spectrum if necessary\\n    if len(magnitude_spectrum) % (window_size * window_size) != 0:\\n        pad_length = window_size * window_size * (len(magnitude_spectrum) // (window_size * window_size) + 1) - len(magnitude_spectrum)\\n        magnitude_spectrum = np.pad(magnitude_spectrum, (0, pad_length), mode='constant')\\n    \\n    # Reshape into 2D\\n    num_windows = len(magnitude_spectrum) // (window_size * window_size)\\n    reshaped = magnitude_spectrum.reshape(num_windows, window_size, window_size)\\n    \\n    # Flatten each window\\n    return reshaped.reshape(num_windows, -1).tolist()\\n\\ndef wavelet_tokenization_2d(binned_spectrum, window_size=16, wavelet='db1'):\\n    # Perform wavelet transform\\n    coeffs = pywt.wavedec(binned_spectrum, wavelet)\\n    \\n    # Concatenate all levels\\n    flat_coeffs = np.concatenate(coeffs)\\n    \\n    # Pad if necessary\\n    if len(flat_coeffs) % (window_size * window_size) != 0:\\n        pad_length = window_size * window_size * (len(flat_coeffs) // (window_size * window_size) + 1) - len(flat_coeffs)\\n        flat_coeffs = np.pad(flat_coeffs, (0, pad_length), mode='constant')\\n    \\n    # Reshape into 2D\\n    num_windows = len(flat_coeffs) // (window_size * window_size)\\n    reshaped = flat_coeffs.reshape(num_windows, window_size, window_size)\\n    \\n    # Flatten each window\\n    return reshaped.reshape(num_windows, -1).tolist()\""
      ]
     },
     "execution_count": 7,
     "metadata": {},
     "output_type": "execute_result"
    }
   ],
   "source": [
    "'''def fourier_tokenization_2d(binned_spectrum, window_size=16):\n",
    "    # Perform FFT\n",
    "    fft = np.fft.fft(binned_spectrum)\n",
    "    magnitude_spectrum = np.abs(fft[:len(fft)//2])\n",
    "    \n",
    "    # Pad the spectrum if necessary\n",
    "    if len(magnitude_spectrum) % (window_size * window_size) != 0:\n",
    "        pad_length = window_size * window_size * (len(magnitude_spectrum) // (window_size * window_size) + 1) - len(magnitude_spectrum)\n",
    "        magnitude_spectrum = np.pad(magnitude_spectrum, (0, pad_length), mode='constant')\n",
    "    \n",
    "    # Reshape into 2D\n",
    "    num_windows = len(magnitude_spectrum) // (window_size * window_size)\n",
    "    reshaped = magnitude_spectrum.reshape(num_windows, window_size, window_size)\n",
    "    \n",
    "    # Flatten each window\n",
    "    return reshaped.reshape(num_windows, -1).tolist()\n",
    "\n",
    "def wavelet_tokenization_2d(binned_spectrum, window_size=16, wavelet='db1'):\n",
    "    # Perform wavelet transform\n",
    "    coeffs = pywt.wavedec(binned_spectrum, wavelet)\n",
    "    \n",
    "    # Concatenate all levels\n",
    "    flat_coeffs = np.concatenate(coeffs)\n",
    "    \n",
    "    # Pad if necessary\n",
    "    if len(flat_coeffs) % (window_size * window_size) != 0:\n",
    "        pad_length = window_size * window_size * (len(flat_coeffs) // (window_size * window_size) + 1) - len(flat_coeffs)\n",
    "        flat_coeffs = np.pad(flat_coeffs, (0, pad_length), mode='constant')\n",
    "    \n",
    "    # Reshape into 2D\n",
    "    num_windows = len(flat_coeffs) // (window_size * window_size)\n",
    "    reshaped = flat_coeffs.reshape(num_windows, window_size, window_size)\n",
    "    \n",
    "    # Flatten each window\n",
    "    return reshaped.reshape(num_windows, -1).tolist()'''"
   ]
  },
  {
   "cell_type": "code",
   "execution_count": 8,
   "metadata": {},
   "outputs": [],
   "source": [
    "def calculate_max_mz(df, spectrum_column='spectrum'):\n",
    "    def get_max_mz(spectrum_string):\n",
    "        spectrum = ast.literal_eval(spectrum_string)\n",
    "        return max(peak[0] for peak in spectrum)\n",
    "\n",
    "    max_mz_series = df[spectrum_column].apply(get_max_mz)\n",
    "    return int(np.ceil(max_mz_series.max()))\n",
    "\n",
    "def bin_spectrum(spectrum_string, max_mz):\n",
    "    spectrum = ast.literal_eval(spectrum_string)\n",
    "    binned = np.zeros(max_mz + 1)  # +1 to include the max_mz value\n",
    "    \n",
    "    for mz, intensity in spectrum:\n",
    "        mz_int = int(np.round(mz))\n",
    "        if mz_int <= max_mz:\n",
    "            binned[mz_int] += intensity\n",
    "    \n",
    "    return binned\n",
    "\n",
    "def tokenize_spectrum(spectrum, method, max_mz, window_size=16):\n",
    "    if isinstance(spectrum, str):\n",
    "        binned_spectrum = bin_spectrum(spectrum, max_mz)\n",
    "    else:\n",
    "        binned_spectrum = spectrum\n",
    "\n",
    "    if method == 'direct':\n",
    "        return direct_tokenization(binned_spectrum, window_size)\n",
    "    elif method == 'peak':\n",
    "        return peak_tokenization(spectrum)\n",
    "    elif method == 'fourier2':\n",
    "        return fourier_tokenization_2d(binned_spectrum, window_size)\n",
    "    elif method == 'wavelet2':\n",
    "        return wavelet_tokenization_2d(binned_spectrum, window_size)\n",
    "    else:\n",
    "        raise ValueError(f\"Unknown tokenization method: {method}\")\n"
   ]
  },
  {
   "cell_type": "code",
   "execution_count": 9,
   "metadata": {},
   "outputs": [],
   "source": [
    "class SpectralDataset(Dataset):\n",
    "    def __init__(self, df, labels, tokenization_method, max_mz):\n",
    "        self.spectra = df['spectrum']\n",
    "        self.labels = labels\n",
    "        self.tokenization_method = tokenization_method\n",
    "        self.max_mz = max_mz\n",
    "\n",
    "    def __len__(self):\n",
    "        return len(self.spectra)\n",
    "\n",
    "    def __getitem__(self, idx):\n",
    "        spectrum = self.spectra.iloc[idx]\n",
    "        label = self.labels[idx]\n",
    "        tokenized = tokenize_spectrum(spectrum, self.tokenization_method, self.max_mz)\n",
    "        return torch.tensor(tokenized, dtype=torch.float32).unsqueeze(0), label  # Add an extra dimension"
   ]
  },
  {
   "cell_type": "code",
   "execution_count": 10,
   "metadata": {},
   "outputs": [
    {
     "name": "stdout",
     "output_type": "stream",
     "text": [
      "Maximum m/z value across all spectra: 3533\n"
     ]
    }
   ],
   "source": [
    "# Calculate max_mz\n",
    "max_mz = calculate_max_mz(df)\n",
    "print(f\"Maximum m/z value across all spectra: {max_mz}\")    "
   ]
  },
  {
   "cell_type": "code",
   "execution_count": 11,
   "metadata": {},
   "outputs": [],
   "source": [
    "# Split the data\n",
    "X_train = df\n",
    "X_test = df\n",
    "y_train = y\n",
    "y_test = y"
   ]
  },
  {
   "cell_type": "code",
   "execution_count": 12,
   "metadata": {},
   "outputs": [],
   "source": [
    "def load_tokenized_data(method, batch_size=32):\n",
    "    train_dataset = SpectralDataset(X_train, y_train, method, max_mz)\n",
    "    test_dataset = SpectralDataset(X_test, y_test, method, max_mz)\n",
    "    \n",
    "    train_loader = DataLoader(train_dataset, batch_size=batch_size, shuffle=True)\n",
    "    test_loader = DataLoader(test_dataset, batch_size=batch_size, shuffle=False)\n",
    "    \n",
    "    return train_loader, test_loader"
   ]
  },
  {
   "cell_type": "code",
   "execution_count": 13,
   "metadata": {},
   "outputs": [],
   "source": [
    "# Defining the transformer model\n",
    "class MS_VIT(nn.Module):\n",
    "    def __init__(self, num_classes, embed_dim=40, depth=12, num_heads=2):\n",
    "        super(MS_VIT, self).__init__()\n",
    "        self.embedding = nn.Linear(16, embed_dim)  # Assume 16 features per token\n",
    "        self.transformer = nn.TransformerEncoder(\n",
    "            nn.TransformerEncoderLayer(d_model=embed_dim, nhead=num_heads),\n",
    "            num_layers=depth\n",
    "        )\n",
    "        self.fc = nn.Linear(embed_dim, num_classes)\n",
    "\n",
    "    def forward(self, x):\n",
    "        # x shape: (batch_size, seq_length, 16)\n",
    "        batch_size, seq_length, _ = x.shape\n",
    "        x = x.view(batch_size * seq_length, -1)  # Reshape to (batch_size * seq_length, 16)\n",
    "        x = self.embedding(x)  # Shape: (batch_size * seq_length, embed_dim)\n",
    "        x = x.view(batch_size, seq_length, -1)  # Reshape back to (batch_size, seq_length, embed_dim)\n",
    "        x = x.permute(1, 0, 2)  # Shape: (seq_length, batch_size, embed_dim)\n",
    "        x = self.transformer(x)\n",
    "        x = x.mean(dim=0)  # Global average pooling\n",
    "        x = self.fc(x)\n",
    "        return x\n",
    "    \n",
    "class PositionalEncoding(nn.Module):\n",
    "    def __init__(self, d_model, max_length=5000):\n",
    "        super(PositionalEncoding, self).__init__()\n",
    "        pe = torch.zeros(max_length, d_model)\n",
    "        position = torch.arange(0, max_length, dtype=torch.float).unsqueeze(1)\n",
    "        div_term = torch.exp(torch.arange(0,d_model,2)).float() * (-math.log(10000.0)/d_model)\n",
    "        pe[:, 0::2] = torch.sin(position * div_term)\n",
    "        pe[:, 1::2] = torch.cos(position * div_term)\n",
    "        pe = pe.unsqueeze(0).transpose(0,1)\n",
    "        self.register_buffer('pe', pe)\n",
    "\n",
    "    def forward(self, x):\n",
    "        x = x + self.pe[:x.size(0), :]\n",
    "        return x\n",
    "\n"
   ]
  },
  {
   "cell_type": "code",
   "execution_count": 14,
   "metadata": {},
   "outputs": [],
   "source": [
    "# Training function\n",
    "def train_model(model, train_loader, test_loader, optimizer, criterion, num_epochs=50):\n",
    "    device = next(model.parameters()).device  # Get the device the model is on\n",
    "    \n",
    "    for epoch in range(num_epochs):\n",
    "        model.train()\n",
    "        for x_batch, y_batch in train_loader:\n",
    "            x_batch, y_batch = x_batch.to(device), y_batch.to(device)\n",
    "            optimizer.zero_grad()\n",
    "            outputs = model(x_batch)\n",
    "            loss = criterion(outputs, y_batch)\n",
    "            loss.backward()\n",
    "            optimizer.step()\n",
    "        \n",
    "        # Evaluate on test set\n",
    "        model.eval()\n",
    "        correct = 0\n",
    "        total = 0\n",
    "        with torch.no_grad():\n",
    "            for x_batch, y_batch in test_loader:\n",
    "                x_batch, y_batch = x_batch.to(device), y_batch.to(device)\n",
    "                outputs = model(x_batch)\n",
    "                _, predicted = torch.max(outputs.data, 1)\n",
    "                total += y_batch.size(0)\n",
    "                correct += (predicted == y_batch).sum().item()\n",
    "        \n",
    "        accuracy = correct / total\n",
    "        print(f'Epoch {epoch+1}/{num_epochs}, Accuracy: {accuracy:.4f}')\n",
    "\n",
    "    return model"
   ]
  },
  {
   "cell_type": "code",
   "execution_count": 15,
   "metadata": {},
   "outputs": [
    {
     "name": "stdout",
     "output_type": "stream",
     "text": [
      "\n",
      "Training with direct tokenization:\n"
     ]
    },
    {
     "name": "stdout",
     "output_type": "stream",
     "text": [
      "Sample shape: torch.Size([32, 1, 221, 16])\n",
      "Sample first element: tensor([[[0., 0., 0.,  ..., 0., 0., 0.],\n",
      "         [0., 0., 0.,  ..., 0., 0., 0.],\n",
      "         [0., 0., 0.,  ..., 0., 0., 0.],\n",
      "         ...,\n",
      "         [0., 0., 0.,  ..., 0., 0., 0.],\n",
      "         [0., 0., 0.,  ..., 0., 0., 0.],\n",
      "         [0., 0., 0.,  ..., 0., 0., 0.]]])\n"
     ]
    },
    {
     "ename": "TypeError",
     "evalue": "MS_VIT.__init__() missing 1 required positional argument: 'num_classes'",
     "output_type": "error",
     "traceback": [
      "\u001b[0;31m---------------------------------------------------------------------------\u001b[0m",
      "\u001b[0;31mTypeError\u001b[0m                                 Traceback (most recent call last)",
      "Cell \u001b[0;32mIn[15], line 14\u001b[0m\n\u001b[1;32m     10\u001b[0m \u001b[38;5;28mprint\u001b[39m(\u001b[38;5;124m'\u001b[39m\u001b[38;5;124mSample first element:\u001b[39m\u001b[38;5;124m'\u001b[39m, sample_batch[\u001b[38;5;241m0\u001b[39m])\n\u001b[1;32m     12\u001b[0m num_classes \u001b[38;5;241m=\u001b[39m \u001b[38;5;28mlen\u001b[39m(label_encoder\u001b[38;5;241m.\u001b[39mclasses_)\n\u001b[0;32m---> 14\u001b[0m model \u001b[38;5;241m=\u001b[39m \u001b[43mMS_VIT\u001b[49m\u001b[43m(\u001b[49m\u001b[43mnum_classes\u001b[49m\u001b[43m)\u001b[49m\u001b[38;5;241m.\u001b[39mto(device)\n\u001b[1;32m     15\u001b[0m optimizer \u001b[38;5;241m=\u001b[39m Adam(model\u001b[38;5;241m.\u001b[39mparameters())\n\u001b[1;32m     16\u001b[0m criterion \u001b[38;5;241m=\u001b[39m CrossEntropyLoss()\n",
      "\u001b[0;31mTypeError\u001b[0m: MS_VIT.__init__() missing 1 required positional argument: 'num_classes'"
     ]
    }
   ],
   "source": [
    "results = {}\n",
    "for method in ['direct', 'peak', 'fourier2', 'wavelet2']:\n",
    "    print(f\"\\nTraining with {method} tokenization:\")\n",
    "    \n",
    "    train_loader, test_loader = load_tokenized_data(method)\n",
    "    \n",
    "    # Get a sample batch to determine input dimensions\n",
    "    sample_batch, _ = next(iter(train_loader))\n",
    "    print('Sample shape:', sample_batch.shape)\n",
    "    print('Sample first element:', sample_batch[0])\n",
    "    \n",
    "    num_classes = len(label_encoder.classes_)\n",
    "    \n",
    "    model = MS_VIT(num_classes).to(device)\n",
    "    optimizer = Adam(model.parameters())\n",
    "    criterion = CrossEntropyLoss()\n",
    "    \n",
    "    model = train_model(model, train_loader, test_loader, optimizer, criterion)\n",
    "    \n",
    "    # Final evaluation\n",
    "    model.eval()\n",
    "    correct = 0\n",
    "    total = 0\n",
    "    with torch.no_grad():\n",
    "        for x_batch, y_batch in test_loader:\n",
    "            x_batch, y_batch = x_batch.to(device), y_batch.to(device)\n",
    "            outputs = model(x_batch)\n",
    "            _, predicted = torch.max(outputs.data, 1)\n",
    "            total += y_batch.size(0)\n",
    "            correct += (predicted == y_batch).sum().item()\n",
    "    \n",
    "    accuracy = correct / total\n",
    "    results[method] = accuracy\n",
    "    print(f\"Final accuracy with {method} tokenization: {accuracy:.4f}\")"
   ]
  },
  {
   "cell_type": "code",
   "execution_count": null,
   "metadata": {},
   "outputs": [],
   "source": [
    "# Compare results\n",
    "for method, accuracy in results.items():\n",
    "    print(f\"{method} tokenization accuracy: {accuracy:.4f}\")"
   ]
  },
  {
   "cell_type": "code",
   "execution_count": null,
   "metadata": {},
   "outputs": [],
   "source": []
  }
 ],
 "metadata": {
  "kernelspec": {
   "display_name": "ml",
   "language": "python",
   "name": "python3"
  },
  "language_info": {
   "codemirror_mode": {
    "name": "ipython",
    "version": 3
   },
   "file_extension": ".py",
   "mimetype": "text/x-python",
   "name": "python",
   "nbconvert_exporter": "python",
   "pygments_lexer": "ipython3",
   "version": "3.11.4"
  }
 },
 "nbformat": 4,
 "nbformat_minor": 2
}
